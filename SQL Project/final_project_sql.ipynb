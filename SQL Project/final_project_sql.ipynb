{
 "cells": [
  {
   "cell_type": "markdown",
   "metadata": {},
   "source": [
    "<h1> Финальный проект - SQL<a class=\"tocSkip\"></h1>\n",
    "<h2> Цель исследования<a class=\"tocSkip\"></h2>\n",
    "    \n",
    "Проанализировать базу данных, которая содержит информацию о книгах, издательствах, авторах, а также пользовательские обзоры книг. Эти данные помогут сформулировать ценностное предложение для нового продукта\n",
    "\n",
    "<h3> Описание данных<a class=\"tocSkip\"></h3>\n",
    "\n",
    "**Таблица `books`**\n",
    "\n",
    "Содержит данные о книгах:\n",
    "\n",
    "- `book_id` — идентификатор книги;\n",
    "- `author_id` — идентификатор автора;\n",
    "- `title` — название книги;\n",
    "- `num_pages` — количество страниц;\n",
    "- `publication_date` — дата публикации книги;\n",
    "- `publisher_id` — идентификатор издателя.\n",
    "\n",
    "**Таблица `authors`**\n",
    "\n",
    "Содержит данные об авторах:\n",
    "\n",
    "- `author_id` — идентификатор автора;\n",
    "- `author` — имя автора.\n",
    "\n",
    "**Таблица `publishers`**\n",
    "\n",
    "Содержит данные об издательствах:\n",
    "\n",
    "- `publisher_id` — идентификатор издательства;\n",
    "- `publisher` — название издательства;\n",
    "\n",
    "**Таблица `ratings`**\n",
    "\n",
    "Содержит данные о пользовательских оценках книг:\n",
    "\n",
    "- `rating_id` — идентификатор оценки;\n",
    "- `book_id` — идентификатор книги;\n",
    "- `username` — имя пользователя, оставившего оценку;\n",
    "- `rating` — оценка книги.\n",
    "\n",
    "**Таблица `reviews`**\n",
    "\n",
    "Содержит данные о пользовательских обзорах на книги:\n",
    "\n",
    "- `review_id` — идентификатор обзора;\n",
    "- `book_id` — идентификатор книги;\n",
    "- `username` — имя пользователя, написавшего обзор;\n",
    "- `text` — текст обзора."
   ]
  },
  {
   "cell_type": "markdown",
   "metadata": {},
   "source": [
    "## Загрузка данных и анализ данных"
   ]
  },
  {
   "cell_type": "markdown",
   "metadata": {},
   "source": [
    "### Загрузка библиотек и подключение к БД"
   ]
  },
  {
   "cell_type": "code",
   "execution_count": 1,
   "metadata": {},
   "outputs": [],
   "source": [
    "# импортируем библиотеки\n",
    "import pandas as pd\n",
    "from sqlalchemy import create_engine "
   ]
  },
  {
   "cell_type": "code",
   "execution_count": 2,
   "metadata": {},
   "outputs": [],
   "source": [
    "# устанавливаем параметры\n",
    "db_config = {'user': '', # имя пользователя\n",
    "'pwd': '', # пароль\n",
    "'host': '',\n",
    "'port': 6432, # порт подключения\n",
    "'db': ''} # название базы данных\n",
    "connection_string = 'postgresql://{}:{}@{}:{}/{}'.format(db_config['user'],\n",
    " db_config['pwd'],\n",
    " db_config['host'],\n",
    " db_config['port'],\n",
    " db_config['db']) "
   ]
  },
  {
   "cell_type": "code",
   "execution_count": 3,
   "metadata": {},
   "outputs": [],
   "source": [
    "# сохраняем коннектор\n",
    "engine = create_engine(connection_string, connect_args={'sslmode':'require'})"
   ]
  },
  {
   "cell_type": "markdown",
   "metadata": {},
   "source": [
    "### Визуализация таблиц - вывод первых 5 строк "
   ]
  },
  {
   "cell_type": "code",
   "execution_count": 4,
   "metadata": {},
   "outputs": [],
   "source": [
    "# функция для вывода sql-таблицы на экран\n",
    "def display_df(sql_query):\n",
    "    df = pd.io.sql.read_sql(sql_query, con = engine)\n",
    "    return df.head()"
   ]
  },
  {
   "cell_type": "code",
   "execution_count": 5,
   "metadata": {},
   "outputs": [],
   "source": [
    "# функция для вывода sql-запроса на экран\n",
    "def display_query(sql_query):\n",
    "    df = pd.io.sql.read_sql(sql_query, con = engine)\n",
    "    return df"
   ]
  },
  {
   "cell_type": "markdown",
   "metadata": {},
   "source": [
    "#### Таблица books"
   ]
  },
  {
   "cell_type": "code",
   "execution_count": 6,
   "metadata": {
    "scrolled": true
   },
   "outputs": [
    {
     "data": {
      "text/html": [
       "<div>\n",
       "<style scoped>\n",
       "    .dataframe tbody tr th:only-of-type {\n",
       "        vertical-align: middle;\n",
       "    }\n",
       "\n",
       "    .dataframe tbody tr th {\n",
       "        vertical-align: top;\n",
       "    }\n",
       "\n",
       "    .dataframe thead th {\n",
       "        text-align: right;\n",
       "    }\n",
       "</style>\n",
       "<table border=\"1\" class=\"dataframe\">\n",
       "  <thead>\n",
       "    <tr style=\"text-align: right;\">\n",
       "      <th></th>\n",
       "      <th>book_id</th>\n",
       "      <th>author_id</th>\n",
       "      <th>title</th>\n",
       "      <th>num_pages</th>\n",
       "      <th>publication_date</th>\n",
       "      <th>publisher_id</th>\n",
       "    </tr>\n",
       "  </thead>\n",
       "  <tbody>\n",
       "    <tr>\n",
       "      <th>0</th>\n",
       "      <td>1</td>\n",
       "      <td>546</td>\n",
       "      <td>'Salem's Lot</td>\n",
       "      <td>594</td>\n",
       "      <td>2005-11-01</td>\n",
       "      <td>93</td>\n",
       "    </tr>\n",
       "    <tr>\n",
       "      <th>1</th>\n",
       "      <td>2</td>\n",
       "      <td>465</td>\n",
       "      <td>1 000 Places to See Before You Die</td>\n",
       "      <td>992</td>\n",
       "      <td>2003-05-22</td>\n",
       "      <td>336</td>\n",
       "    </tr>\n",
       "    <tr>\n",
       "      <th>2</th>\n",
       "      <td>3</td>\n",
       "      <td>407</td>\n",
       "      <td>13 Little Blue Envelopes (Little Blue Envelope...</td>\n",
       "      <td>322</td>\n",
       "      <td>2010-12-21</td>\n",
       "      <td>135</td>\n",
       "    </tr>\n",
       "    <tr>\n",
       "      <th>3</th>\n",
       "      <td>4</td>\n",
       "      <td>82</td>\n",
       "      <td>1491: New Revelations of the Americas Before C...</td>\n",
       "      <td>541</td>\n",
       "      <td>2006-10-10</td>\n",
       "      <td>309</td>\n",
       "    </tr>\n",
       "    <tr>\n",
       "      <th>4</th>\n",
       "      <td>5</td>\n",
       "      <td>125</td>\n",
       "      <td>1776</td>\n",
       "      <td>386</td>\n",
       "      <td>2006-07-04</td>\n",
       "      <td>268</td>\n",
       "    </tr>\n",
       "  </tbody>\n",
       "</table>\n",
       "</div>"
      ],
      "text/plain": [
       "   book_id  author_id                                              title  \\\n",
       "0        1        546                                       'Salem's Lot   \n",
       "1        2        465                 1 000 Places to See Before You Die   \n",
       "2        3        407  13 Little Blue Envelopes (Little Blue Envelope...   \n",
       "3        4         82  1491: New Revelations of the Americas Before C...   \n",
       "4        5        125                                               1776   \n",
       "\n",
       "   num_pages publication_date  publisher_id  \n",
       "0        594       2005-11-01            93  \n",
       "1        992       2003-05-22           336  \n",
       "2        322       2010-12-21           135  \n",
       "3        541       2006-10-10           309  \n",
       "4        386       2006-07-04           268  "
      ]
     },
     "execution_count": 6,
     "metadata": {},
     "output_type": "execute_result"
    }
   ],
   "source": [
    "books = '''\n",
    "SELECT * \n",
    "FROM books\n",
    "        '''\n",
    "display_df(books)"
   ]
  },
  {
   "cell_type": "markdown",
   "metadata": {},
   "source": [
    "#### Таблица authors"
   ]
  },
  {
   "cell_type": "code",
   "execution_count": 7,
   "metadata": {
    "scrolled": false
   },
   "outputs": [
    {
     "data": {
      "text/html": [
       "<div>\n",
       "<style scoped>\n",
       "    .dataframe tbody tr th:only-of-type {\n",
       "        vertical-align: middle;\n",
       "    }\n",
       "\n",
       "    .dataframe tbody tr th {\n",
       "        vertical-align: top;\n",
       "    }\n",
       "\n",
       "    .dataframe thead th {\n",
       "        text-align: right;\n",
       "    }\n",
       "</style>\n",
       "<table border=\"1\" class=\"dataframe\">\n",
       "  <thead>\n",
       "    <tr style=\"text-align: right;\">\n",
       "      <th></th>\n",
       "      <th>author_id</th>\n",
       "      <th>author</th>\n",
       "    </tr>\n",
       "  </thead>\n",
       "  <tbody>\n",
       "    <tr>\n",
       "      <th>0</th>\n",
       "      <td>1</td>\n",
       "      <td>A.S. Byatt</td>\n",
       "    </tr>\n",
       "    <tr>\n",
       "      <th>1</th>\n",
       "      <td>2</td>\n",
       "      <td>Aesop/Laura Harris/Laura Gibbs</td>\n",
       "    </tr>\n",
       "    <tr>\n",
       "      <th>2</th>\n",
       "      <td>3</td>\n",
       "      <td>Agatha Christie</td>\n",
       "    </tr>\n",
       "    <tr>\n",
       "      <th>3</th>\n",
       "      <td>4</td>\n",
       "      <td>Alan Brennert</td>\n",
       "    </tr>\n",
       "    <tr>\n",
       "      <th>4</th>\n",
       "      <td>5</td>\n",
       "      <td>Alan Moore/David   Lloyd</td>\n",
       "    </tr>\n",
       "  </tbody>\n",
       "</table>\n",
       "</div>"
      ],
      "text/plain": [
       "   author_id                          author\n",
       "0          1                      A.S. Byatt\n",
       "1          2  Aesop/Laura Harris/Laura Gibbs\n",
       "2          3                 Agatha Christie\n",
       "3          4                   Alan Brennert\n",
       "4          5        Alan Moore/David   Lloyd"
      ]
     },
     "execution_count": 7,
     "metadata": {},
     "output_type": "execute_result"
    }
   ],
   "source": [
    "authors = '''\n",
    "SELECT * \n",
    "FROM authors\n",
    "          '''\n",
    "display_df(authors)"
   ]
  },
  {
   "cell_type": "markdown",
   "metadata": {},
   "source": [
    "#### Таблица publishers"
   ]
  },
  {
   "cell_type": "code",
   "execution_count": 8,
   "metadata": {
    "scrolled": true
   },
   "outputs": [
    {
     "data": {
      "text/html": [
       "<div>\n",
       "<style scoped>\n",
       "    .dataframe tbody tr th:only-of-type {\n",
       "        vertical-align: middle;\n",
       "    }\n",
       "\n",
       "    .dataframe tbody tr th {\n",
       "        vertical-align: top;\n",
       "    }\n",
       "\n",
       "    .dataframe thead th {\n",
       "        text-align: right;\n",
       "    }\n",
       "</style>\n",
       "<table border=\"1\" class=\"dataframe\">\n",
       "  <thead>\n",
       "    <tr style=\"text-align: right;\">\n",
       "      <th></th>\n",
       "      <th>publisher_id</th>\n",
       "      <th>publisher</th>\n",
       "    </tr>\n",
       "  </thead>\n",
       "  <tbody>\n",
       "    <tr>\n",
       "      <th>0</th>\n",
       "      <td>1</td>\n",
       "      <td>Ace</td>\n",
       "    </tr>\n",
       "    <tr>\n",
       "      <th>1</th>\n",
       "      <td>2</td>\n",
       "      <td>Ace Book</td>\n",
       "    </tr>\n",
       "    <tr>\n",
       "      <th>2</th>\n",
       "      <td>3</td>\n",
       "      <td>Ace Books</td>\n",
       "    </tr>\n",
       "    <tr>\n",
       "      <th>3</th>\n",
       "      <td>4</td>\n",
       "      <td>Ace Hardcover</td>\n",
       "    </tr>\n",
       "    <tr>\n",
       "      <th>4</th>\n",
       "      <td>5</td>\n",
       "      <td>Addison Wesley Publishing Company</td>\n",
       "    </tr>\n",
       "  </tbody>\n",
       "</table>\n",
       "</div>"
      ],
      "text/plain": [
       "   publisher_id                          publisher\n",
       "0             1                                Ace\n",
       "1             2                           Ace Book\n",
       "2             3                          Ace Books\n",
       "3             4                      Ace Hardcover\n",
       "4             5  Addison Wesley Publishing Company"
      ]
     },
     "execution_count": 8,
     "metadata": {},
     "output_type": "execute_result"
    }
   ],
   "source": [
    "publishers = '''\n",
    "SELECT * \n",
    "FROM publishers\n",
    "             '''\n",
    "display_df(publishers)"
   ]
  },
  {
   "cell_type": "markdown",
   "metadata": {},
   "source": [
    "#### Таблица ratings"
   ]
  },
  {
   "cell_type": "code",
   "execution_count": 9,
   "metadata": {
    "scrolled": false
   },
   "outputs": [
    {
     "data": {
      "text/html": [
       "<div>\n",
       "<style scoped>\n",
       "    .dataframe tbody tr th:only-of-type {\n",
       "        vertical-align: middle;\n",
       "    }\n",
       "\n",
       "    .dataframe tbody tr th {\n",
       "        vertical-align: top;\n",
       "    }\n",
       "\n",
       "    .dataframe thead th {\n",
       "        text-align: right;\n",
       "    }\n",
       "</style>\n",
       "<table border=\"1\" class=\"dataframe\">\n",
       "  <thead>\n",
       "    <tr style=\"text-align: right;\">\n",
       "      <th></th>\n",
       "      <th>rating_id</th>\n",
       "      <th>book_id</th>\n",
       "      <th>username</th>\n",
       "      <th>rating</th>\n",
       "    </tr>\n",
       "  </thead>\n",
       "  <tbody>\n",
       "    <tr>\n",
       "      <th>0</th>\n",
       "      <td>1</td>\n",
       "      <td>1</td>\n",
       "      <td>ryanfranco</td>\n",
       "      <td>4</td>\n",
       "    </tr>\n",
       "    <tr>\n",
       "      <th>1</th>\n",
       "      <td>2</td>\n",
       "      <td>1</td>\n",
       "      <td>grantpatricia</td>\n",
       "      <td>2</td>\n",
       "    </tr>\n",
       "    <tr>\n",
       "      <th>2</th>\n",
       "      <td>3</td>\n",
       "      <td>1</td>\n",
       "      <td>brandtandrea</td>\n",
       "      <td>5</td>\n",
       "    </tr>\n",
       "    <tr>\n",
       "      <th>3</th>\n",
       "      <td>4</td>\n",
       "      <td>2</td>\n",
       "      <td>lorichen</td>\n",
       "      <td>3</td>\n",
       "    </tr>\n",
       "    <tr>\n",
       "      <th>4</th>\n",
       "      <td>5</td>\n",
       "      <td>2</td>\n",
       "      <td>mariokeller</td>\n",
       "      <td>2</td>\n",
       "    </tr>\n",
       "  </tbody>\n",
       "</table>\n",
       "</div>"
      ],
      "text/plain": [
       "   rating_id  book_id       username  rating\n",
       "0          1        1     ryanfranco       4\n",
       "1          2        1  grantpatricia       2\n",
       "2          3        1   brandtandrea       5\n",
       "3          4        2       lorichen       3\n",
       "4          5        2    mariokeller       2"
      ]
     },
     "execution_count": 9,
     "metadata": {},
     "output_type": "execute_result"
    }
   ],
   "source": [
    "ratings = '''\n",
    "SELECT * \n",
    "FROM ratings\n",
    "             '''\n",
    "display_df(ratings)"
   ]
  },
  {
   "cell_type": "markdown",
   "metadata": {},
   "source": [
    "#### Таблица reviews"
   ]
  },
  {
   "cell_type": "code",
   "execution_count": 10,
   "metadata": {
    "scrolled": false
   },
   "outputs": [
    {
     "data": {
      "text/html": [
       "<div>\n",
       "<style scoped>\n",
       "    .dataframe tbody tr th:only-of-type {\n",
       "        vertical-align: middle;\n",
       "    }\n",
       "\n",
       "    .dataframe tbody tr th {\n",
       "        vertical-align: top;\n",
       "    }\n",
       "\n",
       "    .dataframe thead th {\n",
       "        text-align: right;\n",
       "    }\n",
       "</style>\n",
       "<table border=\"1\" class=\"dataframe\">\n",
       "  <thead>\n",
       "    <tr style=\"text-align: right;\">\n",
       "      <th></th>\n",
       "      <th>review_id</th>\n",
       "      <th>book_id</th>\n",
       "      <th>username</th>\n",
       "      <th>text</th>\n",
       "    </tr>\n",
       "  </thead>\n",
       "  <tbody>\n",
       "    <tr>\n",
       "      <th>0</th>\n",
       "      <td>1</td>\n",
       "      <td>1</td>\n",
       "      <td>brandtandrea</td>\n",
       "      <td>Mention society tell send professor analysis. ...</td>\n",
       "    </tr>\n",
       "    <tr>\n",
       "      <th>1</th>\n",
       "      <td>2</td>\n",
       "      <td>1</td>\n",
       "      <td>ryanfranco</td>\n",
       "      <td>Foot glass pretty audience hit themselves. Amo...</td>\n",
       "    </tr>\n",
       "    <tr>\n",
       "      <th>2</th>\n",
       "      <td>3</td>\n",
       "      <td>2</td>\n",
       "      <td>lorichen</td>\n",
       "      <td>Listen treat keep worry. Miss husband tax but ...</td>\n",
       "    </tr>\n",
       "    <tr>\n",
       "      <th>3</th>\n",
       "      <td>4</td>\n",
       "      <td>3</td>\n",
       "      <td>johnsonamanda</td>\n",
       "      <td>Finally month interesting blue could nature cu...</td>\n",
       "    </tr>\n",
       "    <tr>\n",
       "      <th>4</th>\n",
       "      <td>5</td>\n",
       "      <td>3</td>\n",
       "      <td>scotttamara</td>\n",
       "      <td>Nation purpose heavy give wait song will. List...</td>\n",
       "    </tr>\n",
       "  </tbody>\n",
       "</table>\n",
       "</div>"
      ],
      "text/plain": [
       "   review_id  book_id       username  \\\n",
       "0          1        1   brandtandrea   \n",
       "1          2        1     ryanfranco   \n",
       "2          3        2       lorichen   \n",
       "3          4        3  johnsonamanda   \n",
       "4          5        3    scotttamara   \n",
       "\n",
       "                                                text  \n",
       "0  Mention society tell send professor analysis. ...  \n",
       "1  Foot glass pretty audience hit themselves. Amo...  \n",
       "2  Listen treat keep worry. Miss husband tax but ...  \n",
       "3  Finally month interesting blue could nature cu...  \n",
       "4  Nation purpose heavy give wait song will. List...  "
      ]
     },
     "execution_count": 10,
     "metadata": {},
     "output_type": "execute_result"
    }
   ],
   "source": [
    "reviews = '''\n",
    "SELECT * \n",
    "FROM reviews\n",
    "             '''\n",
    "display_df(reviews)"
   ]
  },
  {
   "cell_type": "markdown",
   "metadata": {},
   "source": [
    "### Вывод"
   ]
  },
  {
   "cell_type": "markdown",
   "metadata": {},
   "source": [
    "* Загрузили необходимые библиотеки;  \n",
    "* Подключились к базе данных;  \n",
    "* Создали функции для визуализации sql-запросов;  \n",
    "* Вывели первые 5-ть строк каждой таблицы на экран"
   ]
  },
  {
   "cell_type": "markdown",
   "metadata": {},
   "source": [
    "## Анализ данных таблиц - задачи"
   ]
  },
  {
   "cell_type": "markdown",
   "metadata": {},
   "source": [
    "### Cколько книг вышло после 1 января 2000 года"
   ]
  },
  {
   "cell_type": "code",
   "execution_count": 11,
   "metadata": {},
   "outputs": [
    {
     "data": {
      "text/html": [
       "<div>\n",
       "<style scoped>\n",
       "    .dataframe tbody tr th:only-of-type {\n",
       "        vertical-align: middle;\n",
       "    }\n",
       "\n",
       "    .dataframe tbody tr th {\n",
       "        vertical-align: top;\n",
       "    }\n",
       "\n",
       "    .dataframe thead th {\n",
       "        text-align: right;\n",
       "    }\n",
       "</style>\n",
       "<table border=\"1\" class=\"dataframe\">\n",
       "  <thead>\n",
       "    <tr style=\"text-align: right;\">\n",
       "      <th></th>\n",
       "      <th>count</th>\n",
       "    </tr>\n",
       "  </thead>\n",
       "  <tbody>\n",
       "    <tr>\n",
       "      <th>0</th>\n",
       "      <td>819</td>\n",
       "    </tr>\n",
       "  </tbody>\n",
       "</table>\n",
       "</div>"
      ],
      "text/plain": [
       "   count\n",
       "0    819"
      ]
     },
     "execution_count": 11,
     "metadata": {},
     "output_type": "execute_result"
    }
   ],
   "source": [
    "task1 = '''\n",
    "SELECT count(book_id)\n",
    "FROM books\n",
    "WHERE publication_date > '2000-01-01'\n",
    "        '''\n",
    "display_query(task1)"
   ]
  },
  {
   "cell_type": "markdown",
   "metadata": {},
   "source": [
    "После 1-го января 2000 года вышло 819 книг"
   ]
  },
  {
   "cell_type": "markdown",
   "metadata": {},
   "source": [
    "### Количество обзоров и средняя оценка для каждой книги"
   ]
  },
  {
   "cell_type": "code",
   "execution_count": 12,
   "metadata": {},
   "outputs": [
    {
     "data": {
      "text/html": [
       "<div>\n",
       "<style scoped>\n",
       "    .dataframe tbody tr th:only-of-type {\n",
       "        vertical-align: middle;\n",
       "    }\n",
       "\n",
       "    .dataframe tbody tr th {\n",
       "        vertical-align: top;\n",
       "    }\n",
       "\n",
       "    .dataframe thead th {\n",
       "        text-align: right;\n",
       "    }\n",
       "</style>\n",
       "<table border=\"1\" class=\"dataframe\">\n",
       "  <thead>\n",
       "    <tr style=\"text-align: right;\">\n",
       "      <th></th>\n",
       "      <th>title</th>\n",
       "      <th>cnt_reviews</th>\n",
       "      <th>avg_rating</th>\n",
       "    </tr>\n",
       "  </thead>\n",
       "  <tbody>\n",
       "    <tr>\n",
       "      <th>0</th>\n",
       "      <td>Twilight (Twilight  #1)</td>\n",
       "      <td>7</td>\n",
       "      <td>3.662500</td>\n",
       "    </tr>\n",
       "    <tr>\n",
       "      <th>1</th>\n",
       "      <td>Harry Potter and the Prisoner of Azkaban (Harr...</td>\n",
       "      <td>6</td>\n",
       "      <td>4.414634</td>\n",
       "    </tr>\n",
       "    <tr>\n",
       "      <th>2</th>\n",
       "      <td>Harry Potter and the Chamber of Secrets (Harry...</td>\n",
       "      <td>6</td>\n",
       "      <td>4.287500</td>\n",
       "    </tr>\n",
       "    <tr>\n",
       "      <th>3</th>\n",
       "      <td>The Book Thief</td>\n",
       "      <td>6</td>\n",
       "      <td>4.264151</td>\n",
       "    </tr>\n",
       "    <tr>\n",
       "      <th>4</th>\n",
       "      <td>The Glass Castle</td>\n",
       "      <td>6</td>\n",
       "      <td>4.206897</td>\n",
       "    </tr>\n",
       "    <tr>\n",
       "      <th>...</th>\n",
       "      <td>...</td>\n",
       "      <td>...</td>\n",
       "      <td>...</td>\n",
       "    </tr>\n",
       "    <tr>\n",
       "      <th>995</th>\n",
       "      <td>Disney's Beauty and the Beast (A Little Golden...</td>\n",
       "      <td>0</td>\n",
       "      <td>4.000000</td>\n",
       "    </tr>\n",
       "    <tr>\n",
       "      <th>996</th>\n",
       "      <td>Leonardo's Notebooks</td>\n",
       "      <td>0</td>\n",
       "      <td>4.000000</td>\n",
       "    </tr>\n",
       "    <tr>\n",
       "      <th>997</th>\n",
       "      <td>Essential Tales and Poems</td>\n",
       "      <td>0</td>\n",
       "      <td>4.000000</td>\n",
       "    </tr>\n",
       "    <tr>\n",
       "      <th>998</th>\n",
       "      <td>Anne Rice's The Vampire Lestat: A Graphic Novel</td>\n",
       "      <td>0</td>\n",
       "      <td>3.666667</td>\n",
       "    </tr>\n",
       "    <tr>\n",
       "      <th>999</th>\n",
       "      <td>The Natural Way to Draw</td>\n",
       "      <td>0</td>\n",
       "      <td>3.000000</td>\n",
       "    </tr>\n",
       "  </tbody>\n",
       "</table>\n",
       "<p>1000 rows × 3 columns</p>\n",
       "</div>"
      ],
      "text/plain": [
       "                                                 title  cnt_reviews  \\\n",
       "0                              Twilight (Twilight  #1)            7   \n",
       "1    Harry Potter and the Prisoner of Azkaban (Harr...            6   \n",
       "2    Harry Potter and the Chamber of Secrets (Harry...            6   \n",
       "3                                       The Book Thief            6   \n",
       "4                                     The Glass Castle            6   \n",
       "..                                                 ...          ...   \n",
       "995  Disney's Beauty and the Beast (A Little Golden...            0   \n",
       "996                               Leonardo's Notebooks            0   \n",
       "997                          Essential Tales and Poems            0   \n",
       "998    Anne Rice's The Vampire Lestat: A Graphic Novel            0   \n",
       "999                            The Natural Way to Draw            0   \n",
       "\n",
       "     avg_rating  \n",
       "0      3.662500  \n",
       "1      4.414634  \n",
       "2      4.287500  \n",
       "3      4.264151  \n",
       "4      4.206897  \n",
       "..          ...  \n",
       "995    4.000000  \n",
       "996    4.000000  \n",
       "997    4.000000  \n",
       "998    3.666667  \n",
       "999    3.000000  \n",
       "\n",
       "[1000 rows x 3 columns]"
      ]
     },
     "execution_count": 12,
     "metadata": {},
     "output_type": "execute_result"
    }
   ],
   "source": [
    "task2 = '''\n",
    "WITH \n",
    "-- к названию книги присоединяем количество обзоров и подсчитываем их количество\n",
    "cnt_rev AS (\n",
    "SELECT b.book_id,\n",
    "       b.title,\n",
    "       count(rev.review_id) AS cnt_reviews\n",
    "FROM books AS b LEFT JOIN reviews AS rev ON b.book_id = rev.book_id\n",
    "GROUP BY b.book_id\n",
    "           ),\n",
    "-- подсчитываем среднюю оценку книги           \n",
    "avg_rat AS (\n",
    "SELECT book_id,\n",
    "       avg(rating) AS avg_rating\n",
    "FROM ratings\n",
    "GROUP BY book_id\n",
    "           )\n",
    "-- собираем две таблицы по полю book_id, сортитруем по количеству обзоров и рейтингу\n",
    "SELECT cr.title, \n",
    "       cr.cnt_reviews,\n",
    "       ar.avg_rating\n",
    "FROM cnt_rev AS cr JOIN avg_rat AS ar ON cr.book_id = ar.book_id\n",
    "ORDER BY cr.cnt_reviews DESC, ar.avg_rating DESC\n",
    "        '''\n",
    "display_query(task2)"
   ]
  },
  {
   "cell_type": "markdown",
   "metadata": {},
   "source": [
    "У 'Сумерек' больше всего обзоров - целых 7, но рейтинг так себе - 3,66;  \n",
    "'Узника Азкабаана' из серии о 'Гарри Потере' 6 обзоров и хороший рейтинг - 4.41"
   ]
  },
  {
   "cell_type": "markdown",
   "metadata": {},
   "source": [
    "### Издательство, которое выпустило наибольшее число книг"
   ]
  },
  {
   "cell_type": "code",
   "execution_count": 13,
   "metadata": {},
   "outputs": [
    {
     "data": {
      "text/html": [
       "<div>\n",
       "<style scoped>\n",
       "    .dataframe tbody tr th:only-of-type {\n",
       "        vertical-align: middle;\n",
       "    }\n",
       "\n",
       "    .dataframe tbody tr th {\n",
       "        vertical-align: top;\n",
       "    }\n",
       "\n",
       "    .dataframe thead th {\n",
       "        text-align: right;\n",
       "    }\n",
       "</style>\n",
       "<table border=\"1\" class=\"dataframe\">\n",
       "  <thead>\n",
       "    <tr style=\"text-align: right;\">\n",
       "      <th></th>\n",
       "      <th>publisher</th>\n",
       "      <th>cnt_books</th>\n",
       "    </tr>\n",
       "  </thead>\n",
       "  <tbody>\n",
       "    <tr>\n",
       "      <th>0</th>\n",
       "      <td>Penguin Books</td>\n",
       "      <td>42</td>\n",
       "    </tr>\n",
       "    <tr>\n",
       "      <th>1</th>\n",
       "      <td>Vintage</td>\n",
       "      <td>31</td>\n",
       "    </tr>\n",
       "    <tr>\n",
       "      <th>2</th>\n",
       "      <td>Grand Central Publishing</td>\n",
       "      <td>25</td>\n",
       "    </tr>\n",
       "    <tr>\n",
       "      <th>3</th>\n",
       "      <td>Penguin Classics</td>\n",
       "      <td>24</td>\n",
       "    </tr>\n",
       "    <tr>\n",
       "      <th>4</th>\n",
       "      <td>Bantam</td>\n",
       "      <td>19</td>\n",
       "    </tr>\n",
       "  </tbody>\n",
       "</table>\n",
       "</div>"
      ],
      "text/plain": [
       "                  publisher  cnt_books\n",
       "0             Penguin Books         42\n",
       "1                   Vintage         31\n",
       "2  Grand Central Publishing         25\n",
       "3          Penguin Classics         24\n",
       "4                    Bantam         19"
      ]
     },
     "execution_count": 13,
     "metadata": {},
     "output_type": "execute_result"
    }
   ],
   "source": [
    "task3 = '''\n",
    "SELECT p.publisher,\n",
    "       count(b.book_id) AS cnt_books\n",
    "FROM books AS b LEFT JOIN publishers AS p ON b.publisher_id = p.publisher_id\n",
    "WHERE num_pages > 50\n",
    "GROUP BY p.publisher_id\n",
    "ORDER BY cnt_books DESC\n",
    "LIMIT 5\n",
    "        '''\n",
    "display_query(task3)"
   ]
  },
  {
   "cell_type": "markdown",
   "metadata": {},
   "source": [
    "Издательство Penguin Books выпустило больше всего книг толще 50-ти страниц - 42 книги"
   ]
  },
  {
   "cell_type": "markdown",
   "metadata": {},
   "source": [
    "### Автор с самой высокой средней оценкой книг, учитываются только книги с 50 и более оценками"
   ]
  },
  {
   "cell_type": "code",
   "execution_count": 14,
   "metadata": {},
   "outputs": [
    {
     "data": {
      "text/html": [
       "<div>\n",
       "<style scoped>\n",
       "    .dataframe tbody tr th:only-of-type {\n",
       "        vertical-align: middle;\n",
       "    }\n",
       "\n",
       "    .dataframe tbody tr th {\n",
       "        vertical-align: top;\n",
       "    }\n",
       "\n",
       "    .dataframe thead th {\n",
       "        text-align: right;\n",
       "    }\n",
       "</style>\n",
       "<table border=\"1\" class=\"dataframe\">\n",
       "  <thead>\n",
       "    <tr style=\"text-align: right;\">\n",
       "      <th></th>\n",
       "      <th>author</th>\n",
       "      <th>avg_rating</th>\n",
       "    </tr>\n",
       "  </thead>\n",
       "  <tbody>\n",
       "    <tr>\n",
       "      <th>0</th>\n",
       "      <td>J.K. Rowling/Mary GrandPré</td>\n",
       "      <td>4.283844</td>\n",
       "    </tr>\n",
       "    <tr>\n",
       "      <th>1</th>\n",
       "      <td>Markus Zusak/Cao Xuân Việt Khương</td>\n",
       "      <td>4.264151</td>\n",
       "    </tr>\n",
       "    <tr>\n",
       "      <th>2</th>\n",
       "      <td>J.R.R. Tolkien</td>\n",
       "      <td>4.258446</td>\n",
       "    </tr>\n",
       "    <tr>\n",
       "      <th>3</th>\n",
       "      <td>Louisa May Alcott</td>\n",
       "      <td>4.192308</td>\n",
       "    </tr>\n",
       "    <tr>\n",
       "      <th>4</th>\n",
       "      <td>Rick Riordan</td>\n",
       "      <td>4.080645</td>\n",
       "    </tr>\n",
       "    <tr>\n",
       "      <th>5</th>\n",
       "      <td>William Golding</td>\n",
       "      <td>3.901408</td>\n",
       "    </tr>\n",
       "    <tr>\n",
       "      <th>6</th>\n",
       "      <td>J.D. Salinger</td>\n",
       "      <td>3.825581</td>\n",
       "    </tr>\n",
       "    <tr>\n",
       "      <th>7</th>\n",
       "      <td>Paulo Coelho/Alan R. Clarke/Özdemir İnce</td>\n",
       "      <td>3.789474</td>\n",
       "    </tr>\n",
       "    <tr>\n",
       "      <th>8</th>\n",
       "      <td>William Shakespeare/Paul Werstine/Barbara A. M...</td>\n",
       "      <td>3.787879</td>\n",
       "    </tr>\n",
       "    <tr>\n",
       "      <th>9</th>\n",
       "      <td>Dan Brown</td>\n",
       "      <td>3.754540</td>\n",
       "    </tr>\n",
       "  </tbody>\n",
       "</table>\n",
       "</div>"
      ],
      "text/plain": [
       "                                              author  avg_rating\n",
       "0                         J.K. Rowling/Mary GrandPré    4.283844\n",
       "1                  Markus Zusak/Cao Xuân Việt Khương    4.264151\n",
       "2                                     J.R.R. Tolkien    4.258446\n",
       "3                                  Louisa May Alcott    4.192308\n",
       "4                                       Rick Riordan    4.080645\n",
       "5                                    William Golding    3.901408\n",
       "6                                      J.D. Salinger    3.825581\n",
       "7           Paulo Coelho/Alan R. Clarke/Özdemir İnce    3.789474\n",
       "8  William Shakespeare/Paul Werstine/Barbara A. M...    3.787879\n",
       "9                                          Dan Brown    3.754540"
      ]
     },
     "execution_count": 14,
     "metadata": {},
     "output_type": "execute_result"
    }
   ],
   "source": [
    "task4 = '''\n",
    "WITH \n",
    "-- подсчитываем средний рейтинг для книг у которых 50 и более оценок\n",
    "avg_rat AS (\n",
    "SELECT book_id,\n",
    "       avg(rating) AS avg_rating\n",
    "FROM ratings\n",
    "GROUP BY book_id\n",
    "HAVING count(book_id) >= 50\n",
    "           ),\n",
    "--присоединяем информацию из таблицы books, подсчитывем средний рейтинг для каждого автора, \n",
    "--сортируем по убыванию среднего рейтинга, выводим 10 строк\n",
    "top_10 AS (\n",
    "SELECT author_id,\n",
    "       avg(avg_rating) AS avg_rating\n",
    "FROM avg_rat AS ar JOIN books AS b ON ar.book_id = b.book_id\n",
    "GROUP BY author_id\n",
    "ORDER BY avg_rating DESC\n",
    "LIMIT 10\n",
    "          )\n",
    "--присоединяем информацию из таблицы author и выводим на экран    \n",
    "SELECT author,\n",
    "       avg_rating\n",
    "FROM top_10 AS t JOIN authors AS a ON t.author_id = a.author_id\n",
    "        '''\n",
    "display_query(task4)"
   ]
  },
  {
   "cell_type": "markdown",
   "metadata": {},
   "source": [
    "Автор с самой высокой средней оценкой книг - Джоан Роулинг (илюстрации - Мари Гранпре)"
   ]
  },
  {
   "cell_type": "markdown",
   "metadata": {},
   "source": [
    "### Определение среднего количества обзоров от пользователей, которые поставили больше 50 оценок"
   ]
  },
  {
   "cell_type": "code",
   "execution_count": 15,
   "metadata": {},
   "outputs": [
    {
     "data": {
      "text/html": [
       "<div>\n",
       "<style scoped>\n",
       "    .dataframe tbody tr th:only-of-type {\n",
       "        vertical-align: middle;\n",
       "    }\n",
       "\n",
       "    .dataframe tbody tr th {\n",
       "        vertical-align: top;\n",
       "    }\n",
       "\n",
       "    .dataframe thead th {\n",
       "        text-align: right;\n",
       "    }\n",
       "</style>\n",
       "<table border=\"1\" class=\"dataframe\">\n",
       "  <thead>\n",
       "    <tr style=\"text-align: right;\">\n",
       "      <th></th>\n",
       "      <th>avg_count_review</th>\n",
       "    </tr>\n",
       "  </thead>\n",
       "  <tbody>\n",
       "    <tr>\n",
       "      <th>0</th>\n",
       "      <td>24.333333</td>\n",
       "    </tr>\n",
       "  </tbody>\n",
       "</table>\n",
       "</div>"
      ],
      "text/plain": [
       "   avg_count_review\n",
       "0         24.333333"
      ]
     },
     "execution_count": 15,
     "metadata": {},
     "output_type": "execute_result"
    }
   ],
   "source": [
    "task5 = '''\n",
    "WITH\n",
    "--определяем пользователей, которые поставили больше 50-ти оценок\n",
    "users AS (\n",
    "SELECT username\n",
    "FROM ratings\n",
    "GROUP BY username\n",
    "HAVING count(book_id) > 50\n",
    "         )\n",
    "--подсчитываем среднее количество обзоров\n",
    "SELECT avg(count) AS avg_count_review\n",
    "--группируем отфильтрованных пользователей и подсчитываем число обзоров для каждого\n",
    "FROM (SELECT u.username,\n",
    "             count(review_id)\n",
    "      FROM users AS u LEFT JOIN reviews AS r ON u.username = r.username \n",
    "      GROUP BY u.username) AS final\n",
    "        '''\n",
    "display_query(task5)"
   ]
  },
  {
   "cell_type": "markdown",
   "metadata": {},
   "source": [
    "Чуть более 24-х обзоров (24.33) пишут в среднем пользователи, которые поставил больше 50-ти рейтинговых оценок"
   ]
  },
  {
   "cell_type": "markdown",
   "metadata": {},
   "source": [
    "### Вывод"
   ]
  },
  {
   "cell_type": "markdown",
   "metadata": {},
   "source": [
    "* После 1-го января 2000 года было издано 819 книг;  \n",
    "* Twilight (Twilight #1) больше всего обзоров - целых 7, средний рейтинг - 3,66; A Dirty Job (Grim Reaper #1) оценка 5.0 во всех 4-х обзорах;  \n",
    "* Не считая брошюр (произведения не толще 50-ти страниу) издательство Penguin Books выпустило больше всего книг - 42;  \n",
    "* Авторы J.K. Rowling/Mary GrandPré - имеют самый высокий средний рейтинг - 4.28, для книг у которых 50-ть и более оценок;\n",
    "* Пользователи, которые поставили больше 50-ти оценок еще и написали в среднем по 24 обзора на книги".
   ]
  }
 ],
 "metadata": {
  "ExecuteTimeLog": [
   {
    "duration": 516,
    "start_time": "2022-09-27T10:20:21.323Z"
   },
   {
    "duration": 4,
    "start_time": "2022-09-27T10:20:52.189Z"
   },
   {
    "duration": 4977,
    "start_time": "2022-09-27T10:21:07.734Z"
   },
   {
    "duration": 2,
    "start_time": "2022-09-27T10:23:43.944Z"
   },
   {
    "duration": 247,
    "start_time": "2022-09-27T10:25:08.123Z"
   },
   {
    "duration": 3,
    "start_time": "2022-09-27T10:34:34.124Z"
   },
   {
    "duration": 96,
    "start_time": "2022-09-27T10:34:36.683Z"
   },
   {
    "duration": 3,
    "start_time": "2022-09-27T10:35:04.069Z"
   },
   {
    "duration": 3,
    "start_time": "2022-09-27T10:37:37.688Z"
   },
   {
    "duration": 55,
    "start_time": "2022-09-27T10:38:18.513Z"
   },
   {
    "duration": 56,
    "start_time": "2022-09-27T10:38:51.825Z"
   },
   {
    "duration": 74,
    "start_time": "2022-09-27T10:39:12.546Z"
   },
   {
    "duration": 111,
    "start_time": "2022-09-27T10:40:10.374Z"
   },
   {
    "duration": 70,
    "start_time": "2022-09-27T10:41:52.509Z"
   },
   {
    "duration": 64,
    "start_time": "2022-09-27T10:44:27.424Z"
   },
   {
    "duration": 3,
    "start_time": "2022-09-27T10:44:36.759Z"
   },
   {
    "duration": 93,
    "start_time": "2022-09-27T10:44:39.402Z"
   },
   {
    "duration": 83,
    "start_time": "2022-09-27T10:44:41.642Z"
   },
   {
    "duration": 72,
    "start_time": "2022-09-27T10:44:43.547Z"
   },
   {
    "duration": 64,
    "start_time": "2022-09-27T10:45:32.005Z"
   },
   {
    "duration": 121,
    "start_time": "2022-09-27T10:45:46.745Z"
   },
   {
    "duration": 121,
    "start_time": "2022-09-27T10:45:48.229Z"
   },
   {
    "duration": 4,
    "start_time": "2022-09-27T10:46:47.285Z"
   },
   {
    "duration": 512,
    "start_time": "2022-09-27T10:46:57.445Z"
   },
   {
    "duration": 4,
    "start_time": "2022-09-27T10:46:57.959Z"
   },
   {
    "duration": 7724,
    "start_time": "2022-09-27T10:46:57.965Z"
   },
   {
    "duration": 3,
    "start_time": "2022-09-27T10:47:05.691Z"
   },
   {
    "duration": 19,
    "start_time": "2022-09-27T10:47:05.696Z"
   },
   {
    "duration": 270,
    "start_time": "2022-09-27T10:47:05.717Z"
   },
   {
    "duration": 72,
    "start_time": "2022-09-27T10:47:05.989Z"
   },
   {
    "duration": 71,
    "start_time": "2022-09-27T10:47:06.062Z"
   },
   {
    "duration": 116,
    "start_time": "2022-09-27T10:47:06.135Z"
   },
   {
    "duration": 92,
    "start_time": "2022-09-27T10:47:06.254Z"
   },
   {
    "duration": 3,
    "start_time": "2022-09-27T10:56:25.864Z"
   },
   {
    "duration": 514,
    "start_time": "2022-09-27T10:56:37.982Z"
   },
   {
    "duration": 4,
    "start_time": "2022-09-27T10:56:38.498Z"
   },
   {
    "duration": 5504,
    "start_time": "2022-09-27T10:56:38.503Z"
   },
   {
    "duration": 3,
    "start_time": "2022-09-27T10:56:44.008Z"
   },
   {
    "duration": 9,
    "start_time": "2022-09-27T10:56:44.013Z"
   },
   {
    "duration": 295,
    "start_time": "2022-09-27T10:56:44.023Z"
   },
   {
    "duration": 79,
    "start_time": "2022-09-27T10:56:44.320Z"
   },
   {
    "duration": 77,
    "start_time": "2022-09-27T10:56:44.401Z"
   },
   {
    "duration": 98,
    "start_time": "2022-09-27T10:56:44.480Z"
   },
   {
    "duration": 92,
    "start_time": "2022-09-27T10:56:44.580Z"
   },
   {
    "duration": 75,
    "start_time": "2022-09-27T11:39:34.983Z"
   },
   {
    "duration": 84,
    "start_time": "2022-09-27T13:07:19.248Z"
   },
   {
    "duration": 243,
    "start_time": "2022-09-27T13:46:15.893Z"
   },
   {
    "duration": 155,
    "start_time": "2022-09-27T13:47:17.860Z"
   },
   {
    "duration": 90,
    "start_time": "2022-09-27T13:47:37.362Z"
   },
   {
    "duration": 88,
    "start_time": "2022-09-27T13:48:06.309Z"
   },
   {
    "duration": 86,
    "start_time": "2022-09-27T13:48:23.878Z"
   },
   {
    "duration": 114,
    "start_time": "2022-09-27T13:48:35.498Z"
   },
   {
    "duration": 83,
    "start_time": "2022-09-27T14:35:36.252Z"
   },
   {
    "duration": 82,
    "start_time": "2022-09-27T14:38:04.861Z"
   },
   {
    "duration": 141,
    "start_time": "2022-09-27T14:38:32.880Z"
   },
   {
    "duration": 82,
    "start_time": "2022-09-27T14:39:41.255Z"
   },
   {
    "duration": 85,
    "start_time": "2022-09-27T14:40:03.959Z"
   },
   {
    "duration": 85,
    "start_time": "2022-09-27T14:40:17.000Z"
   },
   {
    "duration": 201,
    "start_time": "2022-09-27T14:43:06.546Z"
   },
   {
    "duration": 82,
    "start_time": "2022-09-27T14:43:29.708Z"
   },
   {
    "duration": 141,
    "start_time": "2022-09-27T14:45:25.682Z"
   },
   {
    "duration": 82,
    "start_time": "2022-09-27T14:45:32.188Z"
   },
   {
    "duration": 81,
    "start_time": "2022-09-27T14:50:14.418Z"
   },
   {
    "duration": 82,
    "start_time": "2022-09-27T14:50:58.492Z"
   },
   {
    "duration": 86,
    "start_time": "2022-09-27T14:51:36.163Z"
   },
   {
    "duration": 108,
    "start_time": "2022-09-27T15:23:54.959Z"
   },
   {
    "duration": 77,
    "start_time": "2022-09-27T15:30:58.120Z"
   },
   {
    "duration": 187,
    "start_time": "2022-09-27T15:36:33.215Z"
   },
   {
    "duration": 141,
    "start_time": "2022-09-27T15:37:01.782Z"
   },
   {
    "duration": 150,
    "start_time": "2022-09-27T15:37:44.779Z"
   },
   {
    "duration": 142,
    "start_time": "2022-09-27T15:38:02.245Z"
   },
   {
    "duration": 2578,
    "start_time": "2022-09-27T15:39:25.900Z"
   },
   {
    "duration": 194,
    "start_time": "2022-09-27T15:40:00.756Z"
   },
   {
    "duration": 160,
    "start_time": "2022-09-27T15:40:51.862Z"
   },
   {
    "duration": 137,
    "start_time": "2022-09-27T15:41:07.956Z"
   },
   {
    "duration": 79,
    "start_time": "2022-09-27T15:41:27.622Z"
   },
   {
    "duration": 81,
    "start_time": "2022-09-27T15:42:58.638Z"
   },
   {
    "duration": 113,
    "start_time": "2022-09-27T15:43:33.874Z"
   },
   {
    "duration": 75,
    "start_time": "2022-09-27T15:45:14.927Z"
   },
   {
    "duration": 174,
    "start_time": "2022-09-27T15:45:39.806Z"
   },
   {
    "duration": 78,
    "start_time": "2022-09-27T15:45:54.419Z"
   },
   {
    "duration": 208,
    "start_time": "2022-09-27T15:46:12.386Z"
   },
   {
    "duration": 76,
    "start_time": "2022-09-27T15:46:26.075Z"
   },
   {
    "duration": 97,
    "start_time": "2022-09-27T15:57:44.798Z"
   },
   {
    "duration": 90,
    "start_time": "2022-09-27T15:58:18.502Z"
   },
   {
    "duration": 156,
    "start_time": "2022-09-27T15:59:04.892Z"
   },
   {
    "duration": 77,
    "start_time": "2022-09-27T15:59:12.832Z"
   },
   {
    "duration": 78,
    "start_time": "2022-09-27T16:03:06.815Z"
   },
   {
    "duration": 159,
    "start_time": "2022-09-27T16:03:54.005Z"
   },
   {
    "duration": 81,
    "start_time": "2022-09-27T16:05:04.471Z"
   },
   {
    "duration": 139,
    "start_time": "2022-09-27T16:08:16.219Z"
   },
   {
    "duration": 140,
    "start_time": "2022-09-27T16:08:22.120Z"
   },
   {
    "duration": 80,
    "start_time": "2022-09-27T16:09:42.777Z"
   },
   {
    "duration": 156,
    "start_time": "2022-09-27T16:12:42.554Z"
   },
   {
    "duration": 79,
    "start_time": "2022-09-27T16:12:54.306Z"
   },
   {
    "duration": 86,
    "start_time": "2022-09-27T16:14:37.897Z"
   },
   {
    "duration": 83,
    "start_time": "2022-09-27T16:16:29.443Z"
   },
   {
    "duration": 131,
    "start_time": "2022-09-27T16:21:50.201Z"
   },
   {
    "duration": 82,
    "start_time": "2022-09-27T16:22:03.505Z"
   },
   {
    "duration": 133,
    "start_time": "2022-09-27T16:22:57.646Z"
   },
   {
    "duration": 81,
    "start_time": "2022-09-27T16:23:20.745Z"
   },
   {
    "duration": 205,
    "start_time": "2022-09-27T16:24:17.259Z"
   },
   {
    "duration": 159,
    "start_time": "2022-09-27T16:24:49.245Z"
   },
   {
    "duration": 169,
    "start_time": "2022-09-27T16:25:10.367Z"
   },
   {
    "duration": 80,
    "start_time": "2022-09-27T16:25:36.128Z"
   },
   {
    "duration": 88,
    "start_time": "2022-09-27T16:25:56.614Z"
   },
   {
    "duration": 428,
    "start_time": "2022-09-27T16:26:17.306Z"
   },
   {
    "duration": 149,
    "start_time": "2022-09-27T16:26:36.449Z"
   },
   {
    "duration": 81,
    "start_time": "2022-09-27T16:26:43.392Z"
   },
   {
    "duration": 162,
    "start_time": "2022-09-27T16:26:52.793Z"
   },
   {
    "duration": 187,
    "start_time": "2022-09-27T16:27:20.226Z"
   },
   {
    "duration": 97,
    "start_time": "2022-09-27T16:27:40.494Z"
   },
   {
    "duration": 79,
    "start_time": "2022-09-27T16:27:46.813Z"
   },
   {
    "duration": 78,
    "start_time": "2022-09-27T16:27:51.813Z"
   },
   {
    "duration": 560,
    "start_time": "2022-09-27T16:29:14.024Z"
   },
   {
    "duration": 146,
    "start_time": "2022-09-27T16:31:32.104Z"
   },
   {
    "duration": 85,
    "start_time": "2022-09-27T16:32:36.613Z"
   },
   {
    "duration": 78,
    "start_time": "2022-09-27T16:43:04.481Z"
   },
   {
    "duration": 77,
    "start_time": "2022-09-27T16:43:28.885Z"
   },
   {
    "duration": 103,
    "start_time": "2022-09-27T16:48:02.055Z"
   },
   {
    "duration": 175,
    "start_time": "2022-09-27T16:48:42.574Z"
   },
   {
    "duration": 133,
    "start_time": "2022-09-27T16:48:51.282Z"
   },
   {
    "duration": 141,
    "start_time": "2022-09-27T16:49:09.556Z"
   },
   {
    "duration": 78,
    "start_time": "2022-09-27T16:49:22.908Z"
   },
   {
    "duration": 78,
    "start_time": "2022-09-27T16:49:34.892Z"
   },
   {
    "duration": 90,
    "start_time": "2022-09-27T16:52:43.264Z"
   },
   {
    "duration": 92,
    "start_time": "2022-09-27T16:52:48.975Z"
   },
   {
    "duration": 92,
    "start_time": "2022-09-27T16:52:57.700Z"
   },
   {
    "duration": 101,
    "start_time": "2022-09-27T16:53:09.497Z"
   },
   {
    "duration": 98,
    "start_time": "2022-09-27T16:53:36.501Z"
   },
   {
    "duration": 94,
    "start_time": "2022-09-27T16:54:36.315Z"
   },
   {
    "duration": 191,
    "start_time": "2022-09-27T16:58:11.045Z"
   },
   {
    "duration": 84,
    "start_time": "2022-09-27T16:58:16.178Z"
   },
   {
    "duration": 168,
    "start_time": "2022-09-27T17:01:52.406Z"
   },
   {
    "duration": 160,
    "start_time": "2022-09-27T17:02:06.296Z"
   },
   {
    "duration": 77,
    "start_time": "2022-09-27T17:03:02.023Z"
   },
   {
    "duration": 77,
    "start_time": "2022-09-27T17:03:12.053Z"
   },
   {
    "duration": 108,
    "start_time": "2022-09-27T17:27:03.077Z"
   },
   {
    "duration": 109,
    "start_time": "2022-09-27T17:28:28.302Z"
   },
   {
    "duration": 495,
    "start_time": "2022-09-27T18:50:23.756Z"
   },
   {
    "duration": 66,
    "start_time": "2022-09-27T18:50:24.252Z"
   },
   {
    "duration": 0,
    "start_time": "2022-09-27T18:50:24.321Z"
   },
   {
    "duration": 0,
    "start_time": "2022-09-27T18:50:24.322Z"
   },
   {
    "duration": 0,
    "start_time": "2022-09-27T18:50:24.323Z"
   },
   {
    "duration": 0,
    "start_time": "2022-09-27T18:50:24.333Z"
   },
   {
    "duration": 0,
    "start_time": "2022-09-27T18:50:24.335Z"
   },
   {
    "duration": 0,
    "start_time": "2022-09-27T18:50:24.336Z"
   },
   {
    "duration": 0,
    "start_time": "2022-09-27T18:50:24.337Z"
   },
   {
    "duration": 0,
    "start_time": "2022-09-27T18:50:24.338Z"
   },
   {
    "duration": 0,
    "start_time": "2022-09-27T18:50:24.339Z"
   },
   {
    "duration": 0,
    "start_time": "2022-09-27T18:50:24.340Z"
   },
   {
    "duration": 0,
    "start_time": "2022-09-27T18:50:24.342Z"
   },
   {
    "duration": 0,
    "start_time": "2022-09-27T18:50:24.343Z"
   },
   {
    "duration": 478,
    "start_time": "2022-09-27T18:51:53.558Z"
   },
   {
    "duration": 61,
    "start_time": "2022-09-27T18:51:54.038Z"
   },
   {
    "duration": 0,
    "start_time": "2022-09-27T18:51:54.101Z"
   },
   {
    "duration": 0,
    "start_time": "2022-09-27T18:51:54.102Z"
   },
   {
    "duration": 0,
    "start_time": "2022-09-27T18:51:54.103Z"
   },
   {
    "duration": 0,
    "start_time": "2022-09-27T18:51:54.104Z"
   },
   {
    "duration": 0,
    "start_time": "2022-09-27T18:51:54.105Z"
   },
   {
    "duration": 0,
    "start_time": "2022-09-27T18:51:54.106Z"
   },
   {
    "duration": 0,
    "start_time": "2022-09-27T18:51:54.107Z"
   },
   {
    "duration": 0,
    "start_time": "2022-09-27T18:51:54.108Z"
   },
   {
    "duration": 0,
    "start_time": "2022-09-27T18:51:54.109Z"
   },
   {
    "duration": 0,
    "start_time": "2022-09-27T18:51:54.110Z"
   },
   {
    "duration": 0,
    "start_time": "2022-09-27T18:51:54.110Z"
   },
   {
    "duration": 0,
    "start_time": "2022-09-27T18:51:54.111Z"
   },
   {
    "duration": 4,
    "start_time": "2022-09-27T18:52:41.075Z"
   },
   {
    "duration": 467,
    "start_time": "2022-09-27T18:52:51.177Z"
   },
   {
    "duration": 4,
    "start_time": "2022-09-27T18:52:51.645Z"
   },
   {
    "duration": 5663,
    "start_time": "2022-09-27T18:52:51.650Z"
   },
   {
    "duration": 3,
    "start_time": "2022-09-27T18:52:57.315Z"
   },
   {
    "duration": 10,
    "start_time": "2022-09-27T18:52:57.320Z"
   },
   {
    "duration": 270,
    "start_time": "2022-09-27T18:52:57.332Z"
   },
   {
    "duration": 73,
    "start_time": "2022-09-27T18:52:57.603Z"
   },
   {
    "duration": 70,
    "start_time": "2022-09-27T18:52:57.678Z"
   },
   {
    "duration": 104,
    "start_time": "2022-09-27T18:52:57.750Z"
   },
   {
    "duration": 92,
    "start_time": "2022-09-27T18:52:57.857Z"
   },
   {
    "duration": 70,
    "start_time": "2022-09-27T18:52:57.950Z"
   },
   {
    "duration": 81,
    "start_time": "2022-09-27T18:52:58.021Z"
   },
   {
    "duration": 73,
    "start_time": "2022-09-27T18:52:58.104Z"
   },
   {
    "duration": 74,
    "start_time": "2022-09-27T18:52:58.179Z"
   },
   {
    "duration": 73,
    "start_time": "2022-09-27T18:52:58.255Z"
   },
   {
    "duration": 539,
    "start_time": "2022-09-27T19:08:25.984Z"
   },
   {
    "duration": 3,
    "start_time": "2022-09-27T19:08:26.525Z"
   },
   {
    "duration": 6448,
    "start_time": "2022-09-27T19:08:26.529Z"
   },
   {
    "duration": 3,
    "start_time": "2022-09-27T19:08:32.979Z"
   },
   {
    "duration": 10,
    "start_time": "2022-09-27T19:08:32.985Z"
   },
   {
    "duration": 282,
    "start_time": "2022-09-27T19:08:32.997Z"
   },
   {
    "duration": 82,
    "start_time": "2022-09-27T19:08:33.281Z"
   },
   {
    "duration": 74,
    "start_time": "2022-09-27T19:08:33.364Z"
   },
   {
    "duration": 96,
    "start_time": "2022-09-27T19:08:33.440Z"
   },
   {
    "duration": 98,
    "start_time": "2022-09-27T19:08:33.539Z"
   },
   {
    "duration": 79,
    "start_time": "2022-09-27T19:08:33.639Z"
   },
   {
    "duration": 97,
    "start_time": "2022-09-27T19:08:33.720Z"
   },
   {
    "duration": 77,
    "start_time": "2022-09-27T19:08:33.820Z"
   },
   {
    "duration": 81,
    "start_time": "2022-09-27T19:08:33.900Z"
   },
   {
    "duration": 80,
    "start_time": "2022-09-27T19:08:33.983Z"
   },
   {
    "duration": 248,
    "start_time": "2022-09-27T19:13:30.815Z"
   }
  ],
  "kernelspec": {
   "display_name": "Python 3 (ipykernel)",
   "language": "python",
   "name": "python3"
  },
  "language_info": {
   "codemirror_mode": {
    "name": "ipython",
    "version": 3
   },
   "file_extension": ".py",
   "mimetype": "text/x-python",
   "name": "python",
   "nbconvert_exporter": "python",
   "pygments_lexer": "ipython3",
   "version": "3.9.7"
  },
  "toc": {
   "base_numbering": 1,
   "nav_menu": {},
   "number_sections": true,
   "sideBar": true,
   "skip_h1_title": true,
   "title_cell": "Содержание",
   "title_sidebar": "Исследованиие сервиса для чтения книг",
   "toc_cell": false,
   "toc_position": {
    "height": "calc(100% - 180px)",
    "left": "10px",
    "top": "150px",
    "width": "289.438px"
   },
   "toc_section_display": true,
   "toc_window_display": true
  }
 },
 "nbformat": 4,
 "nbformat_minor": 2
}
