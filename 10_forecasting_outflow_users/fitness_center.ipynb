{
 "cells": [
  {
   "cell_type": "markdown",
   "metadata": {},
   "source": [
    "<h2>Описание проекта<a class=\"tocSkip\"></h2>\n",
    "\n",
    "Сеть фитнес-центров «Культурист-датасаентист» разрабатывает стратегию взаимодействия с клиентами на основе аналитических данных.  \n",
    "    \n",
    "Распространённая проблема фитнес-клубов и других сервисов — отток клиентов. Как понять, что клиент больше не с вами? Можно записать в отток тех, кто попросил закрыть договор или удалил аккаунт. Однако клиенты не всегда уходят демонстративно: чаще перестают пользоваться сервисом тихо.  \n",
    "    \n",
    "Индикаторы оттока зависят от специфики отрасли. Когда пользователь редко, но стабильно закупается в интернет-магазине — не похоже, что он «отвалился». А вот если две недели не заходит на канал с ежедневно обновляемым контентом, дела плохи: подписчик заскучал и, кажется, оставил вас.  \n",
    "    \n",
    "Для фитнес-центра можно считать, что клиент попал в отток, если за последний месяц ни разу не посетил спортзал. Конечно, не исключено, что он уехал на Бали и по приезде обязательно продолжит ходить на фитнес. Однако чаще бывает наоборот. Если клиент начал новую жизнь с понедельника, немного походил в спортзал, а потом пропал — скорее всего, он не вернётся.  \n",
    "    \n",
    "Чтобы бороться с оттоком, отдел по работе с клиентами «Культуриста-датасаентиста» перевёл в электронный вид множество клиентских анкет. Ваша задача — провести анализ и подготовить план действий по удержанию клиентов, а именно:  \n",
    " * научиться прогнозировать вероятность оттока (на уровне следующего месяца) для каждого клиента;\n",
    " * сформировать типичные портреты клиентов: выделить несколько наиболее ярких групп и охарактеризовать их основные свойства;\n",
    " * проанализировать основные признаки, наиболее сильно влияющие на отток;\n",
    " * сформулировать основные выводы и разработать рекомендации по повышению качества работы с клиентами:\n",
    "  * 1) выделить целевые группы клиентов;\n",
    "  * 2) предложить меры по снижению оттока;\n",
    "  * 3) определить другие особенности взаимодействия с клиентами.\n",
    "\n",
    "<h2>Инструкция по выполнению проекта<a class=\"tocSkip\"></h2>\n",
    "    \n",
    "<h3>Шаг №1. Загрузите данные и подготовьте их к анализу<span class=\"tocSkip\"></span></h3>\n",
    "\n",
    "«Культурист-датасаентист» предоставил сведения в csv-файлах. Заказчик подготовил данные, которые содержат данные на месяц до оттока и факт оттока на определённый месяц. Набор данных включает следующие поля:\n",
    " * Данные клиента за предыдущий до проверки факта оттока месяц:\n",
    "    * 'gender' — пол;\n",
    "    * 'Near_Location' — проживание или работа в районе, где находится фитнес-центр;\n",
    "    * 'Partner' — сотрудник компании-партнёра клуба (сотрудничество с компаниями, чьи сотрудники могут получать скидки на абонемент — в таком случае фитнес-центр хранит информацию о работодателе клиента);\n",
    "    * Promo_friends — факт первоначальной записи в рамках акции «приведи друга» (использовал промо-код от знакомого при оплате первого абонемента);\n",
    "    * 'Phone' — наличие контактного телефона;\n",
    "    * 'Age' — возраст;\n",
    "    * 'Lifetime' — время с момента первого обращения в фитнес-центр (в месяцах).\n",
    " * Информация на основе журнала посещений, покупок и информация о текущем статусе абонемента клиента:\n",
    "    * 'Contract_period' — длительность текущего действующего абонемента (месяц, 6 месяцев, год);\n",
    "    * 'Month_to_end_contract' — срок до окончания текущего действующего абонемента (в месяцах);\n",
    "    * 'Group_visits' — факт посещения групповых занятий;\n",
    "    * 'Avg_class_frequency_total' — средняя частота посещений в неделю за все время с начала действия абонемента;\n",
    "    * 'Avg_class_frequency_current_month' — средняя частота посещений в неделю за предыдущий месяц;\n",
    "    * 'Avg_additional_charges_total' — суммарная выручка от других услуг фитнес-центра: кафе, спорттовары, косметический и массажный салон.\n",
    " * 'Churn' — факт оттока в текущем месяце.  \n",
    "    \n",
    "<h3>Шаг 2. Проведите исследовательский анализ данных (EDA)<span class=\"tocSkip\"></span></h3>\n",
    "\n",
    " * Посмотрите на датасет: есть ли в нем отсутствующие признаки, изучите средние значения и стандартные отклонения (пригодится метод describe());\n",
    " * Посмотрите на средние значения признаков в двух группах — тех, кто ушел в отток и тех, кто остался (воспользуйтесь методом groupby());\n",
    " * Постройте столбчатые гистограммы и распределения признаков для тех, кто ушёл (отток) и тех, кто остался (не попали в отток);\n",
    " * Постройте матрицу корреляций и отобразите её.\n",
    "    \n",
    "<h3>Шаг 3. Постройте модель прогнозирования оттока клиентов<span class=\"tocSkip\"></span></h3>\n",
    "\n",
    " * Разбейте данные на обучающую и валидационную выборку функцией train_test_split().\n",
    " * Обучите модель на train-выборке двумя способами:\n",
    "    * логистической регрессией,\n",
    "    * случайным лесом.\n",
    " * Оцените метрики accuracy, precision и recall для обеих моделей на валидационной выборке. Сравните по ним модели. Какая модель показала себя лучше на основании метрик?\n",
    "\n",
    "Не забудьте указать параметр random_state при разделении выборки и задании алгоритма.\n",
    "    \n",
    "<h3>Шаг 4. Сделайте кластеризацию клиентов<span class=\"tocSkip\"></span></h3>\n",
    "\n",
    "Отложите в сторону столбец с оттоком и проведите кластеризацию объектов (клиентов):\n",
    " * Стандартизируйте данные.\n",
    " * Постройте матрицу расстояний функцией linkage() на стандартизованной матрице признаков и нарисуйте дендрограмму. Внимание: отрисовка дендрограммы может занять время! На основании полученного графика предположите, какое количество кластеров можно выделить.\n",
    " * Обучите модель кластеризации на основании алгоритма K-Means и спрогнозируйте кластеры клиентов. Договоримся за число кластеров принять n=5, чтобы ваши результаты можно было сравнивать с результатами остальных студентов. Однако, конечно, в жизни никто не скажет вам правильный ответ, и решение остаётся за вами (на основании изучения графика из предыдущего пункта).\n",
    " * Посмотрите на средние значения признаков для кластеров. Можно ли сразу что-то заметить?\n",
    " * Постройте распределения признаков для кластеров. Можно ли что-то заметить по ним?\n",
    " * Для каждого полученного кластера посчитайте долю оттока (методом groupby()). Отличаются ли они по доле оттока? Какие кластеры склонны к оттоку, а какие — надёжны?\n",
    "    \n",
    "<h3>Шаг 5. Сформулируйте выводы и сделайте базовые рекомендации по работе с клиентами<span class=\"tocSkip\"></span></h3>\n",
    "\n",
    "Сформулируйте основные выводы и предложите рекомендации для стратегии взаимодействия с клиентами и их удержания.  \n",
    "Не описывайте стратегию детально: достаточно 3-4 важных принципов и примеров их реализации в виде определённых маркетинговых действий."
   ]
  },
  {
   "cell_type": "markdown",
   "metadata": {
    "toc": true
   },
   "source": [
    "<h1>Содержание<span class=\"tocSkip\"></span></h1>\n",
    "<div class=\"toc\"><ul class=\"toc-item\"><li><span><a href=\"#Загрузка-и-подготовка-данных-к-анализу\" data-toc-modified-id=\"Загрузка-и-подготовка-данных-к-анализу-1\"><span class=\"toc-item-num\">1&nbsp;&nbsp;</span>Загрузка и подготовка данных к анализу</a></span><ul class=\"toc-item\"><li><span><a href=\"#Загрузим-данные\" data-toc-modified-id=\"Загрузим-данные-1.1\"><span class=\"toc-item-num\">1.1&nbsp;&nbsp;</span>Загрузим данные</a></span></li><li><span><a href=\"#Приведение-названия-столбцов-к-нижнему-регистру\" data-toc-modified-id=\"Приведение-названия-столбцов-к-нижнему-регистру-1.2\"><span class=\"toc-item-num\">1.2&nbsp;&nbsp;</span>Приведение названия столбцов к нижнему регистру</a></span></li><li><span><a href=\"#Стобцы-gender,-near_location,-partner,-promo_friends,-phone,-group_visits,-churn\" data-toc-modified-id=\"Стобцы-gender,-near_location,-partner,-promo_friends,-phone,-group_visits,-churn-1.3\"><span class=\"toc-item-num\">1.3&nbsp;&nbsp;</span>Стобцы gender, near_location, partner, promo_friends, phone, group_visits, churn</a></span></li><li><span><a href=\"#Столбец-contract_period\" data-toc-modified-id=\"Столбец-contract_period-1.4\"><span class=\"toc-item-num\">1.4&nbsp;&nbsp;</span>Столбец contract_period</a></span></li><li><span><a href=\"#Столбец-age\" data-toc-modified-id=\"Столбец-age-1.5\"><span class=\"toc-item-num\">1.5&nbsp;&nbsp;</span>Столбец age</a></span></li><li><span><a href=\"#Столбцы-avg_additional_charges_total,-avg_class_frequency_total,-avg_class_frequency_current_month\" data-toc-modified-id=\"Столбцы-avg_additional_charges_total,-avg_class_frequency_total,-avg_class_frequency_current_month-1.6\"><span class=\"toc-item-num\">1.6&nbsp;&nbsp;</span>Столбцы avg_additional_charges_total, avg_class_frequency_total, avg_class_frequency_current_month</a></span></li><li><span><a href=\"#Столбец-month_to_end_contract\" data-toc-modified-id=\"Столбец-month_to_end_contract-1.7\"><span class=\"toc-item-num\">1.7&nbsp;&nbsp;</span>Столбец month_to_end_contract</a></span></li><li><span><a href=\"#Столбец-lifetime\" data-toc-modified-id=\"Столбец-lifetime-1.8\"><span class=\"toc-item-num\">1.8&nbsp;&nbsp;</span>Столбец lifetime</a></span></li><li><span><a href=\"#Проверка-на-дубликаты\" data-toc-modified-id=\"Проверка-на-дубликаты-1.9\"><span class=\"toc-item-num\">1.9&nbsp;&nbsp;</span>Проверка на дубликаты</a></span></li><li><span><a href=\"#Вывод\" data-toc-modified-id=\"Вывод-1.10\"><span class=\"toc-item-num\">1.10&nbsp;&nbsp;</span>Вывод</a></span></li></ul></li><li><span><a href=\"#Исследовательский-анализ-данных\" data-toc-modified-id=\"Исследовательский-анализ-данных-2\"><span class=\"toc-item-num\">2&nbsp;&nbsp;</span>Исследовательский анализ данных</a></span><ul class=\"toc-item\"><li><span><a href=\"#Средние-значения-и-стандартные-отклонения\" data-toc-modified-id=\"Средние-значения-и-стандартные-отклонения-2.1\"><span class=\"toc-item-num\">2.1&nbsp;&nbsp;</span>Средние значения и стандартные отклонения</a></span><ul class=\"toc-item\"><li><span><a href=\"#Вывод\" data-toc-modified-id=\"Вывод-2.1.1\"><span class=\"toc-item-num\">2.1.1&nbsp;&nbsp;</span>Вывод</a></span></li></ul></li><li><span><a href=\"#Средние-значения-признаков-в-двух-группах-—-тех,-кто-ушел-в-отток-и-тех,-кто-остался\" data-toc-modified-id=\"Средние-значения-признаков-в-двух-группах-—-тех,-кто-ушел-в-отток-и-тех,-кто-остался-2.2\"><span class=\"toc-item-num\">2.2&nbsp;&nbsp;</span>Средние значения признаков в двух группах — тех, кто ушел в отток и тех, кто остался</a></span><ul class=\"toc-item\"><li><span><a href=\"#Вывод\" data-toc-modified-id=\"Вывод-2.2.1\"><span class=\"toc-item-num\">2.2.1&nbsp;&nbsp;</span>Вывод</a></span></li></ul></li><li><span><a href=\"#Визуализация-анализа,-гистограммы-и-распределения\" data-toc-modified-id=\"Визуализация-анализа,-гистограммы-и-распределения-2.3\"><span class=\"toc-item-num\">2.3&nbsp;&nbsp;</span>Визуализация анализа, гистограммы и распределения</a></span></li><li><span><a href=\"#Матрица-корреляций\" data-toc-modified-id=\"Матрица-корреляций-2.4\"><span class=\"toc-item-num\">2.4&nbsp;&nbsp;</span>Матрица корреляций</a></span></li><li><span><a href=\"#Вывод\" data-toc-modified-id=\"Вывод-2.5\"><span class=\"toc-item-num\">2.5&nbsp;&nbsp;</span>Вывод</a></span></li></ul></li><li><span><a href=\"#Построение-модели-прогнозирования-оттока-клиентов\" data-toc-modified-id=\"Построение-модели-прогнозирования-оттока-клиентов-3\"><span class=\"toc-item-num\">3&nbsp;&nbsp;</span>Построение модели прогнозирования оттока клиентов</a></span><ul class=\"toc-item\"><li><span><a href=\"#Разделение-данных-на-обучающую-и-валидационную-выборку-функцией-train_test_split()\" data-toc-modified-id=\"Разделение-данных-на-обучающую-и-валидационную-выборку-функцией-train_test_split()-3.1\"><span class=\"toc-item-num\">3.1&nbsp;&nbsp;</span>Разделение данных на обучающую и валидационную выборку функцией train_test_split()</a></span></li><li><span><a href=\"#Обучим-модель-на-train-выборке:-&quot;логистической-регрессией&quot;-и-&quot;случайным-лесом&quot;\" data-toc-modified-id=\"Обучим-модель-на-train-выборке:-&quot;логистической-регрессией&quot;-и-&quot;случайным-лесом&quot;-3.2\"><span class=\"toc-item-num\">3.2&nbsp;&nbsp;</span>Обучим модель на train-выборке: \"логистической регрессией\" и \"случайным лесом\"</a></span><ul class=\"toc-item\"><li><span><a href=\"#Логистическая-регрессия\" data-toc-modified-id=\"Логистическая-регрессия-3.2.1\"><span class=\"toc-item-num\">3.2.1&nbsp;&nbsp;</span>Логистическая регрессия</a></span></li><li><span><a href=\"#Случайный-лес\" data-toc-modified-id=\"Случайный-лес-3.2.2\"><span class=\"toc-item-num\">3.2.2&nbsp;&nbsp;</span>Случайный лес</a></span></li></ul></li><li><span><a href=\"#Оценка-метрик-accuracy,-precision-и-recall-для-обеих-моделей-на-валидационной-выборке\" data-toc-modified-id=\"Оценка-метрик-accuracy,-precision-и-recall-для-обеих-моделей-на-валидационной-выборке-3.3\"><span class=\"toc-item-num\">3.3&nbsp;&nbsp;</span>Оценка метрик accuracy, precision и recall для обеих моделей на валидационной выборке</a></span></li><li><span><a href=\"#Вывод\" data-toc-modified-id=\"Вывод-3.4\"><span class=\"toc-item-num\">3.4&nbsp;&nbsp;</span>Вывод</a></span></li></ul></li><li><span><a href=\"#Кластеризация-клиентов\" data-toc-modified-id=\"Кластеризация-клиентов-4\"><span class=\"toc-item-num\">4&nbsp;&nbsp;</span>Кластеризация клиентов</a></span><ul class=\"toc-item\"><li><span><a href=\"#Стандартизация-данных,-построение-матрицы-расстояний,-дендрограмма\" data-toc-modified-id=\"Стандартизация-данных,-построение-матрицы-расстояний,-дендрограмма-4.1\"><span class=\"toc-item-num\">4.1&nbsp;&nbsp;</span>Стандартизация данных, построение матрицы расстояний, дендрограмма</a></span></li><li><span><a href=\"#Кластеризация-на-основании-алгоритма-K-Means\" data-toc-modified-id=\"Кластеризация-на-основании-алгоритма-K-Means-4.2\"><span class=\"toc-item-num\">4.2&nbsp;&nbsp;</span>Кластеризация на основании алгоритма K-Means</a></span></li><li><span><a href=\"#Изучение-средних-значений-признаков-для-кластеров\" data-toc-modified-id=\"Изучение-средних-значений-признаков-для-кластеров-4.3\"><span class=\"toc-item-num\">4.3&nbsp;&nbsp;</span>Изучение средних значений признаков для кластеров</a></span></li><li><span><a href=\"#Изучение-распределения-признаков-для-кластеров\" data-toc-modified-id=\"Изучение-распределения-признаков-для-кластеров-4.4\"><span class=\"toc-item-num\">4.4&nbsp;&nbsp;</span>Изучение распределения признаков для кластеров</a></span></li><li><span><a href=\"#Доля-оттока-для-каждого-кластера\" data-toc-modified-id=\"Доля-оттока-для-каждого-кластера-4.5\"><span class=\"toc-item-num\">4.5&nbsp;&nbsp;</span>Доля оттока для каждого кластера</a></span></li><li><span><a href=\"#Вывод\" data-toc-modified-id=\"Вывод-4.6\"><span class=\"toc-item-num\">4.6&nbsp;&nbsp;</span>Вывод</a></span></li></ul></li><li><span><a href=\"#Общий-вывод\" data-toc-modified-id=\"Общий-вывод-5\"><span class=\"toc-item-num\">5&nbsp;&nbsp;</span>Общий вывод</a></span><ul class=\"toc-item\"><li><span><a href=\"#Базовые-рекомендации-по-работе-с-клиентами\" data-toc-modified-id=\"Базовые-рекомендации-по-работе-с-клиентами-5.1\"><span class=\"toc-item-num\">5.1&nbsp;&nbsp;</span>Базовые рекомендации по работе с клиентами</a></span></li></ul></li></ul></div>"
   ]
  },
  {
   "cell_type": "markdown",
   "metadata": {},
   "source": [
    "### Загрузка и подготовка данных к анализу"
   ]
  },
  {
   "cell_type": "markdown",
   "metadata": {},
   "source": [
    "#### Загрузим данные"
   ]
  },
  {
   "cell_type": "code",
   "execution_count": 1,
   "metadata": {},
   "outputs": [],
   "source": [
    "import pandas as pd\n",
    "import seaborn as sns\n",
    "import matplotlib.pyplot as plt"
   ]
  },
  {
   "cell_type": "code",
   "execution_count": 2,
   "metadata": {},
   "outputs": [],
   "source": [
    "from sklearn.model_selection import train_test_split\n",
    "from sklearn.linear_model import LogisticRegression\n",
    "from sklearn.ensemble import RandomForestClassifier\n",
    "from sklearn.metrics import accuracy_score, precision_score, recall_score\n",
    "from sklearn.preprocessing import StandardScaler\n",
    "from scipy.cluster.hierarchy import dendrogram, linkage\n",
    "from sklearn.cluster import KMeans"
   ]
  },
  {
   "cell_type": "code",
   "execution_count": 3,
   "metadata": {},
   "outputs": [],
   "source": [
    "pd.options.display.float_format = '{:,.2f}'.format"
   ]
  },
  {
   "cell_type": "code",
   "execution_count": 4,
   "metadata": {},
   "outputs": [],
   "source": [
    "try:\n",
    "    df = pd.read_csv('/datasets/gym_churn.csv')\n",
    "except:\n",
    "    print('Ошибка подгрузки данных')"
   ]
  },
  {
   "cell_type": "code",
   "execution_count": 5,
   "metadata": {},
   "outputs": [
    {
     "name": "stdout",
     "output_type": "stream",
     "text": [
      "<class 'pandas.core.frame.DataFrame'>\n",
      "RangeIndex: 4000 entries, 0 to 3999\n",
      "Data columns (total 14 columns):\n",
      " #   Column                             Non-Null Count  Dtype  \n",
      "---  ------                             --------------  -----  \n",
      " 0   gender                             4000 non-null   int64  \n",
      " 1   Near_Location                      4000 non-null   int64  \n",
      " 2   Partner                            4000 non-null   int64  \n",
      " 3   Promo_friends                      4000 non-null   int64  \n",
      " 4   Phone                              4000 non-null   int64  \n",
      " 5   Contract_period                    4000 non-null   int64  \n",
      " 6   Group_visits                       4000 non-null   int64  \n",
      " 7   Age                                4000 non-null   int64  \n",
      " 8   Avg_additional_charges_total       4000 non-null   float64\n",
      " 9   Month_to_end_contract              4000 non-null   float64\n",
      " 10  Lifetime                           4000 non-null   int64  \n",
      " 11  Avg_class_frequency_total          4000 non-null   float64\n",
      " 12  Avg_class_frequency_current_month  4000 non-null   float64\n",
      " 13  Churn                              4000 non-null   int64  \n",
      "dtypes: float64(4), int64(10)\n",
      "memory usage: 437.6 KB\n"
     ]
    }
   ],
   "source": [
    "df.info()"
   ]
  },
  {
   "cell_type": "code",
   "execution_count": 6,
   "metadata": {
    "scrolled": true
   },
   "outputs": [
    {
     "data": {
      "text/html": [
       "<div>\n",
       "<style scoped>\n",
       "    .dataframe tbody tr th:only-of-type {\n",
       "        vertical-align: middle;\n",
       "    }\n",
       "\n",
       "    .dataframe tbody tr th {\n",
       "        vertical-align: top;\n",
       "    }\n",
       "\n",
       "    .dataframe thead th {\n",
       "        text-align: right;\n",
       "    }\n",
       "</style>\n",
       "<table border=\"1\" class=\"dataframe\">\n",
       "  <thead>\n",
       "    <tr style=\"text-align: right;\">\n",
       "      <th></th>\n",
       "      <th>gender</th>\n",
       "      <th>Near_Location</th>\n",
       "      <th>Partner</th>\n",
       "      <th>Promo_friends</th>\n",
       "      <th>Phone</th>\n",
       "      <th>Contract_period</th>\n",
       "      <th>Group_visits</th>\n",
       "      <th>Age</th>\n",
       "      <th>Avg_additional_charges_total</th>\n",
       "      <th>Month_to_end_contract</th>\n",
       "      <th>Lifetime</th>\n",
       "      <th>Avg_class_frequency_total</th>\n",
       "      <th>Avg_class_frequency_current_month</th>\n",
       "      <th>Churn</th>\n",
       "    </tr>\n",
       "  </thead>\n",
       "  <tbody>\n",
       "    <tr>\n",
       "      <th>2141</th>\n",
       "      <td>0</td>\n",
       "      <td>1</td>\n",
       "      <td>0</td>\n",
       "      <td>0</td>\n",
       "      <td>1</td>\n",
       "      <td>1</td>\n",
       "      <td>0</td>\n",
       "      <td>30</td>\n",
       "      <td>320.48</td>\n",
       "      <td>1.00</td>\n",
       "      <td>5</td>\n",
       "      <td>1.70</td>\n",
       "      <td>1.66</td>\n",
       "      <td>0</td>\n",
       "    </tr>\n",
       "    <tr>\n",
       "      <th>3094</th>\n",
       "      <td>1</td>\n",
       "      <td>1</td>\n",
       "      <td>0</td>\n",
       "      <td>0</td>\n",
       "      <td>1</td>\n",
       "      <td>1</td>\n",
       "      <td>0</td>\n",
       "      <td>21</td>\n",
       "      <td>258.06</td>\n",
       "      <td>1.00</td>\n",
       "      <td>0</td>\n",
       "      <td>1.37</td>\n",
       "      <td>1.20</td>\n",
       "      <td>1</td>\n",
       "    </tr>\n",
       "    <tr>\n",
       "      <th>6</th>\n",
       "      <td>1</td>\n",
       "      <td>1</td>\n",
       "      <td>1</td>\n",
       "      <td>1</td>\n",
       "      <td>0</td>\n",
       "      <td>6</td>\n",
       "      <td>1</td>\n",
       "      <td>32</td>\n",
       "      <td>94.27</td>\n",
       "      <td>6.00</td>\n",
       "      <td>2</td>\n",
       "      <td>1.14</td>\n",
       "      <td>1.28</td>\n",
       "      <td>0</td>\n",
       "    </tr>\n",
       "    <tr>\n",
       "      <th>2217</th>\n",
       "      <td>0</td>\n",
       "      <td>1</td>\n",
       "      <td>0</td>\n",
       "      <td>0</td>\n",
       "      <td>1</td>\n",
       "      <td>1</td>\n",
       "      <td>1</td>\n",
       "      <td>24</td>\n",
       "      <td>31.94</td>\n",
       "      <td>1.00</td>\n",
       "      <td>3</td>\n",
       "      <td>1.62</td>\n",
       "      <td>0.93</td>\n",
       "      <td>1</td>\n",
       "    </tr>\n",
       "    <tr>\n",
       "      <th>98</th>\n",
       "      <td>1</td>\n",
       "      <td>1</td>\n",
       "      <td>0</td>\n",
       "      <td>0</td>\n",
       "      <td>1</td>\n",
       "      <td>1</td>\n",
       "      <td>0</td>\n",
       "      <td>26</td>\n",
       "      <td>125.39</td>\n",
       "      <td>1.00</td>\n",
       "      <td>0</td>\n",
       "      <td>1.38</td>\n",
       "      <td>0.27</td>\n",
       "      <td>1</td>\n",
       "    </tr>\n",
       "  </tbody>\n",
       "</table>\n",
       "</div>"
      ],
      "text/plain": [
       "      gender  Near_Location  Partner  Promo_friends  Phone  Contract_period  \\\n",
       "2141       0              1        0              0      1                1   \n",
       "3094       1              1        0              0      1                1   \n",
       "6          1              1        1              1      0                6   \n",
       "2217       0              1        0              0      1                1   \n",
       "98         1              1        0              0      1                1   \n",
       "\n",
       "      Group_visits  Age  Avg_additional_charges_total  Month_to_end_contract  \\\n",
       "2141             0   30                        320.48                   1.00   \n",
       "3094             0   21                        258.06                   1.00   \n",
       "6                1   32                         94.27                   6.00   \n",
       "2217             1   24                         31.94                   1.00   \n",
       "98               0   26                        125.39                   1.00   \n",
       "\n",
       "      Lifetime  Avg_class_frequency_total  Avg_class_frequency_current_month  \\\n",
       "2141         5                       1.70                               1.66   \n",
       "3094         0                       1.37                               1.20   \n",
       "6            2                       1.14                               1.28   \n",
       "2217         3                       1.62                               0.93   \n",
       "98           0                       1.38                               0.27   \n",
       "\n",
       "      Churn  \n",
       "2141      0  \n",
       "3094      1  \n",
       "6         0  \n",
       "2217      1  \n",
       "98        1  "
      ]
     },
     "execution_count": 6,
     "metadata": {},
     "output_type": "execute_result"
    }
   ],
   "source": [
    "df.sample(5)"
   ]
  },
  {
   "cell_type": "markdown",
   "metadata": {},
   "source": [
    "#### Приведение названия столбцов к нижнему регистру"
   ]
  },
  {
   "cell_type": "code",
   "execution_count": 7,
   "metadata": {},
   "outputs": [
    {
     "data": {
      "text/plain": [
       "Index(['gender', 'near_location', 'partner', 'promo_friends', 'phone',\n",
       "       'contract_period', 'group_visits', 'age',\n",
       "       'avg_additional_charges_total', 'month_to_end_contract', 'lifetime',\n",
       "       'avg_class_frequency_total', 'avg_class_frequency_current_month',\n",
       "       'churn'],\n",
       "      dtype='object')"
      ]
     },
     "execution_count": 7,
     "metadata": {},
     "output_type": "execute_result"
    }
   ],
   "source": [
    "df.columns = df.columns.str.lower()\n",
    "df.columns"
   ]
  },
  {
   "cell_type": "markdown",
   "metadata": {},
   "source": [
    "#### Стобцы gender, near_location, partner, promo_friends, phone, group_visits, churn"
   ]
  },
  {
   "cell_type": "code",
   "execution_count": 8,
   "metadata": {},
   "outputs": [
    {
     "data": {
      "text/plain": [
       "1    2041\n",
       "0    1959\n",
       "Name: gender, dtype: int64"
      ]
     },
     "execution_count": 8,
     "metadata": {},
     "output_type": "execute_result"
    }
   ],
   "source": [
    "df.gender.value_counts()"
   ]
  },
  {
   "cell_type": "code",
   "execution_count": 9,
   "metadata": {},
   "outputs": [
    {
     "data": {
      "text/plain": [
       "1    3381\n",
       "0     619\n",
       "Name: near_location, dtype: int64"
      ]
     },
     "execution_count": 9,
     "metadata": {},
     "output_type": "execute_result"
    }
   ],
   "source": [
    "df.near_location.value_counts()"
   ]
  },
  {
   "cell_type": "code",
   "execution_count": 10,
   "metadata": {},
   "outputs": [
    {
     "data": {
      "text/plain": [
       "0    2053\n",
       "1    1947\n",
       "Name: partner, dtype: int64"
      ]
     },
     "execution_count": 10,
     "metadata": {},
     "output_type": "execute_result"
    }
   ],
   "source": [
    "df.partner.value_counts()"
   ]
  },
  {
   "cell_type": "code",
   "execution_count": 11,
   "metadata": {},
   "outputs": [
    {
     "data": {
      "text/plain": [
       "0    2766\n",
       "1    1234\n",
       "Name: promo_friends, dtype: int64"
      ]
     },
     "execution_count": 11,
     "metadata": {},
     "output_type": "execute_result"
    }
   ],
   "source": [
    "df.promo_friends.value_counts()"
   ]
  },
  {
   "cell_type": "code",
   "execution_count": 12,
   "metadata": {},
   "outputs": [
    {
     "data": {
      "text/plain": [
       "1    3614\n",
       "0     386\n",
       "Name: phone, dtype: int64"
      ]
     },
     "execution_count": 12,
     "metadata": {},
     "output_type": "execute_result"
    }
   ],
   "source": [
    "df.phone.value_counts()"
   ]
  },
  {
   "cell_type": "code",
   "execution_count": 13,
   "metadata": {},
   "outputs": [
    {
     "data": {
      "text/plain": [
       "0    2351\n",
       "1    1649\n",
       "Name: group_visits, dtype: int64"
      ]
     },
     "execution_count": 13,
     "metadata": {},
     "output_type": "execute_result"
    }
   ],
   "source": [
    "df.group_visits.value_counts()"
   ]
  },
  {
   "cell_type": "code",
   "execution_count": 14,
   "metadata": {},
   "outputs": [
    {
     "data": {
      "text/plain": [
       "0    2939\n",
       "1    1061\n",
       "Name: churn, dtype: int64"
      ]
     },
     "execution_count": 14,
     "metadata": {},
     "output_type": "execute_result"
    }
   ],
   "source": [
    "df.churn.value_counts()"
   ]
  },
  {
   "cell_type": "markdown",
   "metadata": {},
   "source": [
    "Данные корректны"
   ]
  },
  {
   "cell_type": "markdown",
   "metadata": {},
   "source": [
    "#### Столбец contract_period"
   ]
  },
  {
   "cell_type": "code",
   "execution_count": 15,
   "metadata": {},
   "outputs": [
    {
     "data": {
      "text/plain": [
       "1     2207\n",
       "12     960\n",
       "6      833\n",
       "Name: contract_period, dtype: int64"
      ]
     },
     "execution_count": 15,
     "metadata": {},
     "output_type": "execute_result"
    }
   ],
   "source": [
    "df.contract_period.value_counts()"
   ]
  },
  {
   "cell_type": "markdown",
   "metadata": {},
   "source": [
    "Данные корректны"
   ]
  },
  {
   "cell_type": "markdown",
   "metadata": {},
   "source": [
    "#### Столбец age"
   ]
  },
  {
   "cell_type": "code",
   "execution_count": 16,
   "metadata": {},
   "outputs": [
    {
     "data": {
      "text/plain": [
       "29    468\n",
       "30    457\n",
       "28    447\n",
       "31    434\n",
       "27    378\n",
       "32    364\n",
       "26    300\n",
       "33    253\n",
       "25    231\n",
       "34    174\n",
       "24    148\n",
       "35     98\n",
       "23     82\n",
       "36     48\n",
       "22     33\n",
       "37     29\n",
       "21     24\n",
       "20     14\n",
       "38     10\n",
       "39      3\n",
       "18      2\n",
       "19      2\n",
       "41      1\n",
       "Name: age, dtype: int64"
      ]
     },
     "execution_count": 16,
     "metadata": {},
     "output_type": "execute_result"
    }
   ],
   "source": [
    "df.age.value_counts()"
   ]
  },
  {
   "cell_type": "markdown",
   "metadata": {},
   "source": [
    "Данные корректны"
   ]
  },
  {
   "cell_type": "markdown",
   "metadata": {},
   "source": [
    "#### Столбцы avg_additional_charges_total, avg_class_frequency_total, avg_class_frequency_current_month"
   ]
  },
  {
   "cell_type": "code",
   "execution_count": 17,
   "metadata": {},
   "outputs": [
    {
     "data": {
      "text/plain": [
       "min     0.15\n",
       "max   552.59\n",
       "Name: avg_additional_charges_total, dtype: float64"
      ]
     },
     "execution_count": 17,
     "metadata": {},
     "output_type": "execute_result"
    }
   ],
   "source": [
    "df.avg_additional_charges_total.describe().loc[['min','max']]"
   ]
  },
  {
   "cell_type": "code",
   "execution_count": 18,
   "metadata": {},
   "outputs": [
    {
     "data": {
      "text/plain": [
       "min   0.00\n",
       "max   6.02\n",
       "Name: avg_class_frequency_total, dtype: float64"
      ]
     },
     "execution_count": 18,
     "metadata": {},
     "output_type": "execute_result"
    }
   ],
   "source": [
    "df.avg_class_frequency_total.describe().loc[['min','max']]"
   ]
  },
  {
   "cell_type": "code",
   "execution_count": 19,
   "metadata": {},
   "outputs": [
    {
     "data": {
      "text/plain": [
       "min   0.00\n",
       "max   6.15\n",
       "Name: avg_class_frequency_current_month, dtype: float64"
      ]
     },
     "execution_count": 19,
     "metadata": {},
     "output_type": "execute_result"
    }
   ],
   "source": [
    "df.avg_class_frequency_current_month.describe().loc[['min','max']]"
   ]
  },
  {
   "cell_type": "markdown",
   "metadata": {},
   "source": [
    "Данные корректны"
   ]
  },
  {
   "cell_type": "markdown",
   "metadata": {},
   "source": [
    "#### Столбец month_to_end_contract"
   ]
  },
  {
   "cell_type": "code",
   "execution_count": 20,
   "metadata": {},
   "outputs": [
    {
     "data": {
      "text/plain": [
       "1.00     2207\n",
       "6.00      645\n",
       "12.00     524\n",
       "11.00     181\n",
       "5.00      130\n",
       "10.00      82\n",
       "9.00       73\n",
       "4.00       58\n",
       "8.00       38\n",
       "7.00       25\n",
       "3.00       23\n",
       "2.00       14\n",
       "Name: month_to_end_contract, dtype: int64"
      ]
     },
     "execution_count": 20,
     "metadata": {},
     "output_type": "execute_result"
    }
   ],
   "source": [
    "df.month_to_end_contract.value_counts()"
   ]
  },
  {
   "cell_type": "markdown",
   "metadata": {},
   "source": [
    "Данные корректны, только поменяем тип данных на целочисленный"
   ]
  },
  {
   "cell_type": "code",
   "execution_count": 21,
   "metadata": {},
   "outputs": [
    {
     "data": {
      "text/plain": [
       "1     2207\n",
       "6      645\n",
       "12     524\n",
       "11     181\n",
       "5      130\n",
       "10      82\n",
       "9       73\n",
       "4       58\n",
       "8       38\n",
       "7       25\n",
       "3       23\n",
       "2       14\n",
       "Name: month_to_end_contract, dtype: int64"
      ]
     },
     "execution_count": 21,
     "metadata": {},
     "output_type": "execute_result"
    }
   ],
   "source": [
    "df.month_to_end_contract = df.month_to_end_contract.astype('int64')\n",
    "df.month_to_end_contract.value_counts()"
   ]
  },
  {
   "cell_type": "markdown",
   "metadata": {},
   "source": [
    "#### Столбец lifetime"
   ]
  },
  {
   "cell_type": "code",
   "execution_count": 22,
   "metadata": {},
   "outputs": [
    {
     "data": {
      "text/plain": [
       "1     843\n",
       "2     610\n",
       "3     490\n",
       "0     487\n",
       "4     383\n",
       "5     273\n",
       "6     220\n",
       "7     167\n",
       "8     111\n",
       "9     100\n",
       "10     76\n",
       "12     53\n",
       "11     48\n",
       "13     28\n",
       "15     24\n",
       "14     24\n",
       "16     15\n",
       "17     11\n",
       "19      7\n",
       "18      7\n",
       "20      7\n",
       "21      5\n",
       "26      2\n",
       "24      2\n",
       "22      2\n",
       "23      2\n",
       "27      1\n",
       "29      1\n",
       "31      1\n",
       "Name: lifetime, dtype: int64"
      ]
     },
     "execution_count": 22,
     "metadata": {},
     "output_type": "execute_result"
    }
   ],
   "source": [
    "df.lifetime.value_counts()"
   ]
  },
  {
   "cell_type": "markdown",
   "metadata": {},
   "source": [
    "Данные корректны"
   ]
  },
  {
   "cell_type": "markdown",
   "metadata": {},
   "source": [
    "#### Проверка на дубликаты"
   ]
  },
  {
   "cell_type": "code",
   "execution_count": 23,
   "metadata": {},
   "outputs": [
    {
     "data": {
      "text/plain": [
       "0"
      ]
     },
     "execution_count": 23,
     "metadata": {},
     "output_type": "execute_result"
    }
   ],
   "source": [
    "df.duplicated().sum()"
   ]
  },
  {
   "cell_type": "markdown",
   "metadata": {},
   "source": [
    "#### Вывод"
   ]
  },
  {
   "cell_type": "markdown",
   "metadata": {},
   "source": [
    "* Названия столбцов привели к строчному виду;\n",
    "* Столбцу month_to_end_contract изменили тип данных на целочисленный;\n",
    "* Данные проверили на корректность, пропуски и дубликаты"
   ]
  },
  {
   "cell_type": "markdown",
   "metadata": {},
   "source": [
    "### Исследовательский анализ данных"
   ]
  },
  {
   "cell_type": "markdown",
   "metadata": {},
   "source": [
    "#### Средние значения и стандартные отклонения"
   ]
  },
  {
   "cell_type": "code",
   "execution_count": 24,
   "metadata": {},
   "outputs": [
    {
     "data": {
      "text/html": [
       "<div>\n",
       "<style scoped>\n",
       "    .dataframe tbody tr th:only-of-type {\n",
       "        vertical-align: middle;\n",
       "    }\n",
       "\n",
       "    .dataframe tbody tr th {\n",
       "        vertical-align: top;\n",
       "    }\n",
       "\n",
       "    .dataframe thead th {\n",
       "        text-align: right;\n",
       "    }\n",
       "</style>\n",
       "<table border=\"1\" class=\"dataframe\">\n",
       "  <thead>\n",
       "    <tr style=\"text-align: right;\">\n",
       "      <th></th>\n",
       "      <th>gender</th>\n",
       "      <th>near_location</th>\n",
       "      <th>partner</th>\n",
       "      <th>promo_friends</th>\n",
       "      <th>phone</th>\n",
       "      <th>contract_period</th>\n",
       "      <th>group_visits</th>\n",
       "      <th>age</th>\n",
       "      <th>avg_additional_charges_total</th>\n",
       "      <th>month_to_end_contract</th>\n",
       "      <th>lifetime</th>\n",
       "      <th>avg_class_frequency_total</th>\n",
       "      <th>avg_class_frequency_current_month</th>\n",
       "      <th>churn</th>\n",
       "    </tr>\n",
       "  </thead>\n",
       "  <tbody>\n",
       "    <tr>\n",
       "      <th>mean</th>\n",
       "      <td>0.51</td>\n",
       "      <td>0.85</td>\n",
       "      <td>0.49</td>\n",
       "      <td>0.31</td>\n",
       "      <td>0.90</td>\n",
       "      <td>4.68</td>\n",
       "      <td>0.41</td>\n",
       "      <td>29.18</td>\n",
       "      <td>146.94</td>\n",
       "      <td>4.32</td>\n",
       "      <td>3.72</td>\n",
       "      <td>1.88</td>\n",
       "      <td>1.77</td>\n",
       "      <td>0.27</td>\n",
       "    </tr>\n",
       "    <tr>\n",
       "      <th>std</th>\n",
       "      <td>0.50</td>\n",
       "      <td>0.36</td>\n",
       "      <td>0.50</td>\n",
       "      <td>0.46</td>\n",
       "      <td>0.30</td>\n",
       "      <td>4.55</td>\n",
       "      <td>0.49</td>\n",
       "      <td>3.26</td>\n",
       "      <td>96.36</td>\n",
       "      <td>4.19</td>\n",
       "      <td>3.75</td>\n",
       "      <td>0.97</td>\n",
       "      <td>1.05</td>\n",
       "      <td>0.44</td>\n",
       "    </tr>\n",
       "    <tr>\n",
       "      <th>50%</th>\n",
       "      <td>1.00</td>\n",
       "      <td>1.00</td>\n",
       "      <td>0.00</td>\n",
       "      <td>0.00</td>\n",
       "      <td>1.00</td>\n",
       "      <td>1.00</td>\n",
       "      <td>0.00</td>\n",
       "      <td>29.00</td>\n",
       "      <td>136.22</td>\n",
       "      <td>1.00</td>\n",
       "      <td>3.00</td>\n",
       "      <td>1.83</td>\n",
       "      <td>1.72</td>\n",
       "      <td>0.00</td>\n",
       "    </tr>\n",
       "  </tbody>\n",
       "</table>\n",
       "</div>"
      ],
      "text/plain": [
       "      gender  near_location  partner  promo_friends  phone  contract_period  \\\n",
       "mean    0.51           0.85     0.49           0.31   0.90             4.68   \n",
       "std     0.50           0.36     0.50           0.46   0.30             4.55   \n",
       "50%     1.00           1.00     0.00           0.00   1.00             1.00   \n",
       "\n",
       "      group_visits   age  avg_additional_charges_total  month_to_end_contract  \\\n",
       "mean          0.41 29.18                        146.94                   4.32   \n",
       "std           0.49  3.26                         96.36                   4.19   \n",
       "50%           0.00 29.00                        136.22                   1.00   \n",
       "\n",
       "      lifetime  avg_class_frequency_total  avg_class_frequency_current_month  \\\n",
       "mean      3.72                       1.88                               1.77   \n",
       "std       3.75                       0.97                               1.05   \n",
       "50%       3.00                       1.83                               1.72   \n",
       "\n",
       "      churn  \n",
       "mean   0.27  \n",
       "std    0.44  \n",
       "50%    0.00  "
      ]
     },
     "execution_count": 24,
     "metadata": {},
     "output_type": "execute_result"
    }
   ],
   "source": [
    "df.describe().loc[['mean','std', '50%']]"
   ]
  },
  {
   "cell_type": "markdown",
   "metadata": {},
   "source": [
    "##### Вывод"
   ]
  },
  {
   "cell_type": "markdown",
   "metadata": {},
   "source": [
    "* Мужчин и женщин почти поровну;\n",
    "* 85% клиентов живет или работает рядом с фитнес-центром, что вполне логично;\n",
    "* Половина имеет скидку через \"компанию-парнера\" фитнес-центра;\n",
    "* 31% оплатили первый абонемент через промо \"приведи друга\";\n",
    "* 10% не указали свой телефон\n",
    "* 55% имеют абонемент на месяц, 25% на год, 20% на полгода;\n",
    "* 41% посещали групповые занятия;\n",
    "* 29 лет - средний возраст, большая часть посетителей находится в возрасте от 26-ти до 32-х лет;\n",
    "* В среднем клиент тратит на другие услуги фитнес-центра 146.94, медиана - 136.22;\n",
    "* У 55% абонемент закончится через месяц, у 16% через 6 месяцев, у 13% через год;\n",
    "* 3 месяца - среднее время с момента первого обращения в фитнес-центр;\n",
    "* В среднем клиенты посещают центр почти 2 раза в неделю (1.83);\n",
    "* За предыдущийй месяц посещаемость в неделю чуть упала - 1.72;\n",
    "* 27% пользователей перестали ходить в фитнес-центр за текущий месяц"
   ]
  },
  {
   "cell_type": "markdown",
   "metadata": {},
   "source": [
    "#### Средние значения признаков в двух группах — тех, кто ушел в отток и тех, кто остался"
   ]
  },
  {
   "cell_type": "code",
   "execution_count": 25,
   "metadata": {},
   "outputs": [
    {
     "data": {
      "text/html": [
       "<div>\n",
       "<style scoped>\n",
       "    .dataframe tbody tr th:only-of-type {\n",
       "        vertical-align: middle;\n",
       "    }\n",
       "\n",
       "    .dataframe tbody tr th {\n",
       "        vertical-align: top;\n",
       "    }\n",
       "\n",
       "    .dataframe thead th {\n",
       "        text-align: right;\n",
       "    }\n",
       "</style>\n",
       "<table border=\"1\" class=\"dataframe\">\n",
       "  <thead>\n",
       "    <tr style=\"text-align: right;\">\n",
       "      <th></th>\n",
       "      <th></th>\n",
       "      <th>in</th>\n",
       "      <th>out</th>\n",
       "    </tr>\n",
       "  </thead>\n",
       "  <tbody>\n",
       "    <tr>\n",
       "      <th>0</th>\n",
       "      <td>gender</td>\n",
       "      <td>0.51</td>\n",
       "      <td>0.51</td>\n",
       "    </tr>\n",
       "    <tr>\n",
       "      <th>1</th>\n",
       "      <td>near_location</td>\n",
       "      <td>0.87</td>\n",
       "      <td>0.77</td>\n",
       "    </tr>\n",
       "    <tr>\n",
       "      <th>2</th>\n",
       "      <td>partner</td>\n",
       "      <td>0.53</td>\n",
       "      <td>0.36</td>\n",
       "    </tr>\n",
       "    <tr>\n",
       "      <th>3</th>\n",
       "      <td>promo_friends</td>\n",
       "      <td>0.35</td>\n",
       "      <td>0.18</td>\n",
       "    </tr>\n",
       "    <tr>\n",
       "      <th>4</th>\n",
       "      <td>phone</td>\n",
       "      <td>0.90</td>\n",
       "      <td>0.90</td>\n",
       "    </tr>\n",
       "    <tr>\n",
       "      <th>5</th>\n",
       "      <td>contract_period</td>\n",
       "      <td>5.75</td>\n",
       "      <td>1.73</td>\n",
       "    </tr>\n",
       "    <tr>\n",
       "      <th>6</th>\n",
       "      <td>group_visits</td>\n",
       "      <td>0.46</td>\n",
       "      <td>0.27</td>\n",
       "    </tr>\n",
       "    <tr>\n",
       "      <th>7</th>\n",
       "      <td>age</td>\n",
       "      <td>29.98</td>\n",
       "      <td>26.99</td>\n",
       "    </tr>\n",
       "    <tr>\n",
       "      <th>8</th>\n",
       "      <td>avg_additional_charges_total</td>\n",
       "      <td>158.45</td>\n",
       "      <td>115.08</td>\n",
       "    </tr>\n",
       "    <tr>\n",
       "      <th>9</th>\n",
       "      <td>month_to_end_contract</td>\n",
       "      <td>5.28</td>\n",
       "      <td>1.66</td>\n",
       "    </tr>\n",
       "    <tr>\n",
       "      <th>10</th>\n",
       "      <td>lifetime</td>\n",
       "      <td>4.71</td>\n",
       "      <td>0.99</td>\n",
       "    </tr>\n",
       "    <tr>\n",
       "      <th>11</th>\n",
       "      <td>avg_class_frequency_total</td>\n",
       "      <td>2.02</td>\n",
       "      <td>1.47</td>\n",
       "    </tr>\n",
       "    <tr>\n",
       "      <th>12</th>\n",
       "      <td>avg_class_frequency_current_month</td>\n",
       "      <td>2.03</td>\n",
       "      <td>1.04</td>\n",
       "    </tr>\n",
       "  </tbody>\n",
       "</table>\n",
       "</div>"
      ],
      "text/plain": [
       "                                          in    out\n",
       "0                              gender   0.51   0.51\n",
       "1                       near_location   0.87   0.77\n",
       "2                             partner   0.53   0.36\n",
       "3                       promo_friends   0.35   0.18\n",
       "4                               phone   0.90   0.90\n",
       "5                     contract_period   5.75   1.73\n",
       "6                        group_visits   0.46   0.27\n",
       "7                                 age  29.98  26.99\n",
       "8        avg_additional_charges_total 158.45 115.08\n",
       "9               month_to_end_contract   5.28   1.66\n",
       "10                           lifetime   4.71   0.99\n",
       "11          avg_class_frequency_total   2.02   1.47\n",
       "12  avg_class_frequency_current_month   2.03   1.04"
      ]
     },
     "execution_count": 25,
     "metadata": {},
     "output_type": "execute_result"
    }
   ],
   "source": [
    "mean_churn = df.groupby('churn').mean().T.reset_index()\n",
    "mean_churn.columns = ['','in', 'out']\n",
    "mean_churn"
   ]
  },
  {
   "cell_type": "markdown",
   "metadata": {},
   "source": [
    "##### Вывод"
   ]
  },
  {
   "cell_type": "markdown",
   "metadata": {},
   "source": [
    "* Пол не влияет на отток клиентов;\n",
    "* В оттоке (0.77 на 0.87) больше тех кто живет или работает не рядом с клубом;\n",
    "* Сотрудники компании-партнера более лояльны к клубу, чем \"обычные\" клиенты (0.53 на 0.36);\n",
    "* Воспользовавшихся акцией \"приведи друга\" больше в 2 раза среди оставшихся, чем в оттоке (0.35 на 0.18);\n",
    "* Указанный телефон не влияет на отток клиетов;\n",
    "* У клиентов продолжающих посещать клуб средний срок текущего абонемента существенно больше, чем у покинувших (5.75 на 1.73);\n",
    "* Групповые занятия повышают лояльность клиентов (0.46 на 0.27);\n",
    "* Средний возраст в оттоке 27 лет, у оставшихся 30;\n",
    "* Средний чек на допы в оттоке 115.1, у оставшихся 158.5;\n",
    "* У покинувших клуб средняя продолжительность оставшего абонемента 1.66, у оставшихся 5.28;\n",
    "* В оттоке среднее время с момента первого обращения - месяц, у тех кто продолжает посещать клуб почти 5-ть;\n",
    "* Те кто продолжает, ходят в среднем по 2 раза в неделю, а кто бросил всего 1.5 раза;\n",
    "* В предыдущем месяце, те кто продолжает заниматься ходили в среднем по 2 раза в неделю, а кто ушел в отток только 1 раз;"
   ]
  },
  {
   "cell_type": "markdown",
   "metadata": {},
   "source": [
    "#### Визуализация анализа, гистограммы и распределения"
   ]
  },
  {
   "cell_type": "markdown",
   "metadata": {},
   "source": [
    "Построим гистограммы для категориальных параметров"
   ]
  },
  {
   "cell_type": "code",
   "execution_count": 26,
   "metadata": {},
   "outputs": [
    {
     "data": {
      "image/png": "[encoded data removed]",
      "text/plain": [
       "<Figure size 1440x1080 with 7 Axes>"
      ]
     },
     "metadata": {
      "needs_background": "light"
     },
     "output_type": "display_data"
    }
   ],
   "source": [
    "list_cat = ['gender', 'near_location', 'partner', 'promo_friends', 'phone', 'group_visits', 'contract_period']\n",
    "ncols = 3\n",
    "nrows = len(list_cat) // ncols + (len(list_cat) % ncols > 0)\n",
    "plt.figure(figsize=(20, 15))\n",
    "plt.subplots_adjust(hspace=0.2)\n",
    "plt.suptitle(\"Гистограммы для категориальных параметров\", fontsize=20, y=.93)\n",
    "for n, column in enumerate(list_cat):\n",
    "    ax = plt.subplot(nrows, ncols, n + 1)\n",
    "    sns.countplot(x = column, data=df, hue='churn')\n",
    "    plt.title('Столбец ' + column, fontsize=14)\n",
    "    plt.legend(['in','out'], fontsize=10)\n",
    "    plt.xticks(fontsize=10)\n",
    "    plt.yticks(fontsize=10)\n",
    "    plt.xlabel('',fontsize=12)\n",
    "    plt.ylabel('Количество клиентов', fontsize=12);"
   ]
  },
  {
   "cell_type": "markdown",
   "metadata": {},
   "source": [
    "* gender - не влияет на отток пользователей;\n",
    "* near_location - люди, которым дольше добираться до фитнеса бросают его чаще, чем люди которые живут или работают рядом с центром;\n",
    "* partner - наличие скидки от \"партнера\" удерживает клиентов лучше, чем ее отсутствие;\n",
    "* promo_friends - скидка от \"друга\" также помогает людям продолжать посещать фитнес;\n",
    "* phone - не влияет на отток пользователей;\n",
    "* group_visits - совместные занятия спортом, даже с незнакомыми людьми, положительно сказываются на желание человека продолжать заниматься;\n",
    "* contract_period - чем больше заплатил, тем сильнее желание продолжать"
   ]
  },
  {
   "cell_type": "markdown",
   "metadata": {},
   "source": [
    "Для числовых параметров построим диаграмму размаха "
   ]
  },
  {
   "cell_type": "code",
   "execution_count": 27,
   "metadata": {},
   "outputs": [
    {
     "data": {
      "image/png": "[encoded data removed]",
      "text/plain": [
       "<Figure size 1440x1080 with 6 Axes>"
      ]
     },
     "metadata": {
      "needs_background": "light"
     },
     "output_type": "display_data"
    }
   ],
   "source": [
    "list_num = ['age', 'avg_additional_charges_total', 'month_to_end_contract', 'lifetime', 'avg_class_frequency_total', 'avg_class_frequency_current_month']\n",
    "ncols = 3\n",
    "nrows = len(list_num) // ncols + (len(list_num) % ncols > 0)\n",
    "plt.figure(figsize=(20, 15))\n",
    "plt.subplots_adjust(hspace=0.1)\n",
    "plt.suptitle(\"Диаграммы размаха для числовых параметров\", fontsize=20, y=.93)\n",
    "for n, column in enumerate(list_num):\n",
    "    ax = plt.subplot(nrows, ncols, n + 1)\n",
    "    sns.boxplot(x = 'churn', y = column, data=df)\n",
    "    plt.title(column, fontsize=14)\n",
    "    plt.xticks(fontsize=10)\n",
    "    plt.yticks(fontsize=10)\n",
    "    plt.xlabel('', fontsize=12)\n",
    "    plt.ylabel('', fontsize=12);"
   ]
  },
  {
   "cell_type": "markdown",
   "metadata": {},
   "source": [
    "* age - наиболее часто встречающийся возраст людей в оттоке 26-28 лет;\n",
    "* avg_additional_charges_total - средние затраты на доп-услуги у ушедший клиентов составили 115;\n",
    "* month_to_end_contract - средний срок остатка абонемента у пользователей в оттоке 1.7 месяца;\n",
    "* lifetime - среднее время \"общения с клубом\" у ушедших людей один месяц;\n",
    "* avg_class_frequency_total - ушедшие клиенты пользовались центром в среднем 1.5 раза в неделю;\n",
    "* avg_class_frequency_current_month - в последний месяц перед уходом, человек ходит на фитнес в среднем один раз в неделю"
   ]
  },
  {
   "cell_type": "markdown",
   "metadata": {},
   "source": [
    "#### Матрица корреляций"
   ]
  },
  {
   "cell_type": "code",
   "execution_count": 28,
   "metadata": {},
   "outputs": [
    {
     "data": {
      "image/png": "[encoded data removed]",
      "text/plain": [
       "<Figure size 1008x720 with 2 Axes>"
      ]
     },
     "metadata": {
      "needs_background": "light"
     },
     "output_type": "display_data"
    }
   ],
   "source": [
    "matrix_corr = df.corr()\n",
    "plt.figure(figsize=(14, 10))\n",
    "sns.heatmap(matrix_corr , annot = True, linewidths=1, fmt = '0.3f', cmap=\"rainbow\")\n",
    "plt.show()"
   ]
  },
  {
   "cell_type": "markdown",
   "metadata": {},
   "source": [
    "* Сильная корреляция между параметрами contract_period и month_to_end_contract, avg_class_frequency_total и avg_class_frequency_current_month, это неудивительно поскольку они зависят друг от друга;\n",
    "* Корреляция между параметрами partner и promo_friends, указывает на то, что клиенты клуба по \"скидочной партнерской программе\" часто приводят друзей или знакомых, которые используют промокод promo_friends;\n",
    "* Из матрицы еще раз видно, что параметры gender и phone не влияют на отток;\n",
    "* Параметры - lifetime, avg_class_frequency_current_month, age и contract_period имеют самую сильное корреляцию с оттоком"
   ]
  },
  {
   "cell_type": "markdown",
   "metadata": {},
   "source": [
    "#### Вывод"
   ]
  },
  {
   "cell_type": "markdown",
   "metadata": {},
   "source": [
    "* Наиболее сильно коррелирующий с оттоком клиентов параметр - lifetime, у ушедших пользователей он не превышает один месяц;\n",
    "* avg_class_frequency_current_month - если посещение фитнеса в текущем месяце упало до 1 раза в неделю, то клиент готов окончательно уйти;\n",
    "* Если возраст клиента 26-28 лет, то он более склонен бросать тренировки, чем пользователи старше 28 лет;\n",
    "* Длительность абонемента напрямую влияет на постоянство посещения центра, чем дольше абонемент тем меньше шансов, что человек бросит и наоборот;\n",
    "* Близкая локация центра к работе или дому, цена абонемента в виде скидки от \"партнера\" или от промо \"приведи друга\", также очевидно и вполне логично влияют на желание пользователя продолжать посещать фитнес или нет;\n",
    "* Параметры gender и phone не оказывают влияния на отток клиентов из фитнес-центра"
   ]
  },
  {
   "cell_type": "markdown",
   "metadata": {},
   "source": [
    "### Построение модели прогнозирования оттока клиентов"
   ]
  },
  {
   "cell_type": "markdown",
   "metadata": {},
   "source": [
    "Построим модель бинарной классификации клиентов, где целевой признак — факт оттока клиента в следующем месяце"
   ]
  },
  {
   "cell_type": "markdown",
   "metadata": {},
   "source": [
    "#### Разделение данных на обучающую и валидационную выборку функцией train_test_split()"
   ]
  },
  {
   "cell_type": "markdown",
   "metadata": {},
   "source": [
    "Разделим данные на признаки (матрица X) и целевую переменную (y)"
   ]
  },
  {
   "cell_type": "code",
   "execution_count": 29,
   "metadata": {},
   "outputs": [],
   "source": [
    "X = df.drop('churn', axis=1)\n",
    "y = df.churn"
   ]
  },
  {
   "cell_type": "markdown",
   "metadata": {},
   "source": [
    "Разделяем модель на обучающую и валидационную выборку, с атрибутами random_state=0 для генерации одних и тех же псевдослучайных величин и stratify=y для сохранения указанного нами соотношения (20%) значений нужного нам количества классов в целевой переменной"
   ]
  },
  {
   "cell_type": "code",
   "execution_count": 30,
   "metadata": {},
   "outputs": [],
   "source": [
    "X_train, X_test, y_train, y_test = train_test_split(X, y, test_size = 0.2, random_state=0, stratify=y)"
   ]
  },
  {
   "cell_type": "markdown",
   "metadata": {},
   "source": [
    "#### Обучим модель на train-выборке: \"логистической регрессией\" и \"случайным лесом\""
   ]
  },
  {
   "cell_type": "markdown",
   "metadata": {},
   "source": [
    "##### Логистическая регрессия"
   ]
  },
  {
   "cell_type": "markdown",
   "metadata": {},
   "source": [
    "Зададим алгоритм для модели логистической регрессии"
   ]
  },
  {
   "cell_type": "code",
   "execution_count": 31,
   "metadata": {},
   "outputs": [],
   "source": [
    "lr_model = LogisticRegression(random_state=0, solver='liblinear')"
   ]
  },
  {
   "cell_type": "markdown",
   "metadata": {},
   "source": [
    "Обучим модель"
   ]
  },
  {
   "cell_type": "code",
   "execution_count": 32,
   "metadata": {},
   "outputs": [
    {
     "data": {
      "text/plain": [
       "LogisticRegression(random_state=0, solver='liblinear')"
      ]
     },
     "execution_count": 32,
     "metadata": {},
     "output_type": "execute_result"
    }
   ],
   "source": [
    "lr_model.fit(X_train, y_train)"
   ]
  },
  {
   "cell_type": "markdown",
   "metadata": {},
   "source": [
    "Воспользуемся уже обученной моделью, чтобы сделать прогноз"
   ]
  },
  {
   "cell_type": "code",
   "execution_count": 33,
   "metadata": {},
   "outputs": [],
   "source": [
    "lr_predictions = lr_model.predict(X_test)"
   ]
  },
  {
   "cell_type": "markdown",
   "metadata": {},
   "source": [
    "##### Случайный лес"
   ]
  },
  {
   "cell_type": "markdown",
   "metadata": {},
   "source": [
    "Зададим алгоритм для новой модели на основе алгоритма случайного леса"
   ]
  },
  {
   "cell_type": "code",
   "execution_count": 34,
   "metadata": {},
   "outputs": [],
   "source": [
    "rf_model = RandomForestClassifier(n_estimators = 100, random_state = 0)"
   ]
  },
  {
   "cell_type": "markdown",
   "metadata": {},
   "source": [
    "Обучим модель случайного леса"
   ]
  },
  {
   "cell_type": "code",
   "execution_count": 35,
   "metadata": {},
   "outputs": [
    {
     "data": {
      "text/plain": [
       "RandomForestClassifier(random_state=0)"
      ]
     },
     "execution_count": 35,
     "metadata": {},
     "output_type": "execute_result"
    }
   ],
   "source": [
    "rf_model.fit(X_train, y_train)"
   ]
  },
  {
   "cell_type": "markdown",
   "metadata": {},
   "source": [
    "Воспользуемся уже обученной моделью, чтобы сделать прогноз"
   ]
  },
  {
   "cell_type": "code",
   "execution_count": 36,
   "metadata": {},
   "outputs": [],
   "source": [
    "rf_predictions = rf_model.predict(X_test)"
   ]
  },
  {
   "cell_type": "markdown",
   "metadata": {},
   "source": [
    "#### Оценка метрик accuracy, precision и recall для обеих моделей на валидационной выборке"
   ]
  },
  {
   "cell_type": "markdown",
   "metadata": {},
   "source": [
    "Создадим функцию, которая будет выводить наши метрики"
   ]
  },
  {
   "cell_type": "code",
   "execution_count": 37,
   "metadata": {},
   "outputs": [],
   "source": [
    "def print_all_metrics(y_true, y_pred, title='Метрики классификации'):\n",
    "    print(title)\n",
    "    print('\\tAccuracy: {:.3f}'.format(accuracy_score(y_true, y_pred)))\n",
    "    print('\\tPrecision: {:.3f}'.format(precision_score(y_true, y_pred)))\n",
    "    print('\\tRecall: {:.3f}'.format(recall_score(y_true, y_pred)))    "
   ]
  },
  {
   "cell_type": "markdown",
   "metadata": {},
   "source": [
    "Выведем метрики для логистической регрессии"
   ]
  },
  {
   "cell_type": "code",
   "execution_count": 38,
   "metadata": {},
   "outputs": [
    {
     "name": "stdout",
     "output_type": "stream",
     "text": [
      "Метрики для логистической регрессии\n",
      "\tAccuracy: 0.931\n",
      "\tPrecision: 0.894\n",
      "\tRecall: 0.840\n"
     ]
    }
   ],
   "source": [
    "print_all_metrics(y_test, lr_predictions, 'Метрики для логистической регрессии')"
   ]
  },
  {
   "cell_type": "markdown",
   "metadata": {},
   "source": [
    "Выведем метрики для случайного леса"
   ]
  },
  {
   "cell_type": "code",
   "execution_count": 39,
   "metadata": {},
   "outputs": [
    {
     "name": "stdout",
     "output_type": "stream",
     "text": [
      "Метрики для случайного леса\n",
      "\tAccuracy: 0.922\n",
      "\tPrecision: 0.875\n",
      "\tRecall: 0.825\n"
     ]
    }
   ],
   "source": [
    "print_all_metrics(y_test, rf_predictions, 'Метрики для случайного леса')"
   ]
  },
  {
   "cell_type": "markdown",
   "metadata": {},
   "source": [
    "#### Вывод"
   ]
  },
  {
   "cell_type": "markdown",
   "metadata": {},
   "source": [
    "* Обе модели показали общую точность более 90%, что является хорошим результатом;\n",
    "* Показатели Precision и Recall чуть лучше у модели логистическая регрессия"
   ]
  },
  {
   "cell_type": "markdown",
   "metadata": {},
   "source": [
    "### Кластеризация клиентов"
   ]
  },
  {
   "cell_type": "markdown",
   "metadata": {},
   "source": [
    "#### Стандартизация данных, построение матрицы расстояний, дендрограмма"
   ]
  },
  {
   "cell_type": "code",
   "execution_count": 40,
   "metadata": {},
   "outputs": [],
   "source": [
    "sc = StandardScaler()\n",
    "X_sc = sc.fit_transform(X)\n",
    "linked = linkage(X_sc, method = 'ward') "
   ]
  },
  {
   "cell_type": "markdown",
   "metadata": {},
   "source": [
    "Строим дендрограмму"
   ]
  },
  {
   "cell_type": "code",
   "execution_count": 41,
   "metadata": {},
   "outputs": [
    {
     "data": {
      "image/png": "[encoded data removed]",
      "text/plain": [
       "<Figure size 1080x720 with 1 Axes>"
      ]
     },
     "metadata": {
      "needs_background": "light"
     },
     "output_type": "display_data"
    }
   ],
   "source": [
    "plt.figure(figsize=(15, 10))  \n",
    "dendrogram(linked, orientation = 'top')\n",
    "plt.title('Кластеризация клиентов', fontsize = 15);"
   ]
  },
  {
   "cell_type": "markdown",
   "metadata": {},
   "source": [
    "На графике можно выделить от 4-х до 6-ти кластеров"
   ]
  },
  {
   "cell_type": "markdown",
   "metadata": {},
   "source": [
    "#### Кластеризация на основании алгоритма K-Means"
   ]
  },
  {
   "cell_type": "markdown",
   "metadata": {},
   "source": [
    "Зададим модель k_means с числом кластеров 5"
   ]
  },
  {
   "cell_type": "code",
   "execution_count": 42,
   "metadata": {},
   "outputs": [],
   "source": [
    "km = KMeans(n_clusters=5, random_state=0)"
   ]
  },
  {
   "cell_type": "markdown",
   "metadata": {},
   "source": [
    "Применяем алгоритм к данным и формируем вектор кластеров"
   ]
  },
  {
   "cell_type": "code",
   "execution_count": 43,
   "metadata": {},
   "outputs": [],
   "source": [
    "labels = km.fit_predict(X_sc)"
   ]
  },
  {
   "cell_type": "markdown",
   "metadata": {},
   "source": [
    "Сохраняем вектор кластеров"
   ]
  },
  {
   "cell_type": "code",
   "execution_count": 44,
   "metadata": {},
   "outputs": [],
   "source": [
    "df['cluster'] = labels"
   ]
  },
  {
   "cell_type": "markdown",
   "metadata": {},
   "source": [
    "#### Изучение средних значений признаков для кластеров"
   ]
  },
  {
   "cell_type": "markdown",
   "metadata": {},
   "source": [
    "Посмотрим количество пользователей в каждом кластере"
   ]
  },
  {
   "cell_type": "code",
   "execution_count": 45,
   "metadata": {},
   "outputs": [
    {
     "data": {
      "text/plain": [
       "3    1262\n",
       "0    1010\n",
       "4     838\n",
       "2     505\n",
       "1     385\n",
       "Name: cluster, dtype: int64"
      ]
     },
     "execution_count": 45,
     "metadata": {},
     "output_type": "execute_result"
    }
   ],
   "source": [
    "df.cluster.value_counts()"
   ]
  },
  {
   "cell_type": "markdown",
   "metadata": {},
   "source": [
    "Выведем средние значения для каждого кластера"
   ]
  },
  {
   "cell_type": "code",
   "execution_count": 46,
   "metadata": {
    "scrolled": false
   },
   "outputs": [
    {
     "data": {
      "text/html": [
       "<style  type=\"text/css\" >\n",
       "#T_8f981_row0_col3,#T_8f981_row1_col2,#T_8f981_row2_col3,#T_8f981_row3_col2,#T_8f981_row4_col1,#T_8f981_row5_col3,#T_8f981_row6_col2,#T_8f981_row7_col3,#T_8f981_row8_col3,#T_8f981_row9_col3,#T_8f981_row10_col3,#T_8f981_row11_col3,#T_8f981_row12_col3,#T_8f981_row13_col0{\n",
       "            background-color:  skyblue;\n",
       "        }#T_8f981_row0_col4,#T_8f981_row1_col3,#T_8f981_row2_col0,#T_8f981_row3_col0,#T_8f981_row4_col0,#T_8f981_row4_col2,#T_8f981_row4_col3,#T_8f981_row5_col0,#T_8f981_row6_col0,#T_8f981_row7_col4,#T_8f981_row8_col4,#T_8f981_row9_col0,#T_8f981_row10_col4,#T_8f981_row11_col4,#T_8f981_row12_col4,#T_8f981_row13_col3{\n",
       "            background-color:  hotpink;\n",
       "        }</style><table id=\"T_8f981_\" ><thead>    <tr>        <th class=\"index_name level0\" >cluster</th>        <th class=\"col_heading level0 col0\" >0</th>        <th class=\"col_heading level0 col1\" >1</th>        <th class=\"col_heading level0 col2\" >2</th>        <th class=\"col_heading level0 col3\" >3</th>        <th class=\"col_heading level0 col4\" >4</th>    </tr></thead><tbody>\n",
       "                <tr>\n",
       "                        <th id=\"T_8f981_level0_row0\" class=\"row_heading level0 row0\" >gender</th>\n",
       "                        <td id=\"T_8f981_row0_col0\" class=\"data row0 col0\" >0.50</td>\n",
       "                        <td id=\"T_8f981_row0_col1\" class=\"data row0 col1\" >0.52</td>\n",
       "                        <td id=\"T_8f981_row0_col2\" class=\"data row0 col2\" >0.50</td>\n",
       "                        <td id=\"T_8f981_row0_col3\" class=\"data row0 col3\" >0.49</td>\n",
       "                        <td id=\"T_8f981_row0_col4\" class=\"data row0 col4\" >0.56</td>\n",
       "            </tr>\n",
       "            <tr>\n",
       "                        <th id=\"T_8f981_level0_row1\" class=\"row_heading level0 row1\" >near_location</th>\n",
       "                        <td id=\"T_8f981_row1_col0\" class=\"data row1 col0\" >0.96</td>\n",
       "                        <td id=\"T_8f981_row1_col1\" class=\"data row1 col1\" >0.86</td>\n",
       "                        <td id=\"T_8f981_row1_col2\" class=\"data row1 col2\" >0.00</td>\n",
       "                        <td id=\"T_8f981_row1_col3\" class=\"data row1 col3\" >1.00</td>\n",
       "                        <td id=\"T_8f981_row1_col4\" class=\"data row1 col4\" >0.98</td>\n",
       "            </tr>\n",
       "            <tr>\n",
       "                        <th id=\"T_8f981_level0_row2\" class=\"row_heading level0 row2\" >partner</th>\n",
       "                        <td id=\"T_8f981_row2_col0\" class=\"data row2 col0\" >0.78</td>\n",
       "                        <td id=\"T_8f981_row2_col1\" class=\"data row2 col1\" >0.47</td>\n",
       "                        <td id=\"T_8f981_row2_col2\" class=\"data row2 col2\" >0.46</td>\n",
       "                        <td id=\"T_8f981_row2_col3\" class=\"data row2 col3\" >0.35</td>\n",
       "                        <td id=\"T_8f981_row2_col4\" class=\"data row2 col4\" >0.36</td>\n",
       "            </tr>\n",
       "            <tr>\n",
       "                        <th id=\"T_8f981_level0_row3\" class=\"row_heading level0 row3\" >promo_friends</th>\n",
       "                        <td id=\"T_8f981_row3_col0\" class=\"data row3 col0\" >0.57</td>\n",
       "                        <td id=\"T_8f981_row3_col1\" class=\"data row3 col1\" >0.31</td>\n",
       "                        <td id=\"T_8f981_row3_col2\" class=\"data row3 col2\" >0.08</td>\n",
       "                        <td id=\"T_8f981_row3_col3\" class=\"data row3 col3\" >0.24</td>\n",
       "                        <td id=\"T_8f981_row3_col4\" class=\"data row3 col4\" >0.23</td>\n",
       "            </tr>\n",
       "            <tr>\n",
       "                        <th id=\"T_8f981_level0_row4\" class=\"row_heading level0 row4\" >phone</th>\n",
       "                        <td id=\"T_8f981_row4_col0\" class=\"data row4 col0\" >1.00</td>\n",
       "                        <td id=\"T_8f981_row4_col1\" class=\"data row4 col1\" >0.00</td>\n",
       "                        <td id=\"T_8f981_row4_col2\" class=\"data row4 col2\" >1.00</td>\n",
       "                        <td id=\"T_8f981_row4_col3\" class=\"data row4 col3\" >1.00</td>\n",
       "                        <td id=\"T_8f981_row4_col4\" class=\"data row4 col4\" >1.00</td>\n",
       "            </tr>\n",
       "            <tr>\n",
       "                        <th id=\"T_8f981_level0_row5\" class=\"row_heading level0 row5\" >contract_period</th>\n",
       "                        <td id=\"T_8f981_row5_col0\" class=\"data row5 col0\" >10.89</td>\n",
       "                        <td id=\"T_8f981_row5_col1\" class=\"data row5 col1\" >4.79</td>\n",
       "                        <td id=\"T_8f981_row5_col2\" class=\"data row5 col2\" >2.35</td>\n",
       "                        <td id=\"T_8f981_row5_col3\" class=\"data row5 col3\" >1.95</td>\n",
       "                        <td id=\"T_8f981_row5_col4\" class=\"data row5 col4\" >2.67</td>\n",
       "            </tr>\n",
       "            <tr>\n",
       "                        <th id=\"T_8f981_level0_row6\" class=\"row_heading level0 row6\" >group_visits</th>\n",
       "                        <td id=\"T_8f981_row6_col0\" class=\"data row6 col0\" >0.54</td>\n",
       "                        <td id=\"T_8f981_row6_col1\" class=\"data row6 col1\" >0.43</td>\n",
       "                        <td id=\"T_8f981_row6_col2\" class=\"data row6 col2\" >0.22</td>\n",
       "                        <td id=\"T_8f981_row6_col3\" class=\"data row6 col3\" >0.34</td>\n",
       "                        <td id=\"T_8f981_row6_col4\" class=\"data row6 col4\" >0.47</td>\n",
       "            </tr>\n",
       "            <tr>\n",
       "                        <th id=\"T_8f981_level0_row7\" class=\"row_heading level0 row7\" >age</th>\n",
       "                        <td id=\"T_8f981_row7_col0\" class=\"data row7 col0\" >29.98</td>\n",
       "                        <td id=\"T_8f981_row7_col1\" class=\"data row7 col1\" >29.30</td>\n",
       "                        <td id=\"T_8f981_row7_col2\" class=\"data row7 col2\" >28.48</td>\n",
       "                        <td id=\"T_8f981_row7_col3\" class=\"data row7 col3\" >28.17</td>\n",
       "                        <td id=\"T_8f981_row7_col4\" class=\"data row7 col4\" >30.13</td>\n",
       "            </tr>\n",
       "            <tr>\n",
       "                        <th id=\"T_8f981_level0_row8\" class=\"row_heading level0 row8\" >avg_additional_charges_total</th>\n",
       "                        <td id=\"T_8f981_row8_col0\" class=\"data row8 col0\" >160.76</td>\n",
       "                        <td id=\"T_8f981_row8_col1\" class=\"data row8 col1\" >143.96</td>\n",
       "                        <td id=\"T_8f981_row8_col2\" class=\"data row8 col2\" >135.46</td>\n",
       "                        <td id=\"T_8f981_row8_col3\" class=\"data row8 col3\" >131.62</td>\n",
       "                        <td id=\"T_8f981_row8_col4\" class=\"data row8 col4\" >161.66</td>\n",
       "            </tr>\n",
       "            <tr>\n",
       "                        <th id=\"T_8f981_level0_row9\" class=\"row_heading level0 row9\" >month_to_end_contract</th>\n",
       "                        <td id=\"T_8f981_row9_col0\" class=\"data row9 col0\" >9.95</td>\n",
       "                        <td id=\"T_8f981_row9_col1\" class=\"data row9 col1\" >4.48</td>\n",
       "                        <td id=\"T_8f981_row9_col2\" class=\"data row9 col2\" >2.20</td>\n",
       "                        <td id=\"T_8f981_row9_col3\" class=\"data row9 col3\" >1.86</td>\n",
       "                        <td id=\"T_8f981_row9_col4\" class=\"data row9 col4\" >2.46</td>\n",
       "            </tr>\n",
       "            <tr>\n",
       "                        <th id=\"T_8f981_level0_row10\" class=\"row_heading level0 row10\" >lifetime</th>\n",
       "                        <td id=\"T_8f981_row10_col0\" class=\"data row10 col0\" >4.74</td>\n",
       "                        <td id=\"T_8f981_row10_col1\" class=\"data row10 col1\" >3.92</td>\n",
       "                        <td id=\"T_8f981_row10_col2\" class=\"data row10 col2\" >2.81</td>\n",
       "                        <td id=\"T_8f981_row10_col3\" class=\"data row10 col3\" >2.44</td>\n",
       "                        <td id=\"T_8f981_row10_col4\" class=\"data row10 col4\" >4.90</td>\n",
       "            </tr>\n",
       "            <tr>\n",
       "                        <th id=\"T_8f981_level0_row11\" class=\"row_heading level0 row11\" >avg_class_frequency_total</th>\n",
       "                        <td id=\"T_8f981_row11_col0\" class=\"data row11 col0\" >1.98</td>\n",
       "                        <td id=\"T_8f981_row11_col1\" class=\"data row11 col1\" >1.85</td>\n",
       "                        <td id=\"T_8f981_row11_col2\" class=\"data row11 col2\" >1.66</td>\n",
       "                        <td id=\"T_8f981_row11_col3\" class=\"data row11 col3\" >1.25</td>\n",
       "                        <td id=\"T_8f981_row11_col4\" class=\"data row11 col4\" >2.85</td>\n",
       "            </tr>\n",
       "            <tr>\n",
       "                        <th id=\"T_8f981_level0_row12\" class=\"row_heading level0 row12\" >avg_class_frequency_current_month</th>\n",
       "                        <td id=\"T_8f981_row12_col0\" class=\"data row12 col0\" >1.97</td>\n",
       "                        <td id=\"T_8f981_row12_col1\" class=\"data row12 col1\" >1.72</td>\n",
       "                        <td id=\"T_8f981_row12_col2\" class=\"data row12 col2\" >1.48</td>\n",
       "                        <td id=\"T_8f981_row12_col3\" class=\"data row12 col3\" >1.01</td>\n",
       "                        <td id=\"T_8f981_row12_col4\" class=\"data row12 col4\" >2.85</td>\n",
       "            </tr>\n",
       "            <tr>\n",
       "                        <th id=\"T_8f981_level0_row13\" class=\"row_heading level0 row13\" >churn</th>\n",
       "                        <td id=\"T_8f981_row13_col0\" class=\"data row13 col0\" >0.03</td>\n",
       "                        <td id=\"T_8f981_row13_col1\" class=\"data row13 col1\" >0.27</td>\n",
       "                        <td id=\"T_8f981_row13_col2\" class=\"data row13 col2\" >0.44</td>\n",
       "                        <td id=\"T_8f981_row13_col3\" class=\"data row13 col3\" >0.51</td>\n",
       "                        <td id=\"T_8f981_row13_col4\" class=\"data row13 col4\" >0.07</td>\n",
       "            </tr>\n",
       "    </tbody></table>"
      ],
      "text/plain": [
       "<pandas.io.formats.style.Styler at 0x7f8ada87adf0>"
      ]
     },
     "execution_count": 46,
     "metadata": {},
     "output_type": "execute_result"
    }
   ],
   "source": [
    "cluster_features = df.groupby('cluster').mean().T\n",
    "cluster_features.style.format('{:.2f}') \\\n",
    "                      .highlight_max(color='hotpink', axis=1) \\\n",
    "                      .highlight_min(color='skyblue', axis=1)"
   ]
  },
  {
   "cell_type": "markdown",
   "metadata": {},
   "source": [
    "<b>Кластер 0</b>, клиентов - 1010  \n",
    "Cамые высокие параметры:  \n",
    "-partner  \n",
    "-promo_friends  \n",
    "-contract_period  \n",
    "-group_visits  \n",
    "-month_to_end_contract  \n",
    "\n",
    "Самый низкий параметр:  \n",
    "-churn\n",
    "\n",
    "<b>Кластер 1</b>, клиентов - 385  \n",
    "Самый низкий параметр:  \n",
    "-phone\n",
    "\n",
    "<b>Кластер 2</b>, клиентов - 505  \n",
    "Cамые низкие параметры:  \n",
    "-near_location  \n",
    "-promo_friends  \n",
    "-group_visits  \n",
    "\n",
    "<b>Кластер 3</b>, клиентов - 1262   \n",
    "Cамые высокие параметры:  \n",
    "-near_location  \n",
    "-churn  \n",
    "\n",
    "Cамые низкие параметры:  \n",
    "-partner  \n",
    "-contract_period  \n",
    "-month_to_end_contract\t\n",
    "-lifetime  \n",
    "-avg_class_frequency_total  \n",
    "-avg_class_frequency_current_month\n",
    "\n",
    "<b>Кластер 4</b>, клиентов - 838  \n",
    "Cамые высокие параметры:  \n",
    "-gender  \n",
    "-age  \n",
    "-avg_additional_charges_total  \n",
    "-lifetime  \n",
    "-avg_class_frequency_total  \n",
    "-avg_class_frequency_current_month"
   ]
  },
  {
   "cell_type": "markdown",
   "metadata": {},
   "source": [
    "* Доля оттока в 0-ом и 4-ом кластере самая низкая, также в этих кластерах самые высокие параметры: lifetime, avg_additional_charges_total, group_visits;\n",
    "* Доля оттока во 2-ом и 3-ем кластере самая высокая, а параметры: lifetime, avg_additional_charges_total, contract_period, month_to_end_contract, avg_class_frequency_total, avg_class_frequency_current_month и age самые низкие;\n",
    "* Клиенты 1-го кластера не оставляют свой телефон, зато остальные параметры сопоставимые со средними параметрами всего датасета, при этом численная доля кластера меньше 10%;\n",
    "* Размер 0-ого и 4-го кластера в сумме сопоставим с суммой размеров 2-ого и 3-его и составляет примерно 45%"
   ]
  },
  {
   "cell_type": "markdown",
   "metadata": {},
   "source": [
    "#### Изучение распределения признаков для кластеров"
   ]
  },
  {
   "cell_type": "markdown",
   "metadata": {},
   "source": [
    "Построим гистограммы для категориальных параметров"
   ]
  },
  {
   "cell_type": "code",
   "execution_count": 47,
   "metadata": {},
   "outputs": [
    {
     "data": {
      "image/png": "[encoded data removed]",
      "text/plain": [
       "<Figure size 1440x1080 with 7 Axes>"
      ]
     },
     "metadata": {
      "needs_background": "light"
     },
     "output_type": "display_data"
    }
   ],
   "source": [
    "list_cat = ['gender', 'near_location', 'partner', 'promo_friends', 'phone', 'group_visits', 'contract_period']\n",
    "ncols = 3\n",
    "nrows = len(list_cat) // ncols + (len(list_cat) % ncols > 0)\n",
    "plt.figure(figsize=(20, 15))\n",
    "plt.subplots_adjust(hspace=0.2)\n",
    "plt.suptitle(\"Гистограммы для категориальных параметров\", fontsize=20, y=.93)\n",
    "for n, column in enumerate(list_cat):\n",
    "    ax = plt.subplot(nrows, ncols, n + 1)\n",
    "    sns.countplot(x = column, data=df, hue='cluster')\n",
    "    plt.title('Столбец ' + column, fontsize=14)\n",
    "    plt.legend(fontsize=10)\n",
    "    plt.xticks(fontsize=10)\n",
    "    plt.yticks(fontsize=10)\n",
    "    plt.xlabel('',fontsize=12)\n",
    "    plt.ylabel('Количество клиентов', fontsize=12);"
   ]
  },
  {
   "cell_type": "markdown",
   "metadata": {},
   "source": [
    "* gender - в 4-ом кластере количество мужчин отличается от количества женщин на 12%;\n",
    "* near_location - во 2-ом кластере все клиенты ездят в фитнес-центр \"далеко\", а в 3-ем наоборот все живут или работают рядом с фитнесом;\n",
    "* partner - в 0-ом кластере 78% клиентов воспользовались \"партнерской\" программой, в 3-ем и 4-ом таких больше чем в 2 раза меньше - 35% и 36% соответственно;\n",
    "* promo_friends - в 0-ом кластере 57% пользователей пришли по \"совету друзей\", в 3-ем кластере таких только 8%;\n",
    "* phone - в 1-ом кластере никто не оставил свой телефон, во всех остальных кластерах телефон указывают все;\n",
    "* group_visits - в 0-ом кластере 54% посетителей ходят на групповые занятия, во 2-ом таких только 22%;\n",
    "* contract_period - в 0-м кластере почти у всех годовой абонемент, в 3-ем кластере преимущественно одномесячные;\n",
    "* churn - 3%-ый отток из первого кластера - \"это фантастика\", 51%-ый отток из 3-его приговор для финансовой стабильности фитнес-центра"
   ]
  },
  {
   "cell_type": "markdown",
   "metadata": {},
   "source": [
    "Диаграммы размаха для числовых параметров"
   ]
  },
  {
   "cell_type": "code",
   "execution_count": 48,
   "metadata": {},
   "outputs": [
    {
     "data": {
      "image/png": "[encoded data removed]",
      "text/plain": [
       "<Figure size 1440x1080 with 6 Axes>"
      ]
     },
     "metadata": {
      "needs_background": "light"
     },
     "output_type": "display_data"
    }
   ],
   "source": [
    "list_num = ['age', 'avg_additional_charges_total', 'month_to_end_contract', 'lifetime', 'avg_class_frequency_total', 'avg_class_frequency_current_month']\n",
    "ncols = 3\n",
    "nrows = len(list_num) // ncols + (len(list_num) % ncols > 0)\n",
    "plt.figure(figsize=(20, 15))\n",
    "plt.subplots_adjust(hspace=0.2)\n",
    "plt.suptitle(\"Диаграммы размаха для числовых параметров\", fontsize=20, y=.93)\n",
    "for n, column in enumerate(list_num):\n",
    "    ax = plt.subplot(nrows, ncols, n + 1)\n",
    "    sns.boxplot(x = 'cluster', y = column, data=df)\n",
    "    plt.title(column, fontsize=15)\n",
    "    plt.xticks(fontsize=10)\n",
    "    plt.yticks(fontsize=10)\n",
    "    plt.xlabel('Номер кластера', fontsize=12)\n",
    "    plt.ylabel('', fontsize=12);"
   ]
  },
  {
   "cell_type": "markdown",
   "metadata": {},
   "source": [
    "* age - разница между максимальным (кластер 4) и минимальным (кластер 3) средним возрастом меньше 2-х лет;\n",
    "* avg_additional_charges_total - в 4-ом и 0-ом кластере средний доход от допов 162 и 161, во 2-м и 3-ем кластерах 135 и 132 соответственно;\n",
    "* month_to_end_contract - в 0-ом кластере у клиентов в среднем 10 месяцев до конца абонемента, в 3-ем меньше 2-х месяцев;\n",
    "* lifetime - лучший кластер по этому показателю 4-ый (4.9 месяца), 3-ий кластер в 2 раза хуже (2.44 месяца);\n",
    "* avg_class_frequency_total - клиенты из 4-ого кластера ходят в клуб почти 3 раза в неделю, а клиенты из 3-го чуть больше одного раза;\n",
    "* avg_class_frequency_current_month - в предыдущем месяце посещаемость фитнеса у пользователей из 4-го кластера осталась равной средней - почти 3 раза в неделю, а у пользователей из 3-его упала еще - до 1-го раза в неделю"
   ]
  },
  {
   "cell_type": "markdown",
   "metadata": {},
   "source": [
    "#### Доля оттока для каждого кластера"
   ]
  },
  {
   "cell_type": "code",
   "execution_count": 49,
   "metadata": {},
   "outputs": [
    {
     "data": {
      "text/html": [
       "<div>\n",
       "<style scoped>\n",
       "    .dataframe tbody tr th:only-of-type {\n",
       "        vertical-align: middle;\n",
       "    }\n",
       "\n",
       "    .dataframe tbody tr th {\n",
       "        vertical-align: top;\n",
       "    }\n",
       "\n",
       "    .dataframe thead th {\n",
       "        text-align: right;\n",
       "    }\n",
       "</style>\n",
       "<table border=\"1\" class=\"dataframe\">\n",
       "  <thead>\n",
       "    <tr style=\"text-align: right;\">\n",
       "      <th></th>\n",
       "      <th>churn</th>\n",
       "      <th>gender</th>\n",
       "    </tr>\n",
       "    <tr>\n",
       "      <th>cluster</th>\n",
       "      <th></th>\n",
       "      <th></th>\n",
       "    </tr>\n",
       "  </thead>\n",
       "  <tbody>\n",
       "    <tr>\n",
       "      <th>0</th>\n",
       "      <td>0.03</td>\n",
       "      <td>1010</td>\n",
       "    </tr>\n",
       "    <tr>\n",
       "      <th>4</th>\n",
       "      <td>0.07</td>\n",
       "      <td>838</td>\n",
       "    </tr>\n",
       "    <tr>\n",
       "      <th>1</th>\n",
       "      <td>0.27</td>\n",
       "      <td>385</td>\n",
       "    </tr>\n",
       "    <tr>\n",
       "      <th>2</th>\n",
       "      <td>0.44</td>\n",
       "      <td>505</td>\n",
       "    </tr>\n",
       "    <tr>\n",
       "      <th>3</th>\n",
       "      <td>0.51</td>\n",
       "      <td>1262</td>\n",
       "    </tr>\n",
       "  </tbody>\n",
       "</table>\n",
       "</div>"
      ],
      "text/plain": [
       "         churn  gender\n",
       "cluster               \n",
       "0         0.03    1010\n",
       "4         0.07     838\n",
       "1         0.27     385\n",
       "2         0.44     505\n",
       "3         0.51    1262"
      ]
     },
     "execution_count": 49,
     "metadata": {},
     "output_type": "execute_result"
    }
   ],
   "source": [
    "df.groupby('cluster').agg({'churn':'mean', 'gender':'count'}).sort_values(by='churn')"
   ]
  },
  {
   "cell_type": "markdown",
   "metadata": {},
   "source": [
    "#### Вывод"
   ]
  },
  {
   "cell_type": "markdown",
   "metadata": {},
   "source": [
    "* 0-ой и 4-ый кластеры почти не имеют оттока клиентов - 3% и 7% соответственно, показатели оттока ниже среднего значения всего датасета (27%) более чем в 4 раза; 2-ой и особенно 3-ий кластеры теряют каждого второго клиента;\n",
    "* 46%, от общего количества, сумарная численность 0-го и 4-го кластеров; 2-ой и 3-ий кластеры в сумме дают 44% от общего количества;\n",
    "* Численность 1-ого кластера самая маленькая - 10% от общего, в этот кластер вошли все те, кто не указал свой телефон;\n",
    "* 3-ий кластер самый многочисленный (1262 человека), в него входят только те клиенты, которые живут или работают рядом с фитнес-центром, при этом у него худший отток - 51%;\n",
    "* В 0-ом кластере большинство клиентов воспользовались промоакциями, почти у всех максимальные годовые абонементы, больше половины (54%) посещали групповые занятия, как результат лучший показатель оттока - всего 3%;\n",
    "* В 4-ом кластере количество клиентов использовавших какое либо промо меньше чем в среднем по базе (36% и 23% против средних 49% и 31%), у большинства короткие месячные абонементы, но при этом средняя посещаемость клуба (и общая и за последний месяц) самая высокая - почти 3 раза в неделю, как результат - отток почти отсутствует, всего 7%;\n",
    "* Еще одна особенность 4-го кластера - 12%-ая гендерная разница, при этом на протяжении всего исследования влияние пола на отток не прослеживалось"
   ]
  },
  {
   "cell_type": "markdown",
   "metadata": {},
   "source": [
    "### Общий вывод "
   ]
  },
  {
   "cell_type": "markdown",
   "metadata": {},
   "source": [
    "* В датасете 4000 строк, данные проверены на пропуски и дубликаты, где необходимо измененны типы данных, наименования столбцов приведены к нижнему регистру;\n",
    "* Рассчитаны общие средние значения параметров, средние значения параметров в двух группах (те кто остался и отток), а также матрица корреляций Пирсона; полученные данные визуализированны;\n",
    "* Построенна модель прогнозирования, модель обучали методами \"логистическая регрессия\" и \"случайный лес\", лучшие результаты показала \"логитическая регрессия\";\n",
    "* Выполнена стандартизация датасета, построена и визуализированна дендрограмма; алгоритмом K-Means данные разделены на 5-ть кластеров, подсчитана доля оттока в каждом кластере, на основании средних парметров составлен \"портрет\" пользователя и их уникальные отличия в каждом кластере"
   ]
  },
  {
   "cell_type": "markdown",
   "metadata": {},
   "source": [
    "#### Базовые рекомендации по работе с клиентами"
   ]
  },
  {
   "cell_type": "markdown",
   "metadata": {},
   "source": [
    "Посетителей фитнес-клубов, которые не уходят в отток, можно поделить на 2 широкие условные категории \"любители\" и \"спортсмены\". К \"любителям\" можно отнести тех, кто ходит 2 раза в неделю, купил абонемент \"по акции\" на год, любит посещать групповые занятия. \"Спортсменам\" промо-акции не столь интересны, длительных абонементов они не покупают, но посещают фитнес не менее 3-х раз в неделю. Особенности взаимодействия и удержания с обозначенными категориями разные:\n",
    "* \"Любителям\" - много скидок хороших разных; для какой-то части клиентов будет важна скидка сама по себе в виде снижения стоимости абонемента, а для кого-то покупка по \"промо\" важна как эмоциональная составляющая, даже если дисконт символический;\n",
    "* \"Любителям\" - вовлечение в групповые занятия, любыми \"законными\" путями, эта категория должна иметь приоритетную возможность посещать группы, например через выпуск специальной карты;\n",
    "* \"Спортсмены\" - эта категория ходит в фитнес затем, чтобы в первую очередь тренироваться, много и часто; для удержания внимание стоит обратить в первую очередь на чистоту в зале, проветриваемость, возможность заниматься с персональным тренером, на рабочее состояние тренажоров и их достаточное количество; к групповым занятиям эта категория клиентов тоже относится положительно;\n",
    "* Общий для всех \"маячок\" о скором уходе в отток - снижение числа посещений за последний месяц до <=1.5 раз в неделю, нужно постараться выяснить причину этого, например - \"позвонить и спросить\", и по возможности эту причину устранить"
   ]
  }
 ],
 "metadata": {
  "ExecuteTimeLog": [
   {
    "duration": 9,
    "start_time": "2022-08-27T08:30:11.062Z"
   },
   {
    "duration": 1389,
    "start_time": "2022-08-27T08:30:38.563Z"
   },
   {
    "duration": 135,
    "start_time": "2022-08-27T08:30:39.954Z"
   },
   {
    "duration": 23,
    "start_time": "2022-08-27T08:30:43.247Z"
   },
   {
    "duration": 14,
    "start_time": "2022-08-27T08:30:57.429Z"
   },
   {
    "duration": 51,
    "start_time": "2022-08-31T09:06:48.674Z"
   },
   {
    "duration": 1519,
    "start_time": "2022-08-31T09:06:56.459Z"
   },
   {
    "duration": 78,
    "start_time": "2022-08-31T09:06:57.981Z"
   },
   {
    "duration": 14,
    "start_time": "2022-08-31T09:06:58.061Z"
   },
   {
    "duration": 17,
    "start_time": "2022-08-31T09:06:58.077Z"
   },
   {
    "duration": 2,
    "start_time": "2022-08-31T09:10:12.133Z"
   },
   {
    "duration": 1142,
    "start_time": "2022-08-31T09:10:18.934Z"
   },
   {
    "duration": 3,
    "start_time": "2022-08-31T09:10:20.078Z"
   },
   {
    "duration": 50,
    "start_time": "2022-08-31T09:10:20.083Z"
   },
   {
    "duration": 13,
    "start_time": "2022-08-31T09:10:20.134Z"
   },
   {
    "duration": 17,
    "start_time": "2022-08-31T09:10:20.149Z"
   },
   {
    "duration": 1131,
    "start_time": "2022-08-31T09:10:51.949Z"
   },
   {
    "duration": 3,
    "start_time": "2022-08-31T09:10:53.082Z"
   },
   {
    "duration": 41,
    "start_time": "2022-08-31T09:10:53.087Z"
   },
   {
    "duration": 13,
    "start_time": "2022-08-31T09:10:53.130Z"
   },
   {
    "duration": 16,
    "start_time": "2022-08-31T09:10:53.145Z"
   },
   {
    "duration": 2,
    "start_time": "2022-08-31T09:15:32.748Z"
   },
   {
    "duration": 5,
    "start_time": "2022-08-31T09:18:11.261Z"
   },
   {
    "duration": 7,
    "start_time": "2022-08-31T09:20:15.127Z"
   },
   {
    "duration": 5,
    "start_time": "2022-08-31T09:21:26.512Z"
   },
   {
    "duration": 6,
    "start_time": "2022-08-31T09:26:10.902Z"
   },
   {
    "duration": 5,
    "start_time": "2022-08-31T09:27:58.669Z"
   },
   {
    "duration": 5,
    "start_time": "2022-08-31T09:28:20.785Z"
   },
   {
    "duration": 6,
    "start_time": "2022-08-31T09:28:47.063Z"
   },
   {
    "duration": 5,
    "start_time": "2022-08-31T09:29:11.993Z"
   },
   {
    "duration": 112,
    "start_time": "2022-08-31T09:29:39.552Z"
   },
   {
    "duration": 5,
    "start_time": "2022-08-31T09:30:01.584Z"
   },
   {
    "duration": 6,
    "start_time": "2022-08-31T09:30:57.978Z"
   },
   {
    "duration": 5,
    "start_time": "2022-08-31T09:32:21.649Z"
   },
   {
    "duration": 6,
    "start_time": "2022-08-31T09:34:06.387Z"
   },
   {
    "duration": 10,
    "start_time": "2022-08-31T09:35:23.855Z"
   },
   {
    "duration": 6,
    "start_time": "2022-08-31T09:36:58.147Z"
   },
   {
    "duration": 4,
    "start_time": "2022-08-31T09:40:13.125Z"
   },
   {
    "duration": 6,
    "start_time": "2022-08-31T09:40:26.090Z"
   },
   {
    "duration": 2,
    "start_time": "2022-08-31T09:44:04.558Z"
   },
   {
    "duration": 5,
    "start_time": "2022-08-31T09:44:29.329Z"
   },
   {
    "duration": 9,
    "start_time": "2022-08-31T09:46:51.867Z"
   },
   {
    "duration": 8,
    "start_time": "2022-08-31T09:47:03.464Z"
   },
   {
    "duration": 9,
    "start_time": "2022-08-31T09:47:21.769Z"
   },
   {
    "duration": 10,
    "start_time": "2022-08-31T09:49:18.857Z"
   },
   {
    "duration": 1230,
    "start_time": "2022-08-31T09:55:08.904Z"
   },
   {
    "duration": 3,
    "start_time": "2022-08-31T09:55:10.136Z"
   },
   {
    "duration": 39,
    "start_time": "2022-08-31T09:55:10.141Z"
   },
   {
    "duration": 12,
    "start_time": "2022-08-31T09:55:10.182Z"
   },
   {
    "duration": 32,
    "start_time": "2022-08-31T09:55:10.196Z"
   },
   {
    "duration": 5,
    "start_time": "2022-08-31T09:55:10.230Z"
   },
   {
    "duration": 11,
    "start_time": "2022-08-31T09:55:10.237Z"
   },
   {
    "duration": 7,
    "start_time": "2022-08-31T09:55:10.250Z"
   },
   {
    "duration": 7,
    "start_time": "2022-08-31T09:55:10.259Z"
   },
   {
    "duration": 11,
    "start_time": "2022-08-31T09:55:10.270Z"
   },
   {
    "duration": 23,
    "start_time": "2022-08-31T09:55:10.282Z"
   },
   {
    "duration": 11,
    "start_time": "2022-08-31T09:55:10.306Z"
   },
   {
    "duration": 10,
    "start_time": "2022-08-31T09:55:10.319Z"
   },
   {
    "duration": 12,
    "start_time": "2022-08-31T09:55:10.330Z"
   },
   {
    "duration": 12,
    "start_time": "2022-08-31T09:55:10.344Z"
   },
   {
    "duration": 14,
    "start_time": "2022-08-31T09:55:10.357Z"
   },
   {
    "duration": 9,
    "start_time": "2022-08-31T09:55:10.373Z"
   },
   {
    "duration": 11,
    "start_time": "2022-08-31T09:55:10.404Z"
   },
   {
    "duration": 6,
    "start_time": "2022-08-31T09:55:10.417Z"
   },
   {
    "duration": 20,
    "start_time": "2022-08-31T09:55:10.425Z"
   },
   {
    "duration": 6,
    "start_time": "2022-08-31T09:55:10.447Z"
   },
   {
    "duration": 13,
    "start_time": "2022-08-31T09:55:10.455Z"
   },
   {
    "duration": 72,
    "start_time": "2022-08-31T09:59:13.446Z"
   },
   {
    "duration": 42,
    "start_time": "2022-08-31T10:01:32.491Z"
   },
   {
    "duration": 50,
    "start_time": "2022-08-31T10:46:09.172Z"
   },
   {
    "duration": 12,
    "start_time": "2022-08-31T11:07:10.543Z"
   },
   {
    "duration": 43,
    "start_time": "2022-08-31T15:34:51.761Z"
   },
   {
    "duration": 1253,
    "start_time": "2022-08-31T15:34:58.504Z"
   },
   {
    "duration": 4,
    "start_time": "2022-08-31T15:34:59.759Z"
   },
   {
    "duration": 136,
    "start_time": "2022-08-31T15:34:59.764Z"
   },
   {
    "duration": 12,
    "start_time": "2022-08-31T15:34:59.902Z"
   },
   {
    "duration": 20,
    "start_time": "2022-08-31T15:34:59.915Z"
   },
   {
    "duration": 7,
    "start_time": "2022-08-31T15:34:59.936Z"
   },
   {
    "duration": 19,
    "start_time": "2022-08-31T15:34:59.945Z"
   },
   {
    "duration": 17,
    "start_time": "2022-08-31T15:34:59.965Z"
   },
   {
    "duration": 21,
    "start_time": "2022-08-31T15:34:59.984Z"
   },
   {
    "duration": 28,
    "start_time": "2022-08-31T15:35:00.008Z"
   },
   {
    "duration": 35,
    "start_time": "2022-08-31T15:35:00.037Z"
   },
   {
    "duration": 33,
    "start_time": "2022-08-31T15:35:00.074Z"
   },
   {
    "duration": 40,
    "start_time": "2022-08-31T15:35:00.108Z"
   },
   {
    "duration": 21,
    "start_time": "2022-08-31T15:35:00.150Z"
   },
   {
    "duration": 29,
    "start_time": "2022-08-31T15:35:00.172Z"
   },
   {
    "duration": 41,
    "start_time": "2022-08-31T15:35:00.202Z"
   },
   {
    "duration": 22,
    "start_time": "2022-08-31T15:35:00.244Z"
   },
   {
    "duration": 36,
    "start_time": "2022-08-31T15:35:00.267Z"
   },
   {
    "duration": 25,
    "start_time": "2022-08-31T15:35:00.304Z"
   },
   {
    "duration": 17,
    "start_time": "2022-08-31T15:35:00.330Z"
   },
   {
    "duration": 18,
    "start_time": "2022-08-31T15:35:00.348Z"
   },
   {
    "duration": 18,
    "start_time": "2022-08-31T15:35:00.368Z"
   },
   {
    "duration": 39,
    "start_time": "2022-08-31T15:35:00.388Z"
   },
   {
    "duration": 10,
    "start_time": "2022-08-31T15:35:00.429Z"
   },
   {
    "duration": 11,
    "start_time": "2022-08-31T15:37:13.500Z"
   },
   {
    "duration": 2434,
    "start_time": "2022-08-31T16:19:10.975Z"
   },
   {
    "duration": 1599,
    "start_time": "2022-08-31T16:20:34.240Z"
   },
   {
    "duration": 229,
    "start_time": "2022-08-31T16:20:50.265Z"
   },
   {
    "duration": 777,
    "start_time": "2022-08-31T16:28:26.744Z"
   },
   {
    "duration": 1198,
    "start_time": "2022-08-31T17:16:24.733Z"
   },
   {
    "duration": 194,
    "start_time": "2022-08-31T17:17:59.528Z"
   },
   {
    "duration": 1268,
    "start_time": "2022-08-31T17:18:23.428Z"
   },
   {
    "duration": 1187,
    "start_time": "2022-08-31T17:18:57.225Z"
   },
   {
    "duration": 1146,
    "start_time": "2022-08-31T17:22:25.503Z"
   },
   {
    "duration": 1189,
    "start_time": "2022-08-31T17:22:37.420Z"
   },
   {
    "duration": 1119,
    "start_time": "2022-08-31T17:23:33.640Z"
   },
   {
    "duration": 970,
    "start_time": "2022-08-31T17:25:04.299Z"
   },
   {
    "duration": 916,
    "start_time": "2022-08-31T17:25:22.144Z"
   },
   {
    "duration": 920,
    "start_time": "2022-08-31T17:25:51.745Z"
   },
   {
    "duration": 1070,
    "start_time": "2022-08-31T17:26:06.290Z"
   },
   {
    "duration": 1112,
    "start_time": "2022-08-31T17:27:21.564Z"
   },
   {
    "duration": 188,
    "start_time": "2022-08-31T17:28:37.880Z"
   },
   {
    "duration": 1153,
    "start_time": "2022-08-31T17:28:53.944Z"
   },
   {
    "duration": 1029,
    "start_time": "2022-08-31T17:29:23.887Z"
   },
   {
    "duration": 941,
    "start_time": "2022-08-31T17:30:26.724Z"
   },
   {
    "duration": 1054,
    "start_time": "2022-08-31T17:31:14.417Z"
   },
   {
    "duration": 927,
    "start_time": "2022-08-31T17:31:31.742Z"
   },
   {
    "duration": 195,
    "start_time": "2022-08-31T17:36:48.102Z"
   },
   {
    "duration": 2251,
    "start_time": "2022-08-31T18:51:15.196Z"
   },
   {
    "duration": 273,
    "start_time": "2022-08-31T18:52:07.463Z"
   },
   {
    "duration": 433,
    "start_time": "2022-08-31T18:54:31.406Z"
   },
   {
    "duration": 440,
    "start_time": "2022-08-31T18:54:54.169Z"
   },
   {
    "duration": 1068,
    "start_time": "2022-08-31T18:56:47.900Z"
   },
   {
    "duration": 735,
    "start_time": "2022-08-31T18:58:21.045Z"
   },
   {
    "duration": 1026,
    "start_time": "2022-08-31T19:03:07.630Z"
   },
   {
    "duration": 1091,
    "start_time": "2022-08-31T19:03:13.691Z"
   },
   {
    "duration": 812,
    "start_time": "2022-08-31T19:03:19.026Z"
   },
   {
    "duration": 943,
    "start_time": "2022-08-31T19:04:59.733Z"
   },
   {
    "duration": 936,
    "start_time": "2022-08-31T19:05:30.687Z"
   },
   {
    "duration": 137,
    "start_time": "2022-08-31T19:05:47.134Z"
   },
   {
    "duration": 948,
    "start_time": "2022-08-31T19:05:59.186Z"
   },
   {
    "duration": 910,
    "start_time": "2022-08-31T19:08:32.620Z"
   },
   {
    "duration": 1100,
    "start_time": "2022-08-31T19:08:39.756Z"
   },
   {
    "duration": 878,
    "start_time": "2022-08-31T19:08:50.142Z"
   },
   {
    "duration": 856,
    "start_time": "2022-08-31T19:09:07.677Z"
   },
   {
    "duration": 160,
    "start_time": "2022-08-31T19:11:22.902Z"
   },
   {
    "duration": 171,
    "start_time": "2022-08-31T19:13:10.399Z"
   },
   {
    "duration": 132,
    "start_time": "2022-08-31T19:13:31.046Z"
   },
   {
    "duration": 1024,
    "start_time": "2022-08-31T19:13:44.435Z"
   },
   {
    "duration": 884,
    "start_time": "2022-08-31T19:24:08.304Z"
   },
   {
    "duration": 144,
    "start_time": "2022-08-31T19:25:02.967Z"
   },
   {
    "duration": 182,
    "start_time": "2022-08-31T19:25:58.399Z"
   },
   {
    "duration": 781,
    "start_time": "2022-08-31T19:26:29.084Z"
   },
   {
    "duration": 13,
    "start_time": "2022-08-31T19:32:03.439Z"
   },
   {
    "duration": 1511,
    "start_time": "2022-08-31T19:32:14.574Z"
   },
   {
    "duration": 1309,
    "start_time": "2022-08-31T19:32:32.156Z"
   },
   {
    "duration": 1485,
    "start_time": "2022-08-31T19:32:39.446Z"
   },
   {
    "duration": 1508,
    "start_time": "2022-08-31T19:33:16.684Z"
   },
   {
    "duration": 1401,
    "start_time": "2022-08-31T19:33:28.976Z"
   },
   {
    "duration": 1569,
    "start_time": "2022-08-31T19:35:55.817Z"
   },
   {
    "duration": 1380,
    "start_time": "2022-08-31T19:37:27.676Z"
   },
   {
    "duration": 1506,
    "start_time": "2022-08-31T19:37:41.358Z"
   },
   {
    "duration": 1370,
    "start_time": "2022-08-31T19:37:54.380Z"
   },
   {
    "duration": 1351,
    "start_time": "2022-08-31T19:38:08.736Z"
   },
   {
    "duration": 1396,
    "start_time": "2022-08-31T19:38:18.863Z"
   },
   {
    "duration": 1482,
    "start_time": "2022-08-31T19:38:29.187Z"
   },
   {
    "duration": 1072,
    "start_time": "2022-08-31T20:01:53.024Z"
   },
   {
    "duration": 2,
    "start_time": "2022-08-31T20:01:54.098Z"
   },
   {
    "duration": 79,
    "start_time": "2022-08-31T20:01:54.110Z"
   },
   {
    "duration": 14,
    "start_time": "2022-08-31T20:01:54.190Z"
   },
   {
    "duration": 18,
    "start_time": "2022-08-31T20:01:54.206Z"
   },
   {
    "duration": 18,
    "start_time": "2022-08-31T20:01:54.226Z"
   },
   {
    "duration": 13,
    "start_time": "2022-08-31T20:01:54.246Z"
   },
   {
    "duration": 13,
    "start_time": "2022-08-31T20:01:54.261Z"
   },
   {
    "duration": 17,
    "start_time": "2022-08-31T20:01:54.275Z"
   },
   {
    "duration": 18,
    "start_time": "2022-08-31T20:01:54.293Z"
   },
   {
    "duration": 20,
    "start_time": "2022-08-31T20:01:54.312Z"
   },
   {
    "duration": 20,
    "start_time": "2022-08-31T20:01:54.333Z"
   },
   {
    "duration": 8,
    "start_time": "2022-08-31T20:01:54.355Z"
   },
   {
    "duration": 9,
    "start_time": "2022-08-31T20:01:54.365Z"
   },
   {
    "duration": 17,
    "start_time": "2022-08-31T20:01:54.375Z"
   },
   {
    "duration": 24,
    "start_time": "2022-08-31T20:01:54.393Z"
   },
   {
    "duration": 24,
    "start_time": "2022-08-31T20:01:54.420Z"
   },
   {
    "duration": 7,
    "start_time": "2022-08-31T20:01:54.446Z"
   },
   {
    "duration": 9,
    "start_time": "2022-08-31T20:01:54.454Z"
   },
   {
    "duration": 20,
    "start_time": "2022-08-31T20:01:54.464Z"
   },
   {
    "duration": 8,
    "start_time": "2022-08-31T20:01:54.485Z"
   },
   {
    "duration": 19,
    "start_time": "2022-08-31T20:01:54.494Z"
   },
   {
    "duration": 63,
    "start_time": "2022-08-31T20:01:54.514Z"
   },
   {
    "duration": 12,
    "start_time": "2022-08-31T20:01:54.579Z"
   },
   {
    "duration": 1014,
    "start_time": "2022-08-31T20:01:54.592Z"
   },
   {
    "duration": 914,
    "start_time": "2022-08-31T20:01:55.609Z"
   },
   {
    "duration": 1624,
    "start_time": "2022-08-31T20:01:56.525Z"
   },
   {
    "duration": 48,
    "start_time": "2022-09-01T08:51:53.145Z"
   },
   {
    "duration": 1279,
    "start_time": "2022-09-01T08:52:12.360Z"
   },
   {
    "duration": 3,
    "start_time": "2022-09-01T08:52:13.641Z"
   },
   {
    "duration": 71,
    "start_time": "2022-09-01T08:52:13.646Z"
   },
   {
    "duration": 11,
    "start_time": "2022-09-01T08:52:13.719Z"
   },
   {
    "duration": 13,
    "start_time": "2022-09-01T08:52:13.732Z"
   },
   {
    "duration": 4,
    "start_time": "2022-09-01T08:52:13.747Z"
   },
   {
    "duration": 7,
    "start_time": "2022-09-01T08:52:13.753Z"
   },
   {
    "duration": 6,
    "start_time": "2022-09-01T08:52:13.761Z"
   },
   {
    "duration": 7,
    "start_time": "2022-09-01T08:52:13.769Z"
   },
   {
    "duration": 6,
    "start_time": "2022-09-01T08:52:13.779Z"
   },
   {
    "duration": 7,
    "start_time": "2022-09-01T08:52:13.786Z"
   },
   {
    "duration": 6,
    "start_time": "2022-09-01T08:52:13.794Z"
   },
   {
    "duration": 6,
    "start_time": "2022-09-01T08:52:13.802Z"
   },
   {
    "duration": 5,
    "start_time": "2022-09-01T08:52:13.810Z"
   },
   {
    "duration": 6,
    "start_time": "2022-09-01T08:52:13.817Z"
   },
   {
    "duration": 8,
    "start_time": "2022-09-01T08:52:13.857Z"
   },
   {
    "duration": 7,
    "start_time": "2022-09-01T08:52:13.867Z"
   },
   {
    "duration": 7,
    "start_time": "2022-09-01T08:52:13.876Z"
   },
   {
    "duration": 6,
    "start_time": "2022-09-01T08:52:13.885Z"
   },
   {
    "duration": 6,
    "start_time": "2022-09-01T08:52:13.893Z"
   },
   {
    "duration": 6,
    "start_time": "2022-09-01T08:52:13.901Z"
   },
   {
    "duration": 49,
    "start_time": "2022-09-01T08:52:13.909Z"
   },
   {
    "duration": 39,
    "start_time": "2022-09-01T08:52:13.960Z"
   },
   {
    "duration": 13,
    "start_time": "2022-09-01T08:52:14.000Z"
   },
   {
    "duration": 1034,
    "start_time": "2022-09-01T08:52:14.014Z"
   },
   {
    "duration": 907,
    "start_time": "2022-09-01T08:52:15.050Z"
   },
   {
    "duration": 1629,
    "start_time": "2022-09-01T08:52:15.959Z"
   },
   {
    "duration": 4,
    "start_time": "2022-09-01T08:52:17.591Z"
   },
   {
    "duration": 102,
    "start_time": "2022-09-01T08:53:05.735Z"
   },
   {
    "duration": 225,
    "start_time": "2022-09-01T08:53:35.874Z"
   },
   {
    "duration": 3,
    "start_time": "2022-09-01T08:53:42.211Z"
   },
   {
    "duration": 18,
    "start_time": "2022-09-01T08:53:42.216Z"
   },
   {
    "duration": 48,
    "start_time": "2022-09-01T08:53:42.235Z"
   },
   {
    "duration": 12,
    "start_time": "2022-09-01T08:53:42.285Z"
   },
   {
    "duration": 15,
    "start_time": "2022-09-01T08:53:42.300Z"
   },
   {
    "duration": 26,
    "start_time": "2022-09-01T08:53:42.317Z"
   },
   {
    "duration": 36,
    "start_time": "2022-09-01T08:53:42.345Z"
   },
   {
    "duration": 9,
    "start_time": "2022-09-01T08:53:42.383Z"
   },
   {
    "duration": 23,
    "start_time": "2022-09-01T08:53:42.394Z"
   },
   {
    "duration": 12,
    "start_time": "2022-09-01T08:53:42.419Z"
   },
   {
    "duration": 8,
    "start_time": "2022-09-01T08:53:42.433Z"
   },
   {
    "duration": 29,
    "start_time": "2022-09-01T08:53:42.442Z"
   },
   {
    "duration": 17,
    "start_time": "2022-09-01T08:53:42.474Z"
   },
   {
    "duration": 11,
    "start_time": "2022-09-01T08:53:42.493Z"
   },
   {
    "duration": 23,
    "start_time": "2022-09-01T08:53:42.506Z"
   },
   {
    "duration": 20,
    "start_time": "2022-09-01T08:53:42.531Z"
   },
   {
    "duration": 25,
    "start_time": "2022-09-01T08:53:42.553Z"
   },
   {
    "duration": 16,
    "start_time": "2022-09-01T08:53:42.579Z"
   },
   {
    "duration": 16,
    "start_time": "2022-09-01T08:53:42.596Z"
   },
   {
    "duration": 13,
    "start_time": "2022-09-01T08:53:42.614Z"
   },
   {
    "duration": 14,
    "start_time": "2022-09-01T08:53:42.629Z"
   },
   {
    "duration": 41,
    "start_time": "2022-09-01T08:53:42.644Z"
   },
   {
    "duration": 51,
    "start_time": "2022-09-01T08:53:42.687Z"
   },
   {
    "duration": 12,
    "start_time": "2022-09-01T08:53:42.739Z"
   },
   {
    "duration": 1049,
    "start_time": "2022-09-01T08:53:42.752Z"
   },
   {
    "duration": 875,
    "start_time": "2022-09-01T08:53:43.803Z"
   },
   {
    "duration": 1692,
    "start_time": "2022-09-01T08:53:44.680Z"
   },
   {
    "duration": 5,
    "start_time": "2022-09-01T08:53:46.373Z"
   },
   {
    "duration": 8,
    "start_time": "2022-09-01T08:53:46.380Z"
   },
   {
    "duration": 16,
    "start_time": "2022-09-01T09:01:54.738Z"
   },
   {
    "duration": 21,
    "start_time": "2022-09-01T09:02:24.502Z"
   },
   {
    "duration": 3,
    "start_time": "2022-09-01T09:02:24.525Z"
   },
   {
    "duration": 39,
    "start_time": "2022-09-01T09:02:24.529Z"
   },
   {
    "duration": 13,
    "start_time": "2022-09-01T09:02:24.570Z"
   },
   {
    "duration": 12,
    "start_time": "2022-09-01T09:02:24.585Z"
   },
   {
    "duration": 9,
    "start_time": "2022-09-01T09:02:24.598Z"
   },
   {
    "duration": 14,
    "start_time": "2022-09-01T09:02:24.609Z"
   },
   {
    "duration": 11,
    "start_time": "2022-09-01T09:02:24.624Z"
   },
   {
    "duration": 21,
    "start_time": "2022-09-01T09:02:24.636Z"
   },
   {
    "duration": 4,
    "start_time": "2022-09-01T09:02:24.660Z"
   },
   {
    "duration": 23,
    "start_time": "2022-09-01T09:02:24.666Z"
   },
   {
    "duration": 7,
    "start_time": "2022-09-01T09:02:24.690Z"
   },
   {
    "duration": 6,
    "start_time": "2022-09-01T09:02:24.699Z"
   },
   {
    "duration": 7,
    "start_time": "2022-09-01T09:02:24.706Z"
   },
   {
    "duration": 6,
    "start_time": "2022-09-01T09:02:24.714Z"
   },
   {
    "duration": 9,
    "start_time": "2022-09-01T09:02:24.721Z"
   },
   {
    "duration": 26,
    "start_time": "2022-09-01T09:02:24.731Z"
   },
   {
    "duration": 7,
    "start_time": "2022-09-01T09:02:24.759Z"
   },
   {
    "duration": 4,
    "start_time": "2022-09-01T09:02:24.768Z"
   },
   {
    "duration": 7,
    "start_time": "2022-09-01T09:02:24.774Z"
   },
   {
    "duration": 6,
    "start_time": "2022-09-01T09:02:24.782Z"
   },
   {
    "duration": 12,
    "start_time": "2022-09-01T09:02:24.789Z"
   },
   {
    "duration": 60,
    "start_time": "2022-09-01T09:02:24.802Z"
   },
   {
    "duration": 11,
    "start_time": "2022-09-01T09:02:24.864Z"
   },
   {
    "duration": 1068,
    "start_time": "2022-09-01T09:02:24.877Z"
   },
   {
    "duration": 811,
    "start_time": "2022-09-01T09:02:25.947Z"
   },
   {
    "duration": 1630,
    "start_time": "2022-09-01T09:02:26.760Z"
   },
   {
    "duration": 3,
    "start_time": "2022-09-01T09:02:28.393Z"
   },
   {
    "duration": 20,
    "start_time": "2022-09-01T09:02:28.398Z"
   },
   {
    "duration": 6,
    "start_time": "2022-09-01T09:02:28.419Z"
   },
   {
    "duration": 517,
    "start_time": "2022-09-01T09:03:38.446Z"
   },
   {
    "duration": 3,
    "start_time": "2022-09-01T09:04:49.630Z"
   },
   {
    "duration": 28,
    "start_time": "2022-09-01T09:04:51.039Z"
   },
   {
    "duration": 7,
    "start_time": "2022-09-01T09:07:20.255Z"
   },
   {
    "duration": 87,
    "start_time": "2022-09-01T09:19:27.103Z"
   },
   {
    "duration": 11,
    "start_time": "2022-09-01T09:19:46.908Z"
   },
   {
    "duration": 20,
    "start_time": "2022-09-01T09:20:17.091Z"
   },
   {
    "duration": 5,
    "start_time": "2022-09-01T09:20:17.112Z"
   },
   {
    "duration": 57,
    "start_time": "2022-09-01T09:20:17.119Z"
   },
   {
    "duration": 11,
    "start_time": "2022-09-01T09:20:17.178Z"
   },
   {
    "duration": 14,
    "start_time": "2022-09-01T09:20:17.191Z"
   },
   {
    "duration": 21,
    "start_time": "2022-09-01T09:20:17.207Z"
   },
   {
    "duration": 17,
    "start_time": "2022-09-01T09:20:17.230Z"
   },
   {
    "duration": 25,
    "start_time": "2022-09-01T09:20:17.249Z"
   },
   {
    "duration": 19,
    "start_time": "2022-09-01T09:20:17.275Z"
   },
   {
    "duration": 19,
    "start_time": "2022-09-01T09:20:17.296Z"
   },
   {
    "duration": 27,
    "start_time": "2022-09-01T09:20:17.317Z"
   },
   {
    "duration": 12,
    "start_time": "2022-09-01T09:20:17.346Z"
   },
   {
    "duration": 23,
    "start_time": "2022-09-01T09:20:17.361Z"
   },
   {
    "duration": 16,
    "start_time": "2022-09-01T09:20:17.386Z"
   },
   {
    "duration": 10,
    "start_time": "2022-09-01T09:20:17.404Z"
   },
   {
    "duration": 19,
    "start_time": "2022-09-01T09:20:17.416Z"
   },
   {
    "duration": 15,
    "start_time": "2022-09-01T09:20:17.437Z"
   },
   {
    "duration": 26,
    "start_time": "2022-09-01T09:20:17.454Z"
   },
   {
    "duration": 19,
    "start_time": "2022-09-01T09:20:17.482Z"
   },
   {
    "duration": 23,
    "start_time": "2022-09-01T09:20:17.503Z"
   },
   {
    "duration": 25,
    "start_time": "2022-09-01T09:20:17.528Z"
   },
   {
    "duration": 36,
    "start_time": "2022-09-01T09:20:17.555Z"
   },
   {
    "duration": 48,
    "start_time": "2022-09-01T09:20:17.594Z"
   },
   {
    "duration": 12,
    "start_time": "2022-09-01T09:20:17.644Z"
   },
   {
    "duration": 1076,
    "start_time": "2022-09-01T09:20:17.658Z"
   },
   {
    "duration": 856,
    "start_time": "2022-09-01T09:20:18.736Z"
   },
   {
    "duration": 1530,
    "start_time": "2022-09-01T09:20:19.593Z"
   },
   {
    "duration": 5,
    "start_time": "2022-09-01T09:20:21.126Z"
   },
   {
    "duration": 21,
    "start_time": "2022-09-01T09:20:21.133Z"
   },
   {
    "duration": 36,
    "start_time": "2022-09-01T09:20:21.156Z"
   },
   {
    "duration": 40,
    "start_time": "2022-09-01T09:20:21.194Z"
   },
   {
    "duration": 26,
    "start_time": "2022-09-01T09:20:21.236Z"
   },
   {
    "duration": 92,
    "start_time": "2022-09-01T09:20:21.280Z"
   },
   {
    "duration": 14,
    "start_time": "2022-09-01T09:20:58.682Z"
   },
   {
    "duration": 94,
    "start_time": "2022-09-01T09:20:58.698Z"
   },
   {
    "duration": 37,
    "start_time": "2022-09-01T09:20:58.793Z"
   },
   {
    "duration": 12,
    "start_time": "2022-09-01T09:20:58.833Z"
   },
   {
    "duration": 15,
    "start_time": "2022-09-01T09:20:58.847Z"
   },
   {
    "duration": 17,
    "start_time": "2022-09-01T09:20:58.865Z"
   },
   {
    "duration": 7,
    "start_time": "2022-09-01T09:20:58.884Z"
   },
   {
    "duration": 7,
    "start_time": "2022-09-01T09:20:58.893Z"
   },
   {
    "duration": 11,
    "start_time": "2022-09-01T09:20:58.901Z"
   },
   {
    "duration": 5,
    "start_time": "2022-09-01T09:20:58.914Z"
   },
   {
    "duration": 9,
    "start_time": "2022-09-01T09:20:58.921Z"
   },
   {
    "duration": 8,
    "start_time": "2022-09-01T09:20:58.932Z"
   },
   {
    "duration": 23,
    "start_time": "2022-09-01T09:20:58.942Z"
   },
   {
    "duration": 12,
    "start_time": "2022-09-01T09:20:58.969Z"
   },
   {
    "duration": 9,
    "start_time": "2022-09-01T09:20:58.983Z"
   },
   {
    "duration": 12,
    "start_time": "2022-09-01T09:20:58.994Z"
   },
   {
    "duration": 10,
    "start_time": "2022-09-01T09:20:59.008Z"
   },
   {
    "duration": 8,
    "start_time": "2022-09-01T09:20:59.020Z"
   },
   {
    "duration": 29,
    "start_time": "2022-09-01T09:20:59.030Z"
   },
   {
    "duration": 24,
    "start_time": "2022-09-01T09:20:59.060Z"
   },
   {
    "duration": 11,
    "start_time": "2022-09-01T09:20:59.085Z"
   },
   {
    "duration": 20,
    "start_time": "2022-09-01T09:20:59.097Z"
   },
   {
    "duration": 45,
    "start_time": "2022-09-01T09:20:59.120Z"
   },
   {
    "duration": 14,
    "start_time": "2022-09-01T09:20:59.166Z"
   },
   {
    "duration": 1141,
    "start_time": "2022-09-01T09:20:59.182Z"
   },
   {
    "duration": 894,
    "start_time": "2022-09-01T09:21:00.325Z"
   },
   {
    "duration": 1532,
    "start_time": "2022-09-01T09:21:01.221Z"
   },
   {
    "duration": 14,
    "start_time": "2022-09-01T09:21:02.758Z"
   },
   {
    "duration": 18,
    "start_time": "2022-09-01T09:21:02.774Z"
   },
   {
    "duration": 35,
    "start_time": "2022-09-01T09:21:02.793Z"
   },
   {
    "duration": 53,
    "start_time": "2022-09-01T09:21:02.829Z"
   },
   {
    "duration": 9,
    "start_time": "2022-09-01T09:21:02.883Z"
   },
   {
    "duration": 66,
    "start_time": "2022-09-01T09:21:02.893Z"
   },
   {
    "duration": 55,
    "start_time": "2022-09-01T09:21:54.051Z"
   },
   {
    "duration": 314,
    "start_time": "2022-09-01T09:22:26.667Z"
   },
   {
    "duration": 27,
    "start_time": "2022-09-01T09:23:26.346Z"
   },
   {
    "duration": 4,
    "start_time": "2022-09-01T09:26:55.684Z"
   },
   {
    "duration": 72,
    "start_time": "2022-09-01T09:27:43.247Z"
   },
   {
    "duration": 21,
    "start_time": "2022-09-01T09:30:08.704Z"
   },
   {
    "duration": 3,
    "start_time": "2022-09-01T09:31:23.275Z"
   },
   {
    "duration": 2,
    "start_time": "2022-09-01T09:31:32.527Z"
   },
   {
    "duration": 23,
    "start_time": "2022-09-01T09:31:32.531Z"
   },
   {
    "duration": 24,
    "start_time": "2022-09-01T09:31:32.556Z"
   },
   {
    "duration": 61,
    "start_time": "2022-09-01T09:31:32.582Z"
   },
   {
    "duration": 12,
    "start_time": "2022-09-01T09:31:32.645Z"
   },
   {
    "duration": 161,
    "start_time": "2022-09-01T09:31:32.659Z"
   },
   {
    "duration": 53,
    "start_time": "2022-09-01T09:31:32.822Z"
   },
   {
    "duration": 18,
    "start_time": "2022-09-01T09:31:32.876Z"
   },
   {
    "duration": 34,
    "start_time": "2022-09-01T09:31:32.896Z"
   },
   {
    "duration": 27,
    "start_time": "2022-09-01T09:31:32.932Z"
   },
   {
    "duration": 28,
    "start_time": "2022-09-01T09:31:32.964Z"
   },
   {
    "duration": 22,
    "start_time": "2022-09-01T09:31:32.993Z"
   },
   {
    "duration": 27,
    "start_time": "2022-09-01T09:31:33.017Z"
   },
   {
    "duration": 14,
    "start_time": "2022-09-01T09:31:33.046Z"
   },
   {
    "duration": 34,
    "start_time": "2022-09-01T09:31:33.062Z"
   },
   {
    "duration": 37,
    "start_time": "2022-09-01T09:31:33.098Z"
   },
   {
    "duration": 23,
    "start_time": "2022-09-01T09:31:33.136Z"
   },
   {
    "duration": 26,
    "start_time": "2022-09-01T09:31:33.161Z"
   },
   {
    "duration": 29,
    "start_time": "2022-09-01T09:31:33.188Z"
   },
   {
    "duration": 19,
    "start_time": "2022-09-01T09:31:33.219Z"
   },
   {
    "duration": 46,
    "start_time": "2022-09-01T09:31:33.241Z"
   },
   {
    "duration": 12,
    "start_time": "2022-09-01T09:31:33.289Z"
   },
   {
    "duration": 27,
    "start_time": "2022-09-01T09:31:33.303Z"
   },
   {
    "duration": 70,
    "start_time": "2022-09-01T09:31:33.333Z"
   },
   {
    "duration": 13,
    "start_time": "2022-09-01T09:31:33.405Z"
   },
   {
    "duration": 1140,
    "start_time": "2022-09-01T09:31:33.420Z"
   },
   {
    "duration": 947,
    "start_time": "2022-09-01T09:31:34.562Z"
   },
   {
    "duration": 1636,
    "start_time": "2022-09-01T09:31:35.512Z"
   },
   {
    "duration": 5,
    "start_time": "2022-09-01T09:31:37.159Z"
   },
   {
    "duration": 25,
    "start_time": "2022-09-01T09:31:37.168Z"
   },
   {
    "duration": 23,
    "start_time": "2022-09-01T09:31:37.195Z"
   },
   {
    "duration": 67,
    "start_time": "2022-09-01T09:31:37.220Z"
   },
   {
    "duration": 11,
    "start_time": "2022-09-01T09:31:37.289Z"
   },
   {
    "duration": 157,
    "start_time": "2022-09-01T09:31:37.302Z"
   },
   {
    "duration": 373,
    "start_time": "2022-09-01T09:31:37.461Z"
   },
   {
    "duration": 34,
    "start_time": "2022-09-01T09:31:37.836Z"
   },
   {
    "duration": 10,
    "start_time": "2022-09-01T09:31:37.873Z"
   },
   {
    "duration": 32,
    "start_time": "2022-09-01T09:31:37.884Z"
   },
   {
    "duration": 12,
    "start_time": "2022-09-01T09:32:12.861Z"
   },
   {
    "duration": 1196,
    "start_time": "2022-09-01T09:32:36.581Z"
   },
   {
    "duration": 286,
    "start_time": "2022-09-01T09:32:37.779Z"
   },
   {
    "duration": 3,
    "start_time": "2022-09-01T09:32:38.067Z"
   },
   {
    "duration": 51,
    "start_time": "2022-09-01T09:32:38.073Z"
   },
   {
    "duration": 14,
    "start_time": "2022-09-01T09:32:38.125Z"
   },
   {
    "duration": 40,
    "start_time": "2022-09-01T09:32:38.141Z"
   },
   {
    "duration": 6,
    "start_time": "2022-09-01T09:32:38.183Z"
   },
   {
    "duration": 22,
    "start_time": "2022-09-01T09:32:38.190Z"
   },
   {
    "duration": 19,
    "start_time": "2022-09-01T09:32:38.214Z"
   },
   {
    "duration": 15,
    "start_time": "2022-09-01T09:32:38.236Z"
   },
   {
    "duration": 45,
    "start_time": "2022-09-01T09:32:38.253Z"
   },
   {
    "duration": 15,
    "start_time": "2022-09-01T09:32:38.300Z"
   },
   {
    "duration": 24,
    "start_time": "2022-09-01T09:32:38.317Z"
   },
   {
    "duration": 22,
    "start_time": "2022-09-01T09:32:38.343Z"
   },
   {
    "duration": 42,
    "start_time": "2022-09-01T09:32:38.366Z"
   },
   {
    "duration": 26,
    "start_time": "2022-09-01T09:32:38.410Z"
   },
   {
    "duration": 18,
    "start_time": "2022-09-01T09:32:38.438Z"
   },
   {
    "duration": 40,
    "start_time": "2022-09-01T09:32:38.459Z"
   },
   {
    "duration": 20,
    "start_time": "2022-09-01T09:32:38.501Z"
   },
   {
    "duration": 18,
    "start_time": "2022-09-01T09:32:38.523Z"
   },
   {
    "duration": 38,
    "start_time": "2022-09-01T09:32:38.543Z"
   },
   {
    "duration": 34,
    "start_time": "2022-09-01T09:32:38.584Z"
   },
   {
    "duration": 23,
    "start_time": "2022-09-01T09:32:38.620Z"
   },
   {
    "duration": 60,
    "start_time": "2022-09-01T09:32:38.645Z"
   },
   {
    "duration": 13,
    "start_time": "2022-09-01T09:32:38.706Z"
   },
   {
    "duration": 1150,
    "start_time": "2022-09-01T09:32:38.720Z"
   },
   {
    "duration": 1140,
    "start_time": "2022-09-01T09:32:39.871Z"
   },
   {
    "duration": 1657,
    "start_time": "2022-09-01T09:32:41.016Z"
   },
   {
    "duration": 5,
    "start_time": "2022-09-01T09:32:42.674Z"
   },
   {
    "duration": 12,
    "start_time": "2022-09-01T09:32:42.681Z"
   },
   {
    "duration": 8,
    "start_time": "2022-09-01T09:32:42.699Z"
   },
   {
    "duration": 37,
    "start_time": "2022-09-01T09:32:42.709Z"
   },
   {
    "duration": 18,
    "start_time": "2022-09-01T09:32:42.748Z"
   },
   {
    "duration": 126,
    "start_time": "2022-09-01T09:32:42.769Z"
   },
   {
    "duration": 408,
    "start_time": "2022-09-01T09:32:42.897Z"
   },
   {
    "duration": 28,
    "start_time": "2022-09-01T09:32:43.307Z"
   },
   {
    "duration": 19,
    "start_time": "2022-09-01T09:32:43.337Z"
   },
   {
    "duration": 137,
    "start_time": "2022-09-01T09:32:43.358Z"
   },
   {
    "duration": 8,
    "start_time": "2022-09-01T09:33:40.948Z"
   },
   {
    "duration": 15,
    "start_time": "2022-09-01T09:33:46.147Z"
   },
   {
    "duration": 3,
    "start_time": "2022-09-01T09:33:52.127Z"
   },
   {
    "duration": 8,
    "start_time": "2022-09-01T09:33:56.229Z"
   },
   {
    "duration": 7,
    "start_time": "2022-09-01T09:34:03.631Z"
   },
   {
    "duration": 5,
    "start_time": "2022-09-01T09:34:35.624Z"
   },
   {
    "duration": 9,
    "start_time": "2022-09-01T09:34:37.073Z"
   },
   {
    "duration": 7,
    "start_time": "2022-09-01T09:35:40.616Z"
   },
   {
    "duration": 7,
    "start_time": "2022-09-01T09:35:59.162Z"
   },
   {
    "duration": 12,
    "start_time": "2022-09-01T10:48:13.256Z"
   },
   {
    "duration": 3,
    "start_time": "2022-09-01T10:48:46.770Z"
   },
   {
    "duration": 2,
    "start_time": "2022-09-01T10:48:53.552Z"
   },
   {
    "duration": 20,
    "start_time": "2022-09-01T10:48:53.556Z"
   },
   {
    "duration": 5,
    "start_time": "2022-09-01T10:48:53.578Z"
   },
   {
    "duration": 36,
    "start_time": "2022-09-01T10:48:53.584Z"
   },
   {
    "duration": 12,
    "start_time": "2022-09-01T10:48:53.623Z"
   },
   {
    "duration": 11,
    "start_time": "2022-09-01T10:48:53.637Z"
   },
   {
    "duration": 20,
    "start_time": "2022-09-01T10:48:53.650Z"
   },
   {
    "duration": 7,
    "start_time": "2022-09-01T10:48:53.672Z"
   },
   {
    "duration": 7,
    "start_time": "2022-09-01T10:48:53.681Z"
   },
   {
    "duration": 4,
    "start_time": "2022-09-01T10:48:53.690Z"
   },
   {
    "duration": 5,
    "start_time": "2022-09-01T10:48:53.697Z"
   },
   {
    "duration": 8,
    "start_time": "2022-09-01T10:48:53.703Z"
   },
   {
    "duration": 10,
    "start_time": "2022-09-01T10:48:53.713Z"
   },
   {
    "duration": 9,
    "start_time": "2022-09-01T10:48:53.724Z"
   },
   {
    "duration": 24,
    "start_time": "2022-09-01T10:48:53.734Z"
   },
   {
    "duration": 16,
    "start_time": "2022-09-01T10:48:53.760Z"
   },
   {
    "duration": 12,
    "start_time": "2022-09-01T10:48:53.777Z"
   },
   {
    "duration": 7,
    "start_time": "2022-09-01T10:48:53.791Z"
   },
   {
    "duration": 8,
    "start_time": "2022-09-01T10:48:53.799Z"
   },
   {
    "duration": 5,
    "start_time": "2022-09-01T10:48:53.808Z"
   },
   {
    "duration": 15,
    "start_time": "2022-09-01T10:48:53.815Z"
   },
   {
    "duration": 5,
    "start_time": "2022-09-01T10:48:53.831Z"
   },
   {
    "duration": 39,
    "start_time": "2022-09-01T10:48:53.838Z"
   },
   {
    "duration": 40,
    "start_time": "2022-09-01T10:48:53.879Z"
   },
   {
    "duration": 12,
    "start_time": "2022-09-01T10:48:53.921Z"
   },
   {
    "duration": 995,
    "start_time": "2022-09-01T10:48:53.934Z"
   },
   {
    "duration": 1010,
    "start_time": "2022-09-01T10:48:54.931Z"
   },
   {
    "duration": 1512,
    "start_time": "2022-09-01T10:48:55.943Z"
   },
   {
    "duration": 13,
    "start_time": "2022-09-01T10:48:57.458Z"
   },
   {
    "duration": 12,
    "start_time": "2022-09-01T10:48:57.473Z"
   },
   {
    "duration": 4,
    "start_time": "2022-09-01T10:48:57.486Z"
   },
   {
    "duration": 32,
    "start_time": "2022-09-01T10:48:57.492Z"
   },
   {
    "duration": 36,
    "start_time": "2022-09-01T10:48:57.526Z"
   },
   {
    "duration": 4,
    "start_time": "2022-09-01T10:48:57.564Z"
   },
   {
    "duration": 437,
    "start_time": "2022-09-01T10:48:57.570Z"
   },
   {
    "duration": 29,
    "start_time": "2022-09-01T10:48:58.009Z"
   },
   {
    "duration": 4,
    "start_time": "2022-09-01T10:48:58.040Z"
   },
   {
    "duration": 13,
    "start_time": "2022-09-01T10:48:58.057Z"
   },
   {
    "duration": 18,
    "start_time": "2022-09-01T10:48:58.072Z"
   },
   {
    "duration": 8,
    "start_time": "2022-09-01T10:48:58.092Z"
   },
   {
    "duration": 8,
    "start_time": "2022-09-01T10:50:23.196Z"
   },
   {
    "duration": 9,
    "start_time": "2022-09-01T10:50:36.898Z"
   },
   {
    "duration": 4,
    "start_time": "2022-09-01T10:51:22.946Z"
   },
   {
    "duration": 554,
    "start_time": "2022-09-01T10:51:28.070Z"
   },
   {
    "duration": 114069,
    "start_time": "2022-09-01T10:52:46.805Z"
   },
   {
    "duration": 1181,
    "start_time": "2022-09-01T11:01:56.392Z"
   },
   {
    "duration": 287,
    "start_time": "2022-09-01T11:01:57.575Z"
   },
   {
    "duration": 3,
    "start_time": "2022-09-01T11:01:57.873Z"
   },
   {
    "duration": 40,
    "start_time": "2022-09-01T11:01:57.878Z"
   },
   {
    "duration": 13,
    "start_time": "2022-09-01T11:01:57.919Z"
   },
   {
    "duration": 18,
    "start_time": "2022-09-01T11:01:57.934Z"
   },
   {
    "duration": 11,
    "start_time": "2022-09-01T11:01:57.953Z"
   },
   {
    "duration": 18,
    "start_time": "2022-09-01T11:01:57.967Z"
   },
   {
    "duration": 10,
    "start_time": "2022-09-01T11:01:57.987Z"
   },
   {
    "duration": 6,
    "start_time": "2022-09-01T11:01:58.000Z"
   },
   {
    "duration": 16,
    "start_time": "2022-09-01T11:01:58.008Z"
   },
   {
    "duration": 12,
    "start_time": "2022-09-01T11:01:58.026Z"
   },
   {
    "duration": 9,
    "start_time": "2022-09-01T11:01:58.040Z"
   },
   {
    "duration": 21,
    "start_time": "2022-09-01T11:01:58.051Z"
   },
   {
    "duration": 8,
    "start_time": "2022-09-01T11:01:58.074Z"
   },
   {
    "duration": 8,
    "start_time": "2022-09-01T11:01:58.084Z"
   },
   {
    "duration": 10,
    "start_time": "2022-09-01T11:01:58.094Z"
   },
   {
    "duration": 11,
    "start_time": "2022-09-01T11:01:58.106Z"
   },
   {
    "duration": 9,
    "start_time": "2022-09-01T11:01:58.119Z"
   },
   {
    "duration": 29,
    "start_time": "2022-09-01T11:01:58.130Z"
   },
   {
    "duration": 10,
    "start_time": "2022-09-01T11:01:58.163Z"
   },
   {
    "duration": 11,
    "start_time": "2022-09-01T11:01:58.175Z"
   },
   {
    "duration": 12,
    "start_time": "2022-09-01T11:01:58.187Z"
   },
   {
    "duration": 40,
    "start_time": "2022-09-01T11:01:58.201Z"
   },
   {
    "duration": 33,
    "start_time": "2022-09-01T11:01:58.243Z"
   },
   {
    "duration": 1142,
    "start_time": "2022-09-01T11:01:58.278Z"
   },
   {
    "duration": 1019,
    "start_time": "2022-09-01T11:01:59.422Z"
   },
   {
    "duration": 1569,
    "start_time": "2022-09-01T11:02:00.444Z"
   },
   {
    "duration": 5,
    "start_time": "2022-09-01T11:02:02.015Z"
   },
   {
    "duration": 67,
    "start_time": "2022-09-01T11:02:02.021Z"
   },
   {
    "duration": 7,
    "start_time": "2022-09-01T11:02:02.090Z"
   },
   {
    "duration": 32,
    "start_time": "2022-09-01T11:02:02.099Z"
   },
   {
    "duration": 7,
    "start_time": "2022-09-01T11:02:02.133Z"
   },
   {
    "duration": 121,
    "start_time": "2022-09-01T11:02:02.142Z"
   },
   {
    "duration": 360,
    "start_time": "2022-09-01T11:02:02.264Z"
   },
   {
    "duration": 26,
    "start_time": "2022-09-01T11:02:02.626Z"
   },
   {
    "duration": 17,
    "start_time": "2022-09-01T11:02:02.664Z"
   },
   {
    "duration": 42,
    "start_time": "2022-09-01T11:02:02.682Z"
   },
   {
    "duration": 18,
    "start_time": "2022-09-01T11:02:02.725Z"
   },
   {
    "duration": 642,
    "start_time": "2022-09-01T11:02:02.744Z"
   },
   {
    "duration": 113588,
    "start_time": "2022-09-01T11:02:03.388Z"
   },
   {
    "duration": 115,
    "start_time": "2022-09-01T11:07:26.464Z"
   },
   {
    "duration": 21,
    "start_time": "2022-09-01T11:08:43.791Z"
   },
   {
    "duration": 3,
    "start_time": "2022-09-01T11:08:55.523Z"
   },
   {
    "duration": 1272,
    "start_time": "2022-09-01T11:11:45.587Z"
   },
   {
    "duration": 57,
    "start_time": "2022-09-01T11:13:10.435Z"
   },
   {
    "duration": 3,
    "start_time": "2022-09-01T11:13:24.829Z"
   },
   {
    "duration": 11,
    "start_time": "2022-09-01T11:16:43.162Z"
   },
   {
    "duration": 6,
    "start_time": "2022-09-01T11:17:55.452Z"
   },
   {
    "duration": 6,
    "start_time": "2022-09-01T11:18:05.696Z"
   },
   {
    "duration": 11,
    "start_time": "2022-09-01T11:18:38.294Z"
   },
   {
    "duration": 13,
    "start_time": "2022-09-01T11:19:01.164Z"
   },
   {
    "duration": 280,
    "start_time": "2022-09-01T11:19:22.660Z"
   },
   {
    "duration": 11,
    "start_time": "2022-09-01T11:19:39.873Z"
   },
   {
    "duration": 19,
    "start_time": "2022-09-01T11:20:01.921Z"
   },
   {
    "duration": 46,
    "start_time": "2022-09-01T13:55:46.888Z"
   },
   {
    "duration": 1285,
    "start_time": "2022-09-01T13:55:52.940Z"
   },
   {
    "duration": 257,
    "start_time": "2022-09-01T13:55:54.227Z"
   },
   {
    "duration": 3,
    "start_time": "2022-09-01T13:55:54.485Z"
   },
   {
    "duration": 76,
    "start_time": "2022-09-01T13:55:54.490Z"
   },
   {
    "duration": 12,
    "start_time": "2022-09-01T13:55:54.567Z"
   },
   {
    "duration": 19,
    "start_time": "2022-09-01T13:55:54.580Z"
   },
   {
    "duration": 7,
    "start_time": "2022-09-01T13:55:54.601Z"
   },
   {
    "duration": 11,
    "start_time": "2022-09-01T13:55:54.609Z"
   },
   {
    "duration": 21,
    "start_time": "2022-09-01T13:55:54.622Z"
   },
   {
    "duration": 9,
    "start_time": "2022-09-01T13:55:54.645Z"
   },
   {
    "duration": 7,
    "start_time": "2022-09-01T13:55:54.656Z"
   },
   {
    "duration": 7,
    "start_time": "2022-09-01T13:55:54.664Z"
   },
   {
    "duration": 8,
    "start_time": "2022-09-01T13:55:54.673Z"
   },
   {
    "duration": 7,
    "start_time": "2022-09-01T13:55:54.682Z"
   },
   {
    "duration": 7,
    "start_time": "2022-09-01T13:55:54.691Z"
   },
   {
    "duration": 11,
    "start_time": "2022-09-01T13:55:54.700Z"
   },
   {
    "duration": 9,
    "start_time": "2022-09-01T13:55:54.713Z"
   },
   {
    "duration": 8,
    "start_time": "2022-09-01T13:55:54.724Z"
   },
   {
    "duration": 8,
    "start_time": "2022-09-01T13:55:54.734Z"
   },
   {
    "duration": 7,
    "start_time": "2022-09-01T13:55:54.744Z"
   },
   {
    "duration": 7,
    "start_time": "2022-09-01T13:55:54.753Z"
   },
   {
    "duration": 5,
    "start_time": "2022-09-01T13:55:54.762Z"
   },
   {
    "duration": 45,
    "start_time": "2022-09-01T13:55:54.769Z"
   },
   {
    "duration": 39,
    "start_time": "2022-09-01T13:55:54.816Z"
   },
   {
    "duration": 13,
    "start_time": "2022-09-01T13:55:54.857Z"
   },
   {
    "duration": 995,
    "start_time": "2022-09-01T13:55:54.872Z"
   },
   {
    "duration": 883,
    "start_time": "2022-09-01T13:55:55.869Z"
   },
   {
    "duration": 1595,
    "start_time": "2022-09-01T13:55:56.755Z"
   },
   {
    "duration": 4,
    "start_time": "2022-09-01T13:55:58.352Z"
   },
   {
    "duration": 11,
    "start_time": "2022-09-01T13:55:58.357Z"
   },
   {
    "duration": 4,
    "start_time": "2022-09-01T13:55:58.369Z"
   },
   {
    "duration": 31,
    "start_time": "2022-09-01T13:55:58.375Z"
   },
   {
    "duration": 7,
    "start_time": "2022-09-01T13:55:58.408Z"
   },
   {
    "duration": 94,
    "start_time": "2022-09-01T13:55:58.417Z"
   },
   {
    "duration": 395,
    "start_time": "2022-09-01T13:55:58.514Z"
   },
   {
    "duration": 23,
    "start_time": "2022-09-01T13:55:58.911Z"
   },
   {
    "duration": 4,
    "start_time": "2022-09-01T13:55:58.935Z"
   },
   {
    "duration": 18,
    "start_time": "2022-09-01T13:55:58.940Z"
   },
   {
    "duration": 7,
    "start_time": "2022-09-01T13:55:58.960Z"
   },
   {
    "duration": 567,
    "start_time": "2022-09-01T13:55:58.968Z"
   },
   {
    "duration": 146,
    "start_time": "2022-09-01T13:55:59.537Z"
   },
   {
    "duration": 3,
    "start_time": "2022-09-01T13:55:59.685Z"
   },
   {
    "duration": 1321,
    "start_time": "2022-09-01T13:55:59.690Z"
   },
   {
    "duration": 4,
    "start_time": "2022-09-01T13:56:01.014Z"
   },
   {
    "duration": 19,
    "start_time": "2022-09-01T13:56:01.110Z"
   },
   {
    "duration": 26,
    "start_time": "2022-09-01T13:56:01.130Z"
   },
   {
    "duration": 1270,
    "start_time": "2022-09-01T13:57:59.908Z"
   },
   {
    "duration": 287,
    "start_time": "2022-09-01T13:58:01.180Z"
   },
   {
    "duration": 3,
    "start_time": "2022-09-01T13:58:01.469Z"
   },
   {
    "duration": 47,
    "start_time": "2022-09-01T13:58:01.473Z"
   },
   {
    "duration": 12,
    "start_time": "2022-09-01T13:58:01.523Z"
   },
   {
    "duration": 22,
    "start_time": "2022-09-01T13:58:01.537Z"
   },
   {
    "duration": 23,
    "start_time": "2022-09-01T13:58:01.561Z"
   },
   {
    "duration": 12,
    "start_time": "2022-09-01T13:58:01.585Z"
   },
   {
    "duration": 11,
    "start_time": "2022-09-01T13:58:01.599Z"
   },
   {
    "duration": 36,
    "start_time": "2022-09-01T13:58:01.612Z"
   },
   {
    "duration": 16,
    "start_time": "2022-09-01T13:58:01.650Z"
   },
   {
    "duration": 16,
    "start_time": "2022-09-01T13:58:01.668Z"
   },
   {
    "duration": 41,
    "start_time": "2022-09-01T13:58:01.688Z"
   },
   {
    "duration": 38,
    "start_time": "2022-09-01T13:58:01.731Z"
   },
   {
    "duration": 8,
    "start_time": "2022-09-01T13:58:01.770Z"
   },
   {
    "duration": 15,
    "start_time": "2022-09-01T13:58:01.780Z"
   },
   {
    "duration": 14,
    "start_time": "2022-09-01T13:58:01.797Z"
   },
   {
    "duration": 21,
    "start_time": "2022-09-01T13:58:01.812Z"
   },
   {
    "duration": 20,
    "start_time": "2022-09-01T13:58:01.834Z"
   },
   {
    "duration": 15,
    "start_time": "2022-09-01T13:58:01.855Z"
   },
   {
    "duration": 13,
    "start_time": "2022-09-01T13:58:01.871Z"
   },
   {
    "duration": 12,
    "start_time": "2022-09-01T13:58:01.886Z"
   },
   {
    "duration": 20,
    "start_time": "2022-09-01T13:58:01.899Z"
   },
   {
    "duration": 47,
    "start_time": "2022-09-01T13:58:01.921Z"
   },
   {
    "duration": 12,
    "start_time": "2022-09-01T13:58:01.970Z"
   },
   {
    "duration": 990,
    "start_time": "2022-09-01T13:58:01.984Z"
   },
   {
    "duration": 859,
    "start_time": "2022-09-01T13:58:02.976Z"
   },
   {
    "duration": 1426,
    "start_time": "2022-09-01T13:58:03.836Z"
   },
   {
    "duration": 4,
    "start_time": "2022-09-01T13:58:05.264Z"
   },
   {
    "duration": 12,
    "start_time": "2022-09-01T13:58:05.269Z"
   },
   {
    "duration": 6,
    "start_time": "2022-09-01T13:58:05.282Z"
   },
   {
    "duration": 30,
    "start_time": "2022-09-01T13:58:05.289Z"
   },
   {
    "duration": 5,
    "start_time": "2022-09-01T13:58:05.321Z"
   },
   {
    "duration": 82,
    "start_time": "2022-09-01T13:58:05.329Z"
   },
   {
    "duration": 396,
    "start_time": "2022-09-01T13:58:05.414Z"
   },
   {
    "duration": 25,
    "start_time": "2022-09-01T13:58:05.811Z"
   },
   {
    "duration": 3,
    "start_time": "2022-09-01T13:58:05.838Z"
   },
   {
    "duration": 14,
    "start_time": "2022-09-01T13:58:05.842Z"
   },
   {
    "duration": 9,
    "start_time": "2022-09-01T13:58:05.857Z"
   },
   {
    "duration": 602,
    "start_time": "2022-09-01T13:58:05.868Z"
   },
   {
    "duration": 146,
    "start_time": "2022-09-01T13:58:06.474Z"
   },
   {
    "duration": 3,
    "start_time": "2022-09-01T13:58:06.621Z"
   },
   {
    "duration": 1384,
    "start_time": "2022-09-01T13:58:06.625Z"
   },
   {
    "duration": 5,
    "start_time": "2022-09-01T13:58:08.012Z"
   },
   {
    "duration": 96,
    "start_time": "2022-09-01T13:58:08.019Z"
   },
   {
    "duration": 27,
    "start_time": "2022-09-01T13:58:08.116Z"
   },
   {
    "duration": 1125,
    "start_time": "2022-09-01T13:58:38.615Z"
   },
   {
    "duration": 265,
    "start_time": "2022-09-01T13:58:39.742Z"
   },
   {
    "duration": 3,
    "start_time": "2022-09-01T13:58:40.009Z"
   },
   {
    "duration": 40,
    "start_time": "2022-09-01T13:58:40.014Z"
   },
   {
    "duration": 11,
    "start_time": "2022-09-01T13:58:40.056Z"
   },
   {
    "duration": 18,
    "start_time": "2022-09-01T13:58:40.069Z"
   },
   {
    "duration": 9,
    "start_time": "2022-09-01T13:58:40.088Z"
   },
   {
    "duration": 10,
    "start_time": "2022-09-01T13:58:40.098Z"
   },
   {
    "duration": 9,
    "start_time": "2022-09-01T13:58:40.110Z"
   },
   {
    "duration": 10,
    "start_time": "2022-09-01T13:58:40.120Z"
   },
   {
    "duration": 7,
    "start_time": "2022-09-01T13:58:40.131Z"
   },
   {
    "duration": 9,
    "start_time": "2022-09-01T13:58:40.140Z"
   },
   {
    "duration": 8,
    "start_time": "2022-09-01T13:58:40.151Z"
   },
   {
    "duration": 7,
    "start_time": "2022-09-01T13:58:40.162Z"
   },
   {
    "duration": 8,
    "start_time": "2022-09-01T13:58:40.171Z"
   },
   {
    "duration": 9,
    "start_time": "2022-09-01T13:58:40.181Z"
   },
   {
    "duration": 8,
    "start_time": "2022-09-01T13:58:40.210Z"
   },
   {
    "duration": 16,
    "start_time": "2022-09-01T13:58:40.220Z"
   },
   {
    "duration": 12,
    "start_time": "2022-09-01T13:58:40.238Z"
   },
   {
    "duration": 7,
    "start_time": "2022-09-01T13:58:40.253Z"
   },
   {
    "duration": 9,
    "start_time": "2022-09-01T13:58:40.262Z"
   },
   {
    "duration": 7,
    "start_time": "2022-09-01T13:58:40.273Z"
   },
   {
    "duration": 33,
    "start_time": "2022-09-01T13:58:40.282Z"
   },
   {
    "duration": 42,
    "start_time": "2022-09-01T13:58:40.317Z"
   },
   {
    "duration": 11,
    "start_time": "2022-09-01T13:58:40.361Z"
   },
   {
    "duration": 972,
    "start_time": "2022-09-01T13:58:40.373Z"
   },
   {
    "duration": 849,
    "start_time": "2022-09-01T13:58:41.346Z"
   },
   {
    "duration": 1385,
    "start_time": "2022-09-01T13:58:42.197Z"
   },
   {
    "duration": 4,
    "start_time": "2022-09-01T13:58:43.585Z"
   },
   {
    "duration": 15,
    "start_time": "2022-09-01T13:58:43.591Z"
   },
   {
    "duration": 9,
    "start_time": "2022-09-01T13:58:43.607Z"
   },
   {
    "duration": 32,
    "start_time": "2022-09-01T13:58:43.618Z"
   },
   {
    "duration": 66,
    "start_time": "2022-09-01T13:58:43.652Z"
   },
   {
    "duration": 88,
    "start_time": "2022-09-01T13:58:43.721Z"
   },
   {
    "duration": 324,
    "start_time": "2022-09-01T13:58:43.812Z"
   },
   {
    "duration": 28,
    "start_time": "2022-09-01T13:58:44.137Z"
   },
   {
    "duration": 4,
    "start_time": "2022-09-01T13:58:44.166Z"
   },
   {
    "duration": 11,
    "start_time": "2022-09-01T13:58:44.171Z"
   },
   {
    "duration": 26,
    "start_time": "2022-09-01T13:58:44.183Z"
   },
   {
    "duration": 564,
    "start_time": "2022-09-01T13:58:44.210Z"
   },
   {
    "duration": 139,
    "start_time": "2022-09-01T13:58:44.777Z"
   },
   {
    "duration": 2,
    "start_time": "2022-09-01T13:58:44.918Z"
   },
   {
    "duration": 1392,
    "start_time": "2022-09-01T13:58:44.922Z"
   },
   {
    "duration": 93,
    "start_time": "2022-09-01T13:58:46.317Z"
   },
   {
    "duration": 8,
    "start_time": "2022-09-01T13:58:46.412Z"
   },
   {
    "duration": 18,
    "start_time": "2022-09-01T13:58:46.421Z"
   },
   {
    "duration": 39,
    "start_time": "2022-09-01T14:00:33.807Z"
   },
   {
    "duration": 1061,
    "start_time": "2022-09-01T14:57:59.888Z"
   },
   {
    "duration": 1219,
    "start_time": "2022-09-01T14:58:33.515Z"
   },
   {
    "duration": 1288,
    "start_time": "2022-09-01T15:28:44.545Z"
   },
   {
    "duration": 57,
    "start_time": "2022-09-01T15:35:36.784Z"
   },
   {
    "duration": 1061,
    "start_time": "2022-09-01T15:36:58.959Z"
   },
   {
    "duration": 11,
    "start_time": "2022-09-01T17:01:13.510Z"
   },
   {
    "duration": 12,
    "start_time": "2022-09-01T17:06:18.657Z"
   },
   {
    "duration": 1247,
    "start_time": "2022-09-02T06:32:01.351Z"
   },
   {
    "duration": 287,
    "start_time": "2022-09-02T06:32:02.600Z"
   },
   {
    "duration": 3,
    "start_time": "2022-09-02T06:32:02.888Z"
   },
   {
    "duration": 149,
    "start_time": "2022-09-02T06:32:02.894Z"
   },
   {
    "duration": 12,
    "start_time": "2022-09-02T06:32:03.045Z"
   },
   {
    "duration": 16,
    "start_time": "2022-09-02T06:32:03.058Z"
   },
   {
    "duration": 5,
    "start_time": "2022-09-02T06:32:03.076Z"
   },
   {
    "duration": 8,
    "start_time": "2022-09-02T06:32:03.083Z"
   },
   {
    "duration": 11,
    "start_time": "2022-09-02T06:32:03.093Z"
   },
   {
    "duration": 6,
    "start_time": "2022-09-02T06:32:03.107Z"
   },
   {
    "duration": 9,
    "start_time": "2022-09-02T06:32:03.114Z"
   },
   {
    "duration": 31,
    "start_time": "2022-09-02T06:32:03.125Z"
   },
   {
    "duration": 9,
    "start_time": "2022-09-02T06:32:03.158Z"
   },
   {
    "duration": 7,
    "start_time": "2022-09-02T06:32:03.169Z"
   },
   {
    "duration": 7,
    "start_time": "2022-09-02T06:32:03.177Z"
   },
   {
    "duration": 7,
    "start_time": "2022-09-02T06:32:03.185Z"
   },
   {
    "duration": 12,
    "start_time": "2022-09-02T06:32:03.193Z"
   },
   {
    "duration": 7,
    "start_time": "2022-09-02T06:32:03.207Z"
   },
   {
    "duration": 41,
    "start_time": "2022-09-02T06:32:03.216Z"
   },
   {
    "duration": 7,
    "start_time": "2022-09-02T06:32:03.259Z"
   },
   {
    "duration": 15,
    "start_time": "2022-09-02T06:32:03.268Z"
   },
   {
    "duration": 7,
    "start_time": "2022-09-02T06:32:03.285Z"
   },
   {
    "duration": 12,
    "start_time": "2022-09-02T06:32:03.293Z"
   },
   {
    "duration": 58,
    "start_time": "2022-09-02T06:32:03.307Z"
   },
   {
    "duration": 11,
    "start_time": "2022-09-02T06:32:03.367Z"
   },
   {
    "duration": 925,
    "start_time": "2022-09-02T06:32:03.379Z"
   },
   {
    "duration": 956,
    "start_time": "2022-09-02T06:32:04.306Z"
   },
   {
    "duration": 1371,
    "start_time": "2022-09-02T06:32:05.266Z"
   },
   {
    "duration": 4,
    "start_time": "2022-09-02T06:32:06.639Z"
   },
   {
    "duration": 9,
    "start_time": "2022-09-02T06:32:06.645Z"
   },
   {
    "duration": 3,
    "start_time": "2022-09-02T06:32:06.656Z"
   },
   {
    "duration": 34,
    "start_time": "2022-09-02T06:32:06.661Z"
   },
   {
    "duration": 73,
    "start_time": "2022-09-02T06:32:06.697Z"
   },
   {
    "duration": 85,
    "start_time": "2022-09-02T06:32:06.773Z"
   },
   {
    "duration": 331,
    "start_time": "2022-09-02T06:32:06.860Z"
   },
   {
    "duration": 32,
    "start_time": "2022-09-02T06:32:07.193Z"
   },
   {
    "duration": 6,
    "start_time": "2022-09-02T06:32:07.227Z"
   },
   {
    "duration": 34,
    "start_time": "2022-09-02T06:32:07.234Z"
   },
   {
    "duration": 41,
    "start_time": "2022-09-02T06:32:07.270Z"
   },
   {
    "duration": 592,
    "start_time": "2022-09-02T06:32:07.313Z"
   },
   {
    "duration": 98142,
    "start_time": "2022-09-02T06:32:07.906Z"
   },
   {
    "duration": 7,
    "start_time": "2022-09-02T06:33:46.049Z"
   },
   {
    "duration": 1100,
    "start_time": "2022-09-02T06:33:46.057Z"
   },
   {
    "duration": 5,
    "start_time": "2022-09-02T06:33:47.159Z"
   },
   {
    "duration": 106,
    "start_time": "2022-09-02T06:33:47.166Z"
   },
   {
    "duration": 29,
    "start_time": "2022-09-02T06:33:47.274Z"
   },
   {
    "duration": 1439,
    "start_time": "2022-09-02T06:33:47.305Z"
   },
   {
    "duration": 934,
    "start_time": "2022-09-02T06:33:48.745Z"
   },
   {
    "duration": 12,
    "start_time": "2022-09-02T06:33:49.681Z"
   },
   {
    "duration": 1511,
    "start_time": "2022-09-02T09:40:34.774Z"
   },
   {
    "duration": 763,
    "start_time": "2022-09-02T09:40:36.287Z"
   },
   {
    "duration": 3,
    "start_time": "2022-09-02T09:40:37.052Z"
   },
   {
    "duration": 254,
    "start_time": "2022-09-02T09:40:37.057Z"
   },
   {
    "duration": 13,
    "start_time": "2022-09-02T09:40:37.313Z"
   },
   {
    "duration": 15,
    "start_time": "2022-09-02T09:40:37.328Z"
   },
   {
    "duration": 5,
    "start_time": "2022-09-02T09:40:37.345Z"
   },
   {
    "duration": 6,
    "start_time": "2022-09-02T09:40:37.352Z"
   },
   {
    "duration": 8,
    "start_time": "2022-09-02T09:40:37.360Z"
   },
   {
    "duration": 22,
    "start_time": "2022-09-02T09:40:37.370Z"
   },
   {
    "duration": 5,
    "start_time": "2022-09-02T09:40:37.394Z"
   },
   {
    "duration": 12,
    "start_time": "2022-09-02T09:40:37.401Z"
   },
   {
    "duration": 9,
    "start_time": "2022-09-02T09:40:37.415Z"
   },
   {
    "duration": 7,
    "start_time": "2022-09-02T09:40:37.425Z"
   },
   {
    "duration": 8,
    "start_time": "2022-09-02T09:40:37.434Z"
   },
   {
    "duration": 9,
    "start_time": "2022-09-02T09:40:37.443Z"
   },
   {
    "duration": 39,
    "start_time": "2022-09-02T09:40:37.453Z"
   },
   {
    "duration": 10,
    "start_time": "2022-09-02T09:40:37.494Z"
   },
   {
    "duration": 9,
    "start_time": "2022-09-02T09:40:37.506Z"
   },
   {
    "duration": 5,
    "start_time": "2022-09-02T09:40:37.517Z"
   },
   {
    "duration": 7,
    "start_time": "2022-09-02T09:40:37.524Z"
   },
   {
    "duration": 6,
    "start_time": "2022-09-02T09:40:37.533Z"
   },
   {
    "duration": 11,
    "start_time": "2022-09-02T09:40:37.540Z"
   },
   {
    "duration": 41,
    "start_time": "2022-09-02T09:40:37.591Z"
   },
   {
    "duration": 14,
    "start_time": "2022-09-02T09:40:37.633Z"
   },
   {
    "duration": 1126,
    "start_time": "2022-09-02T09:40:37.649Z"
   },
   {
    "duration": 993,
    "start_time": "2022-09-02T09:40:38.776Z"
   },
   {
    "duration": 1609,
    "start_time": "2022-09-02T09:40:39.774Z"
   },
   {
    "duration": 7,
    "start_time": "2022-09-02T09:40:41.385Z"
   },
   {
    "duration": 16,
    "start_time": "2022-09-02T09:40:41.394Z"
   },
   {
    "duration": 6,
    "start_time": "2022-09-02T09:40:41.412Z"
   },
   {
    "duration": 32,
    "start_time": "2022-09-02T09:40:41.419Z"
   },
   {
    "duration": 41,
    "start_time": "2022-09-02T09:40:41.453Z"
   },
   {
    "duration": 4,
    "start_time": "2022-09-02T09:40:41.496Z"
   },
   {
    "duration": 390,
    "start_time": "2022-09-02T09:40:41.592Z"
   },
   {
    "duration": 41,
    "start_time": "2022-09-02T09:40:41.985Z"
   },
   {
    "duration": 4,
    "start_time": "2022-09-02T09:40:42.028Z"
   },
   {
    "duration": 17,
    "start_time": "2022-09-02T09:40:42.034Z"
   },
   {
    "duration": 9,
    "start_time": "2022-09-02T09:40:42.053Z"
   },
   {
    "duration": 606,
    "start_time": "2022-09-02T09:40:42.064Z"
   },
   {
    "duration": 118540,
    "start_time": "2022-09-02T09:40:42.672Z"
   },
   {
    "duration": 3,
    "start_time": "2022-09-02T09:42:41.213Z"
   },
   {
    "duration": 1376,
    "start_time": "2022-09-02T09:42:41.218Z"
   },
   {
    "duration": 96,
    "start_time": "2022-09-02T09:42:42.596Z"
   },
   {
    "duration": 13,
    "start_time": "2022-09-02T09:42:42.694Z"
   },
   {
    "duration": 15,
    "start_time": "2022-09-02T09:42:42.709Z"
   },
   {
    "duration": 1697,
    "start_time": "2022-09-02T09:42:42.726Z"
   },
   {
    "duration": 1141,
    "start_time": "2022-09-02T09:42:44.424Z"
   },
   {
    "duration": 11,
    "start_time": "2022-09-02T09:42:45.567Z"
   },
   {
    "duration": 53,
    "start_time": "2022-09-06T10:14:52.561Z"
   },
   {
    "duration": 1466,
    "start_time": "2022-09-06T10:15:15.402Z"
   },
   {
    "duration": 380,
    "start_time": "2022-09-06T10:15:16.871Z"
   },
   {
    "duration": 3,
    "start_time": "2022-09-06T10:15:17.253Z"
   },
   {
    "duration": 96,
    "start_time": "2022-09-06T10:15:17.257Z"
   },
   {
    "duration": 13,
    "start_time": "2022-09-06T10:15:17.355Z"
   },
   {
    "duration": 34,
    "start_time": "2022-09-06T10:15:17.369Z"
   },
   {
    "duration": 16,
    "start_time": "2022-09-06T10:15:17.404Z"
   },
   {
    "duration": 19,
    "start_time": "2022-09-06T10:15:17.422Z"
   },
   {
    "duration": 28,
    "start_time": "2022-09-06T10:15:17.442Z"
   },
   {
    "duration": 24,
    "start_time": "2022-09-06T10:15:17.472Z"
   },
   {
    "duration": 19,
    "start_time": "2022-09-06T10:15:17.497Z"
   },
   {
    "duration": 38,
    "start_time": "2022-09-06T10:15:17.518Z"
   },
   {
    "duration": 22,
    "start_time": "2022-09-06T10:15:17.558Z"
   },
   {
    "duration": 22,
    "start_time": "2022-09-06T10:15:17.584Z"
   },
   {
    "duration": 36,
    "start_time": "2022-09-06T10:15:17.608Z"
   },
   {
    "duration": 19,
    "start_time": "2022-09-06T10:15:17.646Z"
   },
   {
    "duration": 32,
    "start_time": "2022-09-06T10:15:17.667Z"
   },
   {
    "duration": 22,
    "start_time": "2022-09-06T10:15:17.700Z"
   },
   {
    "duration": 28,
    "start_time": "2022-09-06T10:15:17.724Z"
   },
   {
    "duration": 14,
    "start_time": "2022-09-06T10:15:17.754Z"
   },
   {
    "duration": 31,
    "start_time": "2022-09-06T10:15:17.770Z"
   },
   {
    "duration": 12,
    "start_time": "2022-09-06T10:15:17.802Z"
   },
   {
    "duration": 28,
    "start_time": "2022-09-06T10:15:17.815Z"
   },
   {
    "duration": 51,
    "start_time": "2022-09-06T10:15:17.845Z"
   },
   {
    "duration": 12,
    "start_time": "2022-09-06T10:15:17.898Z"
   },
   {
    "duration": 55,
    "start_time": "2022-09-06T10:15:17.911Z"
   },
   {
    "duration": 0,
    "start_time": "2022-09-06T10:15:17.968Z"
   },
   {
    "duration": 0,
    "start_time": "2022-09-06T10:15:17.969Z"
   },
   {
    "duration": 0,
    "start_time": "2022-09-06T10:15:17.970Z"
   },
   {
    "duration": 0,
    "start_time": "2022-09-06T10:15:17.971Z"
   },
   {
    "duration": 0,
    "start_time": "2022-09-06T10:15:17.973Z"
   },
   {
    "duration": 0,
    "start_time": "2022-09-06T10:15:17.974Z"
   },
   {
    "duration": 0,
    "start_time": "2022-09-06T10:15:17.975Z"
   },
   {
    "duration": 0,
    "start_time": "2022-09-06T10:15:17.976Z"
   },
   {
    "duration": 0,
    "start_time": "2022-09-06T10:15:17.977Z"
   },
   {
    "duration": 0,
    "start_time": "2022-09-06T10:15:17.979Z"
   },
   {
    "duration": 0,
    "start_time": "2022-09-06T10:15:17.980Z"
   },
   {
    "duration": 0,
    "start_time": "2022-09-06T10:15:17.981Z"
   },
   {
    "duration": 0,
    "start_time": "2022-09-06T10:15:17.982Z"
   },
   {
    "duration": 0,
    "start_time": "2022-09-06T10:15:17.983Z"
   },
   {
    "duration": 0,
    "start_time": "2022-09-06T10:15:17.984Z"
   },
   {
    "duration": 0,
    "start_time": "2022-09-06T10:15:17.986Z"
   },
   {
    "duration": 0,
    "start_time": "2022-09-06T10:15:17.987Z"
   },
   {
    "duration": 0,
    "start_time": "2022-09-06T10:15:17.988Z"
   },
   {
    "duration": 0,
    "start_time": "2022-09-06T10:15:17.989Z"
   },
   {
    "duration": 0,
    "start_time": "2022-09-06T10:15:17.991Z"
   },
   {
    "duration": 0,
    "start_time": "2022-09-06T10:15:17.992Z"
   },
   {
    "duration": 0,
    "start_time": "2022-09-06T10:15:17.993Z"
   },
   {
    "duration": 0,
    "start_time": "2022-09-06T10:15:17.994Z"
   },
   {
    "duration": 0,
    "start_time": "2022-09-06T10:15:17.995Z"
   },
   {
    "duration": 0,
    "start_time": "2022-09-06T10:15:17.996Z"
   },
   {
    "duration": 1156,
    "start_time": "2022-09-06T10:18:40.860Z"
   },
   {
    "duration": 274,
    "start_time": "2022-09-06T10:18:42.018Z"
   },
   {
    "duration": 2,
    "start_time": "2022-09-06T10:18:42.294Z"
   },
   {
    "duration": 41,
    "start_time": "2022-09-06T10:18:42.298Z"
   },
   {
    "duration": 11,
    "start_time": "2022-09-06T10:18:42.341Z"
   },
   {
    "duration": 14,
    "start_time": "2022-09-06T10:18:42.354Z"
   },
   {
    "duration": 5,
    "start_time": "2022-09-06T10:18:42.370Z"
   },
   {
    "duration": 10,
    "start_time": "2022-09-06T10:18:42.377Z"
   },
   {
    "duration": 12,
    "start_time": "2022-09-06T10:18:42.389Z"
   },
   {
    "duration": 9,
    "start_time": "2022-09-06T10:18:42.403Z"
   },
   {
    "duration": 6,
    "start_time": "2022-09-06T10:18:42.413Z"
   },
   {
    "duration": 8,
    "start_time": "2022-09-06T10:18:42.421Z"
   },
   {
    "duration": 10,
    "start_time": "2022-09-06T10:18:42.431Z"
   },
   {
    "duration": 10,
    "start_time": "2022-09-06T10:18:42.443Z"
   },
   {
    "duration": 12,
    "start_time": "2022-09-06T10:18:42.454Z"
   },
   {
    "duration": 19,
    "start_time": "2022-09-06T10:18:42.468Z"
   },
   {
    "duration": 8,
    "start_time": "2022-09-06T10:18:42.489Z"
   },
   {
    "duration": 7,
    "start_time": "2022-09-06T10:18:42.499Z"
   },
   {
    "duration": 11,
    "start_time": "2022-09-06T10:18:42.507Z"
   },
   {
    "duration": 5,
    "start_time": "2022-09-06T10:18:42.520Z"
   },
   {
    "duration": 7,
    "start_time": "2022-09-06T10:18:42.527Z"
   },
   {
    "duration": 6,
    "start_time": "2022-09-06T10:18:42.535Z"
   },
   {
    "duration": 10,
    "start_time": "2022-09-06T10:18:42.543Z"
   },
   {
    "duration": 39,
    "start_time": "2022-09-06T10:18:42.587Z"
   },
   {
    "duration": 12,
    "start_time": "2022-09-06T10:18:42.627Z"
   },
   {
    "duration": 1023,
    "start_time": "2022-09-06T10:18:42.640Z"
   },
   {
    "duration": 936,
    "start_time": "2022-09-06T10:18:43.665Z"
   },
   {
    "duration": 1472,
    "start_time": "2022-09-06T10:18:44.602Z"
   },
   {
    "duration": 5,
    "start_time": "2022-09-06T10:18:46.076Z"
   },
   {
    "duration": 10,
    "start_time": "2022-09-06T10:18:46.082Z"
   },
   {
    "duration": 3,
    "start_time": "2022-09-06T10:18:46.093Z"
   },
   {
    "duration": 40,
    "start_time": "2022-09-06T10:18:46.097Z"
   },
   {
    "duration": 6,
    "start_time": "2022-09-06T10:18:46.138Z"
   },
   {
    "duration": 41,
    "start_time": "2022-09-06T10:18:46.146Z"
   },
   {
    "duration": 477,
    "start_time": "2022-09-06T10:18:46.190Z"
   },
   {
    "duration": 32,
    "start_time": "2022-09-06T10:18:46.669Z"
   },
   {
    "duration": 4,
    "start_time": "2022-09-06T10:18:46.702Z"
   },
   {
    "duration": 12,
    "start_time": "2022-09-06T10:18:46.709Z"
   },
   {
    "duration": 8,
    "start_time": "2022-09-06T10:18:46.722Z"
   },
   {
    "duration": 611,
    "start_time": "2022-09-06T10:18:46.731Z"
   },
   {
    "duration": 110026,
    "start_time": "2022-09-06T10:18:47.345Z"
   },
   {
    "duration": 3,
    "start_time": "2022-09-06T10:20:37.372Z"
   },
   {
    "duration": 1410,
    "start_time": "2022-09-06T10:20:37.377Z"
   },
   {
    "duration": 4,
    "start_time": "2022-09-06T10:20:38.790Z"
   },
   {
    "duration": 112,
    "start_time": "2022-09-06T10:20:38.796Z"
   },
   {
    "duration": 16,
    "start_time": "2022-09-06T10:20:38.909Z"
   },
   {
    "duration": 131,
    "start_time": "2022-09-06T10:20:38.926Z"
   },
   {
    "duration": 0,
    "start_time": "2022-09-06T10:20:39.059Z"
   },
   {
    "duration": 0,
    "start_time": "2022-09-06T10:20:39.060Z"
   },
   {
    "duration": 0,
    "start_time": "2022-09-06T10:20:39.061Z"
   },
   {
    "duration": 7,
    "start_time": "2022-09-06T10:21:31.462Z"
   },
   {
    "duration": 25,
    "start_time": "2022-09-06T10:21:43.818Z"
   },
   {
    "duration": 8,
    "start_time": "2022-09-06T10:21:49.664Z"
   },
   {
    "duration": 8,
    "start_time": "2022-09-06T10:22:02.662Z"
   },
   {
    "duration": 4,
    "start_time": "2022-09-06T10:22:10.966Z"
   },
   {
    "duration": 11,
    "start_time": "2022-09-06T10:22:18.276Z"
   },
   {
    "duration": 4,
    "start_time": "2022-09-06T10:22:41.400Z"
   },
   {
    "duration": 82,
    "start_time": "2022-09-06T10:23:20.058Z"
   },
   {
    "duration": 30,
    "start_time": "2022-09-06T10:24:04.822Z"
   },
   {
    "duration": 25,
    "start_time": "2022-09-06T10:26:04.824Z"
   },
   {
    "duration": 268,
    "start_time": "2022-09-06T10:26:13.638Z"
   },
   {
    "duration": 8,
    "start_time": "2022-09-06T10:30:00.997Z"
   },
   {
    "duration": 9,
    "start_time": "2022-09-06T10:30:03.501Z"
   },
   {
    "duration": 10,
    "start_time": "2022-09-06T10:30:26.359Z"
   },
   {
    "duration": 9,
    "start_time": "2022-09-06T10:30:28.725Z"
   },
   {
    "duration": 5,
    "start_time": "2022-09-06T10:34:04.190Z"
   },
   {
    "duration": 12,
    "start_time": "2022-09-06T10:34:11.772Z"
   },
   {
    "duration": 4,
    "start_time": "2022-09-06T10:34:39.930Z"
   },
   {
    "duration": 18,
    "start_time": "2022-09-06T10:36:41.413Z"
   },
   {
    "duration": 3,
    "start_time": "2022-09-06T10:37:15.537Z"
   },
   {
    "duration": 4,
    "start_time": "2022-09-06T10:37:25.557Z"
   },
   {
    "duration": 16,
    "start_time": "2022-09-06T10:37:30.158Z"
   },
   {
    "duration": 30,
    "start_time": "2022-09-06T10:51:11.697Z"
   },
   {
    "duration": 6,
    "start_time": "2022-09-06T10:53:02.897Z"
   },
   {
    "duration": 5,
    "start_time": "2022-09-06T10:53:20.996Z"
   },
   {
    "duration": 41,
    "start_time": "2022-09-06T10:53:34.345Z"
   },
   {
    "duration": 43,
    "start_time": "2022-09-06T10:54:01.292Z"
   },
   {
    "duration": 182,
    "start_time": "2022-09-06T10:54:18.819Z"
   },
   {
    "duration": 14,
    "start_time": "2022-09-06T10:54:38.331Z"
   },
   {
    "duration": 5,
    "start_time": "2022-09-06T10:55:09.432Z"
   },
   {
    "duration": 40,
    "start_time": "2022-09-06T10:55:19.105Z"
   },
   {
    "duration": 12,
    "start_time": "2022-09-06T10:55:28.179Z"
   },
   {
    "duration": 7,
    "start_time": "2022-09-06T10:59:14.040Z"
   },
   {
    "duration": 13,
    "start_time": "2022-09-06T10:59:20.074Z"
   },
   {
    "duration": 12,
    "start_time": "2022-09-06T10:59:25.514Z"
   },
   {
    "duration": 11,
    "start_time": "2022-09-06T10:59:39.962Z"
   },
   {
    "duration": 20,
    "start_time": "2022-09-06T11:12:41.310Z"
   },
   {
    "duration": 22,
    "start_time": "2022-09-06T11:13:03.522Z"
   },
   {
    "duration": 131,
    "start_time": "2022-09-06T11:14:22.119Z"
   },
   {
    "duration": 26,
    "start_time": "2022-09-06T11:16:03.995Z"
   },
   {
    "duration": 22,
    "start_time": "2022-09-06T11:16:42.473Z"
   },
   {
    "duration": 141,
    "start_time": "2022-09-06T11:17:12.721Z"
   },
   {
    "duration": 33,
    "start_time": "2022-09-06T11:17:19.943Z"
   },
   {
    "duration": 31,
    "start_time": "2022-09-06T11:18:32.340Z"
   },
   {
    "duration": 32,
    "start_time": "2022-09-06T11:19:11.479Z"
   },
   {
    "duration": 30,
    "start_time": "2022-09-06T11:20:12.627Z"
   },
   {
    "duration": 30,
    "start_time": "2022-09-06T11:20:48.041Z"
   },
   {
    "duration": 31,
    "start_time": "2022-09-06T11:22:01.313Z"
   },
   {
    "duration": 31,
    "start_time": "2022-09-06T11:22:17.119Z"
   },
   {
    "duration": 118,
    "start_time": "2022-09-06T12:42:41.955Z"
   },
   {
    "duration": 1044,
    "start_time": "2022-09-06T12:45:51.902Z"
   },
   {
    "duration": 3,
    "start_time": "2022-09-06T12:47:01.355Z"
   },
   {
    "duration": 1026,
    "start_time": "2022-09-06T12:47:07.318Z"
   },
   {
    "duration": 3,
    "start_time": "2022-09-06T13:01:34.571Z"
   },
   {
    "duration": 5,
    "start_time": "2022-09-06T13:01:46.319Z"
   },
   {
    "duration": 828,
    "start_time": "2022-09-06T13:42:56.303Z"
   },
   {
    "duration": 723,
    "start_time": "2022-09-06T13:44:09.517Z"
   },
   {
    "duration": 844,
    "start_time": "2022-09-06T13:45:03.629Z"
   },
   {
    "duration": 7,
    "start_time": "2022-09-06T13:46:04.035Z"
   },
   {
    "duration": 6,
    "start_time": "2022-09-06T13:46:08.133Z"
   },
   {
    "duration": 709,
    "start_time": "2022-09-06T13:46:14.940Z"
   },
   {
    "duration": 586,
    "start_time": "2022-09-06T13:46:32.004Z"
   },
   {
    "duration": 7,
    "start_time": "2022-09-06T13:46:54.688Z"
   },
   {
    "duration": 707,
    "start_time": "2022-09-06T13:47:11.905Z"
   },
   {
    "duration": 686,
    "start_time": "2022-09-06T13:47:28.640Z"
   },
   {
    "duration": 863,
    "start_time": "2022-09-06T13:48:02.739Z"
   },
   {
    "duration": 729,
    "start_time": "2022-09-06T13:48:10.843Z"
   },
   {
    "duration": 646,
    "start_time": "2022-09-06T13:51:22.269Z"
   },
   {
    "duration": 677,
    "start_time": "2022-09-06T13:51:42.156Z"
   },
   {
    "duration": 741,
    "start_time": "2022-09-06T13:51:53.534Z"
   },
   {
    "duration": 874,
    "start_time": "2022-09-06T13:52:05.737Z"
   },
   {
    "duration": 769,
    "start_time": "2022-09-06T13:52:22.809Z"
   },
   {
    "duration": 907,
    "start_time": "2022-09-06T13:52:27.681Z"
   },
   {
    "duration": 769,
    "start_time": "2022-09-06T13:52:38.148Z"
   },
   {
    "duration": 757,
    "start_time": "2022-09-06T13:52:47.034Z"
   },
   {
    "duration": 820,
    "start_time": "2022-09-06T13:56:15.617Z"
   },
   {
    "duration": 633,
    "start_time": "2022-09-06T13:56:30.534Z"
   },
   {
    "duration": 619,
    "start_time": "2022-09-06T13:56:35.469Z"
   },
   {
    "duration": 618,
    "start_time": "2022-09-06T13:56:46.755Z"
   },
   {
    "duration": 777,
    "start_time": "2022-09-06T13:56:55.266Z"
   },
   {
    "duration": 705,
    "start_time": "2022-09-06T13:57:03.667Z"
   },
   {
    "duration": 599,
    "start_time": "2022-09-06T13:58:19.020Z"
   },
   {
    "duration": 53,
    "start_time": "2022-09-06T13:58:38.664Z"
   },
   {
    "duration": 49,
    "start_time": "2022-09-06T13:58:43.395Z"
   },
   {
    "duration": 557,
    "start_time": "2022-09-06T13:58:47.209Z"
   },
   {
    "duration": 784,
    "start_time": "2022-09-06T13:59:43.907Z"
   },
   {
    "duration": 609,
    "start_time": "2022-09-06T13:59:50.835Z"
   },
   {
    "duration": 575,
    "start_time": "2022-09-06T14:00:12.811Z"
   },
   {
    "duration": 729,
    "start_time": "2022-09-06T14:01:07.358Z"
   },
   {
    "duration": 590,
    "start_time": "2022-09-06T14:01:36.811Z"
   },
   {
    "duration": 588,
    "start_time": "2022-09-06T14:01:50.307Z"
   },
   {
    "duration": 610,
    "start_time": "2022-09-06T14:02:06.978Z"
   },
   {
    "duration": 727,
    "start_time": "2022-09-06T14:02:14.335Z"
   },
   {
    "duration": 576,
    "start_time": "2022-09-06T14:02:18.547Z"
   },
   {
    "duration": 600,
    "start_time": "2022-09-06T14:02:58.413Z"
   },
   {
    "duration": 660,
    "start_time": "2022-09-06T14:03:05.746Z"
   },
   {
    "duration": 751,
    "start_time": "2022-09-06T14:03:15.433Z"
   },
   {
    "duration": 823,
    "start_time": "2022-09-06T14:04:01.472Z"
   },
   {
    "duration": 809,
    "start_time": "2022-09-06T14:04:12.944Z"
   },
   {
    "duration": 750,
    "start_time": "2022-09-06T14:04:22.653Z"
   },
   {
    "duration": 592,
    "start_time": "2022-09-06T14:04:28.538Z"
   },
   {
    "duration": 810,
    "start_time": "2022-09-06T14:04:38.466Z"
   },
   {
    "duration": 58,
    "start_time": "2022-09-06T14:07:46.566Z"
   },
   {
    "duration": 1258,
    "start_time": "2022-09-06T14:08:16.413Z"
   },
   {
    "duration": 327,
    "start_time": "2022-09-06T14:08:17.673Z"
   },
   {
    "duration": 3,
    "start_time": "2022-09-06T14:08:18.002Z"
   },
   {
    "duration": 37,
    "start_time": "2022-09-06T14:08:18.007Z"
   },
   {
    "duration": 12,
    "start_time": "2022-09-06T14:08:18.046Z"
   },
   {
    "duration": 14,
    "start_time": "2022-09-06T14:08:18.060Z"
   },
   {
    "duration": 8,
    "start_time": "2022-09-06T14:08:18.076Z"
   },
   {
    "duration": 14,
    "start_time": "2022-09-06T14:08:18.085Z"
   },
   {
    "duration": 7,
    "start_time": "2022-09-06T14:08:18.100Z"
   },
   {
    "duration": 8,
    "start_time": "2022-09-06T14:08:18.109Z"
   },
   {
    "duration": 7,
    "start_time": "2022-09-06T14:08:18.118Z"
   },
   {
    "duration": 7,
    "start_time": "2022-09-06T14:08:18.126Z"
   },
   {
    "duration": 10,
    "start_time": "2022-09-06T14:08:18.135Z"
   },
   {
    "duration": 6,
    "start_time": "2022-09-06T14:08:18.147Z"
   },
   {
    "duration": 9,
    "start_time": "2022-09-06T14:08:18.154Z"
   },
   {
    "duration": 7,
    "start_time": "2022-09-06T14:08:18.164Z"
   },
   {
    "duration": 20,
    "start_time": "2022-09-06T14:08:18.172Z"
   },
   {
    "duration": 17,
    "start_time": "2022-09-06T14:08:18.193Z"
   },
   {
    "duration": 8,
    "start_time": "2022-09-06T14:08:18.211Z"
   },
   {
    "duration": 5,
    "start_time": "2022-09-06T14:08:18.220Z"
   },
   {
    "duration": 8,
    "start_time": "2022-09-06T14:08:18.226Z"
   },
   {
    "duration": 5,
    "start_time": "2022-09-06T14:08:18.236Z"
   },
   {
    "duration": 11,
    "start_time": "2022-09-06T14:08:18.242Z"
   },
   {
    "duration": 62,
    "start_time": "2022-09-06T14:08:18.254Z"
   },
   {
    "duration": 12,
    "start_time": "2022-09-06T14:08:18.317Z"
   },
   {
    "duration": 860,
    "start_time": "2022-09-06T14:08:18.330Z"
   },
   {
    "duration": 717,
    "start_time": "2022-09-06T14:08:19.192Z"
   },
   {
    "duration": 1451,
    "start_time": "2022-09-06T14:08:19.911Z"
   },
   {
    "duration": 4,
    "start_time": "2022-09-06T14:08:21.363Z"
   },
   {
    "duration": 18,
    "start_time": "2022-09-06T14:08:21.369Z"
   },
   {
    "duration": 3,
    "start_time": "2022-09-06T14:08:21.388Z"
   },
   {
    "duration": 33,
    "start_time": "2022-09-06T14:08:21.392Z"
   },
   {
    "duration": 6,
    "start_time": "2022-09-06T14:08:21.426Z"
   },
   {
    "duration": 62,
    "start_time": "2022-09-06T14:08:21.434Z"
   },
   {
    "duration": 413,
    "start_time": "2022-09-06T14:08:21.499Z"
   },
   {
    "duration": 25,
    "start_time": "2022-09-06T14:08:21.914Z"
   },
   {
    "duration": 4,
    "start_time": "2022-09-06T14:08:21.941Z"
   },
   {
    "duration": 8,
    "start_time": "2022-09-06T14:08:21.947Z"
   },
   {
    "duration": 32,
    "start_time": "2022-09-06T14:08:21.957Z"
   },
   {
    "duration": 609,
    "start_time": "2022-09-06T14:08:21.991Z"
   },
   {
    "duration": 108603,
    "start_time": "2022-09-06T14:08:22.603Z"
   },
   {
    "duration": 3,
    "start_time": "2022-09-06T14:10:11.207Z"
   },
   {
    "duration": 1480,
    "start_time": "2022-09-06T14:10:11.211Z"
   },
   {
    "duration": 94,
    "start_time": "2022-09-06T14:10:12.693Z"
   },
   {
    "duration": 7,
    "start_time": "2022-09-06T14:10:12.789Z"
   },
   {
    "duration": 68,
    "start_time": "2022-09-06T14:10:12.798Z"
   },
   {
    "duration": 1616,
    "start_time": "2022-09-06T14:10:12.868Z"
   },
   {
    "duration": 1044,
    "start_time": "2022-09-06T14:10:14.486Z"
   },
   {
    "duration": 10,
    "start_time": "2022-09-06T14:10:15.532Z"
   },
   {
    "duration": 1243,
    "start_time": "2022-09-06T14:32:45.344Z"
   },
   {
    "duration": 1027,
    "start_time": "2022-09-06T14:33:09.921Z"
   },
   {
    "duration": 944,
    "start_time": "2022-09-06T14:33:19.048Z"
   },
   {
    "duration": 1065,
    "start_time": "2022-09-06T14:33:49.294Z"
   },
   {
    "duration": 829,
    "start_time": "2022-09-06T14:34:35.613Z"
   },
   {
    "duration": 934,
    "start_time": "2022-09-06T14:34:52.378Z"
   },
   {
    "duration": 971,
    "start_time": "2022-09-06T14:36:14.987Z"
   },
   {
    "duration": 801,
    "start_time": "2022-09-06T14:36:35.459Z"
   },
   {
    "duration": 1033,
    "start_time": "2022-09-06T14:37:21.314Z"
   },
   {
    "duration": 772,
    "start_time": "2022-09-06T14:37:31.536Z"
   },
   {
    "duration": 917,
    "start_time": "2022-09-06T14:37:58.387Z"
   },
   {
    "duration": 880,
    "start_time": "2022-09-06T14:38:07.735Z"
   },
   {
    "duration": 943,
    "start_time": "2022-09-06T14:38:21.271Z"
   },
   {
    "duration": 905,
    "start_time": "2022-09-06T14:39:06.249Z"
   },
   {
    "duration": 1105,
    "start_time": "2022-09-06T14:39:50.922Z"
   },
   {
    "duration": 261,
    "start_time": "2022-09-06T14:39:52.029Z"
   },
   {
    "duration": 2,
    "start_time": "2022-09-06T14:39:52.292Z"
   },
   {
    "duration": 56,
    "start_time": "2022-09-06T14:39:52.296Z"
   },
   {
    "duration": 12,
    "start_time": "2022-09-06T14:39:52.355Z"
   },
   {
    "duration": 25,
    "start_time": "2022-09-06T14:39:52.369Z"
   },
   {
    "duration": 22,
    "start_time": "2022-09-06T14:39:52.396Z"
   },
   {
    "duration": 37,
    "start_time": "2022-09-06T14:39:52.420Z"
   },
   {
    "duration": 22,
    "start_time": "2022-09-06T14:39:52.458Z"
   },
   {
    "duration": 27,
    "start_time": "2022-09-06T14:39:52.482Z"
   },
   {
    "duration": 21,
    "start_time": "2022-09-06T14:39:52.510Z"
   },
   {
    "duration": 34,
    "start_time": "2022-09-06T14:39:52.533Z"
   },
   {
    "duration": 29,
    "start_time": "2022-09-06T14:39:52.568Z"
   },
   {
    "duration": 25,
    "start_time": "2022-09-06T14:39:52.600Z"
   },
   {
    "duration": 31,
    "start_time": "2022-09-06T14:39:52.627Z"
   },
   {
    "duration": 18,
    "start_time": "2022-09-06T14:39:52.660Z"
   },
   {
    "duration": 36,
    "start_time": "2022-09-06T14:39:52.679Z"
   },
   {
    "duration": 13,
    "start_time": "2022-09-06T14:39:52.717Z"
   },
   {
    "duration": 28,
    "start_time": "2022-09-06T14:39:52.731Z"
   },
   {
    "duration": 25,
    "start_time": "2022-09-06T14:39:52.761Z"
   },
   {
    "duration": 19,
    "start_time": "2022-09-06T14:39:52.788Z"
   },
   {
    "duration": 27,
    "start_time": "2022-09-06T14:39:52.809Z"
   },
   {
    "duration": 34,
    "start_time": "2022-09-06T14:39:52.837Z"
   },
   {
    "duration": 57,
    "start_time": "2022-09-06T14:39:52.873Z"
   },
   {
    "duration": 12,
    "start_time": "2022-09-06T14:39:52.932Z"
   },
   {
    "duration": 756,
    "start_time": "2022-09-06T14:39:52.946Z"
   },
   {
    "duration": 675,
    "start_time": "2022-09-06T14:39:53.704Z"
   },
   {
    "duration": 1442,
    "start_time": "2022-09-06T14:39:54.380Z"
   },
   {
    "duration": 4,
    "start_time": "2022-09-06T14:39:55.824Z"
   },
   {
    "duration": 21,
    "start_time": "2022-09-06T14:39:55.829Z"
   },
   {
    "duration": 6,
    "start_time": "2022-09-06T14:39:55.851Z"
   },
   {
    "duration": 31,
    "start_time": "2022-09-06T14:39:55.858Z"
   },
   {
    "duration": 4,
    "start_time": "2022-09-06T14:39:55.891Z"
   },
   {
    "duration": 91,
    "start_time": "2022-09-06T14:39:55.897Z"
   },
   {
    "duration": 439,
    "start_time": "2022-09-06T14:39:55.991Z"
   },
   {
    "duration": 31,
    "start_time": "2022-09-06T14:39:56.432Z"
   },
   {
    "duration": 3,
    "start_time": "2022-09-06T14:39:56.465Z"
   },
   {
    "duration": 21,
    "start_time": "2022-09-06T14:39:56.470Z"
   },
   {
    "duration": 7,
    "start_time": "2022-09-06T14:39:56.493Z"
   },
   {
    "duration": 614,
    "start_time": "2022-09-06T14:39:56.501Z"
   },
   {
    "duration": 109707,
    "start_time": "2022-09-06T14:39:57.118Z"
   },
   {
    "duration": 3,
    "start_time": "2022-09-06T14:41:46.826Z"
   },
   {
    "duration": 1460,
    "start_time": "2022-09-06T14:41:46.830Z"
   },
   {
    "duration": 97,
    "start_time": "2022-09-06T14:41:48.293Z"
   },
   {
    "duration": 27,
    "start_time": "2022-09-06T14:41:48.392Z"
   },
   {
    "duration": 71,
    "start_time": "2022-09-06T14:41:48.420Z"
   },
   {
    "duration": 1171,
    "start_time": "2022-09-06T14:41:48.493Z"
   },
   {
    "duration": 801,
    "start_time": "2022-09-06T14:41:49.666Z"
   },
   {
    "duration": 21,
    "start_time": "2022-09-06T14:41:50.469Z"
   }
  ],
  "kernelspec": {
   "display_name": "Python 3 (ipykernel)",
   "language": "python",
   "name": "python3"
  },
  "language_info": {
   "codemirror_mode": {
    "name": "ipython",
    "version": 3
   },
   "file_extension": ".py",
   "mimetype": "text/x-python",
   "name": "python",
   "nbconvert_exporter": "python",
   "pygments_lexer": "ipython3",
   "version": "3.9.7"
  },
  "toc": {
   "base_numbering": 1,
   "nav_menu": {},
   "number_sections": true,
   "sideBar": true,
   "skip_h1_title": true,
   "title_cell": "Содержание",
   "title_sidebar": "Анализ оттока пользователей на примере сети фитнес-центров",
   "toc_cell": true,
   "toc_position": {
    "height": "calc(100% - 180px)",
    "left": "10px",
    "top": "150px",
    "width": "268.438px"
   },
   "toc_section_display": true,
   "toc_window_display": false
  }
 },
 "nbformat": 4,
 "nbformat_minor": 2
}
