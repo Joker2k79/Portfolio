{
 "cells": [
  {
   "cell_type": "markdown",
   "metadata": {},
   "source": [
    "<h1>Выпускной проект<a class=\"tocSkip\"></h1>\n",
    "<h3>Описание проекта<a class=\"tocSkip\"></h3>\n",
    "\n",
    "Помогите «Нупозвони» найти самых неэффективных операторов. Признаки низкой эффективности:\n",
    "\n",
    "- много пропущенных входящих вызовов;\n",
    "- долгое ожидания ответа при входящих внешних вызовах;\n",
    "- мало исходящих вывозов — в случае тех колл-центров, что специализируются на обзвонах, а не обработке входящих звонков\n",
    "\n",
    "<h4>Описание данных<a class=\"tocSkip\"></h4>\n",
    "\n",
    "Датасет описывает использование услуг «Нупозвони» — провайдера виртуальный телефонии. Его клиенты — колл-центры, которые: \n",
    "\n",
    "- распределяют входящие вызовы на операторов;\n",
    "- совершают исходящие вызовы силами операторов\n",
    "\n",
    "Также операторы могут делать внутренние вызовы —  вызовы друг между другом внутри сети виртуальной телефонии.\n",
    "\n",
    "Колонки в `telecom_dataset.csv`:\n",
    "\n",
    "- `user_id` — Идентификатор клиентского аккаунта в сервисе\n",
    "- `date` — Дата статистики\n",
    "- `direction` — Направление вызовов (out - исходящий вызов, in — входящий вызов)\n",
    "- `internal` — Является ли звонок внутренним звонком между операторами клиента\n",
    "- `operator_id` — Идентификатор оператора\n",
    "- `is_missed_call` — Является ли звонок пропущенным\n",
    "- `calls_count` — Количество звонков\n",
    "- `call_duration` — Длительность звонка (без учета времени ожидания)\n",
    "- `total_call_duration` — Длительность звонка (с учетом времени ожидания)"
   ]
  },
  {
   "cell_type": "code",
   "execution_count": 1,
   "metadata": {},
   "outputs": [],
   "source": [
    "import warnings\n",
    "warnings.simplefilter(action='ignore', category=FutureWarning)\n",
    "\n",
    "import pandas as pd\n",
    "import seaborn as sns\n",
    "import matplotlib.pyplot as plt\n",
    "\n",
    "import math as mth\n",
    "from scipy import stats as st"
   ]
  },
  {
   "cell_type": "markdown",
   "metadata": {},
   "source": [
    "### Загрузка и предобработка данных"
   ]
  },
  {
   "cell_type": "code",
   "execution_count": 2,
   "metadata": {},
   "outputs": [],
   "source": [
    "pd.set_option('display.float_format', '{:.2f}'.format)"
   ]
  },
  {
   "cell_type": "code",
   "execution_count": 3,
   "metadata": {},
   "outputs": [],
   "source": [
    "try:\n",
    "    df = pd.read_csv('telecom_dataset.csv')\n",
    "except:\n",
    "    print('Ошибка подгрузки данных')"
   ]
  },
  {
   "cell_type": "code",
   "execution_count": 4,
   "metadata": {},
   "outputs": [
    {
     "name": "stdout",
     "output_type": "stream",
     "text": [
      "<class 'pandas.core.frame.DataFrame'>\n",
      "RangeIndex: 53902 entries, 0 to 53901\n",
      "Data columns (total 9 columns):\n",
      " #   Column               Non-Null Count  Dtype  \n",
      "---  ------               --------------  -----  \n",
      " 0   user_id              53902 non-null  int64  \n",
      " 1   date                 53902 non-null  object \n",
      " 2   direction            53902 non-null  object \n",
      " 3   internal             53785 non-null  object \n",
      " 4   operator_id          45730 non-null  float64\n",
      " 5   is_missed_call       53902 non-null  bool   \n",
      " 6   calls_count          53902 non-null  int64  \n",
      " 7   call_duration        53902 non-null  int64  \n",
      " 8   total_call_duration  53902 non-null  int64  \n",
      "dtypes: bool(1), float64(1), int64(4), object(3)\n",
      "memory usage: 3.3+ MB\n"
     ]
    }
   ],
   "source": [
    "df.info()"
   ]
  },
  {
   "cell_type": "code",
   "execution_count": 5,
   "metadata": {},
   "outputs": [
    {
     "data": {
      "text/html": [
       "<div>\n",
       "<style scoped>\n",
       "    .dataframe tbody tr th:only-of-type {\n",
       "        vertical-align: middle;\n",
       "    }\n",
       "\n",
       "    .dataframe tbody tr th {\n",
       "        vertical-align: top;\n",
       "    }\n",
       "\n",
       "    .dataframe thead th {\n",
       "        text-align: right;\n",
       "    }\n",
       "</style>\n",
       "<table border=\"1\" class=\"dataframe\">\n",
       "  <thead>\n",
       "    <tr style=\"text-align: right;\">\n",
       "      <th></th>\n",
       "      <th>user_id</th>\n",
       "      <th>date</th>\n",
       "      <th>direction</th>\n",
       "      <th>internal</th>\n",
       "      <th>operator_id</th>\n",
       "      <th>is_missed_call</th>\n",
       "      <th>calls_count</th>\n",
       "      <th>call_duration</th>\n",
       "      <th>total_call_duration</th>\n",
       "    </tr>\n",
       "  </thead>\n",
       "  <tbody>\n",
       "    <tr>\n",
       "      <th>28615</th>\n",
       "      <td>167185</td>\n",
       "      <td>2019-10-04 00:00:00+03:00</td>\n",
       "      <td>out</td>\n",
       "      <td>False</td>\n",
       "      <td>917682.00</td>\n",
       "      <td>False</td>\n",
       "      <td>2</td>\n",
       "      <td>15</td>\n",
       "      <td>37</td>\n",
       "    </tr>\n",
       "    <tr>\n",
       "      <th>48762</th>\n",
       "      <td>168187</td>\n",
       "      <td>2019-11-14 00:00:00+03:00</td>\n",
       "      <td>out</td>\n",
       "      <td>False</td>\n",
       "      <td>937860.00</td>\n",
       "      <td>False</td>\n",
       "      <td>52</td>\n",
       "      <td>4028</td>\n",
       "      <td>5121</td>\n",
       "    </tr>\n",
       "    <tr>\n",
       "      <th>40059</th>\n",
       "      <td>167799</td>\n",
       "      <td>2019-10-14 00:00:00+03:00</td>\n",
       "      <td>out</td>\n",
       "      <td>False</td>\n",
       "      <td>925104.00</td>\n",
       "      <td>True</td>\n",
       "      <td>6</td>\n",
       "      <td>0</td>\n",
       "      <td>212</td>\n",
       "    </tr>\n",
       "    <tr>\n",
       "      <th>30790</th>\n",
       "      <td>167359</td>\n",
       "      <td>2019-11-01 00:00:00+03:00</td>\n",
       "      <td>out</td>\n",
       "      <td>True</td>\n",
       "      <td>912722.00</td>\n",
       "      <td>True</td>\n",
       "      <td>6</td>\n",
       "      <td>0</td>\n",
       "      <td>105</td>\n",
       "    </tr>\n",
       "    <tr>\n",
       "      <th>12551</th>\n",
       "      <td>166727</td>\n",
       "      <td>2019-10-26 00:00:00+03:00</td>\n",
       "      <td>in</td>\n",
       "      <td>False</td>\n",
       "      <td>NaN</td>\n",
       "      <td>True</td>\n",
       "      <td>1</td>\n",
       "      <td>0</td>\n",
       "      <td>2</td>\n",
       "    </tr>\n",
       "  </tbody>\n",
       "</table>\n",
       "</div>"
      ],
      "text/plain": [
       "       user_id                       date direction internal  operator_id  \\\n",
       "28615   167185  2019-10-04 00:00:00+03:00       out    False    917682.00   \n",
       "48762   168187  2019-11-14 00:00:00+03:00       out    False    937860.00   \n",
       "40059   167799  2019-10-14 00:00:00+03:00       out    False    925104.00   \n",
       "30790   167359  2019-11-01 00:00:00+03:00       out     True    912722.00   \n",
       "12551   166727  2019-10-26 00:00:00+03:00        in    False          NaN   \n",
       "\n",
       "       is_missed_call  calls_count  call_duration  total_call_duration  \n",
       "28615           False            2             15                   37  \n",
       "48762           False           52           4028                 5121  \n",
       "40059            True            6              0                  212  \n",
       "30790            True            6              0                  105  \n",
       "12551            True            1              0                    2  "
      ]
     },
     "execution_count": 5,
     "metadata": {},
     "output_type": "execute_result"
    }
   ],
   "source": [
    "df.sample(5)"
   ]
  },
  {
   "cell_type": "markdown",
   "metadata": {},
   "source": [
    "#### Столбец operator_id"
   ]
  },
  {
   "cell_type": "code",
   "execution_count": 6,
   "metadata": {},
   "outputs": [
    {
     "data": {
      "text/plain": [
       "1092"
      ]
     },
     "execution_count": 6,
     "metadata": {},
     "output_type": "execute_result"
    }
   ],
   "source": [
    "df.operator_id.nunique()"
   ]
  },
  {
   "cell_type": "markdown",
   "metadata": {},
   "source": [
    "1092 - разных оператора, посмотрим на количество пропущенных значений"
   ]
  },
  {
   "cell_type": "code",
   "execution_count": 7,
   "metadata": {},
   "outputs": [
    {
     "data": {
      "text/plain": [
       "8172"
      ]
     },
     "execution_count": 7,
     "metadata": {},
     "output_type": "execute_result"
    }
   ],
   "source": [
    "df.operator_id.isnull().sum()"
   ]
  },
  {
   "cell_type": "markdown",
   "metadata": {},
   "source": [
    "8172 пропуска - нет номеров оператора, эффективность которых нам надо оценить, это 15.16% это общих данных, посмотрим на пропуски подробнее"
   ]
  },
  {
   "cell_type": "code",
   "execution_count": 8,
   "metadata": {},
   "outputs": [
    {
     "data": {
      "text/html": [
       "<div>\n",
       "<style scoped>\n",
       "    .dataframe tbody tr th:only-of-type {\n",
       "        vertical-align: middle;\n",
       "    }\n",
       "\n",
       "    .dataframe tbody tr th {\n",
       "        vertical-align: top;\n",
       "    }\n",
       "\n",
       "    .dataframe thead th {\n",
       "        text-align: right;\n",
       "    }\n",
       "</style>\n",
       "<table border=\"1\" class=\"dataframe\">\n",
       "  <thead>\n",
       "    <tr style=\"text-align: right;\">\n",
       "      <th></th>\n",
       "      <th>user_id</th>\n",
       "      <th>date</th>\n",
       "      <th>direction</th>\n",
       "      <th>internal</th>\n",
       "      <th>operator_id</th>\n",
       "      <th>is_missed_call</th>\n",
       "      <th>calls_count</th>\n",
       "      <th>call_duration</th>\n",
       "      <th>total_call_duration</th>\n",
       "    </tr>\n",
       "  </thead>\n",
       "  <tbody>\n",
       "    <tr>\n",
       "      <th>12615</th>\n",
       "      <td>166732</td>\n",
       "      <td>2019-10-09 00:00:00+03:00</td>\n",
       "      <td>in</td>\n",
       "      <td>True</td>\n",
       "      <td>NaN</td>\n",
       "      <td>True</td>\n",
       "      <td>1</td>\n",
       "      <td>0</td>\n",
       "      <td>5</td>\n",
       "    </tr>\n",
       "    <tr>\n",
       "      <th>3434</th>\n",
       "      <td>166485</td>\n",
       "      <td>2019-11-08 00:00:00+03:00</td>\n",
       "      <td>in</td>\n",
       "      <td>False</td>\n",
       "      <td>NaN</td>\n",
       "      <td>True</td>\n",
       "      <td>1</td>\n",
       "      <td>0</td>\n",
       "      <td>6</td>\n",
       "    </tr>\n",
       "    <tr>\n",
       "      <th>41715</th>\n",
       "      <td>167888</td>\n",
       "      <td>2019-11-04 00:00:00+03:00</td>\n",
       "      <td>in</td>\n",
       "      <td>False</td>\n",
       "      <td>NaN</td>\n",
       "      <td>True</td>\n",
       "      <td>5</td>\n",
       "      <td>0</td>\n",
       "      <td>144</td>\n",
       "    </tr>\n",
       "    <tr>\n",
       "      <th>6668</th>\n",
       "      <td>166582</td>\n",
       "      <td>2019-08-23 00:00:00+03:00</td>\n",
       "      <td>in</td>\n",
       "      <td>False</td>\n",
       "      <td>NaN</td>\n",
       "      <td>True</td>\n",
       "      <td>23</td>\n",
       "      <td>0</td>\n",
       "      <td>261</td>\n",
       "    </tr>\n",
       "    <tr>\n",
       "      <th>2844</th>\n",
       "      <td>166482</td>\n",
       "      <td>2019-10-08 00:00:00+03:00</td>\n",
       "      <td>in</td>\n",
       "      <td>False</td>\n",
       "      <td>NaN</td>\n",
       "      <td>True</td>\n",
       "      <td>1</td>\n",
       "      <td>0</td>\n",
       "      <td>3</td>\n",
       "    </tr>\n",
       "    <tr>\n",
       "      <th>22131</th>\n",
       "      <td>167053</td>\n",
       "      <td>2019-09-10 00:00:00+03:00</td>\n",
       "      <td>in</td>\n",
       "      <td>False</td>\n",
       "      <td>NaN</td>\n",
       "      <td>True</td>\n",
       "      <td>2</td>\n",
       "      <td>0</td>\n",
       "      <td>58</td>\n",
       "    </tr>\n",
       "    <tr>\n",
       "      <th>26816</th>\n",
       "      <td>167158</td>\n",
       "      <td>2019-09-22 00:00:00+03:00</td>\n",
       "      <td>in</td>\n",
       "      <td>False</td>\n",
       "      <td>NaN</td>\n",
       "      <td>True</td>\n",
       "      <td>1</td>\n",
       "      <td>0</td>\n",
       "      <td>31</td>\n",
       "    </tr>\n",
       "    <tr>\n",
       "      <th>10782</th>\n",
       "      <td>166680</td>\n",
       "      <td>2019-10-12 00:00:00+03:00</td>\n",
       "      <td>in</td>\n",
       "      <td>False</td>\n",
       "      <td>NaN</td>\n",
       "      <td>True</td>\n",
       "      <td>3</td>\n",
       "      <td>0</td>\n",
       "      <td>22</td>\n",
       "    </tr>\n",
       "    <tr>\n",
       "      <th>1203</th>\n",
       "      <td>166405</td>\n",
       "      <td>2019-10-15 00:00:00+03:00</td>\n",
       "      <td>in</td>\n",
       "      <td>False</td>\n",
       "      <td>NaN</td>\n",
       "      <td>True</td>\n",
       "      <td>34</td>\n",
       "      <td>0</td>\n",
       "      <td>712</td>\n",
       "    </tr>\n",
       "    <tr>\n",
       "      <th>5338</th>\n",
       "      <td>166520</td>\n",
       "      <td>2019-09-21 00:00:00+03:00</td>\n",
       "      <td>in</td>\n",
       "      <td>False</td>\n",
       "      <td>NaN</td>\n",
       "      <td>True</td>\n",
       "      <td>4</td>\n",
       "      <td>0</td>\n",
       "      <td>33</td>\n",
       "    </tr>\n",
       "  </tbody>\n",
       "</table>\n",
       "</div>"
      ],
      "text/plain": [
       "       user_id                       date direction internal  operator_id  \\\n",
       "12615   166732  2019-10-09 00:00:00+03:00        in     True          NaN   \n",
       "3434    166485  2019-11-08 00:00:00+03:00        in    False          NaN   \n",
       "41715   167888  2019-11-04 00:00:00+03:00        in    False          NaN   \n",
       "6668    166582  2019-08-23 00:00:00+03:00        in    False          NaN   \n",
       "2844    166482  2019-10-08 00:00:00+03:00        in    False          NaN   \n",
       "22131   167053  2019-09-10 00:00:00+03:00        in    False          NaN   \n",
       "26816   167158  2019-09-22 00:00:00+03:00        in    False          NaN   \n",
       "10782   166680  2019-10-12 00:00:00+03:00        in    False          NaN   \n",
       "1203    166405  2019-10-15 00:00:00+03:00        in    False          NaN   \n",
       "5338    166520  2019-09-21 00:00:00+03:00        in    False          NaN   \n",
       "\n",
       "       is_missed_call  calls_count  call_duration  total_call_duration  \n",
       "12615            True            1              0                    5  \n",
       "3434             True            1              0                    6  \n",
       "41715            True            5              0                  144  \n",
       "6668             True           23              0                  261  \n",
       "2844             True            1              0                    3  \n",
       "22131            True            2              0                   58  \n",
       "26816            True            1              0                   31  \n",
       "10782            True            3              0                   22  \n",
       "1203             True           34              0                  712  \n",
       "5338             True            4              0                   33  "
      ]
     },
     "execution_count": 8,
     "metadata": {},
     "output_type": "execute_result"
    }
   ],
   "source": [
    "df.query('operator_id.isna()==True', engine='python').sample(10)"
   ]
  },
  {
   "cell_type": "markdown",
   "metadata": {},
   "source": [
    "Мы видим, что записи о входящих и пропущенных звонках, посмотрим соотношение подробнее"
   ]
  },
  {
   "cell_type": "code",
   "execution_count": 9,
   "metadata": {},
   "outputs": [
    {
     "data": {
      "text/plain": [
       "in     7972\n",
       "out     200\n",
       "Name: direction, dtype: int64"
      ]
     },
     "execution_count": 9,
     "metadata": {},
     "output_type": "execute_result"
    }
   ],
   "source": [
    "df.query('operator_id.isna()==True', engine='python').direction.value_counts()"
   ]
  },
  {
   "cell_type": "code",
   "execution_count": 10,
   "metadata": {},
   "outputs": [
    {
     "data": {
      "text/plain": [
       "True     8050\n",
       "False     122\n",
       "Name: is_missed_call, dtype: int64"
      ]
     },
     "execution_count": 10,
     "metadata": {},
     "output_type": "execute_result"
    }
   ],
   "source": [
    "df.query('operator_id.isna()==True', engine='python').is_missed_call.value_counts()"
   ]
  },
  {
   "cell_type": "markdown",
   "metadata": {},
   "source": [
    "В NaN-ах 98.5% это записи о пропущеных звонках и 97.6% записи о входящих звонках;  \n",
    "Можно предположить, что это звонки которые провисели в ожидании и им так и не был \"назначен\" оператор, потому что все были заняты. Если это предположение верно, то КЦ в пиковые нагрузки не хватает операторов;  \n",
    "Несмотря на отсутствие номера оператора, эта часть данных будет полезна для оценки работы КЦ и для вычисления порогов эффективности операторов, поэтому данные удалять не будем, а для удобства работы с ними присвоим пропущенным значениям номер \"333\""
   ]
  },
  {
   "cell_type": "code",
   "execution_count": 11,
   "metadata": {},
   "outputs": [],
   "source": [
    "df.operator_id.fillna(333, inplace=True)"
   ]
  },
  {
   "cell_type": "markdown",
   "metadata": {},
   "source": [
    "Оperator_id это идентификатор, изменим тип данных на целочисленный"
   ]
  },
  {
   "cell_type": "code",
   "execution_count": 12,
   "metadata": {},
   "outputs": [],
   "source": [
    "df.operator_id = df.operator_id.astype('int64')"
   ]
  },
  {
   "cell_type": "markdown",
   "metadata": {},
   "source": [
    "#### Столбец internal"
   ]
  },
  {
   "cell_type": "markdown",
   "metadata": {},
   "source": [
    "Посмотрим на количество пропущенных значений и на сами данные"
   ]
  },
  {
   "cell_type": "code",
   "execution_count": 13,
   "metadata": {},
   "outputs": [
    {
     "data": {
      "text/plain": [
       "117"
      ]
     },
     "execution_count": 13,
     "metadata": {},
     "output_type": "execute_result"
    }
   ],
   "source": [
    "df.internal.isnull().sum()"
   ]
  },
  {
   "cell_type": "code",
   "execution_count": 14,
   "metadata": {},
   "outputs": [
    {
     "data": {
      "text/html": [
       "<div>\n",
       "<style scoped>\n",
       "    .dataframe tbody tr th:only-of-type {\n",
       "        vertical-align: middle;\n",
       "    }\n",
       "\n",
       "    .dataframe tbody tr th {\n",
       "        vertical-align: top;\n",
       "    }\n",
       "\n",
       "    .dataframe thead th {\n",
       "        text-align: right;\n",
       "    }\n",
       "</style>\n",
       "<table border=\"1\" class=\"dataframe\">\n",
       "  <thead>\n",
       "    <tr style=\"text-align: right;\">\n",
       "      <th></th>\n",
       "      <th>user_id</th>\n",
       "      <th>date</th>\n",
       "      <th>direction</th>\n",
       "      <th>internal</th>\n",
       "      <th>operator_id</th>\n",
       "      <th>is_missed_call</th>\n",
       "      <th>calls_count</th>\n",
       "      <th>call_duration</th>\n",
       "      <th>total_call_duration</th>\n",
       "    </tr>\n",
       "  </thead>\n",
       "  <tbody>\n",
       "    <tr>\n",
       "      <th>1007</th>\n",
       "      <td>166405</td>\n",
       "      <td>2019-09-18 00:00:00+03:00</td>\n",
       "      <td>in</td>\n",
       "      <td>NaN</td>\n",
       "      <td>333</td>\n",
       "      <td>True</td>\n",
       "      <td>1</td>\n",
       "      <td>0</td>\n",
       "      <td>59</td>\n",
       "    </tr>\n",
       "    <tr>\n",
       "      <th>35728</th>\n",
       "      <td>167534</td>\n",
       "      <td>2019-10-16 00:00:00+03:00</td>\n",
       "      <td>in</td>\n",
       "      <td>NaN</td>\n",
       "      <td>929332</td>\n",
       "      <td>False</td>\n",
       "      <td>1</td>\n",
       "      <td>5</td>\n",
       "      <td>18</td>\n",
       "    </tr>\n",
       "    <tr>\n",
       "      <th>37964</th>\n",
       "      <td>167650</td>\n",
       "      <td>2019-10-01 00:00:00+03:00</td>\n",
       "      <td>in</td>\n",
       "      <td>NaN</td>\n",
       "      <td>921318</td>\n",
       "      <td>False</td>\n",
       "      <td>1</td>\n",
       "      <td>124</td>\n",
       "      <td>131</td>\n",
       "    </tr>\n",
       "    <tr>\n",
       "      <th>24500</th>\n",
       "      <td>167110</td>\n",
       "      <td>2019-10-11 00:00:00+03:00</td>\n",
       "      <td>in</td>\n",
       "      <td>NaN</td>\n",
       "      <td>333</td>\n",
       "      <td>True</td>\n",
       "      <td>2</td>\n",
       "      <td>0</td>\n",
       "      <td>8</td>\n",
       "    </tr>\n",
       "    <tr>\n",
       "      <th>29887</th>\n",
       "      <td>167264</td>\n",
       "      <td>2019-11-15 00:00:00+03:00</td>\n",
       "      <td>in</td>\n",
       "      <td>NaN</td>\n",
       "      <td>919552</td>\n",
       "      <td>False</td>\n",
       "      <td>1</td>\n",
       "      <td>125</td>\n",
       "      <td>158</td>\n",
       "    </tr>\n",
       "    <tr>\n",
       "      <th>43860</th>\n",
       "      <td>168018</td>\n",
       "      <td>2019-11-28 00:00:00+03:00</td>\n",
       "      <td>in</td>\n",
       "      <td>NaN</td>\n",
       "      <td>333</td>\n",
       "      <td>True</td>\n",
       "      <td>1</td>\n",
       "      <td>0</td>\n",
       "      <td>2</td>\n",
       "    </tr>\n",
       "    <tr>\n",
       "      <th>24493</th>\n",
       "      <td>167110</td>\n",
       "      <td>2019-09-20 00:00:00+03:00</td>\n",
       "      <td>in</td>\n",
       "      <td>NaN</td>\n",
       "      <td>333</td>\n",
       "      <td>True</td>\n",
       "      <td>1</td>\n",
       "      <td>0</td>\n",
       "      <td>4</td>\n",
       "    </tr>\n",
       "    <tr>\n",
       "      <th>44352</th>\n",
       "      <td>168041</td>\n",
       "      <td>2019-11-06 00:00:00+03:00</td>\n",
       "      <td>in</td>\n",
       "      <td>NaN</td>\n",
       "      <td>936514</td>\n",
       "      <td>False</td>\n",
       "      <td>1</td>\n",
       "      <td>1</td>\n",
       "      <td>24</td>\n",
       "    </tr>\n",
       "    <tr>\n",
       "      <th>35725</th>\n",
       "      <td>167534</td>\n",
       "      <td>2019-10-15 00:00:00+03:00</td>\n",
       "      <td>in</td>\n",
       "      <td>NaN</td>\n",
       "      <td>333</td>\n",
       "      <td>True</td>\n",
       "      <td>1</td>\n",
       "      <td>0</td>\n",
       "      <td>15</td>\n",
       "    </tr>\n",
       "    <tr>\n",
       "      <th>50718</th>\n",
       "      <td>168252</td>\n",
       "      <td>2019-11-22 00:00:00+03:00</td>\n",
       "      <td>in</td>\n",
       "      <td>NaN</td>\n",
       "      <td>940658</td>\n",
       "      <td>False</td>\n",
       "      <td>1</td>\n",
       "      <td>20</td>\n",
       "      <td>27</td>\n",
       "    </tr>\n",
       "  </tbody>\n",
       "</table>\n",
       "</div>"
      ],
      "text/plain": [
       "       user_id                       date direction internal  operator_id  \\\n",
       "1007    166405  2019-09-18 00:00:00+03:00        in      NaN          333   \n",
       "35728   167534  2019-10-16 00:00:00+03:00        in      NaN       929332   \n",
       "37964   167650  2019-10-01 00:00:00+03:00        in      NaN       921318   \n",
       "24500   167110  2019-10-11 00:00:00+03:00        in      NaN          333   \n",
       "29887   167264  2019-11-15 00:00:00+03:00        in      NaN       919552   \n",
       "43860   168018  2019-11-28 00:00:00+03:00        in      NaN          333   \n",
       "24493   167110  2019-09-20 00:00:00+03:00        in      NaN          333   \n",
       "44352   168041  2019-11-06 00:00:00+03:00        in      NaN       936514   \n",
       "35725   167534  2019-10-15 00:00:00+03:00        in      NaN          333   \n",
       "50718   168252  2019-11-22 00:00:00+03:00        in      NaN       940658   \n",
       "\n",
       "       is_missed_call  calls_count  call_duration  total_call_duration  \n",
       "1007             True            1              0                   59  \n",
       "35728           False            1              5                   18  \n",
       "37964           False            1            124                  131  \n",
       "24500            True            2              0                    8  \n",
       "29887           False            1            125                  158  \n",
       "43860            True            1              0                    2  \n",
       "24493            True            1              0                    4  \n",
       "44352           False            1              1                   24  \n",
       "35725            True            1              0                   15  \n",
       "50718           False            1             20                   27  "
      ]
     },
     "execution_count": 14,
     "metadata": {},
     "output_type": "execute_result"
    }
   ],
   "source": [
    "df.query('internal.isna()==True', engine='python').sample(10)"
   ]
  },
  {
   "cell_type": "markdown",
   "metadata": {},
   "source": [
    "60 записей с пропущенными значениями, все звонки входящие и длительность разговора > 0, причина возникновения пропусков не понятна, возможно ошибка возникла при сборе или агрегации данных;  \n",
    "Для оценки эффективности операторов, если звонок входящий, внутренний он или внешний не имеет значения, поэтому данные удалять не будем, а пропуски заменим на 'False'"
   ]
  },
  {
   "cell_type": "code",
   "execution_count": 15,
   "metadata": {},
   "outputs": [],
   "source": [
    "df.loc[df.internal.isna(), 'internal'] = False"
   ]
  },
  {
   "cell_type": "code",
   "execution_count": 16,
   "metadata": {},
   "outputs": [
    {
     "data": {
      "text/plain": [
       "False    47738\n",
       "True      6164\n",
       "Name: internal, dtype: int64"
      ]
     },
     "execution_count": 16,
     "metadata": {},
     "output_type": "execute_result"
    }
   ],
   "source": [
    "df.internal.value_counts()"
   ]
  },
  {
   "cell_type": "markdown",
   "metadata": {},
   "source": [
    "#### Столбец user_id"
   ]
  },
  {
   "cell_type": "code",
   "execution_count": 17,
   "metadata": {},
   "outputs": [
    {
     "data": {
      "text/plain": [
       "307"
      ]
     },
     "execution_count": 17,
     "metadata": {},
     "output_type": "execute_result"
    }
   ],
   "source": [
    "df.user_id.nunique()"
   ]
  },
  {
   "cell_type": "code",
   "execution_count": 18,
   "metadata": {},
   "outputs": [
    {
     "data": {
      "text/plain": [
       "168187    2580\n",
       "166658    2107\n",
       "167497    1405\n",
       "167626    1311\n",
       "166916    1308\n",
       "          ... \n",
       "166584       1\n",
       "167981       1\n",
       "168578       1\n",
       "168013       1\n",
       "166554       1\n",
       "Name: user_id, Length: 307, dtype: int64"
      ]
     },
     "execution_count": 18,
     "metadata": {},
     "output_type": "execute_result"
    }
   ],
   "source": [
    "df.user_id.value_counts()"
   ]
  },
  {
   "cell_type": "markdown",
   "metadata": {},
   "source": [
    "Данные корректны, количество КЦ в нашем датасете - 290"
   ]
  },
  {
   "cell_type": "markdown",
   "metadata": {},
   "source": [
    "#### Столбец date"
   ]
  },
  {
   "cell_type": "markdown",
   "metadata": {},
   "source": [
    "Сделаем столбец date удобно читаемым и преобразуем тип к datetime64"
   ]
  },
  {
   "cell_type": "code",
   "execution_count": 19,
   "metadata": {},
   "outputs": [],
   "source": [
    "df['date'] = pd.to_datetime(df.date).dt.date\n",
    "df['date'] = pd.to_datetime(df.date)"
   ]
  },
  {
   "cell_type": "code",
   "execution_count": 20,
   "metadata": {},
   "outputs": [
    {
     "data": {
      "text/html": [
       "<div>\n",
       "<style scoped>\n",
       "    .dataframe tbody tr th:only-of-type {\n",
       "        vertical-align: middle;\n",
       "    }\n",
       "\n",
       "    .dataframe tbody tr th {\n",
       "        vertical-align: top;\n",
       "    }\n",
       "\n",
       "    .dataframe thead th {\n",
       "        text-align: right;\n",
       "    }\n",
       "</style>\n",
       "<table border=\"1\" class=\"dataframe\">\n",
       "  <thead>\n",
       "    <tr style=\"text-align: right;\">\n",
       "      <th></th>\n",
       "      <th>user_id</th>\n",
       "      <th>date</th>\n",
       "      <th>direction</th>\n",
       "      <th>internal</th>\n",
       "      <th>operator_id</th>\n",
       "      <th>is_missed_call</th>\n",
       "      <th>calls_count</th>\n",
       "      <th>call_duration</th>\n",
       "      <th>total_call_duration</th>\n",
       "    </tr>\n",
       "  </thead>\n",
       "  <tbody>\n",
       "    <tr>\n",
       "      <th>31617</th>\n",
       "      <td>167445</td>\n",
       "      <td>2019-10-29</td>\n",
       "      <td>in</td>\n",
       "      <td>False</td>\n",
       "      <td>920732</td>\n",
       "      <td>False</td>\n",
       "      <td>2</td>\n",
       "      <td>403</td>\n",
       "      <td>415</td>\n",
       "    </tr>\n",
       "  </tbody>\n",
       "</table>\n",
       "</div>"
      ],
      "text/plain": [
       "       user_id       date direction internal  operator_id  is_missed_call  \\\n",
       "31617   167445 2019-10-29        in    False       920732           False   \n",
       "\n",
       "       calls_count  call_duration  total_call_duration  \n",
       "31617            2            403                  415  "
      ]
     },
     "execution_count": 20,
     "metadata": {},
     "output_type": "execute_result"
    }
   ],
   "source": [
    "df.sample(1)"
   ]
  },
  {
   "cell_type": "markdown",
   "metadata": {},
   "source": [
    "#### Столбцы direction и is_missed_call"
   ]
  },
  {
   "cell_type": "code",
   "execution_count": 21,
   "metadata": {},
   "outputs": [
    {
     "data": {
      "text/plain": [
       "out    31917\n",
       "in     21985\n",
       "Name: direction, dtype: int64"
      ]
     },
     "execution_count": 21,
     "metadata": {},
     "output_type": "execute_result"
    }
   ],
   "source": [
    "df.direction.value_counts()"
   ]
  },
  {
   "cell_type": "code",
   "execution_count": 22,
   "metadata": {},
   "outputs": [
    {
     "data": {
      "text/plain": [
       "False    30334\n",
       "True     23568\n",
       "Name: is_missed_call, dtype: int64"
      ]
     },
     "execution_count": 22,
     "metadata": {},
     "output_type": "execute_result"
    }
   ],
   "source": [
    "df.is_missed_call.value_counts()"
   ]
  },
  {
   "cell_type": "markdown",
   "metadata": {},
   "source": [
    "Данные корректны, 69% - записи о исходящих звонках, 31% - о входящих; 66% - записи о принятых звонки, 34% - о пропущенных звонках"
   ]
  },
  {
   "cell_type": "markdown",
   "metadata": {},
   "source": [
    "#### Столбцы calls_count call_duration total_call_duration"
   ]
  },
  {
   "cell_type": "code",
   "execution_count": 23,
   "metadata": {},
   "outputs": [
    {
     "data": {
      "text/plain": [
       "min       1.00\n",
       "max    4817.00\n",
       "mean     16.45\n",
       "50%       4.00\n",
       "Name: calls_count, dtype: float64"
      ]
     },
     "metadata": {},
     "output_type": "display_data"
    },
    {
     "data": {
      "text/plain": [
       "min         0.00\n",
       "max    144395.00\n",
       "mean      866.68\n",
       "50%        38.00\n",
       "Name: call_duration, dtype: float64"
      ]
     },
     "metadata": {},
     "output_type": "display_data"
    },
    {
     "data": {
      "text/plain": [
       "min         0.00\n",
       "max    166155.00\n",
       "mean     1157.13\n",
       "50%       210.00\n",
       "Name: total_call_duration, dtype: float64"
      ]
     },
     "metadata": {},
     "output_type": "display_data"
    }
   ],
   "source": [
    "for col in ['calls_count', 'call_duration', 'total_call_duration']:\n",
    "    display(df[col].describe().loc[['min','max','mean','50%']])"
   ]
  },
  {
   "cell_type": "markdown",
   "metadata": {},
   "source": [
    "Максимумы вызывают вопросы о реалистичности данных, посмотрим на эти строки"
   ]
  },
  {
   "cell_type": "code",
   "execution_count": 24,
   "metadata": {},
   "outputs": [
    {
     "data": {
      "text/html": [
       "<div>\n",
       "<style scoped>\n",
       "    .dataframe tbody tr th:only-of-type {\n",
       "        vertical-align: middle;\n",
       "    }\n",
       "\n",
       "    .dataframe tbody tr th {\n",
       "        vertical-align: top;\n",
       "    }\n",
       "\n",
       "    .dataframe thead th {\n",
       "        text-align: right;\n",
       "    }\n",
       "</style>\n",
       "<table border=\"1\" class=\"dataframe\">\n",
       "  <thead>\n",
       "    <tr style=\"text-align: right;\">\n",
       "      <th></th>\n",
       "      <th>user_id</th>\n",
       "      <th>date</th>\n",
       "      <th>direction</th>\n",
       "      <th>internal</th>\n",
       "      <th>operator_id</th>\n",
       "      <th>is_missed_call</th>\n",
       "      <th>calls_count</th>\n",
       "      <th>call_duration</th>\n",
       "      <th>total_call_duration</th>\n",
       "    </tr>\n",
       "  </thead>\n",
       "  <tbody>\n",
       "    <tr>\n",
       "      <th>40733</th>\n",
       "      <td>167827</td>\n",
       "      <td>2019-11-11</td>\n",
       "      <td>out</td>\n",
       "      <td>False</td>\n",
       "      <td>929428</td>\n",
       "      <td>True</td>\n",
       "      <td>4817</td>\n",
       "      <td>0</td>\n",
       "      <td>5529</td>\n",
       "    </tr>\n",
       "  </tbody>\n",
       "</table>\n",
       "</div>"
      ],
      "text/plain": [
       "       user_id       date direction internal  operator_id  is_missed_call  \\\n",
       "40733   167827 2019-11-11       out    False       929428            True   \n",
       "\n",
       "       calls_count  call_duration  total_call_duration  \n",
       "40733         4817              0                 5529  "
      ]
     },
     "execution_count": 24,
     "metadata": {},
     "output_type": "execute_result"
    }
   ],
   "source": [
    "df.query('calls_count==4817')"
   ]
  },
  {
   "cell_type": "code",
   "execution_count": 25,
   "metadata": {},
   "outputs": [
    {
     "data": {
      "text/html": [
       "<div>\n",
       "<style scoped>\n",
       "    .dataframe tbody tr th:only-of-type {\n",
       "        vertical-align: middle;\n",
       "    }\n",
       "\n",
       "    .dataframe tbody tr th {\n",
       "        vertical-align: top;\n",
       "    }\n",
       "\n",
       "    .dataframe thead th {\n",
       "        text-align: right;\n",
       "    }\n",
       "</style>\n",
       "<table border=\"1\" class=\"dataframe\">\n",
       "  <thead>\n",
       "    <tr style=\"text-align: right;\">\n",
       "      <th></th>\n",
       "      <th>user_id</th>\n",
       "      <th>date</th>\n",
       "      <th>direction</th>\n",
       "      <th>internal</th>\n",
       "      <th>operator_id</th>\n",
       "      <th>is_missed_call</th>\n",
       "      <th>calls_count</th>\n",
       "      <th>call_duration</th>\n",
       "      <th>total_call_duration</th>\n",
       "    </tr>\n",
       "  </thead>\n",
       "  <tbody>\n",
       "    <tr>\n",
       "      <th>6946</th>\n",
       "      <td>166582</td>\n",
       "      <td>2019-09-25</td>\n",
       "      <td>out</td>\n",
       "      <td>False</td>\n",
       "      <td>885876</td>\n",
       "      <td>False</td>\n",
       "      <td>1230</td>\n",
       "      <td>144395</td>\n",
       "      <td>166155</td>\n",
       "    </tr>\n",
       "  </tbody>\n",
       "</table>\n",
       "</div>"
      ],
      "text/plain": [
       "      user_id       date direction internal  operator_id  is_missed_call  \\\n",
       "6946   166582 2019-09-25       out    False       885876           False   \n",
       "\n",
       "      calls_count  call_duration  total_call_duration  \n",
       "6946         1230         144395               166155  "
      ]
     },
     "execution_count": 25,
     "metadata": {},
     "output_type": "execute_result"
    }
   ],
   "source": [
    "df.query('call_duration==144395')"
   ]
  },
  {
   "cell_type": "markdown",
   "metadata": {},
   "source": [
    "4817 сброшенных звонков со средней длительностью чуть более секунды, с функцией автодозвона такое вполне возможно;\n",
    "1230 разговоров общей длительностью более 46-ти часов за сутки, очевидно - тут какая то ошибка в сборе или агрегации данных;  \n",
    "Поскольку в анализе мы оперируем только средними значеними длительности разговоров, а здесь средняя продолжительность (135 секунд) аномальной не выглядит;  \n",
    "Посмотрим на звонки операторов 929428 и 885876 подробнее"
   ]
  },
  {
   "cell_type": "code",
   "execution_count": 26,
   "metadata": {},
   "outputs": [
    {
     "data": {
      "text/html": [
       "<div>\n",
       "<style scoped>\n",
       "    .dataframe tbody tr th:only-of-type {\n",
       "        vertical-align: middle;\n",
       "    }\n",
       "\n",
       "    .dataframe tbody tr th {\n",
       "        vertical-align: top;\n",
       "    }\n",
       "\n",
       "    .dataframe thead th {\n",
       "        text-align: right;\n",
       "    }\n",
       "</style>\n",
       "<table border=\"1\" class=\"dataframe\">\n",
       "  <thead>\n",
       "    <tr style=\"text-align: right;\">\n",
       "      <th></th>\n",
       "      <th>user_id</th>\n",
       "      <th>date</th>\n",
       "      <th>direction</th>\n",
       "      <th>internal</th>\n",
       "      <th>operator_id</th>\n",
       "      <th>is_missed_call</th>\n",
       "      <th>calls_count</th>\n",
       "      <th>call_duration</th>\n",
       "      <th>total_call_duration</th>\n",
       "    </tr>\n",
       "  </thead>\n",
       "  <tbody>\n",
       "    <tr>\n",
       "      <th>40733</th>\n",
       "      <td>167827</td>\n",
       "      <td>2019-11-11</td>\n",
       "      <td>out</td>\n",
       "      <td>False</td>\n",
       "      <td>929428</td>\n",
       "      <td>True</td>\n",
       "      <td>4817</td>\n",
       "      <td>0</td>\n",
       "      <td>5529</td>\n",
       "    </tr>\n",
       "    <tr>\n",
       "      <th>40671</th>\n",
       "      <td>167827</td>\n",
       "      <td>2019-10-31</td>\n",
       "      <td>out</td>\n",
       "      <td>False</td>\n",
       "      <td>929428</td>\n",
       "      <td>True</td>\n",
       "      <td>2614</td>\n",
       "      <td>0</td>\n",
       "      <td>45312</td>\n",
       "    </tr>\n",
       "    <tr>\n",
       "      <th>40690</th>\n",
       "      <td>167827</td>\n",
       "      <td>2019-11-05</td>\n",
       "      <td>out</td>\n",
       "      <td>False</td>\n",
       "      <td>929428</td>\n",
       "      <td>True</td>\n",
       "      <td>1533</td>\n",
       "      <td>0</td>\n",
       "      <td>27889</td>\n",
       "    </tr>\n",
       "    <tr>\n",
       "      <th>40680</th>\n",
       "      <td>167827</td>\n",
       "      <td>2019-11-01</td>\n",
       "      <td>out</td>\n",
       "      <td>False</td>\n",
       "      <td>929428</td>\n",
       "      <td>True</td>\n",
       "      <td>1529</td>\n",
       "      <td>0</td>\n",
       "      <td>28017</td>\n",
       "    </tr>\n",
       "    <tr>\n",
       "      <th>40708</th>\n",
       "      <td>167827</td>\n",
       "      <td>2019-11-07</td>\n",
       "      <td>out</td>\n",
       "      <td>False</td>\n",
       "      <td>929428</td>\n",
       "      <td>True</td>\n",
       "      <td>1365</td>\n",
       "      <td>0</td>\n",
       "      <td>24450</td>\n",
       "    </tr>\n",
       "    <tr>\n",
       "      <th>...</th>\n",
       "      <td>...</td>\n",
       "      <td>...</td>\n",
       "      <td>...</td>\n",
       "      <td>...</td>\n",
       "      <td>...</td>\n",
       "      <td>...</td>\n",
       "      <td>...</td>\n",
       "      <td>...</td>\n",
       "      <td>...</td>\n",
       "    </tr>\n",
       "    <tr>\n",
       "      <th>40588</th>\n",
       "      <td>167827</td>\n",
       "      <td>2019-10-19</td>\n",
       "      <td>out</td>\n",
       "      <td>False</td>\n",
       "      <td>929428</td>\n",
       "      <td>False</td>\n",
       "      <td>62</td>\n",
       "      <td>4250</td>\n",
       "      <td>5514</td>\n",
       "    </tr>\n",
       "    <tr>\n",
       "      <th>40609</th>\n",
       "      <td>167827</td>\n",
       "      <td>2019-10-22</td>\n",
       "      <td>out</td>\n",
       "      <td>False</td>\n",
       "      <td>929428</td>\n",
       "      <td>True</td>\n",
       "      <td>25</td>\n",
       "      <td>0</td>\n",
       "      <td>798</td>\n",
       "    </tr>\n",
       "    <tr>\n",
       "      <th>40516</th>\n",
       "      <td>167827</td>\n",
       "      <td>2019-10-10</td>\n",
       "      <td>out</td>\n",
       "      <td>False</td>\n",
       "      <td>929428</td>\n",
       "      <td>False</td>\n",
       "      <td>8</td>\n",
       "      <td>337</td>\n",
       "      <td>419</td>\n",
       "    </tr>\n",
       "    <tr>\n",
       "      <th>40525</th>\n",
       "      <td>167827</td>\n",
       "      <td>2019-10-11</td>\n",
       "      <td>out</td>\n",
       "      <td>False</td>\n",
       "      <td>929428</td>\n",
       "      <td>True</td>\n",
       "      <td>5</td>\n",
       "      <td>0</td>\n",
       "      <td>86</td>\n",
       "    </tr>\n",
       "    <tr>\n",
       "      <th>40524</th>\n",
       "      <td>167827</td>\n",
       "      <td>2019-10-11</td>\n",
       "      <td>out</td>\n",
       "      <td>False</td>\n",
       "      <td>929428</td>\n",
       "      <td>False</td>\n",
       "      <td>2</td>\n",
       "      <td>45</td>\n",
       "      <td>62</td>\n",
       "    </tr>\n",
       "  </tbody>\n",
       "</table>\n",
       "<p>70 rows × 9 columns</p>\n",
       "</div>"
      ],
      "text/plain": [
       "       user_id       date direction internal  operator_id  is_missed_call  \\\n",
       "40733   167827 2019-11-11       out    False       929428            True   \n",
       "40671   167827 2019-10-31       out    False       929428            True   \n",
       "40690   167827 2019-11-05       out    False       929428            True   \n",
       "40680   167827 2019-11-01       out    False       929428            True   \n",
       "40708   167827 2019-11-07       out    False       929428            True   \n",
       "...        ...        ...       ...      ...          ...             ...   \n",
       "40588   167827 2019-10-19       out    False       929428           False   \n",
       "40609   167827 2019-10-22       out    False       929428            True   \n",
       "40516   167827 2019-10-10       out    False       929428           False   \n",
       "40525   167827 2019-10-11       out    False       929428            True   \n",
       "40524   167827 2019-10-11       out    False       929428           False   \n",
       "\n",
       "       calls_count  call_duration  total_call_duration  \n",
       "40733         4817              0                 5529  \n",
       "40671         2614              0                45312  \n",
       "40690         1533              0                27889  \n",
       "40680         1529              0                28017  \n",
       "40708         1365              0                24450  \n",
       "...            ...            ...                  ...  \n",
       "40588           62           4250                 5514  \n",
       "40609           25              0                  798  \n",
       "40516            8            337                  419  \n",
       "40525            5              0                   86  \n",
       "40524            2             45                   62  \n",
       "\n",
       "[70 rows x 9 columns]"
      ]
     },
     "execution_count": 26,
     "metadata": {},
     "output_type": "execute_result"
    }
   ],
   "source": [
    "df.query('operator_id==929428').sort_values(by='calls_count', ascending=False)"
   ]
  },
  {
   "cell_type": "code",
   "execution_count": 27,
   "metadata": {},
   "outputs": [
    {
     "data": {
      "text/html": [
       "<div>\n",
       "<style scoped>\n",
       "    .dataframe tbody tr th:only-of-type {\n",
       "        vertical-align: middle;\n",
       "    }\n",
       "\n",
       "    .dataframe tbody tr th {\n",
       "        vertical-align: top;\n",
       "    }\n",
       "\n",
       "    .dataframe thead th {\n",
       "        text-align: right;\n",
       "    }\n",
       "</style>\n",
       "<table border=\"1\" class=\"dataframe\">\n",
       "  <thead>\n",
       "    <tr style=\"text-align: right;\">\n",
       "      <th></th>\n",
       "      <th>user_id</th>\n",
       "      <th>date</th>\n",
       "      <th>direction</th>\n",
       "      <th>internal</th>\n",
       "      <th>operator_id</th>\n",
       "      <th>is_missed_call</th>\n",
       "      <th>calls_count</th>\n",
       "      <th>call_duration</th>\n",
       "      <th>total_call_duration</th>\n",
       "    </tr>\n",
       "  </thead>\n",
       "  <tbody>\n",
       "    <tr>\n",
       "      <th>40671</th>\n",
       "      <td>167827</td>\n",
       "      <td>2019-10-31</td>\n",
       "      <td>out</td>\n",
       "      <td>False</td>\n",
       "      <td>929428</td>\n",
       "      <td>True</td>\n",
       "      <td>2614</td>\n",
       "      <td>0</td>\n",
       "      <td>45312</td>\n",
       "    </tr>\n",
       "    <tr>\n",
       "      <th>40673</th>\n",
       "      <td>167827</td>\n",
       "      <td>2019-10-31</td>\n",
       "      <td>out</td>\n",
       "      <td>False</td>\n",
       "      <td>929428</td>\n",
       "      <td>False</td>\n",
       "      <td>116</td>\n",
       "      <td>2644</td>\n",
       "      <td>4447</td>\n",
       "    </tr>\n",
       "  </tbody>\n",
       "</table>\n",
       "</div>"
      ],
      "text/plain": [
       "       user_id       date direction internal  operator_id  is_missed_call  \\\n",
       "40671   167827 2019-10-31       out    False       929428            True   \n",
       "40673   167827 2019-10-31       out    False       929428           False   \n",
       "\n",
       "       calls_count  call_duration  total_call_duration  \n",
       "40671         2614              0                45312  \n",
       "40673          116           2644                 4447  "
      ]
     },
     "execution_count": 27,
     "metadata": {},
     "output_type": "execute_result"
    }
   ],
   "source": [
    "df.query('operator_id==929428 & date==\"2019-10-31\"')"
   ]
  },
  {
   "cell_type": "code",
   "execution_count": 28,
   "metadata": {},
   "outputs": [
    {
     "data": {
      "text/html": [
       "<div>\n",
       "<style scoped>\n",
       "    .dataframe tbody tr th:only-of-type {\n",
       "        vertical-align: middle;\n",
       "    }\n",
       "\n",
       "    .dataframe tbody tr th {\n",
       "        vertical-align: top;\n",
       "    }\n",
       "\n",
       "    .dataframe thead th {\n",
       "        text-align: right;\n",
       "    }\n",
       "</style>\n",
       "<table border=\"1\" class=\"dataframe\">\n",
       "  <thead>\n",
       "    <tr style=\"text-align: right;\">\n",
       "      <th></th>\n",
       "      <th>user_id</th>\n",
       "      <th>date</th>\n",
       "      <th>direction</th>\n",
       "      <th>internal</th>\n",
       "      <th>operator_id</th>\n",
       "      <th>is_missed_call</th>\n",
       "      <th>calls_count</th>\n",
       "      <th>call_duration</th>\n",
       "      <th>total_call_duration</th>\n",
       "    </tr>\n",
       "  </thead>\n",
       "  <tbody>\n",
       "    <tr>\n",
       "      <th>6946</th>\n",
       "      <td>166582</td>\n",
       "      <td>2019-09-25</td>\n",
       "      <td>out</td>\n",
       "      <td>False</td>\n",
       "      <td>885876</td>\n",
       "      <td>False</td>\n",
       "      <td>1230</td>\n",
       "      <td>144395</td>\n",
       "      <td>166155</td>\n",
       "    </tr>\n",
       "    <tr>\n",
       "      <th>6950</th>\n",
       "      <td>166582</td>\n",
       "      <td>2019-09-26</td>\n",
       "      <td>out</td>\n",
       "      <td>False</td>\n",
       "      <td>885876</td>\n",
       "      <td>False</td>\n",
       "      <td>843</td>\n",
       "      <td>132206</td>\n",
       "      <td>146903</td>\n",
       "    </tr>\n",
       "    <tr>\n",
       "      <th>6808</th>\n",
       "      <td>166582</td>\n",
       "      <td>2019-09-09</td>\n",
       "      <td>out</td>\n",
       "      <td>False</td>\n",
       "      <td>885876</td>\n",
       "      <td>False</td>\n",
       "      <td>1138</td>\n",
       "      <td>121093</td>\n",
       "      <td>141930</td>\n",
       "    </tr>\n",
       "    <tr>\n",
       "      <th>6889</th>\n",
       "      <td>166582</td>\n",
       "      <td>2019-09-18</td>\n",
       "      <td>out</td>\n",
       "      <td>False</td>\n",
       "      <td>885876</td>\n",
       "      <td>False</td>\n",
       "      <td>1013</td>\n",
       "      <td>121664</td>\n",
       "      <td>140050</td>\n",
       "    </tr>\n",
       "    <tr>\n",
       "      <th>6833</th>\n",
       "      <td>166582</td>\n",
       "      <td>2019-09-12</td>\n",
       "      <td>out</td>\n",
       "      <td>False</td>\n",
       "      <td>885876</td>\n",
       "      <td>False</td>\n",
       "      <td>696</td>\n",
       "      <td>125286</td>\n",
       "      <td>138643</td>\n",
       "    </tr>\n",
       "    <tr>\n",
       "      <th>...</th>\n",
       "      <td>...</td>\n",
       "      <td>...</td>\n",
       "      <td>...</td>\n",
       "      <td>...</td>\n",
       "      <td>...</td>\n",
       "      <td>...</td>\n",
       "      <td>...</td>\n",
       "      <td>...</td>\n",
       "      <td>...</td>\n",
       "    </tr>\n",
       "    <tr>\n",
       "      <th>6772</th>\n",
       "      <td>166582</td>\n",
       "      <td>2019-09-05</td>\n",
       "      <td>in</td>\n",
       "      <td>False</td>\n",
       "      <td>885876</td>\n",
       "      <td>True</td>\n",
       "      <td>1</td>\n",
       "      <td>0</td>\n",
       "      <td>5</td>\n",
       "    </tr>\n",
       "    <tr>\n",
       "      <th>6823</th>\n",
       "      <td>166582</td>\n",
       "      <td>2019-09-11</td>\n",
       "      <td>in</td>\n",
       "      <td>False</td>\n",
       "      <td>885876</td>\n",
       "      <td>True</td>\n",
       "      <td>1</td>\n",
       "      <td>1</td>\n",
       "      <td>4</td>\n",
       "    </tr>\n",
       "    <tr>\n",
       "      <th>6937</th>\n",
       "      <td>166582</td>\n",
       "      <td>2019-09-24</td>\n",
       "      <td>in</td>\n",
       "      <td>False</td>\n",
       "      <td>885876</td>\n",
       "      <td>True</td>\n",
       "      <td>1</td>\n",
       "      <td>0</td>\n",
       "      <td>4</td>\n",
       "    </tr>\n",
       "    <tr>\n",
       "      <th>6713</th>\n",
       "      <td>166582</td>\n",
       "      <td>2019-08-29</td>\n",
       "      <td>out</td>\n",
       "      <td>True</td>\n",
       "      <td>885876</td>\n",
       "      <td>True</td>\n",
       "      <td>2</td>\n",
       "      <td>0</td>\n",
       "      <td>2</td>\n",
       "    </tr>\n",
       "    <tr>\n",
       "      <th>6778</th>\n",
       "      <td>166582</td>\n",
       "      <td>2019-09-06</td>\n",
       "      <td>out</td>\n",
       "      <td>True</td>\n",
       "      <td>885876</td>\n",
       "      <td>True</td>\n",
       "      <td>1</td>\n",
       "      <td>0</td>\n",
       "      <td>0</td>\n",
       "    </tr>\n",
       "  </tbody>\n",
       "</table>\n",
       "<p>319 rows × 9 columns</p>\n",
       "</div>"
      ],
      "text/plain": [
       "      user_id       date direction internal  operator_id  is_missed_call  \\\n",
       "6946   166582 2019-09-25       out    False       885876           False   \n",
       "6950   166582 2019-09-26       out    False       885876           False   \n",
       "6808   166582 2019-09-09       out    False       885876           False   \n",
       "6889   166582 2019-09-18       out    False       885876           False   \n",
       "6833   166582 2019-09-12       out    False       885876           False   \n",
       "...       ...        ...       ...      ...          ...             ...   \n",
       "6772   166582 2019-09-05        in    False       885876            True   \n",
       "6823   166582 2019-09-11        in    False       885876            True   \n",
       "6937   166582 2019-09-24        in    False       885876            True   \n",
       "6713   166582 2019-08-29       out     True       885876            True   \n",
       "6778   166582 2019-09-06       out     True       885876            True   \n",
       "\n",
       "      calls_count  call_duration  total_call_duration  \n",
       "6946         1230         144395               166155  \n",
       "6950          843         132206               146903  \n",
       "6808         1138         121093               141930  \n",
       "6889         1013         121664               140050  \n",
       "6833          696         125286               138643  \n",
       "...           ...            ...                  ...  \n",
       "6772            1              0                    5  \n",
       "6823            1              1                    4  \n",
       "6937            1              0                    4  \n",
       "6713            2              0                    2  \n",
       "6778            1              0                    0  \n",
       "\n",
       "[319 rows x 9 columns]"
      ]
     },
     "execution_count": 28,
     "metadata": {},
     "output_type": "execute_result"
    }
   ],
   "source": [
    "df.query('operator_id==885876').sort_values(by='total_call_duration', ascending=False)"
   ]
  },
  {
   "cell_type": "code",
   "execution_count": 29,
   "metadata": {},
   "outputs": [
    {
     "data": {
      "text/html": [
       "<div>\n",
       "<style scoped>\n",
       "    .dataframe tbody tr th:only-of-type {\n",
       "        vertical-align: middle;\n",
       "    }\n",
       "\n",
       "    .dataframe tbody tr th {\n",
       "        vertical-align: top;\n",
       "    }\n",
       "\n",
       "    .dataframe thead th {\n",
       "        text-align: right;\n",
       "    }\n",
       "</style>\n",
       "<table border=\"1\" class=\"dataframe\">\n",
       "  <thead>\n",
       "    <tr style=\"text-align: right;\">\n",
       "      <th></th>\n",
       "      <th>user_id</th>\n",
       "      <th>date</th>\n",
       "      <th>direction</th>\n",
       "      <th>internal</th>\n",
       "      <th>operator_id</th>\n",
       "      <th>is_missed_call</th>\n",
       "      <th>calls_count</th>\n",
       "      <th>call_duration</th>\n",
       "      <th>total_call_duration</th>\n",
       "    </tr>\n",
       "  </thead>\n",
       "  <tbody>\n",
       "    <tr>\n",
       "      <th>6941</th>\n",
       "      <td>166582</td>\n",
       "      <td>2019-09-25</td>\n",
       "      <td>out</td>\n",
       "      <td>False</td>\n",
       "      <td>885876</td>\n",
       "      <td>True</td>\n",
       "      <td>796</td>\n",
       "      <td>0</td>\n",
       "      <td>23081</td>\n",
       "    </tr>\n",
       "    <tr>\n",
       "      <th>6942</th>\n",
       "      <td>166582</td>\n",
       "      <td>2019-09-25</td>\n",
       "      <td>in</td>\n",
       "      <td>False</td>\n",
       "      <td>885876</td>\n",
       "      <td>False</td>\n",
       "      <td>13</td>\n",
       "      <td>611</td>\n",
       "      <td>753</td>\n",
       "    </tr>\n",
       "    <tr>\n",
       "      <th>6946</th>\n",
       "      <td>166582</td>\n",
       "      <td>2019-09-25</td>\n",
       "      <td>out</td>\n",
       "      <td>False</td>\n",
       "      <td>885876</td>\n",
       "      <td>False</td>\n",
       "      <td>1230</td>\n",
       "      <td>144395</td>\n",
       "      <td>166155</td>\n",
       "    </tr>\n",
       "  </tbody>\n",
       "</table>\n",
       "</div>"
      ],
      "text/plain": [
       "      user_id       date direction internal  operator_id  is_missed_call  \\\n",
       "6941   166582 2019-09-25       out    False       885876            True   \n",
       "6942   166582 2019-09-25        in    False       885876           False   \n",
       "6946   166582 2019-09-25       out    False       885876           False   \n",
       "\n",
       "      calls_count  call_duration  total_call_duration  \n",
       "6941          796              0                23081  \n",
       "6942           13            611                  753  \n",
       "6946         1230         144395               166155  "
      ]
     },
     "execution_count": 29,
     "metadata": {},
     "output_type": "execute_result"
    }
   ],
   "source": [
    "df.query('operator_id==885876 & date==\"2019-09-25\"')"
   ]
  },
  {
   "cell_type": "markdown",
   "metadata": {},
   "source": [
    "31 октября 2019-го оператор 929428 совершил 2730 звонков за 13.8-часов;  \n",
    "Оператор 885876 регулярно проводит на телефоне за день больше времени, чем часов в сутках (ошибка сбора данных), при этом средние значения времени вполне нормальны - оставим данные как есть"
   ]
  },
  {
   "cell_type": "markdown",
   "metadata": {},
   "source": [
    "#### Проверка is_missed_call + call_duration"
   ]
  },
  {
   "cell_type": "markdown",
   "metadata": {},
   "source": [
    "Посмотрим есть ли пропущенные звонки с продолжительностью разговора больше нуля"
   ]
  },
  {
   "cell_type": "code",
   "execution_count": 30,
   "metadata": {},
   "outputs": [
    {
     "data": {
      "text/html": [
       "<div>\n",
       "<style scoped>\n",
       "    .dataframe tbody tr th:only-of-type {\n",
       "        vertical-align: middle;\n",
       "    }\n",
       "\n",
       "    .dataframe tbody tr th {\n",
       "        vertical-align: top;\n",
       "    }\n",
       "\n",
       "    .dataframe thead th {\n",
       "        text-align: right;\n",
       "    }\n",
       "</style>\n",
       "<table border=\"1\" class=\"dataframe\">\n",
       "  <thead>\n",
       "    <tr style=\"text-align: right;\">\n",
       "      <th></th>\n",
       "      <th>user_id</th>\n",
       "      <th>date</th>\n",
       "      <th>direction</th>\n",
       "      <th>internal</th>\n",
       "      <th>operator_id</th>\n",
       "      <th>is_missed_call</th>\n",
       "      <th>calls_count</th>\n",
       "      <th>call_duration</th>\n",
       "      <th>total_call_duration</th>\n",
       "    </tr>\n",
       "  </thead>\n",
       "  <tbody>\n",
       "    <tr>\n",
       "      <th>50809</th>\n",
       "      <td>168252</td>\n",
       "      <td>2019-11-25</td>\n",
       "      <td>in</td>\n",
       "      <td>False</td>\n",
       "      <td>940630</td>\n",
       "      <td>True</td>\n",
       "      <td>2</td>\n",
       "      <td>741</td>\n",
       "      <td>747</td>\n",
       "    </tr>\n",
       "    <tr>\n",
       "      <th>50140</th>\n",
       "      <td>168252</td>\n",
       "      <td>2019-10-28</td>\n",
       "      <td>in</td>\n",
       "      <td>False</td>\n",
       "      <td>940658</td>\n",
       "      <td>True</td>\n",
       "      <td>3</td>\n",
       "      <td>670</td>\n",
       "      <td>681</td>\n",
       "    </tr>\n",
       "    <tr>\n",
       "      <th>50433</th>\n",
       "      <td>168252</td>\n",
       "      <td>2019-11-12</td>\n",
       "      <td>in</td>\n",
       "      <td>False</td>\n",
       "      <td>940588</td>\n",
       "      <td>True</td>\n",
       "      <td>3</td>\n",
       "      <td>638</td>\n",
       "      <td>651</td>\n",
       "    </tr>\n",
       "    <tr>\n",
       "      <th>50144</th>\n",
       "      <td>168252</td>\n",
       "      <td>2019-10-28</td>\n",
       "      <td>in</td>\n",
       "      <td>False</td>\n",
       "      <td>940630</td>\n",
       "      <td>True</td>\n",
       "      <td>4</td>\n",
       "      <td>636</td>\n",
       "      <td>652</td>\n",
       "    </tr>\n",
       "    <tr>\n",
       "      <th>50507</th>\n",
       "      <td>168252</td>\n",
       "      <td>2019-11-14</td>\n",
       "      <td>in</td>\n",
       "      <td>False</td>\n",
       "      <td>940588</td>\n",
       "      <td>True</td>\n",
       "      <td>4</td>\n",
       "      <td>601</td>\n",
       "      <td>624</td>\n",
       "    </tr>\n",
       "    <tr>\n",
       "      <th>...</th>\n",
       "      <td>...</td>\n",
       "      <td>...</td>\n",
       "      <td>...</td>\n",
       "      <td>...</td>\n",
       "      <td>...</td>\n",
       "      <td>...</td>\n",
       "      <td>...</td>\n",
       "      <td>...</td>\n",
       "      <td>...</td>\n",
       "    </tr>\n",
       "    <tr>\n",
       "      <th>22878</th>\n",
       "      <td>167071</td>\n",
       "      <td>2019-11-06</td>\n",
       "      <td>in</td>\n",
       "      <td>False</td>\n",
       "      <td>913942</td>\n",
       "      <td>True</td>\n",
       "      <td>2</td>\n",
       "      <td>1</td>\n",
       "      <td>46</td>\n",
       "    </tr>\n",
       "    <tr>\n",
       "      <th>22887</th>\n",
       "      <td>167071</td>\n",
       "      <td>2019-11-07</td>\n",
       "      <td>in</td>\n",
       "      <td>False</td>\n",
       "      <td>913942</td>\n",
       "      <td>True</td>\n",
       "      <td>1</td>\n",
       "      <td>1</td>\n",
       "      <td>17</td>\n",
       "    </tr>\n",
       "    <tr>\n",
       "      <th>22908</th>\n",
       "      <td>167071</td>\n",
       "      <td>2019-11-12</td>\n",
       "      <td>in</td>\n",
       "      <td>False</td>\n",
       "      <td>913942</td>\n",
       "      <td>True</td>\n",
       "      <td>4</td>\n",
       "      <td>1</td>\n",
       "      <td>22</td>\n",
       "    </tr>\n",
       "    <tr>\n",
       "      <th>41886</th>\n",
       "      <td>167888</td>\n",
       "      <td>2019-11-27</td>\n",
       "      <td>in</td>\n",
       "      <td>False</td>\n",
       "      <td>928886</td>\n",
       "      <td>True</td>\n",
       "      <td>1</td>\n",
       "      <td>1</td>\n",
       "      <td>17</td>\n",
       "    </tr>\n",
       "    <tr>\n",
       "      <th>53225</th>\n",
       "      <td>168412</td>\n",
       "      <td>2019-11-05</td>\n",
       "      <td>in</td>\n",
       "      <td>False</td>\n",
       "      <td>953464</td>\n",
       "      <td>True</td>\n",
       "      <td>1</td>\n",
       "      <td>1</td>\n",
       "      <td>7</td>\n",
       "    </tr>\n",
       "  </tbody>\n",
       "</table>\n",
       "<p>325 rows × 9 columns</p>\n",
       "</div>"
      ],
      "text/plain": [
       "       user_id       date direction internal  operator_id  is_missed_call  \\\n",
       "50809   168252 2019-11-25        in    False       940630            True   \n",
       "50140   168252 2019-10-28        in    False       940658            True   \n",
       "50433   168252 2019-11-12        in    False       940588            True   \n",
       "50144   168252 2019-10-28        in    False       940630            True   \n",
       "50507   168252 2019-11-14        in    False       940588            True   \n",
       "...        ...        ...       ...      ...          ...             ...   \n",
       "22878   167071 2019-11-06        in    False       913942            True   \n",
       "22887   167071 2019-11-07        in    False       913942            True   \n",
       "22908   167071 2019-11-12        in    False       913942            True   \n",
       "41886   167888 2019-11-27        in    False       928886            True   \n",
       "53225   168412 2019-11-05        in    False       953464            True   \n",
       "\n",
       "       calls_count  call_duration  total_call_duration  \n",
       "50809            2            741                  747  \n",
       "50140            3            670                  681  \n",
       "50433            3            638                  651  \n",
       "50144            4            636                  652  \n",
       "50507            4            601                  624  \n",
       "...            ...            ...                  ...  \n",
       "22878            2              1                   46  \n",
       "22887            1              1                   17  \n",
       "22908            4              1                   22  \n",
       "41886            1              1                   17  \n",
       "53225            1              1                    7  \n",
       "\n",
       "[325 rows x 9 columns]"
      ]
     },
     "execution_count": 30,
     "metadata": {},
     "output_type": "execute_result"
    }
   ],
   "source": [
    "df.query('is_missed_call==True & call_duration>0').sort_values(by='call_duration', ascending=False)"
   ]
  },
  {
   "cell_type": "markdown",
   "metadata": {},
   "source": [
    "Очередная ошибка-брак в данных, исправим флаг is_missed_call на корректный"
   ]
  },
  {
   "cell_type": "code",
   "execution_count": 31,
   "metadata": {},
   "outputs": [],
   "source": [
    "df.loc[(df.is_missed_call==True) & (df.call_duration>0), 'is_missed_call'] = False"
   ]
  },
  {
   "cell_type": "markdown",
   "metadata": {},
   "source": [
    "#### Проверка и удаление дубликатов"
   ]
  },
  {
   "cell_type": "code",
   "execution_count": 32,
   "metadata": {},
   "outputs": [
    {
     "data": {
      "text/plain": [
       "4900"
      ]
     },
     "execution_count": 32,
     "metadata": {},
     "output_type": "execute_result"
    }
   ],
   "source": [
    "df.duplicated().sum()"
   ]
  },
  {
   "cell_type": "code",
   "execution_count": 33,
   "metadata": {},
   "outputs": [
    {
     "data": {
      "text/html": [
       "<div>\n",
       "<style scoped>\n",
       "    .dataframe tbody tr th:only-of-type {\n",
       "        vertical-align: middle;\n",
       "    }\n",
       "\n",
       "    .dataframe tbody tr th {\n",
       "        vertical-align: top;\n",
       "    }\n",
       "\n",
       "    .dataframe thead th {\n",
       "        text-align: right;\n",
       "    }\n",
       "</style>\n",
       "<table border=\"1\" class=\"dataframe\">\n",
       "  <thead>\n",
       "    <tr style=\"text-align: right;\">\n",
       "      <th></th>\n",
       "      <th>user_id</th>\n",
       "      <th>date</th>\n",
       "      <th>direction</th>\n",
       "      <th>internal</th>\n",
       "      <th>operator_id</th>\n",
       "      <th>is_missed_call</th>\n",
       "      <th>calls_count</th>\n",
       "      <th>call_duration</th>\n",
       "      <th>total_call_duration</th>\n",
       "    </tr>\n",
       "  </thead>\n",
       "  <tbody>\n",
       "    <tr>\n",
       "      <th>1772</th>\n",
       "      <td>166406</td>\n",
       "      <td>2019-08-03</td>\n",
       "      <td>in</td>\n",
       "      <td>False</td>\n",
       "      <td>333</td>\n",
       "      <td>True</td>\n",
       "      <td>1</td>\n",
       "      <td>0</td>\n",
       "      <td>14</td>\n",
       "    </tr>\n",
       "    <tr>\n",
       "      <th>1777</th>\n",
       "      <td>166406</td>\n",
       "      <td>2019-08-03</td>\n",
       "      <td>in</td>\n",
       "      <td>False</td>\n",
       "      <td>333</td>\n",
       "      <td>True</td>\n",
       "      <td>1</td>\n",
       "      <td>0</td>\n",
       "      <td>14</td>\n",
       "    </tr>\n",
       "    <tr>\n",
       "      <th>6</th>\n",
       "      <td>166377</td>\n",
       "      <td>2019-08-05</td>\n",
       "      <td>out</td>\n",
       "      <td>False</td>\n",
       "      <td>880020</td>\n",
       "      <td>True</td>\n",
       "      <td>8</td>\n",
       "      <td>0</td>\n",
       "      <td>50</td>\n",
       "    </tr>\n",
       "    <tr>\n",
       "      <th>8</th>\n",
       "      <td>166377</td>\n",
       "      <td>2019-08-05</td>\n",
       "      <td>out</td>\n",
       "      <td>False</td>\n",
       "      <td>880020</td>\n",
       "      <td>True</td>\n",
       "      <td>8</td>\n",
       "      <td>0</td>\n",
       "      <td>50</td>\n",
       "    </tr>\n",
       "    <tr>\n",
       "      <th>1796</th>\n",
       "      <td>166406</td>\n",
       "      <td>2019-08-06</td>\n",
       "      <td>out</td>\n",
       "      <td>False</td>\n",
       "      <td>879896</td>\n",
       "      <td>False</td>\n",
       "      <td>35</td>\n",
       "      <td>4119</td>\n",
       "      <td>4489</td>\n",
       "    </tr>\n",
       "    <tr>\n",
       "      <th>...</th>\n",
       "      <td>...</td>\n",
       "      <td>...</td>\n",
       "      <td>...</td>\n",
       "      <td>...</td>\n",
       "      <td>...</td>\n",
       "      <td>...</td>\n",
       "      <td>...</td>\n",
       "      <td>...</td>\n",
       "      <td>...</td>\n",
       "    </tr>\n",
       "    <tr>\n",
       "      <th>41326</th>\n",
       "      <td>167829</td>\n",
       "      <td>2019-11-28</td>\n",
       "      <td>in</td>\n",
       "      <td>False</td>\n",
       "      <td>969272</td>\n",
       "      <td>False</td>\n",
       "      <td>33</td>\n",
       "      <td>1896</td>\n",
       "      <td>2040</td>\n",
       "    </tr>\n",
       "    <tr>\n",
       "      <th>49880</th>\n",
       "      <td>168225</td>\n",
       "      <td>2019-11-28</td>\n",
       "      <td>out</td>\n",
       "      <td>False</td>\n",
       "      <td>970252</td>\n",
       "      <td>False</td>\n",
       "      <td>2</td>\n",
       "      <td>141</td>\n",
       "      <td>188</td>\n",
       "    </tr>\n",
       "    <tr>\n",
       "      <th>49894</th>\n",
       "      <td>168225</td>\n",
       "      <td>2019-11-28</td>\n",
       "      <td>out</td>\n",
       "      <td>False</td>\n",
       "      <td>970252</td>\n",
       "      <td>False</td>\n",
       "      <td>2</td>\n",
       "      <td>141</td>\n",
       "      <td>188</td>\n",
       "    </tr>\n",
       "    <tr>\n",
       "      <th>17594</th>\n",
       "      <td>166940</td>\n",
       "      <td>2019-11-28</td>\n",
       "      <td>out</td>\n",
       "      <td>False</td>\n",
       "      <td>972460</td>\n",
       "      <td>False</td>\n",
       "      <td>18</td>\n",
       "      <td>1089</td>\n",
       "      <td>1266</td>\n",
       "    </tr>\n",
       "    <tr>\n",
       "      <th>17597</th>\n",
       "      <td>166940</td>\n",
       "      <td>2019-11-28</td>\n",
       "      <td>out</td>\n",
       "      <td>False</td>\n",
       "      <td>972460</td>\n",
       "      <td>False</td>\n",
       "      <td>18</td>\n",
       "      <td>1089</td>\n",
       "      <td>1266</td>\n",
       "    </tr>\n",
       "  </tbody>\n",
       "</table>\n",
       "<p>9800 rows × 9 columns</p>\n",
       "</div>"
      ],
      "text/plain": [
       "       user_id       date direction internal  operator_id  is_missed_call  \\\n",
       "1772    166406 2019-08-03        in    False          333            True   \n",
       "1777    166406 2019-08-03        in    False          333            True   \n",
       "6       166377 2019-08-05       out    False       880020            True   \n",
       "8       166377 2019-08-05       out    False       880020            True   \n",
       "1796    166406 2019-08-06       out    False       879896           False   \n",
       "...        ...        ...       ...      ...          ...             ...   \n",
       "41326   167829 2019-11-28        in    False       969272           False   \n",
       "49880   168225 2019-11-28       out    False       970252           False   \n",
       "49894   168225 2019-11-28       out    False       970252           False   \n",
       "17594   166940 2019-11-28       out    False       972460           False   \n",
       "17597   166940 2019-11-28       out    False       972460           False   \n",
       "\n",
       "       calls_count  call_duration  total_call_duration  \n",
       "1772             1              0                   14  \n",
       "1777             1              0                   14  \n",
       "6                8              0                   50  \n",
       "8                8              0                   50  \n",
       "1796            35           4119                 4489  \n",
       "...            ...            ...                  ...  \n",
       "41326           33           1896                 2040  \n",
       "49880            2            141                  188  \n",
       "49894            2            141                  188  \n",
       "17594           18           1089                 1266  \n",
       "17597           18           1089                 1266  \n",
       "\n",
       "[9800 rows x 9 columns]"
      ]
     },
     "execution_count": 33,
     "metadata": {},
     "output_type": "execute_result"
    }
   ],
   "source": [
    "df[df.duplicated(keep=False)].sort_values(by=['date','operator_id'])"
   ]
  },
  {
   "cell_type": "markdown",
   "metadata": {},
   "source": [
    "4900 \"двойных дубля\", почти 10% от данных, причина возникновения визуально неопределима, удалим их"
   ]
  },
  {
   "cell_type": "code",
   "execution_count": 34,
   "metadata": {},
   "outputs": [],
   "source": [
    "df.drop_duplicates(inplace = True)"
   ]
  },
  {
   "cell_type": "code",
   "execution_count": 35,
   "metadata": {},
   "outputs": [
    {
     "name": "stdout",
     "output_type": "stream",
     "text": [
      "<class 'pandas.core.frame.DataFrame'>\n",
      "Int64Index: 49002 entries, 0 to 53901\n",
      "Data columns (total 9 columns):\n",
      " #   Column               Non-Null Count  Dtype         \n",
      "---  ------               --------------  -----         \n",
      " 0   user_id              49002 non-null  int64         \n",
      " 1   date                 49002 non-null  datetime64[ns]\n",
      " 2   direction            49002 non-null  object        \n",
      " 3   internal             49002 non-null  object        \n",
      " 4   operator_id          49002 non-null  int64         \n",
      " 5   is_missed_call       49002 non-null  bool          \n",
      " 6   calls_count          49002 non-null  int64         \n",
      " 7   call_duration        49002 non-null  int64         \n",
      " 8   total_call_duration  49002 non-null  int64         \n",
      "dtypes: bool(1), datetime64[ns](1), int64(5), object(2)\n",
      "memory usage: 3.4+ MB\n"
     ]
    }
   ],
   "source": [
    "df.info()"
   ]
  },
  {
   "cell_type": "markdown",
   "metadata": {},
   "source": [
    "#### Вывод"
   ]
  },
  {
   "cell_type": "markdown",
   "metadata": {},
   "source": [
    " * Загрузили и проверили данные;\n",
    " * В столбце operator_id заменили 8172 пустых значений на выдуманный id = 333;\n",
    " * В столбце internal заменили пропущенные значения на False;\n",
    " * В столбце is_missed_call флаг не сочетающийся по логике со столбцом call_duration исправили на корректный;\n",
    " * Изменили тип данных у столбцов date и operator_id;\n",
    " * Нашли и удалили 4900 дублей"
   ]
  },
  {
   "cell_type": "markdown",
   "metadata": {},
   "source": [
    "### Исследовательский анализ данных, категоризация"
   ]
  },
  {
   "cell_type": "markdown",
   "metadata": {},
   "source": [
    "#### Данные и период, анализ количества звонков"
   ]
  },
  {
   "cell_type": "code",
   "execution_count": 36,
   "metadata": {},
   "outputs": [
    {
     "data": {
      "text/plain": [
       "count                   49002\n",
       "unique                    119\n",
       "top       2019-11-25 00:00:00\n",
       "freq                     1109\n",
       "first     2019-08-02 00:00:00\n",
       "last      2019-11-28 00:00:00\n",
       "Name: date, dtype: object"
      ]
     },
     "execution_count": 36,
     "metadata": {},
     "output_type": "execute_result"
    }
   ],
   "source": [
    "df.date.describe()"
   ]
  },
  {
   "cell_type": "markdown",
   "metadata": {},
   "source": [
    "У нас данные за 119 дней, со 2-го августа 2019 по 28 ноября 2019 года;  \n",
    "Посмотрим как распределены звонки за указанный период"
   ]
  },
  {
   "cell_type": "code",
   "execution_count": 37,
   "metadata": {},
   "outputs": [
    {
     "data": {
      "image/png": "[encoded data removed]",
      "text/plain": [
       "<Figure size 1080x504 with 1 Axes>"
      ]
     },
     "metadata": {
      "needs_background": "light"
     },
     "output_type": "display_data"
    }
   ],
   "source": [
    "(df\n",
    " .pivot_table(index='date', values='calls_count', aggfunc='sum')\n",
    " .plot(figsize=(15,7), style ='-o', grid=True, legend=False)\n",
    ")\n",
    "plt.title('Количество звонков по дням', fontsize=16)\n",
    "plt.xlabel('Дата', fontsize = 12)\n",
    "plt.ylabel('Звонков за день', fontsize = 12);"
   ]
  },
  {
   "cell_type": "markdown",
   "metadata": {},
   "source": [
    "Число звонков в день растет со 2-го августа по 1-е октября после чего стабилизируется и остается примерно на одном уровне до конца исследуемого периода; можно предположить что с августа по октябрь данные мы получили неполные;  \n",
    "На графике видно регулярное 2-х дневное резкое падение числа звонков, скорее всего это выходные дни, проверим это предположение"
   ]
  },
  {
   "cell_type": "markdown",
   "metadata": {},
   "source": [
    "Посмотрим на распределение звонков по дням недели, создадим столбец с днем недели"
   ]
  },
  {
   "cell_type": "code",
   "execution_count": 38,
   "metadata": {},
   "outputs": [],
   "source": [
    "df['weekday'] = df.date.dt.day_name()"
   ]
  },
  {
   "cell_type": "code",
   "execution_count": 39,
   "metadata": {},
   "outputs": [
    {
     "data": {
      "text/html": [
       "<div>\n",
       "<style scoped>\n",
       "    .dataframe tbody tr th:only-of-type {\n",
       "        vertical-align: middle;\n",
       "    }\n",
       "\n",
       "    .dataframe tbody tr th {\n",
       "        vertical-align: top;\n",
       "    }\n",
       "\n",
       "    .dataframe thead th {\n",
       "        text-align: right;\n",
       "    }\n",
       "</style>\n",
       "<table border=\"1\" class=\"dataframe\">\n",
       "  <thead>\n",
       "    <tr style=\"text-align: right;\">\n",
       "      <th></th>\n",
       "      <th>user_id</th>\n",
       "      <th>date</th>\n",
       "      <th>direction</th>\n",
       "      <th>internal</th>\n",
       "      <th>operator_id</th>\n",
       "      <th>is_missed_call</th>\n",
       "      <th>calls_count</th>\n",
       "      <th>call_duration</th>\n",
       "      <th>total_call_duration</th>\n",
       "      <th>weekday</th>\n",
       "    </tr>\n",
       "  </thead>\n",
       "  <tbody>\n",
       "    <tr>\n",
       "      <th>20133</th>\n",
       "      <td>166997</td>\n",
       "      <td>2019-10-08</td>\n",
       "      <td>out</td>\n",
       "      <td>False</td>\n",
       "      <td>903318</td>\n",
       "      <td>True</td>\n",
       "      <td>2</td>\n",
       "      <td>0</td>\n",
       "      <td>8</td>\n",
       "      <td>Tuesday</td>\n",
       "    </tr>\n",
       "  </tbody>\n",
       "</table>\n",
       "</div>"
      ],
      "text/plain": [
       "       user_id       date direction internal  operator_id  is_missed_call  \\\n",
       "20133   166997 2019-10-08       out    False       903318            True   \n",
       "\n",
       "       calls_count  call_duration  total_call_duration  weekday  \n",
       "20133            2              0                    8  Tuesday  "
      ]
     },
     "execution_count": 39,
     "metadata": {},
     "output_type": "execute_result"
    }
   ],
   "source": [
    "df.sample(1)"
   ]
  },
  {
   "cell_type": "code",
   "execution_count": 40,
   "metadata": {},
   "outputs": [
    {
     "data": {
      "text/html": [
       "<style type=\"text/css\">\n",
       "</style>\n",
       "<table id=\"T_322cd_\">\n",
       "  <thead>\n",
       "    <tr>\n",
       "      <th class=\"blank level0\" >&nbsp;</th>\n",
       "      <th class=\"col_heading level0 col0\" >weekday</th>\n",
       "      <th class=\"col_heading level0 col1\" >calls_count</th>\n",
       "      <th class=\"col_heading level0 col2\" >ratio</th>\n",
       "    </tr>\n",
       "  </thead>\n",
       "  <tbody>\n",
       "    <tr>\n",
       "      <th id=\"T_322cd_level0_row0\" class=\"row_heading level0 row0\" >0</th>\n",
       "      <td id=\"T_322cd_row0_col0\" class=\"data row0 col0\" >Tuesday</td>\n",
       "      <td id=\"T_322cd_row0_col1\" class=\"data row0 col1\" >151663</td>\n",
       "      <td id=\"T_322cd_row0_col2\" class=\"data row0 col2\" >18.8%</td>\n",
       "    </tr>\n",
       "    <tr>\n",
       "      <th id=\"T_322cd_level0_row1\" class=\"row_heading level0 row1\" >1</th>\n",
       "      <td id=\"T_322cd_row1_col0\" class=\"data row1 col0\" >Thursday</td>\n",
       "      <td id=\"T_322cd_row1_col1\" class=\"data row1 col1\" >148757</td>\n",
       "      <td id=\"T_322cd_row1_col2\" class=\"data row1 col2\" >18.4%</td>\n",
       "    </tr>\n",
       "    <tr>\n",
       "      <th id=\"T_322cd_level0_row2\" class=\"row_heading level0 row2\" >2</th>\n",
       "      <td id=\"T_322cd_row2_col0\" class=\"data row2 col0\" >Wednesday</td>\n",
       "      <td id=\"T_322cd_row2_col1\" class=\"data row2 col1\" >143218</td>\n",
       "      <td id=\"T_322cd_row2_col2\" class=\"data row2 col2\" >17.8%</td>\n",
       "    </tr>\n",
       "    <tr>\n",
       "      <th id=\"T_322cd_level0_row3\" class=\"row_heading level0 row3\" >3</th>\n",
       "      <td id=\"T_322cd_row3_col0\" class=\"data row3 col0\" >Monday</td>\n",
       "      <td id=\"T_322cd_row3_col1\" class=\"data row3 col1\" >139918</td>\n",
       "      <td id=\"T_322cd_row3_col2\" class=\"data row3 col2\" >17.3%</td>\n",
       "    </tr>\n",
       "    <tr>\n",
       "      <th id=\"T_322cd_level0_row4\" class=\"row_heading level0 row4\" >4</th>\n",
       "      <td id=\"T_322cd_row4_col0\" class=\"data row4 col0\" >Friday</td>\n",
       "      <td id=\"T_322cd_row4_col1\" class=\"data row4 col1\" >132549</td>\n",
       "      <td id=\"T_322cd_row4_col2\" class=\"data row4 col2\" >16.4%</td>\n",
       "    </tr>\n",
       "    <tr>\n",
       "      <th id=\"T_322cd_level0_row5\" class=\"row_heading level0 row5\" >5</th>\n",
       "      <td id=\"T_322cd_row5_col0\" class=\"data row5 col0\" >Saturday</td>\n",
       "      <td id=\"T_322cd_row5_col1\" class=\"data row5 col1\" >53349</td>\n",
       "      <td id=\"T_322cd_row5_col2\" class=\"data row5 col2\" >6.6%</td>\n",
       "    </tr>\n",
       "    <tr>\n",
       "      <th id=\"T_322cd_level0_row6\" class=\"row_heading level0 row6\" >6</th>\n",
       "      <td id=\"T_322cd_row6_col0\" class=\"data row6 col0\" >Sunday</td>\n",
       "      <td id=\"T_322cd_row6_col1\" class=\"data row6 col1\" >37255</td>\n",
       "      <td id=\"T_322cd_row6_col2\" class=\"data row6 col2\" >4.6%</td>\n",
       "    </tr>\n",
       "  </tbody>\n",
       "</table>\n"
      ],
      "text/plain": [
       "<pandas.io.formats.style.Styler at 0xdf8e22bb80>"
      ]
     },
     "execution_count": 40,
     "metadata": {},
     "output_type": "execute_result"
    }
   ],
   "source": [
    "df_week = (df.groupby('weekday').agg({'calls_count':'sum'})\n",
    "                                .sort_values(by=['calls_count'], ascending=False)\n",
    "                                .reset_index()\n",
    "          ) \n",
    "df_week['ratio'] = df_week['calls_count'] / df['calls_count'].sum()\n",
    "df_week.style.format({'ratio': '{:.1%}'})"
   ]
  },
  {
   "cell_type": "code",
   "execution_count": 41,
   "metadata": {},
   "outputs": [
    {
     "data": {
      "image/png": "[encoded data removed]",
      "text/plain": [
       "<Figure size 1080x360 with 1 Axes>"
      ]
     },
     "metadata": {
      "needs_background": "light"
     },
     "output_type": "display_data"
    }
   ],
   "source": [
    "plt.figure(figsize=(15, 5))\n",
    "ax = sns.barplot(x='weekday', y='ratio', data=df_week, color='skyblue')\n",
    "for i, val in enumerate(df_week.ratio.values):\n",
    "    plt.text(i, val, '{:.1%}'.format(val), horizontalalignment='center', verticalalignment='bottom',fontsize=10)\n",
    "plt.title(\"Доля звонков по дням недели\", fontsize = 14)\n",
    "plt.xlabel(\"День недели\", fontsize = 12)\n",
    "plt.ylabel(\"Доля звонков\", fontsize = 12);"
   ]
  },
  {
   "cell_type": "markdown",
   "metadata": {},
   "source": [
    "Больше всего звонков совершено во вторник 151663 (18.8%), меньше всего в выходные - воскресенье 37255 (4.6%);  \n",
    "В рабочие дни совершено 88.8% всех звонков, звонки распределены между днями равномерно - разница между пятницей и вторником всего 2.4%, а разница между любым будним днем и субботой больше чем в 2.5-раза"
   ]
  },
  {
   "cell_type": "markdown",
   "metadata": {},
   "source": [
    "Посмотрим на соотношение внутренних звонков к внешним "
   ]
  },
  {
   "cell_type": "code",
   "execution_count": 42,
   "metadata": {},
   "outputs": [
    {
     "data": {
      "text/plain": [
       "'1.82%'"
      ]
     },
     "execution_count": 42,
     "metadata": {},
     "output_type": "execute_result"
    }
   ],
   "source": [
    "'{0:.2%}'.format((df.query('internal==True').calls_count.sum())/(df.calls_count.sum()))"
   ]
  },
  {
   "cell_type": "markdown",
   "metadata": {},
   "source": [
    "Внутренних звонков меньше 2-х процентов от общего числа, поэтому при анализе операторов отдельно их выделять не будем"
   ]
  },
  {
   "cell_type": "markdown",
   "metadata": {},
   "source": [
    "#### Исследовательский анализ операторов"
   ]
  },
  {
   "cell_type": "code",
   "execution_count": 43,
   "metadata": {},
   "outputs": [
    {
     "data": {
      "text/plain": [
       "1093"
      ]
     },
     "execution_count": 43,
     "metadata": {},
     "output_type": "execute_result"
    }
   ],
   "source": [
    "df.operator_id.nunique()"
   ]
  },
  {
   "cell_type": "markdown",
   "metadata": {},
   "source": [
    "У нас 1093 идентификатора операторов, один из них 'искусственный' за номером 333;  \n",
    "В датасете агрегированные данные по каждому дню, поэтому анализировать возможно либо средние, либо сумарные показатели;  \n",
    "\"Разберем обратно\" данные на составные части и сгруппируем новую таблицу по operator_id"
   ]
  },
  {
   "cell_type": "code",
   "execution_count": 44,
   "metadata": {},
   "outputs": [],
   "source": [
    "# создаем отдельные столбцы по принятым входящим с количеством звонков, длинной разговора и общей продолжительнотью звонков\n",
    "df['c_in'] = df.loc[(df.is_missed_call==False) & (df.direction==\"in\"), 'calls_count']\n",
    "df['c_in_cd'] = df.loc[(df.is_missed_call==False) & (df.direction==\"in\"), 'call_duration']\n",
    "df['c_in_tcd'] = df.loc[(df.is_missed_call==False) & (df.direction==\"in\"), 'total_call_duration']"
   ]
  },
  {
   "cell_type": "code",
   "execution_count": 45,
   "metadata": {},
   "outputs": [],
   "source": [
    "# столбцы по пропущенным входящих с количеством звонков и общей продолжительнотью звонка\n",
    "df['cm_in'] = df.loc[(df.is_missed_call==True) & (df.direction==\"in\"), 'calls_count']\n",
    "df['cm_in_tcd'] = df.loc[(df.is_missed_call==True) & (df.direction==\"in\"), 'total_call_duration']"
   ]
  },
  {
   "cell_type": "code",
   "execution_count": 46,
   "metadata": {},
   "outputs": [],
   "source": [
    "# столбцы по состоявшимся исходящим с количеством звонков, длинной разговора и общей продолжительнотью звонка\n",
    "df['c_out'] = df.loc[(df.is_missed_call==False) & (df.direction==\"out\"), 'calls_count']\n",
    "df['c_out_cd'] = df.loc[(df.is_missed_call==False) & (df.direction==\"out\"), 'call_duration']\n",
    "df['c_out_tcd'] = df.loc[(df.is_missed_call==False) & (df.direction==\"out\"), 'total_call_duration']"
   ]
  },
  {
   "cell_type": "code",
   "execution_count": 47,
   "metadata": {},
   "outputs": [],
   "source": [
    "# столбцы по пропущенным исходящим с количеством звонков и общей продолжительнотью звонков\n",
    "df['cm_out'] = df.loc[(df.is_missed_call==True) & (df.direction==\"out\"), 'calls_count']\n",
    "df['cm_out_tcd'] = df.loc[(df.is_missed_call==True) & (df.direction==\"out\"), 'total_call_duration']"
   ]
  },
  {
   "cell_type": "code",
   "execution_count": 48,
   "metadata": {},
   "outputs": [],
   "source": [
    "# столбец с числом пропущенных входящих у которых не назначен оператор (operator_id=333)\n",
    "df['cm_333'] = df.loc[(df.is_missed_call==True) & (df.direction==\"in\") & (df.operator_id==333), 'calls_count']"
   ]
  },
  {
   "cell_type": "code",
   "execution_count": 49,
   "metadata": {},
   "outputs": [
    {
     "data": {
      "text/html": [
       "<div>\n",
       "<style scoped>\n",
       "    .dataframe tbody tr th:only-of-type {\n",
       "        vertical-align: middle;\n",
       "    }\n",
       "\n",
       "    .dataframe tbody tr th {\n",
       "        vertical-align: top;\n",
       "    }\n",
       "\n",
       "    .dataframe thead th {\n",
       "        text-align: right;\n",
       "    }\n",
       "</style>\n",
       "<table border=\"1\" class=\"dataframe\">\n",
       "  <thead>\n",
       "    <tr style=\"text-align: right;\">\n",
       "      <th></th>\n",
       "      <th>user_id</th>\n",
       "      <th>date</th>\n",
       "      <th>direction</th>\n",
       "      <th>internal</th>\n",
       "      <th>operator_id</th>\n",
       "      <th>is_missed_call</th>\n",
       "      <th>calls_count</th>\n",
       "      <th>call_duration</th>\n",
       "      <th>total_call_duration</th>\n",
       "      <th>weekday</th>\n",
       "      <th>...</th>\n",
       "      <th>c_in_cd</th>\n",
       "      <th>c_in_tcd</th>\n",
       "      <th>cm_in</th>\n",
       "      <th>cm_in_tcd</th>\n",
       "      <th>c_out</th>\n",
       "      <th>c_out_cd</th>\n",
       "      <th>c_out_tcd</th>\n",
       "      <th>cm_out</th>\n",
       "      <th>cm_out_tcd</th>\n",
       "      <th>cm_333</th>\n",
       "    </tr>\n",
       "  </thead>\n",
       "  <tbody>\n",
       "    <tr>\n",
       "      <th>0</th>\n",
       "      <td>166377</td>\n",
       "      <td>2019-08-04</td>\n",
       "      <td>in</td>\n",
       "      <td>False</td>\n",
       "      <td>333</td>\n",
       "      <td>True</td>\n",
       "      <td>2</td>\n",
       "      <td>0</td>\n",
       "      <td>4</td>\n",
       "      <td>Sunday</td>\n",
       "      <td>...</td>\n",
       "      <td>0.00</td>\n",
       "      <td>0.00</td>\n",
       "      <td>2.00</td>\n",
       "      <td>4.00</td>\n",
       "      <td>0.00</td>\n",
       "      <td>0.00</td>\n",
       "      <td>0.00</td>\n",
       "      <td>0.00</td>\n",
       "      <td>0.00</td>\n",
       "      <td>2.00</td>\n",
       "    </tr>\n",
       "    <tr>\n",
       "      <th>1</th>\n",
       "      <td>166377</td>\n",
       "      <td>2019-08-05</td>\n",
       "      <td>out</td>\n",
       "      <td>True</td>\n",
       "      <td>880022</td>\n",
       "      <td>True</td>\n",
       "      <td>3</td>\n",
       "      <td>0</td>\n",
       "      <td>5</td>\n",
       "      <td>Monday</td>\n",
       "      <td>...</td>\n",
       "      <td>0.00</td>\n",
       "      <td>0.00</td>\n",
       "      <td>0.00</td>\n",
       "      <td>0.00</td>\n",
       "      <td>0.00</td>\n",
       "      <td>0.00</td>\n",
       "      <td>0.00</td>\n",
       "      <td>3.00</td>\n",
       "      <td>5.00</td>\n",
       "      <td>0.00</td>\n",
       "    </tr>\n",
       "    <tr>\n",
       "      <th>2</th>\n",
       "      <td>166377</td>\n",
       "      <td>2019-08-05</td>\n",
       "      <td>out</td>\n",
       "      <td>True</td>\n",
       "      <td>880020</td>\n",
       "      <td>True</td>\n",
       "      <td>1</td>\n",
       "      <td>0</td>\n",
       "      <td>1</td>\n",
       "      <td>Monday</td>\n",
       "      <td>...</td>\n",
       "      <td>0.00</td>\n",
       "      <td>0.00</td>\n",
       "      <td>0.00</td>\n",
       "      <td>0.00</td>\n",
       "      <td>0.00</td>\n",
       "      <td>0.00</td>\n",
       "      <td>0.00</td>\n",
       "      <td>1.00</td>\n",
       "      <td>1.00</td>\n",
       "      <td>0.00</td>\n",
       "    </tr>\n",
       "    <tr>\n",
       "      <th>3</th>\n",
       "      <td>166377</td>\n",
       "      <td>2019-08-05</td>\n",
       "      <td>out</td>\n",
       "      <td>True</td>\n",
       "      <td>880020</td>\n",
       "      <td>False</td>\n",
       "      <td>1</td>\n",
       "      <td>10</td>\n",
       "      <td>18</td>\n",
       "      <td>Monday</td>\n",
       "      <td>...</td>\n",
       "      <td>0.00</td>\n",
       "      <td>0.00</td>\n",
       "      <td>0.00</td>\n",
       "      <td>0.00</td>\n",
       "      <td>1.00</td>\n",
       "      <td>10.00</td>\n",
       "      <td>18.00</td>\n",
       "      <td>0.00</td>\n",
       "      <td>0.00</td>\n",
       "      <td>0.00</td>\n",
       "    </tr>\n",
       "    <tr>\n",
       "      <th>4</th>\n",
       "      <td>166377</td>\n",
       "      <td>2019-08-05</td>\n",
       "      <td>out</td>\n",
       "      <td>False</td>\n",
       "      <td>880022</td>\n",
       "      <td>True</td>\n",
       "      <td>3</td>\n",
       "      <td>0</td>\n",
       "      <td>25</td>\n",
       "      <td>Monday</td>\n",
       "      <td>...</td>\n",
       "      <td>0.00</td>\n",
       "      <td>0.00</td>\n",
       "      <td>0.00</td>\n",
       "      <td>0.00</td>\n",
       "      <td>0.00</td>\n",
       "      <td>0.00</td>\n",
       "      <td>0.00</td>\n",
       "      <td>3.00</td>\n",
       "      <td>25.00</td>\n",
       "      <td>0.00</td>\n",
       "    </tr>\n",
       "  </tbody>\n",
       "</table>\n",
       "<p>5 rows × 21 columns</p>\n",
       "</div>"
      ],
      "text/plain": [
       "   user_id       date direction  internal  operator_id  is_missed_call  \\\n",
       "0   166377 2019-08-04        in     False          333            True   \n",
       "1   166377 2019-08-05       out      True       880022            True   \n",
       "2   166377 2019-08-05       out      True       880020            True   \n",
       "3   166377 2019-08-05       out      True       880020           False   \n",
       "4   166377 2019-08-05       out     False       880022            True   \n",
       "\n",
       "   calls_count  call_duration  total_call_duration weekday  ...  c_in_cd  \\\n",
       "0            2              0                    4  Sunday  ...     0.00   \n",
       "1            3              0                    5  Monday  ...     0.00   \n",
       "2            1              0                    1  Monday  ...     0.00   \n",
       "3            1             10                   18  Monday  ...     0.00   \n",
       "4            3              0                   25  Monday  ...     0.00   \n",
       "\n",
       "   c_in_tcd  cm_in  cm_in_tcd  c_out  c_out_cd  c_out_tcd  cm_out  cm_out_tcd  \\\n",
       "0      0.00   2.00       4.00   0.00      0.00       0.00    0.00        0.00   \n",
       "1      0.00   0.00       0.00   0.00      0.00       0.00    3.00        5.00   \n",
       "2      0.00   0.00       0.00   0.00      0.00       0.00    1.00        1.00   \n",
       "3      0.00   0.00       0.00   1.00     10.00      18.00    0.00        0.00   \n",
       "4      0.00   0.00       0.00   0.00      0.00       0.00    3.00       25.00   \n",
       "\n",
       "   cm_333  \n",
       "0    2.00  \n",
       "1    0.00  \n",
       "2    0.00  \n",
       "3    0.00  \n",
       "4    0.00  \n",
       "\n",
       "[5 rows x 21 columns]"
      ]
     },
     "execution_count": 49,
     "metadata": {},
     "output_type": "execute_result"
    }
   ],
   "source": [
    "# заполняем пропуски нулями\n",
    "df.fillna(0, inplace=True)\n",
    "df.head()"
   ]
  },
  {
   "cell_type": "code",
   "execution_count": 50,
   "metadata": {},
   "outputs": [
    {
     "data": {
      "text/html": [
       "<div>\n",
       "<style scoped>\n",
       "    .dataframe tbody tr th:only-of-type {\n",
       "        vertical-align: middle;\n",
       "    }\n",
       "\n",
       "    .dataframe tbody tr th {\n",
       "        vertical-align: top;\n",
       "    }\n",
       "\n",
       "    .dataframe thead th {\n",
       "        text-align: right;\n",
       "    }\n",
       "</style>\n",
       "<table border=\"1\" class=\"dataframe\">\n",
       "  <thead>\n",
       "    <tr style=\"text-align: right;\">\n",
       "      <th></th>\n",
       "      <th>operator_id</th>\n",
       "      <th>work_days</th>\n",
       "      <th>c_in</th>\n",
       "      <th>cm_in</th>\n",
       "      <th>c_out</th>\n",
       "      <th>cm_out</th>\n",
       "      <th>c_in_cd</th>\n",
       "      <th>c_in_tcd</th>\n",
       "      <th>cm_in_tcd</th>\n",
       "      <th>c_out_cd</th>\n",
       "      <th>c_out_tcd</th>\n",
       "      <th>cm_out_tcd</th>\n",
       "    </tr>\n",
       "  </thead>\n",
       "  <tbody>\n",
       "    <tr>\n",
       "      <th>0</th>\n",
       "      <td>879896</td>\n",
       "      <td>50</td>\n",
       "      <td>58.00</td>\n",
       "      <td>0.00</td>\n",
       "      <td>621.00</td>\n",
       "      <td>251.00</td>\n",
       "      <td>5616.00</td>\n",
       "      <td>6190.00</td>\n",
       "      <td>0.00</td>\n",
       "      <td>58246.00</td>\n",
       "      <td>64210.00</td>\n",
       "      <td>5737.00</td>\n",
       "    </tr>\n",
       "    <tr>\n",
       "      <th>1</th>\n",
       "      <td>879898</td>\n",
       "      <td>84</td>\n",
       "      <td>104.00</td>\n",
       "      <td>0.00</td>\n",
       "      <td>4849.00</td>\n",
       "      <td>2360.00</td>\n",
       "      <td>6353.00</td>\n",
       "      <td>8033.00</td>\n",
       "      <td>0.00</td>\n",
       "      <td>251038.00</td>\n",
       "      <td>303521.00</td>\n",
       "      <td>49734.00</td>\n",
       "    </tr>\n",
       "    <tr>\n",
       "      <th>2</th>\n",
       "      <td>880020</td>\n",
       "      <td>14</td>\n",
       "      <td>7.00</td>\n",
       "      <td>0.00</td>\n",
       "      <td>16.00</td>\n",
       "      <td>22.00</td>\n",
       "      <td>299.00</td>\n",
       "      <td>353.00</td>\n",
       "      <td>0.00</td>\n",
       "      <td>1946.00</td>\n",
       "      <td>2036.00</td>\n",
       "      <td>136.00</td>\n",
       "    </tr>\n",
       "    <tr>\n",
       "      <th>3</th>\n",
       "      <td>880022</td>\n",
       "      <td>42</td>\n",
       "      <td>8.00</td>\n",
       "      <td>0.00</td>\n",
       "      <td>84.00</td>\n",
       "      <td>105.00</td>\n",
       "      <td>512.00</td>\n",
       "      <td>624.00</td>\n",
       "      <td>0.00</td>\n",
       "      <td>14635.00</td>\n",
       "      <td>15191.00</td>\n",
       "      <td>3110.00</td>\n",
       "    </tr>\n",
       "    <tr>\n",
       "      <th>4</th>\n",
       "      <td>880026</td>\n",
       "      <td>77</td>\n",
       "      <td>24.00</td>\n",
       "      <td>0.00</td>\n",
       "      <td>1560.00</td>\n",
       "      <td>648.00</td>\n",
       "      <td>1587.00</td>\n",
       "      <td>1730.00</td>\n",
       "      <td>0.00</td>\n",
       "      <td>151739.00</td>\n",
       "      <td>161523.00</td>\n",
       "      <td>12273.00</td>\n",
       "    </tr>\n",
       "  </tbody>\n",
       "</table>\n",
       "</div>"
      ],
      "text/plain": [
       "   operator_id  work_days   c_in  cm_in   c_out  cm_out  c_in_cd  c_in_tcd  \\\n",
       "0       879896         50  58.00   0.00  621.00  251.00  5616.00   6190.00   \n",
       "1       879898         84 104.00   0.00 4849.00 2360.00  6353.00   8033.00   \n",
       "2       880020         14   7.00   0.00   16.00   22.00   299.00    353.00   \n",
       "3       880022         42   8.00   0.00   84.00  105.00   512.00    624.00   \n",
       "4       880026         77  24.00   0.00 1560.00  648.00  1587.00   1730.00   \n",
       "\n",
       "   cm_in_tcd  c_out_cd  c_out_tcd  cm_out_tcd  \n",
       "0       0.00  58246.00   64210.00     5737.00  \n",
       "1       0.00 251038.00  303521.00    49734.00  \n",
       "2       0.00   1946.00    2036.00      136.00  \n",
       "3       0.00  14635.00   15191.00     3110.00  \n",
       "4       0.00 151739.00  161523.00    12273.00  "
      ]
     },
     "execution_count": 50,
     "metadata": {},
     "output_type": "execute_result"
    }
   ],
   "source": [
    "# группируем данные, оператора с номером 333 - фильтруем\n",
    "operator_df = (df.query('operator_id != 333')\n",
    "                    .groupby('operator_id')\n",
    "                    .agg({'date':'nunique', 'c_in':'sum','cm_in':'sum','c_out':'sum','cm_out':'sum','c_in_cd':'sum','c_in_tcd':'sum','cm_in_tcd':'sum','c_out_cd':'sum','c_out_tcd':'sum','cm_out_tcd':'sum'})\n",
    "                    .reset_index()\n",
    "                    .rename(columns={'date': 'work_days'})\n",
    ")\n",
    "operator_df.head(5)"
   ]
  },
  {
   "cell_type": "code",
   "execution_count": 51,
   "metadata": {},
   "outputs": [],
   "source": [
    "# вычисляем различные параметры для будущей оценки эффективности операторов, подробное описание будет ниже\n",
    "operator_df['calls_in_pd'] = (operator_df.c_in+operator_df.cm_in)/(operator_df.work_days)\n",
    "operator_df['miss_in_pct'] = (operator_df.cm_in)/(operator_df.c_in+operator_df.cm_in)*100\n",
    "operator_df['calls_made_pd'] = (operator_df.c_out)/(operator_df.work_days)\n",
    "operator_df['calls_miss_pd'] = (operator_df.cm_out)/(operator_df.work_days)\n",
    "operator_df['rc_wait_time'] = (operator_df.c_in_tcd-operator_df.c_in_cd)/(operator_df.c_in)\n",
    "operator_df['avr_call_in'] = (operator_df.c_in_tcd+operator_df.cm_in_tcd)/(operator_df.c_in+operator_df.cm_in)\n",
    "operator_df['mc_wait_time'] = (operator_df.cm_in_tcd)/(operator_df.cm_in)\n",
    "operator_df['avr_call_out'] = (operator_df.c_out_tcd+operator_df.cm_out_tcd)/(operator_df.c_out+operator_df.cm_out)"
   ]
  },
  {
   "cell_type": "code",
   "execution_count": 52,
   "metadata": {},
   "outputs": [],
   "source": [
    "# убираем ненужные столбцы\n",
    "operator_df.drop(['c_in','cm_in','c_out','cm_out','c_in_cd','c_in_tcd','cm_in_tcd','c_out_cd','c_out_tcd','cm_out_tcd'], axis=1, inplace=True)"
   ]
  },
  {
   "cell_type": "code",
   "execution_count": 53,
   "metadata": {
    "scrolled": true
   },
   "outputs": [
    {
     "data": {
      "text/html": [
       "<div>\n",
       "<style scoped>\n",
       "    .dataframe tbody tr th:only-of-type {\n",
       "        vertical-align: middle;\n",
       "    }\n",
       "\n",
       "    .dataframe tbody tr th {\n",
       "        vertical-align: top;\n",
       "    }\n",
       "\n",
       "    .dataframe thead th {\n",
       "        text-align: right;\n",
       "    }\n",
       "</style>\n",
       "<table border=\"1\" class=\"dataframe\">\n",
       "  <thead>\n",
       "    <tr style=\"text-align: right;\">\n",
       "      <th></th>\n",
       "      <th>operator_id</th>\n",
       "      <th>work_days</th>\n",
       "      <th>calls_in_pd</th>\n",
       "      <th>miss_in_pct</th>\n",
       "      <th>calls_made_pd</th>\n",
       "      <th>calls_miss_pd</th>\n",
       "      <th>rc_wait_time</th>\n",
       "      <th>avr_call_in</th>\n",
       "      <th>mc_wait_time</th>\n",
       "      <th>avr_call_out</th>\n",
       "    </tr>\n",
       "  </thead>\n",
       "  <tbody>\n",
       "    <tr>\n",
       "      <th>28</th>\n",
       "      <td>885876</td>\n",
       "      <td>97</td>\n",
       "      <td>10.23</td>\n",
       "      <td>1.41</td>\n",
       "      <td>362.13</td>\n",
       "      <td>240.31</td>\n",
       "      <td>9.04</td>\n",
       "      <td>68.79</td>\n",
       "      <td>12.57</td>\n",
       "      <td>96.94</td>\n",
       "    </tr>\n",
       "    <tr>\n",
       "      <th>108</th>\n",
       "      <td>893804</td>\n",
       "      <td>93</td>\n",
       "      <td>26.16</td>\n",
       "      <td>0.25</td>\n",
       "      <td>22.58</td>\n",
       "      <td>14.12</td>\n",
       "      <td>5.12</td>\n",
       "      <td>76.07</td>\n",
       "      <td>6.50</td>\n",
       "      <td>50.84</td>\n",
       "    </tr>\n",
       "    <tr>\n",
       "      <th>203</th>\n",
       "      <td>901880</td>\n",
       "      <td>88</td>\n",
       "      <td>20.74</td>\n",
       "      <td>0.60</td>\n",
       "      <td>18.56</td>\n",
       "      <td>8.28</td>\n",
       "      <td>5.23</td>\n",
       "      <td>145.70</td>\n",
       "      <td>8.09</td>\n",
       "      <td>91.83</td>\n",
       "    </tr>\n",
       "    <tr>\n",
       "      <th>204</th>\n",
       "      <td>901884</td>\n",
       "      <td>87</td>\n",
       "      <td>6.51</td>\n",
       "      <td>0.00</td>\n",
       "      <td>16.18</td>\n",
       "      <td>7.08</td>\n",
       "      <td>13.56</td>\n",
       "      <td>191.93</td>\n",
       "      <td>NaN</td>\n",
       "      <td>112.15</td>\n",
       "    </tr>\n",
       "    <tr>\n",
       "      <th>48</th>\n",
       "      <td>889410</td>\n",
       "      <td>87</td>\n",
       "      <td>5.05</td>\n",
       "      <td>0.00</td>\n",
       "      <td>8.76</td>\n",
       "      <td>2.91</td>\n",
       "      <td>6.33</td>\n",
       "      <td>84.87</td>\n",
       "      <td>NaN</td>\n",
       "      <td>58.22</td>\n",
       "    </tr>\n",
       "    <tr>\n",
       "      <th>162</th>\n",
       "      <td>899250</td>\n",
       "      <td>86</td>\n",
       "      <td>3.33</td>\n",
       "      <td>1.40</td>\n",
       "      <td>10.01</td>\n",
       "      <td>5.97</td>\n",
       "      <td>16.08</td>\n",
       "      <td>102.44</td>\n",
       "      <td>10.75</td>\n",
       "      <td>50.06</td>\n",
       "    </tr>\n",
       "    <tr>\n",
       "      <th>1</th>\n",
       "      <td>879898</td>\n",
       "      <td>84</td>\n",
       "      <td>1.24</td>\n",
       "      <td>0.00</td>\n",
       "      <td>57.73</td>\n",
       "      <td>28.10</td>\n",
       "      <td>16.15</td>\n",
       "      <td>77.24</td>\n",
       "      <td>NaN</td>\n",
       "      <td>49.00</td>\n",
       "    </tr>\n",
       "    <tr>\n",
       "      <th>224</th>\n",
       "      <td>903254</td>\n",
       "      <td>82</td>\n",
       "      <td>2.96</td>\n",
       "      <td>0.00</td>\n",
       "      <td>13.48</td>\n",
       "      <td>4.39</td>\n",
       "      <td>17.01</td>\n",
       "      <td>105.06</td>\n",
       "      <td>NaN</td>\n",
       "      <td>73.56</td>\n",
       "    </tr>\n",
       "    <tr>\n",
       "      <th>12</th>\n",
       "      <td>882686</td>\n",
       "      <td>80</td>\n",
       "      <td>9.57</td>\n",
       "      <td>0.52</td>\n",
       "      <td>24.21</td>\n",
       "      <td>11.84</td>\n",
       "      <td>14.71</td>\n",
       "      <td>202.66</td>\n",
       "      <td>15.75</td>\n",
       "      <td>95.65</td>\n",
       "    </tr>\n",
       "    <tr>\n",
       "      <th>29</th>\n",
       "      <td>885890</td>\n",
       "      <td>80</td>\n",
       "      <td>15.55</td>\n",
       "      <td>1.69</td>\n",
       "      <td>439.95</td>\n",
       "      <td>297.26</td>\n",
       "      <td>9.07</td>\n",
       "      <td>72.98</td>\n",
       "      <td>9.95</td>\n",
       "      <td>79.57</td>\n",
       "    </tr>\n",
       "  </tbody>\n",
       "</table>\n",
       "</div>"
      ],
      "text/plain": [
       "     operator_id  work_days  calls_in_pd  miss_in_pct  calls_made_pd  \\\n",
       "28        885876         97        10.23         1.41         362.13   \n",
       "108       893804         93        26.16         0.25          22.58   \n",
       "203       901880         88        20.74         0.60          18.56   \n",
       "204       901884         87         6.51         0.00          16.18   \n",
       "48        889410         87         5.05         0.00           8.76   \n",
       "162       899250         86         3.33         1.40          10.01   \n",
       "1         879898         84         1.24         0.00          57.73   \n",
       "224       903254         82         2.96         0.00          13.48   \n",
       "12        882686         80         9.57         0.52          24.21   \n",
       "29        885890         80        15.55         1.69         439.95   \n",
       "\n",
       "     calls_miss_pd  rc_wait_time  avr_call_in  mc_wait_time  avr_call_out  \n",
       "28          240.31          9.04        68.79         12.57         96.94  \n",
       "108          14.12          5.12        76.07          6.50         50.84  \n",
       "203           8.28          5.23       145.70          8.09         91.83  \n",
       "204           7.08         13.56       191.93           NaN        112.15  \n",
       "48            2.91          6.33        84.87           NaN         58.22  \n",
       "162           5.97         16.08       102.44         10.75         50.06  \n",
       "1            28.10         16.15        77.24           NaN         49.00  \n",
       "224           4.39         17.01       105.06           NaN         73.56  \n",
       "12           11.84         14.71       202.66         15.75         95.65  \n",
       "29          297.26          9.07        72.98          9.95         79.57  "
      ]
     },
     "execution_count": 53,
     "metadata": {},
     "output_type": "execute_result"
    }
   ],
   "source": [
    "operator_df.sort_values(by='work_days', ascending=False).head(10)"
   ]
  },
  {
   "cell_type": "markdown",
   "metadata": {},
   "source": [
    "- `operator_id` — идентификатор оператора\n",
    "- `work_days` — число рабочих дней оператора\n",
    "- `calls_in_pd` — среднее число входящих звонков у оператора за день\n",
    "- `miss_in_pct` — процент пропущенных входящих звонков\n",
    "- `calls_made_pd` — среднее число \"дозвонов\" оператора за день\n",
    "- `calls_miss_pd` — среднее число \"недозвонов\" оператора за день\n",
    "- `rc_wait_time` — среднее время ожидания (в секундах) у принятых звонков\n",
    "- `avr_call_in` — общее среднее время (в секундах) входящих звонков \n",
    "- `mc_wait_time` — среднее время ожидания (в секундах) у пропущенных звонков\n",
    "- `avr_call_out` — общее среднее время (в секундах) потраченое оператором на исходящий звонк"
   ]
  },
  {
   "cell_type": "code",
   "execution_count": 54,
   "metadata": {},
   "outputs": [
    {
     "data": {
      "text/html": [
       "<div>\n",
       "<style scoped>\n",
       "    .dataframe tbody tr th:only-of-type {\n",
       "        vertical-align: middle;\n",
       "    }\n",
       "\n",
       "    .dataframe tbody tr th {\n",
       "        vertical-align: top;\n",
       "    }\n",
       "\n",
       "    .dataframe thead th {\n",
       "        text-align: right;\n",
       "    }\n",
       "</style>\n",
       "<table border=\"1\" class=\"dataframe\">\n",
       "  <thead>\n",
       "    <tr style=\"text-align: right;\">\n",
       "      <th></th>\n",
       "      <th>operator_id</th>\n",
       "      <th>work_days</th>\n",
       "      <th>calls_in_pd</th>\n",
       "      <th>miss_in_pct</th>\n",
       "      <th>calls_made_pd</th>\n",
       "      <th>calls_miss_pd</th>\n",
       "      <th>rc_wait_time</th>\n",
       "      <th>avr_call_in</th>\n",
       "      <th>mc_wait_time</th>\n",
       "      <th>avr_call_out</th>\n",
       "    </tr>\n",
       "  </thead>\n",
       "  <tbody>\n",
       "    <tr>\n",
       "      <th>mean</th>\n",
       "      <td>925517.54</td>\n",
       "      <td>17.99</td>\n",
       "      <td>2.96</td>\n",
       "      <td>0.91</td>\n",
       "      <td>12.29</td>\n",
       "      <td>10.79</td>\n",
       "      <td>17.46</td>\n",
       "      <td>119.65</td>\n",
       "      <td>20.09</td>\n",
       "      <td>76.74</td>\n",
       "    </tr>\n",
       "    <tr>\n",
       "      <th>50%</th>\n",
       "      <td>925105.00</td>\n",
       "      <td>12.00</td>\n",
       "      <td>1.00</td>\n",
       "      <td>0.00</td>\n",
       "      <td>2.00</td>\n",
       "      <td>1.44</td>\n",
       "      <td>14.35</td>\n",
       "      <td>101.33</td>\n",
       "      <td>15.00</td>\n",
       "      <td>61.69</td>\n",
       "    </tr>\n",
       "    <tr>\n",
       "      <th>75%</th>\n",
       "      <td>944211.50</td>\n",
       "      <td>26.25</td>\n",
       "      <td>2.00</td>\n",
       "      <td>0.00</td>\n",
       "      <td>10.57</td>\n",
       "      <td>6.85</td>\n",
       "      <td>21.56</td>\n",
       "      <td>146.42</td>\n",
       "      <td>25.67</td>\n",
       "      <td>91.34</td>\n",
       "    </tr>\n",
       "    <tr>\n",
       "      <th>min</th>\n",
       "      <td>879896.00</td>\n",
       "      <td>1.00</td>\n",
       "      <td>0.00</td>\n",
       "      <td>0.00</td>\n",
       "      <td>0.00</td>\n",
       "      <td>0.00</td>\n",
       "      <td>0.68</td>\n",
       "      <td>7.00</td>\n",
       "      <td>1.00</td>\n",
       "      <td>0.00</td>\n",
       "    </tr>\n",
       "    <tr>\n",
       "      <th>max</th>\n",
       "      <td>973286.00</td>\n",
       "      <td>97.00</td>\n",
       "      <td>136.23</td>\n",
       "      <td>33.33</td>\n",
       "      <td>439.95</td>\n",
       "      <td>579.33</td>\n",
       "      <td>115.50</td>\n",
       "      <td>1808.00</td>\n",
       "      <td>111.00</td>\n",
       "      <td>1338.00</td>\n",
       "    </tr>\n",
       "  </tbody>\n",
       "</table>\n",
       "</div>"
      ],
      "text/plain": [
       "      operator_id  work_days  calls_in_pd  miss_in_pct  calls_made_pd  \\\n",
       "mean    925517.54      17.99         2.96         0.91          12.29   \n",
       "50%     925105.00      12.00         1.00         0.00           2.00   \n",
       "75%     944211.50      26.25         2.00         0.00          10.57   \n",
       "min     879896.00       1.00         0.00         0.00           0.00   \n",
       "max     973286.00      97.00       136.23        33.33         439.95   \n",
       "\n",
       "      calls_miss_pd  rc_wait_time  avr_call_in  mc_wait_time  avr_call_out  \n",
       "mean          10.79         17.46       119.65         20.09         76.74  \n",
       "50%            1.44         14.35       101.33         15.00         61.69  \n",
       "75%            6.85         21.56       146.42         25.67         91.34  \n",
       "min            0.00          0.68         7.00          1.00          0.00  \n",
       "max          579.33        115.50      1808.00        111.00       1338.00  "
      ]
     },
     "execution_count": 54,
     "metadata": {},
     "output_type": "execute_result"
    }
   ],
   "source": [
    "operator_df.describe().loc[['mean','50%','75%','min','max']]"
   ]
  },
  {
   "cell_type": "markdown",
   "metadata": {},
   "source": [
    "Максимальное число рабочих дней оператора - 97, медиана всего 12-ть дней;  \n",
    "Средний процент пропущенных звонков 0.91%, медиана вообще нулевая;  \n",
    "Медианное время ожидания при пропущенном звонке отличается от среднего времени принятого всего 1 секунду;  \n",
    "При обзвоне, в почти половине случаев дозвониться не удается"
   ]
  },
  {
   "cell_type": "markdown",
   "metadata": {},
   "source": [
    "75% операторов работало всего 26 дней или меньше из 119-ти, что говорит нам либо о неполноте данных, либо о том, что это не операторы колл-центров, а те кто звонит или принимает звонки только по необходимости;  \n",
    "Построим график числа работающих операторов по дням"
   ]
  },
  {
   "cell_type": "code",
   "execution_count": 55,
   "metadata": {},
   "outputs": [
    {
     "data": {
      "image/png": "[encoded data removed]",
      "text/plain": [
       "<Figure size 1080x504 with 1 Axes>"
      ]
     },
     "metadata": {
      "needs_background": "light"
     },
     "output_type": "display_data"
    }
   ],
   "source": [
    "(df\n",
    " .pivot_table(index='date', values='operator_id', aggfunc='nunique')\n",
    " .plot(figsize=(15,7), style ='-o', grid=True, legend=False)\n",
    ")\n",
    "plt.title('Количество работающих операторов по дням', fontsize=16)\n",
    "plt.xlabel('Дата', fontsize = 12)\n",
    "plt.ylabel('Число операторов', fontsize = 12);"
   ]
  },
  {
   "cell_type": "markdown",
   "metadata": {},
   "source": [
    "Число активных операторов непрерывно растет на протяжении всего исследуемого периода, что скорее всего говорит о том, что с каждым днем мы получали все больше полноценных данных"
   ]
  },
  {
   "cell_type": "markdown",
   "metadata": {},
   "source": [
    "Операторы не звонят сами по себе, они работают колл-центрах, чтобы лучше понимать операторские статистики, проведем анализ колл-центров"
   ]
  },
  {
   "cell_type": "markdown",
   "metadata": {},
   "source": [
    "#### Исследовательский анализ колл-центров"
   ]
  },
  {
   "cell_type": "code",
   "execution_count": 56,
   "metadata": {},
   "outputs": [
    {
     "data": {
      "text/plain": [
       "307"
      ]
     },
     "execution_count": 56,
     "metadata": {},
     "output_type": "execute_result"
    }
   ],
   "source": [
    "df.user_id.nunique()"
   ]
  },
  {
   "cell_type": "markdown",
   "metadata": {},
   "source": [
    "В датасете 307 колл-центров, для анализа сгруппируем данные по каждому колл-центру"
   ]
  },
  {
   "cell_type": "code",
   "execution_count": 57,
   "metadata": {},
   "outputs": [
    {
     "data": {
      "text/html": [
       "<div>\n",
       "<style scoped>\n",
       "    .dataframe tbody tr th:only-of-type {\n",
       "        vertical-align: middle;\n",
       "    }\n",
       "\n",
       "    .dataframe tbody tr th {\n",
       "        vertical-align: top;\n",
       "    }\n",
       "\n",
       "    .dataframe thead th {\n",
       "        text-align: right;\n",
       "    }\n",
       "</style>\n",
       "<table border=\"1\" class=\"dataframe\">\n",
       "  <thead>\n",
       "    <tr style=\"text-align: right;\">\n",
       "      <th></th>\n",
       "      <th>user_id</th>\n",
       "      <th>work_days</th>\n",
       "      <th>op_count</th>\n",
       "      <th>c_in</th>\n",
       "      <th>cm_in</th>\n",
       "      <th>c_out</th>\n",
       "      <th>cm_out</th>\n",
       "      <th>c_in_cd</th>\n",
       "      <th>c_in_tcd</th>\n",
       "      <th>cm_in_tcd</th>\n",
       "      <th>c_out_cd</th>\n",
       "      <th>c_out_tcd</th>\n",
       "      <th>cm_out_tcd</th>\n",
       "    </tr>\n",
       "  </thead>\n",
       "  <tbody>\n",
       "    <tr>\n",
       "      <th>264</th>\n",
       "      <td>168187</td>\n",
       "      <td>44</td>\n",
       "      <td>51</td>\n",
       "      <td>5497.00</td>\n",
       "      <td>2457.00</td>\n",
       "      <td>6393.00</td>\n",
       "      <td>7051.00</td>\n",
       "      <td>598957.00</td>\n",
       "      <td>653483.00</td>\n",
       "      <td>71167.00</td>\n",
       "      <td>541651.00</td>\n",
       "      <td>672866.00</td>\n",
       "      <td>178203.00</td>\n",
       "    </tr>\n",
       "    <tr>\n",
       "      <th>175</th>\n",
       "      <td>167626</td>\n",
       "      <td>27</td>\n",
       "      <td>49</td>\n",
       "      <td>3720.00</td>\n",
       "      <td>23395.00</td>\n",
       "      <td>34703.00</td>\n",
       "      <td>31588.00</td>\n",
       "      <td>222653.00</td>\n",
       "      <td>248936.00</td>\n",
       "      <td>30450.00</td>\n",
       "      <td>2943741.00</td>\n",
       "      <td>3570326.00</td>\n",
       "      <td>802293.00</td>\n",
       "    </tr>\n",
       "    <tr>\n",
       "      <th>161</th>\n",
       "      <td>167497</td>\n",
       "      <td>63</td>\n",
       "      <td>31</td>\n",
       "      <td>328.00</td>\n",
       "      <td>313.00</td>\n",
       "      <td>2046.00</td>\n",
       "      <td>897.00</td>\n",
       "      <td>40694.00</td>\n",
       "      <td>48136.00</td>\n",
       "      <td>8075.00</td>\n",
       "      <td>235608.00</td>\n",
       "      <td>264045.00</td>\n",
       "      <td>21637.00</td>\n",
       "    </tr>\n",
       "    <tr>\n",
       "      <th>271</th>\n",
       "      <td>168252</td>\n",
       "      <td>41</td>\n",
       "      <td>29</td>\n",
       "      <td>8487.00</td>\n",
       "      <td>5581.00</td>\n",
       "      <td>7459.00</td>\n",
       "      <td>4977.00</td>\n",
       "      <td>987167.00</td>\n",
       "      <td>1024695.00</td>\n",
       "      <td>123283.00</td>\n",
       "      <td>607119.00</td>\n",
       "      <td>733413.00</td>\n",
       "      <td>114049.00</td>\n",
       "    </tr>\n",
       "    <tr>\n",
       "      <th>248</th>\n",
       "      <td>168062</td>\n",
       "      <td>25</td>\n",
       "      <td>28</td>\n",
       "      <td>411.00</td>\n",
       "      <td>249.00</td>\n",
       "      <td>9985.00</td>\n",
       "      <td>14712.00</td>\n",
       "      <td>39806.00</td>\n",
       "      <td>48522.00</td>\n",
       "      <td>2829.00</td>\n",
       "      <td>570215.00</td>\n",
       "      <td>703162.00</td>\n",
       "      <td>316053.00</td>\n",
       "    </tr>\n",
       "  </tbody>\n",
       "</table>\n",
       "</div>"
      ],
      "text/plain": [
       "     user_id  work_days  op_count    c_in    cm_in    c_out   cm_out  \\\n",
       "264   168187         44        51 5497.00  2457.00  6393.00  7051.00   \n",
       "175   167626         27        49 3720.00 23395.00 34703.00 31588.00   \n",
       "161   167497         63        31  328.00   313.00  2046.00   897.00   \n",
       "271   168252         41        29 8487.00  5581.00  7459.00  4977.00   \n",
       "248   168062         25        28  411.00   249.00  9985.00 14712.00   \n",
       "\n",
       "      c_in_cd   c_in_tcd  cm_in_tcd   c_out_cd  c_out_tcd  cm_out_tcd  \n",
       "264 598957.00  653483.00   71167.00  541651.00  672866.00   178203.00  \n",
       "175 222653.00  248936.00   30450.00 2943741.00 3570326.00   802293.00  \n",
       "161  40694.00   48136.00    8075.00  235608.00  264045.00    21637.00  \n",
       "271 987167.00 1024695.00  123283.00  607119.00  733413.00   114049.00  \n",
       "248  39806.00   48522.00    2829.00  570215.00  703162.00   316053.00  "
      ]
     },
     "execution_count": 57,
     "metadata": {},
     "output_type": "execute_result"
    }
   ],
   "source": [
    "user_df = (df.groupby('user_id')\n",
    "                 .agg({'date':'nunique', 'operator_id':'nunique','c_in':'sum','cm_in':'sum','c_out':'sum','cm_out':'sum','c_in_cd':'sum','c_in_tcd':'sum','cm_in_tcd':'sum','c_out_cd':'sum','c_out_tcd':'sum','cm_out_tcd':'sum'})\n",
    "                 .reset_index()\n",
    "                 .rename(columns={'date': 'work_days', 'operator_id':'op_count'})\n",
    ")\n",
    "user_df.sort_values(by=['op_count'], ascending=False).head()"
   ]
  },
  {
   "cell_type": "code",
   "execution_count": 58,
   "metadata": {},
   "outputs": [],
   "source": [
    "# вычисляем различные параметры для будущей оценки эффективности операторов, подробное описание будет ниже\n",
    "user_df['calls_in_pd'] = (user_df.c_in+user_df.cm_in)/(user_df.work_days)\n",
    "user_df['miss_in_pct'] = (user_df.cm_in)/(user_df.c_in+user_df.cm_in)*100\n",
    "user_df['calls_made_pd'] = (user_df.c_out)/(user_df.work_days)\n",
    "user_df['calls_miss_pd'] = (user_df.cm_out)/(user_df.work_days)\n",
    "user_df['rc_wait_time'] = (user_df.c_in_tcd-user_df.c_in_cd)/(user_df.c_in)\n",
    "user_df['avr_call_in'] = (user_df.c_in_tcd+user_df.cm_in_tcd)/(user_df.c_in+user_df.cm_in)\n",
    "user_df['mc_wait_time'] = (user_df.cm_in_tcd)/(user_df.cm_in)\n",
    "user_df['avr_call_out'] = (user_df.c_out_tcd+user_df.cm_out_tcd)/(user_df.c_out+user_df.cm_out)"
   ]
  },
  {
   "cell_type": "code",
   "execution_count": 59,
   "metadata": {},
   "outputs": [],
   "source": [
    "# убираем ненужные столбцы\n",
    "user_df.drop(['c_in','cm_in','c_out','cm_out','c_in_cd','c_in_tcd','cm_in_tcd','c_out_cd','c_out_tcd','cm_out_tcd'], axis=1, inplace=True)"
   ]
  },
  {
   "cell_type": "code",
   "execution_count": 60,
   "metadata": {},
   "outputs": [
    {
     "data": {
      "text/html": [
       "<div>\n",
       "<style scoped>\n",
       "    .dataframe tbody tr th:only-of-type {\n",
       "        vertical-align: middle;\n",
       "    }\n",
       "\n",
       "    .dataframe tbody tr th {\n",
       "        vertical-align: top;\n",
       "    }\n",
       "\n",
       "    .dataframe thead th {\n",
       "        text-align: right;\n",
       "    }\n",
       "</style>\n",
       "<table border=\"1\" class=\"dataframe\">\n",
       "  <thead>\n",
       "    <tr style=\"text-align: right;\">\n",
       "      <th></th>\n",
       "      <th>user_id</th>\n",
       "      <th>work_days</th>\n",
       "      <th>op_count</th>\n",
       "      <th>calls_in_pd</th>\n",
       "      <th>miss_in_pct</th>\n",
       "      <th>calls_made_pd</th>\n",
       "      <th>calls_miss_pd</th>\n",
       "      <th>rc_wait_time</th>\n",
       "      <th>avr_call_in</th>\n",
       "      <th>mc_wait_time</th>\n",
       "      <th>avr_call_out</th>\n",
       "    </tr>\n",
       "  </thead>\n",
       "  <tbody>\n",
       "    <tr>\n",
       "      <th>4</th>\n",
       "      <td>166405</td>\n",
       "      <td>111</td>\n",
       "      <td>11</td>\n",
       "      <td>69.47</td>\n",
       "      <td>71.77</td>\n",
       "      <td>58.22</td>\n",
       "      <td>30.30</td>\n",
       "      <td>18.47</td>\n",
       "      <td>64.32</td>\n",
       "      <td>13.43</td>\n",
       "      <td>97.39</td>\n",
       "    </tr>\n",
       "    <tr>\n",
       "      <th>22</th>\n",
       "      <td>166582</td>\n",
       "      <td>105</td>\n",
       "      <td>4</td>\n",
       "      <td>71.15</td>\n",
       "      <td>65.02</td>\n",
       "      <td>768.36</td>\n",
       "      <td>536.68</td>\n",
       "      <td>8.69</td>\n",
       "      <td>34.89</td>\n",
       "      <td>13.70</td>\n",
       "      <td>84.47</td>\n",
       "    </tr>\n",
       "    <tr>\n",
       "      <th>30</th>\n",
       "      <td>166658</td>\n",
       "      <td>101</td>\n",
       "      <td>18</td>\n",
       "      <td>23.00</td>\n",
       "      <td>34.74</td>\n",
       "      <td>68.50</td>\n",
       "      <td>35.18</td>\n",
       "      <td>10.29</td>\n",
       "      <td>175.70</td>\n",
       "      <td>5.91</td>\n",
       "      <td>205.55</td>\n",
       "    </tr>\n",
       "    <tr>\n",
       "      <th>13</th>\n",
       "      <td>166503</td>\n",
       "      <td>99</td>\n",
       "      <td>7</td>\n",
       "      <td>4.93</td>\n",
       "      <td>44.88</td>\n",
       "      <td>5.40</td>\n",
       "      <td>4.12</td>\n",
       "      <td>35.26</td>\n",
       "      <td>74.15</td>\n",
       "      <td>46.47</td>\n",
       "      <td>75.14</td>\n",
       "    </tr>\n",
       "    <tr>\n",
       "      <th>51</th>\n",
       "      <td>166782</td>\n",
       "      <td>98</td>\n",
       "      <td>6</td>\n",
       "      <td>32.81</td>\n",
       "      <td>13.75</td>\n",
       "      <td>40.74</td>\n",
       "      <td>25.30</td>\n",
       "      <td>6.74</td>\n",
       "      <td>71.15</td>\n",
       "      <td>16.23</td>\n",
       "      <td>52.14</td>\n",
       "    </tr>\n",
       "    <tr>\n",
       "      <th>39</th>\n",
       "      <td>166691</td>\n",
       "      <td>96</td>\n",
       "      <td>3</td>\n",
       "      <td>5.85</td>\n",
       "      <td>16.90</td>\n",
       "      <td>7.94</td>\n",
       "      <td>2.64</td>\n",
       "      <td>6.79</td>\n",
       "      <td>74.68</td>\n",
       "      <td>21.23</td>\n",
       "      <td>58.22</td>\n",
       "    </tr>\n",
       "    <tr>\n",
       "      <th>5</th>\n",
       "      <td>166406</td>\n",
       "      <td>91</td>\n",
       "      <td>4</td>\n",
       "      <td>2.84</td>\n",
       "      <td>37.21</td>\n",
       "      <td>60.44</td>\n",
       "      <td>28.88</td>\n",
       "      <td>13.91</td>\n",
       "      <td>68.12</td>\n",
       "      <td>34.92</td>\n",
       "      <td>52.61</td>\n",
       "    </tr>\n",
       "    <tr>\n",
       "      <th>36</th>\n",
       "      <td>166678</td>\n",
       "      <td>90</td>\n",
       "      <td>7</td>\n",
       "      <td>7.07</td>\n",
       "      <td>25.00</td>\n",
       "      <td>8.03</td>\n",
       "      <td>5.33</td>\n",
       "      <td>8.97</td>\n",
       "      <td>111.45</td>\n",
       "      <td>11.25</td>\n",
       "      <td>66.18</td>\n",
       "    </tr>\n",
       "    <tr>\n",
       "      <th>80</th>\n",
       "      <td>166983</td>\n",
       "      <td>88</td>\n",
       "      <td>6</td>\n",
       "      <td>34.92</td>\n",
       "      <td>10.51</td>\n",
       "      <td>45.09</td>\n",
       "      <td>20.91</td>\n",
       "      <td>10.02</td>\n",
       "      <td>145.12</td>\n",
       "      <td>39.46</td>\n",
       "      <td>98.08</td>\n",
       "    </tr>\n",
       "    <tr>\n",
       "      <th>0</th>\n",
       "      <td>166377</td>\n",
       "      <td>87</td>\n",
       "      <td>6</td>\n",
       "      <td>2.25</td>\n",
       "      <td>47.96</td>\n",
       "      <td>36.40</td>\n",
       "      <td>20.53</td>\n",
       "      <td>6.39</td>\n",
       "      <td>48.62</td>\n",
       "      <td>15.33</td>\n",
       "      <td>76.46</td>\n",
       "    </tr>\n",
       "  </tbody>\n",
       "</table>\n",
       "</div>"
      ],
      "text/plain": [
       "    user_id  work_days  op_count  calls_in_pd  miss_in_pct  calls_made_pd  \\\n",
       "4    166405        111        11        69.47        71.77          58.22   \n",
       "22   166582        105         4        71.15        65.02         768.36   \n",
       "30   166658        101        18        23.00        34.74          68.50   \n",
       "13   166503         99         7         4.93        44.88           5.40   \n",
       "51   166782         98         6        32.81        13.75          40.74   \n",
       "39   166691         96         3         5.85        16.90           7.94   \n",
       "5    166406         91         4         2.84        37.21          60.44   \n",
       "36   166678         90         7         7.07        25.00           8.03   \n",
       "80   166983         88         6        34.92        10.51          45.09   \n",
       "0    166377         87         6         2.25        47.96          36.40   \n",
       "\n",
       "    calls_miss_pd  rc_wait_time  avr_call_in  mc_wait_time  avr_call_out  \n",
       "4           30.30         18.47        64.32         13.43         97.39  \n",
       "22         536.68          8.69        34.89         13.70         84.47  \n",
       "30          35.18         10.29       175.70          5.91        205.55  \n",
       "13           4.12         35.26        74.15         46.47         75.14  \n",
       "51          25.30          6.74        71.15         16.23         52.14  \n",
       "39           2.64          6.79        74.68         21.23         58.22  \n",
       "5           28.88         13.91        68.12         34.92         52.61  \n",
       "36           5.33          8.97       111.45         11.25         66.18  \n",
       "80          20.91         10.02       145.12         39.46         98.08  \n",
       "0           20.53          6.39        48.62         15.33         76.46  "
      ]
     },
     "execution_count": 60,
     "metadata": {},
     "output_type": "execute_result"
    }
   ],
   "source": [
    "user_df.sort_values(by='work_days', ascending=False).head(10)"
   ]
  },
  {
   "cell_type": "markdown",
   "metadata": {},
   "source": [
    "- `operator_id` — идентификатор оператора\n",
    "- `work_days` — число рабочих дней колл-центра\n",
    "- `op_count` - число операторов работающих в колл-центре\n",
    "- `calls_in_pd` — среднее число входящих звонков колл-центром за день\n",
    "- `miss_in_pct` — процент пропущенных входящих звонков\n",
    "- `calls_made_pd` — среднее число \"дозвонов\" колл-центра за день\n",
    "- `calls_miss_pd` — среднее число \"недозвонов\" колл-центра за день\n",
    "- `rc_wait_time` — среднее время ожидания (в секундах) у принятых звонков\n",
    "- `avr_call_in` — общее среднее время (в секундах) входящих звонков \n",
    "- `mc_wait_time` — среднее время ожидания (в секундах) у пропущенных звонков\n",
    "- `avr_call_out` — общее среднее время (в секундах) потраченое колл-центром на исходящий звонок"
   ]
  },
  {
   "cell_type": "code",
   "execution_count": 61,
   "metadata": {},
   "outputs": [
    {
     "data": {
      "text/html": [
       "<div>\n",
       "<style scoped>\n",
       "    .dataframe tbody tr th:only-of-type {\n",
       "        vertical-align: middle;\n",
       "    }\n",
       "\n",
       "    .dataframe tbody tr th {\n",
       "        vertical-align: top;\n",
       "    }\n",
       "\n",
       "    .dataframe thead th {\n",
       "        text-align: right;\n",
       "    }\n",
       "</style>\n",
       "<table border=\"1\" class=\"dataframe\">\n",
       "  <thead>\n",
       "    <tr style=\"text-align: right;\">\n",
       "      <th></th>\n",
       "      <th>user_id</th>\n",
       "      <th>work_days</th>\n",
       "      <th>op_count</th>\n",
       "      <th>calls_in_pd</th>\n",
       "      <th>miss_in_pct</th>\n",
       "      <th>calls_made_pd</th>\n",
       "      <th>calls_miss_pd</th>\n",
       "      <th>rc_wait_time</th>\n",
       "      <th>avr_call_in</th>\n",
       "      <th>mc_wait_time</th>\n",
       "      <th>avr_call_out</th>\n",
       "    </tr>\n",
       "  </thead>\n",
       "  <tbody>\n",
       "    <tr>\n",
       "      <th>mean</th>\n",
       "      <td>167456.82</td>\n",
       "      <td>33.85</td>\n",
       "      <td>4.55</td>\n",
       "      <td>15.95</td>\n",
       "      <td>56.32</td>\n",
       "      <td>24.16</td>\n",
       "      <td>21.22</td>\n",
       "      <td>14.49</td>\n",
       "      <td>56.94</td>\n",
       "      <td>15.27</td>\n",
       "      <td>70.70</td>\n",
       "    </tr>\n",
       "    <tr>\n",
       "      <th>50%</th>\n",
       "      <td>167455.00</td>\n",
       "      <td>28.00</td>\n",
       "      <td>3.00</td>\n",
       "      <td>3.15</td>\n",
       "      <td>53.85</td>\n",
       "      <td>1.46</td>\n",
       "      <td>1.07</td>\n",
       "      <td>13.50</td>\n",
       "      <td>48.62</td>\n",
       "      <td>13.83</td>\n",
       "      <td>62.46</td>\n",
       "    </tr>\n",
       "    <tr>\n",
       "      <th>75%</th>\n",
       "      <td>167996.50</td>\n",
       "      <td>52.00</td>\n",
       "      <td>5.00</td>\n",
       "      <td>8.63</td>\n",
       "      <td>79.47</td>\n",
       "      <td>12.35</td>\n",
       "      <td>6.50</td>\n",
       "      <td>18.09</td>\n",
       "      <td>81.57</td>\n",
       "      <td>22.33</td>\n",
       "      <td>87.22</td>\n",
       "    </tr>\n",
       "    <tr>\n",
       "      <th>min</th>\n",
       "      <td>166377.00</td>\n",
       "      <td>1.00</td>\n",
       "      <td>1.00</td>\n",
       "      <td>0.03</td>\n",
       "      <td>0.00</td>\n",
       "      <td>0.00</td>\n",
       "      <td>0.00</td>\n",
       "      <td>0.80</td>\n",
       "      <td>0.00</td>\n",
       "      <td>0.00</td>\n",
       "      <td>0.00</td>\n",
       "    </tr>\n",
       "    <tr>\n",
       "      <th>max</th>\n",
       "      <td>168606.00</td>\n",
       "      <td>111.00</td>\n",
       "      <td>51.00</td>\n",
       "      <td>1004.26</td>\n",
       "      <td>100.00</td>\n",
       "      <td>1285.30</td>\n",
       "      <td>1169.93</td>\n",
       "      <td>41.95</td>\n",
       "      <td>303.62</td>\n",
       "      <td>77.00</td>\n",
       "      <td>698.00</td>\n",
       "    </tr>\n",
       "  </tbody>\n",
       "</table>\n",
       "</div>"
      ],
      "text/plain": [
       "       user_id  work_days  op_count  calls_in_pd  miss_in_pct  calls_made_pd  \\\n",
       "mean 167456.82      33.85      4.55        15.95        56.32          24.16   \n",
       "50%  167455.00      28.00      3.00         3.15        53.85           1.46   \n",
       "75%  167996.50      52.00      5.00         8.63        79.47          12.35   \n",
       "min  166377.00       1.00      1.00         0.03         0.00           0.00   \n",
       "max  168606.00     111.00     51.00      1004.26       100.00        1285.30   \n",
       "\n",
       "      calls_miss_pd  rc_wait_time  avr_call_in  mc_wait_time  avr_call_out  \n",
       "mean          21.22         14.49        56.94         15.27         70.70  \n",
       "50%            1.07         13.50        48.62         13.83         62.46  \n",
       "75%            6.50         18.09        81.57         22.33         87.22  \n",
       "min            0.00          0.80         0.00          0.00          0.00  \n",
       "max         1169.93         41.95       303.62         77.00        698.00  "
      ]
     },
     "execution_count": 61,
     "metadata": {},
     "output_type": "execute_result"
    }
   ],
   "source": [
    "user_df.describe().loc[['mean','50%','75%','min','max']]"
   ]
  },
  {
   "cell_type": "markdown",
   "metadata": {},
   "source": [
    "Работают колл-центры больше, чем отдельные операторы, что логично - 28 медианных рабочих дней в 2.5 раза больше чем у операторов;  \n",
    "75% колл-центров имеют всего от 1 до 5-ти операторов, не очень много, самый многочисленный - 51 оператор;  \n",
    "Среднее время исходящего звонка на 20% больше среднего времени входящего звонка;  \n",
    "Процент пропущенных звонков сильно отличается от процента пропущенных звонков операторами, посмотрим на это подробнее"
   ]
  },
  {
   "cell_type": "code",
   "execution_count": 62,
   "metadata": {},
   "outputs": [
    {
     "data": {
      "image/png": "[encoded data removed]",
      "text/plain": [
       "<Figure size 1080x360 with 1 Axes>"
      ]
     },
     "metadata": {
      "needs_background": "light"
     },
     "output_type": "display_data"
    }
   ],
   "source": [
    "plt.figure(figsize=(15, 5))\n",
    "plt.hist(user_df.miss_in_pct, density=False, bins=50)\n",
    "plt.title(\"Гистограмма пропущенных входящих вызовов - доля от общего количества\", fontsize = 14)\n",
    "plt.ylabel('Число колл-центров')\n",
    "plt.xlabel('Процент пропущнных входящих вызовов');"
   ]
  },
  {
   "cell_type": "markdown",
   "metadata": {},
   "source": [
    "В наших данных было 15% записей с пропущенным идентификаторм оператора, удалять мы их не стали, и по ним стало видно, проблемы пропущенных звонков в разрезе операторов нет, а вот в разрезе колл-центров она существенна - средний процент пропущенных звонков - 56%;\n",
    "Только 4 КЦ среди тех кому звонили, не имеют пропущенных вызовов, а 100% пропущенных у 40 колл-цетров"
   ]
  },
  {
   "cell_type": "markdown",
   "metadata": {},
   "source": [
    "Из данных виднно, часть КЦ работает только на обзвон, а часть на прием звонков, большинство и принимает звонки и обзванивает;\n",
    "Для оценки эффективности операторов нам необходимо знать, какая работа его основная - прием или обзвон, для этого категоризируем колл-центры"
   ]
  },
  {
   "cell_type": "markdown",
   "metadata": {},
   "source": [
    "#### Категоризация колл-центров"
   ]
  },
  {
   "cell_type": "markdown",
   "metadata": {},
   "source": [
    "Если соотношение входящих и исходщих звонков больше чем 80%, то колл-центр \"принимающий\" или \"обзванивающий\", во всех остальных случаях присваиваем категорию \"универсальный\""
   ]
  },
  {
   "cell_type": "code",
   "execution_count": 63,
   "metadata": {},
   "outputs": [],
   "source": [
    "user_df.loc[(user_df.calls_in_pd/(user_df.calls_made_pd+user_df.calls_miss_pd))<1/4, 'category'] = \"обзванивающий\"\n",
    "user_df.loc[(user_df.calls_in_pd/(user_df.calls_made_pd+user_df.calls_miss_pd))>4, 'category'] = \"принимающий\"\n",
    "user_df.loc[user_df.category.isna()==True, 'category'] = \"универсальный\""
   ]
  },
  {
   "cell_type": "code",
   "execution_count": 64,
   "metadata": {},
   "outputs": [
    {
     "data": {
      "text/html": [
       "<style type=\"text/css\">\n",
       "</style>\n",
       "<table id=\"T_5f75f_\">\n",
       "  <thead>\n",
       "    <tr>\n",
       "      <th class=\"blank level0\" >&nbsp;</th>\n",
       "      <th class=\"col_heading level0 col0\" >call_center_num</th>\n",
       "      <th class=\"col_heading level0 col1\" >cc_cut</th>\n",
       "      <th class=\"col_heading level0 col2\" >op_cut</th>\n",
       "    </tr>\n",
       "    <tr>\n",
       "      <th class=\"index_name level0\" >category</th>\n",
       "      <th class=\"blank col0\" >&nbsp;</th>\n",
       "      <th class=\"blank col1\" >&nbsp;</th>\n",
       "      <th class=\"blank col2\" >&nbsp;</th>\n",
       "    </tr>\n",
       "  </thead>\n",
       "  <tbody>\n",
       "    <tr>\n",
       "      <th id=\"T_5f75f_level0_row0\" class=\"row_heading level0 row0\" >принимающий</th>\n",
       "      <td id=\"T_5f75f_row0_col0\" class=\"data row0 col0\" >125</td>\n",
       "      <td id=\"T_5f75f_row0_col1\" class=\"data row0 col1\" >40.7%</td>\n",
       "      <td id=\"T_5f75f_row0_col2\" class=\"data row0 col2\" >23.3%</td>\n",
       "    </tr>\n",
       "    <tr>\n",
       "      <th id=\"T_5f75f_level0_row1\" class=\"row_heading level0 row1\" >универсальный</th>\n",
       "      <td id=\"T_5f75f_row1_col0\" class=\"data row1 col0\" >115</td>\n",
       "      <td id=\"T_5f75f_row1_col1\" class=\"data row1 col1\" >37.5%</td>\n",
       "      <td id=\"T_5f75f_row1_col2\" class=\"data row1 col2\" >45.1%</td>\n",
       "    </tr>\n",
       "    <tr>\n",
       "      <th id=\"T_5f75f_level0_row2\" class=\"row_heading level0 row2\" >обзванивающий</th>\n",
       "      <td id=\"T_5f75f_row2_col0\" class=\"data row2 col0\" >67</td>\n",
       "      <td id=\"T_5f75f_row2_col1\" class=\"data row2 col1\" >21.8%</td>\n",
       "      <td id=\"T_5f75f_row2_col2\" class=\"data row2 col2\" >31.6%</td>\n",
       "    </tr>\n",
       "  </tbody>\n",
       "</table>\n"
      ],
      "text/plain": [
       "<pandas.io.formats.style.Styler at 0xdf8fff3400>"
      ]
     },
     "execution_count": 64,
     "metadata": {},
     "output_type": "execute_result"
    }
   ],
   "source": [
    "cat_df = (user_df.groupby('category')\n",
    "                      .agg({'user_id':'count', 'op_count':'sum'})\n",
    "                      .rename(columns={'user_id': 'call_center_num'})\n",
    "              )\n",
    "cat_df['op_cut'] = cat_df.op_count / user_df.op_count.sum()\n",
    "cat_df['op_count'] = cat_df.call_center_num / df.user_id.nunique()\n",
    "cat_df = cat_df.rename(columns={'op_count': 'cc_cut'})\n",
    "cat_df.sort_values(by='call_center_num', ascending=False).style.format({'cc_cut': '{:.1%}','op_cut':'{:.1%}'})"
   ]
  },
  {
   "cell_type": "code",
   "execution_count": 65,
   "metadata": {},
   "outputs": [
    {
     "data": {
      "image/png": "[encoded data removed]",
      "text/plain": [
       "<Figure size 504x504 with 1 Axes>"
      ]
     },
     "metadata": {},
     "output_type": "display_data"
    }
   ],
   "source": [
    "cat_df.plot(y='call_center_num', x='category', kind='pie', figsize=(7, 7), title='Доли категорий колл-центров', autopct='%1.1f%%', legend=False)\n",
    "plt.ylabel('')\n",
    "plt.show()"
   ]
  },
  {
   "cell_type": "markdown",
   "metadata": {},
   "source": [
    "Обзванивающих КЦ меньше принимающих почти в 2 раза, универсальных чуть больше трети;  \n",
    "Доля операторов в обзванивающих КЦ (31.6%) при этом больше, чем в принимающих (23.3%), неудивительна проблема с пропущенных звонков у принимающих колл-центров"
   ]
  },
  {
   "cell_type": "markdown",
   "metadata": {},
   "source": [
    "#### Вывод"
   ]
  },
  {
   "cell_type": "markdown",
   "metadata": {},
   "source": [
    "* Датасет содержит данные за 119 дней со 2-го августа 2019 по 28 ноября 2019 года;\n",
    "* Судя по всему \"полнота\" данных увеличивается на всем периоде исследования, об этом говорят увеличивающееся количество звонков и число операторов;\n",
    "* В выходные и праздничные дни большинство колл-центров не работает, что вполне логично;\n",
    "* Число операторов 1092;\n",
    "* У операторов КЦ в датасете очень мало рабочих дней - 75% опов работало 26 дней и меньше;\n",
    "* В исследовании 307 КЦ;\n",
    "* В 75% процентах из них работает 5-ть операторов и меньше, в самом большом полсотни;\n",
    "* Средний процент пропущенных звонков у колл-центров 56%, только 4 КЦ не имеют пропущенных вызовов;\n",
    "* Сделали категоризацию - если соотношение входящих и исходящих вызовов больше чем 80% на 20%, то КЦ \"принимающий\" или \"обзванивающий\" соответственно, все остальные КЦ - \"универсальные\";\n",
    "* Большинство КЦ - принимающие (41%), обзванивающих только (22%), при этом доли операторов другие, больше всего у универсальных (45%), меньше всего у принимающих (23%);"
   ]
  },
  {
   "cell_type": "markdown",
   "metadata": {},
   "source": [
    "### Определение эффективности операторов"
   ]
  },
  {
   "cell_type": "markdown",
   "metadata": {},
   "source": [
    "#### Критерий эффективности оператора для 'обзванивающих' КЦ"
   ]
  },
  {
   "cell_type": "markdown",
   "metadata": {},
   "source": [
    "Продолжительность рабочего дня 8 часов; на подготовку к звонку, формализацию результатов звонка(предполагаю, что по каждому звонку нужно делать некий отчет) и \"перекур\" будет потрачено 3/4-ти рабочего времени, отсюда 2 часа оператор \"должен\" звонить, если среднее значение total_call_duration за общее количество рабочих дней данного оператора меньше 7200 секунд, то оператор \"мало звонит\""
   ]
  },
  {
   "cell_type": "code",
   "execution_count": 66,
   "metadata": {},
   "outputs": [],
   "source": [
    "# создаем список из идентификаторов \"обзванивающих КЦ\" \n",
    "list_cc = list(user_df['user_id'])"
   ]
  },
  {
   "cell_type": "code",
   "execution_count": 67,
   "metadata": {},
   "outputs": [
    {
     "data": {
      "text/html": [
       "<div>\n",
       "<style scoped>\n",
       "    .dataframe tbody tr th:only-of-type {\n",
       "        vertical-align: middle;\n",
       "    }\n",
       "\n",
       "    .dataframe tbody tr th {\n",
       "        vertical-align: top;\n",
       "    }\n",
       "\n",
       "    .dataframe thead th {\n",
       "        text-align: right;\n",
       "    }\n",
       "</style>\n",
       "<table border=\"1\" class=\"dataframe\">\n",
       "  <thead>\n",
       "    <tr style=\"text-align: right;\">\n",
       "      <th></th>\n",
       "      <th>operator_id</th>\n",
       "      <th>work_days</th>\n",
       "      <th>average_time_calling</th>\n",
       "    </tr>\n",
       "  </thead>\n",
       "  <tbody>\n",
       "    <tr>\n",
       "      <th>268</th>\n",
       "      <td>906070</td>\n",
       "      <td>18</td>\n",
       "      <td>7168.17</td>\n",
       "    </tr>\n",
       "    <tr>\n",
       "      <th>1033</th>\n",
       "      <td>961064</td>\n",
       "      <td>8</td>\n",
       "      <td>7089.25</td>\n",
       "    </tr>\n",
       "    <tr>\n",
       "      <th>501</th>\n",
       "      <td>921592</td>\n",
       "      <td>12</td>\n",
       "      <td>7066.50</td>\n",
       "    </tr>\n",
       "    <tr>\n",
       "      <th>784</th>\n",
       "      <td>940622</td>\n",
       "      <td>17</td>\n",
       "      <td>7064.53</td>\n",
       "    </tr>\n",
       "    <tr>\n",
       "      <th>505</th>\n",
       "      <td>921818</td>\n",
       "      <td>60</td>\n",
       "      <td>7029.62</td>\n",
       "    </tr>\n",
       "    <tr>\n",
       "      <th>...</th>\n",
       "      <td>...</td>\n",
       "      <td>...</td>\n",
       "      <td>...</td>\n",
       "    </tr>\n",
       "    <tr>\n",
       "      <th>982</th>\n",
       "      <td>955068</td>\n",
       "      <td>1</td>\n",
       "      <td>0.00</td>\n",
       "    </tr>\n",
       "    <tr>\n",
       "      <th>1011</th>\n",
       "      <td>958458</td>\n",
       "      <td>1</td>\n",
       "      <td>0.00</td>\n",
       "    </tr>\n",
       "    <tr>\n",
       "      <th>386</th>\n",
       "      <td>914626</td>\n",
       "      <td>1</td>\n",
       "      <td>0.00</td>\n",
       "    </tr>\n",
       "    <tr>\n",
       "      <th>1030</th>\n",
       "      <td>960674</td>\n",
       "      <td>1</td>\n",
       "      <td>0.00</td>\n",
       "    </tr>\n",
       "    <tr>\n",
       "      <th>874</th>\n",
       "      <td>946454</td>\n",
       "      <td>2</td>\n",
       "      <td>0.00</td>\n",
       "    </tr>\n",
       "  </tbody>\n",
       "</table>\n",
       "<p>1009 rows × 3 columns</p>\n",
       "</div>"
      ],
      "text/plain": [
       "      operator_id  work_days  average_time_calling\n",
       "268        906070         18               7168.17\n",
       "1033       961064          8               7089.25\n",
       "501        921592         12               7066.50\n",
       "784        940622         17               7064.53\n",
       "505        921818         60               7029.62\n",
       "...           ...        ...                   ...\n",
       "982        955068          1                  0.00\n",
       "1011       958458          1                  0.00\n",
       "386        914626          1                  0.00\n",
       "1030       960674          1                  0.00\n",
       "874        946454          2                  0.00\n",
       "\n",
       "[1009 rows x 3 columns]"
      ]
     },
     "execution_count": 67,
     "metadata": {},
     "output_type": "execute_result"
    }
   ],
   "source": [
    "# группируем по номеру оператора и суммируем все время что оператор \"на телефоне\"\n",
    "df_effective_out = (df.query('user_id in @list_cc & operator_id != 333')\n",
    "                       .groupby('operator_id')\n",
    "                       .agg({'date':'nunique', 'c_in_tcd':'sum','cm_in_tcd':'sum','c_out_tcd':'sum','cm_out_tcd':'sum'})\n",
    "                       .reset_index()\n",
    "                       .rename(columns={'date': 'work_days'})\n",
    ")\n",
    "# находим среднее время за день, которое оператор тратит на звонки\n",
    "df_effective_out['average_time_calling'] = (df_effective_out.c_in_tcd + df_effective_out.c_in_tcd + df_effective_out.c_out_tcd + df_effective_out.cm_out_tcd)/df_effective_out.work_days\n",
    "# убираем ненужные столбцы\n",
    "df_effective_out = df_effective_out.drop(['c_in_tcd','cm_in_tcd','c_out_tcd','cm_out_tcd'], axis=1)\n",
    "# фильтруем по среднему времени меньшее 7200\n",
    "list_none_effective_out = df_effective_out.query('average_time_calling<7200')\n",
    "list_none_effective_out.sort_values(by='average_time_calling', ascending=False) #.style.format({'average_time_calling': '{:.0f}'})"
   ]
  },
  {
   "cell_type": "code",
   "execution_count": 68,
   "metadata": {},
   "outputs": [
    {
     "name": "stdout",
     "output_type": "stream",
     "text": [
      "Количество неэффективный операторов работающих в КЦ категории \"обзванивающий\": 1009\n",
      "Общее количество операторов в КЦ категории \"обзванивающий\": 1092\n"
     ]
    }
   ],
   "source": [
    "print('Количество неэффективный операторов работающих в КЦ категории \"обзванивающий\":', list_none_effective_out.operator_id.nunique())\n",
    "print('Общее количество операторов в КЦ категории \"обзванивающий\":', df_effective_out.operator_id.nunique())"
   ]
  },
  {
   "cell_type": "markdown",
   "metadata": {},
   "source": [
    "97% операторов колл-центров из категории \"обзванивающий\" работают \"на телефоне\" меньше 2-х часов в день, даже учитывая входящие звонки и внутренние разговоры;  \n",
    "Либо наши критерии категоризации не смогли выделить настоящие обзванивающие КЦ, либо их тут нет; не исключена ситуация что мы работаем с неполными данными"
   ]
  },
  {
   "cell_type": "markdown",
   "metadata": {},
   "source": [
    "#### Критерий эффективности для операторов на входящих звонках - ожидание ответа"
   ]
  },
  {
   "cell_type": "markdown",
   "metadata": {},
   "source": [
    "Вычисляем среднее время ожидание ответа у входящих пропущенных звонков - это и будет ориентир для порога эффективности"
   ]
  },
  {
   "cell_type": "code",
   "execution_count": 69,
   "metadata": {},
   "outputs": [
    {
     "name": "stdout",
     "output_type": "stream",
     "text": [
      "Среднее время ожидание ответа у пропущенных входящих звонков: 12.2 секунды\n"
     ]
    }
   ],
   "source": [
    "df_effective_answer = df.cm_in_tcd.sum()/df.cm_in.sum()\n",
    "print('Среднее время ожидание ответа у пропущенных входящих звонков: {0:.1f} секунды'.format(df_effective_answer))"
   ]
  },
  {
   "cell_type": "markdown",
   "metadata": {},
   "source": [
    "Время ответа для входящих звонков у эффективных операторов не больше 10 секунд"
   ]
  },
  {
   "cell_type": "code",
   "execution_count": 70,
   "metadata": {},
   "outputs": [
    {
     "data": {
      "text/html": [
       "<div>\n",
       "<style scoped>\n",
       "    .dataframe tbody tr th:only-of-type {\n",
       "        vertical-align: middle;\n",
       "    }\n",
       "\n",
       "    .dataframe tbody tr th {\n",
       "        vertical-align: top;\n",
       "    }\n",
       "\n",
       "    .dataframe thead th {\n",
       "        text-align: right;\n",
       "    }\n",
       "</style>\n",
       "<table border=\"1\" class=\"dataframe\">\n",
       "  <thead>\n",
       "    <tr style=\"text-align: right;\">\n",
       "      <th></th>\n",
       "      <th>operator_id</th>\n",
       "      <th>mc_wait_time</th>\n",
       "    </tr>\n",
       "  </thead>\n",
       "  <tbody>\n",
       "    <tr>\n",
       "      <th>10</th>\n",
       "      <td>882680</td>\n",
       "      <td>31.00</td>\n",
       "    </tr>\n",
       "    <tr>\n",
       "      <th>11</th>\n",
       "      <td>882684</td>\n",
       "      <td>16.50</td>\n",
       "    </tr>\n",
       "    <tr>\n",
       "      <th>12</th>\n",
       "      <td>882686</td>\n",
       "      <td>15.75</td>\n",
       "    </tr>\n",
       "    <tr>\n",
       "      <th>14</th>\n",
       "      <td>882690</td>\n",
       "      <td>60.00</td>\n",
       "    </tr>\n",
       "    <tr>\n",
       "      <th>22</th>\n",
       "      <td>884408</td>\n",
       "      <td>14.00</td>\n",
       "    </tr>\n",
       "    <tr>\n",
       "      <th>...</th>\n",
       "      <td>...</td>\n",
       "      <td>...</td>\n",
       "    </tr>\n",
       "    <tr>\n",
       "      <th>822</th>\n",
       "      <td>944222</td>\n",
       "      <td>38.07</td>\n",
       "    </tr>\n",
       "    <tr>\n",
       "      <th>823</th>\n",
       "      <td>944226</td>\n",
       "      <td>49.54</td>\n",
       "    </tr>\n",
       "    <tr>\n",
       "      <th>838</th>\n",
       "      <td>945046</td>\n",
       "      <td>21.50</td>\n",
       "    </tr>\n",
       "    <tr>\n",
       "      <th>917</th>\n",
       "      <td>948758</td>\n",
       "      <td>41.00</td>\n",
       "    </tr>\n",
       "    <tr>\n",
       "      <th>1025</th>\n",
       "      <td>960620</td>\n",
       "      <td>14.00</td>\n",
       "    </tr>\n",
       "  </tbody>\n",
       "</table>\n",
       "<p>115 rows × 2 columns</p>\n",
       "</div>"
      ],
      "text/plain": [
       "      operator_id  mc_wait_time\n",
       "10         882680         31.00\n",
       "11         882684         16.50\n",
       "12         882686         15.75\n",
       "14         882690         60.00\n",
       "22         884408         14.00\n",
       "...           ...           ...\n",
       "822        944222         38.07\n",
       "823        944226         49.54\n",
       "838        945046         21.50\n",
       "917        948758         41.00\n",
       "1025       960620         14.00\n",
       "\n",
       "[115 rows x 2 columns]"
      ]
     },
     "execution_count": 70,
     "metadata": {},
     "output_type": "execute_result"
    }
   ],
   "source": [
    "list_none_effective_answer10 = operator_df.query('mc_wait_time > 10')[['operator_id','mc_wait_time']]\n",
    "list_none_effective_answer10"
   ]
  },
  {
   "cell_type": "code",
   "execution_count": 71,
   "metadata": {},
   "outputs": [
    {
     "name": "stdout",
     "output_type": "stream",
     "text": [
      "Количество неэффективный операторов по времени ответа: 115\n",
      "Общее количество операторов в КЦ категории \"обзванивающий\": 1092\n",
      "Доля неэффективных от общего числа 10.5%\n"
     ]
    }
   ],
   "source": [
    "print('Количество неэффективный операторов по времени ответа:', list_none_effective_answer10.operator_id.nunique())\n",
    "print('Общее количество операторов в КЦ категории \"обзванивающий\":', df.operator_id.nunique()-1)\n",
    "print('Доля неэффективных от общего числа {0:.1%}'.format(list_none_effective_answer10.operator_id.nunique()/(df.operator_id.nunique()-1)))"
   ]
  },
  {
   "cell_type": "markdown",
   "metadata": {},
   "source": [
    "Найдем в каких колл-центрах работают неэффективные операторы и посчитаем их долю от всех операторов работающих в этом КЦ"
   ]
  },
  {
   "cell_type": "code",
   "execution_count": 72,
   "metadata": {},
   "outputs": [],
   "source": [
    "# создаем лист из id неэффективных операторов (критерий эффективности - ответ на звонок 10 сек или быстрее)\n",
    "id_op_list = list(list_none_effective_answer10.operator_id)\n",
    "# таблица с колл-центрами и числом неэффективных операторов в них\n",
    "list_cc = df.query('operator_id in @id_op_list').groupby('user_id').agg({'operator_id':'nunique'}).reset_index()\n",
    "# создаем лист из id колл-центров в которых работают неэффективные операторы\n",
    "id_cc_list = list(list_cc.user_id)\n",
    "# таблица с колл-центрами в которых работают неэффективные операторы и общее число операторов работающих в данном КЦ\n",
    "list_cc_full = df.query('user_id in @id_cc_list').groupby('user_id').agg({'operator_id':'nunique'}).reset_index()\n",
    "# соединяем 2 таблицы по номеру колл-центра и переименновываем столбцы\n",
    "cc_stats = list_cc_full.merge(list_cc, on='user_id', how='left')\n",
    "cc_stats = cc_stats.rename(columns={'operator_id_x':'total_operators', 'operator_id_y':'none_effective_num'})\n",
    "# считаем долю неэффективных операторов в каждом КЦ\n",
    "cc_stats['none_effective_cut'] = cc_stats.none_effective_num/cc_stats.total_operators"
   ]
  },
  {
   "cell_type": "code",
   "execution_count": 73,
   "metadata": {},
   "outputs": [
    {
     "data": {
      "text/html": [
       "<style type=\"text/css\">\n",
       "</style>\n",
       "<table id=\"T_4b323_\">\n",
       "  <thead>\n",
       "    <tr>\n",
       "      <th class=\"blank level0\" >&nbsp;</th>\n",
       "      <th class=\"col_heading level0 col0\" >user_id</th>\n",
       "      <th class=\"col_heading level0 col1\" >total_operators</th>\n",
       "      <th class=\"col_heading level0 col2\" >none_effective_num</th>\n",
       "      <th class=\"col_heading level0 col3\" >none_effective_cut</th>\n",
       "    </tr>\n",
       "  </thead>\n",
       "  <tbody>\n",
       "    <tr>\n",
       "      <th id=\"T_4b323_level0_row0\" class=\"row_heading level0 row0\" >63</th>\n",
       "      <td id=\"T_4b323_row0_col0\" class=\"data row0 col0\" >167977</td>\n",
       "      <td id=\"T_4b323_row0_col1\" class=\"data row0 col1\" >6</td>\n",
       "      <td id=\"T_4b323_row0_col2\" class=\"data row0 col2\" >5</td>\n",
       "      <td id=\"T_4b323_row0_col3\" class=\"data row0 col3\" >83.3%</td>\n",
       "    </tr>\n",
       "    <tr>\n",
       "      <th id=\"T_4b323_level0_row1\" class=\"row_heading level0 row1\" >32</th>\n",
       "      <td id=\"T_4b323_row1_col0\" class=\"data row1 col0\" >167071</td>\n",
       "      <td id=\"T_4b323_row1_col1\" class=\"data row1 col1\" >3</td>\n",
       "      <td id=\"T_4b323_row1_col2\" class=\"data row1 col2\" >2</td>\n",
       "      <td id=\"T_4b323_row1_col3\" class=\"data row1 col3\" >66.7%</td>\n",
       "    </tr>\n",
       "    <tr>\n",
       "      <th id=\"T_4b323_level0_row2\" class=\"row_heading level0 row2\" >31</th>\n",
       "      <td id=\"T_4b323_row2_col0\" class=\"data row2 col0\" >167059</td>\n",
       "      <td id=\"T_4b323_row2_col1\" class=\"data row2 col1\" >8</td>\n",
       "      <td id=\"T_4b323_row2_col2\" class=\"data row2 col2\" >5</td>\n",
       "      <td id=\"T_4b323_row2_col3\" class=\"data row2 col3\" >62.5%</td>\n",
       "    </tr>\n",
       "    <tr>\n",
       "      <th id=\"T_4b323_level0_row3\" class=\"row_heading level0 row3\" >55</th>\n",
       "      <td id=\"T_4b323_row3_col0\" class=\"data row3 col0\" >167650</td>\n",
       "      <td id=\"T_4b323_row3_col1\" class=\"data row3 col1\" >5</td>\n",
       "      <td id=\"T_4b323_row3_col2\" class=\"data row3 col2\" >3</td>\n",
       "      <td id=\"T_4b323_row3_col3\" class=\"data row3 col3\" >60.0%</td>\n",
       "    </tr>\n",
       "    <tr>\n",
       "      <th id=\"T_4b323_level0_row4\" class=\"row_heading level0 row4\" >43</th>\n",
       "      <td id=\"T_4b323_row4_col0\" class=\"data row4 col0\" >167235</td>\n",
       "      <td id=\"T_4b323_row4_col1\" class=\"data row4 col1\" >2</td>\n",
       "      <td id=\"T_4b323_row4_col2\" class=\"data row4 col2\" >1</td>\n",
       "      <td id=\"T_4b323_row4_col3\" class=\"data row4 col3\" >50.0%</td>\n",
       "    </tr>\n",
       "    <tr>\n",
       "      <th id=\"T_4b323_level0_row5\" class=\"row_heading level0 row5\" >11</th>\n",
       "      <td id=\"T_4b323_row5_col0\" class=\"data row5 col0\" >166619</td>\n",
       "      <td id=\"T_4b323_row5_col1\" class=\"data row5 col1\" >2</td>\n",
       "      <td id=\"T_4b323_row5_col2\" class=\"data row5 col2\" >1</td>\n",
       "      <td id=\"T_4b323_row5_col3\" class=\"data row5 col3\" >50.0%</td>\n",
       "    </tr>\n",
       "    <tr>\n",
       "      <th id=\"T_4b323_level0_row6\" class=\"row_heading level0 row6\" >36</th>\n",
       "      <td id=\"T_4b323_row6_col0\" class=\"data row6 col0\" >167158</td>\n",
       "      <td id=\"T_4b323_row6_col1\" class=\"data row6 col1\" >2</td>\n",
       "      <td id=\"T_4b323_row6_col2\" class=\"data row6 col2\" >1</td>\n",
       "      <td id=\"T_4b323_row6_col3\" class=\"data row6 col3\" >50.0%</td>\n",
       "    </tr>\n",
       "  </tbody>\n",
       "</table>\n"
      ],
      "text/plain": [
       "<pandas.io.formats.style.Styler at 0xdf90031d60>"
      ]
     },
     "execution_count": 73,
     "metadata": {},
     "output_type": "execute_result"
    }
   ],
   "source": [
    "cc_stats.sort_values(by='none_effective_cut', ascending=False).head(7).style.format({'none_effective_cut': '{:.1%}'})"
   ]
  },
  {
   "cell_type": "code",
   "execution_count": 74,
   "metadata": {},
   "outputs": [
    {
     "data": {
      "text/html": [
       "<style type=\"text/css\">\n",
       "</style>\n",
       "<table id=\"T_589d1_\">\n",
       "  <thead>\n",
       "    <tr>\n",
       "      <th class=\"blank level0\" >&nbsp;</th>\n",
       "      <th class=\"col_heading level0 col0\" >user_id</th>\n",
       "      <th class=\"col_heading level0 col1\" >total_operators</th>\n",
       "      <th class=\"col_heading level0 col2\" >none_effective_num</th>\n",
       "      <th class=\"col_heading level0 col3\" >none_effective_cut</th>\n",
       "    </tr>\n",
       "  </thead>\n",
       "  <tbody>\n",
       "    <tr>\n",
       "      <th id=\"T_589d1_level0_row0\" class=\"row_heading level0 row0\" >71</th>\n",
       "      <td id=\"T_589d1_row0_col0\" class=\"data row0 col0\" >168187</td>\n",
       "      <td id=\"T_589d1_row0_col1\" class=\"data row0 col1\" >51</td>\n",
       "      <td id=\"T_589d1_row0_col2\" class=\"data row0 col2\" >10</td>\n",
       "      <td id=\"T_589d1_row0_col3\" class=\"data row0 col3\" >19.6%</td>\n",
       "    </tr>\n",
       "    <tr>\n",
       "      <th id=\"T_589d1_level0_row1\" class=\"row_heading level0 row1\" >0</th>\n",
       "      <td id=\"T_589d1_row1_col0\" class=\"data row1 col0\" >166405</td>\n",
       "      <td id=\"T_589d1_row1_col1\" class=\"data row1 col1\" >11</td>\n",
       "      <td id=\"T_589d1_row1_col2\" class=\"data row1 col2\" >5</td>\n",
       "      <td id=\"T_589d1_row1_col3\" class=\"data row1 col3\" >45.5%</td>\n",
       "    </tr>\n",
       "    <tr>\n",
       "      <th id=\"T_589d1_level0_row2\" class=\"row_heading level0 row2\" >31</th>\n",
       "      <td id=\"T_589d1_row2_col0\" class=\"data row2 col0\" >167059</td>\n",
       "      <td id=\"T_589d1_row2_col1\" class=\"data row2 col1\" >8</td>\n",
       "      <td id=\"T_589d1_row2_col2\" class=\"data row2 col2\" >5</td>\n",
       "      <td id=\"T_589d1_row2_col3\" class=\"data row2 col3\" >62.5%</td>\n",
       "    </tr>\n",
       "    <tr>\n",
       "      <th id=\"T_589d1_level0_row3\" class=\"row_heading level0 row3\" >63</th>\n",
       "      <td id=\"T_589d1_row3_col0\" class=\"data row3 col0\" >167977</td>\n",
       "      <td id=\"T_589d1_row3_col1\" class=\"data row3 col1\" >6</td>\n",
       "      <td id=\"T_589d1_row3_col2\" class=\"data row3 col2\" >5</td>\n",
       "      <td id=\"T_589d1_row3_col3\" class=\"data row3 col3\" >83.3%</td>\n",
       "    </tr>\n",
       "    <tr>\n",
       "      <th id=\"T_589d1_level0_row4\" class=\"row_heading level0 row4\" >23</th>\n",
       "      <td id=\"T_589d1_row4_col0\" class=\"data row4 col0\" >166916</td>\n",
       "      <td id=\"T_589d1_row4_col1\" class=\"data row4 col1\" >17</td>\n",
       "      <td id=\"T_589d1_row4_col2\" class=\"data row4 col2\" >4</td>\n",
       "      <td id=\"T_589d1_row4_col3\" class=\"data row4 col3\" >23.5%</td>\n",
       "    </tr>\n",
       "    <tr>\n",
       "      <th id=\"T_589d1_level0_row5\" class=\"row_heading level0 row5\" >47</th>\n",
       "      <td id=\"T_589d1_row5_col0\" class=\"data row5 col0\" >167445</td>\n",
       "      <td id=\"T_589d1_row5_col1\" class=\"data row5 col1\" >12</td>\n",
       "      <td id=\"T_589d1_row5_col2\" class=\"data row5 col2\" >3</td>\n",
       "      <td id=\"T_589d1_row5_col3\" class=\"data row5 col3\" >25.0%</td>\n",
       "    </tr>\n",
       "    <tr>\n",
       "      <th id=\"T_589d1_level0_row6\" class=\"row_heading level0 row6\" >55</th>\n",
       "      <td id=\"T_589d1_row6_col0\" class=\"data row6 col0\" >167650</td>\n",
       "      <td id=\"T_589d1_row6_col1\" class=\"data row6 col1\" >5</td>\n",
       "      <td id=\"T_589d1_row6_col2\" class=\"data row6 col2\" >3</td>\n",
       "      <td id=\"T_589d1_row6_col3\" class=\"data row6 col3\" >60.0%</td>\n",
       "    </tr>\n",
       "  </tbody>\n",
       "</table>\n"
      ],
      "text/plain": [
       "<pandas.io.formats.style.Styler at 0xdf900e4250>"
      ]
     },
     "execution_count": 74,
     "metadata": {},
     "output_type": "execute_result"
    }
   ],
   "source": [
    "cc_stats.sort_values(by='none_effective_num', ascending=False).head(7).style.format({'none_effective_cut': '{:.1%}'})"
   ]
  },
  {
   "cell_type": "markdown",
   "metadata": {},
   "source": [
    "Мы можем предложить наши услуги по оценке эффективности КЦ - 167977, 167071, 167059, 167650 - у этих колл-центров доля неэффективных операторов больше 50%;  \n",
    "Также наш фильтр может заинтересовать КЦ - 168187, 166405, 166916 - у них число неэффективных операторов больше 3-х"
   ]
  },
  {
   "cell_type": "markdown",
   "metadata": {},
   "source": [
    "Проверим пороги эффективности в 11, 12 и 5 секунд"
   ]
  },
  {
   "cell_type": "code",
   "execution_count": 75,
   "metadata": {},
   "outputs": [
    {
     "name": "stdout",
     "output_type": "stream",
     "text": [
      "Количество неэффективный операторов по времени ответа: 105\n",
      "Доля неэффективных от общего числа 9.6%\n"
     ]
    }
   ],
   "source": [
    "list_none_effective_answer11 = operator_df.query('mc_wait_time > 11')[['operator_id','mc_wait_time']]\n",
    "print('Количество неэффективный операторов по времени ответа:', list_none_effective_answer11.operator_id.nunique())\n",
    "print('Доля неэффективных от общего числа {0:.1%}'.format(list_none_effective_answer11.operator_id.nunique()/(df.operator_id.nunique()-1)))"
   ]
  },
  {
   "cell_type": "code",
   "execution_count": 76,
   "metadata": {},
   "outputs": [
    {
     "name": "stdout",
     "output_type": "stream",
     "text": [
      "Количество неэффективный операторов по времени ответа: 98\n",
      "Доля неэффективных от общего числа 9.0%\n"
     ]
    }
   ],
   "source": [
    "list_none_effective_answer12 = operator_df.query('mc_wait_time > 12')[['operator_id','mc_wait_time']]\n",
    "print('Количество неэффективный операторов по времени ответа:', list_none_effective_answer12.operator_id.nunique())\n",
    "print('Доля неэффективных от общего числа {0:.1%}'.format(list_none_effective_answer12.operator_id.nunique()/(df.operator_id.nunique()-1)))"
   ]
  },
  {
   "cell_type": "code",
   "execution_count": 77,
   "metadata": {},
   "outputs": [
    {
     "name": "stdout",
     "output_type": "stream",
     "text": [
      "Количество неэффективный операторов по времени ответа: 146\n",
      "Доля неэффективных от общего числа 13.4%\n"
     ]
    }
   ],
   "source": [
    "list_none_effective_answer5 = operator_df.query('mc_wait_time > 5')[['operator_id','mc_wait_time']]\n",
    "print('Количество неэффективный операторов по времени ответа:', list_none_effective_answer5.operator_id.nunique())\n",
    "print('Доля неэффективных от общего числа {0:.1%}'.format(list_none_effective_answer5.operator_id.nunique()/(df.operator_id.nunique()-1)))"
   ]
  },
  {
   "cell_type": "markdown",
   "metadata": {},
   "source": [
    "Даже при пороге в 10 секунд доля неэффективных операторов по времени ответа не велика - 10.5%, при поднятие порога до 12 секунд - доля неэффективных падает до 9%, при \"жестком\" пороге в 5 секунд - доля неэффективных увеличивается не значительно до 13.4%"
   ]
  },
  {
   "cell_type": "markdown",
   "metadata": {},
   "source": [
    "#### Критерий эффективности для операторов на входящих звонках - доля пропущенных"
   ]
  },
  {
   "cell_type": "markdown",
   "metadata": {},
   "source": [
    "Колл-центру необходимо уменьшить долю пропусков входящих звонков до числа n (в процентах), и сделать это необходимо за счет тех операторов, что уже есть, они должны повысить эффективность - уменьшить долю пропущенных звонков"
   ]
  },
  {
   "cell_type": "code",
   "execution_count": 78,
   "metadata": {},
   "outputs": [
    {
     "data": {
      "text/html": [
       "<div>\n",
       "<style scoped>\n",
       "    .dataframe tbody tr th:only-of-type {\n",
       "        vertical-align: middle;\n",
       "    }\n",
       "\n",
       "    .dataframe tbody tr th {\n",
       "        vertical-align: top;\n",
       "    }\n",
       "\n",
       "    .dataframe thead th {\n",
       "        text-align: right;\n",
       "    }\n",
       "</style>\n",
       "<table border=\"1\" class=\"dataframe\">\n",
       "  <thead>\n",
       "    <tr style=\"text-align: right;\">\n",
       "      <th></th>\n",
       "      <th>user_id</th>\n",
       "      <th>c_in</th>\n",
       "      <th>cm_in</th>\n",
       "      <th>cm_333</th>\n",
       "      <th>cm_none_333</th>\n",
       "      <th>c_in_must_be</th>\n",
       "      <th>c_in_possible</th>\n",
       "      <th>koef</th>\n",
       "    </tr>\n",
       "  </thead>\n",
       "  <tbody>\n",
       "    <tr>\n",
       "      <th>186</th>\n",
       "      <td>167682</td>\n",
       "      <td>2.00</td>\n",
       "      <td>0.00</td>\n",
       "      <td>0.00</td>\n",
       "      <td>0.00</td>\n",
       "      <td>0.00</td>\n",
       "      <td>2.00</td>\n",
       "      <td>1.00</td>\n",
       "    </tr>\n",
       "    <tr>\n",
       "      <th>272</th>\n",
       "      <td>168253</td>\n",
       "      <td>3536.00</td>\n",
       "      <td>39.00</td>\n",
       "      <td>31.00</td>\n",
       "      <td>8.00</td>\n",
       "      <td>620.00</td>\n",
       "      <td>3544.00</td>\n",
       "      <td>1.00</td>\n",
       "    </tr>\n",
       "    <tr>\n",
       "      <th>280</th>\n",
       "      <td>168315</td>\n",
       "      <td>409.00</td>\n",
       "      <td>7.00</td>\n",
       "      <td>7.00</td>\n",
       "      <td>0.00</td>\n",
       "      <td>140.00</td>\n",
       "      <td>409.00</td>\n",
       "      <td>1.00</td>\n",
       "    </tr>\n",
       "    <tr>\n",
       "      <th>290</th>\n",
       "      <td>168459</td>\n",
       "      <td>5.00</td>\n",
       "      <td>0.00</td>\n",
       "      <td>0.00</td>\n",
       "      <td>0.00</td>\n",
       "      <td>0.00</td>\n",
       "      <td>5.00</td>\n",
       "      <td>1.00</td>\n",
       "    </tr>\n",
       "  </tbody>\n",
       "</table>\n",
       "</div>"
      ],
      "text/plain": [
       "     user_id    c_in  cm_in  cm_333  cm_none_333  c_in_must_be  c_in_possible  \\\n",
       "186   167682    2.00   0.00    0.00         0.00          0.00           2.00   \n",
       "272   168253 3536.00  39.00   31.00         8.00        620.00        3544.00   \n",
       "280   168315  409.00   7.00    7.00         0.00        140.00         409.00   \n",
       "290   168459    5.00   0.00    0.00         0.00          0.00           5.00   \n",
       "\n",
       "     koef  \n",
       "186  1.00  \n",
       "272  1.00  \n",
       "280  1.00  \n",
       "290  1.00  "
      ]
     },
     "execution_count": 78,
     "metadata": {},
     "output_type": "execute_result"
    }
   ],
   "source": [
    "# задаем требуемый % пропущенных\n",
    "n=5\n",
    "\n",
    "# собираем таблицу по номеру КЦ, cm_333 - число пропущенных вызовов, которым не был назначен оператор\n",
    "user_eff = (df.groupby('user_id')\n",
    "                 .agg({'c_in':'sum','cm_in':'sum', 'cm_333':'sum'})\n",
    "                 .reset_index()\n",
    "           )\n",
    "# вычисляем число пропущенных звонков операторами - только это число мы можем уменьшить\n",
    "user_eff['cm_none_333'] = user_eff.cm_in - user_eff.cm_333\n",
    "\n",
    "# вычисляем какое число принятых звонков должно быть, чтобы удовлетворяло нашему порогу,\n",
    "# при том что число пропущенных звонков без назначенного оператора остается неизменным\n",
    "user_eff['c_in_must_be'] = user_eff.cm_333*(100/n)\n",
    "\n",
    "# вычисляем максимально возможное число принятых вызовов - все операторы 0% пропущенных\n",
    "user_eff['c_in_possible'] = user_eff.c_in + user_eff.cm_none_333\n",
    "\n",
    "# считаем коэффициент на который операторы должны будут уменьшить число пропущеных вызовов\n",
    "user_eff['koef'] = (user_eff.c_in_possible - user_eff.c_in_must_be)/user_eff.c_in_must_be\n",
    "\n",
    "# присваиваем коэффициенту 0, если нет непринятых звонков у неназначенных операторов \n",
    "# или число звонков которое возможно сделать принятыми меньше необходимого - у нас не хватает \"запаса неэффективности\"\n",
    "user_eff.loc[(user_eff.cm_none_333==0) | (user_eff.c_in_possible < user_eff.c_in_must_be), 'koef'] = 0\n",
    "\n",
    "# присваиваем 1 если текущее число пропущенных вызовов больше или равно нужному нам пределу - улучшать ничего не надо\n",
    "user_eff.loc[(user_eff.c_in >= user_eff.c_in_must_be, 'koef')] = 1\n",
    "\n",
    "user_eff .query('koef >0')"
   ]
  },
  {
   "cell_type": "markdown",
   "metadata": {},
   "source": [
    "В нашем датасете нет колл-центров, которые способны улучшить статистику до требуемого уровня (5% - пропущенных), даже если все операторы будут принимать звонки со 100% эффективностью;  \n",
    "Зато есть 4 колл-центра с долей пропущенных меньше 5%"
   ]
  },
  {
   "cell_type": "markdown",
   "metadata": {},
   "source": [
    "#### Вывод"
   ]
  },
  {
   "cell_type": "markdown",
   "metadata": {},
   "source": [
    "* 'Время ответа оператора при входящем звонке' - единственный из критериев, который можно использовать как фильтр эффективности;\n",
    "  - Мы можем предложить наши услуги по оценке эффективности КЦ - 167977, 167071, 167059, 167650 - у этих колл-центров доля неэффективных операторов больше 50%;  \n",
    "  - Также наш фильтр может заинтересовать КЦ - 168187, 166405, 166916 - у них число неэффективных операторов больше 3-х\n",
    "* 'Критерий обзвона' - не прошел почти никто, а 'долю пропущенных входящих' - наоборот, прошли все;\n",
    "* Проблема не фильтрах а в полноте данных - у 75% операторов 26 или меньше дней статистики и как следствие мало данных для более качественного анализа;\n",
    "* Часть данных просто ошибочна или неправильно собрана - есть операторы у которых рабочее время за сутки больше чем 24 часа; \n",
    "* Данные мы получаем в агрегированом виде из-за чего вынуждены пользоваться средними значениями и общими суммами;"
   ]
  },
  {
   "cell_type": "markdown",
   "metadata": {},
   "source": [
    "### Проверка гипотез"
   ]
  },
  {
   "cell_type": "markdown",
   "metadata": {},
   "source": [
    "#### Число исходящих звонков  за день отличается от  числа входящих звонков за день"
   ]
  },
  {
   "cell_type": "markdown",
   "metadata": {},
   "source": [
    "H0 - количество звонков в день у операторов на исходящих и входящих вызовах равно  \n",
    "H1 - количество звонков в день у операторов на исходящих и входящих вызовах различается"
   ]
  },
  {
   "cell_type": "code",
   "execution_count": 79,
   "metadata": {},
   "outputs": [
    {
     "data": {
      "text/html": [
       "<style type=\"text/css\">\n",
       "</style>\n",
       "<table id=\"T_64e70_\">\n",
       "  <thead>\n",
       "    <tr>\n",
       "      <th class=\"blank level0\" >&nbsp;</th>\n",
       "      <th class=\"col_heading level0 col0\" >date</th>\n",
       "      <th class=\"col_heading level0 col1\" >calls_in</th>\n",
       "      <th class=\"col_heading level0 col2\" >calls_out</th>\n",
       "      <th class=\"col_heading level0 col3\" >pct_success_calls</th>\n",
       "      <th class=\"col_heading level0 col4\" >weekday</th>\n",
       "    </tr>\n",
       "  </thead>\n",
       "  <tbody>\n",
       "    <tr>\n",
       "      <th id=\"T_64e70_level0_row0\" class=\"row_heading level0 row0\" >0</th>\n",
       "      <td id=\"T_64e70_row0_col0\" class=\"data row0 col0\" >08-02</td>\n",
       "      <td id=\"T_64e70_row0_col1\" class=\"data row0 col1\" >2</td>\n",
       "      <td id=\"T_64e70_row0_col2\" class=\"data row0 col2\" >19</td>\n",
       "      <td id=\"T_64e70_row0_col3\" class=\"data row0 col3\" >28.6%</td>\n",
       "      <td id=\"T_64e70_row0_col4\" class=\"data row0 col4\" >Friday</td>\n",
       "    </tr>\n",
       "    <tr>\n",
       "      <th id=\"T_64e70_level0_row1\" class=\"row_heading level0 row1\" >1</th>\n",
       "      <td id=\"T_64e70_row1_col0\" class=\"data row1 col0\" >08-03</td>\n",
       "      <td id=\"T_64e70_row1_col1\" class=\"data row1 col1\" >3</td>\n",
       "      <td id=\"T_64e70_row1_col2\" class=\"data row1 col2\" >26</td>\n",
       "      <td id=\"T_64e70_row1_col3\" class=\"data row1 col3\" >65.5%</td>\n",
       "      <td id=\"T_64e70_row1_col4\" class=\"data row1 col4\" >Saturday</td>\n",
       "    </tr>\n",
       "    <tr>\n",
       "      <th id=\"T_64e70_level0_row2\" class=\"row_heading level0 row2\" >2</th>\n",
       "      <td id=\"T_64e70_row2_col0\" class=\"data row2 col0\" >08-04</td>\n",
       "      <td id=\"T_64e70_row2_col1\" class=\"data row2 col1\" >2</td>\n",
       "      <td id=\"T_64e70_row2_col2\" class=\"data row2 col2\" >4</td>\n",
       "      <td id=\"T_64e70_row2_col3\" class=\"data row2 col3\" >16.7%</td>\n",
       "      <td id=\"T_64e70_row2_col4\" class=\"data row2 col4\" >Sunday</td>\n",
       "    </tr>\n",
       "    <tr>\n",
       "      <th id=\"T_64e70_level0_row3\" class=\"row_heading level0 row3\" >3</th>\n",
       "      <td id=\"T_64e70_row3_col0\" class=\"data row3 col0\" >08-05</td>\n",
       "      <td id=\"T_64e70_row3_col1\" class=\"data row3 col1\" >12</td>\n",
       "      <td id=\"T_64e70_row3_col2\" class=\"data row3 col2\" >180</td>\n",
       "      <td id=\"T_64e70_row3_col3\" class=\"data row3 col3\" >70.8%</td>\n",
       "      <td id=\"T_64e70_row3_col4\" class=\"data row3 col4\" >Monday</td>\n",
       "    </tr>\n",
       "    <tr>\n",
       "      <th id=\"T_64e70_level0_row4\" class=\"row_heading level0 row4\" >4</th>\n",
       "      <td id=\"T_64e70_row4_col0\" class=\"data row4 col0\" >08-06</td>\n",
       "      <td id=\"T_64e70_row4_col1\" class=\"data row4 col1\" >52</td>\n",
       "      <td id=\"T_64e70_row4_col2\" class=\"data row4 col2\" >177</td>\n",
       "      <td id=\"T_64e70_row4_col3\" class=\"data row4 col3\" >59.0%</td>\n",
       "      <td id=\"T_64e70_row4_col4\" class=\"data row4 col4\" >Tuesday</td>\n",
       "    </tr>\n",
       "    <tr>\n",
       "      <th id=\"T_64e70_level0_row5\" class=\"row_heading level0 row5\" >5</th>\n",
       "      <td id=\"T_64e70_row5_col0\" class=\"data row5 col0\" >08-07</td>\n",
       "      <td id=\"T_64e70_row5_col1\" class=\"data row5 col1\" >12</td>\n",
       "      <td id=\"T_64e70_row5_col2\" class=\"data row5 col2\" >169</td>\n",
       "      <td id=\"T_64e70_row5_col3\" class=\"data row5 col3\" >80.1%</td>\n",
       "      <td id=\"T_64e70_row5_col4\" class=\"data row5 col4\" >Wednesday</td>\n",
       "    </tr>\n",
       "    <tr>\n",
       "      <th id=\"T_64e70_level0_row6\" class=\"row_heading level0 row6\" >6</th>\n",
       "      <td id=\"T_64e70_row6_col0\" class=\"data row6 col0\" >08-08</td>\n",
       "      <td id=\"T_64e70_row6_col1\" class=\"data row6 col1\" >13</td>\n",
       "      <td id=\"T_64e70_row6_col2\" class=\"data row6 col2\" >341</td>\n",
       "      <td id=\"T_64e70_row6_col3\" class=\"data row6 col3\" >68.6%</td>\n",
       "      <td id=\"T_64e70_row6_col4\" class=\"data row6 col4\" >Thursday</td>\n",
       "    </tr>\n",
       "  </tbody>\n",
       "</table>\n"
      ],
      "text/plain": [
       "<pandas.io.formats.style.Styler at 0xdf9001d790>"
      ]
     },
     "execution_count": 79,
     "metadata": {},
     "output_type": "execute_result"
    }
   ],
   "source": [
    "# группируем входящие и исходящие звонки по дате\n",
    "tt_test = (df.groupby('date')\n",
    "             .agg({'c_in':'sum','cm_in':'sum','c_out':'sum','cm_out':'sum'})\n",
    "             .reset_index()\n",
    ")\n",
    "# создаем столбец с числом входящих звонков за каждую дату\n",
    "tt_test['calls_in'] = tt_test.c_in + tt_test.cm_in\n",
    "# создаем столбец с числом исходящих звонков за каждую дату\n",
    "tt_test['calls_out'] = tt_test.c_out + tt_test.cm_out\n",
    "# создаем столбец с процентом успешных звонков за день (для проверки 2-ой гипотезы)\n",
    "tt_test['pct_success_calls'] = (tt_test.c_in + tt_test.c_out)/(tt_test.c_in + tt_test.cm_in + tt_test.c_out + tt_test.cm_out)\n",
    "# создаем столбец с днем недели (для проверки 2-ой гипотезы)\n",
    "tt_test['weekday'] = tt_test.date.dt.day_name()\n",
    "\n",
    "# подсчитываем общее число звонков и число состоявшихся звонков в будние дни (для проверки 2-ой гипотезы)\n",
    "workday = tt_test.query('weekday in [\"Monday\", \"Tuesday\", \"Wednesday\", \"Thursday\", \"Friday\"]')\n",
    "workday_all = workday.c_in.sum() + workday.cm_in.sum() + workday.c_out.sum() + workday.cm_out.sum()\n",
    "workday_success = workday.c_in.sum() + workday.c_out.sum()\n",
    "# подсчитываем общее число звонков и число состоявшихся звонков в будние дни (для проверки 2-ой гипотезы)\n",
    "weekend = tt_test.query('weekday in [\"Saturday\", \"Sunday\"]')\n",
    "weekend_all = weekend.c_in.sum() + weekend.cm_in.sum() + weekend.c_out.sum() + weekend.cm_out.sum()\n",
    "weekend_success = weekend.c_in.sum() + weekend.c_out.sum()\n",
    "\n",
    "# удаляем не нужные столбцы\n",
    "tt_test = tt_test.drop(['c_in','cm_in','c_out','cm_out'], axis=1)\n",
    "tt_test.head(7).style.format({'date': '{:%m-%d}','calls_in': '{:.0f}', 'calls_out': '{:.0f}','pct_success_calls':'{:.1%}'})"
   ]
  },
  {
   "cell_type": "code",
   "execution_count": 80,
   "metadata": {},
   "outputs": [
    {
     "name": "stdout",
     "output_type": "stream",
     "text": [
      "p-значение: 2.8065170003791554e-16\n",
      "Отвергаем нулевую гипотезу\n"
     ]
    }
   ],
   "source": [
    "# создаем две выборки с входящими и исходящими звонками\n",
    "in_test = tt_test.calls_in\n",
    "out_test = tt_test.calls_out\n",
    "# пороговое значение\n",
    "alpha = .05\n",
    "# для проверки гипотезы используем метод ttest_ind\n",
    "results = st.ttest_ind(in_test, out_test, equal_var=False)\n",
    "print('p-значение:', results.pvalue)\n",
    "if (results.pvalue < alpha):\n",
    "    print(\"Отвергаем нулевую гипотезу\")\n",
    "else:\n",
    "    print(\"Не получилось отвергнуть нулевую гипотезу\")"
   ]
  },
  {
   "cell_type": "markdown",
   "metadata": {},
   "source": [
    "Нулевая гипотеза отвергнута, количество звонков в день у операторов на исходящих и входящих звонках различаются, а значит приоритет оценки эффетивности должны получить те операторы колл-цетров, звонков которых больше, в нашем случае операторы колл-центров 'обзванивающие'"
   ]
  },
  {
   "cell_type": "markdown",
   "metadata": {},
   "source": [
    "#### Процент пропущенных вызовов в будние дни отличается от процента пропущенных вызовов в выходные"
   ]
  },
  {
   "cell_type": "markdown",
   "metadata": {},
   "source": [
    "`H0 - процент пропущенных вызовов в будни равен проценту пропущенных вызовов в выходные`    \n",
    "`H1 - процент пропущенных вызовов в будни отличается от процента пропущенных вызовов в выходные`  \n",
    "\n",
    "Для проверки гипотез о равенстве долей (отсутствие статистически значимой разницы) используем z-test"
   ]
  },
  {
   "cell_type": "code",
   "execution_count": 81,
   "metadata": {},
   "outputs": [
    {
     "name": "stdout",
     "output_type": "stream",
     "text": [
      "p-значение: 2.8065170003791554e-16\n",
      "Нулевая гипотеза отвергнута: разница между долями статистически значима\n",
      "\n"
     ]
    }
   ],
   "source": [
    "n1 = workday_all\n",
    "n2 = weekend_all\n",
    "\n",
    "p1 = workday_success / n1\n",
    "p2 = weekend_success / n2\n",
    "\n",
    "p = (workday_success + weekend_success) / (n1 + n2)\n",
    "\n",
    "z_value = (p1-p2)/mth.sqrt(p * (1-p) * (1/n1 + 1/n2))\n",
    "        \n",
    "distr = st.norm(0, 1) \n",
    "p_value = (1 - distr.cdf(abs(z_value))) * 2\n",
    "alpha = .05\n",
    "\n",
    "print('p-значение:', results.pvalue)\n",
    "\n",
    "if (p_value < alpha):\n",
    "    print(\"Нулевая гипотеза отвергнута: разница между долями статистически значима\\n\")\n",
    "else:\n",
    "    print(\"Нулевая гипотеза не отвергнута: между долями в группах нет статистически значимой разницы\\n\")"
   ]
  },
  {
   "cell_type": "markdown",
   "metadata": {},
   "source": [
    "Поскольку доли пропущенных вызовов в будни и выходные отличаются, то имеет смысл различать или скорректировать оценки эффективности операторов основанные на проценте состоявшихся звонков в будние и выходные дни"
   ]
  },
  {
   "cell_type": "markdown",
   "metadata": {},
   "source": [
    "#### Вывод"
   ]
  },
  {
   "cell_type": "markdown",
   "metadata": {},
   "source": [
    "* Для количественных данных применили Т-критерий Стьюдента для проверки гипотез:   \n",
    "  Гипотеза: \"Количество звонков в день у операторов на исходящих и входящих вызовах равно\" - отвергнута;  \n",
    "\n",
    "* Для проверки гипотез о равенстве долей использовали z-test  \n",
    "  Гипотеза: \"Процент пропущенных вызовов в будни равен проценту пропущенных вызовов в выходные\" - отвергнута"
   ]
  },
  {
   "cell_type": "markdown",
   "metadata": {},
   "source": [
    "### Общий вывод"
   ]
  },
  {
   "cell_type": "markdown",
   "metadata": {},
   "source": [
    "* При предобработке данных выявлены и удалены 4900 дублей, в столбцах internal и operator_id обнаружены пропуски они были заменены, исправили часть данных в столбце is_missed_call, изменили тип данных у столбцов date и operator_id;  \n",
    "* Датасет содержит данные за 119 дней со 2-го августа 2019 по 28 ноября 2019 года;\n",
    "* Данные на всем периоде исследования распределены неравномерно - в начале данных очень мало затем количество данных непрерывно растет;\n",
    "* Количество операторов 1092, по 75% из них статистика есть только за 26 дней или меньше;\n",
    "* Число колл-центров 307, средний процент пропущенных входящих звонков - 56%;\n",
    "* В 75% колл-центров работает 5 и меньше операторов;\n",
    "* Осуществили категоризацию колл-центров на 'принимающие' (41%), 'обзванивающие' (22%) и 'универсальные' (37%), больше всего операторов задействовали 'обзванивающие' колл-центры (32%), а меньше всего 'принимающие' (23%);\n",
    "* Вывели и применили 3 критерия эффективности операторов:\n",
    "  - 'Время ответа оператора при входящем звонке' - 10% операторов, к которым он был применен, не прошли этот фильтр;\n",
    "  - 'Мало звонит' - 97% операторов из колл-цетров категории 'обзванивающий', звонят меньше 2-х часов в день;\n",
    "  - '% пропущенных входящих' - 100% операторов прошли фильтр;\n",
    "* Проверили две статистические гипотезы:\n",
    "  - 'Количество звонков в день у операторов на исходящих и входящих вызовах равно' - отвергнута\n",
    "  - 'Процент пропущенных вызовов в будни равен проценту пропущенных вызовов в выходные' - отвергнута "
   ]
  },
  {
   "cell_type": "markdown",
   "metadata": {},
   "source": [
    "#### Рекомендации"
   ]
  },
  {
   "cell_type": "markdown",
   "metadata": {},
   "source": [
    "* На тех данных, что есть сейчас, построить качественные фильтры оценки операторов крайне сложно, если вообще возможно;\n",
    "* Если наши данные корректны - 5-ть и меньше операторов в 75% колл-центрах и 28 рабочих из 119-ти дней у половины КЦ, то тратить ресурсы на разработку дополнительных фич крайне сомнительная затея, фичу просто не купят, потому что \"не кому и не зачем\";\n",
    "* Для разработки какого-то эффективного и неочевидного фильтра, нужно получить больше данных и в смысле количества, и в смысле их полноты"
   ]
  }
 ],
 "metadata": {
  "ExecuteTimeLog": [
   {
    "duration": 372,
    "start_time": "2022-09-18T08:28:35.246Z"
   },
   {
    "duration": 28,
    "start_time": "2022-09-18T08:28:56.352Z"
   },
   {
    "duration": 5,
    "start_time": "2022-09-18T08:29:23.264Z"
   },
   {
    "duration": 50,
    "start_time": "2022-09-18T08:29:52.749Z"
   },
   {
    "duration": 147,
    "start_time": "2022-09-18T08:29:58.748Z"
   },
   {
    "duration": 18,
    "start_time": "2022-09-18T08:30:15.609Z"
   },
   {
    "duration": 28,
    "start_time": "2022-09-18T08:30:28.821Z"
   },
   {
    "duration": 6,
    "start_time": "2022-09-18T08:31:23.782Z"
   },
   {
    "duration": 10,
    "start_time": "2022-09-18T08:31:46.855Z"
   },
   {
    "duration": 23,
    "start_time": "2022-09-18T08:32:22.198Z"
   },
   {
    "duration": 12,
    "start_time": "2022-09-18T08:33:29.768Z"
   },
   {
    "duration": 13,
    "start_time": "2022-09-18T08:33:37.908Z"
   },
   {
    "duration": 7,
    "start_time": "2022-09-18T08:35:00.368Z"
   },
   {
    "duration": 12,
    "start_time": "2022-09-18T08:35:13.581Z"
   },
   {
    "duration": 70,
    "start_time": "2022-09-18T08:35:27.473Z"
   },
   {
    "duration": 4,
    "start_time": "2022-09-18T08:35:40.607Z"
   },
   {
    "duration": 60,
    "start_time": "2022-09-18T08:36:04.862Z"
   },
   {
    "duration": 6,
    "start_time": "2022-09-18T08:36:20.777Z"
   },
   {
    "duration": 28,
    "start_time": "2022-09-18T08:38:24.814Z"
   },
   {
    "duration": 9,
    "start_time": "2022-09-18T08:39:19.048Z"
   },
   {
    "duration": 13,
    "start_time": "2022-09-18T08:39:28.819Z"
   },
   {
    "duration": 6,
    "start_time": "2022-09-18T08:39:57.158Z"
   },
   {
    "duration": 7,
    "start_time": "2022-09-18T08:40:05.833Z"
   },
   {
    "duration": 52,
    "start_time": "2022-09-18T08:40:30.404Z"
   },
   {
    "duration": 54,
    "start_time": "2022-09-18T08:41:26.864Z"
   },
   {
    "duration": 30,
    "start_time": "2022-09-18T08:42:36.649Z"
   },
   {
    "duration": 10,
    "start_time": "2022-09-18T08:42:45.616Z"
   },
   {
    "duration": 8,
    "start_time": "2022-09-18T08:43:13.762Z"
   },
   {
    "duration": 7,
    "start_time": "2022-09-18T08:43:22.585Z"
   },
   {
    "duration": 26,
    "start_time": "2022-09-18T08:48:07.327Z"
   },
   {
    "duration": 12,
    "start_time": "2022-09-18T08:48:44.828Z"
   },
   {
    "duration": 13,
    "start_time": "2022-09-18T08:48:54.697Z"
   },
   {
    "duration": 22,
    "start_time": "2022-09-18T08:49:19.594Z"
   },
   {
    "duration": 12,
    "start_time": "2022-09-18T08:49:41.401Z"
   },
   {
    "duration": 17,
    "start_time": "2022-09-18T08:49:51.683Z"
   },
   {
    "duration": 16,
    "start_time": "2022-09-18T08:50:03.423Z"
   },
   {
    "duration": 64,
    "start_time": "2022-09-18T08:51:51.472Z"
   },
   {
    "duration": 18,
    "start_time": "2022-09-18T08:52:04.654Z"
   },
   {
    "duration": 5,
    "start_time": "2022-09-18T08:52:36.931Z"
   },
   {
    "duration": 25,
    "start_time": "2022-09-18T08:53:09.514Z"
   },
   {
    "duration": 46,
    "start_time": "2022-09-18T08:53:19.057Z"
   },
   {
    "duration": 54,
    "start_time": "2022-09-18T08:53:37.545Z"
   },
   {
    "duration": 32,
    "start_time": "2022-09-18T08:53:51.737Z"
   },
   {
    "duration": 29,
    "start_time": "2022-09-18T08:54:06.075Z"
   },
   {
    "duration": 26,
    "start_time": "2022-09-18T08:55:32.672Z"
   },
   {
    "duration": 14,
    "start_time": "2022-09-18T08:55:40.550Z"
   },
   {
    "duration": 11,
    "start_time": "2022-09-18T09:02:24.210Z"
   },
   {
    "duration": 5,
    "start_time": "2022-09-18T09:06:16.315Z"
   },
   {
    "duration": 7,
    "start_time": "2022-09-18T09:07:27.674Z"
   },
   {
    "duration": 5,
    "start_time": "2022-09-18T09:08:11.570Z"
   },
   {
    "duration": 5,
    "start_time": "2022-09-18T09:32:59.732Z"
   },
   {
    "duration": 8,
    "start_time": "2022-09-18T09:33:14.806Z"
   },
   {
    "duration": 8,
    "start_time": "2022-09-18T09:33:38.102Z"
   },
   {
    "duration": 2,
    "start_time": "2022-09-18T09:34:42.435Z"
   },
   {
    "duration": 3,
    "start_time": "2022-09-18T09:36:44.946Z"
   },
   {
    "duration": 7,
    "start_time": "2022-09-18T09:36:52.070Z"
   },
   {
    "duration": 7,
    "start_time": "2022-09-18T09:58:58.689Z"
   },
   {
    "duration": 16,
    "start_time": "2022-09-18T09:59:07.254Z"
   },
   {
    "duration": 13,
    "start_time": "2022-09-18T09:59:50.085Z"
   },
   {
    "duration": 18,
    "start_time": "2022-09-18T09:59:50.814Z"
   },
   {
    "duration": 359,
    "start_time": "2022-09-18T10:00:26.040Z"
   },
   {
    "duration": 69,
    "start_time": "2022-09-18T10:00:26.401Z"
   },
   {
    "duration": 26,
    "start_time": "2022-09-18T10:00:26.471Z"
   },
   {
    "duration": 25,
    "start_time": "2022-09-18T10:00:26.499Z"
   },
   {
    "duration": 5,
    "start_time": "2022-09-18T10:00:26.527Z"
   },
   {
    "duration": 5,
    "start_time": "2022-09-18T10:00:26.534Z"
   },
   {
    "duration": 28,
    "start_time": "2022-09-18T10:00:26.540Z"
   },
   {
    "duration": 9,
    "start_time": "2022-09-18T10:00:26.569Z"
   },
   {
    "duration": 31,
    "start_time": "2022-09-18T10:00:26.579Z"
   },
   {
    "duration": 6,
    "start_time": "2022-09-18T10:00:26.611Z"
   },
   {
    "duration": 9,
    "start_time": "2022-09-18T10:00:26.619Z"
   },
   {
    "duration": 9,
    "start_time": "2022-09-18T10:00:26.630Z"
   },
   {
    "duration": 4,
    "start_time": "2022-09-18T10:00:26.640Z"
   },
   {
    "duration": 6,
    "start_time": "2022-09-18T10:00:26.647Z"
   },
   {
    "duration": 56,
    "start_time": "2022-09-18T10:00:26.654Z"
   },
   {
    "duration": 6,
    "start_time": "2022-09-18T10:00:26.711Z"
   },
   {
    "duration": 21,
    "start_time": "2022-09-18T10:00:26.718Z"
   },
   {
    "duration": 7,
    "start_time": "2022-09-18T10:00:26.741Z"
   },
   {
    "duration": 8,
    "start_time": "2022-09-18T10:00:26.749Z"
   },
   {
    "duration": 31,
    "start_time": "2022-09-18T10:00:26.758Z"
   },
   {
    "duration": 22,
    "start_time": "2022-09-18T10:00:26.790Z"
   },
   {
    "duration": 11,
    "start_time": "2022-09-18T10:00:26.813Z"
   },
   {
    "duration": 7,
    "start_time": "2022-09-18T10:00:26.826Z"
   },
   {
    "duration": 21,
    "start_time": "2022-09-18T10:00:26.834Z"
   },
   {
    "duration": 10,
    "start_time": "2022-09-18T10:00:26.857Z"
   },
   {
    "duration": 44,
    "start_time": "2022-09-18T10:00:26.868Z"
   },
   {
    "duration": 16,
    "start_time": "2022-09-18T10:00:26.913Z"
   },
   {
    "duration": 12,
    "start_time": "2022-09-18T10:00:26.931Z"
   },
   {
    "duration": 15,
    "start_time": "2022-09-18T10:00:26.945Z"
   },
   {
    "duration": 10,
    "start_time": "2022-09-18T10:00:26.962Z"
   },
   {
    "duration": 48,
    "start_time": "2022-09-18T10:00:26.974Z"
   },
   {
    "duration": 4,
    "start_time": "2022-09-18T10:00:27.023Z"
   },
   {
    "duration": 20,
    "start_time": "2022-09-18T10:00:27.029Z"
   },
   {
    "duration": 29,
    "start_time": "2022-09-18T10:00:27.050Z"
   },
   {
    "duration": 39,
    "start_time": "2022-09-18T10:00:27.080Z"
   },
   {
    "duration": 13,
    "start_time": "2022-09-18T10:00:27.120Z"
   },
   {
    "duration": 7,
    "start_time": "2022-09-18T10:00:27.134Z"
   },
   {
    "duration": 13,
    "start_time": "2022-09-18T10:00:27.142Z"
   },
   {
    "duration": 14,
    "start_time": "2022-09-18T10:00:27.156Z"
   },
   {
    "duration": 12,
    "start_time": "2022-09-18T10:01:56.781Z"
   },
   {
    "duration": 68,
    "start_time": "2022-09-18T10:20:29.686Z"
   },
   {
    "duration": 372,
    "start_time": "2022-09-18T10:29:51.782Z"
   },
   {
    "duration": 21,
    "start_time": "2022-09-18T10:29:58.550Z"
   },
   {
    "duration": 491,
    "start_time": "2022-09-18T10:31:19.510Z"
   },
   {
    "duration": 297,
    "start_time": "2022-09-18T10:31:25.218Z"
   },
   {
    "duration": 279,
    "start_time": "2022-09-18T10:31:53.410Z"
   },
   {
    "duration": 265,
    "start_time": "2022-09-18T10:32:09.650Z"
   },
   {
    "duration": 275,
    "start_time": "2022-09-18T10:32:33.014Z"
   },
   {
    "duration": 270,
    "start_time": "2022-09-18T10:32:40.848Z"
   },
   {
    "duration": 268,
    "start_time": "2022-09-18T10:32:46.618Z"
   },
   {
    "duration": 307,
    "start_time": "2022-09-18T10:32:52.059Z"
   },
   {
    "duration": 270,
    "start_time": "2022-09-18T10:32:59.749Z"
   },
   {
    "duration": 261,
    "start_time": "2022-09-18T10:33:39.356Z"
   },
   {
    "duration": 240,
    "start_time": "2022-09-18T10:34:15.576Z"
   },
   {
    "duration": 236,
    "start_time": "2022-09-18T10:37:02.845Z"
   },
   {
    "duration": 226,
    "start_time": "2022-09-18T10:37:10.741Z"
   },
   {
    "duration": 222,
    "start_time": "2022-09-18T10:38:51.458Z"
   },
   {
    "duration": 232,
    "start_time": "2022-09-18T10:39:09.615Z"
   },
   {
    "duration": 237,
    "start_time": "2022-09-18T10:39:34.606Z"
   },
   {
    "duration": 240,
    "start_time": "2022-09-18T10:39:40.558Z"
   },
   {
    "duration": 8,
    "start_time": "2022-09-18T17:38:29.454Z"
   },
   {
    "duration": 12,
    "start_time": "2022-09-18T17:38:38.672Z"
   },
   {
    "duration": 235,
    "start_time": "2022-09-18T17:39:30.496Z"
   },
   {
    "duration": 322,
    "start_time": "2022-09-18T17:39:46.380Z"
   },
   {
    "duration": 234,
    "start_time": "2022-09-18T17:40:00.805Z"
   },
   {
    "duration": 8,
    "start_time": "2022-09-18T17:41:46.567Z"
   },
   {
    "duration": 16,
    "start_time": "2022-09-18T17:41:49.291Z"
   },
   {
    "duration": 57,
    "start_time": "2022-09-18T17:45:30.599Z"
   },
   {
    "duration": 9071,
    "start_time": "2022-09-18T17:45:36.590Z"
   },
   {
    "duration": 12,
    "start_time": "2022-09-18T17:46:06.548Z"
   },
   {
    "duration": 8833,
    "start_time": "2022-09-18T17:48:32.191Z"
   },
   {
    "duration": 12,
    "start_time": "2022-09-18T18:08:00.946Z"
   },
   {
    "duration": 13,
    "start_time": "2022-09-18T18:08:12.284Z"
   },
   {
    "duration": 43,
    "start_time": "2022-09-18T18:08:25.160Z"
   },
   {
    "duration": 13,
    "start_time": "2022-09-18T18:08:44.495Z"
   },
   {
    "duration": 15,
    "start_time": "2022-09-18T18:09:29.783Z"
   },
   {
    "duration": 46,
    "start_time": "2022-09-18T18:09:41.213Z"
   },
   {
    "duration": 16,
    "start_time": "2022-09-18T18:10:40.859Z"
   },
   {
    "duration": 189,
    "start_time": "2022-09-18T18:11:58.291Z"
   },
   {
    "duration": 12,
    "start_time": "2022-09-18T18:13:04.293Z"
   },
   {
    "duration": 12,
    "start_time": "2022-09-18T18:13:23.286Z"
   },
   {
    "duration": 190,
    "start_time": "2022-09-18T18:13:44.246Z"
   },
   {
    "duration": 13,
    "start_time": "2022-09-18T18:14:41.556Z"
   },
   {
    "duration": 186,
    "start_time": "2022-09-18T18:14:51.750Z"
   },
   {
    "duration": 277,
    "start_time": "2022-09-18T18:16:11.091Z"
   },
   {
    "duration": 179,
    "start_time": "2022-09-18T18:20:01.703Z"
   },
   {
    "duration": 276,
    "start_time": "2022-09-18T19:19:13.207Z"
   },
   {
    "duration": 200,
    "start_time": "2022-09-18T19:21:15.869Z"
   },
   {
    "duration": 201,
    "start_time": "2022-09-18T19:21:51.991Z"
   },
   {
    "duration": 14,
    "start_time": "2022-09-18T19:23:41.108Z"
   },
   {
    "duration": 208,
    "start_time": "2022-09-18T19:24:31.295Z"
   },
   {
    "duration": 217,
    "start_time": "2022-09-18T19:25:14.034Z"
   },
   {
    "duration": 204,
    "start_time": "2022-09-18T19:25:31.764Z"
   },
   {
    "duration": 14,
    "start_time": "2022-09-18T19:25:41.065Z"
   },
   {
    "duration": 14,
    "start_time": "2022-09-18T19:25:50.066Z"
   },
   {
    "duration": 181,
    "start_time": "2022-09-18T19:25:58.910Z"
   },
   {
    "duration": 205,
    "start_time": "2022-09-18T19:31:59.904Z"
   },
   {
    "duration": 267,
    "start_time": "2022-09-18T19:32:53.764Z"
   },
   {
    "duration": 200,
    "start_time": "2022-09-18T19:32:59.355Z"
   },
   {
    "duration": 213,
    "start_time": "2022-09-18T19:33:55.350Z"
   },
   {
    "duration": 215,
    "start_time": "2022-09-18T19:41:28.251Z"
   },
   {
    "duration": 222,
    "start_time": "2022-09-18T19:42:06.756Z"
   },
   {
    "duration": 179,
    "start_time": "2022-09-18T19:42:28.032Z"
   },
   {
    "duration": 226,
    "start_time": "2022-09-18T19:42:45.324Z"
   },
   {
    "duration": 225,
    "start_time": "2022-09-18T19:42:54.156Z"
   },
   {
    "duration": 25,
    "start_time": "2022-09-18T19:43:54.804Z"
   },
   {
    "duration": 42,
    "start_time": "2022-09-18T19:52:37.747Z"
   },
   {
    "duration": 4,
    "start_time": "2022-09-18T20:52:10.469Z"
   },
   {
    "duration": 1145,
    "start_time": "2022-09-18T20:53:20.022Z"
   },
   {
    "duration": 74,
    "start_time": "2022-09-18T20:53:21.169Z"
   },
   {
    "duration": 17,
    "start_time": "2022-09-18T20:53:21.245Z"
   },
   {
    "duration": 15,
    "start_time": "2022-09-18T20:53:21.263Z"
   },
   {
    "duration": 5,
    "start_time": "2022-09-18T20:53:21.280Z"
   },
   {
    "duration": 26,
    "start_time": "2022-09-18T20:53:21.286Z"
   },
   {
    "duration": 16,
    "start_time": "2022-09-18T20:53:21.314Z"
   },
   {
    "duration": 10,
    "start_time": "2022-09-18T20:53:21.331Z"
   },
   {
    "duration": 9,
    "start_time": "2022-09-18T20:53:21.342Z"
   },
   {
    "duration": 3,
    "start_time": "2022-09-18T20:53:30.467Z"
   },
   {
    "duration": 264,
    "start_time": "2022-09-18T20:53:51.205Z"
   },
   {
    "duration": 12,
    "start_time": "2022-09-18T20:54:04.411Z"
   },
   {
    "duration": 16,
    "start_time": "2022-09-18T20:54:28.759Z"
   },
   {
    "duration": 4,
    "start_time": "2022-09-18T20:54:51.674Z"
   },
   {
    "duration": 1072,
    "start_time": "2022-09-18T20:55:23.851Z"
   },
   {
    "duration": 69,
    "start_time": "2022-09-18T20:55:24.925Z"
   },
   {
    "duration": 16,
    "start_time": "2022-09-18T20:55:24.996Z"
   },
   {
    "duration": 14,
    "start_time": "2022-09-18T20:55:25.014Z"
   },
   {
    "duration": 5,
    "start_time": "2022-09-18T20:55:25.030Z"
   },
   {
    "duration": 4,
    "start_time": "2022-09-18T20:55:25.036Z"
   },
   {
    "duration": 16,
    "start_time": "2022-09-18T20:55:25.041Z"
   },
   {
    "duration": 8,
    "start_time": "2022-09-18T20:55:25.059Z"
   },
   {
    "duration": 42,
    "start_time": "2022-09-18T20:55:25.068Z"
   },
   {
    "duration": 3,
    "start_time": "2022-09-18T20:55:25.112Z"
   },
   {
    "duration": 19,
    "start_time": "2022-09-18T20:55:25.116Z"
   },
   {
    "duration": 3,
    "start_time": "2022-09-18T20:55:25.136Z"
   },
   {
    "duration": 8,
    "start_time": "2022-09-18T20:55:25.141Z"
   },
   {
    "duration": 17,
    "start_time": "2022-09-18T20:55:25.153Z"
   },
   {
    "duration": 37,
    "start_time": "2022-09-18T20:55:25.172Z"
   },
   {
    "duration": 11,
    "start_time": "2022-09-18T20:55:25.210Z"
   },
   {
    "duration": 5,
    "start_time": "2022-09-18T20:55:25.223Z"
   },
   {
    "duration": 5,
    "start_time": "2022-09-18T20:55:25.230Z"
   },
   {
    "duration": 33,
    "start_time": "2022-09-18T20:55:25.237Z"
   },
   {
    "duration": 42,
    "start_time": "2022-09-18T20:55:25.271Z"
   },
   {
    "duration": 8,
    "start_time": "2022-09-18T20:55:25.315Z"
   },
   {
    "duration": 7,
    "start_time": "2022-09-18T20:55:25.324Z"
   },
   {
    "duration": 19,
    "start_time": "2022-09-18T20:55:25.332Z"
   },
   {
    "duration": 9,
    "start_time": "2022-09-18T20:55:25.353Z"
   },
   {
    "duration": 11,
    "start_time": "2022-09-18T20:55:25.364Z"
   },
   {
    "duration": 15,
    "start_time": "2022-09-18T20:55:25.409Z"
   },
   {
    "duration": 12,
    "start_time": "2022-09-18T20:55:25.426Z"
   },
   {
    "duration": 16,
    "start_time": "2022-09-18T20:55:25.440Z"
   },
   {
    "duration": 11,
    "start_time": "2022-09-18T20:55:25.458Z"
   },
   {
    "duration": 45,
    "start_time": "2022-09-18T20:55:25.471Z"
   },
   {
    "duration": 4,
    "start_time": "2022-09-18T20:55:25.517Z"
   },
   {
    "duration": 20,
    "start_time": "2022-09-18T20:55:25.522Z"
   },
   {
    "duration": 29,
    "start_time": "2022-09-18T20:55:25.543Z"
   },
   {
    "duration": 42,
    "start_time": "2022-09-18T20:55:25.574Z"
   },
   {
    "duration": 14,
    "start_time": "2022-09-18T20:55:25.618Z"
   },
   {
    "duration": 8,
    "start_time": "2022-09-18T20:55:25.634Z"
   },
   {
    "duration": 232,
    "start_time": "2022-09-18T20:55:25.644Z"
   },
   {
    "duration": 16,
    "start_time": "2022-09-18T20:55:25.877Z"
   },
   {
    "duration": 26,
    "start_time": "2022-09-18T20:55:25.895Z"
   },
   {
    "duration": 47,
    "start_time": "2022-09-18T20:55:25.922Z"
   },
   {
    "duration": 194,
    "start_time": "2022-09-18T20:55:25.973Z"
   },
   {
    "duration": 224,
    "start_time": "2022-09-18T20:57:21.229Z"
   },
   {
    "duration": 217,
    "start_time": "2022-09-18T20:57:39.184Z"
   },
   {
    "duration": 240,
    "start_time": "2022-09-18T20:59:52.455Z"
   },
   {
    "duration": 199,
    "start_time": "2022-09-18T21:00:04.917Z"
   },
   {
    "duration": 217,
    "start_time": "2022-09-18T21:00:21.618Z"
   },
   {
    "duration": 308,
    "start_time": "2022-09-18T21:01:02.488Z"
   },
   {
    "duration": 213,
    "start_time": "2022-09-18T21:01:30.454Z"
   },
   {
    "duration": 231,
    "start_time": "2022-09-18T21:01:42.377Z"
   },
   {
    "duration": 301,
    "start_time": "2022-09-18T21:02:20.097Z"
   },
   {
    "duration": 198,
    "start_time": "2022-09-18T21:02:26.125Z"
   },
   {
    "duration": 192,
    "start_time": "2022-09-18T21:02:32.911Z"
   },
   {
    "duration": 224,
    "start_time": "2022-09-18T21:02:42.210Z"
   },
   {
    "duration": 213,
    "start_time": "2022-09-18T21:09:12.005Z"
   },
   {
    "duration": 217,
    "start_time": "2022-09-18T21:09:21.253Z"
   },
   {
    "duration": 214,
    "start_time": "2022-09-18T21:15:45.809Z"
   },
   {
    "duration": 212,
    "start_time": "2022-09-18T21:16:04.529Z"
   },
   {
    "duration": 296,
    "start_time": "2022-09-18T21:16:37.264Z"
   },
   {
    "duration": 214,
    "start_time": "2022-09-18T21:20:01.060Z"
   },
   {
    "duration": 210,
    "start_time": "2022-09-18T21:20:29.035Z"
   },
   {
    "duration": 47,
    "start_time": "2022-09-18T21:28:54.325Z"
   },
   {
    "duration": 259,
    "start_time": "2022-09-18T21:28:59.808Z"
   },
   {
    "duration": 4,
    "start_time": "2022-09-18T21:29:34.385Z"
   },
   {
    "duration": 207,
    "start_time": "2022-09-18T21:29:45.308Z"
   },
   {
    "duration": 209,
    "start_time": "2022-09-18T21:30:17.258Z"
   },
   {
    "duration": 206,
    "start_time": "2022-09-18T21:30:38.567Z"
   },
   {
    "duration": 213,
    "start_time": "2022-09-18T21:31:08.955Z"
   },
   {
    "duration": 210,
    "start_time": "2022-09-18T21:31:49.555Z"
   },
   {
    "duration": 207,
    "start_time": "2022-09-18T21:32:30.230Z"
   },
   {
    "duration": 74,
    "start_time": "2022-09-19T02:27:06.039Z"
   },
   {
    "duration": 1379,
    "start_time": "2022-09-19T02:27:14.092Z"
   },
   {
    "duration": 154,
    "start_time": "2022-09-19T02:27:15.473Z"
   },
   {
    "duration": 19,
    "start_time": "2022-09-19T02:27:15.629Z"
   },
   {
    "duration": 23,
    "start_time": "2022-09-19T02:27:15.650Z"
   },
   {
    "duration": 12,
    "start_time": "2022-09-19T02:27:15.675Z"
   },
   {
    "duration": 6,
    "start_time": "2022-09-19T02:27:15.689Z"
   },
   {
    "duration": 21,
    "start_time": "2022-09-19T02:27:15.696Z"
   },
   {
    "duration": 10,
    "start_time": "2022-09-19T02:27:15.718Z"
   },
   {
    "duration": 27,
    "start_time": "2022-09-19T02:27:15.729Z"
   },
   {
    "duration": 3,
    "start_time": "2022-09-19T02:27:15.761Z"
   },
   {
    "duration": 21,
    "start_time": "2022-09-19T02:27:15.770Z"
   },
   {
    "duration": 4,
    "start_time": "2022-09-19T02:27:15.793Z"
   },
   {
    "duration": 9,
    "start_time": "2022-09-19T02:27:15.799Z"
   },
   {
    "duration": 20,
    "start_time": "2022-09-19T02:27:15.811Z"
   },
   {
    "duration": 35,
    "start_time": "2022-09-19T02:27:15.833Z"
   },
   {
    "duration": 10,
    "start_time": "2022-09-19T02:27:15.870Z"
   },
   {
    "duration": 8,
    "start_time": "2022-09-19T02:27:15.882Z"
   },
   {
    "duration": 6,
    "start_time": "2022-09-19T02:27:15.891Z"
   },
   {
    "duration": 35,
    "start_time": "2022-09-19T02:27:15.899Z"
   },
   {
    "duration": 27,
    "start_time": "2022-09-19T02:27:15.936Z"
   },
   {
    "duration": 19,
    "start_time": "2022-09-19T02:27:15.964Z"
   },
   {
    "duration": 10,
    "start_time": "2022-09-19T02:27:15.985Z"
   },
   {
    "duration": 25,
    "start_time": "2022-09-19T02:27:15.996Z"
   },
   {
    "duration": 12,
    "start_time": "2022-09-19T02:27:16.023Z"
   },
   {
    "duration": 17,
    "start_time": "2022-09-19T02:27:16.054Z"
   },
   {
    "duration": 19,
    "start_time": "2022-09-19T02:27:16.073Z"
   },
   {
    "duration": 12,
    "start_time": "2022-09-19T02:27:16.093Z"
   },
   {
    "duration": 17,
    "start_time": "2022-09-19T02:27:16.106Z"
   },
   {
    "duration": 48,
    "start_time": "2022-09-19T02:27:16.125Z"
   },
   {
    "duration": 27,
    "start_time": "2022-09-19T02:27:16.176Z"
   },
   {
    "duration": 5,
    "start_time": "2022-09-19T02:27:16.205Z"
   },
   {
    "duration": 20,
    "start_time": "2022-09-19T02:27:16.212Z"
   },
   {
    "duration": 49,
    "start_time": "2022-09-19T02:27:16.233Z"
   },
   {
    "duration": 20,
    "start_time": "2022-09-19T02:27:16.284Z"
   },
   {
    "duration": 14,
    "start_time": "2022-09-19T02:27:16.306Z"
   },
   {
    "duration": 48,
    "start_time": "2022-09-19T02:27:16.321Z"
   },
   {
    "duration": 260,
    "start_time": "2022-09-19T02:27:16.371Z"
   },
   {
    "duration": 19,
    "start_time": "2022-09-19T02:27:16.633Z"
   },
   {
    "duration": 54,
    "start_time": "2022-09-19T02:27:16.654Z"
   },
   {
    "duration": 56,
    "start_time": "2022-09-19T02:27:16.710Z"
   },
   {
    "duration": 211,
    "start_time": "2022-09-19T02:27:16.771Z"
   },
   {
    "duration": 230,
    "start_time": "2022-09-19T02:27:37.016Z"
   },
   {
    "duration": 18,
    "start_time": "2022-09-19T02:39:29.847Z"
   },
   {
    "duration": 17,
    "start_time": "2022-09-19T02:44:27.179Z"
   },
   {
    "duration": 34,
    "start_time": "2022-09-19T02:57:45.646Z"
   },
   {
    "duration": 1516,
    "start_time": "2022-09-19T02:58:46.102Z"
   },
   {
    "duration": 383,
    "start_time": "2022-09-19T02:59:42.765Z"
   },
   {
    "duration": 608,
    "start_time": "2022-09-19T02:59:57.011Z"
   },
   {
    "duration": 3,
    "start_time": "2022-09-19T03:01:02.601Z"
   },
   {
    "duration": 1503,
    "start_time": "2022-09-19T03:14:49.790Z"
   },
   {
    "duration": 1088,
    "start_time": "2022-09-19T03:16:28.153Z"
   },
   {
    "duration": 1399,
    "start_time": "2022-09-19T03:16:38.538Z"
   },
   {
    "duration": 9,
    "start_time": "2022-09-19T03:16:56.874Z"
   },
   {
    "duration": 25,
    "start_time": "2022-09-19T03:17:01.468Z"
   },
   {
    "duration": 12,
    "start_time": "2022-09-19T03:19:24.046Z"
   },
   {
    "duration": 30,
    "start_time": "2022-09-19T03:19:26.255Z"
   },
   {
    "duration": 1200,
    "start_time": "2022-09-19T03:21:10.892Z"
   },
   {
    "duration": 75,
    "start_time": "2022-09-19T03:21:12.095Z"
   },
   {
    "duration": 21,
    "start_time": "2022-09-19T03:21:12.172Z"
   },
   {
    "duration": 29,
    "start_time": "2022-09-19T03:21:12.195Z"
   },
   {
    "duration": 7,
    "start_time": "2022-09-19T03:21:12.227Z"
   },
   {
    "duration": 5,
    "start_time": "2022-09-19T03:21:12.254Z"
   },
   {
    "duration": 31,
    "start_time": "2022-09-19T03:21:12.260Z"
   },
   {
    "duration": 14,
    "start_time": "2022-09-19T03:21:12.293Z"
   },
   {
    "duration": 11,
    "start_time": "2022-09-19T03:21:12.309Z"
   },
   {
    "duration": 4,
    "start_time": "2022-09-19T03:21:12.322Z"
   },
   {
    "duration": 48,
    "start_time": "2022-09-19T03:21:12.328Z"
   },
   {
    "duration": 5,
    "start_time": "2022-09-19T03:21:12.378Z"
   },
   {
    "duration": 17,
    "start_time": "2022-09-19T03:21:12.385Z"
   },
   {
    "duration": 28,
    "start_time": "2022-09-19T03:21:12.407Z"
   },
   {
    "duration": 7,
    "start_time": "2022-09-19T03:21:12.454Z"
   },
   {
    "duration": 37,
    "start_time": "2022-09-19T03:21:12.463Z"
   },
   {
    "duration": 17,
    "start_time": "2022-09-19T03:21:12.501Z"
   },
   {
    "duration": 17,
    "start_time": "2022-09-19T03:21:12.519Z"
   },
   {
    "duration": 38,
    "start_time": "2022-09-19T03:21:12.538Z"
   },
   {
    "duration": 12,
    "start_time": "2022-09-19T03:21:12.578Z"
   },
   {
    "duration": 12,
    "start_time": "2022-09-19T03:21:12.592Z"
   },
   {
    "duration": 14,
    "start_time": "2022-09-19T03:21:12.606Z"
   },
   {
    "duration": 42,
    "start_time": "2022-09-19T03:21:12.622Z"
   },
   {
    "duration": 11,
    "start_time": "2022-09-19T03:21:12.666Z"
   },
   {
    "duration": 14,
    "start_time": "2022-09-19T03:21:12.679Z"
   },
   {
    "duration": 18,
    "start_time": "2022-09-19T03:21:12.694Z"
   },
   {
    "duration": 41,
    "start_time": "2022-09-19T03:21:12.714Z"
   },
   {
    "duration": 18,
    "start_time": "2022-09-19T03:21:12.757Z"
   },
   {
    "duration": 19,
    "start_time": "2022-09-19T03:21:12.778Z"
   },
   {
    "duration": 27,
    "start_time": "2022-09-19T03:21:12.799Z"
   },
   {
    "duration": 6,
    "start_time": "2022-09-19T03:21:12.854Z"
   },
   {
    "duration": 24,
    "start_time": "2022-09-19T03:21:12.862Z"
   },
   {
    "duration": 36,
    "start_time": "2022-09-19T03:21:12.888Z"
   },
   {
    "duration": 44,
    "start_time": "2022-09-19T03:21:12.925Z"
   },
   {
    "duration": 15,
    "start_time": "2022-09-19T03:21:12.971Z"
   },
   {
    "duration": 8,
    "start_time": "2022-09-19T03:21:12.988Z"
   },
   {
    "duration": 278,
    "start_time": "2022-09-19T03:21:12.998Z"
   },
   {
    "duration": 18,
    "start_time": "2022-09-19T03:21:13.279Z"
   },
   {
    "duration": 25,
    "start_time": "2022-09-19T03:21:13.299Z"
   },
   {
    "duration": 54,
    "start_time": "2022-09-19T03:21:13.326Z"
   },
   {
    "duration": 209,
    "start_time": "2022-09-19T03:21:13.384Z"
   },
   {
    "duration": 3,
    "start_time": "2022-09-19T03:21:13.595Z"
   },
   {
    "duration": 28,
    "start_time": "2022-09-19T03:21:13.599Z"
   },
   {
    "duration": 29,
    "start_time": "2022-09-19T03:21:13.629Z"
   },
   {
    "duration": 1411,
    "start_time": "2022-09-19T14:20:55.783Z"
   },
   {
    "duration": 130,
    "start_time": "2022-09-19T14:20:57.197Z"
   },
   {
    "duration": 18,
    "start_time": "2022-09-19T14:20:57.328Z"
   },
   {
    "duration": 15,
    "start_time": "2022-09-19T14:20:57.348Z"
   },
   {
    "duration": 5,
    "start_time": "2022-09-19T14:20:57.366Z"
   },
   {
    "duration": 4,
    "start_time": "2022-09-19T14:20:57.377Z"
   },
   {
    "duration": 30,
    "start_time": "2022-09-19T14:20:57.383Z"
   },
   {
    "duration": 8,
    "start_time": "2022-09-19T14:20:57.415Z"
   },
   {
    "duration": 12,
    "start_time": "2022-09-19T14:20:57.425Z"
   },
   {
    "duration": 3,
    "start_time": "2022-09-19T14:20:57.439Z"
   },
   {
    "duration": 43,
    "start_time": "2022-09-19T14:20:57.443Z"
   },
   {
    "duration": 4,
    "start_time": "2022-09-19T14:20:57.488Z"
   },
   {
    "duration": 13,
    "start_time": "2022-09-19T14:20:57.494Z"
   },
   {
    "duration": 18,
    "start_time": "2022-09-19T14:20:57.510Z"
   },
   {
    "duration": 6,
    "start_time": "2022-09-19T14:20:57.530Z"
   },
   {
    "duration": 11,
    "start_time": "2022-09-19T14:20:57.537Z"
   },
   {
    "duration": 28,
    "start_time": "2022-09-19T14:20:57.550Z"
   },
   {
    "duration": 7,
    "start_time": "2022-09-19T14:20:57.580Z"
   },
   {
    "duration": 41,
    "start_time": "2022-09-19T14:20:57.589Z"
   },
   {
    "duration": 14,
    "start_time": "2022-09-19T14:20:57.631Z"
   },
   {
    "duration": 11,
    "start_time": "2022-09-19T14:20:57.647Z"
   },
   {
    "duration": 7,
    "start_time": "2022-09-19T14:20:57.680Z"
   },
   {
    "duration": 31,
    "start_time": "2022-09-19T14:20:57.689Z"
   },
   {
    "duration": 10,
    "start_time": "2022-09-19T14:20:57.722Z"
   },
   {
    "duration": 15,
    "start_time": "2022-09-19T14:20:57.734Z"
   },
   {
    "duration": 44,
    "start_time": "2022-09-19T14:20:57.750Z"
   },
   {
    "duration": 15,
    "start_time": "2022-09-19T14:20:57.796Z"
   },
   {
    "duration": 16,
    "start_time": "2022-09-19T14:20:57.812Z"
   },
   {
    "duration": 11,
    "start_time": "2022-09-19T14:20:57.829Z"
   },
   {
    "duration": 50,
    "start_time": "2022-09-19T14:20:57.842Z"
   },
   {
    "duration": 6,
    "start_time": "2022-09-19T14:20:57.894Z"
   },
   {
    "duration": 26,
    "start_time": "2022-09-19T14:20:57.902Z"
   },
   {
    "duration": 30,
    "start_time": "2022-09-19T14:20:57.930Z"
   },
   {
    "duration": 42,
    "start_time": "2022-09-19T14:20:57.962Z"
   },
   {
    "duration": 15,
    "start_time": "2022-09-19T14:20:58.006Z"
   },
   {
    "duration": 7,
    "start_time": "2022-09-19T14:20:58.022Z"
   },
   {
    "duration": 305,
    "start_time": "2022-09-19T14:20:58.031Z"
   },
   {
    "duration": 20,
    "start_time": "2022-09-19T14:20:58.338Z"
   },
   {
    "duration": 15,
    "start_time": "2022-09-19T14:20:58.360Z"
   },
   {
    "duration": 77,
    "start_time": "2022-09-19T14:20:58.378Z"
   },
   {
    "duration": 234,
    "start_time": "2022-09-19T14:20:58.459Z"
   },
   {
    "duration": 2,
    "start_time": "2022-09-19T14:20:58.695Z"
   },
   {
    "duration": 35,
    "start_time": "2022-09-19T14:20:58.699Z"
   },
   {
    "duration": 19,
    "start_time": "2022-09-19T14:20:58.736Z"
   },
   {
    "duration": 24,
    "start_time": "2022-09-19T14:21:02.518Z"
   },
   {
    "duration": 1147,
    "start_time": "2022-09-19T14:22:32.159Z"
   },
   {
    "duration": 69,
    "start_time": "2022-09-19T14:22:33.309Z"
   },
   {
    "duration": 24,
    "start_time": "2022-09-19T14:22:33.380Z"
   },
   {
    "duration": 20,
    "start_time": "2022-09-19T14:22:33.407Z"
   },
   {
    "duration": 6,
    "start_time": "2022-09-19T14:22:33.429Z"
   },
   {
    "duration": 6,
    "start_time": "2022-09-19T14:22:33.437Z"
   },
   {
    "duration": 48,
    "start_time": "2022-09-19T14:22:33.445Z"
   },
   {
    "duration": 11,
    "start_time": "2022-09-19T14:22:33.496Z"
   },
   {
    "duration": 9,
    "start_time": "2022-09-19T14:22:33.509Z"
   },
   {
    "duration": 6,
    "start_time": "2022-09-19T14:22:33.521Z"
   },
   {
    "duration": 20,
    "start_time": "2022-09-19T14:22:33.528Z"
   },
   {
    "duration": 37,
    "start_time": "2022-09-19T14:22:33.549Z"
   },
   {
    "duration": 18,
    "start_time": "2022-09-19T14:22:33.589Z"
   },
   {
    "duration": 21,
    "start_time": "2022-09-19T14:22:33.608Z"
   },
   {
    "duration": 5,
    "start_time": "2022-09-19T14:22:33.631Z"
   },
   {
    "duration": 12,
    "start_time": "2022-09-19T14:22:33.638Z"
   },
   {
    "duration": 7,
    "start_time": "2022-09-19T14:22:33.651Z"
   },
   {
    "duration": 20,
    "start_time": "2022-09-19T14:22:33.659Z"
   },
   {
    "duration": 41,
    "start_time": "2022-09-19T14:22:33.681Z"
   },
   {
    "duration": 10,
    "start_time": "2022-09-19T14:22:33.723Z"
   },
   {
    "duration": 10,
    "start_time": "2022-09-19T14:22:33.735Z"
   },
   {
    "duration": 10,
    "start_time": "2022-09-19T14:22:33.746Z"
   },
   {
    "duration": 31,
    "start_time": "2022-09-19T14:22:33.784Z"
   },
   {
    "duration": 16,
    "start_time": "2022-09-19T14:22:33.817Z"
   },
   {
    "duration": 15,
    "start_time": "2022-09-19T14:22:33.834Z"
   },
   {
    "duration": 36,
    "start_time": "2022-09-19T14:22:33.851Z"
   },
   {
    "duration": 15,
    "start_time": "2022-09-19T14:22:33.889Z"
   },
   {
    "duration": 25,
    "start_time": "2022-09-19T14:22:33.907Z"
   },
   {
    "duration": 11,
    "start_time": "2022-09-19T14:22:33.934Z"
   },
   {
    "duration": 33,
    "start_time": "2022-09-19T14:22:33.946Z"
   },
   {
    "duration": 5,
    "start_time": "2022-09-19T14:22:33.981Z"
   },
   {
    "duration": 31,
    "start_time": "2022-09-19T14:22:33.988Z"
   },
   {
    "duration": 31,
    "start_time": "2022-09-19T14:22:34.021Z"
   },
   {
    "duration": 38,
    "start_time": "2022-09-19T14:22:34.053Z"
   },
   {
    "duration": 16,
    "start_time": "2022-09-19T14:22:34.093Z"
   },
   {
    "duration": 8,
    "start_time": "2022-09-19T14:22:34.111Z"
   },
   {
    "duration": 291,
    "start_time": "2022-09-19T14:22:34.121Z"
   },
   {
    "duration": 18,
    "start_time": "2022-09-19T14:22:34.414Z"
   },
   {
    "duration": 16,
    "start_time": "2022-09-19T14:22:34.434Z"
   },
   {
    "duration": 50,
    "start_time": "2022-09-19T14:22:34.452Z"
   },
   {
    "duration": 210,
    "start_time": "2022-09-19T14:22:34.504Z"
   },
   {
    "duration": 3,
    "start_time": "2022-09-19T14:22:34.716Z"
   },
   {
    "duration": 22,
    "start_time": "2022-09-19T14:22:34.721Z"
   },
   {
    "duration": 13,
    "start_time": "2022-09-19T14:22:34.744Z"
   },
   {
    "duration": 22,
    "start_time": "2022-09-19T14:22:34.777Z"
   },
   {
    "duration": 21,
    "start_time": "2022-09-19T14:24:35.803Z"
   },
   {
    "duration": 22,
    "start_time": "2022-09-19T14:24:36.565Z"
   },
   {
    "duration": 28,
    "start_time": "2022-09-19T14:24:39.796Z"
   },
   {
    "duration": 123,
    "start_time": "2022-09-19T14:31:47.075Z"
   },
   {
    "duration": 18,
    "start_time": "2022-09-19T14:32:04.393Z"
   },
   {
    "duration": 4,
    "start_time": "2022-09-19T14:32:53.944Z"
   },
   {
    "duration": 17,
    "start_time": "2022-09-19T14:33:37.715Z"
   },
   {
    "duration": 19,
    "start_time": "2022-09-19T14:40:22.486Z"
   },
   {
    "duration": 10,
    "start_time": "2022-09-19T14:41:13.502Z"
   },
   {
    "duration": 122,
    "start_time": "2022-09-19T14:44:25.175Z"
   },
   {
    "duration": 204,
    "start_time": "2022-09-19T14:47:51.128Z"
   },
   {
    "duration": 14,
    "start_time": "2022-09-19T14:48:16.202Z"
   },
   {
    "duration": 11,
    "start_time": "2022-09-19T14:48:33.317Z"
   },
   {
    "duration": 11,
    "start_time": "2022-09-19T14:48:55.139Z"
   },
   {
    "duration": 20,
    "start_time": "2022-09-19T14:55:25.523Z"
   },
   {
    "duration": 29,
    "start_time": "2022-09-19T14:56:35.164Z"
   },
   {
    "duration": 23,
    "start_time": "2022-09-19T14:56:46.912Z"
   },
   {
    "duration": 104,
    "start_time": "2022-09-19T14:57:20.205Z"
   },
   {
    "duration": 19,
    "start_time": "2022-09-19T14:57:49.720Z"
   },
   {
    "duration": 12,
    "start_time": "2022-09-19T14:58:38.805Z"
   },
   {
    "duration": 31,
    "start_time": "2022-09-19T14:58:41.310Z"
   },
   {
    "duration": 33,
    "start_time": "2022-09-19T15:00:07.204Z"
   },
   {
    "duration": 31,
    "start_time": "2022-09-19T15:01:15.052Z"
   },
   {
    "duration": 34,
    "start_time": "2022-09-19T15:03:23.304Z"
   },
   {
    "duration": 16,
    "start_time": "2022-09-19T15:05:09.997Z"
   },
   {
    "duration": 91,
    "start_time": "2022-09-19T15:05:27.233Z"
   },
   {
    "duration": 56,
    "start_time": "2022-09-19T15:05:33.947Z"
   },
   {
    "duration": 20,
    "start_time": "2022-09-19T15:07:11.848Z"
   },
   {
    "duration": 39,
    "start_time": "2022-09-19T15:08:17.456Z"
   },
   {
    "duration": 58,
    "start_time": "2022-09-19T15:10:30.539Z"
   },
   {
    "duration": 39,
    "start_time": "2022-09-19T15:10:55.482Z"
   },
   {
    "duration": 24,
    "start_time": "2022-09-19T15:11:53.009Z"
   },
   {
    "duration": 128,
    "start_time": "2022-09-19T15:12:31.871Z"
   },
   {
    "duration": 129,
    "start_time": "2022-09-19T15:13:24.053Z"
   },
   {
    "duration": 43,
    "start_time": "2022-09-19T15:13:50.845Z"
   },
   {
    "duration": 25,
    "start_time": "2022-09-19T15:19:06.059Z"
   },
   {
    "duration": 143,
    "start_time": "2022-09-19T15:19:53.003Z"
   },
   {
    "duration": 47,
    "start_time": "2022-09-19T15:20:28.530Z"
   },
   {
    "duration": 19,
    "start_time": "2022-09-19T15:21:46.459Z"
   },
   {
    "duration": 21,
    "start_time": "2022-09-19T15:22:27.473Z"
   },
   {
    "duration": 15,
    "start_time": "2022-09-19T15:22:46.026Z"
   },
   {
    "duration": 45,
    "start_time": "2022-09-19T15:35:36.909Z"
   },
   {
    "duration": 72,
    "start_time": "2022-09-19T15:35:54.637Z"
   },
   {
    "duration": 14,
    "start_time": "2022-09-19T15:36:06.170Z"
   },
   {
    "duration": 69,
    "start_time": "2022-09-19T15:37:25.744Z"
   },
   {
    "duration": 166,
    "start_time": "2022-09-19T15:42:59.956Z"
   },
   {
    "duration": 43,
    "start_time": "2022-09-19T15:43:03.408Z"
   },
   {
    "duration": 39,
    "start_time": "2022-09-19T16:45:36.520Z"
   },
   {
    "duration": 3,
    "start_time": "2022-09-19T16:50:54.013Z"
   },
   {
    "duration": 40,
    "start_time": "2022-09-19T16:50:59.893Z"
   },
   {
    "duration": 23,
    "start_time": "2022-09-19T16:56:48.846Z"
   },
   {
    "duration": 33,
    "start_time": "2022-09-19T16:57:42.881Z"
   },
   {
    "duration": 29,
    "start_time": "2022-09-19T16:57:56.284Z"
   },
   {
    "duration": 407,
    "start_time": "2022-09-19T17:22:12.317Z"
   },
   {
    "duration": 4,
    "start_time": "2022-09-19T17:23:09.480Z"
   },
   {
    "duration": 15,
    "start_time": "2022-09-19T17:23:42.362Z"
   },
   {
    "duration": 4,
    "start_time": "2022-09-19T17:24:25.276Z"
   },
   {
    "duration": 13,
    "start_time": "2022-09-19T17:24:29.997Z"
   },
   {
    "duration": 28,
    "start_time": "2022-09-19T17:25:33.233Z"
   },
   {
    "duration": 13,
    "start_time": "2022-09-19T17:27:32.631Z"
   },
   {
    "duration": 1204,
    "start_time": "2022-09-19T17:28:47.969Z"
   },
   {
    "duration": 5,
    "start_time": "2022-09-19T17:28:49.175Z"
   },
   {
    "duration": 73,
    "start_time": "2022-09-19T17:28:49.182Z"
   },
   {
    "duration": 18,
    "start_time": "2022-09-19T17:28:49.257Z"
   },
   {
    "duration": 19,
    "start_time": "2022-09-19T17:28:49.277Z"
   },
   {
    "duration": 6,
    "start_time": "2022-09-19T17:28:49.297Z"
   },
   {
    "duration": 4,
    "start_time": "2022-09-19T17:28:49.305Z"
   },
   {
    "duration": 18,
    "start_time": "2022-09-19T17:28:49.311Z"
   },
   {
    "duration": 11,
    "start_time": "2022-09-19T17:28:49.331Z"
   },
   {
    "duration": 13,
    "start_time": "2022-09-19T17:28:49.382Z"
   },
   {
    "duration": 5,
    "start_time": "2022-09-19T17:28:49.397Z"
   },
   {
    "duration": 18,
    "start_time": "2022-09-19T17:28:49.404Z"
   },
   {
    "duration": 3,
    "start_time": "2022-09-19T17:28:49.424Z"
   },
   {
    "duration": 10,
    "start_time": "2022-09-19T17:28:49.428Z"
   },
   {
    "duration": 50,
    "start_time": "2022-09-19T17:28:49.440Z"
   },
   {
    "duration": 12,
    "start_time": "2022-09-19T17:28:49.492Z"
   },
   {
    "duration": 12,
    "start_time": "2022-09-19T17:28:49.506Z"
   },
   {
    "duration": 10,
    "start_time": "2022-09-19T17:28:49.519Z"
   },
   {
    "duration": 8,
    "start_time": "2022-09-19T17:28:49.531Z"
   },
   {
    "duration": 61,
    "start_time": "2022-09-19T17:28:49.540Z"
   },
   {
    "duration": 10,
    "start_time": "2022-09-19T17:28:49.603Z"
   },
   {
    "duration": 11,
    "start_time": "2022-09-19T17:28:49.614Z"
   },
   {
    "duration": 10,
    "start_time": "2022-09-19T17:28:49.627Z"
   },
   {
    "duration": 48,
    "start_time": "2022-09-19T17:28:49.639Z"
   },
   {
    "duration": 12,
    "start_time": "2022-09-19T17:28:49.689Z"
   },
   {
    "duration": 12,
    "start_time": "2022-09-19T17:28:49.703Z"
   },
   {
    "duration": 17,
    "start_time": "2022-09-19T17:28:49.717Z"
   },
   {
    "duration": 11,
    "start_time": "2022-09-19T17:28:49.737Z"
   },
   {
    "duration": 22,
    "start_time": "2022-09-19T17:28:49.777Z"
   },
   {
    "duration": 14,
    "start_time": "2022-09-19T17:28:49.801Z"
   },
   {
    "duration": 17,
    "start_time": "2022-09-19T17:28:49.816Z"
   },
   {
    "duration": 4,
    "start_time": "2022-09-19T17:28:49.835Z"
   },
   {
    "duration": 49,
    "start_time": "2022-09-19T17:28:49.840Z"
   },
   {
    "duration": 41,
    "start_time": "2022-09-19T17:28:49.891Z"
   },
   {
    "duration": 19,
    "start_time": "2022-09-19T17:28:49.934Z"
   },
   {
    "duration": 36,
    "start_time": "2022-09-19T17:28:49.955Z"
   },
   {
    "duration": 11,
    "start_time": "2022-09-19T17:28:49.993Z"
   },
   {
    "duration": 289,
    "start_time": "2022-09-19T17:28:50.006Z"
   },
   {
    "duration": 22,
    "start_time": "2022-09-19T17:28:50.298Z"
   },
   {
    "duration": 13,
    "start_time": "2022-09-19T17:28:50.322Z"
   },
   {
    "duration": 59,
    "start_time": "2022-09-19T17:28:50.337Z"
   },
   {
    "duration": 224,
    "start_time": "2022-09-19T17:28:50.399Z"
   },
   {
    "duration": 14,
    "start_time": "2022-09-19T17:28:50.625Z"
   },
   {
    "duration": 21,
    "start_time": "2022-09-19T17:28:50.640Z"
   },
   {
    "duration": 33,
    "start_time": "2022-09-19T17:28:50.663Z"
   },
   {
    "duration": 20,
    "start_time": "2022-09-19T17:28:50.698Z"
   },
   {
    "duration": 16,
    "start_time": "2022-09-19T17:28:50.720Z"
   },
   {
    "duration": 39,
    "start_time": "2022-09-19T17:28:50.738Z"
   },
   {
    "duration": 34,
    "start_time": "2022-09-19T17:28:50.780Z"
   },
   {
    "duration": 33,
    "start_time": "2022-09-19T17:28:56.211Z"
   },
   {
    "duration": 118,
    "start_time": "2022-09-19T17:29:04.127Z"
   },
   {
    "duration": 4,
    "start_time": "2022-09-19T17:30:14.924Z"
   },
   {
    "duration": 3,
    "start_time": "2022-09-19T17:30:31.471Z"
   },
   {
    "duration": 13,
    "start_time": "2022-09-19T17:30:32.755Z"
   },
   {
    "duration": 14,
    "start_time": "2022-09-19T17:32:52.342Z"
   },
   {
    "duration": 33,
    "start_time": "2022-09-19T17:33:29.634Z"
   },
   {
    "duration": 24,
    "start_time": "2022-09-19T17:33:41.309Z"
   },
   {
    "duration": 36,
    "start_time": "2022-09-19T17:33:50.068Z"
   },
   {
    "duration": 21,
    "start_time": "2022-09-19T17:34:25.253Z"
   },
   {
    "duration": 271,
    "start_time": "2022-09-19T17:34:50.273Z"
   },
   {
    "duration": 18,
    "start_time": "2022-09-19T17:35:41.590Z"
   },
   {
    "duration": 465,
    "start_time": "2022-09-19T17:35:50.377Z"
   },
   {
    "duration": 1270,
    "start_time": "2022-09-19T17:36:46.261Z"
   },
   {
    "duration": 3,
    "start_time": "2022-09-19T17:36:47.533Z"
   },
   {
    "duration": 80,
    "start_time": "2022-09-19T17:36:47.538Z"
   },
   {
    "duration": 20,
    "start_time": "2022-09-19T17:36:47.620Z"
   },
   {
    "duration": 16,
    "start_time": "2022-09-19T17:36:47.642Z"
   },
   {
    "duration": 21,
    "start_time": "2022-09-19T17:36:47.660Z"
   },
   {
    "duration": 12,
    "start_time": "2022-09-19T17:36:47.683Z"
   },
   {
    "duration": 22,
    "start_time": "2022-09-19T17:36:47.698Z"
   },
   {
    "duration": 11,
    "start_time": "2022-09-19T17:36:47.721Z"
   },
   {
    "duration": 11,
    "start_time": "2022-09-19T17:36:47.734Z"
   },
   {
    "duration": 4,
    "start_time": "2022-09-19T17:36:47.747Z"
   },
   {
    "duration": 20,
    "start_time": "2022-09-19T17:36:47.781Z"
   },
   {
    "duration": 4,
    "start_time": "2022-09-19T17:36:47.803Z"
   },
   {
    "duration": 12,
    "start_time": "2022-09-19T17:36:47.808Z"
   },
   {
    "duration": 20,
    "start_time": "2022-09-19T17:36:47.822Z"
   },
   {
    "duration": 32,
    "start_time": "2022-09-19T17:36:47.845Z"
   },
   {
    "duration": 11,
    "start_time": "2022-09-19T17:36:47.878Z"
   },
   {
    "duration": 10,
    "start_time": "2022-09-19T17:36:47.891Z"
   },
   {
    "duration": 8,
    "start_time": "2022-09-19T17:36:47.902Z"
   },
   {
    "duration": 35,
    "start_time": "2022-09-19T17:36:47.912Z"
   },
   {
    "duration": 37,
    "start_time": "2022-09-19T17:36:47.948Z"
   },
   {
    "duration": 19,
    "start_time": "2022-09-19T17:36:47.988Z"
   },
   {
    "duration": 9,
    "start_time": "2022-09-19T17:36:48.008Z"
   },
   {
    "duration": 25,
    "start_time": "2022-09-19T17:36:48.018Z"
   },
   {
    "duration": 13,
    "start_time": "2022-09-19T17:36:48.044Z"
   },
   {
    "duration": 17,
    "start_time": "2022-09-19T17:36:48.082Z"
   },
   {
    "duration": 20,
    "start_time": "2022-09-19T17:36:48.100Z"
   },
   {
    "duration": 12,
    "start_time": "2022-09-19T17:36:48.124Z"
   },
   {
    "duration": 16,
    "start_time": "2022-09-19T17:36:48.138Z"
   },
   {
    "duration": 33,
    "start_time": "2022-09-19T17:36:48.156Z"
   },
   {
    "duration": 29,
    "start_time": "2022-09-19T17:36:48.190Z"
   },
   {
    "duration": 4,
    "start_time": "2022-09-19T17:36:48.221Z"
   },
   {
    "duration": 21,
    "start_time": "2022-09-19T17:36:48.227Z"
   },
   {
    "duration": 59,
    "start_time": "2022-09-19T17:36:48.249Z"
   },
   {
    "duration": 21,
    "start_time": "2022-09-19T17:36:48.310Z"
   },
   {
    "duration": 14,
    "start_time": "2022-09-19T17:36:48.333Z"
   },
   {
    "duration": 33,
    "start_time": "2022-09-19T17:36:48.348Z"
   },
   {
    "duration": 277,
    "start_time": "2022-09-19T17:36:48.383Z"
   },
   {
    "duration": 19,
    "start_time": "2022-09-19T17:36:48.662Z"
   },
   {
    "duration": 24,
    "start_time": "2022-09-19T17:36:48.683Z"
   },
   {
    "duration": 49,
    "start_time": "2022-09-19T17:36:48.708Z"
   },
   {
    "duration": 230,
    "start_time": "2022-09-19T17:36:48.758Z"
   },
   {
    "duration": 14,
    "start_time": "2022-09-19T17:36:48.990Z"
   },
   {
    "duration": 28,
    "start_time": "2022-09-19T17:36:49.006Z"
   },
   {
    "duration": 22,
    "start_time": "2022-09-19T17:36:49.036Z"
   },
   {
    "duration": 34,
    "start_time": "2022-09-19T17:36:49.060Z"
   },
   {
    "duration": 35,
    "start_time": "2022-09-19T17:36:49.096Z"
   },
   {
    "duration": 19,
    "start_time": "2022-09-19T17:36:49.133Z"
   },
   {
    "duration": 35,
    "start_time": "2022-09-19T17:36:49.154Z"
   },
   {
    "duration": 37,
    "start_time": "2022-09-19T17:36:57.604Z"
   },
   {
    "duration": 16,
    "start_time": "2022-09-19T17:37:06.689Z"
   },
   {
    "duration": 5,
    "start_time": "2022-09-19T17:37:15.686Z"
   },
   {
    "duration": 15,
    "start_time": "2022-09-19T17:37:27.270Z"
   },
   {
    "duration": 136,
    "start_time": "2022-09-19T17:37:45.381Z"
   },
   {
    "duration": 1445,
    "start_time": "2022-09-19T17:38:10.087Z"
   },
   {
    "duration": 18,
    "start_time": "2022-09-19T17:38:28.781Z"
   },
   {
    "duration": 1150,
    "start_time": "2022-09-19T17:40:20.752Z"
   },
   {
    "duration": 2,
    "start_time": "2022-09-19T17:40:21.904Z"
   },
   {
    "duration": 73,
    "start_time": "2022-09-19T17:40:21.908Z"
   },
   {
    "duration": 18,
    "start_time": "2022-09-19T17:40:21.982Z"
   },
   {
    "duration": 14,
    "start_time": "2022-09-19T17:40:22.003Z"
   },
   {
    "duration": 9,
    "start_time": "2022-09-19T17:40:22.019Z"
   },
   {
    "duration": 8,
    "start_time": "2022-09-19T17:40:22.029Z"
   },
   {
    "duration": 26,
    "start_time": "2022-09-19T17:40:22.039Z"
   },
   {
    "duration": 9,
    "start_time": "2022-09-19T17:40:22.076Z"
   },
   {
    "duration": 11,
    "start_time": "2022-09-19T17:40:22.087Z"
   },
   {
    "duration": 10,
    "start_time": "2022-09-19T17:40:22.100Z"
   },
   {
    "duration": 19,
    "start_time": "2022-09-19T17:40:22.112Z"
   },
   {
    "duration": 3,
    "start_time": "2022-09-19T17:40:22.133Z"
   },
   {
    "duration": 14,
    "start_time": "2022-09-19T17:40:22.139Z"
   },
   {
    "duration": 36,
    "start_time": "2022-09-19T17:40:22.154Z"
   },
   {
    "duration": 9,
    "start_time": "2022-09-19T17:40:22.191Z"
   },
   {
    "duration": 13,
    "start_time": "2022-09-19T17:40:22.201Z"
   },
   {
    "duration": 7,
    "start_time": "2022-09-19T17:40:22.216Z"
   },
   {
    "duration": 17,
    "start_time": "2022-09-19T17:40:22.224Z"
   },
   {
    "duration": 39,
    "start_time": "2022-09-19T17:40:22.242Z"
   },
   {
    "duration": 10,
    "start_time": "2022-09-19T17:40:22.283Z"
   },
   {
    "duration": 14,
    "start_time": "2022-09-19T17:40:22.295Z"
   },
   {
    "duration": 18,
    "start_time": "2022-09-19T17:40:22.310Z"
   },
   {
    "duration": 40,
    "start_time": "2022-09-19T17:40:22.329Z"
   },
   {
    "duration": 10,
    "start_time": "2022-09-19T17:40:22.371Z"
   },
   {
    "duration": 27,
    "start_time": "2022-09-19T17:40:22.382Z"
   },
   {
    "duration": 16,
    "start_time": "2022-09-19T17:40:22.411Z"
   },
   {
    "duration": 14,
    "start_time": "2022-09-19T17:40:22.428Z"
   },
   {
    "duration": 17,
    "start_time": "2022-09-19T17:40:22.443Z"
   },
   {
    "duration": 26,
    "start_time": "2022-09-19T17:40:22.461Z"
   },
   {
    "duration": 23,
    "start_time": "2022-09-19T17:40:22.489Z"
   },
   {
    "duration": 4,
    "start_time": "2022-09-19T17:40:22.514Z"
   },
   {
    "duration": 38,
    "start_time": "2022-09-19T17:40:22.520Z"
   },
   {
    "duration": 41,
    "start_time": "2022-09-19T17:40:22.560Z"
   },
   {
    "duration": 20,
    "start_time": "2022-09-19T17:40:22.603Z"
   },
   {
    "duration": 13,
    "start_time": "2022-09-19T17:40:22.625Z"
   },
   {
    "duration": 9,
    "start_time": "2022-09-19T17:40:22.639Z"
   },
   {
    "duration": 303,
    "start_time": "2022-09-19T17:40:22.649Z"
   },
   {
    "duration": 18,
    "start_time": "2022-09-19T17:40:22.954Z"
   },
   {
    "duration": 25,
    "start_time": "2022-09-19T17:40:22.973Z"
   },
   {
    "duration": 48,
    "start_time": "2022-09-19T17:40:23.001Z"
   },
   {
    "duration": 200,
    "start_time": "2022-09-19T17:40:23.050Z"
   },
   {
    "duration": 10,
    "start_time": "2022-09-19T17:40:23.252Z"
   },
   {
    "duration": 32,
    "start_time": "2022-09-19T17:40:23.264Z"
   },
   {
    "duration": 13,
    "start_time": "2022-09-19T17:40:23.298Z"
   },
   {
    "duration": 20,
    "start_time": "2022-09-19T17:40:23.312Z"
   },
   {
    "duration": 15,
    "start_time": "2022-09-19T17:40:23.333Z"
   },
   {
    "duration": 18,
    "start_time": "2022-09-19T17:40:23.376Z"
   },
   {
    "duration": 23,
    "start_time": "2022-09-19T17:40:23.395Z"
   },
   {
    "duration": 33,
    "start_time": "2022-09-19T17:40:23.420Z"
   },
   {
    "duration": 22,
    "start_time": "2022-09-19T17:40:23.455Z"
   },
   {
    "duration": 5,
    "start_time": "2022-09-19T17:40:23.479Z"
   },
   {
    "duration": 102,
    "start_time": "2022-09-19T17:40:29.064Z"
   },
   {
    "duration": 28,
    "start_time": "2022-09-19T17:41:44.128Z"
   },
   {
    "duration": 1160,
    "start_time": "2022-09-19T17:46:28.060Z"
   },
   {
    "duration": 2,
    "start_time": "2022-09-19T17:46:29.222Z"
   },
   {
    "duration": 79,
    "start_time": "2022-09-19T17:46:29.225Z"
   },
   {
    "duration": 17,
    "start_time": "2022-09-19T17:46:29.306Z"
   },
   {
    "duration": 15,
    "start_time": "2022-09-19T17:46:29.324Z"
   },
   {
    "duration": 5,
    "start_time": "2022-09-19T17:46:29.341Z"
   },
   {
    "duration": 29,
    "start_time": "2022-09-19T17:46:29.348Z"
   },
   {
    "duration": 17,
    "start_time": "2022-09-19T17:46:29.379Z"
   },
   {
    "duration": 9,
    "start_time": "2022-09-19T17:46:29.398Z"
   },
   {
    "duration": 8,
    "start_time": "2022-09-19T17:46:29.410Z"
   },
   {
    "duration": 6,
    "start_time": "2022-09-19T17:46:29.420Z"
   },
   {
    "duration": 18,
    "start_time": "2022-09-19T17:46:29.427Z"
   },
   {
    "duration": 31,
    "start_time": "2022-09-19T17:46:29.447Z"
   },
   {
    "duration": 6,
    "start_time": "2022-09-19T17:46:29.480Z"
   },
   {
    "duration": 20,
    "start_time": "2022-09-19T17:46:29.487Z"
   },
   {
    "duration": 5,
    "start_time": "2022-09-19T17:46:29.509Z"
   },
   {
    "duration": 9,
    "start_time": "2022-09-19T17:46:29.516Z"
   },
   {
    "duration": 7,
    "start_time": "2022-09-19T17:46:29.527Z"
   },
   {
    "duration": 7,
    "start_time": "2022-09-19T17:46:29.535Z"
   },
   {
    "duration": 61,
    "start_time": "2022-09-19T17:46:29.544Z"
   },
   {
    "duration": 10,
    "start_time": "2022-09-19T17:46:29.606Z"
   },
   {
    "duration": 11,
    "start_time": "2022-09-19T17:46:29.617Z"
   },
   {
    "duration": 7,
    "start_time": "2022-09-19T17:46:29.630Z"
   },
   {
    "duration": 45,
    "start_time": "2022-09-19T17:46:29.639Z"
   },
   {
    "duration": 11,
    "start_time": "2022-09-19T17:46:29.685Z"
   },
   {
    "duration": 11,
    "start_time": "2022-09-19T17:46:29.698Z"
   },
   {
    "duration": 15,
    "start_time": "2022-09-19T17:46:29.710Z"
   },
   {
    "duration": 11,
    "start_time": "2022-09-19T17:46:29.728Z"
   },
   {
    "duration": 46,
    "start_time": "2022-09-19T17:46:29.740Z"
   },
   {
    "duration": 11,
    "start_time": "2022-09-19T17:46:29.788Z"
   },
   {
    "duration": 19,
    "start_time": "2022-09-19T17:46:29.801Z"
   },
   {
    "duration": 4,
    "start_time": "2022-09-19T17:46:29.822Z"
   },
   {
    "duration": 21,
    "start_time": "2022-09-19T17:46:29.827Z"
   },
   {
    "duration": 52,
    "start_time": "2022-09-19T17:46:29.850Z"
   },
   {
    "duration": 18,
    "start_time": "2022-09-19T17:46:29.903Z"
   },
   {
    "duration": 15,
    "start_time": "2022-09-19T17:46:29.922Z"
   },
   {
    "duration": 17,
    "start_time": "2022-09-19T17:46:29.939Z"
   },
   {
    "duration": 283,
    "start_time": "2022-09-19T17:46:29.957Z"
   },
   {
    "duration": 17,
    "start_time": "2022-09-19T17:46:30.243Z"
   },
   {
    "duration": 35,
    "start_time": "2022-09-19T17:46:30.262Z"
   },
   {
    "duration": 52,
    "start_time": "2022-09-19T17:46:30.298Z"
   },
   {
    "duration": 195,
    "start_time": "2022-09-19T17:46:30.352Z"
   },
   {
    "duration": 10,
    "start_time": "2022-09-19T17:46:30.550Z"
   },
   {
    "duration": 55,
    "start_time": "2022-09-19T17:46:30.562Z"
   },
   {
    "duration": 13,
    "start_time": "2022-09-19T17:46:30.619Z"
   },
   {
    "duration": 30,
    "start_time": "2022-09-19T17:46:30.633Z"
   },
   {
    "duration": 14,
    "start_time": "2022-09-19T17:46:30.665Z"
   },
   {
    "duration": 30,
    "start_time": "2022-09-19T17:46:30.681Z"
   },
   {
    "duration": 22,
    "start_time": "2022-09-19T17:46:30.712Z"
   },
   {
    "duration": 42,
    "start_time": "2022-09-19T17:46:30.736Z"
   },
   {
    "duration": 2,
    "start_time": "2022-09-19T17:46:30.780Z"
   },
   {
    "duration": 17,
    "start_time": "2022-09-19T17:46:30.783Z"
   },
   {
    "duration": 21,
    "start_time": "2022-09-19T17:46:30.802Z"
   },
   {
    "duration": 103,
    "start_time": "2022-09-19T17:47:16.098Z"
   },
   {
    "duration": 4,
    "start_time": "2022-09-19T17:47:34.347Z"
   },
   {
    "duration": 16,
    "start_time": "2022-09-19T17:47:43.319Z"
   },
   {
    "duration": 4,
    "start_time": "2022-09-19T17:51:59.332Z"
   },
   {
    "duration": 20,
    "start_time": "2022-09-19T17:52:09.956Z"
   },
   {
    "duration": 18,
    "start_time": "2022-09-19T17:52:38.335Z"
   },
   {
    "duration": 18,
    "start_time": "2022-09-19T17:54:08.374Z"
   },
   {
    "duration": 21,
    "start_time": "2022-09-19T17:56:11.580Z"
   },
   {
    "duration": 19,
    "start_time": "2022-09-19T17:56:30.863Z"
   },
   {
    "duration": 3,
    "start_time": "2022-09-19T17:57:49.471Z"
   },
   {
    "duration": 19,
    "start_time": "2022-09-19T17:57:55.108Z"
   },
   {
    "duration": 21,
    "start_time": "2022-09-19T17:58:13.438Z"
   },
   {
    "duration": 22,
    "start_time": "2022-09-19T17:59:25.850Z"
   },
   {
    "duration": 19,
    "start_time": "2022-09-19T18:00:07.314Z"
   },
   {
    "duration": 24,
    "start_time": "2022-09-19T18:00:27.939Z"
   },
   {
    "duration": 56,
    "start_time": "2022-09-19T18:25:16.660Z"
   },
   {
    "duration": 1155,
    "start_time": "2022-09-19T18:25:19.792Z"
   },
   {
    "duration": 2,
    "start_time": "2022-09-19T18:25:20.949Z"
   },
   {
    "duration": 89,
    "start_time": "2022-09-19T18:25:20.953Z"
   },
   {
    "duration": 16,
    "start_time": "2022-09-19T18:25:21.044Z"
   },
   {
    "duration": 14,
    "start_time": "2022-09-19T18:25:21.062Z"
   },
   {
    "duration": 6,
    "start_time": "2022-09-19T18:25:21.080Z"
   },
   {
    "duration": 9,
    "start_time": "2022-09-19T18:25:21.088Z"
   },
   {
    "duration": 20,
    "start_time": "2022-09-19T18:25:21.098Z"
   },
   {
    "duration": 8,
    "start_time": "2022-09-19T18:25:21.120Z"
   },
   {
    "duration": 8,
    "start_time": "2022-09-19T18:25:21.130Z"
   },
   {
    "duration": 3,
    "start_time": "2022-09-19T18:25:21.140Z"
   },
   {
    "duration": 53,
    "start_time": "2022-09-19T18:25:21.144Z"
   },
   {
    "duration": 5,
    "start_time": "2022-09-19T18:25:21.199Z"
   },
   {
    "duration": 8,
    "start_time": "2022-09-19T18:25:21.205Z"
   },
   {
    "duration": 20,
    "start_time": "2022-09-19T18:25:21.214Z"
   },
   {
    "duration": 6,
    "start_time": "2022-09-19T18:25:21.236Z"
   },
   {
    "duration": 39,
    "start_time": "2022-09-19T18:25:21.243Z"
   },
   {
    "duration": 12,
    "start_time": "2022-09-19T18:25:21.284Z"
   },
   {
    "duration": 7,
    "start_time": "2022-09-19T18:25:21.297Z"
   },
   {
    "duration": 36,
    "start_time": "2022-09-19T18:25:21.305Z"
   },
   {
    "duration": 9,
    "start_time": "2022-09-19T18:25:21.343Z"
   },
   {
    "duration": 36,
    "start_time": "2022-09-19T18:25:21.354Z"
   },
   {
    "duration": 21,
    "start_time": "2022-09-19T18:25:21.392Z"
   },
   {
    "duration": 35,
    "start_time": "2022-09-19T18:25:21.415Z"
   },
   {
    "duration": 12,
    "start_time": "2022-09-19T18:25:21.451Z"
   },
   {
    "duration": 34,
    "start_time": "2022-09-19T18:25:21.464Z"
   },
   {
    "duration": 22,
    "start_time": "2022-09-19T18:25:21.500Z"
   },
   {
    "duration": 24,
    "start_time": "2022-09-19T18:25:21.525Z"
   },
   {
    "duration": 20,
    "start_time": "2022-09-19T18:25:21.551Z"
   },
   {
    "duration": 19,
    "start_time": "2022-09-19T18:25:21.572Z"
   },
   {
    "duration": 24,
    "start_time": "2022-09-19T18:25:21.593Z"
   },
   {
    "duration": 7,
    "start_time": "2022-09-19T18:25:21.619Z"
   },
   {
    "duration": 50,
    "start_time": "2022-09-19T18:25:21.628Z"
   },
   {
    "duration": 43,
    "start_time": "2022-09-19T18:25:21.681Z"
   },
   {
    "duration": 19,
    "start_time": "2022-09-19T18:25:21.725Z"
   },
   {
    "duration": 31,
    "start_time": "2022-09-19T18:25:21.746Z"
   },
   {
    "duration": 12,
    "start_time": "2022-09-19T18:25:21.779Z"
   },
   {
    "duration": 273,
    "start_time": "2022-09-19T18:25:21.794Z"
   },
   {
    "duration": 22,
    "start_time": "2022-09-19T18:25:22.068Z"
   },
   {
    "duration": 25,
    "start_time": "2022-09-19T18:25:22.091Z"
   },
   {
    "duration": 60,
    "start_time": "2022-09-19T18:25:22.118Z"
   },
   {
    "duration": 198,
    "start_time": "2022-09-19T18:25:22.180Z"
   },
   {
    "duration": 16,
    "start_time": "2022-09-19T18:25:22.382Z"
   },
   {
    "duration": 51,
    "start_time": "2022-09-19T18:25:22.400Z"
   },
   {
    "duration": 13,
    "start_time": "2022-09-19T18:25:22.453Z"
   },
   {
    "duration": 41,
    "start_time": "2022-09-19T18:25:22.467Z"
   },
   {
    "duration": 13,
    "start_time": "2022-09-19T18:25:22.510Z"
   },
   {
    "duration": 31,
    "start_time": "2022-09-19T18:25:22.525Z"
   },
   {
    "duration": 51,
    "start_time": "2022-09-19T18:25:22.558Z"
   },
   {
    "duration": 53,
    "start_time": "2022-09-19T18:25:22.610Z"
   },
   {
    "duration": 57,
    "start_time": "2022-09-19T18:25:22.664Z"
   },
   {
    "duration": 2,
    "start_time": "2022-09-19T18:25:22.723Z"
   },
   {
    "duration": 12,
    "start_time": "2022-09-19T18:25:22.727Z"
   },
   {
    "duration": 46,
    "start_time": "2022-09-19T18:26:08.014Z"
   },
   {
    "duration": 55,
    "start_time": "2022-09-19T18:27:00.072Z"
   },
   {
    "duration": 46,
    "start_time": "2022-09-19T18:28:08.494Z"
   },
   {
    "duration": 54,
    "start_time": "2022-09-19T18:28:21.105Z"
   },
   {
    "duration": 56,
    "start_time": "2022-09-19T18:30:06.037Z"
   },
   {
    "duration": 4,
    "start_time": "2022-09-19T18:31:38.909Z"
   },
   {
    "duration": 59,
    "start_time": "2022-09-19T18:31:41.135Z"
   },
   {
    "duration": 5,
    "start_time": "2022-09-19T18:32:54.949Z"
   },
   {
    "duration": 5,
    "start_time": "2022-09-19T18:32:59.889Z"
   },
   {
    "duration": 48,
    "start_time": "2022-09-19T18:33:01.490Z"
   },
   {
    "duration": 1129,
    "start_time": "2022-09-19T18:38:54.909Z"
   },
   {
    "duration": 2,
    "start_time": "2022-09-19T18:38:56.040Z"
   },
   {
    "duration": 79,
    "start_time": "2022-09-19T18:38:56.044Z"
   },
   {
    "duration": 15,
    "start_time": "2022-09-19T18:38:56.126Z"
   },
   {
    "duration": 14,
    "start_time": "2022-09-19T18:38:56.143Z"
   },
   {
    "duration": 20,
    "start_time": "2022-09-19T18:38:56.158Z"
   },
   {
    "duration": 6,
    "start_time": "2022-09-19T18:38:56.180Z"
   },
   {
    "duration": 20,
    "start_time": "2022-09-19T18:38:56.188Z"
   },
   {
    "duration": 9,
    "start_time": "2022-09-19T18:38:56.209Z"
   },
   {
    "duration": 8,
    "start_time": "2022-09-19T18:38:56.220Z"
   },
   {
    "duration": 3,
    "start_time": "2022-09-19T18:38:56.229Z"
   },
   {
    "duration": 48,
    "start_time": "2022-09-19T18:38:56.233Z"
   },
   {
    "duration": 5,
    "start_time": "2022-09-19T18:38:56.284Z"
   },
   {
    "duration": 11,
    "start_time": "2022-09-19T18:38:56.291Z"
   },
   {
    "duration": 19,
    "start_time": "2022-09-19T18:38:56.304Z"
   },
   {
    "duration": 5,
    "start_time": "2022-09-19T18:38:56.324Z"
   },
   {
    "duration": 14,
    "start_time": "2022-09-19T18:38:56.331Z"
   },
   {
    "duration": 7,
    "start_time": "2022-09-19T18:38:56.346Z"
   },
   {
    "duration": 45,
    "start_time": "2022-09-19T18:38:56.354Z"
   },
   {
    "duration": 33,
    "start_time": "2022-09-19T18:38:56.400Z"
   },
   {
    "duration": 9,
    "start_time": "2022-09-19T18:38:56.435Z"
   },
   {
    "duration": 10,
    "start_time": "2022-09-19T18:38:56.446Z"
   },
   {
    "duration": 7,
    "start_time": "2022-09-19T18:38:56.457Z"
   },
   {
    "duration": 29,
    "start_time": "2022-09-19T18:38:56.465Z"
   },
   {
    "duration": 10,
    "start_time": "2022-09-19T18:38:56.496Z"
   },
   {
    "duration": 11,
    "start_time": "2022-09-19T18:38:56.508Z"
   },
   {
    "duration": 17,
    "start_time": "2022-09-19T18:38:56.521Z"
   },
   {
    "duration": 46,
    "start_time": "2022-09-19T18:38:56.541Z"
   },
   {
    "duration": 19,
    "start_time": "2022-09-19T18:38:56.588Z"
   },
   {
    "duration": 12,
    "start_time": "2022-09-19T18:38:56.608Z"
   },
   {
    "duration": 16,
    "start_time": "2022-09-19T18:38:56.622Z"
   },
   {
    "duration": 4,
    "start_time": "2022-09-19T18:38:56.639Z"
   },
   {
    "duration": 22,
    "start_time": "2022-09-19T18:38:56.677Z"
   },
   {
    "duration": 27,
    "start_time": "2022-09-19T18:38:56.701Z"
   },
   {
    "duration": 17,
    "start_time": "2022-09-19T18:38:56.730Z"
   },
   {
    "duration": 38,
    "start_time": "2022-09-19T18:38:56.748Z"
   },
   {
    "duration": 8,
    "start_time": "2022-09-19T18:38:56.788Z"
   },
   {
    "duration": 295,
    "start_time": "2022-09-19T18:38:56.798Z"
   },
   {
    "duration": 18,
    "start_time": "2022-09-19T18:38:57.095Z"
   },
   {
    "duration": 17,
    "start_time": "2022-09-19T18:38:57.115Z"
   },
   {
    "duration": 47,
    "start_time": "2022-09-19T18:38:57.134Z"
   },
   {
    "duration": 199,
    "start_time": "2022-09-19T18:38:57.183Z"
   },
   {
    "duration": 13,
    "start_time": "2022-09-19T18:38:57.384Z"
   },
   {
    "duration": 26,
    "start_time": "2022-09-19T18:38:57.399Z"
   },
   {
    "duration": 13,
    "start_time": "2022-09-19T18:38:57.426Z"
   },
   {
    "duration": 19,
    "start_time": "2022-09-19T18:38:57.440Z"
   },
   {
    "duration": 16,
    "start_time": "2022-09-19T18:38:57.477Z"
   },
   {
    "duration": 18,
    "start_time": "2022-09-19T18:38:57.495Z"
   },
   {
    "duration": 27,
    "start_time": "2022-09-19T18:38:57.514Z"
   },
   {
    "duration": 72,
    "start_time": "2022-09-19T18:38:57.542Z"
   },
   {
    "duration": 5,
    "start_time": "2022-09-19T18:38:57.615Z"
   },
   {
    "duration": 56,
    "start_time": "2022-09-19T18:38:57.621Z"
   },
   {
    "duration": 3,
    "start_time": "2022-09-19T18:38:57.678Z"
   },
   {
    "duration": 11,
    "start_time": "2022-09-19T18:38:57.682Z"
   },
   {
    "duration": 122,
    "start_time": "2022-09-19T18:39:26.421Z"
   },
   {
    "duration": 1145,
    "start_time": "2022-09-19T18:55:16.037Z"
   },
   {
    "duration": 6,
    "start_time": "2022-09-19T18:55:17.185Z"
   },
   {
    "duration": 78,
    "start_time": "2022-09-19T18:55:17.193Z"
   },
   {
    "duration": 27,
    "start_time": "2022-09-19T18:55:17.273Z"
   },
   {
    "duration": 15,
    "start_time": "2022-09-19T18:55:17.304Z"
   },
   {
    "duration": 5,
    "start_time": "2022-09-19T18:55:17.320Z"
   },
   {
    "duration": 5,
    "start_time": "2022-09-19T18:55:17.326Z"
   },
   {
    "duration": 17,
    "start_time": "2022-09-19T18:55:17.332Z"
   },
   {
    "duration": 39,
    "start_time": "2022-09-19T18:55:17.350Z"
   },
   {
    "duration": 13,
    "start_time": "2022-09-19T18:55:17.391Z"
   },
   {
    "duration": 5,
    "start_time": "2022-09-19T18:55:17.405Z"
   },
   {
    "duration": 20,
    "start_time": "2022-09-19T18:55:17.412Z"
   },
   {
    "duration": 5,
    "start_time": "2022-09-19T18:55:17.433Z"
   },
   {
    "duration": 6,
    "start_time": "2022-09-19T18:55:17.440Z"
   },
   {
    "duration": 42,
    "start_time": "2022-09-19T18:55:17.447Z"
   },
   {
    "duration": 9,
    "start_time": "2022-09-19T18:55:17.491Z"
   },
   {
    "duration": 11,
    "start_time": "2022-09-19T18:55:17.501Z"
   },
   {
    "duration": 13,
    "start_time": "2022-09-19T18:55:17.514Z"
   },
   {
    "duration": 5,
    "start_time": "2022-09-19T18:55:17.528Z"
   },
   {
    "duration": 62,
    "start_time": "2022-09-19T18:55:17.535Z"
   },
   {
    "duration": 10,
    "start_time": "2022-09-19T18:55:17.599Z"
   },
   {
    "duration": 12,
    "start_time": "2022-09-19T18:55:17.611Z"
   },
   {
    "duration": 10,
    "start_time": "2022-09-19T18:55:17.625Z"
   },
   {
    "duration": 49,
    "start_time": "2022-09-19T18:55:17.637Z"
   },
   {
    "duration": 15,
    "start_time": "2022-09-19T18:55:17.688Z"
   },
   {
    "duration": 12,
    "start_time": "2022-09-19T18:55:17.705Z"
   },
   {
    "duration": 17,
    "start_time": "2022-09-19T18:55:17.719Z"
   },
   {
    "duration": 44,
    "start_time": "2022-09-19T18:55:17.737Z"
   },
   {
    "duration": 25,
    "start_time": "2022-09-19T18:55:17.783Z"
   },
   {
    "duration": 10,
    "start_time": "2022-09-19T18:55:17.809Z"
   },
   {
    "duration": 15,
    "start_time": "2022-09-19T18:55:17.821Z"
   },
   {
    "duration": 4,
    "start_time": "2022-09-19T18:55:17.838Z"
   },
   {
    "duration": 48,
    "start_time": "2022-09-19T18:55:17.843Z"
   },
   {
    "duration": 32,
    "start_time": "2022-09-19T18:55:17.893Z"
   },
   {
    "duration": 19,
    "start_time": "2022-09-19T18:55:17.927Z"
   },
   {
    "duration": 35,
    "start_time": "2022-09-19T18:55:17.948Z"
   },
   {
    "duration": 8,
    "start_time": "2022-09-19T18:55:17.985Z"
   },
   {
    "duration": 261,
    "start_time": "2022-09-19T18:55:17.995Z"
   },
   {
    "duration": 18,
    "start_time": "2022-09-19T18:55:18.258Z"
   },
   {
    "duration": 21,
    "start_time": "2022-09-19T18:55:18.278Z"
   },
   {
    "duration": 45,
    "start_time": "2022-09-19T18:55:18.302Z"
   },
   {
    "duration": 207,
    "start_time": "2022-09-19T18:55:18.348Z"
   },
   {
    "duration": 3,
    "start_time": "2022-09-19T18:55:18.557Z"
   },
   {
    "duration": 36,
    "start_time": "2022-09-19T18:55:18.561Z"
   },
   {
    "duration": 12,
    "start_time": "2022-09-19T18:55:18.599Z"
   },
   {
    "duration": 18,
    "start_time": "2022-09-19T18:55:18.612Z"
   },
   {
    "duration": 14,
    "start_time": "2022-09-19T18:55:18.632Z"
   },
   {
    "duration": 41,
    "start_time": "2022-09-19T18:55:18.648Z"
   },
   {
    "duration": 33,
    "start_time": "2022-09-19T18:55:18.691Z"
   },
   {
    "duration": 62,
    "start_time": "2022-09-19T18:55:18.725Z"
   },
   {
    "duration": 5,
    "start_time": "2022-09-19T18:55:18.789Z"
   },
   {
    "duration": 40,
    "start_time": "2022-09-19T18:55:18.798Z"
   },
   {
    "duration": 4,
    "start_time": "2022-09-19T18:55:18.840Z"
   },
   {
    "duration": 11,
    "start_time": "2022-09-19T18:55:18.846Z"
   },
   {
    "duration": 25,
    "start_time": "2022-09-19T18:56:41.110Z"
   },
   {
    "duration": 27,
    "start_time": "2022-09-19T18:57:06.679Z"
   },
   {
    "duration": 28,
    "start_time": "2022-09-19T18:57:31.561Z"
   },
   {
    "duration": 1188,
    "start_time": "2022-09-19T18:58:49.324Z"
   },
   {
    "duration": 2,
    "start_time": "2022-09-19T18:58:50.514Z"
   },
   {
    "duration": 78,
    "start_time": "2022-09-19T18:58:50.517Z"
   },
   {
    "duration": 17,
    "start_time": "2022-09-19T18:58:50.598Z"
   },
   {
    "duration": 15,
    "start_time": "2022-09-19T18:58:50.617Z"
   },
   {
    "duration": 5,
    "start_time": "2022-09-19T18:58:50.633Z"
   },
   {
    "duration": 5,
    "start_time": "2022-09-19T18:58:50.639Z"
   },
   {
    "duration": 43,
    "start_time": "2022-09-19T18:58:50.645Z"
   },
   {
    "duration": 11,
    "start_time": "2022-09-19T18:58:50.690Z"
   },
   {
    "duration": 13,
    "start_time": "2022-09-19T18:58:50.703Z"
   },
   {
    "duration": 4,
    "start_time": "2022-09-19T18:58:50.717Z"
   },
   {
    "duration": 23,
    "start_time": "2022-09-19T18:58:50.722Z"
   },
   {
    "duration": 3,
    "start_time": "2022-09-19T18:58:50.747Z"
   },
   {
    "duration": 6,
    "start_time": "2022-09-19T18:58:50.776Z"
   },
   {
    "duration": 26,
    "start_time": "2022-09-19T18:58:50.786Z"
   },
   {
    "duration": 6,
    "start_time": "2022-09-19T18:58:50.813Z"
   },
   {
    "duration": 10,
    "start_time": "2022-09-19T18:58:50.821Z"
   },
   {
    "duration": 8,
    "start_time": "2022-09-19T18:58:50.833Z"
   },
   {
    "duration": 6,
    "start_time": "2022-09-19T18:58:50.842Z"
   },
   {
    "duration": 65,
    "start_time": "2022-09-19T18:58:50.850Z"
   },
   {
    "duration": 11,
    "start_time": "2022-09-19T18:58:50.916Z"
   },
   {
    "duration": 13,
    "start_time": "2022-09-19T18:58:50.929Z"
   },
   {
    "duration": 10,
    "start_time": "2022-09-19T18:58:50.943Z"
   },
   {
    "duration": 41,
    "start_time": "2022-09-19T18:58:50.954Z"
   },
   {
    "duration": 11,
    "start_time": "2022-09-19T18:58:50.997Z"
   },
   {
    "duration": 11,
    "start_time": "2022-09-19T18:58:51.010Z"
   },
   {
    "duration": 15,
    "start_time": "2022-09-19T18:58:51.023Z"
   },
   {
    "duration": 43,
    "start_time": "2022-09-19T18:58:51.040Z"
   },
   {
    "duration": 21,
    "start_time": "2022-09-19T18:58:51.085Z"
   },
   {
    "duration": 11,
    "start_time": "2022-09-19T18:58:51.107Z"
   },
   {
    "duration": 21,
    "start_time": "2022-09-19T18:58:51.119Z"
   },
   {
    "duration": 3,
    "start_time": "2022-09-19T18:58:51.142Z"
   },
   {
    "duration": 37,
    "start_time": "2022-09-19T18:58:51.147Z"
   },
   {
    "duration": 47,
    "start_time": "2022-09-19T18:58:51.186Z"
   },
   {
    "duration": 18,
    "start_time": "2022-09-19T18:58:51.235Z"
   },
   {
    "duration": 23,
    "start_time": "2022-09-19T18:58:51.255Z"
   },
   {
    "duration": 24,
    "start_time": "2022-09-19T18:58:51.280Z"
   },
   {
    "duration": 287,
    "start_time": "2022-09-19T18:58:51.305Z"
   },
   {
    "duration": 18,
    "start_time": "2022-09-19T18:58:51.595Z"
   },
   {
    "duration": 16,
    "start_time": "2022-09-19T18:58:51.615Z"
   },
   {
    "duration": 54,
    "start_time": "2022-09-19T18:58:51.634Z"
   },
   {
    "duration": 198,
    "start_time": "2022-09-19T18:58:51.690Z"
   },
   {
    "duration": 4,
    "start_time": "2022-09-19T18:58:51.890Z"
   },
   {
    "duration": 23,
    "start_time": "2022-09-19T18:58:51.896Z"
   },
   {
    "duration": 11,
    "start_time": "2022-09-19T18:58:51.921Z"
   },
   {
    "duration": 18,
    "start_time": "2022-09-19T18:58:51.934Z"
   },
   {
    "duration": 38,
    "start_time": "2022-09-19T18:58:51.953Z"
   },
   {
    "duration": 19,
    "start_time": "2022-09-19T18:58:51.993Z"
   },
   {
    "duration": 27,
    "start_time": "2022-09-19T18:58:52.014Z"
   },
   {
    "duration": 65,
    "start_time": "2022-09-19T18:58:52.043Z"
   },
   {
    "duration": 5,
    "start_time": "2022-09-19T18:58:52.109Z"
   },
   {
    "duration": 23,
    "start_time": "2022-09-19T18:58:52.116Z"
   },
   {
    "duration": 2,
    "start_time": "2022-09-19T18:58:52.141Z"
   },
   {
    "duration": 9,
    "start_time": "2022-09-19T18:58:52.144Z"
   },
   {
    "duration": 34,
    "start_time": "2022-09-19T19:00:39.273Z"
   },
   {
    "duration": 26,
    "start_time": "2022-09-19T19:00:44.036Z"
   },
   {
    "duration": 28,
    "start_time": "2022-09-19T19:00:48.961Z"
   },
   {
    "duration": 25,
    "start_time": "2022-09-19T19:01:21.122Z"
   },
   {
    "duration": 2879,
    "start_time": "2022-09-19T19:07:23.693Z"
   },
   {
    "duration": 9,
    "start_time": "2022-09-19T19:07:26.574Z"
   },
   {
    "duration": 84,
    "start_time": "2022-09-19T19:07:26.584Z"
   },
   {
    "duration": 21,
    "start_time": "2022-09-19T19:07:26.670Z"
   },
   {
    "duration": 16,
    "start_time": "2022-09-19T19:07:26.693Z"
   },
   {
    "duration": 6,
    "start_time": "2022-09-19T19:07:26.711Z"
   },
   {
    "duration": 14,
    "start_time": "2022-09-19T19:07:26.718Z"
   },
   {
    "duration": 25,
    "start_time": "2022-09-19T19:07:26.733Z"
   },
   {
    "duration": 23,
    "start_time": "2022-09-19T19:07:26.760Z"
   },
   {
    "duration": 12,
    "start_time": "2022-09-19T19:07:26.786Z"
   },
   {
    "duration": 14,
    "start_time": "2022-09-19T19:07:26.800Z"
   },
   {
    "duration": 29,
    "start_time": "2022-09-19T19:07:26.815Z"
   },
   {
    "duration": 3,
    "start_time": "2022-09-19T19:07:26.846Z"
   },
   {
    "duration": 16,
    "start_time": "2022-09-19T19:07:26.851Z"
   },
   {
    "duration": 43,
    "start_time": "2022-09-19T19:07:26.868Z"
   },
   {
    "duration": 8,
    "start_time": "2022-09-19T19:07:26.913Z"
   },
   {
    "duration": 31,
    "start_time": "2022-09-19T19:07:26.923Z"
   },
   {
    "duration": 11,
    "start_time": "2022-09-19T19:07:26.956Z"
   },
   {
    "duration": 7,
    "start_time": "2022-09-19T19:07:26.969Z"
   },
   {
    "duration": 71,
    "start_time": "2022-09-19T19:07:26.978Z"
   },
   {
    "duration": 10,
    "start_time": "2022-09-19T19:07:27.051Z"
   },
   {
    "duration": 24,
    "start_time": "2022-09-19T19:07:27.063Z"
   },
   {
    "duration": 24,
    "start_time": "2022-09-19T19:07:27.089Z"
   },
   {
    "duration": 33,
    "start_time": "2022-09-19T19:07:27.114Z"
   },
   {
    "duration": 11,
    "start_time": "2022-09-19T19:07:27.149Z"
   },
   {
    "duration": 36,
    "start_time": "2022-09-19T19:07:27.162Z"
   },
   {
    "duration": 32,
    "start_time": "2022-09-19T19:07:27.199Z"
   },
   {
    "duration": 17,
    "start_time": "2022-09-19T19:07:27.232Z"
   },
   {
    "duration": 38,
    "start_time": "2022-09-19T19:07:27.250Z"
   },
   {
    "duration": 16,
    "start_time": "2022-09-19T19:07:27.289Z"
   },
   {
    "duration": 24,
    "start_time": "2022-09-19T19:07:27.306Z"
   },
   {
    "duration": 9,
    "start_time": "2022-09-19T19:07:27.331Z"
   },
   {
    "duration": 29,
    "start_time": "2022-09-19T19:07:27.341Z"
   },
   {
    "duration": 44,
    "start_time": "2022-09-19T19:07:27.371Z"
   },
   {
    "duration": 18,
    "start_time": "2022-09-19T19:07:27.416Z"
   },
   {
    "duration": 19,
    "start_time": "2022-09-19T19:07:27.436Z"
   },
   {
    "duration": 16,
    "start_time": "2022-09-19T19:07:27.456Z"
   },
   {
    "duration": 290,
    "start_time": "2022-09-19T19:07:27.474Z"
   },
   {
    "duration": 19,
    "start_time": "2022-09-19T19:07:27.766Z"
   },
   {
    "duration": 39,
    "start_time": "2022-09-19T19:07:27.787Z"
   },
   {
    "duration": 53,
    "start_time": "2022-09-19T19:07:27.830Z"
   },
   {
    "duration": 211,
    "start_time": "2022-09-19T19:07:27.885Z"
   },
   {
    "duration": 3,
    "start_time": "2022-09-19T19:07:28.098Z"
   },
   {
    "duration": 44,
    "start_time": "2022-09-19T19:07:28.103Z"
   },
   {
    "duration": 15,
    "start_time": "2022-09-19T19:07:28.149Z"
   },
   {
    "duration": 29,
    "start_time": "2022-09-19T19:07:28.165Z"
   },
   {
    "duration": 30,
    "start_time": "2022-09-19T19:07:28.196Z"
   },
   {
    "duration": 18,
    "start_time": "2022-09-19T19:07:28.228Z"
   },
   {
    "duration": 36,
    "start_time": "2022-09-19T19:07:28.248Z"
   },
   {
    "duration": 45,
    "start_time": "2022-09-19T19:07:28.286Z"
   },
   {
    "duration": 5,
    "start_time": "2022-09-19T19:07:28.332Z"
   },
   {
    "duration": 44,
    "start_time": "2022-09-19T19:07:28.339Z"
   },
   {
    "duration": 28,
    "start_time": "2022-09-19T19:07:28.385Z"
   },
   {
    "duration": 29,
    "start_time": "2022-09-19T19:07:28.415Z"
   },
   {
    "duration": 9,
    "start_time": "2022-09-19T19:08:39.329Z"
   },
   {
    "duration": 4,
    "start_time": "2022-09-19T19:09:02.093Z"
   },
   {
    "duration": 15,
    "start_time": "2022-09-19T19:09:02.099Z"
   },
   {
    "duration": 89,
    "start_time": "2022-09-19T19:09:02.116Z"
   },
   {
    "duration": 15,
    "start_time": "2022-09-19T19:09:02.207Z"
   },
   {
    "duration": 44,
    "start_time": "2022-09-19T19:09:02.223Z"
   },
   {
    "duration": 13,
    "start_time": "2022-09-19T19:09:02.268Z"
   },
   {
    "duration": 31,
    "start_time": "2022-09-19T19:09:02.282Z"
   },
   {
    "duration": 28,
    "start_time": "2022-09-19T19:09:02.314Z"
   },
   {
    "duration": 9,
    "start_time": "2022-09-19T19:09:02.345Z"
   },
   {
    "duration": 33,
    "start_time": "2022-09-19T19:09:02.356Z"
   },
   {
    "duration": 30,
    "start_time": "2022-09-19T19:09:02.391Z"
   },
   {
    "duration": 38,
    "start_time": "2022-09-19T19:09:02.423Z"
   },
   {
    "duration": 23,
    "start_time": "2022-09-19T19:09:02.463Z"
   },
   {
    "duration": 33,
    "start_time": "2022-09-19T19:09:02.488Z"
   },
   {
    "duration": 44,
    "start_time": "2022-09-19T19:09:02.523Z"
   },
   {
    "duration": 15,
    "start_time": "2022-09-19T19:09:02.569Z"
   },
   {
    "duration": 22,
    "start_time": "2022-09-19T19:09:02.586Z"
   },
   {
    "duration": 61,
    "start_time": "2022-09-19T19:09:02.609Z"
   },
   {
    "duration": 14,
    "start_time": "2022-09-19T19:09:02.672Z"
   },
   {
    "duration": 50,
    "start_time": "2022-09-19T19:09:02.688Z"
   },
   {
    "duration": 9,
    "start_time": "2022-09-19T19:09:02.740Z"
   },
   {
    "duration": 8,
    "start_time": "2022-09-19T19:09:02.751Z"
   },
   {
    "duration": 7,
    "start_time": "2022-09-19T19:09:02.761Z"
   },
   {
    "duration": 22,
    "start_time": "2022-09-19T19:09:02.771Z"
   },
   {
    "duration": 10,
    "start_time": "2022-09-19T19:09:02.795Z"
   },
   {
    "duration": 9,
    "start_time": "2022-09-19T19:09:02.806Z"
   },
   {
    "duration": 15,
    "start_time": "2022-09-19T19:09:02.817Z"
   },
   {
    "duration": 10,
    "start_time": "2022-09-19T19:09:02.834Z"
   },
   {
    "duration": 45,
    "start_time": "2022-09-19T19:09:02.846Z"
   },
   {
    "duration": 12,
    "start_time": "2022-09-19T19:09:02.893Z"
   },
   {
    "duration": 16,
    "start_time": "2022-09-19T19:09:02.907Z"
   },
   {
    "duration": 5,
    "start_time": "2022-09-19T19:09:02.925Z"
   },
   {
    "duration": 46,
    "start_time": "2022-09-19T19:09:02.931Z"
   },
   {
    "duration": 28,
    "start_time": "2022-09-19T19:09:02.980Z"
   },
   {
    "duration": 16,
    "start_time": "2022-09-19T19:09:03.010Z"
   },
   {
    "duration": 14,
    "start_time": "2022-09-19T19:09:03.027Z"
   },
   {
    "duration": 36,
    "start_time": "2022-09-19T19:09:03.042Z"
   },
   {
    "duration": 224,
    "start_time": "2022-09-19T19:09:03.080Z"
   },
   {
    "duration": 18,
    "start_time": "2022-09-19T19:09:03.306Z"
   },
   {
    "duration": 13,
    "start_time": "2022-09-19T19:09:03.325Z"
   },
   {
    "duration": 13,
    "start_time": "2022-09-19T19:09:03.339Z"
   },
   {
    "duration": 194,
    "start_time": "2022-09-19T19:09:03.376Z"
   },
   {
    "duration": 11,
    "start_time": "2022-09-19T19:09:03.576Z"
   },
   {
    "duration": 22,
    "start_time": "2022-09-19T19:09:03.590Z"
   },
   {
    "duration": 12,
    "start_time": "2022-09-19T19:09:03.614Z"
   },
   {
    "duration": 17,
    "start_time": "2022-09-19T19:09:03.627Z"
   },
   {
    "duration": 36,
    "start_time": "2022-09-19T19:09:03.645Z"
   },
   {
    "duration": 17,
    "start_time": "2022-09-19T19:09:03.683Z"
   },
   {
    "duration": 22,
    "start_time": "2022-09-19T19:09:03.702Z"
   },
   {
    "duration": 56,
    "start_time": "2022-09-19T19:09:03.726Z"
   },
   {
    "duration": 5,
    "start_time": "2022-09-19T19:09:03.784Z"
   },
   {
    "duration": 25,
    "start_time": "2022-09-19T19:09:03.791Z"
   },
   {
    "duration": 3,
    "start_time": "2022-09-19T19:09:03.817Z"
   },
   {
    "duration": 6,
    "start_time": "2022-09-19T19:09:03.822Z"
   },
   {
    "duration": 18,
    "start_time": "2022-09-19T19:09:48.395Z"
   },
   {
    "duration": 22,
    "start_time": "2022-09-19T19:09:58.973Z"
   },
   {
    "duration": 28,
    "start_time": "2022-09-19T19:10:48.985Z"
   },
   {
    "duration": 1171,
    "start_time": "2022-09-19T19:11:39.942Z"
   },
   {
    "duration": 2,
    "start_time": "2022-09-19T19:11:41.115Z"
   },
   {
    "duration": 74,
    "start_time": "2022-09-19T19:11:41.118Z"
   },
   {
    "duration": 17,
    "start_time": "2022-09-19T19:11:41.194Z"
   },
   {
    "duration": 13,
    "start_time": "2022-09-19T19:11:41.213Z"
   },
   {
    "duration": 6,
    "start_time": "2022-09-19T19:11:41.227Z"
   },
   {
    "duration": 7,
    "start_time": "2022-09-19T19:11:41.234Z"
   },
   {
    "duration": 35,
    "start_time": "2022-09-19T19:11:41.243Z"
   },
   {
    "duration": 14,
    "start_time": "2022-09-19T19:11:41.281Z"
   },
   {
    "duration": 15,
    "start_time": "2022-09-19T19:11:41.298Z"
   },
   {
    "duration": 3,
    "start_time": "2022-09-19T19:11:41.315Z"
   },
   {
    "duration": 26,
    "start_time": "2022-09-19T19:11:41.320Z"
   },
   {
    "duration": 3,
    "start_time": "2022-09-19T19:11:41.348Z"
   },
   {
    "duration": 26,
    "start_time": "2022-09-19T19:11:41.352Z"
   },
   {
    "duration": 32,
    "start_time": "2022-09-19T19:11:41.380Z"
   },
   {
    "duration": 6,
    "start_time": "2022-09-19T19:11:41.414Z"
   },
   {
    "duration": 12,
    "start_time": "2022-09-19T19:11:41.422Z"
   },
   {
    "duration": 8,
    "start_time": "2022-09-19T19:11:41.435Z"
   },
   {
    "duration": 11,
    "start_time": "2022-09-19T19:11:41.444Z"
   },
   {
    "duration": 53,
    "start_time": "2022-09-19T19:11:41.456Z"
   },
   {
    "duration": 12,
    "start_time": "2022-09-19T19:11:41.510Z"
   },
   {
    "duration": 17,
    "start_time": "2022-09-19T19:11:41.523Z"
   },
   {
    "duration": 9,
    "start_time": "2022-09-19T19:11:41.542Z"
   },
   {
    "duration": 46,
    "start_time": "2022-09-19T19:11:41.552Z"
   },
   {
    "duration": 19,
    "start_time": "2022-09-19T19:11:41.600Z"
   },
   {
    "duration": 11,
    "start_time": "2022-09-19T19:11:41.621Z"
   },
   {
    "duration": 16,
    "start_time": "2022-09-19T19:11:41.634Z"
   },
   {
    "duration": 16,
    "start_time": "2022-09-19T19:11:41.683Z"
   },
   {
    "duration": 17,
    "start_time": "2022-09-19T19:11:41.701Z"
   },
   {
    "duration": 12,
    "start_time": "2022-09-19T19:11:41.721Z"
   },
   {
    "duration": 18,
    "start_time": "2022-09-19T19:11:41.735Z"
   },
   {
    "duration": 28,
    "start_time": "2022-09-19T19:11:41.754Z"
   },
   {
    "duration": 25,
    "start_time": "2022-09-19T19:11:41.784Z"
   },
   {
    "duration": 34,
    "start_time": "2022-09-19T19:11:41.811Z"
   },
   {
    "duration": 33,
    "start_time": "2022-09-19T19:11:41.847Z"
   },
   {
    "duration": 18,
    "start_time": "2022-09-19T19:11:41.881Z"
   },
   {
    "duration": 7,
    "start_time": "2022-09-19T19:11:41.901Z"
   },
   {
    "duration": 319,
    "start_time": "2022-09-19T19:11:41.909Z"
   },
   {
    "duration": 26,
    "start_time": "2022-09-19T19:11:42.231Z"
   },
   {
    "duration": 16,
    "start_time": "2022-09-19T19:11:42.259Z"
   },
   {
    "duration": 50,
    "start_time": "2022-09-19T19:11:42.279Z"
   },
   {
    "duration": 212,
    "start_time": "2022-09-19T19:11:42.331Z"
   },
   {
    "duration": 15,
    "start_time": "2022-09-19T19:11:42.545Z"
   },
   {
    "duration": 28,
    "start_time": "2022-09-19T19:11:42.577Z"
   },
   {
    "duration": 25,
    "start_time": "2022-09-19T19:11:42.607Z"
   },
   {
    "duration": 23,
    "start_time": "2022-09-19T19:11:42.634Z"
   },
   {
    "duration": 32,
    "start_time": "2022-09-19T19:11:42.658Z"
   },
   {
    "duration": 20,
    "start_time": "2022-09-19T19:11:42.693Z"
   },
   {
    "duration": 27,
    "start_time": "2022-09-19T19:11:42.714Z"
   },
   {
    "duration": 79,
    "start_time": "2022-09-19T19:11:42.743Z"
   },
   {
    "duration": 22,
    "start_time": "2022-09-19T19:11:42.824Z"
   },
   {
    "duration": 13,
    "start_time": "2022-09-19T19:11:42.848Z"
   },
   {
    "duration": 6,
    "start_time": "2022-09-19T19:11:42.862Z"
   },
   {
    "duration": 13,
    "start_time": "2022-09-19T19:12:04.851Z"
   },
   {
    "duration": 15,
    "start_time": "2022-09-19T19:13:24.944Z"
   },
   {
    "duration": 61,
    "start_time": "2022-09-19T19:14:13.930Z"
   },
   {
    "duration": 18,
    "start_time": "2022-09-19T19:14:24.947Z"
   },
   {
    "duration": 16,
    "start_time": "2022-09-19T19:17:04.922Z"
   },
   {
    "duration": 21,
    "start_time": "2022-09-19T19:18:56.383Z"
   },
   {
    "duration": 22,
    "start_time": "2022-09-19T19:21:04.065Z"
   },
   {
    "duration": 31,
    "start_time": "2022-09-19T19:22:49.075Z"
   },
   {
    "duration": 16,
    "start_time": "2022-09-19T19:24:56.492Z"
   },
   {
    "duration": 16,
    "start_time": "2022-09-19T19:25:15.302Z"
   },
   {
    "duration": 1130,
    "start_time": "2022-09-19T19:25:43.663Z"
   },
   {
    "duration": 4,
    "start_time": "2022-09-19T19:25:44.795Z"
   },
   {
    "duration": 71,
    "start_time": "2022-09-19T19:25:44.800Z"
   },
   {
    "duration": 18,
    "start_time": "2022-09-19T19:25:44.873Z"
   },
   {
    "duration": 15,
    "start_time": "2022-09-19T19:25:44.893Z"
   },
   {
    "duration": 7,
    "start_time": "2022-09-19T19:25:44.909Z"
   },
   {
    "duration": 4,
    "start_time": "2022-09-19T19:25:44.917Z"
   },
   {
    "duration": 17,
    "start_time": "2022-09-19T19:25:44.923Z"
   },
   {
    "duration": 9,
    "start_time": "2022-09-19T19:25:44.941Z"
   },
   {
    "duration": 11,
    "start_time": "2022-09-19T19:25:44.979Z"
   },
   {
    "duration": 10,
    "start_time": "2022-09-19T19:25:44.993Z"
   },
   {
    "duration": 22,
    "start_time": "2022-09-19T19:25:45.005Z"
   },
   {
    "duration": 4,
    "start_time": "2022-09-19T19:25:45.028Z"
   },
   {
    "duration": 15,
    "start_time": "2022-09-19T19:25:45.033Z"
   },
   {
    "duration": 36,
    "start_time": "2022-09-19T19:25:45.049Z"
   },
   {
    "duration": 8,
    "start_time": "2022-09-19T19:25:45.086Z"
   },
   {
    "duration": 18,
    "start_time": "2022-09-19T19:25:45.095Z"
   },
   {
    "duration": 6,
    "start_time": "2022-09-19T19:25:45.114Z"
   },
   {
    "duration": 7,
    "start_time": "2022-09-19T19:25:45.122Z"
   },
   {
    "duration": 54,
    "start_time": "2022-09-19T19:25:45.131Z"
   },
   {
    "duration": 13,
    "start_time": "2022-09-19T19:25:45.187Z"
   },
   {
    "duration": 9,
    "start_time": "2022-09-19T19:25:45.202Z"
   },
   {
    "duration": 9,
    "start_time": "2022-09-19T19:25:45.213Z"
   },
   {
    "duration": 27,
    "start_time": "2022-09-19T19:25:45.223Z"
   },
   {
    "duration": 19,
    "start_time": "2022-09-19T19:25:45.278Z"
   },
   {
    "duration": 25,
    "start_time": "2022-09-19T19:25:45.299Z"
   },
   {
    "duration": 22,
    "start_time": "2022-09-19T19:25:45.326Z"
   },
   {
    "duration": 34,
    "start_time": "2022-09-19T19:25:45.352Z"
   },
   {
    "duration": 29,
    "start_time": "2022-09-19T19:25:45.389Z"
   },
   {
    "duration": 15,
    "start_time": "2022-09-19T19:25:45.420Z"
   },
   {
    "duration": 19,
    "start_time": "2022-09-19T19:25:45.437Z"
   },
   {
    "duration": 24,
    "start_time": "2022-09-19T19:25:45.458Z"
   },
   {
    "duration": 46,
    "start_time": "2022-09-19T19:25:45.484Z"
   },
   {
    "duration": 29,
    "start_time": "2022-09-19T19:25:45.532Z"
   },
   {
    "duration": 25,
    "start_time": "2022-09-19T19:25:45.563Z"
   },
   {
    "duration": 17,
    "start_time": "2022-09-19T19:25:45.590Z"
   },
   {
    "duration": 7,
    "start_time": "2022-09-19T19:25:45.609Z"
   },
   {
    "duration": 311,
    "start_time": "2022-09-19T19:25:45.617Z"
   },
   {
    "duration": 18,
    "start_time": "2022-09-19T19:25:45.930Z"
   },
   {
    "duration": 18,
    "start_time": "2022-09-19T19:25:45.950Z"
   },
   {
    "duration": 52,
    "start_time": "2022-09-19T19:25:45.970Z"
   },
   {
    "duration": 211,
    "start_time": "2022-09-19T19:25:46.024Z"
   },
   {
    "duration": 11,
    "start_time": "2022-09-19T19:25:46.236Z"
   },
   {
    "duration": 36,
    "start_time": "2022-09-19T19:25:46.248Z"
   },
   {
    "duration": 18,
    "start_time": "2022-09-19T19:25:46.286Z"
   },
   {
    "duration": 19,
    "start_time": "2022-09-19T19:25:46.306Z"
   },
   {
    "duration": 14,
    "start_time": "2022-09-19T19:25:46.327Z"
   },
   {
    "duration": 39,
    "start_time": "2022-09-19T19:25:46.343Z"
   },
   {
    "duration": 26,
    "start_time": "2022-09-19T19:25:46.384Z"
   },
   {
    "duration": 39,
    "start_time": "2022-09-19T19:25:46.412Z"
   },
   {
    "duration": 44,
    "start_time": "2022-09-19T19:25:46.452Z"
   },
   {
    "duration": 11,
    "start_time": "2022-09-19T19:25:46.498Z"
   },
   {
    "duration": 14,
    "start_time": "2022-09-19T19:25:46.510Z"
   },
   {
    "duration": 2,
    "start_time": "2022-09-19T19:25:46.526Z"
   },
   {
    "duration": 5,
    "start_time": "2022-09-19T19:25:46.530Z"
   },
   {
    "duration": 17,
    "start_time": "2022-09-19T19:25:53.756Z"
   },
   {
    "duration": 12,
    "start_time": "2022-09-19T19:27:18.991Z"
   },
   {
    "duration": 5,
    "start_time": "2022-09-19T19:27:46.576Z"
   },
   {
    "duration": 1178,
    "start_time": "2022-09-19T19:27:57.458Z"
   },
   {
    "duration": 3,
    "start_time": "2022-09-19T19:27:58.638Z"
   },
   {
    "duration": 82,
    "start_time": "2022-09-19T19:27:58.642Z"
   },
   {
    "duration": 16,
    "start_time": "2022-09-19T19:27:58.726Z"
   },
   {
    "duration": 13,
    "start_time": "2022-09-19T19:27:58.744Z"
   },
   {
    "duration": 23,
    "start_time": "2022-09-19T19:27:58.758Z"
   },
   {
    "duration": 16,
    "start_time": "2022-09-19T19:27:58.785Z"
   },
   {
    "duration": 17,
    "start_time": "2022-09-19T19:27:58.803Z"
   },
   {
    "duration": 8,
    "start_time": "2022-09-19T19:27:58.821Z"
   },
   {
    "duration": 8,
    "start_time": "2022-09-19T19:27:58.831Z"
   },
   {
    "duration": 3,
    "start_time": "2022-09-19T19:27:58.840Z"
   },
   {
    "duration": 16,
    "start_time": "2022-09-19T19:27:58.844Z"
   },
   {
    "duration": 4,
    "start_time": "2022-09-19T19:27:58.880Z"
   },
   {
    "duration": 15,
    "start_time": "2022-09-19T19:27:58.887Z"
   },
   {
    "duration": 20,
    "start_time": "2022-09-19T19:27:58.903Z"
   },
   {
    "duration": 6,
    "start_time": "2022-09-19T19:27:58.925Z"
   },
   {
    "duration": 12,
    "start_time": "2022-09-19T19:27:58.933Z"
   },
   {
    "duration": 6,
    "start_time": "2022-09-19T19:27:58.946Z"
   },
   {
    "duration": 24,
    "start_time": "2022-09-19T19:27:58.954Z"
   },
   {
    "duration": 52,
    "start_time": "2022-09-19T19:27:58.981Z"
   },
   {
    "duration": 11,
    "start_time": "2022-09-19T19:27:59.034Z"
   },
   {
    "duration": 11,
    "start_time": "2022-09-19T19:27:59.047Z"
   },
   {
    "duration": 6,
    "start_time": "2022-09-19T19:27:59.080Z"
   },
   {
    "duration": 28,
    "start_time": "2022-09-19T19:27:59.088Z"
   },
   {
    "duration": 13,
    "start_time": "2022-09-19T19:27:59.118Z"
   },
   {
    "duration": 15,
    "start_time": "2022-09-19T19:27:59.132Z"
   },
   {
    "duration": 49,
    "start_time": "2022-09-19T19:27:59.148Z"
   },
   {
    "duration": 22,
    "start_time": "2022-09-19T19:27:59.200Z"
   },
   {
    "duration": 30,
    "start_time": "2022-09-19T19:27:59.224Z"
   },
   {
    "duration": 26,
    "start_time": "2022-09-19T19:27:59.256Z"
   },
   {
    "duration": 26,
    "start_time": "2022-09-19T19:27:59.284Z"
   },
   {
    "duration": 5,
    "start_time": "2022-09-19T19:27:59.312Z"
   },
   {
    "duration": 21,
    "start_time": "2022-09-19T19:27:59.319Z"
   },
   {
    "duration": 67,
    "start_time": "2022-09-19T19:27:59.342Z"
   },
   {
    "duration": 20,
    "start_time": "2022-09-19T19:27:59.412Z"
   },
   {
    "duration": 14,
    "start_time": "2022-09-19T19:27:59.434Z"
   },
   {
    "duration": 34,
    "start_time": "2022-09-19T19:27:59.449Z"
   },
   {
    "duration": 291,
    "start_time": "2022-09-19T19:27:59.485Z"
   },
   {
    "duration": 22,
    "start_time": "2022-09-19T19:27:59.779Z"
   },
   {
    "duration": 14,
    "start_time": "2022-09-19T19:27:59.803Z"
   },
   {
    "duration": 68,
    "start_time": "2022-09-19T19:27:59.821Z"
   },
   {
    "duration": 196,
    "start_time": "2022-09-19T19:27:59.891Z"
   },
   {
    "duration": 17,
    "start_time": "2022-09-19T19:28:00.089Z"
   },
   {
    "duration": 29,
    "start_time": "2022-09-19T19:28:00.108Z"
   },
   {
    "duration": 12,
    "start_time": "2022-09-19T19:28:00.139Z"
   },
   {
    "duration": 51,
    "start_time": "2022-09-19T19:28:00.153Z"
   },
   {
    "duration": 15,
    "start_time": "2022-09-19T19:28:00.205Z"
   },
   {
    "duration": 33,
    "start_time": "2022-09-19T19:28:00.222Z"
   },
   {
    "duration": 50,
    "start_time": "2022-09-19T19:28:00.257Z"
   },
   {
    "duration": 61,
    "start_time": "2022-09-19T19:28:00.308Z"
   },
   {
    "duration": 29,
    "start_time": "2022-09-19T19:28:00.371Z"
   },
   {
    "duration": 33,
    "start_time": "2022-09-19T19:28:00.401Z"
   },
   {
    "duration": 30,
    "start_time": "2022-09-19T19:28:00.436Z"
   },
   {
    "duration": 46,
    "start_time": "2022-09-19T19:28:00.468Z"
   },
   {
    "duration": 18,
    "start_time": "2022-09-19T19:28:00.516Z"
   },
   {
    "duration": 9,
    "start_time": "2022-09-19T19:28:00.536Z"
   },
   {
    "duration": 5,
    "start_time": "2022-09-19T19:30:31.826Z"
   },
   {
    "duration": 14,
    "start_time": "2022-09-19T19:30:34.505Z"
   },
   {
    "duration": 15,
    "start_time": "2022-09-19T19:31:05.061Z"
   },
   {
    "duration": 24,
    "start_time": "2022-09-19T19:31:27.759Z"
   },
   {
    "duration": 17,
    "start_time": "2022-09-19T19:32:36.150Z"
   },
   {
    "duration": 1077,
    "start_time": "2022-09-19T19:33:17.802Z"
   },
   {
    "duration": 3,
    "start_time": "2022-09-19T19:33:18.881Z"
   },
   {
    "duration": 70,
    "start_time": "2022-09-19T19:33:18.885Z"
   },
   {
    "duration": 16,
    "start_time": "2022-09-19T19:33:18.958Z"
   },
   {
    "duration": 13,
    "start_time": "2022-09-19T19:33:18.976Z"
   },
   {
    "duration": 5,
    "start_time": "2022-09-19T19:33:18.990Z"
   },
   {
    "duration": 8,
    "start_time": "2022-09-19T19:33:18.996Z"
   },
   {
    "duration": 25,
    "start_time": "2022-09-19T19:33:19.005Z"
   },
   {
    "duration": 8,
    "start_time": "2022-09-19T19:33:19.032Z"
   },
   {
    "duration": 9,
    "start_time": "2022-09-19T19:33:19.042Z"
   },
   {
    "duration": 26,
    "start_time": "2022-09-19T19:33:19.052Z"
   },
   {
    "duration": 17,
    "start_time": "2022-09-19T19:33:19.079Z"
   },
   {
    "duration": 2,
    "start_time": "2022-09-19T19:33:19.098Z"
   },
   {
    "duration": 14,
    "start_time": "2022-09-19T19:33:19.102Z"
   },
   {
    "duration": 19,
    "start_time": "2022-09-19T19:33:19.117Z"
   },
   {
    "duration": 6,
    "start_time": "2022-09-19T19:33:19.137Z"
   },
   {
    "duration": 12,
    "start_time": "2022-09-19T19:33:19.144Z"
   },
   {
    "duration": 20,
    "start_time": "2022-09-19T19:33:19.157Z"
   },
   {
    "duration": 6,
    "start_time": "2022-09-19T19:33:19.178Z"
   },
   {
    "duration": 32,
    "start_time": "2022-09-19T19:33:19.185Z"
   },
   {
    "duration": 9,
    "start_time": "2022-09-19T19:33:19.219Z"
   },
   {
    "duration": 10,
    "start_time": "2022-09-19T19:33:19.230Z"
   },
   {
    "duration": 9,
    "start_time": "2022-09-19T19:33:19.241Z"
   },
   {
    "duration": 46,
    "start_time": "2022-09-19T19:33:19.251Z"
   },
   {
    "duration": 11,
    "start_time": "2022-09-19T19:33:19.298Z"
   },
   {
    "duration": 15,
    "start_time": "2022-09-19T19:33:19.311Z"
   },
   {
    "duration": 16,
    "start_time": "2022-09-19T19:33:19.327Z"
   },
   {
    "duration": 32,
    "start_time": "2022-09-19T19:33:19.346Z"
   },
   {
    "duration": 16,
    "start_time": "2022-09-19T19:33:19.379Z"
   },
   {
    "duration": 12,
    "start_time": "2022-09-19T19:33:19.396Z"
   },
   {
    "duration": 17,
    "start_time": "2022-09-19T19:33:19.410Z"
   },
   {
    "duration": 4,
    "start_time": "2022-09-19T19:33:19.428Z"
   },
   {
    "duration": 48,
    "start_time": "2022-09-19T19:33:19.433Z"
   },
   {
    "duration": 27,
    "start_time": "2022-09-19T19:33:19.482Z"
   },
   {
    "duration": 16,
    "start_time": "2022-09-19T19:33:19.511Z"
   },
   {
    "duration": 12,
    "start_time": "2022-09-19T19:33:19.529Z"
   },
   {
    "duration": 8,
    "start_time": "2022-09-19T19:33:19.543Z"
   },
   {
    "duration": 244,
    "start_time": "2022-09-19T19:33:19.576Z"
   },
   {
    "duration": 18,
    "start_time": "2022-09-19T19:33:19.822Z"
   },
   {
    "duration": 12,
    "start_time": "2022-09-19T19:33:19.841Z"
   },
   {
    "duration": 43,
    "start_time": "2022-09-19T19:33:19.855Z"
   },
   {
    "duration": 194,
    "start_time": "2022-09-19T19:33:19.900Z"
   },
   {
    "duration": 10,
    "start_time": "2022-09-19T19:33:20.096Z"
   },
   {
    "duration": 21,
    "start_time": "2022-09-19T19:33:20.108Z"
   },
   {
    "duration": 12,
    "start_time": "2022-09-19T19:33:20.131Z"
   },
   {
    "duration": 38,
    "start_time": "2022-09-19T19:33:20.144Z"
   },
   {
    "duration": 14,
    "start_time": "2022-09-19T19:33:20.184Z"
   },
   {
    "duration": 16,
    "start_time": "2022-09-19T19:33:20.200Z"
   },
   {
    "duration": 22,
    "start_time": "2022-09-19T19:33:20.217Z"
   },
   {
    "duration": 50,
    "start_time": "2022-09-19T19:33:20.241Z"
   },
   {
    "duration": 12,
    "start_time": "2022-09-19T19:33:20.293Z"
   },
   {
    "duration": 7,
    "start_time": "2022-09-19T19:33:20.307Z"
   },
   {
    "duration": 8,
    "start_time": "2022-09-19T19:33:20.316Z"
   },
   {
    "duration": 18,
    "start_time": "2022-09-19T19:33:20.325Z"
   },
   {
    "duration": 4,
    "start_time": "2022-09-19T19:33:20.345Z"
   },
   {
    "duration": 5,
    "start_time": "2022-09-19T19:33:20.351Z"
   },
   {
    "duration": 27,
    "start_time": "2022-09-19T19:35:37.007Z"
   },
   {
    "duration": 1146,
    "start_time": "2022-09-19T19:36:05.810Z"
   },
   {
    "duration": 3,
    "start_time": "2022-09-19T19:36:06.958Z"
   },
   {
    "duration": 77,
    "start_time": "2022-09-19T19:36:06.962Z"
   },
   {
    "duration": 16,
    "start_time": "2022-09-19T19:36:07.041Z"
   },
   {
    "duration": 20,
    "start_time": "2022-09-19T19:36:07.059Z"
   },
   {
    "duration": 9,
    "start_time": "2022-09-19T19:36:07.081Z"
   },
   {
    "duration": 14,
    "start_time": "2022-09-19T19:36:07.092Z"
   },
   {
    "duration": 28,
    "start_time": "2022-09-19T19:36:07.108Z"
   },
   {
    "duration": 10,
    "start_time": "2022-09-19T19:36:07.138Z"
   },
   {
    "duration": 9,
    "start_time": "2022-09-19T19:36:07.151Z"
   },
   {
    "duration": 3,
    "start_time": "2022-09-19T19:36:07.161Z"
   },
   {
    "duration": 29,
    "start_time": "2022-09-19T19:36:07.165Z"
   },
   {
    "duration": 6,
    "start_time": "2022-09-19T19:36:07.195Z"
   },
   {
    "duration": 8,
    "start_time": "2022-09-19T19:36:07.202Z"
   },
   {
    "duration": 29,
    "start_time": "2022-09-19T19:36:07.212Z"
   },
   {
    "duration": 8,
    "start_time": "2022-09-19T19:36:07.243Z"
   },
   {
    "duration": 20,
    "start_time": "2022-09-19T19:36:07.252Z"
   },
   {
    "duration": 16,
    "start_time": "2022-09-19T19:36:07.274Z"
   },
   {
    "duration": 8,
    "start_time": "2022-09-19T19:36:07.292Z"
   },
   {
    "duration": 39,
    "start_time": "2022-09-19T19:36:07.301Z"
   },
   {
    "duration": 10,
    "start_time": "2022-09-19T19:36:07.341Z"
   },
   {
    "duration": 32,
    "start_time": "2022-09-19T19:36:07.352Z"
   },
   {
    "duration": 14,
    "start_time": "2022-09-19T19:36:07.385Z"
   },
   {
    "duration": 35,
    "start_time": "2022-09-19T19:36:07.400Z"
   },
   {
    "duration": 22,
    "start_time": "2022-09-19T19:36:07.436Z"
   },
   {
    "duration": 25,
    "start_time": "2022-09-19T19:36:07.460Z"
   },
   {
    "duration": 36,
    "start_time": "2022-09-19T19:36:07.486Z"
   },
   {
    "duration": 11,
    "start_time": "2022-09-19T19:36:07.526Z"
   },
   {
    "duration": 22,
    "start_time": "2022-09-19T19:36:07.538Z"
   },
   {
    "duration": 11,
    "start_time": "2022-09-19T19:36:07.562Z"
   },
   {
    "duration": 18,
    "start_time": "2022-09-19T19:36:07.574Z"
   },
   {
    "duration": 8,
    "start_time": "2022-09-19T19:36:07.594Z"
   },
   {
    "duration": 24,
    "start_time": "2022-09-19T19:36:07.603Z"
   },
   {
    "duration": 35,
    "start_time": "2022-09-19T19:36:07.629Z"
   },
   {
    "duration": 30,
    "start_time": "2022-09-19T19:36:07.665Z"
   },
   {
    "duration": 16,
    "start_time": "2022-09-19T19:36:07.696Z"
   },
   {
    "duration": 12,
    "start_time": "2022-09-19T19:36:07.713Z"
   },
   {
    "duration": 355,
    "start_time": "2022-09-19T19:36:07.726Z"
   },
   {
    "duration": 18,
    "start_time": "2022-09-19T19:36:08.083Z"
   },
   {
    "duration": 17,
    "start_time": "2022-09-19T19:36:08.103Z"
   },
   {
    "duration": 60,
    "start_time": "2022-09-19T19:36:08.122Z"
   },
   {
    "duration": 201,
    "start_time": "2022-09-19T19:36:08.184Z"
   },
   {
    "duration": 13,
    "start_time": "2022-09-19T19:36:08.387Z"
   },
   {
    "duration": 39,
    "start_time": "2022-09-19T19:36:08.402Z"
   },
   {
    "duration": 16,
    "start_time": "2022-09-19T19:36:08.443Z"
   },
   {
    "duration": 32,
    "start_time": "2022-09-19T19:36:08.460Z"
   },
   {
    "duration": 19,
    "start_time": "2022-09-19T19:36:08.494Z"
   },
   {
    "duration": 18,
    "start_time": "2022-09-19T19:36:08.515Z"
   },
   {
    "duration": 58,
    "start_time": "2022-09-19T19:36:08.535Z"
   },
   {
    "duration": 39,
    "start_time": "2022-09-19T19:36:17.757Z"
   },
   {
    "duration": 12,
    "start_time": "2022-09-19T19:39:22.322Z"
   },
   {
    "duration": 1171,
    "start_time": "2022-09-19T19:39:34.458Z"
   },
   {
    "duration": 3,
    "start_time": "2022-09-19T19:39:35.631Z"
   },
   {
    "duration": 70,
    "start_time": "2022-09-19T19:39:35.635Z"
   },
   {
    "duration": 16,
    "start_time": "2022-09-19T19:39:35.707Z"
   },
   {
    "duration": 13,
    "start_time": "2022-09-19T19:39:35.725Z"
   },
   {
    "duration": 4,
    "start_time": "2022-09-19T19:39:35.740Z"
   },
   {
    "duration": 4,
    "start_time": "2022-09-19T19:39:35.746Z"
   },
   {
    "duration": 34,
    "start_time": "2022-09-19T19:39:35.752Z"
   },
   {
    "duration": 9,
    "start_time": "2022-09-19T19:39:35.788Z"
   },
   {
    "duration": 8,
    "start_time": "2022-09-19T19:39:35.799Z"
   },
   {
    "duration": 3,
    "start_time": "2022-09-19T19:39:35.809Z"
   },
   {
    "duration": 17,
    "start_time": "2022-09-19T19:39:35.813Z"
   },
   {
    "duration": 3,
    "start_time": "2022-09-19T19:39:35.831Z"
   },
   {
    "duration": 41,
    "start_time": "2022-09-19T19:39:35.837Z"
   },
   {
    "duration": 19,
    "start_time": "2022-09-19T19:39:35.880Z"
   },
   {
    "duration": 5,
    "start_time": "2022-09-19T19:39:35.901Z"
   },
   {
    "duration": 12,
    "start_time": "2022-09-19T19:39:35.908Z"
   },
   {
    "duration": 8,
    "start_time": "2022-09-19T19:39:35.921Z"
   },
   {
    "duration": 7,
    "start_time": "2022-09-19T19:39:35.930Z"
   },
   {
    "duration": 58,
    "start_time": "2022-09-19T19:39:35.938Z"
   },
   {
    "duration": 9,
    "start_time": "2022-09-19T19:39:35.998Z"
   },
   {
    "duration": 10,
    "start_time": "2022-09-19T19:39:36.008Z"
   },
   {
    "duration": 7,
    "start_time": "2022-09-19T19:39:36.020Z"
   },
   {
    "duration": 19,
    "start_time": "2022-09-19T19:39:36.029Z"
   },
   {
    "duration": 35,
    "start_time": "2022-09-19T19:39:36.050Z"
   },
   {
    "duration": 10,
    "start_time": "2022-09-19T19:39:36.087Z"
   },
   {
    "duration": 15,
    "start_time": "2022-09-19T19:39:36.098Z"
   },
   {
    "duration": 10,
    "start_time": "2022-09-19T19:39:36.114Z"
   },
   {
    "duration": 18,
    "start_time": "2022-09-19T19:39:36.126Z"
   },
   {
    "duration": 39,
    "start_time": "2022-09-19T19:39:36.145Z"
   },
   {
    "duration": 15,
    "start_time": "2022-09-19T19:39:36.186Z"
   },
   {
    "duration": 4,
    "start_time": "2022-09-19T19:39:36.202Z"
   },
   {
    "duration": 18,
    "start_time": "2022-09-19T19:39:36.208Z"
   },
   {
    "duration": 50,
    "start_time": "2022-09-19T19:39:36.227Z"
   },
   {
    "duration": 18,
    "start_time": "2022-09-19T19:39:36.279Z"
   },
   {
    "duration": 14,
    "start_time": "2022-09-19T19:39:36.299Z"
   },
   {
    "duration": 6,
    "start_time": "2022-09-19T19:39:36.315Z"
   },
   {
    "duration": 258,
    "start_time": "2022-09-19T19:39:36.322Z"
   },
   {
    "duration": 17,
    "start_time": "2022-09-19T19:39:36.582Z"
   },
   {
    "duration": 16,
    "start_time": "2022-09-19T19:39:36.600Z"
   },
   {
    "duration": 44,
    "start_time": "2022-09-19T19:39:36.620Z"
   },
   {
    "duration": 182,
    "start_time": "2022-09-19T19:39:36.677Z"
   },
   {
    "duration": 19,
    "start_time": "2022-09-19T19:39:36.860Z"
   },
   {
    "duration": 19,
    "start_time": "2022-09-19T19:39:36.881Z"
   },
   {
    "duration": 13,
    "start_time": "2022-09-19T19:39:36.902Z"
   },
   {
    "duration": 21,
    "start_time": "2022-09-19T19:39:36.917Z"
   },
   {
    "duration": 42,
    "start_time": "2022-09-19T19:39:36.939Z"
   },
   {
    "duration": 19,
    "start_time": "2022-09-19T19:39:36.982Z"
   },
   {
    "duration": 26,
    "start_time": "2022-09-19T19:39:37.002Z"
   },
   {
    "duration": 55,
    "start_time": "2022-09-19T19:39:37.029Z"
   },
   {
    "duration": 13,
    "start_time": "2022-09-19T19:39:37.087Z"
   },
   {
    "duration": 11,
    "start_time": "2022-09-19T19:39:37.101Z"
   },
   {
    "duration": 7,
    "start_time": "2022-09-19T19:39:37.113Z"
   },
   {
    "duration": 16,
    "start_time": "2022-09-19T19:39:37.121Z"
   },
   {
    "duration": 4,
    "start_time": "2022-09-19T19:39:37.138Z"
   },
   {
    "duration": 5,
    "start_time": "2022-09-19T19:39:37.144Z"
   },
   {
    "duration": 9,
    "start_time": "2022-09-19T19:45:56.190Z"
   },
   {
    "duration": 11,
    "start_time": "2022-09-19T19:58:47.096Z"
   },
   {
    "duration": 6,
    "start_time": "2022-09-19T20:16:03.019Z"
   },
   {
    "duration": 23,
    "start_time": "2022-09-19T20:25:05.327Z"
   },
   {
    "duration": 17,
    "start_time": "2022-09-19T20:27:25.355Z"
   },
   {
    "duration": 20,
    "start_time": "2022-09-19T20:29:01.142Z"
   },
   {
    "duration": 29,
    "start_time": "2022-09-19T20:32:37.544Z"
   },
   {
    "duration": 5,
    "start_time": "2022-09-19T20:42:21.412Z"
   },
   {
    "duration": 14,
    "start_time": "2022-09-19T20:42:43.023Z"
   },
   {
    "duration": 8,
    "start_time": "2022-09-19T20:43:19.561Z"
   },
   {
    "duration": 1106,
    "start_time": "2022-09-19T20:43:44.905Z"
   },
   {
    "duration": 4,
    "start_time": "2022-09-19T20:43:46.013Z"
   },
   {
    "duration": 76,
    "start_time": "2022-09-19T20:43:46.018Z"
   },
   {
    "duration": 18,
    "start_time": "2022-09-19T20:43:46.097Z"
   },
   {
    "duration": 15,
    "start_time": "2022-09-19T20:43:46.116Z"
   },
   {
    "duration": 6,
    "start_time": "2022-09-19T20:43:46.132Z"
   },
   {
    "duration": 5,
    "start_time": "2022-09-19T20:43:46.139Z"
   },
   {
    "duration": 42,
    "start_time": "2022-09-19T20:43:46.146Z"
   },
   {
    "duration": 10,
    "start_time": "2022-09-19T20:43:46.190Z"
   },
   {
    "duration": 9,
    "start_time": "2022-09-19T20:43:46.203Z"
   },
   {
    "duration": 4,
    "start_time": "2022-09-19T20:43:46.213Z"
   },
   {
    "duration": 21,
    "start_time": "2022-09-19T20:43:46.218Z"
   },
   {
    "duration": 37,
    "start_time": "2022-09-19T20:43:46.241Z"
   },
   {
    "duration": 10,
    "start_time": "2022-09-19T20:43:46.280Z"
   },
   {
    "duration": 21,
    "start_time": "2022-09-19T20:43:46.292Z"
   },
   {
    "duration": 6,
    "start_time": "2022-09-19T20:43:46.314Z"
   },
   {
    "duration": 13,
    "start_time": "2022-09-19T20:43:46.322Z"
   },
   {
    "duration": 8,
    "start_time": "2022-09-19T20:43:46.336Z"
   },
   {
    "duration": 32,
    "start_time": "2022-09-19T20:43:46.346Z"
   },
   {
    "duration": 33,
    "start_time": "2022-09-19T20:43:46.380Z"
   },
   {
    "duration": 11,
    "start_time": "2022-09-19T20:43:46.415Z"
   },
   {
    "duration": 11,
    "start_time": "2022-09-19T20:43:46.427Z"
   },
   {
    "duration": 8,
    "start_time": "2022-09-19T20:43:46.440Z"
   },
   {
    "duration": 43,
    "start_time": "2022-09-19T20:43:46.449Z"
   },
   {
    "duration": 11,
    "start_time": "2022-09-19T20:43:46.493Z"
   },
   {
    "duration": 13,
    "start_time": "2022-09-19T20:43:46.506Z"
   },
   {
    "duration": 15,
    "start_time": "2022-09-19T20:43:46.521Z"
   },
   {
    "duration": 41,
    "start_time": "2022-09-19T20:43:46.540Z"
   },
   {
    "duration": 19,
    "start_time": "2022-09-19T20:43:46.582Z"
   },
   {
    "duration": 12,
    "start_time": "2022-09-19T20:43:46.602Z"
   },
   {
    "duration": 17,
    "start_time": "2022-09-19T20:43:46.616Z"
   },
   {
    "duration": 4,
    "start_time": "2022-09-19T20:43:46.635Z"
   },
   {
    "duration": 47,
    "start_time": "2022-09-19T20:43:46.640Z"
   },
   {
    "duration": 30,
    "start_time": "2022-09-19T20:43:46.689Z"
   },
   {
    "duration": 19,
    "start_time": "2022-09-19T20:43:46.720Z"
   },
   {
    "duration": 39,
    "start_time": "2022-09-19T20:43:46.741Z"
   },
   {
    "duration": 8,
    "start_time": "2022-09-19T20:43:46.782Z"
   },
   {
    "duration": 293,
    "start_time": "2022-09-19T20:43:46.791Z"
   },
   {
    "duration": 19,
    "start_time": "2022-09-19T20:43:47.086Z"
   },
   {
    "duration": 20,
    "start_time": "2022-09-19T20:43:47.106Z"
   },
   {
    "duration": 54,
    "start_time": "2022-09-19T20:43:47.127Z"
   },
   {
    "duration": 212,
    "start_time": "2022-09-19T20:43:47.182Z"
   },
   {
    "duration": 11,
    "start_time": "2022-09-19T20:43:47.396Z"
   },
   {
    "duration": 7,
    "start_time": "2022-09-19T20:43:47.408Z"
   },
   {
    "duration": 22,
    "start_time": "2022-09-19T20:43:47.417Z"
   },
   {
    "duration": 36,
    "start_time": "2022-09-19T20:43:47.441Z"
   },
   {
    "duration": 22,
    "start_time": "2022-09-19T20:43:47.478Z"
   },
   {
    "duration": 15,
    "start_time": "2022-09-19T20:43:47.501Z"
   },
   {
    "duration": 19,
    "start_time": "2022-09-19T20:43:47.518Z"
   },
   {
    "duration": 65,
    "start_time": "2022-09-19T20:43:47.538Z"
   },
   {
    "duration": 12,
    "start_time": "2022-09-19T20:43:47.604Z"
   },
   {
    "duration": 9,
    "start_time": "2022-09-19T20:43:47.618Z"
   },
   {
    "duration": 9,
    "start_time": "2022-09-19T20:43:47.628Z"
   },
   {
    "duration": 16,
    "start_time": "2022-09-19T20:43:47.639Z"
   },
   {
    "duration": 50,
    "start_time": "2022-09-19T20:43:47.657Z"
   },
   {
    "duration": 33,
    "start_time": "2022-09-19T20:45:34.339Z"
   },
   {
    "duration": 12,
    "start_time": "2022-09-19T20:55:10.152Z"
   },
   {
    "duration": 7,
    "start_time": "2022-09-19T21:00:37.040Z"
   },
   {
    "duration": 5,
    "start_time": "2022-09-19T21:03:52.942Z"
   },
   {
    "duration": 6,
    "start_time": "2022-09-19T21:04:28.904Z"
   },
   {
    "duration": 32,
    "start_time": "2022-09-19T21:08:45.496Z"
   },
   {
    "duration": 183,
    "start_time": "2022-09-19T21:31:39.637Z"
   },
   {
    "duration": 198,
    "start_time": "2022-09-19T21:33:52.183Z"
   },
   {
    "duration": 204,
    "start_time": "2022-09-19T21:38:19.813Z"
   },
   {
    "duration": 1413,
    "start_time": "2022-09-20T07:21:00.262Z"
   },
   {
    "duration": 3,
    "start_time": "2022-09-20T07:21:01.677Z"
   },
   {
    "duration": 731,
    "start_time": "2022-09-20T07:21:01.682Z"
   },
   {
    "duration": 20,
    "start_time": "2022-09-20T07:21:02.416Z"
   },
   {
    "duration": 19,
    "start_time": "2022-09-20T07:21:02.439Z"
   },
   {
    "duration": 10,
    "start_time": "2022-09-20T07:21:02.459Z"
   },
   {
    "duration": 9,
    "start_time": "2022-09-20T07:21:02.471Z"
   },
   {
    "duration": 32,
    "start_time": "2022-09-20T07:21:02.482Z"
   },
   {
    "duration": 10,
    "start_time": "2022-09-20T07:21:02.516Z"
   },
   {
    "duration": 9,
    "start_time": "2022-09-20T07:21:02.528Z"
   },
   {
    "duration": 5,
    "start_time": "2022-09-20T07:21:02.539Z"
   },
   {
    "duration": 22,
    "start_time": "2022-09-20T07:21:02.546Z"
   },
   {
    "duration": 32,
    "start_time": "2022-09-20T07:21:02.570Z"
   },
   {
    "duration": 22,
    "start_time": "2022-09-20T07:21:02.606Z"
   },
   {
    "duration": 25,
    "start_time": "2022-09-20T07:21:02.630Z"
   },
   {
    "duration": 7,
    "start_time": "2022-09-20T07:21:02.656Z"
   },
   {
    "duration": 23,
    "start_time": "2022-09-20T07:21:02.665Z"
   },
   {
    "duration": 14,
    "start_time": "2022-09-20T07:21:02.690Z"
   },
   {
    "duration": 31,
    "start_time": "2022-09-20T07:21:02.707Z"
   },
   {
    "duration": 50,
    "start_time": "2022-09-20T07:21:02.740Z"
   },
   {
    "duration": 25,
    "start_time": "2022-09-20T07:21:02.792Z"
   },
   {
    "duration": 40,
    "start_time": "2022-09-20T07:21:02.820Z"
   },
   {
    "duration": 24,
    "start_time": "2022-09-20T07:21:02.862Z"
   },
   {
    "duration": 45,
    "start_time": "2022-09-20T07:21:02.888Z"
   },
   {
    "duration": 12,
    "start_time": "2022-09-20T07:21:02.935Z"
   },
   {
    "duration": 15,
    "start_time": "2022-09-20T07:21:02.948Z"
   },
   {
    "duration": 38,
    "start_time": "2022-09-20T07:21:02.965Z"
   },
   {
    "duration": 17,
    "start_time": "2022-09-20T07:21:03.004Z"
   },
   {
    "duration": 37,
    "start_time": "2022-09-20T07:21:03.023Z"
   },
   {
    "duration": 30,
    "start_time": "2022-09-20T07:21:03.062Z"
   },
   {
    "duration": 28,
    "start_time": "2022-09-20T07:21:03.093Z"
   },
   {
    "duration": 37,
    "start_time": "2022-09-20T07:21:03.124Z"
   },
   {
    "duration": 33,
    "start_time": "2022-09-20T07:21:03.164Z"
   },
   {
    "duration": 36,
    "start_time": "2022-09-20T07:21:03.199Z"
   },
   {
    "duration": 31,
    "start_time": "2022-09-20T07:21:03.236Z"
   },
   {
    "duration": 41,
    "start_time": "2022-09-20T07:21:03.268Z"
   },
   {
    "duration": 10,
    "start_time": "2022-09-20T07:21:03.312Z"
   },
   {
    "duration": 345,
    "start_time": "2022-09-20T07:21:03.324Z"
   },
   {
    "duration": 28,
    "start_time": "2022-09-20T07:21:03.672Z"
   },
   {
    "duration": 20,
    "start_time": "2022-09-20T07:21:03.701Z"
   },
   {
    "duration": 71,
    "start_time": "2022-09-20T07:21:03.725Z"
   },
   {
    "duration": 223,
    "start_time": "2022-09-20T07:21:03.798Z"
   },
   {
    "duration": 12,
    "start_time": "2022-09-20T07:21:04.023Z"
   },
   {
    "duration": 6,
    "start_time": "2022-09-20T07:21:04.037Z"
   },
   {
    "duration": 22,
    "start_time": "2022-09-20T07:21:04.044Z"
   },
   {
    "duration": 40,
    "start_time": "2022-09-20T07:21:04.068Z"
   },
   {
    "duration": 21,
    "start_time": "2022-09-20T07:21:04.110Z"
   },
   {
    "duration": 16,
    "start_time": "2022-09-20T07:21:04.133Z"
   },
   {
    "duration": 49,
    "start_time": "2022-09-20T07:21:04.150Z"
   },
   {
    "duration": 39,
    "start_time": "2022-09-20T07:21:07.283Z"
   },
   {
    "duration": 108,
    "start_time": "2022-09-20T07:22:24.757Z"
   },
   {
    "duration": 12,
    "start_time": "2022-09-20T07:22:55.944Z"
   },
   {
    "duration": 6,
    "start_time": "2022-09-20T07:23:10.872Z"
   },
   {
    "duration": 17,
    "start_time": "2022-09-20T07:23:12.006Z"
   },
   {
    "duration": 13,
    "start_time": "2022-09-20T07:23:23.087Z"
   },
   {
    "duration": 33,
    "start_time": "2022-09-20T07:28:26.060Z"
   },
   {
    "duration": 202,
    "start_time": "2022-09-20T07:29:52.019Z"
   },
   {
    "duration": 92,
    "start_time": "2022-09-20T07:40:01.484Z"
   },
   {
    "duration": 4493,
    "start_time": "2022-09-20T07:40:05.649Z"
   },
   {
    "duration": 4893,
    "start_time": "2022-09-20T07:40:35.245Z"
   },
   {
    "duration": 14,
    "start_time": "2022-09-20T07:42:03.746Z"
   },
   {
    "duration": 9,
    "start_time": "2022-09-20T07:42:08.554Z"
   },
   {
    "duration": 1680,
    "start_time": "2022-09-20T07:44:42.058Z"
   },
   {
    "duration": 18,
    "start_time": "2022-09-20T07:45:50.165Z"
   },
   {
    "duration": 9,
    "start_time": "2022-09-20T08:26:28.386Z"
   },
   {
    "duration": 10,
    "start_time": "2022-09-20T08:26:39.242Z"
   },
   {
    "duration": 21,
    "start_time": "2022-09-20T08:26:43.636Z"
   },
   {
    "duration": 14,
    "start_time": "2022-09-20T08:27:03.375Z"
   },
   {
    "duration": 16,
    "start_time": "2022-09-20T08:27:11.435Z"
   },
   {
    "duration": 134,
    "start_time": "2022-09-20T08:28:26.455Z"
   },
   {
    "duration": 11,
    "start_time": "2022-09-20T08:28:31.437Z"
   },
   {
    "duration": 12,
    "start_time": "2022-09-20T08:33:40.818Z"
   },
   {
    "duration": 37,
    "start_time": "2022-09-20T08:37:46.188Z"
   },
   {
    "duration": 42,
    "start_time": "2022-09-20T08:37:55.476Z"
   },
   {
    "duration": 1401,
    "start_time": "2022-09-20T08:39:22.685Z"
   },
   {
    "duration": 8,
    "start_time": "2022-09-20T08:39:24.089Z"
   },
   {
    "duration": 114,
    "start_time": "2022-09-20T08:39:24.103Z"
   },
   {
    "duration": 26,
    "start_time": "2022-09-20T08:39:24.223Z"
   },
   {
    "duration": 17,
    "start_time": "2022-09-20T08:39:24.252Z"
   },
   {
    "duration": 5,
    "start_time": "2022-09-20T08:39:24.271Z"
   },
   {
    "duration": 18,
    "start_time": "2022-09-20T08:39:24.278Z"
   },
   {
    "duration": 26,
    "start_time": "2022-09-20T08:39:24.307Z"
   },
   {
    "duration": 22,
    "start_time": "2022-09-20T08:39:24.335Z"
   },
   {
    "duration": 16,
    "start_time": "2022-09-20T08:39:24.360Z"
   },
   {
    "duration": 4,
    "start_time": "2022-09-20T08:39:24.378Z"
   },
   {
    "duration": 34,
    "start_time": "2022-09-20T08:39:24.385Z"
   },
   {
    "duration": 18,
    "start_time": "2022-09-20T08:39:24.425Z"
   },
   {
    "duration": 9,
    "start_time": "2022-09-20T08:39:24.449Z"
   },
   {
    "duration": 27,
    "start_time": "2022-09-20T08:39:24.460Z"
   },
   {
    "duration": 30,
    "start_time": "2022-09-20T08:39:24.490Z"
   },
   {
    "duration": 40,
    "start_time": "2022-09-20T08:39:24.522Z"
   },
   {
    "duration": 7,
    "start_time": "2022-09-20T08:39:24.564Z"
   },
   {
    "duration": 8,
    "start_time": "2022-09-20T08:39:24.573Z"
   },
   {
    "duration": 63,
    "start_time": "2022-09-20T08:39:24.583Z"
   },
   {
    "duration": 14,
    "start_time": "2022-09-20T08:39:24.649Z"
   },
   {
    "duration": 12,
    "start_time": "2022-09-20T08:39:24.665Z"
   },
   {
    "duration": 25,
    "start_time": "2022-09-20T08:39:24.679Z"
   },
   {
    "duration": 41,
    "start_time": "2022-09-20T08:39:24.706Z"
   },
   {
    "duration": 12,
    "start_time": "2022-09-20T08:39:24.750Z"
   },
   {
    "duration": 19,
    "start_time": "2022-09-20T08:39:24.765Z"
   },
   {
    "duration": 28,
    "start_time": "2022-09-20T08:39:24.794Z"
   },
   {
    "duration": 51,
    "start_time": "2022-09-20T08:39:24.824Z"
   },
   {
    "duration": 38,
    "start_time": "2022-09-20T08:39:24.877Z"
   },
   {
    "duration": 41,
    "start_time": "2022-09-20T08:39:24.917Z"
   },
   {
    "duration": 18,
    "start_time": "2022-09-20T08:39:24.959Z"
   },
   {
    "duration": 6,
    "start_time": "2022-09-20T08:39:24.979Z"
   },
   {
    "duration": 43,
    "start_time": "2022-09-20T08:39:24.988Z"
   },
   {
    "duration": 80,
    "start_time": "2022-09-20T08:39:25.033Z"
   },
   {
    "duration": 40,
    "start_time": "2022-09-20T08:39:25.118Z"
   },
   {
    "duration": 17,
    "start_time": "2022-09-20T08:39:25.160Z"
   },
   {
    "duration": 60,
    "start_time": "2022-09-20T08:39:25.181Z"
   },
   {
    "duration": 301,
    "start_time": "2022-09-20T08:39:25.243Z"
   },
   {
    "duration": 25,
    "start_time": "2022-09-20T08:39:25.547Z"
   },
   {
    "duration": 24,
    "start_time": "2022-09-20T08:39:25.575Z"
   },
   {
    "duration": 64,
    "start_time": "2022-09-20T08:39:25.603Z"
   },
   {
    "duration": 286,
    "start_time": "2022-09-20T08:39:25.669Z"
   },
   {
    "duration": 12,
    "start_time": "2022-09-20T08:39:25.957Z"
   },
   {
    "duration": 11,
    "start_time": "2022-09-20T08:39:25.971Z"
   },
   {
    "duration": 36,
    "start_time": "2022-09-20T08:39:26.003Z"
   },
   {
    "duration": 20,
    "start_time": "2022-09-20T08:39:26.041Z"
   },
   {
    "duration": 34,
    "start_time": "2022-09-20T08:39:26.063Z"
   },
   {
    "duration": 18,
    "start_time": "2022-09-20T08:39:26.098Z"
   },
   {
    "duration": 41,
    "start_time": "2022-09-20T08:39:26.117Z"
   },
   {
    "duration": 41,
    "start_time": "2022-09-20T08:39:26.160Z"
   },
   {
    "duration": 19,
    "start_time": "2022-09-20T08:39:26.204Z"
   },
   {
    "duration": 6,
    "start_time": "2022-09-20T08:39:32.245Z"
   },
   {
    "duration": 16,
    "start_time": "2022-09-20T08:39:33.620Z"
   },
   {
    "duration": 41,
    "start_time": "2022-09-20T08:40:04.587Z"
   },
   {
    "duration": 34,
    "start_time": "2022-09-20T08:42:03.841Z"
   },
   {
    "duration": 36,
    "start_time": "2022-09-20T08:46:12.383Z"
   },
   {
    "duration": 31,
    "start_time": "2022-09-20T08:48:55.730Z"
   },
   {
    "duration": 31,
    "start_time": "2022-09-20T08:49:32.007Z"
   },
   {
    "duration": 38,
    "start_time": "2022-09-20T08:50:04.576Z"
   },
   {
    "duration": 42,
    "start_time": "2022-09-20T08:53:27.882Z"
   },
   {
    "duration": 17,
    "start_time": "2022-09-20T08:55:41.222Z"
   },
   {
    "duration": 6,
    "start_time": "2022-09-20T08:55:50.734Z"
   },
   {
    "duration": 29,
    "start_time": "2022-09-20T08:56:12.123Z"
   },
   {
    "duration": 21,
    "start_time": "2022-09-20T08:56:54.692Z"
   },
   {
    "duration": 1304,
    "start_time": "2022-09-20T08:57:06.978Z"
   },
   {
    "duration": 3,
    "start_time": "2022-09-20T08:57:08.284Z"
   },
   {
    "duration": 80,
    "start_time": "2022-09-20T08:57:08.303Z"
   },
   {
    "duration": 29,
    "start_time": "2022-09-20T08:57:08.385Z"
   },
   {
    "duration": 19,
    "start_time": "2022-09-20T08:57:08.416Z"
   },
   {
    "duration": 6,
    "start_time": "2022-09-20T08:57:08.437Z"
   },
   {
    "duration": 6,
    "start_time": "2022-09-20T08:57:08.445Z"
   },
   {
    "duration": 22,
    "start_time": "2022-09-20T08:57:08.453Z"
   },
   {
    "duration": 32,
    "start_time": "2022-09-20T08:57:08.476Z"
   },
   {
    "duration": 15,
    "start_time": "2022-09-20T08:57:08.515Z"
   },
   {
    "duration": 4,
    "start_time": "2022-09-20T08:57:08.532Z"
   },
   {
    "duration": 22,
    "start_time": "2022-09-20T08:57:08.538Z"
   },
   {
    "duration": 4,
    "start_time": "2022-09-20T08:57:08.562Z"
   },
   {
    "duration": 44,
    "start_time": "2022-09-20T08:57:08.568Z"
   },
   {
    "duration": 38,
    "start_time": "2022-09-20T08:57:08.614Z"
   },
   {
    "duration": 7,
    "start_time": "2022-09-20T08:57:08.654Z"
   },
   {
    "duration": 16,
    "start_time": "2022-09-20T08:57:08.663Z"
   },
   {
    "duration": 10,
    "start_time": "2022-09-20T08:57:08.681Z"
   },
   {
    "duration": 32,
    "start_time": "2022-09-20T08:57:08.696Z"
   },
   {
    "duration": 41,
    "start_time": "2022-09-20T08:57:08.729Z"
   },
   {
    "duration": 11,
    "start_time": "2022-09-20T08:57:08.772Z"
   },
   {
    "duration": 26,
    "start_time": "2022-09-20T08:57:08.785Z"
   },
   {
    "duration": 47,
    "start_time": "2022-09-20T08:57:08.813Z"
   },
   {
    "duration": 47,
    "start_time": "2022-09-20T08:57:08.862Z"
   },
   {
    "duration": 22,
    "start_time": "2022-09-20T08:57:08.918Z"
   },
   {
    "duration": 17,
    "start_time": "2022-09-20T08:57:08.942Z"
   },
   {
    "duration": 20,
    "start_time": "2022-09-20T08:57:08.961Z"
   },
   {
    "duration": 22,
    "start_time": "2022-09-20T08:57:08.987Z"
   },
   {
    "duration": 36,
    "start_time": "2022-09-20T08:57:09.011Z"
   },
   {
    "duration": 16,
    "start_time": "2022-09-20T08:57:09.049Z"
   },
   {
    "duration": 54,
    "start_time": "2022-09-20T08:57:09.067Z"
   },
   {
    "duration": 5,
    "start_time": "2022-09-20T08:57:09.123Z"
   },
   {
    "duration": 25,
    "start_time": "2022-09-20T08:57:09.130Z"
   },
   {
    "duration": 57,
    "start_time": "2022-09-20T08:57:09.157Z"
   },
   {
    "duration": 31,
    "start_time": "2022-09-20T08:57:09.216Z"
   },
   {
    "duration": 22,
    "start_time": "2022-09-20T08:57:09.250Z"
   },
   {
    "duration": 28,
    "start_time": "2022-09-20T08:57:09.274Z"
   },
   {
    "duration": 389,
    "start_time": "2022-09-20T08:57:09.304Z"
   },
   {
    "duration": 33,
    "start_time": "2022-09-20T08:57:09.695Z"
   },
   {
    "duration": 25,
    "start_time": "2022-09-20T08:57:09.730Z"
   },
   {
    "duration": 109,
    "start_time": "2022-09-20T08:57:09.757Z"
   },
   {
    "duration": 262,
    "start_time": "2022-09-20T08:57:09.869Z"
   },
   {
    "duration": 13,
    "start_time": "2022-09-20T08:57:10.133Z"
   },
   {
    "duration": 8,
    "start_time": "2022-09-20T08:57:10.148Z"
   },
   {
    "duration": 52,
    "start_time": "2022-09-20T08:57:10.158Z"
   },
   {
    "duration": 21,
    "start_time": "2022-09-20T08:57:10.212Z"
   },
   {
    "duration": 36,
    "start_time": "2022-09-20T08:57:10.236Z"
   },
   {
    "duration": 35,
    "start_time": "2022-09-20T08:57:10.275Z"
   },
   {
    "duration": 35,
    "start_time": "2022-09-20T08:57:10.312Z"
   },
   {
    "duration": 38,
    "start_time": "2022-09-20T08:57:10.349Z"
   },
   {
    "duration": 22,
    "start_time": "2022-09-20T08:57:10.397Z"
   },
   {
    "duration": 10,
    "start_time": "2022-09-20T08:57:10.421Z"
   },
   {
    "duration": 20,
    "start_time": "2022-09-20T08:57:10.432Z"
   },
   {
    "duration": 63,
    "start_time": "2022-09-20T08:57:10.454Z"
   },
   {
    "duration": 252,
    "start_time": "2022-09-20T08:57:10.519Z"
   },
   {
    "duration": 7,
    "start_time": "2022-09-20T08:57:10.773Z"
   },
   {
    "duration": 60,
    "start_time": "2022-09-20T08:57:10.782Z"
   },
   {
    "duration": 19,
    "start_time": "2022-09-20T08:57:10.845Z"
   },
   {
    "duration": 7,
    "start_time": "2022-09-20T08:57:10.865Z"
   },
   {
    "duration": 66,
    "start_time": "2022-09-20T08:57:10.874Z"
   },
   {
    "duration": 34,
    "start_time": "2022-09-20T09:04:24.355Z"
   },
   {
    "duration": 40,
    "start_time": "2022-09-20T09:04:32.580Z"
   },
   {
    "duration": 49,
    "start_time": "2022-09-20T09:04:50.649Z"
   },
   {
    "duration": 188,
    "start_time": "2022-09-20T10:00:52.255Z"
   },
   {
    "duration": 192,
    "start_time": "2022-09-20T10:07:51.136Z"
   },
   {
    "duration": 174,
    "start_time": "2022-09-20T10:08:00.224Z"
   },
   {
    "duration": 141,
    "start_time": "2022-09-20T10:08:45.882Z"
   },
   {
    "duration": 209,
    "start_time": "2022-09-20T10:10:45.634Z"
   },
   {
    "duration": 305,
    "start_time": "2022-09-20T10:13:36.086Z"
   },
   {
    "duration": 15,
    "start_time": "2022-09-20T10:14:33.873Z"
   },
   {
    "duration": 12,
    "start_time": "2022-09-20T10:16:23.691Z"
   },
   {
    "duration": 8,
    "start_time": "2022-09-20T10:17:20.925Z"
   },
   {
    "duration": 231,
    "start_time": "2022-09-20T10:17:53.388Z"
   },
   {
    "duration": 12,
    "start_time": "2022-09-20T10:24:02.718Z"
   },
   {
    "duration": 12,
    "start_time": "2022-09-20T10:24:10.823Z"
   },
   {
    "duration": 326,
    "start_time": "2022-09-20T10:26:55.849Z"
   },
   {
    "duration": 233,
    "start_time": "2022-09-20T10:27:09.531Z"
   },
   {
    "duration": 250,
    "start_time": "2022-09-20T10:30:30.585Z"
   },
   {
    "duration": 21,
    "start_time": "2022-09-20T10:38:22.061Z"
   },
   {
    "duration": 18,
    "start_time": "2022-09-20T10:39:45.116Z"
   },
   {
    "duration": 1255,
    "start_time": "2022-09-20T10:40:07.319Z"
   },
   {
    "duration": 3,
    "start_time": "2022-09-20T10:40:08.576Z"
   },
   {
    "duration": 97,
    "start_time": "2022-09-20T10:40:08.580Z"
   },
   {
    "duration": 24,
    "start_time": "2022-09-20T10:40:08.679Z"
   },
   {
    "duration": 18,
    "start_time": "2022-09-20T10:40:08.706Z"
   },
   {
    "duration": 5,
    "start_time": "2022-09-20T10:40:08.726Z"
   },
   {
    "duration": 6,
    "start_time": "2022-09-20T10:40:08.732Z"
   },
   {
    "duration": 17,
    "start_time": "2022-09-20T10:40:08.739Z"
   },
   {
    "duration": 9,
    "start_time": "2022-09-20T10:40:08.758Z"
   },
   {
    "duration": 48,
    "start_time": "2022-09-20T10:40:08.768Z"
   },
   {
    "duration": 13,
    "start_time": "2022-09-20T10:40:08.818Z"
   },
   {
    "duration": 24,
    "start_time": "2022-09-20T10:40:08.832Z"
   },
   {
    "duration": 4,
    "start_time": "2022-09-20T10:40:08.858Z"
   },
   {
    "duration": 11,
    "start_time": "2022-09-20T10:40:08.865Z"
   },
   {
    "duration": 20,
    "start_time": "2022-09-20T10:40:08.878Z"
   },
   {
    "duration": 20,
    "start_time": "2022-09-20T10:40:08.899Z"
   },
   {
    "duration": 23,
    "start_time": "2022-09-20T10:40:08.920Z"
   },
   {
    "duration": 8,
    "start_time": "2022-09-20T10:40:08.945Z"
   },
   {
    "duration": 10,
    "start_time": "2022-09-20T10:40:08.955Z"
   },
   {
    "duration": 38,
    "start_time": "2022-09-20T10:40:08.967Z"
   },
   {
    "duration": 13,
    "start_time": "2022-09-20T10:40:09.006Z"
   },
   {
    "duration": 15,
    "start_time": "2022-09-20T10:40:09.021Z"
   },
   {
    "duration": 11,
    "start_time": "2022-09-20T10:40:09.038Z"
   },
   {
    "duration": 23,
    "start_time": "2022-09-20T10:40:09.051Z"
   },
   {
    "duration": 13,
    "start_time": "2022-09-20T10:40:09.095Z"
   },
   {
    "duration": 27,
    "start_time": "2022-09-20T10:40:09.110Z"
   },
   {
    "duration": 16,
    "start_time": "2022-09-20T10:40:09.139Z"
   },
   {
    "duration": 15,
    "start_time": "2022-09-20T10:40:09.157Z"
   },
   {
    "duration": 36,
    "start_time": "2022-09-20T10:40:09.173Z"
   },
   {
    "duration": 16,
    "start_time": "2022-09-20T10:40:09.210Z"
   },
   {
    "duration": 17,
    "start_time": "2022-09-20T10:40:09.228Z"
   },
   {
    "duration": 5,
    "start_time": "2022-09-20T10:40:09.247Z"
   },
   {
    "duration": 42,
    "start_time": "2022-09-20T10:40:09.254Z"
   },
   {
    "duration": 39,
    "start_time": "2022-09-20T10:40:09.298Z"
   },
   {
    "duration": 18,
    "start_time": "2022-09-20T10:40:09.339Z"
   },
   {
    "duration": 15,
    "start_time": "2022-09-20T10:40:09.358Z"
   },
   {
    "duration": 21,
    "start_time": "2022-09-20T10:40:09.395Z"
   },
   {
    "duration": 267,
    "start_time": "2022-09-20T10:40:09.421Z"
   },
   {
    "duration": 37,
    "start_time": "2022-09-20T10:40:09.690Z"
   },
   {
    "duration": 14,
    "start_time": "2022-09-20T10:40:09.729Z"
   },
   {
    "duration": 64,
    "start_time": "2022-09-20T10:40:09.747Z"
   },
   {
    "duration": 222,
    "start_time": "2022-09-20T10:40:09.813Z"
   },
   {
    "duration": 12,
    "start_time": "2022-09-20T10:40:10.037Z"
   },
   {
    "duration": 6,
    "start_time": "2022-09-20T10:40:10.050Z"
   },
   {
    "duration": 66,
    "start_time": "2022-09-20T10:40:10.057Z"
   },
   {
    "duration": 20,
    "start_time": "2022-09-20T10:40:10.126Z"
   },
   {
    "duration": 22,
    "start_time": "2022-09-20T10:40:10.148Z"
   },
   {
    "duration": 15,
    "start_time": "2022-09-20T10:40:10.171Z"
   },
   {
    "duration": 25,
    "start_time": "2022-09-20T10:40:10.187Z"
   },
   {
    "duration": 41,
    "start_time": "2022-09-20T10:40:10.214Z"
   },
   {
    "duration": 15,
    "start_time": "2022-09-20T10:40:10.257Z"
   },
   {
    "duration": 23,
    "start_time": "2022-09-20T10:40:10.274Z"
   },
   {
    "duration": 22,
    "start_time": "2022-09-20T10:40:10.299Z"
   },
   {
    "duration": 36,
    "start_time": "2022-09-20T10:40:10.323Z"
   },
   {
    "duration": 229,
    "start_time": "2022-09-20T10:40:10.360Z"
   },
   {
    "duration": 12,
    "start_time": "2022-09-20T10:40:10.591Z"
   },
   {
    "duration": 53,
    "start_time": "2022-09-20T10:40:10.604Z"
   },
   {
    "duration": 13,
    "start_time": "2022-09-20T10:40:10.658Z"
   },
   {
    "duration": 6,
    "start_time": "2022-09-20T10:40:10.673Z"
   },
   {
    "duration": 13,
    "start_time": "2022-09-20T10:40:10.681Z"
   },
   {
    "duration": 59,
    "start_time": "2022-09-20T10:40:10.696Z"
   },
   {
    "duration": 235,
    "start_time": "2022-09-20T10:40:10.756Z"
   },
   {
    "duration": 110,
    "start_time": "2022-09-20T10:41:24.524Z"
   },
   {
    "duration": 13,
    "start_time": "2022-09-20T10:41:32.430Z"
   },
   {
    "duration": 1255,
    "start_time": "2022-09-20T10:41:50.425Z"
   },
   {
    "duration": 3,
    "start_time": "2022-09-20T10:41:51.682Z"
   },
   {
    "duration": 92,
    "start_time": "2022-09-20T10:41:51.686Z"
   },
   {
    "duration": 20,
    "start_time": "2022-09-20T10:41:51.780Z"
   },
   {
    "duration": 38,
    "start_time": "2022-09-20T10:41:51.803Z"
   },
   {
    "duration": 5,
    "start_time": "2022-09-20T10:41:51.842Z"
   },
   {
    "duration": 6,
    "start_time": "2022-09-20T10:41:51.849Z"
   },
   {
    "duration": 22,
    "start_time": "2022-09-20T10:41:51.856Z"
   },
   {
    "duration": 10,
    "start_time": "2022-09-20T10:41:51.880Z"
   },
   {
    "duration": 37,
    "start_time": "2022-09-20T10:41:51.891Z"
   },
   {
    "duration": 3,
    "start_time": "2022-09-20T10:41:51.929Z"
   },
   {
    "duration": 32,
    "start_time": "2022-09-20T10:41:51.934Z"
   },
   {
    "duration": 5,
    "start_time": "2022-09-20T10:41:51.967Z"
   },
   {
    "duration": 19,
    "start_time": "2022-09-20T10:41:51.975Z"
   },
   {
    "duration": 47,
    "start_time": "2022-09-20T10:41:51.997Z"
   },
   {
    "duration": 7,
    "start_time": "2022-09-20T10:41:52.045Z"
   },
   {
    "duration": 13,
    "start_time": "2022-09-20T10:41:52.053Z"
   },
   {
    "duration": 9,
    "start_time": "2022-09-20T10:41:52.068Z"
   },
   {
    "duration": 7,
    "start_time": "2022-09-20T10:41:52.079Z"
   },
   {
    "duration": 49,
    "start_time": "2022-09-20T10:41:52.088Z"
   },
   {
    "duration": 12,
    "start_time": "2022-09-20T10:41:52.139Z"
   },
   {
    "duration": 17,
    "start_time": "2022-09-20T10:41:52.153Z"
   },
   {
    "duration": 8,
    "start_time": "2022-09-20T10:41:52.171Z"
   },
   {
    "duration": 45,
    "start_time": "2022-09-20T10:41:52.181Z"
   },
   {
    "duration": 14,
    "start_time": "2022-09-20T10:41:52.228Z"
   },
   {
    "duration": 12,
    "start_time": "2022-09-20T10:41:52.243Z"
   },
   {
    "duration": 18,
    "start_time": "2022-09-20T10:41:52.256Z"
   },
   {
    "duration": 25,
    "start_time": "2022-09-20T10:41:52.295Z"
   },
   {
    "duration": 20,
    "start_time": "2022-09-20T10:41:52.322Z"
   },
   {
    "duration": 12,
    "start_time": "2022-09-20T10:41:52.343Z"
   },
   {
    "duration": 17,
    "start_time": "2022-09-20T10:41:52.356Z"
   },
   {
    "duration": 7,
    "start_time": "2022-09-20T10:41:52.396Z"
   },
   {
    "duration": 37,
    "start_time": "2022-09-20T10:41:52.405Z"
   },
   {
    "duration": 31,
    "start_time": "2022-09-20T10:41:52.444Z"
   },
   {
    "duration": 26,
    "start_time": "2022-09-20T10:41:52.477Z"
   },
   {
    "duration": 19,
    "start_time": "2022-09-20T10:41:52.505Z"
   },
   {
    "duration": 11,
    "start_time": "2022-09-20T10:41:52.526Z"
   },
   {
    "duration": 285,
    "start_time": "2022-09-20T10:41:52.538Z"
   },
   {
    "duration": 20,
    "start_time": "2022-09-20T10:41:52.826Z"
   },
   {
    "duration": 29,
    "start_time": "2022-09-20T10:41:52.849Z"
   },
   {
    "duration": 65,
    "start_time": "2022-09-20T10:41:52.882Z"
   },
   {
    "duration": 211,
    "start_time": "2022-09-20T10:41:52.949Z"
   },
   {
    "duration": 10,
    "start_time": "2022-09-20T10:41:53.162Z"
   },
   {
    "duration": 7,
    "start_time": "2022-09-20T10:41:53.174Z"
   },
   {
    "duration": 40,
    "start_time": "2022-09-20T10:41:53.182Z"
   },
   {
    "duration": 14,
    "start_time": "2022-09-20T10:41:53.224Z"
   },
   {
    "duration": 20,
    "start_time": "2022-09-20T10:41:53.240Z"
   },
   {
    "duration": 34,
    "start_time": "2022-09-20T10:41:53.261Z"
   },
   {
    "duration": 23,
    "start_time": "2022-09-20T10:41:53.296Z"
   },
   {
    "duration": 37,
    "start_time": "2022-09-20T10:41:53.321Z"
   },
   {
    "duration": 12,
    "start_time": "2022-09-20T10:41:53.360Z"
   },
   {
    "duration": 26,
    "start_time": "2022-09-20T10:41:53.373Z"
   },
   {
    "duration": 18,
    "start_time": "2022-09-20T10:41:53.406Z"
   },
   {
    "duration": 31,
    "start_time": "2022-09-20T10:41:53.426Z"
   },
   {
    "duration": 216,
    "start_time": "2022-09-20T10:41:53.459Z"
   },
   {
    "duration": 5,
    "start_time": "2022-09-20T10:41:53.676Z"
   },
   {
    "duration": 43,
    "start_time": "2022-09-20T10:41:53.683Z"
   },
   {
    "duration": 12,
    "start_time": "2022-09-20T10:41:53.728Z"
   },
   {
    "duration": 7,
    "start_time": "2022-09-20T10:41:53.741Z"
   },
   {
    "duration": 18,
    "start_time": "2022-09-20T10:41:53.749Z"
   },
   {
    "duration": 54,
    "start_time": "2022-09-20T10:41:53.769Z"
   },
   {
    "duration": 223,
    "start_time": "2022-09-20T10:41:53.824Z"
   },
   {
    "duration": 15,
    "start_time": "2022-09-20T10:45:24.788Z"
   },
   {
    "duration": 109,
    "start_time": "2022-09-20T10:47:01.249Z"
   },
   {
    "duration": 23,
    "start_time": "2022-09-20T10:47:07.736Z"
   },
   {
    "duration": 38,
    "start_time": "2022-09-20T10:50:17.179Z"
   },
   {
    "duration": 14,
    "start_time": "2022-09-20T10:51:27.419Z"
   },
   {
    "duration": 9,
    "start_time": "2022-09-20T10:51:32.236Z"
   },
   {
    "duration": 13,
    "start_time": "2022-09-20T11:24:23.575Z"
   },
   {
    "duration": 13,
    "start_time": "2022-09-20T11:24:37.636Z"
   },
   {
    "duration": 12,
    "start_time": "2022-09-20T11:24:43.648Z"
   },
   {
    "duration": 4,
    "start_time": "2022-09-20T11:25:24.481Z"
   },
   {
    "duration": 10,
    "start_time": "2022-09-20T11:29:59.792Z"
   },
   {
    "duration": 7,
    "start_time": "2022-09-20T11:31:00.209Z"
   },
   {
    "duration": 12,
    "start_time": "2022-09-20T11:31:03.741Z"
   },
   {
    "duration": 5,
    "start_time": "2022-09-20T11:32:29.385Z"
   },
   {
    "duration": 13,
    "start_time": "2022-09-20T11:32:32.964Z"
   },
   {
    "duration": 5,
    "start_time": "2022-09-20T11:33:29.907Z"
   },
   {
    "duration": 13,
    "start_time": "2022-09-20T11:33:30.749Z"
   },
   {
    "duration": 4,
    "start_time": "2022-09-20T11:34:55.487Z"
   },
   {
    "duration": 56,
    "start_time": "2022-09-20T11:36:21.272Z"
   },
   {
    "duration": 1223,
    "start_time": "2022-09-20T11:36:27.811Z"
   },
   {
    "duration": 3,
    "start_time": "2022-09-20T11:36:29.036Z"
   },
   {
    "duration": 81,
    "start_time": "2022-09-20T11:36:29.040Z"
   },
   {
    "duration": 18,
    "start_time": "2022-09-20T11:36:29.123Z"
   },
   {
    "duration": 15,
    "start_time": "2022-09-20T11:36:29.143Z"
   },
   {
    "duration": 6,
    "start_time": "2022-09-20T11:36:29.160Z"
   },
   {
    "duration": 30,
    "start_time": "2022-09-20T11:36:29.168Z"
   },
   {
    "duration": 31,
    "start_time": "2022-09-20T11:36:29.200Z"
   },
   {
    "duration": 10,
    "start_time": "2022-09-20T11:36:29.233Z"
   },
   {
    "duration": 10,
    "start_time": "2022-09-20T11:36:29.245Z"
   },
   {
    "duration": 4,
    "start_time": "2022-09-20T11:36:29.256Z"
   },
   {
    "duration": 40,
    "start_time": "2022-09-20T11:36:29.261Z"
   },
   {
    "duration": 4,
    "start_time": "2022-09-20T11:36:29.303Z"
   },
   {
    "duration": 9,
    "start_time": "2022-09-20T11:36:29.311Z"
   },
   {
    "duration": 22,
    "start_time": "2022-09-20T11:36:29.321Z"
   },
   {
    "duration": 6,
    "start_time": "2022-09-20T11:36:29.345Z"
   },
   {
    "duration": 12,
    "start_time": "2022-09-20T11:36:29.353Z"
   },
   {
    "duration": 33,
    "start_time": "2022-09-20T11:36:29.367Z"
   },
   {
    "duration": 16,
    "start_time": "2022-09-20T11:36:29.402Z"
   },
   {
    "duration": 37,
    "start_time": "2022-09-20T11:36:29.420Z"
   },
   {
    "duration": 11,
    "start_time": "2022-09-20T11:36:29.458Z"
   },
   {
    "duration": 29,
    "start_time": "2022-09-20T11:36:29.470Z"
   },
   {
    "duration": 17,
    "start_time": "2022-09-20T11:36:29.500Z"
   },
   {
    "duration": 21,
    "start_time": "2022-09-20T11:36:29.519Z"
   },
   {
    "duration": 11,
    "start_time": "2022-09-20T11:36:29.541Z"
   },
   {
    "duration": 11,
    "start_time": "2022-09-20T11:36:29.553Z"
   },
   {
    "duration": 43,
    "start_time": "2022-09-20T11:36:29.566Z"
   },
   {
    "duration": 13,
    "start_time": "2022-09-20T11:36:29.610Z"
   },
   {
    "duration": 17,
    "start_time": "2022-09-20T11:36:29.624Z"
   },
   {
    "duration": 13,
    "start_time": "2022-09-20T11:36:29.642Z"
   },
   {
    "duration": 50,
    "start_time": "2022-09-20T11:36:29.656Z"
   },
   {
    "duration": 5,
    "start_time": "2022-09-20T11:36:29.708Z"
   },
   {
    "duration": 22,
    "start_time": "2022-09-20T11:36:29.714Z"
   },
   {
    "duration": 33,
    "start_time": "2022-09-20T11:36:29.738Z"
   },
   {
    "duration": 42,
    "start_time": "2022-09-20T11:36:29.773Z"
   },
   {
    "duration": 15,
    "start_time": "2022-09-20T11:36:29.816Z"
   },
   {
    "duration": 7,
    "start_time": "2022-09-20T11:36:29.832Z"
   },
   {
    "duration": 304,
    "start_time": "2022-09-20T11:36:29.841Z"
   },
   {
    "duration": 20,
    "start_time": "2022-09-20T11:36:30.146Z"
   },
   {
    "duration": 31,
    "start_time": "2022-09-20T11:36:30.168Z"
   },
   {
    "duration": 66,
    "start_time": "2022-09-20T11:36:30.204Z"
   },
   {
    "duration": 205,
    "start_time": "2022-09-20T11:36:30.271Z"
   },
   {
    "duration": 18,
    "start_time": "2022-09-20T11:36:30.478Z"
   },
   {
    "duration": 6,
    "start_time": "2022-09-20T11:36:30.498Z"
   },
   {
    "duration": 27,
    "start_time": "2022-09-20T11:36:30.506Z"
   },
   {
    "duration": 14,
    "start_time": "2022-09-20T11:36:30.535Z"
   },
   {
    "duration": 21,
    "start_time": "2022-09-20T11:36:30.551Z"
   },
   {
    "duration": 23,
    "start_time": "2022-09-20T11:36:30.594Z"
   },
   {
    "duration": 18,
    "start_time": "2022-09-20T11:36:30.618Z"
   },
   {
    "duration": 36,
    "start_time": "2022-09-20T11:36:30.638Z"
   },
   {
    "duration": 31,
    "start_time": "2022-09-20T11:36:30.675Z"
   },
   {
    "duration": 19,
    "start_time": "2022-09-20T11:36:30.708Z"
   },
   {
    "duration": 20,
    "start_time": "2022-09-20T11:36:30.728Z"
   },
   {
    "duration": 37,
    "start_time": "2022-09-20T11:36:30.750Z"
   },
   {
    "duration": 238,
    "start_time": "2022-09-20T11:36:30.789Z"
   },
   {
    "duration": 5,
    "start_time": "2022-09-20T11:36:31.028Z"
   },
   {
    "duration": 29,
    "start_time": "2022-09-20T11:36:31.035Z"
   },
   {
    "duration": 39,
    "start_time": "2022-09-20T11:36:31.066Z"
   },
   {
    "duration": 15,
    "start_time": "2022-09-20T11:36:31.107Z"
   },
   {
    "duration": 14,
    "start_time": "2022-09-20T11:36:31.124Z"
   },
   {
    "duration": 36,
    "start_time": "2022-09-20T11:36:31.140Z"
   },
   {
    "duration": 250,
    "start_time": "2022-09-20T11:36:31.178Z"
   },
   {
    "duration": 93,
    "start_time": "2022-09-20T11:36:31.430Z"
   },
   {
    "duration": 0,
    "start_time": "2022-09-20T11:36:31.525Z"
   },
   {
    "duration": 1,
    "start_time": "2022-09-20T11:36:31.526Z"
   },
   {
    "duration": 7,
    "start_time": "2022-09-20T11:38:22.838Z"
   },
   {
    "duration": 28,
    "start_time": "2022-09-20T11:38:25.182Z"
   },
   {
    "duration": 4,
    "start_time": "2022-09-20T11:39:44.983Z"
   },
   {
    "duration": 18,
    "start_time": "2022-09-20T11:40:23.715Z"
   },
   {
    "duration": 16,
    "start_time": "2022-09-20T11:40:44.476Z"
   },
   {
    "duration": 1232,
    "start_time": "2022-09-20T11:40:53.647Z"
   },
   {
    "duration": 3,
    "start_time": "2022-09-20T11:40:54.881Z"
   },
   {
    "duration": 81,
    "start_time": "2022-09-20T11:40:54.885Z"
   },
   {
    "duration": 20,
    "start_time": "2022-09-20T11:40:54.968Z"
   },
   {
    "duration": 21,
    "start_time": "2022-09-20T11:40:54.991Z"
   },
   {
    "duration": 13,
    "start_time": "2022-09-20T11:40:55.013Z"
   },
   {
    "duration": 5,
    "start_time": "2022-09-20T11:40:55.027Z"
   },
   {
    "duration": 25,
    "start_time": "2022-09-20T11:40:55.034Z"
   },
   {
    "duration": 18,
    "start_time": "2022-09-20T11:40:55.061Z"
   },
   {
    "duration": 19,
    "start_time": "2022-09-20T11:40:55.094Z"
   },
   {
    "duration": 3,
    "start_time": "2022-09-20T11:40:55.115Z"
   },
   {
    "duration": 18,
    "start_time": "2022-09-20T11:40:55.120Z"
   },
   {
    "duration": 4,
    "start_time": "2022-09-20T11:40:55.140Z"
   },
   {
    "duration": 8,
    "start_time": "2022-09-20T11:40:55.146Z"
   },
   {
    "duration": 41,
    "start_time": "2022-09-20T11:40:55.155Z"
   },
   {
    "duration": 8,
    "start_time": "2022-09-20T11:40:55.201Z"
   },
   {
    "duration": 11,
    "start_time": "2022-09-20T11:40:55.211Z"
   },
   {
    "duration": 8,
    "start_time": "2022-09-20T11:40:55.224Z"
   },
   {
    "duration": 7,
    "start_time": "2022-09-20T11:40:55.233Z"
   },
   {
    "duration": 57,
    "start_time": "2022-09-20T11:40:55.242Z"
   },
   {
    "duration": 13,
    "start_time": "2022-09-20T11:40:55.301Z"
   },
   {
    "duration": 14,
    "start_time": "2022-09-20T11:40:55.315Z"
   },
   {
    "duration": 11,
    "start_time": "2022-09-20T11:40:55.331Z"
   },
   {
    "duration": 25,
    "start_time": "2022-09-20T11:40:55.343Z"
   },
   {
    "duration": 33,
    "start_time": "2022-09-20T11:40:55.369Z"
   },
   {
    "duration": 11,
    "start_time": "2022-09-20T11:40:55.406Z"
   },
   {
    "duration": 17,
    "start_time": "2022-09-20T11:40:55.419Z"
   },
   {
    "duration": 12,
    "start_time": "2022-09-20T11:40:55.437Z"
   },
   {
    "duration": 15,
    "start_time": "2022-09-20T11:40:55.451Z"
   },
   {
    "duration": 19,
    "start_time": "2022-09-20T11:40:55.496Z"
   },
   {
    "duration": 22,
    "start_time": "2022-09-20T11:40:55.517Z"
   },
   {
    "duration": 4,
    "start_time": "2022-09-20T11:40:55.541Z"
   },
   {
    "duration": 24,
    "start_time": "2022-09-20T11:40:55.547Z"
   },
   {
    "duration": 52,
    "start_time": "2022-09-20T11:40:55.573Z"
   },
   {
    "duration": 20,
    "start_time": "2022-09-20T11:40:55.627Z"
   },
   {
    "duration": 15,
    "start_time": "2022-09-20T11:40:55.648Z"
   },
   {
    "duration": 7,
    "start_time": "2022-09-20T11:40:55.664Z"
   },
   {
    "duration": 274,
    "start_time": "2022-09-20T11:40:55.694Z"
   },
   {
    "duration": 18,
    "start_time": "2022-09-20T11:40:55.970Z"
   },
   {
    "duration": 22,
    "start_time": "2022-09-20T11:40:55.990Z"
   },
   {
    "duration": 54,
    "start_time": "2022-09-20T11:40:56.016Z"
   },
   {
    "duration": 246,
    "start_time": "2022-09-20T11:40:56.072Z"
   },
   {
    "duration": 12,
    "start_time": "2022-09-20T11:40:56.320Z"
   },
   {
    "duration": 5,
    "start_time": "2022-09-20T11:40:56.334Z"
   },
   {
    "duration": 25,
    "start_time": "2022-09-20T11:40:56.340Z"
   },
   {
    "duration": 41,
    "start_time": "2022-09-20T11:40:56.366Z"
   },
   {
    "duration": 24,
    "start_time": "2022-09-20T11:40:56.409Z"
   },
   {
    "duration": 16,
    "start_time": "2022-09-20T11:40:56.434Z"
   },
   {
    "duration": 18,
    "start_time": "2022-09-20T11:40:56.452Z"
   },
   {
    "duration": 66,
    "start_time": "2022-09-20T11:40:56.471Z"
   },
   {
    "duration": 19,
    "start_time": "2022-09-20T11:40:56.539Z"
   },
   {
    "duration": 5,
    "start_time": "2022-09-20T11:40:56.560Z"
   },
   {
    "duration": 41,
    "start_time": "2022-09-20T11:40:56.566Z"
   },
   {
    "duration": 37,
    "start_time": "2022-09-20T11:40:56.609Z"
   },
   {
    "duration": 267,
    "start_time": "2022-09-20T11:40:56.649Z"
   },
   {
    "duration": 6,
    "start_time": "2022-09-20T11:40:56.918Z"
   },
   {
    "duration": 32,
    "start_time": "2022-09-20T11:40:56.925Z"
   },
   {
    "duration": 11,
    "start_time": "2022-09-20T11:40:56.959Z"
   },
   {
    "duration": 24,
    "start_time": "2022-09-20T11:40:56.972Z"
   },
   {
    "duration": 13,
    "start_time": "2022-09-20T11:40:56.998Z"
   },
   {
    "duration": 39,
    "start_time": "2022-09-20T11:40:57.013Z"
   },
   {
    "duration": 257,
    "start_time": "2022-09-20T11:40:57.054Z"
   },
   {
    "duration": 7,
    "start_time": "2022-09-20T11:40:57.313Z"
   },
   {
    "duration": 19,
    "start_time": "2022-09-20T11:40:57.321Z"
   },
   {
    "duration": 5,
    "start_time": "2022-09-20T11:40:57.341Z"
   },
   {
    "duration": 6,
    "start_time": "2022-09-20T11:43:20.706Z"
   },
   {
    "duration": 105,
    "start_time": "2022-09-20T11:43:27.729Z"
   },
   {
    "duration": 8,
    "start_time": "2022-09-20T11:44:31.353Z"
   },
   {
    "duration": 12,
    "start_time": "2022-09-20T11:44:35.180Z"
   },
   {
    "duration": 7,
    "start_time": "2022-09-20T11:45:58.414Z"
   },
   {
    "duration": 10,
    "start_time": "2022-09-20T11:47:13.617Z"
   },
   {
    "duration": 9,
    "start_time": "2022-09-20T11:47:30.385Z"
   },
   {
    "duration": 9,
    "start_time": "2022-09-20T11:47:38.122Z"
   },
   {
    "duration": 11,
    "start_time": "2022-09-20T11:50:26.452Z"
   },
   {
    "duration": 11,
    "start_time": "2022-09-20T11:50:40.320Z"
   },
   {
    "duration": 16,
    "start_time": "2022-09-20T11:51:18.812Z"
   },
   {
    "duration": 7,
    "start_time": "2022-09-20T11:51:40.231Z"
   },
   {
    "duration": 13,
    "start_time": "2022-09-20T11:51:41.171Z"
   },
   {
    "duration": 11,
    "start_time": "2022-09-20T11:51:49.938Z"
   },
   {
    "duration": 9,
    "start_time": "2022-09-20T11:51:53.826Z"
   },
   {
    "duration": 1224,
    "start_time": "2022-09-20T11:52:07.457Z"
   },
   {
    "duration": 3,
    "start_time": "2022-09-20T11:52:08.684Z"
   },
   {
    "duration": 90,
    "start_time": "2022-09-20T11:52:08.689Z"
   },
   {
    "duration": 21,
    "start_time": "2022-09-20T11:52:08.781Z"
   },
   {
    "duration": 22,
    "start_time": "2022-09-20T11:52:08.805Z"
   },
   {
    "duration": 6,
    "start_time": "2022-09-20T11:52:08.829Z"
   },
   {
    "duration": 5,
    "start_time": "2022-09-20T11:52:08.837Z"
   },
   {
    "duration": 28,
    "start_time": "2022-09-20T11:52:08.844Z"
   },
   {
    "duration": 33,
    "start_time": "2022-09-20T11:52:08.874Z"
   },
   {
    "duration": 29,
    "start_time": "2022-09-20T11:52:08.908Z"
   },
   {
    "duration": 3,
    "start_time": "2022-09-20T11:52:08.939Z"
   },
   {
    "duration": 23,
    "start_time": "2022-09-20T11:52:08.943Z"
   },
   {
    "duration": 4,
    "start_time": "2022-09-20T11:52:08.967Z"
   },
   {
    "duration": 8,
    "start_time": "2022-09-20T11:52:08.974Z"
   },
   {
    "duration": 36,
    "start_time": "2022-09-20T11:52:08.983Z"
   },
   {
    "duration": 8,
    "start_time": "2022-09-20T11:52:09.021Z"
   },
   {
    "duration": 10,
    "start_time": "2022-09-20T11:52:09.031Z"
   },
   {
    "duration": 8,
    "start_time": "2022-09-20T11:52:09.043Z"
   },
   {
    "duration": 9,
    "start_time": "2022-09-20T11:52:09.052Z"
   },
   {
    "duration": 75,
    "start_time": "2022-09-20T11:52:09.063Z"
   },
   {
    "duration": 11,
    "start_time": "2022-09-20T11:52:09.140Z"
   },
   {
    "duration": 11,
    "start_time": "2022-09-20T11:52:09.153Z"
   },
   {
    "duration": 8,
    "start_time": "2022-09-20T11:52:09.165Z"
   },
   {
    "duration": 55,
    "start_time": "2022-09-20T11:52:09.174Z"
   },
   {
    "duration": 12,
    "start_time": "2022-09-20T11:52:09.230Z"
   },
   {
    "duration": 15,
    "start_time": "2022-09-20T11:52:09.243Z"
   },
   {
    "duration": 17,
    "start_time": "2022-09-20T11:52:09.259Z"
   },
   {
    "duration": 21,
    "start_time": "2022-09-20T11:52:09.296Z"
   },
   {
    "duration": 25,
    "start_time": "2022-09-20T11:52:09.320Z"
   },
   {
    "duration": 14,
    "start_time": "2022-09-20T11:52:09.347Z"
   },
   {
    "duration": 52,
    "start_time": "2022-09-20T11:52:09.363Z"
   },
   {
    "duration": 9,
    "start_time": "2022-09-20T11:52:09.417Z"
   },
   {
    "duration": 21,
    "start_time": "2022-09-20T11:52:09.427Z"
   },
   {
    "duration": 33,
    "start_time": "2022-09-20T11:52:09.450Z"
   },
   {
    "duration": 32,
    "start_time": "2022-09-20T11:52:09.499Z"
   },
   {
    "duration": 14,
    "start_time": "2022-09-20T11:52:09.533Z"
   },
   {
    "duration": 9,
    "start_time": "2022-09-20T11:52:09.549Z"
   },
   {
    "duration": 317,
    "start_time": "2022-09-20T11:52:09.560Z"
   },
   {
    "duration": 23,
    "start_time": "2022-09-20T11:52:09.879Z"
   },
   {
    "duration": 36,
    "start_time": "2022-09-20T11:52:09.905Z"
   },
   {
    "duration": 55,
    "start_time": "2022-09-20T11:52:09.945Z"
   },
   {
    "duration": 240,
    "start_time": "2022-09-20T11:52:10.003Z"
   },
   {
    "duration": 11,
    "start_time": "2022-09-20T11:52:10.245Z"
   },
   {
    "duration": 5,
    "start_time": "2022-09-20T11:52:10.257Z"
   },
   {
    "duration": 48,
    "start_time": "2022-09-20T11:52:10.263Z"
   },
   {
    "duration": 16,
    "start_time": "2022-09-20T11:52:10.318Z"
   },
   {
    "duration": 20,
    "start_time": "2022-09-20T11:52:10.336Z"
   },
   {
    "duration": 15,
    "start_time": "2022-09-20T11:52:10.358Z"
   },
   {
    "duration": 31,
    "start_time": "2022-09-20T11:52:10.375Z"
   },
   {
    "duration": 43,
    "start_time": "2022-09-20T11:52:10.408Z"
   },
   {
    "duration": 13,
    "start_time": "2022-09-20T11:52:10.452Z"
   },
   {
    "duration": 7,
    "start_time": "2022-09-20T11:52:10.467Z"
   },
   {
    "duration": 39,
    "start_time": "2022-09-20T11:52:10.475Z"
   },
   {
    "duration": 46,
    "start_time": "2022-09-20T11:52:10.517Z"
   },
   {
    "duration": 245,
    "start_time": "2022-09-20T11:52:10.565Z"
   },
   {
    "duration": 5,
    "start_time": "2022-09-20T11:52:10.812Z"
   },
   {
    "duration": 38,
    "start_time": "2022-09-20T11:52:10.819Z"
   },
   {
    "duration": 13,
    "start_time": "2022-09-20T11:52:10.859Z"
   },
   {
    "duration": 13,
    "start_time": "2022-09-20T11:52:10.895Z"
   },
   {
    "duration": 25,
    "start_time": "2022-09-20T11:52:10.910Z"
   },
   {
    "duration": 35,
    "start_time": "2022-09-20T11:52:10.937Z"
   },
   {
    "duration": 255,
    "start_time": "2022-09-20T11:52:10.974Z"
   },
   {
    "duration": 9,
    "start_time": "2022-09-20T11:52:11.231Z"
   },
   {
    "duration": 12,
    "start_time": "2022-09-20T11:52:11.242Z"
   },
   {
    "duration": 12,
    "start_time": "2022-09-20T11:55:34.051Z"
   },
   {
    "duration": 13,
    "start_time": "2022-09-20T11:55:46.235Z"
   },
   {
    "duration": 20,
    "start_time": "2022-09-20T11:55:56.912Z"
   },
   {
    "duration": 1311,
    "start_time": "2022-09-20T11:59:53.612Z"
   },
   {
    "duration": 3,
    "start_time": "2022-09-20T11:59:54.925Z"
   },
   {
    "duration": 86,
    "start_time": "2022-09-20T11:59:54.930Z"
   },
   {
    "duration": 25,
    "start_time": "2022-09-20T11:59:55.020Z"
   },
   {
    "duration": 13,
    "start_time": "2022-09-20T11:59:55.047Z"
   },
   {
    "duration": 5,
    "start_time": "2022-09-20T11:59:55.062Z"
   },
   {
    "duration": 28,
    "start_time": "2022-09-20T11:59:55.068Z"
   },
   {
    "duration": 29,
    "start_time": "2022-09-20T11:59:55.098Z"
   },
   {
    "duration": 10,
    "start_time": "2022-09-20T11:59:55.129Z"
   },
   {
    "duration": 9,
    "start_time": "2022-09-20T11:59:55.142Z"
   },
   {
    "duration": 4,
    "start_time": "2022-09-20T11:59:55.152Z"
   },
   {
    "duration": 148,
    "start_time": "2022-09-20T11:59:55.157Z"
   },
   {
    "duration": 0,
    "start_time": "2022-09-20T11:59:55.311Z"
   },
   {
    "duration": 0,
    "start_time": "2022-09-20T11:59:55.313Z"
   },
   {
    "duration": 1,
    "start_time": "2022-09-20T11:59:55.314Z"
   },
   {
    "duration": 0,
    "start_time": "2022-09-20T11:59:55.316Z"
   },
   {
    "duration": 0,
    "start_time": "2022-09-20T11:59:55.318Z"
   },
   {
    "duration": 0,
    "start_time": "2022-09-20T11:59:55.320Z"
   },
   {
    "duration": 0,
    "start_time": "2022-09-20T11:59:55.321Z"
   },
   {
    "duration": 0,
    "start_time": "2022-09-20T11:59:55.322Z"
   },
   {
    "duration": 0,
    "start_time": "2022-09-20T11:59:55.324Z"
   },
   {
    "duration": 1,
    "start_time": "2022-09-20T11:59:55.325Z"
   },
   {
    "duration": 0,
    "start_time": "2022-09-20T11:59:55.327Z"
   },
   {
    "duration": 0,
    "start_time": "2022-09-20T11:59:55.328Z"
   },
   {
    "duration": 0,
    "start_time": "2022-09-20T11:59:55.329Z"
   },
   {
    "duration": 0,
    "start_time": "2022-09-20T11:59:55.330Z"
   },
   {
    "duration": 0,
    "start_time": "2022-09-20T11:59:55.331Z"
   },
   {
    "duration": 0,
    "start_time": "2022-09-20T11:59:55.332Z"
   },
   {
    "duration": 0,
    "start_time": "2022-09-20T11:59:55.333Z"
   },
   {
    "duration": 0,
    "start_time": "2022-09-20T11:59:55.334Z"
   },
   {
    "duration": 0,
    "start_time": "2022-09-20T11:59:55.336Z"
   },
   {
    "duration": 0,
    "start_time": "2022-09-20T11:59:55.337Z"
   },
   {
    "duration": 0,
    "start_time": "2022-09-20T11:59:55.339Z"
   },
   {
    "duration": 0,
    "start_time": "2022-09-20T11:59:55.342Z"
   },
   {
    "duration": 0,
    "start_time": "2022-09-20T11:59:55.343Z"
   },
   {
    "duration": 0,
    "start_time": "2022-09-20T11:59:55.401Z"
   },
   {
    "duration": 0,
    "start_time": "2022-09-20T11:59:55.403Z"
   },
   {
    "duration": 0,
    "start_time": "2022-09-20T11:59:55.412Z"
   },
   {
    "duration": 0,
    "start_time": "2022-09-20T11:59:55.413Z"
   },
   {
    "duration": 0,
    "start_time": "2022-09-20T11:59:55.414Z"
   },
   {
    "duration": 0,
    "start_time": "2022-09-20T11:59:55.415Z"
   },
   {
    "duration": 0,
    "start_time": "2022-09-20T11:59:55.416Z"
   },
   {
    "duration": 0,
    "start_time": "2022-09-20T11:59:55.417Z"
   },
   {
    "duration": 0,
    "start_time": "2022-09-20T11:59:55.419Z"
   },
   {
    "duration": 0,
    "start_time": "2022-09-20T11:59:55.420Z"
   },
   {
    "duration": 0,
    "start_time": "2022-09-20T11:59:55.421Z"
   },
   {
    "duration": 0,
    "start_time": "2022-09-20T11:59:55.422Z"
   },
   {
    "duration": 0,
    "start_time": "2022-09-20T11:59:55.424Z"
   },
   {
    "duration": 0,
    "start_time": "2022-09-20T11:59:55.425Z"
   },
   {
    "duration": 0,
    "start_time": "2022-09-20T11:59:55.427Z"
   },
   {
    "duration": 0,
    "start_time": "2022-09-20T11:59:55.428Z"
   },
   {
    "duration": 0,
    "start_time": "2022-09-20T11:59:55.428Z"
   },
   {
    "duration": 0,
    "start_time": "2022-09-20T11:59:55.429Z"
   },
   {
    "duration": 0,
    "start_time": "2022-09-20T11:59:55.430Z"
   },
   {
    "duration": 0,
    "start_time": "2022-09-20T11:59:55.432Z"
   },
   {
    "duration": 0,
    "start_time": "2022-09-20T11:59:55.433Z"
   },
   {
    "duration": 0,
    "start_time": "2022-09-20T11:59:55.434Z"
   },
   {
    "duration": 0,
    "start_time": "2022-09-20T11:59:55.435Z"
   },
   {
    "duration": 0,
    "start_time": "2022-09-20T11:59:55.436Z"
   },
   {
    "duration": 0,
    "start_time": "2022-09-20T11:59:55.437Z"
   },
   {
    "duration": 0,
    "start_time": "2022-09-20T11:59:55.438Z"
   },
   {
    "duration": 0,
    "start_time": "2022-09-20T11:59:55.439Z"
   },
   {
    "duration": 0,
    "start_time": "2022-09-20T11:59:55.440Z"
   },
   {
    "duration": 1322,
    "start_time": "2022-09-20T12:00:37.112Z"
   },
   {
    "duration": 3,
    "start_time": "2022-09-20T12:00:38.436Z"
   },
   {
    "duration": 86,
    "start_time": "2022-09-20T12:00:38.440Z"
   },
   {
    "duration": 19,
    "start_time": "2022-09-20T12:00:38.528Z"
   },
   {
    "duration": 17,
    "start_time": "2022-09-20T12:00:38.549Z"
   },
   {
    "duration": 33,
    "start_time": "2022-09-20T12:00:38.568Z"
   },
   {
    "duration": 7,
    "start_time": "2022-09-20T12:00:38.603Z"
   },
   {
    "duration": 23,
    "start_time": "2022-09-20T12:00:38.621Z"
   },
   {
    "duration": 13,
    "start_time": "2022-09-20T12:00:38.645Z"
   },
   {
    "duration": 12,
    "start_time": "2022-09-20T12:00:38.660Z"
   },
   {
    "duration": 20,
    "start_time": "2022-09-20T12:00:38.675Z"
   },
   {
    "duration": 2,
    "start_time": "2022-09-20T12:00:38.697Z"
   },
   {
    "duration": 32,
    "start_time": "2022-09-20T12:00:38.702Z"
   },
   {
    "duration": 22,
    "start_time": "2022-09-20T12:00:38.738Z"
   },
   {
    "duration": 7,
    "start_time": "2022-09-20T12:00:38.761Z"
   },
   {
    "duration": 16,
    "start_time": "2022-09-20T12:00:38.770Z"
   },
   {
    "duration": 41,
    "start_time": "2022-09-20T12:00:38.788Z"
   },
   {
    "duration": 12,
    "start_time": "2022-09-20T12:00:38.831Z"
   },
   {
    "duration": 46,
    "start_time": "2022-09-20T12:00:38.845Z"
   },
   {
    "duration": 23,
    "start_time": "2022-09-20T12:00:38.893Z"
   },
   {
    "duration": 24,
    "start_time": "2022-09-20T12:00:38.919Z"
   },
   {
    "duration": 9,
    "start_time": "2022-09-20T12:00:38.945Z"
   },
   {
    "duration": 22,
    "start_time": "2022-09-20T12:00:38.956Z"
   },
   {
    "duration": 16,
    "start_time": "2022-09-20T12:00:38.980Z"
   },
   {
    "duration": 28,
    "start_time": "2022-09-20T12:00:39.001Z"
   },
   {
    "duration": 19,
    "start_time": "2022-09-20T12:00:39.031Z"
   },
   {
    "duration": 14,
    "start_time": "2022-09-20T12:00:39.052Z"
   },
   {
    "duration": 36,
    "start_time": "2022-09-20T12:00:39.067Z"
   },
   {
    "duration": 17,
    "start_time": "2022-09-20T12:00:39.105Z"
   },
   {
    "duration": 26,
    "start_time": "2022-09-20T12:00:39.124Z"
   },
   {
    "duration": 5,
    "start_time": "2022-09-20T12:00:39.152Z"
   },
   {
    "duration": 42,
    "start_time": "2022-09-20T12:00:39.158Z"
   },
   {
    "duration": 42,
    "start_time": "2022-09-20T12:00:39.202Z"
   },
   {
    "duration": 21,
    "start_time": "2022-09-20T12:00:39.245Z"
   },
   {
    "duration": 37,
    "start_time": "2022-09-20T12:00:39.268Z"
   },
   {
    "duration": 10,
    "start_time": "2022-09-20T12:00:39.306Z"
   },
   {
    "duration": 311,
    "start_time": "2022-09-20T12:00:39.318Z"
   },
   {
    "duration": 18,
    "start_time": "2022-09-20T12:00:39.631Z"
   },
   {
    "duration": 19,
    "start_time": "2022-09-20T12:00:39.651Z"
   },
   {
    "duration": 64,
    "start_time": "2022-09-20T12:00:39.672Z"
   },
   {
    "duration": 226,
    "start_time": "2022-09-20T12:00:39.741Z"
   },
   {
    "duration": 12,
    "start_time": "2022-09-20T12:00:39.969Z"
   },
   {
    "duration": 11,
    "start_time": "2022-09-20T12:00:39.995Z"
   },
   {
    "duration": 37,
    "start_time": "2022-09-20T12:00:40.008Z"
   },
   {
    "duration": 15,
    "start_time": "2022-09-20T12:00:40.047Z"
   },
   {
    "duration": 22,
    "start_time": "2022-09-20T12:00:40.064Z"
   },
   {
    "duration": 26,
    "start_time": "2022-09-20T12:00:40.095Z"
   },
   {
    "duration": 25,
    "start_time": "2022-09-20T12:00:40.123Z"
   },
   {
    "duration": 60,
    "start_time": "2022-09-20T12:00:40.149Z"
   },
   {
    "duration": 16,
    "start_time": "2022-09-20T12:00:40.211Z"
   },
   {
    "duration": 8,
    "start_time": "2022-09-20T12:00:40.228Z"
   },
   {
    "duration": 18,
    "start_time": "2022-09-20T12:00:40.238Z"
   },
   {
    "duration": 43,
    "start_time": "2022-09-20T12:00:40.257Z"
   },
   {
    "duration": 243,
    "start_time": "2022-09-20T12:00:40.302Z"
   },
   {
    "duration": 5,
    "start_time": "2022-09-20T12:00:40.547Z"
   },
   {
    "duration": 50,
    "start_time": "2022-09-20T12:00:40.554Z"
   },
   {
    "duration": 21,
    "start_time": "2022-09-20T12:00:40.606Z"
   },
   {
    "duration": 6,
    "start_time": "2022-09-20T12:00:40.629Z"
   },
   {
    "duration": 35,
    "start_time": "2022-09-20T12:00:40.636Z"
   },
   {
    "duration": 58,
    "start_time": "2022-09-20T12:00:40.673Z"
   },
   {
    "duration": 260,
    "start_time": "2022-09-20T12:00:40.733Z"
   },
   {
    "duration": 12,
    "start_time": "2022-09-20T12:00:40.996Z"
   },
   {
    "duration": 90,
    "start_time": "2022-09-20T12:00:41.010Z"
   },
   {
    "duration": 1286,
    "start_time": "2022-09-20T12:02:47.925Z"
   },
   {
    "duration": 14,
    "start_time": "2022-09-20T12:02:49.213Z"
   },
   {
    "duration": 90,
    "start_time": "2022-09-20T12:02:49.230Z"
   },
   {
    "duration": 20,
    "start_time": "2022-09-20T12:02:49.324Z"
   },
   {
    "duration": 16,
    "start_time": "2022-09-20T12:02:49.345Z"
   },
   {
    "duration": 7,
    "start_time": "2022-09-20T12:02:49.363Z"
   },
   {
    "duration": 24,
    "start_time": "2022-09-20T12:02:49.372Z"
   },
   {
    "duration": 29,
    "start_time": "2022-09-20T12:02:49.398Z"
   },
   {
    "duration": 15,
    "start_time": "2022-09-20T12:02:49.430Z"
   },
   {
    "duration": 14,
    "start_time": "2022-09-20T12:02:49.449Z"
   },
   {
    "duration": 34,
    "start_time": "2022-09-20T12:02:49.465Z"
   },
   {
    "duration": 28,
    "start_time": "2022-09-20T12:02:49.502Z"
   },
   {
    "duration": 9,
    "start_time": "2022-09-20T12:02:49.532Z"
   },
   {
    "duration": 21,
    "start_time": "2022-09-20T12:02:49.542Z"
   },
   {
    "duration": 6,
    "start_time": "2022-09-20T12:02:49.565Z"
   },
   {
    "duration": 12,
    "start_time": "2022-09-20T12:02:49.573Z"
   },
   {
    "duration": 12,
    "start_time": "2022-09-20T12:02:49.587Z"
   },
   {
    "duration": 31,
    "start_time": "2022-09-20T12:02:49.601Z"
   },
   {
    "duration": 37,
    "start_time": "2022-09-20T12:02:49.634Z"
   },
   {
    "duration": 10,
    "start_time": "2022-09-20T12:02:49.673Z"
   },
   {
    "duration": 20,
    "start_time": "2022-09-20T12:02:49.685Z"
   },
   {
    "duration": 26,
    "start_time": "2022-09-20T12:02:49.707Z"
   },
   {
    "duration": 22,
    "start_time": "2022-09-20T12:02:49.736Z"
   },
   {
    "duration": 11,
    "start_time": "2022-09-20T12:02:49.760Z"
   },
   {
    "duration": 11,
    "start_time": "2022-09-20T12:02:49.773Z"
   },
   {
    "duration": 30,
    "start_time": "2022-09-20T12:02:49.795Z"
   },
   {
    "duration": 17,
    "start_time": "2022-09-20T12:02:49.826Z"
   },
   {
    "duration": 17,
    "start_time": "2022-09-20T12:02:49.847Z"
   },
   {
    "duration": 43,
    "start_time": "2022-09-20T12:02:49.866Z"
   },
   {
    "duration": 23,
    "start_time": "2022-09-20T12:02:49.911Z"
   },
   {
    "duration": 5,
    "start_time": "2022-09-20T12:02:49.935Z"
   },
   {
    "duration": 20,
    "start_time": "2022-09-20T12:02:49.942Z"
   },
   {
    "duration": 72,
    "start_time": "2022-09-20T12:02:49.964Z"
   },
   {
    "duration": 22,
    "start_time": "2022-09-20T12:02:50.038Z"
   },
   {
    "duration": 14,
    "start_time": "2022-09-20T12:02:50.061Z"
   },
   {
    "duration": 16,
    "start_time": "2022-09-20T12:02:50.103Z"
   },
   {
    "duration": 320,
    "start_time": "2022-09-20T12:02:50.124Z"
   },
   {
    "duration": 18,
    "start_time": "2022-09-20T12:02:50.447Z"
   },
   {
    "duration": 18,
    "start_time": "2022-09-20T12:02:50.467Z"
   },
   {
    "duration": 58,
    "start_time": "2022-09-20T12:02:50.487Z"
   },
   {
    "duration": 231,
    "start_time": "2022-09-20T12:02:50.547Z"
   },
   {
    "duration": 28,
    "start_time": "2022-09-20T12:02:50.780Z"
   },
   {
    "duration": 14,
    "start_time": "2022-09-20T12:02:50.818Z"
   },
   {
    "duration": 30,
    "start_time": "2022-09-20T12:02:50.834Z"
   },
   {
    "duration": 22,
    "start_time": "2022-09-20T12:02:50.866Z"
   },
   {
    "duration": 49,
    "start_time": "2022-09-20T12:02:50.890Z"
   },
   {
    "duration": 18,
    "start_time": "2022-09-20T12:02:50.941Z"
   },
   {
    "duration": 18,
    "start_time": "2022-09-20T12:02:50.960Z"
   },
   {
    "duration": 57,
    "start_time": "2022-09-20T12:02:50.979Z"
   },
   {
    "duration": 14,
    "start_time": "2022-09-20T12:02:51.038Z"
   },
   {
    "duration": 12,
    "start_time": "2022-09-20T12:02:51.053Z"
   },
   {
    "duration": 15,
    "start_time": "2022-09-20T12:02:51.067Z"
   },
   {
    "duration": 54,
    "start_time": "2022-09-20T12:02:51.095Z"
   },
   {
    "duration": 235,
    "start_time": "2022-09-20T12:02:51.151Z"
   },
   {
    "duration": 14,
    "start_time": "2022-09-20T12:02:51.388Z"
   },
   {
    "duration": 54,
    "start_time": "2022-09-20T12:02:51.403Z"
   },
   {
    "duration": 12,
    "start_time": "2022-09-20T12:02:51.459Z"
   },
   {
    "duration": 4,
    "start_time": "2022-09-20T12:02:51.473Z"
   },
   {
    "duration": 23,
    "start_time": "2022-09-20T12:02:51.479Z"
   },
   {
    "duration": 45,
    "start_time": "2022-09-20T12:02:51.504Z"
   },
   {
    "duration": 283,
    "start_time": "2022-09-20T12:02:51.551Z"
   },
   {
    "duration": 8,
    "start_time": "2022-09-20T12:02:51.836Z"
   },
   {
    "duration": 94,
    "start_time": "2022-09-20T12:02:51.846Z"
   },
   {
    "duration": 1300,
    "start_time": "2022-09-20T12:04:02.135Z"
   },
   {
    "duration": 3,
    "start_time": "2022-09-20T12:04:03.437Z"
   },
   {
    "duration": 117,
    "start_time": "2022-09-20T12:04:03.442Z"
   },
   {
    "duration": 22,
    "start_time": "2022-09-20T12:04:03.562Z"
   },
   {
    "duration": 22,
    "start_time": "2022-09-20T12:04:03.586Z"
   },
   {
    "duration": 6,
    "start_time": "2022-09-20T12:04:03.610Z"
   },
   {
    "duration": 15,
    "start_time": "2022-09-20T12:04:03.618Z"
   },
   {
    "duration": 25,
    "start_time": "2022-09-20T12:04:03.634Z"
   },
   {
    "duration": 38,
    "start_time": "2022-09-20T12:04:03.661Z"
   },
   {
    "duration": 12,
    "start_time": "2022-09-20T12:04:03.701Z"
   },
   {
    "duration": 5,
    "start_time": "2022-09-20T12:04:03.716Z"
   },
   {
    "duration": 9,
    "start_time": "2022-09-20T12:04:03.723Z"
   },
   {
    "duration": 10,
    "start_time": "2022-09-20T12:04:03.734Z"
   },
   {
    "duration": 22,
    "start_time": "2022-09-20T12:04:03.747Z"
   },
   {
    "duration": 29,
    "start_time": "2022-09-20T12:04:03.770Z"
   },
   {
    "duration": 24,
    "start_time": "2022-09-20T12:04:03.802Z"
   },
   {
    "duration": 9,
    "start_time": "2022-09-20T12:04:03.827Z"
   },
   {
    "duration": 6,
    "start_time": "2022-09-20T12:04:03.838Z"
   },
   {
    "duration": 64,
    "start_time": "2022-09-20T12:04:03.846Z"
   },
   {
    "duration": 13,
    "start_time": "2022-09-20T12:04:03.912Z"
   },
   {
    "duration": 10,
    "start_time": "2022-09-20T12:04:03.927Z"
   },
   {
    "duration": 9,
    "start_time": "2022-09-20T12:04:03.938Z"
   },
   {
    "duration": 56,
    "start_time": "2022-09-20T12:04:03.949Z"
   },
   {
    "duration": 18,
    "start_time": "2022-09-20T12:04:04.008Z"
   },
   {
    "duration": 24,
    "start_time": "2022-09-20T12:04:04.028Z"
   },
   {
    "duration": 24,
    "start_time": "2022-09-20T12:04:04.054Z"
   },
   {
    "duration": 22,
    "start_time": "2022-09-20T12:04:04.107Z"
   },
   {
    "duration": 20,
    "start_time": "2022-09-20T12:04:04.131Z"
   },
   {
    "duration": 22,
    "start_time": "2022-09-20T12:04:04.153Z"
   },
   {
    "duration": 36,
    "start_time": "2022-09-20T12:04:04.177Z"
   },
   {
    "duration": 6,
    "start_time": "2022-09-20T12:04:04.216Z"
   },
   {
    "duration": 21,
    "start_time": "2022-09-20T12:04:04.224Z"
   },
   {
    "duration": 57,
    "start_time": "2022-09-20T12:04:04.247Z"
   },
   {
    "duration": 24,
    "start_time": "2022-09-20T12:04:04.307Z"
   },
   {
    "duration": 15,
    "start_time": "2022-09-20T12:04:04.332Z"
   },
   {
    "duration": 8,
    "start_time": "2022-09-20T12:04:04.349Z"
   },
   {
    "duration": 346,
    "start_time": "2022-09-20T12:04:04.359Z"
   },
   {
    "duration": 29,
    "start_time": "2022-09-20T12:04:04.707Z"
   },
   {
    "duration": 24,
    "start_time": "2022-09-20T12:04:04.738Z"
   },
   {
    "duration": 77,
    "start_time": "2022-09-20T12:04:04.764Z"
   },
   {
    "duration": 222,
    "start_time": "2022-09-20T12:04:04.846Z"
   },
   {
    "duration": 11,
    "start_time": "2022-09-20T12:04:05.069Z"
   },
   {
    "duration": 21,
    "start_time": "2022-09-20T12:04:05.081Z"
   },
   {
    "duration": 28,
    "start_time": "2022-09-20T12:04:05.106Z"
   },
   {
    "duration": 14,
    "start_time": "2022-09-20T12:04:05.136Z"
   },
   {
    "duration": 52,
    "start_time": "2022-09-20T12:04:05.152Z"
   },
   {
    "duration": 21,
    "start_time": "2022-09-20T12:04:05.206Z"
   },
   {
    "duration": 17,
    "start_time": "2022-09-20T12:04:05.229Z"
   },
   {
    "duration": 56,
    "start_time": "2022-09-20T12:04:05.248Z"
   },
   {
    "duration": 18,
    "start_time": "2022-09-20T12:04:05.306Z"
   },
   {
    "duration": 11,
    "start_time": "2022-09-20T12:04:05.325Z"
   },
   {
    "duration": 16,
    "start_time": "2022-09-20T12:04:05.337Z"
   },
   {
    "duration": 67,
    "start_time": "2022-09-20T12:04:05.355Z"
   },
   {
    "duration": 239,
    "start_time": "2022-09-20T12:04:05.424Z"
   },
   {
    "duration": 6,
    "start_time": "2022-09-20T12:04:05.665Z"
   },
   {
    "duration": 49,
    "start_time": "2022-09-20T12:04:05.673Z"
   },
   {
    "duration": 15,
    "start_time": "2022-09-20T12:04:05.724Z"
   },
   {
    "duration": 9,
    "start_time": "2022-09-20T12:04:05.740Z"
   },
   {
    "duration": 14,
    "start_time": "2022-09-20T12:04:05.751Z"
   },
   {
    "duration": 58,
    "start_time": "2022-09-20T12:04:05.766Z"
   },
   {
    "duration": 232,
    "start_time": "2022-09-20T12:04:05.825Z"
   },
   {
    "duration": 8,
    "start_time": "2022-09-20T12:04:06.059Z"
   },
   {
    "duration": 12,
    "start_time": "2022-09-20T12:04:06.069Z"
   },
   {
    "duration": 19,
    "start_time": "2022-09-20T12:06:52.806Z"
   },
   {
    "duration": 14,
    "start_time": "2022-09-20T12:34:48.604Z"
   },
   {
    "duration": 268,
    "start_time": "2022-09-20T12:38:12.193Z"
   },
   {
    "duration": 218,
    "start_time": "2022-09-20T12:38:45.996Z"
   },
   {
    "duration": 2622,
    "start_time": "2022-09-20T12:45:12.694Z"
   },
   {
    "duration": 17,
    "start_time": "2022-09-20T12:45:58.692Z"
   },
   {
    "duration": 695,
    "start_time": "2022-09-20T12:48:21.980Z"
   },
   {
    "duration": 15,
    "start_time": "2022-09-20T12:48:42.450Z"
   },
   {
    "duration": 18,
    "start_time": "2022-09-20T12:52:31.885Z"
   },
   {
    "duration": 39,
    "start_time": "2022-09-20T12:54:05.985Z"
   },
   {
    "duration": 24,
    "start_time": "2022-09-20T12:54:10.796Z"
   },
   {
    "duration": 21,
    "start_time": "2022-09-20T12:54:28.539Z"
   },
   {
    "duration": 1317,
    "start_time": "2022-09-20T12:55:06.130Z"
   },
   {
    "duration": 3,
    "start_time": "2022-09-20T12:55:07.449Z"
   },
   {
    "duration": 91,
    "start_time": "2022-09-20T12:55:07.454Z"
   },
   {
    "duration": 17,
    "start_time": "2022-09-20T12:55:07.547Z"
   },
   {
    "duration": 30,
    "start_time": "2022-09-20T12:55:07.566Z"
   },
   {
    "duration": 6,
    "start_time": "2022-09-20T12:55:07.597Z"
   },
   {
    "duration": 8,
    "start_time": "2022-09-20T12:55:07.605Z"
   },
   {
    "duration": 44,
    "start_time": "2022-09-20T12:55:07.615Z"
   },
   {
    "duration": 14,
    "start_time": "2022-09-20T12:55:07.661Z"
   },
   {
    "duration": 19,
    "start_time": "2022-09-20T12:55:07.677Z"
   },
   {
    "duration": 4,
    "start_time": "2022-09-20T12:55:07.697Z"
   },
   {
    "duration": 10,
    "start_time": "2022-09-20T12:55:07.702Z"
   },
   {
    "duration": 11,
    "start_time": "2022-09-20T12:55:07.714Z"
   },
   {
    "duration": 27,
    "start_time": "2022-09-20T12:55:07.729Z"
   },
   {
    "duration": 6,
    "start_time": "2022-09-20T12:55:07.758Z"
   },
   {
    "duration": 11,
    "start_time": "2022-09-20T12:55:07.797Z"
   },
   {
    "duration": 8,
    "start_time": "2022-09-20T12:55:07.810Z"
   },
   {
    "duration": 6,
    "start_time": "2022-09-20T12:55:07.820Z"
   },
   {
    "duration": 40,
    "start_time": "2022-09-20T12:55:07.828Z"
   },
   {
    "duration": 17,
    "start_time": "2022-09-20T12:55:07.894Z"
   },
   {
    "duration": 14,
    "start_time": "2022-09-20T12:55:07.913Z"
   },
   {
    "duration": 13,
    "start_time": "2022-09-20T12:55:07.928Z"
   },
   {
    "duration": 55,
    "start_time": "2022-09-20T12:55:07.942Z"
   },
   {
    "duration": 13,
    "start_time": "2022-09-20T12:55:07.999Z"
   },
   {
    "duration": 14,
    "start_time": "2022-09-20T12:55:08.014Z"
   },
   {
    "duration": 30,
    "start_time": "2022-09-20T12:55:08.030Z"
   },
   {
    "duration": 37,
    "start_time": "2022-09-20T12:55:08.062Z"
   },
   {
    "duration": 22,
    "start_time": "2022-09-20T12:55:08.101Z"
   },
   {
    "duration": 21,
    "start_time": "2022-09-20T12:55:08.125Z"
   },
   {
    "duration": 49,
    "start_time": "2022-09-20T12:55:08.149Z"
   },
   {
    "duration": 6,
    "start_time": "2022-09-20T12:55:08.200Z"
   },
   {
    "duration": 31,
    "start_time": "2022-09-20T12:55:08.209Z"
   },
   {
    "duration": 33,
    "start_time": "2022-09-20T12:55:08.242Z"
   },
   {
    "duration": 44,
    "start_time": "2022-09-20T12:55:08.277Z"
   },
   {
    "duration": 16,
    "start_time": "2022-09-20T12:55:08.323Z"
   },
   {
    "duration": 9,
    "start_time": "2022-09-20T12:55:08.341Z"
   },
   {
    "duration": 311,
    "start_time": "2022-09-20T12:55:08.353Z"
   },
   {
    "duration": 26,
    "start_time": "2022-09-20T12:55:08.667Z"
   },
   {
    "duration": 19,
    "start_time": "2022-09-20T12:55:08.695Z"
   },
   {
    "duration": 51,
    "start_time": "2022-09-20T12:55:08.716Z"
   },
   {
    "duration": 251,
    "start_time": "2022-09-20T12:55:08.771Z"
   },
   {
    "duration": 11,
    "start_time": "2022-09-20T12:55:09.024Z"
   },
   {
    "duration": 7,
    "start_time": "2022-09-20T12:55:09.037Z"
   },
   {
    "duration": 52,
    "start_time": "2022-09-20T12:55:09.046Z"
   },
   {
    "duration": 15,
    "start_time": "2022-09-20T12:55:09.100Z"
   },
   {
    "duration": 24,
    "start_time": "2022-09-20T12:55:09.117Z"
   },
   {
    "duration": 17,
    "start_time": "2022-09-20T12:55:09.142Z"
   },
   {
    "duration": 41,
    "start_time": "2022-09-20T12:55:09.161Z"
   },
   {
    "duration": 39,
    "start_time": "2022-09-20T12:55:09.204Z"
   },
   {
    "duration": 14,
    "start_time": "2022-09-20T12:55:09.245Z"
   },
   {
    "duration": 5,
    "start_time": "2022-09-20T12:55:09.261Z"
   },
   {
    "duration": 16,
    "start_time": "2022-09-20T12:55:09.295Z"
   },
   {
    "duration": 50,
    "start_time": "2022-09-20T12:55:09.313Z"
   },
   {
    "duration": 231,
    "start_time": "2022-09-20T12:55:09.364Z"
   },
   {
    "duration": 6,
    "start_time": "2022-09-20T12:55:09.597Z"
   },
   {
    "duration": 33,
    "start_time": "2022-09-20T12:55:09.605Z"
   },
   {
    "duration": 14,
    "start_time": "2022-09-20T12:55:09.640Z"
   },
   {
    "duration": 13,
    "start_time": "2022-09-20T12:55:09.657Z"
   },
   {
    "duration": 37,
    "start_time": "2022-09-20T12:55:09.672Z"
   },
   {
    "duration": 48,
    "start_time": "2022-09-20T12:55:09.712Z"
   },
   {
    "duration": 256,
    "start_time": "2022-09-20T12:55:09.762Z"
   },
   {
    "duration": 9,
    "start_time": "2022-09-20T12:55:10.020Z"
   },
   {
    "duration": 33,
    "start_time": "2022-09-20T12:55:10.031Z"
   },
   {
    "duration": 1205,
    "start_time": "2022-09-20T12:56:40.708Z"
   },
   {
    "duration": 3,
    "start_time": "2022-09-20T12:56:41.915Z"
   },
   {
    "duration": 85,
    "start_time": "2022-09-20T12:56:41.920Z"
   },
   {
    "duration": 18,
    "start_time": "2022-09-20T12:56:42.007Z"
   },
   {
    "duration": 15,
    "start_time": "2022-09-20T12:56:42.026Z"
   },
   {
    "duration": 7,
    "start_time": "2022-09-20T12:56:42.042Z"
   },
   {
    "duration": 6,
    "start_time": "2022-09-20T12:56:42.051Z"
   },
   {
    "duration": 55,
    "start_time": "2022-09-20T12:56:42.058Z"
   },
   {
    "duration": 14,
    "start_time": "2022-09-20T12:56:42.116Z"
   },
   {
    "duration": 11,
    "start_time": "2022-09-20T12:56:42.133Z"
   },
   {
    "duration": 3,
    "start_time": "2022-09-20T12:56:42.146Z"
   },
   {
    "duration": 6,
    "start_time": "2022-09-20T12:56:42.151Z"
   },
   {
    "duration": 36,
    "start_time": "2022-09-20T12:56:42.159Z"
   },
   {
    "duration": 19,
    "start_time": "2022-09-20T12:56:42.197Z"
   },
   {
    "duration": 7,
    "start_time": "2022-09-20T12:56:42.218Z"
   },
   {
    "duration": 13,
    "start_time": "2022-09-20T12:56:42.226Z"
   },
   {
    "duration": 7,
    "start_time": "2022-09-20T12:56:42.240Z"
   },
   {
    "duration": 9,
    "start_time": "2022-09-20T12:56:42.249Z"
   },
   {
    "duration": 66,
    "start_time": "2022-09-20T12:56:42.259Z"
   },
   {
    "duration": 11,
    "start_time": "2022-09-20T12:56:42.327Z"
   },
   {
    "duration": 19,
    "start_time": "2022-09-20T12:56:42.340Z"
   },
   {
    "duration": 13,
    "start_time": "2022-09-20T12:56:42.361Z"
   },
   {
    "duration": 34,
    "start_time": "2022-09-20T12:56:42.375Z"
   },
   {
    "duration": 11,
    "start_time": "2022-09-20T12:56:42.410Z"
   },
   {
    "duration": 14,
    "start_time": "2022-09-20T12:56:42.422Z"
   },
   {
    "duration": 23,
    "start_time": "2022-09-20T12:56:42.437Z"
   },
   {
    "duration": 36,
    "start_time": "2022-09-20T12:56:42.462Z"
   },
   {
    "duration": 16,
    "start_time": "2022-09-20T12:56:42.502Z"
   },
   {
    "duration": 12,
    "start_time": "2022-09-20T12:56:42.519Z"
   },
   {
    "duration": 17,
    "start_time": "2022-09-20T12:56:42.532Z"
   },
   {
    "duration": 4,
    "start_time": "2022-09-20T12:56:42.550Z"
   },
   {
    "duration": 56,
    "start_time": "2022-09-20T12:56:42.556Z"
   },
   {
    "duration": 33,
    "start_time": "2022-09-20T12:56:42.614Z"
   },
   {
    "duration": 48,
    "start_time": "2022-09-20T12:56:42.648Z"
   },
   {
    "duration": 17,
    "start_time": "2022-09-20T12:56:42.698Z"
   },
   {
    "duration": 14,
    "start_time": "2022-09-20T12:56:42.716Z"
   },
   {
    "duration": 313,
    "start_time": "2022-09-20T12:56:42.731Z"
   },
   {
    "duration": 19,
    "start_time": "2022-09-20T12:56:43.046Z"
   },
   {
    "duration": 15,
    "start_time": "2022-09-20T12:56:43.066Z"
   },
   {
    "duration": 48,
    "start_time": "2022-09-20T12:56:43.083Z"
   },
   {
    "duration": 199,
    "start_time": "2022-09-20T12:56:43.133Z"
   },
   {
    "duration": 12,
    "start_time": "2022-09-20T12:56:43.334Z"
   },
   {
    "duration": 6,
    "start_time": "2022-09-20T12:56:43.348Z"
   },
   {
    "duration": 47,
    "start_time": "2022-09-20T12:56:43.356Z"
   },
   {
    "duration": 14,
    "start_time": "2022-09-20T12:56:43.405Z"
   },
   {
    "duration": 22,
    "start_time": "2022-09-20T12:56:43.421Z"
   },
   {
    "duration": 15,
    "start_time": "2022-09-20T12:56:43.445Z"
   },
   {
    "duration": 46,
    "start_time": "2022-09-20T12:56:43.462Z"
   },
   {
    "duration": 36,
    "start_time": "2022-09-20T12:56:43.510Z"
   },
   {
    "duration": 14,
    "start_time": "2022-09-20T12:56:43.548Z"
   },
   {
    "duration": 9,
    "start_time": "2022-09-20T12:56:43.563Z"
   },
   {
    "duration": 32,
    "start_time": "2022-09-20T12:56:43.574Z"
   },
   {
    "duration": 33,
    "start_time": "2022-09-20T12:56:43.609Z"
   },
   {
    "duration": 244,
    "start_time": "2022-09-20T12:56:43.644Z"
   },
   {
    "duration": 7,
    "start_time": "2022-09-20T12:56:43.891Z"
   },
   {
    "duration": 36,
    "start_time": "2022-09-20T12:56:43.901Z"
   },
   {
    "duration": 12,
    "start_time": "2022-09-20T12:56:43.940Z"
   },
   {
    "duration": 7,
    "start_time": "2022-09-20T12:56:43.954Z"
   },
   {
    "duration": 41,
    "start_time": "2022-09-20T12:56:43.963Z"
   },
   {
    "duration": 37,
    "start_time": "2022-09-20T12:56:44.005Z"
   },
   {
    "duration": 252,
    "start_time": "2022-09-20T12:56:44.044Z"
   },
   {
    "duration": 9,
    "start_time": "2022-09-20T12:56:44.298Z"
   },
   {
    "duration": 35,
    "start_time": "2022-09-20T12:56:44.309Z"
   },
   {
    "duration": 10,
    "start_time": "2022-09-20T12:57:00.405Z"
   },
   {
    "duration": 1230,
    "start_time": "2022-09-20T12:57:26.410Z"
   },
   {
    "duration": 3,
    "start_time": "2022-09-20T12:57:27.642Z"
   },
   {
    "duration": 74,
    "start_time": "2022-09-20T12:57:27.646Z"
   },
   {
    "duration": 18,
    "start_time": "2022-09-20T12:57:27.722Z"
   },
   {
    "duration": 14,
    "start_time": "2022-09-20T12:57:27.742Z"
   },
   {
    "duration": 5,
    "start_time": "2022-09-20T12:57:27.758Z"
   },
   {
    "duration": 32,
    "start_time": "2022-09-20T12:57:27.765Z"
   },
   {
    "duration": 24,
    "start_time": "2022-09-20T12:57:27.802Z"
   },
   {
    "duration": 11,
    "start_time": "2022-09-20T12:57:27.827Z"
   },
   {
    "duration": 10,
    "start_time": "2022-09-20T12:57:27.839Z"
   },
   {
    "duration": 4,
    "start_time": "2022-09-20T12:57:27.850Z"
   },
   {
    "duration": 8,
    "start_time": "2022-09-20T12:57:27.855Z"
   },
   {
    "duration": 32,
    "start_time": "2022-09-20T12:57:27.865Z"
   },
   {
    "duration": 19,
    "start_time": "2022-09-20T12:57:27.900Z"
   },
   {
    "duration": 6,
    "start_time": "2022-09-20T12:57:27.921Z"
   },
   {
    "duration": 18,
    "start_time": "2022-09-20T12:57:27.928Z"
   },
   {
    "duration": 6,
    "start_time": "2022-09-20T12:57:27.948Z"
   },
   {
    "duration": 15,
    "start_time": "2022-09-20T12:57:27.956Z"
   },
   {
    "duration": 62,
    "start_time": "2022-09-20T12:57:27.974Z"
   },
   {
    "duration": 12,
    "start_time": "2022-09-20T12:57:28.038Z"
   },
   {
    "duration": 17,
    "start_time": "2022-09-20T12:57:28.052Z"
   },
   {
    "duration": 27,
    "start_time": "2022-09-20T12:57:28.071Z"
   },
   {
    "duration": 30,
    "start_time": "2022-09-20T12:57:28.101Z"
   },
   {
    "duration": 18,
    "start_time": "2022-09-20T12:57:28.133Z"
   },
   {
    "duration": 41,
    "start_time": "2022-09-20T12:57:28.154Z"
   },
   {
    "duration": 20,
    "start_time": "2022-09-20T12:57:28.197Z"
   },
   {
    "duration": 13,
    "start_time": "2022-09-20T12:57:28.218Z"
   },
   {
    "duration": 16,
    "start_time": "2022-09-20T12:57:28.232Z"
   },
   {
    "duration": 12,
    "start_time": "2022-09-20T12:57:28.249Z"
   },
   {
    "duration": 49,
    "start_time": "2022-09-20T12:57:28.262Z"
   },
   {
    "duration": 5,
    "start_time": "2022-09-20T12:57:28.313Z"
   },
   {
    "duration": 19,
    "start_time": "2022-09-20T12:57:28.320Z"
   },
   {
    "duration": 55,
    "start_time": "2022-09-20T12:57:28.341Z"
   },
   {
    "duration": 20,
    "start_time": "2022-09-20T12:57:28.398Z"
   },
   {
    "duration": 14,
    "start_time": "2022-09-20T12:57:28.419Z"
   },
   {
    "duration": 7,
    "start_time": "2022-09-20T12:57:28.435Z"
   },
   {
    "duration": 312,
    "start_time": "2022-09-20T12:57:28.444Z"
   },
   {
    "duration": 23,
    "start_time": "2022-09-20T12:57:28.758Z"
   },
   {
    "duration": 19,
    "start_time": "2022-09-20T12:57:28.783Z"
   },
   {
    "duration": 65,
    "start_time": "2022-09-20T12:57:28.804Z"
   },
   {
    "duration": 217,
    "start_time": "2022-09-20T12:57:28.873Z"
   },
   {
    "duration": 11,
    "start_time": "2022-09-20T12:57:29.092Z"
   },
   {
    "duration": 7,
    "start_time": "2022-09-20T12:57:29.105Z"
   },
   {
    "duration": 20,
    "start_time": "2022-09-20T12:57:29.114Z"
   },
   {
    "duration": 15,
    "start_time": "2022-09-20T12:57:29.137Z"
   },
   {
    "duration": 52,
    "start_time": "2022-09-20T12:57:29.154Z"
   },
   {
    "duration": 16,
    "start_time": "2022-09-20T12:57:29.208Z"
   },
   {
    "duration": 18,
    "start_time": "2022-09-20T12:57:29.226Z"
   },
   {
    "duration": 62,
    "start_time": "2022-09-20T12:57:29.246Z"
   },
   {
    "duration": 14,
    "start_time": "2022-09-20T12:57:29.310Z"
   },
   {
    "duration": 8,
    "start_time": "2022-09-20T12:57:29.326Z"
   },
   {
    "duration": 16,
    "start_time": "2022-09-20T12:57:29.336Z"
   },
   {
    "duration": 49,
    "start_time": "2022-09-20T12:57:29.354Z"
   },
   {
    "duration": 216,
    "start_time": "2022-09-20T12:57:29.405Z"
   },
   {
    "duration": 7,
    "start_time": "2022-09-20T12:57:29.623Z"
   },
   {
    "duration": 30,
    "start_time": "2022-09-20T12:57:29.631Z"
   },
   {
    "duration": 41,
    "start_time": "2022-09-20T12:57:29.663Z"
   },
   {
    "duration": 5,
    "start_time": "2022-09-20T12:57:29.706Z"
   },
   {
    "duration": 17,
    "start_time": "2022-09-20T12:57:29.713Z"
   },
   {
    "duration": 36,
    "start_time": "2022-09-20T12:57:29.732Z"
   },
   {
    "duration": 236,
    "start_time": "2022-09-20T12:57:29.770Z"
   },
   {
    "duration": 9,
    "start_time": "2022-09-20T12:57:30.008Z"
   },
   {
    "duration": 23,
    "start_time": "2022-09-20T12:57:30.019Z"
   },
   {
    "duration": 14,
    "start_time": "2022-09-20T12:57:30.044Z"
   },
   {
    "duration": 9,
    "start_time": "2022-09-20T12:58:33.859Z"
   },
   {
    "duration": 133,
    "start_time": "2022-09-20T12:58:52.162Z"
   },
   {
    "duration": 14,
    "start_time": "2022-09-20T13:02:02.600Z"
   },
   {
    "duration": 10,
    "start_time": "2022-09-20T13:02:09.094Z"
   },
   {
    "duration": 1147,
    "start_time": "2022-09-20T13:03:08.204Z"
   },
   {
    "duration": 3,
    "start_time": "2022-09-20T13:03:09.353Z"
   },
   {
    "duration": 88,
    "start_time": "2022-09-20T13:03:09.358Z"
   },
   {
    "duration": 18,
    "start_time": "2022-09-20T13:03:09.448Z"
   },
   {
    "duration": 20,
    "start_time": "2022-09-20T13:03:09.468Z"
   },
   {
    "duration": 9,
    "start_time": "2022-09-20T13:03:09.489Z"
   },
   {
    "duration": 19,
    "start_time": "2022-09-20T13:03:09.500Z"
   },
   {
    "duration": 21,
    "start_time": "2022-09-20T13:03:09.521Z"
   },
   {
    "duration": 9,
    "start_time": "2022-09-20T13:03:09.544Z"
   },
   {
    "duration": 9,
    "start_time": "2022-09-20T13:03:09.556Z"
   },
   {
    "duration": 3,
    "start_time": "2022-09-20T13:03:09.567Z"
   },
   {
    "duration": 5,
    "start_time": "2022-09-20T13:03:09.601Z"
   },
   {
    "duration": 11,
    "start_time": "2022-09-20T13:03:09.608Z"
   },
   {
    "duration": 20,
    "start_time": "2022-09-20T13:03:09.621Z"
   },
   {
    "duration": 6,
    "start_time": "2022-09-20T13:03:09.643Z"
   },
   {
    "duration": 11,
    "start_time": "2022-09-20T13:03:09.651Z"
   },
   {
    "duration": 7,
    "start_time": "2022-09-20T13:03:09.664Z"
   },
   {
    "duration": 7,
    "start_time": "2022-09-20T13:03:09.700Z"
   },
   {
    "duration": 40,
    "start_time": "2022-09-20T13:03:09.709Z"
   },
   {
    "duration": 10,
    "start_time": "2022-09-20T13:03:09.751Z"
   },
   {
    "duration": 10,
    "start_time": "2022-09-20T13:03:09.762Z"
   },
   {
    "duration": 10,
    "start_time": "2022-09-20T13:03:09.796Z"
   },
   {
    "duration": 24,
    "start_time": "2022-09-20T13:03:09.808Z"
   },
   {
    "duration": 12,
    "start_time": "2022-09-20T13:03:09.834Z"
   },
   {
    "duration": 13,
    "start_time": "2022-09-20T13:03:09.847Z"
   },
   {
    "duration": 60,
    "start_time": "2022-09-20T13:03:09.862Z"
   },
   {
    "duration": 12,
    "start_time": "2022-09-20T13:03:09.924Z"
   },
   {
    "duration": 16,
    "start_time": "2022-09-20T13:03:09.939Z"
   },
   {
    "duration": 10,
    "start_time": "2022-09-20T13:03:09.957Z"
   },
   {
    "duration": 54,
    "start_time": "2022-09-20T13:03:09.969Z"
   },
   {
    "duration": 4,
    "start_time": "2022-09-20T13:03:10.025Z"
   },
   {
    "duration": 23,
    "start_time": "2022-09-20T13:03:10.030Z"
   },
   {
    "duration": 52,
    "start_time": "2022-09-20T13:03:10.054Z"
   },
   {
    "duration": 25,
    "start_time": "2022-09-20T13:03:10.109Z"
   },
   {
    "duration": 15,
    "start_time": "2022-09-20T13:03:10.135Z"
   },
   {
    "duration": 8,
    "start_time": "2022-09-20T13:03:10.152Z"
   },
   {
    "duration": 311,
    "start_time": "2022-09-20T13:03:10.161Z"
   },
   {
    "duration": 18,
    "start_time": "2022-09-20T13:03:10.474Z"
   },
   {
    "duration": 23,
    "start_time": "2022-09-20T13:03:10.499Z"
   },
   {
    "duration": 46,
    "start_time": "2022-09-20T13:03:10.523Z"
   },
   {
    "duration": 245,
    "start_time": "2022-09-20T13:03:10.571Z"
   },
   {
    "duration": 12,
    "start_time": "2022-09-20T13:03:10.819Z"
   },
   {
    "duration": 8,
    "start_time": "2022-09-20T13:03:10.832Z"
   },
   {
    "duration": 21,
    "start_time": "2022-09-20T13:03:10.842Z"
   },
   {
    "duration": 34,
    "start_time": "2022-09-20T13:03:10.865Z"
   },
   {
    "duration": 22,
    "start_time": "2022-09-20T13:03:10.900Z"
   },
   {
    "duration": 16,
    "start_time": "2022-09-20T13:03:10.924Z"
   },
   {
    "duration": 17,
    "start_time": "2022-09-20T13:03:10.942Z"
   },
   {
    "duration": 72,
    "start_time": "2022-09-20T13:03:10.960Z"
   },
   {
    "duration": 14,
    "start_time": "2022-09-20T13:03:11.034Z"
   },
   {
    "duration": 5,
    "start_time": "2022-09-20T13:03:11.050Z"
   },
   {
    "duration": 18,
    "start_time": "2022-09-20T13:03:11.057Z"
   },
   {
    "duration": 40,
    "start_time": "2022-09-20T13:03:11.095Z"
   },
   {
    "duration": 225,
    "start_time": "2022-09-20T13:03:11.137Z"
   },
   {
    "duration": 5,
    "start_time": "2022-09-20T13:03:11.364Z"
   },
   {
    "duration": 43,
    "start_time": "2022-09-20T13:03:11.370Z"
   },
   {
    "duration": 13,
    "start_time": "2022-09-20T13:03:11.416Z"
   },
   {
    "duration": 12,
    "start_time": "2022-09-20T13:03:11.431Z"
   },
   {
    "duration": 24,
    "start_time": "2022-09-20T13:03:11.444Z"
   },
   {
    "duration": 54,
    "start_time": "2022-09-20T13:03:11.469Z"
   },
   {
    "duration": 252,
    "start_time": "2022-09-20T13:03:11.525Z"
   },
   {
    "duration": 9,
    "start_time": "2022-09-20T13:03:11.779Z"
   },
   {
    "duration": 24,
    "start_time": "2022-09-20T13:03:11.789Z"
   },
   {
    "duration": 9,
    "start_time": "2022-09-20T13:03:11.815Z"
   },
   {
    "duration": 1317,
    "start_time": "2022-09-20T13:03:30.679Z"
   },
   {
    "duration": 5,
    "start_time": "2022-09-20T13:03:31.999Z"
   },
   {
    "duration": 80,
    "start_time": "2022-09-20T13:03:32.006Z"
   },
   {
    "duration": 21,
    "start_time": "2022-09-20T13:03:32.088Z"
   },
   {
    "duration": 20,
    "start_time": "2022-09-20T13:03:32.113Z"
   },
   {
    "duration": 13,
    "start_time": "2022-09-20T13:03:32.135Z"
   },
   {
    "duration": 20,
    "start_time": "2022-09-20T13:03:32.149Z"
   },
   {
    "duration": 46,
    "start_time": "2022-09-20T13:03:32.171Z"
   },
   {
    "duration": 10,
    "start_time": "2022-09-20T13:03:32.220Z"
   },
   {
    "duration": 10,
    "start_time": "2022-09-20T13:03:32.232Z"
   },
   {
    "duration": 14,
    "start_time": "2022-09-20T13:03:32.244Z"
   },
   {
    "duration": 12,
    "start_time": "2022-09-20T13:03:32.260Z"
   },
   {
    "duration": 47,
    "start_time": "2022-09-20T13:03:32.273Z"
   },
   {
    "duration": 42,
    "start_time": "2022-09-20T13:03:32.324Z"
   },
   {
    "duration": 10,
    "start_time": "2022-09-20T13:03:32.368Z"
   },
   {
    "duration": 19,
    "start_time": "2022-09-20T13:03:32.379Z"
   },
   {
    "duration": 18,
    "start_time": "2022-09-20T13:03:32.400Z"
   },
   {
    "duration": 28,
    "start_time": "2022-09-20T13:03:32.420Z"
   },
   {
    "duration": 58,
    "start_time": "2022-09-20T13:03:32.450Z"
   },
   {
    "duration": 23,
    "start_time": "2022-09-20T13:03:32.510Z"
   },
   {
    "duration": 13,
    "start_time": "2022-09-20T13:03:32.534Z"
   },
   {
    "duration": 31,
    "start_time": "2022-09-20T13:03:32.549Z"
   },
   {
    "duration": 40,
    "start_time": "2022-09-20T13:03:32.581Z"
   },
   {
    "duration": 12,
    "start_time": "2022-09-20T13:03:32.622Z"
   },
   {
    "duration": 29,
    "start_time": "2022-09-20T13:03:32.635Z"
   },
   {
    "duration": 21,
    "start_time": "2022-09-20T13:03:32.665Z"
   },
   {
    "duration": 25,
    "start_time": "2022-09-20T13:03:32.688Z"
   },
   {
    "duration": 38,
    "start_time": "2022-09-20T13:03:32.715Z"
   },
   {
    "duration": 19,
    "start_time": "2022-09-20T13:03:32.754Z"
   },
   {
    "duration": 25,
    "start_time": "2022-09-20T13:03:32.774Z"
   },
   {
    "duration": 8,
    "start_time": "2022-09-20T13:03:32.802Z"
   },
   {
    "duration": 22,
    "start_time": "2022-09-20T13:03:32.821Z"
   },
   {
    "duration": 61,
    "start_time": "2022-09-20T13:03:32.845Z"
   },
   {
    "duration": 24,
    "start_time": "2022-09-20T13:03:32.908Z"
   },
   {
    "duration": 18,
    "start_time": "2022-09-20T13:03:32.934Z"
   },
   {
    "duration": 18,
    "start_time": "2022-09-20T13:03:32.954Z"
   },
   {
    "duration": 307,
    "start_time": "2022-09-20T13:03:32.974Z"
   },
   {
    "duration": 24,
    "start_time": "2022-09-20T13:03:33.282Z"
   },
   {
    "duration": 39,
    "start_time": "2022-09-20T13:03:33.309Z"
   },
   {
    "duration": 49,
    "start_time": "2022-09-20T13:03:33.350Z"
   },
   {
    "duration": 237,
    "start_time": "2022-09-20T13:03:33.403Z"
   },
   {
    "duration": 14,
    "start_time": "2022-09-20T13:03:33.642Z"
   },
   {
    "duration": 8,
    "start_time": "2022-09-20T13:03:33.657Z"
   },
   {
    "duration": 55,
    "start_time": "2022-09-20T13:03:33.666Z"
   },
   {
    "duration": 16,
    "start_time": "2022-09-20T13:03:33.723Z"
   },
   {
    "duration": 25,
    "start_time": "2022-09-20T13:03:33.741Z"
   },
   {
    "duration": 33,
    "start_time": "2022-09-20T13:03:33.768Z"
   },
   {
    "duration": 19,
    "start_time": "2022-09-20T13:03:33.803Z"
   },
   {
    "duration": 49,
    "start_time": "2022-09-20T13:03:33.823Z"
   },
   {
    "duration": 30,
    "start_time": "2022-09-20T13:03:33.873Z"
   },
   {
    "duration": 15,
    "start_time": "2022-09-20T13:03:33.906Z"
   },
   {
    "duration": 17,
    "start_time": "2022-09-20T13:03:33.923Z"
   },
   {
    "duration": 35,
    "start_time": "2022-09-20T13:03:33.941Z"
   },
   {
    "duration": 229,
    "start_time": "2022-09-20T13:03:33.977Z"
   },
   {
    "duration": 11,
    "start_time": "2022-09-20T13:03:34.209Z"
   },
   {
    "duration": 28,
    "start_time": "2022-09-20T13:03:34.221Z"
   },
   {
    "duration": 12,
    "start_time": "2022-09-20T13:03:34.250Z"
   },
   {
    "duration": 32,
    "start_time": "2022-09-20T13:03:34.264Z"
   },
   {
    "duration": 19,
    "start_time": "2022-09-20T13:03:34.298Z"
   },
   {
    "duration": 35,
    "start_time": "2022-09-20T13:03:34.319Z"
   },
   {
    "duration": 237,
    "start_time": "2022-09-20T13:03:34.355Z"
   },
   {
    "duration": 8,
    "start_time": "2022-09-20T13:03:34.594Z"
   },
   {
    "duration": 22,
    "start_time": "2022-09-20T13:03:34.604Z"
   },
   {
    "duration": 11,
    "start_time": "2022-09-20T13:03:34.628Z"
   },
   {
    "duration": 1307,
    "start_time": "2022-09-20T13:03:57.934Z"
   },
   {
    "duration": 3,
    "start_time": "2022-09-20T13:03:59.244Z"
   },
   {
    "duration": 89,
    "start_time": "2022-09-20T13:03:59.248Z"
   },
   {
    "duration": 23,
    "start_time": "2022-09-20T13:03:59.338Z"
   },
   {
    "duration": 37,
    "start_time": "2022-09-20T13:03:59.364Z"
   },
   {
    "duration": 7,
    "start_time": "2022-09-20T13:03:59.403Z"
   },
   {
    "duration": 10,
    "start_time": "2022-09-20T13:03:59.411Z"
   },
   {
    "duration": 17,
    "start_time": "2022-09-20T13:03:59.423Z"
   },
   {
    "duration": 9,
    "start_time": "2022-09-20T13:03:59.442Z"
   },
   {
    "duration": 10,
    "start_time": "2022-09-20T13:03:59.453Z"
   },
   {
    "duration": 32,
    "start_time": "2022-09-20T13:03:59.464Z"
   },
   {
    "duration": 12,
    "start_time": "2022-09-20T13:03:59.498Z"
   },
   {
    "duration": 17,
    "start_time": "2022-09-20T13:03:59.512Z"
   },
   {
    "duration": 20,
    "start_time": "2022-09-20T13:03:59.532Z"
   },
   {
    "duration": 6,
    "start_time": "2022-09-20T13:03:59.554Z"
   },
   {
    "duration": 16,
    "start_time": "2022-09-20T13:03:59.561Z"
   },
   {
    "duration": 19,
    "start_time": "2022-09-20T13:03:59.578Z"
   },
   {
    "duration": 10,
    "start_time": "2022-09-20T13:03:59.599Z"
   },
   {
    "duration": 48,
    "start_time": "2022-09-20T13:03:59.611Z"
   },
   {
    "duration": 13,
    "start_time": "2022-09-20T13:03:59.661Z"
   },
   {
    "duration": 22,
    "start_time": "2022-09-20T13:03:59.694Z"
   },
   {
    "duration": 13,
    "start_time": "2022-09-20T13:03:59.719Z"
   },
   {
    "duration": 24,
    "start_time": "2022-09-20T13:03:59.734Z"
   },
   {
    "duration": 40,
    "start_time": "2022-09-20T13:03:59.761Z"
   },
   {
    "duration": 18,
    "start_time": "2022-09-20T13:03:59.803Z"
   },
   {
    "duration": 20,
    "start_time": "2022-09-20T13:03:59.822Z"
   },
   {
    "duration": 12,
    "start_time": "2022-09-20T13:03:59.843Z"
   },
   {
    "duration": 45,
    "start_time": "2022-09-20T13:03:59.857Z"
   },
   {
    "duration": 18,
    "start_time": "2022-09-20T13:03:59.908Z"
   },
   {
    "duration": 16,
    "start_time": "2022-09-20T13:03:59.927Z"
   },
   {
    "duration": 4,
    "start_time": "2022-09-20T13:03:59.944Z"
   },
   {
    "duration": 20,
    "start_time": "2022-09-20T13:03:59.950Z"
   },
   {
    "duration": 65,
    "start_time": "2022-09-20T13:03:59.972Z"
   },
   {
    "duration": 22,
    "start_time": "2022-09-20T13:04:00.038Z"
   },
   {
    "duration": 38,
    "start_time": "2022-09-20T13:04:00.062Z"
   },
   {
    "duration": 13,
    "start_time": "2022-09-20T13:04:00.103Z"
   },
   {
    "duration": 301,
    "start_time": "2022-09-20T13:04:00.119Z"
   },
   {
    "duration": 18,
    "start_time": "2022-09-20T13:04:00.422Z"
   },
   {
    "duration": 23,
    "start_time": "2022-09-20T13:04:00.442Z"
   },
   {
    "duration": 53,
    "start_time": "2022-09-20T13:04:00.466Z"
   },
   {
    "duration": 218,
    "start_time": "2022-09-20T13:04:00.524Z"
   },
   {
    "duration": 11,
    "start_time": "2022-09-20T13:04:00.744Z"
   },
   {
    "duration": 6,
    "start_time": "2022-09-20T13:04:00.757Z"
   },
   {
    "duration": 42,
    "start_time": "2022-09-20T13:04:00.765Z"
   },
   {
    "duration": 22,
    "start_time": "2022-09-20T13:04:00.809Z"
   },
   {
    "duration": 45,
    "start_time": "2022-09-20T13:04:00.833Z"
   },
   {
    "duration": 16,
    "start_time": "2022-09-20T13:04:00.880Z"
   },
   {
    "duration": 22,
    "start_time": "2022-09-20T13:04:00.898Z"
   },
   {
    "duration": 36,
    "start_time": "2022-09-20T13:04:00.922Z"
   },
   {
    "duration": 35,
    "start_time": "2022-09-20T13:04:00.960Z"
   },
   {
    "duration": 7,
    "start_time": "2022-09-20T13:04:00.998Z"
   },
   {
    "duration": 19,
    "start_time": "2022-09-20T13:04:01.007Z"
   },
   {
    "duration": 44,
    "start_time": "2022-09-20T13:04:01.029Z"
   },
   {
    "duration": 236,
    "start_time": "2022-09-20T13:04:01.075Z"
   },
   {
    "duration": 8,
    "start_time": "2022-09-20T13:04:01.313Z"
   },
   {
    "duration": 54,
    "start_time": "2022-09-20T13:04:01.322Z"
   },
   {
    "duration": 12,
    "start_time": "2022-09-20T13:04:01.378Z"
   },
   {
    "duration": 24,
    "start_time": "2022-09-20T13:04:01.397Z"
   },
   {
    "duration": 46,
    "start_time": "2022-09-20T13:04:01.422Z"
   },
   {
    "duration": 68,
    "start_time": "2022-09-20T13:04:01.470Z"
   },
   {
    "duration": 251,
    "start_time": "2022-09-20T13:04:01.540Z"
   },
   {
    "duration": 10,
    "start_time": "2022-09-20T13:04:01.793Z"
   },
   {
    "duration": 35,
    "start_time": "2022-09-20T13:04:01.804Z"
   },
   {
    "duration": 12,
    "start_time": "2022-09-20T13:04:01.841Z"
   },
   {
    "duration": 1311,
    "start_time": "2022-09-20T13:07:01.822Z"
   },
   {
    "duration": 5,
    "start_time": "2022-09-20T13:07:03.135Z"
   },
   {
    "duration": 88,
    "start_time": "2022-09-20T13:07:03.141Z"
   },
   {
    "duration": 17,
    "start_time": "2022-09-20T13:07:03.231Z"
   },
   {
    "duration": 15,
    "start_time": "2022-09-20T13:07:03.251Z"
   },
   {
    "duration": 37,
    "start_time": "2022-09-20T13:07:03.268Z"
   },
   {
    "duration": 7,
    "start_time": "2022-09-20T13:07:03.315Z"
   },
   {
    "duration": 22,
    "start_time": "2022-09-20T13:07:03.324Z"
   },
   {
    "duration": 12,
    "start_time": "2022-09-20T13:07:03.348Z"
   },
   {
    "duration": 12,
    "start_time": "2022-09-20T13:07:03.362Z"
   },
   {
    "duration": 23,
    "start_time": "2022-09-20T13:07:03.376Z"
   },
   {
    "duration": 5,
    "start_time": "2022-09-20T13:07:03.402Z"
   },
   {
    "duration": 21,
    "start_time": "2022-09-20T13:07:03.409Z"
   },
   {
    "duration": 20,
    "start_time": "2022-09-20T13:07:03.433Z"
   },
   {
    "duration": 6,
    "start_time": "2022-09-20T13:07:03.455Z"
   },
   {
    "duration": 10,
    "start_time": "2022-09-20T13:07:03.463Z"
   },
   {
    "duration": 21,
    "start_time": "2022-09-20T13:07:03.475Z"
   },
   {
    "duration": 7,
    "start_time": "2022-09-20T13:07:03.498Z"
   },
   {
    "duration": 52,
    "start_time": "2022-09-20T13:07:03.506Z"
   },
   {
    "duration": 11,
    "start_time": "2022-09-20T13:07:03.560Z"
   },
   {
    "duration": 23,
    "start_time": "2022-09-20T13:07:03.572Z"
   },
   {
    "duration": 27,
    "start_time": "2022-09-20T13:07:03.599Z"
   },
   {
    "duration": 28,
    "start_time": "2022-09-20T13:07:03.628Z"
   },
   {
    "duration": 12,
    "start_time": "2022-09-20T13:07:03.657Z"
   },
   {
    "duration": 41,
    "start_time": "2022-09-20T13:07:03.670Z"
   },
   {
    "duration": 35,
    "start_time": "2022-09-20T13:07:03.713Z"
   },
   {
    "duration": 11,
    "start_time": "2022-09-20T13:07:03.750Z"
   },
   {
    "duration": 16,
    "start_time": "2022-09-20T13:07:03.763Z"
   },
   {
    "duration": 13,
    "start_time": "2022-09-20T13:07:03.781Z"
   },
   {
    "duration": 39,
    "start_time": "2022-09-20T13:07:03.796Z"
   },
   {
    "duration": 4,
    "start_time": "2022-09-20T13:07:03.837Z"
   },
   {
    "duration": 22,
    "start_time": "2022-09-20T13:07:03.842Z"
   },
   {
    "duration": 42,
    "start_time": "2022-09-20T13:07:03.865Z"
   },
   {
    "duration": 25,
    "start_time": "2022-09-20T13:07:03.912Z"
   },
   {
    "duration": 19,
    "start_time": "2022-09-20T13:07:03.938Z"
   },
   {
    "duration": 16,
    "start_time": "2022-09-20T13:07:03.959Z"
   },
   {
    "duration": 308,
    "start_time": "2022-09-20T13:07:03.977Z"
   },
   {
    "duration": 27,
    "start_time": "2022-09-20T13:07:04.287Z"
   },
   {
    "duration": 31,
    "start_time": "2022-09-20T13:07:04.316Z"
   },
   {
    "duration": 57,
    "start_time": "2022-09-20T13:07:04.349Z"
   },
   {
    "duration": 233,
    "start_time": "2022-09-20T13:07:04.412Z"
   },
   {
    "duration": 12,
    "start_time": "2022-09-20T13:07:04.646Z"
   },
   {
    "duration": 20,
    "start_time": "2022-09-20T13:07:04.659Z"
   },
   {
    "duration": 41,
    "start_time": "2022-09-20T13:07:04.681Z"
   },
   {
    "duration": 21,
    "start_time": "2022-09-20T13:07:04.724Z"
   },
   {
    "duration": 29,
    "start_time": "2022-09-20T13:07:04.747Z"
   },
   {
    "duration": 29,
    "start_time": "2022-09-20T13:07:04.778Z"
   },
   {
    "duration": 38,
    "start_time": "2022-09-20T13:07:04.810Z"
   },
   {
    "duration": 39,
    "start_time": "2022-09-20T13:07:04.851Z"
   },
   {
    "duration": 25,
    "start_time": "2022-09-20T13:07:04.891Z"
   },
   {
    "duration": 37,
    "start_time": "2022-09-20T13:07:04.918Z"
   },
   {
    "duration": 24,
    "start_time": "2022-09-20T13:07:04.957Z"
   },
   {
    "duration": 47,
    "start_time": "2022-09-20T13:07:04.983Z"
   },
   {
    "duration": 239,
    "start_time": "2022-09-20T13:07:05.031Z"
   },
   {
    "duration": 5,
    "start_time": "2022-09-20T13:07:05.272Z"
   },
   {
    "duration": 54,
    "start_time": "2022-09-20T13:07:05.279Z"
   },
   {
    "duration": 23,
    "start_time": "2022-09-20T13:07:05.335Z"
   },
   {
    "duration": 22,
    "start_time": "2022-09-20T13:07:05.360Z"
   },
   {
    "duration": 21,
    "start_time": "2022-09-20T13:07:05.384Z"
   },
   {
    "duration": 61,
    "start_time": "2022-09-20T13:07:05.407Z"
   },
   {
    "duration": 255,
    "start_time": "2022-09-20T13:07:05.470Z"
   },
   {
    "duration": 8,
    "start_time": "2022-09-20T13:07:05.726Z"
   },
   {
    "duration": 14,
    "start_time": "2022-09-20T13:07:05.736Z"
   },
   {
    "duration": 13,
    "start_time": "2022-09-20T13:07:05.752Z"
   },
   {
    "duration": 181,
    "start_time": "2022-09-20T13:08:01.160Z"
   },
   {
    "duration": 12,
    "start_time": "2022-09-20T13:08:15.592Z"
   },
   {
    "duration": 8,
    "start_time": "2022-09-20T13:08:17.750Z"
   },
   {
    "duration": 14,
    "start_time": "2022-09-20T13:08:38.056Z"
   },
   {
    "duration": 14,
    "start_time": "2022-09-20T13:09:31.716Z"
   },
   {
    "duration": 114,
    "start_time": "2022-09-20T13:10:14.257Z"
   },
   {
    "duration": 15,
    "start_time": "2022-09-20T13:10:20.836Z"
   },
   {
    "duration": 13,
    "start_time": "2022-09-20T13:10:32.868Z"
   },
   {
    "duration": 16,
    "start_time": "2022-09-20T13:10:38.899Z"
   },
   {
    "duration": 16,
    "start_time": "2022-09-20T13:14:39.418Z"
   },
   {
    "duration": 21,
    "start_time": "2022-09-20T13:15:08.854Z"
   },
   {
    "duration": 13,
    "start_time": "2022-09-20T13:17:21.809Z"
   },
   {
    "duration": 16,
    "start_time": "2022-09-20T13:18:05.032Z"
   },
   {
    "duration": 17,
    "start_time": "2022-09-20T13:19:35.653Z"
   },
   {
    "duration": 21,
    "start_time": "2022-09-20T13:48:52.619Z"
   },
   {
    "duration": 19,
    "start_time": "2022-09-20T13:56:14.555Z"
   },
   {
    "duration": 7,
    "start_time": "2022-09-20T13:56:50.830Z"
   },
   {
    "duration": 7,
    "start_time": "2022-09-20T13:58:30.117Z"
   },
   {
    "duration": 10,
    "start_time": "2022-09-20T13:58:35.330Z"
   },
   {
    "duration": 6,
    "start_time": "2022-09-20T14:00:51.680Z"
   },
   {
    "duration": 5,
    "start_time": "2022-09-20T14:00:52.988Z"
   },
   {
    "duration": 46,
    "start_time": "2022-09-20T14:05:05.085Z"
   },
   {
    "duration": 38,
    "start_time": "2022-09-20T14:05:16.613Z"
   },
   {
    "duration": 39,
    "start_time": "2022-09-20T14:07:54.245Z"
   },
   {
    "duration": 23,
    "start_time": "2022-09-20T15:34:21.315Z"
   },
   {
    "duration": 1188,
    "start_time": "2022-09-20T15:46:35.361Z"
   },
   {
    "duration": 5,
    "start_time": "2022-09-20T15:46:36.552Z"
   },
   {
    "duration": 82,
    "start_time": "2022-09-20T15:46:36.559Z"
   },
   {
    "duration": 24,
    "start_time": "2022-09-20T15:46:36.643Z"
   },
   {
    "duration": 29,
    "start_time": "2022-09-20T15:46:36.670Z"
   },
   {
    "duration": 12,
    "start_time": "2022-09-20T15:46:36.701Z"
   },
   {
    "duration": 35,
    "start_time": "2022-09-20T15:46:36.716Z"
   },
   {
    "duration": 26,
    "start_time": "2022-09-20T15:46:36.753Z"
   },
   {
    "duration": 16,
    "start_time": "2022-09-20T15:46:36.780Z"
   },
   {
    "duration": 15,
    "start_time": "2022-09-20T15:46:36.799Z"
   },
   {
    "duration": 6,
    "start_time": "2022-09-20T15:46:36.817Z"
   },
   {
    "duration": 7,
    "start_time": "2022-09-20T15:46:36.825Z"
   },
   {
    "duration": 11,
    "start_time": "2022-09-20T15:46:36.835Z"
   },
   {
    "duration": 50,
    "start_time": "2022-09-20T15:46:36.850Z"
   },
   {
    "duration": 9,
    "start_time": "2022-09-20T15:46:36.904Z"
   },
   {
    "duration": 17,
    "start_time": "2022-09-20T15:46:36.915Z"
   },
   {
    "duration": 10,
    "start_time": "2022-09-20T15:46:36.934Z"
   },
   {
    "duration": 9,
    "start_time": "2022-09-20T15:46:36.946Z"
   },
   {
    "duration": 61,
    "start_time": "2022-09-20T15:46:36.958Z"
   },
   {
    "duration": 12,
    "start_time": "2022-09-20T15:46:37.020Z"
   },
   {
    "duration": 10,
    "start_time": "2022-09-20T15:46:37.034Z"
   },
   {
    "duration": 9,
    "start_time": "2022-09-20T15:46:37.045Z"
   },
   {
    "duration": 54,
    "start_time": "2022-09-20T15:46:37.056Z"
   },
   {
    "duration": 12,
    "start_time": "2022-09-20T15:46:37.112Z"
   },
   {
    "duration": 11,
    "start_time": "2022-09-20T15:46:37.125Z"
   },
   {
    "duration": 59,
    "start_time": "2022-09-20T15:46:37.139Z"
   },
   {
    "duration": 15,
    "start_time": "2022-09-20T15:46:37.199Z"
   },
   {
    "duration": 17,
    "start_time": "2022-09-20T15:46:37.216Z"
   },
   {
    "duration": 13,
    "start_time": "2022-09-20T15:46:37.234Z"
   },
   {
    "duration": 52,
    "start_time": "2022-09-20T15:46:37.249Z"
   },
   {
    "duration": 5,
    "start_time": "2022-09-20T15:46:37.303Z"
   },
   {
    "duration": 20,
    "start_time": "2022-09-20T15:46:37.309Z"
   },
   {
    "duration": 29,
    "start_time": "2022-09-20T15:46:37.331Z"
   },
   {
    "duration": 41,
    "start_time": "2022-09-20T15:46:37.362Z"
   },
   {
    "duration": 13,
    "start_time": "2022-09-20T15:46:37.405Z"
   },
   {
    "duration": 13,
    "start_time": "2022-09-20T15:46:37.420Z"
   },
   {
    "duration": 298,
    "start_time": "2022-09-20T15:46:37.435Z"
   },
   {
    "duration": 18,
    "start_time": "2022-09-20T15:46:37.735Z"
   },
   {
    "duration": 31,
    "start_time": "2022-09-20T15:46:37.755Z"
   },
   {
    "duration": 59,
    "start_time": "2022-09-20T15:46:37.788Z"
   },
   {
    "duration": 245,
    "start_time": "2022-09-20T15:46:37.852Z"
   },
   {
    "duration": 17,
    "start_time": "2022-09-20T15:46:38.099Z"
   },
   {
    "duration": 24,
    "start_time": "2022-09-20T15:46:38.118Z"
   },
   {
    "duration": 33,
    "start_time": "2022-09-20T15:46:38.144Z"
   },
   {
    "duration": 22,
    "start_time": "2022-09-20T15:46:38.179Z"
   },
   {
    "duration": 21,
    "start_time": "2022-09-20T15:46:38.203Z"
   },
   {
    "duration": 21,
    "start_time": "2022-09-20T15:46:38.225Z"
   },
   {
    "duration": 17,
    "start_time": "2022-09-20T15:46:38.247Z"
   },
   {
    "duration": 56,
    "start_time": "2022-09-20T15:46:38.266Z"
   },
   {
    "duration": 13,
    "start_time": "2022-09-20T15:46:38.324Z"
   },
   {
    "duration": 14,
    "start_time": "2022-09-20T15:46:38.338Z"
   },
   {
    "duration": 18,
    "start_time": "2022-09-20T15:46:38.354Z"
   },
   {
    "duration": 46,
    "start_time": "2022-09-20T15:46:38.373Z"
   },
   {
    "duration": 220,
    "start_time": "2022-09-20T15:46:38.420Z"
   },
   {
    "duration": 6,
    "start_time": "2022-09-20T15:46:38.641Z"
   },
   {
    "duration": 33,
    "start_time": "2022-09-20T15:46:38.649Z"
   },
   {
    "duration": 14,
    "start_time": "2022-09-20T15:46:38.696Z"
   },
   {
    "duration": 16,
    "start_time": "2022-09-20T15:46:38.713Z"
   },
   {
    "duration": 28,
    "start_time": "2022-09-20T15:46:38.731Z"
   },
   {
    "duration": 45,
    "start_time": "2022-09-20T15:46:38.761Z"
   },
   {
    "duration": 246,
    "start_time": "2022-09-20T15:46:38.808Z"
   },
   {
    "duration": 8,
    "start_time": "2022-09-20T15:46:39.056Z"
   },
   {
    "duration": 38,
    "start_time": "2022-09-20T15:46:39.066Z"
   },
   {
    "duration": 15,
    "start_time": "2022-09-20T15:46:39.106Z"
   },
   {
    "duration": 44,
    "start_time": "2022-09-20T15:46:39.122Z"
   },
   {
    "duration": 55,
    "start_time": "2022-09-20T15:57:18.380Z"
   },
   {
    "duration": 1252,
    "start_time": "2022-09-20T15:57:35.808Z"
   },
   {
    "duration": 2,
    "start_time": "2022-09-20T15:57:37.063Z"
   },
   {
    "duration": 87,
    "start_time": "2022-09-20T15:57:37.067Z"
   },
   {
    "duration": 18,
    "start_time": "2022-09-20T15:57:37.156Z"
   },
   {
    "duration": 16,
    "start_time": "2022-09-20T15:57:37.176Z"
   },
   {
    "duration": 12,
    "start_time": "2022-09-20T15:57:37.193Z"
   },
   {
    "duration": 13,
    "start_time": "2022-09-20T15:57:37.206Z"
   },
   {
    "duration": 20,
    "start_time": "2022-09-20T15:57:37.221Z"
   },
   {
    "duration": 12,
    "start_time": "2022-09-20T15:57:37.242Z"
   },
   {
    "duration": 10,
    "start_time": "2022-09-20T15:57:37.255Z"
   },
   {
    "duration": 5,
    "start_time": "2022-09-20T15:57:37.267Z"
   },
   {
    "duration": 5,
    "start_time": "2022-09-20T15:57:37.294Z"
   },
   {
    "duration": 13,
    "start_time": "2022-09-20T15:57:37.301Z"
   },
   {
    "duration": 20,
    "start_time": "2022-09-20T15:57:37.317Z"
   },
   {
    "duration": 6,
    "start_time": "2022-09-20T15:57:37.339Z"
   },
   {
    "duration": 11,
    "start_time": "2022-09-20T15:57:37.347Z"
   },
   {
    "duration": 6,
    "start_time": "2022-09-20T15:57:37.360Z"
   },
   {
    "duration": 7,
    "start_time": "2022-09-20T15:57:37.396Z"
   },
   {
    "duration": 41,
    "start_time": "2022-09-20T15:57:37.406Z"
   },
   {
    "duration": 10,
    "start_time": "2022-09-20T15:57:37.449Z"
   },
   {
    "duration": 10,
    "start_time": "2022-09-20T15:57:37.461Z"
   },
   {
    "duration": 32,
    "start_time": "2022-09-20T15:57:37.472Z"
   },
   {
    "duration": 31,
    "start_time": "2022-09-20T15:57:37.506Z"
   },
   {
    "duration": 11,
    "start_time": "2022-09-20T15:57:37.538Z"
   },
   {
    "duration": 12,
    "start_time": "2022-09-20T15:57:37.551Z"
   },
   {
    "duration": 43,
    "start_time": "2022-09-20T15:57:37.567Z"
   },
   {
    "duration": 11,
    "start_time": "2022-09-20T15:57:37.612Z"
   },
   {
    "duration": 16,
    "start_time": "2022-09-20T15:57:37.625Z"
   },
   {
    "duration": 11,
    "start_time": "2022-09-20T15:57:37.643Z"
   },
   {
    "duration": 51,
    "start_time": "2022-09-20T15:57:37.656Z"
   },
   {
    "duration": 5,
    "start_time": "2022-09-20T15:57:37.709Z"
   },
   {
    "duration": 19,
    "start_time": "2022-09-20T15:57:37.716Z"
   },
   {
    "duration": 32,
    "start_time": "2022-09-20T15:57:37.737Z"
   },
   {
    "duration": 46,
    "start_time": "2022-09-20T15:57:37.770Z"
   },
   {
    "duration": 14,
    "start_time": "2022-09-20T15:57:37.818Z"
   },
   {
    "duration": 7,
    "start_time": "2022-09-20T15:57:37.834Z"
   },
   {
    "duration": 305,
    "start_time": "2022-09-20T15:57:37.843Z"
   },
   {
    "duration": 18,
    "start_time": "2022-09-20T15:57:38.150Z"
   },
   {
    "duration": 18,
    "start_time": "2022-09-20T15:57:38.170Z"
   },
   {
    "duration": 58,
    "start_time": "2022-09-20T15:57:38.190Z"
   },
   {
    "duration": 210,
    "start_time": "2022-09-20T15:57:38.251Z"
   },
   {
    "duration": 11,
    "start_time": "2022-09-20T15:57:38.462Z"
   },
   {
    "duration": 6,
    "start_time": "2022-09-20T15:57:38.475Z"
   },
   {
    "duration": 26,
    "start_time": "2022-09-20T15:57:38.495Z"
   },
   {
    "duration": 13,
    "start_time": "2022-09-20T15:57:38.523Z"
   },
   {
    "duration": 25,
    "start_time": "2022-09-20T15:57:38.538Z"
   },
   {
    "duration": 45,
    "start_time": "2022-09-20T15:57:38.564Z"
   },
   {
    "duration": 21,
    "start_time": "2022-09-20T15:57:38.611Z"
   },
   {
    "duration": 36,
    "start_time": "2022-09-20T15:57:38.634Z"
   },
   {
    "duration": 31,
    "start_time": "2022-09-20T15:57:38.672Z"
   },
   {
    "duration": 24,
    "start_time": "2022-09-20T15:57:38.705Z"
   },
   {
    "duration": 24,
    "start_time": "2022-09-20T15:57:38.731Z"
   },
   {
    "duration": 37,
    "start_time": "2022-09-20T15:57:38.757Z"
   },
   {
    "duration": 229,
    "start_time": "2022-09-20T15:57:38.796Z"
   },
   {
    "duration": 5,
    "start_time": "2022-09-20T15:57:39.026Z"
   },
   {
    "duration": 30,
    "start_time": "2022-09-20T15:57:39.032Z"
   },
   {
    "duration": 12,
    "start_time": "2022-09-20T15:57:39.063Z"
   },
   {
    "duration": 5,
    "start_time": "2022-09-20T15:57:39.095Z"
   },
   {
    "duration": 21,
    "start_time": "2022-09-20T15:57:39.102Z"
   },
   {
    "duration": 33,
    "start_time": "2022-09-20T15:57:39.124Z"
   },
   {
    "duration": 247,
    "start_time": "2022-09-20T15:57:39.159Z"
   },
   {
    "duration": 9,
    "start_time": "2022-09-20T15:57:39.408Z"
   },
   {
    "duration": 17,
    "start_time": "2022-09-20T15:57:39.420Z"
   },
   {
    "duration": 6,
    "start_time": "2022-09-20T15:57:39.439Z"
   },
   {
    "duration": 55,
    "start_time": "2022-09-20T15:57:39.447Z"
   },
   {
    "duration": 25,
    "start_time": "2022-09-20T15:59:46.055Z"
   },
   {
    "duration": 24,
    "start_time": "2022-09-20T16:00:23.440Z"
   },
   {
    "duration": 74,
    "start_time": "2022-09-20T16:01:54.599Z"
   },
   {
    "duration": 250,
    "start_time": "2022-09-20T16:04:29.912Z"
   },
   {
    "duration": 71,
    "start_time": "2022-09-20T16:04:35.696Z"
   },
   {
    "duration": 122,
    "start_time": "2022-09-20T16:11:20.930Z"
   },
   {
    "duration": 22,
    "start_time": "2022-09-20T16:11:31.594Z"
   },
   {
    "duration": 144,
    "start_time": "2022-09-20T16:11:43.499Z"
   },
   {
    "duration": 9,
    "start_time": "2022-09-20T16:12:34.385Z"
   },
   {
    "duration": 12,
    "start_time": "2022-09-20T16:13:15.269Z"
   },
   {
    "duration": 65,
    "start_time": "2022-09-20T16:13:22.709Z"
   },
   {
    "duration": 9,
    "start_time": "2022-09-20T16:13:33.656Z"
   },
   {
    "duration": 24,
    "start_time": "2022-09-20T16:13:54.330Z"
   },
   {
    "duration": 8,
    "start_time": "2022-09-20T16:13:55.784Z"
   },
   {
    "duration": 5,
    "start_time": "2022-09-20T16:14:50.698Z"
   },
   {
    "duration": 5,
    "start_time": "2022-09-20T16:15:10.085Z"
   },
   {
    "duration": 77,
    "start_time": "2022-09-20T16:15:48.825Z"
   },
   {
    "duration": 29,
    "start_time": "2022-09-20T16:22:03.877Z"
   },
   {
    "duration": 77,
    "start_time": "2022-09-20T16:22:09.615Z"
   },
   {
    "duration": 5,
    "start_time": "2022-09-20T16:22:14.560Z"
   },
   {
    "duration": 1252,
    "start_time": "2022-09-20T16:22:23.092Z"
   },
   {
    "duration": 2,
    "start_time": "2022-09-20T16:22:24.346Z"
   },
   {
    "duration": 81,
    "start_time": "2022-09-20T16:22:24.350Z"
   },
   {
    "duration": 23,
    "start_time": "2022-09-20T16:22:24.433Z"
   },
   {
    "duration": 16,
    "start_time": "2022-09-20T16:22:24.459Z"
   },
   {
    "duration": 6,
    "start_time": "2022-09-20T16:22:24.494Z"
   },
   {
    "duration": 7,
    "start_time": "2022-09-20T16:22:24.501Z"
   },
   {
    "duration": 22,
    "start_time": "2022-09-20T16:22:24.509Z"
   },
   {
    "duration": 10,
    "start_time": "2022-09-20T16:22:24.533Z"
   },
   {
    "duration": 10,
    "start_time": "2022-09-20T16:22:24.546Z"
   },
   {
    "duration": 3,
    "start_time": "2022-09-20T16:22:24.558Z"
   },
   {
    "duration": 33,
    "start_time": "2022-09-20T16:22:24.562Z"
   },
   {
    "duration": 11,
    "start_time": "2022-09-20T16:22:24.597Z"
   },
   {
    "duration": 22,
    "start_time": "2022-09-20T16:22:24.610Z"
   },
   {
    "duration": 6,
    "start_time": "2022-09-20T16:22:24.633Z"
   },
   {
    "duration": 12,
    "start_time": "2022-09-20T16:22:24.640Z"
   },
   {
    "duration": 8,
    "start_time": "2022-09-20T16:22:24.654Z"
   },
   {
    "duration": 33,
    "start_time": "2022-09-20T16:22:24.663Z"
   },
   {
    "duration": 38,
    "start_time": "2022-09-20T16:22:24.697Z"
   },
   {
    "duration": 12,
    "start_time": "2022-09-20T16:22:24.737Z"
   },
   {
    "duration": 22,
    "start_time": "2022-09-20T16:22:24.750Z"
   },
   {
    "duration": 28,
    "start_time": "2022-09-20T16:22:24.773Z"
   },
   {
    "duration": 28,
    "start_time": "2022-09-20T16:22:24.803Z"
   },
   {
    "duration": 14,
    "start_time": "2022-09-20T16:22:24.833Z"
   },
   {
    "duration": 29,
    "start_time": "2022-09-20T16:22:24.848Z"
   },
   {
    "duration": 17,
    "start_time": "2022-09-20T16:22:24.896Z"
   },
   {
    "duration": 19,
    "start_time": "2022-09-20T16:22:24.915Z"
   },
   {
    "duration": 18,
    "start_time": "2022-09-20T16:22:24.936Z"
   },
   {
    "duration": 40,
    "start_time": "2022-09-20T16:22:24.956Z"
   },
   {
    "duration": 18,
    "start_time": "2022-09-20T16:22:24.998Z"
   },
   {
    "duration": 4,
    "start_time": "2022-09-20T16:22:25.018Z"
   },
   {
    "duration": 22,
    "start_time": "2022-09-20T16:22:25.023Z"
   },
   {
    "duration": 64,
    "start_time": "2022-09-20T16:22:25.047Z"
   },
   {
    "duration": 21,
    "start_time": "2022-09-20T16:22:25.113Z"
   },
   {
    "duration": 14,
    "start_time": "2022-09-20T16:22:25.136Z"
   },
   {
    "duration": 8,
    "start_time": "2022-09-20T16:22:25.152Z"
   },
   {
    "duration": 311,
    "start_time": "2022-09-20T16:22:25.161Z"
   },
   {
    "duration": 19,
    "start_time": "2022-09-20T16:22:25.474Z"
   },
   {
    "duration": 14,
    "start_time": "2022-09-20T16:22:25.495Z"
   },
   {
    "duration": 48,
    "start_time": "2022-09-20T16:22:25.510Z"
   },
   {
    "duration": 215,
    "start_time": "2022-09-20T16:22:25.562Z"
   },
   {
    "duration": 18,
    "start_time": "2022-09-20T16:22:25.778Z"
   },
   {
    "duration": 5,
    "start_time": "2022-09-20T16:22:25.798Z"
   },
   {
    "duration": 23,
    "start_time": "2022-09-20T16:22:25.805Z"
   },
   {
    "duration": 16,
    "start_time": "2022-09-20T16:22:25.829Z"
   },
   {
    "duration": 49,
    "start_time": "2022-09-20T16:22:25.847Z"
   },
   {
    "duration": 16,
    "start_time": "2022-09-20T16:22:25.898Z"
   },
   {
    "duration": 18,
    "start_time": "2022-09-20T16:22:25.916Z"
   },
   {
    "duration": 37,
    "start_time": "2022-09-20T16:22:25.935Z"
   },
   {
    "duration": 13,
    "start_time": "2022-09-20T16:22:25.995Z"
   },
   {
    "duration": 7,
    "start_time": "2022-09-20T16:22:26.010Z"
   },
   {
    "duration": 16,
    "start_time": "2022-09-20T16:22:26.019Z"
   },
   {
    "duration": 38,
    "start_time": "2022-09-20T16:22:26.036Z"
   },
   {
    "duration": 220,
    "start_time": "2022-09-20T16:22:26.096Z"
   },
   {
    "duration": 6,
    "start_time": "2022-09-20T16:22:26.317Z"
   },
   {
    "duration": 31,
    "start_time": "2022-09-20T16:22:26.324Z"
   },
   {
    "duration": 13,
    "start_time": "2022-09-20T16:22:26.357Z"
   },
   {
    "duration": 27,
    "start_time": "2022-09-20T16:22:26.371Z"
   },
   {
    "duration": 14,
    "start_time": "2022-09-20T16:22:26.400Z"
   },
   {
    "duration": 38,
    "start_time": "2022-09-20T16:22:26.416Z"
   },
   {
    "duration": 314,
    "start_time": "2022-09-20T16:22:26.455Z"
   },
   {
    "duration": 9,
    "start_time": "2022-09-20T16:22:26.771Z"
   },
   {
    "duration": 29,
    "start_time": "2022-09-20T16:22:26.782Z"
   },
   {
    "duration": 6,
    "start_time": "2022-09-20T16:22:26.813Z"
   },
   {
    "duration": 94,
    "start_time": "2022-09-20T16:22:26.822Z"
   },
   {
    "duration": 5,
    "start_time": "2022-09-20T16:22:26.917Z"
   },
   {
    "duration": 5,
    "start_time": "2022-09-20T16:27:05.410Z"
   },
   {
    "duration": 28,
    "start_time": "2022-09-20T16:34:01.213Z"
   },
   {
    "duration": 75,
    "start_time": "2022-09-20T16:34:12.209Z"
   },
   {
    "duration": 29,
    "start_time": "2022-09-20T16:34:35.754Z"
   },
   {
    "duration": 1200,
    "start_time": "2022-09-20T16:59:10.844Z"
   },
   {
    "duration": 3,
    "start_time": "2022-09-20T16:59:12.046Z"
   },
   {
    "duration": 78,
    "start_time": "2022-09-20T16:59:12.050Z"
   },
   {
    "duration": 20,
    "start_time": "2022-09-20T16:59:12.130Z"
   },
   {
    "duration": 14,
    "start_time": "2022-09-20T16:59:12.152Z"
   },
   {
    "duration": 5,
    "start_time": "2022-09-20T16:59:12.168Z"
   },
   {
    "duration": 24,
    "start_time": "2022-09-20T16:59:12.174Z"
   },
   {
    "duration": 22,
    "start_time": "2022-09-20T16:59:12.200Z"
   },
   {
    "duration": 10,
    "start_time": "2022-09-20T16:59:12.223Z"
   },
   {
    "duration": 12,
    "start_time": "2022-09-20T16:59:12.236Z"
   },
   {
    "duration": 3,
    "start_time": "2022-09-20T16:59:12.249Z"
   },
   {
    "duration": 8,
    "start_time": "2022-09-20T16:59:12.254Z"
   },
   {
    "duration": 33,
    "start_time": "2022-09-20T16:59:12.263Z"
   },
   {
    "duration": 25,
    "start_time": "2022-09-20T16:59:12.298Z"
   },
   {
    "duration": 6,
    "start_time": "2022-09-20T16:59:12.325Z"
   },
   {
    "duration": 11,
    "start_time": "2022-09-20T16:59:12.333Z"
   },
   {
    "duration": 8,
    "start_time": "2022-09-20T16:59:12.346Z"
   },
   {
    "duration": 7,
    "start_time": "2022-09-20T16:59:12.356Z"
   },
   {
    "duration": 60,
    "start_time": "2022-09-20T16:59:12.364Z"
   },
   {
    "duration": 10,
    "start_time": "2022-09-20T16:59:12.426Z"
   },
   {
    "duration": 10,
    "start_time": "2022-09-20T16:59:12.437Z"
   },
   {
    "duration": 8,
    "start_time": "2022-09-20T16:59:12.448Z"
   },
   {
    "duration": 47,
    "start_time": "2022-09-20T16:59:12.457Z"
   },
   {
    "duration": 13,
    "start_time": "2022-09-20T16:59:12.505Z"
   },
   {
    "duration": 15,
    "start_time": "2022-09-20T16:59:12.519Z"
   },
   {
    "duration": 22,
    "start_time": "2022-09-20T16:59:12.535Z"
   },
   {
    "duration": 38,
    "start_time": "2022-09-20T16:59:12.558Z"
   },
   {
    "duration": 19,
    "start_time": "2022-09-20T16:59:12.602Z"
   },
   {
    "duration": 14,
    "start_time": "2022-09-20T16:59:12.623Z"
   },
   {
    "duration": 18,
    "start_time": "2022-09-20T16:59:12.639Z"
   },
   {
    "duration": 39,
    "start_time": "2022-09-20T16:59:12.659Z"
   },
   {
    "duration": 21,
    "start_time": "2022-09-20T16:59:12.700Z"
   },
   {
    "duration": 33,
    "start_time": "2022-09-20T16:59:12.722Z"
   },
   {
    "duration": 41,
    "start_time": "2022-09-20T16:59:12.756Z"
   },
   {
    "duration": 14,
    "start_time": "2022-09-20T16:59:12.799Z"
   },
   {
    "duration": 8,
    "start_time": "2022-09-20T16:59:12.816Z"
   },
   {
    "duration": 318,
    "start_time": "2022-09-20T16:59:12.826Z"
   },
   {
    "duration": 21,
    "start_time": "2022-09-20T16:59:13.146Z"
   },
   {
    "duration": 17,
    "start_time": "2022-09-20T16:59:13.168Z"
   },
   {
    "duration": 49,
    "start_time": "2022-09-20T16:59:13.187Z"
   },
   {
    "duration": 206,
    "start_time": "2022-09-20T16:59:13.238Z"
   },
   {
    "duration": 12,
    "start_time": "2022-09-20T16:59:13.445Z"
   },
   {
    "duration": 8,
    "start_time": "2022-09-20T16:59:13.458Z"
   },
   {
    "duration": 40,
    "start_time": "2022-09-20T16:59:13.467Z"
   },
   {
    "duration": 17,
    "start_time": "2022-09-20T16:59:13.509Z"
   },
   {
    "duration": 24,
    "start_time": "2022-09-20T16:59:13.528Z"
   },
   {
    "duration": 41,
    "start_time": "2022-09-20T16:59:13.554Z"
   },
   {
    "duration": 2,
    "start_time": "2022-09-20T16:59:13.597Z"
   },
   {
    "duration": 44,
    "start_time": "2022-09-20T16:59:13.601Z"
   },
   {
    "duration": 13,
    "start_time": "2022-09-20T16:59:13.647Z"
   },
   {
    "duration": 5,
    "start_time": "2022-09-20T16:59:13.662Z"
   },
   {
    "duration": 36,
    "start_time": "2022-09-20T16:59:13.668Z"
   },
   {
    "duration": 36,
    "start_time": "2022-09-20T16:59:13.706Z"
   },
   {
    "duration": 227,
    "start_time": "2022-09-20T16:59:13.744Z"
   },
   {
    "duration": 5,
    "start_time": "2022-09-20T16:59:13.973Z"
   },
   {
    "duration": 42,
    "start_time": "2022-09-20T16:59:13.979Z"
   },
   {
    "duration": 13,
    "start_time": "2022-09-20T16:59:14.022Z"
   },
   {
    "duration": 7,
    "start_time": "2022-09-20T16:59:14.037Z"
   },
   {
    "duration": 16,
    "start_time": "2022-09-20T16:59:14.045Z"
   },
   {
    "duration": 54,
    "start_time": "2022-09-20T16:59:14.063Z"
   },
   {
    "duration": 225,
    "start_time": "2022-09-20T16:59:14.119Z"
   },
   {
    "duration": 8,
    "start_time": "2022-09-20T16:59:14.346Z"
   },
   {
    "duration": 17,
    "start_time": "2022-09-20T16:59:14.355Z"
   },
   {
    "duration": 6,
    "start_time": "2022-09-20T16:59:14.374Z"
   },
   {
    "duration": 27,
    "start_time": "2022-09-20T16:59:14.396Z"
   },
   {
    "duration": 5,
    "start_time": "2022-09-20T16:59:14.424Z"
   },
   {
    "duration": 32,
    "start_time": "2022-09-20T17:00:39.767Z"
   },
   {
    "duration": 8,
    "start_time": "2022-09-20T17:04:36.930Z"
   },
   {
    "duration": 14,
    "start_time": "2022-09-20T17:04:48.704Z"
   },
   {
    "duration": 13,
    "start_time": "2022-09-20T17:05:19.081Z"
   },
   {
    "duration": 13,
    "start_time": "2022-09-20T17:06:31.096Z"
   },
   {
    "duration": 5,
    "start_time": "2022-09-20T17:09:04.534Z"
   },
   {
    "duration": 113,
    "start_time": "2022-09-20T17:10:13.292Z"
   },
   {
    "duration": 5,
    "start_time": "2022-09-20T17:10:45.194Z"
   },
   {
    "duration": 367,
    "start_time": "2022-09-20T17:12:00.872Z"
   },
   {
    "duration": 4,
    "start_time": "2022-09-20T17:12:15.187Z"
   },
   {
    "duration": 10,
    "start_time": "2022-09-20T17:12:22.724Z"
   },
   {
    "duration": 6,
    "start_time": "2022-09-20T17:12:32.858Z"
   },
   {
    "duration": 5,
    "start_time": "2022-09-20T17:12:37.180Z"
   },
   {
    "duration": 5,
    "start_time": "2022-09-20T17:13:05.194Z"
   },
   {
    "duration": 12,
    "start_time": "2022-09-20T17:27:44.962Z"
   },
   {
    "duration": 1262,
    "start_time": "2022-09-20T17:29:05.650Z"
   },
   {
    "duration": 14,
    "start_time": "2022-09-20T17:29:13.758Z"
   },
   {
    "duration": 12,
    "start_time": "2022-09-20T17:31:08.575Z"
   },
   {
    "duration": 6,
    "start_time": "2022-09-20T17:34:46.643Z"
   },
   {
    "duration": 8,
    "start_time": "2022-09-20T17:37:47.074Z"
   },
   {
    "duration": 10,
    "start_time": "2022-09-20T17:38:06.182Z"
   },
   {
    "duration": 19,
    "start_time": "2022-09-20T17:38:16.858Z"
   },
   {
    "duration": 13,
    "start_time": "2022-09-20T17:38:29.778Z"
   },
   {
    "duration": 7,
    "start_time": "2022-09-20T17:38:32.365Z"
   },
   {
    "duration": 14,
    "start_time": "2022-09-20T17:38:37.838Z"
   },
   {
    "duration": 7,
    "start_time": "2022-09-20T17:38:40.073Z"
   },
   {
    "duration": 1162,
    "start_time": "2022-09-20T17:40:08.025Z"
   },
   {
    "duration": 5,
    "start_time": "2022-09-20T17:40:09.190Z"
   },
   {
    "duration": 77,
    "start_time": "2022-09-20T17:40:09.197Z"
   },
   {
    "duration": 18,
    "start_time": "2022-09-20T17:40:09.276Z"
   },
   {
    "duration": 15,
    "start_time": "2022-09-20T17:40:09.297Z"
   },
   {
    "duration": 5,
    "start_time": "2022-09-20T17:40:09.314Z"
   },
   {
    "duration": 4,
    "start_time": "2022-09-20T17:40:09.321Z"
   },
   {
    "duration": 23,
    "start_time": "2022-09-20T17:40:09.327Z"
   },
   {
    "duration": 10,
    "start_time": "2022-09-20T17:40:09.352Z"
   },
   {
    "duration": 38,
    "start_time": "2022-09-20T17:40:09.365Z"
   },
   {
    "duration": 3,
    "start_time": "2022-09-20T17:40:09.405Z"
   },
   {
    "duration": 7,
    "start_time": "2022-09-20T17:40:09.410Z"
   },
   {
    "duration": 7,
    "start_time": "2022-09-20T17:40:09.419Z"
   },
   {
    "duration": 21,
    "start_time": "2022-09-20T17:40:09.429Z"
   },
   {
    "duration": 6,
    "start_time": "2022-09-20T17:40:09.452Z"
   },
   {
    "duration": 41,
    "start_time": "2022-09-20T17:40:09.459Z"
   },
   {
    "duration": 14,
    "start_time": "2022-09-20T17:40:09.502Z"
   },
   {
    "duration": 9,
    "start_time": "2022-09-20T17:40:09.518Z"
   },
   {
    "duration": 42,
    "start_time": "2022-09-20T17:40:09.529Z"
   },
   {
    "duration": 22,
    "start_time": "2022-09-20T17:40:09.573Z"
   },
   {
    "duration": 10,
    "start_time": "2022-09-20T17:40:09.596Z"
   },
   {
    "duration": 10,
    "start_time": "2022-09-20T17:40:09.608Z"
   },
   {
    "duration": 23,
    "start_time": "2022-09-20T17:40:09.620Z"
   },
   {
    "duration": 12,
    "start_time": "2022-09-20T17:40:09.644Z"
   },
   {
    "duration": 43,
    "start_time": "2022-09-20T17:40:09.658Z"
   },
   {
    "duration": 17,
    "start_time": "2022-09-20T17:40:09.702Z"
   },
   {
    "duration": 13,
    "start_time": "2022-09-20T17:40:09.721Z"
   },
   {
    "duration": 18,
    "start_time": "2022-09-20T17:40:09.735Z"
   },
   {
    "duration": 48,
    "start_time": "2022-09-20T17:40:09.754Z"
   },
   {
    "duration": 18,
    "start_time": "2022-09-20T17:40:09.804Z"
   },
   {
    "duration": 4,
    "start_time": "2022-09-20T17:40:09.824Z"
   },
   {
    "duration": 20,
    "start_time": "2022-09-20T17:40:09.829Z"
   },
   {
    "duration": 59,
    "start_time": "2022-09-20T17:40:09.850Z"
   },
   {
    "duration": 19,
    "start_time": "2022-09-20T17:40:09.911Z"
   },
   {
    "duration": 16,
    "start_time": "2022-09-20T17:40:09.932Z"
   },
   {
    "duration": 8,
    "start_time": "2022-09-20T17:40:09.949Z"
   },
   {
    "duration": 293,
    "start_time": "2022-09-20T17:40:09.959Z"
   },
   {
    "duration": 18,
    "start_time": "2022-09-20T17:40:10.254Z"
   },
   {
    "duration": 14,
    "start_time": "2022-09-20T17:40:10.274Z"
   },
   {
    "duration": 48,
    "start_time": "2022-09-20T17:40:10.290Z"
   },
   {
    "duration": 202,
    "start_time": "2022-09-20T17:40:10.342Z"
   },
   {
    "duration": 14,
    "start_time": "2022-09-20T17:40:10.546Z"
   },
   {
    "duration": 6,
    "start_time": "2022-09-20T17:40:10.562Z"
   },
   {
    "duration": 48,
    "start_time": "2022-09-20T17:40:10.569Z"
   },
   {
    "duration": 16,
    "start_time": "2022-09-20T17:40:10.618Z"
   },
   {
    "duration": 24,
    "start_time": "2022-09-20T17:40:10.636Z"
   },
   {
    "duration": 41,
    "start_time": "2022-09-20T17:40:10.662Z"
   },
   {
    "duration": 36,
    "start_time": "2022-09-20T17:40:10.705Z"
   },
   {
    "duration": 33,
    "start_time": "2022-09-20T17:40:10.743Z"
   },
   {
    "duration": 13,
    "start_time": "2022-09-20T17:40:10.796Z"
   },
   {
    "duration": 11,
    "start_time": "2022-09-20T17:40:10.810Z"
   },
   {
    "duration": 16,
    "start_time": "2022-09-20T17:40:10.823Z"
   },
   {
    "duration": 36,
    "start_time": "2022-09-20T17:40:10.841Z"
   },
   {
    "duration": 203,
    "start_time": "2022-09-20T17:40:10.894Z"
   },
   {
    "duration": 6,
    "start_time": "2022-09-20T17:40:11.100Z"
   },
   {
    "duration": 29,
    "start_time": "2022-09-20T17:40:11.107Z"
   },
   {
    "duration": 14,
    "start_time": "2022-09-20T17:40:11.137Z"
   },
   {
    "duration": 5,
    "start_time": "2022-09-20T17:40:11.152Z"
   },
   {
    "duration": 42,
    "start_time": "2022-09-20T17:40:11.159Z"
   },
   {
    "duration": 37,
    "start_time": "2022-09-20T17:40:11.202Z"
   },
   {
    "duration": 243,
    "start_time": "2022-09-20T17:40:11.241Z"
   },
   {
    "duration": 13,
    "start_time": "2022-09-20T17:40:11.486Z"
   },
   {
    "duration": 24,
    "start_time": "2022-09-20T17:40:11.501Z"
   },
   {
    "duration": 6,
    "start_time": "2022-09-20T17:40:11.527Z"
   },
   {
    "duration": 36,
    "start_time": "2022-09-20T17:40:11.535Z"
   },
   {
    "duration": 5,
    "start_time": "2022-09-20T17:40:11.594Z"
   },
   {
    "duration": 6,
    "start_time": "2022-09-20T17:40:11.601Z"
   },
   {
    "duration": 15,
    "start_time": "2022-09-20T17:40:11.609Z"
   },
   {
    "duration": 13,
    "start_time": "2022-09-20T17:40:11.626Z"
   },
   {
    "duration": 13,
    "start_time": "2022-09-20T17:40:18.861Z"
   },
   {
    "duration": 9,
    "start_time": "2022-09-20T17:40:25.196Z"
   },
   {
    "duration": 9,
    "start_time": "2022-09-20T17:41:42.414Z"
   },
   {
    "duration": 13,
    "start_time": "2022-09-20T17:42:08.192Z"
   },
   {
    "duration": 21,
    "start_time": "2022-09-20T17:56:56.653Z"
   },
   {
    "duration": 159,
    "start_time": "2022-09-20T17:58:16.715Z"
   },
   {
    "duration": 14,
    "start_time": "2022-09-20T17:58:38.930Z"
   },
   {
    "duration": 15,
    "start_time": "2022-09-20T17:59:37.200Z"
   },
   {
    "duration": 12,
    "start_time": "2022-09-20T17:59:47.765Z"
   },
   {
    "duration": 17,
    "start_time": "2022-09-20T18:00:03.757Z"
   },
   {
    "duration": 13,
    "start_time": "2022-09-20T18:00:32.168Z"
   },
   {
    "duration": 15,
    "start_time": "2022-09-20T18:03:03.416Z"
   },
   {
    "duration": 18,
    "start_time": "2022-09-20T18:03:19.634Z"
   },
   {
    "duration": 8,
    "start_time": "2022-09-20T18:04:26.292Z"
   },
   {
    "duration": 95,
    "start_time": "2022-09-20T18:07:59.267Z"
   },
   {
    "duration": 95,
    "start_time": "2022-09-20T18:08:15.858Z"
   },
   {
    "duration": 80,
    "start_time": "2022-09-20T18:08:21.229Z"
   },
   {
    "duration": 114,
    "start_time": "2022-09-20T18:08:59.470Z"
   },
   {
    "duration": 102,
    "start_time": "2022-09-20T18:09:11.737Z"
   },
   {
    "duration": 4,
    "start_time": "2022-09-20T18:09:27.367Z"
   },
   {
    "duration": 8,
    "start_time": "2022-09-20T18:09:36.023Z"
   },
   {
    "duration": 5,
    "start_time": "2022-09-20T18:09:52.881Z"
   },
   {
    "duration": 4,
    "start_time": "2022-09-20T18:09:59.282Z"
   },
   {
    "duration": 14,
    "start_time": "2022-09-20T18:12:01.515Z"
   },
   {
    "duration": 10,
    "start_time": "2022-09-20T18:12:52.962Z"
   },
   {
    "duration": 10,
    "start_time": "2022-09-20T18:15:41.436Z"
   },
   {
    "duration": 20,
    "start_time": "2022-09-20T19:53:18.063Z"
   },
   {
    "duration": 20,
    "start_time": "2022-09-20T19:57:54.942Z"
   },
   {
    "duration": 56,
    "start_time": "2022-09-20T20:01:49.270Z"
   },
   {
    "duration": 20,
    "start_time": "2022-09-20T20:02:30.023Z"
   },
   {
    "duration": 102,
    "start_time": "2022-09-20T20:02:43.762Z"
   },
   {
    "duration": 24,
    "start_time": "2022-09-20T20:02:48.783Z"
   },
   {
    "duration": 26,
    "start_time": "2022-09-20T20:02:55.991Z"
   },
   {
    "duration": 24,
    "start_time": "2022-09-20T20:03:13.991Z"
   },
   {
    "duration": 20,
    "start_time": "2022-09-20T20:03:23.713Z"
   },
   {
    "duration": 17,
    "start_time": "2022-09-20T20:03:29.160Z"
   },
   {
    "duration": 3,
    "start_time": "2022-09-20T20:06:33.541Z"
   },
   {
    "duration": 13,
    "start_time": "2022-09-20T20:06:39.008Z"
   },
   {
    "duration": 5,
    "start_time": "2022-09-20T20:06:50.240Z"
   },
   {
    "duration": 15,
    "start_time": "2022-09-20T20:07:06.423Z"
   },
   {
    "duration": 4,
    "start_time": "2022-09-20T20:08:35.081Z"
   },
   {
    "duration": 5,
    "start_time": "2022-09-20T20:08:41.762Z"
   },
   {
    "duration": 17,
    "start_time": "2022-09-20T20:09:13.117Z"
   },
   {
    "duration": 17,
    "start_time": "2022-09-20T20:09:23.461Z"
   },
   {
    "duration": 15,
    "start_time": "2022-09-20T20:09:28.661Z"
   },
   {
    "duration": 16,
    "start_time": "2022-09-20T20:09:37.751Z"
   },
   {
    "duration": 11,
    "start_time": "2022-09-20T20:10:50.463Z"
   },
   {
    "duration": 3,
    "start_time": "2022-09-20T20:11:18.480Z"
   },
   {
    "duration": 6,
    "start_time": "2022-09-20T20:11:24.026Z"
   },
   {
    "duration": 5,
    "start_time": "2022-09-20T20:11:57.558Z"
   },
   {
    "duration": 1383,
    "start_time": "2022-09-20T20:31:43.931Z"
   },
   {
    "duration": 5,
    "start_time": "2022-09-20T20:31:45.320Z"
   },
   {
    "duration": 103,
    "start_time": "2022-09-20T20:31:45.326Z"
   },
   {
    "duration": 20,
    "start_time": "2022-09-20T20:31:45.436Z"
   },
   {
    "duration": 16,
    "start_time": "2022-09-20T20:31:45.457Z"
   },
   {
    "duration": 5,
    "start_time": "2022-09-20T20:31:45.475Z"
   },
   {
    "duration": 26,
    "start_time": "2022-09-20T20:31:45.481Z"
   },
   {
    "duration": 38,
    "start_time": "2022-09-20T20:31:45.514Z"
   },
   {
    "duration": 13,
    "start_time": "2022-09-20T20:31:45.554Z"
   },
   {
    "duration": 12,
    "start_time": "2022-09-20T20:31:45.570Z"
   },
   {
    "duration": 6,
    "start_time": "2022-09-20T20:31:45.583Z"
   },
   {
    "duration": 35,
    "start_time": "2022-09-20T20:31:45.591Z"
   },
   {
    "duration": 9,
    "start_time": "2022-09-20T20:31:45.627Z"
   },
   {
    "duration": 22,
    "start_time": "2022-09-20T20:31:45.638Z"
   },
   {
    "duration": 7,
    "start_time": "2022-09-20T20:31:45.662Z"
   },
   {
    "duration": 18,
    "start_time": "2022-09-20T20:31:45.671Z"
   },
   {
    "duration": 7,
    "start_time": "2022-09-20T20:31:45.691Z"
   },
   {
    "duration": 17,
    "start_time": "2022-09-20T20:31:45.703Z"
   },
   {
    "duration": 61,
    "start_time": "2022-09-20T20:31:45.723Z"
   },
   {
    "duration": 14,
    "start_time": "2022-09-20T20:31:45.786Z"
   },
   {
    "duration": 43,
    "start_time": "2022-09-20T20:31:45.802Z"
   },
   {
    "duration": 8,
    "start_time": "2022-09-20T20:31:45.846Z"
   },
   {
    "duration": 24,
    "start_time": "2022-09-20T20:31:45.855Z"
   },
   {
    "duration": 20,
    "start_time": "2022-09-20T20:31:45.881Z"
   },
   {
    "duration": 45,
    "start_time": "2022-09-20T20:31:45.903Z"
   },
   {
    "duration": 16,
    "start_time": "2022-09-20T20:31:45.949Z"
   },
   {
    "duration": 16,
    "start_time": "2022-09-20T20:31:45.967Z"
   },
   {
    "duration": 33,
    "start_time": "2022-09-20T20:31:45.988Z"
   },
   {
    "duration": 25,
    "start_time": "2022-09-20T20:31:46.023Z"
   },
   {
    "duration": 17,
    "start_time": "2022-09-20T20:31:46.050Z"
   },
   {
    "duration": 5,
    "start_time": "2022-09-20T20:31:46.069Z"
   },
   {
    "duration": 39,
    "start_time": "2022-09-20T20:31:46.076Z"
   },
   {
    "duration": 34,
    "start_time": "2022-09-20T20:31:46.118Z"
   },
   {
    "duration": 20,
    "start_time": "2022-09-20T20:31:46.154Z"
   },
   {
    "duration": 21,
    "start_time": "2022-09-20T20:31:46.175Z"
   },
   {
    "duration": 27,
    "start_time": "2022-09-20T20:31:46.197Z"
   },
   {
    "duration": 291,
    "start_time": "2022-09-20T20:31:46.227Z"
   },
   {
    "duration": 30,
    "start_time": "2022-09-20T20:31:46.520Z"
   },
   {
    "duration": 19,
    "start_time": "2022-09-20T20:31:46.553Z"
   },
   {
    "duration": 70,
    "start_time": "2022-09-20T20:31:46.574Z"
   },
   {
    "duration": 240,
    "start_time": "2022-09-20T20:31:46.646Z"
   },
   {
    "duration": 20,
    "start_time": "2022-09-20T20:31:46.888Z"
   },
   {
    "duration": 21,
    "start_time": "2022-09-20T20:31:46.911Z"
   },
   {
    "duration": 20,
    "start_time": "2022-09-20T20:31:46.933Z"
   },
   {
    "duration": 13,
    "start_time": "2022-09-20T20:31:46.955Z"
   },
   {
    "duration": 36,
    "start_time": "2022-09-20T20:31:46.969Z"
   },
   {
    "duration": 17,
    "start_time": "2022-09-20T20:31:47.007Z"
   },
   {
    "duration": 37,
    "start_time": "2022-09-20T20:31:47.026Z"
   },
   {
    "duration": 50,
    "start_time": "2022-09-20T20:31:47.064Z"
   },
   {
    "duration": 16,
    "start_time": "2022-09-20T20:31:47.116Z"
   },
   {
    "duration": 5,
    "start_time": "2022-09-20T20:31:47.133Z"
   },
   {
    "duration": 14,
    "start_time": "2022-09-20T20:31:47.139Z"
   },
   {
    "duration": 57,
    "start_time": "2022-09-20T20:31:47.154Z"
   },
   {
    "duration": 271,
    "start_time": "2022-09-20T20:31:47.212Z"
   },
   {
    "duration": 5,
    "start_time": "2022-09-20T20:31:47.485Z"
   },
   {
    "duration": 36,
    "start_time": "2022-09-20T20:31:47.495Z"
   },
   {
    "duration": 12,
    "start_time": "2022-09-20T20:31:47.533Z"
   },
   {
    "duration": 6,
    "start_time": "2022-09-20T20:31:47.547Z"
   },
   {
    "duration": 18,
    "start_time": "2022-09-20T20:31:47.554Z"
   },
   {
    "duration": 44,
    "start_time": "2022-09-20T20:31:47.574Z"
   },
   {
    "duration": 298,
    "start_time": "2022-09-20T20:31:47.619Z"
   },
   {
    "duration": 8,
    "start_time": "2022-09-20T20:31:47.921Z"
   },
   {
    "duration": 73,
    "start_time": "2022-09-20T20:31:47.931Z"
   },
   {
    "duration": 16,
    "start_time": "2022-09-20T20:31:48.007Z"
   },
   {
    "duration": 34,
    "start_time": "2022-09-20T20:31:48.026Z"
   },
   {
    "duration": 4,
    "start_time": "2022-09-20T20:31:48.062Z"
   },
   {
    "duration": 10,
    "start_time": "2022-09-20T20:31:48.068Z"
   },
   {
    "duration": 20,
    "start_time": "2022-09-20T20:31:48.080Z"
   },
   {
    "duration": 34,
    "start_time": "2022-09-20T20:31:48.101Z"
   },
   {
    "duration": 9,
    "start_time": "2022-09-20T20:31:48.137Z"
   },
   {
    "duration": 9,
    "start_time": "2022-09-20T20:31:48.148Z"
   },
   {
    "duration": 14,
    "start_time": "2022-09-20T20:31:48.158Z"
   },
   {
    "duration": 5,
    "start_time": "2022-09-20T20:31:48.174Z"
   },
   {
    "duration": 60,
    "start_time": "2022-09-20T20:31:48.180Z"
   },
   {
    "duration": 61,
    "start_time": "2022-09-20T20:31:48.242Z"
   },
   {
    "duration": 14,
    "start_time": "2022-09-20T20:31:48.308Z"
   },
   {
    "duration": 20,
    "start_time": "2022-09-20T20:37:06.422Z"
   },
   {
    "duration": 26,
    "start_time": "2022-09-20T20:38:40.211Z"
   },
   {
    "duration": 20,
    "start_time": "2022-09-20T20:41:00.866Z"
   },
   {
    "duration": 21,
    "start_time": "2022-09-20T20:41:08.981Z"
   },
   {
    "duration": 123,
    "start_time": "2022-09-20T20:48:54.707Z"
   },
   {
    "duration": 5,
    "start_time": "2022-09-20T20:49:38.857Z"
   },
   {
    "duration": 13,
    "start_time": "2022-09-20T20:49:45.800Z"
   },
   {
    "duration": 6,
    "start_time": "2022-09-20T20:50:01.890Z"
   },
   {
    "duration": 8,
    "start_time": "2022-09-20T20:50:57.669Z"
   },
   {
    "duration": 9,
    "start_time": "2022-09-20T20:52:12.427Z"
   },
   {
    "duration": 13,
    "start_time": "2022-09-20T20:53:11.236Z"
   },
   {
    "duration": 9,
    "start_time": "2022-09-20T20:53:26.287Z"
   },
   {
    "duration": 9,
    "start_time": "2022-09-20T20:53:58.728Z"
   },
   {
    "duration": 9,
    "start_time": "2022-09-20T21:59:22.424Z"
   },
   {
    "duration": 11,
    "start_time": "2022-09-20T22:05:33.854Z"
   },
   {
    "duration": 13,
    "start_time": "2022-09-20T22:05:50.371Z"
   },
   {
    "duration": 10,
    "start_time": "2022-09-20T22:05:54.418Z"
   },
   {
    "duration": 14,
    "start_time": "2022-09-20T22:06:14.891Z"
   },
   {
    "duration": 11,
    "start_time": "2022-09-20T22:06:18.868Z"
   },
   {
    "duration": 14,
    "start_time": "2022-09-20T22:06:27.833Z"
   },
   {
    "duration": 12,
    "start_time": "2022-09-20T22:06:35.363Z"
   },
   {
    "duration": 12,
    "start_time": "2022-09-20T22:06:47.684Z"
   },
   {
    "duration": 1235,
    "start_time": "2022-09-20T22:45:07.215Z"
   },
   {
    "duration": 2,
    "start_time": "2022-09-20T22:45:08.452Z"
   },
   {
    "duration": 75,
    "start_time": "2022-09-20T22:45:08.457Z"
   },
   {
    "duration": 18,
    "start_time": "2022-09-20T22:45:08.534Z"
   },
   {
    "duration": 15,
    "start_time": "2022-09-20T22:45:08.554Z"
   },
   {
    "duration": 26,
    "start_time": "2022-09-20T22:45:08.570Z"
   },
   {
    "duration": 5,
    "start_time": "2022-09-20T22:45:08.598Z"
   },
   {
    "duration": 23,
    "start_time": "2022-09-20T22:45:08.605Z"
   },
   {
    "duration": 10,
    "start_time": "2022-09-20T22:45:08.630Z"
   },
   {
    "duration": 9,
    "start_time": "2022-09-20T22:45:08.641Z"
   },
   {
    "duration": 4,
    "start_time": "2022-09-20T22:45:08.651Z"
   },
   {
    "duration": 39,
    "start_time": "2022-09-20T22:45:08.656Z"
   },
   {
    "duration": 6,
    "start_time": "2022-09-20T22:45:08.697Z"
   },
   {
    "duration": 18,
    "start_time": "2022-09-20T22:45:08.707Z"
   },
   {
    "duration": 7,
    "start_time": "2022-09-20T22:45:08.726Z"
   },
   {
    "duration": 11,
    "start_time": "2022-09-20T22:45:08.734Z"
   },
   {
    "duration": 7,
    "start_time": "2022-09-20T22:45:08.746Z"
   },
   {
    "duration": 42,
    "start_time": "2022-09-20T22:45:08.755Z"
   },
   {
    "duration": 38,
    "start_time": "2022-09-20T22:45:08.798Z"
   },
   {
    "duration": 11,
    "start_time": "2022-09-20T22:45:08.838Z"
   },
   {
    "duration": 11,
    "start_time": "2022-09-20T22:45:08.850Z"
   },
   {
    "duration": 8,
    "start_time": "2022-09-20T22:45:08.863Z"
   },
   {
    "duration": 21,
    "start_time": "2022-09-20T22:45:08.896Z"
   },
   {
    "duration": 10,
    "start_time": "2022-09-20T22:45:08.918Z"
   },
   {
    "duration": 10,
    "start_time": "2022-09-20T22:45:08.930Z"
   },
   {
    "duration": 15,
    "start_time": "2022-09-20T22:45:08.941Z"
   },
   {
    "duration": 40,
    "start_time": "2022-09-20T22:45:08.958Z"
   },
   {
    "duration": 20,
    "start_time": "2022-09-20T22:45:08.999Z"
   },
   {
    "duration": 12,
    "start_time": "2022-09-20T22:45:09.020Z"
   },
   {
    "duration": 17,
    "start_time": "2022-09-20T22:45:09.034Z"
   },
   {
    "duration": 4,
    "start_time": "2022-09-20T22:45:09.052Z"
   },
   {
    "duration": 54,
    "start_time": "2022-09-20T22:45:09.058Z"
   },
   {
    "duration": 30,
    "start_time": "2022-09-20T22:45:09.113Z"
   },
   {
    "duration": 19,
    "start_time": "2022-09-20T22:45:09.145Z"
   },
   {
    "duration": 33,
    "start_time": "2022-09-20T22:45:09.166Z"
   },
   {
    "duration": 8,
    "start_time": "2022-09-20T22:45:09.200Z"
   },
   {
    "duration": 258,
    "start_time": "2022-09-20T22:45:09.210Z"
   },
   {
    "duration": 19,
    "start_time": "2022-09-20T22:45:09.470Z"
   },
   {
    "duration": 19,
    "start_time": "2022-09-20T22:45:09.490Z"
   },
   {
    "duration": 47,
    "start_time": "2022-09-20T22:45:09.511Z"
   },
   {
    "duration": 201,
    "start_time": "2022-09-20T22:45:09.562Z"
   },
   {
    "duration": 10,
    "start_time": "2022-09-20T22:45:09.764Z"
   },
   {
    "duration": 19,
    "start_time": "2022-09-20T22:45:09.776Z"
   },
   {
    "duration": 19,
    "start_time": "2022-09-20T22:45:09.796Z"
   },
   {
    "duration": 13,
    "start_time": "2022-09-20T22:45:09.817Z"
   },
   {
    "duration": 19,
    "start_time": "2022-09-20T22:45:09.831Z"
   },
   {
    "duration": 14,
    "start_time": "2022-09-20T22:45:09.852Z"
   },
   {
    "duration": 58,
    "start_time": "2022-09-20T22:45:09.867Z"
   },
   {
    "duration": 34,
    "start_time": "2022-09-20T22:45:09.927Z"
   },
   {
    "duration": 13,
    "start_time": "2022-09-20T22:45:09.962Z"
   },
   {
    "duration": 21,
    "start_time": "2022-09-20T22:45:09.977Z"
   },
   {
    "duration": 14,
    "start_time": "2022-09-20T22:45:09.999Z"
   },
   {
    "duration": 37,
    "start_time": "2022-09-20T22:45:10.015Z"
   },
   {
    "duration": 222,
    "start_time": "2022-09-20T22:45:10.054Z"
   },
   {
    "duration": 5,
    "start_time": "2022-09-20T22:45:10.277Z"
   },
   {
    "duration": 30,
    "start_time": "2022-09-20T22:45:10.295Z"
   },
   {
    "duration": 12,
    "start_time": "2022-09-20T22:45:10.327Z"
   },
   {
    "duration": 4,
    "start_time": "2022-09-20T22:45:10.340Z"
   },
   {
    "duration": 12,
    "start_time": "2022-09-20T22:45:10.346Z"
   },
   {
    "duration": 60,
    "start_time": "2022-09-20T22:45:10.360Z"
   },
   {
    "duration": 227,
    "start_time": "2022-09-20T22:45:10.422Z"
   },
   {
    "duration": 9,
    "start_time": "2022-09-20T22:45:10.651Z"
   },
   {
    "duration": 19,
    "start_time": "2022-09-20T22:45:10.661Z"
   },
   {
    "duration": 6,
    "start_time": "2022-09-20T22:45:10.696Z"
   },
   {
    "duration": 28,
    "start_time": "2022-09-20T22:45:10.704Z"
   },
   {
    "duration": 5,
    "start_time": "2022-09-20T22:45:10.734Z"
   },
   {
    "duration": 6,
    "start_time": "2022-09-20T22:45:10.741Z"
   },
   {
    "duration": 46,
    "start_time": "2022-09-20T22:45:10.749Z"
   },
   {
    "duration": 7,
    "start_time": "2022-09-20T22:45:10.797Z"
   },
   {
    "duration": 12,
    "start_time": "2022-09-20T22:45:10.806Z"
   },
   {
    "duration": 10,
    "start_time": "2022-09-20T22:45:10.820Z"
   },
   {
    "duration": 12,
    "start_time": "2022-09-20T22:45:10.832Z"
   },
   {
    "duration": 11,
    "start_time": "2022-09-20T22:45:10.846Z"
   },
   {
    "duration": 36,
    "start_time": "2022-09-20T22:45:10.859Z"
   },
   {
    "duration": 9,
    "start_time": "2022-09-20T22:45:10.897Z"
   },
   {
    "duration": 18,
    "start_time": "2022-09-20T22:45:10.908Z"
   },
   {
    "duration": 5,
    "start_time": "2022-09-20T22:45:10.928Z"
   },
   {
    "duration": 10,
    "start_time": "2022-09-20T22:45:10.935Z"
   },
   {
    "duration": 45,
    "start_time": "2022-09-21T10:27:25.954Z"
   },
   {
    "duration": 1490,
    "start_time": "2022-09-21T10:27:38.971Z"
   },
   {
    "duration": 2,
    "start_time": "2022-09-21T10:27:40.463Z"
   },
   {
    "duration": 132,
    "start_time": "2022-09-21T10:27:40.467Z"
   },
   {
    "duration": 16,
    "start_time": "2022-09-21T10:27:40.601Z"
   },
   {
    "duration": 18,
    "start_time": "2022-09-21T10:27:40.619Z"
   },
   {
    "duration": 6,
    "start_time": "2022-09-21T10:27:40.639Z"
   },
   {
    "duration": 8,
    "start_time": "2022-09-21T10:27:40.646Z"
   },
   {
    "duration": 21,
    "start_time": "2022-09-21T10:27:40.656Z"
   },
   {
    "duration": 8,
    "start_time": "2022-09-21T10:27:40.678Z"
   },
   {
    "duration": 10,
    "start_time": "2022-09-21T10:27:40.688Z"
   },
   {
    "duration": 3,
    "start_time": "2022-09-21T10:27:40.700Z"
   },
   {
    "duration": 29,
    "start_time": "2022-09-21T10:27:40.704Z"
   },
   {
    "duration": 6,
    "start_time": "2022-09-21T10:27:40.735Z"
   },
   {
    "duration": 18,
    "start_time": "2022-09-21T10:27:40.744Z"
   },
   {
    "duration": 6,
    "start_time": "2022-09-21T10:27:40.764Z"
   },
   {
    "duration": 13,
    "start_time": "2022-09-21T10:27:40.771Z"
   },
   {
    "duration": 6,
    "start_time": "2022-09-21T10:27:40.786Z"
   },
   {
    "duration": 9,
    "start_time": "2022-09-21T10:27:40.794Z"
   },
   {
    "duration": 62,
    "start_time": "2022-09-21T10:27:40.804Z"
   },
   {
    "duration": 10,
    "start_time": "2022-09-21T10:27:40.867Z"
   },
   {
    "duration": 11,
    "start_time": "2022-09-21T10:27:40.878Z"
   },
   {
    "duration": 8,
    "start_time": "2022-09-21T10:27:40.890Z"
   },
   {
    "duration": 40,
    "start_time": "2022-09-21T10:27:40.899Z"
   },
   {
    "duration": 10,
    "start_time": "2022-09-21T10:27:40.941Z"
   },
   {
    "duration": 14,
    "start_time": "2022-09-21T10:27:40.952Z"
   },
   {
    "duration": 14,
    "start_time": "2022-09-21T10:27:40.967Z"
   },
   {
    "duration": 11,
    "start_time": "2022-09-21T10:27:40.982Z"
   },
   {
    "duration": 41,
    "start_time": "2022-09-21T10:27:40.994Z"
   },
   {
    "duration": 11,
    "start_time": "2022-09-21T10:27:41.036Z"
   },
   {
    "duration": 15,
    "start_time": "2022-09-21T10:27:41.048Z"
   },
   {
    "duration": 4,
    "start_time": "2022-09-21T10:27:41.064Z"
   },
   {
    "duration": 28,
    "start_time": "2022-09-21T10:27:41.070Z"
   },
   {
    "duration": 53,
    "start_time": "2022-09-21T10:27:41.100Z"
   },
   {
    "duration": 19,
    "start_time": "2022-09-21T10:27:41.155Z"
   },
   {
    "duration": 13,
    "start_time": "2022-09-21T10:27:41.175Z"
   },
   {
    "duration": 7,
    "start_time": "2022-09-21T10:27:41.190Z"
   },
   {
    "duration": 283,
    "start_time": "2022-09-21T10:27:41.198Z"
   },
   {
    "duration": 18,
    "start_time": "2022-09-21T10:27:41.483Z"
   },
   {
    "duration": 16,
    "start_time": "2022-09-21T10:27:41.502Z"
   },
   {
    "duration": 47,
    "start_time": "2022-09-21T10:27:41.519Z"
   },
   {
    "duration": 208,
    "start_time": "2022-09-21T10:27:41.570Z"
   },
   {
    "duration": 12,
    "start_time": "2022-09-21T10:27:41.780Z"
   },
   {
    "duration": 6,
    "start_time": "2022-09-21T10:27:41.794Z"
   },
   {
    "duration": 42,
    "start_time": "2022-09-21T10:27:41.802Z"
   },
   {
    "duration": 15,
    "start_time": "2022-09-21T10:27:41.845Z"
   },
   {
    "duration": 23,
    "start_time": "2022-09-21T10:27:41.861Z"
   },
   {
    "duration": 15,
    "start_time": "2022-09-21T10:27:41.886Z"
   },
   {
    "duration": 60,
    "start_time": "2022-09-21T10:27:41.903Z"
   },
   {
    "duration": 32,
    "start_time": "2022-09-21T10:27:41.965Z"
   },
   {
    "duration": 11,
    "start_time": "2022-09-21T10:27:41.999Z"
   },
   {
    "duration": 23,
    "start_time": "2022-09-21T10:27:42.012Z"
   },
   {
    "duration": 13,
    "start_time": "2022-09-21T10:27:42.036Z"
   },
   {
    "duration": 40,
    "start_time": "2022-09-21T10:27:42.051Z"
   },
   {
    "duration": 211,
    "start_time": "2022-09-21T10:27:42.093Z"
   },
   {
    "duration": 6,
    "start_time": "2022-09-21T10:27:42.306Z"
   },
   {
    "duration": 41,
    "start_time": "2022-09-21T10:27:42.313Z"
   },
   {
    "duration": 11,
    "start_time": "2022-09-21T10:27:42.356Z"
   },
   {
    "duration": 8,
    "start_time": "2022-09-21T10:27:42.368Z"
   },
   {
    "duration": 15,
    "start_time": "2022-09-21T10:27:42.377Z"
   },
   {
    "duration": 41,
    "start_time": "2022-09-21T10:27:42.393Z"
   },
   {
    "duration": 214,
    "start_time": "2022-09-21T10:27:42.436Z"
   },
   {
    "duration": 8,
    "start_time": "2022-09-21T10:27:42.652Z"
   },
   {
    "duration": 20,
    "start_time": "2022-09-21T10:27:42.661Z"
   },
   {
    "duration": 7,
    "start_time": "2022-09-21T10:27:42.683Z"
   },
   {
    "duration": 30,
    "start_time": "2022-09-21T10:27:42.692Z"
   },
   {
    "duration": 4,
    "start_time": "2022-09-21T10:27:42.734Z"
   },
   {
    "duration": 6,
    "start_time": "2022-09-21T10:27:42.740Z"
   },
   {
    "duration": 13,
    "start_time": "2022-09-21T10:27:42.747Z"
   },
   {
    "duration": 9,
    "start_time": "2022-09-21T10:27:42.762Z"
   },
   {
    "duration": 12,
    "start_time": "2022-09-21T10:27:42.773Z"
   },
   {
    "duration": 11,
    "start_time": "2022-09-21T10:27:42.786Z"
   },
   {
    "duration": 9,
    "start_time": "2022-09-21T10:27:42.798Z"
   },
   {
    "duration": 10,
    "start_time": "2022-09-21T10:27:42.833Z"
   },
   {
    "duration": 7,
    "start_time": "2022-09-21T10:27:42.845Z"
   },
   {
    "duration": 13,
    "start_time": "2022-09-21T10:27:42.854Z"
   },
   {
    "duration": 22,
    "start_time": "2022-09-21T10:27:42.869Z"
   },
   {
    "duration": 8,
    "start_time": "2022-09-21T10:27:42.892Z"
   },
   {
    "duration": 9,
    "start_time": "2022-09-21T10:27:42.902Z"
   },
   {
    "duration": 26,
    "start_time": "2022-09-21T10:27:42.912Z"
   },
   {
    "duration": 7,
    "start_time": "2022-09-21T10:27:56.123Z"
   },
   {
    "duration": 8,
    "start_time": "2022-09-21T10:28:17.277Z"
   },
   {
    "duration": 1143,
    "start_time": "2022-09-21T10:31:28.939Z"
   },
   {
    "duration": 3,
    "start_time": "2022-09-21T10:31:30.084Z"
   },
   {
    "duration": 93,
    "start_time": "2022-09-21T10:31:30.088Z"
   },
   {
    "duration": 18,
    "start_time": "2022-09-21T10:31:30.182Z"
   },
   {
    "duration": 14,
    "start_time": "2022-09-21T10:31:30.202Z"
   },
   {
    "duration": 18,
    "start_time": "2022-09-21T10:31:30.218Z"
   },
   {
    "duration": 15,
    "start_time": "2022-09-21T10:31:30.238Z"
   },
   {
    "duration": 26,
    "start_time": "2022-09-21T10:31:30.255Z"
   },
   {
    "duration": 10,
    "start_time": "2022-09-21T10:31:30.283Z"
   },
   {
    "duration": 19,
    "start_time": "2022-09-21T10:31:30.295Z"
   },
   {
    "duration": 4,
    "start_time": "2022-09-21T10:31:30.316Z"
   },
   {
    "duration": 24,
    "start_time": "2022-09-21T10:31:30.322Z"
   },
   {
    "duration": 32,
    "start_time": "2022-09-21T10:31:30.347Z"
   },
   {
    "duration": 41,
    "start_time": "2022-09-21T10:31:30.383Z"
   },
   {
    "duration": 10,
    "start_time": "2022-09-21T10:31:30.426Z"
   },
   {
    "duration": 24,
    "start_time": "2022-09-21T10:31:30.438Z"
   },
   {
    "duration": 39,
    "start_time": "2022-09-21T10:31:30.464Z"
   },
   {
    "duration": 52,
    "start_time": "2022-09-21T10:31:30.505Z"
   },
   {
    "duration": 73,
    "start_time": "2022-09-21T10:31:30.558Z"
   },
   {
    "duration": 23,
    "start_time": "2022-09-21T10:31:30.633Z"
   },
   {
    "duration": 15,
    "start_time": "2022-09-21T10:31:30.658Z"
   },
   {
    "duration": 29,
    "start_time": "2022-09-21T10:31:30.674Z"
   },
   {
    "duration": 39,
    "start_time": "2022-09-21T10:31:30.705Z"
   },
   {
    "duration": 13,
    "start_time": "2022-09-21T10:31:30.746Z"
   },
   {
    "duration": 59,
    "start_time": "2022-09-21T10:31:30.761Z"
   },
   {
    "duration": 25,
    "start_time": "2022-09-21T10:31:30.822Z"
   },
   {
    "duration": 13,
    "start_time": "2022-09-21T10:31:30.850Z"
   },
   {
    "duration": 34,
    "start_time": "2022-09-21T10:31:30.865Z"
   },
   {
    "duration": 22,
    "start_time": "2022-09-21T10:31:30.901Z"
   },
   {
    "duration": 22,
    "start_time": "2022-09-21T10:31:30.925Z"
   },
   {
    "duration": 10,
    "start_time": "2022-09-21T10:31:30.949Z"
   },
   {
    "duration": 44,
    "start_time": "2022-09-21T10:31:30.961Z"
   },
   {
    "duration": 113,
    "start_time": "2022-09-21T10:31:31.007Z"
   },
   {
    "duration": 20,
    "start_time": "2022-09-21T10:31:31.122Z"
   },
   {
    "duration": 27,
    "start_time": "2022-09-21T10:31:31.144Z"
   },
   {
    "duration": 20,
    "start_time": "2022-09-21T10:31:31.173Z"
   },
   {
    "duration": 246,
    "start_time": "2022-09-21T10:31:31.195Z"
   },
   {
    "duration": 20,
    "start_time": "2022-09-21T10:31:31.443Z"
   },
   {
    "duration": 15,
    "start_time": "2022-09-21T10:31:31.465Z"
   },
   {
    "duration": 57,
    "start_time": "2022-09-21T10:31:31.482Z"
   },
   {
    "duration": 192,
    "start_time": "2022-09-21T10:31:31.543Z"
   },
   {
    "duration": 12,
    "start_time": "2022-09-21T10:31:31.736Z"
   },
   {
    "duration": 7,
    "start_time": "2022-09-21T10:31:31.750Z"
   },
   {
    "duration": 25,
    "start_time": "2022-09-21T10:31:31.759Z"
   },
   {
    "duration": 14,
    "start_time": "2022-09-21T10:31:31.785Z"
   },
   {
    "duration": 39,
    "start_time": "2022-09-21T10:31:31.800Z"
   },
   {
    "duration": 15,
    "start_time": "2022-09-21T10:31:31.841Z"
   },
   {
    "duration": 36,
    "start_time": "2022-09-21T10:31:31.857Z"
   },
   {
    "duration": 58,
    "start_time": "2022-09-21T10:31:31.895Z"
   },
   {
    "duration": 12,
    "start_time": "2022-09-21T10:31:31.955Z"
   },
   {
    "duration": 28,
    "start_time": "2022-09-21T10:31:31.969Z"
   },
   {
    "duration": 40,
    "start_time": "2022-09-21T10:31:31.998Z"
   },
   {
    "duration": 56,
    "start_time": "2022-09-21T10:31:32.039Z"
   },
   {
    "duration": 200,
    "start_time": "2022-09-21T10:31:32.097Z"
   },
   {
    "duration": 4,
    "start_time": "2022-09-21T10:31:32.299Z"
   },
   {
    "duration": 57,
    "start_time": "2022-09-21T10:31:32.305Z"
   },
   {
    "duration": 11,
    "start_time": "2022-09-21T10:31:32.364Z"
   },
   {
    "duration": 27,
    "start_time": "2022-09-21T10:31:32.376Z"
   },
   {
    "duration": 22,
    "start_time": "2022-09-21T10:31:32.405Z"
   },
   {
    "duration": 37,
    "start_time": "2022-09-21T10:31:32.429Z"
   },
   {
    "duration": 210,
    "start_time": "2022-09-21T10:31:32.468Z"
   },
   {
    "duration": 8,
    "start_time": "2022-09-21T10:31:32.679Z"
   },
   {
    "duration": 33,
    "start_time": "2022-09-21T10:31:32.688Z"
   },
   {
    "duration": 5,
    "start_time": "2022-09-21T10:31:32.723Z"
   },
   {
    "duration": 25,
    "start_time": "2022-09-21T10:31:32.730Z"
   },
   {
    "duration": 4,
    "start_time": "2022-09-21T10:31:32.757Z"
   },
   {
    "duration": 8,
    "start_time": "2022-09-21T10:31:32.762Z"
   },
   {
    "duration": 14,
    "start_time": "2022-09-21T10:31:32.771Z"
   },
   {
    "duration": 16,
    "start_time": "2022-09-21T10:31:32.786Z"
   },
   {
    "duration": 10,
    "start_time": "2022-09-21T10:31:32.803Z"
   },
   {
    "duration": 23,
    "start_time": "2022-09-21T10:31:32.814Z"
   },
   {
    "duration": 10,
    "start_time": "2022-09-21T10:31:32.838Z"
   },
   {
    "duration": 13,
    "start_time": "2022-09-21T10:31:32.849Z"
   },
   {
    "duration": 9,
    "start_time": "2022-09-21T10:31:32.864Z"
   },
   {
    "duration": 12,
    "start_time": "2022-09-21T10:31:32.875Z"
   },
   {
    "duration": 19,
    "start_time": "2022-09-21T10:31:41.154Z"
   },
   {
    "duration": 23,
    "start_time": "2022-09-21T10:38:30.904Z"
   },
   {
    "duration": 27,
    "start_time": "2022-09-21T10:41:47.451Z"
   },
   {
    "duration": 8,
    "start_time": "2022-09-21T10:42:11.132Z"
   },
   {
    "duration": 9,
    "start_time": "2022-09-21T10:42:15.440Z"
   },
   {
    "duration": 26,
    "start_time": "2022-09-21T10:44:16.043Z"
   },
   {
    "duration": 9,
    "start_time": "2022-09-21T10:44:20.231Z"
   },
   {
    "duration": 10,
    "start_time": "2022-09-21T10:45:21.654Z"
   },
   {
    "duration": 25,
    "start_time": "2022-09-21T10:45:26.952Z"
   },
   {
    "duration": 9,
    "start_time": "2022-09-21T10:45:31.842Z"
   },
   {
    "duration": 101,
    "start_time": "2022-09-21T11:02:10.175Z"
   },
   {
    "duration": 1222,
    "start_time": "2022-09-21T11:02:19.945Z"
   },
   {
    "duration": 3,
    "start_time": "2022-09-21T11:02:21.169Z"
   },
   {
    "duration": 87,
    "start_time": "2022-09-21T11:02:21.173Z"
   },
   {
    "duration": 27,
    "start_time": "2022-09-21T11:02:21.262Z"
   },
   {
    "duration": 13,
    "start_time": "2022-09-21T11:02:21.291Z"
   },
   {
    "duration": 6,
    "start_time": "2022-09-21T11:02:21.306Z"
   },
   {
    "duration": 5,
    "start_time": "2022-09-21T11:02:21.333Z"
   },
   {
    "duration": 23,
    "start_time": "2022-09-21T11:02:21.339Z"
   },
   {
    "duration": 9,
    "start_time": "2022-09-21T11:02:21.363Z"
   },
   {
    "duration": 10,
    "start_time": "2022-09-21T11:02:21.373Z"
   },
   {
    "duration": 4,
    "start_time": "2022-09-21T11:02:21.384Z"
   },
   {
    "duration": 11,
    "start_time": "2022-09-21T11:02:21.389Z"
   },
   {
    "duration": 35,
    "start_time": "2022-09-21T11:02:21.401Z"
   },
   {
    "duration": 33,
    "start_time": "2022-09-21T11:02:21.439Z"
   },
   {
    "duration": 7,
    "start_time": "2022-09-21T11:02:21.474Z"
   },
   {
    "duration": 20,
    "start_time": "2022-09-21T11:02:21.482Z"
   },
   {
    "duration": 13,
    "start_time": "2022-09-21T11:02:21.504Z"
   },
   {
    "duration": 15,
    "start_time": "2022-09-21T11:02:21.519Z"
   },
   {
    "duration": 51,
    "start_time": "2022-09-21T11:02:21.536Z"
   },
   {
    "duration": 12,
    "start_time": "2022-09-21T11:02:21.588Z"
   },
   {
    "duration": 21,
    "start_time": "2022-09-21T11:02:21.601Z"
   },
   {
    "duration": 12,
    "start_time": "2022-09-21T11:02:21.624Z"
   },
   {
    "duration": 23,
    "start_time": "2022-09-21T11:02:21.638Z"
   },
   {
    "duration": 11,
    "start_time": "2022-09-21T11:02:21.662Z"
   },
   {
    "duration": 19,
    "start_time": "2022-09-21T11:02:21.674Z"
   },
   {
    "duration": 43,
    "start_time": "2022-09-21T11:02:21.694Z"
   },
   {
    "duration": 16,
    "start_time": "2022-09-21T11:02:21.739Z"
   },
   {
    "duration": 15,
    "start_time": "2022-09-21T11:02:21.757Z"
   },
   {
    "duration": 18,
    "start_time": "2022-09-21T11:02:21.773Z"
   },
   {
    "duration": 41,
    "start_time": "2022-09-21T11:02:21.793Z"
   },
   {
    "duration": 4,
    "start_time": "2022-09-21T11:02:21.836Z"
   },
   {
    "duration": 24,
    "start_time": "2022-09-21T11:02:21.841Z"
   },
   {
    "duration": 35,
    "start_time": "2022-09-21T11:02:21.867Z"
   },
   {
    "duration": 47,
    "start_time": "2022-09-21T11:02:21.903Z"
   },
   {
    "duration": 15,
    "start_time": "2022-09-21T11:02:21.952Z"
   },
   {
    "duration": 7,
    "start_time": "2022-09-21T11:02:21.970Z"
   },
   {
    "duration": 282,
    "start_time": "2022-09-21T11:02:21.979Z"
   },
   {
    "duration": 18,
    "start_time": "2022-09-21T11:02:22.263Z"
   },
   {
    "duration": 21,
    "start_time": "2022-09-21T11:02:22.283Z"
   },
   {
    "duration": 57,
    "start_time": "2022-09-21T11:02:22.306Z"
   },
   {
    "duration": 202,
    "start_time": "2022-09-21T11:02:22.367Z"
   },
   {
    "duration": 10,
    "start_time": "2022-09-21T11:02:22.571Z"
   },
   {
    "duration": 17,
    "start_time": "2022-09-21T11:02:22.583Z"
   },
   {
    "duration": 27,
    "start_time": "2022-09-21T11:02:22.602Z"
   },
   {
    "duration": 30,
    "start_time": "2022-09-21T11:02:22.632Z"
   },
   {
    "duration": 25,
    "start_time": "2022-09-21T11:02:22.663Z"
   },
   {
    "duration": 15,
    "start_time": "2022-09-21T11:02:22.689Z"
   },
   {
    "duration": 43,
    "start_time": "2022-09-21T11:02:22.705Z"
   },
   {
    "duration": 33,
    "start_time": "2022-09-21T11:02:22.750Z"
   },
   {
    "duration": 14,
    "start_time": "2022-09-21T11:02:22.784Z"
   },
   {
    "duration": 21,
    "start_time": "2022-09-21T11:02:22.799Z"
   },
   {
    "duration": 30,
    "start_time": "2022-09-21T11:02:22.822Z"
   },
   {
    "duration": 33,
    "start_time": "2022-09-21T11:02:22.853Z"
   },
   {
    "duration": 201,
    "start_time": "2022-09-21T11:02:22.888Z"
   },
   {
    "duration": 5,
    "start_time": "2022-09-21T11:02:23.091Z"
   },
   {
    "duration": 38,
    "start_time": "2022-09-21T11:02:23.097Z"
   },
   {
    "duration": 12,
    "start_time": "2022-09-21T11:02:23.137Z"
   },
   {
    "duration": 17,
    "start_time": "2022-09-21T11:02:23.151Z"
   },
   {
    "duration": 33,
    "start_time": "2022-09-21T11:02:23.169Z"
   },
   {
    "duration": 46,
    "start_time": "2022-09-21T11:02:23.204Z"
   },
   {
    "duration": 216,
    "start_time": "2022-09-21T11:02:23.251Z"
   },
   {
    "duration": 10,
    "start_time": "2022-09-21T11:02:23.469Z"
   },
   {
    "duration": 26,
    "start_time": "2022-09-21T11:02:23.480Z"
   },
   {
    "duration": 10,
    "start_time": "2022-09-21T11:02:23.508Z"
   },
   {
    "duration": 36,
    "start_time": "2022-09-21T11:02:23.519Z"
   },
   {
    "duration": 4,
    "start_time": "2022-09-21T11:02:23.557Z"
   },
   {
    "duration": 21,
    "start_time": "2022-09-21T11:02:23.562Z"
   },
   {
    "duration": 25,
    "start_time": "2022-09-21T11:02:23.585Z"
   },
   {
    "duration": 24,
    "start_time": "2022-09-21T11:02:23.612Z"
   },
   {
    "duration": 21,
    "start_time": "2022-09-21T11:02:23.638Z"
   },
   {
    "duration": 24,
    "start_time": "2022-09-21T11:02:23.661Z"
   },
   {
    "duration": 17,
    "start_time": "2022-09-21T11:02:23.687Z"
   },
   {
    "duration": 37,
    "start_time": "2022-09-21T11:02:23.706Z"
   },
   {
    "duration": 24,
    "start_time": "2022-09-21T11:02:23.745Z"
   },
   {
    "duration": 52,
    "start_time": "2022-09-21T11:02:23.771Z"
   },
   {
    "duration": 50,
    "start_time": "2022-09-21T11:02:23.824Z"
   },
   {
    "duration": 5,
    "start_time": "2022-09-21T11:02:23.876Z"
   },
   {
    "duration": 4,
    "start_time": "2022-09-21T11:02:28.362Z"
   },
   {
    "duration": 4,
    "start_time": "2022-09-21T11:02:34.344Z"
   },
   {
    "duration": 4,
    "start_time": "2022-09-21T11:02:42.051Z"
   },
   {
    "duration": 4,
    "start_time": "2022-09-21T11:02:46.591Z"
   },
   {
    "duration": 4,
    "start_time": "2022-09-21T11:02:51.094Z"
   },
   {
    "duration": 5,
    "start_time": "2022-09-21T11:03:42.680Z"
   },
   {
    "duration": 5,
    "start_time": "2022-09-21T11:03:46.299Z"
   },
   {
    "duration": 5,
    "start_time": "2022-09-21T11:06:11.479Z"
   },
   {
    "duration": 112,
    "start_time": "2022-09-21T11:06:45.310Z"
   },
   {
    "duration": 3,
    "start_time": "2022-09-21T11:07:13.749Z"
   },
   {
    "duration": 7,
    "start_time": "2022-09-21T11:07:21.371Z"
   },
   {
    "duration": 7,
    "start_time": "2022-09-21T11:08:22.441Z"
   },
   {
    "duration": 4,
    "start_time": "2022-09-21T11:14:29.609Z"
   },
   {
    "duration": 3,
    "start_time": "2022-09-21T11:14:32.344Z"
   },
   {
    "duration": 7,
    "start_time": "2022-09-21T11:16:02.889Z"
   },
   {
    "duration": 4,
    "start_time": "2022-09-21T11:31:24.490Z"
   },
   {
    "duration": 5,
    "start_time": "2022-09-21T12:01:36.617Z"
   },
   {
    "duration": 9,
    "start_time": "2022-09-21T12:01:50.536Z"
   },
   {
    "duration": 6,
    "start_time": "2022-09-21T12:01:57.257Z"
   },
   {
    "duration": 9,
    "start_time": "2022-09-21T12:02:00.705Z"
   },
   {
    "duration": 9,
    "start_time": "2022-09-21T12:04:39.772Z"
   },
   {
    "duration": 11,
    "start_time": "2022-09-21T12:04:50.310Z"
   },
   {
    "duration": 11,
    "start_time": "2022-09-21T13:09:36.247Z"
   },
   {
    "duration": 13,
    "start_time": "2022-09-21T13:10:11.601Z"
   },
   {
    "duration": 1145,
    "start_time": "2022-09-21T13:10:40.007Z"
   },
   {
    "duration": 3,
    "start_time": "2022-09-21T13:10:41.154Z"
   },
   {
    "duration": 75,
    "start_time": "2022-09-21T13:10:41.158Z"
   },
   {
    "duration": 17,
    "start_time": "2022-09-21T13:10:41.236Z"
   },
   {
    "duration": 14,
    "start_time": "2022-09-21T13:10:41.254Z"
   },
   {
    "duration": 5,
    "start_time": "2022-09-21T13:10:41.269Z"
   },
   {
    "duration": 7,
    "start_time": "2022-09-21T13:10:41.275Z"
   },
   {
    "duration": 18,
    "start_time": "2022-09-21T13:10:41.283Z"
   },
   {
    "duration": 37,
    "start_time": "2022-09-21T13:10:41.302Z"
   },
   {
    "duration": 9,
    "start_time": "2022-09-21T13:10:41.341Z"
   },
   {
    "duration": 13,
    "start_time": "2022-09-21T13:10:59.887Z"
   },
   {
    "duration": 5,
    "start_time": "2022-09-21T14:05:15.032Z"
   },
   {
    "duration": 3,
    "start_time": "2022-09-21T14:05:15.044Z"
   },
   {
    "duration": 71,
    "start_time": "2022-09-21T14:05:15.049Z"
   },
   {
    "duration": 18,
    "start_time": "2022-09-21T14:05:15.122Z"
   },
   {
    "duration": 11,
    "start_time": "2022-09-21T14:05:15.143Z"
   },
   {
    "duration": 7,
    "start_time": "2022-09-21T14:05:15.157Z"
   },
   {
    "duration": 5,
    "start_time": "2022-09-21T14:05:15.166Z"
   },
   {
    "duration": 18,
    "start_time": "2022-09-21T14:05:15.172Z"
   },
   {
    "duration": 44,
    "start_time": "2022-09-21T14:05:15.191Z"
   },
   {
    "duration": 13,
    "start_time": "2022-09-21T14:05:15.237Z"
   },
   {
    "duration": 3,
    "start_time": "2022-09-21T14:05:15.252Z"
   },
   {
    "duration": 9,
    "start_time": "2022-09-21T14:05:15.257Z"
   },
   {
    "duration": 12,
    "start_time": "2022-09-21T14:05:15.268Z"
   },
   {
    "duration": 53,
    "start_time": "2022-09-21T14:05:15.282Z"
   },
   {
    "duration": 7,
    "start_time": "2022-09-21T14:05:15.336Z"
   },
   {
    "duration": 22,
    "start_time": "2022-09-21T14:05:15.344Z"
   },
   {
    "duration": 10,
    "start_time": "2022-09-21T14:05:15.367Z"
   },
   {
    "duration": 10,
    "start_time": "2022-09-21T14:05:15.378Z"
   },
   {
    "duration": 73,
    "start_time": "2022-09-21T14:05:15.390Z"
   },
   {
    "duration": 10,
    "start_time": "2022-09-21T14:05:15.465Z"
   },
   {
    "duration": 12,
    "start_time": "2022-09-21T14:05:15.476Z"
   },
   {
    "duration": 10,
    "start_time": "2022-09-21T14:05:15.490Z"
   },
   {
    "duration": 39,
    "start_time": "2022-09-21T14:05:15.501Z"
   },
   {
    "duration": 11,
    "start_time": "2022-09-21T14:05:15.541Z"
   },
   {
    "duration": 13,
    "start_time": "2022-09-21T14:05:15.555Z"
   },
   {
    "duration": 16,
    "start_time": "2022-09-21T14:05:15.570Z"
   },
   {
    "duration": 12,
    "start_time": "2022-09-21T14:05:15.588Z"
   },
   {
    "duration": 18,
    "start_time": "2022-09-21T14:05:15.634Z"
   },
   {
    "duration": 14,
    "start_time": "2022-09-21T14:05:15.654Z"
   },
   {
    "duration": 18,
    "start_time": "2022-09-21T14:05:15.670Z"
   },
   {
    "duration": 4,
    "start_time": "2022-09-21T14:05:15.690Z"
   },
   {
    "duration": 54,
    "start_time": "2022-09-21T14:05:15.696Z"
   },
   {
    "duration": 34,
    "start_time": "2022-09-21T14:05:15.751Z"
   },
   {
    "duration": 20,
    "start_time": "2022-09-21T14:05:15.787Z"
   },
   {
    "duration": 36,
    "start_time": "2022-09-21T14:05:15.809Z"
   },
   {
    "duration": 8,
    "start_time": "2022-09-21T14:05:15.847Z"
   },
   {
    "duration": 328,
    "start_time": "2022-09-21T14:05:15.856Z"
   },
   {
    "duration": 25,
    "start_time": "2022-09-21T14:05:16.187Z"
   },
   {
    "duration": 27,
    "start_time": "2022-09-21T14:05:16.214Z"
   },
   {
    "duration": 68,
    "start_time": "2022-09-21T14:05:16.243Z"
   },
   {
    "duration": 237,
    "start_time": "2022-09-21T14:05:16.314Z"
   },
   {
    "duration": 11,
    "start_time": "2022-09-21T14:05:16.552Z"
   },
   {
    "duration": 14,
    "start_time": "2022-09-21T14:05:16.565Z"
   },
   {
    "duration": 27,
    "start_time": "2022-09-21T14:05:16.581Z"
   },
   {
    "duration": 34,
    "start_time": "2022-09-21T14:05:16.609Z"
   },
   {
    "duration": 21,
    "start_time": "2022-09-21T14:05:16.645Z"
   },
   {
    "duration": 16,
    "start_time": "2022-09-21T14:05:16.668Z"
   },
   {
    "duration": 66,
    "start_time": "2022-09-21T14:05:16.685Z"
   },
   {
    "duration": 33,
    "start_time": "2022-09-21T14:05:16.753Z"
   },
   {
    "duration": 12,
    "start_time": "2022-09-21T14:05:16.788Z"
   },
   {
    "duration": 10,
    "start_time": "2022-09-21T14:05:16.801Z"
   },
   {
    "duration": 11,
    "start_time": "2022-09-21T14:05:16.833Z"
   },
   {
    "duration": 32,
    "start_time": "2022-09-21T14:05:16.846Z"
   },
   {
    "duration": 215,
    "start_time": "2022-09-21T14:05:16.880Z"
   },
   {
    "duration": 6,
    "start_time": "2022-09-21T14:05:17.097Z"
   },
   {
    "duration": 43,
    "start_time": "2022-09-21T14:05:17.105Z"
   },
   {
    "duration": 11,
    "start_time": "2022-09-21T14:05:17.150Z"
   },
   {
    "duration": 6,
    "start_time": "2022-09-21T14:05:17.162Z"
   },
   {
    "duration": 13,
    "start_time": "2022-09-21T14:05:17.169Z"
   },
   {
    "duration": 52,
    "start_time": "2022-09-21T14:05:17.184Z"
   },
   {
    "duration": 227,
    "start_time": "2022-09-21T14:05:17.238Z"
   },
   {
    "duration": 8,
    "start_time": "2022-09-21T14:05:17.466Z"
   },
   {
    "duration": 21,
    "start_time": "2022-09-21T14:05:17.476Z"
   },
   {
    "duration": 10,
    "start_time": "2022-09-21T14:05:17.499Z"
   },
   {
    "duration": 38,
    "start_time": "2022-09-21T14:05:17.511Z"
   },
   {
    "duration": 5,
    "start_time": "2022-09-21T14:05:17.551Z"
   },
   {
    "duration": 8,
    "start_time": "2022-09-21T14:05:17.557Z"
   },
   {
    "duration": 15,
    "start_time": "2022-09-21T14:05:17.566Z"
   },
   {
    "duration": 11,
    "start_time": "2022-09-21T14:05:17.582Z"
   },
   {
    "duration": 36,
    "start_time": "2022-09-21T14:05:17.597Z"
   },
   {
    "duration": 8,
    "start_time": "2022-09-21T14:05:17.636Z"
   },
   {
    "duration": 13,
    "start_time": "2022-09-21T14:05:17.646Z"
   },
   {
    "duration": 13,
    "start_time": "2022-09-21T14:05:17.660Z"
   },
   {
    "duration": 6,
    "start_time": "2022-09-21T14:05:17.674Z"
   },
   {
    "duration": 17,
    "start_time": "2022-09-21T14:05:17.682Z"
   },
   {
    "duration": 53,
    "start_time": "2022-09-21T14:05:17.701Z"
   },
   {
    "duration": 17,
    "start_time": "2022-09-21T14:05:17.756Z"
   },
   {
    "duration": 9,
    "start_time": "2022-09-21T14:05:17.775Z"
   },
   {
    "duration": 10,
    "start_time": "2022-09-21T14:05:38.913Z"
   },
   {
    "duration": 28,
    "start_time": "2022-09-21T14:07:45.245Z"
   },
   {
    "duration": 19,
    "start_time": "2022-09-21T14:12:38.475Z"
   },
   {
    "duration": 10,
    "start_time": "2022-09-21T14:14:30.515Z"
   },
   {
    "duration": 32,
    "start_time": "2022-09-21T14:14:33.276Z"
   },
   {
    "duration": 11,
    "start_time": "2022-09-21T14:24:46.069Z"
   },
   {
    "duration": 30,
    "start_time": "2022-09-21T14:25:57.412Z"
   },
   {
    "duration": 21,
    "start_time": "2022-09-21T14:33:49.461Z"
   },
   {
    "duration": 2,
    "start_time": "2022-09-21T14:36:54.096Z"
   },
   {
    "duration": 23,
    "start_time": "2022-09-21T14:36:55.357Z"
   },
   {
    "duration": 78,
    "start_time": "2022-09-21T14:39:58.713Z"
   },
   {
    "duration": 30,
    "start_time": "2022-09-21T14:40:05.649Z"
   },
   {
    "duration": 34,
    "start_time": "2022-09-21T14:41:33.454Z"
   },
   {
    "duration": 35,
    "start_time": "2022-09-21T14:42:26.440Z"
   },
   {
    "duration": 24,
    "start_time": "2022-09-21T14:42:58.257Z"
   },
   {
    "duration": 35,
    "start_time": "2022-09-21T14:46:48.849Z"
   },
   {
    "duration": 26,
    "start_time": "2022-09-21T14:57:53.786Z"
   },
   {
    "duration": 130,
    "start_time": "2022-09-21T15:05:36.953Z"
   },
   {
    "duration": 26,
    "start_time": "2022-09-21T15:05:51.849Z"
   },
   {
    "duration": 24,
    "start_time": "2022-09-21T15:07:02.088Z"
   },
   {
    "duration": 25,
    "start_time": "2022-09-21T15:07:15.854Z"
   },
   {
    "duration": 24,
    "start_time": "2022-09-21T15:08:07.138Z"
   },
   {
    "duration": 20,
    "start_time": "2022-09-21T15:10:04.288Z"
   },
   {
    "duration": 18,
    "start_time": "2022-09-21T15:16:43.583Z"
   },
   {
    "duration": 34,
    "start_time": "2022-09-21T15:16:58.629Z"
   },
   {
    "duration": 28,
    "start_time": "2022-09-21T15:17:06.285Z"
   },
   {
    "duration": 5,
    "start_time": "2022-09-21T15:22:17.650Z"
   },
   {
    "duration": 19,
    "start_time": "2022-09-21T15:22:24.948Z"
   },
   {
    "duration": 29,
    "start_time": "2022-09-21T15:22:38.503Z"
   },
   {
    "duration": 21,
    "start_time": "2022-09-21T15:52:28.102Z"
   },
   {
    "duration": 20,
    "start_time": "2022-09-21T15:52:34.789Z"
   },
   {
    "duration": 20,
    "start_time": "2022-09-21T15:53:07.005Z"
   },
   {
    "duration": 26,
    "start_time": "2022-09-21T15:53:16.433Z"
   },
   {
    "duration": 21,
    "start_time": "2022-09-21T15:53:23.587Z"
   },
   {
    "duration": 21,
    "start_time": "2022-09-21T15:53:33.573Z"
   },
   {
    "duration": 21,
    "start_time": "2022-09-21T15:53:36.735Z"
   },
   {
    "duration": 21,
    "start_time": "2022-09-21T15:53:43.629Z"
   },
   {
    "duration": 21,
    "start_time": "2022-09-21T15:53:53.779Z"
   },
   {
    "duration": 23,
    "start_time": "2022-09-21T15:54:11.834Z"
   },
   {
    "duration": 22,
    "start_time": "2022-09-21T15:54:20.961Z"
   },
   {
    "duration": 19,
    "start_time": "2022-09-21T15:54:28.536Z"
   },
   {
    "duration": 19,
    "start_time": "2022-09-21T15:54:32.034Z"
   },
   {
    "duration": 20,
    "start_time": "2022-09-21T15:54:34.594Z"
   },
   {
    "duration": 19,
    "start_time": "2022-09-21T15:54:42.862Z"
   },
   {
    "duration": 20,
    "start_time": "2022-09-21T15:54:48.636Z"
   },
   {
    "duration": 20,
    "start_time": "2022-09-21T15:55:29.466Z"
   },
   {
    "duration": 19,
    "start_time": "2022-09-21T16:15:15.408Z"
   },
   {
    "duration": 24,
    "start_time": "2022-09-21T16:15:22.668Z"
   },
   {
    "duration": 22,
    "start_time": "2022-09-21T16:15:25.908Z"
   },
   {
    "duration": 37,
    "start_time": "2022-09-21T16:15:35.494Z"
   },
   {
    "duration": 22,
    "start_time": "2022-09-21T18:07:50.474Z"
   },
   {
    "duration": 36,
    "start_time": "2022-09-21T18:09:11.650Z"
   },
   {
    "duration": 24,
    "start_time": "2022-09-21T18:15:39.588Z"
   },
   {
    "duration": 35,
    "start_time": "2022-09-21T18:15:47.871Z"
   },
   {
    "duration": 24,
    "start_time": "2022-09-21T18:16:07.105Z"
   },
   {
    "duration": 31,
    "start_time": "2022-09-21T18:16:43.892Z"
   },
   {
    "duration": 25,
    "start_time": "2022-09-21T18:16:49.203Z"
   },
   {
    "duration": 5,
    "start_time": "2022-09-21T18:21:41.360Z"
   },
   {
    "duration": 3,
    "start_time": "2022-09-21T18:22:10.867Z"
   },
   {
    "duration": 6,
    "start_time": "2022-09-21T18:22:16.591Z"
   },
   {
    "duration": 3,
    "start_time": "2022-09-21T18:22:24.745Z"
   },
   {
    "duration": 34,
    "start_time": "2022-09-21T18:23:44.344Z"
   },
   {
    "duration": 11,
    "start_time": "2022-09-21T18:25:24.946Z"
   },
   {
    "duration": 17,
    "start_time": "2022-09-21T18:26:19.746Z"
   },
   {
    "duration": 16,
    "start_time": "2022-09-21T18:29:52.502Z"
   },
   {
    "duration": 22,
    "start_time": "2022-09-21T18:32:03.090Z"
   },
   {
    "duration": 12,
    "start_time": "2022-09-21T18:33:03.296Z"
   },
   {
    "duration": 101,
    "start_time": "2022-09-21T18:34:30.564Z"
   },
   {
    "duration": 33,
    "start_time": "2022-09-21T18:34:34.683Z"
   },
   {
    "duration": 46,
    "start_time": "2022-09-21T18:35:16.541Z"
   },
   {
    "duration": 25,
    "start_time": "2022-09-21T18:35:45.544Z"
   },
   {
    "duration": 8,
    "start_time": "2022-09-21T18:41:21.630Z"
   },
   {
    "duration": 25,
    "start_time": "2022-09-21T18:41:40.044Z"
   },
   {
    "duration": 12,
    "start_time": "2022-09-21T18:41:55.832Z"
   },
   {
    "duration": 13,
    "start_time": "2022-09-21T18:47:15.887Z"
   },
   {
    "duration": 14,
    "start_time": "2022-09-21T18:48:20.974Z"
   },
   {
    "duration": 19,
    "start_time": "2022-09-21T18:48:35.770Z"
   },
   {
    "duration": 13,
    "start_time": "2022-09-21T18:49:07.778Z"
   },
   {
    "duration": 8,
    "start_time": "2022-09-21T18:50:36.487Z"
   },
   {
    "duration": 15,
    "start_time": "2022-09-21T18:51:24.610Z"
   },
   {
    "duration": 33,
    "start_time": "2022-09-21T18:52:29.636Z"
   },
   {
    "duration": 14,
    "start_time": "2022-09-21T18:52:49.281Z"
   },
   {
    "duration": 92,
    "start_time": "2022-09-21T18:55:26.072Z"
   },
   {
    "duration": 12,
    "start_time": "2022-09-21T18:56:07.674Z"
   },
   {
    "duration": 8,
    "start_time": "2022-09-21T18:58:05.829Z"
   },
   {
    "duration": 23,
    "start_time": "2022-09-21T19:10:35.729Z"
   },
   {
    "duration": 1256,
    "start_time": "2022-09-21T19:12:20.395Z"
   },
   {
    "duration": 3,
    "start_time": "2022-09-21T19:12:21.653Z"
   },
   {
    "duration": 97,
    "start_time": "2022-09-21T19:12:21.658Z"
   },
   {
    "duration": 22,
    "start_time": "2022-09-21T19:12:21.757Z"
   },
   {
    "duration": 16,
    "start_time": "2022-09-21T19:12:21.782Z"
   },
   {
    "duration": 13,
    "start_time": "2022-09-21T19:12:21.799Z"
   },
   {
    "duration": 21,
    "start_time": "2022-09-21T19:12:21.814Z"
   },
   {
    "duration": 25,
    "start_time": "2022-09-21T19:12:21.837Z"
   },
   {
    "duration": 17,
    "start_time": "2022-09-21T19:12:21.866Z"
   },
   {
    "duration": 49,
    "start_time": "2022-09-21T19:12:21.885Z"
   },
   {
    "duration": 6,
    "start_time": "2022-09-21T19:12:21.937Z"
   },
   {
    "duration": 7,
    "start_time": "2022-09-21T19:12:21.945Z"
   },
   {
    "duration": 12,
    "start_time": "2022-09-21T19:12:21.954Z"
   },
   {
    "duration": 25,
    "start_time": "2022-09-21T19:12:21.970Z"
   },
   {
    "duration": 36,
    "start_time": "2022-09-21T19:12:21.998Z"
   },
   {
    "duration": 13,
    "start_time": "2022-09-21T19:12:22.036Z"
   },
   {
    "duration": 12,
    "start_time": "2022-09-21T19:12:22.051Z"
   },
   {
    "duration": 12,
    "start_time": "2022-09-21T19:12:22.065Z"
   },
   {
    "duration": 74,
    "start_time": "2022-09-21T19:12:22.079Z"
   },
   {
    "duration": 15,
    "start_time": "2022-09-21T19:12:22.155Z"
   },
   {
    "duration": 24,
    "start_time": "2022-09-21T19:12:22.172Z"
   },
   {
    "duration": 15,
    "start_time": "2022-09-21T19:12:22.199Z"
   },
   {
    "duration": 43,
    "start_time": "2022-09-21T19:12:22.216Z"
   },
   {
    "duration": 17,
    "start_time": "2022-09-21T19:12:22.262Z"
   },
   {
    "duration": 12,
    "start_time": "2022-09-21T19:12:22.281Z"
   },
   {
    "duration": 54,
    "start_time": "2022-09-21T19:12:22.295Z"
   },
   {
    "duration": 17,
    "start_time": "2022-09-21T19:12:22.351Z"
   },
   {
    "duration": 16,
    "start_time": "2022-09-21T19:12:22.370Z"
   },
   {
    "duration": 15,
    "start_time": "2022-09-21T19:12:22.388Z"
   },
   {
    "duration": 44,
    "start_time": "2022-09-21T19:12:22.405Z"
   },
   {
    "duration": 8,
    "start_time": "2022-09-21T19:12:22.451Z"
   },
   {
    "duration": 30,
    "start_time": "2022-09-21T19:12:22.461Z"
   },
   {
    "duration": 72,
    "start_time": "2022-09-21T19:12:22.493Z"
   },
   {
    "duration": 23,
    "start_time": "2022-09-21T19:12:22.567Z"
   },
   {
    "duration": 22,
    "start_time": "2022-09-21T19:12:22.592Z"
   },
   {
    "duration": 10,
    "start_time": "2022-09-21T19:12:22.634Z"
   },
   {
    "duration": 307,
    "start_time": "2022-09-21T19:12:22.646Z"
   },
   {
    "duration": 30,
    "start_time": "2022-09-21T19:12:22.956Z"
   },
   {
    "duration": 35,
    "start_time": "2022-09-21T19:12:22.989Z"
   },
   {
    "duration": 93,
    "start_time": "2022-09-21T19:12:23.027Z"
   },
   {
    "duration": 214,
    "start_time": "2022-09-21T19:12:23.125Z"
   },
   {
    "duration": 16,
    "start_time": "2022-09-21T19:12:23.342Z"
   },
   {
    "duration": 22,
    "start_time": "2022-09-21T19:12:23.360Z"
   },
   {
    "duration": 22,
    "start_time": "2022-09-21T19:12:23.384Z"
   },
   {
    "duration": 28,
    "start_time": "2022-09-21T19:12:23.409Z"
   },
   {
    "duration": 21,
    "start_time": "2022-09-21T19:12:23.440Z"
   },
   {
    "duration": 15,
    "start_time": "2022-09-21T19:12:23.463Z"
   },
   {
    "duration": 19,
    "start_time": "2022-09-21T19:12:23.480Z"
   },
   {
    "duration": 49,
    "start_time": "2022-09-21T19:12:23.500Z"
   },
   {
    "duration": 36,
    "start_time": "2022-09-21T19:12:23.551Z"
   },
   {
    "duration": 16,
    "start_time": "2022-09-21T19:12:23.590Z"
   },
   {
    "duration": 27,
    "start_time": "2022-09-21T19:12:23.608Z"
   },
   {
    "duration": 19,
    "start_time": "2022-09-21T19:12:23.638Z"
   },
   {
    "duration": 51,
    "start_time": "2022-09-21T19:12:23.658Z"
   },
   {
    "duration": 284,
    "start_time": "2022-09-21T19:12:23.734Z"
   },
   {
    "duration": 8,
    "start_time": "2022-09-21T19:12:24.020Z"
   },
   {
    "duration": 32,
    "start_time": "2022-09-21T19:12:24.034Z"
   },
   {
    "duration": 17,
    "start_time": "2022-09-21T19:12:24.068Z"
   },
   {
    "duration": 7,
    "start_time": "2022-09-21T19:12:24.087Z"
   },
   {
    "duration": 44,
    "start_time": "2022-09-21T19:12:24.095Z"
   },
   {
    "duration": 55,
    "start_time": "2022-09-21T19:12:24.141Z"
   },
   {
    "duration": 244,
    "start_time": "2022-09-21T19:12:24.198Z"
   },
   {
    "duration": 11,
    "start_time": "2022-09-21T19:12:24.445Z"
   },
   {
    "duration": 22,
    "start_time": "2022-09-21T19:12:24.457Z"
   },
   {
    "duration": 7,
    "start_time": "2022-09-21T19:12:24.481Z"
   },
   {
    "duration": 67,
    "start_time": "2022-09-21T19:12:24.490Z"
   },
   {
    "duration": 7,
    "start_time": "2022-09-21T19:12:24.559Z"
   },
   {
    "duration": 20,
    "start_time": "2022-09-21T19:12:24.568Z"
   },
   {
    "duration": 22,
    "start_time": "2022-09-21T19:12:24.591Z"
   },
   {
    "duration": 23,
    "start_time": "2022-09-21T19:12:24.616Z"
   },
   {
    "duration": 201,
    "start_time": "2022-09-21T19:12:24.641Z"
   },
   {
    "duration": 0,
    "start_time": "2022-09-21T19:12:24.845Z"
   },
   {
    "duration": 0,
    "start_time": "2022-09-21T19:12:24.848Z"
   },
   {
    "duration": 0,
    "start_time": "2022-09-21T19:12:24.849Z"
   },
   {
    "duration": 0,
    "start_time": "2022-09-21T19:12:24.851Z"
   },
   {
    "duration": 0,
    "start_time": "2022-09-21T19:12:24.852Z"
   },
   {
    "duration": 0,
    "start_time": "2022-09-21T19:12:24.853Z"
   },
   {
    "duration": 0,
    "start_time": "2022-09-21T19:12:24.855Z"
   },
   {
    "duration": 0,
    "start_time": "2022-09-21T19:12:24.856Z"
   },
   {
    "duration": 0,
    "start_time": "2022-09-21T19:12:24.857Z"
   },
   {
    "duration": 0,
    "start_time": "2022-09-21T19:12:24.859Z"
   },
   {
    "duration": 42,
    "start_time": "2022-09-21T19:14:16.367Z"
   },
   {
    "duration": 13,
    "start_time": "2022-09-21T19:14:19.528Z"
   },
   {
    "duration": 8,
    "start_time": "2022-09-21T19:14:24.311Z"
   },
   {
    "duration": 1373,
    "start_time": "2022-09-21T19:14:38.030Z"
   },
   {
    "duration": 3,
    "start_time": "2022-09-21T19:14:39.405Z"
   },
   {
    "duration": 101,
    "start_time": "2022-09-21T19:14:39.410Z"
   },
   {
    "duration": 19,
    "start_time": "2022-09-21T19:14:39.512Z"
   },
   {
    "duration": 20,
    "start_time": "2022-09-21T19:14:39.533Z"
   },
   {
    "duration": 26,
    "start_time": "2022-09-21T19:14:39.555Z"
   },
   {
    "duration": 5,
    "start_time": "2022-09-21T19:14:39.583Z"
   },
   {
    "duration": 17,
    "start_time": "2022-09-21T19:14:39.590Z"
   },
   {
    "duration": 30,
    "start_time": "2022-09-21T19:14:39.609Z"
   },
   {
    "duration": 16,
    "start_time": "2022-09-21T19:14:39.640Z"
   },
   {
    "duration": 20,
    "start_time": "2022-09-21T19:14:39.658Z"
   },
   {
    "duration": 11,
    "start_time": "2022-09-21T19:14:39.680Z"
   },
   {
    "duration": 16,
    "start_time": "2022-09-21T19:14:39.693Z"
   },
   {
    "duration": 29,
    "start_time": "2022-09-21T19:14:39.712Z"
   },
   {
    "duration": 9,
    "start_time": "2022-09-21T19:14:39.742Z"
   },
   {
    "duration": 37,
    "start_time": "2022-09-21T19:14:39.753Z"
   },
   {
    "duration": 11,
    "start_time": "2022-09-21T19:14:39.792Z"
   },
   {
    "duration": 8,
    "start_time": "2022-09-21T19:14:39.805Z"
   },
   {
    "duration": 64,
    "start_time": "2022-09-21T19:14:39.815Z"
   },
   {
    "duration": 12,
    "start_time": "2022-09-21T19:14:39.881Z"
   },
   {
    "duration": 11,
    "start_time": "2022-09-21T19:14:39.895Z"
   },
   {
    "duration": 9,
    "start_time": "2022-09-21T19:14:39.907Z"
   },
   {
    "duration": 37,
    "start_time": "2022-09-21T19:14:39.917Z"
   },
   {
    "duration": 18,
    "start_time": "2022-09-21T19:14:39.955Z"
   },
   {
    "duration": 13,
    "start_time": "2022-09-21T19:14:39.975Z"
   },
   {
    "duration": 18,
    "start_time": "2022-09-21T19:14:39.989Z"
   },
   {
    "duration": 36,
    "start_time": "2022-09-21T19:14:40.009Z"
   },
   {
    "duration": 27,
    "start_time": "2022-09-21T19:14:40.047Z"
   },
   {
    "duration": 13,
    "start_time": "2022-09-21T19:14:40.075Z"
   },
   {
    "duration": 16,
    "start_time": "2022-09-21T19:14:40.090Z"
   },
   {
    "duration": 5,
    "start_time": "2022-09-21T19:14:40.108Z"
   },
   {
    "duration": 63,
    "start_time": "2022-09-21T19:14:40.114Z"
   },
   {
    "duration": 44,
    "start_time": "2022-09-21T19:14:40.180Z"
   },
   {
    "duration": 43,
    "start_time": "2022-09-21T19:14:40.226Z"
   },
   {
    "duration": 25,
    "start_time": "2022-09-21T19:14:40.271Z"
   },
   {
    "duration": 9,
    "start_time": "2022-09-21T19:14:40.298Z"
   },
   {
    "duration": 329,
    "start_time": "2022-09-21T19:14:40.309Z"
   },
   {
    "duration": 38,
    "start_time": "2022-09-21T19:14:40.639Z"
   },
   {
    "duration": 25,
    "start_time": "2022-09-21T19:14:40.679Z"
   },
   {
    "duration": 74,
    "start_time": "2022-09-21T19:14:40.706Z"
   },
   {
    "duration": 287,
    "start_time": "2022-09-21T19:14:40.786Z"
   },
   {
    "duration": 13,
    "start_time": "2022-09-21T19:14:41.074Z"
   },
   {
    "duration": 7,
    "start_time": "2022-09-21T19:14:41.089Z"
   },
   {
    "duration": 38,
    "start_time": "2022-09-21T19:14:41.098Z"
   },
   {
    "duration": 26,
    "start_time": "2022-09-21T19:14:41.137Z"
   },
   {
    "duration": 35,
    "start_time": "2022-09-21T19:14:41.166Z"
   },
   {
    "duration": 18,
    "start_time": "2022-09-21T19:14:41.202Z"
   },
   {
    "duration": 24,
    "start_time": "2022-09-21T19:14:41.222Z"
   },
   {
    "duration": 56,
    "start_time": "2022-09-21T19:14:41.250Z"
   },
   {
    "duration": 40,
    "start_time": "2022-09-21T19:14:41.308Z"
   },
   {
    "duration": 20,
    "start_time": "2022-09-21T19:14:41.350Z"
   },
   {
    "duration": 11,
    "start_time": "2022-09-21T19:14:41.372Z"
   },
   {
    "duration": 16,
    "start_time": "2022-09-21T19:14:41.385Z"
   },
   {
    "duration": 46,
    "start_time": "2022-09-21T19:14:41.403Z"
   },
   {
    "duration": 294,
    "start_time": "2022-09-21T19:14:41.451Z"
   },
   {
    "duration": 22,
    "start_time": "2022-09-21T19:14:41.747Z"
   },
   {
    "duration": 58,
    "start_time": "2022-09-21T19:14:41.772Z"
   },
   {
    "duration": 44,
    "start_time": "2022-09-21T19:14:41.832Z"
   },
   {
    "duration": 21,
    "start_time": "2022-09-21T19:14:41.878Z"
   },
   {
    "duration": 74,
    "start_time": "2022-09-21T19:14:41.901Z"
   },
   {
    "duration": 50,
    "start_time": "2022-09-21T19:14:41.977Z"
   },
   {
    "duration": 327,
    "start_time": "2022-09-21T19:14:42.029Z"
   },
   {
    "duration": 13,
    "start_time": "2022-09-21T19:14:42.358Z"
   },
   {
    "duration": 17,
    "start_time": "2022-09-21T19:14:42.373Z"
   },
   {
    "duration": 10,
    "start_time": "2022-09-21T19:14:42.392Z"
   },
   {
    "duration": 50,
    "start_time": "2022-09-21T19:14:42.404Z"
   },
   {
    "duration": 5,
    "start_time": "2022-09-21T19:14:42.457Z"
   },
   {
    "duration": 20,
    "start_time": "2022-09-21T19:14:42.464Z"
   },
   {
    "duration": 14,
    "start_time": "2022-09-21T19:14:42.485Z"
   },
   {
    "duration": 13,
    "start_time": "2022-09-21T19:14:42.501Z"
   },
   {
    "duration": 57,
    "start_time": "2022-09-21T19:14:42.516Z"
   },
   {
    "duration": 11,
    "start_time": "2022-09-21T19:14:42.575Z"
   },
   {
    "duration": 13,
    "start_time": "2022-09-21T19:14:42.587Z"
   },
   {
    "duration": 11,
    "start_time": "2022-09-21T19:14:42.602Z"
   },
   {
    "duration": 19,
    "start_time": "2022-09-21T19:14:42.616Z"
   },
   {
    "duration": 17,
    "start_time": "2022-09-21T19:14:42.638Z"
   },
   {
    "duration": 48,
    "start_time": "2022-09-21T19:14:42.657Z"
   },
   {
    "duration": 34,
    "start_time": "2022-09-21T19:14:42.706Z"
   },
   {
    "duration": 6,
    "start_time": "2022-09-21T19:14:42.742Z"
   },
   {
    "duration": 29,
    "start_time": "2022-09-21T19:14:42.750Z"
   },
   {
    "duration": 1312,
    "start_time": "2022-09-22T09:48:47.396Z"
   },
   {
    "duration": 3,
    "start_time": "2022-09-22T09:48:48.721Z"
   },
   {
    "duration": 146,
    "start_time": "2022-09-22T09:48:48.725Z"
   },
   {
    "duration": 16,
    "start_time": "2022-09-22T09:48:48.873Z"
   },
   {
    "duration": 13,
    "start_time": "2022-09-22T09:48:48.891Z"
   },
   {
    "duration": 15,
    "start_time": "2022-09-22T09:48:48.905Z"
   },
   {
    "duration": 6,
    "start_time": "2022-09-22T09:48:48.921Z"
   },
   {
    "duration": 23,
    "start_time": "2022-09-22T09:48:48.929Z"
   },
   {
    "duration": 8,
    "start_time": "2022-09-22T09:48:48.953Z"
   },
   {
    "duration": 7,
    "start_time": "2022-09-22T09:48:48.964Z"
   },
   {
    "duration": 3,
    "start_time": "2022-09-22T09:48:48.973Z"
   },
   {
    "duration": 9,
    "start_time": "2022-09-22T09:48:48.977Z"
   },
   {
    "duration": 6,
    "start_time": "2022-09-22T09:48:48.987Z"
   },
   {
    "duration": 22,
    "start_time": "2022-09-22T09:48:49.015Z"
   },
   {
    "duration": 13,
    "start_time": "2022-09-22T09:48:49.039Z"
   },
   {
    "duration": 10,
    "start_time": "2022-09-22T09:48:49.053Z"
   },
   {
    "duration": 7,
    "start_time": "2022-09-22T09:48:49.064Z"
   },
   {
    "duration": 5,
    "start_time": "2022-09-22T09:48:49.072Z"
   },
   {
    "duration": 45,
    "start_time": "2022-09-22T09:48:49.079Z"
   },
   {
    "duration": 10,
    "start_time": "2022-09-22T09:48:49.125Z"
   },
   {
    "duration": 9,
    "start_time": "2022-09-22T09:48:49.137Z"
   },
   {
    "duration": 8,
    "start_time": "2022-09-22T09:48:49.147Z"
   },
   {
    "duration": 18,
    "start_time": "2022-09-22T09:48:49.156Z"
   },
   {
    "duration": 44,
    "start_time": "2022-09-22T09:48:49.176Z"
   },
   {
    "duration": 10,
    "start_time": "2022-09-22T09:48:49.222Z"
   },
   {
    "duration": 17,
    "start_time": "2022-09-22T09:48:49.233Z"
   },
   {
    "duration": 11,
    "start_time": "2022-09-22T09:48:49.252Z"
   },
   {
    "duration": 20,
    "start_time": "2022-09-22T09:48:49.267Z"
   },
   {
    "duration": 41,
    "start_time": "2022-09-22T09:48:49.288Z"
   },
   {
    "duration": 16,
    "start_time": "2022-09-22T09:48:49.330Z"
   },
   {
    "duration": 4,
    "start_time": "2022-09-22T09:48:49.347Z"
   },
   {
    "duration": 18,
    "start_time": "2022-09-22T09:48:49.352Z"
   },
   {
    "duration": 52,
    "start_time": "2022-09-22T09:48:49.372Z"
   },
   {
    "duration": 21,
    "start_time": "2022-09-22T09:48:49.425Z"
   },
   {
    "duration": 14,
    "start_time": "2022-09-22T09:48:49.447Z"
   },
   {
    "duration": 6,
    "start_time": "2022-09-22T09:48:49.463Z"
   },
   {
    "duration": 282,
    "start_time": "2022-09-22T09:48:49.470Z"
   },
   {
    "duration": 16,
    "start_time": "2022-09-22T09:48:49.754Z"
   },
   {
    "duration": 17,
    "start_time": "2022-09-22T09:48:49.771Z"
   },
   {
    "duration": 51,
    "start_time": "2022-09-22T09:48:49.790Z"
   },
   {
    "duration": 191,
    "start_time": "2022-09-22T09:48:49.842Z"
   },
   {
    "duration": 10,
    "start_time": "2022-09-22T09:48:50.034Z"
   },
   {
    "duration": 5,
    "start_time": "2022-09-22T09:48:50.046Z"
   },
   {
    "duration": 23,
    "start_time": "2022-09-22T09:48:50.052Z"
   },
   {
    "duration": 46,
    "start_time": "2022-09-22T09:48:50.077Z"
   },
   {
    "duration": 21,
    "start_time": "2022-09-22T09:48:50.125Z"
   },
   {
    "duration": 16,
    "start_time": "2022-09-22T09:48:50.148Z"
   },
   {
    "duration": 9,
    "start_time": "2022-09-22T09:48:50.166Z"
   },
   {
    "duration": 47,
    "start_time": "2022-09-22T09:48:50.176Z"
   },
   {
    "duration": 31,
    "start_time": "2022-09-22T09:48:50.225Z"
   },
   {
    "duration": 11,
    "start_time": "2022-09-22T09:48:50.257Z"
   },
   {
    "duration": 4,
    "start_time": "2022-09-22T09:48:50.269Z"
   },
   {
    "duration": 12,
    "start_time": "2022-09-22T09:48:50.275Z"
   },
   {
    "duration": 52,
    "start_time": "2022-09-22T09:48:50.288Z"
   },
   {
    "duration": 201,
    "start_time": "2022-09-22T09:48:50.341Z"
   },
   {
    "duration": 5,
    "start_time": "2022-09-22T09:48:50.543Z"
   },
   {
    "duration": 32,
    "start_time": "2022-09-22T09:48:50.549Z"
   },
   {
    "duration": 10,
    "start_time": "2022-09-22T09:48:50.582Z"
   },
   {
    "duration": 19,
    "start_time": "2022-09-22T09:48:50.594Z"
   },
   {
    "duration": 11,
    "start_time": "2022-09-22T09:48:50.614Z"
   },
   {
    "duration": 27,
    "start_time": "2022-09-22T09:48:50.626Z"
   },
   {
    "duration": 210,
    "start_time": "2022-09-22T09:48:50.655Z"
   },
   {
    "duration": 9,
    "start_time": "2022-09-22T09:48:50.867Z"
   },
   {
    "duration": 23,
    "start_time": "2022-09-22T09:48:50.877Z"
   },
   {
    "duration": 6,
    "start_time": "2022-09-22T09:48:50.915Z"
   },
   {
    "duration": 37,
    "start_time": "2022-09-22T09:48:50.924Z"
   },
   {
    "duration": 5,
    "start_time": "2022-09-22T09:48:50.963Z"
   },
   {
    "duration": 8,
    "start_time": "2022-09-22T09:48:50.969Z"
   },
   {
    "duration": 14,
    "start_time": "2022-09-22T09:48:50.978Z"
   },
   {
    "duration": 32,
    "start_time": "2022-09-22T09:48:50.993Z"
   },
   {
    "duration": 28,
    "start_time": "2022-09-22T09:48:51.027Z"
   },
   {
    "duration": 7,
    "start_time": "2022-09-22T09:48:51.057Z"
   },
   {
    "duration": 13,
    "start_time": "2022-09-22T09:48:51.065Z"
   },
   {
    "duration": 17,
    "start_time": "2022-09-22T09:48:51.080Z"
   },
   {
    "duration": 21,
    "start_time": "2022-09-22T09:48:51.099Z"
   },
   {
    "duration": 12,
    "start_time": "2022-09-22T09:48:51.122Z"
   },
   {
    "duration": 24,
    "start_time": "2022-09-22T09:48:51.136Z"
   },
   {
    "duration": 24,
    "start_time": "2022-09-22T09:48:51.162Z"
   },
   {
    "duration": 5,
    "start_time": "2022-09-22T09:48:51.187Z"
   },
   {
    "duration": 6,
    "start_time": "2022-09-22T09:48:51.219Z"
   },
   {
    "duration": 23,
    "start_time": "2022-09-22T09:49:20.070Z"
   },
   {
    "duration": 22,
    "start_time": "2022-09-22T09:49:33.746Z"
   },
   {
    "duration": 3,
    "start_time": "2022-09-22T09:49:48.458Z"
   },
   {
    "duration": 6,
    "start_time": "2022-09-22T09:49:48.463Z"
   },
   {
    "duration": 84,
    "start_time": "2022-09-22T09:49:48.470Z"
   },
   {
    "duration": 17,
    "start_time": "2022-09-22T09:49:48.556Z"
   },
   {
    "duration": 10,
    "start_time": "2022-09-22T09:49:48.575Z"
   },
   {
    "duration": 29,
    "start_time": "2022-09-22T09:49:48.586Z"
   },
   {
    "duration": 9,
    "start_time": "2022-09-22T09:49:48.616Z"
   },
   {
    "duration": 17,
    "start_time": "2022-09-22T09:49:48.626Z"
   },
   {
    "duration": 8,
    "start_time": "2022-09-22T09:49:48.645Z"
   },
   {
    "duration": 10,
    "start_time": "2022-09-22T09:49:48.656Z"
   },
   {
    "duration": 3,
    "start_time": "2022-09-22T09:49:48.667Z"
   },
   {
    "duration": 4,
    "start_time": "2022-09-22T09:49:48.672Z"
   },
   {
    "duration": 41,
    "start_time": "2022-09-22T09:49:48.678Z"
   },
   {
    "duration": 17,
    "start_time": "2022-09-22T09:49:48.721Z"
   },
   {
    "duration": 6,
    "start_time": "2022-09-22T09:49:48.740Z"
   },
   {
    "duration": 13,
    "start_time": "2022-09-22T09:49:48.747Z"
   },
   {
    "duration": 6,
    "start_time": "2022-09-22T09:49:48.762Z"
   },
   {
    "duration": 8,
    "start_time": "2022-09-22T09:49:48.770Z"
   },
   {
    "duration": 54,
    "start_time": "2022-09-22T09:49:48.780Z"
   },
   {
    "duration": 10,
    "start_time": "2022-09-22T09:49:48.836Z"
   },
   {
    "duration": 15,
    "start_time": "2022-09-22T09:49:48.847Z"
   },
   {
    "duration": 11,
    "start_time": "2022-09-22T09:49:48.863Z"
   },
   {
    "duration": 44,
    "start_time": "2022-09-22T09:49:48.875Z"
   },
   {
    "duration": 11,
    "start_time": "2022-09-22T09:49:48.921Z"
   },
   {
    "duration": 11,
    "start_time": "2022-09-22T09:49:48.936Z"
   },
   {
    "duration": 15,
    "start_time": "2022-09-22T09:49:48.949Z"
   },
   {
    "duration": 11,
    "start_time": "2022-09-22T09:49:48.966Z"
   },
   {
    "duration": 44,
    "start_time": "2022-09-22T09:49:48.979Z"
   },
   {
    "duration": 11,
    "start_time": "2022-09-22T09:49:49.025Z"
   },
   {
    "duration": 15,
    "start_time": "2022-09-22T09:49:49.038Z"
   },
   {
    "duration": 4,
    "start_time": "2022-09-22T09:49:49.054Z"
   },
   {
    "duration": 18,
    "start_time": "2022-09-22T09:49:49.059Z"
   },
   {
    "duration": 59,
    "start_time": "2022-09-22T09:49:49.079Z"
   },
   {
    "duration": 24,
    "start_time": "2022-09-22T09:49:49.140Z"
   },
   {
    "duration": 20,
    "start_time": "2022-09-22T09:49:49.166Z"
   },
   {
    "duration": 28,
    "start_time": "2022-09-22T09:49:49.187Z"
   },
   {
    "duration": 228,
    "start_time": "2022-09-22T09:49:49.216Z"
   },
   {
    "duration": 16,
    "start_time": "2022-09-22T09:49:49.445Z"
   },
   {
    "duration": 19,
    "start_time": "2022-09-22T09:49:49.463Z"
   },
   {
    "duration": 40,
    "start_time": "2022-09-22T09:49:49.483Z"
   },
   {
    "duration": 240,
    "start_time": "2022-09-22T09:49:49.525Z"
   },
   {
    "duration": 11,
    "start_time": "2022-09-22T09:49:49.766Z"
   },
   {
    "duration": 6,
    "start_time": "2022-09-22T09:49:49.778Z"
   },
   {
    "duration": 62,
    "start_time": "2022-09-22T09:49:49.785Z"
   },
   {
    "duration": 15,
    "start_time": "2022-09-22T09:49:49.849Z"
   },
   {
    "duration": 20,
    "start_time": "2022-09-22T09:49:49.866Z"
   },
   {
    "duration": 33,
    "start_time": "2022-09-22T09:49:49.887Z"
   },
   {
    "duration": 10,
    "start_time": "2022-09-22T09:49:49.922Z"
   },
   {
    "duration": 29,
    "start_time": "2022-09-22T09:49:49.934Z"
   },
   {
    "duration": 56,
    "start_time": "2022-09-22T09:49:49.964Z"
   },
   {
    "duration": 11,
    "start_time": "2022-09-22T09:49:50.023Z"
   },
   {
    "duration": 5,
    "start_time": "2022-09-22T09:49:50.036Z"
   },
   {
    "duration": 11,
    "start_time": "2022-09-22T09:49:50.042Z"
   },
   {
    "duration": 27,
    "start_time": "2022-09-22T09:49:50.055Z"
   },
   {
    "duration": 238,
    "start_time": "2022-09-22T09:49:50.084Z"
   },
   {
    "duration": 6,
    "start_time": "2022-09-22T09:49:50.324Z"
   },
   {
    "duration": 28,
    "start_time": "2022-09-22T09:49:50.332Z"
   },
   {
    "duration": 11,
    "start_time": "2022-09-22T09:49:50.362Z"
   },
   {
    "duration": 7,
    "start_time": "2022-09-22T09:49:50.374Z"
   },
   {
    "duration": 38,
    "start_time": "2022-09-22T09:49:50.382Z"
   },
   {
    "duration": 30,
    "start_time": "2022-09-22T09:49:50.422Z"
   },
   {
    "duration": 206,
    "start_time": "2022-09-22T09:49:50.453Z"
   },
   {
    "duration": 8,
    "start_time": "2022-09-22T09:49:50.661Z"
   },
   {
    "duration": 21,
    "start_time": "2022-09-22T09:49:50.670Z"
   },
   {
    "duration": 3,
    "start_time": "2022-09-22T09:49:50.693Z"
   },
   {
    "duration": 46,
    "start_time": "2022-09-22T09:49:50.698Z"
   },
   {
    "duration": 29,
    "start_time": "2022-09-22T09:50:08.768Z"
   },
   {
    "duration": 172,
    "start_time": "2022-09-22T10:29:43.760Z"
   },
   {
    "duration": 181,
    "start_time": "2022-09-22T10:29:53.493Z"
   },
   {
    "duration": 178,
    "start_time": "2022-09-22T10:30:07.996Z"
   },
   {
    "duration": 20,
    "start_time": "2022-09-22T10:57:28.019Z"
   },
   {
    "duration": 26,
    "start_time": "2022-09-22T10:57:29.109Z"
   },
   {
    "duration": 129,
    "start_time": "2022-09-22T11:03:21.549Z"
   },
   {
    "duration": 116,
    "start_time": "2022-09-22T11:04:28.987Z"
   },
   {
    "duration": 118,
    "start_time": "2022-09-22T11:05:31.039Z"
   },
   {
    "duration": 13,
    "start_time": "2022-09-22T11:07:40.254Z"
   },
   {
    "duration": 120,
    "start_time": "2022-09-22T11:07:45.578Z"
   },
   {
    "duration": 109,
    "start_time": "2022-09-22T11:08:19.952Z"
   }
  ],
  "kernelspec": {
   "display_name": "Python 3 (ipykernel)",
   "language": "python",
   "name": "python3"
  },
  "language_info": {
   "codemirror_mode": {
    "name": "ipython",
    "version": 3
   },
   "file_extension": ".py",
   "mimetype": "text/x-python",
   "name": "python",
   "nbconvert_exporter": "python",
   "pygments_lexer": "ipython3",
   "version": "3.9.7"
  },
  "toc": {
   "base_numbering": 1,
   "nav_menu": {},
   "number_sections": true,
   "sideBar": true,
   "skip_h1_title": true,
   "title_cell": "Оглавление",
   "title_sidebar": "Определение неэффективных операторов",
   "toc_cell": false,
   "toc_position": {
    "height": "543.2px",
    "left": "50px",
    "top": "111.125px",
    "width": "203px"
   },
   "toc_section_display": true,
   "toc_window_display": true
  }
 },
 "nbformat": 4,
 "nbformat_minor": 2
}
