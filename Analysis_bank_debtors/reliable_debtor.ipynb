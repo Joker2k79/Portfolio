{
 "cells": [
  {
   "cell_type": "markdown",
   "id": "d37c2b44",
   "metadata": {},
   "source": [
    "# Исследование надежности заемщиков."
   ]
  },
  {
   "cell_type": "markdown",
   "id": "a73c15ac",
   "metadata": {},
   "source": [
    "### Шаг 1. Обзор данных"
   ]
  },
  {
   "cell_type": "code",
   "execution_count": 1,
   "id": "bb55f5ad",
   "metadata": {},
   "outputs": [
    {
     "name": "stdout",
     "output_type": "stream",
     "text": [
      "<class 'pandas.core.frame.DataFrame'>\n",
      "RangeIndex: 21525 entries, 0 to 21524\n",
      "Data columns (total 12 columns):\n",
      " #   Column            Non-Null Count  Dtype  \n",
      "---  ------            --------------  -----  \n",
      " 0   children          21525 non-null  int64  \n",
      " 1   days_employed     19351 non-null  float64\n",
      " 2   dob_years         21525 non-null  int64  \n",
      " 3   education         21525 non-null  object \n",
      " 4   education_id      21525 non-null  int64  \n",
      " 5   family_status     21525 non-null  object \n",
      " 6   family_status_id  21525 non-null  int64  \n",
      " 7   gender            21525 non-null  object \n",
      " 8   income_type       21525 non-null  object \n",
      " 9   debt              21525 non-null  int64  \n",
      " 10  total_income      19351 non-null  float64\n",
      " 11  purpose           21525 non-null  object \n",
      "dtypes: float64(2), int64(5), object(5)\n",
      "memory usage: 2.0+ MB\n"
     ]
    },
    {
     "data": {
      "text/plain": [
       "children               0\n",
       "days_employed       2174\n",
       "dob_years              0\n",
       "education              0\n",
       "education_id           0\n",
       "family_status          0\n",
       "family_status_id       0\n",
       "gender                 0\n",
       "income_type            0\n",
       "debt                   0\n",
       "total_income        2174\n",
       "purpose                0\n",
       "dtype: int64"
      ]
     },
     "execution_count": 1,
     "metadata": {},
     "output_type": "execute_result"
    }
   ],
   "source": [
    "#грузим dataset и смотрим на общие вид данных\n",
    "import pandas as pd\n",
    "df = pd.read_csv('/datasets/data.csv')\n",
    "df.info()\n",
    "#смотрим где и какое колличество пропусков\n",
    "df.isna().sum()"
   ]
  },
  {
   "cell_type": "code",
   "execution_count": 2,
   "id": "654f1da8",
   "metadata": {},
   "outputs": [
    {
     "name": "stdout",
     "output_type": "stream",
     "text": [
      "Доля пропущенных значений = 10.10%\n"
     ]
    }
   ],
   "source": [
    "#доля пропущенных значений\n",
    "print(f\"Доля пропущенных значений = {df['total_income'].isnull().sum()/len(df):.2%}\")"
   ]
  },
  {
   "cell_type": "code",
   "execution_count": 3,
   "id": "26193cc3",
   "metadata": {},
   "outputs": [
    {
     "data": {
      "text/html": [
       "<div>\n",
       "<style scoped>\n",
       "    .dataframe tbody tr th:only-of-type {\n",
       "        vertical-align: middle;\n",
       "    }\n",
       "\n",
       "    .dataframe tbody tr th {\n",
       "        vertical-align: top;\n",
       "    }\n",
       "\n",
       "    .dataframe thead th {\n",
       "        text-align: right;\n",
       "    }\n",
       "</style>\n",
       "<table border=\"1\" class=\"dataframe\">\n",
       "  <thead>\n",
       "    <tr style=\"text-align: right;\">\n",
       "      <th></th>\n",
       "      <th>children</th>\n",
       "      <th>days_employed</th>\n",
       "      <th>dob_years</th>\n",
       "      <th>education</th>\n",
       "      <th>education_id</th>\n",
       "      <th>family_status</th>\n",
       "      <th>family_status_id</th>\n",
       "      <th>gender</th>\n",
       "      <th>income_type</th>\n",
       "      <th>debt</th>\n",
       "      <th>total_income</th>\n",
       "      <th>purpose</th>\n",
       "    </tr>\n",
       "  </thead>\n",
       "  <tbody>\n",
       "    <tr>\n",
       "      <th>12</th>\n",
       "      <td>0</td>\n",
       "      <td>NaN</td>\n",
       "      <td>65</td>\n",
       "      <td>среднее</td>\n",
       "      <td>1</td>\n",
       "      <td>гражданский брак</td>\n",
       "      <td>1</td>\n",
       "      <td>M</td>\n",
       "      <td>пенсионер</td>\n",
       "      <td>0</td>\n",
       "      <td>NaN</td>\n",
       "      <td>сыграть свадьбу</td>\n",
       "    </tr>\n",
       "    <tr>\n",
       "      <th>26</th>\n",
       "      <td>0</td>\n",
       "      <td>NaN</td>\n",
       "      <td>41</td>\n",
       "      <td>среднее</td>\n",
       "      <td>1</td>\n",
       "      <td>женат / замужем</td>\n",
       "      <td>0</td>\n",
       "      <td>M</td>\n",
       "      <td>госслужащий</td>\n",
       "      <td>0</td>\n",
       "      <td>NaN</td>\n",
       "      <td>образование</td>\n",
       "    </tr>\n",
       "    <tr>\n",
       "      <th>29</th>\n",
       "      <td>0</td>\n",
       "      <td>NaN</td>\n",
       "      <td>63</td>\n",
       "      <td>среднее</td>\n",
       "      <td>1</td>\n",
       "      <td>Не женат / не замужем</td>\n",
       "      <td>4</td>\n",
       "      <td>F</td>\n",
       "      <td>пенсионер</td>\n",
       "      <td>0</td>\n",
       "      <td>NaN</td>\n",
       "      <td>строительство жилой недвижимости</td>\n",
       "    </tr>\n",
       "    <tr>\n",
       "      <th>41</th>\n",
       "      <td>0</td>\n",
       "      <td>NaN</td>\n",
       "      <td>50</td>\n",
       "      <td>среднее</td>\n",
       "      <td>1</td>\n",
       "      <td>женат / замужем</td>\n",
       "      <td>0</td>\n",
       "      <td>F</td>\n",
       "      <td>госслужащий</td>\n",
       "      <td>0</td>\n",
       "      <td>NaN</td>\n",
       "      <td>сделка с подержанным автомобилем</td>\n",
       "    </tr>\n",
       "    <tr>\n",
       "      <th>55</th>\n",
       "      <td>0</td>\n",
       "      <td>NaN</td>\n",
       "      <td>54</td>\n",
       "      <td>среднее</td>\n",
       "      <td>1</td>\n",
       "      <td>гражданский брак</td>\n",
       "      <td>1</td>\n",
       "      <td>F</td>\n",
       "      <td>пенсионер</td>\n",
       "      <td>1</td>\n",
       "      <td>NaN</td>\n",
       "      <td>сыграть свадьбу</td>\n",
       "    </tr>\n",
       "  </tbody>\n",
       "</table>\n",
       "</div>"
      ],
      "text/plain": [
       "    children  days_employed  dob_years education  education_id  \\\n",
       "12         0            NaN         65   среднее             1   \n",
       "26         0            NaN         41   среднее             1   \n",
       "29         0            NaN         63   среднее             1   \n",
       "41         0            NaN         50   среднее             1   \n",
       "55         0            NaN         54   среднее             1   \n",
       "\n",
       "            family_status  family_status_id gender  income_type  debt  \\\n",
       "12       гражданский брак                 1      M    пенсионер     0   \n",
       "26        женат / замужем                 0      M  госслужащий     0   \n",
       "29  Не женат / не замужем                 4      F    пенсионер     0   \n",
       "41        женат / замужем                 0      F  госслужащий     0   \n",
       "55       гражданский брак                 1      F    пенсионер     1   \n",
       "\n",
       "    total_income                           purpose  \n",
       "12           NaN                   сыграть свадьбу  \n",
       "26           NaN                       образование  \n",
       "29           NaN  строительство жилой недвижимости  \n",
       "41           NaN  сделка с подержанным автомобилем  \n",
       "55           NaN                   сыграть свадьбу  "
      ]
     },
     "execution_count": 3,
     "metadata": {},
     "output_type": "execute_result"
    }
   ],
   "source": [
    "#посмотрим что за пустые значения\n",
    "df[df['days_employed'].isna()].head()"
   ]
  },
  {
   "cell_type": "markdown",
   "id": "ca58a283",
   "metadata": {},
   "source": [
    "В двух столбцах 'days_employed' и 'total_income' 10.1% данных пустые значения - NaN, скорее всего у этих людей нет официально подтвержденного дохода и соответсвенно стажа. Заполним пропуски медианным значением - экстремальные выбросы в выборке не искажают медиану в отличие от среднего, поэтому медиана является лучшим показателем тенденции, чем среднее значение."
   ]
  },
  {
   "cell_type": "markdown",
   "id": "a3b688bf",
   "metadata": {},
   "source": [
    "### Шаг 2.1 Заполнение пропусков"
   ]
  },
  {
   "cell_type": "markdown",
   "id": "21edc33c",
   "metadata": {},
   "source": [
    "#### Столбец 'total_income'"
   ]
  },
  {
   "cell_type": "markdown",
   "id": "467aad33",
   "metadata": {},
   "source": [
    "Найдем медианное значение столбца 'total_income' и заполним им пропуски:"
   ]
  },
  {
   "cell_type": "code",
   "execution_count": 4,
   "id": "5c31f411",
   "metadata": {},
   "outputs": [
    {
     "data": {
      "text/plain": [
       "0"
      ]
     },
     "execution_count": 4,
     "metadata": {},
     "output_type": "execute_result"
    }
   ],
   "source": [
    "total_income_median = df['total_income'].median()\n",
    "df['total_income'] = df['total_income'].fillna(total_income_median)\n",
    "#проверка\n",
    "df['total_income'].isna().sum()"
   ]
  },
  {
   "cell_type": "markdown",
   "id": "f7db7669",
   "metadata": {},
   "source": [
    "### Шаг 2.2 Проверка данных на аномалии и исправления."
   ]
  },
  {
   "cell_type": "markdown",
   "id": "3af854f8",
   "metadata": {},
   "source": [
    "#### Столбец 'days_employed', проверим его на аномалии и обработаем их при необходимости"
   ]
  },
  {
   "cell_type": "code",
   "execution_count": 5,
   "id": "f86567e5",
   "metadata": {},
   "outputs": [
    {
     "data": {
      "text/plain": [
       "count     19351.000000\n",
       "mean      63046.497661\n",
       "std      140827.311974\n",
       "min      -18388.949901\n",
       "25%       -2747.423625\n",
       "50%       -1203.369529\n",
       "75%        -291.095954\n",
       "max      401755.400475\n",
       "Name: days_employed, dtype: float64"
      ]
     },
     "execution_count": 5,
     "metadata": {},
     "output_type": "execute_result"
    }
   ],
   "source": [
    "df['days_employed'].describe()"
   ]
  },
  {
   "cell_type": "markdown",
   "id": "8ee20a06",
   "metadata": {},
   "source": [
    "Стаж отрицательным быть не может, заменим отрицательные значения на положительные:"
   ]
  },
  {
   "cell_type": "code",
   "execution_count": 6,
   "id": "abcae0a8",
   "metadata": {},
   "outputs": [
    {
     "data": {
      "text/plain": [
       "count     21525.000000\n",
       "mean      60378.032733\n",
       "std      133257.558514\n",
       "min          24.141633\n",
       "25%        1025.608174\n",
       "50%        2194.220567\n",
       "75%        4779.587738\n",
       "max      401755.400475\n",
       "Name: days_employed, dtype: float64"
      ]
     },
     "execution_count": 6,
     "metadata": {},
     "output_type": "execute_result"
    }
   ],
   "source": [
    "#функция для замены отрицательных значений на положительные\n",
    "def plus_minus(number):\n",
    "    if number < 0:\n",
    "        number *= -1\n",
    "        return number\n",
    "    else:\n",
    "        return number\n",
    "#применим функцию к столбцу days_employed\n",
    "df['days_employed'] = df['days_employed'].apply(plus_minus)\n",
    "#найдем медиану столбца days_employed и заполним ей пропуски\n",
    "days_employed_median = df['days_employed'].median()\n",
    "df['days_employed'] = df['days_employed'].fillna(days_employed_median)\n",
    "df['days_employed'].describe()"
   ]
  },
  {
   "cell_type": "markdown",
   "id": "3176e043",
   "metadata": {},
   "source": [
    "Скорее всего в минус превратилось использованное при вводе вручную \"тире\". В данных также есть очень большие значения не соответсвующие реально возможному стажу, но поскольку стаж, как критерий, не фигурирует в вопросах поставленных в задаче, то на данном этапе целесообразно оставить данные как есть"
   ]
  },
  {
   "cell_type": "markdown",
   "id": "0ed5de0b",
   "metadata": {},
   "source": [
    "#### Столбец 'children'"
   ]
  },
  {
   "cell_type": "code",
   "execution_count": 7,
   "id": "f0e46ec3",
   "metadata": {
    "scrolled": true
   },
   "outputs": [
    {
     "data": {
      "text/plain": [
       " 0     14149\n",
       " 1      4818\n",
       " 2      2055\n",
       " 3       330\n",
       " 20       76\n",
       "-1        47\n",
       " 4        41\n",
       " 5         9\n",
       "Name: children, dtype: int64"
      ]
     },
     "execution_count": 7,
     "metadata": {},
     "output_type": "execute_result"
    }
   ],
   "source": [
    "df['children'].value_counts()"
   ]
  },
  {
   "cell_type": "markdown",
   "id": "98df690b",
   "metadata": {},
   "source": [
    "Некорректные значения \"20\" и \"-1\"; их колличество незначительно, сделаем визуальный анализ:"
   ]
  },
  {
   "cell_type": "code",
   "execution_count": 8,
   "id": "6273f7c2",
   "metadata": {},
   "outputs": [
    {
     "data": {
      "text/html": [
       "<div>\n",
       "<style scoped>\n",
       "    .dataframe tbody tr th:only-of-type {\n",
       "        vertical-align: middle;\n",
       "    }\n",
       "\n",
       "    .dataframe tbody tr th {\n",
       "        vertical-align: top;\n",
       "    }\n",
       "\n",
       "    .dataframe thead th {\n",
       "        text-align: right;\n",
       "    }\n",
       "</style>\n",
       "<table border=\"1\" class=\"dataframe\">\n",
       "  <thead>\n",
       "    <tr style=\"text-align: right;\">\n",
       "      <th></th>\n",
       "      <th>children</th>\n",
       "      <th>days_employed</th>\n",
       "      <th>dob_years</th>\n",
       "      <th>education</th>\n",
       "      <th>education_id</th>\n",
       "      <th>family_status</th>\n",
       "      <th>family_status_id</th>\n",
       "      <th>gender</th>\n",
       "      <th>income_type</th>\n",
       "      <th>debt</th>\n",
       "      <th>total_income</th>\n",
       "      <th>purpose</th>\n",
       "    </tr>\n",
       "  </thead>\n",
       "  <tbody>\n",
       "    <tr>\n",
       "      <th>606</th>\n",
       "      <td>20</td>\n",
       "      <td>880.221113</td>\n",
       "      <td>21</td>\n",
       "      <td>среднее</td>\n",
       "      <td>1</td>\n",
       "      <td>женат / замужем</td>\n",
       "      <td>0</td>\n",
       "      <td>M</td>\n",
       "      <td>компаньон</td>\n",
       "      <td>0</td>\n",
       "      <td>145334.865002</td>\n",
       "      <td>покупка жилья</td>\n",
       "    </tr>\n",
       "    <tr>\n",
       "      <th>720</th>\n",
       "      <td>20</td>\n",
       "      <td>855.595512</td>\n",
       "      <td>44</td>\n",
       "      <td>среднее</td>\n",
       "      <td>1</td>\n",
       "      <td>женат / замужем</td>\n",
       "      <td>0</td>\n",
       "      <td>F</td>\n",
       "      <td>компаньон</td>\n",
       "      <td>0</td>\n",
       "      <td>112998.738649</td>\n",
       "      <td>покупка недвижимости</td>\n",
       "    </tr>\n",
       "    <tr>\n",
       "      <th>1074</th>\n",
       "      <td>20</td>\n",
       "      <td>3310.411598</td>\n",
       "      <td>56</td>\n",
       "      <td>среднее</td>\n",
       "      <td>1</td>\n",
       "      <td>женат / замужем</td>\n",
       "      <td>0</td>\n",
       "      <td>F</td>\n",
       "      <td>сотрудник</td>\n",
       "      <td>1</td>\n",
       "      <td>229518.537004</td>\n",
       "      <td>получение образования</td>\n",
       "    </tr>\n",
       "    <tr>\n",
       "      <th>2510</th>\n",
       "      <td>20</td>\n",
       "      <td>2714.161249</td>\n",
       "      <td>59</td>\n",
       "      <td>высшее</td>\n",
       "      <td>0</td>\n",
       "      <td>вдовец / вдова</td>\n",
       "      <td>2</td>\n",
       "      <td>F</td>\n",
       "      <td>сотрудник</td>\n",
       "      <td>0</td>\n",
       "      <td>264474.835577</td>\n",
       "      <td>операции с коммерческой недвижимостью</td>\n",
       "    </tr>\n",
       "    <tr>\n",
       "      <th>2941</th>\n",
       "      <td>20</td>\n",
       "      <td>2161.591519</td>\n",
       "      <td>0</td>\n",
       "      <td>среднее</td>\n",
       "      <td>1</td>\n",
       "      <td>женат / замужем</td>\n",
       "      <td>0</td>\n",
       "      <td>F</td>\n",
       "      <td>сотрудник</td>\n",
       "      <td>0</td>\n",
       "      <td>199739.941398</td>\n",
       "      <td>на покупку автомобиля</td>\n",
       "    </tr>\n",
       "    <tr>\n",
       "      <th>3302</th>\n",
       "      <td>20</td>\n",
       "      <td>2194.220567</td>\n",
       "      <td>35</td>\n",
       "      <td>среднее</td>\n",
       "      <td>1</td>\n",
       "      <td>Не женат / не замужем</td>\n",
       "      <td>4</td>\n",
       "      <td>F</td>\n",
       "      <td>госслужащий</td>\n",
       "      <td>0</td>\n",
       "      <td>145017.937533</td>\n",
       "      <td>профильное образование</td>\n",
       "    </tr>\n",
       "    <tr>\n",
       "      <th>3396</th>\n",
       "      <td>20</td>\n",
       "      <td>2194.220567</td>\n",
       "      <td>56</td>\n",
       "      <td>высшее</td>\n",
       "      <td>0</td>\n",
       "      <td>женат / замужем</td>\n",
       "      <td>0</td>\n",
       "      <td>F</td>\n",
       "      <td>компаньон</td>\n",
       "      <td>0</td>\n",
       "      <td>145017.937533</td>\n",
       "      <td>высшее образование</td>\n",
       "    </tr>\n",
       "    <tr>\n",
       "      <th>3671</th>\n",
       "      <td>20</td>\n",
       "      <td>913.161503</td>\n",
       "      <td>23</td>\n",
       "      <td>среднее</td>\n",
       "      <td>1</td>\n",
       "      <td>Не женат / не замужем</td>\n",
       "      <td>4</td>\n",
       "      <td>F</td>\n",
       "      <td>сотрудник</td>\n",
       "      <td>0</td>\n",
       "      <td>101255.492076</td>\n",
       "      <td>на покупку подержанного автомобиля</td>\n",
       "    </tr>\n",
       "    <tr>\n",
       "      <th>3697</th>\n",
       "      <td>20</td>\n",
       "      <td>2907.910616</td>\n",
       "      <td>40</td>\n",
       "      <td>среднее</td>\n",
       "      <td>1</td>\n",
       "      <td>гражданский брак</td>\n",
       "      <td>1</td>\n",
       "      <td>M</td>\n",
       "      <td>сотрудник</td>\n",
       "      <td>0</td>\n",
       "      <td>115380.694664</td>\n",
       "      <td>на покупку подержанного автомобиля</td>\n",
       "    </tr>\n",
       "    <tr>\n",
       "      <th>3735</th>\n",
       "      <td>20</td>\n",
       "      <td>805.044438</td>\n",
       "      <td>26</td>\n",
       "      <td>высшее</td>\n",
       "      <td>0</td>\n",
       "      <td>Не женат / не замужем</td>\n",
       "      <td>4</td>\n",
       "      <td>M</td>\n",
       "      <td>сотрудник</td>\n",
       "      <td>0</td>\n",
       "      <td>137200.646181</td>\n",
       "      <td>ремонт жилью</td>\n",
       "    </tr>\n",
       "  </tbody>\n",
       "</table>\n",
       "</div>"
      ],
      "text/plain": [
       "      children  days_employed  dob_years education  education_id  \\\n",
       "606         20     880.221113         21   среднее             1   \n",
       "720         20     855.595512         44   среднее             1   \n",
       "1074        20    3310.411598         56   среднее             1   \n",
       "2510        20    2714.161249         59    высшее             0   \n",
       "2941        20    2161.591519          0   среднее             1   \n",
       "3302        20    2194.220567         35   среднее             1   \n",
       "3396        20    2194.220567         56    высшее             0   \n",
       "3671        20     913.161503         23   среднее             1   \n",
       "3697        20    2907.910616         40   среднее             1   \n",
       "3735        20     805.044438         26    высшее             0   \n",
       "\n",
       "              family_status  family_status_id gender  income_type  debt  \\\n",
       "606         женат / замужем                 0      M    компаньон     0   \n",
       "720         женат / замужем                 0      F    компаньон     0   \n",
       "1074        женат / замужем                 0      F    сотрудник     1   \n",
       "2510         вдовец / вдова                 2      F    сотрудник     0   \n",
       "2941        женат / замужем                 0      F    сотрудник     0   \n",
       "3302  Не женат / не замужем                 4      F  госслужащий     0   \n",
       "3396        женат / замужем                 0      F    компаньон     0   \n",
       "3671  Не женат / не замужем                 4      F    сотрудник     0   \n",
       "3697       гражданский брак                 1      M    сотрудник     0   \n",
       "3735  Не женат / не замужем                 4      M    сотрудник     0   \n",
       "\n",
       "       total_income                                purpose  \n",
       "606   145334.865002                          покупка жилья  \n",
       "720   112998.738649                   покупка недвижимости  \n",
       "1074  229518.537004                  получение образования  \n",
       "2510  264474.835577  операции с коммерческой недвижимостью  \n",
       "2941  199739.941398                  на покупку автомобиля  \n",
       "3302  145017.937533                 профильное образование  \n",
       "3396  145017.937533                     высшее образование  \n",
       "3671  101255.492076     на покупку подержанного автомобиля  \n",
       "3697  115380.694664     на покупку подержанного автомобиля  \n",
       "3735  137200.646181                           ремонт жилью  "
      ]
     },
     "execution_count": 8,
     "metadata": {},
     "output_type": "execute_result"
    }
   ],
   "source": [
    "df[df['children'] == 20].head(10)"
   ]
  },
  {
   "cell_type": "code",
   "execution_count": 9,
   "id": "6fcfa43b",
   "metadata": {},
   "outputs": [
    {
     "data": {
      "text/html": [
       "<div>\n",
       "<style scoped>\n",
       "    .dataframe tbody tr th:only-of-type {\n",
       "        vertical-align: middle;\n",
       "    }\n",
       "\n",
       "    .dataframe tbody tr th {\n",
       "        vertical-align: top;\n",
       "    }\n",
       "\n",
       "    .dataframe thead th {\n",
       "        text-align: right;\n",
       "    }\n",
       "</style>\n",
       "<table border=\"1\" class=\"dataframe\">\n",
       "  <thead>\n",
       "    <tr style=\"text-align: right;\">\n",
       "      <th></th>\n",
       "      <th>children</th>\n",
       "      <th>days_employed</th>\n",
       "      <th>dob_years</th>\n",
       "      <th>education</th>\n",
       "      <th>education_id</th>\n",
       "      <th>family_status</th>\n",
       "      <th>family_status_id</th>\n",
       "      <th>gender</th>\n",
       "      <th>income_type</th>\n",
       "      <th>debt</th>\n",
       "      <th>total_income</th>\n",
       "      <th>purpose</th>\n",
       "    </tr>\n",
       "  </thead>\n",
       "  <tbody>\n",
       "    <tr>\n",
       "      <th>17095</th>\n",
       "      <td>-1</td>\n",
       "      <td>2809.693200</td>\n",
       "      <td>34</td>\n",
       "      <td>среднее</td>\n",
       "      <td>1</td>\n",
       "      <td>женат / замужем</td>\n",
       "      <td>0</td>\n",
       "      <td>F</td>\n",
       "      <td>сотрудник</td>\n",
       "      <td>0</td>\n",
       "      <td>182543.890127</td>\n",
       "      <td>на покупку подержанного автомобиля</td>\n",
       "    </tr>\n",
       "    <tr>\n",
       "      <th>17429</th>\n",
       "      <td>-1</td>\n",
       "      <td>895.379738</td>\n",
       "      <td>37</td>\n",
       "      <td>среднее</td>\n",
       "      <td>1</td>\n",
       "      <td>женат / замужем</td>\n",
       "      <td>0</td>\n",
       "      <td>F</td>\n",
       "      <td>компаньон</td>\n",
       "      <td>0</td>\n",
       "      <td>214814.018780</td>\n",
       "      <td>жилье</td>\n",
       "    </tr>\n",
       "    <tr>\n",
       "      <th>17657</th>\n",
       "      <td>-1</td>\n",
       "      <td>4571.957475</td>\n",
       "      <td>41</td>\n",
       "      <td>среднее</td>\n",
       "      <td>1</td>\n",
       "      <td>женат / замужем</td>\n",
       "      <td>0</td>\n",
       "      <td>F</td>\n",
       "      <td>сотрудник</td>\n",
       "      <td>0</td>\n",
       "      <td>122105.415823</td>\n",
       "      <td>операции со своей недвижимостью</td>\n",
       "    </tr>\n",
       "    <tr>\n",
       "      <th>18219</th>\n",
       "      <td>-1</td>\n",
       "      <td>3575.215641</td>\n",
       "      <td>33</td>\n",
       "      <td>среднее</td>\n",
       "      <td>1</td>\n",
       "      <td>женат / замужем</td>\n",
       "      <td>0</td>\n",
       "      <td>F</td>\n",
       "      <td>сотрудник</td>\n",
       "      <td>0</td>\n",
       "      <td>128362.023879</td>\n",
       "      <td>высшее образование</td>\n",
       "    </tr>\n",
       "    <tr>\n",
       "      <th>19100</th>\n",
       "      <td>-1</td>\n",
       "      <td>617.246968</td>\n",
       "      <td>38</td>\n",
       "      <td>среднее</td>\n",
       "      <td>1</td>\n",
       "      <td>Не женат / не замужем</td>\n",
       "      <td>4</td>\n",
       "      <td>M</td>\n",
       "      <td>сотрудник</td>\n",
       "      <td>0</td>\n",
       "      <td>122205.497527</td>\n",
       "      <td>строительство жилой недвижимости</td>\n",
       "    </tr>\n",
       "    <tr>\n",
       "      <th>19366</th>\n",
       "      <td>-1</td>\n",
       "      <td>372.034749</td>\n",
       "      <td>43</td>\n",
       "      <td>СРЕДНЕЕ</td>\n",
       "      <td>1</td>\n",
       "      <td>женат / замужем</td>\n",
       "      <td>0</td>\n",
       "      <td>M</td>\n",
       "      <td>сотрудник</td>\n",
       "      <td>0</td>\n",
       "      <td>155588.766795</td>\n",
       "      <td>сделка с подержанным автомобилем</td>\n",
       "    </tr>\n",
       "    <tr>\n",
       "      <th>19417</th>\n",
       "      <td>-1</td>\n",
       "      <td>350340.760224</td>\n",
       "      <td>28</td>\n",
       "      <td>среднее</td>\n",
       "      <td>1</td>\n",
       "      <td>в разводе</td>\n",
       "      <td>3</td>\n",
       "      <td>F</td>\n",
       "      <td>пенсионер</td>\n",
       "      <td>0</td>\n",
       "      <td>52872.993654</td>\n",
       "      <td>автомобили</td>\n",
       "    </tr>\n",
       "    <tr>\n",
       "      <th>20393</th>\n",
       "      <td>-1</td>\n",
       "      <td>355157.107212</td>\n",
       "      <td>69</td>\n",
       "      <td>среднее</td>\n",
       "      <td>1</td>\n",
       "      <td>Не женат / не замужем</td>\n",
       "      <td>4</td>\n",
       "      <td>F</td>\n",
       "      <td>пенсионер</td>\n",
       "      <td>0</td>\n",
       "      <td>116521.045858</td>\n",
       "      <td>операции с недвижимостью</td>\n",
       "    </tr>\n",
       "    <tr>\n",
       "      <th>20717</th>\n",
       "      <td>-1</td>\n",
       "      <td>661.822321</td>\n",
       "      <td>32</td>\n",
       "      <td>высшее</td>\n",
       "      <td>0</td>\n",
       "      <td>женат / замужем</td>\n",
       "      <td>0</td>\n",
       "      <td>F</td>\n",
       "      <td>сотрудник</td>\n",
       "      <td>0</td>\n",
       "      <td>137405.384917</td>\n",
       "      <td>покупка жилой недвижимости</td>\n",
       "    </tr>\n",
       "    <tr>\n",
       "      <th>21140</th>\n",
       "      <td>-1</td>\n",
       "      <td>1422.668059</td>\n",
       "      <td>44</td>\n",
       "      <td>среднее</td>\n",
       "      <td>1</td>\n",
       "      <td>женат / замужем</td>\n",
       "      <td>0</td>\n",
       "      <td>F</td>\n",
       "      <td>компаньон</td>\n",
       "      <td>0</td>\n",
       "      <td>169562.091999</td>\n",
       "      <td>операции со своей недвижимостью</td>\n",
       "    </tr>\n",
       "  </tbody>\n",
       "</table>\n",
       "</div>"
      ],
      "text/plain": [
       "       children  days_employed  dob_years education  education_id  \\\n",
       "17095        -1    2809.693200         34   среднее             1   \n",
       "17429        -1     895.379738         37   среднее             1   \n",
       "17657        -1    4571.957475         41   среднее             1   \n",
       "18219        -1    3575.215641         33   среднее             1   \n",
       "19100        -1     617.246968         38   среднее             1   \n",
       "19366        -1     372.034749         43   СРЕДНЕЕ             1   \n",
       "19417        -1  350340.760224         28   среднее             1   \n",
       "20393        -1  355157.107212         69   среднее             1   \n",
       "20717        -1     661.822321         32    высшее             0   \n",
       "21140        -1    1422.668059         44   среднее             1   \n",
       "\n",
       "               family_status  family_status_id gender income_type  debt  \\\n",
       "17095        женат / замужем                 0      F   сотрудник     0   \n",
       "17429        женат / замужем                 0      F   компаньон     0   \n",
       "17657        женат / замужем                 0      F   сотрудник     0   \n",
       "18219        женат / замужем                 0      F   сотрудник     0   \n",
       "19100  Не женат / не замужем                 4      M   сотрудник     0   \n",
       "19366        женат / замужем                 0      M   сотрудник     0   \n",
       "19417              в разводе                 3      F   пенсионер     0   \n",
       "20393  Не женат / не замужем                 4      F   пенсионер     0   \n",
       "20717        женат / замужем                 0      F   сотрудник     0   \n",
       "21140        женат / замужем                 0      F   компаньон     0   \n",
       "\n",
       "        total_income                             purpose  \n",
       "17095  182543.890127  на покупку подержанного автомобиля  \n",
       "17429  214814.018780                               жилье  \n",
       "17657  122105.415823     операции со своей недвижимостью  \n",
       "18219  128362.023879                  высшее образование  \n",
       "19100  122205.497527    строительство жилой недвижимости  \n",
       "19366  155588.766795    сделка с подержанным автомобилем  \n",
       "19417   52872.993654                          автомобили  \n",
       "20393  116521.045858            операции с недвижимостью  \n",
       "20717  137405.384917          покупка жилой недвижимости  \n",
       "21140  169562.091999     операции со своей недвижимостью  "
      ]
     },
     "execution_count": 9,
     "metadata": {},
     "output_type": "execute_result"
    }
   ],
   "source": [
    "df[df['children'] == -1].tail(10)"
   ]
  },
  {
   "cell_type": "markdown",
   "id": "4cc0651c",
   "metadata": {},
   "source": [
    "Очевидных закономерностей нет. Вполне вероятно, что \"-1\" - это \"тире\" и \"1\", а \"20\" - двойка и \"нечаянный\" ноль на NUMPAD-е, но поскольку суммарно строки со значениями \"20\" и \"-1\" занимают меньше 0,5% от общих данных, то гадать не будем и просто их отфильтруем:"
   ]
  },
  {
   "cell_type": "code",
   "execution_count": 10,
   "id": "a306e96f",
   "metadata": {},
   "outputs": [
    {
     "name": "stdout",
     "output_type": "stream",
     "text": [
      "<class 'pandas.core.frame.DataFrame'>\n",
      "Int64Index: 21402 entries, 0 to 21524\n",
      "Data columns (total 12 columns):\n",
      " #   Column            Non-Null Count  Dtype  \n",
      "---  ------            --------------  -----  \n",
      " 0   children          21402 non-null  int64  \n",
      " 1   days_employed     21402 non-null  float64\n",
      " 2   dob_years         21402 non-null  int64  \n",
      " 3   education         21402 non-null  object \n",
      " 4   education_id      21402 non-null  int64  \n",
      " 5   family_status     21402 non-null  object \n",
      " 6   family_status_id  21402 non-null  int64  \n",
      " 7   gender            21402 non-null  object \n",
      " 8   income_type       21402 non-null  object \n",
      " 9   debt              21402 non-null  int64  \n",
      " 10  total_income      21402 non-null  float64\n",
      " 11  purpose           21402 non-null  object \n",
      "dtypes: float64(2), int64(5), object(5)\n",
      "memory usage: 2.1+ MB\n"
     ]
    }
   ],
   "source": [
    "df = df[(df['children'] != 20) & (df['children'] != -1)]\n",
    "df.info()"
   ]
  },
  {
   "cell_type": "markdown",
   "id": "b6e4b4a1",
   "metadata": {},
   "source": [
    "#### Столбец 'dob_years'"
   ]
  },
  {
   "cell_type": "code",
   "execution_count": 11,
   "id": "f62c6730",
   "metadata": {},
   "outputs": [
    {
     "data": {
      "text/plain": [
       "0     100\n",
       "19     14\n",
       "20     51\n",
       "21    110\n",
       "22    183\n",
       "23    252\n",
       "24    263\n",
       "25    356\n",
       "26    406\n",
       "27    490\n",
       "28    501\n",
       "29    543\n",
       "30    536\n",
       "31    556\n",
       "32    506\n",
       "33    577\n",
       "34    597\n",
       "35    614\n",
       "36    553\n",
       "37    531\n",
       "38    595\n",
       "39    572\n",
       "40    603\n",
       "41    603\n",
       "42    592\n",
       "43    510\n",
       "44    543\n",
       "45    494\n",
       "46    469\n",
       "47    480\n",
       "48    536\n",
       "49    505\n",
       "50    509\n",
       "51    446\n",
       "52    483\n",
       "53    457\n",
       "54    476\n",
       "55    441\n",
       "56    482\n",
       "57    457\n",
       "58    461\n",
       "59    441\n",
       "60    376\n",
       "61    353\n",
       "62    351\n",
       "63    268\n",
       "64    263\n",
       "65    194\n",
       "66    183\n",
       "67    167\n",
       "68     99\n",
       "69     83\n",
       "70     65\n",
       "71     58\n",
       "72     33\n",
       "73      8\n",
       "74      6\n",
       "75      1\n",
       "Name: dob_years, dtype: int64"
      ]
     },
     "execution_count": 11,
     "metadata": {},
     "output_type": "execute_result"
    }
   ],
   "source": [
    "df['dob_years'].value_counts().sort_index()"
   ]
  },
  {
   "cell_type": "markdown",
   "id": "6e26a5bb",
   "metadata": {},
   "source": [
    "100 значений с возрастом \"0\", очевидная ошибка данных, сделаем визуальный анализ:"
   ]
  },
  {
   "cell_type": "code",
   "execution_count": 12,
   "id": "bcfbbb13",
   "metadata": {},
   "outputs": [
    {
     "data": {
      "text/html": [
       "<div>\n",
       "<style scoped>\n",
       "    .dataframe tbody tr th:only-of-type {\n",
       "        vertical-align: middle;\n",
       "    }\n",
       "\n",
       "    .dataframe tbody tr th {\n",
       "        vertical-align: top;\n",
       "    }\n",
       "\n",
       "    .dataframe thead th {\n",
       "        text-align: right;\n",
       "    }\n",
       "</style>\n",
       "<table border=\"1\" class=\"dataframe\">\n",
       "  <thead>\n",
       "    <tr style=\"text-align: right;\">\n",
       "      <th></th>\n",
       "      <th>children</th>\n",
       "      <th>days_employed</th>\n",
       "      <th>dob_years</th>\n",
       "      <th>education</th>\n",
       "      <th>education_id</th>\n",
       "      <th>family_status</th>\n",
       "      <th>family_status_id</th>\n",
       "      <th>gender</th>\n",
       "      <th>income_type</th>\n",
       "      <th>debt</th>\n",
       "      <th>total_income</th>\n",
       "      <th>purpose</th>\n",
       "    </tr>\n",
       "  </thead>\n",
       "  <tbody>\n",
       "    <tr>\n",
       "      <th>99</th>\n",
       "      <td>0</td>\n",
       "      <td>346541.618895</td>\n",
       "      <td>0</td>\n",
       "      <td>Среднее</td>\n",
       "      <td>1</td>\n",
       "      <td>женат / замужем</td>\n",
       "      <td>0</td>\n",
       "      <td>F</td>\n",
       "      <td>пенсионер</td>\n",
       "      <td>0</td>\n",
       "      <td>71291.522491</td>\n",
       "      <td>автомобиль</td>\n",
       "    </tr>\n",
       "    <tr>\n",
       "      <th>149</th>\n",
       "      <td>0</td>\n",
       "      <td>2664.273168</td>\n",
       "      <td>0</td>\n",
       "      <td>среднее</td>\n",
       "      <td>1</td>\n",
       "      <td>в разводе</td>\n",
       "      <td>3</td>\n",
       "      <td>F</td>\n",
       "      <td>сотрудник</td>\n",
       "      <td>0</td>\n",
       "      <td>70176.435951</td>\n",
       "      <td>операции с жильем</td>\n",
       "    </tr>\n",
       "    <tr>\n",
       "      <th>270</th>\n",
       "      <td>3</td>\n",
       "      <td>1872.663186</td>\n",
       "      <td>0</td>\n",
       "      <td>среднее</td>\n",
       "      <td>1</td>\n",
       "      <td>женат / замужем</td>\n",
       "      <td>0</td>\n",
       "      <td>F</td>\n",
       "      <td>сотрудник</td>\n",
       "      <td>0</td>\n",
       "      <td>102166.458894</td>\n",
       "      <td>ремонт жилью</td>\n",
       "    </tr>\n",
       "    <tr>\n",
       "      <th>578</th>\n",
       "      <td>0</td>\n",
       "      <td>397856.565013</td>\n",
       "      <td>0</td>\n",
       "      <td>среднее</td>\n",
       "      <td>1</td>\n",
       "      <td>женат / замужем</td>\n",
       "      <td>0</td>\n",
       "      <td>F</td>\n",
       "      <td>пенсионер</td>\n",
       "      <td>0</td>\n",
       "      <td>97620.687042</td>\n",
       "      <td>строительство собственной недвижимости</td>\n",
       "    </tr>\n",
       "    <tr>\n",
       "      <th>1040</th>\n",
       "      <td>0</td>\n",
       "      <td>1158.029561</td>\n",
       "      <td>0</td>\n",
       "      <td>высшее</td>\n",
       "      <td>0</td>\n",
       "      <td>в разводе</td>\n",
       "      <td>3</td>\n",
       "      <td>F</td>\n",
       "      <td>компаньон</td>\n",
       "      <td>0</td>\n",
       "      <td>303994.134987</td>\n",
       "      <td>свой автомобиль</td>\n",
       "    </tr>\n",
       "    <tr>\n",
       "      <th>1149</th>\n",
       "      <td>0</td>\n",
       "      <td>934.654854</td>\n",
       "      <td>0</td>\n",
       "      <td>среднее</td>\n",
       "      <td>1</td>\n",
       "      <td>женат / замужем</td>\n",
       "      <td>0</td>\n",
       "      <td>F</td>\n",
       "      <td>компаньон</td>\n",
       "      <td>0</td>\n",
       "      <td>201852.430096</td>\n",
       "      <td>покупка недвижимости</td>\n",
       "    </tr>\n",
       "    <tr>\n",
       "      <th>1175</th>\n",
       "      <td>0</td>\n",
       "      <td>370879.508002</td>\n",
       "      <td>0</td>\n",
       "      <td>среднее</td>\n",
       "      <td>1</td>\n",
       "      <td>женат / замужем</td>\n",
       "      <td>0</td>\n",
       "      <td>F</td>\n",
       "      <td>пенсионер</td>\n",
       "      <td>0</td>\n",
       "      <td>313949.845188</td>\n",
       "      <td>получение дополнительного образования</td>\n",
       "    </tr>\n",
       "    <tr>\n",
       "      <th>1386</th>\n",
       "      <td>0</td>\n",
       "      <td>5043.219890</td>\n",
       "      <td>0</td>\n",
       "      <td>высшее</td>\n",
       "      <td>0</td>\n",
       "      <td>женат / замужем</td>\n",
       "      <td>0</td>\n",
       "      <td>M</td>\n",
       "      <td>госслужащий</td>\n",
       "      <td>0</td>\n",
       "      <td>240523.618071</td>\n",
       "      <td>сделка с автомобилем</td>\n",
       "    </tr>\n",
       "    <tr>\n",
       "      <th>1890</th>\n",
       "      <td>0</td>\n",
       "      <td>2194.220567</td>\n",
       "      <td>0</td>\n",
       "      <td>высшее</td>\n",
       "      <td>0</td>\n",
       "      <td>Не женат / не замужем</td>\n",
       "      <td>4</td>\n",
       "      <td>F</td>\n",
       "      <td>сотрудник</td>\n",
       "      <td>0</td>\n",
       "      <td>145017.937533</td>\n",
       "      <td>жилье</td>\n",
       "    </tr>\n",
       "    <tr>\n",
       "      <th>1898</th>\n",
       "      <td>0</td>\n",
       "      <td>370144.537021</td>\n",
       "      <td>0</td>\n",
       "      <td>среднее</td>\n",
       "      <td>1</td>\n",
       "      <td>вдовец / вдова</td>\n",
       "      <td>2</td>\n",
       "      <td>F</td>\n",
       "      <td>пенсионер</td>\n",
       "      <td>0</td>\n",
       "      <td>127400.268338</td>\n",
       "      <td>на покупку автомобиля</td>\n",
       "    </tr>\n",
       "  </tbody>\n",
       "</table>\n",
       "</div>"
      ],
      "text/plain": [
       "      children  days_employed  dob_years education  education_id  \\\n",
       "99           0  346541.618895          0   Среднее             1   \n",
       "149          0    2664.273168          0   среднее             1   \n",
       "270          3    1872.663186          0   среднее             1   \n",
       "578          0  397856.565013          0   среднее             1   \n",
       "1040         0    1158.029561          0    высшее             0   \n",
       "1149         0     934.654854          0   среднее             1   \n",
       "1175         0  370879.508002          0   среднее             1   \n",
       "1386         0    5043.219890          0    высшее             0   \n",
       "1890         0    2194.220567          0    высшее             0   \n",
       "1898         0  370144.537021          0   среднее             1   \n",
       "\n",
       "              family_status  family_status_id gender  income_type  debt  \\\n",
       "99          женат / замужем                 0      F    пенсионер     0   \n",
       "149               в разводе                 3      F    сотрудник     0   \n",
       "270         женат / замужем                 0      F    сотрудник     0   \n",
       "578         женат / замужем                 0      F    пенсионер     0   \n",
       "1040              в разводе                 3      F    компаньон     0   \n",
       "1149        женат / замужем                 0      F    компаньон     0   \n",
       "1175        женат / замужем                 0      F    пенсионер     0   \n",
       "1386        женат / замужем                 0      M  госслужащий     0   \n",
       "1890  Не женат / не замужем                 4      F    сотрудник     0   \n",
       "1898         вдовец / вдова                 2      F    пенсионер     0   \n",
       "\n",
       "       total_income                                 purpose  \n",
       "99     71291.522491                              автомобиль  \n",
       "149    70176.435951                       операции с жильем  \n",
       "270   102166.458894                            ремонт жилью  \n",
       "578    97620.687042  строительство собственной недвижимости  \n",
       "1040  303994.134987                         свой автомобиль  \n",
       "1149  201852.430096                    покупка недвижимости  \n",
       "1175  313949.845188   получение дополнительного образования  \n",
       "1386  240523.618071                    сделка с автомобилем  \n",
       "1890  145017.937533                                   жилье  \n",
       "1898  127400.268338                   на покупку автомобиля  "
      ]
     },
     "execution_count": 12,
     "metadata": {},
     "output_type": "execute_result"
    }
   ],
   "source": [
    "df[df['dob_years'] == 0].head(10)"
   ]
  },
  {
   "cell_type": "markdown",
   "id": "2c3ce6de",
   "metadata": {},
   "source": [
    "Очевидных закономерностей нет; поскольку возраст, как критерий, не фигурирует в вопросах поставленных в задаче, то на данном этапе целесообразно оставить данные как есть"
   ]
  },
  {
   "cell_type": "markdown",
   "id": "762c823d",
   "metadata": {},
   "source": [
    "#### Столбец 'education'"
   ]
  },
  {
   "cell_type": "code",
   "execution_count": 13,
   "id": "7b23aaad",
   "metadata": {},
   "outputs": [
    {
     "data": {
      "text/plain": [
       "среднее                13667\n",
       "высшее                  4698\n",
       "СРЕДНЕЕ                  766\n",
       "Среднее                  703\n",
       "неоконченное высшее      665\n",
       "ВЫСШЕЕ                   271\n",
       "Высшее                   268\n",
       "начальное                250\n",
       "Неоконченное высшее       47\n",
       "НЕОКОНЧЕННОЕ ВЫСШЕЕ       29\n",
       "НАЧАЛЬНОЕ                 17\n",
       "Начальное                 15\n",
       "ученая степень             4\n",
       "УЧЕНАЯ СТЕПЕНЬ             1\n",
       "Ученая степень             1\n",
       "Name: education, dtype: int64"
      ]
     },
     "execution_count": 13,
     "metadata": {},
     "output_type": "execute_result"
    }
   ],
   "source": [
    "df['education'].value_counts()"
   ]
  },
  {
   "cell_type": "markdown",
   "id": "533a4944",
   "metadata": {},
   "source": [
    "Если привести данные к одному регистру - будет сделано в пункте 1.0.5, то получится 5 категорий"
   ]
  },
  {
   "cell_type": "markdown",
   "id": "9345dd6d",
   "metadata": {},
   "source": [
    "#### Столбец 'education_id'"
   ]
  },
  {
   "cell_type": "code",
   "execution_count": 14,
   "id": "0895fe25",
   "metadata": {},
   "outputs": [
    {
     "data": {
      "text/plain": [
       "1    15136\n",
       "0     5237\n",
       "2      741\n",
       "3      282\n",
       "4        6\n",
       "Name: education_id, dtype: int64"
      ]
     },
     "execution_count": 14,
     "metadata": {},
     "output_type": "execute_result"
    }
   ],
   "source": [
    "df['education_id'].value_counts()"
   ]
  },
  {
   "cell_type": "markdown",
   "id": "31495bc5",
   "metadata": {},
   "source": [
    "5 категорий, совпадает со столбцом \"education\", данные корректны"
   ]
  },
  {
   "cell_type": "markdown",
   "id": "29f1136a",
   "metadata": {},
   "source": [
    "#### Столбцы 'family_status' и 'family_id'"
   ]
  },
  {
   "cell_type": "code",
   "execution_count": 15,
   "id": "9bd0bd89",
   "metadata": {},
   "outputs": [
    {
     "data": {
      "text/plain": [
       "женат / замужем          12302\n",
       "гражданский брак          4160\n",
       "Не женат / не замужем     2799\n",
       "в разводе                 1189\n",
       "вдовец / вдова             952\n",
       "Name: family_status, dtype: int64"
      ]
     },
     "execution_count": 15,
     "metadata": {},
     "output_type": "execute_result"
    }
   ],
   "source": [
    "df['family_status'].value_counts()"
   ]
  },
  {
   "cell_type": "code",
   "execution_count": 16,
   "id": "140b6df1",
   "metadata": {},
   "outputs": [
    {
     "data": {
      "text/plain": [
       "0    12302\n",
       "1     4160\n",
       "4     2799\n",
       "3     1189\n",
       "2      952\n",
       "Name: family_status_id, dtype: int64"
      ]
     },
     "execution_count": 16,
     "metadata": {},
     "output_type": "execute_result"
    }
   ],
   "source": [
    "df['family_status_id'].value_counts()"
   ]
  },
  {
   "cell_type": "markdown",
   "id": "6388b724",
   "metadata": {},
   "source": [
    "Колличество в категориях совпадает, данные корректны"
   ]
  },
  {
   "cell_type": "markdown",
   "id": "94c21b74",
   "metadata": {},
   "source": [
    "#### Столбец 'gender'"
   ]
  },
  {
   "cell_type": "code",
   "execution_count": 17,
   "id": "a00cff88",
   "metadata": {},
   "outputs": [
    {
     "data": {
      "text/plain": [
       "F      14154\n",
       "M       7247\n",
       "XNA        1\n",
       "Name: gender, dtype: int64"
      ]
     },
     "execution_count": 17,
     "metadata": {},
     "output_type": "execute_result"
    }
   ],
   "source": [
    "df['gender'].value_counts()"
   ]
  },
  {
   "cell_type": "markdown",
   "id": "f2677026",
   "metadata": {},
   "source": [
    "Одна строка с некорректным значением, посмотрим на нее:"
   ]
  },
  {
   "cell_type": "code",
   "execution_count": 18,
   "id": "b205e247",
   "metadata": {},
   "outputs": [
    {
     "data": {
      "text/html": [
       "<div>\n",
       "<style scoped>\n",
       "    .dataframe tbody tr th:only-of-type {\n",
       "        vertical-align: middle;\n",
       "    }\n",
       "\n",
       "    .dataframe tbody tr th {\n",
       "        vertical-align: top;\n",
       "    }\n",
       "\n",
       "    .dataframe thead th {\n",
       "        text-align: right;\n",
       "    }\n",
       "</style>\n",
       "<table border=\"1\" class=\"dataframe\">\n",
       "  <thead>\n",
       "    <tr style=\"text-align: right;\">\n",
       "      <th></th>\n",
       "      <th>children</th>\n",
       "      <th>days_employed</th>\n",
       "      <th>dob_years</th>\n",
       "      <th>education</th>\n",
       "      <th>education_id</th>\n",
       "      <th>family_status</th>\n",
       "      <th>family_status_id</th>\n",
       "      <th>gender</th>\n",
       "      <th>income_type</th>\n",
       "      <th>debt</th>\n",
       "      <th>total_income</th>\n",
       "      <th>purpose</th>\n",
       "    </tr>\n",
       "  </thead>\n",
       "  <tbody>\n",
       "    <tr>\n",
       "      <th>10701</th>\n",
       "      <td>0</td>\n",
       "      <td>2358.600502</td>\n",
       "      <td>24</td>\n",
       "      <td>неоконченное высшее</td>\n",
       "      <td>2</td>\n",
       "      <td>гражданский брак</td>\n",
       "      <td>1</td>\n",
       "      <td>XNA</td>\n",
       "      <td>компаньон</td>\n",
       "      <td>0</td>\n",
       "      <td>203905.157261</td>\n",
       "      <td>покупка недвижимости</td>\n",
       "    </tr>\n",
       "  </tbody>\n",
       "</table>\n",
       "</div>"
      ],
      "text/plain": [
       "       children  days_employed  dob_years            education  education_id  \\\n",
       "10701         0    2358.600502         24  неоконченное высшее             2   \n",
       "\n",
       "          family_status  family_status_id gender income_type  debt  \\\n",
       "10701  гражданский брак                 1    XNA   компаньон     0   \n",
       "\n",
       "        total_income               purpose  \n",
       "10701  203905.157261  покупка недвижимости  "
      ]
     },
     "execution_count": 18,
     "metadata": {},
     "output_type": "execute_result"
    }
   ],
   "source": [
    "df[df['gender'] == 'XNA']"
   ]
  },
  {
   "cell_type": "markdown",
   "id": "ff8701b4",
   "metadata": {},
   "source": [
    "Одна строка на 21k+ данных скорее всего ни на что не повлияет, поэтому \"ткнем пальцем в небо\" - 24 года, без детей, высокий доход, покупка недвижимости - вероятно это мужчина, исправим строку:"
   ]
  },
  {
   "cell_type": "code",
   "execution_count": 19,
   "id": "b54507ef",
   "metadata": {},
   "outputs": [
    {
     "data": {
      "text/plain": [
       "F    14154\n",
       "M     7248\n",
       "Name: gender, dtype: int64"
      ]
     },
     "execution_count": 19,
     "metadata": {},
     "output_type": "execute_result"
    }
   ],
   "source": [
    "df.loc[df['gender']=='XNA','gender'] = 'M'\n",
    "df['gender'].value_counts()"
   ]
  },
  {
   "cell_type": "markdown",
   "id": "51514786",
   "metadata": {},
   "source": [
    "#### Столбец 'income_type'"
   ]
  },
  {
   "cell_type": "code",
   "execution_count": 20,
   "id": "8b4ae347",
   "metadata": {},
   "outputs": [
    {
     "data": {
      "text/plain": [
       "сотрудник          11050\n",
       "компаньон           5054\n",
       "пенсионер           3839\n",
       "госслужащий         1453\n",
       "предприниматель        2\n",
       "безработный            2\n",
       "студент                1\n",
       "в декрете              1\n",
       "Name: income_type, dtype: int64"
      ]
     },
     "execution_count": 20,
     "metadata": {},
     "output_type": "execute_result"
    }
   ],
   "source": [
    "df['income_type'].value_counts()"
   ]
  },
  {
   "cell_type": "markdown",
   "id": "d724234c",
   "metadata": {},
   "source": [
    "Данные корректны"
   ]
  },
  {
   "cell_type": "markdown",
   "id": "bd654a41",
   "metadata": {},
   "source": [
    "#### Столбец 'debt'"
   ]
  },
  {
   "cell_type": "code",
   "execution_count": 21,
   "id": "bd4efb43",
   "metadata": {},
   "outputs": [
    {
     "data": {
      "text/plain": [
       "0    19670\n",
       "1     1732\n",
       "Name: debt, dtype: int64"
      ]
     },
     "execution_count": 21,
     "metadata": {},
     "output_type": "execute_result"
    }
   ],
   "source": [
    "df['debt'].value_counts()"
   ]
  },
  {
   "cell_type": "markdown",
   "id": "4b867bed",
   "metadata": {},
   "source": [
    "Данные корректны"
   ]
  },
  {
   "cell_type": "markdown",
   "id": "f80253e3",
   "metadata": {},
   "source": [
    "#### Столбец 'purpose'"
   ]
  },
  {
   "cell_type": "code",
   "execution_count": 22,
   "id": "1dde31cc",
   "metadata": {},
   "outputs": [
    {
     "data": {
      "text/plain": [
       "свадьба                                   796\n",
       "на проведение свадьбы                     772\n",
       "сыграть свадьбу                           769\n",
       "операции с недвижимостью                  673\n",
       "покупка коммерческой недвижимости         661\n",
       "покупка жилья для сдачи                   651\n",
       "операции с жильем                         648\n",
       "операции с коммерческой недвижимостью     646\n",
       "жилье                                     642\n",
       "покупка жилья                             641\n",
       "покупка жилья для семьи                   640\n",
       "недвижимость                              632\n",
       "строительство собственной недвижимости    628\n",
       "операции со своей недвижимостью           626\n",
       "строительство жилой недвижимости          622\n",
       "строительство недвижимости                620\n",
       "покупка недвижимости                      619\n",
       "покупка своего жилья                      619\n",
       "ремонт жилью                              609\n",
       "покупка жилой недвижимости                603\n",
       "на покупку своего автомобиля              504\n",
       "заняться высшим образованием              496\n",
       "автомобиль                                492\n",
       "сделка с подержанным автомобилем          484\n",
       "автомобили                                476\n",
       "свой автомобиль                           475\n",
       "на покупку подержанного автомобиля        472\n",
       "на покупку автомобиля                     470\n",
       "приобретение автомобиля                   460\n",
       "дополнительное образование                457\n",
       "сделка с автомобилем                      455\n",
       "высшее образование                        447\n",
       "получение дополнительного образования     445\n",
       "образование                               442\n",
       "получение образования                     441\n",
       "профильное образование                    432\n",
       "получение высшего образования             425\n",
       "заняться образованием                     412\n",
       "Name: purpose, dtype: int64"
      ]
     },
     "execution_count": 22,
     "metadata": {},
     "output_type": "execute_result"
    }
   ],
   "source": [
    "df['purpose'].value_counts()\n",
    "#len(set(df['purpose']))"
   ]
  },
  {
   "cell_type": "markdown",
   "id": "af3eb8af",
   "metadata": {},
   "source": [
    "38 по разному записанных целей кредита, которые можно собрать в 4 категории - \"недвижимость\", \"авто\", \"образование\", \"свадьба\" - будет сделано в пункте 1.0.8"
   ]
  },
  {
   "cell_type": "markdown",
   "id": "4f34d585",
   "metadata": {},
   "source": [
    "### Шаг 2.3. Изменение типов данных."
   ]
  },
  {
   "cell_type": "markdown",
   "id": "0c6e6033",
   "metadata": {},
   "source": [
    "Заменим вещественный тип данных в столбце 'total_income' на целочисленный:"
   ]
  },
  {
   "cell_type": "code",
   "execution_count": 23,
   "id": "21bd2d46",
   "metadata": {},
   "outputs": [
    {
     "data": {
      "text/plain": [
       "0    253875\n",
       "1    112080\n",
       "2    145885\n",
       "3    267628\n",
       "4    158616\n",
       "Name: total_income, dtype: int64"
      ]
     },
     "execution_count": 23,
     "metadata": {},
     "output_type": "execute_result"
    }
   ],
   "source": [
    "df['total_income'] = df['total_income'].astype('int')\n",
    "#проверка\n",
    "df['total_income'].head()"
   ]
  },
  {
   "cell_type": "markdown",
   "id": "617f86c5",
   "metadata": {},
   "source": [
    "### Шаг 2.4. Удаление дубликатов."
   ]
  },
  {
   "cell_type": "markdown",
   "id": "33777d32",
   "metadata": {},
   "source": [
    "Обработаем неявные дубликаты в столбце 'education', приведем данные к одному регистру:"
   ]
  },
  {
   "cell_type": "code",
   "execution_count": 24,
   "id": "0f477a39",
   "metadata": {},
   "outputs": [
    {
     "data": {
      "text/plain": [
       "0     высшее\n",
       "1    среднее\n",
       "2    среднее\n",
       "3    среднее\n",
       "4    среднее\n",
       "5     высшее\n",
       "6     высшее\n",
       "7    среднее\n",
       "8     высшее\n",
       "9    среднее\n",
       "Name: education, dtype: object"
      ]
     },
     "execution_count": 24,
     "metadata": {},
     "output_type": "execute_result"
    }
   ],
   "source": [
    "df['education'] = df['education'].str.lower()\n",
    "#проверка\n",
    "df['education'].head(10)"
   ]
  },
  {
   "cell_type": "markdown",
   "id": "9a2012ed",
   "metadata": {},
   "source": [
    "Проверим, совпадают ли теперь данные в столбцах 'education' и 'education_id':"
   ]
  },
  {
   "cell_type": "code",
   "execution_count": 25,
   "id": "f13c2932",
   "metadata": {},
   "outputs": [
    {
     "data": {
      "text/plain": [
       "среднее                15136\n",
       "высшее                  5237\n",
       "неоконченное высшее      741\n",
       "начальное                282\n",
       "ученая степень             6\n",
       "Name: education, dtype: int64"
      ]
     },
     "metadata": {},
     "output_type": "display_data"
    },
    {
     "data": {
      "text/plain": [
       "1    15136\n",
       "0     5237\n",
       "2      741\n",
       "3      282\n",
       "4        6\n",
       "Name: education_id, dtype: int64"
      ]
     },
     "metadata": {},
     "output_type": "display_data"
    }
   ],
   "source": [
    "display(df['education'].value_counts())\n",
    "display(df['education_id'].value_counts())"
   ]
  },
  {
   "cell_type": "markdown",
   "id": "9c799574",
   "metadata": {},
   "source": [
    "Данные совпадают, неявные дубликаты убраны; найдем явные дубликаты и удалим их: "
   ]
  },
  {
   "cell_type": "code",
   "execution_count": 26,
   "id": "ed58d8ca",
   "metadata": {},
   "outputs": [
    {
     "data": {
      "text/plain": [
       "0"
      ]
     },
     "execution_count": 26,
     "metadata": {},
     "output_type": "execute_result"
    }
   ],
   "source": [
    "df = df.drop_duplicates().reset_index(drop=True)\n",
    "df.duplicated().sum()"
   ]
  },
  {
   "cell_type": "markdown",
   "id": "92e22999",
   "metadata": {},
   "source": [
    "Дубликаты появляются из-за человеческих ошибок при вводе, например при использовании разных регистров или из-за повторного обращении одного и того же заемщика к разным сотрудникам/офисам/отделениям. Неявные дубликаты трудно обнаружить - визуально и с использовнием \"set\" или \"unique\"; для явных дубликатов использовался метод \"duplicated\""
   ]
  },
  {
   "cell_type": "markdown",
   "id": "49928089",
   "metadata": {},
   "source": [
    "### Шаг 2.5. Формирование дополнительных датафреймов словарей, декомпозиция исходного датафрейма."
   ]
  },
  {
   "cell_type": "markdown",
   "id": "9bfe0d09",
   "metadata": {},
   "source": [
    "Создадим два новых датафрейма, в которых - каждому уникальному значению из 'education' соответствует уникальное значение 'education_id' и каждому уникальному значению из 'family_status' соответствует уникальное значение 'family_status_id':"
   ]
  },
  {
   "cell_type": "code",
   "execution_count": 27,
   "id": "03b85366",
   "metadata": {},
   "outputs": [
    {
     "data": {
      "text/html": [
       "<div>\n",
       "<style scoped>\n",
       "    .dataframe tbody tr th:only-of-type {\n",
       "        vertical-align: middle;\n",
       "    }\n",
       "\n",
       "    .dataframe tbody tr th {\n",
       "        vertical-align: top;\n",
       "    }\n",
       "\n",
       "    .dataframe thead th {\n",
       "        text-align: right;\n",
       "    }\n",
       "</style>\n",
       "<table border=\"1\" class=\"dataframe\">\n",
       "  <thead>\n",
       "    <tr style=\"text-align: right;\">\n",
       "      <th></th>\n",
       "      <th>education_id</th>\n",
       "      <th>education</th>\n",
       "    </tr>\n",
       "  </thead>\n",
       "  <tbody>\n",
       "    <tr>\n",
       "      <th>0</th>\n",
       "      <td>0</td>\n",
       "      <td>высшее</td>\n",
       "    </tr>\n",
       "    <tr>\n",
       "      <th>1</th>\n",
       "      <td>1</td>\n",
       "      <td>среднее</td>\n",
       "    </tr>\n",
       "    <tr>\n",
       "      <th>2</th>\n",
       "      <td>2</td>\n",
       "      <td>неоконченное высшее</td>\n",
       "    </tr>\n",
       "    <tr>\n",
       "      <th>3</th>\n",
       "      <td>3</td>\n",
       "      <td>начальное</td>\n",
       "    </tr>\n",
       "    <tr>\n",
       "      <th>4</th>\n",
       "      <td>4</td>\n",
       "      <td>ученая степень</td>\n",
       "    </tr>\n",
       "  </tbody>\n",
       "</table>\n",
       "</div>"
      ],
      "text/plain": [
       "   education_id            education\n",
       "0             0               высшее\n",
       "1             1              среднее\n",
       "2             2  неоконченное высшее\n",
       "3             3            начальное\n",
       "4             4       ученая степень"
      ]
     },
     "metadata": {},
     "output_type": "display_data"
    },
    {
     "data": {
      "text/html": [
       "<div>\n",
       "<style scoped>\n",
       "    .dataframe tbody tr th:only-of-type {\n",
       "        vertical-align: middle;\n",
       "    }\n",
       "\n",
       "    .dataframe tbody tr th {\n",
       "        vertical-align: top;\n",
       "    }\n",
       "\n",
       "    .dataframe thead th {\n",
       "        text-align: right;\n",
       "    }\n",
       "</style>\n",
       "<table border=\"1\" class=\"dataframe\">\n",
       "  <thead>\n",
       "    <tr style=\"text-align: right;\">\n",
       "      <th></th>\n",
       "      <th>family_status_id</th>\n",
       "      <th>family_status</th>\n",
       "    </tr>\n",
       "  </thead>\n",
       "  <tbody>\n",
       "    <tr>\n",
       "      <th>0</th>\n",
       "      <td>0</td>\n",
       "      <td>женат / замужем</td>\n",
       "    </tr>\n",
       "    <tr>\n",
       "      <th>1</th>\n",
       "      <td>1</td>\n",
       "      <td>гражданский брак</td>\n",
       "    </tr>\n",
       "    <tr>\n",
       "      <th>2</th>\n",
       "      <td>2</td>\n",
       "      <td>вдовец / вдова</td>\n",
       "    </tr>\n",
       "    <tr>\n",
       "      <th>3</th>\n",
       "      <td>3</td>\n",
       "      <td>в разводе</td>\n",
       "    </tr>\n",
       "    <tr>\n",
       "      <th>4</th>\n",
       "      <td>4</td>\n",
       "      <td>Не женат / не замужем</td>\n",
       "    </tr>\n",
       "  </tbody>\n",
       "</table>\n",
       "</div>"
      ],
      "text/plain": [
       "   family_status_id          family_status\n",
       "0                 0        женат / замужем\n",
       "1                 1       гражданский брак\n",
       "2                 2         вдовец / вдова\n",
       "3                 3              в разводе\n",
       "4                 4  Не женат / не замужем"
      ]
     },
     "metadata": {},
     "output_type": "display_data"
    }
   ],
   "source": [
    "education_new = df[['education_id', 'education']]\n",
    "family_status_new = df[['family_status_id', 'family_status']]\n",
    "#удалим дубликаты из словарей\n",
    "education_new = education_new.drop_duplicates().reset_index(drop=True)\n",
    "family_status_new = family_status_new.drop_duplicates().reset_index(drop=True)\n",
    "#проверим что получилось\n",
    "display(education_new.head(10))\n",
    "display(family_status_new.head(10))"
   ]
  },
  {
   "cell_type": "markdown",
   "id": "b578e7e7",
   "metadata": {},
   "source": [
    "Удалим из исходного датафрейма столбцы 'education' и 'family_status':"
   ]
  },
  {
   "cell_type": "code",
   "execution_count": 28,
   "id": "99d216a1",
   "metadata": {},
   "outputs": [
    {
     "name": "stdout",
     "output_type": "stream",
     "text": [
      "<class 'pandas.core.frame.DataFrame'>\n",
      "RangeIndex: 21331 entries, 0 to 21330\n",
      "Data columns (total 10 columns):\n",
      " #   Column            Non-Null Count  Dtype  \n",
      "---  ------            --------------  -----  \n",
      " 0   children          21331 non-null  int64  \n",
      " 1   days_employed     21331 non-null  float64\n",
      " 2   dob_years         21331 non-null  int64  \n",
      " 3   education_id      21331 non-null  int64  \n",
      " 4   family_status_id  21331 non-null  int64  \n",
      " 5   gender            21331 non-null  object \n",
      " 6   income_type       21331 non-null  object \n",
      " 7   debt              21331 non-null  int64  \n",
      " 8   total_income      21331 non-null  int64  \n",
      " 9   purpose           21331 non-null  object \n",
      "dtypes: float64(1), int64(6), object(3)\n",
      "memory usage: 1.6+ MB\n"
     ]
    }
   ],
   "source": [
    "df = df.drop(columns=['education', 'family_status'])\n",
    "df.info()"
   ]
  },
  {
   "cell_type": "markdown",
   "id": "b3dfd676",
   "metadata": {},
   "source": [
    "### Шаг 2.6. Категоризация дохода."
   ]
  },
  {
   "cell_type": "markdown",
   "id": "15df1607",
   "metadata": {},
   "source": [
    "Создадим столбец 'total_income_category', на основании диапазонов: \"0-30000\" — 'E'; \"30001–50000\" — 'D'; \"50001–200000\" — 'C'; \"200001–1000000\" — 'B'; \"1000001 и выше\" — 'A' в столбце 'total_income'"
   ]
  },
  {
   "cell_type": "code",
   "execution_count": 29,
   "id": "2fd49cee",
   "metadata": {},
   "outputs": [
    {
     "data": {
      "text/plain": [
       "C    15922\n",
       "B     5013\n",
       "D      349\n",
       "A       25\n",
       "E       22\n",
       "Name: total_income_category, dtype: int64"
      ]
     },
     "execution_count": 29,
     "metadata": {},
     "output_type": "execute_result"
    }
   ],
   "source": [
    "#функция для категорий дохода\n",
    "def total_income_category(total_income):\n",
    "    if total_income <= 30000:\n",
    "        return 'E'\n",
    "    if 30000 < total_income <= 50000:\n",
    "        return 'D'\n",
    "    if 50000 < total_income <= 200000:\n",
    "        return 'C'\n",
    "    if 200000 < total_income <= 1000000:\n",
    "        return 'B'\n",
    "    return 'A'\n",
    "#создадим и заполним столбец 'total_income_category'\n",
    "df['total_income_category'] = df['total_income'].apply(total_income_category)\n",
    "#проверка\n",
    "df['total_income_category'].value_counts()"
   ]
  },
  {
   "cell_type": "code",
   "execution_count": 30,
   "id": "162e3365",
   "metadata": {},
   "outputs": [
    {
     "name": "stdout",
     "output_type": "stream",
     "text": [
      "<class 'pandas.core.frame.DataFrame'>\n",
      "RangeIndex: 21331 entries, 0 to 21330\n",
      "Data columns (total 11 columns):\n",
      " #   Column                 Non-Null Count  Dtype  \n",
      "---  ------                 --------------  -----  \n",
      " 0   children               21331 non-null  int64  \n",
      " 1   days_employed          21331 non-null  float64\n",
      " 2   dob_years              21331 non-null  int64  \n",
      " 3   education_id           21331 non-null  int64  \n",
      " 4   family_status_id       21331 non-null  int64  \n",
      " 5   gender                 21331 non-null  object \n",
      " 6   income_type            21331 non-null  object \n",
      " 7   debt                   21331 non-null  int64  \n",
      " 8   total_income           21331 non-null  int64  \n",
      " 9   purpose                21331 non-null  object \n",
      " 10  total_income_category  21331 non-null  object \n",
      "dtypes: float64(1), int64(6), object(4)\n",
      "memory usage: 1.8+ MB\n"
     ]
    }
   ],
   "source": [
    "df.info()"
   ]
  },
  {
   "cell_type": "markdown",
   "id": "d06cd82e",
   "metadata": {},
   "source": [
    "### Шаг 2.7. Категоризация целей кредита."
   ]
  },
  {
   "cell_type": "markdown",
   "id": "b27e7168",
   "metadata": {},
   "source": [
    "Из данных столбца 'purpose' сформируем новый столбец 'purpose_category' в который войдут следующие категории - 'операции с автомобилем', 'операции с недвижимостью', 'проведение свадьбы', 'получение образования':"
   ]
  },
  {
   "cell_type": "code",
   "execution_count": 31,
   "id": "f1689bdc",
   "metadata": {},
   "outputs": [
    {
     "data": {
      "text/plain": [
       "операции с недвижимостью    10751\n",
       "операции с автомобилем       4279\n",
       "получение образования        3988\n",
       "проведение свадьбы           2313\n",
       "Name: purpose_category, dtype: int64"
      ]
     },
     "metadata": {},
     "output_type": "display_data"
    },
    {
     "data": {
      "text/html": [
       "<div>\n",
       "<style scoped>\n",
       "    .dataframe tbody tr th:only-of-type {\n",
       "        vertical-align: middle;\n",
       "    }\n",
       "\n",
       "    .dataframe tbody tr th {\n",
       "        vertical-align: top;\n",
       "    }\n",
       "\n",
       "    .dataframe thead th {\n",
       "        text-align: right;\n",
       "    }\n",
       "</style>\n",
       "<table border=\"1\" class=\"dataframe\">\n",
       "  <thead>\n",
       "    <tr style=\"text-align: right;\">\n",
       "      <th></th>\n",
       "      <th>children</th>\n",
       "      <th>days_employed</th>\n",
       "      <th>dob_years</th>\n",
       "      <th>education_id</th>\n",
       "      <th>family_status_id</th>\n",
       "      <th>gender</th>\n",
       "      <th>income_type</th>\n",
       "      <th>debt</th>\n",
       "      <th>total_income</th>\n",
       "      <th>purpose</th>\n",
       "      <th>total_income_category</th>\n",
       "      <th>purpose_category</th>\n",
       "    </tr>\n",
       "  </thead>\n",
       "  <tbody>\n",
       "  </tbody>\n",
       "</table>\n",
       "</div>"
      ],
      "text/plain": [
       "Empty DataFrame\n",
       "Columns: [children, days_employed, dob_years, education_id, family_status_id, gender, income_type, debt, total_income, purpose, total_income_category, purpose_category]\n",
       "Index: []"
      ]
     },
     "metadata": {},
     "output_type": "display_data"
    },
    {
     "name": "stdout",
     "output_type": "stream",
     "text": [
      "<class 'pandas.core.frame.DataFrame'>\n",
      "RangeIndex: 21331 entries, 0 to 21330\n",
      "Data columns (total 12 columns):\n",
      " #   Column                 Non-Null Count  Dtype  \n",
      "---  ------                 --------------  -----  \n",
      " 0   children               21331 non-null  int64  \n",
      " 1   days_employed          21331 non-null  float64\n",
      " 2   dob_years              21331 non-null  int64  \n",
      " 3   education_id           21331 non-null  int64  \n",
      " 4   family_status_id       21331 non-null  int64  \n",
      " 5   gender                 21331 non-null  object \n",
      " 6   income_type            21331 non-null  object \n",
      " 7   debt                   21331 non-null  int64  \n",
      " 8   total_income           21331 non-null  int64  \n",
      " 9   purpose                21331 non-null  object \n",
      " 10  total_income_category  21331 non-null  object \n",
      " 11  purpose_category       21331 non-null  object \n",
      "dtypes: float64(1), int64(6), object(5)\n",
      "memory usage: 2.0+ MB\n"
     ]
    },
    {
     "data": {
      "text/plain": [
       "0"
      ]
     },
     "execution_count": 31,
     "metadata": {},
     "output_type": "execute_result"
    }
   ],
   "source": [
    "#вызываем коллекцию Counter и лемматизатор для русских слов\n",
    "#from collections import Counter\n",
    "from pymystem3 import Mystem\n",
    "m = Mystem()\n",
    "\n",
    "#функция для распределения целей кредита по новым категориям\n",
    "def new_purpose(purpose):\n",
    "    lemmas_purpose = m.lemmatize(purpose)\n",
    "    if ('недвижимость' in lemmas_purpose) | ('жилье' in lemmas_purpose):\n",
    "        return 'операции с недвижимостью'\n",
    "    if 'автомобиль' in lemmas_purpose:\n",
    "        return 'операции с автомобилем'\n",
    "    if 'образование' in lemmas_purpose:\n",
    "        return 'получение образования'\n",
    "    if 'свадьба' in lemmas_purpose:\n",
    "        return 'проведение свадьбы'\n",
    "    return''\n",
    "#применим функцию new_purpose к столбцу 'purpose'\n",
    "df['purpose_category'] = df['purpose'].apply(new_purpose)\n",
    "#проверка новового столбца 'purpose_category', есть ли значения без категории, есть ли дубликаты\n",
    "display(df['purpose_category'].value_counts())\n",
    "display(df[df['purpose_category'] == \"\"])\n",
    "df.info()\n",
    "df.duplicated().sum()"
   ]
  },
  {
   "cell_type": "markdown",
   "id": "5cf01fb0",
   "metadata": {},
   "source": [
    "### Ответы на вопросы."
   ]
  },
  {
   "cell_type": "markdown",
   "id": "76d6bf9b",
   "metadata": {},
   "source": [
    "##### Вопрос 1:  Есть ли зависимость между количеством детей и возвратом кредита в срок?"
   ]
  },
  {
   "cell_type": "code",
   "execution_count": 32,
   "id": "18ab0952",
   "metadata": {},
   "outputs": [
    {
     "data": {
      "text/html": [
       "<div>\n",
       "<style scoped>\n",
       "    .dataframe tbody tr th:only-of-type {\n",
       "        vertical-align: middle;\n",
       "    }\n",
       "\n",
       "    .dataframe tbody tr th {\n",
       "        vertical-align: top;\n",
       "    }\n",
       "\n",
       "    .dataframe thead tr th {\n",
       "        text-align: left;\n",
       "    }\n",
       "\n",
       "    .dataframe thead tr:last-of-type th {\n",
       "        text-align: right;\n",
       "    }\n",
       "</style>\n",
       "<table border=\"1\" class=\"dataframe\">\n",
       "  <thead>\n",
       "    <tr>\n",
       "      <th></th>\n",
       "      <th>sum</th>\n",
       "      <th>count</th>\n",
       "      <th>percentage</th>\n",
       "    </tr>\n",
       "    <tr>\n",
       "      <th></th>\n",
       "      <th>debt</th>\n",
       "      <th>debt</th>\n",
       "      <th>debt</th>\n",
       "    </tr>\n",
       "    <tr>\n",
       "      <th>children</th>\n",
       "      <th></th>\n",
       "      <th></th>\n",
       "      <th></th>\n",
       "    </tr>\n",
       "  </thead>\n",
       "  <tbody>\n",
       "    <tr>\n",
       "      <th>0</th>\n",
       "      <td>1063</td>\n",
       "      <td>14091</td>\n",
       "      <td>7.54%</td>\n",
       "    </tr>\n",
       "    <tr>\n",
       "      <th>1</th>\n",
       "      <td>444</td>\n",
       "      <td>4808</td>\n",
       "      <td>9.23%</td>\n",
       "    </tr>\n",
       "    <tr>\n",
       "      <th>2</th>\n",
       "      <td>194</td>\n",
       "      <td>2052</td>\n",
       "      <td>9.45%</td>\n",
       "    </tr>\n",
       "    <tr>\n",
       "      <th>3</th>\n",
       "      <td>27</td>\n",
       "      <td>330</td>\n",
       "      <td>8.18%</td>\n",
       "    </tr>\n",
       "    <tr>\n",
       "      <th>4</th>\n",
       "      <td>4</td>\n",
       "      <td>41</td>\n",
       "      <td>9.76%</td>\n",
       "    </tr>\n",
       "    <tr>\n",
       "      <th>5</th>\n",
       "      <td>0</td>\n",
       "      <td>9</td>\n",
       "      <td>0.00%</td>\n",
       "    </tr>\n",
       "  </tbody>\n",
       "</table>\n",
       "</div>"
      ],
      "text/plain": [
       "           sum  count percentage\n",
       "          debt   debt       debt\n",
       "children                        \n",
       "0         1063  14091      7.54%\n",
       "1          444   4808      9.23%\n",
       "2          194   2052      9.45%\n",
       "3           27    330      8.18%\n",
       "4            4     41      9.76%\n",
       "5            0      9      0.00%"
      ]
     },
     "execution_count": 32,
     "metadata": {},
     "output_type": "execute_result"
    }
   ],
   "source": [
    "#функция для подсчета результата в процентах\n",
    "def percentage(values):\n",
    "    return f'{(values.sum() / values.count()):.2%}'\n",
    "#строим сводную таблицу для ответа на вопрос\n",
    "child_debt = df.pivot_table(index=['children'], values=[\"debt\"], aggfunc=['sum', 'count', percentage])\n",
    "child_debt"
   ]
  },
  {
   "cell_type": "markdown",
   "id": "7013b53c",
   "metadata": {},
   "source": [
    "##### Вывод 1:"
   ]
  },
  {
   "cell_type": "markdown",
   "id": "4bfd41eb",
   "metadata": {},
   "source": [
    "С увеличением количества детей растет просрочка, и  хотя в нашем исследовании люди с 3-мя детьми чаще платят в срок чем люди с 1-м ребенком это, вероятно, результат маленькой выборки. Бездетные платят по кредиту заметно аккуратнее, чем люди с детьми."
   ]
  },
  {
   "cell_type": "markdown",
   "id": "9a2a88d3",
   "metadata": {},
   "source": [
    "##### Вопрос 2:  Есть ли зависимость между семейным положением и возвратом кредита в срок?"
   ]
  },
  {
   "cell_type": "code",
   "execution_count": 33,
   "id": "79ca8a19",
   "metadata": {},
   "outputs": [
    {
     "data": {
      "text/html": [
       "<div>\n",
       "<style scoped>\n",
       "    .dataframe tbody tr th:only-of-type {\n",
       "        vertical-align: middle;\n",
       "    }\n",
       "\n",
       "    .dataframe tbody tr th {\n",
       "        vertical-align: top;\n",
       "    }\n",
       "\n",
       "    .dataframe thead tr th {\n",
       "        text-align: left;\n",
       "    }\n",
       "\n",
       "    .dataframe thead tr:last-of-type th {\n",
       "        text-align: right;\n",
       "    }\n",
       "</style>\n",
       "<table border=\"1\" class=\"dataframe\">\n",
       "  <thead>\n",
       "    <tr>\n",
       "      <th></th>\n",
       "      <th>sum</th>\n",
       "      <th>count</th>\n",
       "      <th>percentage</th>\n",
       "    </tr>\n",
       "    <tr>\n",
       "      <th></th>\n",
       "      <th>debt</th>\n",
       "      <th>debt</th>\n",
       "      <th>debt</th>\n",
       "    </tr>\n",
       "    <tr>\n",
       "      <th>family_status</th>\n",
       "      <th></th>\n",
       "      <th></th>\n",
       "      <th></th>\n",
       "    </tr>\n",
       "  </thead>\n",
       "  <tbody>\n",
       "    <tr>\n",
       "      <th>Не женат / не замужем</th>\n",
       "      <td>273</td>\n",
       "      <td>2796</td>\n",
       "      <td>9.76%</td>\n",
       "    </tr>\n",
       "    <tr>\n",
       "      <th>в разводе</th>\n",
       "      <td>84</td>\n",
       "      <td>1189</td>\n",
       "      <td>7.06%</td>\n",
       "    </tr>\n",
       "    <tr>\n",
       "      <th>вдовец / вдова</th>\n",
       "      <td>63</td>\n",
       "      <td>951</td>\n",
       "      <td>6.62%</td>\n",
       "    </tr>\n",
       "    <tr>\n",
       "      <th>гражданский брак</th>\n",
       "      <td>385</td>\n",
       "      <td>4134</td>\n",
       "      <td>9.31%</td>\n",
       "    </tr>\n",
       "    <tr>\n",
       "      <th>женат / замужем</th>\n",
       "      <td>927</td>\n",
       "      <td>12261</td>\n",
       "      <td>7.56%</td>\n",
       "    </tr>\n",
       "  </tbody>\n",
       "</table>\n",
       "</div>"
      ],
      "text/plain": [
       "                       sum  count percentage\n",
       "                      debt   debt       debt\n",
       "family_status                               \n",
       "Не женат / не замужем  273   2796      9.76%\n",
       "в разводе               84   1189      7.06%\n",
       "вдовец / вдова          63    951      6.62%\n",
       "гражданский брак       385   4134      9.31%\n",
       "женат / замужем        927  12261      7.56%"
      ]
     },
     "execution_count": 33,
     "metadata": {},
     "output_type": "execute_result"
    }
   ],
   "source": [
    "#для удобства вернем 'family_status' обратно в таблицу метод merge()\n",
    "df_merge = df.merge(family_status_new, on='family_status_id', how='left')\n",
    "fam_status_debt = df_merge.pivot_table(index=['family_status'], values=[\"debt\"], aggfunc=['sum', 'count', percentage])\n",
    "fam_status_debt"
   ]
  },
  {
   "cell_type": "markdown",
   "id": "64052294",
   "metadata": {},
   "source": [
    "##### Вывод 2:"
   ]
  },
  {
   "cell_type": "markdown",
   "id": "c6586cbc",
   "metadata": {},
   "source": [
    "Если семейные отношения оформлены (или были офрмлены) официально, то просрочка заметно ниже, чем у людей без отношений или просто живущих вместе."
   ]
  },
  {
   "cell_type": "markdown",
   "id": "c8cb138f",
   "metadata": {},
   "source": [
    "##### Вопрос 3:  Есть ли зависимость между уровнем дохода и возвратом кредита в срок?"
   ]
  },
  {
   "cell_type": "code",
   "execution_count": 34,
   "id": "9839cc0e",
   "metadata": {},
   "outputs": [
    {
     "data": {
      "text/html": [
       "<div>\n",
       "<style scoped>\n",
       "    .dataframe tbody tr th:only-of-type {\n",
       "        vertical-align: middle;\n",
       "    }\n",
       "\n",
       "    .dataframe tbody tr th {\n",
       "        vertical-align: top;\n",
       "    }\n",
       "\n",
       "    .dataframe thead tr th {\n",
       "        text-align: left;\n",
       "    }\n",
       "\n",
       "    .dataframe thead tr:last-of-type th {\n",
       "        text-align: right;\n",
       "    }\n",
       "</style>\n",
       "<table border=\"1\" class=\"dataframe\">\n",
       "  <thead>\n",
       "    <tr>\n",
       "      <th></th>\n",
       "      <th>sum</th>\n",
       "      <th>count</th>\n",
       "      <th>percentage</th>\n",
       "    </tr>\n",
       "    <tr>\n",
       "      <th></th>\n",
       "      <th>debt</th>\n",
       "      <th>debt</th>\n",
       "      <th>debt</th>\n",
       "    </tr>\n",
       "    <tr>\n",
       "      <th>total_income_category</th>\n",
       "      <th></th>\n",
       "      <th></th>\n",
       "      <th></th>\n",
       "    </tr>\n",
       "  </thead>\n",
       "  <tbody>\n",
       "    <tr>\n",
       "      <th>A</th>\n",
       "      <td>2</td>\n",
       "      <td>25</td>\n",
       "      <td>8.00%</td>\n",
       "    </tr>\n",
       "    <tr>\n",
       "      <th>B</th>\n",
       "      <td>354</td>\n",
       "      <td>5013</td>\n",
       "      <td>7.06%</td>\n",
       "    </tr>\n",
       "    <tr>\n",
       "      <th>C</th>\n",
       "      <td>1353</td>\n",
       "      <td>15922</td>\n",
       "      <td>8.50%</td>\n",
       "    </tr>\n",
       "    <tr>\n",
       "      <th>D</th>\n",
       "      <td>21</td>\n",
       "      <td>349</td>\n",
       "      <td>6.02%</td>\n",
       "    </tr>\n",
       "    <tr>\n",
       "      <th>E</th>\n",
       "      <td>2</td>\n",
       "      <td>22</td>\n",
       "      <td>9.09%</td>\n",
       "    </tr>\n",
       "  </tbody>\n",
       "</table>\n",
       "</div>"
      ],
      "text/plain": [
       "                        sum  count percentage\n",
       "                       debt   debt       debt\n",
       "total_income_category                        \n",
       "A                         2     25      8.00%\n",
       "B                       354   5013      7.06%\n",
       "C                      1353  15922      8.50%\n",
       "D                        21    349      6.02%\n",
       "E                         2     22      9.09%"
      ]
     },
     "execution_count": 34,
     "metadata": {},
     "output_type": "execute_result"
    }
   ],
   "source": [
    "income_debt = df.pivot_table(index=['total_income_category'], values=[\"debt\"], aggfunc=['sum', 'count', percentage])\n",
    "income_debt"
   ]
  },
  {
   "cell_type": "markdown",
   "id": "b1837553",
   "metadata": {},
   "source": [
    "##### Вывод 3:"
   ]
  },
  {
   "cell_type": "markdown",
   "id": "42cafb0b",
   "metadata": {},
   "source": [
    "По категриям \"B\" и \"C\" - чем выше доходы, тем меньше просрочка. По категориям \"A\", \"D\", \"E\" данных мало, поэтому скорее всего вывод по ним будет некорректен. "
   ]
  },
  {
   "cell_type": "markdown",
   "id": "30c39018",
   "metadata": {},
   "source": [
    "##### Вопрос 4:  Как разные цели кредита влияют на его возврат в срок?"
   ]
  },
  {
   "cell_type": "code",
   "execution_count": 35,
   "id": "2800494a",
   "metadata": {},
   "outputs": [
    {
     "data": {
      "text/html": [
       "<div>\n",
       "<style scoped>\n",
       "    .dataframe tbody tr th:only-of-type {\n",
       "        vertical-align: middle;\n",
       "    }\n",
       "\n",
       "    .dataframe tbody tr th {\n",
       "        vertical-align: top;\n",
       "    }\n",
       "\n",
       "    .dataframe thead tr th {\n",
       "        text-align: left;\n",
       "    }\n",
       "\n",
       "    .dataframe thead tr:last-of-type th {\n",
       "        text-align: right;\n",
       "    }\n",
       "</style>\n",
       "<table border=\"1\" class=\"dataframe\">\n",
       "  <thead>\n",
       "    <tr>\n",
       "      <th></th>\n",
       "      <th>sum</th>\n",
       "      <th>count</th>\n",
       "      <th>percentage</th>\n",
       "    </tr>\n",
       "    <tr>\n",
       "      <th></th>\n",
       "      <th>debt</th>\n",
       "      <th>debt</th>\n",
       "      <th>debt</th>\n",
       "    </tr>\n",
       "    <tr>\n",
       "      <th>purpose_category</th>\n",
       "      <th></th>\n",
       "      <th></th>\n",
       "      <th></th>\n",
       "    </tr>\n",
       "  </thead>\n",
       "  <tbody>\n",
       "    <tr>\n",
       "      <th>операции с автомобилем</th>\n",
       "      <td>400</td>\n",
       "      <td>4279</td>\n",
       "      <td>9.35%</td>\n",
       "    </tr>\n",
       "    <tr>\n",
       "      <th>операции с недвижимостью</th>\n",
       "      <td>780</td>\n",
       "      <td>10751</td>\n",
       "      <td>7.26%</td>\n",
       "    </tr>\n",
       "    <tr>\n",
       "      <th>получение образования</th>\n",
       "      <td>369</td>\n",
       "      <td>3988</td>\n",
       "      <td>9.25%</td>\n",
       "    </tr>\n",
       "    <tr>\n",
       "      <th>проведение свадьбы</th>\n",
       "      <td>183</td>\n",
       "      <td>2313</td>\n",
       "      <td>7.91%</td>\n",
       "    </tr>\n",
       "  </tbody>\n",
       "</table>\n",
       "</div>"
      ],
      "text/plain": [
       "                          sum  count percentage\n",
       "                         debt   debt       debt\n",
       "purpose_category                               \n",
       "операции с автомобилем    400   4279      9.35%\n",
       "операции с недвижимостью  780  10751      7.26%\n",
       "получение образования     369   3988      9.25%\n",
       "проведение свадьбы        183   2313      7.91%"
      ]
     },
     "execution_count": 35,
     "metadata": {},
     "output_type": "execute_result"
    }
   ],
   "source": [
    "purpose_debt = df.pivot_table(index=['purpose_category'], values=[\"debt\"], aggfunc=['sum', 'count', percentage])\n",
    "purpose_debt"
   ]
  },
  {
   "cell_type": "markdown",
   "id": "7e7719a8",
   "metadata": {},
   "source": [
    "##### Вывод 4:"
   ]
  },
  {
   "cell_type": "markdown",
   "id": "ec46754f",
   "metadata": {},
   "source": [
    "Покупка недвижимости в кредит для большинства людей - серъезное, взвешенное решение, как результат - самый низкий процент просрочки. Свадьба - начало семейной жизни, осмысленное решение для обоих, что подразумевает дисциплину, итог - второе место по качеству кредитного портфеля. Образование и автомобиль в кредит - это, как правило, признак невысоких доходов, логично, что просрочка самая высокая."
   ]
  },
  {
   "cell_type": "markdown",
   "id": "0dcb5f12",
   "metadata": {},
   "source": [
    "## Общий вывод:"
   ]
  },
  {
   "cell_type": "markdown",
   "id": "320e9a13",
   "metadata": {},
   "source": [
    "Низкие доходы и высокие расходы (колличество детей) приводят к более высокой просрочке. Семейный статус влияет на дисциплину оплаты кредита. Недвижимость - самая \"безопасная\" цель для банков при выдаче кредита. Идеальный заемщик - человек без детей, состоящий/состоявший в официальных отношениях с доходами выше среднего и берущий кредит на недвижимость."
   ]
  }
 ],
 "metadata": {
  "ExecuteTimeLog": [
   {
    "duration": 112,
    "start_time": "2022-04-23T16:46:27.067Z"
   },
   {
    "duration": 158,
    "start_time": "2022-04-23T16:47:15.425Z"
   },
   {
    "duration": 163,
    "start_time": "2022-04-23T16:47:23.374Z"
   },
   {
    "duration": 96,
    "start_time": "2022-04-23T17:13:31.345Z"
   },
   {
    "duration": 90,
    "start_time": "2022-04-23T17:13:43.135Z"
   },
   {
    "duration": 117,
    "start_time": "2022-04-23T18:32:39.554Z"
   },
   {
    "duration": 418,
    "start_time": "2022-04-23T20:02:25.253Z"
   },
   {
    "duration": 225,
    "start_time": "2022-04-23T20:02:38.637Z"
   },
   {
    "duration": 237,
    "start_time": "2022-04-23T20:03:14.220Z"
   },
   {
    "duration": 261,
    "start_time": "2022-04-23T20:03:32.092Z"
   },
   {
    "duration": 154,
    "start_time": "2022-04-23T20:03:46.689Z"
   },
   {
    "duration": 246,
    "start_time": "2022-04-23T20:03:56.428Z"
   },
   {
    "duration": 319,
    "start_time": "2022-04-23T20:04:06.168Z"
   },
   {
    "duration": 243,
    "start_time": "2022-04-23T20:04:33.636Z"
   },
   {
    "duration": 134,
    "start_time": "2022-04-23T20:05:05.009Z"
   },
   {
    "duration": 133,
    "start_time": "2022-04-23T20:05:09.617Z"
   },
   {
    "duration": 240,
    "start_time": "2022-04-23T20:13:27.540Z"
   },
   {
    "duration": 158,
    "start_time": "2022-04-23T20:13:35.562Z"
   },
   {
    "duration": 219,
    "start_time": "2022-04-23T20:13:47.165Z"
   },
   {
    "duration": 134,
    "start_time": "2022-04-23T20:13:52.291Z"
   },
   {
    "duration": 169,
    "start_time": "2022-04-23T20:14:07.080Z"
   },
   {
    "duration": 148,
    "start_time": "2022-04-23T20:14:36.396Z"
   },
   {
    "duration": 163,
    "start_time": "2022-04-23T20:14:43.492Z"
   },
   {
    "duration": 163,
    "start_time": "2022-04-23T20:14:50.884Z"
   },
   {
    "duration": 170,
    "start_time": "2022-04-23T20:18:30.651Z"
   },
   {
    "duration": 154,
    "start_time": "2022-04-23T20:32:00.534Z"
   },
   {
    "duration": 154,
    "start_time": "2022-04-23T20:32:07.757Z"
   },
   {
    "duration": 143,
    "start_time": "2022-04-23T20:33:20.022Z"
   },
   {
    "duration": 179,
    "start_time": "2022-04-23T20:33:41.554Z"
   },
   {
    "duration": 147,
    "start_time": "2022-04-23T20:35:33.373Z"
   },
   {
    "duration": 154,
    "start_time": "2022-04-23T20:35:50.817Z"
   },
   {
    "duration": 154,
    "start_time": "2022-04-23T20:35:56.242Z"
   },
   {
    "duration": 147,
    "start_time": "2022-04-23T20:38:52.965Z"
   },
   {
    "duration": 154,
    "start_time": "2022-04-23T20:39:05.455Z"
   },
   {
    "duration": 126,
    "start_time": "2022-04-23T20:39:12.372Z"
   },
   {
    "duration": 307,
    "start_time": "2022-04-23T20:39:23.003Z"
   },
   {
    "duration": 182,
    "start_time": "2022-04-23T20:57:52.597Z"
   },
   {
    "duration": 151,
    "start_time": "2022-04-23T21:03:51.539Z"
   },
   {
    "duration": 49,
    "start_time": "2022-04-25T08:24:50.241Z"
   },
   {
    "duration": 456,
    "start_time": "2022-04-25T08:24:57.826Z"
   },
   {
    "duration": 6,
    "start_time": "2022-04-25T08:25:01.549Z"
   },
   {
    "duration": 8,
    "start_time": "2022-04-25T08:31:31.171Z"
   },
   {
    "duration": 8,
    "start_time": "2022-04-25T08:32:06.087Z"
   },
   {
    "duration": 12,
    "start_time": "2022-04-25T08:32:35.899Z"
   },
   {
    "duration": 69,
    "start_time": "2022-04-25T08:36:08.679Z"
   },
   {
    "duration": 70,
    "start_time": "2022-04-25T08:36:35.755Z"
   },
   {
    "duration": 71,
    "start_time": "2022-04-25T08:36:43.795Z"
   },
   {
    "duration": 4,
    "start_time": "2022-04-25T08:37:33.153Z"
   },
   {
    "duration": 7,
    "start_time": "2022-04-25T08:39:01.115Z"
   },
   {
    "duration": 44,
    "start_time": "2022-04-25T09:03:16.006Z"
   },
   {
    "duration": 4,
    "start_time": "2022-04-25T09:03:51.601Z"
   },
   {
    "duration": 14,
    "start_time": "2022-04-25T09:04:30.490Z"
   },
   {
    "duration": 14,
    "start_time": "2022-04-25T09:05:34.518Z"
   },
   {
    "duration": 17,
    "start_time": "2022-04-25T09:08:00.129Z"
   },
   {
    "duration": 101,
    "start_time": "2022-04-25T09:08:17.262Z"
   },
   {
    "duration": 113,
    "start_time": "2022-04-25T09:08:24.183Z"
   },
   {
    "duration": 14,
    "start_time": "2022-04-25T09:08:33.806Z"
   },
   {
    "duration": 15,
    "start_time": "2022-04-25T09:08:45.266Z"
   },
   {
    "duration": 15,
    "start_time": "2022-04-25T09:08:52.926Z"
   },
   {
    "duration": 6,
    "start_time": "2022-04-25T09:33:20.732Z"
   },
   {
    "duration": 8,
    "start_time": "2022-04-25T09:34:39.893Z"
   },
   {
    "duration": 5,
    "start_time": "2022-04-25T09:34:45.716Z"
   },
   {
    "duration": 6,
    "start_time": "2022-04-25T09:34:54.544Z"
   },
   {
    "duration": 6,
    "start_time": "2022-04-25T09:35:05.155Z"
   },
   {
    "duration": 74,
    "start_time": "2022-04-25T11:01:35.627Z"
   },
   {
    "duration": 598,
    "start_time": "2022-04-25T11:02:16.268Z"
   },
   {
    "duration": 4,
    "start_time": "2022-04-25T11:02:16.869Z"
   },
   {
    "duration": 34,
    "start_time": "2022-04-25T11:02:16.875Z"
   },
   {
    "duration": 53,
    "start_time": "2022-04-25T11:02:16.912Z"
   },
   {
    "duration": 43,
    "start_time": "2022-04-25T11:02:16.968Z"
   },
   {
    "duration": 39,
    "start_time": "2022-04-25T11:04:27.532Z"
   },
   {
    "duration": 34,
    "start_time": "2022-04-25T11:04:45.582Z"
   },
   {
    "duration": 37,
    "start_time": "2022-04-25T11:05:10.741Z"
   },
   {
    "duration": 21,
    "start_time": "2022-04-25T11:05:28.569Z"
   },
   {
    "duration": 21,
    "start_time": "2022-04-25T11:05:35.818Z"
   },
   {
    "duration": 26,
    "start_time": "2022-04-25T11:05:49.040Z"
   },
   {
    "duration": 13,
    "start_time": "2022-04-25T11:34:32.382Z"
   },
   {
    "duration": 27,
    "start_time": "2022-04-25T11:34:48.900Z"
   },
   {
    "duration": 29,
    "start_time": "2022-04-25T11:35:06.581Z"
   },
   {
    "duration": 21,
    "start_time": "2022-04-25T11:35:11.144Z"
   },
   {
    "duration": 21,
    "start_time": "2022-04-25T11:35:24.929Z"
   },
   {
    "duration": 21,
    "start_time": "2022-04-25T11:35:28.946Z"
   },
   {
    "duration": 107,
    "start_time": "2022-04-25T11:35:48.487Z"
   },
   {
    "duration": 23,
    "start_time": "2022-04-25T11:35:54.347Z"
   },
   {
    "duration": 30,
    "start_time": "2022-04-25T11:36:01.522Z"
   },
   {
    "duration": 10,
    "start_time": "2022-04-25T11:36:27.678Z"
   },
   {
    "duration": 30,
    "start_time": "2022-04-25T11:36:31.368Z"
   },
   {
    "duration": 36,
    "start_time": "2022-04-25T11:37:15.963Z"
   },
   {
    "duration": 28,
    "start_time": "2022-04-25T11:37:19.774Z"
   },
   {
    "duration": 25,
    "start_time": "2022-04-25T11:37:48.688Z"
   },
   {
    "duration": 29,
    "start_time": "2022-04-25T11:38:09.572Z"
   },
   {
    "duration": 23,
    "start_time": "2022-04-25T11:41:18.405Z"
   },
   {
    "duration": 22,
    "start_time": "2022-04-25T11:41:39.817Z"
   },
   {
    "duration": 14,
    "start_time": "2022-04-25T11:41:46.670Z"
   },
   {
    "duration": 117,
    "start_time": "2022-04-25T11:42:13.125Z"
   },
   {
    "duration": 15,
    "start_time": "2022-04-25T11:45:28.778Z"
   },
   {
    "duration": 23,
    "start_time": "2022-04-25T11:45:39.073Z"
   },
   {
    "duration": 18,
    "start_time": "2022-04-25T11:46:32.465Z"
   },
   {
    "duration": 13,
    "start_time": "2022-04-25T11:46:49.928Z"
   },
   {
    "duration": 320,
    "start_time": "2022-04-25T11:47:10.500Z"
   },
   {
    "duration": 5,
    "start_time": "2022-04-25T11:47:10.822Z"
   },
   {
    "duration": 10,
    "start_time": "2022-04-25T11:47:10.829Z"
   },
   {
    "duration": 15,
    "start_time": "2022-04-25T11:47:10.842Z"
   },
   {
    "duration": 32,
    "start_time": "2022-04-25T11:47:10.860Z"
   },
   {
    "duration": 21,
    "start_time": "2022-04-25T11:47:10.895Z"
   },
   {
    "duration": 51,
    "start_time": "2022-04-25T11:47:10.918Z"
   },
   {
    "duration": 19,
    "start_time": "2022-04-25T11:47:17.486Z"
   },
   {
    "duration": 101,
    "start_time": "2022-04-25T11:47:34.505Z"
   },
   {
    "duration": 5,
    "start_time": "2022-04-25T11:47:34.610Z"
   },
   {
    "duration": 34,
    "start_time": "2022-04-25T11:47:34.618Z"
   },
   {
    "duration": 10,
    "start_time": "2022-04-25T11:47:34.655Z"
   },
   {
    "duration": 24,
    "start_time": "2022-04-25T11:47:34.668Z"
   },
   {
    "duration": 24,
    "start_time": "2022-04-25T11:47:34.694Z"
   },
   {
    "duration": 24,
    "start_time": "2022-04-25T11:47:41.217Z"
   },
   {
    "duration": 27,
    "start_time": "2022-04-25T11:48:18.517Z"
   },
   {
    "duration": 24,
    "start_time": "2022-04-25T11:48:25.199Z"
   },
   {
    "duration": 18,
    "start_time": "2022-04-25T11:48:44.472Z"
   },
   {
    "duration": 19,
    "start_time": "2022-04-25T11:48:49.298Z"
   },
   {
    "duration": 107,
    "start_time": "2022-04-25T11:48:54.634Z"
   },
   {
    "duration": 5,
    "start_time": "2022-04-25T11:48:54.744Z"
   },
   {
    "duration": 14,
    "start_time": "2022-04-25T11:48:54.759Z"
   },
   {
    "duration": 7,
    "start_time": "2022-04-25T11:48:54.776Z"
   },
   {
    "duration": 25,
    "start_time": "2022-04-25T11:48:54.785Z"
   },
   {
    "duration": 45,
    "start_time": "2022-04-25T11:48:54.812Z"
   },
   {
    "duration": 20,
    "start_time": "2022-04-25T11:48:54.860Z"
   },
   {
    "duration": 4,
    "start_time": "2022-04-25T11:50:34.978Z"
   },
   {
    "duration": 22,
    "start_time": "2022-04-25T11:50:46.804Z"
   },
   {
    "duration": 5,
    "start_time": "2022-04-25T11:51:25.097Z"
   },
   {
    "duration": 113,
    "start_time": "2022-04-25T11:51:53.177Z"
   },
   {
    "duration": 18,
    "start_time": "2022-04-25T11:52:23.620Z"
   },
   {
    "duration": 107,
    "start_time": "2022-04-25T11:52:38.634Z"
   },
   {
    "duration": 10,
    "start_time": "2022-04-25T11:52:38.752Z"
   },
   {
    "duration": 31,
    "start_time": "2022-04-25T11:52:38.763Z"
   },
   {
    "duration": 7,
    "start_time": "2022-04-25T11:52:38.797Z"
   },
   {
    "duration": 23,
    "start_time": "2022-04-25T11:52:38.806Z"
   },
   {
    "duration": 56,
    "start_time": "2022-04-25T11:52:38.831Z"
   },
   {
    "duration": 25,
    "start_time": "2022-04-25T11:52:38.889Z"
   },
   {
    "duration": 14,
    "start_time": "2022-04-25T11:53:23.173Z"
   },
   {
    "duration": 28,
    "start_time": "2022-04-25T11:53:42.813Z"
   },
   {
    "duration": 147,
    "start_time": "2022-04-25T11:53:47.740Z"
   },
   {
    "duration": 4,
    "start_time": "2022-04-25T11:53:47.890Z"
   },
   {
    "duration": 12,
    "start_time": "2022-04-25T11:53:47.896Z"
   },
   {
    "duration": 8,
    "start_time": "2022-04-25T11:53:47.912Z"
   },
   {
    "duration": 61,
    "start_time": "2022-04-25T11:53:47.923Z"
   },
   {
    "duration": 21,
    "start_time": "2022-04-25T11:53:47.987Z"
   },
   {
    "duration": 46,
    "start_time": "2022-04-25T11:53:48.010Z"
   },
   {
    "duration": 29,
    "start_time": "2022-04-25T11:56:12.620Z"
   },
   {
    "duration": 21,
    "start_time": "2022-04-25T12:04:17.316Z"
   },
   {
    "duration": 35,
    "start_time": "2022-04-25T12:04:25.632Z"
   },
   {
    "duration": 87,
    "start_time": "2022-04-25T12:23:03.966Z"
   },
   {
    "duration": 5,
    "start_time": "2022-04-25T12:23:36.724Z"
   },
   {
    "duration": 16,
    "start_time": "2022-04-25T12:24:15.093Z"
   },
   {
    "duration": 97,
    "start_time": "2022-04-25T12:24:20.929Z"
   },
   {
    "duration": 4,
    "start_time": "2022-04-25T12:24:21.028Z"
   },
   {
    "duration": 28,
    "start_time": "2022-04-25T12:24:21.035Z"
   },
   {
    "duration": 15,
    "start_time": "2022-04-25T12:24:21.066Z"
   },
   {
    "duration": 23,
    "start_time": "2022-04-25T12:24:21.084Z"
   },
   {
    "duration": 47,
    "start_time": "2022-04-25T12:24:21.110Z"
   },
   {
    "duration": 27,
    "start_time": "2022-04-25T12:24:21.160Z"
   },
   {
    "duration": 103,
    "start_time": "2022-04-25T12:24:34.385Z"
   },
   {
    "duration": 4,
    "start_time": "2022-04-25T12:24:34.490Z"
   },
   {
    "duration": 10,
    "start_time": "2022-04-25T12:24:34.496Z"
   },
   {
    "duration": 7,
    "start_time": "2022-04-25T12:24:34.508Z"
   },
   {
    "duration": 55,
    "start_time": "2022-04-25T12:24:34.518Z"
   },
   {
    "duration": 21,
    "start_time": "2022-04-25T12:24:34.575Z"
   },
   {
    "duration": 28,
    "start_time": "2022-04-25T12:25:30.557Z"
   },
   {
    "duration": 5,
    "start_time": "2022-04-25T12:25:50.743Z"
   },
   {
    "duration": 31,
    "start_time": "2022-04-25T12:26:08.578Z"
   },
   {
    "duration": 12,
    "start_time": "2022-04-25T12:26:39.905Z"
   },
   {
    "duration": 29,
    "start_time": "2022-04-25T12:26:47.951Z"
   },
   {
    "duration": 94,
    "start_time": "2022-04-25T12:26:53.529Z"
   },
   {
    "duration": 4,
    "start_time": "2022-04-25T12:26:53.625Z"
   },
   {
    "duration": 23,
    "start_time": "2022-04-25T12:26:53.631Z"
   },
   {
    "duration": 10,
    "start_time": "2022-04-25T12:26:53.660Z"
   },
   {
    "duration": 20,
    "start_time": "2022-04-25T12:26:53.673Z"
   },
   {
    "duration": 21,
    "start_time": "2022-04-25T12:26:53.695Z"
   },
   {
    "duration": 57,
    "start_time": "2022-04-25T12:26:53.718Z"
   },
   {
    "duration": 27,
    "start_time": "2022-04-25T12:27:36.023Z"
   },
   {
    "duration": 94,
    "start_time": "2022-04-25T12:27:39.162Z"
   },
   {
    "duration": 5,
    "start_time": "2022-04-25T12:27:39.265Z"
   },
   {
    "duration": 14,
    "start_time": "2022-04-25T12:27:39.272Z"
   },
   {
    "duration": 36,
    "start_time": "2022-04-25T12:27:39.288Z"
   },
   {
    "duration": 60,
    "start_time": "2022-04-25T12:27:39.326Z"
   },
   {
    "duration": 40,
    "start_time": "2022-04-25T12:27:39.388Z"
   },
   {
    "duration": 35,
    "start_time": "2022-04-25T12:27:39.430Z"
   },
   {
    "duration": 102,
    "start_time": "2022-04-25T12:39:17.581Z"
   },
   {
    "duration": 4,
    "start_time": "2022-04-25T12:39:17.686Z"
   },
   {
    "duration": 21,
    "start_time": "2022-04-25T12:39:17.691Z"
   },
   {
    "duration": 23,
    "start_time": "2022-04-25T12:39:17.715Z"
   },
   {
    "duration": 54,
    "start_time": "2022-04-25T12:39:17.740Z"
   },
   {
    "duration": 34,
    "start_time": "2022-04-25T12:39:17.796Z"
   },
   {
    "duration": 26,
    "start_time": "2022-04-25T12:40:02.865Z"
   },
   {
    "duration": 105,
    "start_time": "2022-04-25T12:40:06.187Z"
   },
   {
    "duration": 5,
    "start_time": "2022-04-25T12:40:06.295Z"
   },
   {
    "duration": 11,
    "start_time": "2022-04-25T12:40:06.302Z"
   },
   {
    "duration": 7,
    "start_time": "2022-04-25T12:40:06.317Z"
   },
   {
    "duration": 49,
    "start_time": "2022-04-25T12:40:06.326Z"
   },
   {
    "duration": 28,
    "start_time": "2022-04-25T12:40:06.377Z"
   },
   {
    "duration": 51,
    "start_time": "2022-04-25T12:40:06.408Z"
   },
   {
    "duration": 25,
    "start_time": "2022-04-25T12:40:39.006Z"
   },
   {
    "duration": 24,
    "start_time": "2022-04-25T12:41:51.384Z"
   },
   {
    "duration": 7,
    "start_time": "2022-04-25T12:50:36.015Z"
   },
   {
    "duration": 13,
    "start_time": "2022-04-25T12:52:20.228Z"
   },
   {
    "duration": 9,
    "start_time": "2022-04-25T12:52:53.076Z"
   },
   {
    "duration": 14,
    "start_time": "2022-04-25T12:53:04.968Z"
   },
   {
    "duration": 10,
    "start_time": "2022-04-25T12:53:15.741Z"
   },
   {
    "duration": 13,
    "start_time": "2022-04-25T12:53:34.434Z"
   },
   {
    "duration": 117,
    "start_time": "2022-04-26T07:55:43.064Z"
   },
   {
    "duration": 642,
    "start_time": "2022-04-26T07:55:49.910Z"
   },
   {
    "duration": 6,
    "start_time": "2022-04-26T07:55:50.556Z"
   },
   {
    "duration": 24,
    "start_time": "2022-04-26T07:55:50.565Z"
   },
   {
    "duration": 13,
    "start_time": "2022-04-26T07:55:50.592Z"
   },
   {
    "duration": 100,
    "start_time": "2022-04-26T07:56:17.894Z"
   },
   {
    "duration": 5,
    "start_time": "2022-04-26T07:56:22.386Z"
   },
   {
    "duration": 9,
    "start_time": "2022-04-26T07:56:24.595Z"
   },
   {
    "duration": 14,
    "start_time": "2022-04-26T07:56:26.881Z"
   },
   {
    "duration": 42,
    "start_time": "2022-04-26T07:56:29.472Z"
   },
   {
    "duration": 1712,
    "start_time": "2022-04-26T07:57:24.710Z"
   },
   {
    "duration": 7,
    "start_time": "2022-04-26T08:00:16.426Z"
   },
   {
    "duration": 11,
    "start_time": "2022-04-26T08:08:43.136Z"
   },
   {
    "duration": 12,
    "start_time": "2022-04-26T08:09:12.739Z"
   },
   {
    "duration": 5,
    "start_time": "2022-04-26T08:12:32.256Z"
   },
   {
    "duration": 15,
    "start_time": "2022-04-26T08:13:56.129Z"
   },
   {
    "duration": 6,
    "start_time": "2022-04-26T08:18:05.431Z"
   },
   {
    "duration": 22,
    "start_time": "2022-04-26T08:18:44.696Z"
   },
   {
    "duration": 27,
    "start_time": "2022-04-26T08:19:08.825Z"
   },
   {
    "duration": 22,
    "start_time": "2022-04-26T08:20:16.408Z"
   },
   {
    "duration": 23,
    "start_time": "2022-04-26T08:20:23.209Z"
   },
   {
    "duration": 23,
    "start_time": "2022-04-26T08:20:37.318Z"
   },
   {
    "duration": 101,
    "start_time": "2022-04-26T08:23:52.197Z"
   },
   {
    "duration": 97,
    "start_time": "2022-04-26T08:25:10.174Z"
   },
   {
    "duration": 5,
    "start_time": "2022-04-26T08:25:10.273Z"
   },
   {
    "duration": 20,
    "start_time": "2022-04-26T08:25:10.280Z"
   },
   {
    "duration": 31,
    "start_time": "2022-04-26T08:25:10.303Z"
   },
   {
    "duration": 26,
    "start_time": "2022-04-26T08:25:10.336Z"
   },
   {
    "duration": 14,
    "start_time": "2022-04-26T08:25:10.364Z"
   },
   {
    "duration": 58,
    "start_time": "2022-04-26T08:25:10.380Z"
   },
   {
    "duration": 22,
    "start_time": "2022-04-26T08:25:10.443Z"
   },
   {
    "duration": 23,
    "start_time": "2022-04-26T08:25:33.773Z"
   },
   {
    "duration": 27,
    "start_time": "2022-04-26T08:25:41.987Z"
   },
   {
    "duration": 11,
    "start_time": "2022-04-26T08:28:11.974Z"
   },
   {
    "duration": 8,
    "start_time": "2022-04-26T08:29:41.961Z"
   },
   {
    "duration": 9,
    "start_time": "2022-04-26T08:30:09.452Z"
   },
   {
    "duration": 22,
    "start_time": "2022-04-26T08:46:57.556Z"
   },
   {
    "duration": 24,
    "start_time": "2022-04-26T08:52:57.798Z"
   },
   {
    "duration": 16,
    "start_time": "2022-04-26T08:53:58.261Z"
   },
   {
    "duration": 21,
    "start_time": "2022-04-26T08:54:03.820Z"
   },
   {
    "duration": 122,
    "start_time": "2022-04-26T08:54:12.344Z"
   },
   {
    "duration": 5,
    "start_time": "2022-04-26T08:54:12.470Z"
   },
   {
    "duration": 11,
    "start_time": "2022-04-26T08:54:12.478Z"
   },
   {
    "duration": 40,
    "start_time": "2022-04-26T08:54:12.494Z"
   },
   {
    "duration": 37,
    "start_time": "2022-04-26T08:54:12.537Z"
   },
   {
    "duration": 8,
    "start_time": "2022-04-26T08:54:12.577Z"
   },
   {
    "duration": 67,
    "start_time": "2022-04-26T08:54:12.588Z"
   },
   {
    "duration": 33,
    "start_time": "2022-04-26T08:54:12.658Z"
   },
   {
    "duration": 37,
    "start_time": "2022-04-26T08:54:12.694Z"
   },
   {
    "duration": 12,
    "start_time": "2022-04-26T08:54:12.735Z"
   },
   {
    "duration": 33,
    "start_time": "2022-04-26T08:54:12.750Z"
   },
   {
    "duration": 38,
    "start_time": "2022-04-26T08:54:20.818Z"
   },
   {
    "duration": 141,
    "start_time": "2022-04-26T08:55:03.002Z"
   },
   {
    "duration": 6,
    "start_time": "2022-04-26T08:55:03.146Z"
   },
   {
    "duration": 34,
    "start_time": "2022-04-26T08:55:03.155Z"
   },
   {
    "duration": 19,
    "start_time": "2022-04-26T08:55:03.194Z"
   },
   {
    "duration": 41,
    "start_time": "2022-04-26T08:55:03.224Z"
   },
   {
    "duration": 10,
    "start_time": "2022-04-26T08:55:03.268Z"
   },
   {
    "duration": 68,
    "start_time": "2022-04-26T08:55:03.281Z"
   },
   {
    "duration": 35,
    "start_time": "2022-04-26T08:55:03.353Z"
   },
   {
    "duration": 70,
    "start_time": "2022-04-26T08:55:03.391Z"
   },
   {
    "duration": 12,
    "start_time": "2022-04-26T08:55:03.467Z"
   },
   {
    "duration": 59,
    "start_time": "2022-04-26T08:55:03.482Z"
   },
   {
    "duration": 10,
    "start_time": "2022-04-26T09:06:18.712Z"
   },
   {
    "duration": 7,
    "start_time": "2022-04-26T09:10:19.125Z"
   },
   {
    "duration": 10,
    "start_time": "2022-04-26T09:16:03.143Z"
   },
   {
    "duration": 8,
    "start_time": "2022-04-26T09:17:09.042Z"
   },
   {
    "duration": 12,
    "start_time": "2022-04-26T09:20:40.037Z"
   },
   {
    "duration": 19,
    "start_time": "2022-04-26T09:22:30.007Z"
   },
   {
    "duration": 11,
    "start_time": "2022-04-26T09:27:21.969Z"
   },
   {
    "duration": 16,
    "start_time": "2022-04-26T09:27:34.378Z"
   },
   {
    "duration": 13,
    "start_time": "2022-04-26T09:27:43.999Z"
   },
   {
    "duration": 14,
    "start_time": "2022-04-26T09:27:53.166Z"
   },
   {
    "duration": 96,
    "start_time": "2022-04-26T09:28:00.786Z"
   },
   {
    "duration": 4,
    "start_time": "2022-04-26T09:28:00.885Z"
   },
   {
    "duration": 21,
    "start_time": "2022-04-26T09:28:00.892Z"
   },
   {
    "duration": 16,
    "start_time": "2022-04-26T09:28:00.917Z"
   },
   {
    "duration": 32,
    "start_time": "2022-04-26T09:28:00.936Z"
   },
   {
    "duration": 8,
    "start_time": "2022-04-26T09:28:00.970Z"
   },
   {
    "duration": 46,
    "start_time": "2022-04-26T09:28:00.980Z"
   },
   {
    "duration": 21,
    "start_time": "2022-04-26T09:28:01.028Z"
   },
   {
    "duration": 35,
    "start_time": "2022-04-26T09:28:01.052Z"
   },
   {
    "duration": 8,
    "start_time": "2022-04-26T09:28:01.090Z"
   },
   {
    "duration": 43,
    "start_time": "2022-04-26T09:28:01.100Z"
   },
   {
    "duration": 15,
    "start_time": "2022-04-26T09:28:01.146Z"
   },
   {
    "duration": 11,
    "start_time": "2022-04-26T09:28:01.163Z"
   },
   {
    "duration": 28,
    "start_time": "2022-04-26T09:28:01.176Z"
   },
   {
    "duration": 8,
    "start_time": "2022-04-26T09:28:01.226Z"
   },
   {
    "duration": 36,
    "start_time": "2022-04-26T09:28:01.236Z"
   },
   {
    "duration": 29,
    "start_time": "2022-04-26T09:28:01.274Z"
   },
   {
    "duration": 97,
    "start_time": "2022-04-26T09:28:12.564Z"
   },
   {
    "duration": 4,
    "start_time": "2022-04-26T09:28:12.664Z"
   },
   {
    "duration": 13,
    "start_time": "2022-04-26T09:28:12.670Z"
   },
   {
    "duration": 40,
    "start_time": "2022-04-26T09:28:12.686Z"
   },
   {
    "duration": 25,
    "start_time": "2022-04-26T09:28:12.729Z"
   },
   {
    "duration": 27,
    "start_time": "2022-04-26T09:28:12.756Z"
   },
   {
    "duration": 40,
    "start_time": "2022-04-26T09:28:12.785Z"
   },
   {
    "duration": 44,
    "start_time": "2022-04-26T09:28:12.828Z"
   },
   {
    "duration": 31,
    "start_time": "2022-04-26T09:28:12.875Z"
   },
   {
    "duration": 9,
    "start_time": "2022-04-26T09:28:12.908Z"
   },
   {
    "duration": 24,
    "start_time": "2022-04-26T09:28:12.925Z"
   },
   {
    "duration": 16,
    "start_time": "2022-04-26T09:28:12.951Z"
   },
   {
    "duration": 21,
    "start_time": "2022-04-26T09:28:12.969Z"
   },
   {
    "duration": 31,
    "start_time": "2022-04-26T09:28:12.994Z"
   },
   {
    "duration": 8,
    "start_time": "2022-04-26T09:28:13.027Z"
   },
   {
    "duration": 18,
    "start_time": "2022-04-26T09:28:13.037Z"
   },
   {
    "duration": 26,
    "start_time": "2022-04-26T09:28:13.057Z"
   },
   {
    "duration": 23,
    "start_time": "2022-04-26T09:28:13.086Z"
   },
   {
    "duration": 9,
    "start_time": "2022-04-26T09:34:17.020Z"
   },
   {
    "duration": 8,
    "start_time": "2022-04-26T09:38:12.144Z"
   },
   {
    "duration": 8,
    "start_time": "2022-04-26T09:41:17.906Z"
   },
   {
    "duration": 8,
    "start_time": "2022-04-26T09:41:36.991Z"
   },
   {
    "duration": 8,
    "start_time": "2022-04-26T09:44:15.068Z"
   },
   {
    "duration": 10,
    "start_time": "2022-04-26T09:45:11.787Z"
   },
   {
    "duration": 6,
    "start_time": "2022-04-26T09:52:03.961Z"
   },
   {
    "duration": 15,
    "start_time": "2022-04-26T09:52:33.709Z"
   },
   {
    "duration": 13,
    "start_time": "2022-04-26T09:52:38.149Z"
   },
   {
    "duration": 13,
    "start_time": "2022-04-26T09:52:46.682Z"
   },
   {
    "duration": 10,
    "start_time": "2022-04-26T09:53:02.532Z"
   },
   {
    "duration": 10,
    "start_time": "2022-04-26T09:54:38.284Z"
   },
   {
    "duration": 18,
    "start_time": "2022-04-26T10:07:39.813Z"
   },
   {
    "duration": 17,
    "start_time": "2022-04-26T10:07:42.087Z"
   },
   {
    "duration": 20,
    "start_time": "2022-04-26T10:07:55.788Z"
   },
   {
    "duration": 20,
    "start_time": "2022-04-26T10:08:43.256Z"
   },
   {
    "duration": 14,
    "start_time": "2022-04-26T10:11:43.624Z"
   },
   {
    "duration": 19,
    "start_time": "2022-04-26T10:11:51.521Z"
   },
   {
    "duration": 11,
    "start_time": "2022-04-26T10:11:58.026Z"
   },
   {
    "duration": 14,
    "start_time": "2022-04-26T10:12:22.121Z"
   },
   {
    "duration": 11,
    "start_time": "2022-04-26T10:12:35.589Z"
   },
   {
    "duration": 7,
    "start_time": "2022-04-26T10:12:43.034Z"
   },
   {
    "duration": 32,
    "start_time": "2022-04-26T10:15:33.687Z"
   },
   {
    "duration": 27,
    "start_time": "2022-04-26T10:16:25.494Z"
   },
   {
    "duration": 35,
    "start_time": "2022-04-26T10:18:12.509Z"
   },
   {
    "duration": 27,
    "start_time": "2022-04-26T10:18:21.818Z"
   },
   {
    "duration": 44,
    "start_time": "2022-04-26T10:19:31.134Z"
   },
   {
    "duration": 47,
    "start_time": "2022-04-26T10:19:39.972Z"
   },
   {
    "duration": 14,
    "start_time": "2022-04-26T10:22:49.700Z"
   },
   {
    "duration": 65,
    "start_time": "2022-04-26T10:25:58.787Z"
   },
   {
    "duration": 96,
    "start_time": "2022-04-26T10:31:19.691Z"
   },
   {
    "duration": 107,
    "start_time": "2022-04-26T10:31:34.108Z"
   },
   {
    "duration": 6,
    "start_time": "2022-04-26T10:32:20.875Z"
   },
   {
    "duration": 6,
    "start_time": "2022-04-26T10:33:06.180Z"
   },
   {
    "duration": 5,
    "start_time": "2022-04-26T10:33:12.823Z"
   },
   {
    "duration": 97,
    "start_time": "2022-04-26T10:33:18.218Z"
   },
   {
    "duration": 11,
    "start_time": "2022-04-26T10:33:18.318Z"
   },
   {
    "duration": 6,
    "start_time": "2022-04-26T10:33:30.173Z"
   },
   {
    "duration": 10,
    "start_time": "2022-04-26T10:34:30.776Z"
   },
   {
    "duration": 6,
    "start_time": "2022-04-26T10:35:46.243Z"
   },
   {
    "duration": 105,
    "start_time": "2022-04-26T10:36:28.070Z"
   },
   {
    "duration": 8,
    "start_time": "2022-04-26T10:37:16.869Z"
   },
   {
    "duration": 7,
    "start_time": "2022-04-26T10:37:55.856Z"
   },
   {
    "duration": 15,
    "start_time": "2022-04-26T10:49:49.745Z"
   },
   {
    "duration": 14,
    "start_time": "2022-04-26T10:50:29.311Z"
   },
   {
    "duration": 7,
    "start_time": "2022-04-26T10:51:00.157Z"
   },
   {
    "duration": 124,
    "start_time": "2022-04-26T10:55:16.140Z"
   },
   {
    "duration": 17,
    "start_time": "2022-04-26T10:55:45.194Z"
   },
   {
    "duration": 99,
    "start_time": "2022-04-26T10:58:21.608Z"
   },
   {
    "duration": 4,
    "start_time": "2022-04-26T10:58:21.725Z"
   },
   {
    "duration": 13,
    "start_time": "2022-04-26T10:58:21.731Z"
   },
   {
    "duration": 12,
    "start_time": "2022-04-26T10:58:21.747Z"
   },
   {
    "duration": 72,
    "start_time": "2022-04-26T10:58:21.761Z"
   },
   {
    "duration": 8,
    "start_time": "2022-04-26T10:58:21.836Z"
   },
   {
    "duration": 24,
    "start_time": "2022-04-26T10:58:21.846Z"
   },
   {
    "duration": 53,
    "start_time": "2022-04-26T10:58:21.872Z"
   },
   {
    "duration": 26,
    "start_time": "2022-04-26T10:58:21.927Z"
   },
   {
    "duration": 8,
    "start_time": "2022-04-26T10:58:21.956Z"
   },
   {
    "duration": 21,
    "start_time": "2022-04-26T10:58:21.967Z"
   },
   {
    "duration": 43,
    "start_time": "2022-04-26T10:58:21.990Z"
   },
   {
    "duration": 10,
    "start_time": "2022-04-26T10:58:22.035Z"
   },
   {
    "duration": 14,
    "start_time": "2022-04-26T10:58:22.047Z"
   },
   {
    "duration": 23,
    "start_time": "2022-04-26T10:58:22.063Z"
   },
   {
    "duration": 43,
    "start_time": "2022-04-26T10:58:22.089Z"
   },
   {
    "duration": 23,
    "start_time": "2022-04-26T10:58:22.134Z"
   },
   {
    "duration": 14,
    "start_time": "2022-04-26T10:58:22.160Z"
   },
   {
    "duration": 48,
    "start_time": "2022-04-26T10:58:22.176Z"
   },
   {
    "duration": 8,
    "start_time": "2022-04-26T10:58:22.227Z"
   },
   {
    "duration": 11,
    "start_time": "2022-04-26T10:58:22.237Z"
   },
   {
    "duration": 8,
    "start_time": "2022-04-26T10:58:22.251Z"
   },
   {
    "duration": 22,
    "start_time": "2022-04-26T10:58:22.261Z"
   },
   {
    "duration": 49,
    "start_time": "2022-04-26T10:58:22.286Z"
   },
   {
    "duration": 90,
    "start_time": "2022-04-26T10:58:22.337Z"
   },
   {
    "duration": 5,
    "start_time": "2022-04-26T11:15:11.095Z"
   },
   {
    "duration": 32,
    "start_time": "2022-04-26T11:15:36.265Z"
   },
   {
    "duration": 106,
    "start_time": "2022-04-26T11:15:44.520Z"
   },
   {
    "duration": 3,
    "start_time": "2022-04-26T11:15:44.630Z"
   },
   {
    "duration": 23,
    "start_time": "2022-04-26T11:15:44.636Z"
   },
   {
    "duration": 11,
    "start_time": "2022-04-26T11:15:44.663Z"
   },
   {
    "duration": 22,
    "start_time": "2022-04-26T11:15:44.677Z"
   },
   {
    "duration": 10,
    "start_time": "2022-04-26T11:15:44.731Z"
   },
   {
    "duration": 25,
    "start_time": "2022-04-26T11:15:44.744Z"
   },
   {
    "duration": 21,
    "start_time": "2022-04-26T11:15:44.772Z"
   },
   {
    "duration": 62,
    "start_time": "2022-04-26T11:15:44.795Z"
   },
   {
    "duration": 105,
    "start_time": "2022-04-26T11:15:59.880Z"
   },
   {
    "duration": 4,
    "start_time": "2022-04-26T11:15:59.988Z"
   },
   {
    "duration": 31,
    "start_time": "2022-04-26T11:15:59.995Z"
   },
   {
    "duration": 25,
    "start_time": "2022-04-26T11:16:00.030Z"
   },
   {
    "duration": 33,
    "start_time": "2022-04-26T11:16:00.057Z"
   },
   {
    "duration": 13,
    "start_time": "2022-04-26T11:16:00.092Z"
   },
   {
    "duration": 42,
    "start_time": "2022-04-26T11:16:00.107Z"
   },
   {
    "duration": 48,
    "start_time": "2022-04-26T11:16:00.151Z"
   },
   {
    "duration": 61,
    "start_time": "2022-04-26T11:16:00.201Z"
   },
   {
    "duration": 9,
    "start_time": "2022-04-26T11:16:00.266Z"
   },
   {
    "duration": 50,
    "start_time": "2022-04-26T11:16:00.278Z"
   },
   {
    "duration": 29,
    "start_time": "2022-04-26T11:16:00.332Z"
   },
   {
    "duration": 20,
    "start_time": "2022-04-26T11:16:00.363Z"
   },
   {
    "duration": 24,
    "start_time": "2022-04-26T11:16:00.386Z"
   },
   {
    "duration": 33,
    "start_time": "2022-04-26T11:16:00.412Z"
   },
   {
    "duration": 21,
    "start_time": "2022-04-26T11:16:00.447Z"
   },
   {
    "duration": 35,
    "start_time": "2022-04-26T11:16:00.470Z"
   },
   {
    "duration": 30,
    "start_time": "2022-04-26T11:16:00.508Z"
   },
   {
    "duration": 37,
    "start_time": "2022-04-26T11:16:00.541Z"
   },
   {
    "duration": 20,
    "start_time": "2022-04-26T11:16:00.580Z"
   },
   {
    "duration": 15,
    "start_time": "2022-04-26T11:16:00.602Z"
   },
   {
    "duration": 30,
    "start_time": "2022-04-26T11:16:00.620Z"
   },
   {
    "duration": 25,
    "start_time": "2022-04-26T11:16:00.652Z"
   },
   {
    "duration": 22,
    "start_time": "2022-04-26T11:16:00.680Z"
   },
   {
    "duration": 82,
    "start_time": "2022-04-26T11:16:00.704Z"
   },
   {
    "duration": 39,
    "start_time": "2022-04-26T11:16:42.002Z"
   },
   {
    "duration": 77,
    "start_time": "2022-04-26T11:16:48.177Z"
   },
   {
    "duration": 28,
    "start_time": "2022-04-26T11:19:31.702Z"
   },
   {
    "duration": 12,
    "start_time": "2022-04-26T11:20:27.127Z"
   },
   {
    "duration": 27,
    "start_time": "2022-04-26T11:20:33.685Z"
   },
   {
    "duration": 72,
    "start_time": "2022-04-26T11:21:54.051Z"
   },
   {
    "duration": 53,
    "start_time": "2022-04-26T11:23:02.366Z"
   },
   {
    "duration": 71,
    "start_time": "2022-04-26T11:23:14.102Z"
   },
   {
    "duration": 70,
    "start_time": "2022-04-26T11:23:21.782Z"
   },
   {
    "duration": 58,
    "start_time": "2022-04-26T11:23:50.822Z"
   },
   {
    "duration": 9,
    "start_time": "2022-04-26T11:38:12.533Z"
   },
   {
    "duration": 10,
    "start_time": "2022-04-26T11:38:21.191Z"
   },
   {
    "duration": 8,
    "start_time": "2022-04-26T11:40:16.293Z"
   },
   {
    "duration": 15,
    "start_time": "2022-04-26T11:50:12.075Z"
   },
   {
    "duration": 18,
    "start_time": "2022-04-26T11:50:31.891Z"
   },
   {
    "duration": 21,
    "start_time": "2022-04-26T11:50:50.861Z"
   },
   {
    "duration": 19,
    "start_time": "2022-04-26T11:51:04.742Z"
   },
   {
    "duration": 16,
    "start_time": "2022-04-26T11:51:13.287Z"
   },
   {
    "duration": 26,
    "start_time": "2022-04-26T11:51:26.516Z"
   },
   {
    "duration": 20,
    "start_time": "2022-04-26T11:57:12.768Z"
   },
   {
    "duration": 7,
    "start_time": "2022-04-26T12:05:19.445Z"
   },
   {
    "duration": 20,
    "start_time": "2022-04-26T12:05:32.959Z"
   },
   {
    "duration": 130,
    "start_time": "2022-04-26T12:05:57.400Z"
   },
   {
    "duration": 4,
    "start_time": "2022-04-26T12:05:57.533Z"
   },
   {
    "duration": 29,
    "start_time": "2022-04-26T12:05:57.539Z"
   },
   {
    "duration": 13,
    "start_time": "2022-04-26T12:05:57.571Z"
   },
   {
    "duration": 46,
    "start_time": "2022-04-26T12:05:57.586Z"
   },
   {
    "duration": 10,
    "start_time": "2022-04-26T12:05:57.634Z"
   },
   {
    "duration": 35,
    "start_time": "2022-04-26T12:05:57.646Z"
   },
   {
    "duration": 24,
    "start_time": "2022-04-26T12:05:57.683Z"
   },
   {
    "duration": 50,
    "start_time": "2022-04-26T12:05:57.709Z"
   },
   {
    "duration": 9,
    "start_time": "2022-04-26T12:05:57.763Z"
   },
   {
    "duration": 82,
    "start_time": "2022-04-26T12:05:57.774Z"
   },
   {
    "duration": 10,
    "start_time": "2022-04-26T12:05:57.859Z"
   },
   {
    "duration": 12,
    "start_time": "2022-04-26T12:05:57.871Z"
   },
   {
    "duration": 12,
    "start_time": "2022-04-26T12:05:57.885Z"
   },
   {
    "duration": 38,
    "start_time": "2022-04-26T12:05:57.899Z"
   },
   {
    "duration": 30,
    "start_time": "2022-04-26T12:05:57.942Z"
   },
   {
    "duration": 22,
    "start_time": "2022-04-26T12:05:57.974Z"
   },
   {
    "duration": 13,
    "start_time": "2022-04-26T12:05:57.999Z"
   },
   {
    "duration": 17,
    "start_time": "2022-04-26T12:05:58.034Z"
   },
   {
    "duration": 18,
    "start_time": "2022-04-26T12:05:58.055Z"
   },
   {
    "duration": 13,
    "start_time": "2022-04-26T12:05:58.076Z"
   },
   {
    "duration": 13,
    "start_time": "2022-04-26T12:05:58.092Z"
   },
   {
    "duration": 34,
    "start_time": "2022-04-26T12:05:58.123Z"
   },
   {
    "duration": 15,
    "start_time": "2022-04-26T12:05:58.159Z"
   },
   {
    "duration": 87,
    "start_time": "2022-04-26T12:05:58.176Z"
   },
   {
    "duration": 19,
    "start_time": "2022-04-26T12:05:58.265Z"
   },
   {
    "duration": 18,
    "start_time": "2022-04-26T12:05:58.286Z"
   },
   {
    "duration": 22,
    "start_time": "2022-04-26T12:06:10.932Z"
   },
   {
    "duration": 28,
    "start_time": "2022-04-26T12:06:15.120Z"
   },
   {
    "duration": 103,
    "start_time": "2022-04-26T12:06:20.539Z"
   },
   {
    "duration": 4,
    "start_time": "2022-04-26T12:06:20.650Z"
   },
   {
    "duration": 25,
    "start_time": "2022-04-26T12:06:20.662Z"
   },
   {
    "duration": 23,
    "start_time": "2022-04-26T12:06:20.690Z"
   },
   {
    "duration": 53,
    "start_time": "2022-04-26T12:06:20.715Z"
   },
   {
    "duration": 20,
    "start_time": "2022-04-26T12:06:20.770Z"
   },
   {
    "duration": 25,
    "start_time": "2022-04-26T12:06:20.792Z"
   },
   {
    "duration": 39,
    "start_time": "2022-04-26T12:06:20.820Z"
   },
   {
    "duration": 36,
    "start_time": "2022-04-26T12:06:20.862Z"
   },
   {
    "duration": 10,
    "start_time": "2022-04-26T12:06:20.903Z"
   },
   {
    "duration": 28,
    "start_time": "2022-04-26T12:06:20.929Z"
   },
   {
    "duration": 38,
    "start_time": "2022-04-26T12:06:20.960Z"
   },
   {
    "duration": 35,
    "start_time": "2022-04-26T12:06:21.001Z"
   },
   {
    "duration": 40,
    "start_time": "2022-04-26T12:06:21.039Z"
   },
   {
    "duration": 25,
    "start_time": "2022-04-26T12:06:21.082Z"
   },
   {
    "duration": 51,
    "start_time": "2022-04-26T12:06:21.109Z"
   },
   {
    "duration": 42,
    "start_time": "2022-04-26T12:06:21.162Z"
   },
   {
    "duration": 41,
    "start_time": "2022-04-26T12:06:21.206Z"
   },
   {
    "duration": 41,
    "start_time": "2022-04-26T12:06:21.249Z"
   },
   {
    "duration": 29,
    "start_time": "2022-04-26T12:06:21.292Z"
   },
   {
    "duration": 56,
    "start_time": "2022-04-26T12:06:21.324Z"
   },
   {
    "duration": 31,
    "start_time": "2022-04-26T12:06:21.382Z"
   },
   {
    "duration": 60,
    "start_time": "2022-04-26T12:06:21.415Z"
   },
   {
    "duration": 40,
    "start_time": "2022-04-26T12:06:21.477Z"
   },
   {
    "duration": 101,
    "start_time": "2022-04-26T12:06:21.519Z"
   },
   {
    "duration": 23,
    "start_time": "2022-04-26T12:06:21.622Z"
   },
   {
    "duration": 41,
    "start_time": "2022-04-26T12:06:21.650Z"
   },
   {
    "duration": 19,
    "start_time": "2022-04-26T12:07:14.491Z"
   },
   {
    "duration": 25,
    "start_time": "2022-04-26T12:07:17.225Z"
   },
   {
    "duration": 133,
    "start_time": "2022-04-26T12:07:23.546Z"
   },
   {
    "duration": 4,
    "start_time": "2022-04-26T12:07:23.683Z"
   },
   {
    "duration": 14,
    "start_time": "2022-04-26T12:07:23.688Z"
   },
   {
    "duration": 31,
    "start_time": "2022-04-26T12:07:23.704Z"
   },
   {
    "duration": 41,
    "start_time": "2022-04-26T12:07:23.742Z"
   },
   {
    "duration": 9,
    "start_time": "2022-04-26T12:07:23.785Z"
   },
   {
    "duration": 45,
    "start_time": "2022-04-26T12:07:23.796Z"
   },
   {
    "duration": 38,
    "start_time": "2022-04-26T12:07:23.843Z"
   },
   {
    "duration": 50,
    "start_time": "2022-04-26T12:07:23.883Z"
   },
   {
    "duration": 12,
    "start_time": "2022-04-26T12:07:23.936Z"
   },
   {
    "duration": 39,
    "start_time": "2022-04-26T12:07:23.950Z"
   },
   {
    "duration": 67,
    "start_time": "2022-04-26T12:07:23.992Z"
   },
   {
    "duration": 35,
    "start_time": "2022-04-26T12:07:24.062Z"
   },
   {
    "duration": 74,
    "start_time": "2022-04-26T12:07:24.103Z"
   },
   {
    "duration": 21,
    "start_time": "2022-04-26T12:07:24.180Z"
   },
   {
    "duration": 34,
    "start_time": "2022-04-26T12:07:24.204Z"
   },
   {
    "duration": 41,
    "start_time": "2022-04-26T12:07:24.240Z"
   },
   {
    "duration": 29,
    "start_time": "2022-04-26T12:07:24.283Z"
   },
   {
    "duration": 48,
    "start_time": "2022-04-26T12:07:24.314Z"
   },
   {
    "duration": 17,
    "start_time": "2022-04-26T12:07:24.364Z"
   },
   {
    "duration": 17,
    "start_time": "2022-04-26T12:07:24.383Z"
   },
   {
    "duration": 14,
    "start_time": "2022-04-26T12:07:24.403Z"
   },
   {
    "duration": 65,
    "start_time": "2022-04-26T12:07:24.419Z"
   },
   {
    "duration": 23,
    "start_time": "2022-04-26T12:07:24.486Z"
   },
   {
    "duration": 63,
    "start_time": "2022-04-26T12:07:24.512Z"
   },
   {
    "duration": 18,
    "start_time": "2022-04-26T12:07:24.578Z"
   },
   {
    "duration": 54,
    "start_time": "2022-04-26T12:07:24.598Z"
   },
   {
    "duration": 102,
    "start_time": "2022-04-26T12:09:10.163Z"
   },
   {
    "duration": 138,
    "start_time": "2022-04-26T12:09:13.449Z"
   },
   {
    "duration": 122,
    "start_time": "2022-04-26T12:10:00.227Z"
   },
   {
    "duration": 2,
    "start_time": "2022-04-26T12:10:00.353Z"
   },
   {
    "duration": 30,
    "start_time": "2022-04-26T12:10:00.358Z"
   },
   {
    "duration": 21,
    "start_time": "2022-04-26T12:10:00.391Z"
   },
   {
    "duration": 47,
    "start_time": "2022-04-26T12:10:00.414Z"
   },
   {
    "duration": 36,
    "start_time": "2022-04-26T12:10:00.463Z"
   },
   {
    "duration": 52,
    "start_time": "2022-04-26T12:10:00.501Z"
   },
   {
    "duration": 38,
    "start_time": "2022-04-26T12:10:00.556Z"
   },
   {
    "duration": 59,
    "start_time": "2022-04-26T12:10:00.596Z"
   },
   {
    "duration": 35,
    "start_time": "2022-04-26T12:10:00.660Z"
   },
   {
    "duration": 24,
    "start_time": "2022-04-26T12:10:00.698Z"
   },
   {
    "duration": 39,
    "start_time": "2022-04-26T12:10:00.732Z"
   },
   {
    "duration": 21,
    "start_time": "2022-04-26T12:10:00.773Z"
   },
   {
    "duration": 13,
    "start_time": "2022-04-26T12:10:00.797Z"
   },
   {
    "duration": 26,
    "start_time": "2022-04-26T12:10:00.813Z"
   },
   {
    "duration": 32,
    "start_time": "2022-04-26T12:10:00.842Z"
   },
   {
    "duration": 23,
    "start_time": "2022-04-26T12:10:00.877Z"
   },
   {
    "duration": 16,
    "start_time": "2022-04-26T12:10:00.903Z"
   },
   {
    "duration": 42,
    "start_time": "2022-04-26T12:10:00.922Z"
   },
   {
    "duration": 24,
    "start_time": "2022-04-26T12:10:00.966Z"
   },
   {
    "duration": 39,
    "start_time": "2022-04-26T12:10:00.992Z"
   },
   {
    "duration": 41,
    "start_time": "2022-04-26T12:10:01.034Z"
   },
   {
    "duration": 25,
    "start_time": "2022-04-26T12:10:01.078Z"
   },
   {
    "duration": 56,
    "start_time": "2022-04-26T12:10:01.105Z"
   },
   {
    "duration": 55,
    "start_time": "2022-04-26T12:10:01.163Z"
   },
   {
    "duration": 25,
    "start_time": "2022-04-26T12:10:01.220Z"
   },
   {
    "duration": 36,
    "start_time": "2022-04-26T12:10:01.252Z"
   },
   {
    "duration": 19,
    "start_time": "2022-04-26T12:10:10.454Z"
   },
   {
    "duration": 28,
    "start_time": "2022-04-26T12:11:27.810Z"
   },
   {
    "duration": 16,
    "start_time": "2022-04-26T12:11:38.452Z"
   },
   {
    "duration": 122,
    "start_time": "2022-04-26T12:11:57.409Z"
   },
   {
    "duration": 7,
    "start_time": "2022-04-26T12:11:57.534Z"
   },
   {
    "duration": 20,
    "start_time": "2022-04-26T12:11:57.548Z"
   },
   {
    "duration": 12,
    "start_time": "2022-04-26T12:11:57.571Z"
   },
   {
    "duration": 52,
    "start_time": "2022-04-26T12:11:57.586Z"
   },
   {
    "duration": 15,
    "start_time": "2022-04-26T12:11:57.641Z"
   },
   {
    "duration": 28,
    "start_time": "2022-04-26T12:11:57.660Z"
   },
   {
    "duration": 46,
    "start_time": "2022-04-26T12:11:57.691Z"
   },
   {
    "duration": 51,
    "start_time": "2022-04-26T12:11:57.740Z"
   },
   {
    "duration": 8,
    "start_time": "2022-04-26T12:11:57.795Z"
   },
   {
    "duration": 27,
    "start_time": "2022-04-26T12:11:57.806Z"
   },
   {
    "duration": 34,
    "start_time": "2022-04-26T12:11:57.835Z"
   },
   {
    "duration": 12,
    "start_time": "2022-04-26T12:11:57.872Z"
   },
   {
    "duration": 11,
    "start_time": "2022-04-26T12:11:57.887Z"
   },
   {
    "duration": 11,
    "start_time": "2022-04-26T12:11:57.900Z"
   },
   {
    "duration": 25,
    "start_time": "2022-04-26T12:11:57.913Z"
   },
   {
    "duration": 34,
    "start_time": "2022-04-26T12:11:57.944Z"
   },
   {
    "duration": 22,
    "start_time": "2022-04-26T12:11:57.980Z"
   },
   {
    "duration": 19,
    "start_time": "2022-04-26T12:11:58.004Z"
   },
   {
    "duration": 32,
    "start_time": "2022-04-26T12:11:58.033Z"
   },
   {
    "duration": 19,
    "start_time": "2022-04-26T12:11:58.067Z"
   },
   {
    "duration": 11,
    "start_time": "2022-04-26T12:11:58.088Z"
   },
   {
    "duration": 19,
    "start_time": "2022-04-26T12:11:58.101Z"
   },
   {
    "duration": 22,
    "start_time": "2022-04-26T12:11:58.122Z"
   },
   {
    "duration": 63,
    "start_time": "2022-04-26T12:11:58.151Z"
   },
   {
    "duration": 34,
    "start_time": "2022-04-26T12:11:58.217Z"
   },
   {
    "duration": 15,
    "start_time": "2022-04-26T12:11:58.254Z"
   },
   {
    "duration": 20,
    "start_time": "2022-04-26T12:12:03.269Z"
   },
   {
    "duration": 124,
    "start_time": "2022-04-26T13:51:09.681Z"
   },
   {
    "duration": 603,
    "start_time": "2022-04-26T13:52:01.770Z"
   },
   {
    "duration": 4,
    "start_time": "2022-04-26T13:52:02.377Z"
   },
   {
    "duration": 24,
    "start_time": "2022-04-26T13:52:02.384Z"
   },
   {
    "duration": 14,
    "start_time": "2022-04-26T13:52:02.411Z"
   },
   {
    "duration": 45,
    "start_time": "2022-04-26T13:52:02.429Z"
   },
   {
    "duration": 20,
    "start_time": "2022-04-26T13:52:02.476Z"
   },
   {
    "duration": 32,
    "start_time": "2022-04-26T13:52:02.499Z"
   },
   {
    "duration": 31,
    "start_time": "2022-04-26T13:52:02.533Z"
   },
   {
    "duration": 30,
    "start_time": "2022-04-26T13:52:02.566Z"
   },
   {
    "duration": 8,
    "start_time": "2022-04-26T13:52:02.598Z"
   },
   {
    "duration": 52,
    "start_time": "2022-04-26T13:52:02.608Z"
   },
   {
    "duration": 19,
    "start_time": "2022-04-26T13:52:02.662Z"
   },
   {
    "duration": 17,
    "start_time": "2022-04-26T13:52:02.683Z"
   },
   {
    "duration": 14,
    "start_time": "2022-04-26T13:52:02.704Z"
   },
   {
    "duration": 10,
    "start_time": "2022-04-26T13:52:02.721Z"
   },
   {
    "duration": 28,
    "start_time": "2022-04-26T13:52:02.733Z"
   },
   {
    "duration": 21,
    "start_time": "2022-04-26T13:52:02.764Z"
   },
   {
    "duration": 16,
    "start_time": "2022-04-26T13:52:02.788Z"
   },
   {
    "duration": 46,
    "start_time": "2022-04-26T13:52:02.807Z"
   },
   {
    "duration": 8,
    "start_time": "2022-04-26T13:52:02.857Z"
   },
   {
    "duration": 12,
    "start_time": "2022-04-26T13:52:02.868Z"
   },
   {
    "duration": 11,
    "start_time": "2022-04-26T13:52:02.883Z"
   },
   {
    "duration": 60,
    "start_time": "2022-04-26T13:52:02.896Z"
   },
   {
    "duration": 19,
    "start_time": "2022-04-26T13:52:02.958Z"
   },
   {
    "duration": 73,
    "start_time": "2022-04-26T13:52:02.980Z"
   },
   {
    "duration": 19,
    "start_time": "2022-04-26T13:52:03.055Z"
   },
   {
    "duration": 6,
    "start_time": "2022-04-26T13:52:03.077Z"
   },
   {
    "duration": 105,
    "start_time": "2022-04-26T13:52:33.996Z"
   },
   {
    "duration": 17,
    "start_time": "2022-04-26T13:52:49.348Z"
   },
   {
    "duration": 16,
    "start_time": "2022-04-26T13:52:58.157Z"
   },
   {
    "duration": 16,
    "start_time": "2022-04-26T13:53:03.879Z"
   },
   {
    "duration": 99,
    "start_time": "2022-04-26T13:53:21.723Z"
   },
   {
    "duration": 3,
    "start_time": "2022-04-26T13:53:21.825Z"
   },
   {
    "duration": 11,
    "start_time": "2022-04-26T13:53:21.851Z"
   },
   {
    "duration": 25,
    "start_time": "2022-04-26T13:53:21.866Z"
   },
   {
    "duration": 25,
    "start_time": "2022-04-26T13:53:21.893Z"
   },
   {
    "duration": 33,
    "start_time": "2022-04-26T13:53:21.920Z"
   },
   {
    "duration": 28,
    "start_time": "2022-04-26T13:53:21.955Z"
   },
   {
    "duration": 21,
    "start_time": "2022-04-26T13:53:21.986Z"
   },
   {
    "duration": 52,
    "start_time": "2022-04-26T13:53:22.009Z"
   },
   {
    "duration": 16,
    "start_time": "2022-04-26T13:53:22.066Z"
   },
   {
    "duration": 32,
    "start_time": "2022-04-26T13:53:22.084Z"
   },
   {
    "duration": 24,
    "start_time": "2022-04-26T13:53:22.119Z"
   },
   {
    "duration": 14,
    "start_time": "2022-04-26T13:53:22.145Z"
   },
   {
    "duration": 39,
    "start_time": "2022-04-26T13:53:22.161Z"
   },
   {
    "duration": 28,
    "start_time": "2022-04-26T13:53:22.203Z"
   },
   {
    "duration": 23,
    "start_time": "2022-04-26T13:53:22.235Z"
   },
   {
    "duration": 38,
    "start_time": "2022-04-26T13:53:22.260Z"
   },
   {
    "duration": 40,
    "start_time": "2022-04-26T13:53:22.300Z"
   },
   {
    "duration": 28,
    "start_time": "2022-04-26T13:53:22.343Z"
   },
   {
    "duration": 10,
    "start_time": "2022-04-26T13:53:22.373Z"
   },
   {
    "duration": 30,
    "start_time": "2022-04-26T13:53:22.385Z"
   },
   {
    "duration": 35,
    "start_time": "2022-04-26T13:53:22.418Z"
   },
   {
    "duration": 32,
    "start_time": "2022-04-26T13:53:22.455Z"
   },
   {
    "duration": 18,
    "start_time": "2022-04-26T13:53:22.490Z"
   },
   {
    "duration": 73,
    "start_time": "2022-04-26T13:53:22.510Z"
   },
   {
    "duration": 19,
    "start_time": "2022-04-26T13:53:22.586Z"
   },
   {
    "duration": 6,
    "start_time": "2022-04-26T13:53:22.607Z"
   },
   {
    "duration": 103,
    "start_time": "2022-04-26T13:53:40.320Z"
   },
   {
    "duration": 4,
    "start_time": "2022-04-26T13:53:40.425Z"
   },
   {
    "duration": 10,
    "start_time": "2022-04-26T13:53:40.452Z"
   },
   {
    "duration": 13,
    "start_time": "2022-04-26T13:53:40.465Z"
   },
   {
    "duration": 72,
    "start_time": "2022-04-26T13:53:40.481Z"
   },
   {
    "duration": 8,
    "start_time": "2022-04-26T13:53:40.556Z"
   },
   {
    "duration": 36,
    "start_time": "2022-04-26T13:53:40.567Z"
   },
   {
    "duration": 57,
    "start_time": "2022-04-26T13:53:40.607Z"
   },
   {
    "duration": 42,
    "start_time": "2022-04-26T13:53:40.667Z"
   },
   {
    "duration": 9,
    "start_time": "2022-04-26T13:53:40.714Z"
   },
   {
    "duration": 44,
    "start_time": "2022-04-26T13:53:40.725Z"
   },
   {
    "duration": 16,
    "start_time": "2022-04-26T13:53:40.772Z"
   },
   {
    "duration": 19,
    "start_time": "2022-04-26T13:53:40.791Z"
   },
   {
    "duration": 15,
    "start_time": "2022-04-26T13:53:40.813Z"
   },
   {
    "duration": 37,
    "start_time": "2022-04-26T13:53:40.831Z"
   },
   {
    "duration": 19,
    "start_time": "2022-04-26T13:53:40.871Z"
   },
   {
    "duration": 21,
    "start_time": "2022-04-26T13:53:40.892Z"
   },
   {
    "duration": 21,
    "start_time": "2022-04-26T13:53:40.916Z"
   },
   {
    "duration": 14,
    "start_time": "2022-04-26T13:53:40.953Z"
   },
   {
    "duration": 17,
    "start_time": "2022-04-26T13:53:40.969Z"
   },
   {
    "duration": 19,
    "start_time": "2022-04-26T13:53:40.989Z"
   },
   {
    "duration": 16,
    "start_time": "2022-04-26T13:53:41.010Z"
   },
   {
    "duration": 36,
    "start_time": "2022-04-26T13:53:41.029Z"
   },
   {
    "duration": 13,
    "start_time": "2022-04-26T13:53:41.068Z"
   },
   {
    "duration": 78,
    "start_time": "2022-04-26T13:53:41.084Z"
   },
   {
    "duration": 21,
    "start_time": "2022-04-26T13:53:41.165Z"
   },
   {
    "duration": 28,
    "start_time": "2022-04-26T13:53:41.188Z"
   },
   {
    "duration": 14,
    "start_time": "2022-04-26T14:31:26.382Z"
   },
   {
    "duration": 7,
    "start_time": "2022-04-26T14:39:31.778Z"
   },
   {
    "duration": 15,
    "start_time": "2022-04-26T14:41:53.861Z"
   },
   {
    "duration": 34,
    "start_time": "2022-04-26T14:42:38.124Z"
   },
   {
    "duration": 33,
    "start_time": "2022-04-26T14:42:56.397Z"
   },
   {
    "duration": 28,
    "start_time": "2022-04-26T14:43:10.068Z"
   },
   {
    "duration": 33,
    "start_time": "2022-04-26T14:44:59.124Z"
   },
   {
    "duration": 21,
    "start_time": "2022-04-26T14:45:31.674Z"
   },
   {
    "duration": 151,
    "start_time": "2022-04-26T14:46:47.317Z"
   },
   {
    "duration": 4,
    "start_time": "2022-04-26T14:46:47.471Z"
   },
   {
    "duration": 11,
    "start_time": "2022-04-26T14:46:47.478Z"
   },
   {
    "duration": 14,
    "start_time": "2022-04-26T14:46:47.493Z"
   },
   {
    "duration": 72,
    "start_time": "2022-04-26T14:46:47.510Z"
   },
   {
    "duration": 9,
    "start_time": "2022-04-26T14:46:47.584Z"
   },
   {
    "duration": 56,
    "start_time": "2022-04-26T14:46:47.596Z"
   },
   {
    "duration": 30,
    "start_time": "2022-04-26T14:46:47.655Z"
   },
   {
    "duration": 36,
    "start_time": "2022-04-26T14:46:47.688Z"
   },
   {
    "duration": 11,
    "start_time": "2022-04-26T14:46:47.751Z"
   },
   {
    "duration": 28,
    "start_time": "2022-04-26T14:46:47.765Z"
   },
   {
    "duration": 14,
    "start_time": "2022-04-26T14:46:47.796Z"
   },
   {
    "duration": 41,
    "start_time": "2022-04-26T14:46:47.812Z"
   },
   {
    "duration": 15,
    "start_time": "2022-04-26T14:46:47.856Z"
   },
   {
    "duration": 14,
    "start_time": "2022-04-26T14:46:47.874Z"
   },
   {
    "duration": 13,
    "start_time": "2022-04-26T14:46:47.891Z"
   },
   {
    "duration": 59,
    "start_time": "2022-04-26T14:46:47.906Z"
   },
   {
    "duration": 14,
    "start_time": "2022-04-26T14:46:47.967Z"
   },
   {
    "duration": 12,
    "start_time": "2022-04-26T14:46:47.983Z"
   },
   {
    "duration": 10,
    "start_time": "2022-04-26T14:46:47.997Z"
   },
   {
    "duration": 9,
    "start_time": "2022-04-26T14:46:48.009Z"
   },
   {
    "duration": 7,
    "start_time": "2022-04-26T14:46:48.052Z"
   },
   {
    "duration": 18,
    "start_time": "2022-04-26T14:46:48.062Z"
   },
   {
    "duration": 13,
    "start_time": "2022-04-26T14:46:48.083Z"
   },
   {
    "duration": 89,
    "start_time": "2022-04-26T14:46:48.098Z"
   },
   {
    "duration": 19,
    "start_time": "2022-04-26T14:46:48.189Z"
   },
   {
    "duration": 50,
    "start_time": "2022-04-26T14:46:48.212Z"
   },
   {
    "duration": 54,
    "start_time": "2022-04-26T14:46:48.269Z"
   },
   {
    "duration": 35,
    "start_time": "2022-04-26T14:47:00.506Z"
   },
   {
    "duration": 39,
    "start_time": "2022-04-26T14:47:43.442Z"
   },
   {
    "duration": 34,
    "start_time": "2022-04-26T14:47:48.195Z"
   },
   {
    "duration": 32,
    "start_time": "2022-04-26T14:48:02.440Z"
   },
   {
    "duration": 12,
    "start_time": "2022-04-26T15:14:08.002Z"
   },
   {
    "duration": 13,
    "start_time": "2022-04-26T15:16:24.283Z"
   },
   {
    "duration": 152,
    "start_time": "2022-04-26T15:16:32.965Z"
   },
   {
    "duration": 4,
    "start_time": "2022-04-26T15:16:33.120Z"
   },
   {
    "duration": 28,
    "start_time": "2022-04-26T15:16:33.126Z"
   },
   {
    "duration": 21,
    "start_time": "2022-04-26T15:16:33.157Z"
   },
   {
    "duration": 30,
    "start_time": "2022-04-26T15:16:33.180Z"
   },
   {
    "duration": 9,
    "start_time": "2022-04-26T15:16:33.213Z"
   },
   {
    "duration": 39,
    "start_time": "2022-04-26T15:16:33.224Z"
   },
   {
    "duration": 41,
    "start_time": "2022-04-26T15:16:33.265Z"
   },
   {
    "duration": 37,
    "start_time": "2022-04-26T15:16:33.308Z"
   },
   {
    "duration": 16,
    "start_time": "2022-04-26T15:16:33.349Z"
   },
   {
    "duration": 35,
    "start_time": "2022-04-26T15:16:33.368Z"
   },
   {
    "duration": 16,
    "start_time": "2022-04-26T15:16:33.405Z"
   },
   {
    "duration": 21,
    "start_time": "2022-04-26T15:16:33.423Z"
   },
   {
    "duration": 21,
    "start_time": "2022-04-26T15:16:33.446Z"
   },
   {
    "duration": 16,
    "start_time": "2022-04-26T15:16:33.469Z"
   },
   {
    "duration": 14,
    "start_time": "2022-04-26T15:16:33.488Z"
   },
   {
    "duration": 24,
    "start_time": "2022-04-26T15:16:33.504Z"
   },
   {
    "duration": 28,
    "start_time": "2022-04-26T15:16:33.530Z"
   },
   {
    "duration": 10,
    "start_time": "2022-04-26T15:16:33.561Z"
   },
   {
    "duration": 23,
    "start_time": "2022-04-26T15:16:33.573Z"
   },
   {
    "duration": 21,
    "start_time": "2022-04-26T15:16:33.599Z"
   },
   {
    "duration": 16,
    "start_time": "2022-04-26T15:16:33.622Z"
   },
   {
    "duration": 30,
    "start_time": "2022-04-26T15:16:33.640Z"
   },
   {
    "duration": 29,
    "start_time": "2022-04-26T15:16:33.673Z"
   },
   {
    "duration": 67,
    "start_time": "2022-04-26T15:16:33.704Z"
   },
   {
    "duration": 19,
    "start_time": "2022-04-26T15:16:33.773Z"
   },
   {
    "duration": 38,
    "start_time": "2022-04-26T15:16:33.795Z"
   },
   {
    "duration": 30,
    "start_time": "2022-04-26T15:16:33.838Z"
   },
   {
    "duration": 22,
    "start_time": "2022-04-26T15:16:33.870Z"
   },
   {
    "duration": 11,
    "start_time": "2022-04-26T15:16:33.894Z"
   },
   {
    "duration": 3189,
    "start_time": "2022-04-26T15:17:08.578Z"
   },
   {
    "duration": 3672,
    "start_time": "2022-04-26T15:23:41.325Z"
   },
   {
    "duration": 3238,
    "start_time": "2022-04-26T15:24:14.001Z"
   },
   {
    "duration": 80,
    "start_time": "2022-04-26T16:03:36.686Z"
   },
   {
    "duration": 1679,
    "start_time": "2022-04-26T16:04:06.456Z"
   },
   {
    "duration": 924,
    "start_time": "2022-04-26T16:04:14.927Z"
   },
   {
    "duration": 943,
    "start_time": "2022-04-26T16:07:43.489Z"
   },
   {
    "duration": 937,
    "start_time": "2022-04-26T16:07:55.297Z"
   },
   {
    "duration": 3988,
    "start_time": "2022-04-26T16:32:29.506Z"
   },
   {
    "duration": 3510,
    "start_time": "2022-04-26T16:32:55.354Z"
   },
   {
    "duration": 3496,
    "start_time": "2022-04-26T16:37:18.516Z"
   },
   {
    "duration": 1800,
    "start_time": "2022-04-26T16:38:03.116Z"
   },
   {
    "duration": 963,
    "start_time": "2022-04-26T16:38:16.472Z"
   },
   {
    "duration": 614,
    "start_time": "2022-04-27T08:14:12.977Z"
   },
   {
    "duration": 4,
    "start_time": "2022-04-27T08:14:13.595Z"
   },
   {
    "duration": 12,
    "start_time": "2022-04-27T08:14:13.602Z"
   },
   {
    "duration": 13,
    "start_time": "2022-04-27T08:14:13.617Z"
   },
   {
    "duration": 58,
    "start_time": "2022-04-27T08:14:13.635Z"
   },
   {
    "duration": 9,
    "start_time": "2022-04-27T08:14:13.696Z"
   },
   {
    "duration": 29,
    "start_time": "2022-04-27T08:14:13.707Z"
   },
   {
    "duration": 55,
    "start_time": "2022-04-27T08:14:13.739Z"
   },
   {
    "duration": 33,
    "start_time": "2022-04-27T08:14:13.796Z"
   },
   {
    "duration": 8,
    "start_time": "2022-04-27T08:14:13.832Z"
   },
   {
    "duration": 46,
    "start_time": "2022-04-27T08:14:13.842Z"
   },
   {
    "duration": 14,
    "start_time": "2022-04-27T08:14:13.890Z"
   },
   {
    "duration": 11,
    "start_time": "2022-04-27T08:14:13.907Z"
   },
   {
    "duration": 8,
    "start_time": "2022-04-27T08:14:13.923Z"
   },
   {
    "duration": 11,
    "start_time": "2022-04-27T08:14:13.933Z"
   },
   {
    "duration": 40,
    "start_time": "2022-04-27T08:14:13.946Z"
   },
   {
    "duration": 21,
    "start_time": "2022-04-27T08:14:13.989Z"
   },
   {
    "duration": 16,
    "start_time": "2022-04-27T08:14:14.012Z"
   },
   {
    "duration": 11,
    "start_time": "2022-04-27T08:14:14.031Z"
   },
   {
    "duration": 41,
    "start_time": "2022-04-27T08:14:14.044Z"
   },
   {
    "duration": 12,
    "start_time": "2022-04-27T08:14:14.087Z"
   },
   {
    "duration": 19,
    "start_time": "2022-04-27T08:14:14.102Z"
   },
   {
    "duration": 19,
    "start_time": "2022-04-27T08:14:14.123Z"
   },
   {
    "duration": 48,
    "start_time": "2022-04-27T08:14:14.144Z"
   },
   {
    "duration": 55,
    "start_time": "2022-04-27T08:14:14.194Z"
   },
   {
    "duration": 39,
    "start_time": "2022-04-27T08:14:14.251Z"
   },
   {
    "duration": 21,
    "start_time": "2022-04-27T08:14:14.292Z"
   },
   {
    "duration": 21,
    "start_time": "2022-04-27T08:14:14.315Z"
   },
   {
    "duration": 50,
    "start_time": "2022-04-27T08:14:14.338Z"
   },
   {
    "duration": 914,
    "start_time": "2022-04-27T08:14:14.390Z"
   },
   {
    "duration": 930,
    "start_time": "2022-04-27T08:15:02.606Z"
   },
   {
    "duration": 906,
    "start_time": "2022-04-27T08:21:52.354Z"
   },
   {
    "duration": 1358,
    "start_time": "2022-04-27T08:22:41.170Z"
   },
   {
    "duration": 927,
    "start_time": "2022-04-27T08:29:06.589Z"
   },
   {
    "duration": 5496,
    "start_time": "2022-04-27T08:30:45.247Z"
   },
   {
    "duration": 5144,
    "start_time": "2022-04-27T08:31:19.864Z"
   },
   {
    "duration": 5318,
    "start_time": "2022-04-27T08:32:05.251Z"
   },
   {
    "duration": 22,
    "start_time": "2022-04-27T08:32:56.962Z"
   },
   {
    "duration": 124,
    "start_time": "2022-04-27T08:34:15.278Z"
   },
   {
    "duration": 4,
    "start_time": "2022-04-27T08:34:15.405Z"
   },
   {
    "duration": 12,
    "start_time": "2022-04-27T08:34:15.411Z"
   },
   {
    "duration": 57,
    "start_time": "2022-04-27T08:34:15.426Z"
   },
   {
    "duration": 24,
    "start_time": "2022-04-27T08:34:15.485Z"
   },
   {
    "duration": 8,
    "start_time": "2022-04-27T08:34:15.512Z"
   },
   {
    "duration": 61,
    "start_time": "2022-04-27T08:34:15.522Z"
   },
   {
    "duration": 22,
    "start_time": "2022-04-27T08:34:15.586Z"
   },
   {
    "duration": 31,
    "start_time": "2022-04-27T08:34:15.610Z"
   },
   {
    "duration": 42,
    "start_time": "2022-04-27T08:34:15.645Z"
   },
   {
    "duration": 21,
    "start_time": "2022-04-27T08:34:15.690Z"
   },
   {
    "duration": 14,
    "start_time": "2022-04-27T08:34:15.714Z"
   },
   {
    "duration": 10,
    "start_time": "2022-04-27T08:34:15.730Z"
   },
   {
    "duration": 10,
    "start_time": "2022-04-27T08:34:15.782Z"
   },
   {
    "duration": 9,
    "start_time": "2022-04-27T08:34:15.794Z"
   },
   {
    "duration": 13,
    "start_time": "2022-04-27T08:34:15.805Z"
   },
   {
    "duration": 69,
    "start_time": "2022-04-27T08:34:15.820Z"
   },
   {
    "duration": 21,
    "start_time": "2022-04-27T08:34:15.892Z"
   },
   {
    "duration": 14,
    "start_time": "2022-04-27T08:34:15.915Z"
   },
   {
    "duration": 12,
    "start_time": "2022-04-27T08:34:15.932Z"
   },
   {
    "duration": 43,
    "start_time": "2022-04-27T08:34:15.947Z"
   },
   {
    "duration": 14,
    "start_time": "2022-04-27T08:34:15.992Z"
   },
   {
    "duration": 19,
    "start_time": "2022-04-27T08:34:16.009Z"
   },
   {
    "duration": 50,
    "start_time": "2022-04-27T08:34:16.031Z"
   },
   {
    "duration": 57,
    "start_time": "2022-04-27T08:34:16.084Z"
   },
   {
    "duration": 49,
    "start_time": "2022-04-27T08:34:16.143Z"
   },
   {
    "duration": 32,
    "start_time": "2022-04-27T08:34:16.195Z"
   },
   {
    "duration": 58,
    "start_time": "2022-04-27T08:34:16.234Z"
   },
   {
    "duration": 28,
    "start_time": "2022-04-27T08:34:16.295Z"
   },
   {
    "duration": 5360,
    "start_time": "2022-04-27T08:34:16.326Z"
   },
   {
    "duration": 32,
    "start_time": "2022-04-27T08:34:21.689Z"
   },
   {
    "duration": 5357,
    "start_time": "2022-04-27T08:36:10.133Z"
   },
   {
    "duration": 7,
    "start_time": "2022-04-27T08:38:07.927Z"
   },
   {
    "duration": 5337,
    "start_time": "2022-04-27T08:38:14.906Z"
   },
   {
    "duration": 5074,
    "start_time": "2022-04-27T08:38:38.035Z"
   },
   {
    "duration": 4985,
    "start_time": "2022-04-27T08:39:10.555Z"
   },
   {
    "duration": 5289,
    "start_time": "2022-04-27T08:45:02.705Z"
   },
   {
    "duration": 5370,
    "start_time": "2022-04-27T08:46:50.579Z"
   },
   {
    "duration": 5244,
    "start_time": "2022-04-27T08:47:18.221Z"
   },
   {
    "duration": 21,
    "start_time": "2022-04-27T09:38:56.596Z"
   },
   {
    "duration": 27,
    "start_time": "2022-04-27T09:39:12.228Z"
   },
   {
    "duration": 27,
    "start_time": "2022-04-27T09:39:49.612Z"
   },
   {
    "duration": 131,
    "start_time": "2022-04-27T09:41:30.924Z"
   },
   {
    "duration": 10,
    "start_time": "2022-04-27T09:41:52.431Z"
   },
   {
    "duration": 26,
    "start_time": "2022-04-27T09:42:03.075Z"
   },
   {
    "duration": 61,
    "start_time": "2022-04-27T09:44:16.340Z"
   },
   {
    "duration": 55,
    "start_time": "2022-04-27T09:44:28.754Z"
   },
   {
    "duration": 27,
    "start_time": "2022-04-27T09:44:39.113Z"
   },
   {
    "duration": 898,
    "start_time": "2022-04-27T09:49:44.591Z"
   },
   {
    "duration": 43,
    "start_time": "2022-04-27T09:50:12.173Z"
   },
   {
    "duration": 14,
    "start_time": "2022-04-27T10:01:23.959Z"
   },
   {
    "duration": 55,
    "start_time": "2022-04-27T10:01:41.402Z"
   },
   {
    "duration": 107,
    "start_time": "2022-04-27T10:02:44.076Z"
   },
   {
    "duration": 60,
    "start_time": "2022-04-27T10:03:08.101Z"
   },
   {
    "duration": 42,
    "start_time": "2022-04-27T10:03:46.464Z"
   },
   {
    "duration": 41,
    "start_time": "2022-04-27T10:03:54.607Z"
   },
   {
    "duration": 42,
    "start_time": "2022-04-27T10:04:00.925Z"
   },
   {
    "duration": 41,
    "start_time": "2022-04-27T10:13:55.116Z"
   },
   {
    "duration": 93,
    "start_time": "2022-04-27T10:51:55.166Z"
   },
   {
    "duration": 648,
    "start_time": "2022-04-27T10:52:02.598Z"
   },
   {
    "duration": 3,
    "start_time": "2022-04-27T10:52:03.249Z"
   },
   {
    "duration": 37,
    "start_time": "2022-04-27T10:52:03.255Z"
   },
   {
    "duration": 27,
    "start_time": "2022-04-27T10:52:03.294Z"
   },
   {
    "duration": 35,
    "start_time": "2022-04-27T10:52:03.325Z"
   },
   {
    "duration": 25,
    "start_time": "2022-04-27T10:52:03.363Z"
   },
   {
    "duration": 46,
    "start_time": "2022-04-27T10:52:03.391Z"
   },
   {
    "duration": 29,
    "start_time": "2022-04-27T10:52:03.440Z"
   },
   {
    "duration": 32,
    "start_time": "2022-04-27T10:52:03.489Z"
   },
   {
    "duration": 10,
    "start_time": "2022-04-27T10:52:03.524Z"
   },
   {
    "duration": 58,
    "start_time": "2022-04-27T10:52:03.537Z"
   },
   {
    "duration": 21,
    "start_time": "2022-04-27T10:52:03.600Z"
   },
   {
    "duration": 11,
    "start_time": "2022-04-27T10:52:03.624Z"
   },
   {
    "duration": 12,
    "start_time": "2022-04-27T10:52:03.641Z"
   },
   {
    "duration": 34,
    "start_time": "2022-04-27T10:52:03.655Z"
   },
   {
    "duration": 16,
    "start_time": "2022-04-27T10:52:03.692Z"
   },
   {
    "duration": 28,
    "start_time": "2022-04-27T10:52:03.711Z"
   },
   {
    "duration": 50,
    "start_time": "2022-04-27T10:52:03.743Z"
   },
   {
    "duration": 14,
    "start_time": "2022-04-27T10:52:03.796Z"
   },
   {
    "duration": 9,
    "start_time": "2022-04-27T10:52:03.813Z"
   },
   {
    "duration": 19,
    "start_time": "2022-04-27T10:52:03.824Z"
   },
   {
    "duration": 53,
    "start_time": "2022-04-27T10:52:03.846Z"
   },
   {
    "duration": 23,
    "start_time": "2022-04-27T10:52:03.902Z"
   },
   {
    "duration": 33,
    "start_time": "2022-04-27T10:52:03.927Z"
   },
   {
    "duration": 82,
    "start_time": "2022-04-27T10:52:03.963Z"
   },
   {
    "duration": 38,
    "start_time": "2022-04-27T10:52:04.048Z"
   },
   {
    "duration": 30,
    "start_time": "2022-04-27T10:52:04.089Z"
   },
   {
    "duration": 62,
    "start_time": "2022-04-27T10:52:04.122Z"
   },
   {
    "duration": 40,
    "start_time": "2022-04-27T10:52:04.188Z"
   },
   {
    "duration": 6391,
    "start_time": "2022-04-27T10:52:04.231Z"
   },
   {
    "duration": 67,
    "start_time": "2022-04-27T10:52:10.625Z"
   },
   {
    "duration": 80,
    "start_time": "2022-04-27T10:52:58.075Z"
   },
   {
    "duration": 798,
    "start_time": "2022-04-27T10:53:03.301Z"
   },
   {
    "duration": 3,
    "start_time": "2022-04-27T10:53:04.105Z"
   },
   {
    "duration": 29,
    "start_time": "2022-04-27T10:53:04.110Z"
   },
   {
    "duration": 14,
    "start_time": "2022-04-27T10:53:04.145Z"
   },
   {
    "duration": 57,
    "start_time": "2022-04-27T10:53:04.161Z"
   },
   {
    "duration": 12,
    "start_time": "2022-04-27T10:53:04.220Z"
   },
   {
    "duration": 38,
    "start_time": "2022-04-27T10:53:04.234Z"
   },
   {
    "duration": 33,
    "start_time": "2022-04-27T10:53:04.285Z"
   },
   {
    "duration": 43,
    "start_time": "2022-04-27T10:53:04.322Z"
   },
   {
    "duration": 11,
    "start_time": "2022-04-27T10:53:04.383Z"
   },
   {
    "duration": 43,
    "start_time": "2022-04-27T10:53:04.398Z"
   },
   {
    "duration": 14,
    "start_time": "2022-04-27T10:53:04.444Z"
   },
   {
    "duration": 36,
    "start_time": "2022-04-27T10:53:04.461Z"
   },
   {
    "duration": 36,
    "start_time": "2022-04-27T10:53:04.498Z"
   },
   {
    "duration": 11,
    "start_time": "2022-04-27T10:53:04.536Z"
   },
   {
    "duration": 13,
    "start_time": "2022-04-27T10:53:04.549Z"
   },
   {
    "duration": 34,
    "start_time": "2022-04-27T10:53:04.564Z"
   },
   {
    "duration": 17,
    "start_time": "2022-04-27T10:53:04.601Z"
   },
   {
    "duration": 14,
    "start_time": "2022-04-27T10:53:04.621Z"
   },
   {
    "duration": 16,
    "start_time": "2022-04-27T10:53:04.638Z"
   },
   {
    "duration": 43,
    "start_time": "2022-04-27T10:53:04.683Z"
   },
   {
    "duration": 16,
    "start_time": "2022-04-27T10:53:04.729Z"
   },
   {
    "duration": 29,
    "start_time": "2022-04-27T10:53:04.748Z"
   },
   {
    "duration": 30,
    "start_time": "2022-04-27T10:53:04.781Z"
   },
   {
    "duration": 63,
    "start_time": "2022-04-27T10:53:04.814Z"
   },
   {
    "duration": 27,
    "start_time": "2022-04-27T10:53:04.887Z"
   },
   {
    "duration": 31,
    "start_time": "2022-04-27T10:53:04.917Z"
   },
   {
    "duration": 55,
    "start_time": "2022-04-27T10:53:04.954Z"
   },
   {
    "duration": 27,
    "start_time": "2022-04-27T10:53:05.011Z"
   },
   {
    "duration": 5692,
    "start_time": "2022-04-27T10:53:05.041Z"
   },
   {
    "duration": 77,
    "start_time": "2022-04-27T10:53:10.736Z"
   },
   {
    "duration": 107,
    "start_time": "2022-04-27T10:54:08.312Z"
   },
   {
    "duration": 626,
    "start_time": "2022-04-27T10:54:25.850Z"
   },
   {
    "duration": 3,
    "start_time": "2022-04-27T10:54:26.479Z"
   },
   {
    "duration": 29,
    "start_time": "2022-04-27T10:54:26.484Z"
   },
   {
    "duration": 14,
    "start_time": "2022-04-27T10:54:26.516Z"
   },
   {
    "duration": 63,
    "start_time": "2022-04-27T10:54:26.533Z"
   },
   {
    "duration": 9,
    "start_time": "2022-04-27T10:54:26.598Z"
   },
   {
    "duration": 27,
    "start_time": "2022-04-27T10:54:26.610Z"
   },
   {
    "duration": 52,
    "start_time": "2022-04-27T10:54:26.639Z"
   },
   {
    "duration": 41,
    "start_time": "2022-04-27T10:54:26.693Z"
   },
   {
    "duration": 10,
    "start_time": "2022-04-27T10:54:26.739Z"
   },
   {
    "duration": 52,
    "start_time": "2022-04-27T10:54:26.752Z"
   },
   {
    "duration": 14,
    "start_time": "2022-04-27T10:54:26.806Z"
   },
   {
    "duration": 15,
    "start_time": "2022-04-27T10:54:26.822Z"
   },
   {
    "duration": 49,
    "start_time": "2022-04-27T10:54:26.839Z"
   },
   {
    "duration": 19,
    "start_time": "2022-04-27T10:54:26.891Z"
   },
   {
    "duration": 11,
    "start_time": "2022-04-27T10:54:26.912Z"
   },
   {
    "duration": 24,
    "start_time": "2022-04-27T10:54:26.926Z"
   },
   {
    "duration": 35,
    "start_time": "2022-04-27T10:54:26.952Z"
   },
   {
    "duration": 12,
    "start_time": "2022-04-27T10:54:26.990Z"
   },
   {
    "duration": 16,
    "start_time": "2022-04-27T10:54:27.004Z"
   },
   {
    "duration": 20,
    "start_time": "2022-04-27T10:54:27.022Z"
   },
   {
    "duration": 9,
    "start_time": "2022-04-27T10:54:27.045Z"
   },
   {
    "duration": 25,
    "start_time": "2022-04-27T10:54:27.087Z"
   },
   {
    "duration": 14,
    "start_time": "2022-04-27T10:54:27.115Z"
   },
   {
    "duration": 88,
    "start_time": "2022-04-27T10:54:27.132Z"
   },
   {
    "duration": 21,
    "start_time": "2022-04-27T10:54:27.223Z"
   },
   {
    "duration": 58,
    "start_time": "2022-04-27T10:54:27.247Z"
   },
   {
    "duration": 23,
    "start_time": "2022-04-27T10:54:27.312Z"
   },
   {
    "duration": 23,
    "start_time": "2022-04-27T10:54:27.337Z"
   },
   {
    "duration": 5740,
    "start_time": "2022-04-27T10:54:27.390Z"
   },
   {
    "duration": 52,
    "start_time": "2022-04-27T10:54:33.133Z"
   },
   {
    "duration": 636,
    "start_time": "2022-04-27T10:54:57.702Z"
   },
   {
    "duration": 3,
    "start_time": "2022-04-27T10:54:58.341Z"
   },
   {
    "duration": 15,
    "start_time": "2022-04-27T10:54:58.346Z"
   },
   {
    "duration": 32,
    "start_time": "2022-04-27T10:54:58.364Z"
   },
   {
    "duration": 33,
    "start_time": "2022-04-27T10:54:58.399Z"
   },
   {
    "duration": 9,
    "start_time": "2022-04-27T10:54:58.434Z"
   },
   {
    "duration": 55,
    "start_time": "2022-04-27T10:54:58.446Z"
   },
   {
    "duration": 24,
    "start_time": "2022-04-27T10:54:58.504Z"
   },
   {
    "duration": 28,
    "start_time": "2022-04-27T10:54:58.530Z"
   },
   {
    "duration": 34,
    "start_time": "2022-04-27T10:54:58.560Z"
   },
   {
    "duration": 25,
    "start_time": "2022-04-27T10:54:58.596Z"
   },
   {
    "duration": 16,
    "start_time": "2022-04-27T10:54:58.623Z"
   },
   {
    "duration": 12,
    "start_time": "2022-04-27T10:54:58.642Z"
   },
   {
    "duration": 11,
    "start_time": "2022-04-27T10:54:58.685Z"
   },
   {
    "duration": 26,
    "start_time": "2022-04-27T10:54:58.701Z"
   },
   {
    "duration": 12,
    "start_time": "2022-04-27T10:54:58.729Z"
   },
   {
    "duration": 42,
    "start_time": "2022-04-27T10:54:58.744Z"
   },
   {
    "duration": 30,
    "start_time": "2022-04-27T10:54:58.789Z"
   },
   {
    "duration": 13,
    "start_time": "2022-04-27T10:54:58.822Z"
   },
   {
    "duration": 9,
    "start_time": "2022-04-27T10:54:58.837Z"
   },
   {
    "duration": 14,
    "start_time": "2022-04-27T10:54:58.848Z"
   },
   {
    "duration": 36,
    "start_time": "2022-04-27T10:54:58.864Z"
   },
   {
    "duration": 31,
    "start_time": "2022-04-27T10:54:58.902Z"
   },
   {
    "duration": 15,
    "start_time": "2022-04-27T10:54:58.935Z"
   },
   {
    "duration": 82,
    "start_time": "2022-04-27T10:54:58.953Z"
   },
   {
    "duration": 25,
    "start_time": "2022-04-27T10:54:59.038Z"
   },
   {
    "duration": 60,
    "start_time": "2022-04-27T10:54:59.066Z"
   },
   {
    "duration": 26,
    "start_time": "2022-04-27T10:54:59.129Z"
   },
   {
    "duration": 36,
    "start_time": "2022-04-27T10:54:59.158Z"
   },
   {
    "duration": 5640,
    "start_time": "2022-04-27T10:54:59.196Z"
   },
   {
    "duration": 81,
    "start_time": "2022-04-27T10:55:04.839Z"
   },
   {
    "duration": 4,
    "start_time": "2022-04-27T10:55:04.923Z"
   },
   {
    "duration": 47,
    "start_time": "2022-04-27T10:57:29.460Z"
   },
   {
    "duration": 697,
    "start_time": "2022-04-27T12:53:21.906Z"
   },
   {
    "duration": 102,
    "start_time": "2022-04-27T12:53:30.208Z"
   },
   {
    "duration": 111,
    "start_time": "2022-04-27T12:53:38.417Z"
   },
   {
    "duration": 149,
    "start_time": "2022-04-27T12:54:01.919Z"
   },
   {
    "duration": 4,
    "start_time": "2022-04-27T12:54:02.071Z"
   },
   {
    "duration": 35,
    "start_time": "2022-04-27T12:54:02.078Z"
   },
   {
    "duration": 20,
    "start_time": "2022-04-27T12:54:02.117Z"
   },
   {
    "duration": 48,
    "start_time": "2022-04-27T12:54:02.140Z"
   },
   {
    "duration": 30,
    "start_time": "2022-04-27T12:54:02.192Z"
   },
   {
    "duration": 42,
    "start_time": "2022-04-27T12:54:02.224Z"
   },
   {
    "duration": 38,
    "start_time": "2022-04-27T12:54:02.269Z"
   },
   {
    "duration": 66,
    "start_time": "2022-04-27T12:54:02.314Z"
   },
   {
    "duration": 10,
    "start_time": "2022-04-27T12:54:02.386Z"
   },
   {
    "duration": 25,
    "start_time": "2022-04-27T12:54:02.399Z"
   },
   {
    "duration": 46,
    "start_time": "2022-04-27T12:54:02.427Z"
   },
   {
    "duration": 22,
    "start_time": "2022-04-27T12:54:02.476Z"
   },
   {
    "duration": 16,
    "start_time": "2022-04-27T12:54:02.501Z"
   },
   {
    "duration": 12,
    "start_time": "2022-04-27T12:54:02.520Z"
   },
   {
    "duration": 43,
    "start_time": "2022-04-27T12:54:02.534Z"
   },
   {
    "duration": 28,
    "start_time": "2022-04-27T12:54:02.580Z"
   },
   {
    "duration": 17,
    "start_time": "2022-04-27T12:54:02.610Z"
   },
   {
    "duration": 32,
    "start_time": "2022-04-27T12:54:02.630Z"
   },
   {
    "duration": 33,
    "start_time": "2022-04-27T12:54:02.665Z"
   },
   {
    "duration": 19,
    "start_time": "2022-04-27T12:54:02.701Z"
   },
   {
    "duration": 15,
    "start_time": "2022-04-27T12:54:02.724Z"
   },
   {
    "duration": 40,
    "start_time": "2022-04-27T12:54:02.741Z"
   },
   {
    "duration": 24,
    "start_time": "2022-04-27T12:54:02.783Z"
   },
   {
    "duration": 91,
    "start_time": "2022-04-27T12:54:02.810Z"
   },
   {
    "duration": 25,
    "start_time": "2022-04-27T12:54:02.903Z"
   },
   {
    "duration": 25,
    "start_time": "2022-04-27T12:54:02.957Z"
   },
   {
    "duration": 24,
    "start_time": "2022-04-27T12:54:02.989Z"
   },
   {
    "duration": 55,
    "start_time": "2022-04-27T12:54:03.016Z"
   },
   {
    "duration": 6933,
    "start_time": "2022-04-27T12:54:03.076Z"
   },
   {
    "duration": 86,
    "start_time": "2022-04-27T12:54:10.013Z"
   },
   {
    "duration": 75,
    "start_time": "2022-04-27T12:54:10.102Z"
   },
   {
    "duration": 78,
    "start_time": "2022-04-27T12:56:07.248Z"
   },
   {
    "duration": 994,
    "start_time": "2022-04-27T12:56:15.350Z"
   },
   {
    "duration": 7,
    "start_time": "2022-04-27T12:56:16.348Z"
   },
   {
    "duration": 31,
    "start_time": "2022-04-27T12:56:16.357Z"
   },
   {
    "duration": 18,
    "start_time": "2022-04-27T12:56:16.392Z"
   },
   {
    "duration": 30,
    "start_time": "2022-04-27T12:56:16.413Z"
   },
   {
    "duration": 19,
    "start_time": "2022-04-27T12:56:16.445Z"
   },
   {
    "duration": 64,
    "start_time": "2022-04-27T12:56:16.468Z"
   },
   {
    "duration": 32,
    "start_time": "2022-04-27T12:56:16.535Z"
   },
   {
    "duration": 46,
    "start_time": "2022-04-27T12:56:16.572Z"
   },
   {
    "duration": 10,
    "start_time": "2022-04-27T12:56:16.623Z"
   },
   {
    "duration": 50,
    "start_time": "2022-04-27T12:56:16.635Z"
   },
   {
    "duration": 22,
    "start_time": "2022-04-27T12:56:16.688Z"
   },
   {
    "duration": 15,
    "start_time": "2022-04-27T12:56:16.712Z"
   },
   {
    "duration": 38,
    "start_time": "2022-04-27T12:56:16.730Z"
   },
   {
    "duration": 36,
    "start_time": "2022-04-27T12:56:16.772Z"
   },
   {
    "duration": 13,
    "start_time": "2022-04-27T12:56:16.810Z"
   },
   {
    "duration": 22,
    "start_time": "2022-04-27T12:56:16.826Z"
   },
   {
    "duration": 43,
    "start_time": "2022-04-27T12:56:16.850Z"
   },
   {
    "duration": 16,
    "start_time": "2022-04-27T12:56:16.897Z"
   },
   {
    "duration": 9,
    "start_time": "2022-04-27T12:56:16.916Z"
   },
   {
    "duration": 19,
    "start_time": "2022-04-27T12:56:16.928Z"
   },
   {
    "duration": 38,
    "start_time": "2022-04-27T12:56:16.954Z"
   },
   {
    "duration": 31,
    "start_time": "2022-04-27T12:56:16.996Z"
   },
   {
    "duration": 31,
    "start_time": "2022-04-27T12:56:17.030Z"
   },
   {
    "duration": 78,
    "start_time": "2022-04-27T12:56:17.063Z"
   },
   {
    "duration": 21,
    "start_time": "2022-04-27T12:56:17.153Z"
   },
   {
    "duration": 32,
    "start_time": "2022-04-27T12:56:17.177Z"
   },
   {
    "duration": 49,
    "start_time": "2022-04-27T12:56:17.214Z"
   },
   {
    "duration": 28,
    "start_time": "2022-04-27T12:56:17.266Z"
   },
   {
    "duration": 6472,
    "start_time": "2022-04-27T12:56:17.297Z"
   },
   {
    "duration": 84,
    "start_time": "2022-04-27T12:56:23.773Z"
   },
   {
    "duration": 63,
    "start_time": "2022-04-27T12:56:23.862Z"
   },
   {
    "duration": 120,
    "start_time": "2022-04-27T12:57:33.140Z"
   },
   {
    "duration": 1065,
    "start_time": "2022-04-27T12:57:37.949Z"
   },
   {
    "duration": 4,
    "start_time": "2022-04-27T12:57:39.023Z"
   },
   {
    "duration": 69,
    "start_time": "2022-04-27T12:57:39.030Z"
   },
   {
    "duration": 36,
    "start_time": "2022-04-27T12:57:39.104Z"
   },
   {
    "duration": 52,
    "start_time": "2022-04-27T12:57:39.142Z"
   },
   {
    "duration": 18,
    "start_time": "2022-04-27T12:57:39.197Z"
   },
   {
    "duration": 45,
    "start_time": "2022-04-27T12:57:39.217Z"
   },
   {
    "duration": 36,
    "start_time": "2022-04-27T12:57:39.265Z"
   },
   {
    "duration": 57,
    "start_time": "2022-04-27T12:57:39.304Z"
   },
   {
    "duration": 12,
    "start_time": "2022-04-27T12:57:39.366Z"
   },
   {
    "duration": 34,
    "start_time": "2022-04-27T12:57:39.381Z"
   },
   {
    "duration": 10,
    "start_time": "2022-04-27T12:57:39.417Z"
   },
   {
    "duration": 32,
    "start_time": "2022-04-27T12:57:39.429Z"
   },
   {
    "duration": 33,
    "start_time": "2022-04-27T12:57:39.464Z"
   },
   {
    "duration": 15,
    "start_time": "2022-04-27T12:57:39.500Z"
   },
   {
    "duration": 15,
    "start_time": "2022-04-27T12:57:39.518Z"
   },
   {
    "duration": 37,
    "start_time": "2022-04-27T12:57:39.557Z"
   },
   {
    "duration": 39,
    "start_time": "2022-04-27T12:57:39.596Z"
   },
   {
    "duration": 21,
    "start_time": "2022-04-27T12:57:39.638Z"
   },
   {
    "duration": 31,
    "start_time": "2022-04-27T12:57:39.664Z"
   },
   {
    "duration": 16,
    "start_time": "2022-04-27T12:57:39.698Z"
   },
   {
    "duration": 15,
    "start_time": "2022-04-27T12:57:39.717Z"
   },
   {
    "duration": 26,
    "start_time": "2022-04-27T12:57:39.734Z"
   },
   {
    "duration": 35,
    "start_time": "2022-04-27T12:57:39.763Z"
   },
   {
    "duration": 92,
    "start_time": "2022-04-27T12:57:39.802Z"
   },
   {
    "duration": 20,
    "start_time": "2022-04-27T12:57:39.896Z"
   },
   {
    "duration": 60,
    "start_time": "2022-04-27T12:57:39.918Z"
   },
   {
    "duration": 25,
    "start_time": "2022-04-27T12:57:39.985Z"
   },
   {
    "duration": 45,
    "start_time": "2022-04-27T12:57:40.013Z"
   },
   {
    "duration": 6492,
    "start_time": "2022-04-27T12:57:40.062Z"
   },
   {
    "duration": 49,
    "start_time": "2022-04-27T12:57:46.559Z"
   },
   {
    "duration": 82,
    "start_time": "2022-04-27T12:59:14.814Z"
   },
   {
    "duration": 889,
    "start_time": "2022-04-27T12:59:27.130Z"
   },
   {
    "duration": 3,
    "start_time": "2022-04-27T12:59:28.022Z"
   },
   {
    "duration": 29,
    "start_time": "2022-04-27T12:59:28.028Z"
   },
   {
    "duration": 19,
    "start_time": "2022-04-27T12:59:28.061Z"
   },
   {
    "duration": 36,
    "start_time": "2022-04-27T12:59:28.083Z"
   },
   {
    "duration": 40,
    "start_time": "2022-04-27T12:59:28.122Z"
   },
   {
    "duration": 47,
    "start_time": "2022-04-27T12:59:28.165Z"
   },
   {
    "duration": 23,
    "start_time": "2022-04-27T12:59:28.214Z"
   },
   {
    "duration": 46,
    "start_time": "2022-04-27T12:59:28.239Z"
   },
   {
    "duration": 10,
    "start_time": "2022-04-27T12:59:28.291Z"
   },
   {
    "duration": 61,
    "start_time": "2022-04-27T12:59:28.303Z"
   },
   {
    "duration": 28,
    "start_time": "2022-04-27T12:59:28.369Z"
   },
   {
    "duration": 18,
    "start_time": "2022-04-27T12:59:28.399Z"
   },
   {
    "duration": 16,
    "start_time": "2022-04-27T12:59:28.420Z"
   },
   {
    "duration": 14,
    "start_time": "2022-04-27T12:59:28.453Z"
   },
   {
    "duration": 36,
    "start_time": "2022-04-27T12:59:28.473Z"
   },
   {
    "duration": 41,
    "start_time": "2022-04-27T12:59:28.512Z"
   },
   {
    "duration": 37,
    "start_time": "2022-04-27T12:59:28.555Z"
   },
   {
    "duration": 25,
    "start_time": "2022-04-27T12:59:28.595Z"
   },
   {
    "duration": 22,
    "start_time": "2022-04-27T12:59:28.623Z"
   },
   {
    "duration": 19,
    "start_time": "2022-04-27T12:59:28.648Z"
   },
   {
    "duration": 28,
    "start_time": "2022-04-27T12:59:28.669Z"
   },
   {
    "duration": 19,
    "start_time": "2022-04-27T12:59:28.699Z"
   },
   {
    "duration": 41,
    "start_time": "2022-04-27T12:59:28.720Z"
   },
   {
    "duration": 62,
    "start_time": "2022-04-27T12:59:28.764Z"
   },
   {
    "duration": 35,
    "start_time": "2022-04-27T12:59:28.828Z"
   },
   {
    "duration": 33,
    "start_time": "2022-04-27T12:59:28.866Z"
   },
   {
    "duration": 57,
    "start_time": "2022-04-27T12:59:28.905Z"
   },
   {
    "duration": 22,
    "start_time": "2022-04-27T12:59:28.964Z"
   },
   {
    "duration": 5473,
    "start_time": "2022-04-27T12:59:28.989Z"
   },
   {
    "duration": 62,
    "start_time": "2022-04-27T12:59:34.465Z"
   },
   {
    "duration": 74,
    "start_time": "2022-04-27T13:01:47.580Z"
   },
   {
    "duration": 938,
    "start_time": "2022-04-27T13:02:05.446Z"
   },
   {
    "duration": 4,
    "start_time": "2022-04-27T13:02:06.388Z"
   },
   {
    "duration": 29,
    "start_time": "2022-04-27T13:02:06.395Z"
   },
   {
    "duration": 41,
    "start_time": "2022-04-27T13:02:06.429Z"
   },
   {
    "duration": 48,
    "start_time": "2022-04-27T13:02:06.475Z"
   },
   {
    "duration": 10,
    "start_time": "2022-04-27T13:02:06.527Z"
   },
   {
    "duration": 71,
    "start_time": "2022-04-27T13:02:06.553Z"
   },
   {
    "duration": 39,
    "start_time": "2022-04-27T13:02:06.628Z"
   },
   {
    "duration": 61,
    "start_time": "2022-04-27T13:02:06.670Z"
   },
   {
    "duration": 9,
    "start_time": "2022-04-27T13:02:06.736Z"
   },
   {
    "duration": 34,
    "start_time": "2022-04-27T13:02:06.754Z"
   },
   {
    "duration": 14,
    "start_time": "2022-04-27T13:02:06.791Z"
   },
   {
    "duration": 15,
    "start_time": "2022-04-27T13:02:06.808Z"
   },
   {
    "duration": 14,
    "start_time": "2022-04-27T13:02:06.858Z"
   },
   {
    "duration": 18,
    "start_time": "2022-04-27T13:02:06.875Z"
   },
   {
    "duration": 13,
    "start_time": "2022-04-27T13:02:06.895Z"
   },
   {
    "duration": 63,
    "start_time": "2022-04-27T13:02:06.911Z"
   },
   {
    "duration": 15,
    "start_time": "2022-04-27T13:02:06.977Z"
   },
   {
    "duration": 14,
    "start_time": "2022-04-27T13:02:06.995Z"
   },
   {
    "duration": 16,
    "start_time": "2022-04-27T13:02:07.012Z"
   },
   {
    "duration": 15,
    "start_time": "2022-04-27T13:02:07.059Z"
   },
   {
    "duration": 16,
    "start_time": "2022-04-27T13:02:07.078Z"
   },
   {
    "duration": 28,
    "start_time": "2022-04-27T13:02:07.096Z"
   },
   {
    "duration": 52,
    "start_time": "2022-04-27T13:02:07.127Z"
   },
   {
    "duration": 94,
    "start_time": "2022-04-27T13:02:07.182Z"
   },
   {
    "duration": 26,
    "start_time": "2022-04-27T13:02:07.279Z"
   },
   {
    "duration": 60,
    "start_time": "2022-04-27T13:02:07.307Z"
   },
   {
    "duration": 26,
    "start_time": "2022-04-27T13:02:07.373Z"
   },
   {
    "duration": 52,
    "start_time": "2022-04-27T13:02:07.403Z"
   },
   {
    "duration": 6157,
    "start_time": "2022-04-27T13:02:07.458Z"
   },
   {
    "duration": 72,
    "start_time": "2022-04-27T13:02:13.618Z"
   },
   {
    "duration": 3,
    "start_time": "2022-04-27T13:02:13.692Z"
   },
   {
    "duration": 122,
    "start_time": "2022-04-27T13:03:28.960Z"
   },
   {
    "duration": 15,
    "start_time": "2022-04-27T13:04:09.367Z"
   },
   {
    "duration": 128,
    "start_time": "2022-04-27T13:04:22.752Z"
   },
   {
    "duration": 4,
    "start_time": "2022-04-27T13:04:22.885Z"
   },
   {
    "duration": 12,
    "start_time": "2022-04-27T13:04:22.892Z"
   },
   {
    "duration": 45,
    "start_time": "2022-04-27T13:04:22.907Z"
   },
   {
    "duration": 30,
    "start_time": "2022-04-27T13:04:22.956Z"
   },
   {
    "duration": 10,
    "start_time": "2022-04-27T13:04:22.989Z"
   },
   {
    "duration": 57,
    "start_time": "2022-04-27T13:04:23.001Z"
   },
   {
    "duration": 28,
    "start_time": "2022-04-27T13:04:23.060Z"
   },
   {
    "duration": 68,
    "start_time": "2022-04-27T13:04:23.091Z"
   },
   {
    "duration": 10,
    "start_time": "2022-04-27T13:04:23.165Z"
   },
   {
    "duration": 22,
    "start_time": "2022-04-27T13:04:23.177Z"
   },
   {
    "duration": 13,
    "start_time": "2022-04-27T13:04:23.201Z"
   },
   {
    "duration": 40,
    "start_time": "2022-04-27T13:04:23.217Z"
   },
   {
    "duration": 26,
    "start_time": "2022-04-27T13:04:23.261Z"
   },
   {
    "duration": 9,
    "start_time": "2022-04-27T13:04:23.289Z"
   },
   {
    "duration": 10,
    "start_time": "2022-04-27T13:04:23.300Z"
   },
   {
    "duration": 61,
    "start_time": "2022-04-27T13:04:23.313Z"
   },
   {
    "duration": 18,
    "start_time": "2022-04-27T13:04:23.377Z"
   },
   {
    "duration": 14,
    "start_time": "2022-04-27T13:04:23.398Z"
   },
   {
    "duration": 13,
    "start_time": "2022-04-27T13:04:23.415Z"
   },
   {
    "duration": 19,
    "start_time": "2022-04-27T13:04:23.453Z"
   },
   {
    "duration": 11,
    "start_time": "2022-04-27T13:04:23.475Z"
   },
   {
    "duration": 27,
    "start_time": "2022-04-27T13:04:23.489Z"
   },
   {
    "duration": 47,
    "start_time": "2022-04-27T13:04:23.518Z"
   },
   {
    "duration": 63,
    "start_time": "2022-04-27T13:04:23.568Z"
   },
   {
    "duration": 23,
    "start_time": "2022-04-27T13:04:36.642Z"
   },
   {
    "duration": 24,
    "start_time": "2022-04-27T13:04:55.733Z"
   },
   {
    "duration": 36,
    "start_time": "2022-04-27T13:05:11.870Z"
   },
   {
    "duration": 19,
    "start_time": "2022-04-27T13:06:17.424Z"
   },
   {
    "duration": 44,
    "start_time": "2022-04-27T13:06:41.631Z"
   },
   {
    "duration": 68,
    "start_time": "2022-04-27T13:07:02.995Z"
   },
   {
    "duration": 43,
    "start_time": "2022-04-27T13:07:31.104Z"
   },
   {
    "duration": 20,
    "start_time": "2022-04-27T13:07:58.487Z"
   },
   {
    "duration": 58,
    "start_time": "2022-04-27T13:08:05.147Z"
   },
   {
    "duration": 37,
    "start_time": "2022-04-27T13:08:55.502Z"
   },
   {
    "duration": 31,
    "start_time": "2022-04-27T13:09:20.102Z"
   },
   {
    "duration": 159,
    "start_time": "2022-04-27T13:09:33.657Z"
   },
   {
    "duration": 3,
    "start_time": "2022-04-27T13:09:33.821Z"
   },
   {
    "duration": 42,
    "start_time": "2022-04-27T13:09:33.827Z"
   },
   {
    "duration": 28,
    "start_time": "2022-04-27T13:09:33.872Z"
   },
   {
    "duration": 26,
    "start_time": "2022-04-27T13:09:33.904Z"
   },
   {
    "duration": 39,
    "start_time": "2022-04-27T13:09:33.933Z"
   },
   {
    "duration": 59,
    "start_time": "2022-04-27T13:09:33.976Z"
   },
   {
    "duration": 44,
    "start_time": "2022-04-27T13:09:34.038Z"
   },
   {
    "duration": 37,
    "start_time": "2022-04-27T13:09:34.085Z"
   },
   {
    "duration": 9,
    "start_time": "2022-04-27T13:09:34.124Z"
   },
   {
    "duration": 31,
    "start_time": "2022-04-27T13:09:34.161Z"
   },
   {
    "duration": 18,
    "start_time": "2022-04-27T13:09:34.195Z"
   },
   {
    "duration": 13,
    "start_time": "2022-04-27T13:09:34.216Z"
   },
   {
    "duration": 19,
    "start_time": "2022-04-27T13:09:34.263Z"
   },
   {
    "duration": 25,
    "start_time": "2022-04-27T13:09:34.286Z"
   },
   {
    "duration": 13,
    "start_time": "2022-04-27T13:09:34.315Z"
   },
   {
    "duration": 40,
    "start_time": "2022-04-27T13:09:34.332Z"
   },
   {
    "duration": 32,
    "start_time": "2022-04-27T13:09:34.375Z"
   },
   {
    "duration": 14,
    "start_time": "2022-04-27T13:09:34.410Z"
   },
   {
    "duration": 13,
    "start_time": "2022-04-27T13:09:34.426Z"
   },
   {
    "duration": 39,
    "start_time": "2022-04-27T13:09:34.457Z"
   },
   {
    "duration": 24,
    "start_time": "2022-04-27T13:09:34.498Z"
   },
   {
    "duration": 22,
    "start_time": "2022-04-27T13:09:34.524Z"
   },
   {
    "duration": 53,
    "start_time": "2022-04-27T13:09:34.549Z"
   },
   {
    "duration": 61,
    "start_time": "2022-04-27T13:09:34.604Z"
   },
   {
    "duration": 22,
    "start_time": "2022-04-27T13:09:34.666Z"
   },
   {
    "duration": 31,
    "start_time": "2022-04-27T13:09:34.691Z"
   },
   {
    "duration": 47,
    "start_time": "2022-04-27T13:09:34.725Z"
   },
   {
    "duration": 24,
    "start_time": "2022-04-27T13:09:34.775Z"
   },
   {
    "duration": 6285,
    "start_time": "2022-04-27T13:09:34.801Z"
   },
   {
    "duration": 90,
    "start_time": "2022-04-27T13:09:41.096Z"
   },
   {
    "duration": 47,
    "start_time": "2022-04-27T13:09:41.192Z"
   },
   {
    "duration": 145,
    "start_time": "2022-04-27T13:11:59.929Z"
   },
   {
    "duration": 8,
    "start_time": "2022-04-27T13:12:00.076Z"
   },
   {
    "duration": 14,
    "start_time": "2022-04-27T13:12:00.090Z"
   },
   {
    "duration": 13,
    "start_time": "2022-04-27T13:12:00.108Z"
   },
   {
    "duration": 56,
    "start_time": "2022-04-27T13:12:00.124Z"
   },
   {
    "duration": 20,
    "start_time": "2022-04-27T13:12:00.187Z"
   },
   {
    "duration": 27,
    "start_time": "2022-04-27T13:12:00.209Z"
   },
   {
    "duration": 30,
    "start_time": "2022-04-27T13:12:00.259Z"
   },
   {
    "duration": 30,
    "start_time": "2022-04-27T13:12:00.291Z"
   },
   {
    "duration": 36,
    "start_time": "2022-04-27T13:12:00.325Z"
   },
   {
    "duration": 150,
    "start_time": "2022-04-27T13:12:00.363Z"
   },
   {
    "duration": 13,
    "start_time": "2022-04-27T13:12:00.515Z"
   },
   {
    "duration": 47,
    "start_time": "2022-04-27T13:12:00.531Z"
   },
   {
    "duration": 40,
    "start_time": "2022-04-27T13:12:00.581Z"
   },
   {
    "duration": 18,
    "start_time": "2022-04-27T13:12:00.623Z"
   },
   {
    "duration": 52,
    "start_time": "2022-04-27T13:12:00.644Z"
   },
   {
    "duration": 42,
    "start_time": "2022-04-27T13:12:00.699Z"
   },
   {
    "duration": 76,
    "start_time": "2022-04-27T13:12:00.745Z"
   },
   {
    "duration": 39,
    "start_time": "2022-04-27T13:12:00.824Z"
   },
   {
    "duration": 63,
    "start_time": "2022-04-27T13:12:00.866Z"
   },
   {
    "duration": 19,
    "start_time": "2022-04-27T13:12:00.931Z"
   },
   {
    "duration": 50,
    "start_time": "2022-04-27T13:12:00.953Z"
   },
   {
    "duration": 30,
    "start_time": "2022-04-27T13:12:01.005Z"
   },
   {
    "duration": 48,
    "start_time": "2022-04-27T13:12:01.038Z"
   },
   {
    "duration": 105,
    "start_time": "2022-04-27T13:12:01.091Z"
   },
   {
    "duration": 27,
    "start_time": "2022-04-27T13:12:01.199Z"
   },
   {
    "duration": 57,
    "start_time": "2022-04-27T13:12:01.230Z"
   },
   {
    "duration": 38,
    "start_time": "2022-04-27T13:12:01.294Z"
   },
   {
    "duration": 55,
    "start_time": "2022-04-27T13:12:01.335Z"
   },
   {
    "duration": 6141,
    "start_time": "2022-04-27T13:12:01.393Z"
   },
   {
    "duration": 58,
    "start_time": "2022-04-27T13:12:07.536Z"
   },
   {
    "duration": 780,
    "start_time": "2022-04-27T13:12:54.879Z"
   },
   {
    "duration": 4,
    "start_time": "2022-04-27T13:12:55.661Z"
   },
   {
    "duration": 23,
    "start_time": "2022-04-27T13:12:55.667Z"
   },
   {
    "duration": 13,
    "start_time": "2022-04-27T13:12:55.693Z"
   },
   {
    "duration": 25,
    "start_time": "2022-04-27T13:12:55.709Z"
   },
   {
    "duration": 13,
    "start_time": "2022-04-27T13:12:55.755Z"
   },
   {
    "duration": 25,
    "start_time": "2022-04-27T13:12:55.771Z"
   },
   {
    "duration": 23,
    "start_time": "2022-04-27T13:12:55.798Z"
   },
   {
    "duration": 31,
    "start_time": "2022-04-27T13:12:55.852Z"
   },
   {
    "duration": 9,
    "start_time": "2022-04-27T13:12:55.887Z"
   },
   {
    "duration": 57,
    "start_time": "2022-04-27T13:12:55.898Z"
   },
   {
    "duration": 11,
    "start_time": "2022-04-27T13:12:55.965Z"
   },
   {
    "duration": 16,
    "start_time": "2022-04-27T13:12:55.979Z"
   },
   {
    "duration": 13,
    "start_time": "2022-04-27T13:12:55.998Z"
   },
   {
    "duration": 37,
    "start_time": "2022-04-27T13:12:56.014Z"
   },
   {
    "duration": 14,
    "start_time": "2022-04-27T13:12:56.055Z"
   },
   {
    "duration": 20,
    "start_time": "2022-04-27T13:12:56.076Z"
   },
   {
    "duration": 15,
    "start_time": "2022-04-27T13:12:56.099Z"
   },
   {
    "duration": 43,
    "start_time": "2022-04-27T13:12:56.117Z"
   },
   {
    "duration": 13,
    "start_time": "2022-04-27T13:12:56.163Z"
   },
   {
    "duration": 11,
    "start_time": "2022-04-27T13:12:56.178Z"
   },
   {
    "duration": 9,
    "start_time": "2022-04-27T13:12:56.191Z"
   },
   {
    "duration": 66,
    "start_time": "2022-04-27T13:12:56.203Z"
   },
   {
    "duration": 19,
    "start_time": "2022-04-27T13:12:56.272Z"
   },
   {
    "duration": 95,
    "start_time": "2022-04-27T13:12:56.295Z"
   },
   {
    "duration": 20,
    "start_time": "2022-04-27T13:12:56.392Z"
   },
   {
    "duration": 44,
    "start_time": "2022-04-27T13:12:56.414Z"
   },
   {
    "duration": 24,
    "start_time": "2022-04-27T13:12:56.463Z"
   },
   {
    "duration": 19,
    "start_time": "2022-04-27T13:12:56.490Z"
   },
   {
    "duration": 6091,
    "start_time": "2022-04-27T13:12:56.512Z"
   },
   {
    "duration": 75,
    "start_time": "2022-04-27T13:13:02.606Z"
   },
   {
    "duration": 976,
    "start_time": "2022-04-27T13:14:51.269Z"
   },
   {
    "duration": 7,
    "start_time": "2022-04-27T13:14:52.248Z"
   },
   {
    "duration": 24,
    "start_time": "2022-04-27T13:14:52.258Z"
   },
   {
    "duration": 12,
    "start_time": "2022-04-27T13:14:52.284Z"
   },
   {
    "duration": 24,
    "start_time": "2022-04-27T13:14:52.299Z"
   },
   {
    "duration": 29,
    "start_time": "2022-04-27T13:14:52.325Z"
   },
   {
    "duration": 29,
    "start_time": "2022-04-27T13:14:52.358Z"
   },
   {
    "duration": 23,
    "start_time": "2022-04-27T13:14:52.389Z"
   },
   {
    "duration": 59,
    "start_time": "2022-04-27T13:14:52.415Z"
   },
   {
    "duration": 8,
    "start_time": "2022-04-27T13:14:52.476Z"
   },
   {
    "duration": 24,
    "start_time": "2022-04-27T13:14:52.486Z"
   },
   {
    "duration": 23,
    "start_time": "2022-04-27T13:14:52.513Z"
   },
   {
    "duration": 43,
    "start_time": "2022-04-27T13:14:52.538Z"
   },
   {
    "duration": 17,
    "start_time": "2022-04-27T13:14:52.585Z"
   },
   {
    "duration": 18,
    "start_time": "2022-04-27T13:14:52.604Z"
   },
   {
    "duration": 14,
    "start_time": "2022-04-27T13:14:52.625Z"
   },
   {
    "duration": 38,
    "start_time": "2022-04-27T13:14:52.642Z"
   },
   {
    "duration": 23,
    "start_time": "2022-04-27T13:14:52.682Z"
   },
   {
    "duration": 13,
    "start_time": "2022-04-27T13:14:52.708Z"
   },
   {
    "duration": 12,
    "start_time": "2022-04-27T13:14:52.723Z"
   },
   {
    "duration": 16,
    "start_time": "2022-04-27T13:14:52.757Z"
   },
   {
    "duration": 15,
    "start_time": "2022-04-27T13:14:52.776Z"
   },
   {
    "duration": 26,
    "start_time": "2022-04-27T13:14:52.794Z"
   },
   {
    "duration": 43,
    "start_time": "2022-04-27T13:14:52.823Z"
   },
   {
    "duration": 63,
    "start_time": "2022-04-27T13:14:52.872Z"
   },
   {
    "duration": 28,
    "start_time": "2022-04-27T13:14:52.938Z"
   },
   {
    "duration": 43,
    "start_time": "2022-04-27T13:14:52.969Z"
   },
   {
    "duration": 39,
    "start_time": "2022-04-27T13:14:53.015Z"
   },
   {
    "duration": 25,
    "start_time": "2022-04-27T13:14:53.059Z"
   },
   {
    "duration": 5837,
    "start_time": "2022-04-27T13:14:53.087Z"
   },
   {
    "duration": 72,
    "start_time": "2022-04-27T13:14:58.928Z"
   },
   {
    "duration": 983,
    "start_time": "2022-04-27T13:15:18.953Z"
   },
   {
    "duration": 4,
    "start_time": "2022-04-27T13:15:19.939Z"
   },
   {
    "duration": 40,
    "start_time": "2022-04-27T13:15:19.946Z"
   },
   {
    "duration": 14,
    "start_time": "2022-04-27T13:15:19.989Z"
   },
   {
    "duration": 24,
    "start_time": "2022-04-27T13:15:20.005Z"
   },
   {
    "duration": 30,
    "start_time": "2022-04-27T13:15:20.031Z"
   },
   {
    "duration": 38,
    "start_time": "2022-04-27T13:15:20.064Z"
   },
   {
    "duration": 27,
    "start_time": "2022-04-27T13:15:20.104Z"
   },
   {
    "duration": 45,
    "start_time": "2022-04-27T13:15:20.134Z"
   },
   {
    "duration": 9,
    "start_time": "2022-04-27T13:15:20.182Z"
   },
   {
    "duration": 45,
    "start_time": "2022-04-27T13:15:20.193Z"
   },
   {
    "duration": 13,
    "start_time": "2022-04-27T13:15:20.260Z"
   },
   {
    "duration": 12,
    "start_time": "2022-04-27T13:15:20.275Z"
   },
   {
    "duration": 9,
    "start_time": "2022-04-27T13:15:20.290Z"
   },
   {
    "duration": 17,
    "start_time": "2022-04-27T13:15:20.301Z"
   },
   {
    "duration": 45,
    "start_time": "2022-04-27T13:15:20.320Z"
   },
   {
    "duration": 31,
    "start_time": "2022-04-27T13:15:20.369Z"
   },
   {
    "duration": 19,
    "start_time": "2022-04-27T13:15:20.402Z"
   },
   {
    "duration": 16,
    "start_time": "2022-04-27T13:15:20.423Z"
   },
   {
    "duration": 23,
    "start_time": "2022-04-27T13:15:20.441Z"
   },
   {
    "duration": 21,
    "start_time": "2022-04-27T13:15:20.467Z"
   },
   {
    "duration": 10,
    "start_time": "2022-04-27T13:15:20.491Z"
   },
   {
    "duration": 19,
    "start_time": "2022-04-27T13:15:20.503Z"
   },
   {
    "duration": 39,
    "start_time": "2022-04-27T13:15:20.525Z"
   },
   {
    "duration": 59,
    "start_time": "2022-04-27T13:15:20.568Z"
   },
   {
    "duration": 44,
    "start_time": "2022-04-27T13:15:20.629Z"
   },
   {
    "duration": 21,
    "start_time": "2022-04-27T13:15:20.675Z"
   },
   {
    "duration": 22,
    "start_time": "2022-04-27T13:15:20.701Z"
   },
   {
    "duration": 47,
    "start_time": "2022-04-27T13:15:20.725Z"
   },
   {
    "duration": 5516,
    "start_time": "2022-04-27T13:15:20.775Z"
   },
   {
    "duration": 80,
    "start_time": "2022-04-27T13:15:26.295Z"
   },
   {
    "duration": 136,
    "start_time": "2022-04-27T13:15:41.399Z"
   },
   {
    "duration": 856,
    "start_time": "2022-04-27T13:15:47.887Z"
   },
   {
    "duration": 4,
    "start_time": "2022-04-27T13:15:48.745Z"
   },
   {
    "duration": 29,
    "start_time": "2022-04-27T13:15:48.751Z"
   },
   {
    "duration": 14,
    "start_time": "2022-04-27T13:15:48.783Z"
   },
   {
    "duration": 59,
    "start_time": "2022-04-27T13:15:48.800Z"
   },
   {
    "duration": 12,
    "start_time": "2022-04-27T13:15:48.862Z"
   },
   {
    "duration": 41,
    "start_time": "2022-04-27T13:15:48.877Z"
   },
   {
    "duration": 66,
    "start_time": "2022-04-27T13:15:48.921Z"
   },
   {
    "duration": 42,
    "start_time": "2022-04-27T13:15:48.990Z"
   },
   {
    "duration": 38,
    "start_time": "2022-04-27T13:15:49.035Z"
   },
   {
    "duration": 44,
    "start_time": "2022-04-27T13:15:49.077Z"
   },
   {
    "duration": 16,
    "start_time": "2022-04-27T13:15:49.125Z"
   },
   {
    "duration": 14,
    "start_time": "2022-04-27T13:15:49.160Z"
   },
   {
    "duration": 17,
    "start_time": "2022-04-27T13:15:49.181Z"
   },
   {
    "duration": 12,
    "start_time": "2022-04-27T13:15:49.201Z"
   },
   {
    "duration": 16,
    "start_time": "2022-04-27T13:15:49.216Z"
   },
   {
    "duration": 29,
    "start_time": "2022-04-27T13:15:49.255Z"
   },
   {
    "duration": 17,
    "start_time": "2022-04-27T13:15:49.289Z"
   },
   {
    "duration": 13,
    "start_time": "2022-04-27T13:15:49.310Z"
   },
   {
    "duration": 42,
    "start_time": "2022-04-27T13:15:49.326Z"
   },
   {
    "duration": 31,
    "start_time": "2022-04-27T13:15:49.370Z"
   },
   {
    "duration": 19,
    "start_time": "2022-04-27T13:15:49.403Z"
   },
   {
    "duration": 32,
    "start_time": "2022-04-27T13:15:49.424Z"
   },
   {
    "duration": 29,
    "start_time": "2022-04-27T13:15:49.479Z"
   },
   {
    "duration": 67,
    "start_time": "2022-04-27T13:15:49.511Z"
   },
   {
    "duration": 27,
    "start_time": "2022-04-27T13:15:49.581Z"
   },
   {
    "duration": 44,
    "start_time": "2022-04-27T13:15:49.611Z"
   },
   {
    "duration": 35,
    "start_time": "2022-04-27T13:15:49.657Z"
   },
   {
    "duration": 24,
    "start_time": "2022-04-27T13:15:49.695Z"
   },
   {
    "duration": 6469,
    "start_time": "2022-04-27T13:15:49.722Z"
   },
   {
    "duration": 74,
    "start_time": "2022-04-27T13:15:56.194Z"
   },
   {
    "duration": 922,
    "start_time": "2022-04-27T13:16:31.392Z"
   },
   {
    "duration": 4,
    "start_time": "2022-04-27T13:16:32.318Z"
   },
   {
    "duration": 21,
    "start_time": "2022-04-27T13:16:32.324Z"
   },
   {
    "duration": 40,
    "start_time": "2022-04-27T13:16:32.348Z"
   },
   {
    "duration": 26,
    "start_time": "2022-04-27T13:16:32.391Z"
   },
   {
    "duration": 8,
    "start_time": "2022-04-27T13:16:32.419Z"
   },
   {
    "duration": 62,
    "start_time": "2022-04-27T13:16:32.429Z"
   },
   {
    "duration": 23,
    "start_time": "2022-04-27T13:16:32.493Z"
   },
   {
    "duration": 37,
    "start_time": "2022-04-27T13:16:32.518Z"
   },
   {
    "duration": 22,
    "start_time": "2022-04-27T13:16:32.564Z"
   },
   {
    "duration": 26,
    "start_time": "2022-04-27T13:16:32.589Z"
   },
   {
    "duration": 12,
    "start_time": "2022-04-27T13:16:32.618Z"
   },
   {
    "duration": 34,
    "start_time": "2022-04-27T13:16:32.632Z"
   },
   {
    "duration": 35,
    "start_time": "2022-04-27T13:16:32.668Z"
   },
   {
    "duration": 10,
    "start_time": "2022-04-27T13:16:32.706Z"
   },
   {
    "duration": 15,
    "start_time": "2022-04-27T13:16:32.719Z"
   },
   {
    "duration": 51,
    "start_time": "2022-04-27T13:16:32.736Z"
   },
   {
    "duration": 24,
    "start_time": "2022-04-27T13:16:32.790Z"
   },
   {
    "duration": 19,
    "start_time": "2022-04-27T13:16:32.816Z"
   },
   {
    "duration": 13,
    "start_time": "2022-04-27T13:16:32.837Z"
   },
   {
    "duration": 39,
    "start_time": "2022-04-27T13:16:32.861Z"
   },
   {
    "duration": 15,
    "start_time": "2022-04-27T13:16:32.902Z"
   },
   {
    "duration": 24,
    "start_time": "2022-04-27T13:16:32.919Z"
   },
   {
    "duration": 34,
    "start_time": "2022-04-27T13:16:32.946Z"
   },
   {
    "duration": 84,
    "start_time": "2022-04-27T13:16:32.983Z"
   },
   {
    "duration": 33,
    "start_time": "2022-04-27T13:16:33.071Z"
   },
   {
    "duration": 24,
    "start_time": "2022-04-27T13:16:33.106Z"
   },
   {
    "duration": 34,
    "start_time": "2022-04-27T13:16:33.165Z"
   },
   {
    "duration": 20,
    "start_time": "2022-04-27T13:16:33.201Z"
   },
   {
    "duration": 5390,
    "start_time": "2022-04-27T13:16:33.223Z"
   },
   {
    "duration": 78,
    "start_time": "2022-04-27T13:16:38.617Z"
   },
   {
    "duration": 958,
    "start_time": "2022-04-27T13:42:01.988Z"
   },
   {
    "duration": 4,
    "start_time": "2022-04-27T13:42:02.954Z"
   },
   {
    "duration": 28,
    "start_time": "2022-04-27T13:42:02.961Z"
   },
   {
    "duration": 15,
    "start_time": "2022-04-27T13:42:02.992Z"
   },
   {
    "duration": 50,
    "start_time": "2022-04-27T13:42:03.011Z"
   },
   {
    "duration": 7,
    "start_time": "2022-04-27T13:42:03.063Z"
   },
   {
    "duration": 29,
    "start_time": "2022-04-27T13:42:03.072Z"
   },
   {
    "duration": 53,
    "start_time": "2022-04-27T13:42:03.104Z"
   },
   {
    "duration": 30,
    "start_time": "2022-04-27T13:42:03.160Z"
   },
   {
    "duration": 9,
    "start_time": "2022-04-27T13:42:03.193Z"
   },
   {
    "duration": 61,
    "start_time": "2022-04-27T13:42:03.205Z"
   },
   {
    "duration": 10,
    "start_time": "2022-04-27T13:42:03.268Z"
   },
   {
    "duration": 11,
    "start_time": "2022-04-27T13:42:03.280Z"
   },
   {
    "duration": 9,
    "start_time": "2022-04-27T13:42:03.296Z"
   },
   {
    "duration": 50,
    "start_time": "2022-04-27T13:42:03.308Z"
   },
   {
    "duration": 13,
    "start_time": "2022-04-27T13:42:03.361Z"
   },
   {
    "duration": 23,
    "start_time": "2022-04-27T13:42:03.376Z"
   },
   {
    "duration": 52,
    "start_time": "2022-04-27T13:42:03.402Z"
   },
   {
    "duration": 17,
    "start_time": "2022-04-27T13:42:03.457Z"
   },
   {
    "duration": 9,
    "start_time": "2022-04-27T13:42:03.476Z"
   },
   {
    "duration": 15,
    "start_time": "2022-04-27T13:42:03.488Z"
   },
   {
    "duration": 47,
    "start_time": "2022-04-27T13:42:03.506Z"
   },
   {
    "duration": 39,
    "start_time": "2022-04-27T13:42:03.556Z"
   },
   {
    "duration": 31,
    "start_time": "2022-04-27T13:42:03.598Z"
   },
   {
    "duration": 77,
    "start_time": "2022-04-27T13:42:03.632Z"
   },
   {
    "duration": 50,
    "start_time": "2022-04-27T13:42:03.712Z"
   },
   {
    "duration": 34,
    "start_time": "2022-04-27T13:42:03.765Z"
   },
   {
    "duration": 64,
    "start_time": "2022-04-27T13:42:03.802Z"
   },
   {
    "duration": 19,
    "start_time": "2022-04-27T13:42:03.869Z"
   },
   {
    "duration": 5261,
    "start_time": "2022-04-27T13:42:03.891Z"
   },
   {
    "duration": 44,
    "start_time": "2022-04-27T13:42:09.154Z"
   },
   {
    "duration": 159,
    "start_time": "2022-04-27T13:42:09.200Z"
   },
   {
    "duration": 38,
    "start_time": "2022-04-27T13:45:58.858Z"
   },
   {
    "duration": 55,
    "start_time": "2022-04-27T13:48:13.872Z"
   },
   {
    "duration": 833,
    "start_time": "2022-04-27T13:56:02.453Z"
   },
   {
    "duration": 4,
    "start_time": "2022-04-27T13:56:03.288Z"
   },
   {
    "duration": 13,
    "start_time": "2022-04-27T13:56:03.294Z"
   },
   {
    "duration": 47,
    "start_time": "2022-04-27T13:56:03.309Z"
   },
   {
    "duration": 26,
    "start_time": "2022-04-27T13:56:03.361Z"
   },
   {
    "duration": 10,
    "start_time": "2022-04-27T13:56:03.389Z"
   },
   {
    "duration": 85,
    "start_time": "2022-04-27T13:56:03.403Z"
   },
   {
    "duration": 36,
    "start_time": "2022-04-27T13:56:03.491Z"
   },
   {
    "duration": 58,
    "start_time": "2022-04-27T13:56:03.531Z"
   },
   {
    "duration": 12,
    "start_time": "2022-04-27T13:56:03.592Z"
   },
   {
    "duration": 53,
    "start_time": "2022-04-27T13:56:03.607Z"
   },
   {
    "duration": 13,
    "start_time": "2022-04-27T13:56:03.664Z"
   },
   {
    "duration": 15,
    "start_time": "2022-04-27T13:56:03.679Z"
   },
   {
    "duration": 10,
    "start_time": "2022-04-27T13:56:03.699Z"
   },
   {
    "duration": 44,
    "start_time": "2022-04-27T13:56:03.711Z"
   },
   {
    "duration": 11,
    "start_time": "2022-04-27T13:56:03.760Z"
   },
   {
    "duration": 30,
    "start_time": "2022-04-27T13:56:03.773Z"
   },
   {
    "duration": 14,
    "start_time": "2022-04-27T13:56:03.805Z"
   },
   {
    "duration": 15,
    "start_time": "2022-04-27T13:56:03.853Z"
   },
   {
    "duration": 11,
    "start_time": "2022-04-27T13:56:03.871Z"
   },
   {
    "duration": 21,
    "start_time": "2022-04-27T13:56:03.885Z"
   },
   {
    "duration": 52,
    "start_time": "2022-04-27T13:56:03.909Z"
   },
   {
    "duration": 22,
    "start_time": "2022-04-27T13:56:03.964Z"
   },
   {
    "duration": 16,
    "start_time": "2022-04-27T13:56:03.989Z"
   },
   {
    "duration": 96,
    "start_time": "2022-04-27T13:56:04.007Z"
   },
   {
    "duration": 47,
    "start_time": "2022-04-27T13:56:04.105Z"
   },
   {
    "duration": 24,
    "start_time": "2022-04-27T13:56:04.155Z"
   },
   {
    "duration": 26,
    "start_time": "2022-04-27T13:56:04.182Z"
   },
   {
    "duration": 57,
    "start_time": "2022-04-27T13:56:04.212Z"
   },
   {
    "duration": 5299,
    "start_time": "2022-04-27T13:56:04.272Z"
   },
   {
    "duration": 45,
    "start_time": "2022-04-27T13:56:09.573Z"
   },
   {
    "duration": 73,
    "start_time": "2022-04-27T13:57:24.396Z"
   },
   {
    "duration": 950,
    "start_time": "2022-04-27T13:57:34.959Z"
   },
   {
    "duration": 4,
    "start_time": "2022-04-27T13:57:35.911Z"
   },
   {
    "duration": 17,
    "start_time": "2022-04-27T13:57:35.917Z"
   },
   {
    "duration": 16,
    "start_time": "2022-04-27T13:57:35.954Z"
   },
   {
    "duration": 26,
    "start_time": "2022-04-27T13:57:35.973Z"
   },
   {
    "duration": 25,
    "start_time": "2022-04-27T13:57:36.001Z"
   },
   {
    "duration": 55,
    "start_time": "2022-04-27T13:57:36.028Z"
   },
   {
    "duration": 27,
    "start_time": "2022-04-27T13:57:36.085Z"
   },
   {
    "duration": 41,
    "start_time": "2022-04-27T13:57:36.115Z"
   },
   {
    "duration": 11,
    "start_time": "2022-04-27T13:57:36.161Z"
   },
   {
    "duration": 48,
    "start_time": "2022-04-27T13:57:36.174Z"
   },
   {
    "duration": 33,
    "start_time": "2022-04-27T13:57:36.225Z"
   },
   {
    "duration": 15,
    "start_time": "2022-04-27T13:57:36.261Z"
   },
   {
    "duration": 13,
    "start_time": "2022-04-27T13:57:36.279Z"
   },
   {
    "duration": 10,
    "start_time": "2022-04-27T13:57:36.296Z"
   },
   {
    "duration": 45,
    "start_time": "2022-04-27T13:57:36.308Z"
   },
   {
    "duration": 18,
    "start_time": "2022-04-27T13:57:36.356Z"
   },
   {
    "duration": 14,
    "start_time": "2022-04-27T13:57:36.376Z"
   },
   {
    "duration": 11,
    "start_time": "2022-04-27T13:57:36.392Z"
   },
   {
    "duration": 51,
    "start_time": "2022-04-27T13:57:36.405Z"
   },
   {
    "duration": 15,
    "start_time": "2022-04-27T13:57:36.458Z"
   },
   {
    "duration": 10,
    "start_time": "2022-04-27T13:57:36.475Z"
   },
   {
    "duration": 19,
    "start_time": "2022-04-27T13:57:36.487Z"
   },
   {
    "duration": 50,
    "start_time": "2022-04-27T13:57:36.508Z"
   },
   {
    "duration": 55,
    "start_time": "2022-04-27T13:57:36.560Z"
   },
   {
    "duration": 50,
    "start_time": "2022-04-27T13:57:36.617Z"
   },
   {
    "duration": 22,
    "start_time": "2022-04-27T13:57:36.669Z"
   },
   {
    "duration": 57,
    "start_time": "2022-04-27T13:57:36.695Z"
   },
   {
    "duration": 21,
    "start_time": "2022-04-27T13:57:36.754Z"
   },
   {
    "duration": 5650,
    "start_time": "2022-04-27T13:57:36.777Z"
   },
   {
    "duration": 68,
    "start_time": "2022-04-27T13:57:42.430Z"
   },
   {
    "duration": 64,
    "start_time": "2022-04-27T13:57:42.500Z"
   },
   {
    "duration": 726,
    "start_time": "2022-04-27T14:02:54.670Z"
   },
   {
    "duration": 4,
    "start_time": "2022-04-27T14:02:55.400Z"
   },
   {
    "duration": 28,
    "start_time": "2022-04-27T14:02:55.407Z"
   },
   {
    "duration": 28,
    "start_time": "2022-04-27T14:02:55.437Z"
   },
   {
    "duration": 25,
    "start_time": "2022-04-27T14:02:55.470Z"
   },
   {
    "duration": 12,
    "start_time": "2022-04-27T14:02:55.497Z"
   },
   {
    "duration": 66,
    "start_time": "2022-04-27T14:02:55.511Z"
   },
   {
    "duration": 21,
    "start_time": "2022-04-27T14:02:55.580Z"
   },
   {
    "duration": 56,
    "start_time": "2022-04-27T14:02:55.604Z"
   },
   {
    "duration": 13,
    "start_time": "2022-04-27T14:02:55.663Z"
   },
   {
    "duration": 32,
    "start_time": "2022-04-27T14:02:55.678Z"
   },
   {
    "duration": 10,
    "start_time": "2022-04-27T14:02:55.712Z"
   },
   {
    "duration": 35,
    "start_time": "2022-04-27T14:02:55.724Z"
   },
   {
    "duration": 18,
    "start_time": "2022-04-27T14:02:55.763Z"
   },
   {
    "duration": 21,
    "start_time": "2022-04-27T14:02:55.784Z"
   },
   {
    "duration": 47,
    "start_time": "2022-04-27T14:02:55.808Z"
   },
   {
    "duration": 54,
    "start_time": "2022-04-27T14:02:55.858Z"
   },
   {
    "duration": 20,
    "start_time": "2022-04-27T14:02:55.915Z"
   },
   {
    "duration": 18,
    "start_time": "2022-04-27T14:02:55.938Z"
   },
   {
    "duration": 27,
    "start_time": "2022-04-27T14:02:55.960Z"
   },
   {
    "duration": 27,
    "start_time": "2022-04-27T14:02:55.990Z"
   },
   {
    "duration": 23,
    "start_time": "2022-04-27T14:02:56.020Z"
   },
   {
    "duration": 57,
    "start_time": "2022-04-27T14:02:56.045Z"
   },
   {
    "duration": 24,
    "start_time": "2022-04-27T14:02:56.104Z"
   },
   {
    "duration": 73,
    "start_time": "2022-04-27T14:02:56.130Z"
   },
   {
    "duration": 21,
    "start_time": "2022-04-27T14:02:56.205Z"
   },
   {
    "duration": 53,
    "start_time": "2022-04-27T14:02:56.229Z"
   },
   {
    "duration": 34,
    "start_time": "2022-04-27T14:02:56.285Z"
   },
   {
    "duration": 51,
    "start_time": "2022-04-27T14:02:56.321Z"
   },
   {
    "duration": 6327,
    "start_time": "2022-04-27T14:02:56.374Z"
   },
   {
    "duration": 63,
    "start_time": "2022-04-27T14:03:02.704Z"
   },
   {
    "duration": 69,
    "start_time": "2022-04-27T14:36:26.759Z"
   },
   {
    "duration": 666,
    "start_time": "2022-04-27T14:36:32.836Z"
   },
   {
    "duration": 4,
    "start_time": "2022-04-27T14:36:33.504Z"
   },
   {
    "duration": 13,
    "start_time": "2022-04-27T14:36:33.510Z"
   },
   {
    "duration": 37,
    "start_time": "2022-04-27T14:36:33.526Z"
   },
   {
    "duration": 38,
    "start_time": "2022-04-27T14:36:33.567Z"
   },
   {
    "duration": 9,
    "start_time": "2022-04-27T14:36:33.609Z"
   },
   {
    "duration": 38,
    "start_time": "2022-04-27T14:36:33.653Z"
   },
   {
    "duration": 33,
    "start_time": "2022-04-27T14:36:33.694Z"
   },
   {
    "duration": 39,
    "start_time": "2022-04-27T14:36:33.753Z"
   },
   {
    "duration": 11,
    "start_time": "2022-04-27T14:36:33.797Z"
   },
   {
    "duration": 58,
    "start_time": "2022-04-27T14:36:33.811Z"
   },
   {
    "duration": 11,
    "start_time": "2022-04-27T14:36:33.873Z"
   },
   {
    "duration": 12,
    "start_time": "2022-04-27T14:36:33.887Z"
   },
   {
    "duration": 11,
    "start_time": "2022-04-27T14:36:33.902Z"
   },
   {
    "duration": 40,
    "start_time": "2022-04-27T14:36:33.915Z"
   },
   {
    "duration": 11,
    "start_time": "2022-04-27T14:36:33.957Z"
   },
   {
    "duration": 23,
    "start_time": "2022-04-27T14:36:33.970Z"
   },
   {
    "duration": 15,
    "start_time": "2022-04-27T14:36:33.995Z"
   },
   {
    "duration": 45,
    "start_time": "2022-04-27T14:36:34.014Z"
   },
   {
    "duration": 12,
    "start_time": "2022-04-27T14:36:34.062Z"
   },
   {
    "duration": 11,
    "start_time": "2022-04-27T14:36:34.077Z"
   },
   {
    "duration": 10,
    "start_time": "2022-04-27T14:36:34.090Z"
   },
   {
    "duration": 56,
    "start_time": "2022-04-27T14:36:34.102Z"
   },
   {
    "duration": 14,
    "start_time": "2022-04-27T14:36:34.160Z"
   },
   {
    "duration": 87,
    "start_time": "2022-04-27T14:36:34.176Z"
   },
   {
    "duration": 23,
    "start_time": "2022-04-27T14:36:34.265Z"
   },
   {
    "duration": 23,
    "start_time": "2022-04-27T14:36:34.291Z"
   },
   {
    "duration": 52,
    "start_time": "2022-04-27T14:36:34.320Z"
   },
   {
    "duration": 22,
    "start_time": "2022-04-27T14:36:34.375Z"
   },
   {
    "duration": 6021,
    "start_time": "2022-04-27T14:36:34.399Z"
   },
   {
    "duration": 55,
    "start_time": "2022-04-27T14:36:40.424Z"
   },
   {
    "duration": 675,
    "start_time": "2022-04-27T14:37:11.428Z"
   },
   {
    "duration": 3,
    "start_time": "2022-04-27T14:37:12.106Z"
   },
   {
    "duration": 11,
    "start_time": "2022-04-27T14:37:12.111Z"
   },
   {
    "duration": 36,
    "start_time": "2022-04-27T14:37:12.124Z"
   },
   {
    "duration": 24,
    "start_time": "2022-04-27T14:37:12.163Z"
   },
   {
    "duration": 7,
    "start_time": "2022-04-27T14:37:12.189Z"
   },
   {
    "duration": 71,
    "start_time": "2022-04-27T14:37:12.199Z"
   },
   {
    "duration": 20,
    "start_time": "2022-04-27T14:37:12.272Z"
   },
   {
    "duration": 27,
    "start_time": "2022-04-27T14:37:12.295Z"
   },
   {
    "duration": 9,
    "start_time": "2022-04-27T14:37:12.352Z"
   },
   {
    "duration": 23,
    "start_time": "2022-04-27T14:37:12.363Z"
   },
   {
    "duration": 13,
    "start_time": "2022-04-27T14:37:12.388Z"
   },
   {
    "duration": 49,
    "start_time": "2022-04-27T14:37:12.404Z"
   },
   {
    "duration": 8,
    "start_time": "2022-04-27T14:37:12.458Z"
   },
   {
    "duration": 13,
    "start_time": "2022-04-27T14:37:12.468Z"
   },
   {
    "duration": 14,
    "start_time": "2022-04-27T14:37:12.483Z"
   },
   {
    "duration": 24,
    "start_time": "2022-04-27T14:37:12.499Z"
   },
   {
    "duration": 51,
    "start_time": "2022-04-27T14:37:12.525Z"
   },
   {
    "duration": 11,
    "start_time": "2022-04-27T14:37:12.577Z"
   },
   {
    "duration": 10,
    "start_time": "2022-04-27T14:37:12.590Z"
   },
   {
    "duration": 11,
    "start_time": "2022-04-27T14:37:12.602Z"
   },
   {
    "duration": 38,
    "start_time": "2022-04-27T14:37:12.615Z"
   },
   {
    "duration": 28,
    "start_time": "2022-04-27T14:37:12.655Z"
   },
   {
    "duration": 20,
    "start_time": "2022-04-27T14:37:12.685Z"
   },
   {
    "duration": 90,
    "start_time": "2022-04-27T14:37:12.707Z"
   },
   {
    "duration": 24,
    "start_time": "2022-04-27T14:37:12.799Z"
   },
   {
    "duration": 39,
    "start_time": "2022-04-27T14:37:12.825Z"
   },
   {
    "duration": 23,
    "start_time": "2022-04-27T14:37:12.866Z"
   },
   {
    "duration": 20,
    "start_time": "2022-04-27T14:37:12.891Z"
   },
   {
    "duration": 6082,
    "start_time": "2022-04-27T14:37:12.913Z"
   },
   {
    "duration": 86,
    "start_time": "2022-04-27T14:37:18.998Z"
   },
   {
    "duration": 647,
    "start_time": "2022-04-27T14:41:40.332Z"
   },
   {
    "duration": 3,
    "start_time": "2022-04-27T14:41:40.982Z"
   },
   {
    "duration": 16,
    "start_time": "2022-04-27T14:41:40.987Z"
   },
   {
    "duration": 12,
    "start_time": "2022-04-27T14:41:41.006Z"
   },
   {
    "duration": 55,
    "start_time": "2022-04-27T14:41:41.021Z"
   },
   {
    "duration": 10,
    "start_time": "2022-04-27T14:41:41.078Z"
   },
   {
    "duration": 32,
    "start_time": "2022-04-27T14:41:41.090Z"
   },
   {
    "duration": 49,
    "start_time": "2022-04-27T14:41:41.124Z"
   },
   {
    "duration": 28,
    "start_time": "2022-04-27T14:41:41.176Z"
   },
   {
    "duration": 42,
    "start_time": "2022-04-27T14:41:41.210Z"
   },
   {
    "duration": 25,
    "start_time": "2022-04-27T14:41:41.255Z"
   },
   {
    "duration": 14,
    "start_time": "2022-04-27T14:41:41.283Z"
   },
   {
    "duration": 11,
    "start_time": "2022-04-27T14:41:41.300Z"
   },
   {
    "duration": 42,
    "start_time": "2022-04-27T14:41:41.313Z"
   },
   {
    "duration": 13,
    "start_time": "2022-04-27T14:41:41.358Z"
   },
   {
    "duration": 18,
    "start_time": "2022-04-27T14:41:41.373Z"
   },
   {
    "duration": 25,
    "start_time": "2022-04-27T14:41:41.394Z"
   },
   {
    "duration": 43,
    "start_time": "2022-04-27T14:41:41.422Z"
   },
   {
    "duration": 15,
    "start_time": "2022-04-27T14:41:41.468Z"
   },
   {
    "duration": 10,
    "start_time": "2022-04-27T14:41:41.485Z"
   },
   {
    "duration": 10,
    "start_time": "2022-04-27T14:41:41.498Z"
   },
   {
    "duration": 46,
    "start_time": "2022-04-27T14:41:41.510Z"
   },
   {
    "duration": 31,
    "start_time": "2022-04-27T14:41:41.559Z"
   },
   {
    "duration": 35,
    "start_time": "2022-04-27T14:41:41.593Z"
   },
   {
    "duration": 57,
    "start_time": "2022-04-27T14:41:41.631Z"
   },
   {
    "duration": 20,
    "start_time": "2022-04-27T14:41:41.691Z"
   },
   {
    "duration": 47,
    "start_time": "2022-04-27T14:41:41.713Z"
   },
   {
    "duration": 23,
    "start_time": "2022-04-27T14:41:41.765Z"
   },
   {
    "duration": 23,
    "start_time": "2022-04-27T14:41:41.791Z"
   },
   {
    "duration": 5546,
    "start_time": "2022-04-27T14:41:41.816Z"
   },
   {
    "duration": 47,
    "start_time": "2022-04-27T14:41:47.365Z"
   },
   {
    "duration": 631,
    "start_time": "2022-04-27T14:41:57.908Z"
   },
   {
    "duration": 3,
    "start_time": "2022-04-27T14:41:58.542Z"
   },
   {
    "duration": 9,
    "start_time": "2022-04-27T14:41:58.551Z"
   },
   {
    "duration": 14,
    "start_time": "2022-04-27T14:41:58.562Z"
   },
   {
    "duration": 24,
    "start_time": "2022-04-27T14:41:58.579Z"
   },
   {
    "duration": 52,
    "start_time": "2022-04-27T14:41:58.605Z"
   },
   {
    "duration": 33,
    "start_time": "2022-04-27T14:41:58.659Z"
   },
   {
    "duration": 60,
    "start_time": "2022-04-27T14:41:58.694Z"
   },
   {
    "duration": 38,
    "start_time": "2022-04-27T14:41:58.756Z"
   },
   {
    "duration": 16,
    "start_time": "2022-04-27T14:41:58.796Z"
   },
   {
    "duration": 55,
    "start_time": "2022-04-27T14:41:58.815Z"
   },
   {
    "duration": 16,
    "start_time": "2022-04-27T14:41:58.872Z"
   },
   {
    "duration": 13,
    "start_time": "2022-04-27T14:41:58.891Z"
   },
   {
    "duration": 13,
    "start_time": "2022-04-27T14:41:58.909Z"
   },
   {
    "duration": 32,
    "start_time": "2022-04-27T14:41:58.925Z"
   },
   {
    "duration": 16,
    "start_time": "2022-04-27T14:41:58.959Z"
   },
   {
    "duration": 21,
    "start_time": "2022-04-27T14:41:58.978Z"
   },
   {
    "duration": 17,
    "start_time": "2022-04-27T14:41:59.002Z"
   },
   {
    "duration": 10,
    "start_time": "2022-04-27T14:41:59.051Z"
   },
   {
    "duration": 15,
    "start_time": "2022-04-27T14:41:59.064Z"
   },
   {
    "duration": 19,
    "start_time": "2022-04-27T14:41:59.082Z"
   },
   {
    "duration": 15,
    "start_time": "2022-04-27T14:41:59.104Z"
   },
   {
    "duration": 58,
    "start_time": "2022-04-27T14:41:59.121Z"
   },
   {
    "duration": 19,
    "start_time": "2022-04-27T14:41:59.181Z"
   },
   {
    "duration": 105,
    "start_time": "2022-04-27T14:41:59.203Z"
   },
   {
    "duration": 44,
    "start_time": "2022-04-27T14:41:59.311Z"
   },
   {
    "duration": 30,
    "start_time": "2022-04-27T14:41:59.358Z"
   },
   {
    "duration": 30,
    "start_time": "2022-04-27T14:41:59.391Z"
   },
   {
    "duration": 29,
    "start_time": "2022-04-27T14:41:59.453Z"
   },
   {
    "duration": 5323,
    "start_time": "2022-04-27T14:41:59.485Z"
   },
   {
    "duration": 67,
    "start_time": "2022-04-27T14:42:04.810Z"
   },
   {
    "duration": 9,
    "start_time": "2022-04-27T14:42:04.879Z"
   },
   {
    "duration": 36,
    "start_time": "2022-04-27T14:42:18.123Z"
   },
   {
    "duration": 41,
    "start_time": "2022-04-27T14:43:40.625Z"
   },
   {
    "duration": 630,
    "start_time": "2022-04-27T14:43:54.197Z"
   },
   {
    "duration": 4,
    "start_time": "2022-04-27T14:43:54.829Z"
   },
   {
    "duration": 27,
    "start_time": "2022-04-27T14:43:54.834Z"
   },
   {
    "duration": 16,
    "start_time": "2022-04-27T14:43:54.863Z"
   },
   {
    "duration": 36,
    "start_time": "2022-04-27T14:43:54.883Z"
   },
   {
    "duration": 10,
    "start_time": "2022-04-27T14:43:54.951Z"
   },
   {
    "duration": 37,
    "start_time": "2022-04-27T14:43:54.965Z"
   },
   {
    "duration": 54,
    "start_time": "2022-04-27T14:43:55.006Z"
   },
   {
    "duration": 28,
    "start_time": "2022-04-27T14:43:55.062Z"
   },
   {
    "duration": 39,
    "start_time": "2022-04-27T14:43:55.092Z"
   },
   {
    "duration": 35,
    "start_time": "2022-04-27T14:43:55.133Z"
   },
   {
    "duration": 28,
    "start_time": "2022-04-27T14:43:55.171Z"
   },
   {
    "duration": 14,
    "start_time": "2022-04-27T14:43:55.202Z"
   },
   {
    "duration": 30,
    "start_time": "2022-04-27T14:43:55.222Z"
   },
   {
    "duration": 7,
    "start_time": "2022-04-27T14:43:55.254Z"
   },
   {
    "duration": 23,
    "start_time": "2022-04-27T14:43:55.264Z"
   },
   {
    "duration": 30,
    "start_time": "2022-04-27T14:43:55.290Z"
   },
   {
    "duration": 45,
    "start_time": "2022-04-27T14:43:55.323Z"
   },
   {
    "duration": 14,
    "start_time": "2022-04-27T14:43:55.370Z"
   },
   {
    "duration": 10,
    "start_time": "2022-04-27T14:43:55.388Z"
   },
   {
    "duration": 50,
    "start_time": "2022-04-27T14:43:55.401Z"
   },
   {
    "duration": 11,
    "start_time": "2022-04-27T14:43:55.454Z"
   },
   {
    "duration": 23,
    "start_time": "2022-04-27T14:43:55.467Z"
   },
   {
    "duration": 15,
    "start_time": "2022-04-27T14:43:55.492Z"
   },
   {
    "duration": 90,
    "start_time": "2022-04-27T14:43:55.510Z"
   },
   {
    "duration": 19,
    "start_time": "2022-04-27T14:43:55.603Z"
   },
   {
    "duration": 47,
    "start_time": "2022-04-27T14:43:55.624Z"
   },
   {
    "duration": 38,
    "start_time": "2022-04-27T14:43:55.674Z"
   },
   {
    "duration": 37,
    "start_time": "2022-04-27T14:43:55.715Z"
   },
   {
    "duration": 5829,
    "start_time": "2022-04-27T14:43:55.754Z"
   },
   {
    "duration": 45,
    "start_time": "2022-04-27T14:44:01.586Z"
   },
   {
    "duration": 41,
    "start_time": "2022-04-27T14:44:01.652Z"
   },
   {
    "duration": 114,
    "start_time": "2022-04-27T14:44:19.973Z"
   },
   {
    "duration": 40,
    "start_time": "2022-04-27T14:44:34.273Z"
   },
   {
    "duration": 38,
    "start_time": "2022-04-27T14:44:37.146Z"
   },
   {
    "duration": 39,
    "start_time": "2022-04-27T14:46:23.572Z"
   },
   {
    "duration": 41,
    "start_time": "2022-04-27T14:46:32.322Z"
   },
   {
    "duration": 690,
    "start_time": "2022-04-27T14:47:07.304Z"
   },
   {
    "duration": 4,
    "start_time": "2022-04-27T14:47:07.996Z"
   },
   {
    "duration": 16,
    "start_time": "2022-04-27T14:47:08.002Z"
   },
   {
    "duration": 39,
    "start_time": "2022-04-27T14:47:08.022Z"
   },
   {
    "duration": 28,
    "start_time": "2022-04-27T14:47:08.064Z"
   },
   {
    "duration": 7,
    "start_time": "2022-04-27T14:47:08.095Z"
   },
   {
    "duration": 63,
    "start_time": "2022-04-27T14:47:08.105Z"
   },
   {
    "duration": 23,
    "start_time": "2022-04-27T14:47:08.170Z"
   },
   {
    "duration": 67,
    "start_time": "2022-04-27T14:47:08.196Z"
   },
   {
    "duration": 10,
    "start_time": "2022-04-27T14:47:08.267Z"
   },
   {
    "duration": 32,
    "start_time": "2022-04-27T14:47:08.280Z"
   },
   {
    "duration": 43,
    "start_time": "2022-04-27T14:47:08.315Z"
   },
   {
    "duration": 11,
    "start_time": "2022-04-27T14:47:08.361Z"
   },
   {
    "duration": 13,
    "start_time": "2022-04-27T14:47:08.375Z"
   },
   {
    "duration": 13,
    "start_time": "2022-04-27T14:47:08.390Z"
   },
   {
    "duration": 51,
    "start_time": "2022-04-27T14:47:08.406Z"
   },
   {
    "duration": 32,
    "start_time": "2022-04-27T14:47:08.460Z"
   },
   {
    "duration": 26,
    "start_time": "2022-04-27T14:47:08.495Z"
   },
   {
    "duration": 28,
    "start_time": "2022-04-27T14:47:08.524Z"
   },
   {
    "duration": 8,
    "start_time": "2022-04-27T14:47:08.555Z"
   },
   {
    "duration": 17,
    "start_time": "2022-04-27T14:47:08.566Z"
   },
   {
    "duration": 18,
    "start_time": "2022-04-27T14:47:08.586Z"
   },
   {
    "duration": 61,
    "start_time": "2022-04-27T14:47:08.607Z"
   },
   {
    "duration": 21,
    "start_time": "2022-04-27T14:47:08.671Z"
   },
   {
    "duration": 111,
    "start_time": "2022-04-27T14:47:08.695Z"
   },
   {
    "duration": 27,
    "start_time": "2022-04-27T14:47:08.809Z"
   },
   {
    "duration": 23,
    "start_time": "2022-04-27T14:47:08.853Z"
   },
   {
    "duration": 34,
    "start_time": "2022-04-27T14:47:08.883Z"
   },
   {
    "duration": 44,
    "start_time": "2022-04-27T14:47:08.920Z"
   },
   {
    "duration": 5385,
    "start_time": "2022-04-27T14:47:08.967Z"
   },
   {
    "duration": 47,
    "start_time": "2022-04-27T14:47:14.354Z"
   },
   {
    "duration": 866,
    "start_time": "2022-04-27T14:47:34.068Z"
   },
   {
    "duration": 3,
    "start_time": "2022-04-27T14:47:34.938Z"
   },
   {
    "duration": 17,
    "start_time": "2022-04-27T14:47:34.943Z"
   },
   {
    "duration": 17,
    "start_time": "2022-04-27T14:47:34.963Z"
   },
   {
    "duration": 25,
    "start_time": "2022-04-27T14:47:34.983Z"
   },
   {
    "duration": 10,
    "start_time": "2022-04-27T14:47:35.051Z"
   },
   {
    "duration": 46,
    "start_time": "2022-04-27T14:47:35.064Z"
   },
   {
    "duration": 27,
    "start_time": "2022-04-27T14:47:35.112Z"
   },
   {
    "duration": 39,
    "start_time": "2022-04-27T14:47:35.153Z"
   },
   {
    "duration": 10,
    "start_time": "2022-04-27T14:47:35.194Z"
   },
   {
    "duration": 62,
    "start_time": "2022-04-27T14:47:35.206Z"
   },
   {
    "duration": 10,
    "start_time": "2022-04-27T14:47:35.271Z"
   },
   {
    "duration": 9,
    "start_time": "2022-04-27T14:47:35.284Z"
   },
   {
    "duration": 10,
    "start_time": "2022-04-27T14:47:35.300Z"
   },
   {
    "duration": 55,
    "start_time": "2022-04-27T14:47:35.313Z"
   },
   {
    "duration": 13,
    "start_time": "2022-04-27T14:47:35.370Z"
   },
   {
    "duration": 25,
    "start_time": "2022-04-27T14:47:35.385Z"
   },
   {
    "duration": 20,
    "start_time": "2022-04-27T14:47:35.412Z"
   },
   {
    "duration": 10,
    "start_time": "2022-04-27T14:47:35.453Z"
   },
   {
    "duration": 13,
    "start_time": "2022-04-27T14:47:35.466Z"
   },
   {
    "duration": 13,
    "start_time": "2022-04-27T14:47:35.482Z"
   },
   {
    "duration": 14,
    "start_time": "2022-04-27T14:47:35.497Z"
   },
   {
    "duration": 22,
    "start_time": "2022-04-27T14:47:35.552Z"
   },
   {
    "duration": 20,
    "start_time": "2022-04-27T14:47:35.577Z"
   },
   {
    "duration": 97,
    "start_time": "2022-04-27T14:47:35.600Z"
   },
   {
    "duration": 25,
    "start_time": "2022-04-27T14:47:35.700Z"
   },
   {
    "duration": 45,
    "start_time": "2022-04-27T14:47:35.727Z"
   },
   {
    "duration": 29,
    "start_time": "2022-04-27T14:47:35.775Z"
   },
   {
    "duration": 54,
    "start_time": "2022-04-27T14:47:35.807Z"
   },
   {
    "duration": 5508,
    "start_time": "2022-04-27T14:47:35.864Z"
   },
   {
    "duration": 86,
    "start_time": "2022-04-27T14:47:41.376Z"
   },
   {
    "duration": 700,
    "start_time": "2022-04-27T14:49:38.203Z"
   },
   {
    "duration": 3,
    "start_time": "2022-04-27T14:49:38.905Z"
   },
   {
    "duration": 21,
    "start_time": "2022-04-27T14:49:38.912Z"
   },
   {
    "duration": 25,
    "start_time": "2022-04-27T14:49:38.937Z"
   },
   {
    "duration": 28,
    "start_time": "2022-04-27T14:49:38.964Z"
   },
   {
    "duration": 10,
    "start_time": "2022-04-27T14:49:38.994Z"
   },
   {
    "duration": 56,
    "start_time": "2022-04-27T14:49:39.007Z"
   },
   {
    "duration": 24,
    "start_time": "2022-04-27T14:49:39.065Z"
   },
   {
    "duration": 35,
    "start_time": "2022-04-27T14:49:39.091Z"
   },
   {
    "duration": 27,
    "start_time": "2022-04-27T14:49:39.130Z"
   },
   {
    "duration": 35,
    "start_time": "2022-04-27T14:49:39.159Z"
   },
   {
    "duration": 21,
    "start_time": "2022-04-27T14:49:39.197Z"
   },
   {
    "duration": 20,
    "start_time": "2022-04-27T14:49:39.221Z"
   },
   {
    "duration": 17,
    "start_time": "2022-04-27T14:49:39.243Z"
   },
   {
    "duration": 14,
    "start_time": "2022-04-27T14:49:39.262Z"
   },
   {
    "duration": 24,
    "start_time": "2022-04-27T14:49:39.278Z"
   },
   {
    "duration": 29,
    "start_time": "2022-04-27T14:49:39.305Z"
   },
   {
    "duration": 28,
    "start_time": "2022-04-27T14:49:39.336Z"
   },
   {
    "duration": 16,
    "start_time": "2022-04-27T14:49:39.367Z"
   },
   {
    "duration": 31,
    "start_time": "2022-04-27T14:49:39.385Z"
   },
   {
    "duration": 31,
    "start_time": "2022-04-27T14:49:39.418Z"
   },
   {
    "duration": 27,
    "start_time": "2022-04-27T14:49:39.452Z"
   },
   {
    "duration": 31,
    "start_time": "2022-04-27T14:49:39.481Z"
   },
   {
    "duration": 14,
    "start_time": "2022-04-27T14:49:39.515Z"
   },
   {
    "duration": 62,
    "start_time": "2022-04-27T14:49:39.531Z"
   },
   {
    "duration": 18,
    "start_time": "2022-04-27T14:49:39.595Z"
   },
   {
    "duration": 41,
    "start_time": "2022-04-27T14:49:39.615Z"
   },
   {
    "duration": 21,
    "start_time": "2022-04-27T14:49:39.661Z"
   },
   {
    "duration": 25,
    "start_time": "2022-04-27T14:49:39.684Z"
   },
   {
    "duration": 5280,
    "start_time": "2022-04-27T14:49:39.712Z"
   },
   {
    "duration": 64,
    "start_time": "2022-04-27T14:49:44.994Z"
   },
   {
    "duration": 675,
    "start_time": "2022-04-27T14:50:43.829Z"
   },
   {
    "duration": 3,
    "start_time": "2022-04-27T14:50:44.507Z"
   },
   {
    "duration": 17,
    "start_time": "2022-04-27T14:50:44.512Z"
   },
   {
    "duration": 29,
    "start_time": "2022-04-27T14:50:44.531Z"
   },
   {
    "duration": 24,
    "start_time": "2022-04-27T14:50:44.563Z"
   },
   {
    "duration": 7,
    "start_time": "2022-04-27T14:50:44.589Z"
   },
   {
    "duration": 67,
    "start_time": "2022-04-27T14:50:44.598Z"
   },
   {
    "duration": 24,
    "start_time": "2022-04-27T14:50:44.668Z"
   },
   {
    "duration": 60,
    "start_time": "2022-04-27T14:50:44.695Z"
   },
   {
    "duration": 10,
    "start_time": "2022-04-27T14:50:44.758Z"
   },
   {
    "duration": 22,
    "start_time": "2022-04-27T14:50:44.771Z"
   },
   {
    "duration": 17,
    "start_time": "2022-04-27T14:50:44.796Z"
   },
   {
    "duration": 40,
    "start_time": "2022-04-27T14:50:44.815Z"
   },
   {
    "duration": 10,
    "start_time": "2022-04-27T14:50:44.861Z"
   },
   {
    "duration": 7,
    "start_time": "2022-04-27T14:50:44.873Z"
   },
   {
    "duration": 10,
    "start_time": "2022-04-27T14:50:44.882Z"
   },
   {
    "duration": 63,
    "start_time": "2022-04-27T14:50:44.894Z"
   },
   {
    "duration": 13,
    "start_time": "2022-04-27T14:50:44.960Z"
   },
   {
    "duration": 9,
    "start_time": "2022-04-27T14:50:44.975Z"
   },
   {
    "duration": 8,
    "start_time": "2022-04-27T14:50:44.986Z"
   },
   {
    "duration": 10,
    "start_time": "2022-04-27T14:50:44.997Z"
   },
   {
    "duration": 8,
    "start_time": "2022-04-27T14:50:45.052Z"
   },
   {
    "duration": 29,
    "start_time": "2022-04-27T14:50:45.062Z"
   },
   {
    "duration": 15,
    "start_time": "2022-04-27T14:50:45.094Z"
   },
   {
    "duration": 83,
    "start_time": "2022-04-27T14:50:45.111Z"
   },
   {
    "duration": 591,
    "start_time": "2022-04-27T14:51:06.390Z"
   },
   {
    "duration": 3,
    "start_time": "2022-04-27T14:51:06.984Z"
   },
   {
    "duration": 10,
    "start_time": "2022-04-27T14:51:06.990Z"
   },
   {
    "duration": 16,
    "start_time": "2022-04-27T14:51:07.002Z"
   },
   {
    "duration": 48,
    "start_time": "2022-04-27T14:51:07.021Z"
   },
   {
    "duration": 6,
    "start_time": "2022-04-27T14:51:07.072Z"
   },
   {
    "duration": 25,
    "start_time": "2022-04-27T14:51:07.080Z"
   },
   {
    "duration": 49,
    "start_time": "2022-04-27T14:51:07.108Z"
   },
   {
    "duration": 31,
    "start_time": "2022-04-27T14:51:07.159Z"
   },
   {
    "duration": 9,
    "start_time": "2022-04-27T14:51:07.193Z"
   },
   {
    "duration": 50,
    "start_time": "2022-04-27T14:51:07.204Z"
   },
   {
    "duration": 18,
    "start_time": "2022-04-27T14:51:07.256Z"
   },
   {
    "duration": 16,
    "start_time": "2022-04-27T14:51:07.276Z"
   },
   {
    "duration": 17,
    "start_time": "2022-04-27T14:51:07.296Z"
   },
   {
    "duration": 9,
    "start_time": "2022-04-27T14:51:07.315Z"
   },
   {
    "duration": 30,
    "start_time": "2022-04-27T14:51:07.327Z"
   },
   {
    "duration": 21,
    "start_time": "2022-04-27T14:51:07.359Z"
   },
   {
    "duration": 19,
    "start_time": "2022-04-27T14:51:07.382Z"
   },
   {
    "duration": 9,
    "start_time": "2022-04-27T14:51:07.403Z"
   },
   {
    "duration": 15,
    "start_time": "2022-04-27T14:51:07.415Z"
   },
   {
    "duration": 11,
    "start_time": "2022-04-27T14:51:07.452Z"
   },
   {
    "duration": 16,
    "start_time": "2022-04-27T14:51:07.465Z"
   },
   {
    "duration": 20,
    "start_time": "2022-04-27T14:51:07.484Z"
   },
   {
    "duration": 15,
    "start_time": "2022-04-27T14:51:07.507Z"
   },
   {
    "duration": 77,
    "start_time": "2022-04-27T14:51:07.524Z"
   },
   {
    "duration": 591,
    "start_time": "2022-04-27T14:55:22.175Z"
   },
   {
    "duration": 4,
    "start_time": "2022-04-27T14:55:22.769Z"
   },
   {
    "duration": 17,
    "start_time": "2022-04-27T14:55:22.775Z"
   },
   {
    "duration": 20,
    "start_time": "2022-04-27T14:55:22.796Z"
   },
   {
    "duration": 53,
    "start_time": "2022-04-27T14:55:22.819Z"
   },
   {
    "duration": 9,
    "start_time": "2022-04-27T14:55:22.874Z"
   },
   {
    "duration": 25,
    "start_time": "2022-04-27T14:55:22.886Z"
   },
   {
    "duration": 51,
    "start_time": "2022-04-27T14:55:22.914Z"
   },
   {
    "duration": 28,
    "start_time": "2022-04-27T14:55:22.968Z"
   },
   {
    "duration": 8,
    "start_time": "2022-04-27T14:55:23.001Z"
   },
   {
    "duration": 20,
    "start_time": "2022-04-27T14:55:23.052Z"
   },
   {
    "duration": 13,
    "start_time": "2022-04-27T14:55:23.075Z"
   },
   {
    "duration": 8,
    "start_time": "2022-04-27T14:55:23.090Z"
   },
   {
    "duration": 9,
    "start_time": "2022-04-27T14:55:23.100Z"
   },
   {
    "duration": 42,
    "start_time": "2022-04-27T14:55:23.111Z"
   },
   {
    "duration": 9,
    "start_time": "2022-04-27T14:55:23.155Z"
   },
   {
    "duration": 22,
    "start_time": "2022-04-27T14:55:23.166Z"
   },
   {
    "duration": 14,
    "start_time": "2022-04-27T14:55:23.190Z"
   },
   {
    "duration": 9,
    "start_time": "2022-04-27T14:55:23.207Z"
   },
   {
    "duration": 9,
    "start_time": "2022-04-27T14:55:23.252Z"
   },
   {
    "duration": 12,
    "start_time": "2022-04-27T14:55:23.264Z"
   },
   {
    "duration": 9,
    "start_time": "2022-04-27T14:55:23.279Z"
   },
   {
    "duration": 17,
    "start_time": "2022-04-27T14:55:23.291Z"
   },
   {
    "duration": 56,
    "start_time": "2022-04-27T14:55:23.310Z"
   },
   {
    "duration": 55,
    "start_time": "2022-04-27T14:55:23.368Z"
   },
   {
    "duration": 69,
    "start_time": "2022-04-27T14:55:23.425Z"
   },
   {
    "duration": 23,
    "start_time": "2022-04-27T14:55:23.496Z"
   },
   {
    "duration": 22,
    "start_time": "2022-04-27T14:55:23.551Z"
   },
   {
    "duration": 26,
    "start_time": "2022-04-27T14:55:23.575Z"
   },
   {
    "duration": 4793,
    "start_time": "2022-04-27T14:55:23.603Z"
   },
   {
    "duration": 55,
    "start_time": "2022-04-27T14:55:28.398Z"
   },
   {
    "duration": 4,
    "start_time": "2022-04-27T14:55:28.455Z"
   },
   {
    "duration": 42,
    "start_time": "2022-04-27T14:56:24.175Z"
   },
   {
    "duration": 103,
    "start_time": "2022-04-27T15:03:22.186Z"
   },
   {
    "duration": 590,
    "start_time": "2022-04-27T15:03:46.771Z"
   },
   {
    "duration": 3,
    "start_time": "2022-04-27T15:03:47.364Z"
   },
   {
    "duration": 14,
    "start_time": "2022-04-27T15:03:47.369Z"
   },
   {
    "duration": 12,
    "start_time": "2022-04-27T15:03:47.386Z"
   },
   {
    "duration": 54,
    "start_time": "2022-04-27T15:03:47.401Z"
   },
   {
    "duration": 7,
    "start_time": "2022-04-27T15:03:47.457Z"
   },
   {
    "duration": 29,
    "start_time": "2022-04-27T15:03:47.467Z"
   },
   {
    "duration": 22,
    "start_time": "2022-04-27T15:03:47.498Z"
   },
   {
    "duration": 26,
    "start_time": "2022-04-27T15:03:47.551Z"
   },
   {
    "duration": 8,
    "start_time": "2022-04-27T15:03:47.579Z"
   },
   {
    "duration": 29,
    "start_time": "2022-04-27T15:03:47.589Z"
   },
   {
    "duration": 33,
    "start_time": "2022-04-27T15:03:47.620Z"
   },
   {
    "duration": 18,
    "start_time": "2022-04-27T15:03:47.655Z"
   },
   {
    "duration": 10,
    "start_time": "2022-04-27T15:03:47.677Z"
   },
   {
    "duration": 20,
    "start_time": "2022-04-27T15:03:47.689Z"
   },
   {
    "duration": 36,
    "start_time": "2022-04-27T15:03:47.711Z"
   },
   {
    "duration": 24,
    "start_time": "2022-04-27T15:03:47.749Z"
   },
   {
    "duration": 15,
    "start_time": "2022-04-27T15:03:47.775Z"
   },
   {
    "duration": 9,
    "start_time": "2022-04-27T15:03:47.793Z"
   },
   {
    "duration": 10,
    "start_time": "2022-04-27T15:03:47.804Z"
   },
   {
    "duration": 9,
    "start_time": "2022-04-27T15:03:47.816Z"
   },
   {
    "duration": 30,
    "start_time": "2022-04-27T15:03:47.827Z"
   },
   {
    "duration": 22,
    "start_time": "2022-04-27T15:03:47.859Z"
   },
   {
    "duration": 25,
    "start_time": "2022-04-27T15:03:47.883Z"
   },
   {
    "duration": 83,
    "start_time": "2022-04-27T15:03:47.910Z"
   },
   {
    "duration": 23,
    "start_time": "2022-04-27T15:03:47.995Z"
   },
   {
    "duration": 40,
    "start_time": "2022-04-27T15:03:48.020Z"
   },
   {
    "duration": 21,
    "start_time": "2022-04-27T15:03:48.062Z"
   },
   {
    "duration": 23,
    "start_time": "2022-04-27T15:03:48.084Z"
   },
   {
    "duration": 4655,
    "start_time": "2022-04-27T15:03:48.109Z"
   },
   {
    "duration": 41,
    "start_time": "2022-04-27T15:03:52.767Z"
   },
   {
    "duration": 65,
    "start_time": "2022-04-27T15:03:52.811Z"
   },
   {
    "duration": 119,
    "start_time": "2022-04-27T15:05:46.336Z"
   },
   {
    "duration": 584,
    "start_time": "2022-04-27T15:05:52.563Z"
   },
   {
    "duration": 3,
    "start_time": "2022-04-27T15:05:53.152Z"
   },
   {
    "duration": 12,
    "start_time": "2022-04-27T15:05:53.157Z"
   },
   {
    "duration": 12,
    "start_time": "2022-04-27T15:05:53.172Z"
   },
   {
    "duration": 24,
    "start_time": "2022-04-27T15:05:53.186Z"
   },
   {
    "duration": 42,
    "start_time": "2022-04-27T15:05:53.212Z"
   },
   {
    "duration": 22,
    "start_time": "2022-04-27T15:05:53.256Z"
   },
   {
    "duration": 21,
    "start_time": "2022-04-27T15:05:53.280Z"
   },
   {
    "duration": 54,
    "start_time": "2022-04-27T15:05:53.303Z"
   },
   {
    "duration": 8,
    "start_time": "2022-04-27T15:05:53.361Z"
   },
   {
    "duration": 22,
    "start_time": "2022-04-27T15:05:53.371Z"
   },
   {
    "duration": 9,
    "start_time": "2022-04-27T15:05:53.396Z"
   },
   {
    "duration": 7,
    "start_time": "2022-04-27T15:05:53.407Z"
   },
   {
    "duration": 43,
    "start_time": "2022-04-27T15:05:53.416Z"
   },
   {
    "duration": 10,
    "start_time": "2022-04-27T15:05:53.461Z"
   },
   {
    "duration": 8,
    "start_time": "2022-04-27T15:05:53.474Z"
   },
   {
    "duration": 20,
    "start_time": "2022-04-27T15:05:53.484Z"
   },
   {
    "duration": 52,
    "start_time": "2022-04-27T15:05:53.506Z"
   },
   {
    "duration": 9,
    "start_time": "2022-04-27T15:05:53.560Z"
   },
   {
    "duration": 8,
    "start_time": "2022-04-27T15:05:53.571Z"
   },
   {
    "duration": 10,
    "start_time": "2022-04-27T15:05:53.581Z"
   },
   {
    "duration": 11,
    "start_time": "2022-04-27T15:05:53.593Z"
   },
   {
    "duration": 51,
    "start_time": "2022-04-27T15:05:53.606Z"
   },
   {
    "duration": 15,
    "start_time": "2022-04-27T15:05:53.659Z"
   },
   {
    "duration": 93,
    "start_time": "2022-04-27T15:05:53.677Z"
   },
   {
    "duration": 27,
    "start_time": "2022-04-27T15:05:53.772Z"
   },
   {
    "duration": 20,
    "start_time": "2022-04-27T15:05:53.801Z"
   },
   {
    "duration": 21,
    "start_time": "2022-04-27T15:05:53.853Z"
   },
   {
    "duration": 19,
    "start_time": "2022-04-27T15:05:53.877Z"
   },
   {
    "duration": 4771,
    "start_time": "2022-04-27T15:05:53.898Z"
   },
   {
    "duration": 43,
    "start_time": "2022-04-27T15:05:58.671Z"
   },
   {
    "duration": 64,
    "start_time": "2022-04-27T15:05:58.716Z"
   },
   {
    "duration": 637,
    "start_time": "2022-04-27T15:08:23.807Z"
   },
   {
    "duration": 5,
    "start_time": "2022-04-27T15:08:24.447Z"
   },
   {
    "duration": 11,
    "start_time": "2022-04-27T15:08:24.454Z"
   },
   {
    "duration": 13,
    "start_time": "2022-04-27T15:08:24.468Z"
   },
   {
    "duration": 28,
    "start_time": "2022-04-27T15:08:24.483Z"
   },
   {
    "duration": 39,
    "start_time": "2022-04-27T15:08:24.514Z"
   },
   {
    "duration": 25,
    "start_time": "2022-04-27T15:08:24.556Z"
   },
   {
    "duration": 22,
    "start_time": "2022-04-27T15:08:24.583Z"
   },
   {
    "duration": 55,
    "start_time": "2022-04-27T15:08:24.607Z"
   },
   {
    "duration": 10,
    "start_time": "2022-04-27T15:08:24.668Z"
   },
   {
    "duration": 22,
    "start_time": "2022-04-27T15:08:24.680Z"
   },
   {
    "duration": 51,
    "start_time": "2022-04-27T15:08:24.705Z"
   },
   {
    "duration": 24,
    "start_time": "2022-04-27T15:08:24.759Z"
   },
   {
    "duration": 11,
    "start_time": "2022-04-27T15:08:24.786Z"
   },
   {
    "duration": 9,
    "start_time": "2022-04-27T15:08:24.799Z"
   },
   {
    "duration": 43,
    "start_time": "2022-04-27T15:08:24.810Z"
   },
   {
    "duration": 19,
    "start_time": "2022-04-27T15:08:24.856Z"
   },
   {
    "duration": 14,
    "start_time": "2022-04-27T15:08:24.878Z"
   },
   {
    "duration": 9,
    "start_time": "2022-04-27T15:08:24.894Z"
   },
   {
    "duration": 49,
    "start_time": "2022-04-27T15:08:24.905Z"
   },
   {
    "duration": 14,
    "start_time": "2022-04-27T15:08:24.956Z"
   },
   {
    "duration": 10,
    "start_time": "2022-04-27T15:08:24.973Z"
   },
   {
    "duration": 20,
    "start_time": "2022-04-27T15:08:24.985Z"
   },
   {
    "duration": 46,
    "start_time": "2022-04-27T15:08:25.007Z"
   },
   {
    "duration": 54,
    "start_time": "2022-04-27T15:08:25.055Z"
   },
   {
    "duration": 52,
    "start_time": "2022-04-27T15:08:25.111Z"
   },
   {
    "duration": 21,
    "start_time": "2022-04-27T15:08:25.165Z"
   },
   {
    "duration": 21,
    "start_time": "2022-04-27T15:08:25.191Z"
   },
   {
    "duration": 49,
    "start_time": "2022-04-27T15:08:25.214Z"
   },
   {
    "duration": 5046,
    "start_time": "2022-04-27T15:08:25.265Z"
   },
   {
    "duration": 64,
    "start_time": "2022-04-27T15:08:30.313Z"
   },
   {
    "duration": 72,
    "start_time": "2022-04-27T15:08:30.380Z"
   },
   {
    "duration": 64,
    "start_time": "2022-04-27T15:09:20.388Z"
   },
   {
    "duration": 98,
    "start_time": "2022-04-27T15:13:36.375Z"
   },
   {
    "duration": 25,
    "start_time": "2022-04-27T15:13:52.065Z"
   },
   {
    "duration": 20,
    "start_time": "2022-04-27T15:14:22.583Z"
   },
   {
    "duration": 2231,
    "start_time": "2022-04-27T15:14:31.622Z"
   },
   {
    "duration": 46,
    "start_time": "2022-04-27T15:15:28.519Z"
   },
   {
    "duration": 10,
    "start_time": "2022-04-27T15:20:12.550Z"
   },
   {
    "duration": 47,
    "start_time": "2022-04-27T15:20:25.827Z"
   },
   {
    "duration": 96,
    "start_time": "2022-04-27T16:28:21.671Z"
   },
   {
    "duration": 603,
    "start_time": "2022-04-27T16:28:34.897Z"
   },
   {
    "duration": 3,
    "start_time": "2022-04-27T16:28:35.503Z"
   },
   {
    "duration": 11,
    "start_time": "2022-04-27T16:28:35.509Z"
   },
   {
    "duration": 34,
    "start_time": "2022-04-27T16:28:35.522Z"
   },
   {
    "duration": 24,
    "start_time": "2022-04-27T16:28:35.559Z"
   },
   {
    "duration": 7,
    "start_time": "2022-04-27T16:28:35.585Z"
   },
   {
    "duration": 30,
    "start_time": "2022-04-27T16:28:35.594Z"
   },
   {
    "duration": 23,
    "start_time": "2022-04-27T16:28:35.651Z"
   },
   {
    "duration": 29,
    "start_time": "2022-04-27T16:28:35.676Z"
   },
   {
    "duration": 10,
    "start_time": "2022-04-27T16:28:35.708Z"
   },
   {
    "duration": 22,
    "start_time": "2022-04-27T16:28:35.753Z"
   },
   {
    "duration": 13,
    "start_time": "2022-04-27T16:28:35.778Z"
   },
   {
    "duration": 10,
    "start_time": "2022-04-27T16:28:35.793Z"
   },
   {
    "duration": 48,
    "start_time": "2022-04-27T16:28:35.809Z"
   },
   {
    "duration": 10,
    "start_time": "2022-04-27T16:28:35.859Z"
   },
   {
    "duration": 22,
    "start_time": "2022-04-27T16:28:35.871Z"
   },
   {
    "duration": 22,
    "start_time": "2022-04-27T16:28:35.896Z"
   },
   {
    "duration": 39,
    "start_time": "2022-04-27T16:28:35.920Z"
   },
   {
    "duration": 9,
    "start_time": "2022-04-27T16:28:35.961Z"
   },
   {
    "duration": 9,
    "start_time": "2022-04-27T16:28:35.972Z"
   },
   {
    "duration": 10,
    "start_time": "2022-04-27T16:28:35.983Z"
   },
   {
    "duration": 13,
    "start_time": "2022-04-27T16:28:35.994Z"
   },
   {
    "duration": 59,
    "start_time": "2022-04-27T16:28:36.009Z"
   },
   {
    "duration": 15,
    "start_time": "2022-04-27T16:28:36.071Z"
   },
   {
    "duration": 82,
    "start_time": "2022-04-27T16:28:36.088Z"
   },
   {
    "duration": 28,
    "start_time": "2022-04-27T16:28:36.172Z"
   },
   {
    "duration": 21,
    "start_time": "2022-04-27T16:28:36.202Z"
   },
   {
    "duration": 47,
    "start_time": "2022-04-27T16:28:36.225Z"
   },
   {
    "duration": 21,
    "start_time": "2022-04-27T16:28:36.275Z"
   },
   {
    "duration": 5467,
    "start_time": "2022-04-27T16:28:36.299Z"
   },
   {
    "duration": 44,
    "start_time": "2022-04-27T16:28:41.768Z"
   },
   {
    "duration": 95,
    "start_time": "2022-04-27T16:28:41.814Z"
   },
   {
    "duration": 54,
    "start_time": "2022-04-27T16:28:41.912Z"
   },
   {
    "duration": 48,
    "start_time": "2022-04-27T16:28:41.969Z"
   },
   {
    "duration": 116,
    "start_time": "2022-04-27T16:49:24.878Z"
   },
   {
    "duration": 16,
    "start_time": "2022-04-27T16:52:12.145Z"
   },
   {
    "duration": 17,
    "start_time": "2022-04-27T16:52:23.042Z"
   },
   {
    "duration": 15,
    "start_time": "2022-04-27T16:52:50.567Z"
   },
   {
    "duration": 87,
    "start_time": "2022-04-27T16:53:16.348Z"
   },
   {
    "duration": 87,
    "start_time": "2022-04-27T16:54:49.370Z"
   },
   {
    "duration": 6,
    "start_time": "2022-04-27T16:54:58.447Z"
   },
   {
    "duration": 7,
    "start_time": "2022-04-27T16:55:07.554Z"
   },
   {
    "duration": 639,
    "start_time": "2022-04-27T16:55:20.067Z"
   },
   {
    "duration": 7,
    "start_time": "2022-04-27T16:55:20.708Z"
   },
   {
    "duration": 47,
    "start_time": "2022-04-27T16:55:20.717Z"
   },
   {
    "duration": 31,
    "start_time": "2022-04-27T16:55:20.766Z"
   },
   {
    "duration": 30,
    "start_time": "2022-04-27T16:55:20.800Z"
   },
   {
    "duration": 10,
    "start_time": "2022-04-27T16:55:20.833Z"
   },
   {
    "duration": 52,
    "start_time": "2022-04-27T16:55:20.846Z"
   },
   {
    "duration": 22,
    "start_time": "2022-04-27T16:55:20.900Z"
   },
   {
    "duration": 53,
    "start_time": "2022-04-27T16:55:20.924Z"
   },
   {
    "duration": 9,
    "start_time": "2022-04-27T16:55:20.979Z"
   },
   {
    "duration": 32,
    "start_time": "2022-04-27T16:55:20.990Z"
   },
   {
    "duration": 34,
    "start_time": "2022-04-27T16:55:21.024Z"
   },
   {
    "duration": 16,
    "start_time": "2022-04-27T16:55:21.060Z"
   },
   {
    "duration": 15,
    "start_time": "2022-04-27T16:55:21.080Z"
   },
   {
    "duration": 19,
    "start_time": "2022-04-27T16:55:21.097Z"
   },
   {
    "duration": 13,
    "start_time": "2022-04-27T16:55:21.118Z"
   },
   {
    "duration": 38,
    "start_time": "2022-04-27T16:55:21.133Z"
   },
   {
    "duration": 22,
    "start_time": "2022-04-27T16:55:21.174Z"
   },
   {
    "duration": 13,
    "start_time": "2022-04-27T16:55:21.199Z"
   },
   {
    "duration": 17,
    "start_time": "2022-04-27T16:55:21.215Z"
   },
   {
    "duration": 38,
    "start_time": "2022-04-27T16:55:21.234Z"
   },
   {
    "duration": 12,
    "start_time": "2022-04-27T16:55:21.274Z"
   },
   {
    "duration": 21,
    "start_time": "2022-04-27T16:55:21.288Z"
   },
   {
    "duration": 26,
    "start_time": "2022-04-27T16:55:21.312Z"
   },
   {
    "duration": 94,
    "start_time": "2022-04-27T16:55:21.341Z"
   },
   {
    "duration": 31,
    "start_time": "2022-04-27T16:55:21.437Z"
   },
   {
    "duration": 24,
    "start_time": "2022-04-27T16:55:21.471Z"
   },
   {
    "duration": 24,
    "start_time": "2022-04-27T16:55:21.497Z"
   },
   {
    "duration": 53,
    "start_time": "2022-04-27T16:55:21.523Z"
   },
   {
    "duration": 5246,
    "start_time": "2022-04-27T16:55:21.579Z"
   },
   {
    "duration": 57,
    "start_time": "2022-04-27T16:55:26.828Z"
   },
   {
    "duration": 86,
    "start_time": "2022-04-27T16:55:26.887Z"
   },
   {
    "duration": 45,
    "start_time": "2022-04-27T16:55:26.975Z"
   },
   {
    "duration": 71,
    "start_time": "2022-04-27T16:55:27.022Z"
   },
   {
    "duration": 15,
    "start_time": "2022-04-27T16:55:50.385Z"
   },
   {
    "duration": 100,
    "start_time": "2022-04-27T16:57:20.125Z"
   },
   {
    "duration": 93,
    "start_time": "2022-04-27T16:57:29.217Z"
   },
   {
    "duration": 641,
    "start_time": "2022-04-27T16:58:17.239Z"
   },
   {
    "duration": 7,
    "start_time": "2022-04-27T16:58:17.883Z"
   },
   {
    "duration": 13,
    "start_time": "2022-04-27T16:58:17.892Z"
   },
   {
    "duration": 12,
    "start_time": "2022-04-27T16:58:17.908Z"
   },
   {
    "duration": 25,
    "start_time": "2022-04-27T16:58:17.953Z"
   },
   {
    "duration": 21,
    "start_time": "2022-04-27T16:58:17.981Z"
   },
   {
    "duration": 24,
    "start_time": "2022-04-27T16:58:18.005Z"
   },
   {
    "duration": 22,
    "start_time": "2022-04-27T16:58:18.052Z"
   },
   {
    "duration": 30,
    "start_time": "2022-04-27T16:58:18.076Z"
   },
   {
    "duration": 8,
    "start_time": "2022-04-27T16:58:18.108Z"
   },
   {
    "duration": 52,
    "start_time": "2022-04-27T16:58:18.119Z"
   },
   {
    "duration": 13,
    "start_time": "2022-04-27T16:58:18.173Z"
   },
   {
    "duration": 13,
    "start_time": "2022-04-27T16:58:18.188Z"
   },
   {
    "duration": 8,
    "start_time": "2022-04-27T16:58:18.207Z"
   },
   {
    "duration": 8,
    "start_time": "2022-04-27T16:58:18.252Z"
   },
   {
    "duration": 11,
    "start_time": "2022-04-27T16:58:18.263Z"
   },
   {
    "duration": 22,
    "start_time": "2022-04-27T16:58:18.276Z"
   },
   {
    "duration": 13,
    "start_time": "2022-04-27T16:58:18.300Z"
   },
   {
    "duration": 10,
    "start_time": "2022-04-27T16:58:18.352Z"
   },
   {
    "duration": 24,
    "start_time": "2022-04-27T16:58:18.364Z"
   },
   {
    "duration": 25,
    "start_time": "2022-04-27T16:58:18.390Z"
   },
   {
    "duration": 12,
    "start_time": "2022-04-27T16:58:18.418Z"
   },
   {
    "duration": 35,
    "start_time": "2022-04-27T16:58:18.432Z"
   },
   {
    "duration": 20,
    "start_time": "2022-04-27T16:58:18.470Z"
   },
   {
    "duration": 67,
    "start_time": "2022-04-27T16:58:18.492Z"
   },
   {
    "duration": 31,
    "start_time": "2022-04-27T16:58:18.562Z"
   },
   {
    "duration": 26,
    "start_time": "2022-04-27T16:58:18.596Z"
   },
   {
    "duration": 22,
    "start_time": "2022-04-27T16:58:18.653Z"
   },
   {
    "duration": 29,
    "start_time": "2022-04-27T16:58:18.677Z"
   },
   {
    "duration": 4579,
    "start_time": "2022-04-27T16:58:18.708Z"
   },
   {
    "duration": 43,
    "start_time": "2022-04-27T16:58:23.289Z"
   },
   {
    "duration": 66,
    "start_time": "2022-04-27T16:58:23.351Z"
   },
   {
    "duration": 64,
    "start_time": "2022-04-27T16:58:23.419Z"
   },
   {
    "duration": 47,
    "start_time": "2022-04-27T16:58:23.485Z"
   },
   {
    "duration": 5,
    "start_time": "2022-04-27T16:59:11.513Z"
   },
   {
    "duration": 4,
    "start_time": "2022-04-27T16:59:17.606Z"
   },
   {
    "duration": 6,
    "start_time": "2022-04-27T16:59:48.749Z"
   },
   {
    "duration": 627,
    "start_time": "2022-04-27T17:00:24.208Z"
   },
   {
    "duration": 5,
    "start_time": "2022-04-27T17:00:24.838Z"
   },
   {
    "duration": 9,
    "start_time": "2022-04-27T17:00:24.851Z"
   },
   {
    "duration": 12,
    "start_time": "2022-04-27T17:00:24.863Z"
   },
   {
    "duration": 23,
    "start_time": "2022-04-27T17:00:24.879Z"
   },
   {
    "duration": 47,
    "start_time": "2022-04-27T17:00:24.904Z"
   },
   {
    "duration": 25,
    "start_time": "2022-04-27T17:00:24.954Z"
   },
   {
    "duration": 20,
    "start_time": "2022-04-27T17:00:24.982Z"
   },
   {
    "duration": 52,
    "start_time": "2022-04-27T17:00:25.005Z"
   },
   {
    "duration": 8,
    "start_time": "2022-04-27T17:00:25.060Z"
   },
   {
    "duration": 21,
    "start_time": "2022-04-27T17:00:25.071Z"
   },
   {
    "duration": 17,
    "start_time": "2022-04-27T17:00:25.094Z"
   },
   {
    "duration": 42,
    "start_time": "2022-04-27T17:00:25.113Z"
   },
   {
    "duration": 9,
    "start_time": "2022-04-27T17:00:25.160Z"
   },
   {
    "duration": 12,
    "start_time": "2022-04-27T17:00:25.171Z"
   },
   {
    "duration": 18,
    "start_time": "2022-04-27T17:00:25.185Z"
   },
   {
    "duration": 31,
    "start_time": "2022-04-27T17:00:25.206Z"
   },
   {
    "duration": 33,
    "start_time": "2022-04-27T17:00:25.239Z"
   },
   {
    "duration": 14,
    "start_time": "2022-04-27T17:00:25.274Z"
   },
   {
    "duration": 38,
    "start_time": "2022-04-27T17:00:25.291Z"
   },
   {
    "duration": 20,
    "start_time": "2022-04-27T17:00:25.332Z"
   },
   {
    "duration": 28,
    "start_time": "2022-04-27T17:00:25.355Z"
   },
   {
    "duration": 22,
    "start_time": "2022-04-27T17:00:25.385Z"
   },
   {
    "duration": 35,
    "start_time": "2022-04-27T17:00:25.409Z"
   },
   {
    "duration": 54,
    "start_time": "2022-04-27T17:00:25.446Z"
   },
   {
    "duration": 28,
    "start_time": "2022-04-27T17:00:25.503Z"
   },
   {
    "duration": 21,
    "start_time": "2022-04-27T17:00:25.551Z"
   },
   {
    "duration": 25,
    "start_time": "2022-04-27T17:00:25.574Z"
   },
   {
    "duration": 51,
    "start_time": "2022-04-27T17:00:25.601Z"
   },
   {
    "duration": 4656,
    "start_time": "2022-04-27T17:00:25.654Z"
   },
   {
    "duration": 64,
    "start_time": "2022-04-27T17:00:30.312Z"
   },
   {
    "duration": 77,
    "start_time": "2022-04-27T17:00:30.378Z"
   },
   {
    "duration": 46,
    "start_time": "2022-04-27T17:00:30.457Z"
   },
   {
    "duration": 73,
    "start_time": "2022-04-27T17:00:30.505Z"
   },
   {
    "duration": 7,
    "start_time": "2022-04-27T17:01:38.316Z"
   },
   {
    "duration": 5,
    "start_time": "2022-04-27T17:02:19.749Z"
   },
   {
    "duration": 5,
    "start_time": "2022-04-27T17:02:37.360Z"
   },
   {
    "duration": 798,
    "start_time": "2022-04-27T17:03:10.839Z"
   },
   {
    "duration": 5,
    "start_time": "2022-04-27T17:03:11.640Z"
   },
   {
    "duration": 12,
    "start_time": "2022-04-27T17:03:11.647Z"
   },
   {
    "duration": 14,
    "start_time": "2022-04-27T17:03:11.661Z"
   },
   {
    "duration": 26,
    "start_time": "2022-04-27T17:03:11.680Z"
   },
   {
    "duration": 50,
    "start_time": "2022-04-27T17:03:11.709Z"
   },
   {
    "duration": 33,
    "start_time": "2022-04-27T17:03:11.761Z"
   },
   {
    "duration": 55,
    "start_time": "2022-04-27T17:03:11.797Z"
   },
   {
    "duration": 25,
    "start_time": "2022-04-27T17:03:11.854Z"
   },
   {
    "duration": 8,
    "start_time": "2022-04-27T17:03:11.881Z"
   },
   {
    "duration": 29,
    "start_time": "2022-04-27T17:03:11.892Z"
   },
   {
    "duration": 37,
    "start_time": "2022-04-27T17:03:11.923Z"
   },
   {
    "duration": 11,
    "start_time": "2022-04-27T17:03:11.962Z"
   },
   {
    "duration": 8,
    "start_time": "2022-04-27T17:03:11.978Z"
   },
   {
    "duration": 9,
    "start_time": "2022-04-27T17:03:11.988Z"
   },
   {
    "duration": 12,
    "start_time": "2022-04-27T17:03:11.999Z"
   },
   {
    "duration": 17,
    "start_time": "2022-04-27T17:03:12.051Z"
   },
   {
    "duration": 17,
    "start_time": "2022-04-27T17:03:12.070Z"
   },
   {
    "duration": 12,
    "start_time": "2022-04-27T17:03:12.089Z"
   },
   {
    "duration": 9,
    "start_time": "2022-04-27T17:03:12.104Z"
   },
   {
    "duration": 10,
    "start_time": "2022-04-27T17:03:12.151Z"
   },
   {
    "duration": 10,
    "start_time": "2022-04-27T17:03:12.164Z"
   },
   {
    "duration": 20,
    "start_time": "2022-04-27T17:03:12.177Z"
   },
   {
    "duration": 53,
    "start_time": "2022-04-27T17:03:12.200Z"
   },
   {
    "duration": 53,
    "start_time": "2022-04-27T17:03:12.256Z"
   },
   {
    "duration": 57,
    "start_time": "2022-04-27T17:03:12.312Z"
   },
   {
    "duration": 22,
    "start_time": "2022-04-27T17:03:12.371Z"
   },
   {
    "duration": 22,
    "start_time": "2022-04-27T17:03:12.396Z"
   },
   {
    "duration": 47,
    "start_time": "2022-04-27T17:03:12.420Z"
   },
   {
    "duration": 5198,
    "start_time": "2022-04-27T17:03:12.470Z"
   },
   {
    "duration": 81,
    "start_time": "2022-04-27T17:03:17.671Z"
   },
   {
    "duration": 148,
    "start_time": "2022-04-27T17:03:17.755Z"
   },
   {
    "duration": 81,
    "start_time": "2022-04-27T17:03:17.905Z"
   },
   {
    "duration": 78,
    "start_time": "2022-04-27T17:03:17.989Z"
   },
   {
    "duration": 152,
    "start_time": "2022-04-27T17:05:21.447Z"
   },
   {
    "duration": 10,
    "start_time": "2022-04-27T17:05:41.604Z"
   },
   {
    "duration": 93,
    "start_time": "2022-04-27T17:05:51.402Z"
   },
   {
    "duration": 5,
    "start_time": "2022-04-27T17:05:51.498Z"
   },
   {
    "duration": 95,
    "start_time": "2022-04-27T17:06:04.644Z"
   },
   {
    "duration": 6,
    "start_time": "2022-04-27T17:06:04.753Z"
   },
   {
    "duration": 12,
    "start_time": "2022-04-27T17:06:04.762Z"
   },
   {
    "duration": 16,
    "start_time": "2022-04-27T17:06:45.757Z"
   },
   {
    "duration": 13,
    "start_time": "2022-04-27T17:06:59.202Z"
   },
   {
    "duration": 142,
    "start_time": "2022-04-27T17:07:05.829Z"
   },
   {
    "duration": 6,
    "start_time": "2022-04-27T17:07:05.975Z"
   },
   {
    "duration": 25,
    "start_time": "2022-04-27T17:07:05.984Z"
   },
   {
    "duration": 22,
    "start_time": "2022-04-27T17:07:26.233Z"
   },
   {
    "duration": 22,
    "start_time": "2022-04-27T17:07:32.994Z"
   },
   {
    "duration": 103,
    "start_time": "2022-04-27T17:19:59.973Z"
   },
   {
    "duration": 161,
    "start_time": "2022-04-27T17:20:00.079Z"
   },
   {
    "duration": 89,
    "start_time": "2022-04-27T17:20:51.996Z"
   },
   {
    "duration": 6,
    "start_time": "2022-04-27T17:20:52.088Z"
   },
   {
    "duration": 10,
    "start_time": "2022-04-27T18:10:27.859Z"
   },
   {
    "duration": 944,
    "start_time": "2022-04-27T18:10:33.937Z"
   },
   {
    "duration": 13,
    "start_time": "2022-04-27T18:10:56.782Z"
   },
   {
    "duration": 12,
    "start_time": "2022-04-27T18:12:30.646Z"
   },
   {
    "duration": 12,
    "start_time": "2022-04-27T18:12:44.164Z"
   },
   {
    "duration": 16,
    "start_time": "2022-04-27T18:12:56.011Z"
   },
   {
    "duration": 16,
    "start_time": "2022-04-27T18:12:59.851Z"
   },
   {
    "duration": 11,
    "start_time": "2022-04-27T18:13:07.584Z"
   },
   {
    "duration": 10,
    "start_time": "2022-04-27T18:13:11.287Z"
   },
   {
    "duration": 12,
    "start_time": "2022-04-27T18:15:05.981Z"
   },
   {
    "duration": 10,
    "start_time": "2022-04-27T18:15:17.330Z"
   },
   {
    "duration": 11,
    "start_time": "2022-04-27T18:15:48.471Z"
   },
   {
    "duration": 6,
    "start_time": "2022-04-27T18:42:06.982Z"
   },
   {
    "duration": 7,
    "start_time": "2022-04-27T18:42:20.906Z"
   },
   {
    "duration": 110,
    "start_time": "2022-04-27T18:42:44.742Z"
   },
   {
    "duration": 5,
    "start_time": "2022-04-27T18:42:44.855Z"
   },
   {
    "duration": 23,
    "start_time": "2022-04-27T18:42:44.862Z"
   },
   {
    "duration": 8,
    "start_time": "2022-04-27T18:42:44.887Z"
   },
   {
    "duration": 11,
    "start_time": "2022-04-27T18:42:44.897Z"
   },
   {
    "duration": 24,
    "start_time": "2022-04-27T18:42:44.951Z"
   },
   {
    "duration": 7,
    "start_time": "2022-04-27T18:42:44.978Z"
   },
   {
    "duration": 22,
    "start_time": "2022-04-27T18:42:44.987Z"
   },
   {
    "duration": 55,
    "start_time": "2022-04-27T18:42:45.011Z"
   },
   {
    "duration": 24,
    "start_time": "2022-04-27T18:42:45.069Z"
   },
   {
    "duration": 8,
    "start_time": "2022-04-27T18:42:45.096Z"
   },
   {
    "duration": 55,
    "start_time": "2022-04-27T18:42:45.106Z"
   },
   {
    "duration": 10,
    "start_time": "2022-04-27T18:42:45.164Z"
   },
   {
    "duration": 10,
    "start_time": "2022-04-27T18:42:45.177Z"
   },
   {
    "duration": 10,
    "start_time": "2022-04-27T18:42:45.189Z"
   },
   {
    "duration": 10,
    "start_time": "2022-04-27T18:42:45.201Z"
   },
   {
    "duration": 10,
    "start_time": "2022-04-27T18:42:45.253Z"
   },
   {
    "duration": 20,
    "start_time": "2022-04-27T18:42:45.265Z"
   },
   {
    "duration": 14,
    "start_time": "2022-04-27T18:42:45.288Z"
   },
   {
    "duration": 49,
    "start_time": "2022-04-27T18:42:45.305Z"
   },
   {
    "duration": 9,
    "start_time": "2022-04-27T18:42:45.357Z"
   },
   {
    "duration": 10,
    "start_time": "2022-04-27T18:42:45.369Z"
   },
   {
    "duration": 9,
    "start_time": "2022-04-27T18:42:45.382Z"
   },
   {
    "duration": 69,
    "start_time": "2022-04-27T18:42:45.393Z"
   },
   {
    "duration": 16,
    "start_time": "2022-04-27T18:42:45.465Z"
   },
   {
    "duration": 83,
    "start_time": "2022-04-27T18:42:45.484Z"
   },
   {
    "duration": 31,
    "start_time": "2022-04-27T18:42:45.569Z"
   },
   {
    "duration": 51,
    "start_time": "2022-04-27T18:42:45.607Z"
   },
   {
    "duration": 22,
    "start_time": "2022-04-27T18:42:45.660Z"
   },
   {
    "duration": 18,
    "start_time": "2022-04-27T18:42:45.685Z"
   },
   {
    "duration": 5330,
    "start_time": "2022-04-27T18:42:45.705Z"
   },
   {
    "duration": 43,
    "start_time": "2022-04-27T18:42:51.053Z"
   },
   {
    "duration": 98,
    "start_time": "2022-04-27T18:42:51.099Z"
   },
   {
    "duration": 69,
    "start_time": "2022-04-27T18:42:51.200Z"
   },
   {
    "duration": 48,
    "start_time": "2022-04-27T18:42:51.272Z"
   },
   {
    "duration": 590,
    "start_time": "2022-04-27T18:44:02.965Z"
   },
   {
    "duration": 4,
    "start_time": "2022-04-27T18:44:03.558Z"
   },
   {
    "duration": 29,
    "start_time": "2022-04-27T18:44:03.569Z"
   },
   {
    "duration": 12,
    "start_time": "2022-04-27T18:44:03.601Z"
   },
   {
    "duration": 46,
    "start_time": "2022-04-27T18:44:03.615Z"
   },
   {
    "duration": 24,
    "start_time": "2022-04-27T18:44:03.664Z"
   },
   {
    "duration": 15,
    "start_time": "2022-04-27T18:44:03.690Z"
   },
   {
    "duration": 57,
    "start_time": "2022-04-27T18:44:03.708Z"
   },
   {
    "duration": 21,
    "start_time": "2022-04-27T18:44:03.769Z"
   },
   {
    "duration": 27,
    "start_time": "2022-04-27T18:44:03.792Z"
   },
   {
    "duration": 32,
    "start_time": "2022-04-27T18:44:03.822Z"
   },
   {
    "duration": 28,
    "start_time": "2022-04-27T18:44:03.856Z"
   },
   {
    "duration": 15,
    "start_time": "2022-04-27T18:44:03.887Z"
   },
   {
    "duration": 10,
    "start_time": "2022-04-27T18:44:03.905Z"
   },
   {
    "duration": 39,
    "start_time": "2022-04-27T18:44:03.917Z"
   },
   {
    "duration": 9,
    "start_time": "2022-04-27T18:44:03.959Z"
   },
   {
    "duration": 14,
    "start_time": "2022-04-27T18:44:03.970Z"
   },
   {
    "duration": 20,
    "start_time": "2022-04-27T18:44:03.986Z"
   },
   {
    "duration": 50,
    "start_time": "2022-04-27T18:44:04.009Z"
   },
   {
    "duration": 10,
    "start_time": "2022-04-27T18:44:04.062Z"
   },
   {
    "duration": 8,
    "start_time": "2022-04-27T18:44:04.074Z"
   },
   {
    "duration": 11,
    "start_time": "2022-04-27T18:44:04.084Z"
   },
   {
    "duration": 8,
    "start_time": "2022-04-27T18:44:04.097Z"
   },
   {
    "duration": 61,
    "start_time": "2022-04-27T18:44:04.107Z"
   },
   {
    "duration": 15,
    "start_time": "2022-04-27T18:44:04.170Z"
   },
   {
    "duration": 95,
    "start_time": "2022-04-27T18:44:04.188Z"
   },
   {
    "duration": 31,
    "start_time": "2022-04-27T18:44:04.288Z"
   },
   {
    "duration": 42,
    "start_time": "2022-04-27T18:44:04.321Z"
   },
   {
    "duration": 23,
    "start_time": "2022-04-27T18:44:04.366Z"
   },
   {
    "duration": 61,
    "start_time": "2022-04-27T18:44:04.393Z"
   },
   {
    "duration": 5708,
    "start_time": "2022-04-27T18:44:04.457Z"
   },
   {
    "duration": 65,
    "start_time": "2022-04-27T18:44:10.168Z"
   },
   {
    "duration": 114,
    "start_time": "2022-04-27T18:44:10.253Z"
   },
   {
    "duration": 62,
    "start_time": "2022-04-27T18:44:10.369Z"
   },
   {
    "duration": 75,
    "start_time": "2022-04-27T18:44:10.451Z"
   },
   {
    "duration": 16,
    "start_time": "2022-04-27T18:50:43.257Z"
   },
   {
    "duration": 13,
    "start_time": "2022-04-27T18:50:50.395Z"
   },
   {
    "duration": 675,
    "start_time": "2022-04-27T18:52:24.456Z"
   },
   {
    "duration": 6,
    "start_time": "2022-04-27T18:52:25.135Z"
   },
   {
    "duration": 34,
    "start_time": "2022-04-27T18:52:25.155Z"
   },
   {
    "duration": 9,
    "start_time": "2022-04-27T18:52:25.191Z"
   },
   {
    "duration": 11,
    "start_time": "2022-04-27T18:52:25.203Z"
   },
   {
    "duration": 55,
    "start_time": "2022-04-27T18:52:25.216Z"
   },
   {
    "duration": 8,
    "start_time": "2022-04-27T18:52:25.273Z"
   },
   {
    "duration": 29,
    "start_time": "2022-04-27T18:52:25.283Z"
   },
   {
    "duration": 55,
    "start_time": "2022-04-27T18:52:25.315Z"
   },
   {
    "duration": 28,
    "start_time": "2022-04-27T18:52:25.373Z"
   },
   {
    "duration": 9,
    "start_time": "2022-04-27T18:52:25.403Z"
   },
   {
    "duration": 50,
    "start_time": "2022-04-27T18:52:25.414Z"
   },
   {
    "duration": 10,
    "start_time": "2022-04-27T18:52:25.467Z"
   },
   {
    "duration": 7,
    "start_time": "2022-04-27T18:52:25.481Z"
   },
   {
    "duration": 61,
    "start_time": "2022-04-27T18:52:25.491Z"
   },
   {
    "duration": 10,
    "start_time": "2022-04-27T18:52:25.555Z"
   },
   {
    "duration": 14,
    "start_time": "2022-04-27T18:52:25.568Z"
   },
   {
    "duration": 27,
    "start_time": "2022-04-27T18:52:25.584Z"
   },
   {
    "duration": 49,
    "start_time": "2022-04-27T18:52:25.614Z"
   },
   {
    "duration": 12,
    "start_time": "2022-04-27T18:52:25.665Z"
   },
   {
    "duration": 20,
    "start_time": "2022-04-27T18:52:25.680Z"
   },
   {
    "duration": 21,
    "start_time": "2022-04-27T18:52:25.703Z"
   },
   {
    "duration": 31,
    "start_time": "2022-04-27T18:52:25.726Z"
   },
   {
    "duration": 19,
    "start_time": "2022-04-27T18:52:25.759Z"
   },
   {
    "duration": 21,
    "start_time": "2022-04-27T18:52:25.781Z"
   },
   {
    "duration": 104,
    "start_time": "2022-04-27T18:52:25.806Z"
   },
   {
    "duration": 59,
    "start_time": "2022-04-27T18:52:25.913Z"
   },
   {
    "duration": 32,
    "start_time": "2022-04-27T18:52:25.975Z"
   },
   {
    "duration": 59,
    "start_time": "2022-04-27T18:52:26.010Z"
   },
   {
    "duration": 30,
    "start_time": "2022-04-27T18:52:26.072Z"
   },
   {
    "duration": 5636,
    "start_time": "2022-04-27T18:52:26.105Z"
   },
   {
    "duration": 61,
    "start_time": "2022-04-27T18:52:31.753Z"
   },
   {
    "duration": 123,
    "start_time": "2022-04-27T18:52:31.817Z"
   },
   {
    "duration": 72,
    "start_time": "2022-04-27T18:52:31.944Z"
   },
   {
    "duration": 84,
    "start_time": "2022-04-27T18:52:32.018Z"
   },
   {
    "duration": 500,
    "start_time": "2022-05-02T16:22:54.644Z"
   },
   {
    "duration": 4,
    "start_time": "2022-05-02T16:22:55.146Z"
   },
   {
    "duration": 16,
    "start_time": "2022-05-02T16:22:55.152Z"
   },
   {
    "duration": 7,
    "start_time": "2022-05-02T16:22:55.170Z"
   },
   {
    "duration": 9,
    "start_time": "2022-05-02T16:22:55.179Z"
   },
   {
    "duration": 42,
    "start_time": "2022-05-02T16:22:55.189Z"
   },
   {
    "duration": 5,
    "start_time": "2022-05-02T16:22:55.233Z"
   },
   {
    "duration": 15,
    "start_time": "2022-05-02T16:22:55.239Z"
   },
   {
    "duration": 13,
    "start_time": "2022-05-02T16:22:55.255Z"
   },
   {
    "duration": 17,
    "start_time": "2022-05-02T16:22:55.270Z"
   },
   {
    "duration": 6,
    "start_time": "2022-05-02T16:22:55.322Z"
   },
   {
    "duration": 15,
    "start_time": "2022-05-02T16:22:55.329Z"
   },
   {
    "duration": 6,
    "start_time": "2022-05-02T16:22:55.345Z"
   },
   {
    "duration": 4,
    "start_time": "2022-05-02T16:22:55.353Z"
   },
   {
    "duration": 12,
    "start_time": "2022-05-02T16:22:55.358Z"
   },
   {
    "duration": 7,
    "start_time": "2022-05-02T16:22:55.373Z"
   },
   {
    "duration": 9,
    "start_time": "2022-05-02T16:22:55.381Z"
   },
   {
    "duration": 37,
    "start_time": "2022-05-02T16:22:55.392Z"
   },
   {
    "duration": 9,
    "start_time": "2022-05-02T16:22:55.430Z"
   },
   {
    "duration": 6,
    "start_time": "2022-05-02T16:22:55.440Z"
   },
   {
    "duration": 12,
    "start_time": "2022-05-02T16:22:55.447Z"
   },
   {
    "duration": 10,
    "start_time": "2022-05-02T16:22:55.460Z"
   },
   {
    "duration": 9,
    "start_time": "2022-05-02T16:22:55.472Z"
   },
   {
    "duration": 15,
    "start_time": "2022-05-02T16:22:55.483Z"
   },
   {
    "duration": 10,
    "start_time": "2022-05-02T16:22:55.522Z"
   },
   {
    "duration": 36,
    "start_time": "2022-05-02T16:22:55.533Z"
   },
   {
    "duration": 19,
    "start_time": "2022-05-02T16:22:55.571Z"
   },
   {
    "duration": 40,
    "start_time": "2022-05-02T16:22:55.592Z"
   },
   {
    "duration": 14,
    "start_time": "2022-05-02T16:22:55.634Z"
   },
   {
    "duration": 14,
    "start_time": "2022-05-02T16:22:55.650Z"
   },
   {
    "duration": 4142,
    "start_time": "2022-05-02T16:22:55.666Z"
   },
   {
    "duration": 37,
    "start_time": "2022-05-02T16:22:59.810Z"
   },
   {
    "duration": 46,
    "start_time": "2022-05-02T16:22:59.849Z"
   },
   {
    "duration": 50,
    "start_time": "2022-05-02T16:22:59.896Z"
   },
   {
    "duration": 31,
    "start_time": "2022-05-02T16:22:59.947Z"
   },
   {
    "duration": 27,
    "start_time": "2022-05-02T16:32:43.614Z"
   },
   {
    "duration": 42,
    "start_time": "2022-05-02T16:33:41.952Z"
   }
  ],
  "kernelspec": {
   "display_name": "Python 3 (ipykernel)",
   "language": "python",
   "name": "python3"
  },
  "language_info": {
   "codemirror_mode": {
    "name": "ipython",
    "version": 3
   },
   "file_extension": ".py",
   "mimetype": "text/x-python",
   "name": "python",
   "nbconvert_exporter": "python",
   "pygments_lexer": "ipython3",
   "version": "3.9.7"
  },
  "toc": {
   "base_numbering": 1,
   "nav_menu": {},
   "number_sections": true,
   "sideBar": true,
   "skip_h1_title": false,
   "title_cell": "Table of Contents",
   "title_sidebar": "Contents",
   "toc_cell": false,
   "toc_position": {},
   "toc_section_display": true,
   "toc_window_display": true
  }
 },
 "nbformat": 4,
 "nbformat_minor": 5
}
