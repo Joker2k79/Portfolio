{
 "cells": [
  {
   "cell_type": "markdown",
   "metadata": {},
   "source": [
    "# Определение перспективного тарифа для телеком компании\n",
    "\n",
    "Клиентам предлагают два тарифных плана: «Смарт» и «Ультра». Чтобы скорректировать рекламный бюджет, коммерческий департамент федерального оператора сотовой связи хочет понять, какой тариф приносит больше денег. Необходимо сделать предварительный анализ тарифов на небольшой выборке клиентов.   \n",
    "В распоряжении данные 500 пользователей «Мегалайна»: кто они, откуда, каким тарифом пользуются, сколько звонков и сообщений каждый отправил за 2018 год. Нужно проанализировать поведение клиентов и сделать вывод — какой тариф лучше."
   ]
  },
  {
   "cell_type": "markdown",
   "metadata": {},
   "source": [
    "## Изучение данных из файлов"
   ]
  },
  {
   "cell_type": "code",
   "execution_count": 1,
   "metadata": {},
   "outputs": [],
   "source": [
    "#импортируем необходимые библиотеки\n",
    "import pandas as pd\n",
    "import numpy as np\n",
    "import matplotlib.pyplot as plt\n",
    "from scipy import stats as st"
   ]
  },
  {
   "cell_type": "code",
   "execution_count": 2,
   "metadata": {},
   "outputs": [],
   "source": [
    "#читаем файлы\n",
    "df_tariffs = pd.read_csv('/datasets/tariffs.csv')\n",
    "df_users = pd.read_csv('/datasets/users.csv')\n",
    "df_calls = pd.read_csv('/datasets/calls.csv')\n",
    "df_messages = pd.read_csv('/datasets/messages.csv')\n",
    "df_internet = pd.read_csv('/datasets/internet.csv', index_col=0)\n",
    "pd.set_option('display.float_format', '{:.1f}'.format)"
   ]
  },
  {
   "cell_type": "markdown",
   "metadata": {},
   "source": [
    "#### Таблица df_tariffs"
   ]
  },
  {
   "cell_type": "code",
   "execution_count": 3,
   "metadata": {},
   "outputs": [
    {
     "name": "stdout",
     "output_type": "stream",
     "text": [
      "<class 'pandas.core.frame.DataFrame'>\n",
      "RangeIndex: 2 entries, 0 to 1\n",
      "Data columns (total 8 columns):\n",
      " #   Column                 Non-Null Count  Dtype \n",
      "---  ------                 --------------  ----- \n",
      " 0   messages_included      2 non-null      int64 \n",
      " 1   mb_per_month_included  2 non-null      int64 \n",
      " 2   minutes_included       2 non-null      int64 \n",
      " 3   rub_monthly_fee        2 non-null      int64 \n",
      " 4   rub_per_gb             2 non-null      int64 \n",
      " 5   rub_per_message        2 non-null      int64 \n",
      " 6   rub_per_minute         2 non-null      int64 \n",
      " 7   tariff_name            2 non-null      object\n",
      "dtypes: int64(7), object(1)\n",
      "memory usage: 256.0+ bytes\n"
     ]
    },
    {
     "data": {
      "text/html": [
       "<div>\n",
       "<style scoped>\n",
       "    .dataframe tbody tr th:only-of-type {\n",
       "        vertical-align: middle;\n",
       "    }\n",
       "\n",
       "    .dataframe tbody tr th {\n",
       "        vertical-align: top;\n",
       "    }\n",
       "\n",
       "    .dataframe thead th {\n",
       "        text-align: right;\n",
       "    }\n",
       "</style>\n",
       "<table border=\"1\" class=\"dataframe\">\n",
       "  <thead>\n",
       "    <tr style=\"text-align: right;\">\n",
       "      <th></th>\n",
       "      <th>messages_included</th>\n",
       "      <th>mb_per_month_included</th>\n",
       "      <th>minutes_included</th>\n",
       "      <th>rub_monthly_fee</th>\n",
       "      <th>rub_per_gb</th>\n",
       "      <th>rub_per_message</th>\n",
       "      <th>rub_per_minute</th>\n",
       "      <th>tariff_name</th>\n",
       "    </tr>\n",
       "  </thead>\n",
       "  <tbody>\n",
       "    <tr>\n",
       "      <th>0</th>\n",
       "      <td>50</td>\n",
       "      <td>15360</td>\n",
       "      <td>500</td>\n",
       "      <td>550</td>\n",
       "      <td>200</td>\n",
       "      <td>3</td>\n",
       "      <td>3</td>\n",
       "      <td>smart</td>\n",
       "    </tr>\n",
       "    <tr>\n",
       "      <th>1</th>\n",
       "      <td>1000</td>\n",
       "      <td>30720</td>\n",
       "      <td>3000</td>\n",
       "      <td>1950</td>\n",
       "      <td>150</td>\n",
       "      <td>1</td>\n",
       "      <td>1</td>\n",
       "      <td>ultra</td>\n",
       "    </tr>\n",
       "  </tbody>\n",
       "</table>\n",
       "</div>"
      ],
      "text/plain": [
       "   messages_included  mb_per_month_included  minutes_included  \\\n",
       "0                 50                  15360               500   \n",
       "1               1000                  30720              3000   \n",
       "\n",
       "   rub_monthly_fee  rub_per_gb  rub_per_message  rub_per_minute tariff_name  \n",
       "0              550         200                3               3       smart  \n",
       "1             1950         150                1               1       ultra  "
      ]
     },
     "execution_count": 3,
     "metadata": {},
     "output_type": "execute_result"
    }
   ],
   "source": [
    "df_tariffs.info()\n",
    "df_tariffs"
   ]
  },
  {
   "cell_type": "markdown",
   "metadata": {},
   "source": [
    "#### Таблица df_users"
   ]
  },
  {
   "cell_type": "code",
   "execution_count": 4,
   "metadata": {},
   "outputs": [
    {
     "name": "stdout",
     "output_type": "stream",
     "text": [
      "<class 'pandas.core.frame.DataFrame'>\n",
      "RangeIndex: 500 entries, 0 to 499\n",
      "Data columns (total 8 columns):\n",
      " #   Column      Non-Null Count  Dtype \n",
      "---  ------      --------------  ----- \n",
      " 0   user_id     500 non-null    int64 \n",
      " 1   age         500 non-null    int64 \n",
      " 2   churn_date  38 non-null     object\n",
      " 3   city        500 non-null    object\n",
      " 4   first_name  500 non-null    object\n",
      " 5   last_name   500 non-null    object\n",
      " 6   reg_date    500 non-null    object\n",
      " 7   tariff      500 non-null    object\n",
      "dtypes: int64(2), object(6)\n",
      "memory usage: 31.4+ KB\n"
     ]
    },
    {
     "data": {
      "text/html": [
       "<div>\n",
       "<style scoped>\n",
       "    .dataframe tbody tr th:only-of-type {\n",
       "        vertical-align: middle;\n",
       "    }\n",
       "\n",
       "    .dataframe tbody tr th {\n",
       "        vertical-align: top;\n",
       "    }\n",
       "\n",
       "    .dataframe thead th {\n",
       "        text-align: right;\n",
       "    }\n",
       "</style>\n",
       "<table border=\"1\" class=\"dataframe\">\n",
       "  <thead>\n",
       "    <tr style=\"text-align: right;\">\n",
       "      <th></th>\n",
       "      <th>user_id</th>\n",
       "      <th>age</th>\n",
       "      <th>churn_date</th>\n",
       "      <th>city</th>\n",
       "      <th>first_name</th>\n",
       "      <th>last_name</th>\n",
       "      <th>reg_date</th>\n",
       "      <th>tariff</th>\n",
       "    </tr>\n",
       "  </thead>\n",
       "  <tbody>\n",
       "    <tr>\n",
       "      <th>0</th>\n",
       "      <td>1000</td>\n",
       "      <td>52</td>\n",
       "      <td>NaN</td>\n",
       "      <td>Краснодар</td>\n",
       "      <td>Рафаил</td>\n",
       "      <td>Верещагин</td>\n",
       "      <td>2018-05-25</td>\n",
       "      <td>ultra</td>\n",
       "    </tr>\n",
       "    <tr>\n",
       "      <th>1</th>\n",
       "      <td>1001</td>\n",
       "      <td>41</td>\n",
       "      <td>NaN</td>\n",
       "      <td>Москва</td>\n",
       "      <td>Иван</td>\n",
       "      <td>Ежов</td>\n",
       "      <td>2018-11-01</td>\n",
       "      <td>smart</td>\n",
       "    </tr>\n",
       "    <tr>\n",
       "      <th>2</th>\n",
       "      <td>1002</td>\n",
       "      <td>59</td>\n",
       "      <td>NaN</td>\n",
       "      <td>Стерлитамак</td>\n",
       "      <td>Евгений</td>\n",
       "      <td>Абрамович</td>\n",
       "      <td>2018-06-17</td>\n",
       "      <td>smart</td>\n",
       "    </tr>\n",
       "    <tr>\n",
       "      <th>3</th>\n",
       "      <td>1003</td>\n",
       "      <td>23</td>\n",
       "      <td>NaN</td>\n",
       "      <td>Москва</td>\n",
       "      <td>Белла</td>\n",
       "      <td>Белякова</td>\n",
       "      <td>2018-08-17</td>\n",
       "      <td>ultra</td>\n",
       "    </tr>\n",
       "    <tr>\n",
       "      <th>4</th>\n",
       "      <td>1004</td>\n",
       "      <td>68</td>\n",
       "      <td>NaN</td>\n",
       "      <td>Новокузнецк</td>\n",
       "      <td>Татьяна</td>\n",
       "      <td>Авдеенко</td>\n",
       "      <td>2018-05-14</td>\n",
       "      <td>ultra</td>\n",
       "    </tr>\n",
       "  </tbody>\n",
       "</table>\n",
       "</div>"
      ],
      "text/plain": [
       "   user_id  age churn_date         city first_name  last_name    reg_date  \\\n",
       "0     1000   52        NaN    Краснодар     Рафаил  Верещагин  2018-05-25   \n",
       "1     1001   41        NaN       Москва       Иван       Ежов  2018-11-01   \n",
       "2     1002   59        NaN  Стерлитамак    Евгений  Абрамович  2018-06-17   \n",
       "3     1003   23        NaN       Москва      Белла   Белякова  2018-08-17   \n",
       "4     1004   68        NaN  Новокузнецк    Татьяна   Авдеенко  2018-05-14   \n",
       "\n",
       "  tariff  \n",
       "0  ultra  \n",
       "1  smart  \n",
       "2  smart  \n",
       "3  ultra  \n",
       "4  ultra  "
      ]
     },
     "metadata": {},
     "output_type": "display_data"
    },
    {
     "data": {
      "text/html": [
       "<div>\n",
       "<style scoped>\n",
       "    .dataframe tbody tr th:only-of-type {\n",
       "        vertical-align: middle;\n",
       "    }\n",
       "\n",
       "    .dataframe tbody tr th {\n",
       "        vertical-align: top;\n",
       "    }\n",
       "\n",
       "    .dataframe thead th {\n",
       "        text-align: right;\n",
       "    }\n",
       "</style>\n",
       "<table border=\"1\" class=\"dataframe\">\n",
       "  <thead>\n",
       "    <tr style=\"text-align: right;\">\n",
       "      <th></th>\n",
       "      <th>user_id</th>\n",
       "      <th>age</th>\n",
       "    </tr>\n",
       "  </thead>\n",
       "  <tbody>\n",
       "    <tr>\n",
       "      <th>min</th>\n",
       "      <td>1000.0</td>\n",
       "      <td>18.0</td>\n",
       "    </tr>\n",
       "    <tr>\n",
       "      <th>max</th>\n",
       "      <td>1499.0</td>\n",
       "      <td>75.0</td>\n",
       "    </tr>\n",
       "  </tbody>\n",
       "</table>\n",
       "</div>"
      ],
      "text/plain": [
       "     user_id  age\n",
       "min   1000.0 18.0\n",
       "max   1499.0 75.0"
      ]
     },
     "execution_count": 4,
     "metadata": {},
     "output_type": "execute_result"
    }
   ],
   "source": [
    "df_users.info()\n",
    "display(df_users.head())\n",
    "df_users.describe().loc[['min', 'max']]"
   ]
  },
  {
   "cell_type": "markdown",
   "metadata": {},
   "source": [
    "#### Таблица df_calls"
   ]
  },
  {
   "cell_type": "code",
   "execution_count": 5,
   "metadata": {},
   "outputs": [
    {
     "name": "stdout",
     "output_type": "stream",
     "text": [
      "<class 'pandas.core.frame.DataFrame'>\n",
      "RangeIndex: 202607 entries, 0 to 202606\n",
      "Data columns (total 4 columns):\n",
      " #   Column     Non-Null Count   Dtype  \n",
      "---  ------     --------------   -----  \n",
      " 0   id         202607 non-null  object \n",
      " 1   call_date  202607 non-null  object \n",
      " 2   duration   202607 non-null  float64\n",
      " 3   user_id    202607 non-null  int64  \n",
      "dtypes: float64(1), int64(1), object(2)\n",
      "memory usage: 6.2+ MB\n"
     ]
    },
    {
     "data": {
      "text/html": [
       "<div>\n",
       "<style scoped>\n",
       "    .dataframe tbody tr th:only-of-type {\n",
       "        vertical-align: middle;\n",
       "    }\n",
       "\n",
       "    .dataframe tbody tr th {\n",
       "        vertical-align: top;\n",
       "    }\n",
       "\n",
       "    .dataframe thead th {\n",
       "        text-align: right;\n",
       "    }\n",
       "</style>\n",
       "<table border=\"1\" class=\"dataframe\">\n",
       "  <thead>\n",
       "    <tr style=\"text-align: right;\">\n",
       "      <th></th>\n",
       "      <th>id</th>\n",
       "      <th>call_date</th>\n",
       "      <th>duration</th>\n",
       "      <th>user_id</th>\n",
       "    </tr>\n",
       "  </thead>\n",
       "  <tbody>\n",
       "    <tr>\n",
       "      <th>0</th>\n",
       "      <td>1000_0</td>\n",
       "      <td>2018-07-25</td>\n",
       "      <td>0.0</td>\n",
       "      <td>1000</td>\n",
       "    </tr>\n",
       "    <tr>\n",
       "      <th>1</th>\n",
       "      <td>1000_1</td>\n",
       "      <td>2018-08-17</td>\n",
       "      <td>0.0</td>\n",
       "      <td>1000</td>\n",
       "    </tr>\n",
       "    <tr>\n",
       "      <th>2</th>\n",
       "      <td>1000_2</td>\n",
       "      <td>2018-06-11</td>\n",
       "      <td>2.9</td>\n",
       "      <td>1000</td>\n",
       "    </tr>\n",
       "    <tr>\n",
       "      <th>3</th>\n",
       "      <td>1000_3</td>\n",
       "      <td>2018-09-21</td>\n",
       "      <td>13.8</td>\n",
       "      <td>1000</td>\n",
       "    </tr>\n",
       "    <tr>\n",
       "      <th>4</th>\n",
       "      <td>1000_4</td>\n",
       "      <td>2018-12-15</td>\n",
       "      <td>5.2</td>\n",
       "      <td>1000</td>\n",
       "    </tr>\n",
       "  </tbody>\n",
       "</table>\n",
       "</div>"
      ],
      "text/plain": [
       "       id   call_date  duration  user_id\n",
       "0  1000_0  2018-07-25       0.0     1000\n",
       "1  1000_1  2018-08-17       0.0     1000\n",
       "2  1000_2  2018-06-11       2.9     1000\n",
       "3  1000_3  2018-09-21      13.8     1000\n",
       "4  1000_4  2018-12-15       5.2     1000"
      ]
     },
     "metadata": {},
     "output_type": "display_data"
    },
    {
     "data": {
      "text/html": [
       "<div>\n",
       "<style scoped>\n",
       "    .dataframe tbody tr th:only-of-type {\n",
       "        vertical-align: middle;\n",
       "    }\n",
       "\n",
       "    .dataframe tbody tr th {\n",
       "        vertical-align: top;\n",
       "    }\n",
       "\n",
       "    .dataframe thead th {\n",
       "        text-align: right;\n",
       "    }\n",
       "</style>\n",
       "<table border=\"1\" class=\"dataframe\">\n",
       "  <thead>\n",
       "    <tr style=\"text-align: right;\">\n",
       "      <th></th>\n",
       "      <th>duration</th>\n",
       "      <th>user_id</th>\n",
       "    </tr>\n",
       "  </thead>\n",
       "  <tbody>\n",
       "    <tr>\n",
       "      <th>min</th>\n",
       "      <td>0.0</td>\n",
       "      <td>1000.0</td>\n",
       "    </tr>\n",
       "    <tr>\n",
       "      <th>max</th>\n",
       "      <td>38.0</td>\n",
       "      <td>1499.0</td>\n",
       "    </tr>\n",
       "  </tbody>\n",
       "</table>\n",
       "</div>"
      ],
      "text/plain": [
       "     duration  user_id\n",
       "min       0.0   1000.0\n",
       "max      38.0   1499.0"
      ]
     },
     "execution_count": 5,
     "metadata": {},
     "output_type": "execute_result"
    }
   ],
   "source": [
    "df_calls.info()\n",
    "display(df_calls.head())\n",
    "df_calls.describe().loc[['min', 'max']]"
   ]
  },
  {
   "cell_type": "markdown",
   "metadata": {},
   "source": [
    "#### Таблица df_messages"
   ]
  },
  {
   "cell_type": "code",
   "execution_count": 6,
   "metadata": {},
   "outputs": [
    {
     "name": "stdout",
     "output_type": "stream",
     "text": [
      "<class 'pandas.core.frame.DataFrame'>\n",
      "RangeIndex: 123036 entries, 0 to 123035\n",
      "Data columns (total 3 columns):\n",
      " #   Column        Non-Null Count   Dtype \n",
      "---  ------        --------------   ----- \n",
      " 0   id            123036 non-null  object\n",
      " 1   message_date  123036 non-null  object\n",
      " 2   user_id       123036 non-null  int64 \n",
      "dtypes: int64(1), object(2)\n",
      "memory usage: 2.8+ MB\n"
     ]
    },
    {
     "data": {
      "text/html": [
       "<div>\n",
       "<style scoped>\n",
       "    .dataframe tbody tr th:only-of-type {\n",
       "        vertical-align: middle;\n",
       "    }\n",
       "\n",
       "    .dataframe tbody tr th {\n",
       "        vertical-align: top;\n",
       "    }\n",
       "\n",
       "    .dataframe thead th {\n",
       "        text-align: right;\n",
       "    }\n",
       "</style>\n",
       "<table border=\"1\" class=\"dataframe\">\n",
       "  <thead>\n",
       "    <tr style=\"text-align: right;\">\n",
       "      <th></th>\n",
       "      <th>id</th>\n",
       "      <th>message_date</th>\n",
       "      <th>user_id</th>\n",
       "    </tr>\n",
       "  </thead>\n",
       "  <tbody>\n",
       "    <tr>\n",
       "      <th>0</th>\n",
       "      <td>1000_0</td>\n",
       "      <td>2018-06-27</td>\n",
       "      <td>1000</td>\n",
       "    </tr>\n",
       "    <tr>\n",
       "      <th>1</th>\n",
       "      <td>1000_1</td>\n",
       "      <td>2018-10-08</td>\n",
       "      <td>1000</td>\n",
       "    </tr>\n",
       "    <tr>\n",
       "      <th>2</th>\n",
       "      <td>1000_2</td>\n",
       "      <td>2018-08-04</td>\n",
       "      <td>1000</td>\n",
       "    </tr>\n",
       "    <tr>\n",
       "      <th>3</th>\n",
       "      <td>1000_3</td>\n",
       "      <td>2018-06-16</td>\n",
       "      <td>1000</td>\n",
       "    </tr>\n",
       "    <tr>\n",
       "      <th>4</th>\n",
       "      <td>1000_4</td>\n",
       "      <td>2018-12-05</td>\n",
       "      <td>1000</td>\n",
       "    </tr>\n",
       "  </tbody>\n",
       "</table>\n",
       "</div>"
      ],
      "text/plain": [
       "       id message_date  user_id\n",
       "0  1000_0   2018-06-27     1000\n",
       "1  1000_1   2018-10-08     1000\n",
       "2  1000_2   2018-08-04     1000\n",
       "3  1000_3   2018-06-16     1000\n",
       "4  1000_4   2018-12-05     1000"
      ]
     },
     "metadata": {},
     "output_type": "display_data"
    },
    {
     "data": {
      "text/html": [
       "<div>\n",
       "<style scoped>\n",
       "    .dataframe tbody tr th:only-of-type {\n",
       "        vertical-align: middle;\n",
       "    }\n",
       "\n",
       "    .dataframe tbody tr th {\n",
       "        vertical-align: top;\n",
       "    }\n",
       "\n",
       "    .dataframe thead th {\n",
       "        text-align: right;\n",
       "    }\n",
       "</style>\n",
       "<table border=\"1\" class=\"dataframe\">\n",
       "  <thead>\n",
       "    <tr style=\"text-align: right;\">\n",
       "      <th></th>\n",
       "      <th>user_id</th>\n",
       "    </tr>\n",
       "  </thead>\n",
       "  <tbody>\n",
       "    <tr>\n",
       "      <th>min</th>\n",
       "      <td>1000.0</td>\n",
       "    </tr>\n",
       "    <tr>\n",
       "      <th>max</th>\n",
       "      <td>1499.0</td>\n",
       "    </tr>\n",
       "  </tbody>\n",
       "</table>\n",
       "</div>"
      ],
      "text/plain": [
       "     user_id\n",
       "min   1000.0\n",
       "max   1499.0"
      ]
     },
     "execution_count": 6,
     "metadata": {},
     "output_type": "execute_result"
    }
   ],
   "source": [
    "df_messages.info()\n",
    "display(df_messages.head())\n",
    "df_messages.describe().loc[['min', 'max']]"
   ]
  },
  {
   "cell_type": "markdown",
   "metadata": {},
   "source": [
    "#### Таблица df_internet"
   ]
  },
  {
   "cell_type": "code",
   "execution_count": 7,
   "metadata": {},
   "outputs": [
    {
     "name": "stdout",
     "output_type": "stream",
     "text": [
      "<class 'pandas.core.frame.DataFrame'>\n",
      "Int64Index: 149396 entries, 0 to 149395\n",
      "Data columns (total 4 columns):\n",
      " #   Column        Non-Null Count   Dtype  \n",
      "---  ------        --------------   -----  \n",
      " 0   id            149396 non-null  object \n",
      " 1   mb_used       149396 non-null  float64\n",
      " 2   session_date  149396 non-null  object \n",
      " 3   user_id       149396 non-null  int64  \n",
      "dtypes: float64(1), int64(1), object(2)\n",
      "memory usage: 5.7+ MB\n"
     ]
    },
    {
     "data": {
      "text/html": [
       "<div>\n",
       "<style scoped>\n",
       "    .dataframe tbody tr th:only-of-type {\n",
       "        vertical-align: middle;\n",
       "    }\n",
       "\n",
       "    .dataframe tbody tr th {\n",
       "        vertical-align: top;\n",
       "    }\n",
       "\n",
       "    .dataframe thead th {\n",
       "        text-align: right;\n",
       "    }\n",
       "</style>\n",
       "<table border=\"1\" class=\"dataframe\">\n",
       "  <thead>\n",
       "    <tr style=\"text-align: right;\">\n",
       "      <th></th>\n",
       "      <th>id</th>\n",
       "      <th>mb_used</th>\n",
       "      <th>session_date</th>\n",
       "      <th>user_id</th>\n",
       "    </tr>\n",
       "  </thead>\n",
       "  <tbody>\n",
       "    <tr>\n",
       "      <th>0</th>\n",
       "      <td>1000_0</td>\n",
       "      <td>113.0</td>\n",
       "      <td>2018-11-25</td>\n",
       "      <td>1000</td>\n",
       "    </tr>\n",
       "    <tr>\n",
       "      <th>1</th>\n",
       "      <td>1000_1</td>\n",
       "      <td>1052.8</td>\n",
       "      <td>2018-09-07</td>\n",
       "      <td>1000</td>\n",
       "    </tr>\n",
       "    <tr>\n",
       "      <th>2</th>\n",
       "      <td>1000_2</td>\n",
       "      <td>1197.3</td>\n",
       "      <td>2018-06-25</td>\n",
       "      <td>1000</td>\n",
       "    </tr>\n",
       "    <tr>\n",
       "      <th>3</th>\n",
       "      <td>1000_3</td>\n",
       "      <td>550.3</td>\n",
       "      <td>2018-08-22</td>\n",
       "      <td>1000</td>\n",
       "    </tr>\n",
       "    <tr>\n",
       "      <th>4</th>\n",
       "      <td>1000_4</td>\n",
       "      <td>302.6</td>\n",
       "      <td>2018-09-24</td>\n",
       "      <td>1000</td>\n",
       "    </tr>\n",
       "  </tbody>\n",
       "</table>\n",
       "</div>"
      ],
      "text/plain": [
       "       id  mb_used session_date  user_id\n",
       "0  1000_0    113.0   2018-11-25     1000\n",
       "1  1000_1   1052.8   2018-09-07     1000\n",
       "2  1000_2   1197.3   2018-06-25     1000\n",
       "3  1000_3    550.3   2018-08-22     1000\n",
       "4  1000_4    302.6   2018-09-24     1000"
      ]
     },
     "metadata": {},
     "output_type": "display_data"
    },
    {
     "data": {
      "text/html": [
       "<div>\n",
       "<style scoped>\n",
       "    .dataframe tbody tr th:only-of-type {\n",
       "        vertical-align: middle;\n",
       "    }\n",
       "\n",
       "    .dataframe tbody tr th {\n",
       "        vertical-align: top;\n",
       "    }\n",
       "\n",
       "    .dataframe thead th {\n",
       "        text-align: right;\n",
       "    }\n",
       "</style>\n",
       "<table border=\"1\" class=\"dataframe\">\n",
       "  <thead>\n",
       "    <tr style=\"text-align: right;\">\n",
       "      <th></th>\n",
       "      <th>mb_used</th>\n",
       "      <th>user_id</th>\n",
       "    </tr>\n",
       "  </thead>\n",
       "  <tbody>\n",
       "    <tr>\n",
       "      <th>min</th>\n",
       "      <td>0.0</td>\n",
       "      <td>1000.0</td>\n",
       "    </tr>\n",
       "    <tr>\n",
       "      <th>max</th>\n",
       "      <td>1724.8</td>\n",
       "      <td>1499.0</td>\n",
       "    </tr>\n",
       "  </tbody>\n",
       "</table>\n",
       "</div>"
      ],
      "text/plain": [
       "     mb_used  user_id\n",
       "min      0.0   1000.0\n",
       "max   1724.8   1499.0"
      ]
     },
     "execution_count": 7,
     "metadata": {},
     "output_type": "execute_result"
    }
   ],
   "source": [
    "df_internet.info()\n",
    "display(df_internet.head())\n",
    "df_internet.describe().loc[['min', 'max']]"
   ]
  },
  {
   "cell_type": "markdown",
   "metadata": {},
   "source": [
    "### Вывод"
   ]
  },
  {
   "cell_type": "markdown",
   "metadata": {},
   "source": [
    "В данных представлены несколько таблиц с информацией о пользователях и тарифных планах; данные о звонках, сообщениях и интернет-трафике. У некоторых данных неверный формат и есть пропущенные значения, исправим на следующем этапе"
   ]
  },
  {
   "cell_type": "markdown",
   "metadata": {},
   "source": [
    "## Обработка данных"
   ]
  },
  {
   "cell_type": "markdown",
   "metadata": {},
   "source": [
    "### Приведение данных к нужным типам"
   ]
  },
  {
   "cell_type": "markdown",
   "metadata": {},
   "source": [
    "Заменим во всех колонках с датами тип данных с object на datetime:"
   ]
  },
  {
   "cell_type": "code",
   "execution_count": 8,
   "metadata": {},
   "outputs": [],
   "source": [
    "df_users['churn_date'] = pd.to_datetime(df_users['churn_date'], format='%Y-%m-%d')\n",
    "df_users['reg_date'] = pd.to_datetime(df_users['reg_date'], format='%Y-%m-%d')\n",
    "df_calls['call_date'] = pd.to_datetime(df_calls['call_date'], format='%Y-%m-%d')\n",
    "df_messages['message_date'] = pd.to_datetime(df_messages['message_date'], format='%Y-%m-%d')\n",
    "df_internet['session_date'] = pd.to_datetime(df_internet['session_date'], format='%Y-%m-%d')"
   ]
  },
  {
   "cell_type": "markdown",
   "metadata": {},
   "source": [
    "### Обработка ошибок и пропусков"
   ]
  },
  {
   "cell_type": "markdown",
   "metadata": {},
   "source": [
    "#### Проверка на дубликаты:"
   ]
  },
  {
   "cell_type": "code",
   "execution_count": 9,
   "metadata": {},
   "outputs": [
    {
     "data": {
      "text/plain": [
       "0"
      ]
     },
     "execution_count": 9,
     "metadata": {},
     "output_type": "execute_result"
    }
   ],
   "source": [
    "df_tariffs.duplicated().sum()"
   ]
  },
  {
   "cell_type": "code",
   "execution_count": 10,
   "metadata": {},
   "outputs": [
    {
     "data": {
      "text/plain": [
       "0"
      ]
     },
     "execution_count": 10,
     "metadata": {},
     "output_type": "execute_result"
    }
   ],
   "source": [
    "df_users.duplicated().sum()"
   ]
  },
  {
   "cell_type": "code",
   "execution_count": 11,
   "metadata": {},
   "outputs": [
    {
     "data": {
      "text/plain": [
       "0"
      ]
     },
     "execution_count": 11,
     "metadata": {},
     "output_type": "execute_result"
    }
   ],
   "source": [
    "df_calls.duplicated().sum()"
   ]
  },
  {
   "cell_type": "code",
   "execution_count": 12,
   "metadata": {},
   "outputs": [
    {
     "data": {
      "text/plain": [
       "0"
      ]
     },
     "execution_count": 12,
     "metadata": {},
     "output_type": "execute_result"
    }
   ],
   "source": [
    "df_messages.duplicated().sum()"
   ]
  },
  {
   "cell_type": "code",
   "execution_count": 13,
   "metadata": {},
   "outputs": [
    {
     "data": {
      "text/plain": [
       "0"
      ]
     },
     "execution_count": 13,
     "metadata": {},
     "output_type": "execute_result"
    }
   ],
   "source": [
    "df_internet.duplicated().sum()"
   ]
  },
  {
   "cell_type": "markdown",
   "metadata": {},
   "source": [
    "#### df_users cтолбец 'churn_date'"
   ]
  },
  {
   "cell_type": "markdown",
   "metadata": {},
   "source": [
    "Содержит пустые значения, но в исследовании этот столбец использован не будет - оставим пропуски как есть"
   ]
  },
  {
   "cell_type": "markdown",
   "metadata": {},
   "source": [
    "#### df_calls столбец 'duration'"
   ]
  },
  {
   "cell_type": "markdown",
   "metadata": {},
   "source": [
    "Оператор всегда округляет секунды до минут; каждый звонок округляется отдельно: даже если он длился всего 1 секунду, будет засчитан как 1 минута. Округлим значения по правилам оператора и приведем в целочисленный тип:"
   ]
  },
  {
   "cell_type": "code",
   "execution_count": 14,
   "metadata": {},
   "outputs": [],
   "source": [
    "df_calls['duration'] = np.ceil(df_calls['duration']).astype(int)"
   ]
  },
  {
   "cell_type": "code",
   "execution_count": 15,
   "metadata": {},
   "outputs": [
    {
     "data": {
      "text/html": [
       "<div>\n",
       "<style scoped>\n",
       "    .dataframe tbody tr th:only-of-type {\n",
       "        vertical-align: middle;\n",
       "    }\n",
       "\n",
       "    .dataframe tbody tr th {\n",
       "        vertical-align: top;\n",
       "    }\n",
       "\n",
       "    .dataframe thead th {\n",
       "        text-align: right;\n",
       "    }\n",
       "</style>\n",
       "<table border=\"1\" class=\"dataframe\">\n",
       "  <thead>\n",
       "    <tr style=\"text-align: right;\">\n",
       "      <th></th>\n",
       "      <th>id</th>\n",
       "      <th>call_date</th>\n",
       "      <th>duration</th>\n",
       "      <th>user_id</th>\n",
       "    </tr>\n",
       "  </thead>\n",
       "  <tbody>\n",
       "    <tr>\n",
       "      <th>0</th>\n",
       "      <td>1000_0</td>\n",
       "      <td>2018-07-25</td>\n",
       "      <td>0</td>\n",
       "      <td>1000</td>\n",
       "    </tr>\n",
       "    <tr>\n",
       "      <th>1</th>\n",
       "      <td>1000_1</td>\n",
       "      <td>2018-08-17</td>\n",
       "      <td>0</td>\n",
       "      <td>1000</td>\n",
       "    </tr>\n",
       "    <tr>\n",
       "      <th>2</th>\n",
       "      <td>1000_2</td>\n",
       "      <td>2018-06-11</td>\n",
       "      <td>3</td>\n",
       "      <td>1000</td>\n",
       "    </tr>\n",
       "    <tr>\n",
       "      <th>3</th>\n",
       "      <td>1000_3</td>\n",
       "      <td>2018-09-21</td>\n",
       "      <td>14</td>\n",
       "      <td>1000</td>\n",
       "    </tr>\n",
       "    <tr>\n",
       "      <th>4</th>\n",
       "      <td>1000_4</td>\n",
       "      <td>2018-12-15</td>\n",
       "      <td>6</td>\n",
       "      <td>1000</td>\n",
       "    </tr>\n",
       "  </tbody>\n",
       "</table>\n",
       "</div>"
      ],
      "text/plain": [
       "       id  call_date  duration  user_id\n",
       "0  1000_0 2018-07-25         0     1000\n",
       "1  1000_1 2018-08-17         0     1000\n",
       "2  1000_2 2018-06-11         3     1000\n",
       "3  1000_3 2018-09-21        14     1000\n",
       "4  1000_4 2018-12-15         6     1000"
      ]
     },
     "execution_count": 15,
     "metadata": {},
     "output_type": "execute_result"
    }
   ],
   "source": [
    "df_calls.head()"
   ]
  },
  {
   "cell_type": "markdown",
   "metadata": {},
   "source": [
    "#### df_internet столбец 'Unnamed: 0'"
   ]
  },
  {
   "cell_type": "markdown",
   "metadata": {},
   "source": [
    "Бесполезный столбец, повторяющий индексы строк, удалим его:  "
   ]
  },
  {
   "cell_type": "markdown",
   "metadata": {},
   "source": [
    "#df_internet = pd.read_csv('/datasets/internet.csv', index_col=0)"
   ]
  },
  {
   "cell_type": "markdown",
   "metadata": {},
   "source": [
    "### Расчет значений для каждого пользователя"
   ]
  },
  {
   "cell_type": "markdown",
   "metadata": {},
   "source": [
    "#### Количество звонков и израсходованных минут по месяцам:"
   ]
  },
  {
   "cell_type": "code",
   "execution_count": 17,
   "metadata": {},
   "outputs": [
    {
     "name": "stdout",
     "output_type": "stream",
     "text": [
      "<class 'pandas.core.frame.DataFrame'>\n",
      "RangeIndex: 202607 entries, 0 to 202606\n",
      "Data columns (total 5 columns):\n",
      " #   Column     Non-Null Count   Dtype         \n",
      "---  ------     --------------   -----         \n",
      " 0   id         202607 non-null  object        \n",
      " 1   call_date  202607 non-null  datetime64[ns]\n",
      " 2   duration   202607 non-null  int64         \n",
      " 3   user_id    202607 non-null  int64         \n",
      " 4   month      202607 non-null  int64         \n",
      "dtypes: datetime64[ns](1), int64(3), object(1)\n",
      "memory usage: 7.7+ MB\n"
     ]
    }
   ],
   "source": [
    "#добавляем столбец month\n",
    "df_calls['month'] = df_calls['call_date'].dt.month\n",
    "df_calls.info()"
   ]
  },
  {
   "cell_type": "code",
   "execution_count": 18,
   "metadata": {},
   "outputs": [
    {
     "name": "stdout",
     "output_type": "stream",
     "text": [
      "<class 'pandas.core.frame.DataFrame'>\n",
      "MultiIndex: 3174 entries, (1000, 5) to (1499, 12)\n",
      "Data columns (total 2 columns):\n",
      " #   Column          Non-Null Count  Dtype\n",
      "---  ------          --------------  -----\n",
      " 0   calls_duration  3174 non-null   int64\n",
      " 1   calls_count     3174 non-null   int64\n",
      "dtypes: int64(2)\n",
      "memory usage: 62.9 KB\n"
     ]
    }
   ],
   "source": [
    "#cгруппируем данные по user_id и month\n",
    "df_calls_pt = df_calls.pivot_table(index=['user_id', 'month'], aggfunc={'duration':sum, 'id':'count'}) \n",
    "df_calls_pt.columns = ['calls_duration', 'calls_count']\n",
    "df_calls_pt.info()"
   ]
  },
  {
   "cell_type": "markdown",
   "metadata": {},
   "source": [
    "#### Количество отправленных сообщений по месяцам:"
   ]
  },
  {
   "cell_type": "code",
   "execution_count": 19,
   "metadata": {},
   "outputs": [],
   "source": [
    "df_messages['month'] = df_messages['message_date'].dt.month\n",
    "df_messages_pt = df_messages.pivot_table(index=['user_id', 'month'], aggfunc={'id':'count'})\n",
    "df_messages_pt.columns = ['messages']\n",
    "#df_messages_pt"
   ]
  },
  {
   "cell_type": "markdown",
   "metadata": {},
   "source": [
    "#### Объем израсходованного интернет-трафика по месяцам:"
   ]
  },
  {
   "cell_type": "code",
   "execution_count": 20,
   "metadata": {},
   "outputs": [],
   "source": [
    "df_internet['month'] = df_internet['session_date'].dt.month\n",
    "df_internet_pt = df_internet.pivot_table(index=['user_id', 'month'], aggfunc={'mb_used':sum})\n",
    "df_internet_pt.columns = ['traffic']\n",
    "#df_internet_pt.info()"
   ]
  },
  {
   "cell_type": "markdown",
   "metadata": {},
   "source": [
    "#### Помесячная выручка с каждого пользователя:"
   ]
  },
  {
   "cell_type": "code",
   "execution_count": 21,
   "metadata": {},
   "outputs": [
    {
     "data": {
      "text/html": [
       "<div>\n",
       "<style scoped>\n",
       "    .dataframe tbody tr th:only-of-type {\n",
       "        vertical-align: middle;\n",
       "    }\n",
       "\n",
       "    .dataframe tbody tr th {\n",
       "        vertical-align: top;\n",
       "    }\n",
       "\n",
       "    .dataframe thead th {\n",
       "        text-align: right;\n",
       "    }\n",
       "</style>\n",
       "<table border=\"1\" class=\"dataframe\">\n",
       "  <thead>\n",
       "    <tr style=\"text-align: right;\">\n",
       "      <th></th>\n",
       "      <th>month</th>\n",
       "      <th>traffic</th>\n",
       "      <th>calls_duration</th>\n",
       "      <th>calls_count</th>\n",
       "      <th>messages</th>\n",
       "    </tr>\n",
       "    <tr>\n",
       "      <th>user_id</th>\n",
       "      <th></th>\n",
       "      <th></th>\n",
       "      <th></th>\n",
       "      <th></th>\n",
       "      <th></th>\n",
       "    </tr>\n",
       "  </thead>\n",
       "  <tbody>\n",
       "    <tr>\n",
       "      <th>1000</th>\n",
       "      <td>5</td>\n",
       "      <td>2253.5</td>\n",
       "      <td>159.0</td>\n",
       "      <td>22.0</td>\n",
       "      <td>22.0</td>\n",
       "    </tr>\n",
       "    <tr>\n",
       "      <th>1000</th>\n",
       "      <td>6</td>\n",
       "      <td>23233.8</td>\n",
       "      <td>172.0</td>\n",
       "      <td>43.0</td>\n",
       "      <td>60.0</td>\n",
       "    </tr>\n",
       "    <tr>\n",
       "      <th>1000</th>\n",
       "      <td>7</td>\n",
       "      <td>14003.6</td>\n",
       "      <td>340.0</td>\n",
       "      <td>47.0</td>\n",
       "      <td>75.0</td>\n",
       "    </tr>\n",
       "    <tr>\n",
       "      <th>1000</th>\n",
       "      <td>8</td>\n",
       "      <td>14055.9</td>\n",
       "      <td>408.0</td>\n",
       "      <td>52.0</td>\n",
       "      <td>81.0</td>\n",
       "    </tr>\n",
       "    <tr>\n",
       "      <th>1000</th>\n",
       "      <td>9</td>\n",
       "      <td>14568.9</td>\n",
       "      <td>466.0</td>\n",
       "      <td>58.0</td>\n",
       "      <td>57.0</td>\n",
       "    </tr>\n",
       "    <tr>\n",
       "      <th>...</th>\n",
       "      <td>...</td>\n",
       "      <td>...</td>\n",
       "      <td>...</td>\n",
       "      <td>...</td>\n",
       "      <td>...</td>\n",
       "    </tr>\n",
       "    <tr>\n",
       "      <th>1498</th>\n",
       "      <td>10</td>\n",
       "      <td>20579.4</td>\n",
       "      <td>247.0</td>\n",
       "      <td>41.0</td>\n",
       "      <td>42.0</td>\n",
       "    </tr>\n",
       "    <tr>\n",
       "      <th>1499</th>\n",
       "      <td>9</td>\n",
       "      <td>1845.8</td>\n",
       "      <td>70.0</td>\n",
       "      <td>9.0</td>\n",
       "      <td>11.0</td>\n",
       "    </tr>\n",
       "    <tr>\n",
       "      <th>1499</th>\n",
       "      <td>10</td>\n",
       "      <td>17788.5</td>\n",
       "      <td>449.0</td>\n",
       "      <td>68.0</td>\n",
       "      <td>48.0</td>\n",
       "    </tr>\n",
       "    <tr>\n",
       "      <th>1499</th>\n",
       "      <td>11</td>\n",
       "      <td>17963.3</td>\n",
       "      <td>612.0</td>\n",
       "      <td>74.0</td>\n",
       "      <td>59.0</td>\n",
       "    </tr>\n",
       "    <tr>\n",
       "      <th>1499</th>\n",
       "      <td>12</td>\n",
       "      <td>13055.6</td>\n",
       "      <td>492.0</td>\n",
       "      <td>69.0</td>\n",
       "      <td>66.0</td>\n",
       "    </tr>\n",
       "  </tbody>\n",
       "</table>\n",
       "<p>3214 rows × 5 columns</p>\n",
       "</div>"
      ],
      "text/plain": [
       "         month  traffic  calls_duration  calls_count  messages\n",
       "user_id                                                       \n",
       "1000         5   2253.5           159.0         22.0      22.0\n",
       "1000         6  23233.8           172.0         43.0      60.0\n",
       "1000         7  14003.6           340.0         47.0      75.0\n",
       "1000         8  14055.9           408.0         52.0      81.0\n",
       "1000         9  14568.9           466.0         58.0      57.0\n",
       "...        ...      ...             ...          ...       ...\n",
       "1498        10  20579.4           247.0         41.0      42.0\n",
       "1499         9   1845.8            70.0          9.0      11.0\n",
       "1499        10  17788.5           449.0         68.0      48.0\n",
       "1499        11  17963.3           612.0         74.0      59.0\n",
       "1499        12  13055.6           492.0         69.0      66.0\n",
       "\n",
       "[3214 rows x 5 columns]"
      ]
     },
     "execution_count": 21,
     "metadata": {},
     "output_type": "execute_result"
    }
   ],
   "source": [
    "#объединяем сводные таблицы по индексам и сбрасываем индекс month для последующего объединения с df_users\n",
    "df_cmi_pt = df_internet_pt.join([df_calls_pt, df_messages_pt], how='outer').reset_index(level='month')\n",
    "df_cmi_pt"
   ]
  },
  {
   "cell_type": "code",
   "execution_count": 22,
   "metadata": {},
   "outputs": [
    {
     "name": "stdout",
     "output_type": "stream",
     "text": [
      "<class 'pandas.core.frame.DataFrame'>\n",
      "Int64Index: 3214 entries, 1000 to 1499\n",
      "Data columns (total 5 columns):\n",
      " #   Column          Non-Null Count  Dtype  \n",
      "---  ------          --------------  -----  \n",
      " 0   month           3214 non-null   int64  \n",
      " 1   traffic         3203 non-null   float64\n",
      " 2   calls_duration  3174 non-null   float64\n",
      " 3   calls_count     3174 non-null   float64\n",
      " 4   messages        2717 non-null   float64\n",
      "dtypes: float64(4), int64(1)\n",
      "memory usage: 150.7 KB\n"
     ]
    }
   ],
   "source": [
    "# проверка\n",
    "df_cmi_pt.info()"
   ]
  },
  {
   "cell_type": "code",
   "execution_count": 23,
   "metadata": {},
   "outputs": [
    {
     "name": "stdout",
     "output_type": "stream",
     "text": [
      "<class 'pandas.core.frame.DataFrame'>\n",
      "Int64Index: 3216 entries, 0 to 499\n",
      "Data columns (total 13 columns):\n",
      " #   Column          Non-Null Count  Dtype         \n",
      "---  ------          --------------  -----         \n",
      " 0   user_id         3216 non-null   int64         \n",
      " 1   age             3216 non-null   int64         \n",
      " 2   churn_date      189 non-null    datetime64[ns]\n",
      " 3   city            3216 non-null   object        \n",
      " 4   first_name      3216 non-null   object        \n",
      " 5   last_name       3216 non-null   object        \n",
      " 6   reg_date        3216 non-null   datetime64[ns]\n",
      " 7   tariff          3216 non-null   object        \n",
      " 8   month           3214 non-null   float64       \n",
      " 9   traffic         3203 non-null   float64       \n",
      " 10  calls_duration  3174 non-null   float64       \n",
      " 11  calls_count     3174 non-null   float64       \n",
      " 12  messages        2717 non-null   float64       \n",
      "dtypes: datetime64[ns](2), float64(5), int64(2), object(4)\n",
      "memory usage: 351.8+ KB\n"
     ]
    }
   ],
   "source": [
    "#объединяем с таблицей users\n",
    "df_overall_pt = df_users.join(df_cmi_pt, on='user_id')\n",
    "df_overall_pt.info()\n",
    "#df_overall_pt.head(1)"
   ]
  },
  {
   "cell_type": "code",
   "execution_count": 24,
   "metadata": {},
   "outputs": [],
   "source": [
    "df_overall_pt['traffic'] = np.ceil(df_overall_pt['traffic'] / 1024)"
   ]
  },
  {
   "cell_type": "code",
   "execution_count": 25,
   "metadata": {},
   "outputs": [
    {
     "data": {
      "text/html": [
       "<div>\n",
       "<style scoped>\n",
       "    .dataframe tbody tr th:only-of-type {\n",
       "        vertical-align: middle;\n",
       "    }\n",
       "\n",
       "    .dataframe tbody tr th {\n",
       "        vertical-align: top;\n",
       "    }\n",
       "\n",
       "    .dataframe thead th {\n",
       "        text-align: right;\n",
       "    }\n",
       "</style>\n",
       "<table border=\"1\" class=\"dataframe\">\n",
       "  <thead>\n",
       "    <tr style=\"text-align: right;\">\n",
       "      <th></th>\n",
       "      <th>user_id</th>\n",
       "      <th>age</th>\n",
       "      <th>city</th>\n",
       "      <th>tariff</th>\n",
       "      <th>month</th>\n",
       "      <th>traffic</th>\n",
       "      <th>calls_duration</th>\n",
       "      <th>messages</th>\n",
       "    </tr>\n",
       "  </thead>\n",
       "  <tbody>\n",
       "    <tr>\n",
       "      <th>27</th>\n",
       "      <td>1027</td>\n",
       "      <td>62</td>\n",
       "      <td>Петрозаводск</td>\n",
       "      <td>smart</td>\n",
       "      <td>9.0</td>\n",
       "      <td>19.0</td>\n",
       "      <td>388.0</td>\n",
       "      <td>10.0</td>\n",
       "    </tr>\n",
       "    <tr>\n",
       "      <th>172</th>\n",
       "      <td>1172</td>\n",
       "      <td>40</td>\n",
       "      <td>Санкт-Петербург</td>\n",
       "      <td>smart</td>\n",
       "      <td>7.0</td>\n",
       "      <td>29.0</td>\n",
       "      <td>401.0</td>\n",
       "      <td>5.0</td>\n",
       "    </tr>\n",
       "    <tr>\n",
       "      <th>181</th>\n",
       "      <td>1181</td>\n",
       "      <td>37</td>\n",
       "      <td>Омск</td>\n",
       "      <td>smart</td>\n",
       "      <td>12.0</td>\n",
       "      <td>28.0</td>\n",
       "      <td>351.0</td>\n",
       "      <td>82.0</td>\n",
       "    </tr>\n",
       "  </tbody>\n",
       "</table>\n",
       "</div>"
      ],
      "text/plain": [
       "     user_id  age             city tariff  month  traffic  calls_duration  \\\n",
       "27      1027   62     Петрозаводск  smart    9.0     19.0           388.0   \n",
       "172     1172   40  Санкт-Петербург  smart    7.0     29.0           401.0   \n",
       "181     1181   37             Омск  smart   12.0     28.0           351.0   \n",
       "\n",
       "     messages  \n",
       "27       10.0  \n",
       "172       5.0  \n",
       "181      82.0  "
      ]
     },
     "execution_count": 25,
     "metadata": {},
     "output_type": "execute_result"
    }
   ],
   "source": [
    "#удаляем ненужные для расчета выручки столбцы\n",
    "df_overall_pt.drop(columns=['churn_date', 'first_name', 'last_name', 'reg_date', 'calls_count'], inplace=True)\n",
    "df_overall_pt.sample(3)"
   ]
  },
  {
   "cell_type": "code",
   "execution_count": 26,
   "metadata": {
    "scrolled": true
   },
   "outputs": [
    {
     "data": {
      "text/plain": [
       "user_id             0\n",
       "age                 0\n",
       "city                0\n",
       "tariff              0\n",
       "month               2\n",
       "traffic            13\n",
       "calls_duration     42\n",
       "messages          499\n",
       "dtype: int64"
      ]
     },
     "execution_count": 26,
     "metadata": {},
     "output_type": "execute_result"
    }
   ],
   "source": [
    "#проверяем на пропуски\n",
    "df_overall_pt.isna().sum()"
   ]
  },
  {
   "cell_type": "code",
   "execution_count": 27,
   "metadata": {},
   "outputs": [
    {
     "data": {
      "text/html": [
       "<div>\n",
       "<style scoped>\n",
       "    .dataframe tbody tr th:only-of-type {\n",
       "        vertical-align: middle;\n",
       "    }\n",
       "\n",
       "    .dataframe tbody tr th {\n",
       "        vertical-align: top;\n",
       "    }\n",
       "\n",
       "    .dataframe thead th {\n",
       "        text-align: right;\n",
       "    }\n",
       "</style>\n",
       "<table border=\"1\" class=\"dataframe\">\n",
       "  <thead>\n",
       "    <tr style=\"text-align: right;\">\n",
       "      <th></th>\n",
       "      <th>user_id</th>\n",
       "      <th>age</th>\n",
       "      <th>city</th>\n",
       "      <th>tariff</th>\n",
       "      <th>month</th>\n",
       "      <th>traffic</th>\n",
       "      <th>calls_duration</th>\n",
       "      <th>messages</th>\n",
       "    </tr>\n",
       "  </thead>\n",
       "  <tbody>\n",
       "    <tr>\n",
       "      <th>91</th>\n",
       "      <td>1091</td>\n",
       "      <td>36</td>\n",
       "      <td>Набережные Челны</td>\n",
       "      <td>ultra</td>\n",
       "      <td>5.0</td>\n",
       "      <td>11.0</td>\n",
       "      <td>NaN</td>\n",
       "      <td>30.0</td>\n",
       "    </tr>\n",
       "    <tr>\n",
       "      <th>91</th>\n",
       "      <td>1091</td>\n",
       "      <td>36</td>\n",
       "      <td>Набережные Челны</td>\n",
       "      <td>ultra</td>\n",
       "      <td>6.0</td>\n",
       "      <td>10.0</td>\n",
       "      <td>NaN</td>\n",
       "      <td>30.0</td>\n",
       "    </tr>\n",
       "    <tr>\n",
       "      <th>91</th>\n",
       "      <td>1091</td>\n",
       "      <td>36</td>\n",
       "      <td>Набережные Челны</td>\n",
       "      <td>ultra</td>\n",
       "      <td>7.0</td>\n",
       "      <td>17.0</td>\n",
       "      <td>NaN</td>\n",
       "      <td>35.0</td>\n",
       "    </tr>\n",
       "    <tr>\n",
       "      <th>91</th>\n",
       "      <td>1091</td>\n",
       "      <td>36</td>\n",
       "      <td>Набережные Челны</td>\n",
       "      <td>ultra</td>\n",
       "      <td>8.0</td>\n",
       "      <td>13.0</td>\n",
       "      <td>NaN</td>\n",
       "      <td>31.0</td>\n",
       "    </tr>\n",
       "    <tr>\n",
       "      <th>91</th>\n",
       "      <td>1091</td>\n",
       "      <td>36</td>\n",
       "      <td>Набережные Челны</td>\n",
       "      <td>ultra</td>\n",
       "      <td>9.0</td>\n",
       "      <td>17.0</td>\n",
       "      <td>NaN</td>\n",
       "      <td>32.0</td>\n",
       "    </tr>\n",
       "    <tr>\n",
       "      <th>91</th>\n",
       "      <td>1091</td>\n",
       "      <td>36</td>\n",
       "      <td>Набережные Челны</td>\n",
       "      <td>ultra</td>\n",
       "      <td>10.0</td>\n",
       "      <td>16.0</td>\n",
       "      <td>NaN</td>\n",
       "      <td>44.0</td>\n",
       "    </tr>\n",
       "    <tr>\n",
       "      <th>91</th>\n",
       "      <td>1091</td>\n",
       "      <td>36</td>\n",
       "      <td>Набережные Челны</td>\n",
       "      <td>ultra</td>\n",
       "      <td>11.0</td>\n",
       "      <td>12.0</td>\n",
       "      <td>NaN</td>\n",
       "      <td>28.0</td>\n",
       "    </tr>\n",
       "    <tr>\n",
       "      <th>91</th>\n",
       "      <td>1091</td>\n",
       "      <td>36</td>\n",
       "      <td>Набережные Челны</td>\n",
       "      <td>ultra</td>\n",
       "      <td>12.0</td>\n",
       "      <td>13.0</td>\n",
       "      <td>NaN</td>\n",
       "      <td>42.0</td>\n",
       "    </tr>\n",
       "    <tr>\n",
       "      <th>106</th>\n",
       "      <td>1106</td>\n",
       "      <td>67</td>\n",
       "      <td>Калуга</td>\n",
       "      <td>ultra</td>\n",
       "      <td>4.0</td>\n",
       "      <td>3.0</td>\n",
       "      <td>NaN</td>\n",
       "      <td>9.0</td>\n",
       "    </tr>\n",
       "    <tr>\n",
       "      <th>106</th>\n",
       "      <td>1106</td>\n",
       "      <td>67</td>\n",
       "      <td>Калуга</td>\n",
       "      <td>ultra</td>\n",
       "      <td>5.0</td>\n",
       "      <td>17.0</td>\n",
       "      <td>NaN</td>\n",
       "      <td>28.0</td>\n",
       "    </tr>\n",
       "    <tr>\n",
       "      <th>106</th>\n",
       "      <td>1106</td>\n",
       "      <td>67</td>\n",
       "      <td>Калуга</td>\n",
       "      <td>ultra</td>\n",
       "      <td>6.0</td>\n",
       "      <td>20.0</td>\n",
       "      <td>NaN</td>\n",
       "      <td>30.0</td>\n",
       "    </tr>\n",
       "    <tr>\n",
       "      <th>106</th>\n",
       "      <td>1106</td>\n",
       "      <td>67</td>\n",
       "      <td>Калуга</td>\n",
       "      <td>ultra</td>\n",
       "      <td>7.0</td>\n",
       "      <td>22.0</td>\n",
       "      <td>NaN</td>\n",
       "      <td>24.0</td>\n",
       "    </tr>\n",
       "    <tr>\n",
       "      <th>106</th>\n",
       "      <td>1106</td>\n",
       "      <td>67</td>\n",
       "      <td>Калуга</td>\n",
       "      <td>ultra</td>\n",
       "      <td>8.0</td>\n",
       "      <td>19.0</td>\n",
       "      <td>NaN</td>\n",
       "      <td>25.0</td>\n",
       "    </tr>\n",
       "    <tr>\n",
       "      <th>106</th>\n",
       "      <td>1106</td>\n",
       "      <td>67</td>\n",
       "      <td>Калуга</td>\n",
       "      <td>ultra</td>\n",
       "      <td>9.0</td>\n",
       "      <td>22.0</td>\n",
       "      <td>NaN</td>\n",
       "      <td>23.0</td>\n",
       "    </tr>\n",
       "    <tr>\n",
       "      <th>106</th>\n",
       "      <td>1106</td>\n",
       "      <td>67</td>\n",
       "      <td>Калуга</td>\n",
       "      <td>ultra</td>\n",
       "      <td>10.0</td>\n",
       "      <td>14.0</td>\n",
       "      <td>NaN</td>\n",
       "      <td>33.0</td>\n",
       "    </tr>\n",
       "    <tr>\n",
       "      <th>106</th>\n",
       "      <td>1106</td>\n",
       "      <td>67</td>\n",
       "      <td>Калуга</td>\n",
       "      <td>ultra</td>\n",
       "      <td>11.0</td>\n",
       "      <td>21.0</td>\n",
       "      <td>NaN</td>\n",
       "      <td>29.0</td>\n",
       "    </tr>\n",
       "    <tr>\n",
       "      <th>106</th>\n",
       "      <td>1106</td>\n",
       "      <td>67</td>\n",
       "      <td>Калуга</td>\n",
       "      <td>ultra</td>\n",
       "      <td>12.0</td>\n",
       "      <td>19.0</td>\n",
       "      <td>NaN</td>\n",
       "      <td>24.0</td>\n",
       "    </tr>\n",
       "    <tr>\n",
       "      <th>128</th>\n",
       "      <td>1128</td>\n",
       "      <td>51</td>\n",
       "      <td>Волжский</td>\n",
       "      <td>ultra</td>\n",
       "      <td>NaN</td>\n",
       "      <td>NaN</td>\n",
       "      <td>NaN</td>\n",
       "      <td>NaN</td>\n",
       "    </tr>\n",
       "    <tr>\n",
       "      <th>231</th>\n",
       "      <td>1231</td>\n",
       "      <td>63</td>\n",
       "      <td>Чебоксары</td>\n",
       "      <td>ultra</td>\n",
       "      <td>5.0</td>\n",
       "      <td>11.0</td>\n",
       "      <td>NaN</td>\n",
       "      <td>55.0</td>\n",
       "    </tr>\n",
       "    <tr>\n",
       "      <th>231</th>\n",
       "      <td>1231</td>\n",
       "      <td>63</td>\n",
       "      <td>Чебоксары</td>\n",
       "      <td>ultra</td>\n",
       "      <td>6.0</td>\n",
       "      <td>28.0</td>\n",
       "      <td>NaN</td>\n",
       "      <td>201.0</td>\n",
       "    </tr>\n",
       "    <tr>\n",
       "      <th>231</th>\n",
       "      <td>1231</td>\n",
       "      <td>63</td>\n",
       "      <td>Чебоксары</td>\n",
       "      <td>ultra</td>\n",
       "      <td>7.0</td>\n",
       "      <td>28.0</td>\n",
       "      <td>NaN</td>\n",
       "      <td>211.0</td>\n",
       "    </tr>\n",
       "    <tr>\n",
       "      <th>231</th>\n",
       "      <td>1231</td>\n",
       "      <td>63</td>\n",
       "      <td>Чебоксары</td>\n",
       "      <td>ultra</td>\n",
       "      <td>8.0</td>\n",
       "      <td>32.0</td>\n",
       "      <td>NaN</td>\n",
       "      <td>180.0</td>\n",
       "    </tr>\n",
       "    <tr>\n",
       "      <th>231</th>\n",
       "      <td>1231</td>\n",
       "      <td>63</td>\n",
       "      <td>Чебоксары</td>\n",
       "      <td>ultra</td>\n",
       "      <td>9.0</td>\n",
       "      <td>33.0</td>\n",
       "      <td>NaN</td>\n",
       "      <td>188.0</td>\n",
       "    </tr>\n",
       "    <tr>\n",
       "      <th>231</th>\n",
       "      <td>1231</td>\n",
       "      <td>63</td>\n",
       "      <td>Чебоксары</td>\n",
       "      <td>ultra</td>\n",
       "      <td>10.0</td>\n",
       "      <td>31.0</td>\n",
       "      <td>NaN</td>\n",
       "      <td>185.0</td>\n",
       "    </tr>\n",
       "    <tr>\n",
       "      <th>231</th>\n",
       "      <td>1231</td>\n",
       "      <td>63</td>\n",
       "      <td>Чебоксары</td>\n",
       "      <td>ultra</td>\n",
       "      <td>11.0</td>\n",
       "      <td>27.0</td>\n",
       "      <td>NaN</td>\n",
       "      <td>173.0</td>\n",
       "    </tr>\n",
       "    <tr>\n",
       "      <th>231</th>\n",
       "      <td>1231</td>\n",
       "      <td>63</td>\n",
       "      <td>Чебоксары</td>\n",
       "      <td>ultra</td>\n",
       "      <td>12.0</td>\n",
       "      <td>32.0</td>\n",
       "      <td>NaN</td>\n",
       "      <td>191.0</td>\n",
       "    </tr>\n",
       "    <tr>\n",
       "      <th>328</th>\n",
       "      <td>1328</td>\n",
       "      <td>44</td>\n",
       "      <td>Мурманск</td>\n",
       "      <td>ultra</td>\n",
       "      <td>10.0</td>\n",
       "      <td>22.0</td>\n",
       "      <td>NaN</td>\n",
       "      <td>6.0</td>\n",
       "    </tr>\n",
       "    <tr>\n",
       "      <th>328</th>\n",
       "      <td>1328</td>\n",
       "      <td>44</td>\n",
       "      <td>Мурманск</td>\n",
       "      <td>ultra</td>\n",
       "      <td>11.0</td>\n",
       "      <td>35.0</td>\n",
       "      <td>NaN</td>\n",
       "      <td>8.0</td>\n",
       "    </tr>\n",
       "    <tr>\n",
       "      <th>328</th>\n",
       "      <td>1328</td>\n",
       "      <td>44</td>\n",
       "      <td>Мурманск</td>\n",
       "      <td>ultra</td>\n",
       "      <td>12.0</td>\n",
       "      <td>39.0</td>\n",
       "      <td>NaN</td>\n",
       "      <td>7.0</td>\n",
       "    </tr>\n",
       "    <tr>\n",
       "      <th>371</th>\n",
       "      <td>1371</td>\n",
       "      <td>50</td>\n",
       "      <td>Омск</td>\n",
       "      <td>smart</td>\n",
       "      <td>NaN</td>\n",
       "      <td>NaN</td>\n",
       "      <td>NaN</td>\n",
       "      <td>NaN</td>\n",
       "    </tr>\n",
       "    <tr>\n",
       "      <th>373</th>\n",
       "      <td>1373</td>\n",
       "      <td>34</td>\n",
       "      <td>Улан-Удэ</td>\n",
       "      <td>smart</td>\n",
       "      <td>6.0</td>\n",
       "      <td>13.0</td>\n",
       "      <td>NaN</td>\n",
       "      <td>48.0</td>\n",
       "    </tr>\n",
       "    <tr>\n",
       "      <th>473</th>\n",
       "      <td>1473</td>\n",
       "      <td>18</td>\n",
       "      <td>Красноярск</td>\n",
       "      <td>ultra</td>\n",
       "      <td>8.0</td>\n",
       "      <td>13.0</td>\n",
       "      <td>NaN</td>\n",
       "      <td>17.0</td>\n",
       "    </tr>\n",
       "    <tr>\n",
       "      <th>473</th>\n",
       "      <td>1473</td>\n",
       "      <td>18</td>\n",
       "      <td>Красноярск</td>\n",
       "      <td>ultra</td>\n",
       "      <td>9.0</td>\n",
       "      <td>17.0</td>\n",
       "      <td>NaN</td>\n",
       "      <td>19.0</td>\n",
       "    </tr>\n",
       "    <tr>\n",
       "      <th>473</th>\n",
       "      <td>1473</td>\n",
       "      <td>18</td>\n",
       "      <td>Красноярск</td>\n",
       "      <td>ultra</td>\n",
       "      <td>10.0</td>\n",
       "      <td>14.0</td>\n",
       "      <td>NaN</td>\n",
       "      <td>20.0</td>\n",
       "    </tr>\n",
       "    <tr>\n",
       "      <th>473</th>\n",
       "      <td>1473</td>\n",
       "      <td>18</td>\n",
       "      <td>Красноярск</td>\n",
       "      <td>ultra</td>\n",
       "      <td>11.0</td>\n",
       "      <td>22.0</td>\n",
       "      <td>NaN</td>\n",
       "      <td>14.0</td>\n",
       "    </tr>\n",
       "    <tr>\n",
       "      <th>473</th>\n",
       "      <td>1473</td>\n",
       "      <td>18</td>\n",
       "      <td>Красноярск</td>\n",
       "      <td>ultra</td>\n",
       "      <td>12.0</td>\n",
       "      <td>18.0</td>\n",
       "      <td>NaN</td>\n",
       "      <td>20.0</td>\n",
       "    </tr>\n",
       "    <tr>\n",
       "      <th>476</th>\n",
       "      <td>1476</td>\n",
       "      <td>50</td>\n",
       "      <td>Москва</td>\n",
       "      <td>ultra</td>\n",
       "      <td>4.0</td>\n",
       "      <td>1.0</td>\n",
       "      <td>NaN</td>\n",
       "      <td>NaN</td>\n",
       "    </tr>\n",
       "    <tr>\n",
       "      <th>489</th>\n",
       "      <td>1489</td>\n",
       "      <td>35</td>\n",
       "      <td>Санкт-Петербург</td>\n",
       "      <td>smart</td>\n",
       "      <td>8.0</td>\n",
       "      <td>11.0</td>\n",
       "      <td>NaN</td>\n",
       "      <td>17.0</td>\n",
       "    </tr>\n",
       "    <tr>\n",
       "      <th>489</th>\n",
       "      <td>1489</td>\n",
       "      <td>35</td>\n",
       "      <td>Санкт-Петербург</td>\n",
       "      <td>smart</td>\n",
       "      <td>9.0</td>\n",
       "      <td>17.0</td>\n",
       "      <td>NaN</td>\n",
       "      <td>32.0</td>\n",
       "    </tr>\n",
       "    <tr>\n",
       "      <th>489</th>\n",
       "      <td>1489</td>\n",
       "      <td>35</td>\n",
       "      <td>Санкт-Петербург</td>\n",
       "      <td>smart</td>\n",
       "      <td>10.0</td>\n",
       "      <td>20.0</td>\n",
       "      <td>NaN</td>\n",
       "      <td>21.0</td>\n",
       "    </tr>\n",
       "    <tr>\n",
       "      <th>489</th>\n",
       "      <td>1489</td>\n",
       "      <td>35</td>\n",
       "      <td>Санкт-Петербург</td>\n",
       "      <td>smart</td>\n",
       "      <td>11.0</td>\n",
       "      <td>18.0</td>\n",
       "      <td>NaN</td>\n",
       "      <td>20.0</td>\n",
       "    </tr>\n",
       "    <tr>\n",
       "      <th>489</th>\n",
       "      <td>1489</td>\n",
       "      <td>35</td>\n",
       "      <td>Санкт-Петербург</td>\n",
       "      <td>smart</td>\n",
       "      <td>12.0</td>\n",
       "      <td>17.0</td>\n",
       "      <td>NaN</td>\n",
       "      <td>35.0</td>\n",
       "    </tr>\n",
       "  </tbody>\n",
       "</table>\n",
       "</div>"
      ],
      "text/plain": [
       "     user_id  age              city tariff  month  traffic  calls_duration  \\\n",
       "91      1091   36  Набережные Челны  ultra    5.0     11.0             NaN   \n",
       "91      1091   36  Набережные Челны  ultra    6.0     10.0             NaN   \n",
       "91      1091   36  Набережные Челны  ultra    7.0     17.0             NaN   \n",
       "91      1091   36  Набережные Челны  ultra    8.0     13.0             NaN   \n",
       "91      1091   36  Набережные Челны  ultra    9.0     17.0             NaN   \n",
       "91      1091   36  Набережные Челны  ultra   10.0     16.0             NaN   \n",
       "91      1091   36  Набережные Челны  ultra   11.0     12.0             NaN   \n",
       "91      1091   36  Набережные Челны  ultra   12.0     13.0             NaN   \n",
       "106     1106   67            Калуга  ultra    4.0      3.0             NaN   \n",
       "106     1106   67            Калуга  ultra    5.0     17.0             NaN   \n",
       "106     1106   67            Калуга  ultra    6.0     20.0             NaN   \n",
       "106     1106   67            Калуга  ultra    7.0     22.0             NaN   \n",
       "106     1106   67            Калуга  ultra    8.0     19.0             NaN   \n",
       "106     1106   67            Калуга  ultra    9.0     22.0             NaN   \n",
       "106     1106   67            Калуга  ultra   10.0     14.0             NaN   \n",
       "106     1106   67            Калуга  ultra   11.0     21.0             NaN   \n",
       "106     1106   67            Калуга  ultra   12.0     19.0             NaN   \n",
       "128     1128   51          Волжский  ultra    NaN      NaN             NaN   \n",
       "231     1231   63         Чебоксары  ultra    5.0     11.0             NaN   \n",
       "231     1231   63         Чебоксары  ultra    6.0     28.0             NaN   \n",
       "231     1231   63         Чебоксары  ultra    7.0     28.0             NaN   \n",
       "231     1231   63         Чебоксары  ultra    8.0     32.0             NaN   \n",
       "231     1231   63         Чебоксары  ultra    9.0     33.0             NaN   \n",
       "231     1231   63         Чебоксары  ultra   10.0     31.0             NaN   \n",
       "231     1231   63         Чебоксары  ultra   11.0     27.0             NaN   \n",
       "231     1231   63         Чебоксары  ultra   12.0     32.0             NaN   \n",
       "328     1328   44          Мурманск  ultra   10.0     22.0             NaN   \n",
       "328     1328   44          Мурманск  ultra   11.0     35.0             NaN   \n",
       "328     1328   44          Мурманск  ultra   12.0     39.0             NaN   \n",
       "371     1371   50              Омск  smart    NaN      NaN             NaN   \n",
       "373     1373   34          Улан-Удэ  smart    6.0     13.0             NaN   \n",
       "473     1473   18        Красноярск  ultra    8.0     13.0             NaN   \n",
       "473     1473   18        Красноярск  ultra    9.0     17.0             NaN   \n",
       "473     1473   18        Красноярск  ultra   10.0     14.0             NaN   \n",
       "473     1473   18        Красноярск  ultra   11.0     22.0             NaN   \n",
       "473     1473   18        Красноярск  ultra   12.0     18.0             NaN   \n",
       "476     1476   50            Москва  ultra    4.0      1.0             NaN   \n",
       "489     1489   35   Санкт-Петербург  smart    8.0     11.0             NaN   \n",
       "489     1489   35   Санкт-Петербург  smart    9.0     17.0             NaN   \n",
       "489     1489   35   Санкт-Петербург  smart   10.0     20.0             NaN   \n",
       "489     1489   35   Санкт-Петербург  smart   11.0     18.0             NaN   \n",
       "489     1489   35   Санкт-Петербург  smart   12.0     17.0             NaN   \n",
       "\n",
       "     messages  \n",
       "91       30.0  \n",
       "91       30.0  \n",
       "91       35.0  \n",
       "91       31.0  \n",
       "91       32.0  \n",
       "91       44.0  \n",
       "91       28.0  \n",
       "91       42.0  \n",
       "106       9.0  \n",
       "106      28.0  \n",
       "106      30.0  \n",
       "106      24.0  \n",
       "106      25.0  \n",
       "106      23.0  \n",
       "106      33.0  \n",
       "106      29.0  \n",
       "106      24.0  \n",
       "128       NaN  \n",
       "231      55.0  \n",
       "231     201.0  \n",
       "231     211.0  \n",
       "231     180.0  \n",
       "231     188.0  \n",
       "231     185.0  \n",
       "231     173.0  \n",
       "231     191.0  \n",
       "328       6.0  \n",
       "328       8.0  \n",
       "328       7.0  \n",
       "371       NaN  \n",
       "373      48.0  \n",
       "473      17.0  \n",
       "473      19.0  \n",
       "473      20.0  \n",
       "473      14.0  \n",
       "473      20.0  \n",
       "476       NaN  \n",
       "489      17.0  \n",
       "489      32.0  \n",
       "489      21.0  \n",
       "489      20.0  \n",
       "489      35.0  "
      ]
     },
     "execution_count": 27,
     "metadata": {},
     "output_type": "execute_result"
    }
   ],
   "source": [
    "# проверка\n",
    "df_overall_pt[df_overall_pt['calls_duration'].isna()]"
   ]
  },
  {
   "cell_type": "code",
   "execution_count": 28,
   "metadata": {},
   "outputs": [
    {
     "data": {
      "text/html": [
       "<div>\n",
       "<style scoped>\n",
       "    .dataframe tbody tr th:only-of-type {\n",
       "        vertical-align: middle;\n",
       "    }\n",
       "\n",
       "    .dataframe tbody tr th {\n",
       "        vertical-align: top;\n",
       "    }\n",
       "\n",
       "    .dataframe thead th {\n",
       "        text-align: right;\n",
       "    }\n",
       "</style>\n",
       "<table border=\"1\" class=\"dataframe\">\n",
       "  <thead>\n",
       "    <tr style=\"text-align: right;\">\n",
       "      <th></th>\n",
       "      <th>user_id</th>\n",
       "      <th>age</th>\n",
       "      <th>churn_date</th>\n",
       "      <th>city</th>\n",
       "      <th>first_name</th>\n",
       "      <th>last_name</th>\n",
       "      <th>reg_date</th>\n",
       "      <th>tariff</th>\n",
       "    </tr>\n",
       "  </thead>\n",
       "  <tbody>\n",
       "    <tr>\n",
       "      <th>128</th>\n",
       "      <td>1128</td>\n",
       "      <td>51</td>\n",
       "      <td>2018-12-23</td>\n",
       "      <td>Волжский</td>\n",
       "      <td>Ксения</td>\n",
       "      <td>Агаева</td>\n",
       "      <td>2018-12-15</td>\n",
       "      <td>ultra</td>\n",
       "    </tr>\n",
       "    <tr>\n",
       "      <th>371</th>\n",
       "      <td>1371</td>\n",
       "      <td>50</td>\n",
       "      <td>2018-12-30</td>\n",
       "      <td>Омск</td>\n",
       "      <td>Ириней</td>\n",
       "      <td>Трофимов</td>\n",
       "      <td>2018-12-25</td>\n",
       "      <td>smart</td>\n",
       "    </tr>\n",
       "  </tbody>\n",
       "</table>\n",
       "</div>"
      ],
      "text/plain": [
       "     user_id  age churn_date      city first_name last_name   reg_date tariff\n",
       "128     1128   51 2018-12-23  Волжский     Ксения    Агаева 2018-12-15  ultra\n",
       "371     1371   50 2018-12-30      Омск     Ириней  Трофимов 2018-12-25  smart"
      ]
     },
     "execution_count": 28,
     "metadata": {},
     "output_type": "execute_result"
    }
   ],
   "source": [
    "df_users[(df_users['user_id']==1128) | (df_users['user_id']==1371)]"
   ]
  },
  {
   "cell_type": "markdown",
   "metadata": {},
   "source": [
    "Есть 2 пропуска в столбце month; это значит, что 2 клиента в исследуемом нами периоде не воспользовались телефоном вообще - удалим их. Остальные пропуски заменим на '0':"
   ]
  },
  {
   "cell_type": "code",
   "execution_count": 29,
   "metadata": {},
   "outputs": [],
   "source": [
    "df_overall_pt.dropna(subset=['month'], inplace=True)\n",
    "df_overall_pt.fillna(0, inplace=True)"
   ]
  },
  {
   "cell_type": "markdown",
   "metadata": {},
   "source": [
    "Создадим функцию подсчета выручки в месяц для каждого клиента:"
   ]
  },
  {
   "cell_type": "code",
   "execution_count": 30,
   "metadata": {},
   "outputs": [],
   "source": [
    "def revenue_month(data):\n",
    "    tariff = data['tariff']\n",
    "    traffic = data['traffic']\n",
    "    duration = data['calls_duration']\n",
    "    messages = data['messages']\n",
    "   \n",
    "    if tariff == 'smart':\n",
    "        ext_duration = (duration - df_tariffs.loc[0, 'minutes_included']) if (duration - df_tariffs.loc[0, 'minutes_included'])>=0 else 0\n",
    "#для оплаты дополнительного траффика переведем мегабайты в гигабайты и округлим \"вверх\"        \n",
    "        ext_traffic = (traffic - (df_tariffs.loc[0, 'mb_per_month_included'])/1024) if (traffic - (df_tariffs.loc[0, 'mb_per_month_included'])/1024)>=0 else 0\n",
    "        ext_messages = (messages - df_tariffs.loc[0, 'messages_included']) if (messages - df_tariffs.loc[0, 'messages_included'])>=0 else 0\n",
    "        return (df_tariffs.loc[0, 'rub_per_minute'] * ext_duration +\n",
    "                df_tariffs.loc[0, 'rub_per_gb'] * ext_traffic +      \n",
    "                df_tariffs.loc[0, 'rub_per_message'] * ext_messages + \n",
    "                df_tariffs.loc[0, 'rub_monthly_fee']\n",
    "               )\n",
    "    if tariff == 'ultra':\n",
    "        ext_duration = (duration - df_tariffs.loc[1, 'minutes_included']) if (duration - df_tariffs.loc[1, 'minutes_included'])>=0 else 0       \n",
    "        ext_traffic = (traffic - (df_tariffs.loc[1, 'mb_per_month_included'])/1024) if (traffic - (df_tariffs.loc[1, 'mb_per_month_included'])/1024)>=0 else 0\n",
    "        ext_messages = (messages - df_tariffs.loc[1, 'messages_included']) if (messages - df_tariffs.loc[1, 'messages_included'])>=0 else 0\n",
    "        return (df_tariffs.loc[1, 'rub_per_minute'] * ext_duration +\n",
    "                df_tariffs.loc[1, 'rub_per_gb'] * ext_traffic +      \n",
    "                df_tariffs.loc[1, 'rub_per_message'] * ext_messages + \n",
    "                df_tariffs.loc[1, 'rub_monthly_fee']\n",
    "               )"
   ]
  },
  {
   "cell_type": "code",
   "execution_count": 31,
   "metadata": {},
   "outputs": [
    {
     "data": {
      "text/html": [
       "<div>\n",
       "<style scoped>\n",
       "    .dataframe tbody tr th:only-of-type {\n",
       "        vertical-align: middle;\n",
       "    }\n",
       "\n",
       "    .dataframe tbody tr th {\n",
       "        vertical-align: top;\n",
       "    }\n",
       "\n",
       "    .dataframe thead th {\n",
       "        text-align: right;\n",
       "    }\n",
       "</style>\n",
       "<table border=\"1\" class=\"dataframe\">\n",
       "  <thead>\n",
       "    <tr style=\"text-align: right;\">\n",
       "      <th></th>\n",
       "      <th>user_id</th>\n",
       "      <th>age</th>\n",
       "      <th>city</th>\n",
       "      <th>tariff</th>\n",
       "      <th>month</th>\n",
       "      <th>traffic</th>\n",
       "      <th>calls_duration</th>\n",
       "      <th>messages</th>\n",
       "      <th>revenue</th>\n",
       "    </tr>\n",
       "  </thead>\n",
       "  <tbody>\n",
       "    <tr>\n",
       "      <th>323</th>\n",
       "      <td>1323</td>\n",
       "      <td>67</td>\n",
       "      <td>Челябинск</td>\n",
       "      <td>smart</td>\n",
       "      <td>8.0</td>\n",
       "      <td>17.0</td>\n",
       "      <td>481.0</td>\n",
       "      <td>59.0</td>\n",
       "      <td>977.0</td>\n",
       "    </tr>\n",
       "    <tr>\n",
       "      <th>486</th>\n",
       "      <td>1486</td>\n",
       "      <td>35</td>\n",
       "      <td>Нижний Новгород</td>\n",
       "      <td>smart</td>\n",
       "      <td>11.0</td>\n",
       "      <td>36.0</td>\n",
       "      <td>764.0</td>\n",
       "      <td>96.0</td>\n",
       "      <td>5680.0</td>\n",
       "    </tr>\n",
       "    <tr>\n",
       "      <th>311</th>\n",
       "      <td>1311</td>\n",
       "      <td>33</td>\n",
       "      <td>Тверь</td>\n",
       "      <td>smart</td>\n",
       "      <td>10.0</td>\n",
       "      <td>15.0</td>\n",
       "      <td>316.0</td>\n",
       "      <td>67.0</td>\n",
       "      <td>601.0</td>\n",
       "    </tr>\n",
       "    <tr>\n",
       "      <th>389</th>\n",
       "      <td>1389</td>\n",
       "      <td>29</td>\n",
       "      <td>Москва</td>\n",
       "      <td>smart</td>\n",
       "      <td>10.0</td>\n",
       "      <td>19.0</td>\n",
       "      <td>329.0</td>\n",
       "      <td>3.0</td>\n",
       "      <td>1350.0</td>\n",
       "    </tr>\n",
       "    <tr>\n",
       "      <th>225</th>\n",
       "      <td>1225</td>\n",
       "      <td>71</td>\n",
       "      <td>Оренбург</td>\n",
       "      <td>ultra</td>\n",
       "      <td>12.0</td>\n",
       "      <td>19.0</td>\n",
       "      <td>436.0</td>\n",
       "      <td>0.0</td>\n",
       "      <td>1950.0</td>\n",
       "    </tr>\n",
       "    <tr>\n",
       "      <th>396</th>\n",
       "      <td>1396</td>\n",
       "      <td>23</td>\n",
       "      <td>Пенза</td>\n",
       "      <td>ultra</td>\n",
       "      <td>8.0</td>\n",
       "      <td>16.0</td>\n",
       "      <td>521.0</td>\n",
       "      <td>90.0</td>\n",
       "      <td>1950.0</td>\n",
       "    </tr>\n",
       "    <tr>\n",
       "      <th>440</th>\n",
       "      <td>1440</td>\n",
       "      <td>51</td>\n",
       "      <td>Москва</td>\n",
       "      <td>ultra</td>\n",
       "      <td>5.0</td>\n",
       "      <td>4.0</td>\n",
       "      <td>52.0</td>\n",
       "      <td>17.0</td>\n",
       "      <td>1950.0</td>\n",
       "    </tr>\n",
       "  </tbody>\n",
       "</table>\n",
       "</div>"
      ],
      "text/plain": [
       "     user_id  age             city tariff  month  traffic  calls_duration  \\\n",
       "323     1323   67        Челябинск  smart    8.0     17.0           481.0   \n",
       "486     1486   35  Нижний Новгород  smart   11.0     36.0           764.0   \n",
       "311     1311   33            Тверь  smart   10.0     15.0           316.0   \n",
       "389     1389   29           Москва  smart   10.0     19.0           329.0   \n",
       "225     1225   71         Оренбург  ultra   12.0     19.0           436.0   \n",
       "396     1396   23            Пенза  ultra    8.0     16.0           521.0   \n",
       "440     1440   51           Москва  ultra    5.0      4.0            52.0   \n",
       "\n",
       "     messages  revenue  \n",
       "323      59.0    977.0  \n",
       "486      96.0   5680.0  \n",
       "311      67.0    601.0  \n",
       "389       3.0   1350.0  \n",
       "225       0.0   1950.0  \n",
       "396      90.0   1950.0  \n",
       "440      17.0   1950.0  "
      ]
     },
     "execution_count": 31,
     "metadata": {},
     "output_type": "execute_result"
    }
   ],
   "source": [
    "#создадим столбец 'revenue' применив функцию revenue_month к каждой строке df_overall_pt\n",
    "df_overall_pt['revenue'] = df_overall_pt.apply(revenue_month, axis=1)\n",
    "df_overall_pt.sample(7)"
   ]
  },
  {
   "cell_type": "code",
   "execution_count": 32,
   "metadata": {},
   "outputs": [
    {
     "data": {
      "text/plain": [
       "4914451.0"
      ]
     },
     "execution_count": 32,
     "metadata": {},
     "output_type": "execute_result"
    }
   ],
   "source": [
    "# проверка\n",
    "df_overall_pt['revenue'].sum()"
   ]
  },
  {
   "cell_type": "markdown",
   "metadata": {},
   "source": [
    "### Вывод"
   ]
  },
  {
   "cell_type": "markdown",
   "metadata": {},
   "source": [
    "Там где было необходимо, изменили тип данных; проверили данные на пропуски и ошибки - исправили их. Подсчитали месячное количество минут, сообщений, мегабайт и общий счет для каждого клиента"
   ]
  },
  {
   "cell_type": "markdown",
   "metadata": {},
   "source": [
    "## Анализ данных"
   ]
  },
  {
   "cell_type": "markdown",
   "metadata": {},
   "source": [
    "#### Подсчет среднего количества, медианы, стандартного отклонения и дисперсии"
   ]
  },
  {
   "cell_type": "code",
   "execution_count": 33,
   "metadata": {},
   "outputs": [
    {
     "data": {
      "text/html": [
       "<div>\n",
       "<style scoped>\n",
       "    .dataframe tbody tr th:only-of-type {\n",
       "        vertical-align: middle;\n",
       "    }\n",
       "\n",
       "    .dataframe tbody tr th {\n",
       "        vertical-align: top;\n",
       "    }\n",
       "\n",
       "    .dataframe thead tr th {\n",
       "        text-align: left;\n",
       "    }\n",
       "\n",
       "    .dataframe thead tr:last-of-type th {\n",
       "        text-align: right;\n",
       "    }\n",
       "</style>\n",
       "<table border=\"1\" class=\"dataframe\">\n",
       "  <thead>\n",
       "    <tr>\n",
       "      <th></th>\n",
       "      <th colspan=\"4\" halign=\"left\">calls_duration</th>\n",
       "      <th colspan=\"4\" halign=\"left\">messages</th>\n",
       "      <th colspan=\"4\" halign=\"left\">traffic</th>\n",
       "    </tr>\n",
       "    <tr>\n",
       "      <th></th>\n",
       "      <th>mean</th>\n",
       "      <th>median</th>\n",
       "      <th>std</th>\n",
       "      <th>var</th>\n",
       "      <th>mean</th>\n",
       "      <th>median</th>\n",
       "      <th>std</th>\n",
       "      <th>var</th>\n",
       "      <th>mean</th>\n",
       "      <th>median</th>\n",
       "      <th>std</th>\n",
       "      <th>var</th>\n",
       "    </tr>\n",
       "    <tr>\n",
       "      <th>tariff</th>\n",
       "      <th></th>\n",
       "      <th></th>\n",
       "      <th></th>\n",
       "      <th></th>\n",
       "      <th></th>\n",
       "      <th></th>\n",
       "      <th></th>\n",
       "      <th></th>\n",
       "      <th></th>\n",
       "      <th></th>\n",
       "      <th></th>\n",
       "      <th></th>\n",
       "    </tr>\n",
       "  </thead>\n",
       "  <tbody>\n",
       "    <tr>\n",
       "      <th>smart</th>\n",
       "      <td>417.9</td>\n",
       "      <td>422.0</td>\n",
       "      <td>190.3</td>\n",
       "      <td>36219.3</td>\n",
       "      <td>33.4</td>\n",
       "      <td>28.0</td>\n",
       "      <td>28.2</td>\n",
       "      <td>796.8</td>\n",
       "      <td>16.3</td>\n",
       "      <td>17.0</td>\n",
       "      <td>5.7</td>\n",
       "      <td>33.0</td>\n",
       "    </tr>\n",
       "    <tr>\n",
       "      <th>ultra</th>\n",
       "      <td>526.6</td>\n",
       "      <td>518.0</td>\n",
       "      <td>317.6</td>\n",
       "      <td>100873.6</td>\n",
       "      <td>49.4</td>\n",
       "      <td>38.0</td>\n",
       "      <td>47.8</td>\n",
       "      <td>2285.3</td>\n",
       "      <td>19.5</td>\n",
       "      <td>19.0</td>\n",
       "      <td>9.9</td>\n",
       "      <td>97.1</td>\n",
       "    </tr>\n",
       "  </tbody>\n",
       "</table>\n",
       "</div>"
      ],
      "text/plain": [
       "       calls_duration                       messages                     \\\n",
       "                 mean median   std      var     mean median  std    var   \n",
       "tariff                                                                    \n",
       "smart           417.9  422.0 190.3  36219.3     33.4   28.0 28.2  796.8   \n",
       "ultra           526.6  518.0 317.6 100873.6     49.4   38.0 47.8 2285.3   \n",
       "\n",
       "       traffic                  \n",
       "          mean median std  var  \n",
       "tariff                          \n",
       "smart     16.3   17.0 5.7 33.0  \n",
       "ultra     19.5   19.0 9.9 97.1  "
      ]
     },
     "execution_count": 33,
     "metadata": {},
     "output_type": "execute_result"
    }
   ],
   "source": [
    "df_overall_pt.pivot_table(index=['tariff'], values=['calls_duration', 'messages', 'traffic'], \n",
    "                                 aggfunc={'calls_duration':['median','mean','std','var'], \n",
    "                                          'messages':['median','mean','std','var'],\n",
    "                                          'traffic':['median','mean','std','var']})                                "
   ]
  },
  {
   "cell_type": "markdown",
   "metadata": {},
   "source": [
    "#### Анализ поведения пользователей в зависимости от возраста"
   ]
  },
  {
   "cell_type": "code",
   "execution_count": 34,
   "metadata": {},
   "outputs": [
    {
     "data": {
      "text/html": [
       "<div>\n",
       "<style scoped>\n",
       "    .dataframe tbody tr th:only-of-type {\n",
       "        vertical-align: middle;\n",
       "    }\n",
       "\n",
       "    .dataframe tbody tr th {\n",
       "        vertical-align: top;\n",
       "    }\n",
       "\n",
       "    .dataframe thead tr th {\n",
       "        text-align: left;\n",
       "    }\n",
       "\n",
       "    .dataframe thead tr:last-of-type th {\n",
       "        text-align: right;\n",
       "    }\n",
       "</style>\n",
       "<table border=\"1\" class=\"dataframe\">\n",
       "  <thead>\n",
       "    <tr>\n",
       "      <th></th>\n",
       "      <th></th>\n",
       "      <th>calls_duration</th>\n",
       "      <th>messages</th>\n",
       "      <th>traffic</th>\n",
       "    </tr>\n",
       "    <tr>\n",
       "      <th></th>\n",
       "      <th></th>\n",
       "      <th>median</th>\n",
       "      <th>median</th>\n",
       "      <th>median</th>\n",
       "    </tr>\n",
       "    <tr>\n",
       "      <th>tariff</th>\n",
       "      <th>age_cat</th>\n",
       "      <th></th>\n",
       "      <th></th>\n",
       "      <th></th>\n",
       "    </tr>\n",
       "  </thead>\n",
       "  <tbody>\n",
       "    <tr>\n",
       "      <th rowspan=\"3\" valign=\"top\">smart</th>\n",
       "      <th>молодой</th>\n",
       "      <td>401.0</td>\n",
       "      <td>21.0</td>\n",
       "      <td>17.0</td>\n",
       "    </tr>\n",
       "    <tr>\n",
       "      <th>средний</th>\n",
       "      <td>410.0</td>\n",
       "      <td>27.0</td>\n",
       "      <td>16.0</td>\n",
       "    </tr>\n",
       "    <tr>\n",
       "      <th>старший</th>\n",
       "      <td>446.5</td>\n",
       "      <td>31.0</td>\n",
       "      <td>17.0</td>\n",
       "    </tr>\n",
       "    <tr>\n",
       "      <th rowspan=\"3\" valign=\"top\">ultra</th>\n",
       "      <th>молодой</th>\n",
       "      <td>378.0</td>\n",
       "      <td>55.0</td>\n",
       "      <td>17.0</td>\n",
       "    </tr>\n",
       "    <tr>\n",
       "      <th>средний</th>\n",
       "      <td>531.0</td>\n",
       "      <td>29.0</td>\n",
       "      <td>19.0</td>\n",
       "    </tr>\n",
       "    <tr>\n",
       "      <th>старший</th>\n",
       "      <td>531.0</td>\n",
       "      <td>42.0</td>\n",
       "      <td>20.0</td>\n",
       "    </tr>\n",
       "  </tbody>\n",
       "</table>\n",
       "</div>"
      ],
      "text/plain": [
       "               calls_duration messages traffic\n",
       "                       median   median  median\n",
       "tariff age_cat                                \n",
       "smart  молодой          401.0     21.0    17.0\n",
       "       средний          410.0     27.0    16.0\n",
       "       старший          446.5     31.0    17.0\n",
       "ultra  молодой          378.0     55.0    17.0\n",
       "       средний          531.0     29.0    19.0\n",
       "       старший          531.0     42.0    20.0"
      ]
     },
     "execution_count": 34,
     "metadata": {},
     "output_type": "execute_result"
    }
   ],
   "source": [
    "df_overall_pt.loc[df_overall_pt['age']!=0, 'age_cat'] = 'молодой'\n",
    "df_overall_pt.loc[df_overall_pt['age']>25, 'age_cat'] = 'средний'\n",
    "df_overall_pt.loc[df_overall_pt['age']>50, 'age_cat'] = 'старший'\n",
    "df_overall_pt.pivot_table(index=['tariff','age_cat'], values=['calls_duration', 'messages', 'traffic'], \n",
    "                                 aggfunc={'calls_duration':['median'], \n",
    "                                          'messages':['median'],\n",
    "                                          'traffic':['median']})"
   ]
  },
  {
   "cell_type": "markdown",
   "metadata": {},
   "source": [
    "#### Гистограмма использованных минут"
   ]
  },
  {
   "cell_type": "code",
   "execution_count": 35,
   "metadata": {},
   "outputs": [],
   "source": [
    "#создаем таблицу для гистограмм\n",
    "#hist_pt = df_overall_pt.pivot_table(index=['user_id', 'tariff'], values=['calls_duration', 'messages', 'traffic'])\n",
    "hist_pt = df_overall_pt\n",
    "smart = hist_pt.query('(tariff == \"smart\")')\n",
    "ultra = hist_pt.query('(tariff == \"ultra\")')"
   ]
  },
  {
   "cell_type": "code",
   "execution_count": 36,
   "metadata": {},
   "outputs": [],
   "source": [
    "# check\n",
    "#hist_pt = df_overall_pt.pivot_table(index=['user_id', 'tariff'], values=['calls_duration', 'messages', 'traffic'])\n",
    "#hist_pt.info()"
   ]
  },
  {
   "cell_type": "code",
   "execution_count": 37,
   "metadata": {},
   "outputs": [
    {
     "data": {
      "image/png": "[encoded data removed]",
      "text/plain": [
       "<Figure size 1440x360 with 2 Axes>"
      ]
     },
     "metadata": {
      "needs_background": "light"
     },
     "output_type": "display_data"
    }
   ],
   "source": [
    "fig, axs = plt.subplots(1,2)\n",
    "smart['calls_duration'].plot(bins=50, kind='hist', figsize=(20, 5), title=\"Smart\", ax=axs[0])\n",
    "axs[0].set(xlabel='Использовано минут за месяц', ylabel='Количество пользователей')\n",
    "ultra['calls_duration'].plot(bins=50, kind='hist', figsize=(20, 5), title=\"Ultra\", ax=axs[1])\n",
    "axs[1].set(xlabel='Использовано минут за месяц', ylabel='Количество пользователей')\n",
    "plt.show()"
   ]
  },
  {
   "cell_type": "markdown",
   "metadata": {},
   "source": [
    "Нормальное распределение; Медиана на smart - 422 мин, для ultra - 520 мин; пользователи тарифа ultra никогда не превышали лимит включенных в тариф минут, тогда как клиенты с тарифом smart выходили за рамки в ~30% случаях"
   ]
  },
  {
   "cell_type": "markdown",
   "metadata": {},
   "source": [
    "#### Гистограмма сообщений"
   ]
  },
  {
   "cell_type": "code",
   "execution_count": 38,
   "metadata": {},
   "outputs": [
    {
     "data": {
      "image/png": "[encoded data removed]",
      "text/plain": [
       "<Figure size 1440x360 with 2 Axes>"
      ]
     },
     "metadata": {
      "needs_background": "light"
     },
     "output_type": "display_data"
    }
   ],
   "source": [
    "fig, axs = plt.subplots(1,2)\n",
    "smart['messages'].plot(bins=100, kind='hist', figsize=(20, 5), title=\"Smart\", ax=axs[0])\n",
    "axs[0].set(xlabel='Использовано sms за месяц', ylabel='Количество пользователей')\n",
    "ultra['messages'].plot(bins=100, kind='hist', figsize=(20, 5), title=\"Ultra\", ax=axs[1])\n",
    "axs[1].set(xlabel='Использовано sms за месяц', ylabel='Количество пользователей')\n",
    "plt.show()"
   ]
  },
  {
   "cell_type": "markdown",
   "metadata": {},
   "source": [
    "Часть пользователей вообще не пользуется текстовыми сообщениями на обоих тарифах; медиана для smart-a - 28, для ultra - 38; на smart-е пользователи превышают лимит примерно в ~25% случаях, а вот на ultre никогда не отправляли даже 300 sms-ок  за месяц при лимите в 1000"
   ]
  },
  {
   "cell_type": "markdown",
   "metadata": {},
   "source": [
    "#### Гистограмма интернет траффика"
   ]
  },
  {
   "cell_type": "code",
   "execution_count": 39,
   "metadata": {},
   "outputs": [
    {
     "data": {
      "image/png": "[encoded data removed]",
      "text/plain": [
       "<Figure size 1440x360 with 2 Axes>"
      ]
     },
     "metadata": {
      "needs_background": "light"
     },
     "output_type": "display_data"
    }
   ],
   "source": [
    "fig, axs = plt.subplots(1,2)\n",
    "smart['traffic'].plot(bins=100, kind='hist', figsize=(20, 5), title=\"Smart\", ax=axs[0])\n",
    "axs[0].set(xlabel='Использовано гигабайт за месяц', ylabel='Количество пользователей')\n",
    "ultra['traffic'].plot(bins=100, kind='hist', figsize=(20, 5), title=\"Ultra\", ax=axs[1])\n",
    "axs[1].set(xlabel='Использовано гигабайт за месяц', ylabel='Количество пользователей')\n",
    "plt.show()"
   ]
  },
  {
   "cell_type": "markdown",
   "metadata": {},
   "source": [
    "Нормальное распределение; медиана smarta-a - 17 Gb, у ultra - 19 Gb; превышение лимита случается на обоих тарифах, причем на smart-е это больше половины пользователей в месяц"
   ]
  },
  {
   "cell_type": "markdown",
   "metadata": {},
   "source": [
    "### Вывод"
   ]
  },
  {
   "cell_type": "markdown",
   "metadata": {},
   "source": [
    "\"Безлимитный\" тариф smart не такой уж и безлимитный, и уж точно не 'смарт' - больше половины пользователей этого тарифа вынуждены доплачивать каждый месяц за услуги связи; клиенты тарифа ultra платят больше, но о лимитах в разговорах и сообщениях могут не думать вообще, и только иногда им не хватаем интернет траффика"
   ]
  },
  {
   "cell_type": "markdown",
   "metadata": {},
   "source": [
    "## Проверка гипотез"
   ]
  },
  {
   "cell_type": "markdown",
   "metadata": {},
   "source": [
    "### Cредняя выручка пользователей тарифов \"Ultra\"  и  \"Smart\" "
   ]
  },
  {
   "cell_type": "markdown",
   "metadata": {},
   "source": [
    "Сформулируем нулевую и альтернативную гипотезы:  \n",
    "H0 - средняя выручка пользователей тарифов smart и ultra равны  \n",
    "H1 - средние выручки пользователей тарифов smart и ultra различаются  \n",
    "\n",
    "Для проверки гипотезы применим метод scipy.stats.ttest_ind:"
   ]
  },
  {
   "cell_type": "code",
   "execution_count": 40,
   "metadata": {},
   "outputs": [
    {
     "data": {
      "text/html": [
       "<div>\n",
       "<style scoped>\n",
       "    .dataframe tbody tr th:only-of-type {\n",
       "        vertical-align: middle;\n",
       "    }\n",
       "\n",
       "    .dataframe tbody tr th {\n",
       "        vertical-align: top;\n",
       "    }\n",
       "\n",
       "    .dataframe thead th {\n",
       "        text-align: right;\n",
       "    }\n",
       "</style>\n",
       "<table border=\"1\" class=\"dataframe\">\n",
       "  <thead>\n",
       "    <tr style=\"text-align: right;\">\n",
       "      <th></th>\n",
       "      <th>revenue</th>\n",
       "    </tr>\n",
       "    <tr>\n",
       "      <th>tariff</th>\n",
       "      <th></th>\n",
       "    </tr>\n",
       "  </thead>\n",
       "  <tbody>\n",
       "    <tr>\n",
       "      <th>smart</th>\n",
       "      <td>1023.0</td>\n",
       "    </tr>\n",
       "    <tr>\n",
       "      <th>ultra</th>\n",
       "      <td>1950.0</td>\n",
       "    </tr>\n",
       "  </tbody>\n",
       "</table>\n",
       "</div>"
      ],
      "text/plain": [
       "        revenue\n",
       "tariff         \n",
       "smart    1023.0\n",
       "ultra    1950.0"
      ]
     },
     "execution_count": 40,
     "metadata": {},
     "output_type": "execute_result"
    }
   ],
   "source": [
    "smart_tt = df_overall_pt.query('tariff == \"smart\"')['revenue']\n",
    "ultra_tt = df_overall_pt.query('tariff == \"ultra\"')['revenue']\n",
    "df_overall_pt.pivot_table(index='tariff', values='revenue', aggfunc='median')"
   ]
  },
  {
   "cell_type": "code",
   "execution_count": 41,
   "metadata": {},
   "outputs": [
    {
     "data": {
      "text/html": [
       "<div>\n",
       "<style scoped>\n",
       "    .dataframe tbody tr th:only-of-type {\n",
       "        vertical-align: middle;\n",
       "    }\n",
       "\n",
       "    .dataframe tbody tr th {\n",
       "        vertical-align: top;\n",
       "    }\n",
       "\n",
       "    .dataframe thead th {\n",
       "        text-align: right;\n",
       "    }\n",
       "</style>\n",
       "<table border=\"1\" class=\"dataframe\">\n",
       "  <thead>\n",
       "    <tr style=\"text-align: right;\">\n",
       "      <th></th>\n",
       "      <th>revenue</th>\n",
       "    </tr>\n",
       "    <tr>\n",
       "      <th>tariff</th>\n",
       "      <th></th>\n",
       "    </tr>\n",
       "  </thead>\n",
       "  <tbody>\n",
       "    <tr>\n",
       "      <th>smart</th>\n",
       "      <td>2875351.0</td>\n",
       "    </tr>\n",
       "    <tr>\n",
       "      <th>ultra</th>\n",
       "      <td>2039100.0</td>\n",
       "    </tr>\n",
       "  </tbody>\n",
       "</table>\n",
       "</div>"
      ],
      "text/plain": [
       "         revenue\n",
       "tariff          \n",
       "smart  2875351.0\n",
       "ultra  2039100.0"
      ]
     },
     "execution_count": 41,
     "metadata": {},
     "output_type": "execute_result"
    }
   ],
   "source": [
    "#общая выручка за год для каждого тарифа\n",
    "df_overall_pt.pivot_table(index='tariff', values='revenue', aggfunc='sum')"
   ]
  },
  {
   "cell_type": "code",
   "execution_count": 42,
   "metadata": {},
   "outputs": [
    {
     "name": "stdout",
     "output_type": "stream",
     "text": [
      "p-значение: 4.2606313931076085e-250\n",
      "Отвергаем нулевую гипотезу\n"
     ]
    }
   ],
   "source": [
    "#уровень значимости\n",
    "alpha = .01\n",
    "#дисперсии различаются, поэтому 'equal_var=False'\n",
    "results = st.ttest_ind(smart_tt, ultra_tt, equal_var=False)\n",
    "print('p-значение:', results.pvalue)\n",
    "if (results.pvalue < alpha):\n",
    "    print(\"Отвергаем нулевую гипотезу\")\n",
    "else:\n",
    "    print(\"Не получилось отвергнуть нулевую гипотезу\")"
   ]
  },
  {
   "cell_type": "markdown",
   "metadata": {},
   "source": [
    "### Cредняя выручка пользователей Москвы и из других регионов"
   ]
  },
  {
   "cell_type": "markdown",
   "metadata": {},
   "source": [
    "Сформулируем нулевую и альтернативную гипотезы:  \n",
    "H0 - средняя выручка пользователей из Москвы равна средней выручке пользователей из других регионов  \n",
    "H1 - средняя выручка пользователей из Москвы отличается от средней выручке пользователей из других регионов "
   ]
  },
  {
   "cell_type": "code",
   "execution_count": 43,
   "metadata": {},
   "outputs": [
    {
     "data": {
      "text/html": [
       "<div>\n",
       "<style scoped>\n",
       "    .dataframe tbody tr th:only-of-type {\n",
       "        vertical-align: middle;\n",
       "    }\n",
       "\n",
       "    .dataframe tbody tr th {\n",
       "        vertical-align: top;\n",
       "    }\n",
       "\n",
       "    .dataframe thead th {\n",
       "        text-align: right;\n",
       "    }\n",
       "</style>\n",
       "<table border=\"1\" class=\"dataframe\">\n",
       "  <thead>\n",
       "    <tr style=\"text-align: right;\">\n",
       "      <th></th>\n",
       "      <th>revenue</th>\n",
       "    </tr>\n",
       "    <tr>\n",
       "      <th>region</th>\n",
       "      <th></th>\n",
       "    </tr>\n",
       "  </thead>\n",
       "  <tbody>\n",
       "    <tr>\n",
       "      <th>Другой регион</th>\n",
       "      <td>1583.0</td>\n",
       "    </tr>\n",
       "    <tr>\n",
       "      <th>Москва</th>\n",
       "      <td>1750.0</td>\n",
       "    </tr>\n",
       "  </tbody>\n",
       "</table>\n",
       "</div>"
      ],
      "text/plain": [
       "               revenue\n",
       "region                \n",
       "Другой регион   1583.0\n",
       "Москва          1750.0"
      ]
     },
     "execution_count": 43,
     "metadata": {},
     "output_type": "execute_result"
    }
   ],
   "source": [
    "df_overall_pt.loc[df_overall_pt['city']!='Москва', 'region'] = 'Другой регион'\n",
    "df_overall_pt.loc[df_overall_pt['city']=='Москва', 'region'] = 'Москва'\n",
    "df_overall_pt.pivot_table(index='region', values='revenue', aggfunc='median')"
   ]
  },
  {
   "cell_type": "code",
   "execution_count": 44,
   "metadata": {},
   "outputs": [
    {
     "data": {
      "text/html": [
       "<div>\n",
       "<style scoped>\n",
       "    .dataframe tbody tr th:only-of-type {\n",
       "        vertical-align: middle;\n",
       "    }\n",
       "\n",
       "    .dataframe tbody tr th {\n",
       "        vertical-align: top;\n",
       "    }\n",
       "\n",
       "    .dataframe thead th {\n",
       "        text-align: right;\n",
       "    }\n",
       "</style>\n",
       "<table border=\"1\" class=\"dataframe\">\n",
       "  <thead>\n",
       "    <tr style=\"text-align: right;\">\n",
       "      <th></th>\n",
       "      <th>revenue</th>\n",
       "    </tr>\n",
       "    <tr>\n",
       "      <th>region</th>\n",
       "      <th></th>\n",
       "    </tr>\n",
       "  </thead>\n",
       "  <tbody>\n",
       "    <tr>\n",
       "      <th>Другой регион</th>\n",
       "      <td>3969409.0</td>\n",
       "    </tr>\n",
       "    <tr>\n",
       "      <th>Москва</th>\n",
       "      <td>945042.0</td>\n",
       "    </tr>\n",
       "  </tbody>\n",
       "</table>\n",
       "</div>"
      ],
      "text/plain": [
       "                revenue\n",
       "region                 \n",
       "Другой регион 3969409.0\n",
       "Москва         945042.0"
      ]
     },
     "execution_count": 44,
     "metadata": {},
     "output_type": "execute_result"
    }
   ],
   "source": [
    "#общая выручка за год для Москвы и регионов\n",
    "df_overall_pt.pivot_table(index='region', values='revenue', aggfunc='sum')"
   ]
  },
  {
   "cell_type": "code",
   "execution_count": 45,
   "metadata": {},
   "outputs": [
    {
     "name": "stdout",
     "output_type": "stream",
     "text": [
      "p-значение: 0.5257376663729298\n",
      "Не получилось отвергнуть нулевую гипотезу\n"
     ]
    }
   ],
   "source": [
    "moscow_tt = df_overall_pt.query('city == \"Москва\"')['revenue']\n",
    "region_tt = df_overall_pt.query('city != \"Москва\"')['revenue']\n",
    "alpha = .01\n",
    "results = st.ttest_ind(moscow_tt, region_tt, equal_var=False)\n",
    "print('p-значение:', results.pvalue)\n",
    "if (results.pvalue < alpha):\n",
    "    print(\"Отвергаем нулевую гипотезу\")\n",
    "else:\n",
    "    print(\"Не получилось отвергнуть нулевую гипотезу\")"
   ]
  },
  {
   "cell_type": "markdown",
   "metadata": {},
   "source": [
    "### Вывод"
   ]
  },
  {
   "cell_type": "markdown",
   "metadata": {},
   "source": [
    "Средняя выручка пользователей тарифов smart и ultra значимо не отличаются друг от друга; клиенты оператора в регионах платят в среднем как и жители столицы "
   ]
  },
  {
   "cell_type": "markdown",
   "metadata": {},
   "source": [
    "## Общий вывод"
   ]
  },
  {
   "cell_type": "markdown",
   "metadata": {},
   "source": [
    "В результате проведенного статистического анализа - выручка от тарифа ultra больше, чем от тарифа smart: в среднем 'Мегалайн' от одного клиента в месяц получает 1950 и 1023 рублей соответственно  \n",
    "В результате проведенного статистического анализа - выручка от пользователей в Москве почти не отличается от выручки в регионах: разница 167 рублей, статистически незначима  \n",
    "Общая выручка от тарифа smart - 2875351 руб., ultra - 2039100 руб. Москва ппринесла выручки 945042 руб., остальные регионы 3969409 руб.\n",
    "Пользователям smart-а не хватает \"пакета\" в рамках тарифного плана - кроме абонентской платы клиенты 'Мегалайна' в среднем доплачивают еще 473 рубля ежемесячно, т.е. почти столько же сколько стоит тарифный план(550 руб)   \n",
    "Пользователи ultra не используют тарифный \"пакет\" в полном объеме, в минутах и sms он излишне избыточен  \n",
    "Анализ поведения пользователей в зависимости от возраста (\"молодой\" \"средний\" \"старший\": 0-25 26-50 51-~ лет): чем старше человек тем больше он говорит по телефону, на обоих тарифах, медиана для smart-a: 401-410-447 мин. и 378-531-531 мин. для ultra; в sms-ках та же динамика в тарифе smart: 21-27-31, а вот в ultr-е другая 55-29-42; интернет трафик на smart-е у всех возрастов примерно одинаковая медиана 16-17 Gb, а на ultr-е увеличивается с возрастом 17-19-20 Gb. В общем - с возрастом увеличивается потребление всех видов связи"
   ]
  }
 ],
 "metadata": {
  "ExecuteTimeLog": [
   {
    "duration": 1341,
    "start_time": "2022-05-10T10:56:36.350Z"
   },
   {
    "duration": 186,
    "start_time": "2022-05-10T11:00:13.222Z"
   },
   {
    "duration": 457,
    "start_time": "2022-05-10T11:00:57.303Z"
   },
   {
    "duration": 17,
    "start_time": "2022-05-10T11:12:31.780Z"
   },
   {
    "duration": 27,
    "start_time": "2022-05-10T11:12:45.596Z"
   },
   {
    "duration": 15,
    "start_time": "2022-05-10T11:13:32.949Z"
   },
   {
    "duration": 16,
    "start_time": "2022-05-10T11:13:42.665Z"
   },
   {
    "duration": 18,
    "start_time": "2022-05-10T11:15:04.782Z"
   },
   {
    "duration": 35,
    "start_time": "2022-05-10T11:16:59.871Z"
   },
   {
    "duration": 25,
    "start_time": "2022-05-10T11:19:37.016Z"
   },
   {
    "duration": 32,
    "start_time": "2022-05-10T11:20:36.313Z"
   },
   {
    "duration": 59,
    "start_time": "2022-05-10T15:58:26.395Z"
   },
   {
    "duration": 1225,
    "start_time": "2022-05-10T15:58:38.709Z"
   },
   {
    "duration": 377,
    "start_time": "2022-05-10T15:58:39.936Z"
   },
   {
    "duration": 18,
    "start_time": "2022-05-10T15:58:40.315Z"
   },
   {
    "duration": 16,
    "start_time": "2022-05-10T15:58:40.335Z"
   },
   {
    "duration": 48,
    "start_time": "2022-05-10T15:58:40.353Z"
   },
   {
    "duration": 34,
    "start_time": "2022-05-10T15:58:40.402Z"
   },
   {
    "duration": 47,
    "start_time": "2022-05-10T15:58:40.438Z"
   },
   {
    "duration": 1049,
    "start_time": "2022-05-10T15:59:03.464Z"
   },
   {
    "duration": 356,
    "start_time": "2022-05-10T15:59:04.515Z"
   },
   {
    "duration": 18,
    "start_time": "2022-05-10T15:59:04.873Z"
   },
   {
    "duration": 16,
    "start_time": "2022-05-10T15:59:04.893Z"
   },
   {
    "duration": 36,
    "start_time": "2022-05-10T15:59:04.911Z"
   },
   {
    "duration": 24,
    "start_time": "2022-05-10T15:59:04.974Z"
   },
   {
    "duration": 30,
    "start_time": "2022-05-10T15:59:05.000Z"
   },
   {
    "duration": 119,
    "start_time": "2022-05-10T15:59:05.032Z"
   },
   {
    "duration": 3,
    "start_time": "2022-05-10T16:00:47.267Z"
   },
   {
    "duration": 369,
    "start_time": "2022-05-10T16:00:47.272Z"
   },
   {
    "duration": 14,
    "start_time": "2022-05-10T16:00:47.643Z"
   },
   {
    "duration": 22,
    "start_time": "2022-05-10T16:00:47.659Z"
   },
   {
    "duration": 32,
    "start_time": "2022-05-10T16:00:47.683Z"
   },
   {
    "duration": 22,
    "start_time": "2022-05-10T16:00:47.717Z"
   },
   {
    "duration": 52,
    "start_time": "2022-05-10T16:00:47.741Z"
   },
   {
    "duration": 42,
    "start_time": "2022-05-10T16:00:47.794Z"
   },
   {
    "duration": 1753,
    "start_time": "2022-05-10T16:01:03.358Z"
   },
   {
    "duration": 61,
    "start_time": "2022-05-10T16:01:26.718Z"
   },
   {
    "duration": 9,
    "start_time": "2022-05-10T16:02:21.634Z"
   },
   {
    "duration": 11,
    "start_time": "2022-05-10T16:02:26.635Z"
   },
   {
    "duration": 28,
    "start_time": "2022-05-10T16:05:54.300Z"
   },
   {
    "duration": 30,
    "start_time": "2022-05-10T16:06:04.328Z"
   },
   {
    "duration": 28,
    "start_time": "2022-05-10T16:06:27.221Z"
   },
   {
    "duration": 32,
    "start_time": "2022-05-10T16:06:37.295Z"
   },
   {
    "duration": 25,
    "start_time": "2022-05-10T16:16:37.766Z"
   },
   {
    "duration": 131,
    "start_time": "2022-05-10T16:16:45.404Z"
   },
   {
    "duration": 104,
    "start_time": "2022-05-10T16:16:54.866Z"
   },
   {
    "duration": 116,
    "start_time": "2022-05-10T16:17:00.723Z"
   },
   {
    "duration": 23,
    "start_time": "2022-05-10T16:17:05.866Z"
   },
   {
    "duration": 1683,
    "start_time": "2022-05-10T16:18:10.670Z"
   },
   {
    "duration": 2530,
    "start_time": "2022-05-10T16:19:08.311Z"
   },
   {
    "duration": 825,
    "start_time": "2022-05-10T16:19:10.843Z"
   },
   {
    "duration": 1812,
    "start_time": "2022-05-10T16:19:11.670Z"
   },
   {
    "duration": 0,
    "start_time": "2022-05-10T16:19:13.484Z"
   },
   {
    "duration": 0,
    "start_time": "2022-05-10T16:19:13.486Z"
   },
   {
    "duration": 0,
    "start_time": "2022-05-10T16:19:13.487Z"
   },
   {
    "duration": 0,
    "start_time": "2022-05-10T16:19:13.489Z"
   },
   {
    "duration": 0,
    "start_time": "2022-05-10T16:19:13.490Z"
   },
   {
    "duration": 0,
    "start_time": "2022-05-10T16:19:13.491Z"
   },
   {
    "duration": 315,
    "start_time": "2022-05-10T16:19:51.110Z"
   },
   {
    "duration": 38,
    "start_time": "2022-05-10T16:19:58.940Z"
   },
   {
    "duration": 38,
    "start_time": "2022-05-10T16:20:28.168Z"
   },
   {
    "duration": 39,
    "start_time": "2022-05-10T16:21:27.938Z"
   },
   {
    "duration": 57,
    "start_time": "2022-05-10T16:22:24.944Z"
   },
   {
    "duration": 35,
    "start_time": "2022-05-10T16:23:36.394Z"
   },
   {
    "duration": 58,
    "start_time": "2022-05-10T16:24:02.468Z"
   },
   {
    "duration": 19,
    "start_time": "2022-05-10T16:50:50.419Z"
   },
   {
    "duration": 1172,
    "start_time": "2022-05-10T16:51:06.169Z"
   },
   {
    "duration": 650,
    "start_time": "2022-05-10T16:51:07.343Z"
   },
   {
    "duration": 44,
    "start_time": "2022-05-10T16:51:07.995Z"
   },
   {
    "duration": 44,
    "start_time": "2022-05-10T16:51:08.041Z"
   },
   {
    "duration": 65,
    "start_time": "2022-05-10T16:51:08.089Z"
   },
   {
    "duration": 44,
    "start_time": "2022-05-10T16:51:08.156Z"
   },
   {
    "duration": 79,
    "start_time": "2022-05-10T16:51:08.202Z"
   },
   {
    "duration": 90,
    "start_time": "2022-05-10T16:51:08.283Z"
   },
   {
    "duration": 98,
    "start_time": "2022-05-10T16:51:08.376Z"
   },
   {
    "duration": 5,
    "start_time": "2022-05-10T16:51:16.489Z"
   },
   {
    "duration": 8,
    "start_time": "2022-05-10T16:51:41.549Z"
   },
   {
    "duration": 98,
    "start_time": "2022-05-10T16:51:56.748Z"
   },
   {
    "duration": 48,
    "start_time": "2022-05-10T16:52:17.552Z"
   },
   {
    "duration": 70,
    "start_time": "2022-05-10T16:52:30.980Z"
   },
   {
    "duration": 12,
    "start_time": "2022-05-10T17:23:17.523Z"
   },
   {
    "duration": 22,
    "start_time": "2022-05-10T17:23:31.369Z"
   },
   {
    "duration": 159,
    "start_time": "2022-05-10T17:23:51.943Z"
   },
   {
    "duration": 93,
    "start_time": "2022-05-10T17:24:19.464Z"
   },
   {
    "duration": 5,
    "start_time": "2022-05-10T17:24:24.600Z"
   },
   {
    "duration": 4,
    "start_time": "2022-05-10T17:25:15.427Z"
   },
   {
    "duration": 11,
    "start_time": "2022-05-10T17:25:27.591Z"
   },
   {
    "duration": 13,
    "start_time": "2022-05-10T17:25:41.820Z"
   },
   {
    "duration": 4,
    "start_time": "2022-05-10T17:26:16.930Z"
   },
   {
    "duration": 13,
    "start_time": "2022-05-10T17:26:20.919Z"
   },
   {
    "duration": 6,
    "start_time": "2022-05-10T17:26:57.459Z"
   },
   {
    "duration": 4,
    "start_time": "2022-05-10T17:27:09.695Z"
   },
   {
    "duration": 5,
    "start_time": "2022-05-10T17:27:11.453Z"
   },
   {
    "duration": 20,
    "start_time": "2022-05-10T17:27:26.763Z"
   },
   {
    "duration": 9,
    "start_time": "2022-05-10T17:28:24.220Z"
   },
   {
    "duration": 8,
    "start_time": "2022-05-10T17:28:45.049Z"
   },
   {
    "duration": 10,
    "start_time": "2022-05-10T17:29:27.396Z"
   },
   {
    "duration": 104,
    "start_time": "2022-05-10T17:30:46.662Z"
   },
   {
    "duration": 5,
    "start_time": "2022-05-10T17:30:59.493Z"
   },
   {
    "duration": 10,
    "start_time": "2022-05-10T17:31:02.096Z"
   },
   {
    "duration": 14,
    "start_time": "2022-05-10T17:40:12.997Z"
   },
   {
    "duration": 10,
    "start_time": "2022-05-10T17:40:32.674Z"
   },
   {
    "duration": 110,
    "start_time": "2022-05-10T17:41:18.169Z"
   },
   {
    "duration": 10,
    "start_time": "2022-05-10T17:41:25.896Z"
   },
   {
    "duration": 45,
    "start_time": "2022-05-11T06:29:38.538Z"
   },
   {
    "duration": 1327,
    "start_time": "2022-05-11T06:29:43.641Z"
   },
   {
    "duration": 412,
    "start_time": "2022-05-11T06:29:44.970Z"
   },
   {
    "duration": 44,
    "start_time": "2022-05-11T06:29:45.383Z"
   },
   {
    "duration": 23,
    "start_time": "2022-05-11T06:29:45.429Z"
   },
   {
    "duration": 75,
    "start_time": "2022-05-11T06:29:45.454Z"
   },
   {
    "duration": 29,
    "start_time": "2022-05-11T06:29:45.530Z"
   },
   {
    "duration": 70,
    "start_time": "2022-05-11T06:29:45.561Z"
   },
   {
    "duration": 91,
    "start_time": "2022-05-11T06:29:45.633Z"
   },
   {
    "duration": 5,
    "start_time": "2022-05-11T06:29:45.726Z"
   },
   {
    "duration": 7,
    "start_time": "2022-05-11T06:29:45.734Z"
   },
   {
    "duration": 111,
    "start_time": "2022-05-11T06:29:45.743Z"
   },
   {
    "duration": 60,
    "start_time": "2022-05-11T06:29:45.855Z"
   },
   {
    "duration": 59,
    "start_time": "2022-05-11T06:29:45.918Z"
   },
   {
    "duration": 4,
    "start_time": "2022-05-11T06:29:45.979Z"
   },
   {
    "duration": 27,
    "start_time": "2022-05-11T06:29:45.984Z"
   },
   {
    "duration": 8,
    "start_time": "2022-05-11T06:30:05.600Z"
   },
   {
    "duration": 9,
    "start_time": "2022-05-11T06:30:08.274Z"
   },
   {
    "duration": 56,
    "start_time": "2022-05-11T06:33:16.648Z"
   },
   {
    "duration": 4,
    "start_time": "2022-05-11T06:33:34.678Z"
   },
   {
    "duration": 439,
    "start_time": "2022-05-11T06:33:34.683Z"
   },
   {
    "duration": 33,
    "start_time": "2022-05-11T06:33:35.124Z"
   },
   {
    "duration": 47,
    "start_time": "2022-05-11T06:33:35.160Z"
   },
   {
    "duration": 50,
    "start_time": "2022-05-11T06:33:35.209Z"
   },
   {
    "duration": 55,
    "start_time": "2022-05-11T06:33:35.260Z"
   },
   {
    "duration": 45,
    "start_time": "2022-05-11T06:33:35.317Z"
   },
   {
    "duration": 96,
    "start_time": "2022-05-11T06:33:35.364Z"
   },
   {
    "duration": 5,
    "start_time": "2022-05-11T06:33:35.462Z"
   },
   {
    "duration": 8,
    "start_time": "2022-05-11T06:33:35.468Z"
   },
   {
    "duration": 100,
    "start_time": "2022-05-11T06:33:35.477Z"
   },
   {
    "duration": 46,
    "start_time": "2022-05-11T06:33:35.578Z"
   },
   {
    "duration": 54,
    "start_time": "2022-05-11T06:33:35.625Z"
   },
   {
    "duration": 5,
    "start_time": "2022-05-11T06:33:35.680Z"
   },
   {
    "duration": 13,
    "start_time": "2022-05-11T06:33:35.701Z"
   },
   {
    "duration": 12,
    "start_time": "2022-05-11T06:33:35.716Z"
   },
   {
    "duration": 10,
    "start_time": "2022-05-11T06:34:09.492Z"
   },
   {
    "duration": 9,
    "start_time": "2022-05-11T06:35:38.720Z"
   },
   {
    "duration": 10,
    "start_time": "2022-05-11T06:35:45.195Z"
   },
   {
    "duration": 8,
    "start_time": "2022-05-11T06:35:49.064Z"
   },
   {
    "duration": 7,
    "start_time": "2022-05-11T06:35:56.287Z"
   },
   {
    "duration": 15,
    "start_time": "2022-05-11T06:36:40.585Z"
   },
   {
    "duration": 14,
    "start_time": "2022-05-11T06:36:47.785Z"
   },
   {
    "duration": 22,
    "start_time": "2022-05-11T08:07:57.275Z"
   },
   {
    "duration": 18,
    "start_time": "2022-05-11T08:08:14.328Z"
   },
   {
    "duration": 30,
    "start_time": "2022-05-11T08:13:20.499Z"
   },
   {
    "duration": 25,
    "start_time": "2022-05-11T08:14:11.895Z"
   },
   {
    "duration": 17,
    "start_time": "2022-05-11T08:19:56.608Z"
   },
   {
    "duration": 8,
    "start_time": "2022-05-11T08:20:15.376Z"
   },
   {
    "duration": 9,
    "start_time": "2022-05-11T08:20:23.260Z"
   },
   {
    "duration": 17,
    "start_time": "2022-05-11T08:22:34.170Z"
   },
   {
    "duration": 15,
    "start_time": "2022-05-11T08:22:39.106Z"
   },
   {
    "duration": 15,
    "start_time": "2022-05-11T08:22:48.977Z"
   },
   {
    "duration": 15,
    "start_time": "2022-05-11T08:22:53.170Z"
   },
   {
    "duration": 9,
    "start_time": "2022-05-11T08:22:56.329Z"
   },
   {
    "duration": 231,
    "start_time": "2022-05-11T08:23:01.556Z"
   },
   {
    "duration": 238,
    "start_time": "2022-05-11T08:23:27.284Z"
   },
   {
    "duration": 196,
    "start_time": "2022-05-11T08:24:46.449Z"
   },
   {
    "duration": 217,
    "start_time": "2022-05-11T08:25:03.653Z"
   },
   {
    "duration": 209,
    "start_time": "2022-05-11T08:27:21.266Z"
   },
   {
    "duration": 236,
    "start_time": "2022-05-11T08:27:44.899Z"
   },
   {
    "duration": 170,
    "start_time": "2022-05-11T08:33:40.604Z"
   },
   {
    "duration": 25,
    "start_time": "2022-05-11T08:40:02.845Z"
   },
   {
    "duration": 24,
    "start_time": "2022-05-11T08:40:26.842Z"
   },
   {
    "duration": 8,
    "start_time": "2022-05-11T08:40:47.956Z"
   },
   {
    "duration": 8,
    "start_time": "2022-05-11T08:40:56.335Z"
   },
   {
    "duration": 25,
    "start_time": "2022-05-11T08:41:03.438Z"
   },
   {
    "duration": 25,
    "start_time": "2022-05-11T08:42:14.943Z"
   },
   {
    "duration": 32,
    "start_time": "2022-05-11T08:42:42.676Z"
   },
   {
    "duration": 31,
    "start_time": "2022-05-11T08:43:36.786Z"
   },
   {
    "duration": 48,
    "start_time": "2022-05-11T08:43:58.650Z"
   },
   {
    "duration": 14,
    "start_time": "2022-05-11T08:47:53.881Z"
   },
   {
    "duration": 22,
    "start_time": "2022-05-11T08:48:02.823Z"
   },
   {
    "duration": 35,
    "start_time": "2022-05-11T08:49:21.815Z"
   },
   {
    "duration": 35,
    "start_time": "2022-05-11T08:49:31.715Z"
   },
   {
    "duration": 13,
    "start_time": "2022-05-11T08:50:27.824Z"
   },
   {
    "duration": 33,
    "start_time": "2022-05-11T08:51:43.561Z"
   },
   {
    "duration": 21,
    "start_time": "2022-05-11T09:19:33.591Z"
   },
   {
    "duration": 29,
    "start_time": "2022-05-11T09:19:39.881Z"
   },
   {
    "duration": 14,
    "start_time": "2022-05-11T09:31:15.750Z"
   },
   {
    "duration": 33,
    "start_time": "2022-05-11T09:37:34.521Z"
   },
   {
    "duration": 33,
    "start_time": "2022-05-11T09:38:35.521Z"
   },
   {
    "duration": 30,
    "start_time": "2022-05-11T09:39:57.091Z"
   },
   {
    "duration": 11,
    "start_time": "2022-05-11T09:49:34.032Z"
   },
   {
    "duration": 28,
    "start_time": "2022-05-11T09:50:19.994Z"
   },
   {
    "duration": 6,
    "start_time": "2022-05-11T09:50:27.182Z"
   },
   {
    "duration": 23,
    "start_time": "2022-05-11T09:51:43.983Z"
   },
   {
    "duration": 28,
    "start_time": "2022-05-11T09:52:42.298Z"
   },
   {
    "duration": 12,
    "start_time": "2022-05-11T09:52:45.367Z"
   },
   {
    "duration": 73,
    "start_time": "2022-05-11T09:53:09.329Z"
   },
   {
    "duration": 22,
    "start_time": "2022-05-11T09:53:31.858Z"
   },
   {
    "duration": 21,
    "start_time": "2022-05-11T09:58:36.115Z"
   },
   {
    "duration": 27,
    "start_time": "2022-05-11T10:00:10.927Z"
   },
   {
    "duration": 3,
    "start_time": "2022-05-11T10:00:28.110Z"
   },
   {
    "duration": 409,
    "start_time": "2022-05-11T10:00:28.115Z"
   },
   {
    "duration": 15,
    "start_time": "2022-05-11T10:00:28.526Z"
   },
   {
    "duration": 28,
    "start_time": "2022-05-11T10:00:28.542Z"
   },
   {
    "duration": 62,
    "start_time": "2022-05-11T10:00:28.571Z"
   },
   {
    "duration": 30,
    "start_time": "2022-05-11T10:00:28.635Z"
   },
   {
    "duration": 65,
    "start_time": "2022-05-11T10:00:28.666Z"
   },
   {
    "duration": 74,
    "start_time": "2022-05-11T10:00:28.733Z"
   },
   {
    "duration": 5,
    "start_time": "2022-05-11T10:00:28.809Z"
   },
   {
    "duration": 8,
    "start_time": "2022-05-11T10:00:28.815Z"
   },
   {
    "duration": 99,
    "start_time": "2022-05-11T10:00:28.824Z"
   },
   {
    "duration": 35,
    "start_time": "2022-05-11T10:00:28.924Z"
   },
   {
    "duration": 61,
    "start_time": "2022-05-11T10:00:28.961Z"
   },
   {
    "duration": 4,
    "start_time": "2022-05-11T10:00:29.024Z"
   },
   {
    "duration": 9,
    "start_time": "2022-05-11T10:00:29.029Z"
   },
   {
    "duration": 14,
    "start_time": "2022-05-11T10:00:29.040Z"
   },
   {
    "duration": 23,
    "start_time": "2022-05-11T10:00:29.055Z"
   },
   {
    "duration": 46,
    "start_time": "2022-05-11T10:00:29.079Z"
   },
   {
    "duration": 29,
    "start_time": "2022-05-11T10:00:29.126Z"
   },
   {
    "duration": 44,
    "start_time": "2022-05-11T10:00:29.157Z"
   },
   {
    "duration": 29,
    "start_time": "2022-05-11T10:00:29.202Z"
   },
   {
    "duration": 21,
    "start_time": "2022-05-11T10:00:29.232Z"
   },
   {
    "duration": 23,
    "start_time": "2022-05-11T10:01:42.867Z"
   },
   {
    "duration": 23,
    "start_time": "2022-05-11T10:02:00.667Z"
   },
   {
    "duration": 21,
    "start_time": "2022-05-11T10:02:28.783Z"
   },
   {
    "duration": 23,
    "start_time": "2022-05-11T10:03:21.495Z"
   },
   {
    "duration": 15,
    "start_time": "2022-05-11T10:17:03.597Z"
   },
   {
    "duration": 5,
    "start_time": "2022-05-11T10:20:54.557Z"
   },
   {
    "duration": 8,
    "start_time": "2022-05-11T10:22:04.437Z"
   },
   {
    "duration": 8,
    "start_time": "2022-05-11T10:22:33.677Z"
   },
   {
    "duration": 14,
    "start_time": "2022-05-11T10:22:47.182Z"
   },
   {
    "duration": 5,
    "start_time": "2022-05-11T10:22:49.306Z"
   },
   {
    "duration": 12,
    "start_time": "2022-05-11T10:23:01.092Z"
   },
   {
    "duration": 1049,
    "start_time": "2022-05-11T10:23:39.278Z"
   },
   {
    "duration": 381,
    "start_time": "2022-05-11T10:23:40.329Z"
   },
   {
    "duration": 19,
    "start_time": "2022-05-11T10:23:40.712Z"
   },
   {
    "duration": 27,
    "start_time": "2022-05-11T10:23:40.732Z"
   },
   {
    "duration": 73,
    "start_time": "2022-05-11T10:23:40.761Z"
   },
   {
    "duration": 31,
    "start_time": "2022-05-11T10:23:40.836Z"
   },
   {
    "duration": 66,
    "start_time": "2022-05-11T10:23:40.868Z"
   },
   {
    "duration": 86,
    "start_time": "2022-05-11T10:23:40.936Z"
   },
   {
    "duration": 4,
    "start_time": "2022-05-11T10:23:41.024Z"
   },
   {
    "duration": 7,
    "start_time": "2022-05-11T10:23:41.030Z"
   },
   {
    "duration": 107,
    "start_time": "2022-05-11T10:23:41.038Z"
   },
   {
    "duration": 38,
    "start_time": "2022-05-11T10:23:41.147Z"
   },
   {
    "duration": 60,
    "start_time": "2022-05-11T10:23:41.186Z"
   },
   {
    "duration": 4,
    "start_time": "2022-05-11T10:23:41.249Z"
   },
   {
    "duration": 9,
    "start_time": "2022-05-11T10:23:41.254Z"
   },
   {
    "duration": 16,
    "start_time": "2022-05-11T10:23:41.264Z"
   },
   {
    "duration": 45,
    "start_time": "2022-05-11T10:23:41.281Z"
   },
   {
    "duration": 33,
    "start_time": "2022-05-11T10:23:41.327Z"
   },
   {
    "duration": 28,
    "start_time": "2022-05-11T10:23:41.361Z"
   },
   {
    "duration": 34,
    "start_time": "2022-05-11T10:23:41.390Z"
   },
   {
    "duration": 29,
    "start_time": "2022-05-11T10:23:41.425Z"
   },
   {
    "duration": 98,
    "start_time": "2022-05-11T10:23:41.456Z"
   },
   {
    "duration": 0,
    "start_time": "2022-05-11T10:23:41.555Z"
   },
   {
    "duration": 14,
    "start_time": "2022-05-11T10:24:21.803Z"
   },
   {
    "duration": 15,
    "start_time": "2022-05-11T10:24:25.724Z"
   },
   {
    "duration": 2,
    "start_time": "2022-05-11T10:25:28.278Z"
   },
   {
    "duration": 409,
    "start_time": "2022-05-11T10:25:28.282Z"
   },
   {
    "duration": 16,
    "start_time": "2022-05-11T10:25:28.692Z"
   },
   {
    "duration": 26,
    "start_time": "2022-05-11T10:25:28.710Z"
   },
   {
    "duration": 77,
    "start_time": "2022-05-11T10:25:28.738Z"
   },
   {
    "duration": 35,
    "start_time": "2022-05-11T10:25:28.817Z"
   },
   {
    "duration": 72,
    "start_time": "2022-05-11T10:25:28.853Z"
   },
   {
    "duration": 81,
    "start_time": "2022-05-11T10:25:28.927Z"
   },
   {
    "duration": 5,
    "start_time": "2022-05-11T10:25:29.011Z"
   },
   {
    "duration": 13,
    "start_time": "2022-05-11T10:25:29.018Z"
   },
   {
    "duration": 97,
    "start_time": "2022-05-11T10:25:29.033Z"
   },
   {
    "duration": 35,
    "start_time": "2022-05-11T10:25:29.132Z"
   },
   {
    "duration": 66,
    "start_time": "2022-05-11T10:25:29.169Z"
   },
   {
    "duration": 5,
    "start_time": "2022-05-11T10:25:29.237Z"
   },
   {
    "duration": 9,
    "start_time": "2022-05-11T10:25:29.244Z"
   },
   {
    "duration": 14,
    "start_time": "2022-05-11T10:25:29.255Z"
   },
   {
    "duration": 41,
    "start_time": "2022-05-11T10:25:29.271Z"
   },
   {
    "duration": 26,
    "start_time": "2022-05-11T10:25:29.314Z"
   },
   {
    "duration": 27,
    "start_time": "2022-05-11T10:25:29.342Z"
   },
   {
    "duration": 44,
    "start_time": "2022-05-11T10:25:29.371Z"
   },
   {
    "duration": 30,
    "start_time": "2022-05-11T10:25:29.416Z"
   },
   {
    "duration": 15,
    "start_time": "2022-05-11T10:25:29.447Z"
   },
   {
    "duration": 38,
    "start_time": "2022-05-11T10:25:29.464Z"
   },
   {
    "duration": 15,
    "start_time": "2022-05-11T10:26:07.131Z"
   },
   {
    "duration": 1126,
    "start_time": "2022-05-11T10:26:24.649Z"
   },
   {
    "duration": 2195,
    "start_time": "2022-05-11T10:26:25.777Z"
   },
   {
    "duration": 18,
    "start_time": "2022-05-11T10:26:27.974Z"
   },
   {
    "duration": 30,
    "start_time": "2022-05-11T10:26:28.000Z"
   },
   {
    "duration": 55,
    "start_time": "2022-05-11T10:26:28.033Z"
   },
   {
    "duration": 37,
    "start_time": "2022-05-11T10:26:28.090Z"
   },
   {
    "duration": 47,
    "start_time": "2022-05-11T10:26:28.128Z"
   },
   {
    "duration": 88,
    "start_time": "2022-05-11T10:26:28.176Z"
   },
   {
    "duration": 4,
    "start_time": "2022-05-11T10:26:28.266Z"
   },
   {
    "duration": 17,
    "start_time": "2022-05-11T10:26:28.272Z"
   },
   {
    "duration": 101,
    "start_time": "2022-05-11T10:26:28.291Z"
   },
   {
    "duration": 45,
    "start_time": "2022-05-11T10:26:28.394Z"
   },
   {
    "duration": 75,
    "start_time": "2022-05-11T10:26:28.441Z"
   },
   {
    "duration": 5,
    "start_time": "2022-05-11T10:26:28.518Z"
   },
   {
    "duration": 18,
    "start_time": "2022-05-11T10:26:28.524Z"
   },
   {
    "duration": 25,
    "start_time": "2022-05-11T10:26:28.544Z"
   },
   {
    "duration": 30,
    "start_time": "2022-05-11T10:26:28.570Z"
   },
   {
    "duration": 32,
    "start_time": "2022-05-11T10:26:28.602Z"
   },
   {
    "duration": 29,
    "start_time": "2022-05-11T10:26:28.635Z"
   },
   {
    "duration": 40,
    "start_time": "2022-05-11T10:26:28.666Z"
   },
   {
    "duration": 27,
    "start_time": "2022-05-11T10:26:28.708Z"
   },
   {
    "duration": 13,
    "start_time": "2022-05-11T10:26:28.737Z"
   },
   {
    "duration": 28,
    "start_time": "2022-05-11T10:26:28.751Z"
   },
   {
    "duration": 6,
    "start_time": "2022-05-11T10:29:18.457Z"
   },
   {
    "duration": 8,
    "start_time": "2022-05-11T10:29:22.608Z"
   },
   {
    "duration": 1086,
    "start_time": "2022-05-11T10:29:52.958Z"
   },
   {
    "duration": 422,
    "start_time": "2022-05-11T10:29:54.046Z"
   },
   {
    "duration": 21,
    "start_time": "2022-05-11T10:29:54.469Z"
   },
   {
    "duration": 30,
    "start_time": "2022-05-11T10:29:54.491Z"
   },
   {
    "duration": 49,
    "start_time": "2022-05-11T10:29:54.523Z"
   },
   {
    "duration": 51,
    "start_time": "2022-05-11T10:29:54.573Z"
   },
   {
    "duration": 47,
    "start_time": "2022-05-11T10:29:54.625Z"
   },
   {
    "duration": 94,
    "start_time": "2022-05-11T10:29:54.673Z"
   },
   {
    "duration": 5,
    "start_time": "2022-05-11T10:29:54.768Z"
   },
   {
    "duration": 11,
    "start_time": "2022-05-11T10:29:54.775Z"
   },
   {
    "duration": 102,
    "start_time": "2022-05-11T10:29:54.788Z"
   },
   {
    "duration": 41,
    "start_time": "2022-05-11T10:29:54.900Z"
   },
   {
    "duration": 68,
    "start_time": "2022-05-11T10:29:54.943Z"
   },
   {
    "duration": 5,
    "start_time": "2022-05-11T10:29:55.013Z"
   },
   {
    "duration": 14,
    "start_time": "2022-05-11T10:29:55.020Z"
   },
   {
    "duration": 21,
    "start_time": "2022-05-11T10:29:55.036Z"
   },
   {
    "duration": 28,
    "start_time": "2022-05-11T10:29:55.059Z"
   },
   {
    "duration": 42,
    "start_time": "2022-05-11T10:29:55.088Z"
   },
   {
    "duration": 31,
    "start_time": "2022-05-11T10:29:55.132Z"
   },
   {
    "duration": 44,
    "start_time": "2022-05-11T10:29:55.165Z"
   },
   {
    "duration": 28,
    "start_time": "2022-05-11T10:29:55.210Z"
   },
   {
    "duration": 13,
    "start_time": "2022-05-11T10:29:55.239Z"
   },
   {
    "duration": 9,
    "start_time": "2022-05-11T10:29:55.253Z"
   },
   {
    "duration": 6,
    "start_time": "2022-05-11T10:33:01.034Z"
   },
   {
    "duration": 7,
    "start_time": "2022-05-11T10:34:18.570Z"
   },
   {
    "duration": 19,
    "start_time": "2022-05-11T10:35:02.911Z"
   },
   {
    "duration": 5,
    "start_time": "2022-05-11T10:40:38.278Z"
   },
   {
    "duration": 87,
    "start_time": "2022-05-11T10:41:41.610Z"
   },
   {
    "duration": 186,
    "start_time": "2022-05-11T10:42:40.995Z"
   },
   {
    "duration": 6,
    "start_time": "2022-05-11T10:42:59.307Z"
   },
   {
    "duration": 6,
    "start_time": "2022-05-11T10:43:13.355Z"
   },
   {
    "duration": 14,
    "start_time": "2022-05-11T10:43:56.551Z"
   },
   {
    "duration": 1107,
    "start_time": "2022-05-11T10:44:20.715Z"
   },
   {
    "duration": 2369,
    "start_time": "2022-05-11T10:44:21.825Z"
   },
   {
    "duration": 19,
    "start_time": "2022-05-11T10:44:24.195Z"
   },
   {
    "duration": 24,
    "start_time": "2022-05-11T10:44:24.215Z"
   },
   {
    "duration": 71,
    "start_time": "2022-05-11T10:44:24.241Z"
   },
   {
    "duration": 29,
    "start_time": "2022-05-11T10:44:24.314Z"
   },
   {
    "duration": 67,
    "start_time": "2022-05-11T10:44:24.344Z"
   },
   {
    "duration": 73,
    "start_time": "2022-05-11T10:44:24.412Z"
   },
   {
    "duration": 5,
    "start_time": "2022-05-11T10:44:24.486Z"
   },
   {
    "duration": 6,
    "start_time": "2022-05-11T10:44:24.501Z"
   },
   {
    "duration": 104,
    "start_time": "2022-05-11T10:44:24.509Z"
   },
   {
    "duration": 40,
    "start_time": "2022-05-11T10:44:24.614Z"
   },
   {
    "duration": 74,
    "start_time": "2022-05-11T10:44:24.655Z"
   },
   {
    "duration": 4,
    "start_time": "2022-05-11T10:44:24.730Z"
   },
   {
    "duration": 9,
    "start_time": "2022-05-11T10:44:24.735Z"
   },
   {
    "duration": 14,
    "start_time": "2022-05-11T10:44:24.745Z"
   },
   {
    "duration": 20,
    "start_time": "2022-05-11T10:44:24.760Z"
   },
   {
    "duration": 33,
    "start_time": "2022-05-11T10:44:24.799Z"
   },
   {
    "duration": 30,
    "start_time": "2022-05-11T10:44:24.833Z"
   },
   {
    "duration": 45,
    "start_time": "2022-05-11T10:44:24.864Z"
   },
   {
    "duration": 21,
    "start_time": "2022-05-11T10:44:24.910Z"
   },
   {
    "duration": 14,
    "start_time": "2022-05-11T10:44:24.932Z"
   },
   {
    "duration": 9,
    "start_time": "2022-05-11T10:44:24.947Z"
   },
   {
    "duration": 10,
    "start_time": "2022-05-11T10:44:24.958Z"
   },
   {
    "duration": 5,
    "start_time": "2022-05-11T10:44:24.969Z"
   },
   {
    "duration": 32,
    "start_time": "2022-05-11T10:44:24.975Z"
   },
   {
    "duration": 7,
    "start_time": "2022-05-11T10:59:22.569Z"
   },
   {
    "duration": 7,
    "start_time": "2022-05-11T10:59:37.671Z"
   },
   {
    "duration": 1086,
    "start_time": "2022-05-11T11:00:02.245Z"
   },
   {
    "duration": 498,
    "start_time": "2022-05-11T11:00:03.333Z"
   },
   {
    "duration": 18,
    "start_time": "2022-05-11T11:00:03.832Z"
   },
   {
    "duration": 67,
    "start_time": "2022-05-11T11:00:03.852Z"
   },
   {
    "duration": 58,
    "start_time": "2022-05-11T11:00:03.922Z"
   },
   {
    "duration": 47,
    "start_time": "2022-05-11T11:00:03.982Z"
   },
   {
    "duration": 53,
    "start_time": "2022-05-11T11:00:04.030Z"
   },
   {
    "duration": 73,
    "start_time": "2022-05-11T11:00:04.100Z"
   },
   {
    "duration": 5,
    "start_time": "2022-05-11T11:00:04.175Z"
   },
   {
    "duration": 42,
    "start_time": "2022-05-11T11:00:04.181Z"
   },
   {
    "duration": 101,
    "start_time": "2022-05-11T11:00:04.225Z"
   },
   {
    "duration": 40,
    "start_time": "2022-05-11T11:00:04.327Z"
   },
   {
    "duration": 67,
    "start_time": "2022-05-11T11:00:04.369Z"
   },
   {
    "duration": 4,
    "start_time": "2022-05-11T11:00:04.438Z"
   },
   {
    "duration": 43,
    "start_time": "2022-05-11T11:00:04.444Z"
   },
   {
    "duration": 34,
    "start_time": "2022-05-11T11:00:04.488Z"
   },
   {
    "duration": 44,
    "start_time": "2022-05-11T11:00:04.524Z"
   },
   {
    "duration": 52,
    "start_time": "2022-05-11T11:00:04.569Z"
   },
   {
    "duration": 47,
    "start_time": "2022-05-11T11:00:04.623Z"
   },
   {
    "duration": 30,
    "start_time": "2022-05-11T11:00:04.672Z"
   },
   {
    "duration": 25,
    "start_time": "2022-05-11T11:00:04.703Z"
   },
   {
    "duration": 16,
    "start_time": "2022-05-11T11:00:04.730Z"
   },
   {
    "duration": 23,
    "start_time": "2022-05-11T11:00:04.747Z"
   },
   {
    "duration": 25,
    "start_time": "2022-05-11T11:00:04.771Z"
   },
   {
    "duration": 37,
    "start_time": "2022-05-11T11:00:04.798Z"
   },
   {
    "duration": 41,
    "start_time": "2022-05-11T11:00:04.836Z"
   },
   {
    "duration": 89,
    "start_time": "2022-05-11T11:01:00.487Z"
   },
   {
    "duration": 10,
    "start_time": "2022-05-11T11:01:04.838Z"
   },
   {
    "duration": 9,
    "start_time": "2022-05-11T11:02:05.707Z"
   },
   {
    "duration": 10,
    "start_time": "2022-05-11T11:02:26.841Z"
   },
   {
    "duration": 3,
    "start_time": "2022-05-11T11:02:48.183Z"
   },
   {
    "duration": 5,
    "start_time": "2022-05-11T11:02:54.841Z"
   },
   {
    "duration": 5,
    "start_time": "2022-05-11T11:03:10.672Z"
   },
   {
    "duration": 7,
    "start_time": "2022-05-11T11:03:32.869Z"
   },
   {
    "duration": 7,
    "start_time": "2022-05-11T11:03:58.621Z"
   },
   {
    "duration": 7,
    "start_time": "2022-05-11T11:04:07.040Z"
   },
   {
    "duration": 7,
    "start_time": "2022-05-11T11:04:16.788Z"
   },
   {
    "duration": 1141,
    "start_time": "2022-05-11T11:04:27.392Z"
   },
   {
    "duration": 424,
    "start_time": "2022-05-11T11:04:28.535Z"
   },
   {
    "duration": 18,
    "start_time": "2022-05-11T11:04:28.960Z"
   },
   {
    "duration": 34,
    "start_time": "2022-05-11T11:04:28.979Z"
   },
   {
    "duration": 48,
    "start_time": "2022-05-11T11:04:29.015Z"
   },
   {
    "duration": 50,
    "start_time": "2022-05-11T11:04:29.065Z"
   },
   {
    "duration": 50,
    "start_time": "2022-05-11T11:04:29.117Z"
   },
   {
    "duration": 92,
    "start_time": "2022-05-11T11:04:29.168Z"
   },
   {
    "duration": 5,
    "start_time": "2022-05-11T11:04:29.261Z"
   },
   {
    "duration": 11,
    "start_time": "2022-05-11T11:04:29.268Z"
   },
   {
    "duration": 99,
    "start_time": "2022-05-11T11:04:29.281Z"
   },
   {
    "duration": 47,
    "start_time": "2022-05-11T11:04:29.382Z"
   },
   {
    "duration": 70,
    "start_time": "2022-05-11T11:04:29.431Z"
   },
   {
    "duration": 4,
    "start_time": "2022-05-11T11:04:29.505Z"
   },
   {
    "duration": 9,
    "start_time": "2022-05-11T11:04:29.511Z"
   },
   {
    "duration": 14,
    "start_time": "2022-05-11T11:04:29.521Z"
   },
   {
    "duration": 30,
    "start_time": "2022-05-11T11:04:29.537Z"
   },
   {
    "duration": 45,
    "start_time": "2022-05-11T11:04:29.568Z"
   },
   {
    "duration": 30,
    "start_time": "2022-05-11T11:04:29.614Z"
   },
   {
    "duration": 28,
    "start_time": "2022-05-11T11:04:29.646Z"
   },
   {
    "duration": 41,
    "start_time": "2022-05-11T11:04:29.676Z"
   },
   {
    "duration": 14,
    "start_time": "2022-05-11T11:04:29.718Z"
   },
   {
    "duration": 9,
    "start_time": "2022-05-11T11:04:29.734Z"
   },
   {
    "duration": 9,
    "start_time": "2022-05-11T11:04:29.744Z"
   },
   {
    "duration": 16,
    "start_time": "2022-05-11T11:04:29.755Z"
   },
   {
    "duration": 13,
    "start_time": "2022-05-11T11:04:29.772Z"
   },
   {
    "duration": 7,
    "start_time": "2022-05-11T11:04:47.841Z"
   },
   {
    "duration": 8,
    "start_time": "2022-05-11T11:05:17.330Z"
   },
   {
    "duration": 1182,
    "start_time": "2022-05-11T11:05:58.276Z"
   },
   {
    "duration": 400,
    "start_time": "2022-05-11T11:05:59.460Z"
   },
   {
    "duration": 17,
    "start_time": "2022-05-11T11:05:59.862Z"
   },
   {
    "duration": 28,
    "start_time": "2022-05-11T11:05:59.881Z"
   },
   {
    "duration": 47,
    "start_time": "2022-05-11T11:05:59.911Z"
   },
   {
    "duration": 29,
    "start_time": "2022-05-11T11:05:59.959Z"
   },
   {
    "duration": 82,
    "start_time": "2022-05-11T11:05:59.989Z"
   },
   {
    "duration": 72,
    "start_time": "2022-05-11T11:06:00.072Z"
   },
   {
    "duration": 5,
    "start_time": "2022-05-11T11:06:00.146Z"
   },
   {
    "duration": 10,
    "start_time": "2022-05-11T11:06:00.152Z"
   },
   {
    "duration": 106,
    "start_time": "2022-05-11T11:06:00.163Z"
   },
   {
    "duration": 38,
    "start_time": "2022-05-11T11:06:00.271Z"
   },
   {
    "duration": 56,
    "start_time": "2022-05-11T11:06:00.311Z"
   },
   {
    "duration": 4,
    "start_time": "2022-05-11T11:06:00.370Z"
   },
   {
    "duration": 25,
    "start_time": "2022-05-11T11:06:00.376Z"
   },
   {
    "duration": 36,
    "start_time": "2022-05-11T11:06:00.403Z"
   },
   {
    "duration": 38,
    "start_time": "2022-05-11T11:06:00.441Z"
   },
   {
    "duration": 34,
    "start_time": "2022-05-11T11:06:00.481Z"
   },
   {
    "duration": 31,
    "start_time": "2022-05-11T11:06:00.517Z"
   },
   {
    "duration": 33,
    "start_time": "2022-05-11T11:06:00.549Z"
   },
   {
    "duration": 22,
    "start_time": "2022-05-11T11:06:00.584Z"
   },
   {
    "duration": 17,
    "start_time": "2022-05-11T11:06:00.608Z"
   },
   {
    "duration": 18,
    "start_time": "2022-05-11T11:06:00.627Z"
   },
   {
    "duration": 20,
    "start_time": "2022-05-11T11:06:00.646Z"
   },
   {
    "duration": 18,
    "start_time": "2022-05-11T11:06:00.668Z"
   },
   {
    "duration": 54,
    "start_time": "2022-05-11T11:06:00.687Z"
   },
   {
    "duration": 12,
    "start_time": "2022-05-11T11:06:43.633Z"
   },
   {
    "duration": 1143,
    "start_time": "2022-05-11T11:08:16.075Z"
   },
   {
    "duration": 417,
    "start_time": "2022-05-11T11:08:17.220Z"
   },
   {
    "duration": 19,
    "start_time": "2022-05-11T11:08:17.639Z"
   },
   {
    "duration": 45,
    "start_time": "2022-05-11T11:08:17.660Z"
   },
   {
    "duration": 54,
    "start_time": "2022-05-11T11:08:17.707Z"
   },
   {
    "duration": 52,
    "start_time": "2022-05-11T11:08:17.763Z"
   },
   {
    "duration": 54,
    "start_time": "2022-05-11T11:08:17.816Z"
   },
   {
    "duration": 99,
    "start_time": "2022-05-11T11:08:17.872Z"
   },
   {
    "duration": 5,
    "start_time": "2022-05-11T11:08:17.973Z"
   },
   {
    "duration": 22,
    "start_time": "2022-05-11T11:08:17.979Z"
   },
   {
    "duration": 139,
    "start_time": "2022-05-11T11:08:18.002Z"
   },
   {
    "duration": 42,
    "start_time": "2022-05-11T11:08:18.143Z"
   },
   {
    "duration": 67,
    "start_time": "2022-05-11T11:08:18.187Z"
   },
   {
    "duration": 5,
    "start_time": "2022-05-11T11:08:18.257Z"
   },
   {
    "duration": 28,
    "start_time": "2022-05-11T11:08:18.263Z"
   },
   {
    "duration": 30,
    "start_time": "2022-05-11T11:08:18.293Z"
   },
   {
    "duration": 43,
    "start_time": "2022-05-11T11:08:18.324Z"
   },
   {
    "duration": 33,
    "start_time": "2022-05-11T11:08:18.369Z"
   },
   {
    "duration": 30,
    "start_time": "2022-05-11T11:08:18.403Z"
   },
   {
    "duration": 31,
    "start_time": "2022-05-11T11:08:18.434Z"
   },
   {
    "duration": 21,
    "start_time": "2022-05-11T11:08:18.466Z"
   },
   {
    "duration": 14,
    "start_time": "2022-05-11T11:08:18.499Z"
   },
   {
    "duration": 10,
    "start_time": "2022-05-11T11:08:33.909Z"
   },
   {
    "duration": 1228,
    "start_time": "2022-05-11T11:09:47.329Z"
   },
   {
    "duration": 433,
    "start_time": "2022-05-11T11:09:48.561Z"
   },
   {
    "duration": 21,
    "start_time": "2022-05-11T11:09:48.996Z"
   },
   {
    "duration": 27,
    "start_time": "2022-05-11T11:09:49.019Z"
   },
   {
    "duration": 86,
    "start_time": "2022-05-11T11:09:49.048Z"
   },
   {
    "duration": 30,
    "start_time": "2022-05-11T11:09:49.135Z"
   },
   {
    "duration": 69,
    "start_time": "2022-05-11T11:09:49.166Z"
   },
   {
    "duration": 90,
    "start_time": "2022-05-11T11:09:49.236Z"
   },
   {
    "duration": 5,
    "start_time": "2022-05-11T11:09:49.328Z"
   },
   {
    "duration": 8,
    "start_time": "2022-05-11T11:09:49.336Z"
   },
   {
    "duration": 110,
    "start_time": "2022-05-11T11:09:49.345Z"
   },
   {
    "duration": 54,
    "start_time": "2022-05-11T11:09:49.457Z"
   },
   {
    "duration": 57,
    "start_time": "2022-05-11T11:09:49.513Z"
   },
   {
    "duration": 4,
    "start_time": "2022-05-11T11:09:49.572Z"
   },
   {
    "duration": 24,
    "start_time": "2022-05-11T11:09:49.577Z"
   },
   {
    "duration": 16,
    "start_time": "2022-05-11T11:09:49.602Z"
   },
   {
    "duration": 20,
    "start_time": "2022-05-11T11:09:49.619Z"
   },
   {
    "duration": 34,
    "start_time": "2022-05-11T11:09:49.640Z"
   },
   {
    "duration": 51,
    "start_time": "2022-05-11T11:09:49.675Z"
   },
   {
    "duration": 31,
    "start_time": "2022-05-11T11:09:49.728Z"
   },
   {
    "duration": 24,
    "start_time": "2022-05-11T11:09:49.760Z"
   },
   {
    "duration": 15,
    "start_time": "2022-05-11T11:09:49.800Z"
   },
   {
    "duration": 11,
    "start_time": "2022-05-11T11:09:49.817Z"
   },
   {
    "duration": 11,
    "start_time": "2022-05-11T11:09:49.830Z"
   },
   {
    "duration": 10,
    "start_time": "2022-05-11T11:09:49.842Z"
   },
   {
    "duration": 12,
    "start_time": "2022-05-11T11:09:49.854Z"
   },
   {
    "duration": 10,
    "start_time": "2022-05-11T11:10:00.525Z"
   },
   {
    "duration": 9,
    "start_time": "2022-05-11T11:10:15.098Z"
   },
   {
    "duration": 9,
    "start_time": "2022-05-11T11:10:28.440Z"
   },
   {
    "duration": 10,
    "start_time": "2022-05-11T11:10:32.933Z"
   },
   {
    "duration": 8,
    "start_time": "2022-05-11T11:10:55.630Z"
   },
   {
    "duration": 1126,
    "start_time": "2022-05-11T13:12:13.911Z"
   },
   {
    "duration": 429,
    "start_time": "2022-05-11T13:12:15.039Z"
   },
   {
    "duration": 20,
    "start_time": "2022-05-11T13:12:15.470Z"
   },
   {
    "duration": 32,
    "start_time": "2022-05-11T13:12:15.492Z"
   },
   {
    "duration": 53,
    "start_time": "2022-05-11T13:12:15.526Z"
   },
   {
    "duration": 33,
    "start_time": "2022-05-11T13:12:15.601Z"
   },
   {
    "duration": 73,
    "start_time": "2022-05-11T13:12:15.635Z"
   },
   {
    "duration": 74,
    "start_time": "2022-05-11T13:12:15.710Z"
   },
   {
    "duration": 17,
    "start_time": "2022-05-11T13:12:15.786Z"
   },
   {
    "duration": 26,
    "start_time": "2022-05-11T13:12:15.806Z"
   },
   {
    "duration": 106,
    "start_time": "2022-05-11T13:12:15.833Z"
   },
   {
    "duration": 41,
    "start_time": "2022-05-11T13:12:15.940Z"
   },
   {
    "duration": 75,
    "start_time": "2022-05-11T13:12:15.982Z"
   },
   {
    "duration": 5,
    "start_time": "2022-05-11T13:12:16.058Z"
   },
   {
    "duration": 16,
    "start_time": "2022-05-11T13:12:16.064Z"
   },
   {
    "duration": 25,
    "start_time": "2022-05-11T13:12:16.081Z"
   },
   {
    "duration": 24,
    "start_time": "2022-05-11T13:12:16.108Z"
   },
   {
    "duration": 38,
    "start_time": "2022-05-11T13:12:16.133Z"
   },
   {
    "duration": 48,
    "start_time": "2022-05-11T13:12:16.172Z"
   },
   {
    "duration": 31,
    "start_time": "2022-05-11T13:12:16.222Z"
   },
   {
    "duration": 22,
    "start_time": "2022-05-11T13:12:16.254Z"
   },
   {
    "duration": 30,
    "start_time": "2022-05-11T13:12:16.278Z"
   },
   {
    "duration": 10,
    "start_time": "2022-05-11T13:12:16.309Z"
   },
   {
    "duration": 7,
    "start_time": "2022-05-11T13:12:16.320Z"
   },
   {
    "duration": 7,
    "start_time": "2022-05-11T13:12:16.328Z"
   },
   {
    "duration": 14,
    "start_time": "2022-05-11T13:12:16.336Z"
   },
   {
    "duration": 18,
    "start_time": "2022-05-11T13:13:02.529Z"
   },
   {
    "duration": 4,
    "start_time": "2022-05-11T13:13:06.853Z"
   },
   {
    "duration": 14,
    "start_time": "2022-05-11T13:13:09.745Z"
   },
   {
    "duration": 7,
    "start_time": "2022-05-11T13:13:41.060Z"
   },
   {
    "duration": 95,
    "start_time": "2022-05-11T13:14:48.568Z"
   },
   {
    "duration": 3,
    "start_time": "2022-05-11T13:14:58.283Z"
   },
   {
    "duration": 567,
    "start_time": "2022-05-11T13:14:58.288Z"
   },
   {
    "duration": 21,
    "start_time": "2022-05-11T13:14:58.857Z"
   },
   {
    "duration": 43,
    "start_time": "2022-05-11T13:14:58.880Z"
   },
   {
    "duration": 51,
    "start_time": "2022-05-11T13:14:58.925Z"
   },
   {
    "duration": 32,
    "start_time": "2022-05-11T13:14:59.000Z"
   },
   {
    "duration": 68,
    "start_time": "2022-05-11T13:14:59.033Z"
   },
   {
    "duration": 67,
    "start_time": "2022-05-11T13:14:59.102Z"
   },
   {
    "duration": 5,
    "start_time": "2022-05-11T13:14:59.171Z"
   },
   {
    "duration": 25,
    "start_time": "2022-05-11T13:14:59.178Z"
   },
   {
    "duration": 127,
    "start_time": "2022-05-11T13:14:59.205Z"
   },
   {
    "duration": 72,
    "start_time": "2022-05-11T13:14:59.334Z"
   },
   {
    "duration": 79,
    "start_time": "2022-05-11T13:14:59.408Z"
   },
   {
    "duration": 13,
    "start_time": "2022-05-11T13:14:59.489Z"
   },
   {
    "duration": 13,
    "start_time": "2022-05-11T13:14:59.504Z"
   },
   {
    "duration": 23,
    "start_time": "2022-05-11T13:14:59.518Z"
   },
   {
    "duration": 23,
    "start_time": "2022-05-11T13:14:59.543Z"
   },
   {
    "duration": 47,
    "start_time": "2022-05-11T13:14:59.568Z"
   },
   {
    "duration": 28,
    "start_time": "2022-05-11T13:14:59.616Z"
   },
   {
    "duration": 27,
    "start_time": "2022-05-11T13:14:59.646Z"
   },
   {
    "duration": 38,
    "start_time": "2022-05-11T13:14:59.675Z"
   },
   {
    "duration": 15,
    "start_time": "2022-05-11T13:14:59.714Z"
   },
   {
    "duration": 12,
    "start_time": "2022-05-11T13:14:59.731Z"
   },
   {
    "duration": 13,
    "start_time": "2022-05-11T13:14:59.745Z"
   },
   {
    "duration": 8,
    "start_time": "2022-05-11T13:14:59.760Z"
   },
   {
    "duration": 7,
    "start_time": "2022-05-11T13:14:59.769Z"
   },
   {
    "duration": 188,
    "start_time": "2022-05-11T13:58:15.420Z"
   },
   {
    "duration": 180,
    "start_time": "2022-05-11T13:59:44.580Z"
   },
   {
    "duration": 271,
    "start_time": "2022-05-11T14:00:03.134Z"
   },
   {
    "duration": 428,
    "start_time": "2022-05-11T14:01:28.109Z"
   },
   {
    "duration": 202,
    "start_time": "2022-05-11T14:02:17.525Z"
   },
   {
    "duration": 195,
    "start_time": "2022-05-11T14:04:32.047Z"
   },
   {
    "duration": 188,
    "start_time": "2022-05-11T14:04:43.643Z"
   },
   {
    "duration": 184,
    "start_time": "2022-05-11T14:05:10.554Z"
   },
   {
    "duration": 195,
    "start_time": "2022-05-11T14:05:32.153Z"
   },
   {
    "duration": 1099,
    "start_time": "2022-05-11T14:05:55.636Z"
   },
   {
    "duration": 412,
    "start_time": "2022-05-11T14:05:56.737Z"
   },
   {
    "duration": 21,
    "start_time": "2022-05-11T14:05:57.150Z"
   },
   {
    "duration": 35,
    "start_time": "2022-05-11T14:05:57.174Z"
   },
   {
    "duration": 53,
    "start_time": "2022-05-11T14:05:57.210Z"
   },
   {
    "duration": 57,
    "start_time": "2022-05-11T14:05:57.265Z"
   },
   {
    "duration": 51,
    "start_time": "2022-05-11T14:05:57.324Z"
   },
   {
    "duration": 98,
    "start_time": "2022-05-11T14:05:57.377Z"
   },
   {
    "duration": 6,
    "start_time": "2022-05-11T14:05:57.476Z"
   },
   {
    "duration": 21,
    "start_time": "2022-05-11T14:05:57.484Z"
   },
   {
    "duration": 109,
    "start_time": "2022-05-11T14:05:57.506Z"
   },
   {
    "duration": 40,
    "start_time": "2022-05-11T14:05:57.617Z"
   },
   {
    "duration": 70,
    "start_time": "2022-05-11T14:05:57.659Z"
   },
   {
    "duration": 5,
    "start_time": "2022-05-11T14:05:57.731Z"
   },
   {
    "duration": 12,
    "start_time": "2022-05-11T14:05:57.737Z"
   },
   {
    "duration": 15,
    "start_time": "2022-05-11T14:05:57.751Z"
   },
   {
    "duration": 37,
    "start_time": "2022-05-11T14:05:57.768Z"
   },
   {
    "duration": 34,
    "start_time": "2022-05-11T14:05:57.806Z"
   },
   {
    "duration": 40,
    "start_time": "2022-05-11T14:05:57.842Z"
   },
   {
    "duration": 45,
    "start_time": "2022-05-11T14:05:57.884Z"
   },
   {
    "duration": 20,
    "start_time": "2022-05-11T14:05:57.931Z"
   },
   {
    "duration": 13,
    "start_time": "2022-05-11T14:05:57.953Z"
   },
   {
    "duration": 10,
    "start_time": "2022-05-11T14:05:57.967Z"
   },
   {
    "duration": 6,
    "start_time": "2022-05-11T14:05:57.999Z"
   },
   {
    "duration": 14,
    "start_time": "2022-05-11T14:05:58.006Z"
   },
   {
    "duration": 5,
    "start_time": "2022-05-11T14:05:58.022Z"
   },
   {
    "duration": 190,
    "start_time": "2022-05-11T14:05:58.028Z"
   },
   {
    "duration": 188,
    "start_time": "2022-05-11T14:06:27.243Z"
   },
   {
    "duration": 198,
    "start_time": "2022-05-11T14:07:03.070Z"
   },
   {
    "duration": 191,
    "start_time": "2022-05-11T14:07:25.061Z"
   },
   {
    "duration": 3,
    "start_time": "2022-05-11T14:08:06.634Z"
   },
   {
    "duration": 4,
    "start_time": "2022-05-11T14:08:24.600Z"
   },
   {
    "duration": 194,
    "start_time": "2022-05-11T14:08:59.374Z"
   },
   {
    "duration": 225,
    "start_time": "2022-05-11T14:09:29.249Z"
   },
   {
    "duration": 200,
    "start_time": "2022-05-11T14:10:08.588Z"
   },
   {
    "duration": 3,
    "start_time": "2022-05-11T14:10:26.189Z"
   },
   {
    "duration": 3,
    "start_time": "2022-05-11T14:10:45.001Z"
   },
   {
    "duration": 3,
    "start_time": "2022-05-11T14:12:57.390Z"
   },
   {
    "duration": 4,
    "start_time": "2022-05-11T14:16:50.763Z"
   },
   {
    "duration": 4,
    "start_time": "2022-05-11T14:22:14.483Z"
   },
   {
    "duration": 96,
    "start_time": "2022-05-11T14:32:25.200Z"
   },
   {
    "duration": 1159,
    "start_time": "2022-05-11T14:35:50.473Z"
   },
   {
    "duration": 399,
    "start_time": "2022-05-11T14:35:51.634Z"
   },
   {
    "duration": 18,
    "start_time": "2022-05-11T14:35:52.034Z"
   },
   {
    "duration": 29,
    "start_time": "2022-05-11T14:35:52.054Z"
   },
   {
    "duration": 66,
    "start_time": "2022-05-11T14:35:52.085Z"
   },
   {
    "duration": 52,
    "start_time": "2022-05-11T14:35:52.153Z"
   },
   {
    "duration": 51,
    "start_time": "2022-05-11T14:35:52.207Z"
   },
   {
    "duration": 93,
    "start_time": "2022-05-11T14:35:52.260Z"
   },
   {
    "duration": 5,
    "start_time": "2022-05-11T14:35:52.355Z"
   },
   {
    "duration": 9,
    "start_time": "2022-05-11T14:35:52.362Z"
   },
   {
    "duration": 101,
    "start_time": "2022-05-11T14:35:52.372Z"
   },
   {
    "duration": 44,
    "start_time": "2022-05-11T14:35:52.475Z"
   },
   {
    "duration": 59,
    "start_time": "2022-05-11T14:35:52.520Z"
   },
   {
    "duration": 18,
    "start_time": "2022-05-11T14:35:52.582Z"
   },
   {
    "duration": 7,
    "start_time": "2022-05-11T14:35:52.602Z"
   },
   {
    "duration": 16,
    "start_time": "2022-05-11T14:35:52.610Z"
   },
   {
    "duration": 21,
    "start_time": "2022-05-11T14:35:52.627Z"
   },
   {
    "duration": 64,
    "start_time": "2022-05-11T14:35:52.650Z"
   },
   {
    "duration": 29,
    "start_time": "2022-05-11T14:35:52.716Z"
   },
   {
    "duration": 31,
    "start_time": "2022-05-11T14:35:52.747Z"
   },
   {
    "duration": 38,
    "start_time": "2022-05-11T14:35:52.779Z"
   },
   {
    "duration": 14,
    "start_time": "2022-05-11T14:35:52.818Z"
   },
   {
    "duration": 10,
    "start_time": "2022-05-11T14:35:52.833Z"
   },
   {
    "duration": 6,
    "start_time": "2022-05-11T14:35:52.844Z"
   },
   {
    "duration": 10,
    "start_time": "2022-05-11T14:35:52.852Z"
   },
   {
    "duration": 7,
    "start_time": "2022-05-11T14:35:52.864Z"
   },
   {
    "duration": 271,
    "start_time": "2022-05-11T14:35:52.872Z"
   },
   {
    "duration": 13,
    "start_time": "2022-05-11T14:36:09.320Z"
   },
   {
    "duration": 262,
    "start_time": "2022-05-11T14:37:30.858Z"
   },
   {
    "duration": 9,
    "start_time": "2022-05-11T16:03:58.058Z"
   },
   {
    "duration": 16,
    "start_time": "2022-05-11T16:04:06.313Z"
   },
   {
    "duration": 14,
    "start_time": "2022-05-11T16:05:08.228Z"
   },
   {
    "duration": 20,
    "start_time": "2022-05-11T16:06:54.805Z"
   },
   {
    "duration": 20,
    "start_time": "2022-05-11T16:07:29.835Z"
   },
   {
    "duration": 21,
    "start_time": "2022-05-11T16:08:14.700Z"
   },
   {
    "duration": 14,
    "start_time": "2022-05-11T16:08:37.118Z"
   },
   {
    "duration": 20,
    "start_time": "2022-05-11T16:08:51.185Z"
   },
   {
    "duration": 14,
    "start_time": "2022-05-11T16:09:15.287Z"
   },
   {
    "duration": 13,
    "start_time": "2022-05-11T16:10:27.045Z"
   },
   {
    "duration": 12,
    "start_time": "2022-05-11T16:11:04.336Z"
   },
   {
    "duration": 13,
    "start_time": "2022-05-11T16:11:28.974Z"
   },
   {
    "duration": 83,
    "start_time": "2022-05-11T16:14:24.307Z"
   },
   {
    "duration": 14,
    "start_time": "2022-05-11T16:14:36.701Z"
   },
   {
    "duration": 8,
    "start_time": "2022-05-11T16:14:59.221Z"
   },
   {
    "duration": 14,
    "start_time": "2022-05-11T16:15:05.200Z"
   },
   {
    "duration": 1137,
    "start_time": "2022-05-11T16:30:14.394Z"
   },
   {
    "duration": 387,
    "start_time": "2022-05-11T16:30:15.533Z"
   },
   {
    "duration": 19,
    "start_time": "2022-05-11T16:30:15.921Z"
   },
   {
    "duration": 33,
    "start_time": "2022-05-11T16:30:15.942Z"
   },
   {
    "duration": 56,
    "start_time": "2022-05-11T16:30:15.976Z"
   },
   {
    "duration": 30,
    "start_time": "2022-05-11T16:30:16.033Z"
   },
   {
    "duration": 70,
    "start_time": "2022-05-11T16:30:16.065Z"
   },
   {
    "duration": 91,
    "start_time": "2022-05-11T16:30:16.137Z"
   },
   {
    "duration": 5,
    "start_time": "2022-05-11T16:30:16.230Z"
   },
   {
    "duration": 10,
    "start_time": "2022-05-11T16:30:16.238Z"
   },
   {
    "duration": 94,
    "start_time": "2022-05-11T16:30:16.249Z"
   },
   {
    "duration": 37,
    "start_time": "2022-05-11T16:30:16.344Z"
   },
   {
    "duration": 62,
    "start_time": "2022-05-11T16:30:16.382Z"
   },
   {
    "duration": 5,
    "start_time": "2022-05-11T16:30:16.445Z"
   },
   {
    "duration": 20,
    "start_time": "2022-05-11T16:30:16.452Z"
   },
   {
    "duration": 18,
    "start_time": "2022-05-11T16:30:16.474Z"
   },
   {
    "duration": 32,
    "start_time": "2022-05-11T16:30:16.493Z"
   },
   {
    "duration": 33,
    "start_time": "2022-05-11T16:30:16.527Z"
   },
   {
    "duration": 39,
    "start_time": "2022-05-11T16:30:16.561Z"
   },
   {
    "duration": 30,
    "start_time": "2022-05-11T16:30:16.601Z"
   },
   {
    "duration": 23,
    "start_time": "2022-05-11T16:30:16.632Z"
   },
   {
    "duration": 14,
    "start_time": "2022-05-11T16:30:16.657Z"
   },
   {
    "duration": 33,
    "start_time": "2022-05-11T16:30:16.672Z"
   },
   {
    "duration": 8,
    "start_time": "2022-05-11T16:30:16.707Z"
   },
   {
    "duration": 17,
    "start_time": "2022-05-11T16:30:16.716Z"
   },
   {
    "duration": 25,
    "start_time": "2022-05-11T16:30:16.734Z"
   },
   {
    "duration": 258,
    "start_time": "2022-05-11T16:30:16.761Z"
   },
   {
    "duration": 12,
    "start_time": "2022-05-11T16:30:17.023Z"
   },
   {
    "duration": 19,
    "start_time": "2022-05-11T16:31:59.308Z"
   },
   {
    "duration": 14,
    "start_time": "2022-05-11T16:35:42.141Z"
   },
   {
    "duration": 4,
    "start_time": "2022-05-11T16:39:35.332Z"
   },
   {
    "duration": 4,
    "start_time": "2022-05-11T16:39:45.282Z"
   },
   {
    "duration": 232,
    "start_time": "2022-05-11T16:41:12.558Z"
   },
   {
    "duration": 198,
    "start_time": "2022-05-11T16:41:40.325Z"
   },
   {
    "duration": 191,
    "start_time": "2022-05-11T16:42:01.846Z"
   },
   {
    "duration": 192,
    "start_time": "2022-05-11T16:43:29.158Z"
   },
   {
    "duration": 94,
    "start_time": "2022-05-11T16:44:00.742Z"
   },
   {
    "duration": 18,
    "start_time": "2022-05-11T16:44:28.282Z"
   },
   {
    "duration": 19,
    "start_time": "2022-05-11T16:44:59.736Z"
   },
   {
    "duration": 10,
    "start_time": "2022-05-11T16:45:33.593Z"
   },
   {
    "duration": 20,
    "start_time": "2022-05-11T16:45:38.917Z"
   },
   {
    "duration": 22,
    "start_time": "2022-05-11T16:45:55.422Z"
   },
   {
    "duration": 20,
    "start_time": "2022-05-11T16:46:07.399Z"
   },
   {
    "duration": 22,
    "start_time": "2022-05-11T16:46:23.813Z"
   },
   {
    "duration": 22,
    "start_time": "2022-05-11T16:47:27.843Z"
   },
   {
    "duration": 25,
    "start_time": "2022-05-11T16:47:38.955Z"
   },
   {
    "duration": 22,
    "start_time": "2022-05-11T16:47:46.520Z"
   },
   {
    "duration": 26,
    "start_time": "2022-05-11T16:48:12.082Z"
   },
   {
    "duration": 27,
    "start_time": "2022-05-11T16:49:08.479Z"
   },
   {
    "duration": 25,
    "start_time": "2022-05-11T17:20:44.025Z"
   },
   {
    "duration": 3208,
    "start_time": "2022-05-11T17:27:25.473Z"
   },
   {
    "duration": 3272,
    "start_time": "2022-05-11T17:27:43.777Z"
   },
   {
    "duration": 336,
    "start_time": "2022-05-11T17:30:33.297Z"
   },
   {
    "duration": 295,
    "start_time": "2022-05-11T17:30:51.077Z"
   },
   {
    "duration": 221,
    "start_time": "2022-05-11T17:31:20.551Z"
   },
   {
    "duration": 156,
    "start_time": "2022-05-11T17:32:10.571Z"
   },
   {
    "duration": 308,
    "start_time": "2022-05-11T17:32:18.253Z"
   },
   {
    "duration": 135,
    "start_time": "2022-05-11T17:32:28.011Z"
   },
   {
    "duration": 127,
    "start_time": "2022-05-11T17:32:45.581Z"
   },
   {
    "duration": 148,
    "start_time": "2022-05-11T17:33:07.611Z"
   },
   {
    "duration": 138,
    "start_time": "2022-05-11T17:33:47.781Z"
   },
   {
    "duration": 14,
    "start_time": "2022-05-11T17:44:01.190Z"
   },
   {
    "duration": 18,
    "start_time": "2022-05-11T17:45:09.888Z"
   },
   {
    "duration": 150,
    "start_time": "2022-05-11T17:46:57.771Z"
   },
   {
    "duration": 142,
    "start_time": "2022-05-11T17:47:15.198Z"
   },
   {
    "duration": 216,
    "start_time": "2022-05-11T17:48:16.323Z"
   },
   {
    "duration": 157,
    "start_time": "2022-05-11T17:48:29.775Z"
   },
   {
    "duration": 147,
    "start_time": "2022-05-11T17:48:41.758Z"
   },
   {
    "duration": 162,
    "start_time": "2022-05-11T17:50:51.705Z"
   },
   {
    "duration": 42,
    "start_time": "2022-05-11T20:39:10.697Z"
   },
   {
    "duration": 1196,
    "start_time": "2022-05-11T20:39:27.130Z"
   },
   {
    "duration": 392,
    "start_time": "2022-05-11T20:39:28.328Z"
   },
   {
    "duration": 16,
    "start_time": "2022-05-11T20:39:28.722Z"
   },
   {
    "duration": 23,
    "start_time": "2022-05-11T20:39:28.740Z"
   },
   {
    "duration": 69,
    "start_time": "2022-05-11T20:39:28.765Z"
   },
   {
    "duration": 28,
    "start_time": "2022-05-11T20:39:28.835Z"
   },
   {
    "duration": 65,
    "start_time": "2022-05-11T20:39:28.864Z"
   },
   {
    "duration": 77,
    "start_time": "2022-05-11T20:39:28.930Z"
   },
   {
    "duration": 6,
    "start_time": "2022-05-11T20:39:29.009Z"
   },
   {
    "duration": 9,
    "start_time": "2022-05-11T20:39:29.016Z"
   },
   {
    "duration": 87,
    "start_time": "2022-05-11T20:39:29.026Z"
   },
   {
    "duration": 37,
    "start_time": "2022-05-11T20:39:29.114Z"
   },
   {
    "duration": 66,
    "start_time": "2022-05-11T20:39:29.152Z"
   },
   {
    "duration": 4,
    "start_time": "2022-05-11T20:39:29.220Z"
   },
   {
    "duration": 8,
    "start_time": "2022-05-11T20:39:29.225Z"
   },
   {
    "duration": 15,
    "start_time": "2022-05-11T20:39:29.235Z"
   },
   {
    "duration": 21,
    "start_time": "2022-05-11T20:39:29.251Z"
   },
   {
    "duration": 56,
    "start_time": "2022-05-11T20:39:29.273Z"
   },
   {
    "duration": 27,
    "start_time": "2022-05-11T20:39:29.330Z"
   },
   {
    "duration": 27,
    "start_time": "2022-05-11T20:39:29.358Z"
   },
   {
    "duration": 39,
    "start_time": "2022-05-11T20:39:29.386Z"
   },
   {
    "duration": 13,
    "start_time": "2022-05-11T20:39:29.426Z"
   },
   {
    "duration": 8,
    "start_time": "2022-05-11T20:39:29.440Z"
   },
   {
    "duration": 5,
    "start_time": "2022-05-11T20:39:29.449Z"
   },
   {
    "duration": 6,
    "start_time": "2022-05-11T20:39:29.455Z"
   },
   {
    "duration": 7,
    "start_time": "2022-05-11T20:39:29.462Z"
   },
   {
    "duration": 290,
    "start_time": "2022-05-11T20:39:29.470Z"
   },
   {
    "duration": 22,
    "start_time": "2022-05-11T20:39:29.761Z"
   },
   {
    "duration": 3517,
    "start_time": "2022-05-11T20:39:29.785Z"
   },
   {
    "duration": 1238,
    "start_time": "2022-05-11T20:43:53.839Z"
   },
   {
    "duration": 1288,
    "start_time": "2022-05-11T20:44:34.125Z"
   },
   {
    "duration": 450,
    "start_time": "2022-05-11T20:44:35.416Z"
   },
   {
    "duration": 21,
    "start_time": "2022-05-11T20:44:35.868Z"
   },
   {
    "duration": 34,
    "start_time": "2022-05-11T20:44:35.890Z"
   },
   {
    "duration": 49,
    "start_time": "2022-05-11T20:44:35.927Z"
   },
   {
    "duration": 53,
    "start_time": "2022-05-11T20:44:35.977Z"
   },
   {
    "duration": 50,
    "start_time": "2022-05-11T20:44:36.032Z"
   },
   {
    "duration": 79,
    "start_time": "2022-05-11T20:44:36.100Z"
   },
   {
    "duration": 6,
    "start_time": "2022-05-11T20:44:36.181Z"
   },
   {
    "duration": 15,
    "start_time": "2022-05-11T20:44:36.188Z"
   },
   {
    "duration": 129,
    "start_time": "2022-05-11T20:44:36.206Z"
   },
   {
    "duration": 67,
    "start_time": "2022-05-11T20:44:36.337Z"
   },
   {
    "duration": 65,
    "start_time": "2022-05-11T20:44:36.406Z"
   },
   {
    "duration": 4,
    "start_time": "2022-05-11T20:44:36.474Z"
   },
   {
    "duration": 25,
    "start_time": "2022-05-11T20:44:36.480Z"
   },
   {
    "duration": 17,
    "start_time": "2022-05-11T20:44:36.507Z"
   },
   {
    "duration": 21,
    "start_time": "2022-05-11T20:44:36.525Z"
   },
   {
    "duration": 53,
    "start_time": "2022-05-11T20:44:36.547Z"
   },
   {
    "duration": 35,
    "start_time": "2022-05-11T20:44:36.602Z"
   },
   {
    "duration": 29,
    "start_time": "2022-05-11T20:44:36.639Z"
   },
   {
    "duration": 44,
    "start_time": "2022-05-11T20:44:36.670Z"
   },
   {
    "duration": 14,
    "start_time": "2022-05-11T20:44:36.717Z"
   },
   {
    "duration": 10,
    "start_time": "2022-05-11T20:44:36.732Z"
   },
   {
    "duration": 7,
    "start_time": "2022-05-11T20:44:36.744Z"
   },
   {
    "duration": 7,
    "start_time": "2022-05-11T20:44:36.752Z"
   },
   {
    "duration": 7,
    "start_time": "2022-05-11T20:44:36.760Z"
   },
   {
    "duration": 329,
    "start_time": "2022-05-11T20:44:36.768Z"
   },
   {
    "duration": 28,
    "start_time": "2022-05-11T20:44:37.099Z"
   },
   {
    "duration": 1244,
    "start_time": "2022-05-11T20:44:37.129Z"
   },
   {
    "duration": 4306,
    "start_time": "2022-05-11T20:47:03.063Z"
   },
   {
    "duration": 878,
    "start_time": "2022-05-11T20:48:05.049Z"
   },
   {
    "duration": 1043,
    "start_time": "2022-05-11T20:49:53.950Z"
   },
   {
    "duration": 511,
    "start_time": "2022-05-11T20:49:54.995Z"
   },
   {
    "duration": 24,
    "start_time": "2022-05-11T20:49:55.508Z"
   },
   {
    "duration": 27,
    "start_time": "2022-05-11T20:49:55.534Z"
   },
   {
    "duration": 81,
    "start_time": "2022-05-11T20:49:55.563Z"
   },
   {
    "duration": 60,
    "start_time": "2022-05-11T20:49:55.646Z"
   },
   {
    "duration": 47,
    "start_time": "2022-05-11T20:49:55.708Z"
   },
   {
    "duration": 86,
    "start_time": "2022-05-11T20:49:55.757Z"
   },
   {
    "duration": 5,
    "start_time": "2022-05-11T20:49:55.845Z"
   },
   {
    "duration": 12,
    "start_time": "2022-05-11T20:49:55.852Z"
   },
   {
    "duration": 124,
    "start_time": "2022-05-11T20:49:55.866Z"
   },
   {
    "duration": 58,
    "start_time": "2022-05-11T20:49:55.991Z"
   },
   {
    "duration": 90,
    "start_time": "2022-05-11T20:49:56.051Z"
   },
   {
    "duration": 5,
    "start_time": "2022-05-11T20:49:56.144Z"
   },
   {
    "duration": 11,
    "start_time": "2022-05-11T20:49:56.150Z"
   },
   {
    "duration": 27,
    "start_time": "2022-05-11T20:49:56.163Z"
   },
   {
    "duration": 32,
    "start_time": "2022-05-11T20:49:56.192Z"
   },
   {
    "duration": 47,
    "start_time": "2022-05-11T20:49:56.226Z"
   },
   {
    "duration": 50,
    "start_time": "2022-05-11T20:49:56.275Z"
   },
   {
    "duration": 40,
    "start_time": "2022-05-11T20:49:56.326Z"
   },
   {
    "duration": 46,
    "start_time": "2022-05-11T20:49:56.367Z"
   },
   {
    "duration": 17,
    "start_time": "2022-05-11T20:49:56.415Z"
   },
   {
    "duration": 12,
    "start_time": "2022-05-11T20:49:56.433Z"
   },
   {
    "duration": 7,
    "start_time": "2022-05-11T20:49:56.446Z"
   },
   {
    "duration": 10,
    "start_time": "2022-05-11T20:49:56.454Z"
   },
   {
    "duration": 35,
    "start_time": "2022-05-11T20:49:56.466Z"
   },
   {
    "duration": 385,
    "start_time": "2022-05-11T20:49:56.503Z"
   },
   {
    "duration": 36,
    "start_time": "2022-05-11T20:49:56.890Z"
   },
   {
    "duration": 3315,
    "start_time": "2022-05-11T20:49:56.927Z"
   },
   {
    "duration": 17,
    "start_time": "2022-05-11T20:51:28.202Z"
   },
   {
    "duration": 3110,
    "start_time": "2022-05-11T20:52:18.533Z"
   },
   {
    "duration": 2990,
    "start_time": "2022-05-11T20:53:04.079Z"
   },
   {
    "duration": 19,
    "start_time": "2022-05-11T20:53:25.740Z"
   },
   {
    "duration": 3229,
    "start_time": "2022-05-11T20:54:04.657Z"
   },
   {
    "duration": 16,
    "start_time": "2022-05-11T20:54:31.715Z"
   },
   {
    "duration": 17,
    "start_time": "2022-05-11T20:56:41.362Z"
   },
   {
    "duration": 387,
    "start_time": "2022-05-11T20:56:55.318Z"
   },
   {
    "duration": 253,
    "start_time": "2022-05-11T20:57:45.731Z"
   },
   {
    "duration": 321,
    "start_time": "2022-05-11T20:58:59.114Z"
   },
   {
    "duration": 409,
    "start_time": "2022-05-11T20:59:19.122Z"
   },
   {
    "duration": 233,
    "start_time": "2022-05-11T20:59:46.938Z"
   },
   {
    "duration": 186,
    "start_time": "2022-05-11T21:00:32.540Z"
   },
   {
    "duration": 297,
    "start_time": "2022-05-11T21:00:57.726Z"
   },
   {
    "duration": 388,
    "start_time": "2022-05-11T21:01:05.487Z"
   },
   {
    "duration": 178,
    "start_time": "2022-05-11T21:01:25.617Z"
   },
   {
    "duration": 403,
    "start_time": "2022-05-11T21:01:31.846Z"
   },
   {
    "duration": 13,
    "start_time": "2022-05-11T21:01:50.720Z"
   },
   {
    "duration": 397,
    "start_time": "2022-05-11T21:02:22.533Z"
   },
   {
    "duration": 363,
    "start_time": "2022-05-11T21:02:30.454Z"
   },
   {
    "duration": 180,
    "start_time": "2022-05-11T21:04:51.987Z"
   },
   {
    "duration": 487,
    "start_time": "2022-05-11T21:05:14.357Z"
   },
   {
    "duration": 347,
    "start_time": "2022-05-11T21:07:50.335Z"
   },
   {
    "duration": 371,
    "start_time": "2022-05-11T21:08:30.698Z"
   },
   {
    "duration": 43,
    "start_time": "2022-05-12T07:08:48.803Z"
   },
   {
    "duration": 1232,
    "start_time": "2022-05-12T07:09:05.102Z"
   },
   {
    "duration": 448,
    "start_time": "2022-05-12T07:09:06.336Z"
   },
   {
    "duration": 25,
    "start_time": "2022-05-12T07:09:06.786Z"
   },
   {
    "duration": 27,
    "start_time": "2022-05-12T07:09:06.813Z"
   },
   {
    "duration": 73,
    "start_time": "2022-05-12T07:09:06.841Z"
   },
   {
    "duration": 30,
    "start_time": "2022-05-12T07:09:06.916Z"
   },
   {
    "duration": 68,
    "start_time": "2022-05-12T07:09:06.948Z"
   },
   {
    "duration": 87,
    "start_time": "2022-05-12T07:09:07.018Z"
   },
   {
    "duration": 6,
    "start_time": "2022-05-12T07:09:07.107Z"
   },
   {
    "duration": 8,
    "start_time": "2022-05-12T07:09:07.115Z"
   },
   {
    "duration": 104,
    "start_time": "2022-05-12T07:09:07.125Z"
   },
   {
    "duration": 45,
    "start_time": "2022-05-12T07:09:07.230Z"
   },
   {
    "duration": 77,
    "start_time": "2022-05-12T07:09:07.277Z"
   },
   {
    "duration": 5,
    "start_time": "2022-05-12T07:09:07.356Z"
   },
   {
    "duration": 9,
    "start_time": "2022-05-12T07:09:07.363Z"
   },
   {
    "duration": 30,
    "start_time": "2022-05-12T07:09:07.374Z"
   },
   {
    "duration": 21,
    "start_time": "2022-05-12T07:09:07.406Z"
   },
   {
    "duration": 33,
    "start_time": "2022-05-12T07:09:07.429Z"
   },
   {
    "duration": 46,
    "start_time": "2022-05-12T07:09:07.463Z"
   },
   {
    "duration": 28,
    "start_time": "2022-05-12T07:09:07.511Z"
   },
   {
    "duration": 24,
    "start_time": "2022-05-12T07:09:07.541Z"
   },
   {
    "duration": 13,
    "start_time": "2022-05-12T07:09:07.566Z"
   },
   {
    "duration": 26,
    "start_time": "2022-05-12T07:09:07.580Z"
   },
   {
    "duration": 5,
    "start_time": "2022-05-12T07:09:07.608Z"
   },
   {
    "duration": 9,
    "start_time": "2022-05-12T07:09:07.615Z"
   },
   {
    "duration": 7,
    "start_time": "2022-05-12T07:09:07.626Z"
   },
   {
    "duration": 288,
    "start_time": "2022-05-12T07:09:07.634Z"
   },
   {
    "duration": 24,
    "start_time": "2022-05-12T07:09:07.926Z"
   },
   {
    "duration": 13,
    "start_time": "2022-05-12T07:09:07.951Z"
   },
   {
    "duration": 382,
    "start_time": "2022-05-12T07:09:07.965Z"
   },
   {
    "duration": 395,
    "start_time": "2022-05-12T07:10:19.167Z"
   },
   {
    "duration": 431,
    "start_time": "2022-05-12T07:10:39.871Z"
   },
   {
    "duration": 388,
    "start_time": "2022-05-12T07:10:47.104Z"
   },
   {
    "duration": 412,
    "start_time": "2022-05-12T07:12:39.091Z"
   },
   {
    "duration": 487,
    "start_time": "2022-05-12T07:13:01.081Z"
   },
   {
    "duration": 430,
    "start_time": "2022-05-12T07:13:17.201Z"
   },
   {
    "duration": 383,
    "start_time": "2022-05-12T07:13:37.971Z"
   },
   {
    "duration": 384,
    "start_time": "2022-05-12T07:14:22.674Z"
   },
   {
    "duration": 724,
    "start_time": "2022-05-12T07:14:36.837Z"
   },
   {
    "duration": 386,
    "start_time": "2022-05-12T07:15:02.545Z"
   },
   {
    "duration": 170,
    "start_time": "2022-05-12T07:18:28.741Z"
   },
   {
    "duration": 493,
    "start_time": "2022-05-12T07:22:07.726Z"
   },
   {
    "duration": 380,
    "start_time": "2022-05-12T07:22:46.902Z"
   },
   {
    "duration": 377,
    "start_time": "2022-05-12T07:23:34.884Z"
   },
   {
    "duration": 373,
    "start_time": "2022-05-12T07:23:51.179Z"
   },
   {
    "duration": 576,
    "start_time": "2022-05-12T07:23:58.429Z"
   },
   {
    "duration": 381,
    "start_time": "2022-05-12T07:24:21.575Z"
   },
   {
    "duration": 377,
    "start_time": "2022-05-12T07:24:31.606Z"
   },
   {
    "duration": 468,
    "start_time": "2022-05-12T07:25:50.692Z"
   },
   {
    "duration": 227,
    "start_time": "2022-05-12T07:26:30.090Z"
   },
   {
    "duration": 479,
    "start_time": "2022-05-12T07:26:46.624Z"
   },
   {
    "duration": 418,
    "start_time": "2022-05-12T07:27:26.746Z"
   },
   {
    "duration": 401,
    "start_time": "2022-05-12T07:27:53.005Z"
   },
   {
    "duration": 527,
    "start_time": "2022-05-12T07:28:01.034Z"
   },
   {
    "duration": 381,
    "start_time": "2022-05-12T07:28:09.861Z"
   },
   {
    "duration": 12,
    "start_time": "2022-05-12T07:31:13.799Z"
   },
   {
    "duration": 381,
    "start_time": "2022-05-12T07:32:21.356Z"
   },
   {
    "duration": 12,
    "start_time": "2022-05-12T07:34:19.823Z"
   },
   {
    "duration": 20,
    "start_time": "2022-05-12T07:34:28.013Z"
   },
   {
    "duration": 26,
    "start_time": "2022-05-12T07:35:40.824Z"
   },
   {
    "duration": 53,
    "start_time": "2022-05-12T07:36:21.710Z"
   },
   {
    "duration": 24,
    "start_time": "2022-05-12T07:36:38.702Z"
   },
   {
    "duration": 394,
    "start_time": "2022-05-12T07:38:41.978Z"
   },
   {
    "duration": 95,
    "start_time": "2022-05-12T07:40:28.712Z"
   },
   {
    "duration": 1155,
    "start_time": "2022-05-12T07:40:50.505Z"
   },
   {
    "duration": 390,
    "start_time": "2022-05-12T07:40:51.662Z"
   },
   {
    "duration": 19,
    "start_time": "2022-05-12T07:40:52.054Z"
   },
   {
    "duration": 34,
    "start_time": "2022-05-12T07:40:52.075Z"
   },
   {
    "duration": 50,
    "start_time": "2022-05-12T07:40:52.111Z"
   },
   {
    "duration": 48,
    "start_time": "2022-05-12T07:40:52.162Z"
   },
   {
    "duration": 47,
    "start_time": "2022-05-12T07:40:52.212Z"
   },
   {
    "duration": 98,
    "start_time": "2022-05-12T07:40:52.260Z"
   },
   {
    "duration": 5,
    "start_time": "2022-05-12T07:40:52.360Z"
   },
   {
    "duration": 9,
    "start_time": "2022-05-12T07:40:52.367Z"
   },
   {
    "duration": 103,
    "start_time": "2022-05-12T07:40:52.378Z"
   },
   {
    "duration": 47,
    "start_time": "2022-05-12T07:40:52.482Z"
   },
   {
    "duration": 70,
    "start_time": "2022-05-12T07:40:52.531Z"
   },
   {
    "duration": 5,
    "start_time": "2022-05-12T07:40:52.603Z"
   },
   {
    "duration": 11,
    "start_time": "2022-05-12T07:40:52.609Z"
   },
   {
    "duration": 14,
    "start_time": "2022-05-12T07:40:52.622Z"
   },
   {
    "duration": 22,
    "start_time": "2022-05-12T07:40:52.638Z"
   },
   {
    "duration": 54,
    "start_time": "2022-05-12T07:40:52.661Z"
   },
   {
    "duration": 30,
    "start_time": "2022-05-12T07:40:52.716Z"
   },
   {
    "duration": 30,
    "start_time": "2022-05-12T07:40:52.748Z"
   },
   {
    "duration": 32,
    "start_time": "2022-05-12T07:40:52.780Z"
   },
   {
    "duration": 12,
    "start_time": "2022-05-12T07:40:52.814Z"
   },
   {
    "duration": 18,
    "start_time": "2022-05-12T07:40:52.828Z"
   },
   {
    "duration": 6,
    "start_time": "2022-05-12T07:40:52.847Z"
   },
   {
    "duration": 6,
    "start_time": "2022-05-12T07:40:52.855Z"
   },
   {
    "duration": 38,
    "start_time": "2022-05-12T07:40:52.863Z"
   },
   {
    "duration": 239,
    "start_time": "2022-05-12T07:40:52.903Z"
   },
   {
    "duration": 24,
    "start_time": "2022-05-12T07:40:53.143Z"
   },
   {
    "duration": 40,
    "start_time": "2022-05-12T07:40:53.168Z"
   },
   {
    "duration": 514,
    "start_time": "2022-05-12T07:40:53.210Z"
   },
   {
    "duration": 97,
    "start_time": "2022-05-12T07:42:19.948Z"
   },
   {
    "duration": 1111,
    "start_time": "2022-05-12T07:42:38.213Z"
   },
   {
    "duration": 509,
    "start_time": "2022-05-12T07:42:39.326Z"
   },
   {
    "duration": 18,
    "start_time": "2022-05-12T07:42:39.837Z"
   },
   {
    "duration": 26,
    "start_time": "2022-05-12T07:42:39.856Z"
   },
   {
    "duration": 51,
    "start_time": "2022-05-12T07:42:39.899Z"
   },
   {
    "duration": 49,
    "start_time": "2022-05-12T07:42:39.952Z"
   },
   {
    "duration": 52,
    "start_time": "2022-05-12T07:42:40.003Z"
   },
   {
    "duration": 87,
    "start_time": "2022-05-12T07:42:40.057Z"
   },
   {
    "duration": 5,
    "start_time": "2022-05-12T07:42:40.146Z"
   },
   {
    "duration": 10,
    "start_time": "2022-05-12T07:42:40.152Z"
   },
   {
    "duration": 103,
    "start_time": "2022-05-12T07:42:40.164Z"
   },
   {
    "duration": 49,
    "start_time": "2022-05-12T07:42:40.269Z"
   },
   {
    "duration": 58,
    "start_time": "2022-05-12T07:42:40.319Z"
   },
   {
    "duration": 21,
    "start_time": "2022-05-12T07:42:40.380Z"
   },
   {
    "duration": 7,
    "start_time": "2022-05-12T07:42:40.402Z"
   },
   {
    "duration": 15,
    "start_time": "2022-05-12T07:42:40.411Z"
   },
   {
    "duration": 20,
    "start_time": "2022-05-12T07:42:40.427Z"
   },
   {
    "duration": 51,
    "start_time": "2022-05-12T07:42:40.449Z"
   },
   {
    "duration": 30,
    "start_time": "2022-05-12T07:42:40.502Z"
   },
   {
    "duration": 31,
    "start_time": "2022-05-12T07:42:40.533Z"
   },
   {
    "duration": 38,
    "start_time": "2022-05-12T07:42:40.566Z"
   },
   {
    "duration": 13,
    "start_time": "2022-05-12T07:42:40.606Z"
   },
   {
    "duration": 9,
    "start_time": "2022-05-12T07:42:40.621Z"
   },
   {
    "duration": 8,
    "start_time": "2022-05-12T07:42:40.631Z"
   },
   {
    "duration": 9,
    "start_time": "2022-05-12T07:42:40.641Z"
   },
   {
    "duration": 7,
    "start_time": "2022-05-12T07:42:40.651Z"
   },
   {
    "duration": 270,
    "start_time": "2022-05-12T07:42:40.659Z"
   },
   {
    "duration": 23,
    "start_time": "2022-05-12T07:42:40.931Z"
   },
   {
    "duration": 21,
    "start_time": "2022-05-12T07:42:40.956Z"
   },
   {
    "duration": 406,
    "start_time": "2022-05-12T07:42:40.979Z"
   },
   {
    "duration": 96,
    "start_time": "2022-05-12T07:44:01.576Z"
   },
   {
    "duration": 1131,
    "start_time": "2022-05-12T07:44:13.483Z"
   },
   {
    "duration": 397,
    "start_time": "2022-05-12T07:44:14.616Z"
   },
   {
    "duration": 19,
    "start_time": "2022-05-12T07:44:15.015Z"
   },
   {
    "duration": 35,
    "start_time": "2022-05-12T07:44:15.035Z"
   },
   {
    "duration": 63,
    "start_time": "2022-05-12T07:44:15.072Z"
   },
   {
    "duration": 28,
    "start_time": "2022-05-12T07:44:15.136Z"
   },
   {
    "duration": 64,
    "start_time": "2022-05-12T07:44:15.165Z"
   },
   {
    "duration": 79,
    "start_time": "2022-05-12T07:44:15.231Z"
   },
   {
    "duration": 5,
    "start_time": "2022-05-12T07:44:15.311Z"
   },
   {
    "duration": 24,
    "start_time": "2022-05-12T07:44:15.317Z"
   },
   {
    "duration": 104,
    "start_time": "2022-05-12T07:44:15.342Z"
   },
   {
    "duration": 41,
    "start_time": "2022-05-12T07:44:15.448Z"
   },
   {
    "duration": 64,
    "start_time": "2022-05-12T07:44:15.490Z"
   },
   {
    "duration": 4,
    "start_time": "2022-05-12T07:44:15.557Z"
   },
   {
    "duration": 8,
    "start_time": "2022-05-12T07:44:15.563Z"
   },
   {
    "duration": 31,
    "start_time": "2022-05-12T07:44:15.572Z"
   },
   {
    "duration": 20,
    "start_time": "2022-05-12T07:44:15.604Z"
   },
   {
    "duration": 34,
    "start_time": "2022-05-12T07:44:15.625Z"
   },
   {
    "duration": 46,
    "start_time": "2022-05-12T07:44:15.660Z"
   },
   {
    "duration": 29,
    "start_time": "2022-05-12T07:44:15.707Z"
   },
   {
    "duration": 20,
    "start_time": "2022-05-12T07:44:15.738Z"
   },
   {
    "duration": 13,
    "start_time": "2022-05-12T07:44:15.760Z"
   },
   {
    "duration": 11,
    "start_time": "2022-05-12T07:44:18.470Z"
   },
   {
    "duration": 5,
    "start_time": "2022-05-12T07:45:12.655Z"
   },
   {
    "duration": 390,
    "start_time": "2022-05-12T07:45:12.662Z"
   },
   {
    "duration": 14,
    "start_time": "2022-05-12T07:45:13.054Z"
   },
   {
    "duration": 35,
    "start_time": "2022-05-12T07:45:13.070Z"
   },
   {
    "duration": 45,
    "start_time": "2022-05-12T07:45:13.106Z"
   },
   {
    "duration": 49,
    "start_time": "2022-05-12T07:45:13.153Z"
   },
   {
    "duration": 42,
    "start_time": "2022-05-12T07:45:13.204Z"
   },
   {
    "duration": 81,
    "start_time": "2022-05-12T07:45:13.247Z"
   },
   {
    "duration": 5,
    "start_time": "2022-05-12T07:45:13.330Z"
   },
   {
    "duration": 9,
    "start_time": "2022-05-12T07:45:13.336Z"
   },
   {
    "duration": 93,
    "start_time": "2022-05-12T07:45:13.346Z"
   },
   {
    "duration": 35,
    "start_time": "2022-05-12T07:45:13.440Z"
   },
   {
    "duration": 68,
    "start_time": "2022-05-12T07:45:13.477Z"
   },
   {
    "duration": 4,
    "start_time": "2022-05-12T07:45:13.547Z"
   },
   {
    "duration": 13,
    "start_time": "2022-05-12T07:45:13.552Z"
   },
   {
    "duration": 18,
    "start_time": "2022-05-12T07:45:13.566Z"
   },
   {
    "duration": 34,
    "start_time": "2022-05-12T07:45:13.585Z"
   },
   {
    "duration": 31,
    "start_time": "2022-05-12T07:45:13.620Z"
   },
   {
    "duration": 47,
    "start_time": "2022-05-12T07:45:13.653Z"
   },
   {
    "duration": 31,
    "start_time": "2022-05-12T07:45:13.702Z"
   },
   {
    "duration": 22,
    "start_time": "2022-05-12T07:45:13.735Z"
   },
   {
    "duration": 14,
    "start_time": "2022-05-12T07:45:13.758Z"
   },
   {
    "duration": 28,
    "start_time": "2022-05-12T07:45:13.773Z"
   },
   {
    "duration": 5,
    "start_time": "2022-05-12T07:45:13.804Z"
   },
   {
    "duration": 7,
    "start_time": "2022-05-12T07:45:13.810Z"
   },
   {
    "duration": 7,
    "start_time": "2022-05-12T07:45:13.819Z"
   },
   {
    "duration": 266,
    "start_time": "2022-05-12T07:45:13.827Z"
   },
   {
    "duration": 28,
    "start_time": "2022-05-12T07:45:14.094Z"
   },
   {
    "duration": 22,
    "start_time": "2022-05-12T07:45:14.124Z"
   },
   {
    "duration": 455,
    "start_time": "2022-05-12T07:45:14.148Z"
   },
   {
    "duration": 13,
    "start_time": "2022-05-12T07:45:23.953Z"
   },
   {
    "duration": 380,
    "start_time": "2022-05-12T07:52:04.951Z"
   },
   {
    "duration": 377,
    "start_time": "2022-05-12T07:52:27.323Z"
   },
   {
    "duration": 411,
    "start_time": "2022-05-12T08:18:15.708Z"
   },
   {
    "duration": 470,
    "start_time": "2022-05-12T08:18:34.315Z"
   },
   {
    "duration": 328,
    "start_time": "2022-05-12T08:27:01.872Z"
   },
   {
    "duration": 404,
    "start_time": "2022-05-12T08:31:46.638Z"
   },
   {
    "duration": 1199,
    "start_time": "2022-05-12T09:15:30.533Z"
   },
   {
    "duration": 438,
    "start_time": "2022-05-12T09:15:31.734Z"
   },
   {
    "duration": 21,
    "start_time": "2022-05-12T09:15:32.174Z"
   },
   {
    "duration": 27,
    "start_time": "2022-05-12T09:15:32.201Z"
   },
   {
    "duration": 80,
    "start_time": "2022-05-12T09:15:32.231Z"
   },
   {
    "duration": 33,
    "start_time": "2022-05-12T09:15:32.313Z"
   },
   {
    "duration": 74,
    "start_time": "2022-05-12T09:15:32.348Z"
   },
   {
    "duration": 80,
    "start_time": "2022-05-12T09:15:32.423Z"
   },
   {
    "duration": 5,
    "start_time": "2022-05-12T09:15:32.505Z"
   },
   {
    "duration": 10,
    "start_time": "2022-05-12T09:15:32.511Z"
   },
   {
    "duration": 103,
    "start_time": "2022-05-12T09:15:32.522Z"
   },
   {
    "duration": 44,
    "start_time": "2022-05-12T09:15:32.626Z"
   },
   {
    "duration": 77,
    "start_time": "2022-05-12T09:15:32.672Z"
   },
   {
    "duration": 4,
    "start_time": "2022-05-12T09:15:32.752Z"
   },
   {
    "duration": 8,
    "start_time": "2022-05-12T09:15:32.758Z"
   },
   {
    "duration": 33,
    "start_time": "2022-05-12T09:15:32.768Z"
   },
   {
    "duration": 27,
    "start_time": "2022-05-12T09:15:32.803Z"
   },
   {
    "duration": 56,
    "start_time": "2022-05-12T09:15:32.832Z"
   },
   {
    "duration": 48,
    "start_time": "2022-05-12T09:15:32.900Z"
   },
   {
    "duration": 53,
    "start_time": "2022-05-12T09:15:32.950Z"
   },
   {
    "duration": 36,
    "start_time": "2022-05-12T09:15:33.005Z"
   },
   {
    "duration": 19,
    "start_time": "2022-05-12T09:15:33.043Z"
   },
   {
    "duration": 36,
    "start_time": "2022-05-12T09:15:33.064Z"
   },
   {
    "duration": 8,
    "start_time": "2022-05-12T09:15:33.102Z"
   },
   {
    "duration": 8,
    "start_time": "2022-05-12T09:15:33.112Z"
   },
   {
    "duration": 9,
    "start_time": "2022-05-12T09:15:33.122Z"
   },
   {
    "duration": 499,
    "start_time": "2022-05-12T09:15:33.134Z"
   },
   {
    "duration": 36,
    "start_time": "2022-05-12T09:15:33.635Z"
   },
   {
    "duration": 37,
    "start_time": "2022-05-12T09:15:33.673Z"
   },
   {
    "duration": 579,
    "start_time": "2022-05-12T09:15:33.712Z"
   },
   {
    "duration": 757,
    "start_time": "2022-05-12T09:15:34.293Z"
   },
   {
    "duration": 842,
    "start_time": "2022-05-12T09:15:35.052Z"
   },
   {
    "duration": 10,
    "start_time": "2022-05-12T09:20:20.220Z"
   },
   {
    "duration": 14,
    "start_time": "2022-05-12T09:23:37.551Z"
   },
   {
    "duration": 13,
    "start_time": "2022-05-12T09:31:24.027Z"
   },
   {
    "duration": 198,
    "start_time": "2022-05-12T09:34:04.791Z"
   },
   {
    "duration": 17,
    "start_time": "2022-05-12T09:51:52.101Z"
   },
   {
    "duration": 5,
    "start_time": "2022-05-12T09:51:58.144Z"
   },
   {
    "duration": 86,
    "start_time": "2022-05-12T10:13:24.160Z"
   },
   {
    "duration": 13,
    "start_time": "2022-05-12T10:13:37.642Z"
   },
   {
    "duration": 13,
    "start_time": "2022-05-12T10:13:43.176Z"
   },
   {
    "duration": 10,
    "start_time": "2022-05-12T10:13:59.755Z"
   },
   {
    "duration": 5,
    "start_time": "2022-05-12T10:14:03.948Z"
   },
   {
    "duration": 16,
    "start_time": "2022-05-12T10:14:15.198Z"
   },
   {
    "duration": 15,
    "start_time": "2022-05-12T10:14:31.630Z"
   },
   {
    "duration": 16,
    "start_time": "2022-05-12T10:14:54.379Z"
   },
   {
    "duration": 12,
    "start_time": "2022-05-12T10:15:31.966Z"
   },
   {
    "duration": 14,
    "start_time": "2022-05-12T10:15:50.259Z"
   },
   {
    "duration": 1075,
    "start_time": "2022-05-12T10:43:13.448Z"
   },
   {
    "duration": 382,
    "start_time": "2022-05-12T10:43:14.525Z"
   },
   {
    "duration": 18,
    "start_time": "2022-05-12T10:43:14.909Z"
   },
   {
    "duration": 25,
    "start_time": "2022-05-12T10:43:14.928Z"
   },
   {
    "duration": 69,
    "start_time": "2022-05-12T10:43:14.954Z"
   },
   {
    "duration": 29,
    "start_time": "2022-05-12T10:43:15.024Z"
   },
   {
    "duration": 66,
    "start_time": "2022-05-12T10:43:15.055Z"
   },
   {
    "duration": 80,
    "start_time": "2022-05-12T10:43:15.122Z"
   },
   {
    "duration": 5,
    "start_time": "2022-05-12T10:43:15.204Z"
   },
   {
    "duration": 7,
    "start_time": "2022-05-12T10:43:15.212Z"
   },
   {
    "duration": 99,
    "start_time": "2022-05-12T10:43:15.221Z"
   },
   {
    "duration": 40,
    "start_time": "2022-05-12T10:43:15.321Z"
   },
   {
    "duration": 71,
    "start_time": "2022-05-12T10:43:15.363Z"
   },
   {
    "duration": 4,
    "start_time": "2022-05-12T10:43:15.435Z"
   },
   {
    "duration": 13,
    "start_time": "2022-05-12T10:43:15.441Z"
   },
   {
    "duration": 16,
    "start_time": "2022-05-12T10:43:15.456Z"
   },
   {
    "duration": 33,
    "start_time": "2022-05-12T10:43:15.473Z"
   },
   {
    "duration": 35,
    "start_time": "2022-05-12T10:43:15.507Z"
   },
   {
    "duration": 31,
    "start_time": "2022-05-12T10:43:15.543Z"
   },
   {
    "duration": 46,
    "start_time": "2022-05-12T10:43:15.576Z"
   },
   {
    "duration": 22,
    "start_time": "2022-05-12T10:43:15.624Z"
   },
   {
    "duration": 13,
    "start_time": "2022-05-12T10:43:15.647Z"
   },
   {
    "duration": 10,
    "start_time": "2022-05-12T10:43:15.662Z"
   },
   {
    "duration": 31,
    "start_time": "2022-05-12T10:43:15.673Z"
   },
   {
    "duration": 9,
    "start_time": "2022-05-12T10:43:15.705Z"
   },
   {
    "duration": 8,
    "start_time": "2022-05-12T10:43:15.716Z"
   },
   {
    "duration": 256,
    "start_time": "2022-05-12T10:43:15.726Z"
   },
   {
    "duration": 32,
    "start_time": "2022-05-12T10:43:15.986Z"
   },
   {
    "duration": 13,
    "start_time": "2022-05-12T10:43:16.020Z"
   },
   {
    "duration": 355,
    "start_time": "2022-05-12T10:43:16.035Z"
   },
   {
    "duration": 411,
    "start_time": "2022-05-12T10:43:16.392Z"
   },
   {
    "duration": 481,
    "start_time": "2022-05-12T10:43:16.805Z"
   },
   {
    "duration": 25,
    "start_time": "2022-05-12T10:43:17.288Z"
   },
   {
    "duration": 4,
    "start_time": "2022-05-12T10:43:17.315Z"
   },
   {
    "duration": 18,
    "start_time": "2022-05-12T10:43:17.320Z"
   },
   {
    "duration": 9,
    "start_time": "2022-05-12T10:43:17.340Z"
   },
   {
    "duration": 3,
    "start_time": "2022-05-12T10:43:45.488Z"
   },
   {
    "duration": 376,
    "start_time": "2022-05-12T10:43:45.493Z"
   },
   {
    "duration": 14,
    "start_time": "2022-05-12T10:43:45.871Z"
   },
   {
    "duration": 30,
    "start_time": "2022-05-12T10:43:45.887Z"
   },
   {
    "duration": 46,
    "start_time": "2022-05-12T10:43:45.918Z"
   },
   {
    "duration": 49,
    "start_time": "2022-05-12T10:43:45.966Z"
   },
   {
    "duration": 43,
    "start_time": "2022-05-12T10:43:46.017Z"
   },
   {
    "duration": 90,
    "start_time": "2022-05-12T10:43:46.061Z"
   },
   {
    "duration": 5,
    "start_time": "2022-05-12T10:43:46.153Z"
   },
   {
    "duration": 8,
    "start_time": "2022-05-12T10:43:46.160Z"
   },
   {
    "duration": 113,
    "start_time": "2022-05-12T10:43:46.170Z"
   },
   {
    "duration": 45,
    "start_time": "2022-05-12T10:43:46.285Z"
   },
   {
    "duration": 70,
    "start_time": "2022-05-12T10:43:46.333Z"
   },
   {
    "duration": 5,
    "start_time": "2022-05-12T10:43:46.405Z"
   },
   {
    "duration": 9,
    "start_time": "2022-05-12T10:43:46.411Z"
   },
   {
    "duration": 15,
    "start_time": "2022-05-12T10:43:46.422Z"
   },
   {
    "duration": 27,
    "start_time": "2022-05-12T10:43:46.439Z"
   },
   {
    "duration": 49,
    "start_time": "2022-05-12T10:43:46.468Z"
   },
   {
    "duration": 28,
    "start_time": "2022-05-12T10:43:46.519Z"
   },
   {
    "duration": 30,
    "start_time": "2022-05-12T10:43:46.549Z"
   },
   {
    "duration": 35,
    "start_time": "2022-05-12T10:43:46.581Z"
   },
   {
    "duration": 14,
    "start_time": "2022-05-12T10:43:46.618Z"
   },
   {
    "duration": 10,
    "start_time": "2022-05-12T10:43:46.634Z"
   },
   {
    "duration": 9,
    "start_time": "2022-05-12T10:43:46.645Z"
   },
   {
    "duration": 7,
    "start_time": "2022-05-12T10:43:46.656Z"
   },
   {
    "duration": 7,
    "start_time": "2022-05-12T10:43:46.664Z"
   },
   {
    "duration": 255,
    "start_time": "2022-05-12T10:43:46.701Z"
   },
   {
    "duration": 22,
    "start_time": "2022-05-12T10:43:46.957Z"
   },
   {
    "duration": 26,
    "start_time": "2022-05-12T10:43:46.982Z"
   },
   {
    "duration": 322,
    "start_time": "2022-05-12T10:43:47.009Z"
   },
   {
    "duration": 529,
    "start_time": "2022-05-12T10:43:47.333Z"
   },
   {
    "duration": 430,
    "start_time": "2022-05-12T10:43:47.864Z"
   },
   {
    "duration": 16,
    "start_time": "2022-05-12T10:43:48.299Z"
   },
   {
    "duration": 3,
    "start_time": "2022-05-12T10:43:48.317Z"
   },
   {
    "duration": 26,
    "start_time": "2022-05-12T10:43:48.322Z"
   },
   {
    "duration": 18,
    "start_time": "2022-05-12T10:43:48.349Z"
   },
   {
    "duration": 1083,
    "start_time": "2022-05-12T10:44:08.234Z"
   },
   {
    "duration": 381,
    "start_time": "2022-05-12T10:44:09.319Z"
   },
   {
    "duration": 17,
    "start_time": "2022-05-12T10:44:09.702Z"
   },
   {
    "duration": 24,
    "start_time": "2022-05-12T10:44:09.720Z"
   },
   {
    "duration": 69,
    "start_time": "2022-05-12T10:44:09.746Z"
   },
   {
    "duration": 30,
    "start_time": "2022-05-12T10:44:09.816Z"
   },
   {
    "duration": 67,
    "start_time": "2022-05-12T10:44:09.848Z"
   },
   {
    "duration": 70,
    "start_time": "2022-05-12T10:44:09.917Z"
   },
   {
    "duration": 5,
    "start_time": "2022-05-12T10:44:09.999Z"
   },
   {
    "duration": 10,
    "start_time": "2022-05-12T10:44:10.006Z"
   },
   {
    "duration": 100,
    "start_time": "2022-05-12T10:44:10.017Z"
   },
   {
    "duration": 38,
    "start_time": "2022-05-12T10:44:10.119Z"
   },
   {
    "duration": 75,
    "start_time": "2022-05-12T10:44:10.159Z"
   },
   {
    "duration": 4,
    "start_time": "2022-05-12T10:44:10.238Z"
   },
   {
    "duration": 11,
    "start_time": "2022-05-12T10:44:10.243Z"
   },
   {
    "duration": 28,
    "start_time": "2022-05-12T10:44:10.255Z"
   },
   {
    "duration": 29,
    "start_time": "2022-05-12T10:44:10.285Z"
   },
   {
    "duration": 34,
    "start_time": "2022-05-12T10:44:10.316Z"
   },
   {
    "duration": 30,
    "start_time": "2022-05-12T10:44:10.351Z"
   },
   {
    "duration": 45,
    "start_time": "2022-05-12T10:44:10.383Z"
   },
   {
    "duration": 22,
    "start_time": "2022-05-12T10:44:10.430Z"
   },
   {
    "duration": 14,
    "start_time": "2022-05-12T10:44:10.454Z"
   },
   {
    "duration": 35,
    "start_time": "2022-05-12T10:44:10.470Z"
   },
   {
    "duration": 6,
    "start_time": "2022-05-12T10:44:10.507Z"
   },
   {
    "duration": 7,
    "start_time": "2022-05-12T10:44:10.515Z"
   },
   {
    "duration": 6,
    "start_time": "2022-05-12T10:44:10.524Z"
   },
   {
    "duration": 258,
    "start_time": "2022-05-12T10:44:10.532Z"
   },
   {
    "duration": 28,
    "start_time": "2022-05-12T10:44:10.792Z"
   },
   {
    "duration": 12,
    "start_time": "2022-05-12T10:44:10.822Z"
   },
   {
    "duration": 350,
    "start_time": "2022-05-12T10:44:10.836Z"
   },
   {
    "duration": 412,
    "start_time": "2022-05-12T10:44:11.188Z"
   },
   {
    "duration": 455,
    "start_time": "2022-05-12T10:44:11.602Z"
   },
   {
    "duration": 16,
    "start_time": "2022-05-12T10:44:12.059Z"
   },
   {
    "duration": 4,
    "start_time": "2022-05-12T10:44:12.077Z"
   },
   {
    "duration": 13,
    "start_time": "2022-05-12T10:44:12.100Z"
   },
   {
    "duration": 8,
    "start_time": "2022-05-12T10:44:12.115Z"
   },
   {
    "duration": 2267,
    "start_time": "2022-05-12T16:06:32.522Z"
   },
   {
    "duration": 762,
    "start_time": "2022-05-12T16:06:34.795Z"
   },
   {
    "duration": 45,
    "start_time": "2022-05-12T16:06:35.561Z"
   },
   {
    "duration": 102,
    "start_time": "2022-05-12T16:06:35.609Z"
   },
   {
    "duration": 175,
    "start_time": "2022-05-12T16:06:35.719Z"
   },
   {
    "duration": 83,
    "start_time": "2022-05-12T16:06:35.897Z"
   },
   {
    "duration": 112,
    "start_time": "2022-05-12T16:06:35.984Z"
   },
   {
    "duration": 174,
    "start_time": "2022-05-12T16:06:36.105Z"
   },
   {
    "duration": 17,
    "start_time": "2022-05-12T16:06:36.283Z"
   },
   {
    "duration": 56,
    "start_time": "2022-05-12T16:06:36.308Z"
   },
   {
    "duration": 201,
    "start_time": "2022-05-12T16:06:36.366Z"
   },
   {
    "duration": 102,
    "start_time": "2022-05-12T16:06:36.570Z"
   },
   {
    "duration": 147,
    "start_time": "2022-05-12T16:06:36.674Z"
   },
   {
    "duration": 8,
    "start_time": "2022-05-12T16:06:36.832Z"
   },
   {
    "duration": 21,
    "start_time": "2022-05-12T16:06:36.843Z"
   },
   {
    "duration": 58,
    "start_time": "2022-05-12T16:06:36.867Z"
   },
   {
    "duration": 73,
    "start_time": "2022-05-12T16:06:36.928Z"
   },
   {
    "duration": 283,
    "start_time": "2022-05-12T16:06:37.009Z"
   },
   {
    "duration": 0,
    "start_time": "2022-05-12T16:06:37.296Z"
   },
   {
    "duration": 0,
    "start_time": "2022-05-12T16:06:37.298Z"
   },
   {
    "duration": 0,
    "start_time": "2022-05-12T16:06:37.300Z"
   },
   {
    "duration": 0,
    "start_time": "2022-05-12T16:06:37.302Z"
   },
   {
    "duration": 0,
    "start_time": "2022-05-12T16:06:37.304Z"
   },
   {
    "duration": 0,
    "start_time": "2022-05-12T16:06:37.307Z"
   },
   {
    "duration": 0,
    "start_time": "2022-05-12T16:06:37.311Z"
   },
   {
    "duration": 0,
    "start_time": "2022-05-12T16:06:37.313Z"
   },
   {
    "duration": 0,
    "start_time": "2022-05-12T16:06:37.316Z"
   },
   {
    "duration": 0,
    "start_time": "2022-05-12T16:06:37.318Z"
   },
   {
    "duration": 0,
    "start_time": "2022-05-12T16:06:37.321Z"
   },
   {
    "duration": 0,
    "start_time": "2022-05-12T16:06:37.323Z"
   },
   {
    "duration": 0,
    "start_time": "2022-05-12T16:06:37.326Z"
   },
   {
    "duration": 0,
    "start_time": "2022-05-12T16:06:37.329Z"
   },
   {
    "duration": 0,
    "start_time": "2022-05-12T16:06:37.332Z"
   },
   {
    "duration": 0,
    "start_time": "2022-05-12T16:06:37.337Z"
   },
   {
    "duration": 0,
    "start_time": "2022-05-12T16:06:37.344Z"
   },
   {
    "duration": 0,
    "start_time": "2022-05-12T16:06:37.347Z"
   },
   {
    "duration": 0,
    "start_time": "2022-05-12T16:06:37.350Z"
   },
   {
    "duration": 37,
    "start_time": "2022-05-12T16:06:57.379Z"
   },
   {
    "duration": 1792,
    "start_time": "2022-05-12T16:08:02.320Z"
   },
   {
    "duration": 762,
    "start_time": "2022-05-12T16:08:04.117Z"
   },
   {
    "duration": 60,
    "start_time": "2022-05-12T16:08:04.882Z"
   },
   {
    "duration": 56,
    "start_time": "2022-05-12T16:08:04.948Z"
   },
   {
    "duration": 146,
    "start_time": "2022-05-12T16:08:05.006Z"
   },
   {
    "duration": 81,
    "start_time": "2022-05-12T16:08:05.155Z"
   },
   {
    "duration": 107,
    "start_time": "2022-05-12T16:08:05.240Z"
   },
   {
    "duration": 148,
    "start_time": "2022-05-12T16:08:05.350Z"
   },
   {
    "duration": 17,
    "start_time": "2022-05-12T16:08:05.501Z"
   },
   {
    "duration": 39,
    "start_time": "2022-05-12T16:08:05.523Z"
   },
   {
    "duration": 213,
    "start_time": "2022-05-12T16:08:05.564Z"
   },
   {
    "duration": 97,
    "start_time": "2022-05-12T16:08:05.786Z"
   },
   {
    "duration": 151,
    "start_time": "2022-05-12T16:08:05.886Z"
   },
   {
    "duration": 9,
    "start_time": "2022-05-12T16:08:06.043Z"
   },
   {
    "duration": 132,
    "start_time": "2022-05-12T16:08:06.055Z"
   },
   {
    "duration": 0,
    "start_time": "2022-05-12T16:08:06.191Z"
   },
   {
    "duration": 0,
    "start_time": "2022-05-12T16:08:06.193Z"
   },
   {
    "duration": 0,
    "start_time": "2022-05-12T16:08:06.195Z"
   },
   {
    "duration": 0,
    "start_time": "2022-05-12T16:08:06.197Z"
   },
   {
    "duration": 0,
    "start_time": "2022-05-12T16:08:06.200Z"
   },
   {
    "duration": 0,
    "start_time": "2022-05-12T16:08:06.202Z"
   },
   {
    "duration": 0,
    "start_time": "2022-05-12T16:08:06.204Z"
   },
   {
    "duration": 0,
    "start_time": "2022-05-12T16:08:06.206Z"
   },
   {
    "duration": 0,
    "start_time": "2022-05-12T16:08:06.208Z"
   },
   {
    "duration": 1,
    "start_time": "2022-05-12T16:08:06.214Z"
   },
   {
    "duration": 0,
    "start_time": "2022-05-12T16:08:06.218Z"
   },
   {
    "duration": 0,
    "start_time": "2022-05-12T16:08:06.221Z"
   },
   {
    "duration": 0,
    "start_time": "2022-05-12T16:08:06.226Z"
   },
   {
    "duration": 0,
    "start_time": "2022-05-12T16:08:06.230Z"
   },
   {
    "duration": 0,
    "start_time": "2022-05-12T16:08:06.233Z"
   },
   {
    "duration": 0,
    "start_time": "2022-05-12T16:08:06.237Z"
   },
   {
    "duration": 0,
    "start_time": "2022-05-12T16:08:06.240Z"
   },
   {
    "duration": 0,
    "start_time": "2022-05-12T16:08:06.244Z"
   },
   {
    "duration": 0,
    "start_time": "2022-05-12T16:08:06.247Z"
   },
   {
    "duration": 0,
    "start_time": "2022-05-12T16:08:06.250Z"
   },
   {
    "duration": 0,
    "start_time": "2022-05-12T16:08:06.282Z"
   },
   {
    "duration": 12,
    "start_time": "2022-05-12T16:08:35.037Z"
   },
   {
    "duration": 1972,
    "start_time": "2022-05-12T16:08:43.180Z"
   },
   {
    "duration": 804,
    "start_time": "2022-05-12T16:08:45.156Z"
   },
   {
    "duration": 48,
    "start_time": "2022-05-12T16:08:45.965Z"
   },
   {
    "duration": 96,
    "start_time": "2022-05-12T16:08:46.016Z"
   },
   {
    "duration": 120,
    "start_time": "2022-05-12T16:08:46.117Z"
   },
   {
    "duration": 107,
    "start_time": "2022-05-12T16:08:46.240Z"
   },
   {
    "duration": 118,
    "start_time": "2022-05-12T16:08:46.350Z"
   },
   {
    "duration": 195,
    "start_time": "2022-05-12T16:08:46.471Z"
   },
   {
    "duration": 20,
    "start_time": "2022-05-12T16:08:46.669Z"
   },
   {
    "duration": 72,
    "start_time": "2022-05-12T16:08:46.692Z"
   },
   {
    "duration": 436,
    "start_time": "2022-05-12T16:08:46.767Z"
   },
   {
    "duration": 127,
    "start_time": "2022-05-12T16:08:47.206Z"
   },
   {
    "duration": 266,
    "start_time": "2022-05-12T16:08:47.384Z"
   },
   {
    "duration": 36,
    "start_time": "2022-05-12T16:08:47.657Z"
   },
   {
    "duration": 68,
    "start_time": "2022-05-12T16:08:47.698Z"
   },
   {
    "duration": 103,
    "start_time": "2022-05-12T16:08:47.787Z"
   },
   {
    "duration": 133,
    "start_time": "2022-05-12T16:08:47.897Z"
   },
   {
    "duration": 197,
    "start_time": "2022-05-12T16:08:48.035Z"
   },
   {
    "duration": 133,
    "start_time": "2022-05-12T16:08:48.235Z"
   },
   {
    "duration": 210,
    "start_time": "2022-05-12T16:08:48.384Z"
   },
   {
    "duration": 121,
    "start_time": "2022-05-12T16:08:48.601Z"
   },
   {
    "duration": 77,
    "start_time": "2022-05-12T16:08:48.728Z"
   },
   {
    "duration": 36,
    "start_time": "2022-05-12T16:08:48.810Z"
   },
   {
    "duration": 73,
    "start_time": "2022-05-12T16:08:48.851Z"
   },
   {
    "duration": 57,
    "start_time": "2022-05-12T16:08:48.928Z"
   },
   {
    "duration": 103,
    "start_time": "2022-05-12T16:08:48.993Z"
   },
   {
    "duration": 1492,
    "start_time": "2022-05-12T16:08:49.099Z"
   },
   {
    "duration": 116,
    "start_time": "2022-05-12T16:08:50.594Z"
   },
   {
    "duration": 75,
    "start_time": "2022-05-12T16:08:50.713Z"
   },
   {
    "duration": 1089,
    "start_time": "2022-05-12T16:08:50.791Z"
   },
   {
    "duration": 1362,
    "start_time": "2022-05-12T16:08:51.894Z"
   },
   {
    "duration": 1383,
    "start_time": "2022-05-12T16:08:53.264Z"
   },
   {
    "duration": 37,
    "start_time": "2022-05-12T16:08:54.655Z"
   },
   {
    "duration": 70,
    "start_time": "2022-05-12T16:08:54.700Z"
   },
   {
    "duration": 41,
    "start_time": "2022-05-12T16:08:54.778Z"
   },
   {
    "duration": 143,
    "start_time": "2022-05-12T16:08:54.827Z"
   },
   {
    "duration": 19,
    "start_time": "2022-05-12T16:09:43.353Z"
   },
   {
    "duration": 1875,
    "start_time": "2022-05-12T16:12:16.065Z"
   },
   {
    "duration": 780,
    "start_time": "2022-05-12T16:12:17.943Z"
   },
   {
    "duration": 41,
    "start_time": "2022-05-12T16:12:18.726Z"
   },
   {
    "duration": 66,
    "start_time": "2022-05-12T16:12:18.784Z"
   },
   {
    "duration": 138,
    "start_time": "2022-05-12T16:12:18.853Z"
   },
   {
    "duration": 101,
    "start_time": "2022-05-12T16:12:18.995Z"
   },
   {
    "duration": 120,
    "start_time": "2022-05-12T16:12:19.102Z"
   },
   {
    "duration": 189,
    "start_time": "2022-05-12T16:12:19.227Z"
   },
   {
    "duration": 12,
    "start_time": "2022-05-12T16:12:19.420Z"
   },
   {
    "duration": 19,
    "start_time": "2022-05-12T16:12:19.438Z"
   },
   {
    "duration": 213,
    "start_time": "2022-05-12T16:12:19.460Z"
   },
   {
    "duration": 104,
    "start_time": "2022-05-12T16:12:19.683Z"
   },
   {
    "duration": 160,
    "start_time": "2022-05-12T16:12:19.794Z"
   },
   {
    "duration": 8,
    "start_time": "2022-05-12T16:12:19.957Z"
   },
   {
    "duration": 22,
    "start_time": "2022-05-12T16:12:19.988Z"
   },
   {
    "duration": 44,
    "start_time": "2022-05-12T16:12:20.014Z"
   },
   {
    "duration": 50,
    "start_time": "2022-05-12T16:12:20.061Z"
   },
   {
    "duration": 92,
    "start_time": "2022-05-12T16:12:20.122Z"
   },
   {
    "duration": 109,
    "start_time": "2022-05-12T16:12:20.225Z"
   },
   {
    "duration": 92,
    "start_time": "2022-05-12T16:12:20.340Z"
   },
   {
    "duration": 47,
    "start_time": "2022-05-12T16:12:20.442Z"
   },
   {
    "duration": 36,
    "start_time": "2022-05-12T16:12:20.494Z"
   },
   {
    "duration": 36,
    "start_time": "2022-05-12T16:12:20.533Z"
   },
   {
    "duration": 28,
    "start_time": "2022-05-12T16:12:20.571Z"
   },
   {
    "duration": 40,
    "start_time": "2022-05-12T16:12:20.602Z"
   },
   {
    "duration": 190,
    "start_time": "2022-05-12T16:12:20.645Z"
   },
   {
    "duration": 0,
    "start_time": "2022-05-12T16:12:20.839Z"
   },
   {
    "duration": 0,
    "start_time": "2022-05-12T16:12:20.841Z"
   },
   {
    "duration": 0,
    "start_time": "2022-05-12T16:12:20.843Z"
   },
   {
    "duration": 0,
    "start_time": "2022-05-12T16:12:20.845Z"
   },
   {
    "duration": 0,
    "start_time": "2022-05-12T16:12:20.847Z"
   },
   {
    "duration": 0,
    "start_time": "2022-05-12T16:12:20.849Z"
   },
   {
    "duration": 0,
    "start_time": "2022-05-12T16:12:20.851Z"
   },
   {
    "duration": 0,
    "start_time": "2022-05-12T16:12:20.853Z"
   },
   {
    "duration": 0,
    "start_time": "2022-05-12T16:12:20.856Z"
   },
   {
    "duration": 0,
    "start_time": "2022-05-12T16:12:20.858Z"
   },
   {
    "duration": 0,
    "start_time": "2022-05-12T16:12:20.860Z"
   },
   {
    "duration": 0,
    "start_time": "2022-05-12T16:12:20.881Z"
   },
   {
    "duration": 23,
    "start_time": "2022-05-12T16:12:29.725Z"
   },
   {
    "duration": 10,
    "start_time": "2022-05-12T16:14:08.136Z"
   },
   {
    "duration": 15,
    "start_time": "2022-05-12T16:14:09.689Z"
   },
   {
    "duration": 812,
    "start_time": "2022-05-12T16:14:17.316Z"
   },
   {
    "duration": 11,
    "start_time": "2022-05-12T16:14:28.157Z"
   },
   {
    "duration": 65,
    "start_time": "2022-05-12T16:16:53.712Z"
   },
   {
    "duration": 24,
    "start_time": "2022-05-12T16:17:14.082Z"
   },
   {
    "duration": 23,
    "start_time": "2022-05-12T16:19:27.098Z"
   },
   {
    "duration": 714,
    "start_time": "2022-05-12T16:19:28.376Z"
   },
   {
    "duration": 24,
    "start_time": "2022-05-12T16:21:26.892Z"
   },
   {
    "duration": 871,
    "start_time": "2022-05-12T16:22:46.423Z"
   },
   {
    "duration": 1172,
    "start_time": "2022-05-12T16:22:56.846Z"
   },
   {
    "duration": 27,
    "start_time": "2022-05-12T16:24:31.719Z"
   },
   {
    "duration": 13,
    "start_time": "2022-05-12T16:24:33.309Z"
   },
   {
    "duration": 30,
    "start_time": "2022-05-12T16:25:07.336Z"
   },
   {
    "duration": 19,
    "start_time": "2022-05-12T16:25:10.003Z"
   },
   {
    "duration": 134,
    "start_time": "2022-05-12T16:32:11.332Z"
   },
   {
    "duration": 22,
    "start_time": "2022-05-12T16:32:20.156Z"
   },
   {
    "duration": 6,
    "start_time": "2022-05-12T16:32:29.134Z"
   },
   {
    "duration": 1908,
    "start_time": "2022-05-12T16:32:54.204Z"
   },
   {
    "duration": 434,
    "start_time": "2022-05-12T16:33:59.062Z"
   },
   {
    "duration": 394,
    "start_time": "2022-05-12T16:34:07.747Z"
   },
   {
    "duration": 384,
    "start_time": "2022-05-12T16:34:17.015Z"
   },
   {
    "duration": 1691,
    "start_time": "2022-05-12T16:34:32.410Z"
   },
   {
    "duration": 643,
    "start_time": "2022-05-12T16:34:34.107Z"
   },
   {
    "duration": 51,
    "start_time": "2022-05-12T16:34:34.753Z"
   },
   {
    "duration": 99,
    "start_time": "2022-05-12T16:34:34.807Z"
   },
   {
    "duration": 114,
    "start_time": "2022-05-12T16:34:34.910Z"
   },
   {
    "duration": 75,
    "start_time": "2022-05-12T16:34:35.026Z"
   },
   {
    "duration": 127,
    "start_time": "2022-05-12T16:34:35.104Z"
   },
   {
    "duration": 126,
    "start_time": "2022-05-12T16:34:35.233Z"
   },
   {
    "duration": 35,
    "start_time": "2022-05-12T16:34:35.362Z"
   },
   {
    "duration": 23,
    "start_time": "2022-05-12T16:34:35.399Z"
   },
   {
    "duration": 192,
    "start_time": "2022-05-12T16:34:35.427Z"
   },
   {
    "duration": 100,
    "start_time": "2022-05-12T16:34:35.621Z"
   },
   {
    "duration": 123,
    "start_time": "2022-05-12T16:34:35.725Z"
   },
   {
    "duration": 7,
    "start_time": "2022-05-12T16:34:35.854Z"
   },
   {
    "duration": 33,
    "start_time": "2022-05-12T16:34:35.864Z"
   },
   {
    "duration": 45,
    "start_time": "2022-05-12T16:34:35.900Z"
   },
   {
    "duration": 41,
    "start_time": "2022-05-12T16:34:35.947Z"
   },
   {
    "duration": 63,
    "start_time": "2022-05-12T16:34:35.991Z"
   },
   {
    "duration": 73,
    "start_time": "2022-05-12T16:34:36.057Z"
   },
   {
    "duration": 66,
    "start_time": "2022-05-12T16:34:36.132Z"
   },
   {
    "duration": 56,
    "start_time": "2022-05-12T16:34:36.200Z"
   },
   {
    "duration": 27,
    "start_time": "2022-05-12T16:34:36.259Z"
   },
   {
    "duration": 58,
    "start_time": "2022-05-12T16:34:36.289Z"
   },
   {
    "duration": 21,
    "start_time": "2022-05-12T16:34:36.350Z"
   },
   {
    "duration": 19,
    "start_time": "2022-05-12T16:34:36.373Z"
   },
   {
    "duration": 46,
    "start_time": "2022-05-12T16:34:36.396Z"
   },
   {
    "duration": 8,
    "start_time": "2022-05-12T16:34:36.445Z"
   },
   {
    "duration": 10,
    "start_time": "2022-05-12T16:34:36.456Z"
   },
   {
    "duration": 664,
    "start_time": "2022-05-12T16:34:36.470Z"
   },
   {
    "duration": 7,
    "start_time": "2022-05-12T16:34:37.136Z"
   },
   {
    "duration": 80,
    "start_time": "2022-05-12T16:34:37.145Z"
   },
   {
    "duration": 22,
    "start_time": "2022-05-12T16:34:37.227Z"
   },
   {
    "duration": 787,
    "start_time": "2022-05-12T16:34:37.252Z"
   },
   {
    "duration": 974,
    "start_time": "2022-05-12T16:34:38.042Z"
   },
   {
    "duration": 1018,
    "start_time": "2022-05-12T16:34:39.019Z"
   },
   {
    "duration": 43,
    "start_time": "2022-05-12T16:34:40.040Z"
   },
   {
    "duration": 9,
    "start_time": "2022-05-12T16:34:40.089Z"
   },
   {
    "duration": 52,
    "start_time": "2022-05-12T16:34:40.101Z"
   },
   {
    "duration": 18,
    "start_time": "2022-05-12T16:34:40.155Z"
   },
   {
    "duration": 115,
    "start_time": "2022-05-12T16:34:40.187Z"
   },
   {
    "duration": 1705,
    "start_time": "2022-05-12T16:34:40.310Z"
   },
   {
    "duration": 341,
    "start_time": "2022-05-12T16:34:42.018Z"
   },
   {
    "duration": 332,
    "start_time": "2022-05-12T16:34:42.361Z"
   },
   {
    "duration": 322,
    "start_time": "2022-05-12T16:34:42.696Z"
   },
   {
    "duration": 43,
    "start_time": "2022-05-12T16:34:43.022Z"
   },
   {
    "duration": 77,
    "start_time": "2022-05-12T17:52:14.610Z"
   },
   {
    "duration": 1520,
    "start_time": "2022-05-12T17:52:18.292Z"
   },
   {
    "duration": 538,
    "start_time": "2022-05-12T17:52:19.828Z"
   },
   {
    "duration": 25,
    "start_time": "2022-05-12T17:52:26.203Z"
   },
   {
    "duration": 30,
    "start_time": "2022-05-12T17:52:32.976Z"
   },
   {
    "duration": 60,
    "start_time": "2022-05-12T17:52:38.673Z"
   },
   {
    "duration": 33,
    "start_time": "2022-05-12T17:52:44.176Z"
   },
   {
    "duration": 49,
    "start_time": "2022-05-12T17:52:56.546Z"
   },
   {
    "duration": 47,
    "start_time": "2022-05-16T21:12:54.122Z"
   },
   {
    "duration": 1097,
    "start_time": "2022-05-16T21:13:02.303Z"
   },
   {
    "duration": 422,
    "start_time": "2022-05-16T21:13:03.402Z"
   },
   {
    "duration": 26,
    "start_time": "2022-05-16T21:13:03.825Z"
   },
   {
    "duration": 28,
    "start_time": "2022-05-16T21:13:03.852Z"
   },
   {
    "duration": 82,
    "start_time": "2022-05-16T21:13:03.883Z"
   },
   {
    "duration": 37,
    "start_time": "2022-05-16T21:13:03.967Z"
   },
   {
    "duration": 71,
    "start_time": "2022-05-16T21:13:04.006Z"
   },
   {
    "duration": 92,
    "start_time": "2022-05-16T21:13:04.079Z"
   },
   {
    "duration": 6,
    "start_time": "2022-05-16T21:13:04.173Z"
   },
   {
    "duration": 8,
    "start_time": "2022-05-16T21:13:04.180Z"
   },
   {
    "duration": 119,
    "start_time": "2022-05-16T21:13:04.189Z"
   },
   {
    "duration": 55,
    "start_time": "2022-05-16T21:13:04.311Z"
   },
   {
    "duration": 38,
    "start_time": "2022-05-16T21:13:04.368Z"
   },
   {
    "duration": 5,
    "start_time": "2022-05-16T21:13:04.410Z"
   },
   {
    "duration": 9,
    "start_time": "2022-05-16T21:13:04.416Z"
   },
   {
    "duration": 3,
    "start_time": "2022-05-16T21:13:04.449Z"
   },
   {
    "duration": 46,
    "start_time": "2022-05-16T21:13:04.454Z"
   },
   {
    "duration": 58,
    "start_time": "2022-05-16T21:13:04.502Z"
   },
   {
    "duration": 37,
    "start_time": "2022-05-16T21:13:04.562Z"
   },
   {
    "duration": 34,
    "start_time": "2022-05-16T21:13:04.601Z"
   },
   {
    "duration": 29,
    "start_time": "2022-05-16T21:13:04.650Z"
   },
   {
    "duration": 10,
    "start_time": "2022-05-16T21:13:04.681Z"
   },
   {
    "duration": 16,
    "start_time": "2022-05-16T21:13:04.693Z"
   },
   {
    "duration": 4,
    "start_time": "2022-05-16T21:13:04.711Z"
   },
   {
    "duration": 45,
    "start_time": "2022-05-16T21:13:04.717Z"
   },
   {
    "duration": 6,
    "start_time": "2022-05-16T21:13:04.764Z"
   },
   {
    "duration": 15,
    "start_time": "2022-05-16T21:13:04.771Z"
   },
   {
    "duration": 12,
    "start_time": "2022-05-16T21:13:04.788Z"
   },
   {
    "duration": 8,
    "start_time": "2022-05-16T21:13:04.802Z"
   },
   {
    "duration": 39,
    "start_time": "2022-05-16T21:13:04.811Z"
   },
   {
    "duration": 266,
    "start_time": "2022-05-16T21:13:04.853Z"
   },
   {
    "duration": 5,
    "start_time": "2022-05-16T21:13:05.121Z"
   },
   {
    "duration": 45,
    "start_time": "2022-05-16T21:13:05.129Z"
   },
   {
    "duration": 27,
    "start_time": "2022-05-16T21:13:05.176Z"
   },
   {
    "duration": 14,
    "start_time": "2022-05-16T21:13:05.204Z"
   },
   {
    "duration": 42,
    "start_time": "2022-05-16T21:13:05.220Z"
   },
   {
    "duration": 383,
    "start_time": "2022-05-16T21:13:05.264Z"
   },
   {
    "duration": 461,
    "start_time": "2022-05-16T21:13:05.650Z"
   },
   {
    "duration": 542,
    "start_time": "2022-05-16T21:13:06.112Z"
   },
   {
    "duration": 17,
    "start_time": "2022-05-16T21:13:06.656Z"
   },
   {
    "duration": 11,
    "start_time": "2022-05-16T21:13:06.677Z"
   },
   {
    "duration": 5,
    "start_time": "2022-05-16T21:13:06.689Z"
   },
   {
    "duration": 17,
    "start_time": "2022-05-16T21:13:06.695Z"
   },
   {
    "duration": 41,
    "start_time": "2022-05-16T21:13:06.714Z"
   },
   {
    "duration": 11,
    "start_time": "2022-05-16T21:13:06.757Z"
   },
   {
    "duration": 57,
    "start_time": "2022-05-16T21:13:06.769Z"
   },
   {
    "duration": 1086,
    "start_time": "2022-05-16T21:13:06.828Z"
   },
   {
    "duration": 175,
    "start_time": "2022-05-16T21:13:07.916Z"
   },
   {
    "duration": 177,
    "start_time": "2022-05-16T21:13:08.092Z"
   },
   {
    "duration": 170,
    "start_time": "2022-05-16T21:13:08.270Z"
   },
   {
    "duration": 41,
    "start_time": "2022-05-16T21:13:08.442Z"
   },
   {
    "duration": 20,
    "start_time": "2022-05-16T21:13:30.650Z"
   },
   {
    "duration": 1166,
    "start_time": "2022-05-16T21:21:32.806Z"
   },
   {
    "duration": 412,
    "start_time": "2022-05-16T21:21:33.974Z"
   },
   {
    "duration": 19,
    "start_time": "2022-05-16T21:21:34.387Z"
   },
   {
    "duration": 46,
    "start_time": "2022-05-16T21:21:34.408Z"
   },
   {
    "duration": 55,
    "start_time": "2022-05-16T21:21:34.457Z"
   },
   {
    "duration": 55,
    "start_time": "2022-05-16T21:21:34.514Z"
   },
   {
    "duration": 47,
    "start_time": "2022-05-16T21:21:34.571Z"
   },
   {
    "duration": 102,
    "start_time": "2022-05-16T21:21:34.619Z"
   },
   {
    "duration": 5,
    "start_time": "2022-05-16T21:21:34.723Z"
   },
   {
    "duration": 22,
    "start_time": "2022-05-16T21:21:34.730Z"
   },
   {
    "duration": 100,
    "start_time": "2022-05-16T21:21:34.753Z"
   },
   {
    "duration": 42,
    "start_time": "2022-05-16T21:21:34.854Z"
   },
   {
    "duration": 62,
    "start_time": "2022-05-16T21:21:34.898Z"
   },
   {
    "duration": 5,
    "start_time": "2022-05-16T21:21:34.963Z"
   },
   {
    "duration": 8,
    "start_time": "2022-05-16T21:21:34.970Z"
   },
   {
    "duration": 4,
    "start_time": "2022-05-16T21:21:34.979Z"
   },
   {
    "duration": 41,
    "start_time": "2022-05-16T21:21:34.984Z"
   },
   {
    "duration": 62,
    "start_time": "2022-05-16T21:21:35.026Z"
   },
   {
    "duration": 33,
    "start_time": "2022-05-16T21:21:35.090Z"
   },
   {
    "duration": 49,
    "start_time": "2022-05-16T21:21:35.124Z"
   },
   {
    "duration": 28,
    "start_time": "2022-05-16T21:21:35.174Z"
   },
   {
    "duration": 10,
    "start_time": "2022-05-16T21:21:35.203Z"
   },
   {
    "duration": 35,
    "start_time": "2022-05-16T21:21:35.215Z"
   },
   {
    "duration": 3,
    "start_time": "2022-05-16T21:21:35.252Z"
   },
   {
    "duration": 12,
    "start_time": "2022-05-16T21:21:35.257Z"
   },
   {
    "duration": 6,
    "start_time": "2022-05-16T21:21:35.270Z"
   },
   {
    "duration": 14,
    "start_time": "2022-05-16T21:21:35.277Z"
   },
   {
    "duration": 11,
    "start_time": "2022-05-16T21:21:35.293Z"
   },
   {
    "duration": 7,
    "start_time": "2022-05-16T21:21:35.306Z"
   },
   {
    "duration": 40,
    "start_time": "2022-05-16T21:21:35.314Z"
   },
   {
    "duration": 267,
    "start_time": "2022-05-16T21:21:35.356Z"
   },
   {
    "duration": 5,
    "start_time": "2022-05-16T21:21:35.625Z"
   },
   {
    "duration": 38,
    "start_time": "2022-05-16T21:21:35.631Z"
   },
   {
    "duration": 25,
    "start_time": "2022-05-16T21:21:35.671Z"
   },
   {
    "duration": 14,
    "start_time": "2022-05-16T21:21:35.698Z"
   },
   {
    "duration": 45,
    "start_time": "2022-05-16T21:21:35.713Z"
   },
   {
    "duration": 356,
    "start_time": "2022-05-16T21:21:35.760Z"
   },
   {
    "duration": 444,
    "start_time": "2022-05-16T21:21:36.118Z"
   },
   {
    "duration": 523,
    "start_time": "2022-05-16T21:21:36.564Z"
   },
   {
    "duration": 18,
    "start_time": "2022-05-16T21:21:37.088Z"
   },
   {
    "duration": 11,
    "start_time": "2022-05-16T21:21:37.111Z"
   },
   {
    "duration": 27,
    "start_time": "2022-05-16T21:21:37.124Z"
   },
   {
    "duration": 19,
    "start_time": "2022-05-16T21:21:37.153Z"
   },
   {
    "duration": 12,
    "start_time": "2022-05-16T21:21:37.173Z"
   },
   {
    "duration": 11,
    "start_time": "2022-05-16T21:21:37.187Z"
   },
   {
    "duration": 76,
    "start_time": "2022-05-16T21:21:37.199Z"
   },
   {
    "duration": 1046,
    "start_time": "2022-05-16T21:21:37.277Z"
   },
   {
    "duration": 170,
    "start_time": "2022-05-16T21:21:38.325Z"
   },
   {
    "duration": 174,
    "start_time": "2022-05-16T21:21:38.497Z"
   },
   {
    "duration": 165,
    "start_time": "2022-05-16T21:21:38.672Z"
   },
   {
    "duration": 41,
    "start_time": "2022-05-16T21:21:38.839Z"
   }
  ],
  "kernelspec": {
   "display_name": "Python 3 (ipykernel)",
   "language": "python",
   "name": "python3"
  },
  "language_info": {
   "codemirror_mode": {
    "name": "ipython",
    "version": 3
   },
   "file_extension": ".py",
   "mimetype": "text/x-python",
   "name": "python",
   "nbconvert_exporter": "python",
   "pygments_lexer": "ipython3",
   "version": "3.9.7"
  },
  "toc": {
   "base_numbering": 1,
   "nav_menu": {},
   "number_sections": true,
   "sideBar": true,
   "skip_h1_title": true,
   "title_cell": "Table of Contents",
   "title_sidebar": "Contents",
   "toc_cell": false,
   "toc_position": {
    "height": "calc(100% - 180px)",
    "left": "10px",
    "top": "150px",
    "width": "289.6px"
   },
   "toc_section_display": true,
   "toc_window_display": true
  }
 },
 "nbformat": 4,
 "nbformat_minor": 2
}
