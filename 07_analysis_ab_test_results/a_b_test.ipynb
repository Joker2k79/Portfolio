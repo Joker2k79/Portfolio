{
 "cells": [
  {
   "cell_type": "markdown",
   "metadata": {},
   "source": [
    "<h2>Описание проекта:<a class=\"tocSkip\"></h2>\n",
    "\n",
    "<b>Контекст</b>  \n",
    "Вы — аналитик крупного интернет-магазина. Вместе с отделом маркетинга вы подготовили список гипотез для увеличения выручки.\n",
    "Приоритизируйте гипотезы, запустите A/B-тест и проанализируйте результаты.\n",
    "\n",
    "<h3> Часть 1. Приоритизация гипотез.<a class=\"tocSkip\"></h3>\n",
    "\n",
    "<b>Задача</b>  \n",
    " * Примените фреймворк ICE для приоритизации гипотез. Отсортируйте их по убыванию приоритета.\n",
    " * Примените фреймворк RICE для приоритизации гипотез. Отсортируйте их по убыванию приоритета.\n",
    " * Укажите, как изменилась приоритизация гипотез при применении RICE вместо ICE. Объясните, почему так произошло.\n",
    "\n",
    "<h3> Часть 2. Анализ A/B-теста<a class=\"tocSkip\"></h3>\n",
    "    \n",
    "Вы провели A/B-тест и получили результаты, которые описаны в файлах /datasets/orders.csv и /datasets/visitors.csv.  \n",
    "\n",
    "<b>Задача</b>  \n",
    "Проанализируйте A/B-тест:\n",
    " * Постройте график кумулятивной выручки по группам. Сделайте выводы и предположения.\n",
    " * Постройте график кумулятивного среднего чека по группам. Сделайте выводы и предположения.\n",
    " * Постройте график относительного изменения кумулятивного среднего чека группы B к группе A. Сделайте выводы и предположения.\n",
    " * Постройте график кумулятивной конверсии по группам. Сделайте выводы и предположения.\n",
    " * Постройте график относительного изменения кумулятивной конверсии группы B к группе A. Сделайте выводы и предположения.\n",
    " * Постройте точечный график количества заказов по пользователям. Сделайте выводы и предположения.\n",
    " * Посчитайте 95-й и 99-й перцентили количества заказов на пользователя. Выберите границу для определения аномальных пользователей.\n",
    " * Постройте точечный график стоимостей заказов. Сделайте выводы и предположения.\n",
    " * Посчитайте 95-й и 99-й перцентили стоимости заказов. Выберите границу для определения аномальных заказов.\n",
    " * Посчитайте статистическую значимость различий в конверсии между группами по «сырым» данным. Сделайте выводы и предположения.\n",
    " * Посчитайте статистическую значимость различий в среднем чеке заказа между группами по «сырым» данным. Сделайте выводы и предположения.\n",
    " * Посчитайте статистическую значимость различий в конверсии между группами по «очищенным» данным. Сделайте выводы и предположения.\n",
    " * Посчитайте статистическую значимость различий в среднем чеке заказа между группами по «очищенным» данным. Сделайте выводы и предположения.\n",
    " * Примите решение по результатам теста и объясните его. Варианты решений: \n",
    "   1. Остановить тест, зафиксировать победу одной из групп.  \n",
    "   2. Остановить тест, зафиксировать отсутствие различий между группами.  \n",
    "   3. Продолжить тест.\n",
    "\n",
    "<h3>Описание данных<a class=\"tocSkip\"></h3>\n",
    "\n",
    "<b>Данные для первой части</b>  \n",
    "\n",
    "Файл /datasets/hypothesis.csv\n",
    " * Hypothesis — краткое описание гипотезы;\n",
    " * Reach — охват пользователей по 10-балльной шкале;\n",
    " * Impact — влияние на пользователей по 10-балльной шкале;\n",
    " * Confidence — уверенность в гипотезе по 10-балльной шкале;\n",
    " * Efforts — затраты ресурсов на проверку гипотезы по 10-балльной шкале. Чем больше значение Efforts, тем дороже проверка гипотезы.\n",
    "\n",
    "<b>Данные для второй части</b>  \n",
    "\n",
    "Файл /datasets/orders.csv\n",
    " * transactionId — идентификатор заказа;\n",
    " * visitorId — идентификатор пользователя, совершившего заказ;\n",
    " * date — дата, когда был совершён заказ;\n",
    " * revenue — выручка заказа;\n",
    " * group — группа A/B-теста, в которую попал заказ.\n",
    "\n",
    "Файл /datasets/visitors.csv\n",
    " * date — дата;\n",
    " * group — группа A/B-теста;\n",
    " * visitors — количество пользователей в указанную дату в указанной группе A/B-теста"
   ]
  },
  {
   "cell_type": "markdown",
   "metadata": {
    "toc": true
   },
   "source": [
    "<h1>Содержание<span class=\"tocSkip\"></span></h1>\n",
    "<div class=\"toc\"><ul class=\"toc-item\"><li><span><a href=\"#Загрузка-и-подготовка-данных\" data-toc-modified-id=\"Загрузка-и-подготовка-данных-1\"><span class=\"toc-item-num\">1&nbsp;&nbsp;</span>Загрузка и подготовка данных</a></span><ul class=\"toc-item\"><li><span><a href=\"#Таблица-hypothesis\" data-toc-modified-id=\"Таблица-hypothesis-1.1\"><span class=\"toc-item-num\">1.1&nbsp;&nbsp;</span>Таблица hypothesis</a></span></li><li><span><a href=\"#Таблица-orders\" data-toc-modified-id=\"Таблица-orders-1.2\"><span class=\"toc-item-num\">1.2&nbsp;&nbsp;</span>Таблица orders</a></span></li><li><span><a href=\"#Таблица-visitors\" data-toc-modified-id=\"Таблица-visitors-1.3\"><span class=\"toc-item-num\">1.3&nbsp;&nbsp;</span>Таблица visitors</a></span></li><li><span><a href=\"#Вывод\" data-toc-modified-id=\"Вывод-1.4\"><span class=\"toc-item-num\">1.4&nbsp;&nbsp;</span>Вывод</a></span></li></ul></li><li><span><a href=\"#Приоритизация-гипотез\" data-toc-modified-id=\"Приоритизация-гипотез-2\"><span class=\"toc-item-num\">2&nbsp;&nbsp;</span>Приоритизация гипотез</a></span><ul class=\"toc-item\"><li><span><a href=\"#Фреймворк-ICE-для-приоритизации-гипотез\" data-toc-modified-id=\"Фреймворк-ICE-для-приоритизации-гипотез-2.1\"><span class=\"toc-item-num\">2.1&nbsp;&nbsp;</span>Фреймворк ICE для приоритизации гипотез</a></span></li><li><span><a href=\"#Фреймворк-RICE-для-приоритизации-гипотез\" data-toc-modified-id=\"Фреймворк-RICE-для-приоритизации-гипотез-2.2\"><span class=\"toc-item-num\">2.2&nbsp;&nbsp;</span>Фреймворк RICE для приоритизации гипотез</a></span></li><li><span><a href=\"#Изменение-приоритизации-гипотез-при-применении-RICE-вместо-ICE\" data-toc-modified-id=\"Изменение-приоритизации-гипотез-при-применении-RICE-вместо-ICE-2.3\"><span class=\"toc-item-num\">2.3&nbsp;&nbsp;</span>Изменение приоритизации гипотез при применении RICE вместо ICE</a></span></li><li><span><a href=\"#Вывод\" data-toc-modified-id=\"Вывод-2.4\"><span class=\"toc-item-num\">2.4&nbsp;&nbsp;</span>Вывод</a></span></li></ul></li><li><span><a href=\"#Анализ-A/B-теста\" data-toc-modified-id=\"Анализ-A/B-теста-3\"><span class=\"toc-item-num\">3&nbsp;&nbsp;</span>Анализ A/B-теста</a></span><ul class=\"toc-item\"><li><span><a href=\"#Кумулятивная-выручка-по-группам\" data-toc-modified-id=\"Кумулятивная-выручка-по-группам-3.1\"><span class=\"toc-item-num\">3.1&nbsp;&nbsp;</span>Кумулятивная выручка по группам</a></span><ul class=\"toc-item\"><li><span><a href=\"#Создадим-массив-уникальных-пар-значений-дат-и-групп-теста\" data-toc-modified-id=\"Создадим-массив-уникальных-пар-значений-дат-и-групп-теста-3.1.1\"><span class=\"toc-item-num\">3.1.1&nbsp;&nbsp;</span>Создадим массив уникальных пар значений дат и групп теста</a></span></li><li><span><a href=\"#Число-заказов,-пользователей-и-выручка\" data-toc-modified-id=\"Число-заказов,-пользователей-и-выручка-3.1.2\"><span class=\"toc-item-num\">3.1.2&nbsp;&nbsp;</span>Число заказов, пользователей и выручка</a></span></li><li><span><a href=\"#Число-посетителей\" data-toc-modified-id=\"Число-посетителей-3.1.3\"><span class=\"toc-item-num\">3.1.3&nbsp;&nbsp;</span>Число посетителей</a></span></li><li><span><a href=\"#Объединяем-кумулятивные-данные-в-одной-таблице\" data-toc-modified-id=\"Объединяем-кумулятивные-данные-в-одной-таблице-3.1.4\"><span class=\"toc-item-num\">3.1.4&nbsp;&nbsp;</span>Объединяем кумулятивные данные в одной таблице</a></span></li><li><span><a href=\"#Разделим-выручку-по-группам-A/B-теста\" data-toc-modified-id=\"Разделим-выручку-по-группам-A/B-теста-3.1.5\"><span class=\"toc-item-num\">3.1.5&nbsp;&nbsp;</span>Разделим выручку по группам A/B теста</a></span></li><li><span><a href=\"#Построим-график-кумулятивной-выручки-по-группам\" data-toc-modified-id=\"Построим-график-кумулятивной-выручки-по-группам-3.1.6\"><span class=\"toc-item-num\">3.1.6&nbsp;&nbsp;</span>Построим график кумулятивной выручки по группам</a></span></li><li><span><a href=\"#Вывод\" data-toc-modified-id=\"Вывод-3.1.7\"><span class=\"toc-item-num\">3.1.7&nbsp;&nbsp;</span>Вывод</a></span></li></ul></li><li><span><a href=\"#Кумулятивный-средний-чек-по-группам\" data-toc-modified-id=\"Кумулятивный-средний-чек-по-группам-3.2\"><span class=\"toc-item-num\">3.2&nbsp;&nbsp;</span>Кумулятивный средний чек по группам</a></span><ul class=\"toc-item\"><li><span><a href=\"#Вывод\" data-toc-modified-id=\"Вывод-3.2.1\"><span class=\"toc-item-num\">3.2.1&nbsp;&nbsp;</span>Вывод</a></span></li></ul></li><li><span><a href=\"#Относительное-изменение-кумулятивного-среднего-чека-группы-B-к-группе-A\" data-toc-modified-id=\"Относительное-изменение-кумулятивного-среднего-чека-группы-B-к-группе-A-3.3\"><span class=\"toc-item-num\">3.3&nbsp;&nbsp;</span>Относительное изменение кумулятивного среднего чека группы B к группе A</a></span><ul class=\"toc-item\"><li><span><a href=\"#Вывод\" data-toc-modified-id=\"Вывод-3.3.1\"><span class=\"toc-item-num\">3.3.1&nbsp;&nbsp;</span>Вывод</a></span></li></ul></li><li><span><a href=\"#Кумулятивная-конверсия-по-группам\" data-toc-modified-id=\"Кумулятивная-конверсия-по-группам-3.4\"><span class=\"toc-item-num\">3.4&nbsp;&nbsp;</span>Кумулятивная конверсия по группам</a></span><ul class=\"toc-item\"><li><span><a href=\"#Подсчет-кумулятивной-конверсии-в-A-и-B\" data-toc-modified-id=\"Подсчет-кумулятивной-конверсии-в-A-и-B-3.4.1\"><span class=\"toc-item-num\">3.4.1&nbsp;&nbsp;</span>Подсчет кумулятивной конверсии в A и B</a></span></li><li><span><a href=\"#Построение-графика-кумулятивной-конверсии\" data-toc-modified-id=\"Построение-графика-кумулятивной-конверсии-3.4.2\"><span class=\"toc-item-num\">3.4.2&nbsp;&nbsp;</span>Построение графика кумулятивной конверсии</a></span></li><li><span><a href=\"#Вывод\" data-toc-modified-id=\"Вывод-3.4.3\"><span class=\"toc-item-num\">3.4.3&nbsp;&nbsp;</span>Вывод</a></span></li></ul></li><li><span><a href=\"#Относительное-изменение-кумулятивной-конверсии-группы-B-к-группе-A\" data-toc-modified-id=\"Относительное-изменение-кумулятивной-конверсии-группы-B-к-группе-A-3.5\"><span class=\"toc-item-num\">3.5&nbsp;&nbsp;</span>Относительное изменение кумулятивной конверсии группы B к группе A</a></span><ul class=\"toc-item\"><li><span><a href=\"#Вывод\" data-toc-modified-id=\"Вывод-3.5.1\"><span class=\"toc-item-num\">3.5.1&nbsp;&nbsp;</span>Вывод</a></span></li></ul></li><li><span><a href=\"#Количество-заказов-по-пользователям\" data-toc-modified-id=\"Количество-заказов-по-пользователям-3.6\"><span class=\"toc-item-num\">3.6&nbsp;&nbsp;</span>Количество заказов по пользователям</a></span><ul class=\"toc-item\"><li><span><a href=\"#Вывод\" data-toc-modified-id=\"Вывод-3.6.1\"><span class=\"toc-item-num\">3.6.1&nbsp;&nbsp;</span>Вывод</a></span></li></ul></li><li><span><a href=\"#Подсчет-95-го-и-99-го-перцентиля-количества-заказов-на-пользователя\" data-toc-modified-id=\"Подсчет-95-го-и-99-го-перцентиля-количества-заказов-на-пользователя-3.7\"><span class=\"toc-item-num\">3.7&nbsp;&nbsp;</span>Подсчет 95-го и 99-го перцентиля количества заказов на пользователя</a></span><ul class=\"toc-item\"><li><span><a href=\"#Вывод\" data-toc-modified-id=\"Вывод-3.7.1\"><span class=\"toc-item-num\">3.7.1&nbsp;&nbsp;</span>Вывод</a></span></li></ul></li><li><span><a href=\"#Стоимость-заказов\" data-toc-modified-id=\"Стоимость-заказов-3.8\"><span class=\"toc-item-num\">3.8&nbsp;&nbsp;</span>Стоимость заказов</a></span><ul class=\"toc-item\"><li><span><a href=\"#Вывод\" data-toc-modified-id=\"Вывод-3.8.1\"><span class=\"toc-item-num\">3.8.1&nbsp;&nbsp;</span>Вывод</a></span></li></ul></li><li><span><a href=\"#Подсчет-95-го-и-99-го-перцентиля-стоимости-заказов\" data-toc-modified-id=\"Подсчет-95-го-и-99-го-перцентиля-стоимости-заказов-3.9\"><span class=\"toc-item-num\">3.9&nbsp;&nbsp;</span>Подсчет 95-го и 99-го перцентиля стоимости заказов</a></span><ul class=\"toc-item\"><li><span><a href=\"#Вывод\" data-toc-modified-id=\"Вывод-3.9.1\"><span class=\"toc-item-num\">3.9.1&nbsp;&nbsp;</span>Вывод</a></span></li></ul></li><li><span><a href=\"#Подсчет-статистической-значимости-различий-в-конверсии-между-группами-по-&quot;сырым&quot;-данным\" data-toc-modified-id=\"Подсчет-статистической-значимости-различий-в-конверсии-между-группами-по-&quot;сырым&quot;-данным-3.10\"><span class=\"toc-item-num\">3.10&nbsp;&nbsp;</span>Подсчет статистической значимости различий в конверсии между группами по \"сырым\" данным</a></span><ul class=\"toc-item\"><li><span><a href=\"#Соберем-&quot;сырые&quot;-данные-в-одну-таблицу\" data-toc-modified-id=\"Соберем-&quot;сырые&quot;-данные-в-одну-таблицу-3.10.1\"><span class=\"toc-item-num\">3.10.1&nbsp;&nbsp;</span>Соберем \"сырые\" данные в одну таблицу</a></span></li><li><span><a href=\"#Гипотезы\" data-toc-modified-id=\"Гипотезы-3.10.2\"><span class=\"toc-item-num\">3.10.2&nbsp;&nbsp;</span>Гипотезы</a></span></li><li><span><a href=\"#Вывод\" data-toc-modified-id=\"Вывод-3.10.3\"><span class=\"toc-item-num\">3.10.3&nbsp;&nbsp;</span>Вывод</a></span></li></ul></li><li><span><a href=\"#Различия-в-среднем-чеке-заказа-между-группами-по-&quot;сырым&quot;-данным\" data-toc-modified-id=\"Различия-в-среднем-чеке-заказа-между-группами-по-&quot;сырым&quot;-данным-3.11\"><span class=\"toc-item-num\">3.11&nbsp;&nbsp;</span>Различия в среднем чеке заказа между группами по \"сырым\" данным</a></span><ul class=\"toc-item\"><li><span><a href=\"#Вывод\" data-toc-modified-id=\"Вывод-3.11.1\"><span class=\"toc-item-num\">3.11.1&nbsp;&nbsp;</span>Вывод</a></span></li></ul></li><li><span><a href=\"#Статистическая-значимость-различий-в-конверсии-между-группами-по-&quot;очищенным&quot;-данным\" data-toc-modified-id=\"Статистическая-значимость-различий-в-конверсии-между-группами-по-&quot;очищенным&quot;-данным-3.12\"><span class=\"toc-item-num\">3.12&nbsp;&nbsp;</span>Статистическая значимость различий в конверсии между группами по \"очищенным\" данным</a></span><ul class=\"toc-item\"><li><span><a href=\"#&quot;Очищаем&quot;-данные\" data-toc-modified-id=\"&quot;Очищаем&quot;-данные-3.12.1\"><span class=\"toc-item-num\">3.12.1&nbsp;&nbsp;</span>\"Очищаем\" данные</a></span></li><li><span><a href=\"#Гипотеза-о-статистической-значимости-различий-в-конверсии-между-группами-на-&quot;очищенных&quot;-данных\" data-toc-modified-id=\"Гипотеза-о-статистической-значимости-различий-в-конверсии-между-группами-на-&quot;очищенных&quot;-данных-3.12.2\"><span class=\"toc-item-num\">3.12.2&nbsp;&nbsp;</span>Гипотеза о статистической значимости различий в конверсии между группами на \"очищенных\" данных</a></span></li><li><span><a href=\"#Вывод\" data-toc-modified-id=\"Вывод-3.12.3\"><span class=\"toc-item-num\">3.12.3&nbsp;&nbsp;</span>Вывод</a></span></li></ul></li><li><span><a href=\"#Различия-в-среднем-чеке-заказа-между-группами-на-&quot;очищенных&quot;-данных\" data-toc-modified-id=\"Различия-в-среднем-чеке-заказа-между-группами-на-&quot;очищенных&quot;-данных-3.13\"><span class=\"toc-item-num\">3.13&nbsp;&nbsp;</span>Различия в среднем чеке заказа между группами на \"очищенных\" данных</a></span><ul class=\"toc-item\"><li><span><a href=\"#Вывод\" data-toc-modified-id=\"Вывод-3.13.1\"><span class=\"toc-item-num\">3.13.1&nbsp;&nbsp;</span>Вывод</a></span></li></ul></li><li><span><a href=\"#Вывод\" data-toc-modified-id=\"Вывод-3.14\"><span class=\"toc-item-num\">3.14&nbsp;&nbsp;</span>Вывод</a></span></li></ul></li><li><span><a href=\"#Решение-по-результатам-A/B-теста\" data-toc-modified-id=\"Решение-по-результатам-A/B-теста-4\"><span class=\"toc-item-num\">4&nbsp;&nbsp;</span>Решение по результатам A/B-теста</a></span></li></ul></div>"
   ]
  },
  {
   "cell_type": "markdown",
   "metadata": {},
   "source": [
    "## Загрузка и подготовка данных"
   ]
  },
  {
   "cell_type": "code",
   "execution_count": 58,
   "metadata": {},
   "outputs": [],
   "source": [
    "import pandas as pd\n",
    "from matplotlib import pyplot as plt\n",
    "import datetime as dt\n",
    "import scipy.stats as stats\n",
    "import numpy as np\n",
    "pd.set_option('display.max_colwidth', None)\n",
    "pd.set_option('display.float_format', '{:.2f}'.format)"
   ]
  },
  {
   "cell_type": "code",
   "execution_count": 59,
   "metadata": {},
   "outputs": [],
   "source": [
    "try:\n",
    "    hypothesis = pd.read_csv('/datasets/hypothesis.csv')\n",
    "    orders = pd.read_csv('/datasets/orders.csv')\n",
    "    visitors = pd.read_csv('/datasets/visitors.csv')\n",
    "except:\n",
    "    print('Ошибка подгрузки данных')"
   ]
  },
  {
   "cell_type": "markdown",
   "metadata": {},
   "source": [
    "### Таблица hypothesis"
   ]
  },
  {
   "cell_type": "code",
   "execution_count": 60,
   "metadata": {},
   "outputs": [
    {
     "name": "stdout",
     "output_type": "stream",
     "text": [
      "<class 'pandas.core.frame.DataFrame'>\n",
      "RangeIndex: 9 entries, 0 to 8\n",
      "Data columns (total 5 columns):\n",
      " #   Column      Non-Null Count  Dtype \n",
      "---  ------      --------------  ----- \n",
      " 0   Hypothesis  9 non-null      object\n",
      " 1   Reach       9 non-null      int64 \n",
      " 2   Impact      9 non-null      int64 \n",
      " 3   Confidence  9 non-null      int64 \n",
      " 4   Efforts     9 non-null      int64 \n",
      "dtypes: int64(4), object(1)\n",
      "memory usage: 488.0+ bytes\n"
     ]
    },
    {
     "data": {
      "text/html": [
       "<div>\n",
       "<style scoped>\n",
       "    .dataframe tbody tr th:only-of-type {\n",
       "        vertical-align: middle;\n",
       "    }\n",
       "\n",
       "    .dataframe tbody tr th {\n",
       "        vertical-align: top;\n",
       "    }\n",
       "\n",
       "    .dataframe thead th {\n",
       "        text-align: right;\n",
       "    }\n",
       "</style>\n",
       "<table border=\"1\" class=\"dataframe\">\n",
       "  <thead>\n",
       "    <tr style=\"text-align: right;\">\n",
       "      <th></th>\n",
       "      <th>Hypothesis</th>\n",
       "      <th>Reach</th>\n",
       "      <th>Impact</th>\n",
       "      <th>Confidence</th>\n",
       "      <th>Efforts</th>\n",
       "    </tr>\n",
       "  </thead>\n",
       "  <tbody>\n",
       "    <tr>\n",
       "      <th>0</th>\n",
       "      <td>Добавить два новых канала привлечения трафика, что позволит привлекать на 30% больше пользователей</td>\n",
       "      <td>3</td>\n",
       "      <td>10</td>\n",
       "      <td>8</td>\n",
       "      <td>6</td>\n",
       "    </tr>\n",
       "    <tr>\n",
       "      <th>1</th>\n",
       "      <td>Запустить собственную службу доставки, что сократит срок доставки заказов</td>\n",
       "      <td>2</td>\n",
       "      <td>5</td>\n",
       "      <td>4</td>\n",
       "      <td>10</td>\n",
       "    </tr>\n",
       "    <tr>\n",
       "      <th>2</th>\n",
       "      <td>Добавить блоки рекомендаций товаров на сайт интернет магазина, чтобы повысить конверсию и средний чек заказа</td>\n",
       "      <td>8</td>\n",
       "      <td>3</td>\n",
       "      <td>7</td>\n",
       "      <td>3</td>\n",
       "    </tr>\n",
       "    <tr>\n",
       "      <th>3</th>\n",
       "      <td>Изменить структура категорий, что увеличит конверсию, т.к. пользователи быстрее найдут нужный товар</td>\n",
       "      <td>8</td>\n",
       "      <td>3</td>\n",
       "      <td>3</td>\n",
       "      <td>8</td>\n",
       "    </tr>\n",
       "    <tr>\n",
       "      <th>4</th>\n",
       "      <td>Изменить цвет фона главной страницы, чтобы увеличить вовлеченность пользователей</td>\n",
       "      <td>3</td>\n",
       "      <td>1</td>\n",
       "      <td>1</td>\n",
       "      <td>1</td>\n",
       "    </tr>\n",
       "    <tr>\n",
       "      <th>5</th>\n",
       "      <td>Добавить страницу отзывов клиентов о магазине, что позволит увеличить количество заказов</td>\n",
       "      <td>3</td>\n",
       "      <td>2</td>\n",
       "      <td>2</td>\n",
       "      <td>3</td>\n",
       "    </tr>\n",
       "    <tr>\n",
       "      <th>6</th>\n",
       "      <td>Показать на главной странице баннеры с актуальными акциями и распродажами, чтобы увеличить конверсию</td>\n",
       "      <td>5</td>\n",
       "      <td>3</td>\n",
       "      <td>8</td>\n",
       "      <td>3</td>\n",
       "    </tr>\n",
       "    <tr>\n",
       "      <th>7</th>\n",
       "      <td>Добавить форму подписки на все основные страницы, чтобы собрать базу клиентов для email-рассылок</td>\n",
       "      <td>10</td>\n",
       "      <td>7</td>\n",
       "      <td>8</td>\n",
       "      <td>5</td>\n",
       "    </tr>\n",
       "    <tr>\n",
       "      <th>8</th>\n",
       "      <td>Запустить акцию, дающую скидку на товар в день рождения</td>\n",
       "      <td>1</td>\n",
       "      <td>9</td>\n",
       "      <td>9</td>\n",
       "      <td>5</td>\n",
       "    </tr>\n",
       "  </tbody>\n",
       "</table>\n",
       "</div>"
      ],
      "text/plain": [
       "                                                                                                     Hypothesis  \\\n",
       "0            Добавить два новых канала привлечения трафика, что позволит привлекать на 30% больше пользователей   \n",
       "1                                     Запустить собственную службу доставки, что сократит срок доставки заказов   \n",
       "2  Добавить блоки рекомендаций товаров на сайт интернет магазина, чтобы повысить конверсию и средний чек заказа   \n",
       "3           Изменить структура категорий, что увеличит конверсию, т.к. пользователи быстрее найдут нужный товар   \n",
       "4                              Изменить цвет фона главной страницы, чтобы увеличить вовлеченность пользователей   \n",
       "5                      Добавить страницу отзывов клиентов о магазине, что позволит увеличить количество заказов   \n",
       "6          Показать на главной странице баннеры с актуальными акциями и распродажами, чтобы увеличить конверсию   \n",
       "7              Добавить форму подписки на все основные страницы, чтобы собрать базу клиентов для email-рассылок   \n",
       "8                                                       Запустить акцию, дающую скидку на товар в день рождения   \n",
       "\n",
       "   Reach  Impact  Confidence  Efforts  \n",
       "0      3      10           8        6  \n",
       "1      2       5           4       10  \n",
       "2      8       3           7        3  \n",
       "3      8       3           3        8  \n",
       "4      3       1           1        1  \n",
       "5      3       2           2        3  \n",
       "6      5       3           8        3  \n",
       "7     10       7           8        5  \n",
       "8      1       9           9        5  "
      ]
     },
     "execution_count": 60,
     "metadata": {},
     "output_type": "execute_result"
    }
   ],
   "source": [
    "hypothesis.info()\n",
    "hypothesis"
   ]
  },
  {
   "cell_type": "markdown",
   "metadata": {},
   "source": [
    "Приведем к нижнему регистру названия столбцов"
   ]
  },
  {
   "cell_type": "code",
   "execution_count": 61,
   "metadata": {},
   "outputs": [
    {
     "data": {
      "text/plain": [
       "Index(['hypothesis', 'reach', 'impact', 'confidence', 'efforts'], dtype='object')"
      ]
     },
     "execution_count": 61,
     "metadata": {},
     "output_type": "execute_result"
    }
   ],
   "source": [
    "hypothesis.columns = hypothesis.columns.str.lower()\n",
    "hypothesis.columns"
   ]
  },
  {
   "cell_type": "markdown",
   "metadata": {},
   "source": [
    "### Таблица orders"
   ]
  },
  {
   "cell_type": "code",
   "execution_count": 62,
   "metadata": {},
   "outputs": [
    {
     "name": "stdout",
     "output_type": "stream",
     "text": [
      "<class 'pandas.core.frame.DataFrame'>\n",
      "RangeIndex: 1197 entries, 0 to 1196\n",
      "Data columns (total 5 columns):\n",
      " #   Column         Non-Null Count  Dtype \n",
      "---  ------         --------------  ----- \n",
      " 0   transactionId  1197 non-null   int64 \n",
      " 1   visitorId      1197 non-null   int64 \n",
      " 2   date           1197 non-null   object\n",
      " 3   revenue        1197 non-null   int64 \n",
      " 4   group          1197 non-null   object\n",
      "dtypes: int64(3), object(2)\n",
      "memory usage: 46.9+ KB\n"
     ]
    },
    {
     "data": {
      "text/html": [
       "<div>\n",
       "<style scoped>\n",
       "    .dataframe tbody tr th:only-of-type {\n",
       "        vertical-align: middle;\n",
       "    }\n",
       "\n",
       "    .dataframe tbody tr th {\n",
       "        vertical-align: top;\n",
       "    }\n",
       "\n",
       "    .dataframe thead th {\n",
       "        text-align: right;\n",
       "    }\n",
       "</style>\n",
       "<table border=\"1\" class=\"dataframe\">\n",
       "  <thead>\n",
       "    <tr style=\"text-align: right;\">\n",
       "      <th></th>\n",
       "      <th>transactionId</th>\n",
       "      <th>visitorId</th>\n",
       "      <th>date</th>\n",
       "      <th>revenue</th>\n",
       "      <th>group</th>\n",
       "    </tr>\n",
       "  </thead>\n",
       "  <tbody>\n",
       "    <tr>\n",
       "      <th>48</th>\n",
       "      <td>133616433</td>\n",
       "      <td>1215602524</td>\n",
       "      <td>2019-08-16</td>\n",
       "      <td>1250</td>\n",
       "      <td>B</td>\n",
       "    </tr>\n",
       "    <tr>\n",
       "      <th>6</th>\n",
       "      <td>398296753</td>\n",
       "      <td>2900797465</td>\n",
       "      <td>2019-08-15</td>\n",
       "      <td>1860</td>\n",
       "      <td>B</td>\n",
       "    </tr>\n",
       "    <tr>\n",
       "      <th>1048</th>\n",
       "      <td>4057562044</td>\n",
       "      <td>4134830387</td>\n",
       "      <td>2019-08-11</td>\n",
       "      <td>1720</td>\n",
       "      <td>B</td>\n",
       "    </tr>\n",
       "    <tr>\n",
       "      <th>840</th>\n",
       "      <td>234238251</td>\n",
       "      <td>2742574263</td>\n",
       "      <td>2019-08-21</td>\n",
       "      <td>9448</td>\n",
       "      <td>B</td>\n",
       "    </tr>\n",
       "    <tr>\n",
       "      <th>585</th>\n",
       "      <td>3301293313</td>\n",
       "      <td>1151477821</td>\n",
       "      <td>2019-08-20</td>\n",
       "      <td>4008</td>\n",
       "      <td>B</td>\n",
       "    </tr>\n",
       "  </tbody>\n",
       "</table>\n",
       "</div>"
      ],
      "text/plain": [
       "      transactionId   visitorId        date  revenue group\n",
       "48        133616433  1215602524  2019-08-16     1250     B\n",
       "6         398296753  2900797465  2019-08-15     1860     B\n",
       "1048     4057562044  4134830387  2019-08-11     1720     B\n",
       "840       234238251  2742574263  2019-08-21     9448     B\n",
       "585      3301293313  1151477821  2019-08-20     4008     B"
      ]
     },
     "execution_count": 62,
     "metadata": {},
     "output_type": "execute_result"
    }
   ],
   "source": [
    "orders.info()\n",
    "orders.sample(5)"
   ]
  },
  {
   "cell_type": "markdown",
   "metadata": {},
   "source": [
    "Приведем к нижнему регистру названия столбцов"
   ]
  },
  {
   "cell_type": "code",
   "execution_count": 63,
   "metadata": {},
   "outputs": [],
   "source": [
    "orders.columns = orders.columns.str.lower()"
   ]
  },
  {
   "cell_type": "markdown",
   "metadata": {},
   "source": [
    "Меняем тип 'date' на datetime"
   ]
  },
  {
   "cell_type": "code",
   "execution_count": 64,
   "metadata": {},
   "outputs": [
    {
     "name": "stdout",
     "output_type": "stream",
     "text": [
      "<class 'pandas.core.frame.DataFrame'>\n",
      "RangeIndex: 1197 entries, 0 to 1196\n",
      "Data columns (total 5 columns):\n",
      " #   Column         Non-Null Count  Dtype         \n",
      "---  ------         --------------  -----         \n",
      " 0   transactionid  1197 non-null   int64         \n",
      " 1   visitorid      1197 non-null   int64         \n",
      " 2   date           1197 non-null   datetime64[ns]\n",
      " 3   revenue        1197 non-null   int64         \n",
      " 4   group          1197 non-null   object        \n",
      "dtypes: datetime64[ns](1), int64(3), object(1)\n",
      "memory usage: 46.9+ KB\n"
     ]
    }
   ],
   "source": [
    "orders.date = pd.to_datetime(orders.date)\n",
    "orders.info()"
   ]
  },
  {
   "cell_type": "code",
   "execution_count": 65,
   "metadata": {},
   "outputs": [
    {
     "data": {
      "text/plain": [
       "min        50.00\n",
       "max   1294500.00\n",
       "Name: revenue, dtype: float64"
      ]
     },
     "execution_count": 65,
     "metadata": {},
     "output_type": "execute_result"
    }
   ],
   "source": [
    "orders.revenue.describe().loc[['min','max']]"
   ]
  },
  {
   "cell_type": "code",
   "execution_count": 66,
   "metadata": {},
   "outputs": [
    {
     "data": {
      "text/plain": [
       "B    640\n",
       "A    557\n",
       "Name: group, dtype: int64"
      ]
     },
     "execution_count": 66,
     "metadata": {},
     "output_type": "execute_result"
    }
   ],
   "source": [
    "orders.group.value_counts()"
   ]
  },
  {
   "cell_type": "code",
   "execution_count": 67,
   "metadata": {},
   "outputs": [
    {
     "data": {
      "text/plain": [
       "0"
      ]
     },
     "execution_count": 67,
     "metadata": {},
     "output_type": "execute_result"
    }
   ],
   "source": [
    "orders.duplicated().sum()"
   ]
  },
  {
   "cell_type": "markdown",
   "metadata": {},
   "source": [
    "### Таблица visitors"
   ]
  },
  {
   "cell_type": "code",
   "execution_count": 68,
   "metadata": {},
   "outputs": [
    {
     "name": "stdout",
     "output_type": "stream",
     "text": [
      "<class 'pandas.core.frame.DataFrame'>\n",
      "RangeIndex: 62 entries, 0 to 61\n",
      "Data columns (total 3 columns):\n",
      " #   Column    Non-Null Count  Dtype \n",
      "---  ------    --------------  ----- \n",
      " 0   date      62 non-null     object\n",
      " 1   group     62 non-null     object\n",
      " 2   visitors  62 non-null     int64 \n",
      "dtypes: int64(1), object(2)\n",
      "memory usage: 1.6+ KB\n"
     ]
    },
    {
     "data": {
      "text/html": [
       "<div>\n",
       "<style scoped>\n",
       "    .dataframe tbody tr th:only-of-type {\n",
       "        vertical-align: middle;\n",
       "    }\n",
       "\n",
       "    .dataframe tbody tr th {\n",
       "        vertical-align: top;\n",
       "    }\n",
       "\n",
       "    .dataframe thead th {\n",
       "        text-align: right;\n",
       "    }\n",
       "</style>\n",
       "<table border=\"1\" class=\"dataframe\">\n",
       "  <thead>\n",
       "    <tr style=\"text-align: right;\">\n",
       "      <th></th>\n",
       "      <th>date</th>\n",
       "      <th>group</th>\n",
       "      <th>visitors</th>\n",
       "    </tr>\n",
       "  </thead>\n",
       "  <tbody>\n",
       "    <tr>\n",
       "      <th>44</th>\n",
       "      <td>2019-08-14</td>\n",
       "      <td>B</td>\n",
       "      <td>746</td>\n",
       "    </tr>\n",
       "    <tr>\n",
       "      <th>3</th>\n",
       "      <td>2019-08-04</td>\n",
       "      <td>A</td>\n",
       "      <td>717</td>\n",
       "    </tr>\n",
       "    <tr>\n",
       "      <th>13</th>\n",
       "      <td>2019-08-14</td>\n",
       "      <td>A</td>\n",
       "      <td>735</td>\n",
       "    </tr>\n",
       "    <tr>\n",
       "      <th>37</th>\n",
       "      <td>2019-08-07</td>\n",
       "      <td>B</td>\n",
       "      <td>709</td>\n",
       "    </tr>\n",
       "    <tr>\n",
       "      <th>1</th>\n",
       "      <td>2019-08-02</td>\n",
       "      <td>A</td>\n",
       "      <td>619</td>\n",
       "    </tr>\n",
       "  </tbody>\n",
       "</table>\n",
       "</div>"
      ],
      "text/plain": [
       "          date group  visitors\n",
       "44  2019-08-14     B       746\n",
       "3   2019-08-04     A       717\n",
       "13  2019-08-14     A       735\n",
       "37  2019-08-07     B       709\n",
       "1   2019-08-02     A       619"
      ]
     },
     "execution_count": 68,
     "metadata": {},
     "output_type": "execute_result"
    }
   ],
   "source": [
    "visitors.info()\n",
    "visitors.sample(5)"
   ]
  },
  {
   "cell_type": "markdown",
   "metadata": {},
   "source": [
    "Меняем тип 'date' на datetime"
   ]
  },
  {
   "cell_type": "code",
   "execution_count": 69,
   "metadata": {},
   "outputs": [],
   "source": [
    "visitors.date = pd.to_datetime(visitors.date)"
   ]
  },
  {
   "cell_type": "code",
   "execution_count": 70,
   "metadata": {},
   "outputs": [
    {
     "data": {
      "text/plain": [
       "B    31\n",
       "A    31\n",
       "Name: group, dtype: int64"
      ]
     },
     "execution_count": 70,
     "metadata": {},
     "output_type": "execute_result"
    }
   ],
   "source": [
    "visitors.group.value_counts()"
   ]
  },
  {
   "cell_type": "code",
   "execution_count": 71,
   "metadata": {},
   "outputs": [
    {
     "data": {
      "text/plain": [
       "min   361.00\n",
       "max   770.00\n",
       "Name: visitors, dtype: float64"
      ]
     },
     "execution_count": 71,
     "metadata": {},
     "output_type": "execute_result"
    }
   ],
   "source": [
    "visitors.visitors.describe().loc[['min','max']]"
   ]
  },
  {
   "cell_type": "code",
   "execution_count": 72,
   "metadata": {},
   "outputs": [
    {
     "data": {
      "text/plain": [
       "0"
      ]
     },
     "execution_count": 72,
     "metadata": {},
     "output_type": "execute_result"
    }
   ],
   "source": [
    "visitors.duplicated().sum()"
   ]
  },
  {
   "cell_type": "markdown",
   "metadata": {},
   "source": [
    "### Вывод"
   ]
  },
  {
   "cell_type": "markdown",
   "metadata": {},
   "source": [
    "Загрузили и подготовили данные - проверили на пропуски, ошибки, пустые значения и на дубли; поменяли тип данных, где это необходимо"
   ]
  },
  {
   "cell_type": "markdown",
   "metadata": {},
   "source": [
    "## Приоритизация гипотез"
   ]
  },
  {
   "cell_type": "markdown",
   "metadata": {},
   "source": [
    "Любая компания рано или поздно сталкивается с вопросом приоритизации при планировании стратегии продвижения продукта, запуска проектов или развития всей компании. Система определения приоритетов поможет рассмотреть каждую идею, проект или задачу и последовательно объединить все эти факторы. Мы рассмотрим два самых популярных и простых, но при этом очень эффективных метода - ICE и его модификацию RICE"
   ]
  },
  {
   "cell_type": "markdown",
   "metadata": {},
   "source": [
    "### Фреймворк ICE для приоритизации гипотез"
   ]
  },
  {
   "cell_type": "markdown",
   "metadata": {},
   "source": [
    "ICE (влияние, уверенность, усилия) = (impact * confidence) / efforts"
   ]
  },
  {
   "cell_type": "code",
   "execution_count": 73,
   "metadata": {},
   "outputs": [],
   "source": [
    "hypothesis['ice'] = (hypothesis.impact * hypothesis.confidence) / hypothesis.efforts"
   ]
  },
  {
   "cell_type": "markdown",
   "metadata": {},
   "source": [
    "Отсортируем гипотезы по убыванию приоритета"
   ]
  },
  {
   "cell_type": "code",
   "execution_count": 74,
   "metadata": {},
   "outputs": [
    {
     "data": {
      "text/html": [
       "<div>\n",
       "<style scoped>\n",
       "    .dataframe tbody tr th:only-of-type {\n",
       "        vertical-align: middle;\n",
       "    }\n",
       "\n",
       "    .dataframe tbody tr th {\n",
       "        vertical-align: top;\n",
       "    }\n",
       "\n",
       "    .dataframe thead th {\n",
       "        text-align: right;\n",
       "    }\n",
       "</style>\n",
       "<table border=\"1\" class=\"dataframe\">\n",
       "  <thead>\n",
       "    <tr style=\"text-align: right;\">\n",
       "      <th></th>\n",
       "      <th>hypothesis</th>\n",
       "      <th>ice</th>\n",
       "    </tr>\n",
       "  </thead>\n",
       "  <tbody>\n",
       "    <tr>\n",
       "      <th>8</th>\n",
       "      <td>Запустить акцию, дающую скидку на товар в день рождения</td>\n",
       "      <td>16.00</td>\n",
       "    </tr>\n",
       "    <tr>\n",
       "      <th>0</th>\n",
       "      <td>Добавить два новых канала привлечения трафика, что позволит привлекать на 30% больше пользователей</td>\n",
       "      <td>13.00</td>\n",
       "    </tr>\n",
       "    <tr>\n",
       "      <th>7</th>\n",
       "      <td>Добавить форму подписки на все основные страницы, чтобы собрать базу клиентов для email-рассылок</td>\n",
       "      <td>11.00</td>\n",
       "    </tr>\n",
       "    <tr>\n",
       "      <th>6</th>\n",
       "      <td>Показать на главной странице баннеры с актуальными акциями и распродажами, чтобы увеличить конверсию</td>\n",
       "      <td>8.00</td>\n",
       "    </tr>\n",
       "    <tr>\n",
       "      <th>2</th>\n",
       "      <td>Добавить блоки рекомендаций товаров на сайт интернет магазина, чтобы повысить конверсию и средний чек заказа</td>\n",
       "      <td>7.00</td>\n",
       "    </tr>\n",
       "    <tr>\n",
       "      <th>1</th>\n",
       "      <td>Запустить собственную службу доставки, что сократит срок доставки заказов</td>\n",
       "      <td>2.00</td>\n",
       "    </tr>\n",
       "    <tr>\n",
       "      <th>5</th>\n",
       "      <td>Добавить страницу отзывов клиентов о магазине, что позволит увеличить количество заказов</td>\n",
       "      <td>1.00</td>\n",
       "    </tr>\n",
       "    <tr>\n",
       "      <th>3</th>\n",
       "      <td>Изменить структура категорий, что увеличит конверсию, т.к. пользователи быстрее найдут нужный товар</td>\n",
       "      <td>1.00</td>\n",
       "    </tr>\n",
       "    <tr>\n",
       "      <th>4</th>\n",
       "      <td>Изменить цвет фона главной страницы, чтобы увеличить вовлеченность пользователей</td>\n",
       "      <td>1.00</td>\n",
       "    </tr>\n",
       "  </tbody>\n",
       "</table>\n",
       "</div>"
      ],
      "text/plain": [
       "                                                                                                     hypothesis  \\\n",
       "8                                                       Запустить акцию, дающую скидку на товар в день рождения   \n",
       "0            Добавить два новых канала привлечения трафика, что позволит привлекать на 30% больше пользователей   \n",
       "7              Добавить форму подписки на все основные страницы, чтобы собрать базу клиентов для email-рассылок   \n",
       "6          Показать на главной странице баннеры с актуальными акциями и распродажами, чтобы увеличить конверсию   \n",
       "2  Добавить блоки рекомендаций товаров на сайт интернет магазина, чтобы повысить конверсию и средний чек заказа   \n",
       "1                                     Запустить собственную службу доставки, что сократит срок доставки заказов   \n",
       "5                      Добавить страницу отзывов клиентов о магазине, что позволит увеличить количество заказов   \n",
       "3           Изменить структура категорий, что увеличит конверсию, т.к. пользователи быстрее найдут нужный товар   \n",
       "4                              Изменить цвет фона главной страницы, чтобы увеличить вовлеченность пользователей   \n",
       "\n",
       "    ice  \n",
       "8 16.00  \n",
       "0 13.00  \n",
       "7 11.00  \n",
       "6  8.00  \n",
       "2  7.00  \n",
       "1  2.00  \n",
       "5  1.00  \n",
       "3  1.00  \n",
       "4  1.00  "
      ]
     },
     "execution_count": 74,
     "metadata": {},
     "output_type": "execute_result"
    }
   ],
   "source": [
    "hypothesis[['hypothesis', 'ice']].sort_values(by='ice', ascending = False).round(0)"
   ]
  },
  {
   "cell_type": "markdown",
   "metadata": {},
   "source": [
    "### Фреймворк RICE для приоритизации гипотез"
   ]
  },
  {
   "cell_type": "markdown",
   "metadata": {},
   "source": [
    "RICE (влияние, уверенность, усилия, охват) = (reach * impact * confidence) / efforts"
   ]
  },
  {
   "cell_type": "code",
   "execution_count": 75,
   "metadata": {},
   "outputs": [],
   "source": [
    "hypothesis['rice'] = (hypothesis.reach * hypothesis.impact * hypothesis.confidence) / hypothesis.efforts"
   ]
  },
  {
   "cell_type": "markdown",
   "metadata": {},
   "source": [
    "Сортировка гипотез по убыванию приоритета"
   ]
  },
  {
   "cell_type": "code",
   "execution_count": 76,
   "metadata": {},
   "outputs": [
    {
     "data": {
      "text/html": [
       "<div>\n",
       "<style scoped>\n",
       "    .dataframe tbody tr th:only-of-type {\n",
       "        vertical-align: middle;\n",
       "    }\n",
       "\n",
       "    .dataframe tbody tr th {\n",
       "        vertical-align: top;\n",
       "    }\n",
       "\n",
       "    .dataframe thead th {\n",
       "        text-align: right;\n",
       "    }\n",
       "</style>\n",
       "<table border=\"1\" class=\"dataframe\">\n",
       "  <thead>\n",
       "    <tr style=\"text-align: right;\">\n",
       "      <th></th>\n",
       "      <th>hypothesis</th>\n",
       "      <th>rice</th>\n",
       "    </tr>\n",
       "  </thead>\n",
       "  <tbody>\n",
       "    <tr>\n",
       "      <th>7</th>\n",
       "      <td>Добавить форму подписки на все основные страницы, чтобы собрать базу клиентов для email-рассылок</td>\n",
       "      <td>112.00</td>\n",
       "    </tr>\n",
       "    <tr>\n",
       "      <th>2</th>\n",
       "      <td>Добавить блоки рекомендаций товаров на сайт интернет магазина, чтобы повысить конверсию и средний чек заказа</td>\n",
       "      <td>56.00</td>\n",
       "    </tr>\n",
       "    <tr>\n",
       "      <th>0</th>\n",
       "      <td>Добавить два новых канала привлечения трафика, что позволит привлекать на 30% больше пользователей</td>\n",
       "      <td>40.00</td>\n",
       "    </tr>\n",
       "    <tr>\n",
       "      <th>6</th>\n",
       "      <td>Показать на главной странице баннеры с актуальными акциями и распродажами, чтобы увеличить конверсию</td>\n",
       "      <td>40.00</td>\n",
       "    </tr>\n",
       "    <tr>\n",
       "      <th>8</th>\n",
       "      <td>Запустить акцию, дающую скидку на товар в день рождения</td>\n",
       "      <td>16.00</td>\n",
       "    </tr>\n",
       "    <tr>\n",
       "      <th>3</th>\n",
       "      <td>Изменить структура категорий, что увеличит конверсию, т.к. пользователи быстрее найдут нужный товар</td>\n",
       "      <td>9.00</td>\n",
       "    </tr>\n",
       "    <tr>\n",
       "      <th>1</th>\n",
       "      <td>Запустить собственную службу доставки, что сократит срок доставки заказов</td>\n",
       "      <td>4.00</td>\n",
       "    </tr>\n",
       "    <tr>\n",
       "      <th>5</th>\n",
       "      <td>Добавить страницу отзывов клиентов о магазине, что позволит увеличить количество заказов</td>\n",
       "      <td>4.00</td>\n",
       "    </tr>\n",
       "    <tr>\n",
       "      <th>4</th>\n",
       "      <td>Изменить цвет фона главной страницы, чтобы увеличить вовлеченность пользователей</td>\n",
       "      <td>3.00</td>\n",
       "    </tr>\n",
       "  </tbody>\n",
       "</table>\n",
       "</div>"
      ],
      "text/plain": [
       "                                                                                                     hypothesis  \\\n",
       "7              Добавить форму подписки на все основные страницы, чтобы собрать базу клиентов для email-рассылок   \n",
       "2  Добавить блоки рекомендаций товаров на сайт интернет магазина, чтобы повысить конверсию и средний чек заказа   \n",
       "0            Добавить два новых канала привлечения трафика, что позволит привлекать на 30% больше пользователей   \n",
       "6          Показать на главной странице баннеры с актуальными акциями и распродажами, чтобы увеличить конверсию   \n",
       "8                                                       Запустить акцию, дающую скидку на товар в день рождения   \n",
       "3           Изменить структура категорий, что увеличит конверсию, т.к. пользователи быстрее найдут нужный товар   \n",
       "1                                     Запустить собственную службу доставки, что сократит срок доставки заказов   \n",
       "5                      Добавить страницу отзывов клиентов о магазине, что позволит увеличить количество заказов   \n",
       "4                              Изменить цвет фона главной страницы, чтобы увеличить вовлеченность пользователей   \n",
       "\n",
       "    rice  \n",
       "7 112.00  \n",
       "2  56.00  \n",
       "0  40.00  \n",
       "6  40.00  \n",
       "8  16.00  \n",
       "3   9.00  \n",
       "1   4.00  \n",
       "5   4.00  \n",
       "4   3.00  "
      ]
     },
     "execution_count": 76,
     "metadata": {},
     "output_type": "execute_result"
    }
   ],
   "source": [
    "hypothesis[['hypothesis', 'rice']].sort_values(by='rice', ascending = False).round(0)"
   ]
  },
  {
   "cell_type": "markdown",
   "metadata": {},
   "source": [
    "### Изменение приоритизации гипотез при применении RICE вместо ICE"
   ]
  },
  {
   "cell_type": "markdown",
   "metadata": {},
   "source": [
    "Добавление компонента reach изменило приоритизацию гипотез. Гипотеза _\"Добавить форму подписки на все основные страницы, чтобы собрать базу клиентов для email-рассылок\"_ переместилась на первое место с третьего, а \"_Запустить акцию, дающую скидку на товар в день рождения_\" опустилась с первого на пятое. Это произошло из-за того, что reach -  это параметр охвата: скольких пользователей затронет изменение, которое мы хотим внести"
   ]
  },
  {
   "cell_type": "markdown",
   "metadata": {},
   "source": [
    "### Вывод"
   ]
  },
  {
   "cell_type": "markdown",
   "metadata": {},
   "source": [
    "Мы использовали один из самых популярных методов приоритизации задач ICE и его модификацию RICE  \n",
    "\n",
    "При применении фреймворка ICE наиболее перспективные гипотезы:\n",
    " * Запустить акцию, дающую скидку на товар в день рождения\n",
    " * Добавить два новых канала привлечения трафика, что позволит привлекать на 30% больше пользователей\n",
    " * Добавить форму подписки на все основные страницы, чтобы собрать базу клиентов для email-рассылок\n",
    " \n",
    "При применении фреймворка RICE приоритет у гипотез изменился:\n",
    " * Добавить форму подписки на все основные страницы, чтобы собрать базу клиентов для email-рассылок\n",
    " * Добавить блоки рекомендаций товаров на сайт интернет магазина, чтобы повысить конверсию и средний чек заказа\n",
    " * Добавить два новых канала привлечения трафика, что позволит привлекать на 30% больше пользователей\n",
    " \n",
    "Если обобщить два метода, то стоит обратить внимание в первую очередь на гипотезы:\n",
    " * Добавить форму подписки на все основные страницы, чтобы собрать базу клиентов для email-рассылок\n",
    " * Добавить два новых канала привлечения трафика, что позволит привлекать на 30% больше пользователей"
   ]
  },
  {
   "cell_type": "markdown",
   "metadata": {},
   "source": [
    "## Анализ A/B-теста "
   ]
  },
  {
   "cell_type": "markdown",
   "metadata": {},
   "source": [
    "A/B-тестирование — это инструмент, который помогает проверять гипотезы и принимать решения на основе данных, а не интуиции. Метод заключается в том, чтобы разделить аудиторию на части и показать ей разные варианты чего-либо, чтобы понять, какая версия лучше. A/B-тестирование применяется и как маркетинговый инструмент для повышения эффективности работы интернет-ресурса. С помощью A/B тестов повышают конверсию посадочных страниц, подбирают оптимальные заголовки объявлений в рекламных сетях, улучшают качество поиска.  \n",
    "В данном исследовании мы будем проверять изменение двух бизнес-параметров: конверсии и среднего чека."
   ]
  },
  {
   "cell_type": "markdown",
   "metadata": {},
   "source": [
    "### Кумулятивная выручка по группам"
   ]
  },
  {
   "cell_type": "markdown",
   "metadata": {},
   "source": [
    "Посмотрим число уникальных пользователей-покупателей в каждой из групп и период проведения тестирования"
   ]
  },
  {
   "cell_type": "code",
   "execution_count": 77,
   "metadata": {},
   "outputs": [
    {
     "data": {
      "text/html": [
       "<div>\n",
       "<style scoped>\n",
       "    .dataframe tbody tr th:only-of-type {\n",
       "        vertical-align: middle;\n",
       "    }\n",
       "\n",
       "    .dataframe tbody tr th {\n",
       "        vertical-align: top;\n",
       "    }\n",
       "\n",
       "    .dataframe thead tr th {\n",
       "        text-align: left;\n",
       "    }\n",
       "\n",
       "    .dataframe thead tr:last-of-type th {\n",
       "        text-align: right;\n",
       "    }\n",
       "</style>\n",
       "<table border=\"1\" class=\"dataframe\">\n",
       "  <thead>\n",
       "    <tr>\n",
       "      <th></th>\n",
       "      <th>visitorid</th>\n",
       "      <th colspan=\"2\" halign=\"left\">date</th>\n",
       "    </tr>\n",
       "    <tr>\n",
       "      <th></th>\n",
       "      <th>nunique</th>\n",
       "      <th>min</th>\n",
       "      <th>max</th>\n",
       "    </tr>\n",
       "    <tr>\n",
       "      <th>group</th>\n",
       "      <th></th>\n",
       "      <th></th>\n",
       "      <th></th>\n",
       "    </tr>\n",
       "  </thead>\n",
       "  <tbody>\n",
       "    <tr>\n",
       "      <th>A</th>\n",
       "      <td>503</td>\n",
       "      <td>2019-08-01</td>\n",
       "      <td>2019-08-31</td>\n",
       "    </tr>\n",
       "    <tr>\n",
       "      <th>B</th>\n",
       "      <td>586</td>\n",
       "      <td>2019-08-01</td>\n",
       "      <td>2019-08-31</td>\n",
       "    </tr>\n",
       "  </tbody>\n",
       "</table>\n",
       "</div>"
      ],
      "text/plain": [
       "      visitorid       date           \n",
       "        nunique        min        max\n",
       "group                                \n",
       "A           503 2019-08-01 2019-08-31\n",
       "B           586 2019-08-01 2019-08-31"
      ]
     },
     "execution_count": 77,
     "metadata": {},
     "output_type": "execute_result"
    }
   ],
   "source": [
    "orders.groupby('group').agg({'visitorid':'nunique', 'date': ['min', 'max']})"
   ]
  },
  {
   "cell_type": "markdown",
   "metadata": {},
   "source": [
    "Посчитаем количество пересекающихся пользователей"
   ]
  },
  {
   "cell_type": "code",
   "execution_count": 78,
   "metadata": {},
   "outputs": [
    {
     "data": {
      "text/plain": [
       "group    58\n",
       "dtype: int64"
      ]
     },
     "execution_count": 78,
     "metadata": {},
     "output_type": "execute_result"
    }
   ],
   "source": [
    "dbl_usr = orders.groupby('visitorid').agg({'group':'nunique'})\n",
    "dbl_usr.query('group==2').count()"
   ]
  },
  {
   "cell_type": "markdown",
   "metadata": {},
   "source": [
    "#### Создадим массив уникальных пар значений дат и групп теста"
   ]
  },
  {
   "cell_type": "code",
   "execution_count": 79,
   "metadata": {},
   "outputs": [
    {
     "data": {
      "text/html": [
       "<div>\n",
       "<style scoped>\n",
       "    .dataframe tbody tr th:only-of-type {\n",
       "        vertical-align: middle;\n",
       "    }\n",
       "\n",
       "    .dataframe tbody tr th {\n",
       "        vertical-align: top;\n",
       "    }\n",
       "\n",
       "    .dataframe thead th {\n",
       "        text-align: right;\n",
       "    }\n",
       "</style>\n",
       "<table border=\"1\" class=\"dataframe\">\n",
       "  <thead>\n",
       "    <tr style=\"text-align: right;\">\n",
       "      <th></th>\n",
       "      <th>date</th>\n",
       "      <th>group</th>\n",
       "    </tr>\n",
       "  </thead>\n",
       "  <tbody>\n",
       "    <tr>\n",
       "      <th>0</th>\n",
       "      <td>2019-08-15</td>\n",
       "      <td>B</td>\n",
       "    </tr>\n",
       "    <tr>\n",
       "      <th>2</th>\n",
       "      <td>2019-08-15</td>\n",
       "      <td>A</td>\n",
       "    </tr>\n",
       "    <tr>\n",
       "      <th>45</th>\n",
       "      <td>2019-08-16</td>\n",
       "      <td>A</td>\n",
       "    </tr>\n",
       "    <tr>\n",
       "      <th>47</th>\n",
       "      <td>2019-08-16</td>\n",
       "      <td>B</td>\n",
       "    </tr>\n",
       "  </tbody>\n",
       "</table>\n",
       "</div>"
      ],
      "text/plain": [
       "         date group\n",
       "0  2019-08-15     B\n",
       "2  2019-08-15     A\n",
       "45 2019-08-16     A\n",
       "47 2019-08-16     B"
      ]
     },
     "execution_count": 79,
     "metadata": {},
     "output_type": "execute_result"
    }
   ],
   "source": [
    "dates_groups = orders[['date','group']].drop_duplicates()\n",
    "dates_groups.head(4)"
   ]
  },
  {
   "cell_type": "markdown",
   "metadata": {},
   "source": [
    "#### Число заказов, пользователей и выручка\n",
    "Соберем агрегированные кумулятивные данные по дням и группам, которые содержат:\n",
    " * дата (данные агрегируются до указанной даты включительно)\n",
    " * группа A/B теста\n",
    " * число уникальных заказов\n",
    " * число уникальных пользователей, совершивших хотя бы 1 заказ\n",
    " * суммарная выручку заказов  \n",
    "\n",
    "Отсортируем полученные данные по дате и группе"
   ]
  },
  {
   "cell_type": "code",
   "execution_count": 80,
   "metadata": {},
   "outputs": [
    {
     "data": {
      "text/html": [
       "<div>\n",
       "<style scoped>\n",
       "    .dataframe tbody tr th:only-of-type {\n",
       "        vertical-align: middle;\n",
       "    }\n",
       "\n",
       "    .dataframe tbody tr th {\n",
       "        vertical-align: top;\n",
       "    }\n",
       "\n",
       "    .dataframe thead th {\n",
       "        text-align: right;\n",
       "    }\n",
       "</style>\n",
       "<table border=\"1\" class=\"dataframe\">\n",
       "  <thead>\n",
       "    <tr style=\"text-align: right;\">\n",
       "      <th></th>\n",
       "      <th>date</th>\n",
       "      <th>group</th>\n",
       "      <th>transactionid</th>\n",
       "      <th>visitorid</th>\n",
       "      <th>revenue</th>\n",
       "    </tr>\n",
       "  </thead>\n",
       "  <tbody>\n",
       "    <tr>\n",
       "      <th>55</th>\n",
       "      <td>2019-08-01</td>\n",
       "      <td>A</td>\n",
       "      <td>24</td>\n",
       "      <td>20</td>\n",
       "      <td>148579</td>\n",
       "    </tr>\n",
       "    <tr>\n",
       "      <th>66</th>\n",
       "      <td>2019-08-01</td>\n",
       "      <td>B</td>\n",
       "      <td>21</td>\n",
       "      <td>20</td>\n",
       "      <td>101217</td>\n",
       "    </tr>\n",
       "    <tr>\n",
       "      <th>175</th>\n",
       "      <td>2019-08-02</td>\n",
       "      <td>A</td>\n",
       "      <td>44</td>\n",
       "      <td>38</td>\n",
       "      <td>242401</td>\n",
       "    </tr>\n",
       "    <tr>\n",
       "      <th>173</th>\n",
       "      <td>2019-08-02</td>\n",
       "      <td>B</td>\n",
       "      <td>45</td>\n",
       "      <td>43</td>\n",
       "      <td>266748</td>\n",
       "    </tr>\n",
       "  </tbody>\n",
       "</table>\n",
       "</div>"
      ],
      "text/plain": [
       "          date group  transactionid  visitorid  revenue\n",
       "55  2019-08-01     A             24         20   148579\n",
       "66  2019-08-01     B             21         20   101217\n",
       "175 2019-08-02     A             44         38   242401\n",
       "173 2019-08-02     B             45         43   266748"
      ]
     },
     "execution_count": 80,
     "metadata": {},
     "output_type": "execute_result"
    }
   ],
   "source": [
    "orders_aggregated = (dates_groups\n",
    "                    .apply(lambda x: orders[np.logical_and(orders.date <= x.date, orders.group == x.group)]\n",
    "                    .agg({'date': 'max', \n",
    "                          'group': 'max', \n",
    "                          'transactionid': 'nunique', \n",
    "                          'visitorid' : 'nunique', \n",
    "                          'revenue' : 'sum'}), axis=1)\n",
    "                    .sort_values(by=['date','group'])\n",
    "                    )\n",
    "orders_aggregated.head(4)"
   ]
  },
  {
   "cell_type": "markdown",
   "metadata": {},
   "source": [
    "#### Число посетителей\n",
    "Соберем агрегированные кумулятивные данные по дням и группам, которые содержат:\n",
    " * дата (данные агрегируются до указанной даты включительно)\n",
    " * группа A/B теста\n",
    " * количество посетителей"
   ]
  },
  {
   "cell_type": "code",
   "execution_count": 81,
   "metadata": {},
   "outputs": [
    {
     "data": {
      "text/html": [
       "<div>\n",
       "<style scoped>\n",
       "    .dataframe tbody tr th:only-of-type {\n",
       "        vertical-align: middle;\n",
       "    }\n",
       "\n",
       "    .dataframe tbody tr th {\n",
       "        vertical-align: top;\n",
       "    }\n",
       "\n",
       "    .dataframe thead th {\n",
       "        text-align: right;\n",
       "    }\n",
       "</style>\n",
       "<table border=\"1\" class=\"dataframe\">\n",
       "  <thead>\n",
       "    <tr style=\"text-align: right;\">\n",
       "      <th></th>\n",
       "      <th>date</th>\n",
       "      <th>group</th>\n",
       "      <th>visitors</th>\n",
       "    </tr>\n",
       "  </thead>\n",
       "  <tbody>\n",
       "    <tr>\n",
       "      <th>55</th>\n",
       "      <td>2019-08-01</td>\n",
       "      <td>A</td>\n",
       "      <td>719</td>\n",
       "    </tr>\n",
       "    <tr>\n",
       "      <th>66</th>\n",
       "      <td>2019-08-01</td>\n",
       "      <td>B</td>\n",
       "      <td>713</td>\n",
       "    </tr>\n",
       "    <tr>\n",
       "      <th>175</th>\n",
       "      <td>2019-08-02</td>\n",
       "      <td>A</td>\n",
       "      <td>1338</td>\n",
       "    </tr>\n",
       "    <tr>\n",
       "      <th>173</th>\n",
       "      <td>2019-08-02</td>\n",
       "      <td>B</td>\n",
       "      <td>1294</td>\n",
       "    </tr>\n",
       "  </tbody>\n",
       "</table>\n",
       "</div>"
      ],
      "text/plain": [
       "          date group  visitors\n",
       "55  2019-08-01     A       719\n",
       "66  2019-08-01     B       713\n",
       "175 2019-08-02     A      1338\n",
       "173 2019-08-02     B      1294"
      ]
     },
     "execution_count": 81,
     "metadata": {},
     "output_type": "execute_result"
    }
   ],
   "source": [
    "visitors_aggregated = (dates_groups\n",
    "                      .apply(lambda x: visitors[np.logical_and(visitors.date <= x.date, visitors.group == x.group)]\n",
    "                      .agg({'date': 'max',\n",
    "                            'group': 'max', \n",
    "                            'visitors': 'sum'}), axis=1)\n",
    "                      .sort_values(by=['date','group'])\n",
    "                      )\n",
    "visitors_aggregated.head(4)"
   ]
  },
  {
   "cell_type": "markdown",
   "metadata": {},
   "source": [
    "#### Объединяем кумулятивные данные в одной таблице"
   ]
  },
  {
   "cell_type": "markdown",
   "metadata": {},
   "source": [
    "Объединим таблицы по дате и группе методом merge()"
   ]
  },
  {
   "cell_type": "code",
   "execution_count": 82,
   "metadata": {},
   "outputs": [],
   "source": [
    "cumulative_data = orders_aggregated.merge(visitors_aggregated, left_on=['date', 'group'], right_on=['date', 'group'])"
   ]
  },
  {
   "cell_type": "markdown",
   "metadata": {},
   "source": [
    "Переименуем столбцы"
   ]
  },
  {
   "cell_type": "code",
   "execution_count": 83,
   "metadata": {},
   "outputs": [
    {
     "data": {
      "text/html": [
       "<div>\n",
       "<style scoped>\n",
       "    .dataframe tbody tr th:only-of-type {\n",
       "        vertical-align: middle;\n",
       "    }\n",
       "\n",
       "    .dataframe tbody tr th {\n",
       "        vertical-align: top;\n",
       "    }\n",
       "\n",
       "    .dataframe thead th {\n",
       "        text-align: right;\n",
       "    }\n",
       "</style>\n",
       "<table border=\"1\" class=\"dataframe\">\n",
       "  <thead>\n",
       "    <tr style=\"text-align: right;\">\n",
       "      <th></th>\n",
       "      <th>date</th>\n",
       "      <th>group</th>\n",
       "      <th>orders</th>\n",
       "      <th>buyers</th>\n",
       "      <th>revenue</th>\n",
       "      <th>visitors</th>\n",
       "    </tr>\n",
       "  </thead>\n",
       "  <tbody>\n",
       "    <tr>\n",
       "      <th>0</th>\n",
       "      <td>2019-08-01</td>\n",
       "      <td>A</td>\n",
       "      <td>24</td>\n",
       "      <td>20</td>\n",
       "      <td>148579</td>\n",
       "      <td>719</td>\n",
       "    </tr>\n",
       "    <tr>\n",
       "      <th>1</th>\n",
       "      <td>2019-08-01</td>\n",
       "      <td>B</td>\n",
       "      <td>21</td>\n",
       "      <td>20</td>\n",
       "      <td>101217</td>\n",
       "      <td>713</td>\n",
       "    </tr>\n",
       "    <tr>\n",
       "      <th>2</th>\n",
       "      <td>2019-08-02</td>\n",
       "      <td>A</td>\n",
       "      <td>44</td>\n",
       "      <td>38</td>\n",
       "      <td>242401</td>\n",
       "      <td>1338</td>\n",
       "    </tr>\n",
       "    <tr>\n",
       "      <th>3</th>\n",
       "      <td>2019-08-02</td>\n",
       "      <td>B</td>\n",
       "      <td>45</td>\n",
       "      <td>43</td>\n",
       "      <td>266748</td>\n",
       "      <td>1294</td>\n",
       "    </tr>\n",
       "  </tbody>\n",
       "</table>\n",
       "</div>"
      ],
      "text/plain": [
       "        date group  orders  buyers  revenue  visitors\n",
       "0 2019-08-01     A      24      20   148579       719\n",
       "1 2019-08-01     B      21      20   101217       713\n",
       "2 2019-08-02     A      44      38   242401      1338\n",
       "3 2019-08-02     B      45      43   266748      1294"
      ]
     },
     "execution_count": 83,
     "metadata": {},
     "output_type": "execute_result"
    }
   ],
   "source": [
    "cumulative_data.columns = ['date', 'group', 'orders', 'buyers', 'revenue', 'visitors']\n",
    "cumulative_data.head(4)"
   ]
  },
  {
   "cell_type": "markdown",
   "metadata": {},
   "source": [
    "#### Разделим выручку по группам A/B теста"
   ]
  },
  {
   "cell_type": "code",
   "execution_count": 84,
   "metadata": {},
   "outputs": [],
   "source": [
    "cumulative_revenue_a = cumulative_data[cumulative_data.group=='A'][['date','revenue', 'orders']]\n",
    "cumulative_revenue_b = cumulative_data[cumulative_data.group=='B'][['date','revenue', 'orders']]"
   ]
  },
  {
   "cell_type": "markdown",
   "metadata": {},
   "source": [
    "#### Построим график кумулятивной выручки по группам"
   ]
  },
  {
   "cell_type": "code",
   "execution_count": 85,
   "metadata": {},
   "outputs": [
    {
     "data": {
      "image/png": "[encoded data removed]",
      "text/plain": [
       "<Figure size 1080x504 with 1 Axes>"
      ]
     },
     "metadata": {
      "needs_background": "light"
     },
     "output_type": "display_data"
    }
   ],
   "source": [
    "plt.figure(figsize=(15,7))\n",
    "plt.title('Кумулятивная выручка по группам\\n', size = 14)\n",
    "plt.xlabel('Дата')\n",
    "plt.ylabel('Выручка, млн')\n",
    "plt.plot(cumulative_revenue_a.date, cumulative_revenue_a.revenue, label='A')\n",
    "plt.plot(cumulative_revenue_b.date, cumulative_revenue_b.revenue, label='B')\n",
    "plt.grid()\n",
    "plt.legend();"
   ]
  },
  {
   "cell_type": "markdown",
   "metadata": {},
   "source": [
    "#### Вывод"
   ]
  },
  {
   "cell_type": "markdown",
   "metadata": {},
   "source": [
    " * Выручка равномерно растет у обоих групп теста;\n",
    " * Выручка группы B больше выручки A на протяжении почти всего теста;\n",
    " * 18 августа происходит резкий рост выручки группы B, это означает или появление аномально дорогих заказов, или резкое увеличение числа заказов"
   ]
  },
  {
   "cell_type": "markdown",
   "metadata": {},
   "source": [
    "### Кумулятивный средний чек по группам"
   ]
  },
  {
   "cell_type": "code",
   "execution_count": 86,
   "metadata": {},
   "outputs": [
    {
     "data": {
      "image/png": "[encoded data removed]",
      "text/plain": [
       "<Figure size 1080x504 with 1 Axes>"
      ]
     },
     "metadata": {
      "needs_background": "light"
     },
     "output_type": "display_data"
    }
   ],
   "source": [
    "plt.figure(figsize=(15,7))\n",
    "plt.title('Кумулятивная средний чек по группам\\n', size = 14)\n",
    "plt.xlabel('Дата')\n",
    "plt.ylabel('Средний чек')\n",
    "plt.plot(cumulative_revenue_a.date, cumulative_revenue_a.revenue / cumulative_revenue_a.orders, label='A')\n",
    "plt.plot(cumulative_revenue_b.date, cumulative_revenue_b.revenue / cumulative_revenue_b.orders, label='B')\n",
    "plt.grid()\n",
    "plt.legend();"
   ]
  },
  {
   "cell_type": "markdown",
   "metadata": {},
   "source": [
    "#### Вывод"
   ]
  },
  {
   "cell_type": "markdown",
   "metadata": {},
   "source": [
    " * Средний чек гораздо менее равномерен, чем выручка;\n",
    " * Средний чек группы B почти всегда выше чем у группы A;\n",
    " * 18 августа происходит резкий, с 7000 до 10000, скачок среднего чека у группы B, что означает аномально крупный заказ или заказы в этот день в данной группе"
   ]
  },
  {
   "cell_type": "markdown",
   "metadata": {},
   "source": [
    "### Относительное изменение кумулятивного среднего чека группы B к группе A"
   ]
  },
  {
   "cell_type": "markdown",
   "metadata": {},
   "source": [
    "Объединяем таблицы средних чеков A и B по дате методом merge()"
   ]
  },
  {
   "cell_type": "code",
   "execution_count": 87,
   "metadata": {},
   "outputs": [],
   "source": [
    "merged_cumulative_revenue = (cumulative_revenue_a\n",
    "                            .merge(cumulative_revenue_b, left_on='date', right_on='date', how='left', suffixes=['_a', '_b']))"
   ]
  },
  {
   "cell_type": "markdown",
   "metadata": {},
   "source": [
    "Строим график относительного изменения и добавляем 0-ую ось X(линия равенства средних чеков групп A и B)"
   ]
  },
  {
   "cell_type": "code",
   "execution_count": 88,
   "metadata": {},
   "outputs": [
    {
     "data": {
      "image/png": "[encoded data removed]",
      "text/plain": [
       "<Figure size 1080x504 with 1 Axes>"
      ]
     },
     "metadata": {
      "needs_background": "light"
     },
     "output_type": "display_data"
    }
   ],
   "source": [
    "plt.figure(figsize=(15,7))\n",
    "plt.title('Относительное изменение кумулятивного среднего чека группы B к группе A\\n', size = 14)\n",
    "plt.xlabel('Дата')\n",
    "plt.ylabel('Отношение среднего чека B к A')\n",
    "plt.plot(merged_cumulative_revenue.date, \n",
    "        (merged_cumulative_revenue.revenue_b/merged_cumulative_revenue.orders_b)/\n",
    "        (merged_cumulative_revenue.revenue_a/merged_cumulative_revenue.orders_a)-1)\n",
    "plt.axhline(y=0, color='red', linestyle='-')\n",
    "plt.grid();"
   ]
  },
  {
   "cell_type": "markdown",
   "metadata": {},
   "source": [
    "#### Вывод"
   ]
  },
  {
   "cell_type": "markdown",
   "metadata": {},
   "source": [
    " * На протяжение всего эксперимента график похож кардиограмму - неравномерен и нелинеен;\n",
    " * В нескольких точках (датах) есть резкие скачки - вверх и вниз, что говорит о больших заказах как в группе B так и в группе A"
   ]
  },
  {
   "cell_type": "markdown",
   "metadata": {},
   "source": [
    "### Кумулятивная конверсия по группам"
   ]
  },
  {
   "cell_type": "markdown",
   "metadata": {},
   "source": [
    "#### Подсчет кумулятивной конверсии в A и B"
   ]
  },
  {
   "cell_type": "code",
   "execution_count": 89,
   "metadata": {},
   "outputs": [],
   "source": [
    "cumulative_data['conversion'] = cumulative_data.orders/cumulative_data.visitors\n",
    "cumulative_data_a = cumulative_data[cumulative_data.group=='A']\n",
    "cumulative_data_b = cumulative_data[cumulative_data.group=='B']"
   ]
  },
  {
   "cell_type": "markdown",
   "metadata": {},
   "source": [
    "#### Построение графика кумулятивной конверсии"
   ]
  },
  {
   "cell_type": "markdown",
   "metadata": {},
   "source": [
    "Для правильного масштаба определим минимальное и максимальное значения конверсии"
   ]
  },
  {
   "cell_type": "code",
   "execution_count": 90,
   "metadata": {},
   "outputs": [
    {
     "data": {
      "text/plain": [
       "min   0.03\n",
       "max   0.04\n",
       "Name: conversion, dtype: float64"
      ]
     },
     "execution_count": 90,
     "metadata": {},
     "output_type": "execute_result"
    }
   ],
   "source": [
    "cumulative_data.conversion.describe().loc[['min','max']]"
   ]
  },
  {
   "cell_type": "markdown",
   "metadata": {},
   "source": [
    "Строим график"
   ]
  },
  {
   "cell_type": "code",
   "execution_count": 91,
   "metadata": {},
   "outputs": [
    {
     "data": {
      "image/png": "[encoded data removed]",
      "text/plain": [
       "<Figure size 1080x504 with 1 Axes>"
      ]
     },
     "metadata": {
      "needs_background": "light"
     },
     "output_type": "display_data"
    }
   ],
   "source": [
    "plt.figure(figsize=(15,7))\n",
    "plt.title('Кумулятивная конверсия по группам\\n', size = 14)\n",
    "plt.xlabel('Дата')\n",
    "plt.ylabel('Конверсия')\n",
    "plt.plot(cumulative_data_a.date, cumulative_data_a.conversion, label='A')\n",
    "plt.plot(cumulative_data_b.date, cumulative_data_b.conversion, label='B')\n",
    "plt.axis([cumulative_data.date.min(), cumulative_data.date.max(), 0.022, 0.042])\n",
    "plt.grid()\n",
    "plt.legend();"
   ]
  },
  {
   "cell_type": "markdown",
   "metadata": {},
   "source": [
    "#### Вывод"
   ]
  },
  {
   "cell_type": "markdown",
   "metadata": {},
   "source": [
    " * Конверсия группы B выше конверсии группы A на протяжение почти всего эксперимента\n",
    " * В последние 10 дней эксперимента графики стабилизируются на уровнях 30% конверсии для группы A и 34% для группы B"
   ]
  },
  {
   "cell_type": "markdown",
   "metadata": {},
   "source": [
    "### Относительное изменение кумулятивной конверсии группы B к группе A"
   ]
  },
  {
   "cell_type": "markdown",
   "metadata": {},
   "source": [
    "Объединяем таблицы кумулятивных конверсий A и B по дате методом merge()"
   ]
  },
  {
   "cell_type": "code",
   "execution_count": 92,
   "metadata": {},
   "outputs": [],
   "source": [
    "merged_сumulative_сonversions = (cumulative_data_a[['date','conversion']]\n",
    "                                .merge(cumulative_data_b[['date','conversion']], \n",
    "                                       left_on='date', \n",
    "                                       right_on='date', \n",
    "                                       how='left', \n",
    "                                       suffixes=['_a', '_b'])\n",
    "                                )"
   ]
  },
  {
   "cell_type": "code",
   "execution_count": 93,
   "metadata": {},
   "outputs": [
    {
     "data": {
      "image/png": "[encoded data removed]",
      "text/plain": [
       "<Figure size 1080x504 with 1 Axes>"
      ]
     },
     "metadata": {
      "needs_background": "light"
     },
     "output_type": "display_data"
    }
   ],
   "source": [
    "plt.figure(figsize=(15,7))\n",
    "plt.title('Относительные изменения кумулятивной конверсии группы B к группе A\\n', size = 14)\n",
    "plt.xlabel('Дата')\n",
    "plt.ylabel('Отношение кумулятивной конверсии B к A')\n",
    "plt.plot(merged_сumulative_сonversions.date,\n",
    "        (merged_сumulative_сonversions.conversion_b/(merged_сumulative_сonversions.conversion_a) - 1));\n",
    "plt.axhline(y=0, color='red', linestyle='-')\n",
    "plt.grid();"
   ]
  },
  {
   "cell_type": "markdown",
   "metadata": {},
   "source": [
    "#### Вывод"
   ]
  },
  {
   "cell_type": "markdown",
   "metadata": {},
   "source": [
    " * Разница в кумулятивной конверсии почти всегда в пользу группы B\n",
    " * 15 августа накопленная конверсия группы B на 20% больше группы A, 27 августа разница снижается до 10% и к концу эксперимента возрастает до 14%"
   ]
  },
  {
   "cell_type": "markdown",
   "metadata": {},
   "source": [
    "### Количество заказов по пользователям"
   ]
  },
  {
   "cell_type": "markdown",
   "metadata": {},
   "source": [
    "Сгруппируем таблицу orders по visitorid и посчитаем число заказов, а также удалим ненужные столбцы"
   ]
  },
  {
   "cell_type": "code",
   "execution_count": 94,
   "metadata": {},
   "outputs": [
    {
     "data": {
      "text/html": [
       "<div>\n",
       "<style scoped>\n",
       "    .dataframe tbody tr th:only-of-type {\n",
       "        vertical-align: middle;\n",
       "    }\n",
       "\n",
       "    .dataframe tbody tr th {\n",
       "        vertical-align: top;\n",
       "    }\n",
       "\n",
       "    .dataframe thead th {\n",
       "        text-align: right;\n",
       "    }\n",
       "</style>\n",
       "<table border=\"1\" class=\"dataframe\">\n",
       "  <thead>\n",
       "    <tr style=\"text-align: right;\">\n",
       "      <th></th>\n",
       "      <th>user_id</th>\n",
       "      <th>orders</th>\n",
       "    </tr>\n",
       "  </thead>\n",
       "  <tbody>\n",
       "    <tr>\n",
       "      <th>1023</th>\n",
       "      <td>4256040402</td>\n",
       "      <td>11</td>\n",
       "    </tr>\n",
       "    <tr>\n",
       "      <th>591</th>\n",
       "      <td>2458001652</td>\n",
       "      <td>11</td>\n",
       "    </tr>\n",
       "    <tr>\n",
       "      <th>569</th>\n",
       "      <td>2378935119</td>\n",
       "      <td>9</td>\n",
       "    </tr>\n",
       "    <tr>\n",
       "      <th>487</th>\n",
       "      <td>2038680547</td>\n",
       "      <td>8</td>\n",
       "    </tr>\n",
       "    <tr>\n",
       "      <th>44</th>\n",
       "      <td>199603092</td>\n",
       "      <td>5</td>\n",
       "    </tr>\n",
       "    <tr>\n",
       "      <th>...</th>\n",
       "      <td>...</td>\n",
       "      <td>...</td>\n",
       "    </tr>\n",
       "    <tr>\n",
       "      <th>359</th>\n",
       "      <td>1484903144</td>\n",
       "      <td>1</td>\n",
       "    </tr>\n",
       "    <tr>\n",
       "      <th>360</th>\n",
       "      <td>1485964287</td>\n",
       "      <td>1</td>\n",
       "    </tr>\n",
       "    <tr>\n",
       "      <th>361</th>\n",
       "      <td>1494664757</td>\n",
       "      <td>1</td>\n",
       "    </tr>\n",
       "    <tr>\n",
       "      <th>362</th>\n",
       "      <td>1495112755</td>\n",
       "      <td>1</td>\n",
       "    </tr>\n",
       "    <tr>\n",
       "      <th>1030</th>\n",
       "      <td>4283872382</td>\n",
       "      <td>1</td>\n",
       "    </tr>\n",
       "  </tbody>\n",
       "</table>\n",
       "<p>1031 rows × 2 columns</p>\n",
       "</div>"
      ],
      "text/plain": [
       "         user_id  orders\n",
       "1023  4256040402      11\n",
       "591   2458001652      11\n",
       "569   2378935119       9\n",
       "487   2038680547       8\n",
       "44     199603092       5\n",
       "...          ...     ...\n",
       "359   1484903144       1\n",
       "360   1485964287       1\n",
       "361   1494664757       1\n",
       "362   1495112755       1\n",
       "1030  4283872382       1\n",
       "\n",
       "[1031 rows x 2 columns]"
      ]
     },
     "execution_count": 94,
     "metadata": {},
     "output_type": "execute_result"
    }
   ],
   "source": [
    "orders_by_users = (orders\n",
    "                   .drop(['date', 'revenue', 'group'], axis=1)\n",
    "                   .groupby('visitorid', as_index=False)\n",
    "                   .agg({'transactionid':'nunique'})\n",
    "                  )\n",
    "orders_by_users.columns = ['user_id', 'orders']\n",
    "orders_by_users.sort_values(by = 'orders', ascending = False)"
   ]
  },
  {
   "cell_type": "markdown",
   "metadata": {},
   "source": [
    "Построим точечную диаграмму количества заказов на одного пользователя"
   ]
  },
  {
   "cell_type": "code",
   "execution_count": 95,
   "metadata": {},
   "outputs": [
    {
     "data": {
      "image/png": "[encoded data removed]",
      "text/plain": [
       "<Figure size 1080x504 with 1 Axes>"
      ]
     },
     "metadata": {
      "needs_background": "light"
     },
     "output_type": "display_data"
    }
   ],
   "source": [
    "x_values = pd.Series(range(0,len(orders_by_users)))\n",
    "plt.figure(figsize=(15,7))\n",
    "plt.scatter(x_values, orders_by_users.orders)\n",
    "plt.title('Число заказов на одного пользователя\\n', size = 14)\n",
    "plt.xlabel('Индекс пользователя')\n",
    "plt.ylabel('Количество заказов')\n",
    "plt.grid();"
   ]
  },
  {
   "cell_type": "markdown",
   "metadata": {},
   "source": [
    "#### Вывод"
   ]
  },
  {
   "cell_type": "markdown",
   "metadata": {},
   "source": [
    " * Подавляющее большинство пользователей совершило 1 или 2 заказа;\n",
    " * Пользователи сделавшие 3 и более покупок, скорее всего являются \"аномалиями\" "
   ]
  },
  {
   "cell_type": "markdown",
   "metadata": {},
   "source": [
    "### Подсчет 95-го и 99-го перцентиля количества заказов на пользователя"
   ]
  },
  {
   "cell_type": "code",
   "execution_count": 96,
   "metadata": {},
   "outputs": [
    {
     "data": {
      "text/plain": [
       "array([2., 4.])"
      ]
     },
     "execution_count": 96,
     "metadata": {},
     "output_type": "execute_result"
    }
   ],
   "source": [
    "np.percentile(orders_by_users.orders, [95, 99])"
   ]
  },
  {
   "cell_type": "markdown",
   "metadata": {},
   "source": [
    "#### Вывод"
   ]
  },
  {
   "cell_type": "markdown",
   "metadata": {},
   "source": [
    " * Только 5% пользователей сделало более 2-х заказов (95% совершило 1 или 2 заказа)\n",
    " * Только 1% пользователей сделал более 4-х заказов (99% совершило от 1 до 4-х заказов)\n",
    " * \"Нормальными\" данными, будем считать, входящие в 95-ый перцентиль; все кто сделал больше 2-х заказов - аномалии"
   ]
  },
  {
   "cell_type": "markdown",
   "metadata": {},
   "source": [
    "### Стоимость заказов"
   ]
  },
  {
   "cell_type": "code",
   "execution_count": 97,
   "metadata": {},
   "outputs": [
    {
     "data": {
      "image/png": "[encoded data removed]",
      "text/plain": [
       "<Figure size 1080x504 with 1 Axes>"
      ]
     },
     "metadata": {
      "needs_background": "light"
     },
     "output_type": "display_data"
    }
   ],
   "source": [
    "x_values = pd.Series(range(0,len(orders.revenue)))\n",
    "plt.figure(figsize=(15,7))\n",
    "plt.scatter(x_values, orders.revenue)\n",
    "plt.title('Распределение стоимости заказов по их числу\\n', size = 14)\n",
    "plt.xlabel('Индекс заказа')\n",
    "plt.ylabel('Стоимость')\n",
    "plt.grid();"
   ]
  },
  {
   "cell_type": "markdown",
   "metadata": {},
   "source": [
    "#### Вывод"
   ]
  },
  {
   "cell_type": "markdown",
   "metadata": {},
   "source": [
    " * Есть два заказа-выброса: на 1.3 млн и 200 тыс.\n",
    " * Остальные заказы не превышают 100 тыс\n",
    " * Большинство заказов не более 10 тыс"
   ]
  },
  {
   "cell_type": "markdown",
   "metadata": {},
   "source": [
    "### Подсчет 95-го и 99-го перцентиля стоимости заказов"
   ]
  },
  {
   "cell_type": "code",
   "execution_count": 98,
   "metadata": {},
   "outputs": [
    {
     "data": {
      "text/plain": [
       "array([28000. , 58233.2])"
      ]
     },
     "execution_count": 98,
     "metadata": {},
     "output_type": "execute_result"
    }
   ],
   "source": [
    "np.percentile(orders.revenue, [95, 99])"
   ]
  },
  {
   "cell_type": "markdown",
   "metadata": {},
   "source": [
    "#### Вывод"
   ]
  },
  {
   "cell_type": "markdown",
   "metadata": {},
   "source": [
    " * 5% пользователей сделало покупку дороже 28000\n",
    " * 1% пользователей сделал покупку дороже 58233.2\n",
    " * \"Нормальными\" данными, будем считать, входящие в 95-ый перцентиль; все кто сделал покупку дороже 28000 - аномалии"
   ]
  },
  {
   "cell_type": "markdown",
   "metadata": {},
   "source": [
    "### Подсчет статистической значимости различий в конверсии между группами по \"сырым\" данным"
   ]
  },
  {
   "cell_type": "markdown",
   "metadata": {},
   "source": [
    "#### Соберем \"сырые\" данные в одну таблицу "
   ]
  },
  {
   "cell_type": "markdown",
   "metadata": {},
   "source": [
    "Число пользователей в день для каждой группы"
   ]
  },
  {
   "cell_type": "code",
   "execution_count": 99,
   "metadata": {},
   "outputs": [],
   "source": [
    "visitors_a_daily = visitors[visitors.group == 'A'][['date', 'visitors']]\n",
    "visitors_a_daily.columns = ['date', 'visitors_per_date_a']\n",
    "\n",
    "visitors_b_daily = visitors[visitors.group == 'B'][['date', 'visitors']]\n",
    "visitors_b_daily.columns = ['date', 'visitors_per_date_b']"
   ]
  },
  {
   "cell_type": "markdown",
   "metadata": {},
   "source": [
    "Число кумулятивных пользователей в день для каждой группы"
   ]
  },
  {
   "cell_type": "code",
   "execution_count": 100,
   "metadata": {},
   "outputs": [],
   "source": [
    "visitors_a_cummulative = (visitors_a_daily\n",
    "                         .apply(lambda x: visitors_a_daily[visitors_a_daily.date <= x.date]\n",
    "                         .agg({'date': 'max', 'visitors_per_date_a': 'sum'}), axis=1,)\n",
    "                         )\n",
    "visitors_a_cummulative.columns = ['date', 'visitors_cummulative_a']\n",
    "\n",
    "visitors_b_cummulative = (visitors_b_daily\n",
    "                        .apply(lambda x: visitors_b_daily[visitors_b_daily.date <= x.date]\n",
    "                        .agg({'date': 'max', 'visitors_per_date_b': 'sum'}), axis=1,)\n",
    "                         )\n",
    "visitors_b_cummulative.columns = ['date', 'visitors_cummulative_b']"
   ]
  },
  {
   "cell_type": "markdown",
   "metadata": {},
   "source": [
    "Число заказов и выручка за день для каждой группы"
   ]
  },
  {
   "cell_type": "code",
   "execution_count": 101,
   "metadata": {},
   "outputs": [],
   "source": [
    "orders_a_daily = (orders[orders.group=='A'][['date', 'transactionid', 'revenue']]\n",
    "                 .groupby('date', as_index=False)\n",
    "                 .agg({'transactionid':'nunique', 'revenue':'sum'})\n",
    "                 )\n",
    "orders_a_daily.columns = ['date', 'orders_per_date_a', 'revenue_per_date_a']\n",
    "\n",
    "orders_b_daily = (orders[orders.group=='B'][['date', 'transactionid', 'revenue']]\n",
    "                 .groupby('date', as_index=False)\n",
    "                 .agg({'transactionid':'nunique', 'revenue':'sum'})\n",
    "                 )\n",
    "orders_b_daily.columns = ['date', 'orders_per_date_b', 'revenue_per_date_b']"
   ]
  },
  {
   "cell_type": "markdown",
   "metadata": {},
   "source": [
    "Кумулятивное число заказов и выручки за день для каждой группы"
   ]
  },
  {
   "cell_type": "code",
   "execution_count": 102,
   "metadata": {},
   "outputs": [],
   "source": [
    "orders_a_cummulative = (orders_a_daily\n",
    "                       .apply(lambda x: orders_a_daily[orders_a_daily.date <= x.date]\n",
    "                       .agg({'date':'max', 'orders_per_date_a':'sum', 'revenue_per_date_a':'sum'}), axis=1)\n",
    "                       )\n",
    "orders_a_cummulative.columns = ['date', 'orders_cummulative_a', 'revenue_cummulative_a']\n",
    "\n",
    "orders_b_cummulative = (orders_a_daily\n",
    "                       .apply(lambda x: orders_b_daily[orders_b_daily.date <= x.date]\n",
    "                       .agg({'date':'max', 'orders_per_date_b':'sum', 'revenue_per_date_b':'sum'}), axis=1)\n",
    "                       )\n",
    "orders_b_cummulative.columns = ['date', 'orders_cummulative_b', 'revenue_cummulative_b']"
   ]
  },
  {
   "cell_type": "markdown",
   "metadata": {},
   "source": [
    "Собираем все данные в одну таблицу методом merge()"
   ]
  },
  {
   "cell_type": "code",
   "execution_count": 103,
   "metadata": {},
   "outputs": [
    {
     "data": {
      "text/html": [
       "<div>\n",
       "<style scoped>\n",
       "    .dataframe tbody tr th:only-of-type {\n",
       "        vertical-align: middle;\n",
       "    }\n",
       "\n",
       "    .dataframe tbody tr th {\n",
       "        vertical-align: top;\n",
       "    }\n",
       "\n",
       "    .dataframe thead th {\n",
       "        text-align: right;\n",
       "    }\n",
       "</style>\n",
       "<table border=\"1\" class=\"dataframe\">\n",
       "  <thead>\n",
       "    <tr style=\"text-align: right;\">\n",
       "      <th></th>\n",
       "      <th>date</th>\n",
       "      <th>orders_per_date_a</th>\n",
       "      <th>revenue_per_date_a</th>\n",
       "      <th>orders_per_date_b</th>\n",
       "      <th>revenue_per_date_b</th>\n",
       "      <th>orders_cummulative_a</th>\n",
       "      <th>revenue_cummulative_a</th>\n",
       "      <th>orders_cummulative_b</th>\n",
       "      <th>revenue_cummulative_b</th>\n",
       "      <th>visitors_per_date_a</th>\n",
       "      <th>visitors_per_date_b</th>\n",
       "      <th>visitors_cummulative_a</th>\n",
       "      <th>visitors_cummulative_b</th>\n",
       "    </tr>\n",
       "  </thead>\n",
       "  <tbody>\n",
       "    <tr>\n",
       "      <th>0</th>\n",
       "      <td>2019-08-01</td>\n",
       "      <td>24</td>\n",
       "      <td>148579</td>\n",
       "      <td>21</td>\n",
       "      <td>101217</td>\n",
       "      <td>24</td>\n",
       "      <td>148579</td>\n",
       "      <td>21</td>\n",
       "      <td>101217</td>\n",
       "      <td>719</td>\n",
       "      <td>713</td>\n",
       "      <td>719</td>\n",
       "      <td>713</td>\n",
       "    </tr>\n",
       "    <tr>\n",
       "      <th>1</th>\n",
       "      <td>2019-08-02</td>\n",
       "      <td>20</td>\n",
       "      <td>93822</td>\n",
       "      <td>24</td>\n",
       "      <td>165531</td>\n",
       "      <td>44</td>\n",
       "      <td>242401</td>\n",
       "      <td>45</td>\n",
       "      <td>266748</td>\n",
       "      <td>619</td>\n",
       "      <td>581</td>\n",
       "      <td>1338</td>\n",
       "      <td>1294</td>\n",
       "    </tr>\n",
       "    <tr>\n",
       "      <th>2</th>\n",
       "      <td>2019-08-03</td>\n",
       "      <td>24</td>\n",
       "      <td>112473</td>\n",
       "      <td>16</td>\n",
       "      <td>114248</td>\n",
       "      <td>68</td>\n",
       "      <td>354874</td>\n",
       "      <td>61</td>\n",
       "      <td>380996</td>\n",
       "      <td>507</td>\n",
       "      <td>509</td>\n",
       "      <td>1845</td>\n",
       "      <td>1803</td>\n",
       "    </tr>\n",
       "    <tr>\n",
       "      <th>3</th>\n",
       "      <td>2019-08-04</td>\n",
       "      <td>16</td>\n",
       "      <td>70825</td>\n",
       "      <td>17</td>\n",
       "      <td>108571</td>\n",
       "      <td>84</td>\n",
       "      <td>425699</td>\n",
       "      <td>78</td>\n",
       "      <td>489567</td>\n",
       "      <td>717</td>\n",
       "      <td>770</td>\n",
       "      <td>2562</td>\n",
       "      <td>2573</td>\n",
       "    </tr>\n",
       "    <tr>\n",
       "      <th>4</th>\n",
       "      <td>2019-08-05</td>\n",
       "      <td>25</td>\n",
       "      <td>124218</td>\n",
       "      <td>23</td>\n",
       "      <td>92428</td>\n",
       "      <td>109</td>\n",
       "      <td>549917</td>\n",
       "      <td>101</td>\n",
       "      <td>581995</td>\n",
       "      <td>756</td>\n",
       "      <td>707</td>\n",
       "      <td>3318</td>\n",
       "      <td>3280</td>\n",
       "    </tr>\n",
       "  </tbody>\n",
       "</table>\n",
       "</div>"
      ],
      "text/plain": [
       "        date  orders_per_date_a  revenue_per_date_a  orders_per_date_b  \\\n",
       "0 2019-08-01                 24              148579                 21   \n",
       "1 2019-08-02                 20               93822                 24   \n",
       "2 2019-08-03                 24              112473                 16   \n",
       "3 2019-08-04                 16               70825                 17   \n",
       "4 2019-08-05                 25              124218                 23   \n",
       "\n",
       "   revenue_per_date_b  orders_cummulative_a  revenue_cummulative_a  \\\n",
       "0              101217                    24                 148579   \n",
       "1              165531                    44                 242401   \n",
       "2              114248                    68                 354874   \n",
       "3              108571                    84                 425699   \n",
       "4               92428                   109                 549917   \n",
       "\n",
       "   orders_cummulative_b  revenue_cummulative_b  visitors_per_date_a  \\\n",
       "0                    21                 101217                  719   \n",
       "1                    45                 266748                  619   \n",
       "2                    61                 380996                  507   \n",
       "3                    78                 489567                  717   \n",
       "4                   101                 581995                  756   \n",
       "\n",
       "   visitors_per_date_b  visitors_cummulative_a  visitors_cummulative_b  \n",
       "0                  713                     719                     713  \n",
       "1                  581                    1338                    1294  \n",
       "2                  509                    1845                    1803  \n",
       "3                  770                    2562                    2573  \n",
       "4                  707                    3318                    3280  "
      ]
     },
     "execution_count": 103,
     "metadata": {},
     "output_type": "execute_result"
    }
   ],
   "source": [
    "data = (orders_a_daily\n",
    "        .merge(orders_b_daily, left_on='date', right_on='date', how='left')\n",
    "        .merge(orders_a_cummulative, left_on='date', right_on='date', how='left')\n",
    "        .merge(orders_b_cummulative, left_on='date', right_on='date', how='left')\n",
    "        .merge(visitors_a_daily, left_on='date', right_on='date', how='left')\n",
    "        .merge(visitors_b_daily, left_on='date', right_on='date', how='left')\n",
    "        .merge(visitors_a_cummulative, left_on='date', right_on='date', how='left')\n",
    "        .merge(visitors_b_cummulative, left_on='date', right_on='date', how='left')\n",
    "       )\n",
    "data.head()"
   ]
  },
  {
   "cell_type": "markdown",
   "metadata": {},
   "source": [
    "#### Гипотезы"
   ]
  },
  {
   "cell_type": "markdown",
   "metadata": {},
   "source": [
    "H₀ - статистически значимых различий в конверсии между группами нет  \n",
    "H₁ - статистически значимые различия в конверсии между группами есть"
   ]
  },
  {
   "cell_type": "markdown",
   "metadata": {},
   "source": [
    "Подсчитаем число заказов каждого пользователя по группам"
   ]
  },
  {
   "cell_type": "code",
   "execution_count": 104,
   "metadata": {},
   "outputs": [],
   "source": [
    "orders_by_users_a = (orders[orders.group=='A']\n",
    "                     .groupby('visitorid', as_index=False)\n",
    "                     .agg({'transactionid':'nunique'})\n",
    "                    )\n",
    "orders_by_users_a.columns = ['visitorid', 'orders']\n",
    "\n",
    "orders_by_users_b = (orders[orders.group=='B']\n",
    "                     .groupby('visitorid', as_index=False)\n",
    "                     .agg({'transactionid':'nunique'})\n",
    "                    )\n",
    "orders_by_users_b.columns = ['visitorid', 'orders']"
   ]
  },
  {
   "cell_type": "markdown",
   "metadata": {},
   "source": [
    "Для проверки критерием Манна-Уитни, создадим две выборки, в которых пользователям из разных групп будет соответствовать количество заказов, у тех кто ничего не покупал число заказов = 0"
   ]
  },
  {
   "cell_type": "code",
   "execution_count": 105,
   "metadata": {},
   "outputs": [],
   "source": [
    "sample_a = pd.concat([orders_by_users_a.orders,\n",
    "                      pd.Series(0, index=np.arange\n",
    "                                         (data.visitors_per_date_a.sum() - len(orders_by_users_a.orders)),\n",
    "                      name='orders')],axis=0)\n",
    "\n",
    "sample_b = pd.concat([orders_by_users_b.orders,\n",
    "                      pd.Series(0, index=np.arange\n",
    "                                         (data.visitors_per_date_b.sum() - len(orders_by_users_b.orders)),\n",
    "                      name='orders')],axis=0)"
   ]
  },
  {
   "cell_type": "markdown",
   "metadata": {},
   "source": [
    "Проверим гипотезы"
   ]
  },
  {
   "cell_type": "code",
   "execution_count": 106,
   "metadata": {},
   "outputs": [
    {
     "name": "stdout",
     "output_type": "stream",
     "text": [
      "p-значение: 0.0168\n",
      "Отвергаем нулевую гипотезу: разница статистически значима\n",
      "Конверсия группы B лучше чем конверсия группы A на: 13.8%\n"
     ]
    }
   ],
   "source": [
    "alpha = .05\n",
    "results = stats.mannwhitneyu(sample_a, sample_b)\n",
    "print(\"p-значение: {0:.4f}\".format(results.pvalue))\n",
    "if (results.pvalue < alpha):\n",
    "    print(\"Отвергаем нулевую гипотезу: разница статистически значима\")\n",
    "else:\n",
    "    print(\"Не получилось отвергнуть нулевую гипотезу, вывод о различии сделать нельзя\")\n",
    "print(\"Конверсия группы B лучше чем конверсия группы A на: {0:.1%}\".format(sample_b.mean()/sample_a.mean()-1))"
   ]
  },
  {
   "cell_type": "markdown",
   "metadata": {},
   "source": [
    "#### Вывод"
   ]
  },
  {
   "cell_type": "markdown",
   "metadata": {},
   "source": [
    " * Нулевая гипотеза отвергнута, разница статистически значима - конверсии в группах A и B различны; \n",
    " * Конверсия в группе B на 13,8% лучше, чем в группе A"
   ]
  },
  {
   "cell_type": "markdown",
   "metadata": {},
   "source": [
    "### Различия в среднем чеке заказа между группами по \"сырым\" данным"
   ]
  },
  {
   "cell_type": "markdown",
   "metadata": {},
   "source": [
    "Формулируем гипотезы:  \n",
    "H₀ - статистически значимых различий в среднем чеке между группами нет  \n",
    "H₁ - статистически значимые различия в среднем чеке между группами есть"
   ]
  },
  {
   "cell_type": "code",
   "execution_count": 107,
   "metadata": {},
   "outputs": [
    {
     "name": "stdout",
     "output_type": "stream",
     "text": [
      "p-значение: 0.7293\n",
      "Не получилось отвергнуть нулевую гипотезу, вывод о различии сделать нельзя\n",
      "Средний чек группы B больше чем средний чек группы A на: 25.9%\n"
     ]
    }
   ],
   "source": [
    "alpha = .05\n",
    "results = stats.mannwhitneyu(orders[orders.group=='A'].revenue, orders[orders.group=='B'].revenue)\n",
    "print(\"p-значение: {0:.4f}\".format(results.pvalue))\n",
    "if (results.pvalue < alpha):\n",
    "    print(\"Отвергаем нулевую гипотезу: разница статистически значима\")\n",
    "else:\n",
    "    print(\"Не получилось отвергнуть нулевую гипотезу, вывод о различии сделать нельзя\")\n",
    "print(\"Средний чек группы B больше чем средний чек группы A на: {0:.1%}\"\n",
    "      .format(orders[orders.group=='B'].revenue.mean()/orders[orders.group=='A'].revenue.mean()-1))"
   ]
  },
  {
   "cell_type": "markdown",
   "metadata": {},
   "source": [
    "#### Вывод"
   ]
  },
  {
   "cell_type": "markdown",
   "metadata": {},
   "source": [
    " * Нулевую гипотезу отвергнуть не удалось - статистически значимых различий между группами в среднем чеке нет; \n",
    " * Средний чек группы B больше среднего чека в группе A на 26%, очевидно такая разница получилась из-за аномально больших единичных заказов ('выбросов')"
   ]
  },
  {
   "cell_type": "markdown",
   "metadata": {},
   "source": [
    "### Статистическая значимость различий в конверсии между группами по \"очищенным\" данным"
   ]
  },
  {
   "cell_type": "markdown",
   "metadata": {},
   "source": [
    "#### \"Очищаем\" данные"
   ]
  },
  {
   "cell_type": "markdown",
   "metadata": {},
   "source": [
    "Будем считать \"очищенными\" данные, которые попадают в 95-ый перцентиль, фильтруем пользователей с числом заказов больше 2-х или единичной покупкой больше 28000"
   ]
  },
  {
   "cell_type": "code",
   "execution_count": 108,
   "metadata": {},
   "outputs": [],
   "source": [
    "users_with_many_orders = pd.concat(\n",
    "                                  [orders_by_users_a[orders_by_users_a.orders > np.percentile(orders_by_users.orders, 95)].visitorid,\n",
    "                                   orders_by_users_b[orders_by_users_b.orders > np.percentile(orders_by_users.orders, 95)].visitorid,],\n",
    "                                   axis=0,\n",
    "                                  )"
   ]
  },
  {
   "cell_type": "code",
   "execution_count": 109,
   "metadata": {},
   "outputs": [],
   "source": [
    "users_with_expensive_orders = orders[orders.revenue > np.percentile(orders.revenue, 95)].visitorid"
   ]
  },
  {
   "cell_type": "code",
   "execution_count": 110,
   "metadata": {},
   "outputs": [],
   "source": [
    "abnormal_users = (pd\n",
    "                .concat([users_with_many_orders, users_with_expensive_orders], axis=0)\n",
    "                .drop_duplicates()\n",
    "                .sort_values()\n",
    "                )"
   ]
  },
  {
   "cell_type": "code",
   "execution_count": 111,
   "metadata": {},
   "outputs": [
    {
     "name": "stdout",
     "output_type": "stream",
     "text": [
      "Число 'отфильтрованных' пользователей = 74\n"
     ]
    }
   ],
   "source": [
    "print(\"Число 'отфильтрованных' пользователей =\", abnormal_users.count())"
   ]
  },
  {
   "cell_type": "markdown",
   "metadata": {},
   "source": [
    "Создадим два \"отфильтрованных\" массива о заказах для групп А и В"
   ]
  },
  {
   "cell_type": "code",
   "execution_count": 112,
   "metadata": {},
   "outputs": [],
   "source": [
    "sample_a_filtered = pd.concat(\n",
    "                             [orders_by_users_a[np.logical_not(orders_by_users_a.visitorid.isin(abnormal_users))].orders,\n",
    "                              pd.Series(0, index=np.arange(data.visitors_per_date_a.sum() - len(orders_by_users_a.orders)),\n",
    "                              name='orders',),], axis=0,)\n",
    "\n",
    "sample_b_filtered = pd.concat(\n",
    "                             [orders_by_users_b[np.logical_not(orders_by_users_b.visitorid.isin(abnormal_users))].orders,\n",
    "                              pd.Series(0, index=np.arange(data.visitors_per_date_b.sum() - len(orders_by_users_b.orders)),\n",
    "                              name='orders',),], axis=0,)"
   ]
  },
  {
   "cell_type": "markdown",
   "metadata": {},
   "source": [
    "#### Гипотеза о статистической значимости различий в конверсии между группами на \"очищенных\" данных"
   ]
  },
  {
   "cell_type": "markdown",
   "metadata": {},
   "source": [
    "H₀ - статистически значимых различий в конверсии между группами нет  \n",
    "H₁ - статистически значимые различия в конверсии между группами есть"
   ]
  },
  {
   "cell_type": "code",
   "execution_count": 113,
   "metadata": {},
   "outputs": [
    {
     "name": "stdout",
     "output_type": "stream",
     "text": [
      "p-значение: 0.0130\n",
      "Отвергаем нулевую гипотезу: разница статистически значима\n",
      "Конверсия группы B лучше чем конверсия группы A на:: 17.3%\n"
     ]
    }
   ],
   "source": [
    "alpha = .05\n",
    "results = stats.mannwhitneyu(sample_a_filtered, sample_b_filtered)\n",
    "print(\"p-значение: {0:.4f}\".format(results.pvalue))\n",
    "if (results.pvalue < alpha):\n",
    "    print(\"Отвергаем нулевую гипотезу: разница статистически значима\")\n",
    "else:\n",
    "    print(\"Не получилось отвергнуть нулевую гипотезу, вывод о различии сделать нельзя\")\n",
    "print(\"Конверсия группы B лучше чем конверсия группы A на:: {0:.1%}\".format(sample_b_filtered.mean()/sample_a_filtered.mean()-1))"
   ]
  },
  {
   "cell_type": "markdown",
   "metadata": {},
   "source": [
    "#### Вывод"
   ]
  },
  {
   "cell_type": "markdown",
   "metadata": {},
   "source": [
    " * Нулевая гипотеза отвергнута, разница статистически значима - конверсии на \"очищенных\" данных в группах A и B различны; \n",
    " * Конверсия в группе B на 17.3% лучше, чем в группе A"
   ]
  },
  {
   "cell_type": "markdown",
   "metadata": {},
   "source": [
    "### Различия в среднем чеке заказа между группами на \"очищенных\" данных"
   ]
  },
  {
   "cell_type": "markdown",
   "metadata": {},
   "source": [
    "Формулируем гипотезы:  \n",
    "H₀ - статистически значимых различий в среднем чеке между группами нет  \n",
    "H₁ - статистически значимые различия в среднем чеке между группами есть"
   ]
  },
  {
   "cell_type": "code",
   "execution_count": 114,
   "metadata": {},
   "outputs": [
    {
     "name": "stdout",
     "output_type": "stream",
     "text": [
      "p-значение: 0.7385\n",
      "Не получилось отвергнуть нулевую гипотезу, вывод о различии сделать нельзя\n",
      "Средний чек группы B больше чем средний чек группы A на:: -2.0%\n"
     ]
    }
   ],
   "source": [
    "alpha = .05\n",
    "results = stats.mannwhitneyu(\n",
    "          orders[np.logical_and(orders.group == 'A', np.logical_not(orders.visitorid.isin(abnormal_users)),)].revenue,\n",
    "          orders[np.logical_and(orders.group == 'B', np.logical_not(orders.visitorid.isin(abnormal_users)),)].revenue\n",
    "                            )\n",
    "print(\"p-значение: {0:.4f}\".format(results.pvalue))\n",
    "if (results.pvalue < alpha):\n",
    "    print(\"Отвергаем нулевую гипотезу: разница статистически значима\")\n",
    "else:\n",
    "    print(\"Не получилось отвергнуть нулевую гипотезу, вывод о различии сделать нельзя\")\n",
    "print(\"Средний чек группы B больше чем средний чек группы A на:: {0:.1%}\"\n",
    "      .format(orders[np.logical_and(orders.group=='B',np.logical_not(orders.visitorid.isin(abnormal_users)))].revenue.mean()/\n",
    "              orders[np.logical_and(orders.group=='A',np.logical_not(orders.visitorid.isin(abnormal_users)))].revenue.mean() - 1))\n",
    "       "
   ]
  },
  {
   "cell_type": "markdown",
   "metadata": {},
   "source": [
    "#### Вывод"
   ]
  },
  {
   "cell_type": "markdown",
   "metadata": {},
   "source": [
    " * Нулевую гипотезу отвергнуть не удалось - на \"очищенных\" данных статистически значимых различий между группами в среднем чеке нет; \n",
    " * Средний чек группы A оказался даже больше среднего чека группы B на 2%, это говорит о том, что \"выбросы\" отфильтрованы корректно"
   ]
  },
  {
   "cell_type": "markdown",
   "metadata": {},
   "source": [
    "### Вывод"
   ]
  },
  {
   "cell_type": "markdown",
   "metadata": {},
   "source": [
    " * Разница в конверсии между группами на \"сырых\" данных составляет 13.8%, на \"очищенных\" 17.3%\n",
    " * И на \"сырых\" и на \"очищенных\" данных тест Манна—Уитни показал наличие статистически значимых различий: группа B конвертируется лучше чем группа A\n",
    " * Разница в средних чеках между группами на \"сырых\" данных составляет 25.9%, на \"очищенных\" 2%, причем на \"сырых\" средний чек больше у группы B, а на \"очищенных\" данных средний чек выше в группе A\n",
    " * И на \"сырых\"(несмотря на 26%-ую разницу) и на \"очищенных\" данных тест Манна—Уитни значимых статистических различий не нашел: средние чеки в группах A и B не различаются"
   ]
  },
  {
   "cell_type": "markdown",
   "metadata": {},
   "source": [
    "## Решение по результатам A/B-теста"
   ]
  },
  {
   "cell_type": "markdown",
   "metadata": {},
   "source": [
    " * Конверсия в группе B выше чем в группе A более чем на 10% и на полных и на отфильтрованных от \"шопоголиков\" данных\n",
    " * Статистических различий в среднем чеке, если далее тест продолжить \"до бесконечности\", не будет  \n",
    " * Поскольку конверсия один из важнейших маркетинговых параметров, то и с одинаковыми средними чеками группу B стоит признать победительницей, а A/B-тест успешно завершенным"
   ]
  }
 ],
 "metadata": {
  "ExecuteTimeLog": [
   {
    "duration": 1310,
    "start_time": "2022-07-01T13:05:14.942Z"
   },
   {
    "duration": 108,
    "start_time": "2022-07-01T13:07:26.864Z"
   },
   {
    "duration": 20,
    "start_time": "2022-07-01T13:10:09.107Z"
   },
   {
    "duration": 14,
    "start_time": "2022-07-01T13:10:17.232Z"
   },
   {
    "duration": 4,
    "start_time": "2022-07-01T13:12:26.776Z"
   },
   {
    "duration": 17,
    "start_time": "2022-07-01T13:13:14.983Z"
   },
   {
    "duration": 13,
    "start_time": "2022-07-01T13:20:31.797Z"
   },
   {
    "duration": 10,
    "start_time": "2022-07-01T13:21:34.247Z"
   },
   {
    "duration": 5,
    "start_time": "2022-07-01T13:22:12.585Z"
   },
   {
    "duration": 6,
    "start_time": "2022-07-01T13:22:33.751Z"
   },
   {
    "duration": 16,
    "start_time": "2022-07-01T13:26:42.328Z"
   },
   {
    "duration": 4,
    "start_time": "2022-07-01T13:27:51.674Z"
   },
   {
    "duration": 12,
    "start_time": "2022-07-01T13:28:02.513Z"
   },
   {
    "duration": 8,
    "start_time": "2022-07-01T13:28:36.173Z"
   },
   {
    "duration": 9,
    "start_time": "2022-07-01T13:29:21.470Z"
   },
   {
    "duration": 6,
    "start_time": "2022-07-01T13:29:40.520Z"
   },
   {
    "duration": 1161,
    "start_time": "2022-07-01T13:31:13.251Z"
   },
   {
    "duration": 41,
    "start_time": "2022-07-01T13:31:14.414Z"
   },
   {
    "duration": 20,
    "start_time": "2022-07-01T13:31:14.457Z"
   },
   {
    "duration": 5,
    "start_time": "2022-07-01T13:31:14.479Z"
   },
   {
    "duration": 19,
    "start_time": "2022-07-01T13:31:14.486Z"
   },
   {
    "duration": 15,
    "start_time": "2022-07-01T13:31:14.506Z"
   },
   {
    "duration": 10,
    "start_time": "2022-07-01T13:31:14.524Z"
   },
   {
    "duration": 37,
    "start_time": "2022-07-01T13:31:14.535Z"
   },
   {
    "duration": 16,
    "start_time": "2022-07-01T13:31:14.574Z"
   },
   {
    "duration": 19,
    "start_time": "2022-07-01T13:31:14.593Z"
   },
   {
    "duration": 6,
    "start_time": "2022-07-01T13:31:14.614Z"
   },
   {
    "duration": 8,
    "start_time": "2022-07-01T13:31:14.622Z"
   },
   {
    "duration": 38,
    "start_time": "2022-07-01T13:31:14.631Z"
   },
   {
    "duration": 10,
    "start_time": "2022-07-01T13:31:14.670Z"
   },
   {
    "duration": 52,
    "start_time": "2022-07-01T13:42:29.458Z"
   },
   {
    "duration": 6,
    "start_time": "2022-07-01T13:42:41.018Z"
   },
   {
    "duration": 5,
    "start_time": "2022-07-01T13:43:04.588Z"
   },
   {
    "duration": 106,
    "start_time": "2022-07-01T13:43:19.125Z"
   },
   {
    "duration": 8,
    "start_time": "2022-07-01T13:43:28.060Z"
   },
   {
    "duration": 1092,
    "start_time": "2022-07-01T13:45:13.847Z"
   },
   {
    "duration": 41,
    "start_time": "2022-07-01T13:45:14.941Z"
   },
   {
    "duration": 19,
    "start_time": "2022-07-01T13:45:14.983Z"
   },
   {
    "duration": 4,
    "start_time": "2022-07-01T13:45:15.005Z"
   },
   {
    "duration": 31,
    "start_time": "2022-07-01T13:45:15.011Z"
   },
   {
    "duration": 21,
    "start_time": "2022-07-01T13:45:15.044Z"
   },
   {
    "duration": 15,
    "start_time": "2022-07-01T13:45:15.067Z"
   },
   {
    "duration": 10,
    "start_time": "2022-07-01T13:45:15.084Z"
   },
   {
    "duration": 8,
    "start_time": "2022-07-01T13:45:15.096Z"
   },
   {
    "duration": 15,
    "start_time": "2022-07-01T13:45:15.106Z"
   },
   {
    "duration": 5,
    "start_time": "2022-07-01T13:45:15.122Z"
   },
   {
    "duration": 9,
    "start_time": "2022-07-01T13:45:15.128Z"
   },
   {
    "duration": 32,
    "start_time": "2022-07-01T13:45:15.139Z"
   },
   {
    "duration": 5,
    "start_time": "2022-07-01T13:45:15.173Z"
   },
   {
    "duration": 10,
    "start_time": "2022-07-01T13:45:15.179Z"
   },
   {
    "duration": 9,
    "start_time": "2022-07-01T13:45:15.191Z"
   },
   {
    "duration": 9,
    "start_time": "2022-07-01T13:45:37.360Z"
   },
   {
    "duration": 11,
    "start_time": "2022-07-01T13:45:48.513Z"
   },
   {
    "duration": 1022,
    "start_time": "2022-07-01T13:46:02.388Z"
   },
   {
    "duration": 41,
    "start_time": "2022-07-01T13:46:03.412Z"
   },
   {
    "duration": 23,
    "start_time": "2022-07-01T13:46:03.455Z"
   },
   {
    "duration": 27,
    "start_time": "2022-07-01T13:46:03.480Z"
   },
   {
    "duration": 41,
    "start_time": "2022-07-01T13:46:03.510Z"
   },
   {
    "duration": 34,
    "start_time": "2022-07-01T13:46:03.552Z"
   },
   {
    "duration": 36,
    "start_time": "2022-07-01T13:46:03.588Z"
   },
   {
    "duration": 37,
    "start_time": "2022-07-01T13:46:03.626Z"
   },
   {
    "duration": 29,
    "start_time": "2022-07-01T13:46:03.665Z"
   },
   {
    "duration": 29,
    "start_time": "2022-07-01T13:46:03.697Z"
   },
   {
    "duration": 16,
    "start_time": "2022-07-01T13:46:03.728Z"
   },
   {
    "duration": 25,
    "start_time": "2022-07-01T13:46:03.745Z"
   },
   {
    "duration": 34,
    "start_time": "2022-07-01T13:46:03.771Z"
   },
   {
    "duration": 20,
    "start_time": "2022-07-01T13:46:03.807Z"
   },
   {
    "duration": 12,
    "start_time": "2022-07-01T13:46:03.829Z"
   },
   {
    "duration": 11,
    "start_time": "2022-07-01T13:47:43.574Z"
   },
   {
    "duration": 1043,
    "start_time": "2022-07-01T13:48:13.077Z"
   },
   {
    "duration": 41,
    "start_time": "2022-07-01T13:48:14.122Z"
   },
   {
    "duration": 19,
    "start_time": "2022-07-01T13:48:14.165Z"
   },
   {
    "duration": 4,
    "start_time": "2022-07-01T13:48:14.186Z"
   },
   {
    "duration": 20,
    "start_time": "2022-07-01T13:48:14.192Z"
   },
   {
    "duration": 24,
    "start_time": "2022-07-01T13:48:14.214Z"
   },
   {
    "duration": 29,
    "start_time": "2022-07-01T13:48:14.239Z"
   },
   {
    "duration": 5,
    "start_time": "2022-07-01T13:48:14.270Z"
   },
   {
    "duration": 9,
    "start_time": "2022-07-01T13:48:14.276Z"
   },
   {
    "duration": 15,
    "start_time": "2022-07-01T13:48:14.287Z"
   },
   {
    "duration": 7,
    "start_time": "2022-07-01T13:48:14.304Z"
   },
   {
    "duration": 10,
    "start_time": "2022-07-01T13:48:14.312Z"
   },
   {
    "duration": 10,
    "start_time": "2022-07-01T13:48:14.323Z"
   },
   {
    "duration": 5,
    "start_time": "2022-07-01T13:48:14.335Z"
   },
   {
    "duration": 29,
    "start_time": "2022-07-01T13:48:14.342Z"
   },
   {
    "duration": 11,
    "start_time": "2022-07-01T13:48:14.372Z"
   },
   {
    "duration": 98,
    "start_time": "2022-07-01T14:04:57.159Z"
   },
   {
    "duration": 1160,
    "start_time": "2022-07-01T14:05:07.070Z"
   },
   {
    "duration": 42,
    "start_time": "2022-07-01T14:05:08.232Z"
   },
   {
    "duration": 23,
    "start_time": "2022-07-01T14:05:08.276Z"
   },
   {
    "duration": 5,
    "start_time": "2022-07-01T14:05:08.301Z"
   },
   {
    "duration": 19,
    "start_time": "2022-07-01T14:05:08.310Z"
   },
   {
    "duration": 43,
    "start_time": "2022-07-01T14:05:08.331Z"
   },
   {
    "duration": 9,
    "start_time": "2022-07-01T14:05:08.377Z"
   },
   {
    "duration": 9,
    "start_time": "2022-07-01T14:05:08.388Z"
   },
   {
    "duration": 14,
    "start_time": "2022-07-01T14:05:08.399Z"
   },
   {
    "duration": 18,
    "start_time": "2022-07-01T14:05:08.415Z"
   },
   {
    "duration": 35,
    "start_time": "2022-07-01T14:05:08.435Z"
   },
   {
    "duration": 9,
    "start_time": "2022-07-01T14:05:08.472Z"
   },
   {
    "duration": 8,
    "start_time": "2022-07-01T14:05:08.484Z"
   },
   {
    "duration": 7,
    "start_time": "2022-07-01T14:05:08.495Z"
   },
   {
    "duration": 8,
    "start_time": "2022-07-01T14:05:08.504Z"
   },
   {
    "duration": 12,
    "start_time": "2022-07-01T14:05:08.514Z"
   },
   {
    "duration": 7,
    "start_time": "2022-07-01T14:05:08.527Z"
   },
   {
    "duration": 134,
    "start_time": "2022-07-01T14:05:08.535Z"
   },
   {
    "duration": 12,
    "start_time": "2022-07-01T14:05:16.579Z"
   },
   {
    "duration": 11,
    "start_time": "2022-07-01T14:11:05.009Z"
   },
   {
    "duration": 12,
    "start_time": "2022-07-01T14:12:18.625Z"
   },
   {
    "duration": 11,
    "start_time": "2022-07-01T14:12:24.142Z"
   },
   {
    "duration": 4,
    "start_time": "2022-07-01T14:29:23.969Z"
   },
   {
    "duration": 49,
    "start_time": "2022-07-06T13:07:27.214Z"
   },
   {
    "duration": 1159,
    "start_time": "2022-07-06T13:07:33.484Z"
   },
   {
    "duration": 205,
    "start_time": "2022-07-06T13:07:34.646Z"
   },
   {
    "duration": 26,
    "start_time": "2022-07-06T13:07:34.852Z"
   },
   {
    "duration": 6,
    "start_time": "2022-07-06T13:07:34.879Z"
   },
   {
    "duration": 21,
    "start_time": "2022-07-06T13:07:34.888Z"
   },
   {
    "duration": 17,
    "start_time": "2022-07-06T13:07:34.911Z"
   },
   {
    "duration": 8,
    "start_time": "2022-07-06T13:07:34.930Z"
   },
   {
    "duration": 9,
    "start_time": "2022-07-06T13:07:34.939Z"
   },
   {
    "duration": 8,
    "start_time": "2022-07-06T13:07:34.950Z"
   },
   {
    "duration": 14,
    "start_time": "2022-07-06T13:07:34.960Z"
   },
   {
    "duration": 27,
    "start_time": "2022-07-06T13:07:34.976Z"
   },
   {
    "duration": 7,
    "start_time": "2022-07-06T13:07:35.005Z"
   },
   {
    "duration": 10,
    "start_time": "2022-07-06T13:07:35.013Z"
   },
   {
    "duration": 5,
    "start_time": "2022-07-06T13:07:35.024Z"
   },
   {
    "duration": 13,
    "start_time": "2022-07-06T13:07:35.031Z"
   },
   {
    "duration": 9,
    "start_time": "2022-07-06T13:07:35.046Z"
   },
   {
    "duration": 5,
    "start_time": "2022-07-06T13:07:35.057Z"
   },
   {
    "duration": 13,
    "start_time": "2022-07-06T13:07:35.064Z"
   },
   {
    "duration": 26,
    "start_time": "2022-07-06T13:07:35.078Z"
   },
   {
    "duration": 60,
    "start_time": "2022-07-06T13:08:00.904Z"
   },
   {
    "duration": 9,
    "start_time": "2022-07-06T13:08:14.665Z"
   },
   {
    "duration": 9,
    "start_time": "2022-07-06T13:08:25.677Z"
   },
   {
    "duration": 91,
    "start_time": "2022-07-06T13:33:09.733Z"
   },
   {
    "duration": 76,
    "start_time": "2022-07-06T13:33:18.920Z"
   },
   {
    "duration": 34,
    "start_time": "2022-07-06T13:33:27.713Z"
   },
   {
    "duration": 21,
    "start_time": "2022-07-06T13:33:45.473Z"
   },
   {
    "duration": 22,
    "start_time": "2022-07-06T13:34:57.932Z"
   },
   {
    "duration": 185,
    "start_time": "2022-07-06T13:37:27.534Z"
   },
   {
    "duration": 175,
    "start_time": "2022-07-06T13:38:06.062Z"
   },
   {
    "duration": 209,
    "start_time": "2022-07-06T13:38:14.769Z"
   },
   {
    "duration": 21,
    "start_time": "2022-07-06T13:39:42.919Z"
   },
   {
    "duration": 31,
    "start_time": "2022-07-06T13:39:54.125Z"
   },
   {
    "duration": 26,
    "start_time": "2022-07-06T13:41:11.377Z"
   },
   {
    "duration": 34,
    "start_time": "2022-07-06T13:41:17.823Z"
   },
   {
    "duration": 29,
    "start_time": "2022-07-06T13:41:53.431Z"
   },
   {
    "duration": 84,
    "start_time": "2022-07-06T13:44:03.205Z"
   },
   {
    "duration": 89,
    "start_time": "2022-07-06T13:44:10.927Z"
   },
   {
    "duration": 17,
    "start_time": "2022-07-06T13:44:16.462Z"
   },
   {
    "duration": 23,
    "start_time": "2022-07-06T13:44:24.375Z"
   },
   {
    "duration": 26,
    "start_time": "2022-07-06T13:44:30.565Z"
   },
   {
    "duration": 24,
    "start_time": "2022-07-06T13:44:48.800Z"
   },
   {
    "duration": 36,
    "start_time": "2022-07-06T13:45:00.577Z"
   },
   {
    "duration": 4,
    "start_time": "2022-07-06T13:47:16.060Z"
   },
   {
    "duration": 1062,
    "start_time": "2022-07-06T13:47:58.768Z"
   },
   {
    "duration": 68,
    "start_time": "2022-07-06T13:47:59.833Z"
   },
   {
    "duration": 81,
    "start_time": "2022-07-06T13:47:59.913Z"
   },
   {
    "duration": 51,
    "start_time": "2022-07-06T13:47:59.996Z"
   },
   {
    "duration": 22,
    "start_time": "2022-07-06T13:48:00.049Z"
   },
   {
    "duration": 57,
    "start_time": "2022-07-06T13:48:00.073Z"
   },
   {
    "duration": 205,
    "start_time": "2022-07-06T13:48:00.132Z"
   },
   {
    "duration": 102,
    "start_time": "2022-07-06T13:48:00.338Z"
   },
   {
    "duration": 135,
    "start_time": "2022-07-06T13:48:00.441Z"
   },
   {
    "duration": 75,
    "start_time": "2022-07-06T13:48:00.578Z"
   },
   {
    "duration": 31,
    "start_time": "2022-07-06T13:48:00.654Z"
   },
   {
    "duration": 44,
    "start_time": "2022-07-06T13:48:00.688Z"
   },
   {
    "duration": 27,
    "start_time": "2022-07-06T13:48:00.733Z"
   },
   {
    "duration": 92,
    "start_time": "2022-07-06T13:48:00.763Z"
   },
   {
    "duration": 29,
    "start_time": "2022-07-06T13:48:00.857Z"
   },
   {
    "duration": 66,
    "start_time": "2022-07-06T13:48:00.888Z"
   },
   {
    "duration": 76,
    "start_time": "2022-07-06T13:48:00.956Z"
   },
   {
    "duration": 24,
    "start_time": "2022-07-06T13:48:01.033Z"
   },
   {
    "duration": 16,
    "start_time": "2022-07-06T13:48:01.058Z"
   },
   {
    "duration": 26,
    "start_time": "2022-07-06T13:48:01.075Z"
   },
   {
    "duration": 219,
    "start_time": "2022-07-06T13:48:01.102Z"
   },
   {
    "duration": 166,
    "start_time": "2022-07-06T13:48:21.051Z"
   },
   {
    "duration": 200,
    "start_time": "2022-07-06T13:48:28.398Z"
   },
   {
    "duration": 172,
    "start_time": "2022-07-06T13:48:34.125Z"
   },
   {
    "duration": 166,
    "start_time": "2022-07-06T13:48:58.049Z"
   },
   {
    "duration": 194,
    "start_time": "2022-07-06T13:56:36.494Z"
   },
   {
    "duration": 156,
    "start_time": "2022-07-06T13:56:52.572Z"
   },
   {
    "duration": 115,
    "start_time": "2022-07-06T13:58:22.117Z"
   },
   {
    "duration": 125,
    "start_time": "2022-07-06T13:58:33.961Z"
   },
   {
    "duration": 172,
    "start_time": "2022-07-06T13:59:02.723Z"
   },
   {
    "duration": 129,
    "start_time": "2022-07-06T13:59:10.232Z"
   },
   {
    "duration": 7,
    "start_time": "2022-07-06T14:06:28.244Z"
   },
   {
    "duration": 88,
    "start_time": "2022-07-06T14:07:20.231Z"
   },
   {
    "duration": 9,
    "start_time": "2022-07-06T14:08:06.063Z"
   },
   {
    "duration": 9,
    "start_time": "2022-07-06T14:08:12.449Z"
   },
   {
    "duration": 11,
    "start_time": "2022-07-06T14:08:17.446Z"
   },
   {
    "duration": 9,
    "start_time": "2022-07-06T14:23:31.497Z"
   },
   {
    "duration": 261,
    "start_time": "2022-07-06T14:27:42.649Z"
   },
   {
    "duration": 6,
    "start_time": "2022-07-06T14:28:00.581Z"
   },
   {
    "duration": 296,
    "start_time": "2022-07-06T14:28:02.773Z"
   },
   {
    "duration": 221,
    "start_time": "2022-07-06T14:28:12.264Z"
   },
   {
    "duration": 225,
    "start_time": "2022-07-06T14:28:49.246Z"
   },
   {
    "duration": 211,
    "start_time": "2022-07-06T14:28:55.628Z"
   },
   {
    "duration": 216,
    "start_time": "2022-07-06T14:29:00.531Z"
   },
   {
    "duration": 228,
    "start_time": "2022-07-06T14:29:04.043Z"
   },
   {
    "duration": 366,
    "start_time": "2022-07-06T14:29:59.275Z"
   },
   {
    "duration": 247,
    "start_time": "2022-07-06T14:30:08.394Z"
   },
   {
    "duration": 215,
    "start_time": "2022-07-06T14:30:14.061Z"
   },
   {
    "duration": 222,
    "start_time": "2022-07-06T14:30:26.962Z"
   },
   {
    "duration": 215,
    "start_time": "2022-07-06T14:30:38.392Z"
   },
   {
    "duration": 277,
    "start_time": "2022-07-06T14:33:24.917Z"
   },
   {
    "duration": 203,
    "start_time": "2022-07-06T14:33:38.630Z"
   },
   {
    "duration": 239,
    "start_time": "2022-07-06T14:33:46.053Z"
   },
   {
    "duration": 6,
    "start_time": "2022-07-06T14:34:23.329Z"
   },
   {
    "duration": 215,
    "start_time": "2022-07-06T14:34:24.543Z"
   },
   {
    "duration": 1197,
    "start_time": "2022-07-06T14:40:37.060Z"
   },
   {
    "duration": 92,
    "start_time": "2022-07-06T14:40:38.259Z"
   },
   {
    "duration": 26,
    "start_time": "2022-07-06T14:40:38.353Z"
   },
   {
    "duration": 8,
    "start_time": "2022-07-06T14:40:38.381Z"
   },
   {
    "duration": 24,
    "start_time": "2022-07-06T14:40:38.392Z"
   },
   {
    "duration": 28,
    "start_time": "2022-07-06T14:40:38.418Z"
   },
   {
    "duration": 22,
    "start_time": "2022-07-06T14:40:38.449Z"
   },
   {
    "duration": 26,
    "start_time": "2022-07-06T14:40:38.473Z"
   },
   {
    "duration": 9,
    "start_time": "2022-07-06T14:40:38.501Z"
   },
   {
    "duration": 30,
    "start_time": "2022-07-06T14:40:38.514Z"
   },
   {
    "duration": 15,
    "start_time": "2022-07-06T14:40:38.546Z"
   },
   {
    "duration": 16,
    "start_time": "2022-07-06T14:40:38.562Z"
   },
   {
    "duration": 11,
    "start_time": "2022-07-06T14:40:38.580Z"
   },
   {
    "duration": 14,
    "start_time": "2022-07-06T14:40:38.593Z"
   },
   {
    "duration": 23,
    "start_time": "2022-07-06T14:40:38.610Z"
   },
   {
    "duration": 7,
    "start_time": "2022-07-06T14:40:38.635Z"
   },
   {
    "duration": 15,
    "start_time": "2022-07-06T14:40:38.644Z"
   },
   {
    "duration": 9,
    "start_time": "2022-07-06T14:40:38.661Z"
   },
   {
    "duration": 12,
    "start_time": "2022-07-06T14:40:38.671Z"
   },
   {
    "duration": 13,
    "start_time": "2022-07-06T14:40:38.684Z"
   },
   {
    "duration": 146,
    "start_time": "2022-07-06T14:40:38.702Z"
   },
   {
    "duration": 0,
    "start_time": "2022-07-06T14:40:38.850Z"
   },
   {
    "duration": 0,
    "start_time": "2022-07-06T14:40:38.852Z"
   },
   {
    "duration": 0,
    "start_time": "2022-07-06T14:40:38.853Z"
   },
   {
    "duration": 0,
    "start_time": "2022-07-06T14:40:38.855Z"
   },
   {
    "duration": 0,
    "start_time": "2022-07-06T14:40:38.856Z"
   },
   {
    "duration": 1118,
    "start_time": "2022-07-06T14:41:23.162Z"
   },
   {
    "duration": 79,
    "start_time": "2022-07-06T14:41:24.282Z"
   },
   {
    "duration": 21,
    "start_time": "2022-07-06T14:41:24.363Z"
   },
   {
    "duration": 8,
    "start_time": "2022-07-06T14:41:24.386Z"
   },
   {
    "duration": 55,
    "start_time": "2022-07-06T14:41:24.397Z"
   },
   {
    "duration": 11,
    "start_time": "2022-07-06T14:41:24.453Z"
   },
   {
    "duration": 16,
    "start_time": "2022-07-06T14:41:24.465Z"
   },
   {
    "duration": 9,
    "start_time": "2022-07-06T14:41:24.483Z"
   },
   {
    "duration": 7,
    "start_time": "2022-07-06T14:41:24.493Z"
   },
   {
    "duration": 16,
    "start_time": "2022-07-06T14:41:24.502Z"
   },
   {
    "duration": 24,
    "start_time": "2022-07-06T14:41:24.525Z"
   },
   {
    "duration": 6,
    "start_time": "2022-07-06T14:41:24.550Z"
   },
   {
    "duration": 16,
    "start_time": "2022-07-06T14:41:24.558Z"
   },
   {
    "duration": 11,
    "start_time": "2022-07-06T14:41:24.578Z"
   },
   {
    "duration": 12,
    "start_time": "2022-07-06T14:41:24.591Z"
   },
   {
    "duration": 18,
    "start_time": "2022-07-06T14:41:24.608Z"
   },
   {
    "duration": 16,
    "start_time": "2022-07-06T14:41:24.628Z"
   },
   {
    "duration": 6,
    "start_time": "2022-07-06T14:41:24.646Z"
   },
   {
    "duration": 15,
    "start_time": "2022-07-06T14:41:24.654Z"
   },
   {
    "duration": 12,
    "start_time": "2022-07-06T14:41:24.670Z"
   },
   {
    "duration": 137,
    "start_time": "2022-07-06T14:41:24.684Z"
   },
   {
    "duration": 0,
    "start_time": "2022-07-06T14:41:24.823Z"
   },
   {
    "duration": 0,
    "start_time": "2022-07-06T14:41:24.825Z"
   },
   {
    "duration": 0,
    "start_time": "2022-07-06T14:41:24.826Z"
   },
   {
    "duration": 0,
    "start_time": "2022-07-06T14:41:24.828Z"
   },
   {
    "duration": 0,
    "start_time": "2022-07-06T14:41:24.829Z"
   },
   {
    "duration": 4,
    "start_time": "2022-07-06T14:42:26.294Z"
   },
   {
    "duration": 97,
    "start_time": "2022-07-06T14:42:26.301Z"
   },
   {
    "duration": 18,
    "start_time": "2022-07-06T14:42:26.400Z"
   },
   {
    "duration": 16,
    "start_time": "2022-07-06T14:42:26.420Z"
   },
   {
    "duration": 30,
    "start_time": "2022-07-06T14:42:26.438Z"
   },
   {
    "duration": 6,
    "start_time": "2022-07-06T14:42:26.471Z"
   },
   {
    "duration": 34,
    "start_time": "2022-07-06T14:42:26.479Z"
   },
   {
    "duration": 26,
    "start_time": "2022-07-06T14:42:26.514Z"
   },
   {
    "duration": 6,
    "start_time": "2022-07-06T14:42:26.543Z"
   },
   {
    "duration": 15,
    "start_time": "2022-07-06T14:42:26.550Z"
   },
   {
    "duration": 27,
    "start_time": "2022-07-06T14:42:26.567Z"
   },
   {
    "duration": 8,
    "start_time": "2022-07-06T14:42:26.595Z"
   },
   {
    "duration": 28,
    "start_time": "2022-07-06T14:42:26.608Z"
   },
   {
    "duration": 16,
    "start_time": "2022-07-06T14:42:26.638Z"
   },
   {
    "duration": 10,
    "start_time": "2022-07-06T14:42:26.656Z"
   },
   {
    "duration": 6,
    "start_time": "2022-07-06T14:42:26.668Z"
   },
   {
    "duration": 14,
    "start_time": "2022-07-06T14:42:26.676Z"
   },
   {
    "duration": 8,
    "start_time": "2022-07-06T14:42:26.692Z"
   },
   {
    "duration": 35,
    "start_time": "2022-07-06T14:42:26.701Z"
   },
   {
    "duration": 13,
    "start_time": "2022-07-06T14:42:26.737Z"
   },
   {
    "duration": 180,
    "start_time": "2022-07-06T14:42:26.752Z"
   },
   {
    "duration": 142,
    "start_time": "2022-07-06T14:42:26.934Z"
   },
   {
    "duration": 7,
    "start_time": "2022-07-06T14:42:27.078Z"
   },
   {
    "duration": 22,
    "start_time": "2022-07-06T14:42:27.088Z"
   },
   {
    "duration": 31,
    "start_time": "2022-07-06T14:42:27.114Z"
   },
   {
    "duration": 317,
    "start_time": "2022-07-06T14:42:27.151Z"
   },
   {
    "duration": 218,
    "start_time": "2022-07-06T14:59:07.652Z"
   },
   {
    "duration": 52,
    "start_time": "2022-07-07T08:05:40.268Z"
   },
   {
    "duration": 1267,
    "start_time": "2022-07-07T08:05:49.871Z"
   },
   {
    "duration": 290,
    "start_time": "2022-07-07T08:05:51.140Z"
   },
   {
    "duration": 20,
    "start_time": "2022-07-07T08:05:51.432Z"
   },
   {
    "duration": 5,
    "start_time": "2022-07-07T08:05:51.454Z"
   },
   {
    "duration": 26,
    "start_time": "2022-07-07T08:05:51.461Z"
   },
   {
    "duration": 4,
    "start_time": "2022-07-07T08:05:51.489Z"
   },
   {
    "duration": 16,
    "start_time": "2022-07-07T08:05:51.494Z"
   },
   {
    "duration": 10,
    "start_time": "2022-07-07T08:05:51.511Z"
   },
   {
    "duration": 36,
    "start_time": "2022-07-07T08:05:51.523Z"
   },
   {
    "duration": 7,
    "start_time": "2022-07-07T08:05:51.563Z"
   },
   {
    "duration": 19,
    "start_time": "2022-07-07T08:05:51.572Z"
   },
   {
    "duration": 4,
    "start_time": "2022-07-07T08:05:51.592Z"
   },
   {
    "duration": 9,
    "start_time": "2022-07-07T08:05:51.597Z"
   },
   {
    "duration": 12,
    "start_time": "2022-07-07T08:05:51.608Z"
   },
   {
    "duration": 31,
    "start_time": "2022-07-07T08:05:51.622Z"
   },
   {
    "duration": 6,
    "start_time": "2022-07-07T08:05:51.655Z"
   },
   {
    "duration": 12,
    "start_time": "2022-07-07T08:05:51.663Z"
   },
   {
    "duration": 6,
    "start_time": "2022-07-07T08:05:51.676Z"
   },
   {
    "duration": 13,
    "start_time": "2022-07-07T08:05:51.684Z"
   },
   {
    "duration": 11,
    "start_time": "2022-07-07T08:05:51.699Z"
   },
   {
    "duration": 199,
    "start_time": "2022-07-07T08:05:51.712Z"
   },
   {
    "duration": 141,
    "start_time": "2022-07-07T08:05:51.913Z"
   },
   {
    "duration": 9,
    "start_time": "2022-07-07T08:05:52.058Z"
   },
   {
    "duration": 18,
    "start_time": "2022-07-07T08:05:52.071Z"
   },
   {
    "duration": 11,
    "start_time": "2022-07-07T08:05:52.091Z"
   },
   {
    "duration": 324,
    "start_time": "2022-07-07T08:05:52.104Z"
   },
   {
    "duration": 235,
    "start_time": "2022-07-07T08:05:52.430Z"
   },
   {
    "duration": 7,
    "start_time": "2022-07-07T08:05:52.669Z"
   },
   {
    "duration": 206,
    "start_time": "2022-07-07T08:08:28.765Z"
   },
   {
    "duration": 198,
    "start_time": "2022-07-07T08:08:43.667Z"
   },
   {
    "duration": 255,
    "start_time": "2022-07-07T08:08:58.497Z"
   },
   {
    "duration": 224,
    "start_time": "2022-07-07T08:09:02.587Z"
   },
   {
    "duration": 223,
    "start_time": "2022-07-07T08:09:24.625Z"
   },
   {
    "duration": 360,
    "start_time": "2022-07-07T08:12:12.961Z"
   },
   {
    "duration": 355,
    "start_time": "2022-07-07T08:22:16.462Z"
   },
   {
    "duration": 5,
    "start_time": "2022-07-07T08:22:57.980Z"
   },
   {
    "duration": 5,
    "start_time": "2022-07-07T08:23:29.520Z"
   },
   {
    "duration": 434,
    "start_time": "2022-07-07T08:23:34.778Z"
   },
   {
    "duration": 4,
    "start_time": "2022-07-07T08:25:17.867Z"
   },
   {
    "duration": 4,
    "start_time": "2022-07-07T08:25:33.553Z"
   },
   {
    "duration": 347,
    "start_time": "2022-07-07T08:26:31.252Z"
   },
   {
    "duration": 291,
    "start_time": "2022-07-07T08:26:51.506Z"
   },
   {
    "duration": 5,
    "start_time": "2022-07-07T08:27:48.247Z"
   },
   {
    "duration": 8,
    "start_time": "2022-07-07T08:27:58.866Z"
   },
   {
    "duration": 7,
    "start_time": "2022-07-07T08:34:43.022Z"
   },
   {
    "duration": 1231,
    "start_time": "2022-07-07T08:35:55.150Z"
   },
   {
    "duration": 88,
    "start_time": "2022-07-07T08:35:56.383Z"
   },
   {
    "duration": 22,
    "start_time": "2022-07-07T08:35:56.473Z"
   },
   {
    "duration": 5,
    "start_time": "2022-07-07T08:35:56.497Z"
   },
   {
    "duration": 20,
    "start_time": "2022-07-07T08:35:56.504Z"
   },
   {
    "duration": 6,
    "start_time": "2022-07-07T08:35:56.526Z"
   },
   {
    "duration": 32,
    "start_time": "2022-07-07T08:35:56.533Z"
   },
   {
    "duration": 13,
    "start_time": "2022-07-07T08:35:56.567Z"
   },
   {
    "duration": 10,
    "start_time": "2022-07-07T08:35:56.582Z"
   },
   {
    "duration": 17,
    "start_time": "2022-07-07T08:35:56.594Z"
   },
   {
    "duration": 18,
    "start_time": "2022-07-07T08:35:56.613Z"
   },
   {
    "duration": 4,
    "start_time": "2022-07-07T08:35:56.633Z"
   },
   {
    "duration": 14,
    "start_time": "2022-07-07T08:35:56.639Z"
   },
   {
    "duration": 28,
    "start_time": "2022-07-07T08:35:56.658Z"
   },
   {
    "duration": 16,
    "start_time": "2022-07-07T08:35:56.687Z"
   },
   {
    "duration": 9,
    "start_time": "2022-07-07T08:35:56.705Z"
   },
   {
    "duration": 13,
    "start_time": "2022-07-07T08:35:56.715Z"
   },
   {
    "duration": 10,
    "start_time": "2022-07-07T08:35:56.729Z"
   },
   {
    "duration": 32,
    "start_time": "2022-07-07T08:35:56.742Z"
   },
   {
    "duration": 14,
    "start_time": "2022-07-07T08:35:56.777Z"
   },
   {
    "duration": 191,
    "start_time": "2022-07-07T08:35:56.793Z"
   },
   {
    "duration": 145,
    "start_time": "2022-07-07T08:35:56.986Z"
   },
   {
    "duration": 6,
    "start_time": "2022-07-07T08:35:57.132Z"
   },
   {
    "duration": 35,
    "start_time": "2022-07-07T08:35:57.139Z"
   },
   {
    "duration": 8,
    "start_time": "2022-07-07T08:35:57.175Z"
   },
   {
    "duration": 331,
    "start_time": "2022-07-07T08:35:57.185Z"
   },
   {
    "duration": 253,
    "start_time": "2022-07-07T08:35:57.518Z"
   },
   {
    "duration": 6,
    "start_time": "2022-07-07T08:35:57.773Z"
   },
   {
    "duration": 335,
    "start_time": "2022-07-07T08:35:57.780Z"
   },
   {
    "duration": 6,
    "start_time": "2022-07-07T08:35:58.116Z"
   },
   {
    "duration": 10,
    "start_time": "2022-07-07T08:35:58.123Z"
   },
   {
    "duration": 1166,
    "start_time": "2022-07-07T08:36:35.072Z"
   },
   {
    "duration": 80,
    "start_time": "2022-07-07T08:36:36.241Z"
   },
   {
    "duration": 23,
    "start_time": "2022-07-07T08:36:36.323Z"
   },
   {
    "duration": 13,
    "start_time": "2022-07-07T08:36:36.348Z"
   },
   {
    "duration": 21,
    "start_time": "2022-07-07T08:36:36.363Z"
   },
   {
    "duration": 4,
    "start_time": "2022-07-07T08:36:36.385Z"
   },
   {
    "duration": 16,
    "start_time": "2022-07-07T08:36:36.390Z"
   },
   {
    "duration": 9,
    "start_time": "2022-07-07T08:36:36.407Z"
   },
   {
    "duration": 6,
    "start_time": "2022-07-07T08:36:36.417Z"
   },
   {
    "duration": 7,
    "start_time": "2022-07-07T08:36:36.424Z"
   },
   {
    "duration": 34,
    "start_time": "2022-07-07T08:36:36.432Z"
   },
   {
    "duration": 4,
    "start_time": "2022-07-07T08:36:36.468Z"
   },
   {
    "duration": 8,
    "start_time": "2022-07-07T08:36:36.474Z"
   },
   {
    "duration": 8,
    "start_time": "2022-07-07T08:36:36.485Z"
   },
   {
    "duration": 9,
    "start_time": "2022-07-07T08:36:36.495Z"
   },
   {
    "duration": 10,
    "start_time": "2022-07-07T08:36:36.506Z"
   },
   {
    "duration": 12,
    "start_time": "2022-07-07T08:36:36.519Z"
   },
   {
    "duration": 20,
    "start_time": "2022-07-07T08:36:36.533Z"
   },
   {
    "duration": 14,
    "start_time": "2022-07-07T08:36:36.554Z"
   },
   {
    "duration": 34,
    "start_time": "2022-07-07T08:36:36.569Z"
   },
   {
    "duration": 181,
    "start_time": "2022-07-07T08:36:36.605Z"
   },
   {
    "duration": 133,
    "start_time": "2022-07-07T08:36:36.787Z"
   },
   {
    "duration": 11,
    "start_time": "2022-07-07T08:36:36.922Z"
   },
   {
    "duration": 11,
    "start_time": "2022-07-07T08:36:36.934Z"
   },
   {
    "duration": 26,
    "start_time": "2022-07-07T08:36:36.946Z"
   },
   {
    "duration": 313,
    "start_time": "2022-07-07T08:36:36.974Z"
   },
   {
    "duration": 281,
    "start_time": "2022-07-07T08:36:37.289Z"
   },
   {
    "duration": 7,
    "start_time": "2022-07-07T08:36:37.573Z"
   },
   {
    "duration": 336,
    "start_time": "2022-07-07T08:36:37.582Z"
   },
   {
    "duration": 8,
    "start_time": "2022-07-07T08:36:37.919Z"
   },
   {
    "duration": 15,
    "start_time": "2022-07-07T08:36:37.928Z"
   },
   {
    "duration": 259,
    "start_time": "2022-07-07T08:38:57.948Z"
   },
   {
    "duration": 227,
    "start_time": "2022-07-07T08:40:13.068Z"
   },
   {
    "duration": 227,
    "start_time": "2022-07-07T08:45:50.752Z"
   },
   {
    "duration": 207,
    "start_time": "2022-07-07T08:47:23.494Z"
   },
   {
    "duration": 216,
    "start_time": "2022-07-07T08:48:47.721Z"
   },
   {
    "duration": 205,
    "start_time": "2022-07-07T08:49:51.283Z"
   },
   {
    "duration": 287,
    "start_time": "2022-07-07T08:49:59.189Z"
   },
   {
    "duration": 230,
    "start_time": "2022-07-07T08:58:33.862Z"
   },
   {
    "duration": 8,
    "start_time": "2022-07-07T09:00:48.424Z"
   },
   {
    "duration": 308,
    "start_time": "2022-07-07T09:04:22.857Z"
   },
   {
    "duration": 321,
    "start_time": "2022-07-07T09:04:47.580Z"
   },
   {
    "duration": 307,
    "start_time": "2022-07-07T09:08:03.489Z"
   },
   {
    "duration": 99,
    "start_time": "2022-07-07T09:34:46.919Z"
   },
   {
    "duration": 109,
    "start_time": "2022-07-07T09:36:28.226Z"
   },
   {
    "duration": 12,
    "start_time": "2022-07-07T09:37:07.264Z"
   },
   {
    "duration": 166,
    "start_time": "2022-07-07T09:42:40.293Z"
   },
   {
    "duration": 163,
    "start_time": "2022-07-07T09:42:59.771Z"
   },
   {
    "duration": 154,
    "start_time": "2022-07-07T09:44:25.247Z"
   },
   {
    "duration": 154,
    "start_time": "2022-07-07T09:45:05.811Z"
   },
   {
    "duration": 5,
    "start_time": "2022-07-07T09:51:45.264Z"
   },
   {
    "duration": 5,
    "start_time": "2022-07-07T09:52:38.094Z"
   },
   {
    "duration": 5,
    "start_time": "2022-07-07T09:52:48.503Z"
   },
   {
    "duration": 5,
    "start_time": "2022-07-07T09:52:57.584Z"
   },
   {
    "duration": 175,
    "start_time": "2022-07-07T10:03:28.173Z"
   },
   {
    "duration": 192,
    "start_time": "2022-07-07T10:04:25.846Z"
   },
   {
    "duration": 224,
    "start_time": "2022-07-07T10:05:32.662Z"
   },
   {
    "duration": 172,
    "start_time": "2022-07-07T10:05:42.069Z"
   },
   {
    "duration": 203,
    "start_time": "2022-07-07T10:06:24.490Z"
   },
   {
    "duration": 5,
    "start_time": "2022-07-07T10:07:45.165Z"
   },
   {
    "duration": 209,
    "start_time": "2022-07-07T10:08:05.509Z"
   },
   {
    "duration": 13,
    "start_time": "2022-07-07T10:08:46.350Z"
   },
   {
    "duration": 13,
    "start_time": "2022-07-07T10:09:09.223Z"
   },
   {
    "duration": 124,
    "start_time": "2022-07-07T10:09:31.850Z"
   },
   {
    "duration": 103,
    "start_time": "2022-07-07T10:09:40.671Z"
   },
   {
    "duration": 84,
    "start_time": "2022-07-07T10:09:49.513Z"
   },
   {
    "duration": 109,
    "start_time": "2022-07-07T10:10:04.239Z"
   },
   {
    "duration": 92,
    "start_time": "2022-07-07T10:10:11.747Z"
   },
   {
    "duration": 89,
    "start_time": "2022-07-07T10:10:19.221Z"
   },
   {
    "duration": 80,
    "start_time": "2022-07-07T10:10:24.203Z"
   },
   {
    "duration": 100,
    "start_time": "2022-07-07T10:10:32.699Z"
   },
   {
    "duration": 8,
    "start_time": "2022-07-07T10:10:36.820Z"
   },
   {
    "duration": 1168,
    "start_time": "2022-07-07T10:12:18.342Z"
   },
   {
    "duration": 80,
    "start_time": "2022-07-07T10:12:19.513Z"
   },
   {
    "duration": 21,
    "start_time": "2022-07-07T10:12:19.594Z"
   },
   {
    "duration": 20,
    "start_time": "2022-07-07T10:12:19.616Z"
   },
   {
    "duration": 34,
    "start_time": "2022-07-07T10:12:19.639Z"
   },
   {
    "duration": 30,
    "start_time": "2022-07-07T10:12:19.675Z"
   },
   {
    "duration": 27,
    "start_time": "2022-07-07T10:12:19.707Z"
   },
   {
    "duration": 17,
    "start_time": "2022-07-07T10:12:19.736Z"
   },
   {
    "duration": 29,
    "start_time": "2022-07-07T10:12:19.755Z"
   },
   {
    "duration": 33,
    "start_time": "2022-07-07T10:12:19.786Z"
   },
   {
    "duration": 16,
    "start_time": "2022-07-07T10:12:19.820Z"
   },
   {
    "duration": 42,
    "start_time": "2022-07-07T10:12:19.838Z"
   },
   {
    "duration": 34,
    "start_time": "2022-07-07T10:12:19.883Z"
   },
   {
    "duration": 30,
    "start_time": "2022-07-07T10:12:19.921Z"
   },
   {
    "duration": 39,
    "start_time": "2022-07-07T10:12:19.955Z"
   },
   {
    "duration": 22,
    "start_time": "2022-07-07T10:12:19.996Z"
   },
   {
    "duration": 23,
    "start_time": "2022-07-07T10:12:20.019Z"
   },
   {
    "duration": 29,
    "start_time": "2022-07-07T10:12:20.044Z"
   },
   {
    "duration": 48,
    "start_time": "2022-07-07T10:12:20.075Z"
   },
   {
    "duration": 50,
    "start_time": "2022-07-07T10:12:20.125Z"
   },
   {
    "duration": 183,
    "start_time": "2022-07-07T10:12:20.177Z"
   },
   {
    "duration": 146,
    "start_time": "2022-07-07T10:12:20.361Z"
   },
   {
    "duration": 6,
    "start_time": "2022-07-07T10:12:20.509Z"
   },
   {
    "duration": 12,
    "start_time": "2022-07-07T10:12:20.517Z"
   },
   {
    "duration": 64,
    "start_time": "2022-07-07T10:12:20.531Z"
   },
   {
    "duration": 361,
    "start_time": "2022-07-07T10:12:20.598Z"
   },
   {
    "duration": 242,
    "start_time": "2022-07-07T10:12:20.963Z"
   },
   {
    "duration": 6,
    "start_time": "2022-07-07T10:12:21.207Z"
   },
   {
    "duration": 396,
    "start_time": "2022-07-07T10:12:21.215Z"
   },
   {
    "duration": 6,
    "start_time": "2022-07-07T10:12:21.613Z"
   },
   {
    "duration": 13,
    "start_time": "2022-07-07T10:12:21.621Z"
   },
   {
    "duration": 259,
    "start_time": "2022-07-07T10:12:21.635Z"
   },
   {
    "duration": 8,
    "start_time": "2022-07-07T10:12:21.896Z"
   },
   {
    "duration": 375,
    "start_time": "2022-07-07T10:12:21.907Z"
   },
   {
    "duration": 13,
    "start_time": "2022-07-07T10:12:22.283Z"
   },
   {
    "duration": 184,
    "start_time": "2022-07-07T10:12:22.298Z"
   },
   {
    "duration": 6,
    "start_time": "2022-07-07T10:12:22.483Z"
   },
   {
    "duration": 214,
    "start_time": "2022-07-07T10:12:22.490Z"
   },
   {
    "duration": 6,
    "start_time": "2022-07-07T10:12:22.706Z"
   },
   {
    "duration": 4,
    "start_time": "2022-07-07T10:12:37.942Z"
   },
   {
    "duration": 125,
    "start_time": "2022-07-07T10:12:37.949Z"
   },
   {
    "duration": 16,
    "start_time": "2022-07-07T10:12:38.076Z"
   },
   {
    "duration": 10,
    "start_time": "2022-07-07T10:12:38.094Z"
   },
   {
    "duration": 37,
    "start_time": "2022-07-07T10:12:38.106Z"
   },
   {
    "duration": 30,
    "start_time": "2022-07-07T10:12:38.146Z"
   },
   {
    "duration": 21,
    "start_time": "2022-07-07T10:12:38.179Z"
   },
   {
    "duration": 14,
    "start_time": "2022-07-07T10:12:38.202Z"
   },
   {
    "duration": 7,
    "start_time": "2022-07-07T10:12:38.218Z"
   },
   {
    "duration": 12,
    "start_time": "2022-07-07T10:12:38.227Z"
   },
   {
    "duration": 32,
    "start_time": "2022-07-07T10:12:38.241Z"
   },
   {
    "duration": 26,
    "start_time": "2022-07-07T10:12:38.275Z"
   },
   {
    "duration": 34,
    "start_time": "2022-07-07T10:12:38.305Z"
   },
   {
    "duration": 38,
    "start_time": "2022-07-07T10:12:38.343Z"
   },
   {
    "duration": 33,
    "start_time": "2022-07-07T10:12:38.382Z"
   },
   {
    "duration": 17,
    "start_time": "2022-07-07T10:12:38.417Z"
   },
   {
    "duration": 28,
    "start_time": "2022-07-07T10:12:38.436Z"
   },
   {
    "duration": 29,
    "start_time": "2022-07-07T10:12:38.467Z"
   },
   {
    "duration": 15,
    "start_time": "2022-07-07T10:12:38.498Z"
   },
   {
    "duration": 30,
    "start_time": "2022-07-07T10:12:38.515Z"
   },
   {
    "duration": 191,
    "start_time": "2022-07-07T10:12:38.547Z"
   },
   {
    "duration": 168,
    "start_time": "2022-07-07T10:12:38.740Z"
   },
   {
    "duration": 7,
    "start_time": "2022-07-07T10:12:38.912Z"
   },
   {
    "duration": 22,
    "start_time": "2022-07-07T10:12:38.921Z"
   },
   {
    "duration": 46,
    "start_time": "2022-07-07T10:12:38.945Z"
   },
   {
    "duration": 280,
    "start_time": "2022-07-07T10:12:38.994Z"
   },
   {
    "duration": 311,
    "start_time": "2022-07-07T10:12:39.277Z"
   },
   {
    "duration": 6,
    "start_time": "2022-07-07T10:12:39.590Z"
   },
   {
    "duration": 323,
    "start_time": "2022-07-07T10:12:39.597Z"
   },
   {
    "duration": 8,
    "start_time": "2022-07-07T10:12:39.921Z"
   },
   {
    "duration": 40,
    "start_time": "2022-07-07T10:12:39.931Z"
   },
   {
    "duration": 237,
    "start_time": "2022-07-07T10:12:39.973Z"
   },
   {
    "duration": 8,
    "start_time": "2022-07-07T10:12:40.212Z"
   },
   {
    "duration": 412,
    "start_time": "2022-07-07T10:12:40.222Z"
   },
   {
    "duration": 34,
    "start_time": "2022-07-07T10:12:40.636Z"
   },
   {
    "duration": 164,
    "start_time": "2022-07-07T10:12:40.672Z"
   },
   {
    "duration": 5,
    "start_time": "2022-07-07T10:12:40.838Z"
   },
   {
    "duration": 176,
    "start_time": "2022-07-07T10:12:40.851Z"
   },
   {
    "duration": 5,
    "start_time": "2022-07-07T10:12:41.029Z"
   },
   {
    "duration": 1171,
    "start_time": "2022-07-07T10:13:20.347Z"
   },
   {
    "duration": 80,
    "start_time": "2022-07-07T10:13:21.520Z"
   },
   {
    "duration": 18,
    "start_time": "2022-07-07T10:13:21.601Z"
   },
   {
    "duration": 4,
    "start_time": "2022-07-07T10:13:21.621Z"
   },
   {
    "duration": 18,
    "start_time": "2022-07-07T10:13:21.627Z"
   },
   {
    "duration": 19,
    "start_time": "2022-07-07T10:13:21.646Z"
   },
   {
    "duration": 18,
    "start_time": "2022-07-07T10:13:21.667Z"
   },
   {
    "duration": 11,
    "start_time": "2022-07-07T10:13:21.686Z"
   },
   {
    "duration": 5,
    "start_time": "2022-07-07T10:13:21.699Z"
   },
   {
    "duration": 10,
    "start_time": "2022-07-07T10:13:21.706Z"
   },
   {
    "duration": 15,
    "start_time": "2022-07-07T10:13:21.718Z"
   },
   {
    "duration": 5,
    "start_time": "2022-07-07T10:13:21.735Z"
   },
   {
    "duration": 18,
    "start_time": "2022-07-07T10:13:21.752Z"
   },
   {
    "duration": 13,
    "start_time": "2022-07-07T10:13:21.773Z"
   },
   {
    "duration": 8,
    "start_time": "2022-07-07T10:13:21.787Z"
   },
   {
    "duration": 10,
    "start_time": "2022-07-07T10:13:21.797Z"
   },
   {
    "duration": 21,
    "start_time": "2022-07-07T10:13:21.809Z"
   },
   {
    "duration": 8,
    "start_time": "2022-07-07T10:13:21.832Z"
   },
   {
    "duration": 19,
    "start_time": "2022-07-07T10:13:21.842Z"
   },
   {
    "duration": 18,
    "start_time": "2022-07-07T10:13:21.864Z"
   },
   {
    "duration": 176,
    "start_time": "2022-07-07T10:13:21.884Z"
   },
   {
    "duration": 137,
    "start_time": "2022-07-07T10:13:22.066Z"
   },
   {
    "duration": 6,
    "start_time": "2022-07-07T10:13:22.204Z"
   },
   {
    "duration": 14,
    "start_time": "2022-07-07T10:13:22.212Z"
   },
   {
    "duration": 8,
    "start_time": "2022-07-07T10:13:22.228Z"
   },
   {
    "duration": 320,
    "start_time": "2022-07-07T10:13:22.237Z"
   },
   {
    "duration": 264,
    "start_time": "2022-07-07T10:13:22.558Z"
   },
   {
    "duration": 6,
    "start_time": "2022-07-07T10:13:22.824Z"
   },
   {
    "duration": 364,
    "start_time": "2022-07-07T10:13:22.831Z"
   },
   {
    "duration": 6,
    "start_time": "2022-07-07T10:13:23.197Z"
   },
   {
    "duration": 12,
    "start_time": "2022-07-07T10:13:23.204Z"
   },
   {
    "duration": 262,
    "start_time": "2022-07-07T10:13:23.218Z"
   },
   {
    "duration": 8,
    "start_time": "2022-07-07T10:13:23.482Z"
   },
   {
    "duration": 321,
    "start_time": "2022-07-07T10:13:23.491Z"
   },
   {
    "duration": 13,
    "start_time": "2022-07-07T10:13:23.813Z"
   },
   {
    "duration": 178,
    "start_time": "2022-07-07T10:13:23.827Z"
   },
   {
    "duration": 5,
    "start_time": "2022-07-07T10:13:24.007Z"
   },
   {
    "duration": 198,
    "start_time": "2022-07-07T10:13:24.014Z"
   },
   {
    "duration": 5,
    "start_time": "2022-07-07T10:13:24.214Z"
   },
   {
    "duration": 154,
    "start_time": "2022-07-07T10:14:15.304Z"
   },
   {
    "duration": 369,
    "start_time": "2022-07-07T10:16:48.241Z"
   },
   {
    "duration": 280,
    "start_time": "2022-07-07T10:17:15.307Z"
   },
   {
    "duration": 287,
    "start_time": "2022-07-07T10:19:05.375Z"
   },
   {
    "duration": 281,
    "start_time": "2022-07-07T10:19:23.505Z"
   },
   {
    "duration": 1145,
    "start_time": "2022-07-07T10:20:31.177Z"
   },
   {
    "duration": 100,
    "start_time": "2022-07-07T10:20:32.324Z"
   },
   {
    "duration": 50,
    "start_time": "2022-07-07T10:20:32.427Z"
   },
   {
    "duration": 7,
    "start_time": "2022-07-07T10:20:32.480Z"
   },
   {
    "duration": 36,
    "start_time": "2022-07-07T10:20:32.490Z"
   },
   {
    "duration": 7,
    "start_time": "2022-07-07T10:20:32.529Z"
   },
   {
    "duration": 21,
    "start_time": "2022-07-07T10:20:32.538Z"
   },
   {
    "duration": 48,
    "start_time": "2022-07-07T10:20:32.564Z"
   },
   {
    "duration": 24,
    "start_time": "2022-07-07T10:20:32.614Z"
   },
   {
    "duration": 45,
    "start_time": "2022-07-07T10:20:32.640Z"
   },
   {
    "duration": 20,
    "start_time": "2022-07-07T10:20:32.687Z"
   },
   {
    "duration": 9,
    "start_time": "2022-07-07T10:20:32.709Z"
   },
   {
    "duration": 16,
    "start_time": "2022-07-07T10:20:32.720Z"
   },
   {
    "duration": 26,
    "start_time": "2022-07-07T10:20:32.740Z"
   },
   {
    "duration": 28,
    "start_time": "2022-07-07T10:20:32.769Z"
   },
   {
    "duration": 11,
    "start_time": "2022-07-07T10:20:32.801Z"
   },
   {
    "duration": 18,
    "start_time": "2022-07-07T10:20:32.813Z"
   },
   {
    "duration": 10,
    "start_time": "2022-07-07T10:20:32.833Z"
   },
   {
    "duration": 35,
    "start_time": "2022-07-07T10:20:32.845Z"
   },
   {
    "duration": 22,
    "start_time": "2022-07-07T10:20:32.886Z"
   },
   {
    "duration": 192,
    "start_time": "2022-07-07T10:20:32.910Z"
   },
   {
    "duration": 176,
    "start_time": "2022-07-07T10:20:33.104Z"
   },
   {
    "duration": 7,
    "start_time": "2022-07-07T10:20:33.281Z"
   },
   {
    "duration": 13,
    "start_time": "2022-07-07T10:20:33.290Z"
   },
   {
    "duration": 10,
    "start_time": "2022-07-07T10:20:33.305Z"
   },
   {
    "duration": 366,
    "start_time": "2022-07-07T10:20:33.318Z"
   },
   {
    "duration": 279,
    "start_time": "2022-07-07T10:20:33.686Z"
   },
   {
    "duration": 8,
    "start_time": "2022-07-07T10:20:33.967Z"
   },
   {
    "duration": 351,
    "start_time": "2022-07-07T10:20:33.979Z"
   },
   {
    "duration": 7,
    "start_time": "2022-07-07T10:20:34.332Z"
   },
   {
    "duration": 49,
    "start_time": "2022-07-07T10:20:34.341Z"
   },
   {
    "duration": 259,
    "start_time": "2022-07-07T10:20:34.393Z"
   },
   {
    "duration": 14,
    "start_time": "2022-07-07T10:20:34.658Z"
   },
   {
    "duration": 338,
    "start_time": "2022-07-07T10:20:34.674Z"
   },
   {
    "duration": 17,
    "start_time": "2022-07-07T10:20:35.016Z"
   },
   {
    "duration": 195,
    "start_time": "2022-07-07T10:20:35.035Z"
   },
   {
    "duration": 6,
    "start_time": "2022-07-07T10:20:35.233Z"
   },
   {
    "duration": 190,
    "start_time": "2022-07-07T10:20:35.253Z"
   },
   {
    "duration": 205,
    "start_time": "2022-07-07T10:20:49.691Z"
   },
   {
    "duration": 266,
    "start_time": "2022-07-07T10:21:00.879Z"
   },
   {
    "duration": 234,
    "start_time": "2022-07-07T10:21:13.368Z"
   },
   {
    "duration": 101,
    "start_time": "2022-07-07T10:24:04.065Z"
   },
   {
    "duration": 8,
    "start_time": "2022-07-07T10:24:21.213Z"
   },
   {
    "duration": 6,
    "start_time": "2022-07-07T10:25:05.692Z"
   },
   {
    "duration": 6,
    "start_time": "2022-07-07T10:25:39.609Z"
   },
   {
    "duration": 7,
    "start_time": "2022-07-07T10:25:49.026Z"
   },
   {
    "duration": 11,
    "start_time": "2022-07-07T10:28:36.171Z"
   },
   {
    "duration": 7,
    "start_time": "2022-07-07T10:31:56.617Z"
   },
   {
    "duration": 6,
    "start_time": "2022-07-07T10:47:42.796Z"
   },
   {
    "duration": 7,
    "start_time": "2022-07-07T10:48:04.009Z"
   },
   {
    "duration": 14,
    "start_time": "2022-07-07T10:48:12.918Z"
   },
   {
    "duration": 13,
    "start_time": "2022-07-07T10:48:21.084Z"
   },
   {
    "duration": 14,
    "start_time": "2022-07-07T10:48:25.911Z"
   },
   {
    "duration": 6,
    "start_time": "2022-07-07T10:48:37.152Z"
   },
   {
    "duration": 45,
    "start_time": "2022-07-07T10:50:40.595Z"
   },
   {
    "duration": 74,
    "start_time": "2022-07-07T10:51:17.197Z"
   },
   {
    "duration": 50,
    "start_time": "2022-07-07T10:51:25.815Z"
   },
   {
    "duration": 63,
    "start_time": "2022-07-07T10:52:24.367Z"
   },
   {
    "duration": 67,
    "start_time": "2022-07-07T10:52:40.792Z"
   },
   {
    "duration": 65,
    "start_time": "2022-07-07T10:53:05.416Z"
   },
   {
    "duration": 99,
    "start_time": "2022-07-07T10:53:14.607Z"
   },
   {
    "duration": 104,
    "start_time": "2022-07-07T10:53:23.312Z"
   },
   {
    "duration": 104,
    "start_time": "2022-07-07T10:53:31.139Z"
   },
   {
    "duration": 106,
    "start_time": "2022-07-07T10:53:38.515Z"
   },
   {
    "duration": 118,
    "start_time": "2022-07-07T10:53:45.345Z"
   },
   {
    "duration": 1128,
    "start_time": "2022-07-07T10:54:01.148Z"
   },
   {
    "duration": 80,
    "start_time": "2022-07-07T10:54:02.277Z"
   },
   {
    "duration": 21,
    "start_time": "2022-07-07T10:54:02.359Z"
   },
   {
    "duration": 16,
    "start_time": "2022-07-07T10:54:02.382Z"
   },
   {
    "duration": 26,
    "start_time": "2022-07-07T10:54:02.399Z"
   },
   {
    "duration": 5,
    "start_time": "2022-07-07T10:54:02.427Z"
   },
   {
    "duration": 32,
    "start_time": "2022-07-07T10:54:02.434Z"
   },
   {
    "duration": 14,
    "start_time": "2022-07-07T10:54:02.468Z"
   },
   {
    "duration": 7,
    "start_time": "2022-07-07T10:54:02.484Z"
   },
   {
    "duration": 12,
    "start_time": "2022-07-07T10:54:02.494Z"
   },
   {
    "duration": 44,
    "start_time": "2022-07-07T10:54:02.508Z"
   },
   {
    "duration": 4,
    "start_time": "2022-07-07T10:54:02.554Z"
   },
   {
    "duration": 11,
    "start_time": "2022-07-07T10:54:02.559Z"
   },
   {
    "duration": 15,
    "start_time": "2022-07-07T10:54:02.571Z"
   },
   {
    "duration": 56,
    "start_time": "2022-07-07T10:54:02.588Z"
   },
   {
    "duration": 9,
    "start_time": "2022-07-07T10:54:02.646Z"
   },
   {
    "duration": 14,
    "start_time": "2022-07-07T10:54:02.658Z"
   },
   {
    "duration": 7,
    "start_time": "2022-07-07T10:54:02.674Z"
   },
   {
    "duration": 23,
    "start_time": "2022-07-07T10:54:02.684Z"
   },
   {
    "duration": 28,
    "start_time": "2022-07-07T10:54:02.709Z"
   },
   {
    "duration": 191,
    "start_time": "2022-07-07T10:54:02.739Z"
   },
   {
    "duration": 153,
    "start_time": "2022-07-07T10:54:02.932Z"
   },
   {
    "duration": 7,
    "start_time": "2022-07-07T10:54:03.087Z"
   },
   {
    "duration": 37,
    "start_time": "2022-07-07T10:54:03.096Z"
   },
   {
    "duration": 9,
    "start_time": "2022-07-07T10:54:03.135Z"
   },
   {
    "duration": 306,
    "start_time": "2022-07-07T10:54:03.146Z"
   },
   {
    "duration": 252,
    "start_time": "2022-07-07T10:54:03.454Z"
   },
   {
    "duration": 6,
    "start_time": "2022-07-07T10:54:03.711Z"
   },
   {
    "duration": 385,
    "start_time": "2022-07-07T10:54:03.719Z"
   },
   {
    "duration": 9,
    "start_time": "2022-07-07T10:54:04.106Z"
   },
   {
    "duration": 19,
    "start_time": "2022-07-07T10:54:04.117Z"
   },
   {
    "duration": 262,
    "start_time": "2022-07-07T10:54:04.138Z"
   },
   {
    "duration": 11,
    "start_time": "2022-07-07T10:54:04.402Z"
   },
   {
    "duration": 393,
    "start_time": "2022-07-07T10:54:04.416Z"
   },
   {
    "duration": 26,
    "start_time": "2022-07-07T10:54:04.811Z"
   },
   {
    "duration": 189,
    "start_time": "2022-07-07T10:54:04.839Z"
   },
   {
    "duration": 6,
    "start_time": "2022-07-07T10:54:05.030Z"
   },
   {
    "duration": 218,
    "start_time": "2022-07-07T10:54:05.038Z"
   },
   {
    "duration": 6,
    "start_time": "2022-07-07T10:54:05.258Z"
   },
   {
    "duration": 16,
    "start_time": "2022-07-07T10:54:05.266Z"
   },
   {
    "duration": 99,
    "start_time": "2022-07-07T10:54:05.283Z"
   },
   {
    "duration": 89,
    "start_time": "2022-07-07T10:54:44.981Z"
   },
   {
    "duration": 26,
    "start_time": "2022-07-07T10:56:08.541Z"
   },
   {
    "duration": 27,
    "start_time": "2022-07-07T10:56:18.153Z"
   },
   {
    "duration": 18,
    "start_time": "2022-07-07T10:56:55.868Z"
   },
   {
    "duration": 21,
    "start_time": "2022-07-07T10:57:48.115Z"
   },
   {
    "duration": 21,
    "start_time": "2022-07-07T10:58:10.924Z"
   },
   {
    "duration": 128,
    "start_time": "2022-07-07T10:58:52.576Z"
   },
   {
    "duration": 53,
    "start_time": "2022-07-07T11:01:17.019Z"
   },
   {
    "duration": 77,
    "start_time": "2022-07-07T11:01:24.483Z"
   },
   {
    "duration": 95,
    "start_time": "2022-07-07T11:02:05.296Z"
   },
   {
    "duration": 110,
    "start_time": "2022-07-07T11:02:13.953Z"
   },
   {
    "duration": 33,
    "start_time": "2022-07-07T11:05:05.823Z"
   },
   {
    "duration": 30,
    "start_time": "2022-07-07T11:05:24.430Z"
   },
   {
    "duration": 29,
    "start_time": "2022-07-07T11:05:37.457Z"
   },
   {
    "duration": 28,
    "start_time": "2022-07-07T11:09:23.821Z"
   },
   {
    "duration": 13,
    "start_time": "2022-07-07T11:11:28.761Z"
   },
   {
    "duration": 14,
    "start_time": "2022-07-07T11:12:23.255Z"
   },
   {
    "duration": 20,
    "start_time": "2022-07-07T11:13:18.074Z"
   },
   {
    "duration": 25,
    "start_time": "2022-07-07T11:15:47.366Z"
   },
   {
    "duration": 17,
    "start_time": "2022-07-07T11:16:02.350Z"
   },
   {
    "duration": 12,
    "start_time": "2022-07-07T11:16:08.920Z"
   },
   {
    "duration": 4,
    "start_time": "2022-07-07T13:28:15.298Z"
   },
   {
    "duration": 6,
    "start_time": "2022-07-07T13:28:31.178Z"
   },
   {
    "duration": 9,
    "start_time": "2022-07-07T13:29:44.250Z"
   },
   {
    "duration": 5,
    "start_time": "2022-07-07T13:31:21.949Z"
   },
   {
    "duration": 6,
    "start_time": "2022-07-07T13:31:34.337Z"
   },
   {
    "duration": 6,
    "start_time": "2022-07-07T13:31:44.890Z"
   },
   {
    "duration": 7,
    "start_time": "2022-07-07T13:32:21.973Z"
   },
   {
    "duration": 89,
    "start_time": "2022-07-07T13:32:38.378Z"
   },
   {
    "duration": 14,
    "start_time": "2022-07-07T13:32:49.665Z"
   },
   {
    "duration": 8,
    "start_time": "2022-07-07T13:32:57.271Z"
   },
   {
    "duration": 7,
    "start_time": "2022-07-07T13:33:06.501Z"
   },
   {
    "duration": 7,
    "start_time": "2022-07-07T13:33:16.502Z"
   },
   {
    "duration": 8,
    "start_time": "2022-07-07T13:33:24.191Z"
   },
   {
    "duration": 5,
    "start_time": "2022-07-07T13:35:17.534Z"
   },
   {
    "duration": 6,
    "start_time": "2022-07-07T13:35:33.095Z"
   },
   {
    "duration": 5,
    "start_time": "2022-07-07T13:35:43.021Z"
   },
   {
    "duration": 7,
    "start_time": "2022-07-07T13:39:24.627Z"
   },
   {
    "duration": 5,
    "start_time": "2022-07-07T13:51:56.907Z"
   },
   {
    "duration": 6,
    "start_time": "2022-07-07T13:52:19.202Z"
   },
   {
    "duration": 2,
    "start_time": "2022-07-07T13:58:18.671Z"
   },
   {
    "duration": 26,
    "start_time": "2022-07-07T13:59:42.206Z"
   },
   {
    "duration": 22,
    "start_time": "2022-07-07T14:01:25.264Z"
   },
   {
    "duration": 21,
    "start_time": "2022-07-07T14:02:18.171Z"
   },
   {
    "duration": 18,
    "start_time": "2022-07-07T14:02:37.591Z"
   },
   {
    "duration": 20,
    "start_time": "2022-07-07T14:02:41.869Z"
   },
   {
    "duration": 72,
    "start_time": "2022-07-07T14:03:19.863Z"
   },
   {
    "duration": 69,
    "start_time": "2022-07-07T14:03:26.255Z"
   },
   {
    "duration": 20,
    "start_time": "2022-07-07T14:03:51.044Z"
   },
   {
    "duration": 23,
    "start_time": "2022-07-07T14:04:09.169Z"
   },
   {
    "duration": 78,
    "start_time": "2022-07-07T14:04:28.987Z"
   },
   {
    "duration": 23,
    "start_time": "2022-07-07T14:05:55.825Z"
   },
   {
    "duration": 17,
    "start_time": "2022-07-07T14:06:03.326Z"
   },
   {
    "duration": 9,
    "start_time": "2022-07-07T14:09:19.457Z"
   },
   {
    "duration": 20,
    "start_time": "2022-07-07T14:09:27.004Z"
   },
   {
    "duration": 9,
    "start_time": "2022-07-07T14:09:27.680Z"
   },
   {
    "duration": 3,
    "start_time": "2022-07-07T14:09:36.695Z"
   },
   {
    "duration": 19,
    "start_time": "2022-07-07T14:11:24.807Z"
   },
   {
    "duration": 19,
    "start_time": "2022-07-07T14:13:32.209Z"
   },
   {
    "duration": 78,
    "start_time": "2022-07-07T14:14:16.470Z"
   },
   {
    "duration": 76,
    "start_time": "2022-07-07T14:14:20.746Z"
   },
   {
    "duration": 36,
    "start_time": "2022-07-07T14:14:51.496Z"
   },
   {
    "duration": 23,
    "start_time": "2022-07-07T14:15:18.689Z"
   },
   {
    "duration": 20,
    "start_time": "2022-07-07T14:15:45.378Z"
   },
   {
    "duration": 21,
    "start_time": "2022-07-07T14:16:00.719Z"
   },
   {
    "duration": 22,
    "start_time": "2022-07-07T14:16:10.956Z"
   },
   {
    "duration": 19,
    "start_time": "2022-07-07T14:17:43.908Z"
   },
   {
    "duration": 18,
    "start_time": "2022-07-07T14:18:09.645Z"
   },
   {
    "duration": 18,
    "start_time": "2022-07-07T14:18:23.058Z"
   },
   {
    "duration": 22,
    "start_time": "2022-07-07T14:19:02.278Z"
   },
   {
    "duration": 16,
    "start_time": "2022-07-07T14:19:20.429Z"
   },
   {
    "duration": 3,
    "start_time": "2022-07-07T14:27:19.009Z"
   },
   {
    "duration": 2,
    "start_time": "2022-07-07T14:29:31.955Z"
   },
   {
    "duration": 9,
    "start_time": "2022-07-07T14:30:38.560Z"
   },
   {
    "duration": 8,
    "start_time": "2022-07-07T14:30:51.913Z"
   },
   {
    "duration": 12,
    "start_time": "2022-07-07T14:31:19.395Z"
   },
   {
    "duration": 12,
    "start_time": "2022-07-07T14:33:18.259Z"
   },
   {
    "duration": 1398,
    "start_time": "2022-07-07T14:49:31.426Z"
   },
   {
    "duration": 1730,
    "start_time": "2022-07-07T14:51:12.039Z"
   },
   {
    "duration": 7,
    "start_time": "2022-07-07T14:51:48.541Z"
   },
   {
    "duration": 6,
    "start_time": "2022-07-07T14:53:30.390Z"
   },
   {
    "duration": 5,
    "start_time": "2022-07-07T14:54:41.183Z"
   },
   {
    "duration": 4,
    "start_time": "2022-07-07T14:54:48.408Z"
   },
   {
    "duration": 4,
    "start_time": "2022-07-07T14:54:59.103Z"
   },
   {
    "duration": 4,
    "start_time": "2022-07-07T14:56:47.544Z"
   },
   {
    "duration": 3,
    "start_time": "2022-07-07T14:56:56.350Z"
   },
   {
    "duration": 4,
    "start_time": "2022-07-07T14:57:23.350Z"
   },
   {
    "duration": 3,
    "start_time": "2022-07-07T14:57:32.951Z"
   },
   {
    "duration": 6,
    "start_time": "2022-07-07T14:57:52.206Z"
   },
   {
    "duration": 4,
    "start_time": "2022-07-07T14:58:11.912Z"
   },
   {
    "duration": 4,
    "start_time": "2022-07-07T15:01:48.353Z"
   },
   {
    "duration": 3,
    "start_time": "2022-07-07T17:25:56.580Z"
   },
   {
    "duration": 4,
    "start_time": "2022-07-07T17:26:02.387Z"
   },
   {
    "duration": 7,
    "start_time": "2022-07-07T17:28:33.488Z"
   },
   {
    "duration": 6,
    "start_time": "2022-07-07T17:29:32.719Z"
   },
   {
    "duration": 9,
    "start_time": "2022-07-07T17:30:22.124Z"
   },
   {
    "duration": 14,
    "start_time": "2022-07-07T17:30:31.782Z"
   },
   {
    "duration": 10,
    "start_time": "2022-07-07T17:31:02.322Z"
   },
   {
    "duration": 7,
    "start_time": "2022-07-07T17:31:27.791Z"
   },
   {
    "duration": 23,
    "start_time": "2022-07-07T17:33:25.482Z"
   },
   {
    "duration": 24,
    "start_time": "2022-07-07T17:36:27.486Z"
   },
   {
    "duration": 1230,
    "start_time": "2022-07-07T17:38:38.205Z"
   },
   {
    "duration": 93,
    "start_time": "2022-07-07T17:38:39.437Z"
   },
   {
    "duration": 19,
    "start_time": "2022-07-07T17:38:39.532Z"
   },
   {
    "duration": 6,
    "start_time": "2022-07-07T17:38:39.552Z"
   },
   {
    "duration": 58,
    "start_time": "2022-07-07T17:38:39.561Z"
   },
   {
    "duration": 4,
    "start_time": "2022-07-07T17:38:39.621Z"
   },
   {
    "duration": 14,
    "start_time": "2022-07-07T17:38:39.626Z"
   },
   {
    "duration": 16,
    "start_time": "2022-07-07T17:38:39.642Z"
   },
   {
    "duration": 37,
    "start_time": "2022-07-07T17:38:39.660Z"
   },
   {
    "duration": 9,
    "start_time": "2022-07-07T17:38:39.699Z"
   },
   {
    "duration": 16,
    "start_time": "2022-07-07T17:38:39.710Z"
   },
   {
    "duration": 7,
    "start_time": "2022-07-07T17:38:39.727Z"
   },
   {
    "duration": 8,
    "start_time": "2022-07-07T17:38:39.736Z"
   },
   {
    "duration": 29,
    "start_time": "2022-07-07T17:38:39.747Z"
   },
   {
    "duration": 30,
    "start_time": "2022-07-07T17:38:39.777Z"
   },
   {
    "duration": 9,
    "start_time": "2022-07-07T17:38:39.808Z"
   },
   {
    "duration": 14,
    "start_time": "2022-07-07T17:38:39.819Z"
   },
   {
    "duration": 6,
    "start_time": "2022-07-07T17:38:39.835Z"
   },
   {
    "duration": 11,
    "start_time": "2022-07-07T17:38:39.843Z"
   },
   {
    "duration": 14,
    "start_time": "2022-07-07T17:38:39.857Z"
   },
   {
    "duration": 214,
    "start_time": "2022-07-07T17:38:39.872Z"
   },
   {
    "duration": 133,
    "start_time": "2022-07-07T17:38:40.092Z"
   },
   {
    "duration": 8,
    "start_time": "2022-07-07T17:38:40.227Z"
   },
   {
    "duration": 16,
    "start_time": "2022-07-07T17:38:40.237Z"
   },
   {
    "duration": 46,
    "start_time": "2022-07-07T17:38:40.254Z"
   },
   {
    "duration": 339,
    "start_time": "2022-07-07T17:38:40.302Z"
   },
   {
    "duration": 266,
    "start_time": "2022-07-07T17:38:40.643Z"
   },
   {
    "duration": 6,
    "start_time": "2022-07-07T17:38:40.911Z"
   },
   {
    "duration": 384,
    "start_time": "2022-07-07T17:38:40.919Z"
   },
   {
    "duration": 6,
    "start_time": "2022-07-07T17:38:41.304Z"
   },
   {
    "duration": 11,
    "start_time": "2022-07-07T17:38:41.312Z"
   },
   {
    "duration": 269,
    "start_time": "2022-07-07T17:38:41.324Z"
   },
   {
    "duration": 8,
    "start_time": "2022-07-07T17:38:41.594Z"
   },
   {
    "duration": 318,
    "start_time": "2022-07-07T17:38:41.603Z"
   },
   {
    "duration": 14,
    "start_time": "2022-07-07T17:38:41.923Z"
   },
   {
    "duration": 194,
    "start_time": "2022-07-07T17:38:41.939Z"
   },
   {
    "duration": 6,
    "start_time": "2022-07-07T17:38:42.134Z"
   },
   {
    "duration": 199,
    "start_time": "2022-07-07T17:38:42.141Z"
   },
   {
    "duration": 15,
    "start_time": "2022-07-07T17:38:42.342Z"
   },
   {
    "duration": 14,
    "start_time": "2022-07-07T17:38:42.370Z"
   },
   {
    "duration": 97,
    "start_time": "2022-07-07T17:38:42.394Z"
   },
   {
    "duration": 17,
    "start_time": "2022-07-07T17:38:42.498Z"
   },
   {
    "duration": 120,
    "start_time": "2022-07-07T17:38:42.517Z"
   },
   {
    "duration": 54,
    "start_time": "2022-07-07T17:38:42.639Z"
   },
   {
    "duration": 13,
    "start_time": "2022-07-07T17:38:42.695Z"
   },
   {
    "duration": 6,
    "start_time": "2022-07-07T17:38:42.710Z"
   },
   {
    "duration": 22,
    "start_time": "2022-07-07T17:38:42.718Z"
   },
   {
    "duration": 31,
    "start_time": "2022-07-07T17:38:42.741Z"
   },
   {
    "duration": 22,
    "start_time": "2022-07-07T17:38:42.775Z"
   },
   {
    "duration": 6,
    "start_time": "2022-07-07T17:38:42.799Z"
   },
   {
    "duration": 6,
    "start_time": "2022-07-07T17:38:42.807Z"
   },
   {
    "duration": 5,
    "start_time": "2022-07-07T17:38:42.815Z"
   },
   {
    "duration": 9,
    "start_time": "2022-07-07T17:38:42.822Z"
   },
   {
    "duration": 30,
    "start_time": "2022-07-07T17:38:42.833Z"
   },
   {
    "duration": 9,
    "start_time": "2022-07-07T17:38:52.016Z"
   },
   {
    "duration": 148,
    "start_time": "2022-07-07T17:48:56.156Z"
   },
   {
    "duration": 18,
    "start_time": "2022-07-07T18:23:10.265Z"
   },
   {
    "duration": 16,
    "start_time": "2022-07-07T18:23:39.101Z"
   },
   {
    "duration": 87,
    "start_time": "2022-07-08T05:44:44.205Z"
   },
   {
    "duration": 44,
    "start_time": "2022-07-08T05:44:57.948Z"
   },
   {
    "duration": 1235,
    "start_time": "2022-07-08T05:45:12.911Z"
   },
   {
    "duration": 246,
    "start_time": "2022-07-08T05:45:14.149Z"
   },
   {
    "duration": 19,
    "start_time": "2022-07-08T05:45:14.397Z"
   },
   {
    "duration": 5,
    "start_time": "2022-07-08T05:45:14.418Z"
   },
   {
    "duration": 18,
    "start_time": "2022-07-08T05:45:14.425Z"
   },
   {
    "duration": 11,
    "start_time": "2022-07-08T05:45:14.444Z"
   },
   {
    "duration": 15,
    "start_time": "2022-07-08T05:45:14.457Z"
   },
   {
    "duration": 9,
    "start_time": "2022-07-08T05:45:14.474Z"
   },
   {
    "duration": 5,
    "start_time": "2022-07-08T05:45:14.504Z"
   },
   {
    "duration": 8,
    "start_time": "2022-07-08T05:45:14.511Z"
   },
   {
    "duration": 16,
    "start_time": "2022-07-08T05:45:14.521Z"
   },
   {
    "duration": 6,
    "start_time": "2022-07-08T05:45:14.538Z"
   },
   {
    "duration": 15,
    "start_time": "2022-07-08T05:45:14.546Z"
   },
   {
    "duration": 9,
    "start_time": "2022-07-08T05:45:14.563Z"
   },
   {
    "duration": 6,
    "start_time": "2022-07-08T05:45:14.574Z"
   },
   {
    "duration": 26,
    "start_time": "2022-07-08T05:45:14.581Z"
   },
   {
    "duration": 11,
    "start_time": "2022-07-08T05:45:14.608Z"
   },
   {
    "duration": 6,
    "start_time": "2022-07-08T05:45:14.620Z"
   },
   {
    "duration": 12,
    "start_time": "2022-07-08T05:45:14.627Z"
   },
   {
    "duration": 10,
    "start_time": "2022-07-08T05:45:14.640Z"
   },
   {
    "duration": 179,
    "start_time": "2022-07-08T05:45:14.652Z"
   },
   {
    "duration": 123,
    "start_time": "2022-07-08T05:45:14.833Z"
   },
   {
    "duration": 6,
    "start_time": "2022-07-08T05:45:14.957Z"
   },
   {
    "duration": 11,
    "start_time": "2022-07-08T05:45:14.964Z"
   },
   {
    "duration": 7,
    "start_time": "2022-07-08T05:45:14.976Z"
   },
   {
    "duration": 316,
    "start_time": "2022-07-08T05:45:14.984Z"
   },
   {
    "duration": 234,
    "start_time": "2022-07-08T05:45:15.304Z"
   },
   {
    "duration": 5,
    "start_time": "2022-07-08T05:45:15.541Z"
   },
   {
    "duration": 424,
    "start_time": "2022-07-08T05:45:15.548Z"
   },
   {
    "duration": 6,
    "start_time": "2022-07-08T05:45:15.974Z"
   },
   {
    "duration": 22,
    "start_time": "2022-07-08T05:45:15.982Z"
   },
   {
    "duration": 276,
    "start_time": "2022-07-08T05:45:16.006Z"
   },
   {
    "duration": 8,
    "start_time": "2022-07-08T05:45:16.284Z"
   },
   {
    "duration": 375,
    "start_time": "2022-07-08T05:45:16.304Z"
   },
   {
    "duration": 24,
    "start_time": "2022-07-08T05:45:16.681Z"
   },
   {
    "duration": 158,
    "start_time": "2022-07-08T05:45:16.706Z"
   },
   {
    "duration": 6,
    "start_time": "2022-07-08T05:45:16.865Z"
   },
   {
    "duration": 177,
    "start_time": "2022-07-08T05:45:16.872Z"
   },
   {
    "duration": 5,
    "start_time": "2022-07-08T05:45:17.050Z"
   },
   {
    "duration": 12,
    "start_time": "2022-07-08T05:45:17.056Z"
   },
   {
    "duration": 87,
    "start_time": "2022-07-08T05:45:17.070Z"
   },
   {
    "duration": 15,
    "start_time": "2022-07-08T05:45:17.159Z"
   },
   {
    "duration": 91,
    "start_time": "2022-07-08T05:45:17.175Z"
   },
   {
    "duration": 24,
    "start_time": "2022-07-08T05:45:17.267Z"
   },
   {
    "duration": 16,
    "start_time": "2022-07-08T05:45:17.293Z"
   },
   {
    "duration": 5,
    "start_time": "2022-07-08T05:45:17.311Z"
   },
   {
    "duration": 22,
    "start_time": "2022-07-08T05:45:17.318Z"
   },
   {
    "duration": 10,
    "start_time": "2022-07-08T05:45:17.342Z"
   },
   {
    "duration": 5,
    "start_time": "2022-07-08T05:45:17.355Z"
   },
   {
    "duration": 9,
    "start_time": "2022-07-08T05:45:17.361Z"
   },
   {
    "duration": 33,
    "start_time": "2022-07-08T05:45:17.371Z"
   },
   {
    "duration": 9,
    "start_time": "2022-07-08T05:45:17.405Z"
   },
   {
    "duration": 12,
    "start_time": "2022-07-08T05:45:17.415Z"
   },
   {
    "duration": 22,
    "start_time": "2022-07-08T05:45:17.428Z"
   },
   {
    "duration": 12,
    "start_time": "2022-07-08T05:45:17.451Z"
   },
   {
    "duration": 21,
    "start_time": "2022-07-08T05:48:33.045Z"
   },
   {
    "duration": 20,
    "start_time": "2022-07-08T05:49:11.188Z"
   },
   {
    "duration": 12,
    "start_time": "2022-07-08T05:50:17.228Z"
   },
   {
    "duration": 12,
    "start_time": "2022-07-08T05:50:27.299Z"
   },
   {
    "duration": 13,
    "start_time": "2022-07-08T05:51:04.620Z"
   },
   {
    "duration": 13,
    "start_time": "2022-07-08T05:54:57.620Z"
   },
   {
    "duration": 14,
    "start_time": "2022-07-08T05:56:29.740Z"
   },
   {
    "duration": 12,
    "start_time": "2022-07-08T05:56:57.755Z"
   },
   {
    "duration": 9,
    "start_time": "2022-07-08T05:57:45.501Z"
   },
   {
    "duration": 6,
    "start_time": "2022-07-08T05:58:53.072Z"
   },
   {
    "duration": 5,
    "start_time": "2022-07-08T05:58:54.126Z"
   },
   {
    "duration": 5,
    "start_time": "2022-07-08T05:58:54.831Z"
   },
   {
    "duration": 4,
    "start_time": "2022-07-08T05:58:56.357Z"
   },
   {
    "duration": 10,
    "start_time": "2022-07-08T05:59:40.695Z"
   },
   {
    "duration": 179,
    "start_time": "2022-07-08T06:00:56.761Z"
   },
   {
    "duration": 17,
    "start_time": "2022-07-08T06:51:23.786Z"
   },
   {
    "duration": 3,
    "start_time": "2022-07-08T06:51:33.021Z"
   },
   {
    "duration": 78,
    "start_time": "2022-07-08T06:51:34.068Z"
   },
   {
    "duration": 16,
    "start_time": "2022-07-08T06:51:34.613Z"
   },
   {
    "duration": 3,
    "start_time": "2022-07-08T06:51:45.290Z"
   },
   {
    "duration": 1092,
    "start_time": "2022-07-08T07:15:26.355Z"
   },
   {
    "duration": 79,
    "start_time": "2022-07-08T07:15:27.449Z"
   },
   {
    "duration": 20,
    "start_time": "2022-07-08T07:15:27.529Z"
   },
   {
    "duration": 5,
    "start_time": "2022-07-08T07:15:27.550Z"
   },
   {
    "duration": 16,
    "start_time": "2022-07-08T07:15:27.557Z"
   },
   {
    "duration": 4,
    "start_time": "2022-07-08T07:15:27.575Z"
   },
   {
    "duration": 14,
    "start_time": "2022-07-08T07:15:27.581Z"
   },
   {
    "duration": 8,
    "start_time": "2022-07-08T07:15:27.603Z"
   },
   {
    "duration": 6,
    "start_time": "2022-07-08T07:15:27.613Z"
   },
   {
    "duration": 7,
    "start_time": "2022-07-08T07:15:27.621Z"
   },
   {
    "duration": 16,
    "start_time": "2022-07-08T07:15:27.629Z"
   },
   {
    "duration": 6,
    "start_time": "2022-07-08T07:15:27.647Z"
   },
   {
    "duration": 7,
    "start_time": "2022-07-08T07:15:27.655Z"
   },
   {
    "duration": 43,
    "start_time": "2022-07-08T07:15:27.665Z"
   },
   {
    "duration": 6,
    "start_time": "2022-07-08T07:15:27.711Z"
   },
   {
    "duration": 12,
    "start_time": "2022-07-08T07:15:27.718Z"
   },
   {
    "duration": 11,
    "start_time": "2022-07-08T07:15:27.732Z"
   },
   {
    "duration": 5,
    "start_time": "2022-07-08T07:15:27.745Z"
   },
   {
    "duration": 13,
    "start_time": "2022-07-08T07:15:27.751Z"
   },
   {
    "duration": 17,
    "start_time": "2022-07-08T07:15:27.766Z"
   },
   {
    "duration": 173,
    "start_time": "2022-07-08T07:15:27.804Z"
   },
   {
    "duration": 127,
    "start_time": "2022-07-08T07:15:27.978Z"
   },
   {
    "duration": 6,
    "start_time": "2022-07-08T07:15:28.106Z"
   },
   {
    "duration": 21,
    "start_time": "2022-07-08T07:15:28.113Z"
   },
   {
    "duration": 14,
    "start_time": "2022-07-08T07:15:28.137Z"
   },
   {
    "duration": 307,
    "start_time": "2022-07-08T07:15:28.152Z"
   },
   {
    "duration": 223,
    "start_time": "2022-07-08T07:15:28.461Z"
   },
   {
    "duration": 6,
    "start_time": "2022-07-08T07:15:28.686Z"
   },
   {
    "duration": 344,
    "start_time": "2022-07-08T07:15:28.693Z"
   },
   {
    "duration": 6,
    "start_time": "2022-07-08T07:15:29.039Z"
   },
   {
    "duration": 11,
    "start_time": "2022-07-08T07:15:29.046Z"
   },
   {
    "duration": 225,
    "start_time": "2022-07-08T07:15:29.058Z"
   },
   {
    "duration": 8,
    "start_time": "2022-07-08T07:15:29.285Z"
   },
   {
    "duration": 343,
    "start_time": "2022-07-08T07:15:29.294Z"
   },
   {
    "duration": 14,
    "start_time": "2022-07-08T07:15:29.639Z"
   },
   {
    "duration": 173,
    "start_time": "2022-07-08T07:15:29.654Z"
   },
   {
    "duration": 5,
    "start_time": "2022-07-08T07:15:29.828Z"
   },
   {
    "duration": 188,
    "start_time": "2022-07-08T07:15:29.836Z"
   },
   {
    "duration": 5,
    "start_time": "2022-07-08T07:15:30.026Z"
   },
   {
    "duration": 29,
    "start_time": "2022-07-08T07:15:30.033Z"
   },
   {
    "duration": 98,
    "start_time": "2022-07-08T07:15:30.065Z"
   },
   {
    "duration": 15,
    "start_time": "2022-07-08T07:15:30.165Z"
   },
   {
    "duration": 122,
    "start_time": "2022-07-08T07:15:30.182Z"
   },
   {
    "duration": 72,
    "start_time": "2022-07-08T07:15:30.306Z"
   },
   {
    "duration": 13,
    "start_time": "2022-07-08T07:15:30.380Z"
   },
   {
    "duration": 15,
    "start_time": "2022-07-08T07:15:30.395Z"
   },
   {
    "duration": 52,
    "start_time": "2022-07-08T07:15:30.411Z"
   },
   {
    "duration": 12,
    "start_time": "2022-07-08T07:15:30.465Z"
   },
   {
    "duration": 13,
    "start_time": "2022-07-08T07:15:30.479Z"
   },
   {
    "duration": 35,
    "start_time": "2022-07-08T07:15:30.494Z"
   },
   {
    "duration": 25,
    "start_time": "2022-07-08T07:15:30.531Z"
   },
   {
    "duration": 8,
    "start_time": "2022-07-08T07:15:30.558Z"
   },
   {
    "duration": 19,
    "start_time": "2022-07-08T07:15:30.568Z"
   },
   {
    "duration": 32,
    "start_time": "2022-07-08T07:15:30.589Z"
   },
   {
    "duration": 14,
    "start_time": "2022-07-08T07:15:30.623Z"
   },
   {
    "duration": 1083,
    "start_time": "2022-07-08T07:33:54.647Z"
   },
   {
    "duration": 78,
    "start_time": "2022-07-08T07:33:55.732Z"
   },
   {
    "duration": 19,
    "start_time": "2022-07-08T07:33:55.811Z"
   },
   {
    "duration": 6,
    "start_time": "2022-07-08T07:33:55.832Z"
   },
   {
    "duration": 25,
    "start_time": "2022-07-08T07:33:55.840Z"
   },
   {
    "duration": 5,
    "start_time": "2022-07-08T07:33:55.866Z"
   },
   {
    "duration": 14,
    "start_time": "2022-07-08T07:33:55.872Z"
   },
   {
    "duration": 26,
    "start_time": "2022-07-08T07:33:55.888Z"
   },
   {
    "duration": 6,
    "start_time": "2022-07-08T07:33:55.916Z"
   },
   {
    "duration": 6,
    "start_time": "2022-07-08T07:33:55.924Z"
   },
   {
    "duration": 15,
    "start_time": "2022-07-08T07:33:55.932Z"
   },
   {
    "duration": 6,
    "start_time": "2022-07-08T07:33:55.949Z"
   },
   {
    "duration": 11,
    "start_time": "2022-07-08T07:33:55.956Z"
   },
   {
    "duration": 9,
    "start_time": "2022-07-08T07:33:55.968Z"
   },
   {
    "duration": 6,
    "start_time": "2022-07-08T07:33:56.003Z"
   },
   {
    "duration": 7,
    "start_time": "2022-07-08T07:33:56.011Z"
   },
   {
    "duration": 13,
    "start_time": "2022-07-08T07:33:56.019Z"
   },
   {
    "duration": 8,
    "start_time": "2022-07-08T07:33:56.034Z"
   },
   {
    "duration": 17,
    "start_time": "2022-07-08T07:33:56.043Z"
   },
   {
    "duration": 16,
    "start_time": "2022-07-08T07:33:56.062Z"
   },
   {
    "duration": 214,
    "start_time": "2022-07-08T07:33:56.080Z"
   },
   {
    "duration": 140,
    "start_time": "2022-07-08T07:33:56.296Z"
   },
   {
    "duration": 6,
    "start_time": "2022-07-08T07:33:56.437Z"
   },
   {
    "duration": 11,
    "start_time": "2022-07-08T07:33:56.445Z"
   },
   {
    "duration": 9,
    "start_time": "2022-07-08T07:33:56.457Z"
   },
   {
    "duration": 363,
    "start_time": "2022-07-08T07:33:56.468Z"
   },
   {
    "duration": 232,
    "start_time": "2022-07-08T07:33:56.832Z"
   },
   {
    "duration": 6,
    "start_time": "2022-07-08T07:33:57.067Z"
   },
   {
    "duration": 363,
    "start_time": "2022-07-08T07:33:57.074Z"
   },
   {
    "duration": 5,
    "start_time": "2022-07-08T07:33:57.439Z"
   },
   {
    "duration": 11,
    "start_time": "2022-07-08T07:33:57.446Z"
   },
   {
    "duration": 233,
    "start_time": "2022-07-08T07:33:57.459Z"
   },
   {
    "duration": 13,
    "start_time": "2022-07-08T07:33:57.694Z"
   },
   {
    "duration": 332,
    "start_time": "2022-07-08T07:33:57.709Z"
   },
   {
    "duration": 13,
    "start_time": "2022-07-08T07:33:58.043Z"
   },
   {
    "duration": 183,
    "start_time": "2022-07-08T07:33:58.057Z"
   },
   {
    "duration": 5,
    "start_time": "2022-07-08T07:33:58.242Z"
   },
   {
    "duration": 189,
    "start_time": "2022-07-08T07:33:58.248Z"
   },
   {
    "duration": 5,
    "start_time": "2022-07-08T07:33:58.438Z"
   },
   {
    "duration": 9,
    "start_time": "2022-07-08T07:33:58.445Z"
   },
   {
    "duration": 101,
    "start_time": "2022-07-08T07:33:58.455Z"
   },
   {
    "duration": 15,
    "start_time": "2022-07-08T07:33:58.558Z"
   },
   {
    "duration": 98,
    "start_time": "2022-07-08T07:33:58.575Z"
   },
   {
    "duration": 36,
    "start_time": "2022-07-08T07:33:58.675Z"
   },
   {
    "duration": 9,
    "start_time": "2022-07-08T07:33:58.712Z"
   },
   {
    "duration": 6,
    "start_time": "2022-07-08T07:33:58.722Z"
   },
   {
    "duration": 24,
    "start_time": "2022-07-08T07:33:58.729Z"
   },
   {
    "duration": 10,
    "start_time": "2022-07-08T07:33:58.754Z"
   },
   {
    "duration": 5,
    "start_time": "2022-07-08T07:33:58.766Z"
   },
   {
    "duration": 32,
    "start_time": "2022-07-08T07:33:58.772Z"
   },
   {
    "duration": 5,
    "start_time": "2022-07-08T07:33:58.806Z"
   },
   {
    "duration": 8,
    "start_time": "2022-07-08T07:33:58.813Z"
   },
   {
    "duration": 7,
    "start_time": "2022-07-08T07:33:58.822Z"
   },
   {
    "duration": 19,
    "start_time": "2022-07-08T07:33:58.830Z"
   },
   {
    "duration": 12,
    "start_time": "2022-07-08T07:33:58.851Z"
   },
   {
    "duration": 46,
    "start_time": "2022-07-08T17:24:25.926Z"
   },
   {
    "duration": 1257,
    "start_time": "2022-07-08T17:24:36.403Z"
   },
   {
    "duration": 99,
    "start_time": "2022-07-08T17:24:37.663Z"
   },
   {
    "duration": 19,
    "start_time": "2022-07-08T17:24:37.764Z"
   },
   {
    "duration": 5,
    "start_time": "2022-07-08T17:24:37.785Z"
   },
   {
    "duration": 18,
    "start_time": "2022-07-08T17:24:37.791Z"
   },
   {
    "duration": 5,
    "start_time": "2022-07-08T17:24:37.810Z"
   },
   {
    "duration": 13,
    "start_time": "2022-07-08T17:24:37.817Z"
   },
   {
    "duration": 7,
    "start_time": "2022-07-08T17:24:37.832Z"
   },
   {
    "duration": 8,
    "start_time": "2022-07-08T17:24:37.841Z"
   },
   {
    "duration": 6,
    "start_time": "2022-07-08T17:24:37.852Z"
   },
   {
    "duration": 17,
    "start_time": "2022-07-08T17:24:37.860Z"
   },
   {
    "duration": 24,
    "start_time": "2022-07-08T17:24:37.879Z"
   },
   {
    "duration": 11,
    "start_time": "2022-07-08T17:24:37.905Z"
   },
   {
    "duration": 27,
    "start_time": "2022-07-08T17:24:37.917Z"
   },
   {
    "duration": 10,
    "start_time": "2022-07-08T17:24:37.946Z"
   },
   {
    "duration": 8,
    "start_time": "2022-07-08T17:24:37.957Z"
   },
   {
    "duration": 12,
    "start_time": "2022-07-08T17:24:37.967Z"
   },
   {
    "duration": 6,
    "start_time": "2022-07-08T17:24:37.980Z"
   },
   {
    "duration": 14,
    "start_time": "2022-07-08T17:24:37.988Z"
   },
   {
    "duration": 22,
    "start_time": "2022-07-08T17:24:38.003Z"
   },
   {
    "duration": 165,
    "start_time": "2022-07-08T17:24:38.027Z"
   },
   {
    "duration": 130,
    "start_time": "2022-07-08T17:24:38.194Z"
   },
   {
    "duration": 7,
    "start_time": "2022-07-08T17:24:38.325Z"
   },
   {
    "duration": 11,
    "start_time": "2022-07-08T17:24:38.335Z"
   },
   {
    "duration": 9,
    "start_time": "2022-07-08T17:24:38.348Z"
   },
   {
    "duration": 310,
    "start_time": "2022-07-08T17:24:38.359Z"
   },
   {
    "duration": 235,
    "start_time": "2022-07-08T17:24:38.671Z"
   },
   {
    "duration": 6,
    "start_time": "2022-07-08T17:24:38.910Z"
   },
   {
    "duration": 361,
    "start_time": "2022-07-08T17:24:38.918Z"
   },
   {
    "duration": 5,
    "start_time": "2022-07-08T17:24:39.281Z"
   },
   {
    "duration": 16,
    "start_time": "2022-07-08T17:24:39.288Z"
   },
   {
    "duration": 234,
    "start_time": "2022-07-08T17:24:39.306Z"
   },
   {
    "duration": 9,
    "start_time": "2022-07-08T17:24:39.541Z"
   },
   {
    "duration": 343,
    "start_time": "2022-07-08T17:24:39.551Z"
   },
   {
    "duration": 14,
    "start_time": "2022-07-08T17:24:39.895Z"
   },
   {
    "duration": 165,
    "start_time": "2022-07-08T17:24:39.911Z"
   },
   {
    "duration": 5,
    "start_time": "2022-07-08T17:24:40.077Z"
   },
   {
    "duration": 178,
    "start_time": "2022-07-08T17:24:40.084Z"
   },
   {
    "duration": 5,
    "start_time": "2022-07-08T17:24:40.264Z"
   },
   {
    "duration": 8,
    "start_time": "2022-07-08T17:24:40.270Z"
   },
   {
    "duration": 98,
    "start_time": "2022-07-08T17:24:40.280Z"
   },
   {
    "duration": 21,
    "start_time": "2022-07-08T17:24:40.380Z"
   },
   {
    "duration": 88,
    "start_time": "2022-07-08T17:24:40.403Z"
   },
   {
    "duration": 27,
    "start_time": "2022-07-08T17:24:40.501Z"
   },
   {
    "duration": 10,
    "start_time": "2022-07-08T17:24:40.529Z"
   },
   {
    "duration": 8,
    "start_time": "2022-07-08T17:24:40.540Z"
   },
   {
    "duration": 24,
    "start_time": "2022-07-08T17:24:40.550Z"
   },
   {
    "duration": 30,
    "start_time": "2022-07-08T17:24:40.576Z"
   },
   {
    "duration": 5,
    "start_time": "2022-07-08T17:24:40.607Z"
   },
   {
    "duration": 9,
    "start_time": "2022-07-08T17:24:40.614Z"
   },
   {
    "duration": 7,
    "start_time": "2022-07-08T17:24:40.624Z"
   },
   {
    "duration": 7,
    "start_time": "2022-07-08T17:24:40.632Z"
   },
   {
    "duration": 12,
    "start_time": "2022-07-08T17:24:40.640Z"
   },
   {
    "duration": 22,
    "start_time": "2022-07-08T17:24:40.653Z"
   },
   {
    "duration": 28,
    "start_time": "2022-07-08T17:24:40.676Z"
   },
   {
    "duration": 4,
    "start_time": "2022-07-08T17:25:12.798Z"
   },
   {
    "duration": 4,
    "start_time": "2022-07-08T17:25:24.692Z"
   },
   {
    "duration": 4,
    "start_time": "2022-07-08T17:25:28.179Z"
   },
   {
    "duration": 5,
    "start_time": "2022-07-08T17:25:31.267Z"
   },
   {
    "duration": 5,
    "start_time": "2022-07-08T17:25:42.380Z"
   },
   {
    "duration": 5,
    "start_time": "2022-07-08T17:27:04.806Z"
   },
   {
    "duration": 4,
    "start_time": "2022-07-08T17:27:17.358Z"
   },
   {
    "duration": 5,
    "start_time": "2022-07-08T17:27:20.686Z"
   },
   {
    "duration": 5,
    "start_time": "2022-07-08T17:27:23.938Z"
   },
   {
    "duration": 5,
    "start_time": "2022-07-08T17:29:45.937Z"
   },
   {
    "duration": 92,
    "start_time": "2022-07-08T17:30:16.824Z"
   },
   {
    "duration": 5,
    "start_time": "2022-07-08T17:30:23.885Z"
   },
   {
    "duration": 4,
    "start_time": "2022-07-08T17:31:25.021Z"
   },
   {
    "duration": 5,
    "start_time": "2022-07-08T17:31:46.602Z"
   },
   {
    "duration": 4,
    "start_time": "2022-07-08T17:31:52.987Z"
   },
   {
    "duration": 5,
    "start_time": "2022-07-08T17:31:59.905Z"
   },
   {
    "duration": 46,
    "start_time": "2022-07-08T17:48:06.011Z"
   },
   {
    "duration": 47,
    "start_time": "2022-07-08T17:56:58.638Z"
   },
   {
    "duration": 5,
    "start_time": "2022-07-08T17:57:47.365Z"
   },
   {
    "duration": 7,
    "start_time": "2022-07-08T17:58:01.897Z"
   },
   {
    "duration": 5,
    "start_time": "2022-07-08T17:58:33.637Z"
   },
   {
    "duration": 1123,
    "start_time": "2022-07-08T18:00:02.429Z"
   },
   {
    "duration": 38,
    "start_time": "2022-07-08T18:00:03.554Z"
   },
   {
    "duration": 19,
    "start_time": "2022-07-08T18:00:03.594Z"
   },
   {
    "duration": 7,
    "start_time": "2022-07-08T18:00:03.615Z"
   },
   {
    "duration": 24,
    "start_time": "2022-07-08T18:00:03.624Z"
   },
   {
    "duration": 18,
    "start_time": "2022-07-08T18:00:03.649Z"
   },
   {
    "duration": 17,
    "start_time": "2022-07-08T18:00:03.669Z"
   },
   {
    "duration": 15,
    "start_time": "2022-07-08T18:00:03.688Z"
   },
   {
    "duration": 18,
    "start_time": "2022-07-08T18:00:03.705Z"
   },
   {
    "duration": 9,
    "start_time": "2022-07-08T18:00:03.724Z"
   },
   {
    "duration": 20,
    "start_time": "2022-07-08T18:00:03.735Z"
   },
   {
    "duration": 22,
    "start_time": "2022-07-08T18:00:03.756Z"
   },
   {
    "duration": 15,
    "start_time": "2022-07-08T18:00:03.780Z"
   },
   {
    "duration": 24,
    "start_time": "2022-07-08T18:00:03.798Z"
   },
   {
    "duration": 16,
    "start_time": "2022-07-08T18:00:03.824Z"
   },
   {
    "duration": 18,
    "start_time": "2022-07-08T18:00:03.842Z"
   },
   {
    "duration": 19,
    "start_time": "2022-07-08T18:00:03.862Z"
   },
   {
    "duration": 16,
    "start_time": "2022-07-08T18:00:03.883Z"
   },
   {
    "duration": 17,
    "start_time": "2022-07-08T18:00:03.901Z"
   },
   {
    "duration": 16,
    "start_time": "2022-07-08T18:00:03.920Z"
   },
   {
    "duration": 181,
    "start_time": "2022-07-08T18:00:03.938Z"
   },
   {
    "duration": 131,
    "start_time": "2022-07-08T18:00:04.121Z"
   },
   {
    "duration": 7,
    "start_time": "2022-07-08T18:00:04.253Z"
   },
   {
    "duration": 21,
    "start_time": "2022-07-08T18:00:04.261Z"
   },
   {
    "duration": 19,
    "start_time": "2022-07-08T18:00:04.283Z"
   },
   {
    "duration": 307,
    "start_time": "2022-07-08T18:00:04.304Z"
   },
   {
    "duration": 220,
    "start_time": "2022-07-08T18:00:04.612Z"
   },
   {
    "duration": 5,
    "start_time": "2022-07-08T18:00:04.834Z"
   },
   {
    "duration": 313,
    "start_time": "2022-07-08T18:00:04.841Z"
   },
   {
    "duration": 7,
    "start_time": "2022-07-08T18:00:05.156Z"
   },
   {
    "duration": 27,
    "start_time": "2022-07-08T18:00:05.165Z"
   },
   {
    "duration": 277,
    "start_time": "2022-07-08T18:00:05.194Z"
   },
   {
    "duration": 8,
    "start_time": "2022-07-08T18:00:05.473Z"
   },
   {
    "duration": 342,
    "start_time": "2022-07-08T18:00:05.482Z"
   },
   {
    "duration": 14,
    "start_time": "2022-07-08T18:00:05.825Z"
   },
   {
    "duration": 167,
    "start_time": "2022-07-08T18:00:05.841Z"
   },
   {
    "duration": 6,
    "start_time": "2022-07-08T18:00:06.010Z"
   },
   {
    "duration": 183,
    "start_time": "2022-07-08T18:00:06.017Z"
   },
   {
    "duration": 5,
    "start_time": "2022-07-08T18:00:06.202Z"
   },
   {
    "duration": 15,
    "start_time": "2022-07-08T18:00:06.208Z"
   },
   {
    "duration": 92,
    "start_time": "2022-07-08T18:00:06.226Z"
   },
   {
    "duration": 14,
    "start_time": "2022-07-08T18:00:06.319Z"
   },
   {
    "duration": 104,
    "start_time": "2022-07-08T18:00:06.334Z"
   },
   {
    "duration": 32,
    "start_time": "2022-07-08T18:00:06.440Z"
   },
   {
    "duration": 10,
    "start_time": "2022-07-08T18:00:06.474Z"
   },
   {
    "duration": 19,
    "start_time": "2022-07-08T18:00:06.486Z"
   },
   {
    "duration": 28,
    "start_time": "2022-07-08T18:00:06.506Z"
   },
   {
    "duration": 11,
    "start_time": "2022-07-08T18:00:06.535Z"
   },
   {
    "duration": 26,
    "start_time": "2022-07-08T18:00:06.547Z"
   },
   {
    "duration": 18,
    "start_time": "2022-07-08T18:00:06.575Z"
   },
   {
    "duration": 24,
    "start_time": "2022-07-08T18:00:06.594Z"
   },
   {
    "duration": 44,
    "start_time": "2022-07-08T18:00:06.619Z"
   },
   {
    "duration": 33,
    "start_time": "2022-07-08T18:00:06.664Z"
   },
   {
    "duration": 30,
    "start_time": "2022-07-08T18:00:06.698Z"
   },
   {
    "duration": 23,
    "start_time": "2022-07-08T18:00:06.730Z"
   },
   {
    "duration": 9,
    "start_time": "2022-07-08T19:15:39.686Z"
   },
   {
    "duration": 12,
    "start_time": "2022-07-08T19:19:40.847Z"
   },
   {
    "duration": 6,
    "start_time": "2022-07-08T19:20:13.059Z"
   },
   {
    "duration": 38,
    "start_time": "2022-07-08T19:21:41.751Z"
   },
   {
    "duration": 27,
    "start_time": "2022-07-08T19:21:54.146Z"
   },
   {
    "duration": 51,
    "start_time": "2022-07-09T10:52:27.096Z"
   },
   {
    "duration": 1302,
    "start_time": "2022-07-09T10:52:31.060Z"
   },
   {
    "duration": 103,
    "start_time": "2022-07-09T10:52:32.365Z"
   },
   {
    "duration": 23,
    "start_time": "2022-07-09T10:52:32.469Z"
   },
   {
    "duration": 5,
    "start_time": "2022-07-09T10:52:32.494Z"
   },
   {
    "duration": 28,
    "start_time": "2022-07-09T10:52:32.501Z"
   },
   {
    "duration": 5,
    "start_time": "2022-07-09T10:52:32.532Z"
   },
   {
    "duration": 24,
    "start_time": "2022-07-09T10:52:32.545Z"
   },
   {
    "duration": 9,
    "start_time": "2022-07-09T10:52:32.570Z"
   },
   {
    "duration": 16,
    "start_time": "2022-07-09T10:52:32.580Z"
   },
   {
    "duration": 5,
    "start_time": "2022-07-09T10:52:32.599Z"
   },
   {
    "duration": 19,
    "start_time": "2022-07-09T10:52:32.606Z"
   },
   {
    "duration": 5,
    "start_time": "2022-07-09T10:52:32.647Z"
   },
   {
    "duration": 12,
    "start_time": "2022-07-09T10:52:32.654Z"
   },
   {
    "duration": 11,
    "start_time": "2022-07-09T10:52:32.667Z"
   },
   {
    "duration": 7,
    "start_time": "2022-07-09T10:52:32.680Z"
   },
   {
    "duration": 12,
    "start_time": "2022-07-09T10:52:32.689Z"
   },
   {
    "duration": 15,
    "start_time": "2022-07-09T10:52:32.703Z"
   },
   {
    "duration": 27,
    "start_time": "2022-07-09T10:52:32.719Z"
   },
   {
    "duration": 12,
    "start_time": "2022-07-09T10:52:32.748Z"
   },
   {
    "duration": 16,
    "start_time": "2022-07-09T10:52:32.762Z"
   },
   {
    "duration": 9,
    "start_time": "2022-07-09T10:52:32.780Z"
   },
   {
    "duration": 193,
    "start_time": "2022-07-09T10:52:32.791Z"
   },
   {
    "duration": 141,
    "start_time": "2022-07-09T10:52:32.985Z"
   },
   {
    "duration": 7,
    "start_time": "2022-07-09T10:52:33.128Z"
   },
   {
    "duration": 12,
    "start_time": "2022-07-09T10:52:33.146Z"
   },
   {
    "duration": 8,
    "start_time": "2022-07-09T10:52:33.160Z"
   },
   {
    "duration": 377,
    "start_time": "2022-07-09T10:52:33.169Z"
   },
   {
    "duration": 264,
    "start_time": "2022-07-09T10:52:33.551Z"
   },
   {
    "duration": 8,
    "start_time": "2022-07-09T10:52:33.816Z"
   },
   {
    "duration": 402,
    "start_time": "2022-07-09T10:52:33.826Z"
   },
   {
    "duration": 7,
    "start_time": "2022-07-09T10:52:34.231Z"
   },
   {
    "duration": 10,
    "start_time": "2022-07-09T10:52:34.246Z"
   },
   {
    "duration": 252,
    "start_time": "2022-07-09T10:52:34.258Z"
   },
   {
    "duration": 8,
    "start_time": "2022-07-09T10:52:34.512Z"
   },
   {
    "duration": 361,
    "start_time": "2022-07-09T10:52:34.522Z"
   },
   {
    "duration": 15,
    "start_time": "2022-07-09T10:52:34.885Z"
   },
   {
    "duration": 181,
    "start_time": "2022-07-09T10:52:34.901Z"
   },
   {
    "duration": 5,
    "start_time": "2022-07-09T10:52:35.083Z"
   },
   {
    "duration": 196,
    "start_time": "2022-07-09T10:52:35.090Z"
   },
   {
    "duration": 6,
    "start_time": "2022-07-09T10:52:35.288Z"
   },
   {
    "duration": 8,
    "start_time": "2022-07-09T10:52:35.295Z"
   },
   {
    "duration": 188,
    "start_time": "2022-07-09T10:52:35.305Z"
   },
   {
    "duration": 15,
    "start_time": "2022-07-09T10:52:35.495Z"
   },
   {
    "duration": 112,
    "start_time": "2022-07-09T10:52:35.512Z"
   },
   {
    "duration": 36,
    "start_time": "2022-07-09T10:52:35.626Z"
   },
   {
    "duration": 12,
    "start_time": "2022-07-09T10:52:35.664Z"
   },
   {
    "duration": 7,
    "start_time": "2022-07-09T10:52:35.677Z"
   },
   {
    "duration": 30,
    "start_time": "2022-07-09T10:52:35.685Z"
   },
   {
    "duration": 34,
    "start_time": "2022-07-09T10:52:35.716Z"
   },
   {
    "duration": 6,
    "start_time": "2022-07-09T10:52:35.752Z"
   },
   {
    "duration": 14,
    "start_time": "2022-07-09T10:52:35.760Z"
   },
   {
    "duration": 6,
    "start_time": "2022-07-09T10:52:35.776Z"
   },
   {
    "duration": 7,
    "start_time": "2022-07-09T10:52:35.783Z"
   },
   {
    "duration": 8,
    "start_time": "2022-07-09T10:52:35.791Z"
   },
   {
    "duration": 23,
    "start_time": "2022-07-09T10:52:35.801Z"
   },
   {
    "duration": 30,
    "start_time": "2022-07-09T10:52:35.826Z"
   },
   {
    "duration": 6,
    "start_time": "2022-07-09T10:53:03.352Z"
   },
   {
    "duration": 13,
    "start_time": "2022-07-09T10:53:11.824Z"
   },
   {
    "duration": 13,
    "start_time": "2022-07-09T10:54:49.403Z"
   },
   {
    "duration": 17,
    "start_time": "2022-07-09T10:59:49.502Z"
   },
   {
    "duration": 16,
    "start_time": "2022-07-09T11:00:29.901Z"
   },
   {
    "duration": 11,
    "start_time": "2022-07-09T11:27:48.195Z"
   },
   {
    "duration": 19,
    "start_time": "2022-07-09T11:32:13.383Z"
   },
   {
    "duration": 11,
    "start_time": "2022-07-09T11:42:56.043Z"
   },
   {
    "duration": 11,
    "start_time": "2022-07-09T11:43:44.132Z"
   },
   {
    "duration": 9,
    "start_time": "2022-07-09T11:43:59.783Z"
   },
   {
    "duration": 9,
    "start_time": "2022-07-09T11:44:30.500Z"
   },
   {
    "duration": 63,
    "start_time": "2022-07-09T11:44:52.080Z"
   },
   {
    "duration": 55,
    "start_time": "2022-07-09T11:44:58.988Z"
   },
   {
    "duration": 60,
    "start_time": "2022-07-09T11:45:03.146Z"
   },
   {
    "duration": 12,
    "start_time": "2022-07-09T11:45:09.063Z"
   },
   {
    "duration": 38,
    "start_time": "2022-07-09T11:52:10.812Z"
   },
   {
    "duration": 19,
    "start_time": "2022-07-09T11:52:40.106Z"
   },
   {
    "duration": 18,
    "start_time": "2022-07-09T11:53:02.971Z"
   },
   {
    "duration": 17,
    "start_time": "2022-07-09T11:53:31.706Z"
   },
   {
    "duration": 16,
    "start_time": "2022-07-09T11:53:51.174Z"
   },
   {
    "duration": 8,
    "start_time": "2022-07-09T11:53:57.448Z"
   },
   {
    "duration": 17,
    "start_time": "2022-07-09T11:55:37.755Z"
   },
   {
    "duration": 22,
    "start_time": "2022-07-09T11:56:22.345Z"
   },
   {
    "duration": 55,
    "start_time": "2022-07-09T11:56:34.469Z"
   },
   {
    "duration": 19,
    "start_time": "2022-07-09T11:56:43.211Z"
   },
   {
    "duration": 11,
    "start_time": "2022-07-09T11:57:04.285Z"
   },
   {
    "duration": 14,
    "start_time": "2022-07-09T11:58:16.220Z"
   },
   {
    "duration": 61,
    "start_time": "2022-07-09T12:13:46.755Z"
   },
   {
    "duration": 52,
    "start_time": "2022-07-09T12:13:53.888Z"
   },
   {
    "duration": 11,
    "start_time": "2022-07-09T12:14:03.082Z"
   },
   {
    "duration": 992,
    "start_time": "2022-07-09T12:14:10.613Z"
   },
   {
    "duration": 971,
    "start_time": "2022-07-09T12:14:29.946Z"
   },
   {
    "duration": 10,
    "start_time": "2022-07-09T12:14:43.573Z"
   },
   {
    "duration": 15,
    "start_time": "2022-07-09T12:16:25.385Z"
   },
   {
    "duration": 11,
    "start_time": "2022-07-09T12:16:34.026Z"
   },
   {
    "duration": 10,
    "start_time": "2022-07-09T12:16:48.553Z"
   },
   {
    "duration": 13,
    "start_time": "2022-07-09T12:17:04.170Z"
   },
   {
    "duration": 6,
    "start_time": "2022-07-09T12:17:15.832Z"
   },
   {
    "duration": 9,
    "start_time": "2022-07-09T12:17:20.550Z"
   },
   {
    "duration": 12,
    "start_time": "2022-07-09T12:17:30.057Z"
   },
   {
    "duration": 915,
    "start_time": "2022-07-09T12:26:25.450Z"
   },
   {
    "duration": 4,
    "start_time": "2022-07-09T12:26:40.238Z"
   },
   {
    "duration": 10,
    "start_time": "2022-07-09T12:26:43.262Z"
   },
   {
    "duration": 108,
    "start_time": "2022-07-09T12:27:18.825Z"
   },
   {
    "duration": 14,
    "start_time": "2022-07-09T12:27:21.548Z"
   },
   {
    "duration": 8,
    "start_time": "2022-07-09T12:27:41.665Z"
   },
   {
    "duration": 13,
    "start_time": "2022-07-09T12:27:56.280Z"
   },
   {
    "duration": 59,
    "start_time": "2022-07-09T16:28:37.472Z"
   },
   {
    "duration": 1402,
    "start_time": "2022-07-09T16:28:43.159Z"
   },
   {
    "duration": 137,
    "start_time": "2022-07-09T16:28:44.565Z"
   },
   {
    "duration": 26,
    "start_time": "2022-07-09T16:28:44.705Z"
   },
   {
    "duration": 35,
    "start_time": "2022-07-09T16:28:44.733Z"
   },
   {
    "duration": 25,
    "start_time": "2022-07-09T16:28:44.771Z"
   },
   {
    "duration": 7,
    "start_time": "2022-07-09T16:28:44.797Z"
   },
   {
    "duration": 15,
    "start_time": "2022-07-09T16:28:44.805Z"
   },
   {
    "duration": 12,
    "start_time": "2022-07-09T16:28:44.822Z"
   },
   {
    "duration": 23,
    "start_time": "2022-07-09T16:28:44.836Z"
   },
   {
    "duration": 11,
    "start_time": "2022-07-09T16:28:44.860Z"
   },
   {
    "duration": 17,
    "start_time": "2022-07-09T16:28:44.873Z"
   },
   {
    "duration": 17,
    "start_time": "2022-07-09T16:28:44.891Z"
   },
   {
    "duration": 7,
    "start_time": "2022-07-09T16:28:44.910Z"
   },
   {
    "duration": 18,
    "start_time": "2022-07-09T16:28:44.920Z"
   },
   {
    "duration": 12,
    "start_time": "2022-07-09T16:28:44.940Z"
   },
   {
    "duration": 12,
    "start_time": "2022-07-09T16:28:44.954Z"
   },
   {
    "duration": 10,
    "start_time": "2022-07-09T16:28:44.968Z"
   },
   {
    "duration": 6,
    "start_time": "2022-07-09T16:28:44.979Z"
   },
   {
    "duration": 12,
    "start_time": "2022-07-09T16:28:44.986Z"
   },
   {
    "duration": 35,
    "start_time": "2022-07-09T16:28:45.000Z"
   },
   {
    "duration": 38,
    "start_time": "2022-07-09T16:28:45.038Z"
   },
   {
    "duration": 17,
    "start_time": "2022-07-09T16:28:45.079Z"
   },
   {
    "duration": 18,
    "start_time": "2022-07-09T16:28:45.098Z"
   },
   {
    "duration": 193,
    "start_time": "2022-07-09T16:28:45.118Z"
   },
   {
    "duration": 174,
    "start_time": "2022-07-09T16:28:45.313Z"
   },
   {
    "duration": 5,
    "start_time": "2022-07-09T16:28:45.489Z"
   },
   {
    "duration": 30,
    "start_time": "2022-07-09T16:28:45.496Z"
   },
   {
    "duration": 17,
    "start_time": "2022-07-09T16:28:45.529Z"
   },
   {
    "duration": 344,
    "start_time": "2022-07-09T16:28:45.547Z"
   },
   {
    "duration": 267,
    "start_time": "2022-07-09T16:28:45.893Z"
   },
   {
    "duration": 5,
    "start_time": "2022-07-09T16:28:46.162Z"
   },
   {
    "duration": 410,
    "start_time": "2022-07-09T16:28:46.168Z"
   },
   {
    "duration": 7,
    "start_time": "2022-07-09T16:28:46.580Z"
   },
   {
    "duration": 16,
    "start_time": "2022-07-09T16:28:46.589Z"
   },
   {
    "duration": 268,
    "start_time": "2022-07-09T16:28:46.606Z"
   },
   {
    "duration": 8,
    "start_time": "2022-07-09T16:28:46.876Z"
   },
   {
    "duration": 401,
    "start_time": "2022-07-09T16:28:46.885Z"
   },
   {
    "duration": 13,
    "start_time": "2022-07-09T16:28:47.288Z"
   },
   {
    "duration": 204,
    "start_time": "2022-07-09T16:28:47.303Z"
   },
   {
    "duration": 18,
    "start_time": "2022-07-09T16:28:47.509Z"
   },
   {
    "duration": 233,
    "start_time": "2022-07-09T16:28:47.535Z"
   },
   {
    "duration": 6,
    "start_time": "2022-07-09T16:28:47.770Z"
   },
   {
    "duration": 9,
    "start_time": "2022-07-09T16:28:47.777Z"
   },
   {
    "duration": 106,
    "start_time": "2022-07-09T16:28:47.788Z"
   },
   {
    "duration": 22,
    "start_time": "2022-07-09T16:28:47.896Z"
   },
   {
    "duration": 133,
    "start_time": "2022-07-09T16:28:47.922Z"
   },
   {
    "duration": 29,
    "start_time": "2022-07-09T16:28:48.057Z"
   },
   {
    "duration": 10,
    "start_time": "2022-07-09T16:28:48.088Z"
   },
   {
    "duration": 34,
    "start_time": "2022-07-09T16:28:48.099Z"
   },
   {
    "duration": 27,
    "start_time": "2022-07-09T16:28:48.136Z"
   },
   {
    "duration": 12,
    "start_time": "2022-07-09T16:28:48.165Z"
   },
   {
    "duration": 7,
    "start_time": "2022-07-09T16:28:48.179Z"
   },
   {
    "duration": 16,
    "start_time": "2022-07-09T16:28:48.187Z"
   },
   {
    "duration": 22,
    "start_time": "2022-07-09T16:28:48.205Z"
   },
   {
    "duration": 22,
    "start_time": "2022-07-09T16:28:48.230Z"
   },
   {
    "duration": 10,
    "start_time": "2022-07-09T16:28:48.254Z"
   },
   {
    "duration": 37,
    "start_time": "2022-07-09T16:28:48.266Z"
   },
   {
    "duration": 13,
    "start_time": "2022-07-09T16:28:48.305Z"
   },
   {
    "duration": 11,
    "start_time": "2022-07-09T16:29:36.080Z"
   },
   {
    "duration": 13,
    "start_time": "2022-07-09T16:30:05.684Z"
   },
   {
    "duration": 61,
    "start_time": "2022-07-09T16:31:15.780Z"
   },
   {
    "duration": 4,
    "start_time": "2022-07-09T16:31:33.467Z"
   },
   {
    "duration": 46,
    "start_time": "2022-07-09T16:31:42.370Z"
   },
   {
    "duration": 75,
    "start_time": "2022-07-09T16:31:59.395Z"
   },
   {
    "duration": 13,
    "start_time": "2022-07-09T16:32:53.267Z"
   },
   {
    "duration": 7,
    "start_time": "2022-07-09T16:34:48.921Z"
   },
   {
    "duration": 11,
    "start_time": "2022-07-09T16:34:55.763Z"
   },
   {
    "duration": 12,
    "start_time": "2022-07-09T16:35:08.672Z"
   },
   {
    "duration": 11,
    "start_time": "2022-07-09T16:35:15.369Z"
   },
   {
    "duration": 14,
    "start_time": "2022-07-09T16:35:53.150Z"
   },
   {
    "duration": 15,
    "start_time": "2022-07-09T16:36:16.151Z"
   },
   {
    "duration": 11,
    "start_time": "2022-07-09T16:39:37.975Z"
   },
   {
    "duration": 11,
    "start_time": "2022-07-09T16:41:24.852Z"
   },
   {
    "duration": 14,
    "start_time": "2022-07-09T16:41:42.964Z"
   },
   {
    "duration": 9,
    "start_time": "2022-07-09T16:42:41.380Z"
   },
   {
    "duration": 12,
    "start_time": "2022-07-09T16:42:52.856Z"
   },
   {
    "duration": 8,
    "start_time": "2022-07-09T16:43:08.457Z"
   },
   {
    "duration": 10,
    "start_time": "2022-07-09T16:43:44.962Z"
   },
   {
    "duration": 11,
    "start_time": "2022-07-09T16:44:09.066Z"
   },
   {
    "duration": 10,
    "start_time": "2022-07-09T16:44:21.526Z"
   },
   {
    "duration": 10,
    "start_time": "2022-07-09T16:44:29.082Z"
   },
   {
    "duration": 1164,
    "start_time": "2022-07-09T16:44:45.013Z"
   },
   {
    "duration": 40,
    "start_time": "2022-07-09T16:44:46.179Z"
   },
   {
    "duration": 20,
    "start_time": "2022-07-09T16:44:46.221Z"
   },
   {
    "duration": 5,
    "start_time": "2022-07-09T16:44:46.243Z"
   },
   {
    "duration": 19,
    "start_time": "2022-07-09T16:44:46.250Z"
   },
   {
    "duration": 33,
    "start_time": "2022-07-09T16:44:46.271Z"
   },
   {
    "duration": 26,
    "start_time": "2022-07-09T16:44:46.305Z"
   },
   {
    "duration": 12,
    "start_time": "2022-07-09T16:44:46.333Z"
   },
   {
    "duration": 9,
    "start_time": "2022-07-09T16:44:46.346Z"
   },
   {
    "duration": 15,
    "start_time": "2022-07-09T16:44:46.356Z"
   },
   {
    "duration": 17,
    "start_time": "2022-07-09T16:44:46.373Z"
   },
   {
    "duration": 4,
    "start_time": "2022-07-09T16:44:46.391Z"
   },
   {
    "duration": 8,
    "start_time": "2022-07-09T16:44:46.396Z"
   },
   {
    "duration": 8,
    "start_time": "2022-07-09T16:44:46.422Z"
   },
   {
    "duration": 16,
    "start_time": "2022-07-09T16:44:46.432Z"
   },
   {
    "duration": 8,
    "start_time": "2022-07-09T16:44:46.449Z"
   },
   {
    "duration": 13,
    "start_time": "2022-07-09T16:44:46.459Z"
   },
   {
    "duration": 20,
    "start_time": "2022-07-09T16:44:46.474Z"
   },
   {
    "duration": 16,
    "start_time": "2022-07-09T16:44:46.495Z"
   },
   {
    "duration": 24,
    "start_time": "2022-07-09T16:44:46.513Z"
   },
   {
    "duration": 12,
    "start_time": "2022-07-09T16:44:46.539Z"
   },
   {
    "duration": 10,
    "start_time": "2022-07-09T16:44:46.553Z"
   },
   {
    "duration": 179,
    "start_time": "2022-07-09T16:44:46.565Z"
   },
   {
    "duration": 137,
    "start_time": "2022-07-09T16:44:46.746Z"
   },
   {
    "duration": 6,
    "start_time": "2022-07-09T16:44:46.885Z"
   },
   {
    "duration": 11,
    "start_time": "2022-07-09T16:44:46.892Z"
   },
   {
    "duration": 23,
    "start_time": "2022-07-09T16:44:46.905Z"
   },
   {
    "duration": 308,
    "start_time": "2022-07-09T16:44:46.930Z"
   },
   {
    "duration": 228,
    "start_time": "2022-07-09T16:44:47.240Z"
   },
   {
    "duration": 6,
    "start_time": "2022-07-09T16:44:47.469Z"
   },
   {
    "duration": 346,
    "start_time": "2022-07-09T16:44:47.477Z"
   },
   {
    "duration": 6,
    "start_time": "2022-07-09T16:44:47.824Z"
   },
   {
    "duration": 12,
    "start_time": "2022-07-09T16:44:47.832Z"
   },
   {
    "duration": 234,
    "start_time": "2022-07-09T16:44:47.845Z"
   },
   {
    "duration": 8,
    "start_time": "2022-07-09T16:44:48.081Z"
   },
   {
    "duration": 379,
    "start_time": "2022-07-09T16:44:48.090Z"
   },
   {
    "duration": 15,
    "start_time": "2022-07-09T16:44:48.471Z"
   },
   {
    "duration": 178,
    "start_time": "2022-07-09T16:44:48.488Z"
   },
   {
    "duration": 5,
    "start_time": "2022-07-09T16:44:48.668Z"
   },
   {
    "duration": 196,
    "start_time": "2022-07-09T16:44:48.674Z"
   },
   {
    "duration": 5,
    "start_time": "2022-07-09T16:44:48.874Z"
   },
   {
    "duration": 11,
    "start_time": "2022-07-09T16:44:48.880Z"
   },
   {
    "duration": 103,
    "start_time": "2022-07-09T16:44:48.892Z"
   },
   {
    "duration": 26,
    "start_time": "2022-07-09T16:44:48.997Z"
   },
   {
    "duration": 104,
    "start_time": "2022-07-09T16:44:49.025Z"
   },
   {
    "duration": 38,
    "start_time": "2022-07-09T16:44:49.131Z"
   },
   {
    "duration": 12,
    "start_time": "2022-07-09T16:44:49.171Z"
   },
   {
    "duration": 6,
    "start_time": "2022-07-09T16:44:49.185Z"
   },
   {
    "duration": 42,
    "start_time": "2022-07-09T16:44:49.192Z"
   },
   {
    "duration": 12,
    "start_time": "2022-07-09T16:44:49.235Z"
   },
   {
    "duration": 27,
    "start_time": "2022-07-09T16:44:49.250Z"
   },
   {
    "duration": 8,
    "start_time": "2022-07-09T16:44:49.279Z"
   },
   {
    "duration": 9,
    "start_time": "2022-07-09T16:44:49.289Z"
   },
   {
    "duration": 9,
    "start_time": "2022-07-09T16:44:49.300Z"
   },
   {
    "duration": 19,
    "start_time": "2022-07-09T16:44:49.311Z"
   },
   {
    "duration": 25,
    "start_time": "2022-07-09T16:44:49.332Z"
   },
   {
    "duration": 15,
    "start_time": "2022-07-09T16:44:49.359Z"
   },
   {
    "duration": 11,
    "start_time": "2022-07-09T16:45:09.009Z"
   },
   {
    "duration": 12,
    "start_time": "2022-07-09T16:45:12.918Z"
   },
   {
    "duration": 11,
    "start_time": "2022-07-09T16:45:38.629Z"
   },
   {
    "duration": 133,
    "start_time": "2022-07-09T16:51:00.935Z"
   },
   {
    "duration": 1210,
    "start_time": "2022-07-09T17:14:22.197Z"
   },
   {
    "duration": 53,
    "start_time": "2022-07-09T17:14:23.409Z"
   },
   {
    "duration": 19,
    "start_time": "2022-07-09T17:14:23.464Z"
   },
   {
    "duration": 5,
    "start_time": "2022-07-09T17:14:23.485Z"
   },
   {
    "duration": 20,
    "start_time": "2022-07-09T17:14:23.491Z"
   },
   {
    "duration": 6,
    "start_time": "2022-07-09T17:14:23.512Z"
   },
   {
    "duration": 39,
    "start_time": "2022-07-09T17:14:23.520Z"
   },
   {
    "duration": 12,
    "start_time": "2022-07-09T17:14:23.560Z"
   },
   {
    "duration": 5,
    "start_time": "2022-07-09T17:14:23.574Z"
   },
   {
    "duration": 9,
    "start_time": "2022-07-09T17:14:23.583Z"
   },
   {
    "duration": 19,
    "start_time": "2022-07-09T17:14:23.594Z"
   },
   {
    "duration": 19,
    "start_time": "2022-07-09T17:14:23.615Z"
   },
   {
    "duration": 9,
    "start_time": "2022-07-09T17:14:23.642Z"
   },
   {
    "duration": 18,
    "start_time": "2022-07-09T17:14:23.653Z"
   },
   {
    "duration": 10,
    "start_time": "2022-07-09T17:14:23.673Z"
   },
   {
    "duration": 11,
    "start_time": "2022-07-09T17:14:23.685Z"
   },
   {
    "duration": 12,
    "start_time": "2022-07-09T17:14:23.698Z"
   },
   {
    "duration": 25,
    "start_time": "2022-07-09T17:14:23.712Z"
   },
   {
    "duration": 18,
    "start_time": "2022-07-09T17:14:23.739Z"
   },
   {
    "duration": 19,
    "start_time": "2022-07-09T17:14:23.758Z"
   },
   {
    "duration": 14,
    "start_time": "2022-07-09T17:14:23.778Z"
   },
   {
    "duration": 10,
    "start_time": "2022-07-09T17:14:23.794Z"
   },
   {
    "duration": 201,
    "start_time": "2022-07-09T17:14:23.806Z"
   },
   {
    "duration": 156,
    "start_time": "2022-07-09T17:14:24.009Z"
   },
   {
    "duration": 6,
    "start_time": "2022-07-09T17:14:24.167Z"
   },
   {
    "duration": 14,
    "start_time": "2022-07-09T17:14:24.174Z"
   },
   {
    "duration": 8,
    "start_time": "2022-07-09T17:14:24.190Z"
   },
   {
    "duration": 385,
    "start_time": "2022-07-09T17:14:24.201Z"
   },
   {
    "duration": 294,
    "start_time": "2022-07-09T17:14:24.589Z"
   },
   {
    "duration": 6,
    "start_time": "2022-07-09T17:14:24.885Z"
   },
   {
    "duration": 388,
    "start_time": "2022-07-09T17:14:24.893Z"
   },
   {
    "duration": 5,
    "start_time": "2022-07-09T17:14:25.283Z"
   },
   {
    "duration": 11,
    "start_time": "2022-07-09T17:14:25.290Z"
   },
   {
    "duration": 258,
    "start_time": "2022-07-09T17:14:25.303Z"
   },
   {
    "duration": 7,
    "start_time": "2022-07-09T17:14:25.563Z"
   },
   {
    "duration": 327,
    "start_time": "2022-07-09T17:14:25.572Z"
   },
   {
    "duration": 15,
    "start_time": "2022-07-09T17:14:25.901Z"
   },
   {
    "duration": 166,
    "start_time": "2022-07-09T17:14:25.934Z"
   },
   {
    "duration": 5,
    "start_time": "2022-07-09T17:14:26.102Z"
   },
   {
    "duration": 197,
    "start_time": "2022-07-09T17:14:26.109Z"
   },
   {
    "duration": 6,
    "start_time": "2022-07-09T17:14:26.307Z"
   },
   {
    "duration": 19,
    "start_time": "2022-07-09T17:14:26.314Z"
   },
   {
    "duration": 101,
    "start_time": "2022-07-09T17:14:26.335Z"
   },
   {
    "duration": 17,
    "start_time": "2022-07-09T17:14:26.438Z"
   },
   {
    "duration": 103,
    "start_time": "2022-07-09T17:14:26.456Z"
   },
   {
    "duration": 28,
    "start_time": "2022-07-09T17:14:26.560Z"
   },
   {
    "duration": 10,
    "start_time": "2022-07-09T17:14:26.590Z"
   },
   {
    "duration": 35,
    "start_time": "2022-07-09T17:14:26.602Z"
   },
   {
    "duration": 25,
    "start_time": "2022-07-09T17:14:26.639Z"
   },
   {
    "duration": 9,
    "start_time": "2022-07-09T17:14:26.666Z"
   },
   {
    "duration": 9,
    "start_time": "2022-07-09T17:14:26.677Z"
   },
   {
    "duration": 7,
    "start_time": "2022-07-09T17:14:26.688Z"
   },
   {
    "duration": 7,
    "start_time": "2022-07-09T17:14:26.697Z"
   },
   {
    "duration": 27,
    "start_time": "2022-07-09T17:14:26.706Z"
   },
   {
    "duration": 15,
    "start_time": "2022-07-09T17:14:26.736Z"
   },
   {
    "duration": 26,
    "start_time": "2022-07-09T17:14:26.753Z"
   },
   {
    "duration": 21,
    "start_time": "2022-07-09T17:14:26.781Z"
   },
   {
    "duration": 3,
    "start_time": "2022-07-10T07:49:54.289Z"
   },
   {
    "duration": 39,
    "start_time": "2022-07-10T07:49:54.293Z"
   },
   {
    "duration": 13,
    "start_time": "2022-07-10T07:49:54.334Z"
   },
   {
    "duration": 6,
    "start_time": "2022-07-10T07:49:54.348Z"
   },
   {
    "duration": 15,
    "start_time": "2022-07-10T07:49:54.355Z"
   },
   {
    "duration": 3,
    "start_time": "2022-07-10T07:49:54.371Z"
   },
   {
    "duration": 16,
    "start_time": "2022-07-10T07:49:54.375Z"
   },
   {
    "duration": 15,
    "start_time": "2022-07-10T07:49:54.393Z"
   },
   {
    "duration": 13,
    "start_time": "2022-07-10T07:49:54.409Z"
   },
   {
    "duration": 24,
    "start_time": "2022-07-10T07:49:54.424Z"
   },
   {
    "duration": 18,
    "start_time": "2022-07-10T07:49:54.451Z"
   },
   {
    "duration": 9,
    "start_time": "2022-07-10T07:49:54.471Z"
   },
   {
    "duration": 17,
    "start_time": "2022-07-10T07:49:54.481Z"
   },
   {
    "duration": 9,
    "start_time": "2022-07-10T07:49:54.499Z"
   },
   {
    "duration": 6,
    "start_time": "2022-07-10T07:49:54.509Z"
   },
   {
    "duration": 25,
    "start_time": "2022-07-10T07:49:54.517Z"
   },
   {
    "duration": 9,
    "start_time": "2022-07-10T07:49:54.544Z"
   },
   {
    "duration": 4,
    "start_time": "2022-07-10T07:49:54.555Z"
   },
   {
    "duration": 11,
    "start_time": "2022-07-10T07:49:54.561Z"
   },
   {
    "duration": 29,
    "start_time": "2022-07-10T07:49:54.573Z"
   },
   {
    "duration": 11,
    "start_time": "2022-07-10T07:49:54.604Z"
   },
   {
    "duration": 10,
    "start_time": "2022-07-10T07:49:54.617Z"
   },
   {
    "duration": 150,
    "start_time": "2022-07-10T07:49:54.642Z"
   },
   {
    "duration": 114,
    "start_time": "2022-07-10T07:49:54.794Z"
   },
   {
    "duration": 5,
    "start_time": "2022-07-10T07:49:54.913Z"
   },
   {
    "duration": 28,
    "start_time": "2022-07-10T07:49:54.920Z"
   },
   {
    "duration": 9,
    "start_time": "2022-07-10T07:49:54.950Z"
   },
   {
    "duration": 211,
    "start_time": "2022-07-10T07:49:54.960Z"
   },
   {
    "duration": 195,
    "start_time": "2022-07-10T07:49:55.172Z"
   },
   {
    "duration": 5,
    "start_time": "2022-07-10T07:49:55.369Z"
   },
   {
    "duration": 280,
    "start_time": "2022-07-10T07:49:55.376Z"
   },
   {
    "duration": 5,
    "start_time": "2022-07-10T07:49:55.657Z"
   },
   {
    "duration": 25,
    "start_time": "2022-07-10T07:49:55.664Z"
   },
   {
    "duration": 195,
    "start_time": "2022-07-10T07:49:55.690Z"
   },
   {
    "duration": 7,
    "start_time": "2022-07-10T07:49:55.887Z"
   },
   {
    "duration": 275,
    "start_time": "2022-07-10T07:49:55.896Z"
   },
   {
    "duration": 12,
    "start_time": "2022-07-10T07:49:56.172Z"
   },
   {
    "duration": 149,
    "start_time": "2022-07-10T07:49:56.185Z"
   },
   {
    "duration": 10,
    "start_time": "2022-07-10T07:49:56.335Z"
   },
   {
    "duration": 167,
    "start_time": "2022-07-10T07:49:56.346Z"
   },
   {
    "duration": 5,
    "start_time": "2022-07-10T07:49:56.515Z"
   },
   {
    "duration": 8,
    "start_time": "2022-07-10T07:49:56.521Z"
   },
   {
    "duration": 86,
    "start_time": "2022-07-10T07:49:56.530Z"
   },
   {
    "duration": 22,
    "start_time": "2022-07-10T07:49:56.618Z"
   },
   {
    "duration": 101,
    "start_time": "2022-07-10T07:49:56.641Z"
   },
   {
    "duration": 33,
    "start_time": "2022-07-10T07:49:56.744Z"
   },
   {
    "duration": 11,
    "start_time": "2022-07-10T07:49:56.778Z"
   },
   {
    "duration": 6,
    "start_time": "2022-07-10T07:49:56.791Z"
   },
   {
    "duration": 53,
    "start_time": "2022-07-10T07:49:56.799Z"
   },
   {
    "duration": 12,
    "start_time": "2022-07-10T07:49:56.855Z"
   },
   {
    "duration": 10,
    "start_time": "2022-07-10T07:49:56.869Z"
   },
   {
    "duration": 11,
    "start_time": "2022-07-10T07:49:56.881Z"
   },
   {
    "duration": 24,
    "start_time": "2022-07-10T07:49:56.894Z"
   },
   {
    "duration": 21,
    "start_time": "2022-07-10T07:49:56.920Z"
   },
   {
    "duration": 31,
    "start_time": "2022-07-10T07:49:56.943Z"
   },
   {
    "duration": 44,
    "start_time": "2022-07-10T07:49:56.976Z"
   },
   {
    "duration": 14,
    "start_time": "2022-07-10T07:49:57.022Z"
   }
  ],
  "kernelspec": {
   "display_name": "Python 3 (ipykernel)",
   "language": "python",
   "name": "python3"
  },
  "language_info": {
   "codemirror_mode": {
    "name": "ipython",
    "version": 3
   },
   "file_extension": ".py",
   "mimetype": "text/x-python",
   "name": "python",
   "nbconvert_exporter": "python",
   "pygments_lexer": "ipython3",
   "version": "3.9.7"
  },
  "toc": {
   "base_numbering": 1,
   "nav_menu": {},
   "number_sections": true,
   "sideBar": true,
   "skip_h1_title": true,
   "title_cell": "Содержание",
   "title_sidebar": "Принятие решений в бизнесе на основе данных",
   "toc_cell": true,
   "toc_position": {
    "height": "calc(100% - 180px)",
    "left": "10px",
    "top": "150px",
    "width": "234.6px"
   },
   "toc_section_display": true,
   "toc_window_display": true
  }
 },
 "nbformat": 4,
 "nbformat_minor": 2
}
